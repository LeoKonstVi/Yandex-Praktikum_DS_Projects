{
 "cells": [
  {
   "cell_type": "markdown",
   "id": "697ffc16",
   "metadata": {},
   "source": [
    "# Выбор региона добычи нефти с наибольшей прибылью"
   ]
  },
  {
   "cell_type": "markdown",
   "id": "d69a5d66",
   "metadata": {},
   "source": [
    "В добывающей компании «ГлавРосГосНефть» нужно решить, где бурить новую скважину.\n",
    "Шаги для выбора локации обычно такие:<br />\n",
    "•\tВ избранном регионе собирают характеристики для скважин: качество нефти и объём её запасов;<br />\n",
    "•\tСтроят модель для предсказания объёма запасов в новых скважинах;<br />\n",
    "•\tВыбирают скважины с самыми высокими оценками значений;<br />\n",
    "•\tОпределяют регион с максимальной суммарной прибылью отобранных скважин.<br />\n",
    "Предоставлены пробы нефти в трёх регионах. Характеристики для каждой скважины в регионе уже известны. Требуется построить модель для определения региона, где добыча принесёт наибольшую прибыль. Необходимо проанализировать возможную прибыль и риски техникой Bootstrap."
   ]
  },
  {
   "cell_type": "markdown",
   "id": "dba8798e",
   "metadata": {
    "toc": true
   },
   "source": [
    "<h1>Table of Contents<span class=\"tocSkip\"></span></h1>\n",
    "<div class=\"toc\"><ul class=\"toc-item\"><li><span><a href=\"#Введение\" data-toc-modified-id=\"Введение-1\"><span class=\"toc-item-num\">1&nbsp;&nbsp;</span>Введение</a></span><ul class=\"toc-item\"><li><span><a href=\"#Описание-данных\" data-toc-modified-id=\"Описание-данных-1.1\"><span class=\"toc-item-num\">1.1&nbsp;&nbsp;</span>Описание данных</a></span></li><li><span><a href=\"#Условия-задачи\" data-toc-modified-id=\"Условия-задачи-1.2\"><span class=\"toc-item-num\">1.2&nbsp;&nbsp;</span>Условия задачи</a></span></li></ul></li><li><span><a href=\"#Считывание-данных-и-импорт-библиотек\" data-toc-modified-id=\"Считывание-данных-и-импорт-библиотек-2\"><span class=\"toc-item-num\">2&nbsp;&nbsp;</span>Считывание данных и импорт библиотек</a></span><ul class=\"toc-item\"><li><span><a href=\"#Импорт-библиотек\" data-toc-modified-id=\"Импорт-библиотек-2.1\"><span class=\"toc-item-num\">2.1&nbsp;&nbsp;</span>Импорт библиотек</a></span></li><li><span><a href=\"#Считывание-и-просмотр-данных\" data-toc-modified-id=\"Считывание-и-просмотр-данных-2.2\"><span class=\"toc-item-num\">2.2&nbsp;&nbsp;</span>Считывание и просмотр данных</a></span></li><li><span><a href=\"#Проверка-на-пустые-значения-и-дубликаты.\" data-toc-modified-id=\"Проверка-на-пустые-значения-и-дубликаты.-2.3\"><span class=\"toc-item-num\">2.3&nbsp;&nbsp;</span>Проверка на пустые значения и дубликаты.</a></span></li></ul></li><li><span><a href=\"#Обучение-моделей-для-каждого-региона-и-расчёт-RMSE-модели\" data-toc-modified-id=\"Обучение-моделей-для-каждого-региона-и-расчёт-RMSE-модели-3\"><span class=\"toc-item-num\">3&nbsp;&nbsp;</span>Обучение моделей для каждого региона и расчёт RMSE модели</a></span><ul class=\"toc-item\"><li><span><a href=\"#Функция-обучение-модели,-получение-предсказаний,-расчёт-среднего-запаса-сырья-и-RMSE\" data-toc-modified-id=\"Функция-обучение-модели,-получение-предсказаний,-расчёт-среднего-запаса-сырья-и-RMSE-3.1\"><span class=\"toc-item-num\">3.1&nbsp;&nbsp;</span>Функция обучение модели, получение предсказаний, расчёт среднего запаса сырья и RMSE</a></span></li><li><span><a href=\"#Регион-0\" data-toc-modified-id=\"Регион-0-3.2\"><span class=\"toc-item-num\">3.2&nbsp;&nbsp;</span>Регион 0</a></span></li><li><span><a href=\"#Регион-1\" data-toc-modified-id=\"Регион-1-3.3\"><span class=\"toc-item-num\">3.3&nbsp;&nbsp;</span>Регион 1</a></span></li><li><span><a href=\"#Регион-2\" data-toc-modified-id=\"Регион-2-3.4\"><span class=\"toc-item-num\">3.4&nbsp;&nbsp;</span>Регион 2</a></span></li><li><span><a href=\"#Сравнительная-таблица-средних-значений-и-RMSE-по-регионам\" data-toc-modified-id=\"Сравнительная-таблица-средних-значений-и-RMSE-по-регионам-3.5\"><span class=\"toc-item-num\">3.5&nbsp;&nbsp;</span>Сравнительная таблица средних значений и RMSE по регионам</a></span></li></ul></li><li><span><a href=\"#Подготовка-к-расчёту-прибыли\" data-toc-modified-id=\"Подготовка-к-расчёту-прибыли-4\"><span class=\"toc-item-num\">4&nbsp;&nbsp;</span>Подготовка к расчёту прибыли</a></span><ul class=\"toc-item\"><li><span><a href=\"#Ключевые-значения-для-расчётов\" data-toc-modified-id=\"Ключевые-значения-для-расчётов-4.1\"><span class=\"toc-item-num\">4.1&nbsp;&nbsp;</span>Ключевые значения для расчётов</a></span></li><li><span><a href=\"#Достаточный-объём-сырья-для-безубыточной-разработки-скважины\" data-toc-modified-id=\"Достаточный-объём-сырья-для-безубыточной-разработки-скважины-4.2\"><span class=\"toc-item-num\">4.2&nbsp;&nbsp;</span>Достаточный объём сырья для безубыточной разработки скважины</a></span></li><li><span><a href=\"#Вывод\" data-toc-modified-id=\"Вывод-4.3\"><span class=\"toc-item-num\">4.3&nbsp;&nbsp;</span>Вывод</a></span></li></ul></li><li><span><a href=\"#Расчёт-рисков-и-прибыли-для-каждого-региона-с-использованием-метода-bootstrap\" data-toc-modified-id=\"Расчёт-рисков-и-прибыли-для-каждого-региона-с-использованием-метода-bootstrap-5\"><span class=\"toc-item-num\">5&nbsp;&nbsp;</span>Расчёт рисков и прибыли для каждого региона с использованием метода bootstrap</a></span><ul class=\"toc-item\"><li><span><a href=\"#Функция-расчёта-прибыли\" data-toc-modified-id=\"Функция-расчёта-прибыли-5.1\"><span class=\"toc-item-num\">5.1&nbsp;&nbsp;</span>Функция расчёта прибыли</a></span></li><li><span><a href=\"#Функция-расчёта-распределения-прибыли-методом-bootstrap\" data-toc-modified-id=\"Функция-расчёта-распределения-прибыли-методом-bootstrap-5.2\"><span class=\"toc-item-num\">5.2&nbsp;&nbsp;</span>Функция расчёта распределения прибыли методом bootstrap</a></span></li></ul></li><li><span><a href=\"#Вывод\" data-toc-modified-id=\"Вывод-6\"><span class=\"toc-item-num\">6&nbsp;&nbsp;</span>Вывод</a></span></li></ul></div>"
   ]
  },
  {
   "cell_type": "markdown",
   "id": "08a0b670",
   "metadata": {},
   "source": [
    "## Введение"
   ]
  },
  {
   "cell_type": "markdown",
   "id": "7007eaa4",
   "metadata": {},
   "source": [
    "### Описание данных"
   ]
  },
  {
   "cell_type": "markdown",
   "id": "6d05181c",
   "metadata": {},
   "source": [
    "Данные геологоразведки трёх регионов находятся в файлах: geo_data_0.csv, geo_data_1.csv, geo_data_2.csv\n",
    "\n",
    "- id — уникальный идентификатор скважины;\n",
    "- f0, f1, f2 — три признака точек (неважно, что они означают, но сами признаки значимы);\n",
    "- product — объём запасов в скважине (тыс. баррелей)."
   ]
  },
  {
   "cell_type": "markdown",
   "id": "59c48b39",
   "metadata": {},
   "source": [
    "### Условия задачи"
   ]
  },
  {
   "cell_type": "markdown",
   "id": "389bb052",
   "metadata": {},
   "source": [
    "- Для обучения модели подходит только линейная регрессия (остальные — недостаточно предсказуемые).\n",
    "- При разведке региона исследуют 500 точек, из которых с помощью машинного обучения выбирают 200 лучших для разработки.\n",
    "- Бюджет на разработку скважин в регионе — 10 млрд рублей.\n",
    "- При нынешних ценах один баррель сырья приносит 450 рублей дохода. Доход с каждой единицы продукта составляет 450 тыс. рублей,  поскольку объём указан в тысячах баррелей.\n",
    "- После оценки рисков нужно оставить лишь те регионы, в которых вероятность убытков меньше 2.5%. Среди них выбирают регион с наибольшей средней прибылью. <br>\n",
    "\n",
    "\n",
    "Данные синтетические: детали контрактов и характеристики месторождений не разглашаются."
   ]
  },
  {
   "cell_type": "markdown",
   "id": "76abe885",
   "metadata": {},
   "source": [
    "## Считывание данных и импорт библиотек"
   ]
  },
  {
   "cell_type": "markdown",
   "id": "1696dfe4",
   "metadata": {},
   "source": [
    "### Импорт библиотек"
   ]
  },
  {
   "cell_type": "code",
   "execution_count": 1,
   "id": "63694641",
   "metadata": {},
   "outputs": [],
   "source": [
    "import pandas as pd\n",
    "import statistics as st\n",
    "from sklearn.linear_model import LinearRegression\n",
    "from sklearn.model_selection import train_test_split\n",
    "from sklearn.metrics import mean_squared_error\n",
    "import matplotlib.pyplot as plt\n",
    "import numpy as np"
   ]
  },
  {
   "cell_type": "markdown",
   "id": "8061184b",
   "metadata": {},
   "source": [
    "### Считывание и просмотр данных"
   ]
  },
  {
   "cell_type": "code",
   "execution_count": 2,
   "id": "d60b7929",
   "metadata": {},
   "outputs": [],
   "source": [
    "try:\n",
    "    data_0 = pd.read_csv('/datasets/geo_data_0.csv')\n",
    "    data_1 = pd.read_csv('/datasets/geo_data_1.csv')\n",
    "    data_2 = pd.read_csv('/datasets/geo_data_2.csv')\n",
    "except:\n",
    "    data_0 = pd.read_csv('datasets/geo_data_0.csv')\n",
    "    data_1 = pd.read_csv('datasets/geo_data_1.csv')\n",
    "    data_2 = pd.read_csv('datasets/geo_data_2.csv')"
   ]
  },
  {
   "cell_type": "code",
   "execution_count": 3,
   "id": "567f3b2d",
   "metadata": {
    "scrolled": true
   },
   "outputs": [
    {
     "name": "stdout",
     "output_type": "stream",
     "text": [
      "<class 'pandas.core.frame.DataFrame'>\n",
      "RangeIndex: 100000 entries, 0 to 99999\n",
      "Data columns (total 5 columns):\n",
      "id         100000 non-null object\n",
      "f0         100000 non-null float64\n",
      "f1         100000 non-null float64\n",
      "f2         100000 non-null float64\n",
      "product    100000 non-null float64\n",
      "dtypes: float64(4), object(1)\n",
      "memory usage: 3.8+ MB\n"
     ]
    }
   ],
   "source": [
    "data_0.info()"
   ]
  },
  {
   "cell_type": "code",
   "execution_count": 4,
   "id": "2fac086c",
   "metadata": {},
   "outputs": [
    {
     "data": {
      "text/html": [
       "<div>\n",
       "<style scoped>\n",
       "    .dataframe tbody tr th:only-of-type {\n",
       "        vertical-align: middle;\n",
       "    }\n",
       "\n",
       "    .dataframe tbody tr th {\n",
       "        vertical-align: top;\n",
       "    }\n",
       "\n",
       "    .dataframe thead th {\n",
       "        text-align: right;\n",
       "    }\n",
       "</style>\n",
       "<table border=\"1\" class=\"dataframe\">\n",
       "  <thead>\n",
       "    <tr style=\"text-align: right;\">\n",
       "      <th></th>\n",
       "      <th>id</th>\n",
       "      <th>f0</th>\n",
       "      <th>f1</th>\n",
       "      <th>f2</th>\n",
       "      <th>product</th>\n",
       "    </tr>\n",
       "  </thead>\n",
       "  <tbody>\n",
       "    <tr>\n",
       "      <td>0</td>\n",
       "      <td>txEyH</td>\n",
       "      <td>0.705745</td>\n",
       "      <td>-0.497823</td>\n",
       "      <td>1.221170</td>\n",
       "      <td>105.280062</td>\n",
       "    </tr>\n",
       "    <tr>\n",
       "      <td>1</td>\n",
       "      <td>2acmU</td>\n",
       "      <td>1.334711</td>\n",
       "      <td>-0.340164</td>\n",
       "      <td>4.365080</td>\n",
       "      <td>73.037750</td>\n",
       "    </tr>\n",
       "    <tr>\n",
       "      <td>2</td>\n",
       "      <td>409Wp</td>\n",
       "      <td>1.022732</td>\n",
       "      <td>0.151990</td>\n",
       "      <td>1.419926</td>\n",
       "      <td>85.265647</td>\n",
       "    </tr>\n",
       "    <tr>\n",
       "      <td>3</td>\n",
       "      <td>iJLyR</td>\n",
       "      <td>-0.032172</td>\n",
       "      <td>0.139033</td>\n",
       "      <td>2.978566</td>\n",
       "      <td>168.620776</td>\n",
       "    </tr>\n",
       "    <tr>\n",
       "      <td>4</td>\n",
       "      <td>Xdl7t</td>\n",
       "      <td>1.988431</td>\n",
       "      <td>0.155413</td>\n",
       "      <td>4.751769</td>\n",
       "      <td>154.036647</td>\n",
       "    </tr>\n",
       "  </tbody>\n",
       "</table>\n",
       "</div>"
      ],
      "text/plain": [
       "      id        f0        f1        f2     product\n",
       "0  txEyH  0.705745 -0.497823  1.221170  105.280062\n",
       "1  2acmU  1.334711 -0.340164  4.365080   73.037750\n",
       "2  409Wp  1.022732  0.151990  1.419926   85.265647\n",
       "3  iJLyR -0.032172  0.139033  2.978566  168.620776\n",
       "4  Xdl7t  1.988431  0.155413  4.751769  154.036647"
      ]
     },
     "execution_count": 4,
     "metadata": {},
     "output_type": "execute_result"
    }
   ],
   "source": [
    "data_0.head()"
   ]
  },
  {
   "cell_type": "code",
   "execution_count": 5,
   "id": "cf0d6f42",
   "metadata": {
    "scrolled": true
   },
   "outputs": [
    {
     "name": "stdout",
     "output_type": "stream",
     "text": [
      "<class 'pandas.core.frame.DataFrame'>\n",
      "RangeIndex: 100000 entries, 0 to 99999\n",
      "Data columns (total 5 columns):\n",
      "id         100000 non-null object\n",
      "f0         100000 non-null float64\n",
      "f1         100000 non-null float64\n",
      "f2         100000 non-null float64\n",
      "product    100000 non-null float64\n",
      "dtypes: float64(4), object(1)\n",
      "memory usage: 3.8+ MB\n"
     ]
    }
   ],
   "source": [
    "data_1.info()"
   ]
  },
  {
   "cell_type": "code",
   "execution_count": 6,
   "id": "2d6d9c38",
   "metadata": {},
   "outputs": [
    {
     "data": {
      "text/html": [
       "<div>\n",
       "<style scoped>\n",
       "    .dataframe tbody tr th:only-of-type {\n",
       "        vertical-align: middle;\n",
       "    }\n",
       "\n",
       "    .dataframe tbody tr th {\n",
       "        vertical-align: top;\n",
       "    }\n",
       "\n",
       "    .dataframe thead th {\n",
       "        text-align: right;\n",
       "    }\n",
       "</style>\n",
       "<table border=\"1\" class=\"dataframe\">\n",
       "  <thead>\n",
       "    <tr style=\"text-align: right;\">\n",
       "      <th></th>\n",
       "      <th>id</th>\n",
       "      <th>f0</th>\n",
       "      <th>f1</th>\n",
       "      <th>f2</th>\n",
       "      <th>product</th>\n",
       "    </tr>\n",
       "  </thead>\n",
       "  <tbody>\n",
       "    <tr>\n",
       "      <td>0</td>\n",
       "      <td>kBEdx</td>\n",
       "      <td>-15.001348</td>\n",
       "      <td>-8.276000</td>\n",
       "      <td>-0.005876</td>\n",
       "      <td>3.179103</td>\n",
       "    </tr>\n",
       "    <tr>\n",
       "      <td>1</td>\n",
       "      <td>62mP7</td>\n",
       "      <td>14.272088</td>\n",
       "      <td>-3.475083</td>\n",
       "      <td>0.999183</td>\n",
       "      <td>26.953261</td>\n",
       "    </tr>\n",
       "    <tr>\n",
       "      <td>2</td>\n",
       "      <td>vyE1P</td>\n",
       "      <td>6.263187</td>\n",
       "      <td>-5.948386</td>\n",
       "      <td>5.001160</td>\n",
       "      <td>134.766305</td>\n",
       "    </tr>\n",
       "    <tr>\n",
       "      <td>3</td>\n",
       "      <td>KcrkZ</td>\n",
       "      <td>-13.081196</td>\n",
       "      <td>-11.506057</td>\n",
       "      <td>4.999415</td>\n",
       "      <td>137.945408</td>\n",
       "    </tr>\n",
       "    <tr>\n",
       "      <td>4</td>\n",
       "      <td>AHL4O</td>\n",
       "      <td>12.702195</td>\n",
       "      <td>-8.147433</td>\n",
       "      <td>5.004363</td>\n",
       "      <td>134.766305</td>\n",
       "    </tr>\n",
       "  </tbody>\n",
       "</table>\n",
       "</div>"
      ],
      "text/plain": [
       "      id         f0         f1        f2     product\n",
       "0  kBEdx -15.001348  -8.276000 -0.005876    3.179103\n",
       "1  62mP7  14.272088  -3.475083  0.999183   26.953261\n",
       "2  vyE1P   6.263187  -5.948386  5.001160  134.766305\n",
       "3  KcrkZ -13.081196 -11.506057  4.999415  137.945408\n",
       "4  AHL4O  12.702195  -8.147433  5.004363  134.766305"
      ]
     },
     "execution_count": 6,
     "metadata": {},
     "output_type": "execute_result"
    }
   ],
   "source": [
    "data_1.head()"
   ]
  },
  {
   "cell_type": "code",
   "execution_count": 7,
   "id": "5712ca8a",
   "metadata": {
    "scrolled": false
   },
   "outputs": [
    {
     "name": "stdout",
     "output_type": "stream",
     "text": [
      "<class 'pandas.core.frame.DataFrame'>\n",
      "RangeIndex: 100000 entries, 0 to 99999\n",
      "Data columns (total 5 columns):\n",
      "id         100000 non-null object\n",
      "f0         100000 non-null float64\n",
      "f1         100000 non-null float64\n",
      "f2         100000 non-null float64\n",
      "product    100000 non-null float64\n",
      "dtypes: float64(4), object(1)\n",
      "memory usage: 3.8+ MB\n"
     ]
    }
   ],
   "source": [
    "data_2.info()"
   ]
  },
  {
   "cell_type": "code",
   "execution_count": 8,
   "id": "6c707180",
   "metadata": {
    "scrolled": true
   },
   "outputs": [
    {
     "data": {
      "text/html": [
       "<div>\n",
       "<style scoped>\n",
       "    .dataframe tbody tr th:only-of-type {\n",
       "        vertical-align: middle;\n",
       "    }\n",
       "\n",
       "    .dataframe tbody tr th {\n",
       "        vertical-align: top;\n",
       "    }\n",
       "\n",
       "    .dataframe thead th {\n",
       "        text-align: right;\n",
       "    }\n",
       "</style>\n",
       "<table border=\"1\" class=\"dataframe\">\n",
       "  <thead>\n",
       "    <tr style=\"text-align: right;\">\n",
       "      <th></th>\n",
       "      <th>id</th>\n",
       "      <th>f0</th>\n",
       "      <th>f1</th>\n",
       "      <th>f2</th>\n",
       "      <th>product</th>\n",
       "    </tr>\n",
       "  </thead>\n",
       "  <tbody>\n",
       "    <tr>\n",
       "      <td>0</td>\n",
       "      <td>fwXo0</td>\n",
       "      <td>-1.146987</td>\n",
       "      <td>0.963328</td>\n",
       "      <td>-0.828965</td>\n",
       "      <td>27.758673</td>\n",
       "    </tr>\n",
       "    <tr>\n",
       "      <td>1</td>\n",
       "      <td>WJtFt</td>\n",
       "      <td>0.262778</td>\n",
       "      <td>0.269839</td>\n",
       "      <td>-2.530187</td>\n",
       "      <td>56.069697</td>\n",
       "    </tr>\n",
       "    <tr>\n",
       "      <td>2</td>\n",
       "      <td>ovLUW</td>\n",
       "      <td>0.194587</td>\n",
       "      <td>0.289035</td>\n",
       "      <td>-5.586433</td>\n",
       "      <td>62.871910</td>\n",
       "    </tr>\n",
       "    <tr>\n",
       "      <td>3</td>\n",
       "      <td>q6cA6</td>\n",
       "      <td>2.236060</td>\n",
       "      <td>-0.553760</td>\n",
       "      <td>0.930038</td>\n",
       "      <td>114.572842</td>\n",
       "    </tr>\n",
       "    <tr>\n",
       "      <td>4</td>\n",
       "      <td>WPMUX</td>\n",
       "      <td>-0.515993</td>\n",
       "      <td>1.716266</td>\n",
       "      <td>5.899011</td>\n",
       "      <td>149.600746</td>\n",
       "    </tr>\n",
       "  </tbody>\n",
       "</table>\n",
       "</div>"
      ],
      "text/plain": [
       "      id        f0        f1        f2     product\n",
       "0  fwXo0 -1.146987  0.963328 -0.828965   27.758673\n",
       "1  WJtFt  0.262778  0.269839 -2.530187   56.069697\n",
       "2  ovLUW  0.194587  0.289035 -5.586433   62.871910\n",
       "3  q6cA6  2.236060 -0.553760  0.930038  114.572842\n",
       "4  WPMUX -0.515993  1.716266  5.899011  149.600746"
      ]
     },
     "execution_count": 8,
     "metadata": {},
     "output_type": "execute_result"
    }
   ],
   "source": [
    "data_2.head()"
   ]
  },
  {
   "cell_type": "markdown",
   "id": "3d2ba950",
   "metadata": {},
   "source": [
    "### Проверка на пустые значения и дубликаты."
   ]
  },
  {
   "cell_type": "code",
   "execution_count": 9,
   "id": "63099bcc",
   "metadata": {},
   "outputs": [
    {
     "data": {
      "text/plain": [
       "id         0\n",
       "f0         0\n",
       "f1         0\n",
       "f2         0\n",
       "product    0\n",
       "dtype: int64"
      ]
     },
     "execution_count": 9,
     "metadata": {},
     "output_type": "execute_result"
    }
   ],
   "source": [
    "data_0.isna().sum()"
   ]
  },
  {
   "cell_type": "code",
   "execution_count": 10,
   "id": "b3b73d7e",
   "metadata": {
    "scrolled": true
   },
   "outputs": [
    {
     "data": {
      "text/plain": [
       "0"
      ]
     },
     "execution_count": 10,
     "metadata": {},
     "output_type": "execute_result"
    }
   ],
   "source": [
    "data_0.duplicated().sum()"
   ]
  },
  {
   "cell_type": "markdown",
   "id": "9868a9f4",
   "metadata": {},
   "source": [
    "Пустых значений и явных дубликатов в данных региона 0 не обнаружено."
   ]
  },
  {
   "cell_type": "code",
   "execution_count": 11,
   "id": "dca46160",
   "metadata": {},
   "outputs": [
    {
     "data": {
      "text/plain": [
       "id         0\n",
       "f0         0\n",
       "f1         0\n",
       "f2         0\n",
       "product    0\n",
       "dtype: int64"
      ]
     },
     "execution_count": 11,
     "metadata": {},
     "output_type": "execute_result"
    }
   ],
   "source": [
    "data_1.isna().sum()"
   ]
  },
  {
   "cell_type": "code",
   "execution_count": 12,
   "id": "ec64bfe7",
   "metadata": {
    "scrolled": true
   },
   "outputs": [
    {
     "data": {
      "text/plain": [
       "0"
      ]
     },
     "execution_count": 12,
     "metadata": {},
     "output_type": "execute_result"
    }
   ],
   "source": [
    "data_1.duplicated().sum()"
   ]
  },
  {
   "cell_type": "markdown",
   "id": "cf57877f",
   "metadata": {},
   "source": [
    "Пустых значений и явных дубликатов в данных региона 1 не обнаружено."
   ]
  },
  {
   "cell_type": "code",
   "execution_count": 13,
   "id": "e84ad9db",
   "metadata": {},
   "outputs": [
    {
     "data": {
      "text/plain": [
       "id         0\n",
       "f0         0\n",
       "f1         0\n",
       "f2         0\n",
       "product    0\n",
       "dtype: int64"
      ]
     },
     "execution_count": 13,
     "metadata": {},
     "output_type": "execute_result"
    }
   ],
   "source": [
    "data_2.isna().sum()"
   ]
  },
  {
   "cell_type": "code",
   "execution_count": 14,
   "id": "e1351667",
   "metadata": {
    "scrolled": true
   },
   "outputs": [
    {
     "data": {
      "text/plain": [
       "0"
      ]
     },
     "execution_count": 14,
     "metadata": {},
     "output_type": "execute_result"
    }
   ],
   "source": [
    "data_2.duplicated().sum()"
   ]
  },
  {
   "cell_type": "markdown",
   "id": "2700caef",
   "metadata": {},
   "source": [
    "Пустых значений и явных дубликатов в данных региона 2 не обнаружено."
   ]
  },
  {
   "cell_type": "markdown",
   "id": "54068293",
   "metadata": {},
   "source": [
    "Проверка дубликатов в столбце id."
   ]
  },
  {
   "cell_type": "code",
   "execution_count": 15,
   "id": "ff764150",
   "metadata": {
    "scrolled": true
   },
   "outputs": [
    {
     "data": {
      "text/plain": [
       "10"
      ]
     },
     "execution_count": 15,
     "metadata": {},
     "output_type": "execute_result"
    }
   ],
   "source": [
    "data_0['id'].duplicated().sum()"
   ]
  },
  {
   "cell_type": "code",
   "execution_count": 16,
   "id": "6786f9fd",
   "metadata": {},
   "outputs": [
    {
     "data": {
      "text/plain": [
       "4"
      ]
     },
     "execution_count": 16,
     "metadata": {},
     "output_type": "execute_result"
    }
   ],
   "source": [
    "data_1['id'].duplicated().sum()"
   ]
  },
  {
   "cell_type": "code",
   "execution_count": 17,
   "id": "c750940b",
   "metadata": {
    "scrolled": true
   },
   "outputs": [
    {
     "data": {
      "text/plain": [
       "4"
      ]
     },
     "execution_count": 17,
     "metadata": {},
     "output_type": "execute_result"
    }
   ],
   "source": [
    "data_2['id'].duplicated().sum()"
   ]
  },
  {
   "cell_type": "markdown",
   "id": "4f94e262",
   "metadata": {},
   "source": [
    "Обнаружено 4, 10 дубликатов. Это составляет 0,0001 долю от всех значений. Это очень маленькое значение, которое не окажет какого-либо влияния на расчёты. Поэтому не будем удалять эти значения."
   ]
  },
  {
   "cell_type": "markdown",
   "id": "9167e3d3",
   "metadata": {},
   "source": [
    "## Обучение моделей для каждого региона и расчёт RMSE модели"
   ]
  },
  {
   "cell_type": "markdown",
   "id": "7f94cf3f",
   "metadata": {},
   "source": [
    "### Функция обучение модели, получение предсказаний, расчёт среднего запаса сырья и RMSE"
   ]
  },
  {
   "cell_type": "code",
   "execution_count": 18,
   "id": "ec9fd963",
   "metadata": {},
   "outputs": [],
   "source": [
    "# Значение для передачи в аргумент random_state\n",
    "state = 94837"
   ]
  },
  {
   "cell_type": "markdown",
   "id": "1e6b4a42",
   "metadata": {},
   "source": [
    "Так как обработка данных с помощью машинного обучения будет совпадать для всех 3-х регионов создадим для этого функцию. Функция будет принимать на вход данные скважин региона, разделять данные, обучать модель и выдавать рассчитанные данные: значения целевого показателя для валидационной выборки, предсказания для валидационной выборки, среднее значение предсказаний и значение RMSE."
   ]
  },
  {
   "cell_type": "code",
   "execution_count": 19,
   "id": "c64d60bc",
   "metadata": {},
   "outputs": [],
   "source": [
    "# Функция обучение модели, получение предсказаний, расчёт среднего запаса сырья и RMSE\n",
    "def lr_rmse (data):\n",
    "    features= data.drop(columns='product')\n",
    "    target = data['product']\n",
    "    features_train, features_valid, target_train, target_valid = train_test_split(\n",
    "        features, target, test_size=0.25, random_state=state)\n",
    "    model = LinearRegression()\n",
    "    model.fit(features_train, target_train)\n",
    "    prediction = model.predict(features_valid)\n",
    "    prediction_mean = st.mean(prediction)\n",
    "    prediction = pd.Series(prediction) # создание Series из предсказаний)\n",
    "    target_valid = target_valid.reset_index(drop=True) # сброс индексов target_valid, чтобы они совпадали с индексами prediction\n",
    "    rmse = (mean_squared_error(target_valid, prediction)) ** 0.5\n",
    "    return(target_valid, prediction, prediction_mean, rmse)"
   ]
  },
  {
   "cell_type": "markdown",
   "id": "01aaf2f9",
   "metadata": {},
   "source": [
    "### Регион 0"
   ]
  },
  {
   "cell_type": "code",
   "execution_count": 20,
   "id": "ceaf57aa",
   "metadata": {},
   "outputs": [],
   "source": [
    "data_0 = data_0.drop(columns='id')"
   ]
  },
  {
   "cell_type": "code",
   "execution_count": 21,
   "id": "d44425f1",
   "metadata": {
    "scrolled": false
   },
   "outputs": [
    {
     "name": "stdout",
     "output_type": "stream",
     "text": [
      "Среднее предсказанное значение добычи с 1 скважины в 0-ом регионе 92.57 тыс баррелей, среднеквадратичная ошибка 37.43 тыс баррелей\n"
     ]
    }
   ],
   "source": [
    "target_valid_0, prediction_0, prediction_mean_0, rmse_0 = lr_rmse(data_0)\n",
    "print('Среднее предсказанное значение добычи с 1 скважины в 0-ом регионе', round(prediction_mean_0, 2), 'тыс баррелей, среднеквадратичная ошибка', round(rmse_0, 2), 'тыс баррелей')"
   ]
  },
  {
   "cell_type": "markdown",
   "id": "1aa974c0",
   "metadata": {},
   "source": [
    "### Регион 1"
   ]
  },
  {
   "cell_type": "code",
   "execution_count": 22,
   "id": "6e7a124a",
   "metadata": {},
   "outputs": [],
   "source": [
    "data_1 = data_1.drop(columns='id')"
   ]
  },
  {
   "cell_type": "code",
   "execution_count": 23,
   "id": "c8ca9dbd",
   "metadata": {
    "scrolled": true
   },
   "outputs": [
    {
     "name": "stdout",
     "output_type": "stream",
     "text": [
      "Среднее предсказанное значение добычи с 1 скважины в 1-ом регионе 68.59 тыс баррелей, среднеквадратичная ошибка 0.89 тыс баррелей\n"
     ]
    }
   ],
   "source": [
    "target_valid_1, prediction_1, prediction_mean_1, rmse_1 = lr_rmse(data_1)\n",
    "print('Среднее предсказанное значение добычи с 1 скважины в 1-ом регионе', round(prediction_mean_1, 2), 'тыс баррелей, среднеквадратичная ошибка', round(rmse_1, 2), 'тыс баррелей')"
   ]
  },
  {
   "cell_type": "markdown",
   "id": "3b9e2139",
   "metadata": {},
   "source": [
    "### Регион 2"
   ]
  },
  {
   "cell_type": "code",
   "execution_count": 24,
   "id": "2d3a79a7",
   "metadata": {},
   "outputs": [],
   "source": [
    "data_2 = data_2.drop(columns='id')"
   ]
  },
  {
   "cell_type": "code",
   "execution_count": 25,
   "id": "e44c3e76",
   "metadata": {},
   "outputs": [
    {
     "name": "stdout",
     "output_type": "stream",
     "text": [
      "Среднее предсказанное значение добычи с 1 скважины во 2-ом регионе 94.93 тыс баррелей, среднеквадратичная ошибка 40.24 тыс баррелей\n"
     ]
    }
   ],
   "source": [
    "target_valid_2, prediction_2, prediction_mean_2, rmse_2 = lr_rmse(data_2)\n",
    "print('Среднее предсказанное значение добычи с 1 скважины во 2-ом регионе', round(prediction_mean_2, 2), 'тыс баррелей, среднеквадратичная ошибка', round(rmse_2, 2), 'тыс баррелей')"
   ]
  },
  {
   "cell_type": "markdown",
   "id": "c0f5924f",
   "metadata": {},
   "source": [
    "### Сравнительная таблица средних значений и RMSE по регионам"
   ]
  },
  {
   "cell_type": "code",
   "execution_count": 26,
   "id": "7a363f48",
   "metadata": {
    "scrolled": true
   },
   "outputs": [
    {
     "data": {
      "text/html": [
       "<div>\n",
       "<style scoped>\n",
       "    .dataframe tbody tr th:only-of-type {\n",
       "        vertical-align: middle;\n",
       "    }\n",
       "\n",
       "    .dataframe tbody tr th {\n",
       "        vertical-align: top;\n",
       "    }\n",
       "\n",
       "    .dataframe thead th {\n",
       "        text-align: right;\n",
       "    }\n",
       "</style>\n",
       "<table border=\"1\" class=\"dataframe\">\n",
       "  <thead>\n",
       "    <tr style=\"text-align: right;\">\n",
       "      <th></th>\n",
       "      <th>region</th>\n",
       "      <th>prediction_mean</th>\n",
       "      <th>rmse</th>\n",
       "    </tr>\n",
       "  </thead>\n",
       "  <tbody>\n",
       "    <tr>\n",
       "      <td>0</td>\n",
       "      <td>0</td>\n",
       "      <td>92.57</td>\n",
       "      <td>37.43</td>\n",
       "    </tr>\n",
       "    <tr>\n",
       "      <td>1</td>\n",
       "      <td>1</td>\n",
       "      <td>68.59</td>\n",
       "      <td>0.89</td>\n",
       "    </tr>\n",
       "    <tr>\n",
       "      <td>2</td>\n",
       "      <td>2</td>\n",
       "      <td>94.93</td>\n",
       "      <td>40.24</td>\n",
       "    </tr>\n",
       "  </tbody>\n",
       "</table>\n",
       "</div>"
      ],
      "text/plain": [
       "   region  prediction_mean   rmse\n",
       "0       0            92.57  37.43\n",
       "1       1            68.59   0.89\n",
       "2       2            94.93  40.24"
      ]
     },
     "metadata": {},
     "output_type": "display_data"
    }
   ],
   "source": [
    "table = {\n",
    "    'region': [0, 1,2],\n",
    "    'prediction_mean' : [prediction_mean_0, prediction_mean_1, prediction_mean_2],\n",
    "    'rmse' : [rmse_0, rmse_1, rmse_2]\n",
    "        }\n",
    "region_prediction = pd.DataFrame(table)\n",
    "region_prediction['prediction_mean'] = round(region_prediction['prediction_mean'], 2)\n",
    "region_prediction['rmse'] = round(region_prediction['rmse'], 2)\n",
    "display(region_prediction)"
   ]
  },
  {
   "cell_type": "markdown",
   "id": "2fbdfe21",
   "metadata": {},
   "source": [
    "Из полученной таблицы видно, что среднее значение предсказанного объёма на 1 скважину больше в регионе 0 и 2, по сравнению с регионом 1. В то же время, разброс значений в регионе 1 значительно ниже, чем в регионе 0 и 2. "
   ]
  },
  {
   "cell_type": "markdown",
   "id": "0c5ab743",
   "metadata": {},
   "source": [
    "## Подготовка к расчёту прибыли"
   ]
  },
  {
   "cell_type": "markdown",
   "id": "f8cbadfc",
   "metadata": {},
   "source": [
    "### Ключевые значения для расчётов"
   ]
  },
  {
   "cell_type": "code",
   "execution_count": 27,
   "id": "2340871c",
   "metadata": {},
   "outputs": [],
   "source": [
    "WELLS_EXPLORATION = 500 #количество разведочных скважин\n",
    "WELLS_DEVELOPMENT = 200 # количество скважин для разработки\n",
    "DEVELOPMENT_BUDGET = 10000000000 # бюджет на разработку скважин в регионе\n",
    "PRODUCT_REVENUE = 450000 # доход с каждой единицы продукта"
   ]
  },
  {
   "cell_type": "markdown",
   "id": "9b915c5a",
   "metadata": {},
   "source": [
    "### Достаточный объём сырья для безубыточной разработки скважины"
   ]
  },
  {
   "cell_type": "code",
   "execution_count": 28,
   "id": "6472110a",
   "metadata": {},
   "outputs": [
    {
     "name": "stdout",
     "output_type": "stream",
     "text": [
      "Более 111.11 тыс барелей необходимо добывать в среднем на одну скважину, чтобы добыча была прибыльной.\n"
     ]
    }
   ],
   "source": [
    "volume_break_even = DEVELOPMENT_BUDGET / (PRODUCT_REVENUE * WELLS_DEVELOPMENT)\n",
    "print('Более', round(volume_break_even, 2), 'тыс барелей необходимо добывать в среднем на одну скважину, чтобы добыча была прибыльной.')"
   ]
  },
  {
   "cell_type": "markdown",
   "id": "d04f37aa",
   "metadata": {},
   "source": [
    "### Вывод"
   ]
  },
  {
   "cell_type": "markdown",
   "id": "00e56886",
   "metadata": {},
   "source": [
    "Значение достаточного сырья на 1 скважину 111.11 тыс баррелей, больше средних запасов предсказанного сырья на 1 скважину для всех регионов."
   ]
  },
  {
   "cell_type": "markdown",
   "id": "782fbbb4",
   "metadata": {},
   "source": [
    "## Расчёт рисков и прибыли для каждого региона с использованием метода bootstrap"
   ]
  },
  {
   "cell_type": "markdown",
   "id": "8f05f832",
   "metadata": {},
   "source": [
    "### Функция расчёта прибыли"
   ]
  },
  {
   "cell_type": "code",
   "execution_count": 29,
   "id": "fb384a34",
   "metadata": {},
   "outputs": [],
   "source": [
    "def profit (target_valid, prediction):\n",
    "    prediction_200 = prediction.sort_values(ascending=False)[:WELLS_DEVELOPMENT] # отбор 200 скважин с самыми большими запасами\n",
    "    profit = sum(target_valid[prediction_200.index]) *  PRODUCT_REVENUE - DEVELOPMENT_BUDGET\n",
    "    return(profit)"
   ]
  },
  {
   "cell_type": "markdown",
   "id": "4e87abfa",
   "metadata": {},
   "source": [
    "### Функция расчёта распределения прибыли методом bootstrap"
   ]
  },
  {
   "cell_type": "markdown",
   "id": "598bc183",
   "metadata": {},
   "source": [
    "Так как расчёт распределения прибыли будет проводится для всех регионов сделаем для этого функцию. На вход функция будет получать целевые и предсказаные значения валидационной выборки. В теле функции будет произвдён расчёт значений прибыли для разных подбвыборок полученных методом bootstrap с возвращающимися значениями. На выходе функции будут среднее значение прибыли, нижнее и верхнее значение 95% квантиля и вероятность убытков (отношение количества уботочных (отрицательных) значений прибыли к общему количеству выборок)"
   ]
  },
  {
   "cell_type": "code",
   "execution_count": 30,
   "id": "17812ee3",
   "metadata": {},
   "outputs": [],
   "source": [
    "number_bootstrap = 1000 # количество быборок для bootstrap\n",
    "state_b = np.random.RandomState(57865)\n",
    "def bootstrap (target_valid, prediction):\n",
    "    profit_data = []\n",
    "    for i in range(number_bootstrap):\n",
    "        prediction_subsample = prediction.sample(frac=WELLS_EXPLORATION / len(prediction), replace=True, random_state=state_b)\n",
    "        profit_data.append(profit(target_valid, prediction_subsample))\n",
    "    profit_mean = np.mean(profit_data)\n",
    "    profit_data = pd.Series(profit_data)\n",
    "    profit_lower = profit_data.quantile(0.025)\n",
    "    profit_upper = profit_data.quantile(0.975)\n",
    "    losses = profit_data[profit_data < 0].count() / number_bootstrap\n",
    "    return([profit_mean, profit_lower, profit_upper, losses])"
   ]
  },
  {
   "cell_type": "code",
   "execution_count": 31,
   "id": "f762db2b",
   "metadata": {},
   "outputs": [
    {
     "name": "stdout",
     "output_type": "stream",
     "text": [
      "[420399445.66394556, -75225279.25756153, 924777302.5141213, 0.041]\n"
     ]
    }
   ],
   "source": [
    "region_0 = bootstrap(target_valid_0, prediction_0)\n",
    "print(region_0)"
   ]
  },
  {
   "cell_type": "code",
   "execution_count": 32,
   "id": "ce415c47",
   "metadata": {},
   "outputs": [
    {
     "name": "stdout",
     "output_type": "stream",
     "text": [
      "[401153939.6315656, 20302930.659739595, 800895286.7302871, 0.021]\n"
     ]
    }
   ],
   "source": [
    "region_1 = bootstrap(target_valid_1, prediction_1)\n",
    "print(region_1)"
   ]
  },
  {
   "cell_type": "code",
   "execution_count": 33,
   "id": "b53e7bb3",
   "metadata": {},
   "outputs": [
    {
     "name": "stdout",
     "output_type": "stream",
     "text": [
      "[348442344.43127066, -132508549.476716, 844773614.6541469, 0.089]\n"
     ]
    }
   ],
   "source": [
    "region_2 = bootstrap(target_valid_2, prediction_2)\n",
    "print(region_2)"
   ]
  },
  {
   "cell_type": "code",
   "execution_count": 34,
   "id": "f120e10b",
   "metadata": {
    "scrolled": true
   },
   "outputs": [
    {
     "data": {
      "text/html": [
       "<div>\n",
       "<style scoped>\n",
       "    .dataframe tbody tr th:only-of-type {\n",
       "        vertical-align: middle;\n",
       "    }\n",
       "\n",
       "    .dataframe tbody tr th {\n",
       "        vertical-align: top;\n",
       "    }\n",
       "\n",
       "    .dataframe thead th {\n",
       "        text-align: right;\n",
       "    }\n",
       "</style>\n",
       "<table border=\"1\" class=\"dataframe\">\n",
       "  <thead>\n",
       "    <tr style=\"text-align: right;\">\n",
       "      <th></th>\n",
       "      <th>region</th>\n",
       "      <th>profit_mean_milliard</th>\n",
       "      <th>profit_2.5%</th>\n",
       "      <th>profit_97.5%</th>\n",
       "      <th>losses_%</th>\n",
       "    </tr>\n",
       "  </thead>\n",
       "  <tbody>\n",
       "    <tr>\n",
       "      <td>0</td>\n",
       "      <td>0</td>\n",
       "      <td>0.42</td>\n",
       "      <td>-0.08</td>\n",
       "      <td>0.92</td>\n",
       "      <td>4.1</td>\n",
       "    </tr>\n",
       "    <tr>\n",
       "      <td>1</td>\n",
       "      <td>1</td>\n",
       "      <td>0.40</td>\n",
       "      <td>0.02</td>\n",
       "      <td>0.80</td>\n",
       "      <td>2.1</td>\n",
       "    </tr>\n",
       "    <tr>\n",
       "      <td>2</td>\n",
       "      <td>2</td>\n",
       "      <td>0.35</td>\n",
       "      <td>-0.13</td>\n",
       "      <td>0.84</td>\n",
       "      <td>8.9</td>\n",
       "    </tr>\n",
       "  </tbody>\n",
       "</table>\n",
       "</div>"
      ],
      "text/plain": [
       "   region  profit_mean_milliard  profit_2.5%  profit_97.5%  losses_%\n",
       "0       0                  0.42        -0.08          0.92       4.1\n",
       "1       1                  0.40         0.02          0.80       2.1\n",
       "2       2                  0.35        -0.13          0.84       8.9"
      ]
     },
     "metadata": {},
     "output_type": "display_data"
    }
   ],
   "source": [
    "table_total = pd.DataFrame(columns=['profit_mean_milliard', 'profit_2.5%', 'profit_97.5%', 'losses_%'])\n",
    "table_total.loc[0] = region_0\n",
    "table_total.loc[1] = region_1\n",
    "table_total.loc[2] = region_2\n",
    "table_total.insert(0, 'region', [0, 1, 2])\n",
    "table_total['profit_mean_milliard'] = round(table_total['profit_mean_milliard']/1000000000, 2)\n",
    "table_total['profit_2.5%'] = round(table_total['profit_2.5%']/1000000000, 2)\n",
    "table_total['profit_97.5%'] = round(table_total['profit_97.5%']/1000000000, 2)\n",
    "table_total['losses_%'] = round(table_total['losses_%']*100, 1)\n",
    "display(table_total)"
   ]
  },
  {
   "cell_type": "markdown",
   "id": "a666ecbd",
   "metadata": {},
   "source": [
    "## Вывод"
   ]
  },
  {
   "cell_type": "markdown",
   "id": "ecf87561",
   "metadata": {},
   "source": [
    "Из полученной таблицы видно, что в среднем во всех регионах добыча принесёт прибыль, есть только разница в рисках получения убытков. Самый маленький риск получения убытков 2,1% в регионе 2. Таким образом для добычи рекомендуется 2-ой регион."
   ]
  }
 ],
 "metadata": {
  "kernelspec": {
   "display_name": "Python 3 (ipykernel)",
   "language": "python",
   "name": "python3"
  },
  "language_info": {
   "codemirror_mode": {
    "name": "ipython",
    "version": 3
   },
   "file_extension": ".py",
   "mimetype": "text/x-python",
   "name": "python",
   "nbconvert_exporter": "python",
   "pygments_lexer": "ipython3",
   "version": "3.7.8"
  },
  "toc": {
   "base_numbering": 1,
   "nav_menu": {},
   "number_sections": true,
   "sideBar": true,
   "skip_h1_title": true,
   "title_cell": "Table of Contents",
   "title_sidebar": "Contents",
   "toc_cell": true,
   "toc_position": {
    "height": "calc(100% - 180px)",
    "left": "10px",
    "top": "150px",
    "width": "201px"
   },
   "toc_section_display": true,
   "toc_window_display": true
  }
 },
 "nbformat": 4,
 "nbformat_minor": 5
}
