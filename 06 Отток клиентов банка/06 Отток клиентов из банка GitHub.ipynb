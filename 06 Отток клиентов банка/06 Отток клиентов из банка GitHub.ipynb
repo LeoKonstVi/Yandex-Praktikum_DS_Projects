{
 "cells": [
  {
   "cell_type": "markdown",
   "metadata": {},
   "source": [
    "# Отток клиентов из банка"
   ]
  },
  {
   "cell_type": "markdown",
   "metadata": {},
   "source": [
    "Из «Бета-Банка» стали уходить клиенты. Каждый месяц. Немного, но заметно. Банковские маркетологи посчитали: сохранять текущих клиентов дешевле, чем привлекать новых.\n",
    "\n",
    "Нужно спрогнозировать, уйдёт клиент из банка в ближайшее время или нет. Имеются исторические данные о поведении клиентов и расторжении договоров с банком. \n",
    "\n",
    "Источник данных: (https://www.kaggle.com/barelydedicated/bank-customer-churn-modeling)"
   ]
  },
  {
   "cell_type": "markdown",
   "metadata": {
    "toc": true
   },
   "source": [
    "<h1>Содержание<span class=\"tocSkip\"></span></h1>\n",
    "<div class=\"toc\"><ul class=\"toc-item\"><li><span><a href=\"#Введение\" data-toc-modified-id=\"Введение-1\"><span class=\"toc-item-num\">1&nbsp;&nbsp;</span>Введение</a></span><ul class=\"toc-item\"><li><span><a href=\"#Описание-данных\" data-toc-modified-id=\"Описание-данных-1.1\"><span class=\"toc-item-num\">1.1&nbsp;&nbsp;</span>Описание данных</a></span></li><li><span><a href=\"#Инструкция-по-выполнению-проекта\" data-toc-modified-id=\"Инструкция-по-выполнению-проекта-1.2\"><span class=\"toc-item-num\">1.2&nbsp;&nbsp;</span>Инструкция по выполнению проекта</a></span></li></ul></li><li><span><a href=\"#Подготовка-данных\" data-toc-modified-id=\"Подготовка-данных-2\"><span class=\"toc-item-num\">2&nbsp;&nbsp;</span>Подготовка данных</a></span><ul class=\"toc-item\"><li><span><a href=\"#Импорт-библиотек\" data-toc-modified-id=\"Импорт-библиотек-2.1\"><span class=\"toc-item-num\">2.1&nbsp;&nbsp;</span>Импорт библиотек</a></span></li><li><span><a href=\"#Считывание-данных\" data-toc-modified-id=\"Считывание-данных-2.2\"><span class=\"toc-item-num\">2.2&nbsp;&nbsp;</span>Считывание данных</a></span></li><li><span><a href=\"#Просмотр-пропущенных-значений.\" data-toc-modified-id=\"Просмотр-пропущенных-значений.-2.3\"><span class=\"toc-item-num\">2.3&nbsp;&nbsp;</span>Просмотр пропущенных значений.</a></span></li><li><span><a href=\"#Проверка-на-дубликаты.\" data-toc-modified-id=\"Проверка-на-дубликаты.-2.4\"><span class=\"toc-item-num\">2.4&nbsp;&nbsp;</span>Проверка на дубликаты.</a></span></li><li><span><a href=\"#Предпросмотр-данных-по-столбцам\" data-toc-modified-id=\"Предпросмотр-данных-по-столбцам-2.5\"><span class=\"toc-item-num\">2.5&nbsp;&nbsp;</span>Предпросмотр данных по столбцам</a></span><ul class=\"toc-item\"><li><span><a href=\"#credit_score\" data-toc-modified-id=\"credit_score-2.5.1\"><span class=\"toc-item-num\">2.5.1&nbsp;&nbsp;</span>credit_score</a></span></li><li><span><a href=\"#geography\" data-toc-modified-id=\"geography-2.5.2\"><span class=\"toc-item-num\">2.5.2&nbsp;&nbsp;</span>geography</a></span></li><li><span><a href=\"#gender\" data-toc-modified-id=\"gender-2.5.3\"><span class=\"toc-item-num\">2.5.3&nbsp;&nbsp;</span>gender</a></span></li><li><span><a href=\"#age\" data-toc-modified-id=\"age-2.5.4\"><span class=\"toc-item-num\">2.5.4&nbsp;&nbsp;</span>age</a></span></li><li><span><a href=\"#tenure\" data-toc-modified-id=\"tenure-2.5.5\"><span class=\"toc-item-num\">2.5.5&nbsp;&nbsp;</span>tenure</a></span></li><li><span><a href=\"#balance\" data-toc-modified-id=\"balance-2.5.6\"><span class=\"toc-item-num\">2.5.6&nbsp;&nbsp;</span>balance</a></span></li><li><span><a href=\"#num_of_products\" data-toc-modified-id=\"num_of_products-2.5.7\"><span class=\"toc-item-num\">2.5.7&nbsp;&nbsp;</span>num_of_products</a></span></li><li><span><a href=\"#has_cr_card\" data-toc-modified-id=\"has_cr_card-2.5.8\"><span class=\"toc-item-num\">2.5.8&nbsp;&nbsp;</span>has_cr_card</a></span></li><li><span><a href=\"#is_active_member\" data-toc-modified-id=\"is_active_member-2.5.9\"><span class=\"toc-item-num\">2.5.9&nbsp;&nbsp;</span>is_active_member</a></span></li><li><span><a href=\"#estimated_salary\" data-toc-modified-id=\"estimated_salary-2.5.10\"><span class=\"toc-item-num\">2.5.10&nbsp;&nbsp;</span>estimated_salary</a></span></li><li><span><a href=\"#exited\" data-toc-modified-id=\"exited-2.5.11\"><span class=\"toc-item-num\">2.5.11&nbsp;&nbsp;</span>exited</a></span></li></ul></li><li><span><a href=\"#Подготовка-данных-для-машинного-обучения\" data-toc-modified-id=\"Подготовка-данных-для-машинного-обучения-2.6\"><span class=\"toc-item-num\">2.6&nbsp;&nbsp;</span>Подготовка данных для машинного обучения</a></span><ul class=\"toc-item\"><li><span><a href=\"#Прямое-кодирование-(ohe)-категориальных-признаков\" data-toc-modified-id=\"Прямое-кодирование-(ohe)-категориальных-признаков-2.6.1\"><span class=\"toc-item-num\">2.6.1&nbsp;&nbsp;</span>Прямое кодирование (ohe) категориальных признаков</a></span></li><li><span><a href=\"#Создание-3-х-выборок-train,-valid-и-test\" data-toc-modified-id=\"Создание-3-х-выборок-train,-valid-и-test-2.6.2\"><span class=\"toc-item-num\">2.6.2&nbsp;&nbsp;</span>Создание 3-х выборок train, valid и test</a></span></li><li><span><a href=\"#Масштабирование-численных-признаков\" data-toc-modified-id=\"Масштабирование-численных-признаков-2.6.3\"><span class=\"toc-item-num\">2.6.3&nbsp;&nbsp;</span>Масштабирование численных признаков</a></span></li></ul></li></ul></li><li><span><a href=\"#Машинное-обучение\" data-toc-modified-id=\"Машинное-обучение-3\"><span class=\"toc-item-num\">3&nbsp;&nbsp;</span>Машинное обучение</a></span><ul class=\"toc-item\"><li><span><a href=\"#Дисбаланс-классов\" data-toc-modified-id=\"Дисбаланс-классов-3.1\"><span class=\"toc-item-num\">3.1&nbsp;&nbsp;</span>Дисбаланс классов</a></span></li><li><span><a href=\"#Без-учёта-дисбаланса\" data-toc-modified-id=\"Без-учёта-дисбаланса-3.2\"><span class=\"toc-item-num\">3.2&nbsp;&nbsp;</span>Без учёта дисбаланса</a></span><ul class=\"toc-item\"><li><span><a href=\"#DTC-модель-решающего-дерева-и-её-оптимизация\" data-toc-modified-id=\"DTC-модель-решающего-дерева-и-её-оптимизация-3.2.1\"><span class=\"toc-item-num\">3.2.1&nbsp;&nbsp;</span>DTC модель решающего дерева и её оптимизация</a></span></li><li><span><a href=\"#RFC-модель-случайного-леса-и-ее-оптимизация\" data-toc-modified-id=\"RFC-модель-случайного-леса-и-ее-оптимизация-3.2.2\"><span class=\"toc-item-num\">3.2.2&nbsp;&nbsp;</span>RFC модель случайного леса и ее оптимизация</a></span></li><li><span><a href=\"#LR-модель-логистической-регрессии\" data-toc-modified-id=\"LR-модель-логистической-регрессии-3.2.3\"><span class=\"toc-item-num\">3.2.3&nbsp;&nbsp;</span>LR модель логистической регрессии</a></span></li><li><span><a href=\"#Сравнительная-таблица-точности-различных-моделей\" data-toc-modified-id=\"Сравнительная-таблица-точности-различных-моделей-3.2.4\"><span class=\"toc-item-num\">3.2.4&nbsp;&nbsp;</span>Сравнительная таблица точности различных моделей</a></span></li></ul></li><li><span><a href=\"#Учёт-дисбаланса-классов-используя-параметр-модели-class_weight\" data-toc-modified-id=\"Учёт-дисбаланса-классов-используя-параметр-модели-class_weight-3.3\"><span class=\"toc-item-num\">3.3&nbsp;&nbsp;</span>Учёт дисбаланса классов используя параметр модели class_weight</a></span><ul class=\"toc-item\"><li><span><a href=\"#DTC-модель-решающего-дерева-и-её-оптимизация\" data-toc-modified-id=\"DTC-модель-решающего-дерева-и-её-оптимизация-3.3.1\"><span class=\"toc-item-num\">3.3.1&nbsp;&nbsp;</span>DTC модель решающего дерева и её оптимизация</a></span></li><li><span><a href=\"#RFC-модель-случайного-леса-и-ее-оптимизация\" data-toc-modified-id=\"RFC-модель-случайного-леса-и-ее-оптимизация-3.3.2\"><span class=\"toc-item-num\">3.3.2&nbsp;&nbsp;</span>RFC модель случайного леса и ее оптимизация</a></span></li><li><span><a href=\"#LR-модель-логистической-регрессии\" data-toc-modified-id=\"LR-модель-логистической-регрессии-3.3.3\"><span class=\"toc-item-num\">3.3.3&nbsp;&nbsp;</span>LR модель логистической регрессии</a></span></li><li><span><a href=\"#Сравнительная-таблица-точности-различных-моделей\" data-toc-modified-id=\"Сравнительная-таблица-точности-различных-моделей-3.3.4\"><span class=\"toc-item-num\">3.3.4&nbsp;&nbsp;</span>Сравнительная таблица точности различных моделей</a></span></li></ul></li><li><span><a href=\"#Сравнение-моделей-без-учета-дисбаланса-и-моделей-с-учётом-дисбаланса-class_weight\" data-toc-modified-id=\"Сравнение-моделей-без-учета-дисбаланса-и-моделей-с-учётом-дисбаланса-class_weight-3.4\"><span class=\"toc-item-num\">3.4&nbsp;&nbsp;</span>Сравнение моделей без учета дисбаланса и моделей с учётом дисбаланса class_weight</a></span></li><li><span><a href=\"#Учёт-дисбаланса-классов-методом-downsampling\" data-toc-modified-id=\"Учёт-дисбаланса-классов-методом-downsampling-3.5\"><span class=\"toc-item-num\">3.5&nbsp;&nbsp;</span>Учёт дисбаланса классов методом downsampling</a></span><ul class=\"toc-item\"><li><span><a href=\"#Подготовка-данных-для-процедуры-downsampling\" data-toc-modified-id=\"Подготовка-данных-для-процедуры-downsampling-3.5.1\"><span class=\"toc-item-num\">3.5.1&nbsp;&nbsp;</span>Подготовка данных для процедуры downsampling</a></span></li><li><span><a href=\"#DTC-модель-решающего-дерева-и-её-оптимизация\" data-toc-modified-id=\"DTC-модель-решающего-дерева-и-её-оптимизация-3.5.2\"><span class=\"toc-item-num\">3.5.2&nbsp;&nbsp;</span>DTC модель решающего дерева и её оптимизация</a></span></li><li><span><a href=\"#RFC-модель-случайного-леса-и-ее-оптимизация\" data-toc-modified-id=\"RFC-модель-случайного-леса-и-ее-оптимизация-3.5.3\"><span class=\"toc-item-num\">3.5.3&nbsp;&nbsp;</span>RFC модель случайного леса и ее оптимизация</a></span></li><li><span><a href=\"#LR-модель-логистической-регрессии\" data-toc-modified-id=\"LR-модель-логистической-регрессии-3.5.4\"><span class=\"toc-item-num\">3.5.4&nbsp;&nbsp;</span>LR модель логистической регрессии</a></span></li><li><span><a href=\"#Сравнительная-таблица-точности-различных-моделей\" data-toc-modified-id=\"Сравнительная-таблица-точности-различных-моделей-3.5.5\"><span class=\"toc-item-num\">3.5.5&nbsp;&nbsp;</span>Сравнительная таблица точности различных моделей</a></span></li></ul></li><li><span><a href=\"#Сравнение-моделей-без-учета-дисбаланса-и-моделей-с-учётом-дисбаланса\" data-toc-modified-id=\"Сравнение-моделей-без-учета-дисбаланса-и-моделей-с-учётом-дисбаланса-3.6\"><span class=\"toc-item-num\">3.6&nbsp;&nbsp;</span>Сравнение моделей без учета дисбаланса и моделей с учётом дисбаланса</a></span></li><li><span><a href=\"#Учёт-дисбаланса-методом-upsampling\" data-toc-modified-id=\"Учёт-дисбаланса-методом-upsampling-3.7\"><span class=\"toc-item-num\">3.7&nbsp;&nbsp;</span>Учёт дисбаланса методом upsampling</a></span><ul class=\"toc-item\"><li><span><a href=\"#Подготовка-данных-upsampling\" data-toc-modified-id=\"Подготовка-данных-upsampling-3.7.1\"><span class=\"toc-item-num\">3.7.1&nbsp;&nbsp;</span>Подготовка данных upsampling</a></span></li><li><span><a href=\"#DTC-модель-решающего-дерева-и-её-оптимизация\" data-toc-modified-id=\"DTC-модель-решающего-дерева-и-её-оптимизация-3.7.2\"><span class=\"toc-item-num\">3.7.2&nbsp;&nbsp;</span>DTC модель решающего дерева и её оптимизация</a></span></li><li><span><a href=\"#RFC-модель-случайного-леса-и-ее-оптимизация\" data-toc-modified-id=\"RFC-модель-случайного-леса-и-ее-оптимизация-3.7.3\"><span class=\"toc-item-num\">3.7.3&nbsp;&nbsp;</span>RFC модель случайного леса и ее оптимизация</a></span></li><li><span><a href=\"#LR-модель-логистической-регрессии\" data-toc-modified-id=\"LR-модель-логистической-регрессии-3.7.4\"><span class=\"toc-item-num\">3.7.4&nbsp;&nbsp;</span>LR модель логистической регрессии</a></span></li><li><span><a href=\"#Сравнительная-таблица-точности-различных-моделей\" data-toc-modified-id=\"Сравнительная-таблица-точности-различных-моделей-3.7.5\"><span class=\"toc-item-num\">3.7.5&nbsp;&nbsp;</span>Сравнительная таблица точности различных моделей</a></span></li></ul></li><li><span><a href=\"#Сравнительная-таблица-всех-моделей\" data-toc-modified-id=\"Сравнительная-таблица-всех-моделей-3.8\"><span class=\"toc-item-num\">3.8&nbsp;&nbsp;</span>Сравнительная таблица всех моделей</a></span></li></ul></li><li><span><a href=\"#Тестирование-лучшей-модели\" data-toc-modified-id=\"Тестирование-лучшей-модели-4\"><span class=\"toc-item-num\">4&nbsp;&nbsp;</span>Тестирование лучшей модели</a></span></li><li><span><a href=\"#Выводы\" data-toc-modified-id=\"Выводы-5\"><span class=\"toc-item-num\">5&nbsp;&nbsp;</span>Выводы</a></span></li></ul></div>"
   ]
  },
  {
   "cell_type": "markdown",
   "metadata": {},
   "source": [
    "## Введение"
   ]
  },
  {
   "cell_type": "markdown",
   "metadata": {},
   "source": [
    "### Описание данных"
   ]
  },
  {
   "cell_type": "markdown",
   "metadata": {},
   "source": [
    "**Признаки:**\n",
    "- RowNumber — индекс строки в данных\n",
    "- CustomerId — уникальный идентификатор клиента\n",
    "- Surname — фамилия\n",
    "- CreditScore — кредитный рейтинг\n",
    "- Geography — страна проживания\n",
    "- Gender — пол\n",
    "- Age — возраст\n",
    "- Tenure — сколько лет человек является клиентом банка\n",
    "- Balance — баланс на счёте\n",
    "- NumOfProducts — количество продуктов банка, используемых клиентом\n",
    "- HasCrCard — наличие кредитной карты\n",
    "- IsActiveMember — активность клиента\n",
    "- EstimatedSalary — предполагаемая зарплата\n",
    "\n",
    "**Целевой признак:**\n",
    "- Exited — факт ухода клиента"
   ]
  },
  {
   "cell_type": "markdown",
   "metadata": {},
   "source": [
    "### Инструкция по выполнению проекта"
   ]
  },
  {
   "cell_type": "markdown",
   "metadata": {},
   "source": [
    "Постройте модель с предельно большим значением F1-меры. Чтобы сдать проект успешно, нужно довести метрику до 0.59. Проверьте F1-меру на тестовой выборке самостоятельно.\n",
    "Дополнительно измеряйте AUC-ROC, сравнивайте её значение с F1-мерой.\n",
    "\n",
    "- Загрузите и подготовьте данные. Поясните порядок действий.\n",
    "- Исследуйте баланс классов, обучите модель без учёта дисбаланса. Кратко опишите выводы.\n",
    "- Улучшите качество модели, учитывая дисбаланс классов. Обучите разные модели и найдите лучшую. Кратко опишите выводы.\n",
    "- Проведите финальное тестирование."
   ]
  },
  {
   "cell_type": "markdown",
   "metadata": {},
   "source": [
    "## Подготовка данных"
   ]
  },
  {
   "cell_type": "markdown",
   "metadata": {},
   "source": [
    "### Импорт библиотек"
   ]
  },
  {
   "cell_type": "code",
   "execution_count": 1,
   "metadata": {},
   "outputs": [],
   "source": [
    "import pandas as pd\n",
    "import matplotlib.pyplot as plt\n",
    "\n",
    "from sklearn.model_selection import train_test_split\n",
    "from sklearn.preprocessing import StandardScaler\n",
    "from sklearn.tree import DecisionTreeClassifier\n",
    "from sklearn.ensemble import RandomForestClassifier\n",
    "from sklearn.linear_model import LogisticRegression\n",
    "from sklearn.metrics import f1_score\n",
    "from sklearn.utils import shuffle\n",
    "from sklearn.metrics import roc_auc_score\n",
    "\n",
    "pd.options.mode.chained_assignment = None\n",
    "\n",
    "# Отключение предупреждений\n",
    "import warnings\n",
    "warnings.filterwarnings('ignore')"
   ]
  },
  {
   "cell_type": "markdown",
   "metadata": {},
   "source": [
    "### Считывание данных"
   ]
  },
  {
   "cell_type": "code",
   "execution_count": 2,
   "metadata": {
    "scrolled": true
   },
   "outputs": [
    {
     "data": {
      "text/html": [
       "<div>\n",
       "<style scoped>\n",
       "    .dataframe tbody tr th:only-of-type {\n",
       "        vertical-align: middle;\n",
       "    }\n",
       "\n",
       "    .dataframe tbody tr th {\n",
       "        vertical-align: top;\n",
       "    }\n",
       "\n",
       "    .dataframe thead th {\n",
       "        text-align: right;\n",
       "    }\n",
       "</style>\n",
       "<table border=\"1\" class=\"dataframe\">\n",
       "  <thead>\n",
       "    <tr style=\"text-align: right;\">\n",
       "      <th></th>\n",
       "      <th>RowNumber</th>\n",
       "      <th>CustomerId</th>\n",
       "      <th>Surname</th>\n",
       "      <th>CreditScore</th>\n",
       "      <th>Geography</th>\n",
       "      <th>Gender</th>\n",
       "      <th>Age</th>\n",
       "      <th>Tenure</th>\n",
       "      <th>Balance</th>\n",
       "      <th>NumOfProducts</th>\n",
       "      <th>HasCrCard</th>\n",
       "      <th>IsActiveMember</th>\n",
       "      <th>EstimatedSalary</th>\n",
       "      <th>Exited</th>\n",
       "    </tr>\n",
       "  </thead>\n",
       "  <tbody>\n",
       "    <tr>\n",
       "      <td>0</td>\n",
       "      <td>1</td>\n",
       "      <td>15634602</td>\n",
       "      <td>Hargrave</td>\n",
       "      <td>619</td>\n",
       "      <td>France</td>\n",
       "      <td>Female</td>\n",
       "      <td>42</td>\n",
       "      <td>2.0</td>\n",
       "      <td>0.00</td>\n",
       "      <td>1</td>\n",
       "      <td>1</td>\n",
       "      <td>1</td>\n",
       "      <td>101348.88</td>\n",
       "      <td>1</td>\n",
       "    </tr>\n",
       "    <tr>\n",
       "      <td>1</td>\n",
       "      <td>2</td>\n",
       "      <td>15647311</td>\n",
       "      <td>Hill</td>\n",
       "      <td>608</td>\n",
       "      <td>Spain</td>\n",
       "      <td>Female</td>\n",
       "      <td>41</td>\n",
       "      <td>1.0</td>\n",
       "      <td>83807.86</td>\n",
       "      <td>1</td>\n",
       "      <td>0</td>\n",
       "      <td>1</td>\n",
       "      <td>112542.58</td>\n",
       "      <td>0</td>\n",
       "    </tr>\n",
       "    <tr>\n",
       "      <td>2</td>\n",
       "      <td>3</td>\n",
       "      <td>15619304</td>\n",
       "      <td>Onio</td>\n",
       "      <td>502</td>\n",
       "      <td>France</td>\n",
       "      <td>Female</td>\n",
       "      <td>42</td>\n",
       "      <td>8.0</td>\n",
       "      <td>159660.80</td>\n",
       "      <td>3</td>\n",
       "      <td>1</td>\n",
       "      <td>0</td>\n",
       "      <td>113931.57</td>\n",
       "      <td>1</td>\n",
       "    </tr>\n",
       "    <tr>\n",
       "      <td>3</td>\n",
       "      <td>4</td>\n",
       "      <td>15701354</td>\n",
       "      <td>Boni</td>\n",
       "      <td>699</td>\n",
       "      <td>France</td>\n",
       "      <td>Female</td>\n",
       "      <td>39</td>\n",
       "      <td>1.0</td>\n",
       "      <td>0.00</td>\n",
       "      <td>2</td>\n",
       "      <td>0</td>\n",
       "      <td>0</td>\n",
       "      <td>93826.63</td>\n",
       "      <td>0</td>\n",
       "    </tr>\n",
       "    <tr>\n",
       "      <td>4</td>\n",
       "      <td>5</td>\n",
       "      <td>15737888</td>\n",
       "      <td>Mitchell</td>\n",
       "      <td>850</td>\n",
       "      <td>Spain</td>\n",
       "      <td>Female</td>\n",
       "      <td>43</td>\n",
       "      <td>2.0</td>\n",
       "      <td>125510.82</td>\n",
       "      <td>1</td>\n",
       "      <td>1</td>\n",
       "      <td>1</td>\n",
       "      <td>79084.10</td>\n",
       "      <td>0</td>\n",
       "    </tr>\n",
       "  </tbody>\n",
       "</table>\n",
       "</div>"
      ],
      "text/plain": [
       "   RowNumber  CustomerId   Surname  CreditScore Geography  Gender  Age  \\\n",
       "0          1    15634602  Hargrave          619    France  Female   42   \n",
       "1          2    15647311      Hill          608     Spain  Female   41   \n",
       "2          3    15619304      Onio          502    France  Female   42   \n",
       "3          4    15701354      Boni          699    France  Female   39   \n",
       "4          5    15737888  Mitchell          850     Spain  Female   43   \n",
       "\n",
       "   Tenure    Balance  NumOfProducts  HasCrCard  IsActiveMember  \\\n",
       "0     2.0       0.00              1          1               1   \n",
       "1     1.0   83807.86              1          0               1   \n",
       "2     8.0  159660.80              3          1               0   \n",
       "3     1.0       0.00              2          0               0   \n",
       "4     2.0  125510.82              1          1               1   \n",
       "\n",
       "   EstimatedSalary  Exited  \n",
       "0        101348.88       1  \n",
       "1        112542.58       0  \n",
       "2        113931.57       1  \n",
       "3         93826.63       0  \n",
       "4         79084.10       0  "
      ]
     },
     "metadata": {},
     "output_type": "display_data"
    },
    {
     "name": "stdout",
     "output_type": "stream",
     "text": [
      "<class 'pandas.core.frame.DataFrame'>\n",
      "RangeIndex: 10000 entries, 0 to 9999\n",
      "Data columns (total 14 columns):\n",
      "RowNumber          10000 non-null int64\n",
      "CustomerId         10000 non-null int64\n",
      "Surname            10000 non-null object\n",
      "CreditScore        10000 non-null int64\n",
      "Geography          10000 non-null object\n",
      "Gender             10000 non-null object\n",
      "Age                10000 non-null int64\n",
      "Tenure             9091 non-null float64\n",
      "Balance            10000 non-null float64\n",
      "NumOfProducts      10000 non-null int64\n",
      "HasCrCard          10000 non-null int64\n",
      "IsActiveMember     10000 non-null int64\n",
      "EstimatedSalary    10000 non-null float64\n",
      "Exited             10000 non-null int64\n",
      "dtypes: float64(3), int64(8), object(3)\n",
      "memory usage: 1.1+ MB\n"
     ]
    }
   ],
   "source": [
    "data = pd.read_csv('datasets/Churn.csv')\n",
    "display(data.head())\n",
    "data.info()"
   ]
  },
  {
   "cell_type": "code",
   "execution_count": 3,
   "metadata": {},
   "outputs": [
    {
     "name": "stdout",
     "output_type": "stream",
     "text": [
      "Index(['rownumber', 'customerid', 'surname', 'creditscore', 'geography',\n",
      "       'gender', 'age', 'tenure', 'balance', 'numofproducts', 'hascrcard',\n",
      "       'isactivemember', 'estimatedsalary', 'exited'],\n",
      "      dtype='object')\n"
     ]
    }
   ],
   "source": [
    "# Приведение названий столбцов к нижнему регистру\n",
    "data.columns = data.columns.str.lower()\n",
    "print(data.columns)"
   ]
  },
  {
   "cell_type": "code",
   "execution_count": 4,
   "metadata": {
    "scrolled": true
   },
   "outputs": [
    {
     "name": "stdout",
     "output_type": "stream",
     "text": [
      "Index(['row_number', 'customer_id', 'surname', 'credit_score', 'geography',\n",
      "       'gender', 'age', 'tenure', 'balance', 'num_of_products', 'has_cr_card',\n",
      "       'is_active_member', 'estimated_salary', 'exited'],\n",
      "      dtype='object')\n"
     ]
    }
   ],
   "source": [
    "# Приведение названий столбцов к змеиному регистру\n",
    "data = data.rename(\n",
    "    columns={\n",
    "        'rownumber' : 'row_number',\n",
    "        'customerid' : 'customer_id',\n",
    "        'creditscore' : 'credit_score',\n",
    "        'numofproducts' : 'num_of_products',\n",
    "        'hascrcard' : 'has_cr_card',\n",
    "        'isactivemember' : 'is_active_member',\n",
    "        'estimatedsalary' : 'estimated_salary'\n",
    "    }\n",
    ")\n",
    "print(data.columns)"
   ]
  },
  {
   "cell_type": "markdown",
   "metadata": {},
   "source": [
    "### Просмотр пропущенных значений."
   ]
  },
  {
   "cell_type": "code",
   "execution_count": 5,
   "metadata": {
    "scrolled": true
   },
   "outputs": [
    {
     "data": {
      "text/plain": [
       "row_number            0\n",
       "customer_id           0\n",
       "surname               0\n",
       "credit_score          0\n",
       "geography             0\n",
       "gender                0\n",
       "age                   0\n",
       "tenure              909\n",
       "balance               0\n",
       "num_of_products       0\n",
       "has_cr_card           0\n",
       "is_active_member      0\n",
       "estimated_salary      0\n",
       "exited                0\n",
       "dtype: int64"
      ]
     },
     "execution_count": 5,
     "metadata": {},
     "output_type": "execute_result"
    }
   ],
   "source": [
    "data.isna().sum()"
   ]
  },
  {
   "cell_type": "markdown",
   "metadata": {},
   "source": [
    "Пропуски есть только в столбце tenure."
   ]
  },
  {
   "cell_type": "markdown",
   "metadata": {},
   "source": [
    "### Проверка на дубликаты."
   ]
  },
  {
   "cell_type": "code",
   "execution_count": 6,
   "metadata": {
    "scrolled": true
   },
   "outputs": [
    {
     "data": {
      "text/plain": [
       "0"
      ]
     },
     "execution_count": 6,
     "metadata": {},
     "output_type": "execute_result"
    }
   ],
   "source": [
    "data.duplicated().sum()"
   ]
  },
  {
   "cell_type": "markdown",
   "metadata": {},
   "source": [
    "Явных дубликатов нет."
   ]
  },
  {
   "cell_type": "markdown",
   "metadata": {},
   "source": [
    "### Предпросмотр данных по столбцам"
   ]
  },
  {
   "cell_type": "markdown",
   "metadata": {},
   "source": [
    "#### credit_score"
   ]
  },
  {
   "cell_type": "markdown",
   "metadata": {},
   "source": [
    "Посмотрим уникальные значения и их количество в столбце credit_score. В полученной таблице отсортируем данные по значению кредитного рейтинга по возрастанию."
   ]
  },
  {
   "cell_type": "code",
   "execution_count": 7,
   "metadata": {
    "scrolled": true
   },
   "outputs": [
    {
     "data": {
      "text/html": [
       "<div>\n",
       "<style scoped>\n",
       "    .dataframe tbody tr th:only-of-type {\n",
       "        vertical-align: middle;\n",
       "    }\n",
       "\n",
       "    .dataframe tbody tr th {\n",
       "        vertical-align: top;\n",
       "    }\n",
       "\n",
       "    .dataframe thead th {\n",
       "        text-align: right;\n",
       "    }\n",
       "</style>\n",
       "<table border=\"1\" class=\"dataframe\">\n",
       "  <thead>\n",
       "    <tr style=\"text-align: right;\">\n",
       "      <th></th>\n",
       "      <th>credit_score</th>\n",
       "      <th>counts</th>\n",
       "    </tr>\n",
       "  </thead>\n",
       "  <tbody>\n",
       "    <tr>\n",
       "      <td>393</td>\n",
       "      <td>350</td>\n",
       "      <td>5</td>\n",
       "    </tr>\n",
       "    <tr>\n",
       "      <td>448</td>\n",
       "      <td>351</td>\n",
       "      <td>1</td>\n",
       "    </tr>\n",
       "    <tr>\n",
       "      <td>453</td>\n",
       "      <td>358</td>\n",
       "      <td>1</td>\n",
       "    </tr>\n",
       "    <tr>\n",
       "      <td>438</td>\n",
       "      <td>359</td>\n",
       "      <td>1</td>\n",
       "    </tr>\n",
       "    <tr>\n",
       "      <td>451</td>\n",
       "      <td>363</td>\n",
       "      <td>1</td>\n",
       "    </tr>\n",
       "    <tr>\n",
       "      <td>...</td>\n",
       "      <td>...</td>\n",
       "      <td>...</td>\n",
       "    </tr>\n",
       "    <tr>\n",
       "      <td>399</td>\n",
       "      <td>846</td>\n",
       "      <td>5</td>\n",
       "    </tr>\n",
       "    <tr>\n",
       "      <td>387</td>\n",
       "      <td>847</td>\n",
       "      <td>6</td>\n",
       "    </tr>\n",
       "    <tr>\n",
       "      <td>397</td>\n",
       "      <td>848</td>\n",
       "      <td>5</td>\n",
       "    </tr>\n",
       "    <tr>\n",
       "      <td>351</td>\n",
       "      <td>849</td>\n",
       "      <td>8</td>\n",
       "    </tr>\n",
       "    <tr>\n",
       "      <td>0</td>\n",
       "      <td>850</td>\n",
       "      <td>233</td>\n",
       "    </tr>\n",
       "  </tbody>\n",
       "</table>\n",
       "<p>460 rows × 2 columns</p>\n",
       "</div>"
      ],
      "text/plain": [
       "     credit_score  counts\n",
       "393           350       5\n",
       "448           351       1\n",
       "453           358       1\n",
       "438           359       1\n",
       "451           363       1\n",
       "..            ...     ...\n",
       "399           846       5\n",
       "387           847       6\n",
       "397           848       5\n",
       "351           849       8\n",
       "0             850     233\n",
       "\n",
       "[460 rows x 2 columns]"
      ]
     },
     "metadata": {},
     "output_type": "display_data"
    }
   ],
   "source": [
    "credit_score_vc = data['credit_score'].value_counts().reset_index().sort_values(by='index')\n",
    "credit_score_vc.columns = ['credit_score', 'counts']\n",
    "display(credit_score_vc)"
   ]
  },
  {
   "cell_type": "markdown",
   "metadata": {},
   "source": [
    "Построим столбцовую диаграмму кредитный рейтинг - количество значений."
   ]
  },
  {
   "cell_type": "code",
   "execution_count": 8,
   "metadata": {},
   "outputs": [
    {
     "data": {
      "image/png": "[encoded data removed]",
      "text/plain": [
       "<Figure size 1200x250 with 1 Axes>"
      ]
     },
     "metadata": {},
     "output_type": "display_data"
    }
   ],
   "source": [
    "credit_score_vc.plot(x='credit_score', y='counts', kind='bar', xlim=(0, 2000), figsize=(12, 2.5))\n",
    "frame1 = plt.gca()\n",
    "frame1.axes.get_xaxis().set_visible(False)\n",
    "plt.title('Распределение значений кредитного рейтинга');"
   ]
  },
  {
   "cell_type": "markdown",
   "metadata": {},
   "source": [
    "В столбце credit_score все значения распределены нормально, кроме значения крединого рейтинга в 850 баллов у которого количество клиентов имеет сильно выбивающееся значение."
   ]
  },
  {
   "cell_type": "code",
   "execution_count": 9,
   "metadata": {},
   "outputs": [
    {
     "data": {
      "text/plain": [
       "0    29.125\n",
       "Name: counts, dtype: float64"
      ]
     },
     "execution_count": 9,
     "metadata": {},
     "output_type": "execute_result"
    }
   ],
   "source": [
    "# Расчет отношения количества значений рейтинга 850 к количеству значений ближайшего значения ретинга 849\n",
    "credit_score_vc[credit_score_vc['credit_score'] == 850]['counts'] / max(credit_score_vc[credit_score_vc['credit_score'] == 849]['counts'])"
   ]
  },
  {
   "cell_type": "code",
   "execution_count": 10,
   "metadata": {},
   "outputs": [
    {
     "data": {
      "text/plain": [
       "0    3.698413\n",
       "Name: counts, dtype: float64"
      ]
     },
     "execution_count": 10,
     "metadata": {},
     "output_type": "execute_result"
    }
   ],
   "source": [
    "# Расчет отношения количества значений рейтинга 850 к максимальному максимум нормально распределённых значений\n",
    "credit_score_vc[credit_score_vc['credit_score'] == 850]['counts'] / max(credit_score_vc[credit_score_vc['credit_score'] != 850]['counts'])"
   ]
  },
  {
   "cell_type": "code",
   "execution_count": 11,
   "metadata": {},
   "outputs": [
    {
     "data": {
      "text/plain": [
       "0    2.33\n",
       "Name: counts, dtype: float64"
      ]
     },
     "execution_count": 11,
     "metadata": {},
     "output_type": "execute_result"
    }
   ],
   "source": [
    "#Расчет доли количества значений с рейтингом 850\n",
    "(credit_score_vc[credit_score_vc['credit_score'] == 850]['counts'] / len(data))*100"
   ]
  },
  {
   "cell_type": "markdown",
   "metadata": {},
   "source": [
    "Количество значений с рейтингом 850 в 3,7 раза превышает максимум нормально распределённых значений, и в 29 раз ближайшее значение. Это явная аномалия, составляющая 2,3% в данных. Это небольшое количество, поэтому удалим из данных строки с аномальным значений рейтинга 850."
   ]
  },
  {
   "cell_type": "code",
   "execution_count": 12,
   "metadata": {
    "scrolled": true
   },
   "outputs": [
    {
     "data": {
      "text/plain": [
       "678    63\n",
       "655    54\n",
       "705    53\n",
       "667    53\n",
       "684    52\n",
       "       ..\n",
       "419     1\n",
       "417     1\n",
       "373     1\n",
       "365     1\n",
       "401     1\n",
       "Name: credit_score, Length: 459, dtype: int64"
      ]
     },
     "execution_count": 12,
     "metadata": {},
     "output_type": "execute_result"
    }
   ],
   "source": [
    "# Срез данных у которых кредитный рейтинг не равен 850\n",
    "data = data.loc[data['credit_score'] != 850]\n",
    "data['credit_score'].value_counts()"
   ]
  },
  {
   "cell_type": "markdown",
   "metadata": {},
   "source": [
    "#### geography"
   ]
  },
  {
   "cell_type": "code",
   "execution_count": 13,
   "metadata": {
    "scrolled": true
   },
   "outputs": [
    {
     "data": {
      "text/plain": [
       "France     4900\n",
       "Germany    2444\n",
       "Spain      2423\n",
       "Name: geography, dtype: int64"
      ]
     },
     "execution_count": 13,
     "metadata": {},
     "output_type": "execute_result"
    }
   ],
   "source": [
    "data['geography'].value_counts()"
   ]
  },
  {
   "cell_type": "markdown",
   "metadata": {},
   "source": [
    "Клиенты банка из 3-х стран Франция, Германия, Испания. Аномалий в значениях нет."
   ]
  },
  {
   "cell_type": "markdown",
   "metadata": {},
   "source": [
    "#### gender"
   ]
  },
  {
   "cell_type": "code",
   "execution_count": 14,
   "metadata": {
    "scrolled": false
   },
   "outputs": [
    {
     "data": {
      "text/plain": [
       "Male      5333\n",
       "Female    4434\n",
       "Name: gender, dtype: int64"
      ]
     },
     "execution_count": 14,
     "metadata": {},
     "output_type": "execute_result"
    }
   ],
   "source": [
    "data['gender'].value_counts()"
   ]
  },
  {
   "cell_type": "markdown",
   "metadata": {},
   "source": [
    "Мужчин - 5333, женщин - 4434. Аномалий нет."
   ]
  },
  {
   "cell_type": "markdown",
   "metadata": {},
   "source": [
    "#### age"
   ]
  },
  {
   "cell_type": "markdown",
   "metadata": {},
   "source": [
    "Создание датафрейма распределение клиентов банка по возрасту."
   ]
  },
  {
   "cell_type": "code",
   "execution_count": 15,
   "metadata": {
    "scrolled": false
   },
   "outputs": [
    {
     "data": {
      "text/html": [
       "<div>\n",
       "<style scoped>\n",
       "    .dataframe tbody tr th:only-of-type {\n",
       "        vertical-align: middle;\n",
       "    }\n",
       "\n",
       "    .dataframe tbody tr th {\n",
       "        vertical-align: top;\n",
       "    }\n",
       "\n",
       "    .dataframe thead th {\n",
       "        text-align: right;\n",
       "    }\n",
       "</style>\n",
       "<table border=\"1\" class=\"dataframe\">\n",
       "  <thead>\n",
       "    <tr style=\"text-align: right;\">\n",
       "      <th></th>\n",
       "      <th>age</th>\n",
       "      <th>counts</th>\n",
       "    </tr>\n",
       "  </thead>\n",
       "  <tbody>\n",
       "    <tr>\n",
       "      <td>50</td>\n",
       "      <td>18</td>\n",
       "      <td>22</td>\n",
       "    </tr>\n",
       "    <tr>\n",
       "      <td>47</td>\n",
       "      <td>19</td>\n",
       "      <td>26</td>\n",
       "    </tr>\n",
       "    <tr>\n",
       "      <td>43</td>\n",
       "      <td>20</td>\n",
       "      <td>39</td>\n",
       "    </tr>\n",
       "    <tr>\n",
       "      <td>39</td>\n",
       "      <td>21</td>\n",
       "      <td>53</td>\n",
       "    </tr>\n",
       "    <tr>\n",
       "      <td>31</td>\n",
       "      <td>22</td>\n",
       "      <td>81</td>\n",
       "    </tr>\n",
       "    <tr>\n",
       "      <td>...</td>\n",
       "      <td>...</td>\n",
       "      <td>...</td>\n",
       "    </tr>\n",
       "    <tr>\n",
       "      <td>69</td>\n",
       "      <td>83</td>\n",
       "      <td>1</td>\n",
       "    </tr>\n",
       "    <tr>\n",
       "      <td>64</td>\n",
       "      <td>84</td>\n",
       "      <td>2</td>\n",
       "    </tr>\n",
       "    <tr>\n",
       "      <td>68</td>\n",
       "      <td>85</td>\n",
       "      <td>1</td>\n",
       "    </tr>\n",
       "    <tr>\n",
       "      <td>66</td>\n",
       "      <td>88</td>\n",
       "      <td>1</td>\n",
       "    </tr>\n",
       "    <tr>\n",
       "      <td>65</td>\n",
       "      <td>92</td>\n",
       "      <td>2</td>\n",
       "    </tr>\n",
       "  </tbody>\n",
       "</table>\n",
       "<p>70 rows × 2 columns</p>\n",
       "</div>"
      ],
      "text/plain": [
       "    age  counts\n",
       "50   18      22\n",
       "47   19      26\n",
       "43   20      39\n",
       "39   21      53\n",
       "31   22      81\n",
       "..  ...     ...\n",
       "69   83       1\n",
       "64   84       2\n",
       "68   85       1\n",
       "66   88       1\n",
       "65   92       2\n",
       "\n",
       "[70 rows x 2 columns]"
      ]
     },
     "metadata": {},
     "output_type": "display_data"
    }
   ],
   "source": [
    "age_vc = data['age'].value_counts().reset_index().sort_values(by='index')\n",
    "age_vc.columns = ['age', 'counts']\n",
    "display(age_vc)"
   ]
  },
  {
   "cell_type": "markdown",
   "metadata": {},
   "source": [
    "Построение столбцовой диаграммы распределение клиентов банка по возрасту."
   ]
  },
  {
   "cell_type": "code",
   "execution_count": 16,
   "metadata": {},
   "outputs": [
    {
     "data": {
      "image/png": "[encoded data removed]",
      "text/plain": [
       "<Figure size 2000x400 with 1 Axes>"
      ]
     },
     "metadata": {},
     "output_type": "display_data"
    }
   ],
   "source": [
    "age_vc.plot(kind='bar', x='age', y='counts', figsize=(20, 4))\n",
    "plt.title('Распределение клиентов банка по возрасту', fontsize=14)\n",
    "plt.xlabel('Возраст, лет', fontsize=14)\n",
    "plt.ylabel('Количество клиентов, чел', fontsize=14);"
   ]
  },
  {
   "cell_type": "markdown",
   "metadata": {},
   "source": [
    "Распределение по возрасту нормальное. Аномалий нет."
   ]
  },
  {
   "cell_type": "markdown",
   "metadata": {},
   "source": [
    "#### tenure"
   ]
  },
  {
   "cell_type": "markdown",
   "metadata": {},
   "source": [
    "Создание датафрейма распределение клиентов по сроку пользования услугами банка."
   ]
  },
  {
   "cell_type": "code",
   "execution_count": 17,
   "metadata": {
    "scrolled": true
   },
   "outputs": [
    {
     "data": {
      "text/html": [
       "<div>\n",
       "<style scoped>\n",
       "    .dataframe tbody tr th:only-of-type {\n",
       "        vertical-align: middle;\n",
       "    }\n",
       "\n",
       "    .dataframe tbody tr th {\n",
       "        vertical-align: top;\n",
       "    }\n",
       "\n",
       "    .dataframe thead th {\n",
       "        text-align: right;\n",
       "    }\n",
       "</style>\n",
       "<table border=\"1\" class=\"dataframe\">\n",
       "  <thead>\n",
       "    <tr style=\"text-align: right;\">\n",
       "      <th></th>\n",
       "      <th>tenure</th>\n",
       "      <th>count</th>\n",
       "    </tr>\n",
       "  </thead>\n",
       "  <tbody>\n",
       "    <tr>\n",
       "      <td>11</td>\n",
       "      <td>0.0</td>\n",
       "      <td>371</td>\n",
       "    </tr>\n",
       "    <tr>\n",
       "      <td>0</td>\n",
       "      <td>1.0</td>\n",
       "      <td>932</td>\n",
       "    </tr>\n",
       "    <tr>\n",
       "      <td>1</td>\n",
       "      <td>2.0</td>\n",
       "      <td>926</td>\n",
       "    </tr>\n",
       "    <tr>\n",
       "      <td>4</td>\n",
       "      <td>3.0</td>\n",
       "      <td>903</td>\n",
       "    </tr>\n",
       "    <tr>\n",
       "      <td>8</td>\n",
       "      <td>4.0</td>\n",
       "      <td>863</td>\n",
       "    </tr>\n",
       "    <tr>\n",
       "      <td>3</td>\n",
       "      <td>5.0</td>\n",
       "      <td>909</td>\n",
       "    </tr>\n",
       "    <tr>\n",
       "      <td>9</td>\n",
       "      <td>6.0</td>\n",
       "      <td>857</td>\n",
       "    </tr>\n",
       "    <tr>\n",
       "      <td>5</td>\n",
       "      <td>7.0</td>\n",
       "      <td>903</td>\n",
       "    </tr>\n",
       "    <tr>\n",
       "      <td>2</td>\n",
       "      <td>8.0</td>\n",
       "      <td>913</td>\n",
       "    </tr>\n",
       "    <tr>\n",
       "      <td>7</td>\n",
       "      <td>9.0</td>\n",
       "      <td>868</td>\n",
       "    </tr>\n",
       "    <tr>\n",
       "      <td>10</td>\n",
       "      <td>10.0</td>\n",
       "      <td>436</td>\n",
       "    </tr>\n",
       "    <tr>\n",
       "      <td>6</td>\n",
       "      <td>NaN</td>\n",
       "      <td>886</td>\n",
       "    </tr>\n",
       "  </tbody>\n",
       "</table>\n",
       "</div>"
      ],
      "text/plain": [
       "    tenure  count\n",
       "11     0.0    371\n",
       "0      1.0    932\n",
       "1      2.0    926\n",
       "4      3.0    903\n",
       "8      4.0    863\n",
       "3      5.0    909\n",
       "9      6.0    857\n",
       "5      7.0    903\n",
       "2      8.0    913\n",
       "7      9.0    868\n",
       "10    10.0    436\n",
       "6      NaN    886"
      ]
     },
     "metadata": {},
     "output_type": "display_data"
    }
   ],
   "source": [
    "tenure_vc = data['tenure'].value_counts(dropna=False).reset_index().sort_values(by='index')\n",
    "tenure_vc.columns = ['tenure', 'count']\n",
    "display(tenure_vc)"
   ]
  },
  {
   "cell_type": "markdown",
   "metadata": {},
   "source": [
    "Создание диаграммы распределения клиентов по сроку пользования услугами банка."
   ]
  },
  {
   "cell_type": "code",
   "execution_count": 18,
   "metadata": {},
   "outputs": [
    {
     "data": {
      "image/png": "[encoded data removed]",
      "text/plain": [
       "<Figure size 1200x400 with 1 Axes>"
      ]
     },
     "metadata": {},
     "output_type": "display_data"
    }
   ],
   "source": [
    "tenure_vc.plot(x='tenure', y='count', kind='bar', figsize=(12, 4))\n",
    "plt.title('Распределение клиентов по сроку пользования услугами банка', fontsize=14)\n",
    "plt.xlabel('срок пользования услугами банка, лет', fontsize=14)\n",
    "plt.ylabel('Количество клиентов, чел', fontsize=14);"
   ]
  },
  {
   "cell_type": "code",
   "execution_count": 19,
   "metadata": {},
   "outputs": [
    {
     "data": {
      "text/plain": [
       "9.1"
      ]
     },
     "execution_count": 19,
     "metadata": {},
     "output_type": "execute_result"
    }
   ],
   "source": [
    "# Расчет доли пустых значений\n",
    "round(100 * data['tenure'].isna().sum() / len(data), 1)"
   ]
  },
  {
   "cell_type": "markdown",
   "metadata": {},
   "source": [
    "Доля пустых значений в столбце tenure составляет 9,1%. Удалим эти данные."
   ]
  },
  {
   "cell_type": "code",
   "execution_count": 20,
   "metadata": {},
   "outputs": [
    {
     "name": "stdout",
     "output_type": "stream",
     "text": [
      "<class 'pandas.core.frame.DataFrame'>\n",
      "Int64Index: 8881 entries, 0 to 9998\n",
      "Data columns (total 14 columns):\n",
      "row_number          8881 non-null int64\n",
      "customer_id         8881 non-null int64\n",
      "surname             8881 non-null object\n",
      "credit_score        8881 non-null int64\n",
      "geography           8881 non-null object\n",
      "gender              8881 non-null object\n",
      "age                 8881 non-null int64\n",
      "tenure              8881 non-null float64\n",
      "balance             8881 non-null float64\n",
      "num_of_products     8881 non-null int64\n",
      "has_cr_card         8881 non-null int64\n",
      "is_active_member    8881 non-null int64\n",
      "estimated_salary    8881 non-null float64\n",
      "exited              8881 non-null int64\n",
      "dtypes: float64(3), int64(8), object(3)\n",
      "memory usage: 1.0+ MB\n"
     ]
    }
   ],
   "source": [
    "data = data.dropna(subset=['tenure'])\n",
    "data.info()"
   ]
  },
  {
   "cell_type": "markdown",
   "metadata": {},
   "source": [
    "#### balance"
   ]
  },
  {
   "cell_type": "markdown",
   "metadata": {},
   "source": [
    "Построение распределения клиентов банка по балансу на счёте."
   ]
  },
  {
   "cell_type": "code",
   "execution_count": 21,
   "metadata": {
    "scrolled": true
   },
   "outputs": [
    {
     "data": {
      "image/png": "[encoded data removed]",
      "text/plain": [
       "<Figure size 800x300 with 1 Axes>"
      ]
     },
     "metadata": {},
     "output_type": "display_data"
    }
   ],
   "source": [
    "data['balance'].hist(bins=50, figsize=(8, 3))\n",
    "plt.title('Распределение клиентов банка по балансу на счёте', fontsize=14)\n",
    "plt.xlabel('Баланс счёта, руб', fontsize=14)\n",
    "plt.ylabel('Количество клиентов, чел', fontsize=14);"
   ]
  },
  {
   "cell_type": "markdown",
   "metadata": {},
   "source": [
    "Построение распределения клиентов банка по балансу на счёте без клиентов имеющих нулевой баланс."
   ]
  },
  {
   "cell_type": "code",
   "execution_count": 22,
   "metadata": {
    "scrolled": true
   },
   "outputs": [
    {
     "data": {
      "image/png": "[encoded data removed]",
      "text/plain": [
       "<Figure size 800x300 with 1 Axes>"
      ]
     },
     "metadata": {},
     "output_type": "display_data"
    }
   ],
   "source": [
    "data[data['balance'] != 0]['balance'].hist(bins=50, figsize=(8, 3))\n",
    "plt.title('Распределение клиентов банка по балансу на счёте', fontsize=14)\n",
    "plt.xlabel('Баланс счёта, руб', fontsize=14)\n",
    "plt.ylabel('Количество клиентов, чел', fontsize=14);"
   ]
  },
  {
   "cell_type": "markdown",
   "metadata": {},
   "source": [
    "Из построенной гистограммы видно, что 3500 клиентов имеют нулевой баланс счета. Клиенты имеющие не нулевой баланс распределены нормально. Каких-либо аномалий в данных нет."
   ]
  },
  {
   "cell_type": "markdown",
   "metadata": {},
   "source": [
    "#### num_of_products"
   ]
  },
  {
   "cell_type": "markdown",
   "metadata": {},
   "source": [
    "Распределение клиентов по количеству используемых продуктов банка."
   ]
  },
  {
   "cell_type": "code",
   "execution_count": 23,
   "metadata": {
    "scrolled": false
   },
   "outputs": [
    {
     "data": {
      "text/plain": [
       "1    4512\n",
       "2    4084\n",
       "3     231\n",
       "4      54\n",
       "Name: num_of_products, dtype: int64"
      ]
     },
     "execution_count": 23,
     "metadata": {},
     "output_type": "execute_result"
    }
   ],
   "source": [
    "data['num_of_products'].value_counts()"
   ]
  },
  {
   "cell_type": "markdown",
   "metadata": {},
   "source": [
    "Каких-либо аномалий в данных нет."
   ]
  },
  {
   "cell_type": "markdown",
   "metadata": {},
   "source": [
    "#### has_cr_card"
   ]
  },
  {
   "cell_type": "markdown",
   "metadata": {},
   "source": [
    "Наличие кредитой карты."
   ]
  },
  {
   "cell_type": "code",
   "execution_count": 24,
   "metadata": {
    "scrolled": false
   },
   "outputs": [
    {
     "data": {
      "text/plain": [
       "1    6260\n",
       "0    2621\n",
       "Name: has_cr_card, dtype: int64"
      ]
     },
     "execution_count": 24,
     "metadata": {},
     "output_type": "execute_result"
    }
   ],
   "source": [
    "data['has_cr_card'].value_counts()"
   ]
  },
  {
   "cell_type": "markdown",
   "metadata": {},
   "source": [
    "Кредитная карта есть у 6260 клиентов, кредитной краты нет у 2621 клиента."
   ]
  },
  {
   "cell_type": "markdown",
   "metadata": {},
   "source": [
    "#### is_active_member"
   ]
  },
  {
   "cell_type": "markdown",
   "metadata": {},
   "source": [
    "Активность клиента."
   ]
  },
  {
   "cell_type": "code",
   "execution_count": 25,
   "metadata": {},
   "outputs": [
    {
     "data": {
      "text/plain": [
       "1    4567\n",
       "0    4314\n",
       "Name: is_active_member, dtype: int64"
      ]
     },
     "execution_count": 25,
     "metadata": {},
     "output_type": "execute_result"
    }
   ],
   "source": [
    "data['is_active_member'].value_counts()"
   ]
  },
  {
   "cell_type": "markdown",
   "metadata": {},
   "source": [
    "#### estimated_salary"
   ]
  },
  {
   "cell_type": "markdown",
   "metadata": {},
   "source": [
    "Распределение предполагаемых доходов клиентов банка."
   ]
  },
  {
   "cell_type": "code",
   "execution_count": 26,
   "metadata": {
    "scrolled": true
   },
   "outputs": [
    {
     "data": {
      "image/png": "[encoded data removed]",
      "text/plain": [
       "<Figure size 1000x400 with 1 Axes>"
      ]
     },
     "metadata": {},
     "output_type": "display_data"
    }
   ],
   "source": [
    "data['estimated_salary'].hist(bins=100, figsize=(10,4))\n",
    "plt.title('Распределение предполагаемых доходов клиентов банка', fontsize=14)\n",
    "plt.xlabel('Доход, руб', fontsize=14)\n",
    "plt.ylabel('Количество клиентов, чел', fontsize=14);"
   ]
  },
  {
   "cell_type": "markdown",
   "metadata": {},
   "source": [
    "Значение предполагаемых доходов клиентов распределены равномерно. Каких-либо аномалий нет."
   ]
  },
  {
   "cell_type": "markdown",
   "metadata": {},
   "source": [
    "#### exited"
   ]
  },
  {
   "cell_type": "markdown",
   "metadata": {},
   "source": [
    "Факт ухода клиента из банка."
   ]
  },
  {
   "cell_type": "code",
   "execution_count": 27,
   "metadata": {
    "scrolled": true
   },
   "outputs": [
    {
     "data": {
      "text/plain": [
       "0    7066\n",
       "1    1815\n",
       "Name: exited, dtype: int64"
      ]
     },
     "metadata": {},
     "output_type": "display_data"
    }
   ],
   "source": [
    "data_exited_vc = data['exited'].value_counts()\n",
    "display(data_exited_vc)"
   ]
  },
  {
   "cell_type": "markdown",
   "metadata": {},
   "source": [
    "Из банка ушло 1815 клиентов, осталось 7066."
   ]
  },
  {
   "cell_type": "markdown",
   "metadata": {},
   "source": [
    "### Подготовка данных для машинного обучения"
   ]
  },
  {
   "cell_type": "markdown",
   "metadata": {},
   "source": [
    "В данных есть признаки количественные и категориальные. Для машинного обучения для категориальных признаков проведем прямое кодирование (ohe - one hot encoding), а для количественных признаков масштабирование."
   ]
  },
  {
   "cell_type": "markdown",
   "metadata": {},
   "source": [
    "Удаление столбцов не нужных для машинного обучения 'surname', 'row_number', 'customer_id'."
   ]
  },
  {
   "cell_type": "code",
   "execution_count": 28,
   "metadata": {},
   "outputs": [],
   "source": [
    "# Удаление столбцов \n",
    "data = data.drop(columns=['surname', 'row_number', 'customer_id'])"
   ]
  },
  {
   "cell_type": "markdown",
   "metadata": {},
   "source": [
    "#### Прямое кодирование (ohe) категориальных признаков"
   ]
  },
  {
   "cell_type": "code",
   "execution_count": 29,
   "metadata": {},
   "outputs": [
    {
     "data": {
      "text/plain": [
       "Index(['credit_score', 'age', 'tenure', 'balance', 'num_of_products',\n",
       "       'has_cr_card', 'is_active_member', 'estimated_salary', 'exited',\n",
       "       'geography_Germany', 'geography_Spain', 'gender_Male'],\n",
       "      dtype='object')"
      ]
     },
     "execution_count": 29,
     "metadata": {},
     "output_type": "execute_result"
    }
   ],
   "source": [
    "data_ohe = pd.get_dummies(data, drop_first=True)\n",
    "data_ohe.columns"
   ]
  },
  {
   "cell_type": "markdown",
   "metadata": {},
   "source": [
    "#### Создание 3-х выборок train, valid и test"
   ]
  },
  {
   "cell_type": "code",
   "execution_count": 30,
   "metadata": {},
   "outputs": [
    {
     "name": "stdout",
     "output_type": "stream",
     "text": [
      "(8881, 11)\n",
      "(5328, 11)\n"
     ]
    }
   ],
   "source": [
    "target = data_ohe['exited']\n",
    "features = data_ohe.drop(columns='exited')\n",
    "features_train, features_no_train, target_train, target_no_train = train_test_split(\n",
    "    features, target, test_size=0.4, random_state=46294)\n",
    "features_valid, features_test, target_valid, target_test = train_test_split(\n",
    "    features_no_train, target_no_train, test_size=0.5, random_state=93457)\n",
    "print(features.shape)\n",
    "print(features_train.shape)"
   ]
  },
  {
   "cell_type": "markdown",
   "metadata": {},
   "source": [
    "#### Масштабирование численных признаков"
   ]
  },
  {
   "cell_type": "code",
   "execution_count": 31,
   "metadata": {},
   "outputs": [],
   "source": [
    "pd.options.mode.chained_assignment = None\n",
    "# список столбцов с численными признаками\n",
    "numeric=['credit_score', 'age', 'tenure', 'balance', 'num_of_products','estimated_salary'] \n",
    "scaler=StandardScaler()\n",
    "scaler.fit(features_train[numeric])\n",
    "features_train[numeric] = scaler.transform(features_train[numeric])\n",
    "features_valid[numeric] = scaler.transform(features_valid[numeric])\n",
    "features_test[numeric] = scaler.transform(features_test[numeric])"
   ]
  },
  {
   "cell_type": "markdown",
   "metadata": {},
   "source": [
    "## Машинное обучение"
   ]
  },
  {
   "cell_type": "markdown",
   "metadata": {},
   "source": [
    "### Дисбаланс классов"
   ]
  },
  {
   "cell_type": "code",
   "execution_count": 32,
   "metadata": {},
   "outputs": [
    {
     "data": {
      "text/plain": [
       "3.9"
      ]
     },
     "execution_count": 32,
     "metadata": {},
     "output_type": "execute_result"
    }
   ],
   "source": [
    "round(data_exited_vc[0] / data_exited_vc[1], 1)"
   ]
  },
  {
   "cell_type": "markdown",
   "metadata": {},
   "source": [
    "Дисбаланс классов равен 4. Целевой класс в 4 раза меньше нецелевого."
   ]
  },
  {
   "cell_type": "markdown",
   "metadata": {},
   "source": [
    "### Без учёта дисбаланса"
   ]
  },
  {
   "cell_type": "markdown",
   "metadata": {},
   "source": [
    "#### DTC модель решающего дерева и её оптимизация"
   ]
  },
  {
   "cell_type": "code",
   "execution_count": 33,
   "metadata": {
    "scrolled": false
   },
   "outputs": [],
   "source": [
    "dtc_depth_f1 = pd.DataFrame(columns=['depth', 'f1_train', 'f1_valid', 'auc_roc'])\n",
    "best_model_dtc = None\n",
    "best_f1_dtc = 0\n",
    "best_depth_dtc = None\n",
    "\n",
    "for depth in range(1, 25, 1):\n",
    "    model = DecisionTreeClassifier(random_state=83940, max_depth=depth)\n",
    "    model.fit(features_train, target_train)\n",
    "    predictions_train = model.predict(features_train)\n",
    "    f1_train = f1_score(target_train, predictions_train)\n",
    "    f1_valid = f1_score(target_valid, model.predict(features_valid))\n",
    "    #расчет auc_roc\n",
    "    auc_roc = roc_auc_score(target_valid, model.predict_proba(features_valid)[:,1])\n",
    "    \n",
    "    dtc_depth_f1.loc[len(dtc_depth_f1.index)] = [depth, f1_train, f1_valid, auc_roc]\n",
    "    \n",
    "    # отбор лучшей модели\n",
    "    if f1_valid > best_f1_dtc:\n",
    "        best_model_dtc = model\n",
    "        best_f1_dtc = f1_valid\n",
    "        best_depth_dtc = depth\n",
    "        best_auc_roc_dtc = auc_roc"
   ]
  },
  {
   "cell_type": "code",
   "execution_count": 34,
   "metadata": {},
   "outputs": [
    {
     "name": "stdout",
     "output_type": "stream",
     "text": [
      "f1 лучшей модели дерева решений на валидационной выборке 0.586 auc_roc 0.811 Глубина решающего дерева 7\n"
     ]
    }
   ],
   "source": [
    "print(\n",
    "      'f1 лучшей модели дерева решений на валидационной выборке', round(best_f1_dtc, 3), \n",
    "      'auc_roc', round(best_auc_roc_dtc, 3), \n",
    "      'Глубина решающего дерева', best_depth_dtc\n",
    ")"
   ]
  },
  {
   "cell_type": "markdown",
   "metadata": {},
   "source": [
    "#### RFC модель случайного леса и ее оптимизация"
   ]
  },
  {
   "cell_type": "code",
   "execution_count": 35,
   "metadata": {},
   "outputs": [],
   "source": [
    "rfc_est_f1 = pd.DataFrame(columns=['estimators', 'f1_train', 'f1_valid', 'auc_roc'])\n",
    "best_model_rfc = None\n",
    "best_f1_rfc = 0\n",
    "best_estimators_rfc = 0\n",
    "best_depth = 0\n",
    "\n",
    "for est in range(1, 20, 1):\n",
    "    for max_depth in range(1, 10, 1):\n",
    "        model = RandomForestClassifier(n_estimators=est, max_depth = max_depth, random_state=49275)\n",
    "        model.fit(features_train, target_train)\n",
    "        f1_train = f1_score(target_train, model.predict(features_train))\n",
    "        f1_valid = f1_score(target_valid, model.predict(features_valid))\n",
    "        #расчет auc_roc\n",
    "        auc_roc = roc_auc_score(target_valid, model.predict_proba(features_valid)[:,1])\n",
    "        rfc_est_f1.loc[len(rfc_est_f1.index)] = [est, f1_train, f1_valid, auc_roc]\n",
    "        if f1_valid > best_f1_rfc:\n",
    "            best_model_rfc = model\n",
    "            best_estimator_rfc = est\n",
    "            best_depth_rfc = max_depth\n",
    "            best_f1_rfc = f1_valid\n",
    "            best_auc_roc_rfc = auc_roc"
   ]
  },
  {
   "cell_type": "code",
   "execution_count": 36,
   "metadata": {},
   "outputs": [
    {
     "name": "stdout",
     "output_type": "stream",
     "text": [
      "f1 лучшей модели на валидационной выборке 0.552 auc_roc 0.862 количество деревьев 14 глубина деревьев 9\n"
     ]
    }
   ],
   "source": [
    "print(\n",
    "    'f1 лучшей модели на валидационной выборке', round(best_f1_rfc, 3), \n",
    "    'auc_roc', round(best_auc_roc_rfc, 3),\n",
    "    'количество деревьев', best_estimator_rfc,\n",
    "    'глубина деревьев', best_depth_rfc\n",
    ")"
   ]
  },
  {
   "cell_type": "markdown",
   "metadata": {},
   "source": [
    "#### LR модель логистической регрессии"
   ]
  },
  {
   "cell_type": "code",
   "execution_count": 37,
   "metadata": {
    "scrolled": false
   },
   "outputs": [
    {
     "name": "stdout",
     "output_type": "stream",
     "text": [
      "f1 линейной регрессии на валидационной выборке 0.29 auc_roc 0.86\n"
     ]
    }
   ],
   "source": [
    "model_lr = LogisticRegression(random_state=46294, solver='liblinear')\n",
    "model_lr.fit(features_train, target_train)\n",
    "f1_lr = f1_score(target_valid, model_lr.predict(features_valid))\n",
    "#расчет auc_roc\n",
    "best_auc_roc_lr = roc_auc_score(target_valid, model.predict_proba(features_valid)[:,1])\n",
    "print(\n",
    "    'f1 линейной регрессии на валидационной выборке', round(f1_lr, 2), \n",
    "    'auc_roc', round(best_auc_roc_lr, 2)\n",
    ")"
   ]
  },
  {
   "cell_type": "markdown",
   "metadata": {},
   "source": [
    "#### Сравнительная таблица точности различных моделей"
   ]
  },
  {
   "cell_type": "code",
   "execution_count": 38,
   "metadata": {},
   "outputs": [
    {
     "data": {
      "text/html": [
       "<div>\n",
       "<style scoped>\n",
       "    .dataframe tbody tr th:only-of-type {\n",
       "        vertical-align: middle;\n",
       "    }\n",
       "\n",
       "    .dataframe tbody tr th {\n",
       "        vertical-align: top;\n",
       "    }\n",
       "\n",
       "    .dataframe thead th {\n",
       "        text-align: right;\n",
       "    }\n",
       "</style>\n",
       "<table border=\"1\" class=\"dataframe\">\n",
       "  <thead>\n",
       "    <tr style=\"text-align: right;\">\n",
       "      <th></th>\n",
       "      <th>model</th>\n",
       "      <th>f1_wi</th>\n",
       "      <th>hp</th>\n",
       "      <th>auc_roc</th>\n",
       "    </tr>\n",
       "  </thead>\n",
       "  <tbody>\n",
       "    <tr>\n",
       "      <td>0</td>\n",
       "      <td>DTC</td>\n",
       "      <td>0.586</td>\n",
       "      <td>7</td>\n",
       "      <td>0.811</td>\n",
       "    </tr>\n",
       "    <tr>\n",
       "      <td>1</td>\n",
       "      <td>RFC</td>\n",
       "      <td>0.552</td>\n",
       "      <td>est - 14, depth - 9</td>\n",
       "      <td>0.862</td>\n",
       "    </tr>\n",
       "    <tr>\n",
       "      <td>2</td>\n",
       "      <td>LR</td>\n",
       "      <td>0.285</td>\n",
       "      <td>None</td>\n",
       "      <td>0.860</td>\n",
       "    </tr>\n",
       "  </tbody>\n",
       "</table>\n",
       "</div>"
      ],
      "text/plain": [
       "  model  f1_wi                   hp  auc_roc\n",
       "0   DTC  0.586                    7    0.811\n",
       "1   RFC  0.552  est - 14, depth - 9    0.862\n",
       "2    LR  0.285                 None    0.860"
      ]
     },
     "metadata": {},
     "output_type": "display_data"
    }
   ],
   "source": [
    "model_f1_wi = pd.DataFrame(columns=['model', 'f1_wi', 'hp', 'auc_roc'])\n",
    "model_f1_wi.loc[len(model_f1_wi.index)] = ['DTC', best_f1_dtc, best_depth_dtc, best_auc_roc_dtc]\n",
    "model_f1_wi.loc[len(model_f1_wi.index)] = ['RFC', best_f1_rfc, 'est - ' + str(best_estimator_rfc) + ', depth - ' + str(best_depth_rfc), best_auc_roc_rfc]\n",
    "model_f1_wi.loc[len(model_f1_wi.index)] = ['LR', f1_lr, None, best_auc_roc_lr]\n",
    "model_f1_wi['f1_wi'] = round(model_f1_wi['f1_wi'], 3)\n",
    "model_f1_wi['auc_roc'] = round(model_f1_wi['auc_roc'], 3)\n",
    "display(model_f1_wi)"
   ]
  },
  {
   "cell_type": "markdown",
   "metadata": {},
   "source": [
    "Лучшая модель без учёта дисбаланса классов - модель решающего дерева с глубиной дерева 7 и f1-мерой 0.586."
   ]
  },
  {
   "cell_type": "markdown",
   "metadata": {},
   "source": [
    "### Учёт дисбаланса классов используя параметр модели class_weight "
   ]
  },
  {
   "cell_type": "markdown",
   "metadata": {},
   "source": [
    "Для учёта дисбаланса классов воспользуемся встроенным в модели аргументом class_weight с значением 'balanced' и посмотрим улучшится ли метрика f1."
   ]
  },
  {
   "cell_type": "markdown",
   "metadata": {},
   "source": [
    "#### DTC модель решающего дерева и её оптимизация"
   ]
  },
  {
   "cell_type": "code",
   "execution_count": 39,
   "metadata": {
    "scrolled": false
   },
   "outputs": [],
   "source": [
    "dtc_depth_f1 = pd.DataFrame(columns=['depth', 'f1_train', 'f1_valid', 'auc_roc'])\n",
    "best_model_dtc = None\n",
    "best_f1_dtc = 0\n",
    "best_depth_dtc = None\n",
    "\n",
    "for depth in range(1, 40, 1):\n",
    "    model = DecisionTreeClassifier(random_state=46294, max_depth=depth, class_weight='balanced')\n",
    "    model.fit(features_train, target_train)\n",
    "    predictions_train = model.predict(features_train)\n",
    "    f1_train = f1_score(target_train, predictions_train)\n",
    "    f1_valid = f1_score(target_valid, model.predict(features_valid))\n",
    "    #расчет auc_roc\n",
    "    auc_roc = roc_auc_score(target_valid, model.predict_proba(features_valid)[:,1])\n",
    "    dtc_depth_f1.loc[len(dtc_depth_f1.index)] = [depth, f1_train, f1_valid, auc_roc]\n",
    "    if f1_valid > best_f1_dtc:\n",
    "        best_model_dtc = model\n",
    "        best_f1_dtc = f1_valid\n",
    "        best_depth_dtc = depth\n",
    "        best_auc_roc_dtc = auc_roc"
   ]
  },
  {
   "cell_type": "code",
   "execution_count": 40,
   "metadata": {},
   "outputs": [
    {
     "name": "stdout",
     "output_type": "stream",
     "text": [
      "f1 лучшей модели дерева решений на валидационной выборке 0.558 auc_roc 0.832 Глубина решающего дерева 6\n"
     ]
    }
   ],
   "source": [
    "print(\n",
    "    'f1 лучшей модели дерева решений на валидационной выборке', round(best_f1_dtc, 3), \n",
    "    'auc_roc', round(best_auc_roc_dtc, 3), \n",
    "    'Глубина решающего дерева', best_depth_dtc\n",
    ")\n"
   ]
  },
  {
   "cell_type": "markdown",
   "metadata": {},
   "source": [
    "#### RFC модель случайного леса и ее оптимизация"
   ]
  },
  {
   "cell_type": "code",
   "execution_count": 41,
   "metadata": {},
   "outputs": [],
   "source": [
    "rfc_est_f1 = pd.DataFrame(columns=['estimators', 'f1_train', 'f1_valid', 'auc_roc'])\n",
    "best_model_rfc = None\n",
    "best_f1_rfc = 0\n",
    "best_estimators_rfc = 0\n",
    "best_depth = 0\n",
    "\n",
    "for est in range(1, 20, 1):\n",
    "    for max_depth in range(1, 10, 1):\n",
    "        model = RandomForestClassifier(n_estimators=est, max_depth = max_depth, random_state=49275)\n",
    "        model.fit(features_train, target_train)\n",
    "        f1_train = f1_score(target_train, model.predict(features_train))\n",
    "        f1_valid = f1_score(target_valid, model.predict(features_valid))\n",
    "        #расчет auc_roc\n",
    "        auc_roc = roc_auc_score(target_valid, model.predict_proba(features_valid)[:,1])\n",
    "        rfc_est_f1.loc[len(rfc_est_f1.index)] = [est, f1_train, f1_valid, auc_roc]\n",
    "        if f1_valid > best_f1_rfc:\n",
    "            best_model_rfc = model\n",
    "            best_estimator_rfc = est\n",
    "            best_depth_rfc = max_depth\n",
    "            best_f1_rfc = f1_valid\n",
    "            best_auc_roc_rfc = auc_roc"
   ]
  },
  {
   "cell_type": "code",
   "execution_count": 42,
   "metadata": {},
   "outputs": [
    {
     "name": "stdout",
     "output_type": "stream",
     "text": [
      "f1 лучшей модели на валидационной выборке 0.552 auc_roc 0.862 количество деревьев 14 глубина деревьев 9\n"
     ]
    }
   ],
   "source": [
    "print(\n",
    "    'f1 лучшей модели на валидационной выборке', round(best_f1_rfc, 3), \n",
    "    'auc_roc', round(best_auc_roc_rfc, 3),\n",
    "    'количество деревьев', best_estimator_rfc,\n",
    "    'глубина деревьев', best_depth_rfc\n",
    ")"
   ]
  },
  {
   "cell_type": "markdown",
   "metadata": {},
   "source": [
    "#### LR модель логистической регрессии"
   ]
  },
  {
   "cell_type": "code",
   "execution_count": 43,
   "metadata": {
    "scrolled": false
   },
   "outputs": [
    {
     "name": "stdout",
     "output_type": "stream",
     "text": [
      "f1 линейной регрессии на валидационной выборке 0.5 auc_roc 0.86\n"
     ]
    }
   ],
   "source": [
    "model_lr = LogisticRegression(random_state=46294, solver='liblinear', class_weight='balanced')\n",
    "model_lr.fit(features_train, target_train)\n",
    "f1_lr = f1_score(target_valid, model_lr.predict(features_valid,))\n",
    "#расчет auc_roc\n",
    "best_auc_roc_lr = roc_auc_score(target_valid, model.predict_proba(features_valid)[:,1])\n",
    "print( \n",
    "    'f1 линейной регрессии на валидационной выборке', round(f1_lr, 2), \n",
    "    'auc_roc', round(best_auc_roc_lr, 2)\n",
    ") "
   ]
  },
  {
   "cell_type": "markdown",
   "metadata": {},
   "source": [
    "#### Сравнительная таблица точности различных моделей"
   ]
  },
  {
   "cell_type": "code",
   "execution_count": 44,
   "metadata": {
    "scrolled": true
   },
   "outputs": [
    {
     "data": {
      "text/html": [
       "<div>\n",
       "<style scoped>\n",
       "    .dataframe tbody tr th:only-of-type {\n",
       "        vertical-align: middle;\n",
       "    }\n",
       "\n",
       "    .dataframe tbody tr th {\n",
       "        vertical-align: top;\n",
       "    }\n",
       "\n",
       "    .dataframe thead th {\n",
       "        text-align: right;\n",
       "    }\n",
       "</style>\n",
       "<table border=\"1\" class=\"dataframe\">\n",
       "  <thead>\n",
       "    <tr style=\"text-align: right;\">\n",
       "      <th></th>\n",
       "      <th>model</th>\n",
       "      <th>f1_cw</th>\n",
       "      <th>hp</th>\n",
       "      <th>auc_roc</th>\n",
       "    </tr>\n",
       "  </thead>\n",
       "  <tbody>\n",
       "    <tr>\n",
       "      <td>0</td>\n",
       "      <td>DTC</td>\n",
       "      <td>0.558</td>\n",
       "      <td>6</td>\n",
       "      <td>0.832</td>\n",
       "    </tr>\n",
       "    <tr>\n",
       "      <td>1</td>\n",
       "      <td>RFC</td>\n",
       "      <td>0.552</td>\n",
       "      <td>est - 14, depth - 9</td>\n",
       "      <td>0.862</td>\n",
       "    </tr>\n",
       "    <tr>\n",
       "      <td>2</td>\n",
       "      <td>LR</td>\n",
       "      <td>0.497</td>\n",
       "      <td>None</td>\n",
       "      <td>0.860</td>\n",
       "    </tr>\n",
       "  </tbody>\n",
       "</table>\n",
       "</div>"
      ],
      "text/plain": [
       "  model  f1_cw                   hp  auc_roc\n",
       "0   DTC  0.558                    6    0.832\n",
       "1   RFC  0.552  est - 14, depth - 9    0.862\n",
       "2    LR  0.497                 None    0.860"
      ]
     },
     "metadata": {},
     "output_type": "display_data"
    }
   ],
   "source": [
    "model_f1_cw = pd.DataFrame(columns=['model', 'f1_cw', 'hp', 'auc_roc'])\n",
    "model_f1_cw.loc[len(model_f1_cw.index)] = ['DTC', best_f1_dtc, best_depth_dtc, best_auc_roc_dtc]\n",
    "model_f1_cw.loc[len(model_f1_cw.index)] = ['RFC', best_f1_rfc, 'est - ' + str(best_estimator_rfc) + ', depth - ' + str(best_depth_rfc), best_auc_roc_rfc]\n",
    "model_f1_cw.loc[len(model_f1_cw.index)] = ['LR', f1_lr, None, best_auc_roc_lr]\n",
    "model_f1_cw['f1_cw'] = round(model_f1_cw['f1_cw'], 3)\n",
    "model_f1_cw['auc_roc'] = round(model_f1_cw['auc_roc'], 3)\n",
    "display(model_f1_cw)"
   ]
  },
  {
   "cell_type": "markdown",
   "metadata": {},
   "source": [
    "### Сравнение моделей без учета дисбаланса и моделей с учётом дисбаланса class_weight"
   ]
  },
  {
   "cell_type": "code",
   "execution_count": 45,
   "metadata": {
    "scrolled": true
   },
   "outputs": [
    {
     "data": {
      "text/html": [
       "<div>\n",
       "<style scoped>\n",
       "    .dataframe tbody tr th:only-of-type {\n",
       "        vertical-align: middle;\n",
       "    }\n",
       "\n",
       "    .dataframe tbody tr th {\n",
       "        vertical-align: top;\n",
       "    }\n",
       "\n",
       "    .dataframe thead th {\n",
       "        text-align: right;\n",
       "    }\n",
       "</style>\n",
       "<table border=\"1\" class=\"dataframe\">\n",
       "  <thead>\n",
       "    <tr style=\"text-align: right;\">\n",
       "      <th></th>\n",
       "      <th>model</th>\n",
       "      <th>f1_wi</th>\n",
       "      <th>hp_x</th>\n",
       "      <th>auc_roc_x</th>\n",
       "      <th>f1_cw</th>\n",
       "      <th>hp_y</th>\n",
       "      <th>auc_roc_y</th>\n",
       "    </tr>\n",
       "  </thead>\n",
       "  <tbody>\n",
       "    <tr>\n",
       "      <td>0</td>\n",
       "      <td>DTC</td>\n",
       "      <td>0.586</td>\n",
       "      <td>7</td>\n",
       "      <td>0.811</td>\n",
       "      <td>0.558</td>\n",
       "      <td>6</td>\n",
       "      <td>0.832</td>\n",
       "    </tr>\n",
       "    <tr>\n",
       "      <td>1</td>\n",
       "      <td>RFC</td>\n",
       "      <td>0.552</td>\n",
       "      <td>est - 14, depth - 9</td>\n",
       "      <td>0.862</td>\n",
       "      <td>0.552</td>\n",
       "      <td>est - 14, depth - 9</td>\n",
       "      <td>0.862</td>\n",
       "    </tr>\n",
       "    <tr>\n",
       "      <td>2</td>\n",
       "      <td>LR</td>\n",
       "      <td>0.285</td>\n",
       "      <td>None</td>\n",
       "      <td>0.860</td>\n",
       "      <td>0.497</td>\n",
       "      <td>None</td>\n",
       "      <td>0.860</td>\n",
       "    </tr>\n",
       "  </tbody>\n",
       "</table>\n",
       "</div>"
      ],
      "text/plain": [
       "  model  f1_wi                 hp_x  auc_roc_x  f1_cw                 hp_y  \\\n",
       "0   DTC  0.586                    7      0.811  0.558                    6   \n",
       "1   RFC  0.552  est - 14, depth - 9      0.862  0.552  est - 14, depth - 9   \n",
       "2    LR  0.285                 None      0.860  0.497                 None   \n",
       "\n",
       "   auc_roc_y  \n",
       "0      0.832  \n",
       "1      0.862  \n",
       "2      0.860  "
      ]
     },
     "metadata": {},
     "output_type": "display_data"
    }
   ],
   "source": [
    "wi_cw = model_f1_wi.merge(model_f1_cw, left_on='model', right_on='model')\n",
    "display(wi_cw)"
   ]
  },
  {
   "cell_type": "markdown",
   "metadata": {},
   "source": [
    "Из сравнительной таблицы моделей можно заметить, что использование в модели аргумента class_weight='balanced' привело к улучшению показателей модели линейной регрессии и не привело к улучшению модели решающего дерева и случайного леса."
   ]
  },
  {
   "cell_type": "markdown",
   "metadata": {},
   "source": [
    "### Учёт дисбаланса классов методом downsampling"
   ]
  },
  {
   "cell_type": "markdown",
   "metadata": {},
   "source": [
    "Расчёт доли количества положительных исходов в отрицательных исходах для процедуры downsampling"
   ]
  },
  {
   "cell_type": "code",
   "execution_count": 46,
   "metadata": {},
   "outputs": [
    {
     "data": {
      "text/plain": [
       "0.256863855080668"
      ]
     },
     "execution_count": 46,
     "metadata": {},
     "output_type": "execute_result"
    }
   ],
   "source": [
    "data_exited_vc[1] / data_exited_vc[0]"
   ]
  },
  {
   "cell_type": "markdown",
   "metadata": {},
   "source": [
    "#### Подготовка данных для процедуры downsampling"
   ]
  },
  {
   "cell_type": "code",
   "execution_count": 47,
   "metadata": {},
   "outputs": [],
   "source": [
    "# функция осуществляющая downsampling\n",
    "def downsample(features, target, fraction):\n",
    "    features_zeros = features[target == 0]\n",
    "    features_ones = features[target == 1]\n",
    "    target_zeros = target[target == 0]\n",
    "    target_ones = target[target == 1]\n",
    "\n",
    "    features_downsampled = pd.concat(\n",
    "        [features_zeros.sample(frac=fraction, random_state=12345)] + [features_ones])\n",
    "    target_downsampled = pd.concat(\n",
    "        [target_zeros.sample(frac=fraction, random_state=12345)] + [target_ones])\n",
    "    \n",
    "    features_downsampled, target_downsampled = shuffle(\n",
    "        features_downsampled, target_downsampled, random_state=12345)\n",
    "    \n",
    "    return features_downsampled, target_downsampled\n",
    "\n",
    "# создание признаков функцией downsampling\n",
    "features_downsampled, target_downsampled = downsample(features_train, target_train, 0.25)"
   ]
  },
  {
   "cell_type": "markdown",
   "metadata": {},
   "source": [
    "#### DTC модель решающего дерева и её оптимизация"
   ]
  },
  {
   "cell_type": "code",
   "execution_count": 48,
   "metadata": {
    "scrolled": false
   },
   "outputs": [],
   "source": [
    "dtc_depth_f1 = pd.DataFrame(columns=['depth', 'f1_train', 'f1_valid', 'auc_roc'])\n",
    "best_model_dtc = None\n",
    "best_f1_dtc = 0\n",
    "best_depth_dtc = None\n",
    "\n",
    "for depth in range(1, 25, 1):\n",
    "    model = DecisionTreeClassifier(random_state=92643, max_depth=depth)\n",
    "    model.fit(features_downsampled, target_downsampled)\n",
    "    predictions_train = model.predict(features_downsampled)\n",
    "    f1_train = f1_score(target_downsampled, predictions_train)\n",
    "    f1_valid = f1_score(target_valid, model.predict(features_valid))\n",
    "    #расчет auc_roc\n",
    "    auc_roc = roc_auc_score(target_valid, model.predict_proba(features_valid)[:,1])\n",
    "    dtc_depth_f1.loc[len(dtc_depth_f1.index)] = [depth, f1_train, f1_valid, auc_roc]\n",
    "    if f1_valid > best_f1_dtc:\n",
    "        best_model_dtc = model\n",
    "        best_f1_dtc = f1_valid\n",
    "        best_depth_dtc = depth\n",
    "        best_auc_roc_dtc = auc_roc"
   ]
  },
  {
   "cell_type": "code",
   "execution_count": 49,
   "metadata": {},
   "outputs": [
    {
     "name": "stdout",
     "output_type": "stream",
     "text": [
      "f1 лучшей модели дерева решений на валидационной выборке 0.5547619047619048 auc_roc 0.8079189207334814 0.5547619047619048 Глубина решающего дерева 5\n"
     ]
    }
   ],
   "source": [
    "print(\n",
    "    'f1 лучшей модели дерева решений на валидационной выборке',  best_f1_dtc, \n",
    "    'auc_roc', best_auc_roc_dtc, best_f1_dtc, \n",
    "    'Глубина решающего дерева', best_depth_dtc\n",
    ")"
   ]
  },
  {
   "cell_type": "markdown",
   "metadata": {},
   "source": [
    "#### RFC модель случайного леса и ее оптимизация"
   ]
  },
  {
   "cell_type": "code",
   "execution_count": 50,
   "metadata": {},
   "outputs": [],
   "source": [
    "rfc_est_f1 = pd.DataFrame(columns=['estimators', 'f1_train', 'f1_valid', 'auc_roc'])\n",
    "best_model_rfc = None\n",
    "best_f1_rfc = 0\n",
    "best_estimators_rfc = 0\n",
    "best_depth = 0\n",
    "\n",
    "for est in range(1, 20, 1):\n",
    "    for max_depth in range(1, 10, 1):\n",
    "        model = RandomForestClassifier(n_estimators=est, max_depth = max_depth, random_state=49275)\n",
    "        model.fit(features_downsampled, target_downsampled)\n",
    "        f1_train = f1_score(target_downsampled, model.predict(features_downsampled))\n",
    "        f1_valid = f1_score(target_valid, model.predict(features_valid))\n",
    "        #расчет auc_roc\n",
    "        auc_roc = roc_auc_score(target_valid, model.predict_proba(features_valid)[:,1])\n",
    "        rfc_est_f1.loc[len(rfc_est_f1.index)] = [est, f1_train, f1_valid, auc_roc]\n",
    "        if f1_valid > best_f1_rfc:\n",
    "            best_model_rfc = model\n",
    "            best_estimator_rfc = est\n",
    "            best_depth_rfc = max_depth\n",
    "            best_f1_rfc = f1_valid\n",
    "            best_auc_roc_rfc = auc_roc"
   ]
  },
  {
   "cell_type": "code",
   "execution_count": 51,
   "metadata": {},
   "outputs": [
    {
     "name": "stdout",
     "output_type": "stream",
     "text": [
      "f1 лучшей модели на валидационной выборке 0.591 auc_roc 0.861 количество деревьев 17 глубина деревьев 6\n"
     ]
    }
   ],
   "source": [
    "print(\n",
    "    'f1 лучшей модели на валидационной выборке', round(best_f1_rfc, 3), \n",
    "    'auc_roc', round(best_auc_roc_rfc, 3),\n",
    "    'количество деревьев', best_estimator_rfc,\n",
    "    'глубина деревьев', best_depth_rfc\n",
    ")"
   ]
  },
  {
   "cell_type": "markdown",
   "metadata": {},
   "source": [
    "#### LR модель логистической регрессии"
   ]
  },
  {
   "cell_type": "code",
   "execution_count": 52,
   "metadata": {
    "scrolled": true
   },
   "outputs": [
    {
     "name": "stdout",
     "output_type": "stream",
     "text": [
      "f1 линейной регрессии на валидационной выборке 0.49569377990430624 auc_roc 0.8576779331012636\n"
     ]
    }
   ],
   "source": [
    "model_lr = LogisticRegression()\n",
    "model_lr.fit(features_downsampled, target_downsampled)\n",
    "f1_lr = f1_score(target_valid, model_lr.predict(features_valid))\n",
    "#расчет auc_roc\n",
    "best_auc_roc_lr = roc_auc_score(target_valid, model.predict_proba(features_valid)[:,1])\n",
    "print('f1 линейной регрессии на валидационной выборке', f1_lr, 'auc_roc', best_auc_roc_lr)"
   ]
  },
  {
   "cell_type": "markdown",
   "metadata": {},
   "source": [
    "#### Сравнительная таблица точности различных моделей"
   ]
  },
  {
   "cell_type": "code",
   "execution_count": 53,
   "metadata": {
    "scrolled": true
   },
   "outputs": [
    {
     "data": {
      "text/html": [
       "<div>\n",
       "<style scoped>\n",
       "    .dataframe tbody tr th:only-of-type {\n",
       "        vertical-align: middle;\n",
       "    }\n",
       "\n",
       "    .dataframe tbody tr th {\n",
       "        vertical-align: top;\n",
       "    }\n",
       "\n",
       "    .dataframe thead th {\n",
       "        text-align: right;\n",
       "    }\n",
       "</style>\n",
       "<table border=\"1\" class=\"dataframe\">\n",
       "  <thead>\n",
       "    <tr style=\"text-align: right;\">\n",
       "      <th></th>\n",
       "      <th>model</th>\n",
       "      <th>f1_ds</th>\n",
       "      <th>hp</th>\n",
       "      <th>auc_roc</th>\n",
       "    </tr>\n",
       "  </thead>\n",
       "  <tbody>\n",
       "    <tr>\n",
       "      <td>0</td>\n",
       "      <td>DTC</td>\n",
       "      <td>0.555</td>\n",
       "      <td>5</td>\n",
       "      <td>0.808</td>\n",
       "    </tr>\n",
       "    <tr>\n",
       "      <td>1</td>\n",
       "      <td>RFC</td>\n",
       "      <td>0.591</td>\n",
       "      <td>est - 17, depth - 6</td>\n",
       "      <td>0.861</td>\n",
       "    </tr>\n",
       "    <tr>\n",
       "      <td>2</td>\n",
       "      <td>LR</td>\n",
       "      <td>0.496</td>\n",
       "      <td>None</td>\n",
       "      <td>0.858</td>\n",
       "    </tr>\n",
       "  </tbody>\n",
       "</table>\n",
       "</div>"
      ],
      "text/plain": [
       "  model  f1_ds                   hp  auc_roc\n",
       "0   DTC  0.555                    5    0.808\n",
       "1   RFC  0.591  est - 17, depth - 6    0.861\n",
       "2    LR  0.496                 None    0.858"
      ]
     },
     "metadata": {},
     "output_type": "display_data"
    }
   ],
   "source": [
    "model_f1_ds = pd.DataFrame(columns=['model', 'f1_ds', 'hp', 'auc_roc'])\n",
    "model_f1_ds.loc[len(model_f1_ds.index)] = ['DTC', best_f1_dtc, best_depth_dtc, best_auc_roc_dtc]\n",
    "model_f1_ds.loc[len(model_f1_ds.index)] = ['RFC', best_f1_rfc, 'est - ' + str(best_estimator_rfc) + ', depth - ' + str(best_depth_rfc), best_auc_roc_rfc]\n",
    "model_f1_ds.loc[len(model_f1_ds.index)] = ['LR', f1_lr, None, best_auc_roc_lr]\n",
    "model_f1_ds['f1_ds'] = round(model_f1_ds['f1_ds'], 3)\n",
    "model_f1_ds['auc_roc'] = round(model_f1_ds['auc_roc'], 3)\n",
    "display(model_f1_ds)"
   ]
  },
  {
   "cell_type": "markdown",
   "metadata": {},
   "source": [
    "### Сравнение моделей без учета дисбаланса и моделей с учётом дисбаланса"
   ]
  },
  {
   "cell_type": "code",
   "execution_count": 54,
   "metadata": {
    "scrolled": false
   },
   "outputs": [
    {
     "data": {
      "text/html": [
       "<div>\n",
       "<style scoped>\n",
       "    .dataframe tbody tr th:only-of-type {\n",
       "        vertical-align: middle;\n",
       "    }\n",
       "\n",
       "    .dataframe tbody tr th {\n",
       "        vertical-align: top;\n",
       "    }\n",
       "\n",
       "    .dataframe thead th {\n",
       "        text-align: right;\n",
       "    }\n",
       "</style>\n",
       "<table border=\"1\" class=\"dataframe\">\n",
       "  <thead>\n",
       "    <tr style=\"text-align: right;\">\n",
       "      <th></th>\n",
       "      <th>model</th>\n",
       "      <th>f1_wi</th>\n",
       "      <th>hp_x</th>\n",
       "      <th>auc_roc_x</th>\n",
       "      <th>f1_cw</th>\n",
       "      <th>hp_y</th>\n",
       "      <th>auc_roc_y</th>\n",
       "      <th>f1_ds</th>\n",
       "      <th>hp</th>\n",
       "      <th>auc_roc</th>\n",
       "    </tr>\n",
       "  </thead>\n",
       "  <tbody>\n",
       "    <tr>\n",
       "      <td>0</td>\n",
       "      <td>DTC</td>\n",
       "      <td>0.586</td>\n",
       "      <td>7</td>\n",
       "      <td>0.811</td>\n",
       "      <td>0.558</td>\n",
       "      <td>6</td>\n",
       "      <td>0.832</td>\n",
       "      <td>0.555</td>\n",
       "      <td>5</td>\n",
       "      <td>0.808</td>\n",
       "    </tr>\n",
       "    <tr>\n",
       "      <td>1</td>\n",
       "      <td>RFC</td>\n",
       "      <td>0.552</td>\n",
       "      <td>est - 14, depth - 9</td>\n",
       "      <td>0.862</td>\n",
       "      <td>0.552</td>\n",
       "      <td>est - 14, depth - 9</td>\n",
       "      <td>0.862</td>\n",
       "      <td>0.591</td>\n",
       "      <td>est - 17, depth - 6</td>\n",
       "      <td>0.861</td>\n",
       "    </tr>\n",
       "    <tr>\n",
       "      <td>2</td>\n",
       "      <td>LR</td>\n",
       "      <td>0.285</td>\n",
       "      <td>None</td>\n",
       "      <td>0.860</td>\n",
       "      <td>0.497</td>\n",
       "      <td>None</td>\n",
       "      <td>0.860</td>\n",
       "      <td>0.496</td>\n",
       "      <td>None</td>\n",
       "      <td>0.858</td>\n",
       "    </tr>\n",
       "  </tbody>\n",
       "</table>\n",
       "</div>"
      ],
      "text/plain": [
       "  model  f1_wi                 hp_x  auc_roc_x  f1_cw                 hp_y  \\\n",
       "0   DTC  0.586                    7      0.811  0.558                    6   \n",
       "1   RFC  0.552  est - 14, depth - 9      0.862  0.552  est - 14, depth - 9   \n",
       "2    LR  0.285                 None      0.860  0.497                 None   \n",
       "\n",
       "   auc_roc_y  f1_ds                   hp  auc_roc  \n",
       "0      0.832  0.555                    5    0.808  \n",
       "1      0.862  0.591  est - 17, depth - 6    0.861  \n",
       "2      0.860  0.496                 None    0.858  "
      ]
     },
     "metadata": {},
     "output_type": "display_data"
    }
   ],
   "source": [
    "wi_cw_ds = wi_cw.merge(model_f1_ds, left_on='model', right_on='model')\n",
    "display(wi_cw_ds)"
   ]
  },
  {
   "cell_type": "markdown",
   "metadata": {},
   "source": [
    "Метод downsampling повысил f1 меру модели линейной регрессии и модели случайного леса. Точность модели случайного леса увеличилась до значения 0,581 и не достигла целевого показателя 0,59."
   ]
  },
  {
   "cell_type": "markdown",
   "metadata": {},
   "source": [
    "### Учёт дисбаланса методом upsampling"
   ]
  },
  {
   "cell_type": "markdown",
   "metadata": {},
   "source": [
    "Воспользуемся методом upsampling для учёта дисбаланса классов."
   ]
  },
  {
   "cell_type": "markdown",
   "metadata": {},
   "source": [
    "#### Подготовка данных upsampling"
   ]
  },
  {
   "cell_type": "code",
   "execution_count": 55,
   "metadata": {},
   "outputs": [
    {
     "name": "stdout",
     "output_type": "stream",
     "text": [
      "(5328, 11)\n",
      "(8622, 11)\n"
     ]
    }
   ],
   "source": [
    "def upsample(features, target, repeat):\n",
    "    features_zeros = features[target == 0]\n",
    "    features_ones = features[target == 1]\n",
    "    target_zeros = target[target == 0]\n",
    "    target_ones = target[target == 1]\n",
    "\n",
    "    features_upsampled = pd.concat([features_zeros] + [features_ones] * repeat)\n",
    "    target_upsampled = pd.concat([target_zeros] + [target_ones] * repeat)\n",
    "    \n",
    "    features_upsampled, target_upsampled = shuffle(\n",
    "        features_upsampled, target_upsampled, random_state=12345)\n",
    "    \n",
    "    return features_upsampled, target_upsampled\n",
    "\n",
    "features_upsampled, target_upsampled = upsample(features_train, target_train, 4)\n",
    "print(features_train.shape)\n",
    "print(features_upsampled.shape)\n"
   ]
  },
  {
   "cell_type": "markdown",
   "metadata": {},
   "source": [
    "#### DTC модель решающего дерева и её оптимизация"
   ]
  },
  {
   "cell_type": "code",
   "execution_count": 56,
   "metadata": {
    "scrolled": false
   },
   "outputs": [],
   "source": [
    "dtc_depth_f1 = pd.DataFrame(columns=['depth', 'f1_train', 'f1_valid', 'auc_roc'])\n",
    "best_model_dtc = None\n",
    "best_f1_dtc = 0\n",
    "best_depth_dtc = None\n",
    "\n",
    "for depth in range(1, 25, 1):\n",
    "    model = DecisionTreeClassifier(random_state=92643, max_depth=depth)\n",
    "    model.fit(features_upsampled, target_upsampled)\n",
    "    predictions_train = model.predict(features_upsampled)\n",
    "    f1_train = f1_score(target_upsampled, predictions_train)\n",
    "    f1_valid = f1_score(target_valid, model.predict(features_valid))\n",
    "    #расчет auc_roc\n",
    "    auc_roc = roc_auc_score(target_valid, model.predict_proba(features_valid)[:,1])\n",
    "    dtc_depth_f1.loc[len(dtc_depth_f1.index)] = [depth, f1_train, f1_valid, auc_roc]\n",
    "    if f1_valid > best_f1_dtc:\n",
    "        best_model_dtc = model\n",
    "        best_f1_dtc = f1_valid\n",
    "        best_depth_dtc = depth\n",
    "        best_auc_roc_dtc = auc_roc"
   ]
  },
  {
   "cell_type": "code",
   "execution_count": 57,
   "metadata": {},
   "outputs": [
    {
     "name": "stdout",
     "output_type": "stream",
     "text": [
      "f1 лучшей модели дерева решений на валидационной выборке 0.559 auc_roc 0.832 Глубина решающего дерева 6\n"
     ]
    }
   ],
   "source": [
    "print(\n",
    "    'f1 лучшей модели дерева решений на валидационной выборке',  round(best_f1_dtc, 3), \n",
    "    'auc_roc', round(best_auc_roc_dtc,3), \n",
    "    'Глубина решающего дерева', best_depth_dtc\n",
    ")"
   ]
  },
  {
   "cell_type": "markdown",
   "metadata": {},
   "source": [
    "#### RFC модель случайного леса и ее оптимизация"
   ]
  },
  {
   "cell_type": "code",
   "execution_count": 58,
   "metadata": {},
   "outputs": [],
   "source": [
    "rfc_est_f1 = pd.DataFrame(columns=['estimators', 'f1_train', 'f1_valid', 'auc_roc'])\n",
    "best_model_rfc = None\n",
    "best_f1_rfc = 0\n",
    "best_estimators_rfc = 0\n",
    "best_depth = 0\n",
    "\n",
    "for est in range(1, 20, 1):\n",
    "    for max_depth in range(1, 10, 1):\n",
    "        model = RandomForestClassifier(n_estimators=est, max_depth = max_depth, random_state=49275)\n",
    "        model.fit(features_upsampled, target_upsampled)\n",
    "        f1_train = f1_score(target_upsampled, model.predict(features_upsampled))\n",
    "        f1_valid = f1_score(target_valid, model.predict(features_valid))\n",
    "        #расчет auc_roc\n",
    "        auc_roc = roc_auc_score(target_valid, model.predict_proba(features_valid)[:,1])\n",
    "        rfc_est_f1.loc[len(rfc_est_f1.index)] = [est, f1_train, f1_valid, auc_roc]\n",
    "        if f1_valid > best_f1_rfc:\n",
    "            best_model_rfc = model\n",
    "            best_estimator_rfc = est\n",
    "            best_depth_rfc = max_depth\n",
    "            best_f1_rfc = f1_valid\n",
    "            best_auc_roc_rfc = auc_roc"
   ]
  },
  {
   "cell_type": "code",
   "execution_count": 59,
   "metadata": {},
   "outputs": [
    {
     "name": "stdout",
     "output_type": "stream",
     "text": [
      "f1 лучшей модели на валидационной выборке 0.622 auc_roc 0.86 количество деревьев 16 глубина деревьев 9\n"
     ]
    }
   ],
   "source": [
    "print(\n",
    "    'f1 лучшей модели на валидационной выборке', round(best_f1_rfc, 3), \n",
    "    'auc_roc', round(best_auc_roc_rfc, 3),\n",
    "    'количество деревьев', best_estimator_rfc,\n",
    "    'глубина деревьев', best_depth_rfc\n",
    ")"
   ]
  },
  {
   "cell_type": "markdown",
   "metadata": {},
   "source": [
    "#### LR модель логистической регрессии"
   ]
  },
  {
   "cell_type": "code",
   "execution_count": 60,
   "metadata": {
    "scrolled": true
   },
   "outputs": [
    {
     "name": "stdout",
     "output_type": "stream",
     "text": [
      "f1 линейной регрессии на валидационной выборке 0.496 auc_roc 0.859\n"
     ]
    }
   ],
   "source": [
    "model_lr = LogisticRegression()\n",
    "model_lr.fit(features_upsampled, target_upsampled)\n",
    "f1_lr = f1_score(target_valid, model_lr.predict(features_valid))\n",
    "#расчет auc_roc\n",
    "best_auc_roc_lr = roc_auc_score(target_valid, model.predict_proba(features_valid)[:,1])\n",
    "print(\n",
    "    'f1 линейной регрессии на валидационной выборке', round(f1_lr, 3), \n",
    "    'auc_roc', round(best_auc_roc_lr, 3)\n",
    ")"
   ]
  },
  {
   "cell_type": "markdown",
   "metadata": {},
   "source": [
    "#### Сравнительная таблица точности различных моделей"
   ]
  },
  {
   "cell_type": "code",
   "execution_count": 61,
   "metadata": {
    "scrolled": false
   },
   "outputs": [
    {
     "data": {
      "text/html": [
       "<div>\n",
       "<style scoped>\n",
       "    .dataframe tbody tr th:only-of-type {\n",
       "        vertical-align: middle;\n",
       "    }\n",
       "\n",
       "    .dataframe tbody tr th {\n",
       "        vertical-align: top;\n",
       "    }\n",
       "\n",
       "    .dataframe thead th {\n",
       "        text-align: right;\n",
       "    }\n",
       "</style>\n",
       "<table border=\"1\" class=\"dataframe\">\n",
       "  <thead>\n",
       "    <tr style=\"text-align: right;\">\n",
       "      <th></th>\n",
       "      <th>model</th>\n",
       "      <th>f1_ups</th>\n",
       "      <th>hp</th>\n",
       "      <th>auc_roc</th>\n",
       "    </tr>\n",
       "  </thead>\n",
       "  <tbody>\n",
       "    <tr>\n",
       "      <td>0</td>\n",
       "      <td>DTC</td>\n",
       "      <td>0.559</td>\n",
       "      <td>6</td>\n",
       "      <td>0.832</td>\n",
       "    </tr>\n",
       "    <tr>\n",
       "      <td>1</td>\n",
       "      <td>RFC</td>\n",
       "      <td>0.622</td>\n",
       "      <td>est - 16, depth - 9</td>\n",
       "      <td>0.860</td>\n",
       "    </tr>\n",
       "    <tr>\n",
       "      <td>2</td>\n",
       "      <td>LR</td>\n",
       "      <td>0.496</td>\n",
       "      <td>None</td>\n",
       "      <td>0.859</td>\n",
       "    </tr>\n",
       "  </tbody>\n",
       "</table>\n",
       "</div>"
      ],
      "text/plain": [
       "  model  f1_ups                   hp  auc_roc\n",
       "0   DTC   0.559                    6    0.832\n",
       "1   RFC   0.622  est - 16, depth - 9    0.860\n",
       "2    LR   0.496                 None    0.859"
      ]
     },
     "metadata": {},
     "output_type": "display_data"
    }
   ],
   "source": [
    "model_f1_ups = pd.DataFrame(columns=['model', 'f1_ups', 'hp', 'auc_roc'])\n",
    "model_f1_ups.loc[len(model_f1_ups.index)] = ['DTC', best_f1_dtc, best_depth_dtc, best_auc_roc_dtc]\n",
    "model_f1_ups.loc[len(model_f1_ups.index)] = ['RFC', best_f1_rfc, 'est - ' + str(best_estimator_rfc) + ', depth - ' + str(best_depth_rfc), best_auc_roc_rfc]\n",
    "model_f1_ups.loc[len(model_f1_ups.index)] = ['LR', f1_lr, None, best_auc_roc_lr]\n",
    "model_f1_ups['f1_ups'] = round(model_f1_ups['f1_ups'], 3)\n",
    "model_f1_ups['auc_roc'] = round(model_f1_ups['auc_roc'], 3)\n",
    "display(model_f1_ups)"
   ]
  },
  {
   "cell_type": "markdown",
   "metadata": {},
   "source": [
    "Из полученной таблицы видно, что модель случайного леса с гиперпараметрами количество деревьев 16, глубина 9, F1-мерой 0,622 превысила требуемую нам точность 0,59."
   ]
  },
  {
   "cell_type": "markdown",
   "metadata": {},
   "source": [
    "### Сравнительная таблица всех моделей"
   ]
  },
  {
   "cell_type": "code",
   "execution_count": 62,
   "metadata": {
    "scrolled": true
   },
   "outputs": [
    {
     "data": {
      "text/html": [
       "<div>\n",
       "<style scoped>\n",
       "    .dataframe tbody tr th:only-of-type {\n",
       "        vertical-align: middle;\n",
       "    }\n",
       "\n",
       "    .dataframe tbody tr th {\n",
       "        vertical-align: top;\n",
       "    }\n",
       "\n",
       "    .dataframe thead th {\n",
       "        text-align: right;\n",
       "    }\n",
       "</style>\n",
       "<table border=\"1\" class=\"dataframe\">\n",
       "  <thead>\n",
       "    <tr style=\"text-align: right;\">\n",
       "      <th></th>\n",
       "      <th>model</th>\n",
       "      <th>f1_wi</th>\n",
       "      <th>hp_x</th>\n",
       "      <th>auc_roc_x</th>\n",
       "      <th>f1_cw</th>\n",
       "      <th>hp_y</th>\n",
       "      <th>auc_roc_y</th>\n",
       "      <th>f1_ds</th>\n",
       "      <th>hp_x</th>\n",
       "      <th>auc_roc_x</th>\n",
       "      <th>f1_ups</th>\n",
       "      <th>hp_y</th>\n",
       "      <th>auc_roc_y</th>\n",
       "    </tr>\n",
       "  </thead>\n",
       "  <tbody>\n",
       "    <tr>\n",
       "      <td>0</td>\n",
       "      <td>DTC</td>\n",
       "      <td>0.586</td>\n",
       "      <td>7</td>\n",
       "      <td>0.811</td>\n",
       "      <td>0.558</td>\n",
       "      <td>6</td>\n",
       "      <td>0.832</td>\n",
       "      <td>0.555</td>\n",
       "      <td>5</td>\n",
       "      <td>0.808</td>\n",
       "      <td>0.559</td>\n",
       "      <td>6</td>\n",
       "      <td>0.832</td>\n",
       "    </tr>\n",
       "    <tr>\n",
       "      <td>1</td>\n",
       "      <td>RFC</td>\n",
       "      <td>0.552</td>\n",
       "      <td>est - 14, depth - 9</td>\n",
       "      <td>0.862</td>\n",
       "      <td>0.552</td>\n",
       "      <td>est - 14, depth - 9</td>\n",
       "      <td>0.862</td>\n",
       "      <td>0.591</td>\n",
       "      <td>est - 17, depth - 6</td>\n",
       "      <td>0.861</td>\n",
       "      <td>0.622</td>\n",
       "      <td>est - 16, depth - 9</td>\n",
       "      <td>0.860</td>\n",
       "    </tr>\n",
       "    <tr>\n",
       "      <td>2</td>\n",
       "      <td>LR</td>\n",
       "      <td>0.285</td>\n",
       "      <td>None</td>\n",
       "      <td>0.860</td>\n",
       "      <td>0.497</td>\n",
       "      <td>None</td>\n",
       "      <td>0.860</td>\n",
       "      <td>0.496</td>\n",
       "      <td>None</td>\n",
       "      <td>0.858</td>\n",
       "      <td>0.496</td>\n",
       "      <td>None</td>\n",
       "      <td>0.859</td>\n",
       "    </tr>\n",
       "  </tbody>\n",
       "</table>\n",
       "</div>"
      ],
      "text/plain": [
       "  model  f1_wi                 hp_x  auc_roc_x  f1_cw                 hp_y  \\\n",
       "0   DTC  0.586                    7      0.811  0.558                    6   \n",
       "1   RFC  0.552  est - 14, depth - 9      0.862  0.552  est - 14, depth - 9   \n",
       "2    LR  0.285                 None      0.860  0.497                 None   \n",
       "\n",
       "   auc_roc_y  f1_ds                 hp_x  auc_roc_x  f1_ups  \\\n",
       "0      0.832  0.555                    5      0.808   0.559   \n",
       "1      0.862  0.591  est - 17, depth - 6      0.861   0.622   \n",
       "2      0.860  0.496                 None      0.858   0.496   \n",
       "\n",
       "                  hp_y  auc_roc_y  \n",
       "0                    6      0.832  \n",
       "1  est - 16, depth - 9      0.860  \n",
       "2                 None      0.859  "
      ]
     },
     "execution_count": 62,
     "metadata": {},
     "output_type": "execute_result"
    }
   ],
   "source": [
    "wi_cw_ds.merge(model_f1_ups, left_on='model', right_on='model')"
   ]
  },
  {
   "cell_type": "markdown",
   "metadata": {},
   "source": [
    "Из сравнительной таблицы моделей видно, что самой лучшей моделью с мерой F1 равной 0,622 является модель случайного леса с количеством деревьев 16, глубиной 9 обученная с учётом дисбаланса методом upsampling."
   ]
  },
  {
   "cell_type": "markdown",
   "metadata": {},
   "source": [
    "## Тестирование лучшей модели"
   ]
  },
  {
   "cell_type": "code",
   "execution_count": 63,
   "metadata": {},
   "outputs": [
    {
     "name": "stdout",
     "output_type": "stream",
     "text": [
      "Значение меры F1 лучшей модели случайного леса с количеством деревьев 16, глубиной 9 на тестовой выборке: 0.607\n"
     ]
    }
   ],
   "source": [
    "test_f1_rfc = f1_score(target_test, best_model_rfc.predict(features_test))\n",
    "print('Значение меры F1 лучшей модели случайного леса с количеством деревьев 16, глубиной 9 на тестовой выборке:', \n",
    "      round(test_f1_rfc, 3))"
   ]
  },
  {
   "cell_type": "markdown",
   "metadata": {},
   "source": [
    "Лучшая модель случайного леса на тестовой выборке показала значение f1 меры 0,607, что больше целевого показателя 0,59."
   ]
  },
  {
   "cell_type": "markdown",
   "metadata": {},
   "source": [
    "## Выводы"
   ]
  },
  {
   "cell_type": "markdown",
   "metadata": {},
   "source": [
    "\n",
    "\n",
    "&emsp; В данной работе по созданию модели машинного обучения по оттоку клиентов из банка на основе исторических данных были построены модели решающего дерева, случайного леса и линейной регрессии. Для моделей решающего дерева и случайного леса был осуществлён  подбор гиперпараметров для поиска модели имеющей максимальное значение меры F1. Был учтён дисбаланс классов с использованием различных способов: способ встроенный в модели с аргументом class_weight с значением 'balanced', способ downsampling и способ upsampling.<br/>\n",
    "\n",
    "&emsp; Лучшей модель с f1 мерой 0,622 была модель случайного леса с количеством деревьев 16, глубиной деревьев 9 обученная с учётом дисбаланса методом upsamling.<br/>\n",
    "\n",
    "&emsp; Эта лучшая модель на тестовой выборке показала f1 меру 0,607, что превышает целевой показатель 0,59."
   ]
  }
 ],
 "metadata": {
  "ExecuteTimeLog": [
   {
    "duration": 1885,
    "start_time": "2022-05-17T06:38:21.320Z"
   },
   {
    "duration": 166,
    "start_time": "2022-05-17T06:38:23.207Z"
   },
   {
    "duration": 0,
    "start_time": "2022-05-17T06:38:23.375Z"
   },
   {
    "duration": 52,
    "start_time": "2022-05-17T06:38:28.579Z"
   },
   {
    "duration": 4,
    "start_time": "2022-05-17T06:39:08.835Z"
   },
   {
    "duration": 6,
    "start_time": "2022-05-17T06:39:09.840Z"
   },
   {
    "duration": 9,
    "start_time": "2022-05-17T06:39:37.093Z"
   },
   {
    "duration": 12,
    "start_time": "2022-05-17T06:39:49.618Z"
   }
  ],
  "kernelspec": {
   "display_name": "Python 3 (ipykernel)",
   "language": "python",
   "name": "python3"
  },
  "language_info": {
   "codemirror_mode": {
    "name": "ipython",
    "version": 3
   },
   "file_extension": ".py",
   "mimetype": "text/x-python",
   "name": "python",
   "nbconvert_exporter": "python",
   "pygments_lexer": "ipython3",
   "version": "3.7.8"
  },
  "toc": {
   "base_numbering": 1,
   "nav_menu": {},
   "number_sections": true,
   "sideBar": true,
   "skip_h1_title": true,
   "title_cell": "Содержание",
   "title_sidebar": "Contents",
   "toc_cell": true,
   "toc_position": {
    "height": "calc(100% - 180px)",
    "left": "10px",
    "top": "150px",
    "width": "218.009px"
   },
   "toc_section_display": true,
   "toc_window_display": true
  }
 },
 "nbformat": 4,
 "nbformat_minor": 2
}
