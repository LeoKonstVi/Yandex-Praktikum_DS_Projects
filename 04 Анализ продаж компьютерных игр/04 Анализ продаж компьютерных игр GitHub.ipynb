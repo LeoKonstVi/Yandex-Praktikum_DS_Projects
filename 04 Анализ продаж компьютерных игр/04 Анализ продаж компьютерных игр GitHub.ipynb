{
 "cells": [
  {
   "cell_type": "markdown",
   "metadata": {},
   "source": [
    "<font size=\"5\"> **Анализ продаж компьютерных игр** <font>"
   ]
  },
  {
   "cell_type": "markdown",
   "metadata": {},
   "source": [
    "Интернет-магазин «Стримчик» продаёт по всему миру компьютерные игры. Из открытых источников доступны исторические данные о продажах игр, оценки пользователей и экспертов, жанры и платформы (например, Xbox или PlayStation). Нужно выявить определяющие успешность игры закономерности. Это позволит сделать ставку на потенциально популярный продукт и спланировать рекламные кампании.\n",
    "Есть данные до 2016 года. Нужно отработать принцип работы с данными, чтобы можно было прогнозировать продажи на последующие годы."
   ]
  },
  {
   "cell_type": "markdown",
   "metadata": {
    "toc": true
   },
   "source": [
    "<h1>Оглавление:<span class=\"tocSkip\"></span></h1>\n",
    "<div class=\"toc\"><ul class=\"toc-item\"><li><span><a href=\"#Введение\" data-toc-modified-id=\"Введение-1\"><span class=\"toc-item-num\">1&nbsp;&nbsp;</span>Введение</a></span><ul class=\"toc-item\"><li><span><a href=\"#Описание-данных\" data-toc-modified-id=\"Описание-данных-1.1\"><span class=\"toc-item-num\">1.1&nbsp;&nbsp;</span>Описание данных</a></span></li><li><span><a href=\"#Инструкция-по-выполнению-проекта\" data-toc-modified-id=\"Инструкция-по-выполнению-проекта-1.2\"><span class=\"toc-item-num\">1.2&nbsp;&nbsp;</span>Инструкция по выполнению проекта</a></span></li></ul></li><li><span><a href=\"#Импорт-библиотек\" data-toc-modified-id=\"Импорт-библиотек-2\"><span class=\"toc-item-num\">2&nbsp;&nbsp;</span>Импорт библиотек</a></span></li><li><span><a href=\"#Считывание-и-просмотр-данных\" data-toc-modified-id=\"Считывание-и-просмотр-данных-3\"><span class=\"toc-item-num\">3&nbsp;&nbsp;</span>Считывание и просмотр данных</a></span></li><li><span><a href=\"#Предобработка\" data-toc-modified-id=\"Предобработка-4\"><span class=\"toc-item-num\">4&nbsp;&nbsp;</span>Предобработка</a></span><ul class=\"toc-item\"><li><span><a href=\"#Приведение-названий-столбцов-к-нижнему-регистру\" data-toc-modified-id=\"Приведение-названий-столбцов-к-нижнему-регистру-4.1\"><span class=\"toc-item-num\">4.1&nbsp;&nbsp;</span>Приведение названий столбцов к нижнему регистру</a></span></li><li><span><a href=\"#Проверка-на-дубликаты\" data-toc-modified-id=\"Проверка-на-дубликаты-4.2\"><span class=\"toc-item-num\">4.2&nbsp;&nbsp;</span>Проверка на дубликаты</a></span></li><li><span><a href=\"#Обработка-пустых-значений\" data-toc-modified-id=\"Обработка-пустых-значений-4.3\"><span class=\"toc-item-num\">4.3&nbsp;&nbsp;</span>Обработка пустых значений</a></span></li><li><span><a href=\"#Столбец-year_of_release\" data-toc-modified-id=\"Столбец-year_of_release-4.4\"><span class=\"toc-item-num\">4.4&nbsp;&nbsp;</span>Столбец year_of_release</a></span></li><li><span><a href=\"#Столбец-rating\" data-toc-modified-id=\"Столбец-rating-4.5\"><span class=\"toc-item-num\">4.5&nbsp;&nbsp;</span>Столбец rating</a></span></li><li><span><a href=\"#Столбец-genre\" data-toc-modified-id=\"Столбец-genre-4.6\"><span class=\"toc-item-num\">4.6&nbsp;&nbsp;</span>Столбец genre</a></span></li><li><span><a href=\"#Столбец-user_score\" data-toc-modified-id=\"Столбец-user_score-4.7\"><span class=\"toc-item-num\">4.7&nbsp;&nbsp;</span>Столбец user_score</a></span></li><li><span><a href=\"#Создание-столбца-sales-продажи-по-всем-регионам\" data-toc-modified-id=\"Создание-столбца-sales-продажи-по-всем-регионам-4.8\"><span class=\"toc-item-num\">4.8&nbsp;&nbsp;</span>Создание столбца sales продажи по всем регионам</a></span></li></ul></li><li><span><a href=\"#Исследовательский-анализ\" data-toc-modified-id=\"Исследовательский-анализ-5\"><span class=\"toc-item-num\">5&nbsp;&nbsp;</span>Исследовательский анализ</a></span><ul class=\"toc-item\"><li><span><a href=\"#Выпуск-игр-по-годам\" data-toc-modified-id=\"Выпуск-игр-по-годам-5.1\"><span class=\"toc-item-num\">5.1&nbsp;&nbsp;</span>Выпуск игр по годам</a></span></li><li><span><a href=\"#Продажи-по-годам\" data-toc-modified-id=\"Продажи-по-годам-5.2\"><span class=\"toc-item-num\">5.2&nbsp;&nbsp;</span>Продажи по годам</a></span></li><li><span><a href=\"#Характерный-срок-существования-платформ\" data-toc-modified-id=\"Характерный-срок-существования-платформ-5.3\"><span class=\"toc-item-num\">5.3&nbsp;&nbsp;</span>Характерный срок существования платформ</a></span></li><li><span><a href=\"#Платформы-существующие-в-текущий-период-и-их-динамика\" data-toc-modified-id=\"Платформы-существующие-в-текущий-период-и-их-динамика-5.4\"><span class=\"toc-item-num\">5.4&nbsp;&nbsp;</span>Платформы существующие в текущий период и их динамика</a></span></li><li><span><a href=\"#Статистический-анализ-продаж-3-х-ведущих-платформ-3DS,-PS4-и-XOne\" data-toc-modified-id=\"Статистический-анализ-продаж-3-х-ведущих-платформ-3DS,-PS4-и-XOne-5.5\"><span class=\"toc-item-num\">5.5&nbsp;&nbsp;</span>Статистический анализ продаж 3-х ведущих платформ 3DS, PS4 и XOne</a></span></li><li><span><a href=\"#Влияние-отзывов-пользователей-и-критиков-на-продажи-популярных-современных-платформ\" data-toc-modified-id=\"Влияние-отзывов-пользователей-и-критиков-на-продажи-популярных-современных-платформ-5.6\"><span class=\"toc-item-num\">5.6&nbsp;&nbsp;</span>Влияние отзывов пользователей и критиков на продажи популярных современных платформ</a></span><ul class=\"toc-item\"><li><span><a href=\"#PS4-самая-популярная-современная-платформа\" data-toc-modified-id=\"PS4-самая-популярная-современная-платформа-5.6.1\"><span class=\"toc-item-num\">5.6.1&nbsp;&nbsp;</span>PS4 самая популярная современная платформа</a></span></li><li><span><a href=\"#XOne\" data-toc-modified-id=\"XOne-5.6.2\"><span class=\"toc-item-num\">5.6.2&nbsp;&nbsp;</span>XOne</a></span></li><li><span><a href=\"#3DS\" data-toc-modified-id=\"3DS-5.6.3\"><span class=\"toc-item-num\">5.6.3&nbsp;&nbsp;</span>3DS</a></span></li><li><span><a href=\"#Вывод\" data-toc-modified-id=\"Вывод-5.6.4\"><span class=\"toc-item-num\">5.6.4&nbsp;&nbsp;</span>Вывод</a></span></li></ul></li><li><span><a href=\"#Распределение-игр-по-жанрам-за-актуальный-период\" data-toc-modified-id=\"Распределение-игр-по-жанрам-за-актуальный-период-5.7\"><span class=\"toc-item-num\">5.7&nbsp;&nbsp;</span>Распределение игр по жанрам за актуальный период</a></span></li></ul></li><li><span><a href=\"#Профиль-продаж-каждого-региона-за-актуальный-период\" data-toc-modified-id=\"Профиль-продаж-каждого-региона-за-актуальный-период-6\"><span class=\"toc-item-num\">6&nbsp;&nbsp;</span>Профиль продаж каждого региона за актуальный период</a></span><ul class=\"toc-item\"><li><span><a href=\"#TOP5-платформ-в-различных-регионах-продаж-за-актуальный-период\" data-toc-modified-id=\"TOP5-платформ-в-различных-регионах-продаж-за-актуальный-период-6.1\"><span class=\"toc-item-num\">6.1&nbsp;&nbsp;</span>TOP5 платформ в различных регионах продаж за актуальный период</a></span><ul class=\"toc-item\"><li><span><a href=\"#NA-Северная-америка\" data-toc-modified-id=\"NA-Северная-америка-6.1.1\"><span class=\"toc-item-num\">6.1.1&nbsp;&nbsp;</span>NA Северная америка</a></span></li><li><span><a href=\"#EU-Европа\" data-toc-modified-id=\"EU-Европа-6.1.2\"><span class=\"toc-item-num\">6.1.2&nbsp;&nbsp;</span>EU Европа</a></span></li><li><span><a href=\"#JP-Япония\" data-toc-modified-id=\"JP-Япония-6.1.3\"><span class=\"toc-item-num\">6.1.3&nbsp;&nbsp;</span>JP Япония</a></span></li><li><span><a href=\"#Сравнение-TOP5-платформ-разных-регионов\" data-toc-modified-id=\"Сравнение-TOP5-платформ-разных-регионов-6.1.4\"><span class=\"toc-item-num\">6.1.4&nbsp;&nbsp;</span>Сравнение TOP5 платформ разных регионов</a></span></li></ul></li><li><span><a href=\"#TOP5-жанров-в-различных-регионах-продаж-за-актуальный-период\" data-toc-modified-id=\"TOP5-жанров-в-различных-регионах-продаж-за-актуальный-период-6.2\"><span class=\"toc-item-num\">6.2&nbsp;&nbsp;</span>TOP5 жанров в различных регионах продаж за актуальный период</a></span><ul class=\"toc-item\"><li><span><a href=\"#NA\" data-toc-modified-id=\"NA-6.2.1\"><span class=\"toc-item-num\">6.2.1&nbsp;&nbsp;</span>NA</a></span></li><li><span><a href=\"#EU\" data-toc-modified-id=\"EU-6.2.2\"><span class=\"toc-item-num\">6.2.2&nbsp;&nbsp;</span>EU</a></span></li><li><span><a href=\"#JP\" data-toc-modified-id=\"JP-6.2.3\"><span class=\"toc-item-num\">6.2.3&nbsp;&nbsp;</span>JP</a></span></li><li><span><a href=\"#Сравнение-TOP5-жанров-в-разных-регионах\" data-toc-modified-id=\"Сравнение-TOP5-жанров-в-разных-регионах-6.2.4\"><span class=\"toc-item-num\">6.2.4&nbsp;&nbsp;</span>Сравнение TOP5 жанров в разных регионах</a></span></li></ul></li><li><span><a href=\"#Структура-продаж-по-классификатору-ESRB-в-разных-регионах-за-актуальный-период\" data-toc-modified-id=\"Структура-продаж-по-классификатору-ESRB-в-разных-регионах-за-актуальный-период-6.3\"><span class=\"toc-item-num\">6.3&nbsp;&nbsp;</span>Структура продаж по классификатору ESRB в разных регионах за актуальный период</a></span><ul class=\"toc-item\"><li><span><a href=\"#NA-Северная-америка\" data-toc-modified-id=\"NA-Северная-америка-6.3.1\"><span class=\"toc-item-num\">6.3.1&nbsp;&nbsp;</span>NA Северная америка</a></span></li><li><span><a href=\"#EU-Европа\" data-toc-modified-id=\"EU-Европа-6.3.2\"><span class=\"toc-item-num\">6.3.2&nbsp;&nbsp;</span>EU Европа</a></span></li><li><span><a href=\"#JP-Япония\" data-toc-modified-id=\"JP-Япония-6.3.3\"><span class=\"toc-item-num\">6.3.3&nbsp;&nbsp;</span>JP Япония</a></span></li><li><span><a href=\"#Сравнение-продаж-по-ESRB-классификации-для-разных-регионов\" data-toc-modified-id=\"Сравнение-продаж-по-ESRB-классификации-для-разных-регионов-6.3.4\"><span class=\"toc-item-num\">6.3.4&nbsp;&nbsp;</span>Сравнение продаж по ESRB классификации для разных регионов</a></span></li></ul></li></ul></li><li><span><a href=\"#Проверка-гипотез-для-актуального-периода\" data-toc-modified-id=\"Проверка-гипотез-для-актуального-периода-7\"><span class=\"toc-item-num\">7&nbsp;&nbsp;</span>Проверка гипотез для актуального периода</a></span><ul class=\"toc-item\"><li><span><a href=\"#Средние-пользовательских-рейтингов-платформ-Xbox-One-и-PC-одинаковые\" data-toc-modified-id=\"Средние-пользовательских-рейтингов-платформ-Xbox-One-и-PC-одинаковые-7.1\"><span class=\"toc-item-num\">7.1&nbsp;&nbsp;</span>Средние пользовательских рейтингов платформ Xbox One и PC одинаковые</a></span></li><li><span><a href=\"#Средние-пользовательских-рейтингов-жанров-Action-и-Sports-разные.\" data-toc-modified-id=\"Средние-пользовательских-рейтингов-жанров-Action-и-Sports-разные.-7.2\"><span class=\"toc-item-num\">7.2&nbsp;&nbsp;</span>Средние пользовательских рейтингов жанров Action и Sports разные.</a></span></li></ul></li><li><span><a href=\"#Выводы\" data-toc-modified-id=\"Выводы-8\"><span class=\"toc-item-num\">8&nbsp;&nbsp;</span>Выводы</a></span></li></ul></div>"
   ]
  },
  {
   "cell_type": "markdown",
   "metadata": {},
   "source": [
    "## Введение"
   ]
  },
  {
   "cell_type": "markdown",
   "metadata": {},
   "source": [
    "### Описание данных"
   ]
  },
  {
   "cell_type": "markdown",
   "metadata": {},
   "source": [
    "+ Name — название игры\n",
    "+ Platform — платформа\n",
    "+ Year_of_Release — год выпуска\n",
    "+ Genre — жанр игры\n",
    "+ NA_sales — продажи в Северной Америке (миллионы проданных копий)\n",
    "+ EU_sales — продажи в Европе (миллионы проданных копий)\n",
    "+ JP_sales — продажи в Японии (миллионы проданных копий)\n",
    "+ Other_sales — продажи в других странах (миллионы проданных копий)\n",
    "+ Critic_Score — оценка критиков (максимум 100)\n",
    "+ User_Score — оценка пользователей (максимум 10)\n",
    "+ Rating — рейтинг от организации ESRB (англ. Entertainment Software Rating Board). Эта ассоциация определяет рейтинг компьютерных игр и присваивает им подходящую возрастную категорию.\n",
    "\n",
    "Данные за 2016 год могут быть неполными."
   ]
  },
  {
   "cell_type": "markdown",
   "metadata": {},
   "source": [
    "### Инструкция по выполнению проекта"
   ]
  },
  {
   "cell_type": "markdown",
   "metadata": {},
   "source": [
    "Шаг 1. Откройте файл с данными и изучите общую информацию\n",
    "\n",
    "Шаг 2. Подготовьте данные\n",
    "\n",
    "+ Замените названия столбцов (приведите к нижнему регистру);\n",
    "+ Преобразуйте данные в нужные типы. Опишите, в каких столбцах заменили тип данных и почему;\n",
    "+ Обработайте пропуски при необходимости:\n",
    "  + Объясните, почему заполнили пропуски определённым образом или почему не стали это делать;\n",
    "  +\tОпишите причины, которые могли привести к пропускам;\n",
    "  + Обратите внимание на аббревиатуру 'tbd' в столбцах с рейтингом. Отдельно разберите это значение и опишите, как его обработать;\n",
    "+ Посчитайте суммарные продажи во всех регионах и запишите их в отдельный столбец.\n",
    "\n",
    "Шаг 3. Проведите исследовательский анализ данных\n",
    "\n",
    "+ Посмотрите, сколько игр выпускалось в разные годы. Важны ли данные за все периоды?\n",
    "+ Посмотрите, как менялись продажи по платформам. Выберите платформы с наибольшими суммарными продажами и постройте распределение по годам. За какой характерный срок появляются новые и исчезают старые платформы?\n",
    "+ Возьмите данные за соответствующий актуальный период. Актуальный период определите самостоятельно в результате исследования предыдущих вопросов. Основной фактор — эти данные помогут построить прогноз на 2017 год.\n",
    "+ Не учитывайте в работе данные за предыдущие годы.\n",
    "+ Какие платформы лидируют по продажам, растут или падают? Выберите несколько потенциально прибыльных платформ.\n",
    "+ Постройте график «ящик с усами» по глобальным продажам игр в разбивке по платформам. Опишите результат.\n",
    "+ Посмотрите, как влияют на продажи внутри одной популярной платформы отзывы пользователей и критиков. Постройте диаграмму рассеяния и посчитайте корреляцию между отзывами и продажами. Сформулируйте выводы.\n",
    "+ Соотнесите выводы с продажами игр на других платформах.\n",
    "+ Посмотрите на общее распределение игр по жанрам. Что можно сказать о самых прибыльных жанрах? Выделяются ли жанры с высокими и низкими продажами?\n",
    "\n",
    "Шаг 4. Составьте портрет пользователя каждого региона\n",
    "\n",
    "Определите для пользователя каждого региона (NA, EU, JP):\n",
    "\n",
    "+ Самые популярные платформы (топ-5). Опишите различия в долях продаж.\n",
    "+ Самые популярные жанры (топ-5). Поясните разницу.\n",
    "+ Влияет ли рейтинг ESRB на продажи в отдельном регионе?\n",
    "\n",
    "Шаг 5. Проверьте гипотезы\n",
    "\n",
    "+ Средние пользовательские рейтинги платформ Xbox One и PC одинаковые;\n",
    "+ Средние пользовательские рейтинги жанров Action (англ. «действие», экшен-игры) и Sports (англ. «спортивные соревнования») разные.\n",
    "\n",
    "Задайте самостоятельно пороговое значение alpha.\n",
    "\n",
    "Поясните:\n",
    "+ Как вы сформулировали нулевую и альтернативную гипотезы;\n",
    "+ Какой критерий применили для проверки гипотез и почему."
   ]
  },
  {
   "cell_type": "markdown",
   "metadata": {},
   "source": [
    "## Импорт библиотек"
   ]
  },
  {
   "cell_type": "code",
   "execution_count": 1,
   "metadata": {
    "collapsed": true
   },
   "outputs": [
    {
     "name": "stderr",
     "output_type": "stream",
     "text": [
      "\n",
      "Bad key text.latex.preview in file C:\\Users\\11931\\anaconda3\\envs\\praktikum_env_win_new\\lib\\site-packages\\matplotlib\\mpl-data\\stylelib\\_classic_test.mplstyle, line 123 ('text.latex.preview : False')\n",
      "You probably need to get an updated matplotlibrc file from\n",
      "https://github.com/matplotlib/matplotlib/blob/v3.5.2/matplotlibrc.template\n",
      "or from the matplotlib source distribution\n",
      "\n",
      "Bad key mathtext.fallback_to_cm in file C:\\Users\\11931\\anaconda3\\envs\\praktikum_env_win_new\\lib\\site-packages\\matplotlib\\mpl-data\\stylelib\\_classic_test.mplstyle, line 155 ('mathtext.fallback_to_cm : True  # When True, use symbols from the Computer Modern')\n",
      "You probably need to get an updated matplotlibrc file from\n",
      "https://github.com/matplotlib/matplotlib/blob/v3.5.2/matplotlibrc.template\n",
      "or from the matplotlib source distribution\n",
      "\n",
      "Bad key savefig.jpeg_quality in file C:\\Users\\11931\\anaconda3\\envs\\praktikum_env_win_new\\lib\\site-packages\\matplotlib\\mpl-data\\stylelib\\_classic_test.mplstyle, line 418 ('savefig.jpeg_quality: 95       # when a jpeg is saved, the default quality parameter.')\n",
      "You probably need to get an updated matplotlibrc file from\n",
      "https://github.com/matplotlib/matplotlib/blob/v3.5.2/matplotlibrc.template\n",
      "or from the matplotlib source distribution\n",
      "\n",
      "Bad key keymap.all_axes in file C:\\Users\\11931\\anaconda3\\envs\\praktikum_env_win_new\\lib\\site-packages\\matplotlib\\mpl-data\\stylelib\\_classic_test.mplstyle, line 466 ('keymap.all_axes : a                 # enable all axes')\n",
      "You probably need to get an updated matplotlibrc file from\n",
      "https://github.com/matplotlib/matplotlib/blob/v3.5.2/matplotlibrc.template\n",
      "or from the matplotlib source distribution\n",
      "\n",
      "Bad key animation.avconv_path in file C:\\Users\\11931\\anaconda3\\envs\\praktikum_env_win_new\\lib\\site-packages\\matplotlib\\mpl-data\\stylelib\\_classic_test.mplstyle, line 477 ('animation.avconv_path: avconv     # Path to avconv binary. Without full path')\n",
      "You probably need to get an updated matplotlibrc file from\n",
      "https://github.com/matplotlib/matplotlib/blob/v3.5.2/matplotlibrc.template\n",
      "or from the matplotlib source distribution\n",
      "\n",
      "Bad key animation.avconv_args in file C:\\Users\\11931\\anaconda3\\envs\\praktikum_env_win_new\\lib\\site-packages\\matplotlib\\mpl-data\\stylelib\\_classic_test.mplstyle, line 479 ('animation.avconv_args:            # Additional arguments to pass to avconv')\n",
      "You probably need to get an updated matplotlibrc file from\n",
      "https://github.com/matplotlib/matplotlib/blob/v3.5.2/matplotlibrc.template\n",
      "or from the matplotlib source distribution\n"
     ]
    }
   ],
   "source": [
    "import pandas as pd\n",
    "import matplotlib.pyplot as plt\n",
    "from scipy import stats as st\n",
    "import numpy as np\n",
    "\n",
    "import warnings\n",
    "warnings.filterwarnings('ignore')\n",
    "\n",
    "pd.set_option('display.max_columns', None)"
   ]
  },
  {
   "cell_type": "markdown",
   "metadata": {},
   "source": [
    "## Считывание и просмотр данных"
   ]
  },
  {
   "cell_type": "code",
   "execution_count": 2,
   "metadata": {
    "scrolled": true
   },
   "outputs": [],
   "source": [
    "try:\n",
    "    data = pd.read_csv('datasets/games.csv')\n",
    "except:\n",
    "    data = pd.read_csv('/datasets/games.csv')"
   ]
  },
  {
   "cell_type": "code",
   "execution_count": 3,
   "metadata": {},
   "outputs": [
    {
     "data": {
      "text/html": [
       "<div>\n",
       "<style scoped>\n",
       "    .dataframe tbody tr th:only-of-type {\n",
       "        vertical-align: middle;\n",
       "    }\n",
       "\n",
       "    .dataframe tbody tr th {\n",
       "        vertical-align: top;\n",
       "    }\n",
       "\n",
       "    .dataframe thead th {\n",
       "        text-align: right;\n",
       "    }\n",
       "</style>\n",
       "<table border=\"1\" class=\"dataframe\">\n",
       "  <thead>\n",
       "    <tr style=\"text-align: right;\">\n",
       "      <th></th>\n",
       "      <th>Name</th>\n",
       "      <th>Platform</th>\n",
       "      <th>Year_of_Release</th>\n",
       "      <th>Genre</th>\n",
       "      <th>NA_sales</th>\n",
       "      <th>EU_sales</th>\n",
       "      <th>JP_sales</th>\n",
       "      <th>Other_sales</th>\n",
       "      <th>Critic_Score</th>\n",
       "      <th>User_Score</th>\n",
       "      <th>Rating</th>\n",
       "    </tr>\n",
       "  </thead>\n",
       "  <tbody>\n",
       "    <tr>\n",
       "      <th>0</th>\n",
       "      <td>Wii Sports</td>\n",
       "      <td>Wii</td>\n",
       "      <td>2006.0</td>\n",
       "      <td>Sports</td>\n",
       "      <td>41.36</td>\n",
       "      <td>28.96</td>\n",
       "      <td>3.77</td>\n",
       "      <td>8.45</td>\n",
       "      <td>76.0</td>\n",
       "      <td>8</td>\n",
       "      <td>E</td>\n",
       "    </tr>\n",
       "    <tr>\n",
       "      <th>1</th>\n",
       "      <td>Super Mario Bros.</td>\n",
       "      <td>NES</td>\n",
       "      <td>1985.0</td>\n",
       "      <td>Platform</td>\n",
       "      <td>29.08</td>\n",
       "      <td>3.58</td>\n",
       "      <td>6.81</td>\n",
       "      <td>0.77</td>\n",
       "      <td>NaN</td>\n",
       "      <td>NaN</td>\n",
       "      <td>NaN</td>\n",
       "    </tr>\n",
       "    <tr>\n",
       "      <th>2</th>\n",
       "      <td>Mario Kart Wii</td>\n",
       "      <td>Wii</td>\n",
       "      <td>2008.0</td>\n",
       "      <td>Racing</td>\n",
       "      <td>15.68</td>\n",
       "      <td>12.76</td>\n",
       "      <td>3.79</td>\n",
       "      <td>3.29</td>\n",
       "      <td>82.0</td>\n",
       "      <td>8.3</td>\n",
       "      <td>E</td>\n",
       "    </tr>\n",
       "    <tr>\n",
       "      <th>3</th>\n",
       "      <td>Wii Sports Resort</td>\n",
       "      <td>Wii</td>\n",
       "      <td>2009.0</td>\n",
       "      <td>Sports</td>\n",
       "      <td>15.61</td>\n",
       "      <td>10.93</td>\n",
       "      <td>3.28</td>\n",
       "      <td>2.95</td>\n",
       "      <td>80.0</td>\n",
       "      <td>8</td>\n",
       "      <td>E</td>\n",
       "    </tr>\n",
       "    <tr>\n",
       "      <th>4</th>\n",
       "      <td>Pokemon Red/Pokemon Blue</td>\n",
       "      <td>GB</td>\n",
       "      <td>1996.0</td>\n",
       "      <td>Role-Playing</td>\n",
       "      <td>11.27</td>\n",
       "      <td>8.89</td>\n",
       "      <td>10.22</td>\n",
       "      <td>1.00</td>\n",
       "      <td>NaN</td>\n",
       "      <td>NaN</td>\n",
       "      <td>NaN</td>\n",
       "    </tr>\n",
       "  </tbody>\n",
       "</table>\n",
       "</div>"
      ],
      "text/plain": [
       "                       Name Platform  Year_of_Release         Genre  NA_sales  \\\n",
       "0                Wii Sports      Wii           2006.0        Sports     41.36   \n",
       "1         Super Mario Bros.      NES           1985.0      Platform     29.08   \n",
       "2            Mario Kart Wii      Wii           2008.0        Racing     15.68   \n",
       "3         Wii Sports Resort      Wii           2009.0        Sports     15.61   \n",
       "4  Pokemon Red/Pokemon Blue       GB           1996.0  Role-Playing     11.27   \n",
       "\n",
       "   EU_sales  JP_sales  Other_sales  Critic_Score User_Score Rating  \n",
       "0     28.96      3.77         8.45          76.0          8      E  \n",
       "1      3.58      6.81         0.77           NaN        NaN    NaN  \n",
       "2     12.76      3.79         3.29          82.0        8.3      E  \n",
       "3     10.93      3.28         2.95          80.0          8      E  \n",
       "4      8.89     10.22         1.00           NaN        NaN    NaN  "
      ]
     },
     "metadata": {},
     "output_type": "display_data"
    }
   ],
   "source": [
    "display(data.head())"
   ]
  },
  {
   "cell_type": "code",
   "execution_count": 4,
   "metadata": {
    "scrolled": false
   },
   "outputs": [
    {
     "name": "stdout",
     "output_type": "stream",
     "text": [
      "<class 'pandas.core.frame.DataFrame'>\n",
      "RangeIndex: 16715 entries, 0 to 16714\n",
      "Data columns (total 11 columns):\n",
      " #   Column           Non-Null Count  Dtype  \n",
      "---  ------           --------------  -----  \n",
      " 0   Name             16713 non-null  object \n",
      " 1   Platform         16715 non-null  object \n",
      " 2   Year_of_Release  16446 non-null  float64\n",
      " 3   Genre            16713 non-null  object \n",
      " 4   NA_sales         16715 non-null  float64\n",
      " 5   EU_sales         16715 non-null  float64\n",
      " 6   JP_sales         16715 non-null  float64\n",
      " 7   Other_sales      16715 non-null  float64\n",
      " 8   Critic_Score     8137 non-null   float64\n",
      " 9   User_Score       10014 non-null  object \n",
      " 10  Rating           9949 non-null   object \n",
      "dtypes: float64(6), object(5)\n",
      "memory usage: 1.4+ MB\n"
     ]
    }
   ],
   "source": [
    "data.info()"
   ]
  },
  {
   "cell_type": "markdown",
   "metadata": {},
   "source": [
    "Выводы:\n",
    "+ Названия столбцов содержат заглавные буквы, что не соотвествуют PEP8. Необходимо привести названия в нижний регистр\n",
    "+ В столбцах 'Name', 'Year_of_Release', 'Genre', 'Critic_Score', 'User_Score', 'Rating' есть пропуски. Необходимо их обработать\n",
    "+ Тип данных Year_of_Release float64 необходимо заменить на int\n",
    "+ Тип данных User_score object нужно заменить на float"
   ]
  },
  {
   "cell_type": "markdown",
   "metadata": {},
   "source": [
    "## Предобработка"
   ]
  },
  {
   "cell_type": "markdown",
   "metadata": {},
   "source": [
    "### Приведение названий столбцов к нижнему регистру"
   ]
  },
  {
   "cell_type": "code",
   "execution_count": 5,
   "metadata": {},
   "outputs": [
    {
     "data": {
      "text/plain": [
       "Index(['Name', 'Platform', 'Year_of_Release', 'Genre', 'NA_sales', 'EU_sales',\n",
       "       'JP_sales', 'Other_sales', 'Critic_Score', 'User_Score', 'Rating'],\n",
       "      dtype='object')"
      ]
     },
     "execution_count": 5,
     "metadata": {},
     "output_type": "execute_result"
    }
   ],
   "source": [
    "data.columns"
   ]
  },
  {
   "cell_type": "code",
   "execution_count": 6,
   "metadata": {
    "scrolled": true
   },
   "outputs": [
    {
     "data": {
      "text/plain": [
       "Index(['name', 'platform', 'year_of_release', 'genre', 'na_sales', 'eu_sales',\n",
       "       'jp_sales', 'other_sales', 'critic_score', 'user_score', 'rating'],\n",
       "      dtype='object')"
      ]
     },
     "execution_count": 6,
     "metadata": {},
     "output_type": "execute_result"
    }
   ],
   "source": [
    "# приведение названий столбцов к нижнему регистру\n",
    "data.columns = data.columns.str.lower()\n",
    "data.columns"
   ]
  },
  {
   "cell_type": "code",
   "execution_count": 7,
   "metadata": {},
   "outputs": [
    {
     "data": {
      "text/plain": [
       "'88.3'"
      ]
     },
     "execution_count": 7,
     "metadata": {},
     "output_type": "execute_result"
    }
   ],
   "source": [
    "data.loc[0, 'user_score'] + data.loc[2, 'user_score']"
   ]
  },
  {
   "cell_type": "markdown",
   "metadata": {},
   "source": [
    "### Проверка на дубликаты"
   ]
  },
  {
   "cell_type": "code",
   "execution_count": 8,
   "metadata": {},
   "outputs": [
    {
     "data": {
      "text/plain": [
       "0"
      ]
     },
     "execution_count": 8,
     "metadata": {},
     "output_type": "execute_result"
    }
   ],
   "source": [
    "data.duplicated().sum()"
   ]
  },
  {
   "cell_type": "markdown",
   "metadata": {},
   "source": [
    "Явных дубликатов не обнаружено."
   ]
  },
  {
   "cell_type": "markdown",
   "metadata": {},
   "source": [
    "### Обработка пустых значений"
   ]
  },
  {
   "cell_type": "markdown",
   "metadata": {},
   "source": [
    "Таблица с количеством и долей пустых значений по столбцам."
   ]
  },
  {
   "cell_type": "code",
   "execution_count": 9,
   "metadata": {},
   "outputs": [
    {
     "data": {
      "text/html": [
       "<div>\n",
       "<style scoped>\n",
       "    .dataframe tbody tr th:only-of-type {\n",
       "        vertical-align: middle;\n",
       "    }\n",
       "\n",
       "    .dataframe tbody tr th {\n",
       "        vertical-align: top;\n",
       "    }\n",
       "\n",
       "    .dataframe thead th {\n",
       "        text-align: right;\n",
       "    }\n",
       "</style>\n",
       "<table border=\"1\" class=\"dataframe\">\n",
       "  <thead>\n",
       "    <tr style=\"text-align: right;\">\n",
       "      <th></th>\n",
       "      <th>nan_count</th>\n",
       "      <th>nan_ratio</th>\n",
       "    </tr>\n",
       "  </thead>\n",
       "  <tbody>\n",
       "    <tr>\n",
       "      <th>name</th>\n",
       "      <td>2</td>\n",
       "      <td>0.0</td>\n",
       "    </tr>\n",
       "    <tr>\n",
       "      <th>platform</th>\n",
       "      <td>0</td>\n",
       "      <td>0.0</td>\n",
       "    </tr>\n",
       "    <tr>\n",
       "      <th>year_of_release</th>\n",
       "      <td>269</td>\n",
       "      <td>1.6</td>\n",
       "    </tr>\n",
       "    <tr>\n",
       "      <th>genre</th>\n",
       "      <td>2</td>\n",
       "      <td>0.0</td>\n",
       "    </tr>\n",
       "    <tr>\n",
       "      <th>na_sales</th>\n",
       "      <td>0</td>\n",
       "      <td>0.0</td>\n",
       "    </tr>\n",
       "    <tr>\n",
       "      <th>eu_sales</th>\n",
       "      <td>0</td>\n",
       "      <td>0.0</td>\n",
       "    </tr>\n",
       "    <tr>\n",
       "      <th>jp_sales</th>\n",
       "      <td>0</td>\n",
       "      <td>0.0</td>\n",
       "    </tr>\n",
       "    <tr>\n",
       "      <th>other_sales</th>\n",
       "      <td>0</td>\n",
       "      <td>0.0</td>\n",
       "    </tr>\n",
       "    <tr>\n",
       "      <th>critic_score</th>\n",
       "      <td>8578</td>\n",
       "      <td>51.3</td>\n",
       "    </tr>\n",
       "    <tr>\n",
       "      <th>user_score</th>\n",
       "      <td>6701</td>\n",
       "      <td>40.1</td>\n",
       "    </tr>\n",
       "    <tr>\n",
       "      <th>rating</th>\n",
       "      <td>6766</td>\n",
       "      <td>40.5</td>\n",
       "    </tr>\n",
       "  </tbody>\n",
       "</table>\n",
       "</div>"
      ],
      "text/plain": [
       "                 nan_count  nan_ratio\n",
       "name                     2        0.0\n",
       "platform                 0        0.0\n",
       "year_of_release        269        1.6\n",
       "genre                    2        0.0\n",
       "na_sales                 0        0.0\n",
       "eu_sales                 0        0.0\n",
       "jp_sales                 0        0.0\n",
       "other_sales              0        0.0\n",
       "critic_score          8578       51.3\n",
       "user_score            6701       40.1\n",
       "rating                6766       40.5"
      ]
     },
     "execution_count": 9,
     "metadata": {},
     "output_type": "execute_result"
    }
   ],
   "source": [
    "data_isna_dict = {'nan_count':data.isna().sum(), \n",
    "                  'nan_ratio':round(data.isna().mean() * 100, 1)}\n",
    "pd.DataFrame(data_isna_dict)"
   ]
  },
  {
   "cell_type": "markdown",
   "metadata": {},
   "source": [
    "Пропуски есть в 5 столбцах: name - 2, genre - 2, year_of_release - 269 (1,6%), critic_score - 8578 (51.3%), user_score - 6701 (40,1%), rating - 6766 (40,5%)."
   ]
  },
  {
   "cell_type": "markdown",
   "metadata": {},
   "source": [
    "В столбцах name и genre всего по 2 пропуска, удалим их. В столбце year_of_release доля пропусков составляет 1,6%. Это незначительное количество, удалим эти строки."
   ]
  },
  {
   "cell_type": "code",
   "execution_count": 10,
   "metadata": {
    "scrolled": true
   },
   "outputs": [
    {
     "data": {
      "text/plain": [
       "name                  0\n",
       "platform              0\n",
       "year_of_release       0\n",
       "genre                 0\n",
       "na_sales              0\n",
       "eu_sales              0\n",
       "jp_sales              0\n",
       "other_sales           0\n",
       "critic_score       8461\n",
       "user_score         6605\n",
       "rating             6676\n",
       "dtype: int64"
      ]
     },
     "execution_count": 10,
     "metadata": {},
     "output_type": "execute_result"
    }
   ],
   "source": [
    "#удаление строк с пустыми значениями в столбцах 'name', 'genre', 'year_of_release'\n",
    "data = data.dropna(subset=['name', 'genre', 'year_of_release'])\n",
    "data.isna().sum()"
   ]
  },
  {
   "cell_type": "markdown",
   "metadata": {},
   "source": [
    "В остальных столбцах пока оставим пропуски, так как их значительное количество и при их удалении удалятся полезные данных в других столбцах. Обработаем эти пропуски при исследовании данных по этим столбцам."
   ]
  },
  {
   "cell_type": "markdown",
   "metadata": {},
   "source": [
    "### Столбец year_of_release"
   ]
  },
  {
   "cell_type": "markdown",
   "metadata": {
    "scrolled": true
   },
   "source": [
    "Изменение типа данных столбца year_of_releas с float на int"
   ]
  },
  {
   "cell_type": "code",
   "execution_count": 11,
   "metadata": {},
   "outputs": [
    {
     "data": {
      "text/plain": [
       "0    2006\n",
       "1    1985\n",
       "2    2008\n",
       "3    2009\n",
       "4    1996\n",
       "Name: year_of_release, dtype: int32"
      ]
     },
     "execution_count": 11,
     "metadata": {},
     "output_type": "execute_result"
    }
   ],
   "source": [
    "data['year_of_release'] = data['year_of_release'].astype('int')\n",
    "data['year_of_release'].head()"
   ]
  },
  {
   "cell_type": "markdown",
   "metadata": {},
   "source": [
    "### Столбец rating"
   ]
  },
  {
   "cell_type": "markdown",
   "metadata": {},
   "source": [
    "Просмотр уникальных значений и их количества в столбце rating."
   ]
  },
  {
   "cell_type": "code",
   "execution_count": 12,
   "metadata": {
    "scrolled": false
   },
   "outputs": [
    {
     "data": {
      "text/plain": [
       "E       3921\n",
       "T       2905\n",
       "M       1536\n",
       "E10+    1393\n",
       "EC         8\n",
       "K-A        3\n",
       "AO         1\n",
       "RP         1\n",
       "Name: rating, dtype: int64"
      ]
     },
     "execution_count": 12,
     "metadata": {},
     "output_type": "execute_result"
    }
   ],
   "source": [
    "data['rating'].value_counts()"
   ]
  },
  {
   "cell_type": "markdown",
   "metadata": {},
   "source": [
    "Рейтинг K-A имеется всего в 3-х строках. Этот рейтинг устаревший и \"в 1998 году был переименован в Е – для всех возрастов\", поэтому заменим его на E."
   ]
  },
  {
   "cell_type": "code",
   "execution_count": 13,
   "metadata": {},
   "outputs": [],
   "source": [
    "data.loc[data['rating'] == 'K-A', 'rating']  = 'E' "
   ]
  },
  {
   "cell_type": "markdown",
   "metadata": {},
   "source": [
    "Рейтинг RP абревиатура Raiting Pending, что переводится, как ожидание рейтинга. Значение RP заменим на NaN"
   ]
  },
  {
   "cell_type": "code",
   "execution_count": 14,
   "metadata": {},
   "outputs": [],
   "source": [
    "data.loc[data['rating'] == 'RP', 'rating']  = np.NaN"
   ]
  },
  {
   "cell_type": "markdown",
   "metadata": {},
   "source": [
    "Рейтинг AO есть только у 1 игры. Описание рейтинга «AO» («Adults Only 18+») — «Только для взрослых». По описанию этот рейтинг очень близок к рейтингу «M» («Mature») — «От 17 лет». Поэтому заменим рейтинг AO на M. "
   ]
  },
  {
   "cell_type": "code",
   "execution_count": 15,
   "metadata": {},
   "outputs": [],
   "source": [
    "data.loc[data['rating'] == 'AO', 'rating'] = 'M'"
   ]
  },
  {
   "cell_type": "markdown",
   "metadata": {},
   "source": [
    "Просмотр значений в столбце 'rating' после изменений."
   ]
  },
  {
   "cell_type": "code",
   "execution_count": 16,
   "metadata": {},
   "outputs": [
    {
     "data": {
      "text/plain": [
       "E       3924\n",
       "T       2905\n",
       "M       1537\n",
       "E10+    1393\n",
       "EC         8\n",
       "Name: rating, dtype: int64"
      ]
     },
     "execution_count": 16,
     "metadata": {},
     "output_type": "execute_result"
    }
   ],
   "source": [
    "data['rating'].value_counts()"
   ]
  },
  {
   "cell_type": "markdown",
   "metadata": {},
   "source": [
    "### Столбец genre"
   ]
  },
  {
   "cell_type": "markdown",
   "metadata": {},
   "source": [
    "Просмотр уникальных значений и их количества в столбце genre."
   ]
  },
  {
   "cell_type": "code",
   "execution_count": 17,
   "metadata": {
    "scrolled": true
   },
   "outputs": [
    {
     "data": {
      "text/plain": [
       "Action          3307\n",
       "Sports          2306\n",
       "Misc            1721\n",
       "Role-Playing    1481\n",
       "Shooter         1296\n",
       "Adventure       1293\n",
       "Racing          1226\n",
       "Platform         878\n",
       "Simulation       857\n",
       "Fighting         837\n",
       "Strategy         673\n",
       "Puzzle           569\n",
       "Name: genre, dtype: int64"
      ]
     },
     "execution_count": 17,
     "metadata": {},
     "output_type": "execute_result"
    }
   ],
   "source": [
    "data['genre'].value_counts()"
   ]
  },
  {
   "cell_type": "markdown",
   "metadata": {},
   "source": [
    "В столбце genre каких-либо проблем с данными не обнаружено."
   ]
  },
  {
   "cell_type": "markdown",
   "metadata": {},
   "source": [
    "### Столбец user_score"
   ]
  },
  {
   "cell_type": "markdown",
   "metadata": {},
   "source": [
    "Просмотр значений в столбце user_score"
   ]
  },
  {
   "cell_type": "code",
   "execution_count": 18,
   "metadata": {},
   "outputs": [
    {
     "data": {
      "text/plain": [
       "array(['8', nan, '8.3', '8.5', '6.6', '8.4', '8.6', '7.7', '6.3', '7.4',\n",
       "       '8.2', '9', '7.9', '8.1', '8.7', '7.1', '3.4', '5.3', '4.8', '3.2',\n",
       "       '8.9', '6.4', '7.8', '7.5', '2.6', '7.2', '9.2', '7', '7.3', '4.3',\n",
       "       '7.6', '5.7', '5', '9.1', '6.5', 'tbd', '8.8', '6.9', '9.4', '6.8',\n",
       "       '6.1', '6.7', '5.4', '4', '4.9', '4.5', '9.3', '6.2', '4.2', '6',\n",
       "       '3.7', '4.1', '5.8', '5.6', '5.5', '4.4', '4.6', '5.9', '3.9',\n",
       "       '3.1', '2.9', '5.2', '3.3', '4.7', '5.1', '3.5', '2.5', '1.9', '3',\n",
       "       '2.7', '2.2', '2', '9.5', '2.1', '3.6', '2.8', '1.8', '3.8', '0',\n",
       "       '1.6', '9.6', '2.4', '1.7', '1.1', '0.3', '1.5', '0.7', '1.2',\n",
       "       '2.3', '0.5', '1.3', '0.2', '0.6', '1.4', '0.9', '1', '9.7'],\n",
       "      dtype=object)"
      ]
     },
     "execution_count": 18,
     "metadata": {},
     "output_type": "execute_result"
    }
   ],
   "source": [
    "data['user_score'].unique()"
   ]
  },
  {
   "cell_type": "markdown",
   "metadata": {},
   "source": [
    "В столбце user_score есть значение tbd, это аббревиатура to bу determined (будет определено). Заменим эти значения на NaN, чтобы они не выдавали ошибок при последующей обработке."
   ]
  },
  {
   "cell_type": "code",
   "execution_count": 19,
   "metadata": {
    "scrolled": false
   },
   "outputs": [
    {
     "data": {
      "text/plain": [
       "array(['8', nan, '8.3', '8.5', '6.6', '8.4', '8.6', '7.7', '6.3', '7.4',\n",
       "       '8.2', '9', '7.9', '8.1', '8.7', '7.1', '3.4', '5.3', '4.8', '3.2',\n",
       "       '8.9', '6.4', '7.8', '7.5', '2.6', '7.2', '9.2', '7', '7.3', '4.3',\n",
       "       '7.6', '5.7', '5', '9.1', '6.5', '8.8', '6.9', '9.4', '6.8', '6.1',\n",
       "       '6.7', '5.4', '4', '4.9', '4.5', '9.3', '6.2', '4.2', '6', '3.7',\n",
       "       '4.1', '5.8', '5.6', '5.5', '4.4', '4.6', '5.9', '3.9', '3.1',\n",
       "       '2.9', '5.2', '3.3', '4.7', '5.1', '3.5', '2.5', '1.9', '3', '2.7',\n",
       "       '2.2', '2', '9.5', '2.1', '3.6', '2.8', '1.8', '3.8', '0', '1.6',\n",
       "       '9.6', '2.4', '1.7', '1.1', '0.3', '1.5', '0.7', '1.2', '2.3',\n",
       "       '0.5', '1.3', '0.2', '0.6', '1.4', '0.9', '1', '9.7'], dtype=object)"
      ]
     },
     "execution_count": 19,
     "metadata": {},
     "output_type": "execute_result"
    }
   ],
   "source": [
    "data.loc[data['user_score'] == 'tbd', 'user_score'] = np.nan\n",
    "data['user_score'].unique()"
   ]
  },
  {
   "cell_type": "markdown",
   "metadata": {},
   "source": [
    "Преобразование типа значений рейтинга в столбце user_score с str на float."
   ]
  },
  {
   "cell_type": "code",
   "execution_count": 20,
   "metadata": {},
   "outputs": [
    {
     "data": {
      "text/plain": [
       "<class 'float'>    8981\n",
       "<class 'str'>      7463\n",
       "Name: user_score, dtype: int64"
      ]
     },
     "execution_count": 20,
     "metadata": {},
     "output_type": "execute_result"
    }
   ],
   "source": [
    "# просмотр типа данных значений в столбце user_score\n",
    "data['user_score'].apply(type).value_counts()"
   ]
  },
  {
   "cell_type": "code",
   "execution_count": 21,
   "metadata": {},
   "outputs": [],
   "source": [
    "# изменение значений str в столбце user_score на float\n",
    "data.loc[data['user_score'].notnull(), 'user_score'] = \\\n",
    " data.loc[data['user_score'].notnull(), 'user_score'].astype('float')"
   ]
  },
  {
   "cell_type": "code",
   "execution_count": 22,
   "metadata": {
    "scrolled": true
   },
   "outputs": [
    {
     "data": {
      "text/plain": [
       "<class 'float'>    16444\n",
       "Name: user_score, dtype: int64"
      ]
     },
     "execution_count": 22,
     "metadata": {},
     "output_type": "execute_result"
    }
   ],
   "source": [
    "data['user_score'].apply(type).value_counts()"
   ]
  },
  {
   "cell_type": "markdown",
   "metadata": {},
   "source": [
    "Все значения в столбце user_score стали иметь тип float. Посмотрим информацию о типе данных в столбце user_score."
   ]
  },
  {
   "cell_type": "code",
   "execution_count": 23,
   "metadata": {
    "scrolled": true
   },
   "outputs": [
    {
     "name": "stdout",
     "output_type": "stream",
     "text": [
      "<class 'pandas.core.frame.DataFrame'>\n",
      "Int64Index: 16444 entries, 0 to 16714\n",
      "Data columns (total 11 columns):\n",
      " #   Column           Non-Null Count  Dtype  \n",
      "---  ------           --------------  -----  \n",
      " 0   name             16444 non-null  object \n",
      " 1   platform         16444 non-null  object \n",
      " 2   year_of_release  16444 non-null  int32  \n",
      " 3   genre            16444 non-null  object \n",
      " 4   na_sales         16444 non-null  float64\n",
      " 5   eu_sales         16444 non-null  float64\n",
      " 6   jp_sales         16444 non-null  float64\n",
      " 7   other_sales      16444 non-null  float64\n",
      " 8   critic_score     7983 non-null   float64\n",
      " 9   user_score       7463 non-null   object \n",
      " 10  rating           9767 non-null   object \n",
      "dtypes: float64(5), int32(1), object(5)\n",
      "memory usage: 1.4+ MB\n"
     ]
    }
   ],
   "source": [
    "data.info()"
   ]
  },
  {
   "cell_type": "markdown",
   "metadata": {},
   "source": [
    "Тип данных столбца user_score object, в то время, как тип данных в ячейках float. Чтобы при дальнейшей обработке не было ошибок при работе со столбцом user_score изменим его тип данных на float"
   ]
  },
  {
   "cell_type": "code",
   "execution_count": 24,
   "metadata": {},
   "outputs": [],
   "source": [
    "data['user_score'] = data['user_score'].astype('float')"
   ]
  },
  {
   "cell_type": "code",
   "execution_count": 25,
   "metadata": {
    "scrolled": false
   },
   "outputs": [
    {
     "name": "stdout",
     "output_type": "stream",
     "text": [
      "<class 'pandas.core.frame.DataFrame'>\n",
      "Int64Index: 16444 entries, 0 to 16714\n",
      "Data columns (total 11 columns):\n",
      " #   Column           Non-Null Count  Dtype  \n",
      "---  ------           --------------  -----  \n",
      " 0   name             16444 non-null  object \n",
      " 1   platform         16444 non-null  object \n",
      " 2   year_of_release  16444 non-null  int32  \n",
      " 3   genre            16444 non-null  object \n",
      " 4   na_sales         16444 non-null  float64\n",
      " 5   eu_sales         16444 non-null  float64\n",
      " 6   jp_sales         16444 non-null  float64\n",
      " 7   other_sales      16444 non-null  float64\n",
      " 8   critic_score     7983 non-null   float64\n",
      " 9   user_score       7463 non-null   float64\n",
      " 10  rating           9767 non-null   object \n",
      "dtypes: float64(6), int32(1), object(4)\n",
      "memory usage: 1.4+ MB\n"
     ]
    }
   ],
   "source": [
    "data.info()"
   ]
  },
  {
   "cell_type": "markdown",
   "metadata": {},
   "source": [
    "Тип данных столбца user_score изменился с object на float."
   ]
  },
  {
   "cell_type": "markdown",
   "metadata": {},
   "source": [
    "### Создание столбца sales продажи по всем регионам"
   ]
  },
  {
   "cell_type": "code",
   "execution_count": 26,
   "metadata": {},
   "outputs": [],
   "source": [
    "data['sales'] = data['na_sales'] + data['eu_sales'] + data['jp_sales'] + data['other_sales']"
   ]
  },
  {
   "cell_type": "markdown",
   "metadata": {},
   "source": [
    "## Исследовательский анализ"
   ]
  },
  {
   "cell_type": "markdown",
   "metadata": {},
   "source": [
    "### Выпуск игр по годам"
   ]
  },
  {
   "cell_type": "markdown",
   "metadata": {},
   "source": [
    "Расчёт количества выпускаемых игр по годам."
   ]
  },
  {
   "cell_type": "code",
   "execution_count": 27,
   "metadata": {},
   "outputs": [
    {
     "data": {
      "text/html": [
       "<div>\n",
       "<style scoped>\n",
       "    .dataframe tbody tr th:only-of-type {\n",
       "        vertical-align: middle;\n",
       "    }\n",
       "\n",
       "    .dataframe tbody tr th {\n",
       "        vertical-align: top;\n",
       "    }\n",
       "\n",
       "    .dataframe thead th {\n",
       "        text-align: right;\n",
       "    }\n",
       "</style>\n",
       "<table border=\"1\" class=\"dataframe\">\n",
       "  <thead>\n",
       "    <tr style=\"text-align: right;\">\n",
       "      <th></th>\n",
       "      <th>count_games</th>\n",
       "    </tr>\n",
       "    <tr>\n",
       "      <th>year_of_release</th>\n",
       "      <th></th>\n",
       "    </tr>\n",
       "  </thead>\n",
       "  <tbody>\n",
       "    <tr>\n",
       "      <th>1980</th>\n",
       "      <td>9</td>\n",
       "    </tr>\n",
       "    <tr>\n",
       "      <th>1981</th>\n",
       "      <td>46</td>\n",
       "    </tr>\n",
       "    <tr>\n",
       "      <th>1982</th>\n",
       "      <td>36</td>\n",
       "    </tr>\n",
       "    <tr>\n",
       "      <th>1983</th>\n",
       "      <td>17</td>\n",
       "    </tr>\n",
       "    <tr>\n",
       "      <th>1984</th>\n",
       "      <td>14</td>\n",
       "    </tr>\n",
       "    <tr>\n",
       "      <th>1985</th>\n",
       "      <td>14</td>\n",
       "    </tr>\n",
       "    <tr>\n",
       "      <th>1986</th>\n",
       "      <td>21</td>\n",
       "    </tr>\n",
       "    <tr>\n",
       "      <th>1987</th>\n",
       "      <td>16</td>\n",
       "    </tr>\n",
       "    <tr>\n",
       "      <th>1988</th>\n",
       "      <td>15</td>\n",
       "    </tr>\n",
       "    <tr>\n",
       "      <th>1989</th>\n",
       "      <td>17</td>\n",
       "    </tr>\n",
       "    <tr>\n",
       "      <th>1990</th>\n",
       "      <td>16</td>\n",
       "    </tr>\n",
       "    <tr>\n",
       "      <th>1991</th>\n",
       "      <td>41</td>\n",
       "    </tr>\n",
       "    <tr>\n",
       "      <th>1992</th>\n",
       "      <td>43</td>\n",
       "    </tr>\n",
       "    <tr>\n",
       "      <th>1993</th>\n",
       "      <td>60</td>\n",
       "    </tr>\n",
       "    <tr>\n",
       "      <th>1994</th>\n",
       "      <td>121</td>\n",
       "    </tr>\n",
       "    <tr>\n",
       "      <th>1995</th>\n",
       "      <td>219</td>\n",
       "    </tr>\n",
       "    <tr>\n",
       "      <th>1996</th>\n",
       "      <td>263</td>\n",
       "    </tr>\n",
       "    <tr>\n",
       "      <th>1997</th>\n",
       "      <td>289</td>\n",
       "    </tr>\n",
       "    <tr>\n",
       "      <th>1998</th>\n",
       "      <td>379</td>\n",
       "    </tr>\n",
       "    <tr>\n",
       "      <th>1999</th>\n",
       "      <td>338</td>\n",
       "    </tr>\n",
       "    <tr>\n",
       "      <th>2000</th>\n",
       "      <td>350</td>\n",
       "    </tr>\n",
       "    <tr>\n",
       "      <th>2001</th>\n",
       "      <td>482</td>\n",
       "    </tr>\n",
       "    <tr>\n",
       "      <th>2002</th>\n",
       "      <td>829</td>\n",
       "    </tr>\n",
       "    <tr>\n",
       "      <th>2003</th>\n",
       "      <td>775</td>\n",
       "    </tr>\n",
       "    <tr>\n",
       "      <th>2004</th>\n",
       "      <td>762</td>\n",
       "    </tr>\n",
       "    <tr>\n",
       "      <th>2005</th>\n",
       "      <td>939</td>\n",
       "    </tr>\n",
       "    <tr>\n",
       "      <th>2006</th>\n",
       "      <td>1006</td>\n",
       "    </tr>\n",
       "    <tr>\n",
       "      <th>2007</th>\n",
       "      <td>1197</td>\n",
       "    </tr>\n",
       "    <tr>\n",
       "      <th>2008</th>\n",
       "      <td>1427</td>\n",
       "    </tr>\n",
       "    <tr>\n",
       "      <th>2009</th>\n",
       "      <td>1426</td>\n",
       "    </tr>\n",
       "    <tr>\n",
       "      <th>2010</th>\n",
       "      <td>1255</td>\n",
       "    </tr>\n",
       "    <tr>\n",
       "      <th>2011</th>\n",
       "      <td>1136</td>\n",
       "    </tr>\n",
       "    <tr>\n",
       "      <th>2012</th>\n",
       "      <td>653</td>\n",
       "    </tr>\n",
       "    <tr>\n",
       "      <th>2013</th>\n",
       "      <td>544</td>\n",
       "    </tr>\n",
       "    <tr>\n",
       "      <th>2014</th>\n",
       "      <td>581</td>\n",
       "    </tr>\n",
       "    <tr>\n",
       "      <th>2015</th>\n",
       "      <td>606</td>\n",
       "    </tr>\n",
       "    <tr>\n",
       "      <th>2016</th>\n",
       "      <td>502</td>\n",
       "    </tr>\n",
       "  </tbody>\n",
       "</table>\n",
       "</div>"
      ],
      "text/plain": [
       "                 count_games\n",
       "year_of_release             \n",
       "1980                       9\n",
       "1981                      46\n",
       "1982                      36\n",
       "1983                      17\n",
       "1984                      14\n",
       "1985                      14\n",
       "1986                      21\n",
       "1987                      16\n",
       "1988                      15\n",
       "1989                      17\n",
       "1990                      16\n",
       "1991                      41\n",
       "1992                      43\n",
       "1993                      60\n",
       "1994                     121\n",
       "1995                     219\n",
       "1996                     263\n",
       "1997                     289\n",
       "1998                     379\n",
       "1999                     338\n",
       "2000                     350\n",
       "2001                     482\n",
       "2002                     829\n",
       "2003                     775\n",
       "2004                     762\n",
       "2005                     939\n",
       "2006                    1006\n",
       "2007                    1197\n",
       "2008                    1427\n",
       "2009                    1426\n",
       "2010                    1255\n",
       "2011                    1136\n",
       "2012                     653\n",
       "2013                     544\n",
       "2014                     581\n",
       "2015                     606\n",
       "2016                     502"
      ]
     },
     "metadata": {},
     "output_type": "display_data"
    }
   ],
   "source": [
    "game_year = data.pivot_table(index='year_of_release', values='name', aggfunc='count')\n",
    "game_year = game_year.rename(columns={'name':'count_games'})\n",
    "display(game_year)"
   ]
  },
  {
   "cell_type": "markdown",
   "metadata": {},
   "source": [
    "Построение столбцовой диаграммы с количеством выпускаемых игр по годам."
   ]
  },
  {
   "cell_type": "code",
   "execution_count": 28,
   "metadata": {
    "scrolled": false
   },
   "outputs": [
    {
     "data": {
      "image/png": "[encoded data removed]",
      "text/plain": [
       "<Figure size 864x288 with 1 Axes>"
      ]
     },
     "metadata": {
      "needs_background": "light"
     },
     "output_type": "display_data"
    }
   ],
   "source": [
    "game_year.plot(kind='bar', figsize=(12,4), grid=True, legend=False)\n",
    "plt.title('Количество выпущенных игр по годам', fontsize=14)\n",
    "plt.xlabel('Год выпуска игр', fontsize=14)\n",
    "plt.ylabel('Количество игр, шт', fontsize=14);"
   ]
  },
  {
   "cell_type": "code",
   "execution_count": 29,
   "metadata": {},
   "outputs": [
    {
     "data": {
      "text/plain": [
       "count_games    8.8\n",
       "dtype: float64"
      ]
     },
     "execution_count": 29,
     "metadata": {},
     "output_type": "execute_result"
    }
   ],
   "source": [
    "# отношение количества игр в 1998 году к количеству игр в 1992 году\n",
    "round(game_year.loc[1998] / game_year.loc[1992], 1) "
   ]
  },
  {
   "cell_type": "code",
   "execution_count": 30,
   "metadata": {},
   "outputs": [
    {
     "data": {
      "text/plain": [
       "count_games    4.1\n",
       "dtype: float64"
      ]
     },
     "execution_count": 30,
     "metadata": {},
     "output_type": "execute_result"
    }
   ],
   "source": [
    "# отношение количества игр в 2008 году к количеству игр в 2000 году\n",
    "round(game_year.loc[2008] / game_year.loc[2000], 1)"
   ]
  },
  {
   "cell_type": "code",
   "execution_count": 31,
   "metadata": {
    "scrolled": true
   },
   "outputs": [
    {
     "data": {
      "text/plain": [
       "count_games    2.2\n",
       "dtype: float64"
      ]
     },
     "execution_count": 31,
     "metadata": {},
     "output_type": "execute_result"
    }
   ],
   "source": [
    "# отношение количества игр в 2009 году к количеству игр в 2012 году\n",
    "round(game_year.loc[2009] / game_year.loc[2012], 1)"
   ]
  },
  {
   "cell_type": "code",
   "execution_count": 32,
   "metadata": {},
   "outputs": [
    {
     "data": {
      "text/plain": [
       "count_games    577.2\n",
       "dtype: float64"
      ]
     },
     "execution_count": 32,
     "metadata": {},
     "output_type": "execute_result"
    }
   ],
   "source": [
    "# расчёт среднего значения количества игр выпущенных в период с 2012 по 2016 год\n",
    "game_year.loc[2012:2016].mean()"
   ]
  },
  {
   "cell_type": "markdown",
   "metadata": {},
   "source": [
    "На диаграмме количество выпущенных игр по годам, можно выделить 5 значимых периодов. Первый начальный период с 1980 по 1991 год, когда было незначительное количество игр и не было роста их количества. Второй период значительного роста количества игр с 43 в 1992 года до 379 в 1998 году, в 8.8 раза за 6 лет, с небольшим падением в 1999, 2000 годах. Затем можно выделить третий период значительного роста с 338 игр в 2000 году до 1427 в 2008 году, в 4 раза за 8 лет. В 2009 году было выпущено 1426 игр, столько же сколько в предыдущем году. Начиная с 2009 года до 2012 можно выделить четвертый период падения продаж с 1426 в 2009 году до 653 в 2012, в 2.2 раза за 3 года. В пятом периоде с 2012 по 2016 год количество игр стабилизировалось и было равно порядка 570 игр с небольшими колебаниями."
   ]
  },
  {
   "cell_type": "markdown",
   "metadata": {},
   "source": [
    "### Продажи по годам"
   ]
  },
  {
   "cell_type": "code",
   "execution_count": 33,
   "metadata": {
    "scrolled": true
   },
   "outputs": [
    {
     "data": {
      "text/html": [
       "<div>\n",
       "<style scoped>\n",
       "    .dataframe tbody tr th:only-of-type {\n",
       "        vertical-align: middle;\n",
       "    }\n",
       "\n",
       "    .dataframe tbody tr th {\n",
       "        vertical-align: top;\n",
       "    }\n",
       "\n",
       "    .dataframe thead th {\n",
       "        text-align: right;\n",
       "    }\n",
       "</style>\n",
       "<table border=\"1\" class=\"dataframe\">\n",
       "  <thead>\n",
       "    <tr style=\"text-align: right;\">\n",
       "      <th></th>\n",
       "      <th>sales</th>\n",
       "    </tr>\n",
       "    <tr>\n",
       "      <th>year_of_release</th>\n",
       "      <th></th>\n",
       "    </tr>\n",
       "  </thead>\n",
       "  <tbody>\n",
       "    <tr>\n",
       "      <th>1980</th>\n",
       "      <td>11.38</td>\n",
       "    </tr>\n",
       "    <tr>\n",
       "      <th>1981</th>\n",
       "      <td>35.68</td>\n",
       "    </tr>\n",
       "    <tr>\n",
       "      <th>1982</th>\n",
       "      <td>28.88</td>\n",
       "    </tr>\n",
       "    <tr>\n",
       "      <th>1983</th>\n",
       "      <td>16.80</td>\n",
       "    </tr>\n",
       "    <tr>\n",
       "      <th>1984</th>\n",
       "      <td>50.35</td>\n",
       "    </tr>\n",
       "    <tr>\n",
       "      <th>1985</th>\n",
       "      <td>53.95</td>\n",
       "    </tr>\n",
       "    <tr>\n",
       "      <th>1986</th>\n",
       "      <td>37.08</td>\n",
       "    </tr>\n",
       "    <tr>\n",
       "      <th>1987</th>\n",
       "      <td>21.70</td>\n",
       "    </tr>\n",
       "    <tr>\n",
       "      <th>1988</th>\n",
       "      <td>47.21</td>\n",
       "    </tr>\n",
       "    <tr>\n",
       "      <th>1989</th>\n",
       "      <td>73.45</td>\n",
       "    </tr>\n",
       "    <tr>\n",
       "      <th>1990</th>\n",
       "      <td>49.37</td>\n",
       "    </tr>\n",
       "    <tr>\n",
       "      <th>1991</th>\n",
       "      <td>32.23</td>\n",
       "    </tr>\n",
       "    <tr>\n",
       "      <th>1992</th>\n",
       "      <td>76.16</td>\n",
       "    </tr>\n",
       "    <tr>\n",
       "      <th>1993</th>\n",
       "      <td>45.99</td>\n",
       "    </tr>\n",
       "    <tr>\n",
       "      <th>1994</th>\n",
       "      <td>79.23</td>\n",
       "    </tr>\n",
       "    <tr>\n",
       "      <th>1995</th>\n",
       "      <td>88.12</td>\n",
       "    </tr>\n",
       "    <tr>\n",
       "      <th>1996</th>\n",
       "      <td>199.15</td>\n",
       "    </tr>\n",
       "    <tr>\n",
       "      <th>1997</th>\n",
       "      <td>201.07</td>\n",
       "    </tr>\n",
       "    <tr>\n",
       "      <th>1998</th>\n",
       "      <td>256.31</td>\n",
       "    </tr>\n",
       "    <tr>\n",
       "      <th>1999</th>\n",
       "      <td>251.11</td>\n",
       "    </tr>\n",
       "    <tr>\n",
       "      <th>2000</th>\n",
       "      <td>201.66</td>\n",
       "    </tr>\n",
       "    <tr>\n",
       "      <th>2001</th>\n",
       "      <td>331.46</td>\n",
       "    </tr>\n",
       "    <tr>\n",
       "      <th>2002</th>\n",
       "      <td>394.97</td>\n",
       "    </tr>\n",
       "    <tr>\n",
       "      <th>2003</th>\n",
       "      <td>357.54</td>\n",
       "    </tr>\n",
       "    <tr>\n",
       "      <th>2004</th>\n",
       "      <td>418.68</td>\n",
       "    </tr>\n",
       "    <tr>\n",
       "      <th>2005</th>\n",
       "      <td>457.82</td>\n",
       "    </tr>\n",
       "    <tr>\n",
       "      <th>2006</th>\n",
       "      <td>517.71</td>\n",
       "    </tr>\n",
       "    <tr>\n",
       "      <th>2007</th>\n",
       "      <td>604.75</td>\n",
       "    </tr>\n",
       "    <tr>\n",
       "      <th>2008</th>\n",
       "      <td>671.50</td>\n",
       "    </tr>\n",
       "    <tr>\n",
       "      <th>2009</th>\n",
       "      <td>658.82</td>\n",
       "    </tr>\n",
       "    <tr>\n",
       "      <th>2010</th>\n",
       "      <td>590.13</td>\n",
       "    </tr>\n",
       "    <tr>\n",
       "      <th>2011</th>\n",
       "      <td>507.58</td>\n",
       "    </tr>\n",
       "    <tr>\n",
       "      <th>2012</th>\n",
       "      <td>355.84</td>\n",
       "    </tr>\n",
       "    <tr>\n",
       "      <th>2013</th>\n",
       "      <td>361.24</td>\n",
       "    </tr>\n",
       "    <tr>\n",
       "      <th>2014</th>\n",
       "      <td>331.53</td>\n",
       "    </tr>\n",
       "    <tr>\n",
       "      <th>2015</th>\n",
       "      <td>267.98</td>\n",
       "    </tr>\n",
       "    <tr>\n",
       "      <th>2016</th>\n",
       "      <td>129.94</td>\n",
       "    </tr>\n",
       "  </tbody>\n",
       "</table>\n",
       "</div>"
      ],
      "text/plain": [
       "                  sales\n",
       "year_of_release        \n",
       "1980              11.38\n",
       "1981              35.68\n",
       "1982              28.88\n",
       "1983              16.80\n",
       "1984              50.35\n",
       "1985              53.95\n",
       "1986              37.08\n",
       "1987              21.70\n",
       "1988              47.21\n",
       "1989              73.45\n",
       "1990              49.37\n",
       "1991              32.23\n",
       "1992              76.16\n",
       "1993              45.99\n",
       "1994              79.23\n",
       "1995              88.12\n",
       "1996             199.15\n",
       "1997             201.07\n",
       "1998             256.31\n",
       "1999             251.11\n",
       "2000             201.66\n",
       "2001             331.46\n",
       "2002             394.97\n",
       "2003             357.54\n",
       "2004             418.68\n",
       "2005             457.82\n",
       "2006             517.71\n",
       "2007             604.75\n",
       "2008             671.50\n",
       "2009             658.82\n",
       "2010             590.13\n",
       "2011             507.58\n",
       "2012             355.84\n",
       "2013             361.24\n",
       "2014             331.53\n",
       "2015             267.98\n",
       "2016             129.94"
      ]
     },
     "metadata": {},
     "output_type": "display_data"
    }
   ],
   "source": [
    "sales_years = data.pivot_table(index='year_of_release', values='sales', aggfunc='sum')\n",
    "display(sales_years)"
   ]
  },
  {
   "cell_type": "markdown",
   "metadata": {},
   "source": [
    "Построение графика количества проданных игр по годам."
   ]
  },
  {
   "cell_type": "code",
   "execution_count": 34,
   "metadata": {},
   "outputs": [
    {
     "data": {
      "image/png": "[encoded data removed]",
      "text/plain": [
       "<Figure size 864x288 with 1 Axes>"
      ]
     },
     "metadata": {
      "needs_background": "light"
     },
     "output_type": "display_data"
    }
   ],
   "source": [
    "plt.figure(figsize=(12,4))\n",
    "plt.plot(sales_years)\n",
    "plt.minorticks_on()\n",
    "plt.grid(which='major')\n",
    "plt.grid(which='minor', linestyle=':')\n",
    "plt.title('Количество проданных игр по годам', fontsize=14)\n",
    "plt.xlabel('Год', fontsize=14)\n",
    "plt.ylabel('Продажи, млн копий', fontsize=14);"
   ]
  },
  {
   "cell_type": "markdown",
   "metadata": {},
   "source": [
    "На графике количество проданных игр по годам можно выделить несколько периодов. Начальный период незначительного роста с 1980 по 1995 год, с 11 млн в 1980 году до 88 млн в 1995 году. Период бурного роста с 1995 по 2008 год, с 88 млн в 1995 году до 671 млн в 2008 году. Период падения продаж с 2008 года по 2016, с 671 млн в 2008 году до 129 млн в 2016 году."
   ]
  },
  {
   "cell_type": "markdown",
   "metadata": {},
   "source": [
    "###  Характерный срок существования платформ"
   ]
  },
  {
   "cell_type": "markdown",
   "metadata": {},
   "source": [
    "Для определения характерного времени существования платформы, построим таблицу платформы - продажи (количество копий млн шт) с сортировкой продаж по убыванию."
   ]
  },
  {
   "cell_type": "code",
   "execution_count": 35,
   "metadata": {
    "scrolled": true
   },
   "outputs": [
    {
     "data": {
      "text/html": [
       "<div>\n",
       "<style scoped>\n",
       "    .dataframe tbody tr th:only-of-type {\n",
       "        vertical-align: middle;\n",
       "    }\n",
       "\n",
       "    .dataframe tbody tr th {\n",
       "        vertical-align: top;\n",
       "    }\n",
       "\n",
       "    .dataframe thead th {\n",
       "        text-align: right;\n",
       "    }\n",
       "</style>\n",
       "<table border=\"1\" class=\"dataframe\">\n",
       "  <thead>\n",
       "    <tr style=\"text-align: right;\">\n",
       "      <th></th>\n",
       "      <th>platform</th>\n",
       "      <th>sales</th>\n",
       "    </tr>\n",
       "  </thead>\n",
       "  <tbody>\n",
       "    <tr>\n",
       "      <th>0</th>\n",
       "      <td>PS2</td>\n",
       "      <td>1233.56</td>\n",
       "    </tr>\n",
       "    <tr>\n",
       "      <th>1</th>\n",
       "      <td>X360</td>\n",
       "      <td>961.24</td>\n",
       "    </tr>\n",
       "    <tr>\n",
       "      <th>2</th>\n",
       "      <td>PS3</td>\n",
       "      <td>931.34</td>\n",
       "    </tr>\n",
       "    <tr>\n",
       "      <th>3</th>\n",
       "      <td>Wii</td>\n",
       "      <td>891.18</td>\n",
       "    </tr>\n",
       "    <tr>\n",
       "      <th>4</th>\n",
       "      <td>DS</td>\n",
       "      <td>802.78</td>\n",
       "    </tr>\n",
       "    <tr>\n",
       "      <th>5</th>\n",
       "      <td>PS</td>\n",
       "      <td>727.58</td>\n",
       "    </tr>\n",
       "    <tr>\n",
       "      <th>6</th>\n",
       "      <td>PS4</td>\n",
       "      <td>314.14</td>\n",
       "    </tr>\n",
       "    <tr>\n",
       "      <th>7</th>\n",
       "      <td>GBA</td>\n",
       "      <td>312.88</td>\n",
       "    </tr>\n",
       "    <tr>\n",
       "      <th>8</th>\n",
       "      <td>PSP</td>\n",
       "      <td>289.53</td>\n",
       "    </tr>\n",
       "    <tr>\n",
       "      <th>9</th>\n",
       "      <td>3DS</td>\n",
       "      <td>257.81</td>\n",
       "    </tr>\n",
       "    <tr>\n",
       "      <th>10</th>\n",
       "      <td>PC</td>\n",
       "      <td>255.76</td>\n",
       "    </tr>\n",
       "    <tr>\n",
       "      <th>11</th>\n",
       "      <td>GB</td>\n",
       "      <td>254.43</td>\n",
       "    </tr>\n",
       "    <tr>\n",
       "      <th>12</th>\n",
       "      <td>XB</td>\n",
       "      <td>251.57</td>\n",
       "    </tr>\n",
       "    <tr>\n",
       "      <th>13</th>\n",
       "      <td>NES</td>\n",
       "      <td>251.05</td>\n",
       "    </tr>\n",
       "    <tr>\n",
       "      <th>14</th>\n",
       "      <td>N64</td>\n",
       "      <td>218.01</td>\n",
       "    </tr>\n",
       "    <tr>\n",
       "      <th>15</th>\n",
       "      <td>SNES</td>\n",
       "      <td>200.04</td>\n",
       "    </tr>\n",
       "    <tr>\n",
       "      <th>16</th>\n",
       "      <td>GC</td>\n",
       "      <td>196.73</td>\n",
       "    </tr>\n",
       "    <tr>\n",
       "      <th>17</th>\n",
       "      <td>XOne</td>\n",
       "      <td>159.32</td>\n",
       "    </tr>\n",
       "    <tr>\n",
       "      <th>18</th>\n",
       "      <td>2600</td>\n",
       "      <td>86.48</td>\n",
       "    </tr>\n",
       "    <tr>\n",
       "      <th>19</th>\n",
       "      <td>WiiU</td>\n",
       "      <td>82.19</td>\n",
       "    </tr>\n",
       "    <tr>\n",
       "      <th>20</th>\n",
       "      <td>PSV</td>\n",
       "      <td>53.81</td>\n",
       "    </tr>\n",
       "    <tr>\n",
       "      <th>21</th>\n",
       "      <td>SAT</td>\n",
       "      <td>33.59</td>\n",
       "    </tr>\n",
       "    <tr>\n",
       "      <th>22</th>\n",
       "      <td>GEN</td>\n",
       "      <td>28.35</td>\n",
       "    </tr>\n",
       "    <tr>\n",
       "      <th>23</th>\n",
       "      <td>DC</td>\n",
       "      <td>15.95</td>\n",
       "    </tr>\n",
       "    <tr>\n",
       "      <th>24</th>\n",
       "      <td>SCD</td>\n",
       "      <td>1.86</td>\n",
       "    </tr>\n",
       "    <tr>\n",
       "      <th>25</th>\n",
       "      <td>NG</td>\n",
       "      <td>1.44</td>\n",
       "    </tr>\n",
       "    <tr>\n",
       "      <th>26</th>\n",
       "      <td>WS</td>\n",
       "      <td>1.42</td>\n",
       "    </tr>\n",
       "    <tr>\n",
       "      <th>27</th>\n",
       "      <td>TG16</td>\n",
       "      <td>0.16</td>\n",
       "    </tr>\n",
       "    <tr>\n",
       "      <th>28</th>\n",
       "      <td>3DO</td>\n",
       "      <td>0.10</td>\n",
       "    </tr>\n",
       "    <tr>\n",
       "      <th>29</th>\n",
       "      <td>GG</td>\n",
       "      <td>0.04</td>\n",
       "    </tr>\n",
       "    <tr>\n",
       "      <th>30</th>\n",
       "      <td>PCFX</td>\n",
       "      <td>0.03</td>\n",
       "    </tr>\n",
       "  </tbody>\n",
       "</table>\n",
       "</div>"
      ],
      "text/plain": [
       "   platform    sales\n",
       "0       PS2  1233.56\n",
       "1      X360   961.24\n",
       "2       PS3   931.34\n",
       "3       Wii   891.18\n",
       "4        DS   802.78\n",
       "5        PS   727.58\n",
       "6       PS4   314.14\n",
       "7       GBA   312.88\n",
       "8       PSP   289.53\n",
       "9       3DS   257.81\n",
       "10       PC   255.76\n",
       "11       GB   254.43\n",
       "12       XB   251.57\n",
       "13      NES   251.05\n",
       "14      N64   218.01\n",
       "15     SNES   200.04\n",
       "16       GC   196.73\n",
       "17     XOne   159.32\n",
       "18     2600    86.48\n",
       "19     WiiU    82.19\n",
       "20      PSV    53.81\n",
       "21      SAT    33.59\n",
       "22      GEN    28.35\n",
       "23       DC    15.95\n",
       "24      SCD     1.86\n",
       "25       NG     1.44\n",
       "26       WS     1.42\n",
       "27     TG16     0.16\n",
       "28      3DO     0.10\n",
       "29       GG     0.04\n",
       "30     PCFX     0.03"
      ]
     },
     "metadata": {},
     "output_type": "display_data"
    }
   ],
   "source": [
    "platform_games = data.pivot_table(index='platform', values='sales', aggfunc='sum') \\\n",
    "                     .reset_index() \\\n",
    "                     .sort_values(by='sales', ascending=False,) \\\n",
    "                     .reset_index(drop=True)\n",
    "platform_games.columns = ['platform', 'sales']\n",
    "display(platform_games)"
   ]
  },
  {
   "cell_type": "code",
   "execution_count": 36,
   "metadata": {},
   "outputs": [
    {
     "data": {
      "image/png": "[encoded data removed]",
      "text/plain": [
       "<Figure size 1152x432 with 1 Axes>"
      ]
     },
     "metadata": {
      "needs_background": "light"
     },
     "output_type": "display_data"
    }
   ],
   "source": [
    "plt.figure(figsize=(16,6))\n",
    "plt.bar(platform_games['platform'], platform_games['sales'])\n",
    "plt.grid()\n",
    "plt.title('Продажи платформ за весь период существования', fontsize=14)\n",
    "plt.xlabel('Платформы', fontsize=14)\n",
    "plt.ylabel('Количество копий млн. шт.', fontsize=14);\n"
   ]
  },
  {
   "cell_type": "markdown",
   "metadata": {},
   "source": [
    "По количеству проданных копий за всё время продаж лидирует платформа PS2 с объёмом 1233 млн копий, за ней идут 5 платформ X360, PS3, DS, PS с объемом продаж от 961 до 733 млн копий. Далее идут платформы с объёмом продаж менее 15 млн копий."
   ]
  },
  {
   "cell_type": "markdown",
   "metadata": {},
   "source": [
    "Для определения характерного срока существования платформ возъмём 12 платформ 6 лидирующих и 6 идущих за ними, расчитаем их время существования и определим среднее значение этого времени..\n"
   ]
  },
  {
   "cell_type": "code",
   "execution_count": 37,
   "metadata": {
    "scrolled": true
   },
   "outputs": [
    {
     "name": "stdout",
     "output_type": "stream",
     "text": [
      "0      PS2\n",
      "1     X360\n",
      "2      PS3\n",
      "3      Wii\n",
      "4       DS\n",
      "5       PS\n",
      "6      PS4\n",
      "7      GBA\n",
      "8      PSP\n",
      "9      3DS\n",
      "10      PC\n",
      "11      GB\n",
      "12      XB\n",
      "Name: platform, dtype: object\n"
     ]
    }
   ],
   "source": [
    "# Отбор 12 самых популярных платформ.\n",
    "platform_top12 = platform_games.loc[:12, 'platform']\n",
    "print(platform_top12)\n"
   ]
  },
  {
   "cell_type": "markdown",
   "metadata": {},
   "source": [
    "Построение таблицы 12 самых популярных платформ - продажи по годам."
   ]
  },
  {
   "cell_type": "code",
   "execution_count": 38,
   "metadata": {
    "scrolled": true
   },
   "outputs": [
    {
     "data": {
      "text/html": [
       "<div>\n",
       "<style scoped>\n",
       "    .dataframe tbody tr th:only-of-type {\n",
       "        vertical-align: middle;\n",
       "    }\n",
       "\n",
       "    .dataframe tbody tr th {\n",
       "        vertical-align: top;\n",
       "    }\n",
       "\n",
       "    .dataframe thead th {\n",
       "        text-align: right;\n",
       "    }\n",
       "</style>\n",
       "<table border=\"1\" class=\"dataframe\">\n",
       "  <thead>\n",
       "    <tr style=\"text-align: right;\">\n",
       "      <th>year_of_release</th>\n",
       "      <th>1985</th>\n",
       "      <th>1988</th>\n",
       "      <th>1989</th>\n",
       "      <th>1990</th>\n",
       "      <th>1991</th>\n",
       "      <th>1992</th>\n",
       "      <th>1994</th>\n",
       "      <th>1995</th>\n",
       "      <th>1996</th>\n",
       "      <th>1997</th>\n",
       "      <th>1998</th>\n",
       "      <th>1999</th>\n",
       "      <th>2000</th>\n",
       "      <th>2001</th>\n",
       "      <th>2002</th>\n",
       "      <th>2003</th>\n",
       "      <th>2004</th>\n",
       "      <th>2005</th>\n",
       "      <th>2006</th>\n",
       "      <th>2007</th>\n",
       "      <th>2008</th>\n",
       "      <th>2009</th>\n",
       "      <th>2010</th>\n",
       "      <th>2011</th>\n",
       "      <th>2012</th>\n",
       "      <th>2013</th>\n",
       "      <th>2014</th>\n",
       "      <th>2015</th>\n",
       "      <th>2016</th>\n",
       "    </tr>\n",
       "    <tr>\n",
       "      <th>platform</th>\n",
       "      <th></th>\n",
       "      <th></th>\n",
       "      <th></th>\n",
       "      <th></th>\n",
       "      <th></th>\n",
       "      <th></th>\n",
       "      <th></th>\n",
       "      <th></th>\n",
       "      <th></th>\n",
       "      <th></th>\n",
       "      <th></th>\n",
       "      <th></th>\n",
       "      <th></th>\n",
       "      <th></th>\n",
       "      <th></th>\n",
       "      <th></th>\n",
       "      <th></th>\n",
       "      <th></th>\n",
       "      <th></th>\n",
       "      <th></th>\n",
       "      <th></th>\n",
       "      <th></th>\n",
       "      <th></th>\n",
       "      <th></th>\n",
       "      <th></th>\n",
       "      <th></th>\n",
       "      <th></th>\n",
       "      <th></th>\n",
       "      <th></th>\n",
       "    </tr>\n",
       "  </thead>\n",
       "  <tbody>\n",
       "    <tr>\n",
       "      <th>3DS</th>\n",
       "      <td>NaN</td>\n",
       "      <td>NaN</td>\n",
       "      <td>NaN</td>\n",
       "      <td>NaN</td>\n",
       "      <td>NaN</td>\n",
       "      <td>NaN</td>\n",
       "      <td>NaN</td>\n",
       "      <td>NaN</td>\n",
       "      <td>NaN</td>\n",
       "      <td>NaN</td>\n",
       "      <td>NaN</td>\n",
       "      <td>NaN</td>\n",
       "      <td>NaN</td>\n",
       "      <td>NaN</td>\n",
       "      <td>NaN</td>\n",
       "      <td>NaN</td>\n",
       "      <td>NaN</td>\n",
       "      <td>NaN</td>\n",
       "      <td>NaN</td>\n",
       "      <td>NaN</td>\n",
       "      <td>NaN</td>\n",
       "      <td>NaN</td>\n",
       "      <td>NaN</td>\n",
       "      <td>63.20</td>\n",
       "      <td>51.36</td>\n",
       "      <td>56.57</td>\n",
       "      <td>43.76</td>\n",
       "      <td>27.78</td>\n",
       "      <td>15.14</td>\n",
       "    </tr>\n",
       "    <tr>\n",
       "      <th>DS</th>\n",
       "      <td>0.02</td>\n",
       "      <td>NaN</td>\n",
       "      <td>NaN</td>\n",
       "      <td>NaN</td>\n",
       "      <td>NaN</td>\n",
       "      <td>NaN</td>\n",
       "      <td>NaN</td>\n",
       "      <td>NaN</td>\n",
       "      <td>NaN</td>\n",
       "      <td>NaN</td>\n",
       "      <td>NaN</td>\n",
       "      <td>NaN</td>\n",
       "      <td>NaN</td>\n",
       "      <td>NaN</td>\n",
       "      <td>NaN</td>\n",
       "      <td>NaN</td>\n",
       "      <td>17.27</td>\n",
       "      <td>130.14</td>\n",
       "      <td>119.81</td>\n",
       "      <td>146.94</td>\n",
       "      <td>145.31</td>\n",
       "      <td>119.54</td>\n",
       "      <td>85.02</td>\n",
       "      <td>26.18</td>\n",
       "      <td>11.01</td>\n",
       "      <td>1.54</td>\n",
       "      <td>NaN</td>\n",
       "      <td>NaN</td>\n",
       "      <td>NaN</td>\n",
       "    </tr>\n",
       "    <tr>\n",
       "      <th>GB</th>\n",
       "      <td>NaN</td>\n",
       "      <td>1.43</td>\n",
       "      <td>64.97</td>\n",
       "      <td>4.89</td>\n",
       "      <td>5.57</td>\n",
       "      <td>25.49</td>\n",
       "      <td>12.18</td>\n",
       "      <td>3.60</td>\n",
       "      <td>36.03</td>\n",
       "      <td>6.37</td>\n",
       "      <td>26.90</td>\n",
       "      <td>38.00</td>\n",
       "      <td>19.76</td>\n",
       "      <td>9.24</td>\n",
       "      <td>NaN</td>\n",
       "      <td>NaN</td>\n",
       "      <td>NaN</td>\n",
       "      <td>NaN</td>\n",
       "      <td>NaN</td>\n",
       "      <td>NaN</td>\n",
       "      <td>NaN</td>\n",
       "      <td>NaN</td>\n",
       "      <td>NaN</td>\n",
       "      <td>NaN</td>\n",
       "      <td>NaN</td>\n",
       "      <td>NaN</td>\n",
       "      <td>NaN</td>\n",
       "      <td>NaN</td>\n",
       "      <td>NaN</td>\n",
       "    </tr>\n",
       "    <tr>\n",
       "      <th>GBA</th>\n",
       "      <td>NaN</td>\n",
       "      <td>NaN</td>\n",
       "      <td>NaN</td>\n",
       "      <td>NaN</td>\n",
       "      <td>NaN</td>\n",
       "      <td>NaN</td>\n",
       "      <td>NaN</td>\n",
       "      <td>NaN</td>\n",
       "      <td>NaN</td>\n",
       "      <td>NaN</td>\n",
       "      <td>NaN</td>\n",
       "      <td>NaN</td>\n",
       "      <td>0.07</td>\n",
       "      <td>61.53</td>\n",
       "      <td>74.16</td>\n",
       "      <td>56.67</td>\n",
       "      <td>77.91</td>\n",
       "      <td>33.86</td>\n",
       "      <td>5.28</td>\n",
       "      <td>3.40</td>\n",
       "      <td>NaN</td>\n",
       "      <td>NaN</td>\n",
       "      <td>NaN</td>\n",
       "      <td>NaN</td>\n",
       "      <td>NaN</td>\n",
       "      <td>NaN</td>\n",
       "      <td>NaN</td>\n",
       "      <td>NaN</td>\n",
       "      <td>NaN</td>\n",
       "    </tr>\n",
       "    <tr>\n",
       "      <th>PC</th>\n",
       "      <td>0.04</td>\n",
       "      <td>0.03</td>\n",
       "      <td>NaN</td>\n",
       "      <td>NaN</td>\n",
       "      <td>NaN</td>\n",
       "      <td>3.03</td>\n",
       "      <td>12.87</td>\n",
       "      <td>4.22</td>\n",
       "      <td>10.58</td>\n",
       "      <td>11.27</td>\n",
       "      <td>3.26</td>\n",
       "      <td>4.74</td>\n",
       "      <td>4.66</td>\n",
       "      <td>5.47</td>\n",
       "      <td>8.57</td>\n",
       "      <td>8.84</td>\n",
       "      <td>10.39</td>\n",
       "      <td>4.37</td>\n",
       "      <td>2.85</td>\n",
       "      <td>9.28</td>\n",
       "      <td>12.42</td>\n",
       "      <td>16.91</td>\n",
       "      <td>24.28</td>\n",
       "      <td>35.03</td>\n",
       "      <td>23.22</td>\n",
       "      <td>12.38</td>\n",
       "      <td>13.28</td>\n",
       "      <td>8.52</td>\n",
       "      <td>5.25</td>\n",
       "    </tr>\n",
       "    <tr>\n",
       "      <th>PS</th>\n",
       "      <td>NaN</td>\n",
       "      <td>NaN</td>\n",
       "      <td>NaN</td>\n",
       "      <td>NaN</td>\n",
       "      <td>NaN</td>\n",
       "      <td>NaN</td>\n",
       "      <td>6.03</td>\n",
       "      <td>35.96</td>\n",
       "      <td>94.70</td>\n",
       "      <td>136.17</td>\n",
       "      <td>169.49</td>\n",
       "      <td>144.53</td>\n",
       "      <td>96.37</td>\n",
       "      <td>35.59</td>\n",
       "      <td>6.67</td>\n",
       "      <td>2.07</td>\n",
       "      <td>NaN</td>\n",
       "      <td>NaN</td>\n",
       "      <td>NaN</td>\n",
       "      <td>NaN</td>\n",
       "      <td>NaN</td>\n",
       "      <td>NaN</td>\n",
       "      <td>NaN</td>\n",
       "      <td>NaN</td>\n",
       "      <td>NaN</td>\n",
       "      <td>NaN</td>\n",
       "      <td>NaN</td>\n",
       "      <td>NaN</td>\n",
       "      <td>NaN</td>\n",
       "    </tr>\n",
       "    <tr>\n",
       "      <th>PS2</th>\n",
       "      <td>NaN</td>\n",
       "      <td>NaN</td>\n",
       "      <td>NaN</td>\n",
       "      <td>NaN</td>\n",
       "      <td>NaN</td>\n",
       "      <td>NaN</td>\n",
       "      <td>NaN</td>\n",
       "      <td>NaN</td>\n",
       "      <td>NaN</td>\n",
       "      <td>NaN</td>\n",
       "      <td>NaN</td>\n",
       "      <td>NaN</td>\n",
       "      <td>39.17</td>\n",
       "      <td>166.43</td>\n",
       "      <td>205.38</td>\n",
       "      <td>184.31</td>\n",
       "      <td>211.81</td>\n",
       "      <td>160.66</td>\n",
       "      <td>103.42</td>\n",
       "      <td>75.99</td>\n",
       "      <td>53.90</td>\n",
       "      <td>26.40</td>\n",
       "      <td>5.64</td>\n",
       "      <td>0.45</td>\n",
       "      <td>NaN</td>\n",
       "      <td>NaN</td>\n",
       "      <td>NaN</td>\n",
       "      <td>NaN</td>\n",
       "      <td>NaN</td>\n",
       "    </tr>\n",
       "    <tr>\n",
       "      <th>PS3</th>\n",
       "      <td>NaN</td>\n",
       "      <td>NaN</td>\n",
       "      <td>NaN</td>\n",
       "      <td>NaN</td>\n",
       "      <td>NaN</td>\n",
       "      <td>NaN</td>\n",
       "      <td>NaN</td>\n",
       "      <td>NaN</td>\n",
       "      <td>NaN</td>\n",
       "      <td>NaN</td>\n",
       "      <td>NaN</td>\n",
       "      <td>NaN</td>\n",
       "      <td>NaN</td>\n",
       "      <td>NaN</td>\n",
       "      <td>NaN</td>\n",
       "      <td>NaN</td>\n",
       "      <td>NaN</td>\n",
       "      <td>NaN</td>\n",
       "      <td>20.96</td>\n",
       "      <td>73.19</td>\n",
       "      <td>118.52</td>\n",
       "      <td>130.93</td>\n",
       "      <td>142.17</td>\n",
       "      <td>156.78</td>\n",
       "      <td>107.36</td>\n",
       "      <td>113.25</td>\n",
       "      <td>47.76</td>\n",
       "      <td>16.82</td>\n",
       "      <td>3.60</td>\n",
       "    </tr>\n",
       "    <tr>\n",
       "      <th>PS4</th>\n",
       "      <td>NaN</td>\n",
       "      <td>NaN</td>\n",
       "      <td>NaN</td>\n",
       "      <td>NaN</td>\n",
       "      <td>NaN</td>\n",
       "      <td>NaN</td>\n",
       "      <td>NaN</td>\n",
       "      <td>NaN</td>\n",
       "      <td>NaN</td>\n",
       "      <td>NaN</td>\n",
       "      <td>NaN</td>\n",
       "      <td>NaN</td>\n",
       "      <td>NaN</td>\n",
       "      <td>NaN</td>\n",
       "      <td>NaN</td>\n",
       "      <td>NaN</td>\n",
       "      <td>NaN</td>\n",
       "      <td>NaN</td>\n",
       "      <td>NaN</td>\n",
       "      <td>NaN</td>\n",
       "      <td>NaN</td>\n",
       "      <td>NaN</td>\n",
       "      <td>NaN</td>\n",
       "      <td>NaN</td>\n",
       "      <td>NaN</td>\n",
       "      <td>25.99</td>\n",
       "      <td>100.00</td>\n",
       "      <td>118.90</td>\n",
       "      <td>69.25</td>\n",
       "    </tr>\n",
       "    <tr>\n",
       "      <th>PSP</th>\n",
       "      <td>NaN</td>\n",
       "      <td>NaN</td>\n",
       "      <td>NaN</td>\n",
       "      <td>NaN</td>\n",
       "      <td>NaN</td>\n",
       "      <td>NaN</td>\n",
       "      <td>NaN</td>\n",
       "      <td>NaN</td>\n",
       "      <td>NaN</td>\n",
       "      <td>NaN</td>\n",
       "      <td>NaN</td>\n",
       "      <td>NaN</td>\n",
       "      <td>NaN</td>\n",
       "      <td>NaN</td>\n",
       "      <td>NaN</td>\n",
       "      <td>NaN</td>\n",
       "      <td>7.06</td>\n",
       "      <td>43.84</td>\n",
       "      <td>55.32</td>\n",
       "      <td>46.93</td>\n",
       "      <td>34.55</td>\n",
       "      <td>37.78</td>\n",
       "      <td>35.04</td>\n",
       "      <td>17.82</td>\n",
       "      <td>7.69</td>\n",
       "      <td>3.14</td>\n",
       "      <td>0.24</td>\n",
       "      <td>0.12</td>\n",
       "      <td>NaN</td>\n",
       "    </tr>\n",
       "    <tr>\n",
       "      <th>Wii</th>\n",
       "      <td>NaN</td>\n",
       "      <td>NaN</td>\n",
       "      <td>NaN</td>\n",
       "      <td>NaN</td>\n",
       "      <td>NaN</td>\n",
       "      <td>NaN</td>\n",
       "      <td>NaN</td>\n",
       "      <td>NaN</td>\n",
       "      <td>NaN</td>\n",
       "      <td>NaN</td>\n",
       "      <td>NaN</td>\n",
       "      <td>NaN</td>\n",
       "      <td>NaN</td>\n",
       "      <td>NaN</td>\n",
       "      <td>NaN</td>\n",
       "      <td>NaN</td>\n",
       "      <td>NaN</td>\n",
       "      <td>NaN</td>\n",
       "      <td>137.15</td>\n",
       "      <td>152.77</td>\n",
       "      <td>171.32</td>\n",
       "      <td>206.97</td>\n",
       "      <td>127.95</td>\n",
       "      <td>59.65</td>\n",
       "      <td>21.71</td>\n",
       "      <td>8.59</td>\n",
       "      <td>3.75</td>\n",
       "      <td>1.14</td>\n",
       "      <td>0.18</td>\n",
       "    </tr>\n",
       "    <tr>\n",
       "      <th>X360</th>\n",
       "      <td>NaN</td>\n",
       "      <td>NaN</td>\n",
       "      <td>NaN</td>\n",
       "      <td>NaN</td>\n",
       "      <td>NaN</td>\n",
       "      <td>NaN</td>\n",
       "      <td>NaN</td>\n",
       "      <td>NaN</td>\n",
       "      <td>NaN</td>\n",
       "      <td>NaN</td>\n",
       "      <td>NaN</td>\n",
       "      <td>NaN</td>\n",
       "      <td>NaN</td>\n",
       "      <td>NaN</td>\n",
       "      <td>NaN</td>\n",
       "      <td>NaN</td>\n",
       "      <td>NaN</td>\n",
       "      <td>8.25</td>\n",
       "      <td>51.62</td>\n",
       "      <td>95.41</td>\n",
       "      <td>135.26</td>\n",
       "      <td>120.29</td>\n",
       "      <td>170.03</td>\n",
       "      <td>143.84</td>\n",
       "      <td>99.74</td>\n",
       "      <td>88.58</td>\n",
       "      <td>34.74</td>\n",
       "      <td>11.96</td>\n",
       "      <td>1.52</td>\n",
       "    </tr>\n",
       "    <tr>\n",
       "      <th>XB</th>\n",
       "      <td>NaN</td>\n",
       "      <td>NaN</td>\n",
       "      <td>NaN</td>\n",
       "      <td>NaN</td>\n",
       "      <td>NaN</td>\n",
       "      <td>NaN</td>\n",
       "      <td>NaN</td>\n",
       "      <td>NaN</td>\n",
       "      <td>NaN</td>\n",
       "      <td>NaN</td>\n",
       "      <td>NaN</td>\n",
       "      <td>NaN</td>\n",
       "      <td>0.99</td>\n",
       "      <td>22.26</td>\n",
       "      <td>48.01</td>\n",
       "      <td>55.04</td>\n",
       "      <td>65.42</td>\n",
       "      <td>49.08</td>\n",
       "      <td>10.04</td>\n",
       "      <td>0.55</td>\n",
       "      <td>0.18</td>\n",
       "      <td>NaN</td>\n",
       "      <td>NaN</td>\n",
       "      <td>NaN</td>\n",
       "      <td>NaN</td>\n",
       "      <td>NaN</td>\n",
       "      <td>NaN</td>\n",
       "      <td>NaN</td>\n",
       "      <td>NaN</td>\n",
       "    </tr>\n",
       "  </tbody>\n",
       "</table>\n",
       "</div>"
      ],
      "text/plain": [
       "year_of_release  1985  1988   1989  1990  1991   1992   1994   1995   1996  \\\n",
       "platform                                                                     \n",
       "3DS               NaN   NaN    NaN   NaN   NaN    NaN    NaN    NaN    NaN   \n",
       "DS               0.02   NaN    NaN   NaN   NaN    NaN    NaN    NaN    NaN   \n",
       "GB                NaN  1.43  64.97  4.89  5.57  25.49  12.18   3.60  36.03   \n",
       "GBA               NaN   NaN    NaN   NaN   NaN    NaN    NaN    NaN    NaN   \n",
       "PC               0.04  0.03    NaN   NaN   NaN   3.03  12.87   4.22  10.58   \n",
       "PS                NaN   NaN    NaN   NaN   NaN    NaN   6.03  35.96  94.70   \n",
       "PS2               NaN   NaN    NaN   NaN   NaN    NaN    NaN    NaN    NaN   \n",
       "PS3               NaN   NaN    NaN   NaN   NaN    NaN    NaN    NaN    NaN   \n",
       "PS4               NaN   NaN    NaN   NaN   NaN    NaN    NaN    NaN    NaN   \n",
       "PSP               NaN   NaN    NaN   NaN   NaN    NaN    NaN    NaN    NaN   \n",
       "Wii               NaN   NaN    NaN   NaN   NaN    NaN    NaN    NaN    NaN   \n",
       "X360              NaN   NaN    NaN   NaN   NaN    NaN    NaN    NaN    NaN   \n",
       "XB                NaN   NaN    NaN   NaN   NaN    NaN    NaN    NaN    NaN   \n",
       "\n",
       "year_of_release    1997    1998    1999   2000    2001    2002    2003  \\\n",
       "platform                                                                 \n",
       "3DS                 NaN     NaN     NaN    NaN     NaN     NaN     NaN   \n",
       "DS                  NaN     NaN     NaN    NaN     NaN     NaN     NaN   \n",
       "GB                 6.37   26.90   38.00  19.76    9.24     NaN     NaN   \n",
       "GBA                 NaN     NaN     NaN   0.07   61.53   74.16   56.67   \n",
       "PC                11.27    3.26    4.74   4.66    5.47    8.57    8.84   \n",
       "PS               136.17  169.49  144.53  96.37   35.59    6.67    2.07   \n",
       "PS2                 NaN     NaN     NaN  39.17  166.43  205.38  184.31   \n",
       "PS3                 NaN     NaN     NaN    NaN     NaN     NaN     NaN   \n",
       "PS4                 NaN     NaN     NaN    NaN     NaN     NaN     NaN   \n",
       "PSP                 NaN     NaN     NaN    NaN     NaN     NaN     NaN   \n",
       "Wii                 NaN     NaN     NaN    NaN     NaN     NaN     NaN   \n",
       "X360                NaN     NaN     NaN    NaN     NaN     NaN     NaN   \n",
       "XB                  NaN     NaN     NaN   0.99   22.26   48.01   55.04   \n",
       "\n",
       "year_of_release    2004    2005    2006    2007    2008    2009    2010  \\\n",
       "platform                                                                  \n",
       "3DS                 NaN     NaN     NaN     NaN     NaN     NaN     NaN   \n",
       "DS                17.27  130.14  119.81  146.94  145.31  119.54   85.02   \n",
       "GB                  NaN     NaN     NaN     NaN     NaN     NaN     NaN   \n",
       "GBA               77.91   33.86    5.28    3.40     NaN     NaN     NaN   \n",
       "PC                10.39    4.37    2.85    9.28   12.42   16.91   24.28   \n",
       "PS                  NaN     NaN     NaN     NaN     NaN     NaN     NaN   \n",
       "PS2              211.81  160.66  103.42   75.99   53.90   26.40    5.64   \n",
       "PS3                 NaN     NaN   20.96   73.19  118.52  130.93  142.17   \n",
       "PS4                 NaN     NaN     NaN     NaN     NaN     NaN     NaN   \n",
       "PSP                7.06   43.84   55.32   46.93   34.55   37.78   35.04   \n",
       "Wii                 NaN     NaN  137.15  152.77  171.32  206.97  127.95   \n",
       "X360                NaN    8.25   51.62   95.41  135.26  120.29  170.03   \n",
       "XB                65.42   49.08   10.04    0.55    0.18     NaN     NaN   \n",
       "\n",
       "year_of_release    2011    2012    2013    2014    2015   2016  \n",
       "platform                                                        \n",
       "3DS               63.20   51.36   56.57   43.76   27.78  15.14  \n",
       "DS                26.18   11.01    1.54     NaN     NaN    NaN  \n",
       "GB                  NaN     NaN     NaN     NaN     NaN    NaN  \n",
       "GBA                 NaN     NaN     NaN     NaN     NaN    NaN  \n",
       "PC                35.03   23.22   12.38   13.28    8.52   5.25  \n",
       "PS                  NaN     NaN     NaN     NaN     NaN    NaN  \n",
       "PS2                0.45     NaN     NaN     NaN     NaN    NaN  \n",
       "PS3              156.78  107.36  113.25   47.76   16.82   3.60  \n",
       "PS4                 NaN     NaN   25.99  100.00  118.90  69.25  \n",
       "PSP               17.82    7.69    3.14    0.24    0.12    NaN  \n",
       "Wii               59.65   21.71    8.59    3.75    1.14   0.18  \n",
       "X360             143.84   99.74   88.58   34.74   11.96   1.52  \n",
       "XB                  NaN     NaN     NaN     NaN     NaN    NaN  "
      ]
     },
     "metadata": {},
     "output_type": "display_data"
    }
   ],
   "source": [
    "platform_year = data.query('platform in @platform_top12') \\\n",
    "                    .pivot_table(index='platform', columns='year_of_release', values='sales', aggfunc='sum')\n",
    "display(platform_year)"
   ]
  },
  {
   "cell_type": "markdown",
   "metadata": {},
   "source": [
    "Для дальнейших расчётов создадим датафрейм год релиза - платформа транспонированием датафрейма platform_year.  "
   ]
  },
  {
   "cell_type": "code",
   "execution_count": 39,
   "metadata": {
    "scrolled": false
   },
   "outputs": [
    {
     "data": {
      "text/html": [
       "<div>\n",
       "<style scoped>\n",
       "    .dataframe tbody tr th:only-of-type {\n",
       "        vertical-align: middle;\n",
       "    }\n",
       "\n",
       "    .dataframe tbody tr th {\n",
       "        vertical-align: top;\n",
       "    }\n",
       "\n",
       "    .dataframe thead th {\n",
       "        text-align: right;\n",
       "    }\n",
       "</style>\n",
       "<table border=\"1\" class=\"dataframe\">\n",
       "  <thead>\n",
       "    <tr style=\"text-align: right;\">\n",
       "      <th></th>\n",
       "      <th>year_of_release</th>\n",
       "      <th>3DS</th>\n",
       "      <th>DS</th>\n",
       "      <th>GB</th>\n",
       "      <th>GBA</th>\n",
       "      <th>PC</th>\n",
       "      <th>PS</th>\n",
       "      <th>PS2</th>\n",
       "      <th>PS3</th>\n",
       "      <th>PS4</th>\n",
       "      <th>PSP</th>\n",
       "      <th>Wii</th>\n",
       "      <th>X360</th>\n",
       "      <th>XB</th>\n",
       "    </tr>\n",
       "  </thead>\n",
       "  <tbody>\n",
       "    <tr>\n",
       "      <th>0</th>\n",
       "      <td>1985</td>\n",
       "      <td>NaN</td>\n",
       "      <td>0.02</td>\n",
       "      <td>NaN</td>\n",
       "      <td>NaN</td>\n",
       "      <td>0.04</td>\n",
       "      <td>NaN</td>\n",
       "      <td>NaN</td>\n",
       "      <td>NaN</td>\n",
       "      <td>NaN</td>\n",
       "      <td>NaN</td>\n",
       "      <td>NaN</td>\n",
       "      <td>NaN</td>\n",
       "      <td>NaN</td>\n",
       "    </tr>\n",
       "    <tr>\n",
       "      <th>1</th>\n",
       "      <td>1988</td>\n",
       "      <td>NaN</td>\n",
       "      <td>NaN</td>\n",
       "      <td>1.43</td>\n",
       "      <td>NaN</td>\n",
       "      <td>0.03</td>\n",
       "      <td>NaN</td>\n",
       "      <td>NaN</td>\n",
       "      <td>NaN</td>\n",
       "      <td>NaN</td>\n",
       "      <td>NaN</td>\n",
       "      <td>NaN</td>\n",
       "      <td>NaN</td>\n",
       "      <td>NaN</td>\n",
       "    </tr>\n",
       "    <tr>\n",
       "      <th>2</th>\n",
       "      <td>1989</td>\n",
       "      <td>NaN</td>\n",
       "      <td>NaN</td>\n",
       "      <td>64.97</td>\n",
       "      <td>NaN</td>\n",
       "      <td>NaN</td>\n",
       "      <td>NaN</td>\n",
       "      <td>NaN</td>\n",
       "      <td>NaN</td>\n",
       "      <td>NaN</td>\n",
       "      <td>NaN</td>\n",
       "      <td>NaN</td>\n",
       "      <td>NaN</td>\n",
       "      <td>NaN</td>\n",
       "    </tr>\n",
       "    <tr>\n",
       "      <th>3</th>\n",
       "      <td>1990</td>\n",
       "      <td>NaN</td>\n",
       "      <td>NaN</td>\n",
       "      <td>4.89</td>\n",
       "      <td>NaN</td>\n",
       "      <td>NaN</td>\n",
       "      <td>NaN</td>\n",
       "      <td>NaN</td>\n",
       "      <td>NaN</td>\n",
       "      <td>NaN</td>\n",
       "      <td>NaN</td>\n",
       "      <td>NaN</td>\n",
       "      <td>NaN</td>\n",
       "      <td>NaN</td>\n",
       "    </tr>\n",
       "    <tr>\n",
       "      <th>4</th>\n",
       "      <td>1991</td>\n",
       "      <td>NaN</td>\n",
       "      <td>NaN</td>\n",
       "      <td>5.57</td>\n",
       "      <td>NaN</td>\n",
       "      <td>NaN</td>\n",
       "      <td>NaN</td>\n",
       "      <td>NaN</td>\n",
       "      <td>NaN</td>\n",
       "      <td>NaN</td>\n",
       "      <td>NaN</td>\n",
       "      <td>NaN</td>\n",
       "      <td>NaN</td>\n",
       "      <td>NaN</td>\n",
       "    </tr>\n",
       "    <tr>\n",
       "      <th>5</th>\n",
       "      <td>1992</td>\n",
       "      <td>NaN</td>\n",
       "      <td>NaN</td>\n",
       "      <td>25.49</td>\n",
       "      <td>NaN</td>\n",
       "      <td>3.03</td>\n",
       "      <td>NaN</td>\n",
       "      <td>NaN</td>\n",
       "      <td>NaN</td>\n",
       "      <td>NaN</td>\n",
       "      <td>NaN</td>\n",
       "      <td>NaN</td>\n",
       "      <td>NaN</td>\n",
       "      <td>NaN</td>\n",
       "    </tr>\n",
       "    <tr>\n",
       "      <th>6</th>\n",
       "      <td>1994</td>\n",
       "      <td>NaN</td>\n",
       "      <td>NaN</td>\n",
       "      <td>12.18</td>\n",
       "      <td>NaN</td>\n",
       "      <td>12.87</td>\n",
       "      <td>6.03</td>\n",
       "      <td>NaN</td>\n",
       "      <td>NaN</td>\n",
       "      <td>NaN</td>\n",
       "      <td>NaN</td>\n",
       "      <td>NaN</td>\n",
       "      <td>NaN</td>\n",
       "      <td>NaN</td>\n",
       "    </tr>\n",
       "    <tr>\n",
       "      <th>7</th>\n",
       "      <td>1995</td>\n",
       "      <td>NaN</td>\n",
       "      <td>NaN</td>\n",
       "      <td>3.60</td>\n",
       "      <td>NaN</td>\n",
       "      <td>4.22</td>\n",
       "      <td>35.96</td>\n",
       "      <td>NaN</td>\n",
       "      <td>NaN</td>\n",
       "      <td>NaN</td>\n",
       "      <td>NaN</td>\n",
       "      <td>NaN</td>\n",
       "      <td>NaN</td>\n",
       "      <td>NaN</td>\n",
       "    </tr>\n",
       "    <tr>\n",
       "      <th>8</th>\n",
       "      <td>1996</td>\n",
       "      <td>NaN</td>\n",
       "      <td>NaN</td>\n",
       "      <td>36.03</td>\n",
       "      <td>NaN</td>\n",
       "      <td>10.58</td>\n",
       "      <td>94.70</td>\n",
       "      <td>NaN</td>\n",
       "      <td>NaN</td>\n",
       "      <td>NaN</td>\n",
       "      <td>NaN</td>\n",
       "      <td>NaN</td>\n",
       "      <td>NaN</td>\n",
       "      <td>NaN</td>\n",
       "    </tr>\n",
       "    <tr>\n",
       "      <th>9</th>\n",
       "      <td>1997</td>\n",
       "      <td>NaN</td>\n",
       "      <td>NaN</td>\n",
       "      <td>6.37</td>\n",
       "      <td>NaN</td>\n",
       "      <td>11.27</td>\n",
       "      <td>136.17</td>\n",
       "      <td>NaN</td>\n",
       "      <td>NaN</td>\n",
       "      <td>NaN</td>\n",
       "      <td>NaN</td>\n",
       "      <td>NaN</td>\n",
       "      <td>NaN</td>\n",
       "      <td>NaN</td>\n",
       "    </tr>\n",
       "    <tr>\n",
       "      <th>10</th>\n",
       "      <td>1998</td>\n",
       "      <td>NaN</td>\n",
       "      <td>NaN</td>\n",
       "      <td>26.90</td>\n",
       "      <td>NaN</td>\n",
       "      <td>3.26</td>\n",
       "      <td>169.49</td>\n",
       "      <td>NaN</td>\n",
       "      <td>NaN</td>\n",
       "      <td>NaN</td>\n",
       "      <td>NaN</td>\n",
       "      <td>NaN</td>\n",
       "      <td>NaN</td>\n",
       "      <td>NaN</td>\n",
       "    </tr>\n",
       "    <tr>\n",
       "      <th>11</th>\n",
       "      <td>1999</td>\n",
       "      <td>NaN</td>\n",
       "      <td>NaN</td>\n",
       "      <td>38.00</td>\n",
       "      <td>NaN</td>\n",
       "      <td>4.74</td>\n",
       "      <td>144.53</td>\n",
       "      <td>NaN</td>\n",
       "      <td>NaN</td>\n",
       "      <td>NaN</td>\n",
       "      <td>NaN</td>\n",
       "      <td>NaN</td>\n",
       "      <td>NaN</td>\n",
       "      <td>NaN</td>\n",
       "    </tr>\n",
       "    <tr>\n",
       "      <th>12</th>\n",
       "      <td>2000</td>\n",
       "      <td>NaN</td>\n",
       "      <td>NaN</td>\n",
       "      <td>19.76</td>\n",
       "      <td>0.07</td>\n",
       "      <td>4.66</td>\n",
       "      <td>96.37</td>\n",
       "      <td>39.17</td>\n",
       "      <td>NaN</td>\n",
       "      <td>NaN</td>\n",
       "      <td>NaN</td>\n",
       "      <td>NaN</td>\n",
       "      <td>NaN</td>\n",
       "      <td>0.99</td>\n",
       "    </tr>\n",
       "    <tr>\n",
       "      <th>13</th>\n",
       "      <td>2001</td>\n",
       "      <td>NaN</td>\n",
       "      <td>NaN</td>\n",
       "      <td>9.24</td>\n",
       "      <td>61.53</td>\n",
       "      <td>5.47</td>\n",
       "      <td>35.59</td>\n",
       "      <td>166.43</td>\n",
       "      <td>NaN</td>\n",
       "      <td>NaN</td>\n",
       "      <td>NaN</td>\n",
       "      <td>NaN</td>\n",
       "      <td>NaN</td>\n",
       "      <td>22.26</td>\n",
       "    </tr>\n",
       "    <tr>\n",
       "      <th>14</th>\n",
       "      <td>2002</td>\n",
       "      <td>NaN</td>\n",
       "      <td>NaN</td>\n",
       "      <td>NaN</td>\n",
       "      <td>74.16</td>\n",
       "      <td>8.57</td>\n",
       "      <td>6.67</td>\n",
       "      <td>205.38</td>\n",
       "      <td>NaN</td>\n",
       "      <td>NaN</td>\n",
       "      <td>NaN</td>\n",
       "      <td>NaN</td>\n",
       "      <td>NaN</td>\n",
       "      <td>48.01</td>\n",
       "    </tr>\n",
       "    <tr>\n",
       "      <th>15</th>\n",
       "      <td>2003</td>\n",
       "      <td>NaN</td>\n",
       "      <td>NaN</td>\n",
       "      <td>NaN</td>\n",
       "      <td>56.67</td>\n",
       "      <td>8.84</td>\n",
       "      <td>2.07</td>\n",
       "      <td>184.31</td>\n",
       "      <td>NaN</td>\n",
       "      <td>NaN</td>\n",
       "      <td>NaN</td>\n",
       "      <td>NaN</td>\n",
       "      <td>NaN</td>\n",
       "      <td>55.04</td>\n",
       "    </tr>\n",
       "    <tr>\n",
       "      <th>16</th>\n",
       "      <td>2004</td>\n",
       "      <td>NaN</td>\n",
       "      <td>17.27</td>\n",
       "      <td>NaN</td>\n",
       "      <td>77.91</td>\n",
       "      <td>10.39</td>\n",
       "      <td>NaN</td>\n",
       "      <td>211.81</td>\n",
       "      <td>NaN</td>\n",
       "      <td>NaN</td>\n",
       "      <td>7.06</td>\n",
       "      <td>NaN</td>\n",
       "      <td>NaN</td>\n",
       "      <td>65.42</td>\n",
       "    </tr>\n",
       "    <tr>\n",
       "      <th>17</th>\n",
       "      <td>2005</td>\n",
       "      <td>NaN</td>\n",
       "      <td>130.14</td>\n",
       "      <td>NaN</td>\n",
       "      <td>33.86</td>\n",
       "      <td>4.37</td>\n",
       "      <td>NaN</td>\n",
       "      <td>160.66</td>\n",
       "      <td>NaN</td>\n",
       "      <td>NaN</td>\n",
       "      <td>43.84</td>\n",
       "      <td>NaN</td>\n",
       "      <td>8.25</td>\n",
       "      <td>49.08</td>\n",
       "    </tr>\n",
       "    <tr>\n",
       "      <th>18</th>\n",
       "      <td>2006</td>\n",
       "      <td>NaN</td>\n",
       "      <td>119.81</td>\n",
       "      <td>NaN</td>\n",
       "      <td>5.28</td>\n",
       "      <td>2.85</td>\n",
       "      <td>NaN</td>\n",
       "      <td>103.42</td>\n",
       "      <td>20.96</td>\n",
       "      <td>NaN</td>\n",
       "      <td>55.32</td>\n",
       "      <td>137.15</td>\n",
       "      <td>51.62</td>\n",
       "      <td>10.04</td>\n",
       "    </tr>\n",
       "    <tr>\n",
       "      <th>19</th>\n",
       "      <td>2007</td>\n",
       "      <td>NaN</td>\n",
       "      <td>146.94</td>\n",
       "      <td>NaN</td>\n",
       "      <td>3.40</td>\n",
       "      <td>9.28</td>\n",
       "      <td>NaN</td>\n",
       "      <td>75.99</td>\n",
       "      <td>73.19</td>\n",
       "      <td>NaN</td>\n",
       "      <td>46.93</td>\n",
       "      <td>152.77</td>\n",
       "      <td>95.41</td>\n",
       "      <td>0.55</td>\n",
       "    </tr>\n",
       "    <tr>\n",
       "      <th>20</th>\n",
       "      <td>2008</td>\n",
       "      <td>NaN</td>\n",
       "      <td>145.31</td>\n",
       "      <td>NaN</td>\n",
       "      <td>NaN</td>\n",
       "      <td>12.42</td>\n",
       "      <td>NaN</td>\n",
       "      <td>53.90</td>\n",
       "      <td>118.52</td>\n",
       "      <td>NaN</td>\n",
       "      <td>34.55</td>\n",
       "      <td>171.32</td>\n",
       "      <td>135.26</td>\n",
       "      <td>0.18</td>\n",
       "    </tr>\n",
       "    <tr>\n",
       "      <th>21</th>\n",
       "      <td>2009</td>\n",
       "      <td>NaN</td>\n",
       "      <td>119.54</td>\n",
       "      <td>NaN</td>\n",
       "      <td>NaN</td>\n",
       "      <td>16.91</td>\n",
       "      <td>NaN</td>\n",
       "      <td>26.40</td>\n",
       "      <td>130.93</td>\n",
       "      <td>NaN</td>\n",
       "      <td>37.78</td>\n",
       "      <td>206.97</td>\n",
       "      <td>120.29</td>\n",
       "      <td>NaN</td>\n",
       "    </tr>\n",
       "    <tr>\n",
       "      <th>22</th>\n",
       "      <td>2010</td>\n",
       "      <td>NaN</td>\n",
       "      <td>85.02</td>\n",
       "      <td>NaN</td>\n",
       "      <td>NaN</td>\n",
       "      <td>24.28</td>\n",
       "      <td>NaN</td>\n",
       "      <td>5.64</td>\n",
       "      <td>142.17</td>\n",
       "      <td>NaN</td>\n",
       "      <td>35.04</td>\n",
       "      <td>127.95</td>\n",
       "      <td>170.03</td>\n",
       "      <td>NaN</td>\n",
       "    </tr>\n",
       "    <tr>\n",
       "      <th>23</th>\n",
       "      <td>2011</td>\n",
       "      <td>63.20</td>\n",
       "      <td>26.18</td>\n",
       "      <td>NaN</td>\n",
       "      <td>NaN</td>\n",
       "      <td>35.03</td>\n",
       "      <td>NaN</td>\n",
       "      <td>0.45</td>\n",
       "      <td>156.78</td>\n",
       "      <td>NaN</td>\n",
       "      <td>17.82</td>\n",
       "      <td>59.65</td>\n",
       "      <td>143.84</td>\n",
       "      <td>NaN</td>\n",
       "    </tr>\n",
       "    <tr>\n",
       "      <th>24</th>\n",
       "      <td>2012</td>\n",
       "      <td>51.36</td>\n",
       "      <td>11.01</td>\n",
       "      <td>NaN</td>\n",
       "      <td>NaN</td>\n",
       "      <td>23.22</td>\n",
       "      <td>NaN</td>\n",
       "      <td>NaN</td>\n",
       "      <td>107.36</td>\n",
       "      <td>NaN</td>\n",
       "      <td>7.69</td>\n",
       "      <td>21.71</td>\n",
       "      <td>99.74</td>\n",
       "      <td>NaN</td>\n",
       "    </tr>\n",
       "    <tr>\n",
       "      <th>25</th>\n",
       "      <td>2013</td>\n",
       "      <td>56.57</td>\n",
       "      <td>1.54</td>\n",
       "      <td>NaN</td>\n",
       "      <td>NaN</td>\n",
       "      <td>12.38</td>\n",
       "      <td>NaN</td>\n",
       "      <td>NaN</td>\n",
       "      <td>113.25</td>\n",
       "      <td>25.99</td>\n",
       "      <td>3.14</td>\n",
       "      <td>8.59</td>\n",
       "      <td>88.58</td>\n",
       "      <td>NaN</td>\n",
       "    </tr>\n",
       "    <tr>\n",
       "      <th>26</th>\n",
       "      <td>2014</td>\n",
       "      <td>43.76</td>\n",
       "      <td>NaN</td>\n",
       "      <td>NaN</td>\n",
       "      <td>NaN</td>\n",
       "      <td>13.28</td>\n",
       "      <td>NaN</td>\n",
       "      <td>NaN</td>\n",
       "      <td>47.76</td>\n",
       "      <td>100.00</td>\n",
       "      <td>0.24</td>\n",
       "      <td>3.75</td>\n",
       "      <td>34.74</td>\n",
       "      <td>NaN</td>\n",
       "    </tr>\n",
       "    <tr>\n",
       "      <th>27</th>\n",
       "      <td>2015</td>\n",
       "      <td>27.78</td>\n",
       "      <td>NaN</td>\n",
       "      <td>NaN</td>\n",
       "      <td>NaN</td>\n",
       "      <td>8.52</td>\n",
       "      <td>NaN</td>\n",
       "      <td>NaN</td>\n",
       "      <td>16.82</td>\n",
       "      <td>118.90</td>\n",
       "      <td>0.12</td>\n",
       "      <td>1.14</td>\n",
       "      <td>11.96</td>\n",
       "      <td>NaN</td>\n",
       "    </tr>\n",
       "    <tr>\n",
       "      <th>28</th>\n",
       "      <td>2016</td>\n",
       "      <td>15.14</td>\n",
       "      <td>NaN</td>\n",
       "      <td>NaN</td>\n",
       "      <td>NaN</td>\n",
       "      <td>5.25</td>\n",
       "      <td>NaN</td>\n",
       "      <td>NaN</td>\n",
       "      <td>3.60</td>\n",
       "      <td>69.25</td>\n",
       "      <td>NaN</td>\n",
       "      <td>0.18</td>\n",
       "      <td>1.52</td>\n",
       "      <td>NaN</td>\n",
       "    </tr>\n",
       "  </tbody>\n",
       "</table>\n",
       "</div>"
      ],
      "text/plain": [
       "    year_of_release    3DS      DS     GB    GBA     PC      PS     PS2  \\\n",
       "0              1985    NaN    0.02    NaN    NaN   0.04     NaN     NaN   \n",
       "1              1988    NaN     NaN   1.43    NaN   0.03     NaN     NaN   \n",
       "2              1989    NaN     NaN  64.97    NaN    NaN     NaN     NaN   \n",
       "3              1990    NaN     NaN   4.89    NaN    NaN     NaN     NaN   \n",
       "4              1991    NaN     NaN   5.57    NaN    NaN     NaN     NaN   \n",
       "5              1992    NaN     NaN  25.49    NaN   3.03     NaN     NaN   \n",
       "6              1994    NaN     NaN  12.18    NaN  12.87    6.03     NaN   \n",
       "7              1995    NaN     NaN   3.60    NaN   4.22   35.96     NaN   \n",
       "8              1996    NaN     NaN  36.03    NaN  10.58   94.70     NaN   \n",
       "9              1997    NaN     NaN   6.37    NaN  11.27  136.17     NaN   \n",
       "10             1998    NaN     NaN  26.90    NaN   3.26  169.49     NaN   \n",
       "11             1999    NaN     NaN  38.00    NaN   4.74  144.53     NaN   \n",
       "12             2000    NaN     NaN  19.76   0.07   4.66   96.37   39.17   \n",
       "13             2001    NaN     NaN   9.24  61.53   5.47   35.59  166.43   \n",
       "14             2002    NaN     NaN    NaN  74.16   8.57    6.67  205.38   \n",
       "15             2003    NaN     NaN    NaN  56.67   8.84    2.07  184.31   \n",
       "16             2004    NaN   17.27    NaN  77.91  10.39     NaN  211.81   \n",
       "17             2005    NaN  130.14    NaN  33.86   4.37     NaN  160.66   \n",
       "18             2006    NaN  119.81    NaN   5.28   2.85     NaN  103.42   \n",
       "19             2007    NaN  146.94    NaN   3.40   9.28     NaN   75.99   \n",
       "20             2008    NaN  145.31    NaN    NaN  12.42     NaN   53.90   \n",
       "21             2009    NaN  119.54    NaN    NaN  16.91     NaN   26.40   \n",
       "22             2010    NaN   85.02    NaN    NaN  24.28     NaN    5.64   \n",
       "23             2011  63.20   26.18    NaN    NaN  35.03     NaN    0.45   \n",
       "24             2012  51.36   11.01    NaN    NaN  23.22     NaN     NaN   \n",
       "25             2013  56.57    1.54    NaN    NaN  12.38     NaN     NaN   \n",
       "26             2014  43.76     NaN    NaN    NaN  13.28     NaN     NaN   \n",
       "27             2015  27.78     NaN    NaN    NaN   8.52     NaN     NaN   \n",
       "28             2016  15.14     NaN    NaN    NaN   5.25     NaN     NaN   \n",
       "\n",
       "       PS3     PS4    PSP     Wii    X360     XB  \n",
       "0      NaN     NaN    NaN     NaN     NaN    NaN  \n",
       "1      NaN     NaN    NaN     NaN     NaN    NaN  \n",
       "2      NaN     NaN    NaN     NaN     NaN    NaN  \n",
       "3      NaN     NaN    NaN     NaN     NaN    NaN  \n",
       "4      NaN     NaN    NaN     NaN     NaN    NaN  \n",
       "5      NaN     NaN    NaN     NaN     NaN    NaN  \n",
       "6      NaN     NaN    NaN     NaN     NaN    NaN  \n",
       "7      NaN     NaN    NaN     NaN     NaN    NaN  \n",
       "8      NaN     NaN    NaN     NaN     NaN    NaN  \n",
       "9      NaN     NaN    NaN     NaN     NaN    NaN  \n",
       "10     NaN     NaN    NaN     NaN     NaN    NaN  \n",
       "11     NaN     NaN    NaN     NaN     NaN    NaN  \n",
       "12     NaN     NaN    NaN     NaN     NaN   0.99  \n",
       "13     NaN     NaN    NaN     NaN     NaN  22.26  \n",
       "14     NaN     NaN    NaN     NaN     NaN  48.01  \n",
       "15     NaN     NaN    NaN     NaN     NaN  55.04  \n",
       "16     NaN     NaN   7.06     NaN     NaN  65.42  \n",
       "17     NaN     NaN  43.84     NaN    8.25  49.08  \n",
       "18   20.96     NaN  55.32  137.15   51.62  10.04  \n",
       "19   73.19     NaN  46.93  152.77   95.41   0.55  \n",
       "20  118.52     NaN  34.55  171.32  135.26   0.18  \n",
       "21  130.93     NaN  37.78  206.97  120.29    NaN  \n",
       "22  142.17     NaN  35.04  127.95  170.03    NaN  \n",
       "23  156.78     NaN  17.82   59.65  143.84    NaN  \n",
       "24  107.36     NaN   7.69   21.71   99.74    NaN  \n",
       "25  113.25   25.99   3.14    8.59   88.58    NaN  \n",
       "26   47.76  100.00   0.24    3.75   34.74    NaN  \n",
       "27   16.82  118.90   0.12    1.14   11.96    NaN  \n",
       "28    3.60   69.25    NaN    0.18    1.52    NaN  "
      ]
     },
     "execution_count": 39,
     "metadata": {},
     "output_type": "execute_result"
    }
   ],
   "source": [
    "year_platform = platform_year.T.reset_index()\n",
    "year_platform.columns.rename('', inplace=True) # удаление имени столбцов\n",
    "year_platform"
   ]
  },
  {
   "cell_type": "markdown",
   "metadata": {},
   "source": [
    "Создание датафрейма платформа - время существования."
   ]
  },
  {
   "cell_type": "code",
   "execution_count": 40,
   "metadata": {
    "scrolled": true
   },
   "outputs": [
    {
     "data": {
      "text/html": [
       "<div>\n",
       "<style scoped>\n",
       "    .dataframe tbody tr th:only-of-type {\n",
       "        vertical-align: middle;\n",
       "    }\n",
       "\n",
       "    .dataframe tbody tr th {\n",
       "        vertical-align: top;\n",
       "    }\n",
       "\n",
       "    .dataframe thead th {\n",
       "        text-align: right;\n",
       "    }\n",
       "</style>\n",
       "<table border=\"1\" class=\"dataframe\">\n",
       "  <thead>\n",
       "    <tr style=\"text-align: right;\">\n",
       "      <th></th>\n",
       "      <th>platform</th>\n",
       "      <th>lifetime</th>\n",
       "    </tr>\n",
       "  </thead>\n",
       "  <tbody>\n",
       "    <tr>\n",
       "      <th>0</th>\n",
       "      <td>PS2</td>\n",
       "      <td>11</td>\n",
       "    </tr>\n",
       "    <tr>\n",
       "      <th>1</th>\n",
       "      <td>X360</td>\n",
       "      <td>11</td>\n",
       "    </tr>\n",
       "    <tr>\n",
       "      <th>2</th>\n",
       "      <td>PS3</td>\n",
       "      <td>10</td>\n",
       "    </tr>\n",
       "    <tr>\n",
       "      <th>3</th>\n",
       "      <td>Wii</td>\n",
       "      <td>10</td>\n",
       "    </tr>\n",
       "    <tr>\n",
       "      <th>4</th>\n",
       "      <td>DS</td>\n",
       "      <td>28</td>\n",
       "    </tr>\n",
       "    <tr>\n",
       "      <th>5</th>\n",
       "      <td>PS</td>\n",
       "      <td>9</td>\n",
       "    </tr>\n",
       "    <tr>\n",
       "      <th>6</th>\n",
       "      <td>PS4</td>\n",
       "      <td>3</td>\n",
       "    </tr>\n",
       "    <tr>\n",
       "      <th>7</th>\n",
       "      <td>GBA</td>\n",
       "      <td>7</td>\n",
       "    </tr>\n",
       "    <tr>\n",
       "      <th>8</th>\n",
       "      <td>PSP</td>\n",
       "      <td>11</td>\n",
       "    </tr>\n",
       "    <tr>\n",
       "      <th>9</th>\n",
       "      <td>3DS</td>\n",
       "      <td>5</td>\n",
       "    </tr>\n",
       "    <tr>\n",
       "      <th>10</th>\n",
       "      <td>PC</td>\n",
       "      <td>31</td>\n",
       "    </tr>\n",
       "    <tr>\n",
       "      <th>11</th>\n",
       "      <td>GB</td>\n",
       "      <td>13</td>\n",
       "    </tr>\n",
       "    <tr>\n",
       "      <th>12</th>\n",
       "      <td>XB</td>\n",
       "      <td>8</td>\n",
       "    </tr>\n",
       "  </tbody>\n",
       "</table>\n",
       "</div>"
      ],
      "text/plain": [
       "   platform lifetime\n",
       "0       PS2       11\n",
       "1      X360       11\n",
       "2       PS3       10\n",
       "3       Wii       10\n",
       "4        DS       28\n",
       "5        PS        9\n",
       "6       PS4        3\n",
       "7       GBA        7\n",
       "8       PSP       11\n",
       "9       3DS        5\n",
       "10       PC       31\n",
       "11       GB       13\n",
       "12       XB        8"
      ]
     },
     "metadata": {},
     "output_type": "display_data"
    }
   ],
   "source": [
    "# датафрейм для хранения длительности существования платформы\n",
    "lifetime_platform = pd.DataFrame(columns=['platform', 'lifetime']) \n",
    "\n",
    "for platform_name in platform_top12: # цикл по платформам TOP12\n",
    "    # создание датафрема для каждой платформы с годами существования\n",
    "    platf_year = year_platform[['year_of_release', platform_name]].dropna().reset_index(drop='True') # датафрейм с годами существования платформы\n",
    "    platf_first_year = platf_year.loc[0, 'year_of_release'] # 1 значение это будет год появления платформы\n",
    "    platf_end_year = platf_year.loc[len(platf_year) - 1, 'year_of_release'] # последнее значение будет год прекращения существования платформы\n",
    "    lifetime = platf_end_year - platf_first_year # время существования платформы\n",
    "    lifetime_platform = lifetime_platform.append({'platform':platform_name, 'lifetime':lifetime}, ignore_index=True)\n",
    "display(lifetime_platform)"
   ]
  },
  {
   "cell_type": "markdown",
   "metadata": {},
   "source": [
    "Для определения характерного времени существования платформы возъмём среднее время существования платформ."
   ]
  },
  {
   "cell_type": "code",
   "execution_count": 41,
   "metadata": {},
   "outputs": [
    {
     "name": "stdout",
     "output_type": "stream",
     "text": [
      "Характерный срок существования платформы 12 лет\n"
     ]
    }
   ],
   "source": [
    "print('Характерный срок существования платформы', round(lifetime_platform['lifetime'].mean()), 'лет');"
   ]
  },
  {
   "cell_type": "markdown",
   "metadata": {},
   "source": [
    "### Платформы существующие в текущий период и их динамика"
   ]
  },
  {
   "cell_type": "markdown",
   "metadata": {},
   "source": [
    "Создание таблицы платформа объём продаж по годам."
   ]
  },
  {
   "cell_type": "code",
   "execution_count": 42,
   "metadata": {
    "scrolled": false
   },
   "outputs": [
    {
     "data": {
      "text/html": [
       "<div>\n",
       "<style scoped>\n",
       "    .dataframe tbody tr th:only-of-type {\n",
       "        vertical-align: middle;\n",
       "    }\n",
       "\n",
       "    .dataframe tbody tr th {\n",
       "        vertical-align: top;\n",
       "    }\n",
       "\n",
       "    .dataframe thead th {\n",
       "        text-align: right;\n",
       "    }\n",
       "</style>\n",
       "<table border=\"1\" class=\"dataframe\">\n",
       "  <thead>\n",
       "    <tr style=\"text-align: right;\">\n",
       "      <th>year_of_release</th>\n",
       "      <th>1980</th>\n",
       "      <th>1981</th>\n",
       "      <th>1982</th>\n",
       "      <th>1983</th>\n",
       "      <th>1984</th>\n",
       "      <th>1985</th>\n",
       "      <th>1986</th>\n",
       "      <th>1987</th>\n",
       "      <th>1988</th>\n",
       "      <th>1989</th>\n",
       "      <th>1990</th>\n",
       "      <th>1991</th>\n",
       "      <th>1992</th>\n",
       "      <th>1993</th>\n",
       "      <th>1994</th>\n",
       "      <th>1995</th>\n",
       "      <th>1996</th>\n",
       "      <th>1997</th>\n",
       "      <th>1998</th>\n",
       "      <th>1999</th>\n",
       "      <th>2000</th>\n",
       "      <th>2001</th>\n",
       "      <th>2002</th>\n",
       "      <th>2003</th>\n",
       "      <th>2004</th>\n",
       "      <th>2005</th>\n",
       "      <th>2006</th>\n",
       "      <th>2007</th>\n",
       "      <th>2008</th>\n",
       "      <th>2009</th>\n",
       "      <th>2010</th>\n",
       "      <th>2011</th>\n",
       "      <th>2012</th>\n",
       "      <th>2013</th>\n",
       "      <th>2014</th>\n",
       "      <th>2015</th>\n",
       "      <th>2016</th>\n",
       "    </tr>\n",
       "    <tr>\n",
       "      <th>platform</th>\n",
       "      <th></th>\n",
       "      <th></th>\n",
       "      <th></th>\n",
       "      <th></th>\n",
       "      <th></th>\n",
       "      <th></th>\n",
       "      <th></th>\n",
       "      <th></th>\n",
       "      <th></th>\n",
       "      <th></th>\n",
       "      <th></th>\n",
       "      <th></th>\n",
       "      <th></th>\n",
       "      <th></th>\n",
       "      <th></th>\n",
       "      <th></th>\n",
       "      <th></th>\n",
       "      <th></th>\n",
       "      <th></th>\n",
       "      <th></th>\n",
       "      <th></th>\n",
       "      <th></th>\n",
       "      <th></th>\n",
       "      <th></th>\n",
       "      <th></th>\n",
       "      <th></th>\n",
       "      <th></th>\n",
       "      <th></th>\n",
       "      <th></th>\n",
       "      <th></th>\n",
       "      <th></th>\n",
       "      <th></th>\n",
       "      <th></th>\n",
       "      <th></th>\n",
       "      <th></th>\n",
       "      <th></th>\n",
       "      <th></th>\n",
       "    </tr>\n",
       "  </thead>\n",
       "  <tbody>\n",
       "    <tr>\n",
       "      <th>2600</th>\n",
       "      <td>11.38</td>\n",
       "      <td>35.68</td>\n",
       "      <td>28.88</td>\n",
       "      <td>5.84</td>\n",
       "      <td>0.27</td>\n",
       "      <td>0.45</td>\n",
       "      <td>0.67</td>\n",
       "      <td>1.94</td>\n",
       "      <td>0.74</td>\n",
       "      <td>0.63</td>\n",
       "      <td>NaN</td>\n",
       "      <td>NaN</td>\n",
       "      <td>NaN</td>\n",
       "      <td>NaN</td>\n",
       "      <td>NaN</td>\n",
       "      <td>NaN</td>\n",
       "      <td>NaN</td>\n",
       "      <td>NaN</td>\n",
       "      <td>NaN</td>\n",
       "      <td>NaN</td>\n",
       "      <td>NaN</td>\n",
       "      <td>NaN</td>\n",
       "      <td>NaN</td>\n",
       "      <td>NaN</td>\n",
       "      <td>NaN</td>\n",
       "      <td>NaN</td>\n",
       "      <td>NaN</td>\n",
       "      <td>NaN</td>\n",
       "      <td>NaN</td>\n",
       "      <td>NaN</td>\n",
       "      <td>NaN</td>\n",
       "      <td>NaN</td>\n",
       "      <td>NaN</td>\n",
       "      <td>NaN</td>\n",
       "      <td>NaN</td>\n",
       "      <td>NaN</td>\n",
       "      <td>NaN</td>\n",
       "    </tr>\n",
       "    <tr>\n",
       "      <th>3DO</th>\n",
       "      <td>NaN</td>\n",
       "      <td>NaN</td>\n",
       "      <td>NaN</td>\n",
       "      <td>NaN</td>\n",
       "      <td>NaN</td>\n",
       "      <td>NaN</td>\n",
       "      <td>NaN</td>\n",
       "      <td>NaN</td>\n",
       "      <td>NaN</td>\n",
       "      <td>NaN</td>\n",
       "      <td>NaN</td>\n",
       "      <td>NaN</td>\n",
       "      <td>NaN</td>\n",
       "      <td>NaN</td>\n",
       "      <td>0.02</td>\n",
       "      <td>0.08</td>\n",
       "      <td>NaN</td>\n",
       "      <td>NaN</td>\n",
       "      <td>NaN</td>\n",
       "      <td>NaN</td>\n",
       "      <td>NaN</td>\n",
       "      <td>NaN</td>\n",
       "      <td>NaN</td>\n",
       "      <td>NaN</td>\n",
       "      <td>NaN</td>\n",
       "      <td>NaN</td>\n",
       "      <td>NaN</td>\n",
       "      <td>NaN</td>\n",
       "      <td>NaN</td>\n",
       "      <td>NaN</td>\n",
       "      <td>NaN</td>\n",
       "      <td>NaN</td>\n",
       "      <td>NaN</td>\n",
       "      <td>NaN</td>\n",
       "      <td>NaN</td>\n",
       "      <td>NaN</td>\n",
       "      <td>NaN</td>\n",
       "    </tr>\n",
       "    <tr>\n",
       "      <th>3DS</th>\n",
       "      <td>NaN</td>\n",
       "      <td>NaN</td>\n",
       "      <td>NaN</td>\n",
       "      <td>NaN</td>\n",
       "      <td>NaN</td>\n",
       "      <td>NaN</td>\n",
       "      <td>NaN</td>\n",
       "      <td>NaN</td>\n",
       "      <td>NaN</td>\n",
       "      <td>NaN</td>\n",
       "      <td>NaN</td>\n",
       "      <td>NaN</td>\n",
       "      <td>NaN</td>\n",
       "      <td>NaN</td>\n",
       "      <td>NaN</td>\n",
       "      <td>NaN</td>\n",
       "      <td>NaN</td>\n",
       "      <td>NaN</td>\n",
       "      <td>NaN</td>\n",
       "      <td>NaN</td>\n",
       "      <td>NaN</td>\n",
       "      <td>NaN</td>\n",
       "      <td>NaN</td>\n",
       "      <td>NaN</td>\n",
       "      <td>NaN</td>\n",
       "      <td>NaN</td>\n",
       "      <td>NaN</td>\n",
       "      <td>NaN</td>\n",
       "      <td>NaN</td>\n",
       "      <td>NaN</td>\n",
       "      <td>NaN</td>\n",
       "      <td>63.20</td>\n",
       "      <td>51.36</td>\n",
       "      <td>56.57</td>\n",
       "      <td>43.76</td>\n",
       "      <td>27.78</td>\n",
       "      <td>15.14</td>\n",
       "    </tr>\n",
       "    <tr>\n",
       "      <th>DC</th>\n",
       "      <td>NaN</td>\n",
       "      <td>NaN</td>\n",
       "      <td>NaN</td>\n",
       "      <td>NaN</td>\n",
       "      <td>NaN</td>\n",
       "      <td>NaN</td>\n",
       "      <td>NaN</td>\n",
       "      <td>NaN</td>\n",
       "      <td>NaN</td>\n",
       "      <td>NaN</td>\n",
       "      <td>NaN</td>\n",
       "      <td>NaN</td>\n",
       "      <td>NaN</td>\n",
       "      <td>NaN</td>\n",
       "      <td>NaN</td>\n",
       "      <td>NaN</td>\n",
       "      <td>NaN</td>\n",
       "      <td>NaN</td>\n",
       "      <td>3.38</td>\n",
       "      <td>5.16</td>\n",
       "      <td>5.99</td>\n",
       "      <td>1.07</td>\n",
       "      <td>0.29</td>\n",
       "      <td>NaN</td>\n",
       "      <td>NaN</td>\n",
       "      <td>NaN</td>\n",
       "      <td>NaN</td>\n",
       "      <td>0.02</td>\n",
       "      <td>0.04</td>\n",
       "      <td>NaN</td>\n",
       "      <td>NaN</td>\n",
       "      <td>NaN</td>\n",
       "      <td>NaN</td>\n",
       "      <td>NaN</td>\n",
       "      <td>NaN</td>\n",
       "      <td>NaN</td>\n",
       "      <td>NaN</td>\n",
       "    </tr>\n",
       "    <tr>\n",
       "      <th>DS</th>\n",
       "      <td>NaN</td>\n",
       "      <td>NaN</td>\n",
       "      <td>NaN</td>\n",
       "      <td>NaN</td>\n",
       "      <td>NaN</td>\n",
       "      <td>0.02</td>\n",
       "      <td>NaN</td>\n",
       "      <td>NaN</td>\n",
       "      <td>NaN</td>\n",
       "      <td>NaN</td>\n",
       "      <td>NaN</td>\n",
       "      <td>NaN</td>\n",
       "      <td>NaN</td>\n",
       "      <td>NaN</td>\n",
       "      <td>NaN</td>\n",
       "      <td>NaN</td>\n",
       "      <td>NaN</td>\n",
       "      <td>NaN</td>\n",
       "      <td>NaN</td>\n",
       "      <td>NaN</td>\n",
       "      <td>NaN</td>\n",
       "      <td>NaN</td>\n",
       "      <td>NaN</td>\n",
       "      <td>NaN</td>\n",
       "      <td>17.27</td>\n",
       "      <td>130.14</td>\n",
       "      <td>119.81</td>\n",
       "      <td>146.94</td>\n",
       "      <td>145.31</td>\n",
       "      <td>119.54</td>\n",
       "      <td>85.02</td>\n",
       "      <td>26.18</td>\n",
       "      <td>11.01</td>\n",
       "      <td>1.54</td>\n",
       "      <td>NaN</td>\n",
       "      <td>NaN</td>\n",
       "      <td>NaN</td>\n",
       "    </tr>\n",
       "    <tr>\n",
       "      <th>GB</th>\n",
       "      <td>NaN</td>\n",
       "      <td>NaN</td>\n",
       "      <td>NaN</td>\n",
       "      <td>NaN</td>\n",
       "      <td>NaN</td>\n",
       "      <td>NaN</td>\n",
       "      <td>NaN</td>\n",
       "      <td>NaN</td>\n",
       "      <td>1.43</td>\n",
       "      <td>64.97</td>\n",
       "      <td>4.89</td>\n",
       "      <td>5.57</td>\n",
       "      <td>25.49</td>\n",
       "      <td>NaN</td>\n",
       "      <td>12.18</td>\n",
       "      <td>3.60</td>\n",
       "      <td>36.03</td>\n",
       "      <td>6.37</td>\n",
       "      <td>26.90</td>\n",
       "      <td>38.00</td>\n",
       "      <td>19.76</td>\n",
       "      <td>9.24</td>\n",
       "      <td>NaN</td>\n",
       "      <td>NaN</td>\n",
       "      <td>NaN</td>\n",
       "      <td>NaN</td>\n",
       "      <td>NaN</td>\n",
       "      <td>NaN</td>\n",
       "      <td>NaN</td>\n",
       "      <td>NaN</td>\n",
       "      <td>NaN</td>\n",
       "      <td>NaN</td>\n",
       "      <td>NaN</td>\n",
       "      <td>NaN</td>\n",
       "      <td>NaN</td>\n",
       "      <td>NaN</td>\n",
       "      <td>NaN</td>\n",
       "    </tr>\n",
       "    <tr>\n",
       "      <th>GBA</th>\n",
       "      <td>NaN</td>\n",
       "      <td>NaN</td>\n",
       "      <td>NaN</td>\n",
       "      <td>NaN</td>\n",
       "      <td>NaN</td>\n",
       "      <td>NaN</td>\n",
       "      <td>NaN</td>\n",
       "      <td>NaN</td>\n",
       "      <td>NaN</td>\n",
       "      <td>NaN</td>\n",
       "      <td>NaN</td>\n",
       "      <td>NaN</td>\n",
       "      <td>NaN</td>\n",
       "      <td>NaN</td>\n",
       "      <td>NaN</td>\n",
       "      <td>NaN</td>\n",
       "      <td>NaN</td>\n",
       "      <td>NaN</td>\n",
       "      <td>NaN</td>\n",
       "      <td>NaN</td>\n",
       "      <td>0.07</td>\n",
       "      <td>61.53</td>\n",
       "      <td>74.16</td>\n",
       "      <td>56.67</td>\n",
       "      <td>77.91</td>\n",
       "      <td>33.86</td>\n",
       "      <td>5.28</td>\n",
       "      <td>3.40</td>\n",
       "      <td>NaN</td>\n",
       "      <td>NaN</td>\n",
       "      <td>NaN</td>\n",
       "      <td>NaN</td>\n",
       "      <td>NaN</td>\n",
       "      <td>NaN</td>\n",
       "      <td>NaN</td>\n",
       "      <td>NaN</td>\n",
       "      <td>NaN</td>\n",
       "    </tr>\n",
       "    <tr>\n",
       "      <th>GC</th>\n",
       "      <td>NaN</td>\n",
       "      <td>NaN</td>\n",
       "      <td>NaN</td>\n",
       "      <td>NaN</td>\n",
       "      <td>NaN</td>\n",
       "      <td>NaN</td>\n",
       "      <td>NaN</td>\n",
       "      <td>NaN</td>\n",
       "      <td>NaN</td>\n",
       "      <td>NaN</td>\n",
       "      <td>NaN</td>\n",
       "      <td>NaN</td>\n",
       "      <td>NaN</td>\n",
       "      <td>NaN</td>\n",
       "      <td>NaN</td>\n",
       "      <td>NaN</td>\n",
       "      <td>NaN</td>\n",
       "      <td>NaN</td>\n",
       "      <td>NaN</td>\n",
       "      <td>NaN</td>\n",
       "      <td>NaN</td>\n",
       "      <td>26.34</td>\n",
       "      <td>51.81</td>\n",
       "      <td>50.61</td>\n",
       "      <td>28.82</td>\n",
       "      <td>27.62</td>\n",
       "      <td>11.26</td>\n",
       "      <td>0.27</td>\n",
       "      <td>NaN</td>\n",
       "      <td>NaN</td>\n",
       "      <td>NaN</td>\n",
       "      <td>NaN</td>\n",
       "      <td>NaN</td>\n",
       "      <td>NaN</td>\n",
       "      <td>NaN</td>\n",
       "      <td>NaN</td>\n",
       "      <td>NaN</td>\n",
       "    </tr>\n",
       "    <tr>\n",
       "      <th>GEN</th>\n",
       "      <td>NaN</td>\n",
       "      <td>NaN</td>\n",
       "      <td>NaN</td>\n",
       "      <td>NaN</td>\n",
       "      <td>NaN</td>\n",
       "      <td>NaN</td>\n",
       "      <td>NaN</td>\n",
       "      <td>NaN</td>\n",
       "      <td>NaN</td>\n",
       "      <td>NaN</td>\n",
       "      <td>2.60</td>\n",
       "      <td>4.33</td>\n",
       "      <td>12.64</td>\n",
       "      <td>0.65</td>\n",
       "      <td>8.13</td>\n",
       "      <td>NaN</td>\n",
       "      <td>NaN</td>\n",
       "      <td>NaN</td>\n",
       "      <td>NaN</td>\n",
       "      <td>NaN</td>\n",
       "      <td>NaN</td>\n",
       "      <td>NaN</td>\n",
       "      <td>NaN</td>\n",
       "      <td>NaN</td>\n",
       "      <td>NaN</td>\n",
       "      <td>NaN</td>\n",
       "      <td>NaN</td>\n",
       "      <td>NaN</td>\n",
       "      <td>NaN</td>\n",
       "      <td>NaN</td>\n",
       "      <td>NaN</td>\n",
       "      <td>NaN</td>\n",
       "      <td>NaN</td>\n",
       "      <td>NaN</td>\n",
       "      <td>NaN</td>\n",
       "      <td>NaN</td>\n",
       "      <td>NaN</td>\n",
       "    </tr>\n",
       "    <tr>\n",
       "      <th>GG</th>\n",
       "      <td>NaN</td>\n",
       "      <td>NaN</td>\n",
       "      <td>NaN</td>\n",
       "      <td>NaN</td>\n",
       "      <td>NaN</td>\n",
       "      <td>NaN</td>\n",
       "      <td>NaN</td>\n",
       "      <td>NaN</td>\n",
       "      <td>NaN</td>\n",
       "      <td>NaN</td>\n",
       "      <td>NaN</td>\n",
       "      <td>NaN</td>\n",
       "      <td>0.04</td>\n",
       "      <td>NaN</td>\n",
       "      <td>NaN</td>\n",
       "      <td>NaN</td>\n",
       "      <td>NaN</td>\n",
       "      <td>NaN</td>\n",
       "      <td>NaN</td>\n",
       "      <td>NaN</td>\n",
       "      <td>NaN</td>\n",
       "      <td>NaN</td>\n",
       "      <td>NaN</td>\n",
       "      <td>NaN</td>\n",
       "      <td>NaN</td>\n",
       "      <td>NaN</td>\n",
       "      <td>NaN</td>\n",
       "      <td>NaN</td>\n",
       "      <td>NaN</td>\n",
       "      <td>NaN</td>\n",
       "      <td>NaN</td>\n",
       "      <td>NaN</td>\n",
       "      <td>NaN</td>\n",
       "      <td>NaN</td>\n",
       "      <td>NaN</td>\n",
       "      <td>NaN</td>\n",
       "      <td>NaN</td>\n",
       "    </tr>\n",
       "    <tr>\n",
       "      <th>N64</th>\n",
       "      <td>NaN</td>\n",
       "      <td>NaN</td>\n",
       "      <td>NaN</td>\n",
       "      <td>NaN</td>\n",
       "      <td>NaN</td>\n",
       "      <td>NaN</td>\n",
       "      <td>NaN</td>\n",
       "      <td>NaN</td>\n",
       "      <td>NaN</td>\n",
       "      <td>NaN</td>\n",
       "      <td>NaN</td>\n",
       "      <td>NaN</td>\n",
       "      <td>NaN</td>\n",
       "      <td>NaN</td>\n",
       "      <td>NaN</td>\n",
       "      <td>NaN</td>\n",
       "      <td>34.10</td>\n",
       "      <td>39.50</td>\n",
       "      <td>49.24</td>\n",
       "      <td>57.87</td>\n",
       "      <td>33.97</td>\n",
       "      <td>3.25</td>\n",
       "      <td>0.08</td>\n",
       "      <td>NaN</td>\n",
       "      <td>NaN</td>\n",
       "      <td>NaN</td>\n",
       "      <td>NaN</td>\n",
       "      <td>NaN</td>\n",
       "      <td>NaN</td>\n",
       "      <td>NaN</td>\n",
       "      <td>NaN</td>\n",
       "      <td>NaN</td>\n",
       "      <td>NaN</td>\n",
       "      <td>NaN</td>\n",
       "      <td>NaN</td>\n",
       "      <td>NaN</td>\n",
       "      <td>NaN</td>\n",
       "    </tr>\n",
       "    <tr>\n",
       "      <th>NES</th>\n",
       "      <td>NaN</td>\n",
       "      <td>NaN</td>\n",
       "      <td>NaN</td>\n",
       "      <td>10.96</td>\n",
       "      <td>50.08</td>\n",
       "      <td>53.44</td>\n",
       "      <td>36.41</td>\n",
       "      <td>19.76</td>\n",
       "      <td>45.01</td>\n",
       "      <td>7.85</td>\n",
       "      <td>15.73</td>\n",
       "      <td>6.11</td>\n",
       "      <td>1.98</td>\n",
       "      <td>3.61</td>\n",
       "      <td>0.11</td>\n",
       "      <td>NaN</td>\n",
       "      <td>NaN</td>\n",
       "      <td>NaN</td>\n",
       "      <td>NaN</td>\n",
       "      <td>NaN</td>\n",
       "      <td>NaN</td>\n",
       "      <td>NaN</td>\n",
       "      <td>NaN</td>\n",
       "      <td>NaN</td>\n",
       "      <td>NaN</td>\n",
       "      <td>NaN</td>\n",
       "      <td>NaN</td>\n",
       "      <td>NaN</td>\n",
       "      <td>NaN</td>\n",
       "      <td>NaN</td>\n",
       "      <td>NaN</td>\n",
       "      <td>NaN</td>\n",
       "      <td>NaN</td>\n",
       "      <td>NaN</td>\n",
       "      <td>NaN</td>\n",
       "      <td>NaN</td>\n",
       "      <td>NaN</td>\n",
       "    </tr>\n",
       "    <tr>\n",
       "      <th>NG</th>\n",
       "      <td>NaN</td>\n",
       "      <td>NaN</td>\n",
       "      <td>NaN</td>\n",
       "      <td>NaN</td>\n",
       "      <td>NaN</td>\n",
       "      <td>NaN</td>\n",
       "      <td>NaN</td>\n",
       "      <td>NaN</td>\n",
       "      <td>NaN</td>\n",
       "      <td>NaN</td>\n",
       "      <td>NaN</td>\n",
       "      <td>NaN</td>\n",
       "      <td>NaN</td>\n",
       "      <td>0.21</td>\n",
       "      <td>0.80</td>\n",
       "      <td>0.33</td>\n",
       "      <td>0.10</td>\n",
       "      <td>NaN</td>\n",
       "      <td>NaN</td>\n",
       "      <td>NaN</td>\n",
       "      <td>NaN</td>\n",
       "      <td>NaN</td>\n",
       "      <td>NaN</td>\n",
       "      <td>NaN</td>\n",
       "      <td>NaN</td>\n",
       "      <td>NaN</td>\n",
       "      <td>NaN</td>\n",
       "      <td>NaN</td>\n",
       "      <td>NaN</td>\n",
       "      <td>NaN</td>\n",
       "      <td>NaN</td>\n",
       "      <td>NaN</td>\n",
       "      <td>NaN</td>\n",
       "      <td>NaN</td>\n",
       "      <td>NaN</td>\n",
       "      <td>NaN</td>\n",
       "      <td>NaN</td>\n",
       "    </tr>\n",
       "    <tr>\n",
       "      <th>PC</th>\n",
       "      <td>NaN</td>\n",
       "      <td>NaN</td>\n",
       "      <td>NaN</td>\n",
       "      <td>NaN</td>\n",
       "      <td>NaN</td>\n",
       "      <td>0.04</td>\n",
       "      <td>NaN</td>\n",
       "      <td>NaN</td>\n",
       "      <td>0.03</td>\n",
       "      <td>NaN</td>\n",
       "      <td>NaN</td>\n",
       "      <td>NaN</td>\n",
       "      <td>3.03</td>\n",
       "      <td>NaN</td>\n",
       "      <td>12.87</td>\n",
       "      <td>4.22</td>\n",
       "      <td>10.58</td>\n",
       "      <td>11.27</td>\n",
       "      <td>3.26</td>\n",
       "      <td>4.74</td>\n",
       "      <td>4.66</td>\n",
       "      <td>5.47</td>\n",
       "      <td>8.57</td>\n",
       "      <td>8.84</td>\n",
       "      <td>10.39</td>\n",
       "      <td>4.37</td>\n",
       "      <td>2.85</td>\n",
       "      <td>9.28</td>\n",
       "      <td>12.42</td>\n",
       "      <td>16.91</td>\n",
       "      <td>24.28</td>\n",
       "      <td>35.03</td>\n",
       "      <td>23.22</td>\n",
       "      <td>12.38</td>\n",
       "      <td>13.28</td>\n",
       "      <td>8.52</td>\n",
       "      <td>5.25</td>\n",
       "    </tr>\n",
       "    <tr>\n",
       "      <th>PCFX</th>\n",
       "      <td>NaN</td>\n",
       "      <td>NaN</td>\n",
       "      <td>NaN</td>\n",
       "      <td>NaN</td>\n",
       "      <td>NaN</td>\n",
       "      <td>NaN</td>\n",
       "      <td>NaN</td>\n",
       "      <td>NaN</td>\n",
       "      <td>NaN</td>\n",
       "      <td>NaN</td>\n",
       "      <td>NaN</td>\n",
       "      <td>NaN</td>\n",
       "      <td>NaN</td>\n",
       "      <td>NaN</td>\n",
       "      <td>NaN</td>\n",
       "      <td>NaN</td>\n",
       "      <td>0.03</td>\n",
       "      <td>NaN</td>\n",
       "      <td>NaN</td>\n",
       "      <td>NaN</td>\n",
       "      <td>NaN</td>\n",
       "      <td>NaN</td>\n",
       "      <td>NaN</td>\n",
       "      <td>NaN</td>\n",
       "      <td>NaN</td>\n",
       "      <td>NaN</td>\n",
       "      <td>NaN</td>\n",
       "      <td>NaN</td>\n",
       "      <td>NaN</td>\n",
       "      <td>NaN</td>\n",
       "      <td>NaN</td>\n",
       "      <td>NaN</td>\n",
       "      <td>NaN</td>\n",
       "      <td>NaN</td>\n",
       "      <td>NaN</td>\n",
       "      <td>NaN</td>\n",
       "      <td>NaN</td>\n",
       "    </tr>\n",
       "    <tr>\n",
       "      <th>PS</th>\n",
       "      <td>NaN</td>\n",
       "      <td>NaN</td>\n",
       "      <td>NaN</td>\n",
       "      <td>NaN</td>\n",
       "      <td>NaN</td>\n",
       "      <td>NaN</td>\n",
       "      <td>NaN</td>\n",
       "      <td>NaN</td>\n",
       "      <td>NaN</td>\n",
       "      <td>NaN</td>\n",
       "      <td>NaN</td>\n",
       "      <td>NaN</td>\n",
       "      <td>NaN</td>\n",
       "      <td>NaN</td>\n",
       "      <td>6.03</td>\n",
       "      <td>35.96</td>\n",
       "      <td>94.70</td>\n",
       "      <td>136.17</td>\n",
       "      <td>169.49</td>\n",
       "      <td>144.53</td>\n",
       "      <td>96.37</td>\n",
       "      <td>35.59</td>\n",
       "      <td>6.67</td>\n",
       "      <td>2.07</td>\n",
       "      <td>NaN</td>\n",
       "      <td>NaN</td>\n",
       "      <td>NaN</td>\n",
       "      <td>NaN</td>\n",
       "      <td>NaN</td>\n",
       "      <td>NaN</td>\n",
       "      <td>NaN</td>\n",
       "      <td>NaN</td>\n",
       "      <td>NaN</td>\n",
       "      <td>NaN</td>\n",
       "      <td>NaN</td>\n",
       "      <td>NaN</td>\n",
       "      <td>NaN</td>\n",
       "    </tr>\n",
       "    <tr>\n",
       "      <th>PS2</th>\n",
       "      <td>NaN</td>\n",
       "      <td>NaN</td>\n",
       "      <td>NaN</td>\n",
       "      <td>NaN</td>\n",
       "      <td>NaN</td>\n",
       "      <td>NaN</td>\n",
       "      <td>NaN</td>\n",
       "      <td>NaN</td>\n",
       "      <td>NaN</td>\n",
       "      <td>NaN</td>\n",
       "      <td>NaN</td>\n",
       "      <td>NaN</td>\n",
       "      <td>NaN</td>\n",
       "      <td>NaN</td>\n",
       "      <td>NaN</td>\n",
       "      <td>NaN</td>\n",
       "      <td>NaN</td>\n",
       "      <td>NaN</td>\n",
       "      <td>NaN</td>\n",
       "      <td>NaN</td>\n",
       "      <td>39.17</td>\n",
       "      <td>166.43</td>\n",
       "      <td>205.38</td>\n",
       "      <td>184.31</td>\n",
       "      <td>211.81</td>\n",
       "      <td>160.66</td>\n",
       "      <td>103.42</td>\n",
       "      <td>75.99</td>\n",
       "      <td>53.90</td>\n",
       "      <td>26.40</td>\n",
       "      <td>5.64</td>\n",
       "      <td>0.45</td>\n",
       "      <td>NaN</td>\n",
       "      <td>NaN</td>\n",
       "      <td>NaN</td>\n",
       "      <td>NaN</td>\n",
       "      <td>NaN</td>\n",
       "    </tr>\n",
       "    <tr>\n",
       "      <th>PS3</th>\n",
       "      <td>NaN</td>\n",
       "      <td>NaN</td>\n",
       "      <td>NaN</td>\n",
       "      <td>NaN</td>\n",
       "      <td>NaN</td>\n",
       "      <td>NaN</td>\n",
       "      <td>NaN</td>\n",
       "      <td>NaN</td>\n",
       "      <td>NaN</td>\n",
       "      <td>NaN</td>\n",
       "      <td>NaN</td>\n",
       "      <td>NaN</td>\n",
       "      <td>NaN</td>\n",
       "      <td>NaN</td>\n",
       "      <td>NaN</td>\n",
       "      <td>NaN</td>\n",
       "      <td>NaN</td>\n",
       "      <td>NaN</td>\n",
       "      <td>NaN</td>\n",
       "      <td>NaN</td>\n",
       "      <td>NaN</td>\n",
       "      <td>NaN</td>\n",
       "      <td>NaN</td>\n",
       "      <td>NaN</td>\n",
       "      <td>NaN</td>\n",
       "      <td>NaN</td>\n",
       "      <td>20.96</td>\n",
       "      <td>73.19</td>\n",
       "      <td>118.52</td>\n",
       "      <td>130.93</td>\n",
       "      <td>142.17</td>\n",
       "      <td>156.78</td>\n",
       "      <td>107.36</td>\n",
       "      <td>113.25</td>\n",
       "      <td>47.76</td>\n",
       "      <td>16.82</td>\n",
       "      <td>3.60</td>\n",
       "    </tr>\n",
       "    <tr>\n",
       "      <th>PS4</th>\n",
       "      <td>NaN</td>\n",
       "      <td>NaN</td>\n",
       "      <td>NaN</td>\n",
       "      <td>NaN</td>\n",
       "      <td>NaN</td>\n",
       "      <td>NaN</td>\n",
       "      <td>NaN</td>\n",
       "      <td>NaN</td>\n",
       "      <td>NaN</td>\n",
       "      <td>NaN</td>\n",
       "      <td>NaN</td>\n",
       "      <td>NaN</td>\n",
       "      <td>NaN</td>\n",
       "      <td>NaN</td>\n",
       "      <td>NaN</td>\n",
       "      <td>NaN</td>\n",
       "      <td>NaN</td>\n",
       "      <td>NaN</td>\n",
       "      <td>NaN</td>\n",
       "      <td>NaN</td>\n",
       "      <td>NaN</td>\n",
       "      <td>NaN</td>\n",
       "      <td>NaN</td>\n",
       "      <td>NaN</td>\n",
       "      <td>NaN</td>\n",
       "      <td>NaN</td>\n",
       "      <td>NaN</td>\n",
       "      <td>NaN</td>\n",
       "      <td>NaN</td>\n",
       "      <td>NaN</td>\n",
       "      <td>NaN</td>\n",
       "      <td>NaN</td>\n",
       "      <td>NaN</td>\n",
       "      <td>25.99</td>\n",
       "      <td>100.00</td>\n",
       "      <td>118.90</td>\n",
       "      <td>69.25</td>\n",
       "    </tr>\n",
       "    <tr>\n",
       "      <th>PSP</th>\n",
       "      <td>NaN</td>\n",
       "      <td>NaN</td>\n",
       "      <td>NaN</td>\n",
       "      <td>NaN</td>\n",
       "      <td>NaN</td>\n",
       "      <td>NaN</td>\n",
       "      <td>NaN</td>\n",
       "      <td>NaN</td>\n",
       "      <td>NaN</td>\n",
       "      <td>NaN</td>\n",
       "      <td>NaN</td>\n",
       "      <td>NaN</td>\n",
       "      <td>NaN</td>\n",
       "      <td>NaN</td>\n",
       "      <td>NaN</td>\n",
       "      <td>NaN</td>\n",
       "      <td>NaN</td>\n",
       "      <td>NaN</td>\n",
       "      <td>NaN</td>\n",
       "      <td>NaN</td>\n",
       "      <td>NaN</td>\n",
       "      <td>NaN</td>\n",
       "      <td>NaN</td>\n",
       "      <td>NaN</td>\n",
       "      <td>7.06</td>\n",
       "      <td>43.84</td>\n",
       "      <td>55.32</td>\n",
       "      <td>46.93</td>\n",
       "      <td>34.55</td>\n",
       "      <td>37.78</td>\n",
       "      <td>35.04</td>\n",
       "      <td>17.82</td>\n",
       "      <td>7.69</td>\n",
       "      <td>3.14</td>\n",
       "      <td>0.24</td>\n",
       "      <td>0.12</td>\n",
       "      <td>NaN</td>\n",
       "    </tr>\n",
       "    <tr>\n",
       "      <th>PSV</th>\n",
       "      <td>NaN</td>\n",
       "      <td>NaN</td>\n",
       "      <td>NaN</td>\n",
       "      <td>NaN</td>\n",
       "      <td>NaN</td>\n",
       "      <td>NaN</td>\n",
       "      <td>NaN</td>\n",
       "      <td>NaN</td>\n",
       "      <td>NaN</td>\n",
       "      <td>NaN</td>\n",
       "      <td>NaN</td>\n",
       "      <td>NaN</td>\n",
       "      <td>NaN</td>\n",
       "      <td>NaN</td>\n",
       "      <td>NaN</td>\n",
       "      <td>NaN</td>\n",
       "      <td>NaN</td>\n",
       "      <td>NaN</td>\n",
       "      <td>NaN</td>\n",
       "      <td>NaN</td>\n",
       "      <td>NaN</td>\n",
       "      <td>NaN</td>\n",
       "      <td>NaN</td>\n",
       "      <td>NaN</td>\n",
       "      <td>NaN</td>\n",
       "      <td>NaN</td>\n",
       "      <td>NaN</td>\n",
       "      <td>NaN</td>\n",
       "      <td>NaN</td>\n",
       "      <td>NaN</td>\n",
       "      <td>NaN</td>\n",
       "      <td>4.63</td>\n",
       "      <td>16.19</td>\n",
       "      <td>10.59</td>\n",
       "      <td>11.90</td>\n",
       "      <td>6.25</td>\n",
       "      <td>4.25</td>\n",
       "    </tr>\n",
       "    <tr>\n",
       "      <th>SAT</th>\n",
       "      <td>NaN</td>\n",
       "      <td>NaN</td>\n",
       "      <td>NaN</td>\n",
       "      <td>NaN</td>\n",
       "      <td>NaN</td>\n",
       "      <td>NaN</td>\n",
       "      <td>NaN</td>\n",
       "      <td>NaN</td>\n",
       "      <td>NaN</td>\n",
       "      <td>NaN</td>\n",
       "      <td>NaN</td>\n",
       "      <td>NaN</td>\n",
       "      <td>NaN</td>\n",
       "      <td>NaN</td>\n",
       "      <td>3.65</td>\n",
       "      <td>11.57</td>\n",
       "      <td>7.69</td>\n",
       "      <td>6.77</td>\n",
       "      <td>3.82</td>\n",
       "      <td>0.09</td>\n",
       "      <td>NaN</td>\n",
       "      <td>NaN</td>\n",
       "      <td>NaN</td>\n",
       "      <td>NaN</td>\n",
       "      <td>NaN</td>\n",
       "      <td>NaN</td>\n",
       "      <td>NaN</td>\n",
       "      <td>NaN</td>\n",
       "      <td>NaN</td>\n",
       "      <td>NaN</td>\n",
       "      <td>NaN</td>\n",
       "      <td>NaN</td>\n",
       "      <td>NaN</td>\n",
       "      <td>NaN</td>\n",
       "      <td>NaN</td>\n",
       "      <td>NaN</td>\n",
       "      <td>NaN</td>\n",
       "    </tr>\n",
       "    <tr>\n",
       "      <th>SCD</th>\n",
       "      <td>NaN</td>\n",
       "      <td>NaN</td>\n",
       "      <td>NaN</td>\n",
       "      <td>NaN</td>\n",
       "      <td>NaN</td>\n",
       "      <td>NaN</td>\n",
       "      <td>NaN</td>\n",
       "      <td>NaN</td>\n",
       "      <td>NaN</td>\n",
       "      <td>NaN</td>\n",
       "      <td>NaN</td>\n",
       "      <td>NaN</td>\n",
       "      <td>NaN</td>\n",
       "      <td>1.50</td>\n",
       "      <td>0.36</td>\n",
       "      <td>NaN</td>\n",
       "      <td>NaN</td>\n",
       "      <td>NaN</td>\n",
       "      <td>NaN</td>\n",
       "      <td>NaN</td>\n",
       "      <td>NaN</td>\n",
       "      <td>NaN</td>\n",
       "      <td>NaN</td>\n",
       "      <td>NaN</td>\n",
       "      <td>NaN</td>\n",
       "      <td>NaN</td>\n",
       "      <td>NaN</td>\n",
       "      <td>NaN</td>\n",
       "      <td>NaN</td>\n",
       "      <td>NaN</td>\n",
       "      <td>NaN</td>\n",
       "      <td>NaN</td>\n",
       "      <td>NaN</td>\n",
       "      <td>NaN</td>\n",
       "      <td>NaN</td>\n",
       "      <td>NaN</td>\n",
       "      <td>NaN</td>\n",
       "    </tr>\n",
       "    <tr>\n",
       "      <th>SNES</th>\n",
       "      <td>NaN</td>\n",
       "      <td>NaN</td>\n",
       "      <td>NaN</td>\n",
       "      <td>NaN</td>\n",
       "      <td>NaN</td>\n",
       "      <td>NaN</td>\n",
       "      <td>NaN</td>\n",
       "      <td>NaN</td>\n",
       "      <td>NaN</td>\n",
       "      <td>NaN</td>\n",
       "      <td>26.15</td>\n",
       "      <td>16.22</td>\n",
       "      <td>32.98</td>\n",
       "      <td>40.02</td>\n",
       "      <td>35.08</td>\n",
       "      <td>32.20</td>\n",
       "      <td>15.92</td>\n",
       "      <td>0.99</td>\n",
       "      <td>0.22</td>\n",
       "      <td>0.26</td>\n",
       "      <td>NaN</td>\n",
       "      <td>NaN</td>\n",
       "      <td>NaN</td>\n",
       "      <td>NaN</td>\n",
       "      <td>NaN</td>\n",
       "      <td>NaN</td>\n",
       "      <td>NaN</td>\n",
       "      <td>NaN</td>\n",
       "      <td>NaN</td>\n",
       "      <td>NaN</td>\n",
       "      <td>NaN</td>\n",
       "      <td>NaN</td>\n",
       "      <td>NaN</td>\n",
       "      <td>NaN</td>\n",
       "      <td>NaN</td>\n",
       "      <td>NaN</td>\n",
       "      <td>NaN</td>\n",
       "    </tr>\n",
       "    <tr>\n",
       "      <th>TG16</th>\n",
       "      <td>NaN</td>\n",
       "      <td>NaN</td>\n",
       "      <td>NaN</td>\n",
       "      <td>NaN</td>\n",
       "      <td>NaN</td>\n",
       "      <td>NaN</td>\n",
       "      <td>NaN</td>\n",
       "      <td>NaN</td>\n",
       "      <td>NaN</td>\n",
       "      <td>NaN</td>\n",
       "      <td>NaN</td>\n",
       "      <td>NaN</td>\n",
       "      <td>NaN</td>\n",
       "      <td>NaN</td>\n",
       "      <td>NaN</td>\n",
       "      <td>0.16</td>\n",
       "      <td>NaN</td>\n",
       "      <td>NaN</td>\n",
       "      <td>NaN</td>\n",
       "      <td>NaN</td>\n",
       "      <td>NaN</td>\n",
       "      <td>NaN</td>\n",
       "      <td>NaN</td>\n",
       "      <td>NaN</td>\n",
       "      <td>NaN</td>\n",
       "      <td>NaN</td>\n",
       "      <td>NaN</td>\n",
       "      <td>NaN</td>\n",
       "      <td>NaN</td>\n",
       "      <td>NaN</td>\n",
       "      <td>NaN</td>\n",
       "      <td>NaN</td>\n",
       "      <td>NaN</td>\n",
       "      <td>NaN</td>\n",
       "      <td>NaN</td>\n",
       "      <td>NaN</td>\n",
       "      <td>NaN</td>\n",
       "    </tr>\n",
       "    <tr>\n",
       "      <th>WS</th>\n",
       "      <td>NaN</td>\n",
       "      <td>NaN</td>\n",
       "      <td>NaN</td>\n",
       "      <td>NaN</td>\n",
       "      <td>NaN</td>\n",
       "      <td>NaN</td>\n",
       "      <td>NaN</td>\n",
       "      <td>NaN</td>\n",
       "      <td>NaN</td>\n",
       "      <td>NaN</td>\n",
       "      <td>NaN</td>\n",
       "      <td>NaN</td>\n",
       "      <td>NaN</td>\n",
       "      <td>NaN</td>\n",
       "      <td>NaN</td>\n",
       "      <td>NaN</td>\n",
       "      <td>NaN</td>\n",
       "      <td>NaN</td>\n",
       "      <td>NaN</td>\n",
       "      <td>0.46</td>\n",
       "      <td>0.68</td>\n",
       "      <td>0.28</td>\n",
       "      <td>NaN</td>\n",
       "      <td>NaN</td>\n",
       "      <td>NaN</td>\n",
       "      <td>NaN</td>\n",
       "      <td>NaN</td>\n",
       "      <td>NaN</td>\n",
       "      <td>NaN</td>\n",
       "      <td>NaN</td>\n",
       "      <td>NaN</td>\n",
       "      <td>NaN</td>\n",
       "      <td>NaN</td>\n",
       "      <td>NaN</td>\n",
       "      <td>NaN</td>\n",
       "      <td>NaN</td>\n",
       "      <td>NaN</td>\n",
       "    </tr>\n",
       "    <tr>\n",
       "      <th>Wii</th>\n",
       "      <td>NaN</td>\n",
       "      <td>NaN</td>\n",
       "      <td>NaN</td>\n",
       "      <td>NaN</td>\n",
       "      <td>NaN</td>\n",
       "      <td>NaN</td>\n",
       "      <td>NaN</td>\n",
       "      <td>NaN</td>\n",
       "      <td>NaN</td>\n",
       "      <td>NaN</td>\n",
       "      <td>NaN</td>\n",
       "      <td>NaN</td>\n",
       "      <td>NaN</td>\n",
       "      <td>NaN</td>\n",
       "      <td>NaN</td>\n",
       "      <td>NaN</td>\n",
       "      <td>NaN</td>\n",
       "      <td>NaN</td>\n",
       "      <td>NaN</td>\n",
       "      <td>NaN</td>\n",
       "      <td>NaN</td>\n",
       "      <td>NaN</td>\n",
       "      <td>NaN</td>\n",
       "      <td>NaN</td>\n",
       "      <td>NaN</td>\n",
       "      <td>NaN</td>\n",
       "      <td>137.15</td>\n",
       "      <td>152.77</td>\n",
       "      <td>171.32</td>\n",
       "      <td>206.97</td>\n",
       "      <td>127.95</td>\n",
       "      <td>59.65</td>\n",
       "      <td>21.71</td>\n",
       "      <td>8.59</td>\n",
       "      <td>3.75</td>\n",
       "      <td>1.14</td>\n",
       "      <td>0.18</td>\n",
       "    </tr>\n",
       "    <tr>\n",
       "      <th>WiiU</th>\n",
       "      <td>NaN</td>\n",
       "      <td>NaN</td>\n",
       "      <td>NaN</td>\n",
       "      <td>NaN</td>\n",
       "      <td>NaN</td>\n",
       "      <td>NaN</td>\n",
       "      <td>NaN</td>\n",
       "      <td>NaN</td>\n",
       "      <td>NaN</td>\n",
       "      <td>NaN</td>\n",
       "      <td>NaN</td>\n",
       "      <td>NaN</td>\n",
       "      <td>NaN</td>\n",
       "      <td>NaN</td>\n",
       "      <td>NaN</td>\n",
       "      <td>NaN</td>\n",
       "      <td>NaN</td>\n",
       "      <td>NaN</td>\n",
       "      <td>NaN</td>\n",
       "      <td>NaN</td>\n",
       "      <td>NaN</td>\n",
       "      <td>NaN</td>\n",
       "      <td>NaN</td>\n",
       "      <td>NaN</td>\n",
       "      <td>NaN</td>\n",
       "      <td>NaN</td>\n",
       "      <td>NaN</td>\n",
       "      <td>NaN</td>\n",
       "      <td>NaN</td>\n",
       "      <td>NaN</td>\n",
       "      <td>NaN</td>\n",
       "      <td>NaN</td>\n",
       "      <td>17.56</td>\n",
       "      <td>21.65</td>\n",
       "      <td>22.03</td>\n",
       "      <td>16.35</td>\n",
       "      <td>4.60</td>\n",
       "    </tr>\n",
       "    <tr>\n",
       "      <th>X360</th>\n",
       "      <td>NaN</td>\n",
       "      <td>NaN</td>\n",
       "      <td>NaN</td>\n",
       "      <td>NaN</td>\n",
       "      <td>NaN</td>\n",
       "      <td>NaN</td>\n",
       "      <td>NaN</td>\n",
       "      <td>NaN</td>\n",
       "      <td>NaN</td>\n",
       "      <td>NaN</td>\n",
       "      <td>NaN</td>\n",
       "      <td>NaN</td>\n",
       "      <td>NaN</td>\n",
       "      <td>NaN</td>\n",
       "      <td>NaN</td>\n",
       "      <td>NaN</td>\n",
       "      <td>NaN</td>\n",
       "      <td>NaN</td>\n",
       "      <td>NaN</td>\n",
       "      <td>NaN</td>\n",
       "      <td>NaN</td>\n",
       "      <td>NaN</td>\n",
       "      <td>NaN</td>\n",
       "      <td>NaN</td>\n",
       "      <td>NaN</td>\n",
       "      <td>8.25</td>\n",
       "      <td>51.62</td>\n",
       "      <td>95.41</td>\n",
       "      <td>135.26</td>\n",
       "      <td>120.29</td>\n",
       "      <td>170.03</td>\n",
       "      <td>143.84</td>\n",
       "      <td>99.74</td>\n",
       "      <td>88.58</td>\n",
       "      <td>34.74</td>\n",
       "      <td>11.96</td>\n",
       "      <td>1.52</td>\n",
       "    </tr>\n",
       "    <tr>\n",
       "      <th>XB</th>\n",
       "      <td>NaN</td>\n",
       "      <td>NaN</td>\n",
       "      <td>NaN</td>\n",
       "      <td>NaN</td>\n",
       "      <td>NaN</td>\n",
       "      <td>NaN</td>\n",
       "      <td>NaN</td>\n",
       "      <td>NaN</td>\n",
       "      <td>NaN</td>\n",
       "      <td>NaN</td>\n",
       "      <td>NaN</td>\n",
       "      <td>NaN</td>\n",
       "      <td>NaN</td>\n",
       "      <td>NaN</td>\n",
       "      <td>NaN</td>\n",
       "      <td>NaN</td>\n",
       "      <td>NaN</td>\n",
       "      <td>NaN</td>\n",
       "      <td>NaN</td>\n",
       "      <td>NaN</td>\n",
       "      <td>0.99</td>\n",
       "      <td>22.26</td>\n",
       "      <td>48.01</td>\n",
       "      <td>55.04</td>\n",
       "      <td>65.42</td>\n",
       "      <td>49.08</td>\n",
       "      <td>10.04</td>\n",
       "      <td>0.55</td>\n",
       "      <td>0.18</td>\n",
       "      <td>NaN</td>\n",
       "      <td>NaN</td>\n",
       "      <td>NaN</td>\n",
       "      <td>NaN</td>\n",
       "      <td>NaN</td>\n",
       "      <td>NaN</td>\n",
       "      <td>NaN</td>\n",
       "      <td>NaN</td>\n",
       "    </tr>\n",
       "    <tr>\n",
       "      <th>XOne</th>\n",
       "      <td>NaN</td>\n",
       "      <td>NaN</td>\n",
       "      <td>NaN</td>\n",
       "      <td>NaN</td>\n",
       "      <td>NaN</td>\n",
       "      <td>NaN</td>\n",
       "      <td>NaN</td>\n",
       "      <td>NaN</td>\n",
       "      <td>NaN</td>\n",
       "      <td>NaN</td>\n",
       "      <td>NaN</td>\n",
       "      <td>NaN</td>\n",
       "      <td>NaN</td>\n",
       "      <td>NaN</td>\n",
       "      <td>NaN</td>\n",
       "      <td>NaN</td>\n",
       "      <td>NaN</td>\n",
       "      <td>NaN</td>\n",
       "      <td>NaN</td>\n",
       "      <td>NaN</td>\n",
       "      <td>NaN</td>\n",
       "      <td>NaN</td>\n",
       "      <td>NaN</td>\n",
       "      <td>NaN</td>\n",
       "      <td>NaN</td>\n",
       "      <td>NaN</td>\n",
       "      <td>NaN</td>\n",
       "      <td>NaN</td>\n",
       "      <td>NaN</td>\n",
       "      <td>NaN</td>\n",
       "      <td>NaN</td>\n",
       "      <td>NaN</td>\n",
       "      <td>NaN</td>\n",
       "      <td>18.96</td>\n",
       "      <td>54.07</td>\n",
       "      <td>60.14</td>\n",
       "      <td>26.15</td>\n",
       "    </tr>\n",
       "  </tbody>\n",
       "</table>\n",
       "</div>"
      ],
      "text/plain": [
       "year_of_release   1980   1981   1982   1983   1984   1985   1986   1987  \\\n",
       "platform                                                                  \n",
       "2600             11.38  35.68  28.88   5.84   0.27   0.45   0.67   1.94   \n",
       "3DO                NaN    NaN    NaN    NaN    NaN    NaN    NaN    NaN   \n",
       "3DS                NaN    NaN    NaN    NaN    NaN    NaN    NaN    NaN   \n",
       "DC                 NaN    NaN    NaN    NaN    NaN    NaN    NaN    NaN   \n",
       "DS                 NaN    NaN    NaN    NaN    NaN   0.02    NaN    NaN   \n",
       "GB                 NaN    NaN    NaN    NaN    NaN    NaN    NaN    NaN   \n",
       "GBA                NaN    NaN    NaN    NaN    NaN    NaN    NaN    NaN   \n",
       "GC                 NaN    NaN    NaN    NaN    NaN    NaN    NaN    NaN   \n",
       "GEN                NaN    NaN    NaN    NaN    NaN    NaN    NaN    NaN   \n",
       "GG                 NaN    NaN    NaN    NaN    NaN    NaN    NaN    NaN   \n",
       "N64                NaN    NaN    NaN    NaN    NaN    NaN    NaN    NaN   \n",
       "NES                NaN    NaN    NaN  10.96  50.08  53.44  36.41  19.76   \n",
       "NG                 NaN    NaN    NaN    NaN    NaN    NaN    NaN    NaN   \n",
       "PC                 NaN    NaN    NaN    NaN    NaN   0.04    NaN    NaN   \n",
       "PCFX               NaN    NaN    NaN    NaN    NaN    NaN    NaN    NaN   \n",
       "PS                 NaN    NaN    NaN    NaN    NaN    NaN    NaN    NaN   \n",
       "PS2                NaN    NaN    NaN    NaN    NaN    NaN    NaN    NaN   \n",
       "PS3                NaN    NaN    NaN    NaN    NaN    NaN    NaN    NaN   \n",
       "PS4                NaN    NaN    NaN    NaN    NaN    NaN    NaN    NaN   \n",
       "PSP                NaN    NaN    NaN    NaN    NaN    NaN    NaN    NaN   \n",
       "PSV                NaN    NaN    NaN    NaN    NaN    NaN    NaN    NaN   \n",
       "SAT                NaN    NaN    NaN    NaN    NaN    NaN    NaN    NaN   \n",
       "SCD                NaN    NaN    NaN    NaN    NaN    NaN    NaN    NaN   \n",
       "SNES               NaN    NaN    NaN    NaN    NaN    NaN    NaN    NaN   \n",
       "TG16               NaN    NaN    NaN    NaN    NaN    NaN    NaN    NaN   \n",
       "WS                 NaN    NaN    NaN    NaN    NaN    NaN    NaN    NaN   \n",
       "Wii                NaN    NaN    NaN    NaN    NaN    NaN    NaN    NaN   \n",
       "WiiU               NaN    NaN    NaN    NaN    NaN    NaN    NaN    NaN   \n",
       "X360               NaN    NaN    NaN    NaN    NaN    NaN    NaN    NaN   \n",
       "XB                 NaN    NaN    NaN    NaN    NaN    NaN    NaN    NaN   \n",
       "XOne               NaN    NaN    NaN    NaN    NaN    NaN    NaN    NaN   \n",
       "\n",
       "year_of_release   1988   1989   1990   1991   1992   1993   1994   1995  \\\n",
       "platform                                                                  \n",
       "2600              0.74   0.63    NaN    NaN    NaN    NaN    NaN    NaN   \n",
       "3DO                NaN    NaN    NaN    NaN    NaN    NaN   0.02   0.08   \n",
       "3DS                NaN    NaN    NaN    NaN    NaN    NaN    NaN    NaN   \n",
       "DC                 NaN    NaN    NaN    NaN    NaN    NaN    NaN    NaN   \n",
       "DS                 NaN    NaN    NaN    NaN    NaN    NaN    NaN    NaN   \n",
       "GB                1.43  64.97   4.89   5.57  25.49    NaN  12.18   3.60   \n",
       "GBA                NaN    NaN    NaN    NaN    NaN    NaN    NaN    NaN   \n",
       "GC                 NaN    NaN    NaN    NaN    NaN    NaN    NaN    NaN   \n",
       "GEN                NaN    NaN   2.60   4.33  12.64   0.65   8.13    NaN   \n",
       "GG                 NaN    NaN    NaN    NaN   0.04    NaN    NaN    NaN   \n",
       "N64                NaN    NaN    NaN    NaN    NaN    NaN    NaN    NaN   \n",
       "NES              45.01   7.85  15.73   6.11   1.98   3.61   0.11    NaN   \n",
       "NG                 NaN    NaN    NaN    NaN    NaN   0.21   0.80   0.33   \n",
       "PC                0.03    NaN    NaN    NaN   3.03    NaN  12.87   4.22   \n",
       "PCFX               NaN    NaN    NaN    NaN    NaN    NaN    NaN    NaN   \n",
       "PS                 NaN    NaN    NaN    NaN    NaN    NaN   6.03  35.96   \n",
       "PS2                NaN    NaN    NaN    NaN    NaN    NaN    NaN    NaN   \n",
       "PS3                NaN    NaN    NaN    NaN    NaN    NaN    NaN    NaN   \n",
       "PS4                NaN    NaN    NaN    NaN    NaN    NaN    NaN    NaN   \n",
       "PSP                NaN    NaN    NaN    NaN    NaN    NaN    NaN    NaN   \n",
       "PSV                NaN    NaN    NaN    NaN    NaN    NaN    NaN    NaN   \n",
       "SAT                NaN    NaN    NaN    NaN    NaN    NaN   3.65  11.57   \n",
       "SCD                NaN    NaN    NaN    NaN    NaN   1.50   0.36    NaN   \n",
       "SNES               NaN    NaN  26.15  16.22  32.98  40.02  35.08  32.20   \n",
       "TG16               NaN    NaN    NaN    NaN    NaN    NaN    NaN   0.16   \n",
       "WS                 NaN    NaN    NaN    NaN    NaN    NaN    NaN    NaN   \n",
       "Wii                NaN    NaN    NaN    NaN    NaN    NaN    NaN    NaN   \n",
       "WiiU               NaN    NaN    NaN    NaN    NaN    NaN    NaN    NaN   \n",
       "X360               NaN    NaN    NaN    NaN    NaN    NaN    NaN    NaN   \n",
       "XB                 NaN    NaN    NaN    NaN    NaN    NaN    NaN    NaN   \n",
       "XOne               NaN    NaN    NaN    NaN    NaN    NaN    NaN    NaN   \n",
       "\n",
       "year_of_release   1996    1997    1998    1999   2000    2001    2002    2003  \\\n",
       "platform                                                                        \n",
       "2600               NaN     NaN     NaN     NaN    NaN     NaN     NaN     NaN   \n",
       "3DO                NaN     NaN     NaN     NaN    NaN     NaN     NaN     NaN   \n",
       "3DS                NaN     NaN     NaN     NaN    NaN     NaN     NaN     NaN   \n",
       "DC                 NaN     NaN    3.38    5.16   5.99    1.07    0.29     NaN   \n",
       "DS                 NaN     NaN     NaN     NaN    NaN     NaN     NaN     NaN   \n",
       "GB               36.03    6.37   26.90   38.00  19.76    9.24     NaN     NaN   \n",
       "GBA                NaN     NaN     NaN     NaN   0.07   61.53   74.16   56.67   \n",
       "GC                 NaN     NaN     NaN     NaN    NaN   26.34   51.81   50.61   \n",
       "GEN                NaN     NaN     NaN     NaN    NaN     NaN     NaN     NaN   \n",
       "GG                 NaN     NaN     NaN     NaN    NaN     NaN     NaN     NaN   \n",
       "N64              34.10   39.50   49.24   57.87  33.97    3.25    0.08     NaN   \n",
       "NES                NaN     NaN     NaN     NaN    NaN     NaN     NaN     NaN   \n",
       "NG                0.10     NaN     NaN     NaN    NaN     NaN     NaN     NaN   \n",
       "PC               10.58   11.27    3.26    4.74   4.66    5.47    8.57    8.84   \n",
       "PCFX              0.03     NaN     NaN     NaN    NaN     NaN     NaN     NaN   \n",
       "PS               94.70  136.17  169.49  144.53  96.37   35.59    6.67    2.07   \n",
       "PS2                NaN     NaN     NaN     NaN  39.17  166.43  205.38  184.31   \n",
       "PS3                NaN     NaN     NaN     NaN    NaN     NaN     NaN     NaN   \n",
       "PS4                NaN     NaN     NaN     NaN    NaN     NaN     NaN     NaN   \n",
       "PSP                NaN     NaN     NaN     NaN    NaN     NaN     NaN     NaN   \n",
       "PSV                NaN     NaN     NaN     NaN    NaN     NaN     NaN     NaN   \n",
       "SAT               7.69    6.77    3.82    0.09    NaN     NaN     NaN     NaN   \n",
       "SCD                NaN     NaN     NaN     NaN    NaN     NaN     NaN     NaN   \n",
       "SNES             15.92    0.99    0.22    0.26    NaN     NaN     NaN     NaN   \n",
       "TG16               NaN     NaN     NaN     NaN    NaN     NaN     NaN     NaN   \n",
       "WS                 NaN     NaN     NaN    0.46   0.68    0.28     NaN     NaN   \n",
       "Wii                NaN     NaN     NaN     NaN    NaN     NaN     NaN     NaN   \n",
       "WiiU               NaN     NaN     NaN     NaN    NaN     NaN     NaN     NaN   \n",
       "X360               NaN     NaN     NaN     NaN    NaN     NaN     NaN     NaN   \n",
       "XB                 NaN     NaN     NaN     NaN   0.99   22.26   48.01   55.04   \n",
       "XOne               NaN     NaN     NaN     NaN    NaN     NaN     NaN     NaN   \n",
       "\n",
       "year_of_release    2004    2005    2006    2007    2008    2009    2010  \\\n",
       "platform                                                                  \n",
       "2600                NaN     NaN     NaN     NaN     NaN     NaN     NaN   \n",
       "3DO                 NaN     NaN     NaN     NaN     NaN     NaN     NaN   \n",
       "3DS                 NaN     NaN     NaN     NaN     NaN     NaN     NaN   \n",
       "DC                  NaN     NaN     NaN    0.02    0.04     NaN     NaN   \n",
       "DS                17.27  130.14  119.81  146.94  145.31  119.54   85.02   \n",
       "GB                  NaN     NaN     NaN     NaN     NaN     NaN     NaN   \n",
       "GBA               77.91   33.86    5.28    3.40     NaN     NaN     NaN   \n",
       "GC                28.82   27.62   11.26    0.27     NaN     NaN     NaN   \n",
       "GEN                 NaN     NaN     NaN     NaN     NaN     NaN     NaN   \n",
       "GG                  NaN     NaN     NaN     NaN     NaN     NaN     NaN   \n",
       "N64                 NaN     NaN     NaN     NaN     NaN     NaN     NaN   \n",
       "NES                 NaN     NaN     NaN     NaN     NaN     NaN     NaN   \n",
       "NG                  NaN     NaN     NaN     NaN     NaN     NaN     NaN   \n",
       "PC                10.39    4.37    2.85    9.28   12.42   16.91   24.28   \n",
       "PCFX                NaN     NaN     NaN     NaN     NaN     NaN     NaN   \n",
       "PS                  NaN     NaN     NaN     NaN     NaN     NaN     NaN   \n",
       "PS2              211.81  160.66  103.42   75.99   53.90   26.40    5.64   \n",
       "PS3                 NaN     NaN   20.96   73.19  118.52  130.93  142.17   \n",
       "PS4                 NaN     NaN     NaN     NaN     NaN     NaN     NaN   \n",
       "PSP                7.06   43.84   55.32   46.93   34.55   37.78   35.04   \n",
       "PSV                 NaN     NaN     NaN     NaN     NaN     NaN     NaN   \n",
       "SAT                 NaN     NaN     NaN     NaN     NaN     NaN     NaN   \n",
       "SCD                 NaN     NaN     NaN     NaN     NaN     NaN     NaN   \n",
       "SNES                NaN     NaN     NaN     NaN     NaN     NaN     NaN   \n",
       "TG16                NaN     NaN     NaN     NaN     NaN     NaN     NaN   \n",
       "WS                  NaN     NaN     NaN     NaN     NaN     NaN     NaN   \n",
       "Wii                 NaN     NaN  137.15  152.77  171.32  206.97  127.95   \n",
       "WiiU                NaN     NaN     NaN     NaN     NaN     NaN     NaN   \n",
       "X360                NaN    8.25   51.62   95.41  135.26  120.29  170.03   \n",
       "XB                65.42   49.08   10.04    0.55    0.18     NaN     NaN   \n",
       "XOne                NaN     NaN     NaN     NaN     NaN     NaN     NaN   \n",
       "\n",
       "year_of_release    2011    2012    2013    2014    2015   2016  \n",
       "platform                                                        \n",
       "2600                NaN     NaN     NaN     NaN     NaN    NaN  \n",
       "3DO                 NaN     NaN     NaN     NaN     NaN    NaN  \n",
       "3DS               63.20   51.36   56.57   43.76   27.78  15.14  \n",
       "DC                  NaN     NaN     NaN     NaN     NaN    NaN  \n",
       "DS                26.18   11.01    1.54     NaN     NaN    NaN  \n",
       "GB                  NaN     NaN     NaN     NaN     NaN    NaN  \n",
       "GBA                 NaN     NaN     NaN     NaN     NaN    NaN  \n",
       "GC                  NaN     NaN     NaN     NaN     NaN    NaN  \n",
       "GEN                 NaN     NaN     NaN     NaN     NaN    NaN  \n",
       "GG                  NaN     NaN     NaN     NaN     NaN    NaN  \n",
       "N64                 NaN     NaN     NaN     NaN     NaN    NaN  \n",
       "NES                 NaN     NaN     NaN     NaN     NaN    NaN  \n",
       "NG                  NaN     NaN     NaN     NaN     NaN    NaN  \n",
       "PC                35.03   23.22   12.38   13.28    8.52   5.25  \n",
       "PCFX                NaN     NaN     NaN     NaN     NaN    NaN  \n",
       "PS                  NaN     NaN     NaN     NaN     NaN    NaN  \n",
       "PS2                0.45     NaN     NaN     NaN     NaN    NaN  \n",
       "PS3              156.78  107.36  113.25   47.76   16.82   3.60  \n",
       "PS4                 NaN     NaN   25.99  100.00  118.90  69.25  \n",
       "PSP               17.82    7.69    3.14    0.24    0.12    NaN  \n",
       "PSV                4.63   16.19   10.59   11.90    6.25   4.25  \n",
       "SAT                 NaN     NaN     NaN     NaN     NaN    NaN  \n",
       "SCD                 NaN     NaN     NaN     NaN     NaN    NaN  \n",
       "SNES                NaN     NaN     NaN     NaN     NaN    NaN  \n",
       "TG16                NaN     NaN     NaN     NaN     NaN    NaN  \n",
       "WS                  NaN     NaN     NaN     NaN     NaN    NaN  \n",
       "Wii               59.65   21.71    8.59    3.75    1.14   0.18  \n",
       "WiiU                NaN   17.56   21.65   22.03   16.35   4.60  \n",
       "X360             143.84   99.74   88.58   34.74   11.96   1.52  \n",
       "XB                  NaN     NaN     NaN     NaN     NaN    NaN  \n",
       "XOne                NaN     NaN   18.96   54.07   60.14  26.15  "
      ]
     },
     "execution_count": 42,
     "metadata": {},
     "output_type": "execute_result"
    }
   ],
   "source": [
    "platform_sales_by_year = data.pivot_table(index='platform', columns='year_of_release', values='sales', aggfunc='sum')\n",
    "platform_sales_by_year"
   ]
  },
  {
   "cell_type": "markdown",
   "metadata": {},
   "source": [
    "Актуальным периодом будем считать 6 лет период равный половине характерного времени существования платформы. Это период с 2011 года по 2016. "
   ]
  },
  {
   "cell_type": "code",
   "execution_count": 43,
   "metadata": {
    "scrolled": false
   },
   "outputs": [
    {
     "data": {
      "text/html": [
       "<div>\n",
       "<style scoped>\n",
       "    .dataframe tbody tr th:only-of-type {\n",
       "        vertical-align: middle;\n",
       "    }\n",
       "\n",
       "    .dataframe tbody tr th {\n",
       "        vertical-align: top;\n",
       "    }\n",
       "\n",
       "    .dataframe thead th {\n",
       "        text-align: right;\n",
       "    }\n",
       "</style>\n",
       "<table border=\"1\" class=\"dataframe\">\n",
       "  <thead>\n",
       "    <tr style=\"text-align: right;\">\n",
       "      <th>year_of_release</th>\n",
       "      <th>2011</th>\n",
       "      <th>2012</th>\n",
       "      <th>2013</th>\n",
       "      <th>2014</th>\n",
       "      <th>2015</th>\n",
       "      <th>2016</th>\n",
       "    </tr>\n",
       "    <tr>\n",
       "      <th>platform</th>\n",
       "      <th></th>\n",
       "      <th></th>\n",
       "      <th></th>\n",
       "      <th></th>\n",
       "      <th></th>\n",
       "      <th></th>\n",
       "    </tr>\n",
       "  </thead>\n",
       "  <tbody>\n",
       "    <tr>\n",
       "      <th>3DS</th>\n",
       "      <td>63.20</td>\n",
       "      <td>51.36</td>\n",
       "      <td>56.57</td>\n",
       "      <td>43.76</td>\n",
       "      <td>27.78</td>\n",
       "      <td>15.14</td>\n",
       "    </tr>\n",
       "    <tr>\n",
       "      <th>PC</th>\n",
       "      <td>35.03</td>\n",
       "      <td>23.22</td>\n",
       "      <td>12.38</td>\n",
       "      <td>13.28</td>\n",
       "      <td>8.52</td>\n",
       "      <td>5.25</td>\n",
       "    </tr>\n",
       "    <tr>\n",
       "      <th>PS3</th>\n",
       "      <td>156.78</td>\n",
       "      <td>107.36</td>\n",
       "      <td>113.25</td>\n",
       "      <td>47.76</td>\n",
       "      <td>16.82</td>\n",
       "      <td>3.60</td>\n",
       "    </tr>\n",
       "    <tr>\n",
       "      <th>PS4</th>\n",
       "      <td>NaN</td>\n",
       "      <td>NaN</td>\n",
       "      <td>25.99</td>\n",
       "      <td>100.00</td>\n",
       "      <td>118.90</td>\n",
       "      <td>69.25</td>\n",
       "    </tr>\n",
       "    <tr>\n",
       "      <th>PSV</th>\n",
       "      <td>4.63</td>\n",
       "      <td>16.19</td>\n",
       "      <td>10.59</td>\n",
       "      <td>11.90</td>\n",
       "      <td>6.25</td>\n",
       "      <td>4.25</td>\n",
       "    </tr>\n",
       "    <tr>\n",
       "      <th>Wii</th>\n",
       "      <td>59.65</td>\n",
       "      <td>21.71</td>\n",
       "      <td>8.59</td>\n",
       "      <td>3.75</td>\n",
       "      <td>1.14</td>\n",
       "      <td>0.18</td>\n",
       "    </tr>\n",
       "    <tr>\n",
       "      <th>WiiU</th>\n",
       "      <td>NaN</td>\n",
       "      <td>17.56</td>\n",
       "      <td>21.65</td>\n",
       "      <td>22.03</td>\n",
       "      <td>16.35</td>\n",
       "      <td>4.60</td>\n",
       "    </tr>\n",
       "    <tr>\n",
       "      <th>X360</th>\n",
       "      <td>143.84</td>\n",
       "      <td>99.74</td>\n",
       "      <td>88.58</td>\n",
       "      <td>34.74</td>\n",
       "      <td>11.96</td>\n",
       "      <td>1.52</td>\n",
       "    </tr>\n",
       "    <tr>\n",
       "      <th>XOne</th>\n",
       "      <td>NaN</td>\n",
       "      <td>NaN</td>\n",
       "      <td>18.96</td>\n",
       "      <td>54.07</td>\n",
       "      <td>60.14</td>\n",
       "      <td>26.15</td>\n",
       "    </tr>\n",
       "  </tbody>\n",
       "</table>\n",
       "</div>"
      ],
      "text/plain": [
       "year_of_release    2011    2012    2013    2014    2015   2016\n",
       "platform                                                      \n",
       "3DS               63.20   51.36   56.57   43.76   27.78  15.14\n",
       "PC                35.03   23.22   12.38   13.28    8.52   5.25\n",
       "PS3              156.78  107.36  113.25   47.76   16.82   3.60\n",
       "PS4                 NaN     NaN   25.99  100.00  118.90  69.25\n",
       "PSV                4.63   16.19   10.59   11.90    6.25   4.25\n",
       "Wii               59.65   21.71    8.59    3.75    1.14   0.18\n",
       "WiiU                NaN   17.56   21.65   22.03   16.35   4.60\n",
       "X360             143.84   99.74   88.58   34.74   11.96   1.52\n",
       "XOne                NaN     NaN   18.96   54.07   60.14  26.15"
      ]
     },
     "metadata": {},
     "output_type": "display_data"
    }
   ],
   "source": [
    "# Создание таблицы платформа - объём продаж по годам в период с 2011 по 2016 год.\n",
    "actual_platforms_sales = platform_sales_by_year.loc[platform_sales_by_year[2016] > 0, 2011:2016]\n",
    "display(actual_platforms_sales)"
   ]
  },
  {
   "cell_type": "code",
   "execution_count": 44,
   "metadata": {},
   "outputs": [
    {
     "name": "stdout",
     "output_type": "stream",
     "text": [
      "Index(['3DS', 'PC', 'PS3', 'PS4', 'PSV', 'Wii', 'WiiU', 'X360', 'XOne'], dtype='object', name='platform')\n"
     ]
    }
   ],
   "source": [
    "platforms_actual_2016 = actual_platforms_sales.index\n",
    "print(platforms_actual_2016)"
   ]
  },
  {
   "cell_type": "markdown",
   "metadata": {},
   "source": [
    "Из полученной таблицы видно, что в 2016 году лидируют по продажам 3 платформы PS4, XOne и 3DS . Каждая платформа имеет более 15 млн проданных копий. Посчитаем их долю в продажах."
   ]
  },
  {
   "cell_type": "code",
   "execution_count": 45,
   "metadata": {},
   "outputs": [
    {
     "data": {
      "text/plain": [
       "85.07"
      ]
     },
     "execution_count": 45,
     "metadata": {},
     "output_type": "execute_result"
    }
   ],
   "source": [
    "round(actual_platforms_sales.loc[['PS4', 'XOne', '3DS'], 2016].sum()\n",
    "      / actual_platforms_sales.loc[:, 2016].sum()\n",
    "      * 100, \n",
    "      2\n",
    ")"
   ]
  },
  {
   "cell_type": "markdown",
   "metadata": {},
   "source": [
    "Доля в продажах этих 3-х платформ составляет 85 %. Таким образом, три платформы 3DS, PS4 и XOne являются самыми прибыльными."
   ]
  },
  {
   "cell_type": "markdown",
   "metadata": {},
   "source": [
    "Создание списка лидирующих платформ в 2016 году."
   ]
  },
  {
   "cell_type": "code",
   "execution_count": 46,
   "metadata": {
    "scrolled": true
   },
   "outputs": [
    {
     "data": {
      "text/plain": [
       "['PS4', 'XOne', '3DS']"
      ]
     },
     "execution_count": 46,
     "metadata": {},
     "output_type": "execute_result"
    }
   ],
   "source": [
    "platforms_2016_top = ['PS4', 'XOne', '3DS']\n",
    "platforms_2016_top"
   ]
  },
  {
   "cell_type": "markdown",
   "metadata": {},
   "source": [
    "Для дальнейшего анализа нам понадобятся данные актуальных платформ. Создадим датафрейм data_actual с данными актульных платформ."
   ]
  },
  {
   "cell_type": "code",
   "execution_count": 47,
   "metadata": {},
   "outputs": [],
   "source": [
    "data_actual = data.query('year_of_release >= 2011 and platform in @platforms_actual_2016')"
   ]
  },
  {
   "cell_type": "markdown",
   "metadata": {},
   "source": [
    "### Статистический анализ продаж 3-х ведущих платформ 3DS, PS4 и XOne"
   ]
  },
  {
   "cell_type": "markdown",
   "metadata": {},
   "source": [
    "Создание датафрейма с играми 3-х платформ 3DS, PS4, XOne."
   ]
  },
  {
   "cell_type": "code",
   "execution_count": 48,
   "metadata": {},
   "outputs": [
    {
     "data": {
      "text/html": [
       "<div>\n",
       "<style scoped>\n",
       "    .dataframe tbody tr th:only-of-type {\n",
       "        vertical-align: middle;\n",
       "    }\n",
       "\n",
       "    .dataframe tbody tr th {\n",
       "        vertical-align: top;\n",
       "    }\n",
       "\n",
       "    .dataframe thead th {\n",
       "        text-align: right;\n",
       "    }\n",
       "</style>\n",
       "<table border=\"1\" class=\"dataframe\">\n",
       "  <thead>\n",
       "    <tr style=\"text-align: right;\">\n",
       "      <th></th>\n",
       "      <th>name</th>\n",
       "      <th>platform</th>\n",
       "      <th>year_of_release</th>\n",
       "      <th>genre</th>\n",
       "      <th>na_sales</th>\n",
       "      <th>eu_sales</th>\n",
       "      <th>jp_sales</th>\n",
       "      <th>other_sales</th>\n",
       "      <th>critic_score</th>\n",
       "      <th>user_score</th>\n",
       "      <th>rating</th>\n",
       "      <th>sales</th>\n",
       "    </tr>\n",
       "  </thead>\n",
       "  <tbody>\n",
       "    <tr>\n",
       "      <th>31</th>\n",
       "      <td>Call of Duty: Black Ops 3</td>\n",
       "      <td>PS4</td>\n",
       "      <td>2015</td>\n",
       "      <td>Shooter</td>\n",
       "      <td>6.03</td>\n",
       "      <td>5.86</td>\n",
       "      <td>0.36</td>\n",
       "      <td>2.38</td>\n",
       "      <td>NaN</td>\n",
       "      <td>NaN</td>\n",
       "      <td>NaN</td>\n",
       "      <td>14.63</td>\n",
       "    </tr>\n",
       "    <tr>\n",
       "      <th>33</th>\n",
       "      <td>Pokemon X/Pokemon Y</td>\n",
       "      <td>3DS</td>\n",
       "      <td>2013</td>\n",
       "      <td>Role-Playing</td>\n",
       "      <td>5.28</td>\n",
       "      <td>4.19</td>\n",
       "      <td>4.35</td>\n",
       "      <td>0.78</td>\n",
       "      <td>NaN</td>\n",
       "      <td>NaN</td>\n",
       "      <td>NaN</td>\n",
       "      <td>14.60</td>\n",
       "    </tr>\n",
       "    <tr>\n",
       "      <th>40</th>\n",
       "      <td>Mario Kart 7</td>\n",
       "      <td>3DS</td>\n",
       "      <td>2011</td>\n",
       "      <td>Racing</td>\n",
       "      <td>5.03</td>\n",
       "      <td>4.02</td>\n",
       "      <td>2.69</td>\n",
       "      <td>0.91</td>\n",
       "      <td>85.0</td>\n",
       "      <td>8.2</td>\n",
       "      <td>E</td>\n",
       "      <td>12.65</td>\n",
       "    </tr>\n",
       "    <tr>\n",
       "      <th>42</th>\n",
       "      <td>Grand Theft Auto V</td>\n",
       "      <td>PS4</td>\n",
       "      <td>2014</td>\n",
       "      <td>Action</td>\n",
       "      <td>3.96</td>\n",
       "      <td>6.31</td>\n",
       "      <td>0.38</td>\n",
       "      <td>1.97</td>\n",
       "      <td>97.0</td>\n",
       "      <td>8.3</td>\n",
       "      <td>M</td>\n",
       "      <td>12.62</td>\n",
       "    </tr>\n",
       "    <tr>\n",
       "      <th>47</th>\n",
       "      <td>Pokemon Omega Ruby/Pokemon Alpha Sapphire</td>\n",
       "      <td>3DS</td>\n",
       "      <td>2014</td>\n",
       "      <td>Role-Playing</td>\n",
       "      <td>4.35</td>\n",
       "      <td>3.49</td>\n",
       "      <td>3.10</td>\n",
       "      <td>0.74</td>\n",
       "      <td>NaN</td>\n",
       "      <td>NaN</td>\n",
       "      <td>NaN</td>\n",
       "      <td>11.68</td>\n",
       "    </tr>\n",
       "  </tbody>\n",
       "</table>\n",
       "</div>"
      ],
      "text/plain": [
       "                                         name platform  year_of_release  \\\n",
       "31                  Call of Duty: Black Ops 3      PS4             2015   \n",
       "33                        Pokemon X/Pokemon Y      3DS             2013   \n",
       "40                               Mario Kart 7      3DS             2011   \n",
       "42                         Grand Theft Auto V      PS4             2014   \n",
       "47  Pokemon Omega Ruby/Pokemon Alpha Sapphire      3DS             2014   \n",
       "\n",
       "           genre  na_sales  eu_sales  jp_sales  other_sales  critic_score  \\\n",
       "31       Shooter      6.03      5.86      0.36         2.38           NaN   \n",
       "33  Role-Playing      5.28      4.19      4.35         0.78           NaN   \n",
       "40        Racing      5.03      4.02      2.69         0.91          85.0   \n",
       "42        Action      3.96      6.31      0.38         1.97          97.0   \n",
       "47  Role-Playing      4.35      3.49      3.10         0.74           NaN   \n",
       "\n",
       "    user_score rating  sales  \n",
       "31         NaN    NaN  14.63  \n",
       "33         NaN    NaN  14.60  \n",
       "40         8.2      E  12.65  \n",
       "42         8.3      M  12.62  \n",
       "47         NaN    NaN  11.68  "
      ]
     },
     "metadata": {},
     "output_type": "display_data"
    }
   ],
   "source": [
    "data_platforms_2016_top = data.query('platform in @platforms_2016_top')\n",
    "display(data_platforms_2016_top.head())"
   ]
  },
  {
   "cell_type": "markdown",
   "metadata": {},
   "source": [
    "Построение 'ящиков с усами' по продажам этих 3-х ведущих платформ. "
   ]
  },
  {
   "cell_type": "code",
   "execution_count": 49,
   "metadata": {
    "scrolled": false
   },
   "outputs": [
    {
     "data": {
      "image/png": "[encoded data removed]",
      "text/plain": [
       "<Figure size 1080x360 with 1 Axes>"
      ]
     },
     "metadata": {
      "needs_background": "light"
     },
     "output_type": "display_data"
    }
   ],
   "source": [
    "data_platforms_2016_top.boxplot('sales', by='platform', figsize=(15, 5));"
   ]
  },
  {
   "cell_type": "markdown",
   "metadata": {},
   "source": [
    "Создание датафрейма статистичекое описание данных продаж 3 ведущих платформ. "
   ]
  },
  {
   "cell_type": "code",
   "execution_count": 50,
   "metadata": {
    "scrolled": true
   },
   "outputs": [],
   "source": [
    "ps4 = data_platforms_2016_top.query('platform == \"PS4\"')['sales'].describe()"
   ]
  },
  {
   "cell_type": "code",
   "execution_count": 51,
   "metadata": {
    "scrolled": true
   },
   "outputs": [],
   "source": [
    "three_ds = data_platforms_2016_top.query('platform == \"3DS\"')['sales'].describe()"
   ]
  },
  {
   "cell_type": "code",
   "execution_count": 52,
   "metadata": {},
   "outputs": [],
   "source": [
    "xone = data_platforms_2016_top.query('platform == \"XOne\"')['sales'].describe()"
   ]
  },
  {
   "cell_type": "code",
   "execution_count": 53,
   "metadata": {
    "scrolled": true
   },
   "outputs": [
    {
     "data": {
      "text/html": [
       "<div>\n",
       "<style scoped>\n",
       "    .dataframe tbody tr th:only-of-type {\n",
       "        vertical-align: middle;\n",
       "    }\n",
       "\n",
       "    .dataframe tbody tr th {\n",
       "        vertical-align: top;\n",
       "    }\n",
       "\n",
       "    .dataframe thead th {\n",
       "        text-align: right;\n",
       "    }\n",
       "</style>\n",
       "<table border=\"1\" class=\"dataframe\">\n",
       "  <thead>\n",
       "    <tr style=\"text-align: right;\">\n",
       "      <th></th>\n",
       "      <th>ps4</th>\n",
       "      <th>3ds</th>\n",
       "      <th>xone</th>\n",
       "    </tr>\n",
       "  </thead>\n",
       "  <tbody>\n",
       "    <tr>\n",
       "      <th>count</th>\n",
       "      <td>392.00</td>\n",
       "      <td>512.00</td>\n",
       "      <td>247.00</td>\n",
       "    </tr>\n",
       "    <tr>\n",
       "      <th>mean</th>\n",
       "      <td>0.80</td>\n",
       "      <td>0.50</td>\n",
       "      <td>0.65</td>\n",
       "    </tr>\n",
       "    <tr>\n",
       "      <th>std</th>\n",
       "      <td>1.61</td>\n",
       "      <td>1.44</td>\n",
       "      <td>1.04</td>\n",
       "    </tr>\n",
       "    <tr>\n",
       "      <th>min</th>\n",
       "      <td>0.01</td>\n",
       "      <td>0.01</td>\n",
       "      <td>0.01</td>\n",
       "    </tr>\n",
       "    <tr>\n",
       "      <th>25%</th>\n",
       "      <td>0.06</td>\n",
       "      <td>0.05</td>\n",
       "      <td>0.06</td>\n",
       "    </tr>\n",
       "    <tr>\n",
       "      <th>50%</th>\n",
       "      <td>0.20</td>\n",
       "      <td>0.12</td>\n",
       "      <td>0.22</td>\n",
       "    </tr>\n",
       "    <tr>\n",
       "      <th>75%</th>\n",
       "      <td>0.73</td>\n",
       "      <td>0.33</td>\n",
       "      <td>0.68</td>\n",
       "    </tr>\n",
       "    <tr>\n",
       "      <th>max</th>\n",
       "      <td>14.63</td>\n",
       "      <td>14.60</td>\n",
       "      <td>7.39</td>\n",
       "    </tr>\n",
       "  </tbody>\n",
       "</table>\n",
       "</div>"
      ],
      "text/plain": [
       "          ps4     3ds    xone\n",
       "count  392.00  512.00  247.00\n",
       "mean     0.80    0.50    0.65\n",
       "std      1.61    1.44    1.04\n",
       "min      0.01    0.01    0.01\n",
       "25%      0.06    0.05    0.06\n",
       "50%      0.20    0.12    0.22\n",
       "75%      0.73    0.33    0.68\n",
       "max     14.63   14.60    7.39"
      ]
     },
     "metadata": {},
     "output_type": "display_data"
    }
   ],
   "source": [
    "platf_top3_stat = pd.DataFrame(\n",
    "                                index=ps4.index, \n",
    "                                data={\n",
    "                                   'ps4' : ps4.values, \n",
    "                                   '3ds' : three_ds.values,\n",
    "                                   'xone' : xone.values\n",
    "                               }\n",
    ")\n",
    "platf_top3_stat['ps4'] = round(platf_top3_stat['ps4'], 2)\n",
    "platf_top3_stat['3ds'] = round(platf_top3_stat['3ds'], 2)\n",
    "platf_top3_stat['xone'] = round(platf_top3_stat['xone'], 2)\n",
    "display(platf_top3_stat)"
   ]
  },
  {
   "cell_type": "markdown",
   "metadata": {},
   "source": [
    "Из графиков \"ящик с усами\" и таблицы статистики 3-х современных ведущих платформ ps4, 3ds и xone можно увидеть, что больше всего игр  выпустила платформа 3ds - 512 игр, меньше всего 247 игр платформа xone. Среднее значение продаж самое высокое у платформы ps4 - 0.8 млн копий, минимальное среднее значение продаж у платформы 3ds - 0.5 млн копий. Минимальное значение медианы 0.12 имеет платформа 3ds, что означает, что у этой платформы много игр с малым значением продаж, меньше 0.12 млн."
   ]
  },
  {
   "cell_type": "markdown",
   "metadata": {},
   "source": [
    "### Влияние отзывов пользователей и критиков на продажи популярных современных платформ"
   ]
  },
  {
   "cell_type": "markdown",
   "metadata": {},
   "source": [
    "Создание датафрейма платформа, продажи, оценки пользователей (sales_user_score) с удалением пустых значений в столбце 'user_score'."
   ]
  },
  {
   "cell_type": "code",
   "execution_count": 54,
   "metadata": {
    "scrolled": true
   },
   "outputs": [
    {
     "data": {
      "text/html": [
       "<div>\n",
       "<style scoped>\n",
       "    .dataframe tbody tr th:only-of-type {\n",
       "        vertical-align: middle;\n",
       "    }\n",
       "\n",
       "    .dataframe tbody tr th {\n",
       "        vertical-align: top;\n",
       "    }\n",
       "\n",
       "    .dataframe thead th {\n",
       "        text-align: right;\n",
       "    }\n",
       "</style>\n",
       "<table border=\"1\" class=\"dataframe\">\n",
       "  <thead>\n",
       "    <tr style=\"text-align: right;\">\n",
       "      <th></th>\n",
       "      <th>platform</th>\n",
       "      <th>sales</th>\n",
       "      <th>user_score</th>\n",
       "    </tr>\n",
       "  </thead>\n",
       "  <tbody>\n",
       "    <tr>\n",
       "      <th>0</th>\n",
       "      <td>Wii</td>\n",
       "      <td>82.54</td>\n",
       "      <td>8.0</td>\n",
       "    </tr>\n",
       "    <tr>\n",
       "      <th>2</th>\n",
       "      <td>Wii</td>\n",
       "      <td>35.52</td>\n",
       "      <td>8.3</td>\n",
       "    </tr>\n",
       "    <tr>\n",
       "      <th>3</th>\n",
       "      <td>Wii</td>\n",
       "      <td>32.77</td>\n",
       "      <td>8.0</td>\n",
       "    </tr>\n",
       "    <tr>\n",
       "      <th>6</th>\n",
       "      <td>DS</td>\n",
       "      <td>29.80</td>\n",
       "      <td>8.5</td>\n",
       "    </tr>\n",
       "    <tr>\n",
       "      <th>7</th>\n",
       "      <td>Wii</td>\n",
       "      <td>28.91</td>\n",
       "      <td>6.6</td>\n",
       "    </tr>\n",
       "  </tbody>\n",
       "</table>\n",
       "</div>"
      ],
      "text/plain": [
       "  platform  sales  user_score\n",
       "0      Wii  82.54         8.0\n",
       "2      Wii  35.52         8.3\n",
       "3      Wii  32.77         8.0\n",
       "6       DS  29.80         8.5\n",
       "7      Wii  28.91         6.6"
      ]
     },
     "execution_count": 54,
     "metadata": {},
     "output_type": "execute_result"
    }
   ],
   "source": [
    "sales_user_score = data.dropna(subset=['user_score']).loc[:, ['platform', 'sales', 'user_score']]\n",
    "sales_user_score.head()"
   ]
  },
  {
   "cell_type": "markdown",
   "metadata": {},
   "source": [
    "Создание датафрейма платформа, продажи, оценки критиков (sales_critic_score) с удалением пустых значений в столбце 'critic_score'."
   ]
  },
  {
   "cell_type": "code",
   "execution_count": 55,
   "metadata": {},
   "outputs": [
    {
     "data": {
      "text/html": [
       "<div>\n",
       "<style scoped>\n",
       "    .dataframe tbody tr th:only-of-type {\n",
       "        vertical-align: middle;\n",
       "    }\n",
       "\n",
       "    .dataframe tbody tr th {\n",
       "        vertical-align: top;\n",
       "    }\n",
       "\n",
       "    .dataframe thead th {\n",
       "        text-align: right;\n",
       "    }\n",
       "</style>\n",
       "<table border=\"1\" class=\"dataframe\">\n",
       "  <thead>\n",
       "    <tr style=\"text-align: right;\">\n",
       "      <th></th>\n",
       "      <th>platform</th>\n",
       "      <th>sales</th>\n",
       "      <th>critic_score</th>\n",
       "    </tr>\n",
       "  </thead>\n",
       "  <tbody>\n",
       "    <tr>\n",
       "      <th>0</th>\n",
       "      <td>Wii</td>\n",
       "      <td>82.54</td>\n",
       "      <td>76.0</td>\n",
       "    </tr>\n",
       "    <tr>\n",
       "      <th>2</th>\n",
       "      <td>Wii</td>\n",
       "      <td>35.52</td>\n",
       "      <td>82.0</td>\n",
       "    </tr>\n",
       "    <tr>\n",
       "      <th>3</th>\n",
       "      <td>Wii</td>\n",
       "      <td>32.77</td>\n",
       "      <td>80.0</td>\n",
       "    </tr>\n",
       "    <tr>\n",
       "      <th>6</th>\n",
       "      <td>DS</td>\n",
       "      <td>29.80</td>\n",
       "      <td>89.0</td>\n",
       "    </tr>\n",
       "    <tr>\n",
       "      <th>7</th>\n",
       "      <td>Wii</td>\n",
       "      <td>28.91</td>\n",
       "      <td>58.0</td>\n",
       "    </tr>\n",
       "  </tbody>\n",
       "</table>\n",
       "</div>"
      ],
      "text/plain": [
       "  platform  sales  critic_score\n",
       "0      Wii  82.54          76.0\n",
       "2      Wii  35.52          82.0\n",
       "3      Wii  32.77          80.0\n",
       "6       DS  29.80          89.0\n",
       "7      Wii  28.91          58.0"
      ]
     },
     "execution_count": 55,
     "metadata": {},
     "output_type": "execute_result"
    }
   ],
   "source": [
    "sales_critic_score = data.dropna(subset=['critic_score']).loc[:, ['platform', 'sales', 'critic_score']]\n",
    "sales_critic_score.head()"
   ]
  },
  {
   "cell_type": "markdown",
   "metadata": {},
   "source": [
    "#### PS4 самая популярная современная платформа"
   ]
  },
  {
   "cell_type": "markdown",
   "metadata": {},
   "source": [
    "Создание датафрейма платформы ps4 продажи, оценки пользователей ps4_sales_user_score."
   ]
  },
  {
   "cell_type": "code",
   "execution_count": 56,
   "metadata": {},
   "outputs": [],
   "source": [
    "ps4_sales_user_score = sales_user_score.query('platform == \"PS4\"')"
   ]
  },
  {
   "cell_type": "markdown",
   "metadata": {},
   "source": [
    "Построение диаграммы рассеяния продаж и оценок пользователей платформы PS4."
   ]
  },
  {
   "cell_type": "code",
   "execution_count": 57,
   "metadata": {
    "scrolled": false
   },
   "outputs": [
    {
     "data": {
      "image/png": "[encoded data removed]",
      "text/plain": [
       "<Figure size 432x288 with 1 Axes>"
      ]
     },
     "metadata": {
      "needs_background": "light"
     },
     "output_type": "display_data"
    }
   ],
   "source": [
    "ps4_sales_user_score.query('platform == \"PS4\"').plot(x='user_score', y='sales', kind='scatter')\n",
    "plt.title('Диаграмма рассеяния оценка пользователей - продажи PS4');"
   ]
  },
  {
   "cell_type": "markdown",
   "metadata": {},
   "source": [
    "Расчёт коэффициента корреляции Пирсона между продажами и оценкой пользователей."
   ]
  },
  {
   "cell_type": "code",
   "execution_count": 58,
   "metadata": {
    "scrolled": true
   },
   "outputs": [
    {
     "data": {
      "text/plain": [
       "-0.03"
      ]
     },
     "execution_count": 58,
     "metadata": {},
     "output_type": "execute_result"
    }
   ],
   "source": [
    "round(ps4_sales_user_score['sales'].corr(ps4_sales_user_score['user_score']), 2)"
   ]
  },
  {
   "cell_type": "markdown",
   "metadata": {},
   "source": [
    "Из диаграммы рассеяния и коэффициента Пирсона равного -0,03, можно сделать вывод, что зависимости продаж платформы PS3 от оценок пользователей не имеется."
   ]
  },
  {
   "cell_type": "markdown",
   "metadata": {},
   "source": [
    "Создание датафрейма платформы ps4 продажи, оценки критиков ps4_sales_critic_score."
   ]
  },
  {
   "cell_type": "code",
   "execution_count": 59,
   "metadata": {},
   "outputs": [],
   "source": [
    "ps4_sales_critic_score = sales_critic_score.query('platform == \"PS4\"')"
   ]
  },
  {
   "cell_type": "markdown",
   "metadata": {},
   "source": [
    "Построение диаграммы рассеяния продаж по оценке критиков для платформы PS4."
   ]
  },
  {
   "cell_type": "code",
   "execution_count": 60,
   "metadata": {
    "scrolled": false
   },
   "outputs": [
    {
     "data": {
      "image/png": "[encoded data removed]",
      "text/plain": [
       "<Figure size 432x288 with 1 Axes>"
      ]
     },
     "metadata": {
      "needs_background": "light"
     },
     "output_type": "display_data"
    }
   ],
   "source": [
    "ps4_sales_critic_score.plot(x='critic_score', y='sales', kind='scatter')\n",
    "plt.title('Диаграмма рассеяния оценка критиков - продажи платформы PS4');"
   ]
  },
  {
   "cell_type": "code",
   "execution_count": 61,
   "metadata": {
    "scrolled": true
   },
   "outputs": [
    {
     "data": {
      "text/plain": [
       "0.41"
      ]
     },
     "execution_count": 61,
     "metadata": {},
     "output_type": "execute_result"
    }
   ],
   "source": [
    "round(ps4_sales_critic_score['sales'].corr(ps4_sales_critic_score['critic_score']), 2)"
   ]
  },
  {
   "cell_type": "markdown",
   "metadata": {},
   "source": [
    "Из диаграммы рассеяния и коэффициента корреляции Пирсона равному 0,4 видно, что есть незначительная зависимость продаж платформы PS4 от оценок критиков."
   ]
  },
  {
   "cell_type": "markdown",
   "metadata": {},
   "source": [
    "Вывод для платформы PS4, продажи игр не зависит от оценок пользователей, и незначительно зависит от оценок критиков."
   ]
  },
  {
   "cell_type": "markdown",
   "metadata": {},
   "source": [
    "#### XOne"
   ]
  },
  {
   "cell_type": "markdown",
   "metadata": {},
   "source": [
    "Создание датафрейма платформы xone продажи, оценки пользователей."
   ]
  },
  {
   "cell_type": "code",
   "execution_count": 62,
   "metadata": {},
   "outputs": [],
   "source": [
    "xone_sales_user_score = sales_user_score.query('platform == \"XOne\"')"
   ]
  },
  {
   "cell_type": "markdown",
   "metadata": {},
   "source": [
    "Диаграмма рассеяния оценка пользователей, продажи."
   ]
  },
  {
   "cell_type": "code",
   "execution_count": 63,
   "metadata": {
    "scrolled": true
   },
   "outputs": [
    {
     "data": {
      "image/png": "[encoded data removed]",
      "text/plain": [
       "<Figure size 432x288 with 1 Axes>"
      ]
     },
     "metadata": {
      "needs_background": "light"
     },
     "output_type": "display_data"
    }
   ],
   "source": [
    "xone_sales_user_score.plot(x='user_score', y='sales', kind='scatter')\n",
    "plt.title('Диаграмма рассеяния оценка пользователей - продажи XOne');"
   ]
  },
  {
   "cell_type": "markdown",
   "metadata": {},
   "source": [
    "Расчет коэффициента корреляции Пирсона оценка пользователей, продажи."
   ]
  },
  {
   "cell_type": "code",
   "execution_count": 64,
   "metadata": {},
   "outputs": [
    {
     "data": {
      "text/plain": [
       "-0.07"
      ]
     },
     "execution_count": 64,
     "metadata": {},
     "output_type": "execute_result"
    }
   ],
   "source": [
    "round(xone_sales_user_score['sales'].corr(xone_sales_user_score['user_score']), 2)"
   ]
  },
  {
   "cell_type": "markdown",
   "metadata": {},
   "source": [
    "Из диаграммы рассеяния и коэффициента Пирсона равного -0,09, можно сделать вывод, что зависимости продаж платформы XOne от оценок пользователей не имеется."
   ]
  },
  {
   "cell_type": "markdown",
   "metadata": {},
   "source": [
    "Создание датафрейма платформы xone продажи, оценки критиков."
   ]
  },
  {
   "cell_type": "code",
   "execution_count": 65,
   "metadata": {},
   "outputs": [],
   "source": [
    "xone_sales_critic_score = sales_critic_score.query('platform == \"XOne\"')"
   ]
  },
  {
   "cell_type": "markdown",
   "metadata": {},
   "source": [
    "Диаграмма рассеяния оценка критиков, продажи."
   ]
  },
  {
   "cell_type": "code",
   "execution_count": 66,
   "metadata": {
    "scrolled": true
   },
   "outputs": [
    {
     "data": {
      "image/png": "[encoded data removed]",
      "text/plain": [
       "<Figure size 432x288 with 1 Axes>"
      ]
     },
     "metadata": {
      "needs_background": "light"
     },
     "output_type": "display_data"
    }
   ],
   "source": [
    "xone_sales_critic_score.plot(x='critic_score', y='sales', kind='scatter')\n",
    "plt.title('Диаграмма рассеяния оценка критиков - продажи платформы Xone');"
   ]
  },
  {
   "cell_type": "markdown",
   "metadata": {},
   "source": [
    "Расчёт коэффициента корреляции Пирсона оценка критиков, продажи."
   ]
  },
  {
   "cell_type": "code",
   "execution_count": 67,
   "metadata": {},
   "outputs": [
    {
     "data": {
      "text/plain": [
       "0.42"
      ]
     },
     "execution_count": 67,
     "metadata": {},
     "output_type": "execute_result"
    }
   ],
   "source": [
    "round(xone_sales_critic_score['sales'].corr(xone_sales_critic_score['critic_score']), 2)"
   ]
  },
  {
   "cell_type": "markdown",
   "metadata": {},
   "source": [
    "Из диаграммы рассеяния и коэффициента корреляции Пирсона равному 0,42 видно, что есть средняя зависимость продаж платформы XOne от оценок критиков."
   ]
  },
  {
   "cell_type": "markdown",
   "metadata": {},
   "source": [
    "Вывод для платформы XOne, продажи игр не коррелирует с оценками пользователей, и незначительно коррелирует с оценками критиков."
   ]
  },
  {
   "cell_type": "markdown",
   "metadata": {},
   "source": [
    "#### 3DS"
   ]
  },
  {
   "cell_type": "markdown",
   "metadata": {},
   "source": [
    "Создание датафрейма платформы 3DS продажи, оценки пользователей."
   ]
  },
  {
   "cell_type": "code",
   "execution_count": 68,
   "metadata": {},
   "outputs": [],
   "source": [
    "three_ds_sales_user_score = sales_user_score.query('platform == \"3DS\"')"
   ]
  },
  {
   "cell_type": "markdown",
   "metadata": {},
   "source": [
    "Диаграмма рассеяния оценка пользователей, продажи."
   ]
  },
  {
   "cell_type": "code",
   "execution_count": 69,
   "metadata": {
    "scrolled": false
   },
   "outputs": [
    {
     "data": {
      "image/png": "[encoded data removed]",
      "text/plain": [
       "<Figure size 432x288 with 1 Axes>"
      ]
     },
     "metadata": {
      "needs_background": "light"
     },
     "output_type": "display_data"
    }
   ],
   "source": [
    "three_ds_sales_user_score.plot(x='user_score', y='sales', kind='scatter')\n",
    "plt.title('Диаграмма рассеяния оценка пользователей - продажи 3DS');"
   ]
  },
  {
   "cell_type": "markdown",
   "metadata": {},
   "source": [
    "Расчет коэффициента корреляции Пирсона оценка пользователей, продажи."
   ]
  },
  {
   "cell_type": "code",
   "execution_count": 70,
   "metadata": {},
   "outputs": [
    {
     "data": {
      "text/plain": [
       "0.22"
      ]
     },
     "execution_count": 70,
     "metadata": {},
     "output_type": "execute_result"
    }
   ],
   "source": [
    "round(three_ds_sales_user_score['sales'].corr(three_ds_sales_user_score['user_score']), 2)"
   ]
  },
  {
   "cell_type": "markdown",
   "metadata": {},
   "source": [
    "Из диаграммы рассеяния и коэффициента Пирсона равного 0.22, можно сделать вывод, что имеется очень незначительная зависимость продаж платформы 3DS от оценок пользователей."
   ]
  },
  {
   "cell_type": "markdown",
   "metadata": {},
   "source": [
    "Создание датафрейма платформы 3DS продажи, оценки критиков."
   ]
  },
  {
   "cell_type": "code",
   "execution_count": 71,
   "metadata": {},
   "outputs": [],
   "source": [
    "three_ds_sales_critic_score = sales_critic_score.query('platform == \"3DS\"')"
   ]
  },
  {
   "cell_type": "code",
   "execution_count": 72,
   "metadata": {
    "scrolled": false
   },
   "outputs": [
    {
     "data": {
      "image/png": "[encoded data removed]",
      "text/plain": [
       "<Figure size 432x288 with 1 Axes>"
      ]
     },
     "metadata": {
      "needs_background": "light"
     },
     "output_type": "display_data"
    }
   ],
   "source": [
    "three_ds_sales_critic_score.plot(x='critic_score', y='sales', kind='scatter')\n",
    "plt.title('Диаграмма рассеяния оценка критиков - продажи платформы 3DS');"
   ]
  },
  {
   "cell_type": "markdown",
   "metadata": {},
   "source": [
    "Расчёт коэффициента корреляции Пирсона оценка критиков, продажи."
   ]
  },
  {
   "cell_type": "code",
   "execution_count": 73,
   "metadata": {},
   "outputs": [
    {
     "data": {
      "text/plain": [
       "0.35"
      ]
     },
     "execution_count": 73,
     "metadata": {},
     "output_type": "execute_result"
    }
   ],
   "source": [
    "round(three_ds_sales_critic_score['sales'].corr(three_ds_sales_critic_score['critic_score']), 2)"
   ]
  },
  {
   "cell_type": "markdown",
   "metadata": {},
   "source": [
    "Из диаграммы рассеяния и коэффициента корреляции Пирсона равному 0,35 видно, что незначительная зависимость продаж платформы 3DS от оценок критиков есть."
   ]
  },
  {
   "cell_type": "markdown",
   "metadata": {},
   "source": [
    "Вывод для платформы 3DS, продажи игр очень незначительно коррелирует с оценками пользователей, и незначительно коррелирует с оценками критиков."
   ]
  },
  {
   "cell_type": "markdown",
   "metadata": {},
   "source": [
    "#### Вывод"
   ]
  },
  {
   "cell_type": "markdown",
   "metadata": {},
   "source": [
    " Анализ корреляции продаж TOP3 платформ с оценками пользователей и оценками критиков показал, что нет корреляции продаж с оценками пользователей и есть умеренная корреляция продаж с оценками критиков (коэффициент корреляции ~ 0,4)"
   ]
  },
  {
   "cell_type": "markdown",
   "metadata": {},
   "source": [
    "### Распределение игр по жанрам за актуальный период"
   ]
  },
  {
   "cell_type": "markdown",
   "metadata": {},
   "source": [
    "Построение таблицы жанр, среднее значение продаж жанра за актуалный период."
   ]
  },
  {
   "cell_type": "code",
   "execution_count": 74,
   "metadata": {
    "scrolled": false
   },
   "outputs": [
    {
     "data": {
      "text/html": [
       "<div>\n",
       "<style scoped>\n",
       "    .dataframe tbody tr th:only-of-type {\n",
       "        vertical-align: middle;\n",
       "    }\n",
       "\n",
       "    .dataframe tbody tr th {\n",
       "        vertical-align: top;\n",
       "    }\n",
       "\n",
       "    .dataframe thead th {\n",
       "        text-align: right;\n",
       "    }\n",
       "</style>\n",
       "<table border=\"1\" class=\"dataframe\">\n",
       "  <thead>\n",
       "    <tr style=\"text-align: right;\">\n",
       "      <th></th>\n",
       "      <th>sales</th>\n",
       "    </tr>\n",
       "    <tr>\n",
       "      <th>genre</th>\n",
       "      <th></th>\n",
       "    </tr>\n",
       "  </thead>\n",
       "  <tbody>\n",
       "    <tr>\n",
       "      <th>Shooter</th>\n",
       "      <td>1.234969</td>\n",
       "    </tr>\n",
       "    <tr>\n",
       "      <th>Platform</th>\n",
       "      <td>0.778829</td>\n",
       "    </tr>\n",
       "    <tr>\n",
       "      <th>Sports</th>\n",
       "      <td>0.649972</td>\n",
       "    </tr>\n",
       "    <tr>\n",
       "      <th>Role-Playing</th>\n",
       "      <td>0.578622</td>\n",
       "    </tr>\n",
       "    <tr>\n",
       "      <th>Racing</th>\n",
       "      <td>0.492614</td>\n",
       "    </tr>\n",
       "    <tr>\n",
       "      <th>Action</th>\n",
       "      <td>0.474510</td>\n",
       "    </tr>\n",
       "    <tr>\n",
       "      <th>Fighting</th>\n",
       "      <td>0.442759</td>\n",
       "    </tr>\n",
       "    <tr>\n",
       "      <th>Misc</th>\n",
       "      <td>0.414522</td>\n",
       "    </tr>\n",
       "    <tr>\n",
       "      <th>Simulation</th>\n",
       "      <td>0.393852</td>\n",
       "    </tr>\n",
       "    <tr>\n",
       "      <th>Puzzle</th>\n",
       "      <td>0.195116</td>\n",
       "    </tr>\n",
       "    <tr>\n",
       "      <th>Strategy</th>\n",
       "      <td>0.176186</td>\n",
       "    </tr>\n",
       "    <tr>\n",
       "      <th>Adventure</th>\n",
       "      <td>0.137216</td>\n",
       "    </tr>\n",
       "  </tbody>\n",
       "</table>\n",
       "</div>"
      ],
      "text/plain": [
       "                 sales\n",
       "genre                 \n",
       "Shooter       1.234969\n",
       "Platform      0.778829\n",
       "Sports        0.649972\n",
       "Role-Playing  0.578622\n",
       "Racing        0.492614\n",
       "Action        0.474510\n",
       "Fighting      0.442759\n",
       "Misc          0.414522\n",
       "Simulation    0.393852\n",
       "Puzzle        0.195116\n",
       "Strategy      0.176186\n",
       "Adventure     0.137216"
      ]
     },
     "metadata": {},
     "output_type": "display_data"
    }
   ],
   "source": [
    "genre_sales_actual = data_actual.pivot_table(index='genre', values='sales', aggfunc='mean').sort_values(by='sales', ascending=False)\n",
    "display(genre_sales_actual)"
   ]
  },
  {
   "cell_type": "markdown",
   "metadata": {},
   "source": [
    "Столбчатая диаграмма жанр, среднее значение продаж жанра за актуальные период."
   ]
  },
  {
   "cell_type": "code",
   "execution_count": 75,
   "metadata": {
    "scrolled": true
   },
   "outputs": [
    {
     "data": {
      "image/png": "[encoded data removed]",
      "text/plain": [
       "<Figure size 864x288 with 1 Axes>"
      ]
     },
     "metadata": {
      "needs_background": "light"
     },
     "output_type": "display_data"
    }
   ],
   "source": [
    "genre_sales_actual.plot(kind='bar', figsize=(12,4))\n",
    "plt.title('Диаграмма жанр игр - среднее значение продаж')\n",
    "plt.xlabel('Жанр игр')\n",
    "plt.ylabel('Среднее значение продаж, млн коп');"
   ]
  },
  {
   "cell_type": "markdown",
   "metadata": {},
   "source": [
    "Из построенного распределения средних продаж игр по жанрам для актуального периода, можно выделить 3 самых популярных жанра - это Shooter, Platform и Sports."
   ]
  },
  {
   "cell_type": "markdown",
   "metadata": {},
   "source": [
    "Также можно выделить 2 малопопулярных жанра - это Strategy (Стратегии) и Adventure (Приключение)"
   ]
  },
  {
   "cell_type": "markdown",
   "metadata": {},
   "source": [
    "## Профиль продаж каждого региона за актуальный период"
   ]
  },
  {
   "cell_type": "markdown",
   "metadata": {},
   "source": [
    "### TOP5 платформ в различных регионах продаж за актуальный период"
   ]
  },
  {
   "cell_type": "markdown",
   "metadata": {},
   "source": [
    "####  NA Северная америка"
   ]
  },
  {
   "cell_type": "markdown",
   "metadata": {},
   "source": [
    "Построение таблицы платформы, объём продаж для NA (Северная Америка)."
   ]
  },
  {
   "cell_type": "code",
   "execution_count": 76,
   "metadata": {
    "scrolled": false
   },
   "outputs": [
    {
     "data": {
      "text/html": [
       "<div>\n",
       "<style scoped>\n",
       "    .dataframe tbody tr th:only-of-type {\n",
       "        vertical-align: middle;\n",
       "    }\n",
       "\n",
       "    .dataframe tbody tr th {\n",
       "        vertical-align: top;\n",
       "    }\n",
       "\n",
       "    .dataframe thead th {\n",
       "        text-align: right;\n",
       "    }\n",
       "</style>\n",
       "<table border=\"1\" class=\"dataframe\">\n",
       "  <thead>\n",
       "    <tr style=\"text-align: right;\">\n",
       "      <th></th>\n",
       "      <th>platform</th>\n",
       "      <th>na_sales</th>\n",
       "    </tr>\n",
       "  </thead>\n",
       "  <tbody>\n",
       "    <tr>\n",
       "      <th>0</th>\n",
       "      <td>X360</td>\n",
       "      <td>226.80</td>\n",
       "    </tr>\n",
       "    <tr>\n",
       "      <th>1</th>\n",
       "      <td>PS3</td>\n",
       "      <td>168.26</td>\n",
       "    </tr>\n",
       "    <tr>\n",
       "      <th>2</th>\n",
       "      <td>PS4</td>\n",
       "      <td>108.74</td>\n",
       "    </tr>\n",
       "    <tr>\n",
       "      <th>3</th>\n",
       "      <td>XOne</td>\n",
       "      <td>93.12</td>\n",
       "    </tr>\n",
       "    <tr>\n",
       "      <th>4</th>\n",
       "      <td>3DS</td>\n",
       "      <td>82.65</td>\n",
       "    </tr>\n",
       "    <tr>\n",
       "      <th>5</th>\n",
       "      <td>Wii</td>\n",
       "      <td>48.56</td>\n",
       "    </tr>\n",
       "    <tr>\n",
       "      <th>6</th>\n",
       "      <td>WiiU</td>\n",
       "      <td>38.10</td>\n",
       "    </tr>\n",
       "    <tr>\n",
       "      <th>7</th>\n",
       "      <td>PC</td>\n",
       "      <td>29.88</td>\n",
       "    </tr>\n",
       "    <tr>\n",
       "      <th>8</th>\n",
       "      <td>PSV</td>\n",
       "      <td>12.47</td>\n",
       "    </tr>\n",
       "  </tbody>\n",
       "</table>\n",
       "</div>"
      ],
      "text/plain": [
       "  platform  na_sales\n",
       "0     X360    226.80\n",
       "1      PS3    168.26\n",
       "2      PS4    108.74\n",
       "3     XOne     93.12\n",
       "4      3DS     82.65\n",
       "5      Wii     48.56\n",
       "6     WiiU     38.10\n",
       "7       PC     29.88\n",
       "8      PSV     12.47"
      ]
     },
     "metadata": {},
     "output_type": "display_data"
    }
   ],
   "source": [
    "na_platf_top = data_actual.pivot_table(index='platform', values='na_sales', aggfunc='sum' ).sort_values(by='na_sales', ascending=False).reset_index()\n",
    "display(na_platf_top)"
   ]
  },
  {
   "cell_type": "markdown",
   "metadata": {},
   "source": [
    "Расчёт доли платформ в продажах и отбор 5-ти самых популярных в NA."
   ]
  },
  {
   "cell_type": "code",
   "execution_count": 77,
   "metadata": {
    "scrolled": true
   },
   "outputs": [
    {
     "data": {
      "text/html": [
       "<div>\n",
       "<style scoped>\n",
       "    .dataframe tbody tr th:only-of-type {\n",
       "        vertical-align: middle;\n",
       "    }\n",
       "\n",
       "    .dataframe tbody tr th {\n",
       "        vertical-align: top;\n",
       "    }\n",
       "\n",
       "    .dataframe thead th {\n",
       "        text-align: right;\n",
       "    }\n",
       "</style>\n",
       "<table border=\"1\" class=\"dataframe\">\n",
       "  <thead>\n",
       "    <tr style=\"text-align: right;\">\n",
       "      <th></th>\n",
       "      <th>platform</th>\n",
       "      <th>na_sales</th>\n",
       "      <th>na_ratio</th>\n",
       "    </tr>\n",
       "  </thead>\n",
       "  <tbody>\n",
       "    <tr>\n",
       "      <th>0</th>\n",
       "      <td>X360</td>\n",
       "      <td>226.80</td>\n",
       "      <td>28.0</td>\n",
       "    </tr>\n",
       "    <tr>\n",
       "      <th>1</th>\n",
       "      <td>PS3</td>\n",
       "      <td>168.26</td>\n",
       "      <td>20.8</td>\n",
       "    </tr>\n",
       "    <tr>\n",
       "      <th>2</th>\n",
       "      <td>PS4</td>\n",
       "      <td>108.74</td>\n",
       "      <td>13.4</td>\n",
       "    </tr>\n",
       "    <tr>\n",
       "      <th>3</th>\n",
       "      <td>XOne</td>\n",
       "      <td>93.12</td>\n",
       "      <td>11.5</td>\n",
       "    </tr>\n",
       "    <tr>\n",
       "      <th>4</th>\n",
       "      <td>3DS</td>\n",
       "      <td>82.65</td>\n",
       "      <td>10.2</td>\n",
       "    </tr>\n",
       "  </tbody>\n",
       "</table>\n",
       "</div>"
      ],
      "text/plain": [
       "  platform  na_sales  na_ratio\n",
       "0     X360    226.80      28.0\n",
       "1      PS3    168.26      20.8\n",
       "2      PS4    108.74      13.4\n",
       "3     XOne     93.12      11.5\n",
       "4      3DS     82.65      10.2"
      ]
     },
     "metadata": {},
     "output_type": "display_data"
    }
   ],
   "source": [
    "# создание столбца na_ratio доли платформы в продажах\n",
    "na_platf_top['na_ratio'] = round(100 * na_platf_top['na_sales'] / na_platf_top['na_sales'].sum(), 1)\n",
    "# отбор 5-ти самых популярных платформ в NA\n",
    "na_platf_top5 = na_platf_top.loc[0:4]\n",
    "display(na_platf_top5)"
   ]
  },
  {
   "cell_type": "markdown",
   "metadata": {},
   "source": [
    "Таким образом, определены TOP5 платформ в регионе NA и их доли в продажах."
   ]
  },
  {
   "cell_type": "markdown",
   "metadata": {},
   "source": [
    "#### EU Европа"
   ]
  },
  {
   "cell_type": "markdown",
   "metadata": {},
   "source": [
    "Построение таблицы платформы, объём продаж для региона EU (Европа)."
   ]
  },
  {
   "cell_type": "code",
   "execution_count": 78,
   "metadata": {
    "scrolled": false
   },
   "outputs": [
    {
     "data": {
      "text/html": [
       "<div>\n",
       "<style scoped>\n",
       "    .dataframe tbody tr th:only-of-type {\n",
       "        vertical-align: middle;\n",
       "    }\n",
       "\n",
       "    .dataframe tbody tr th {\n",
       "        vertical-align: top;\n",
       "    }\n",
       "\n",
       "    .dataframe thead th {\n",
       "        text-align: right;\n",
       "    }\n",
       "</style>\n",
       "<table border=\"1\" class=\"dataframe\">\n",
       "  <thead>\n",
       "    <tr style=\"text-align: right;\">\n",
       "      <th></th>\n",
       "      <th>platform</th>\n",
       "      <th>eu_sales</th>\n",
       "    </tr>\n",
       "  </thead>\n",
       "  <tbody>\n",
       "    <tr>\n",
       "      <th>0</th>\n",
       "      <td>PS3</td>\n",
       "      <td>163.10</td>\n",
       "    </tr>\n",
       "    <tr>\n",
       "      <th>1</th>\n",
       "      <td>PS4</td>\n",
       "      <td>141.09</td>\n",
       "    </tr>\n",
       "    <tr>\n",
       "      <th>2</th>\n",
       "      <td>X360</td>\n",
       "      <td>117.10</td>\n",
       "    </tr>\n",
       "    <tr>\n",
       "      <th>3</th>\n",
       "      <td>3DS</td>\n",
       "      <td>61.27</td>\n",
       "    </tr>\n",
       "    <tr>\n",
       "      <th>4</th>\n",
       "      <td>PC</td>\n",
       "      <td>56.70</td>\n",
       "    </tr>\n",
       "    <tr>\n",
       "      <th>5</th>\n",
       "      <td>XOne</td>\n",
       "      <td>51.59</td>\n",
       "    </tr>\n",
       "    <tr>\n",
       "      <th>6</th>\n",
       "      <td>Wii</td>\n",
       "      <td>29.60</td>\n",
       "    </tr>\n",
       "    <tr>\n",
       "      <th>7</th>\n",
       "      <td>WiiU</td>\n",
       "      <td>25.13</td>\n",
       "    </tr>\n",
       "    <tr>\n",
       "      <th>8</th>\n",
       "      <td>PSV</td>\n",
       "      <td>13.07</td>\n",
       "    </tr>\n",
       "  </tbody>\n",
       "</table>\n",
       "</div>"
      ],
      "text/plain": [
       "  platform  eu_sales\n",
       "0      PS3    163.10\n",
       "1      PS4    141.09\n",
       "2     X360    117.10\n",
       "3      3DS     61.27\n",
       "4       PC     56.70\n",
       "5     XOne     51.59\n",
       "6      Wii     29.60\n",
       "7     WiiU     25.13\n",
       "8      PSV     13.07"
      ]
     },
     "metadata": {},
     "output_type": "display_data"
    }
   ],
   "source": [
    "eu_platf_top = data_actual.pivot_table(index='platform', values='eu_sales', aggfunc='sum' ).sort_values(by='eu_sales', ascending=False).reset_index()\n",
    "display(eu_platf_top)"
   ]
  },
  {
   "cell_type": "markdown",
   "metadata": {},
   "source": [
    "Расчёт доли платформ в продажах и отбор 5 самых популярных платформ в EU."
   ]
  },
  {
   "cell_type": "code",
   "execution_count": 79,
   "metadata": {
    "scrolled": true
   },
   "outputs": [
    {
     "data": {
      "text/html": [
       "<div>\n",
       "<style scoped>\n",
       "    .dataframe tbody tr th:only-of-type {\n",
       "        vertical-align: middle;\n",
       "    }\n",
       "\n",
       "    .dataframe tbody tr th {\n",
       "        vertical-align: top;\n",
       "    }\n",
       "\n",
       "    .dataframe thead th {\n",
       "        text-align: right;\n",
       "    }\n",
       "</style>\n",
       "<table border=\"1\" class=\"dataframe\">\n",
       "  <thead>\n",
       "    <tr style=\"text-align: right;\">\n",
       "      <th></th>\n",
       "      <th>platform</th>\n",
       "      <th>eu_sales</th>\n",
       "      <th>ratio</th>\n",
       "    </tr>\n",
       "  </thead>\n",
       "  <tbody>\n",
       "    <tr>\n",
       "      <th>0</th>\n",
       "      <td>PS3</td>\n",
       "      <td>163.10</td>\n",
       "      <td>24.8</td>\n",
       "    </tr>\n",
       "    <tr>\n",
       "      <th>1</th>\n",
       "      <td>PS4</td>\n",
       "      <td>141.09</td>\n",
       "      <td>21.4</td>\n",
       "    </tr>\n",
       "    <tr>\n",
       "      <th>2</th>\n",
       "      <td>X360</td>\n",
       "      <td>117.10</td>\n",
       "      <td>17.8</td>\n",
       "    </tr>\n",
       "    <tr>\n",
       "      <th>3</th>\n",
       "      <td>3DS</td>\n",
       "      <td>61.27</td>\n",
       "      <td>9.3</td>\n",
       "    </tr>\n",
       "    <tr>\n",
       "      <th>4</th>\n",
       "      <td>PC</td>\n",
       "      <td>56.70</td>\n",
       "      <td>8.6</td>\n",
       "    </tr>\n",
       "  </tbody>\n",
       "</table>\n",
       "</div>"
      ],
      "text/plain": [
       "  platform  eu_sales  ratio\n",
       "0      PS3    163.10   24.8\n",
       "1      PS4    141.09   21.4\n",
       "2     X360    117.10   17.8\n",
       "3      3DS     61.27    9.3\n",
       "4       PC     56.70    8.6"
      ]
     },
     "metadata": {},
     "output_type": "display_data"
    }
   ],
   "source": [
    "# создание столбца ratio доля платформы в продажах\n",
    "eu_platf_top['ratio'] = round(100 * (eu_platf_top['eu_sales'] / eu_platf_top['eu_sales'].sum()), 1)\n",
    "# отбор 5 самых популярных платформ в EU\n",
    "eu_platf_top5 = eu_platf_top.loc[0:4]\n",
    "display(eu_platf_top5)"
   ]
  },
  {
   "cell_type": "markdown",
   "metadata": {},
   "source": [
    "В результате были получены TOP5 платформ в регионе EU (Европа) и их доли в продажах."
   ]
  },
  {
   "cell_type": "markdown",
   "metadata": {},
   "source": [
    "#### JP Япония"
   ]
  },
  {
   "cell_type": "markdown",
   "metadata": {},
   "source": [
    "Построение таблицы платформы, объём продаж для региона JP (Япония)"
   ]
  },
  {
   "cell_type": "code",
   "execution_count": 80,
   "metadata": {
    "scrolled": false
   },
   "outputs": [
    {
     "data": {
      "text/html": [
       "<div>\n",
       "<style scoped>\n",
       "    .dataframe tbody tr th:only-of-type {\n",
       "        vertical-align: middle;\n",
       "    }\n",
       "\n",
       "    .dataframe tbody tr th {\n",
       "        vertical-align: top;\n",
       "    }\n",
       "\n",
       "    .dataframe thead th {\n",
       "        text-align: right;\n",
       "    }\n",
       "</style>\n",
       "<table border=\"1\" class=\"dataframe\">\n",
       "  <thead>\n",
       "    <tr style=\"text-align: right;\">\n",
       "      <th></th>\n",
       "      <th>platform</th>\n",
       "      <th>jp_sales</th>\n",
       "    </tr>\n",
       "  </thead>\n",
       "  <tbody>\n",
       "    <tr>\n",
       "      <th>0</th>\n",
       "      <td>3DS</td>\n",
       "      <td>100.62</td>\n",
       "    </tr>\n",
       "    <tr>\n",
       "      <th>1</th>\n",
       "      <td>PS3</td>\n",
       "      <td>49.39</td>\n",
       "    </tr>\n",
       "    <tr>\n",
       "      <th>2</th>\n",
       "      <td>PSV</td>\n",
       "      <td>21.84</td>\n",
       "    </tr>\n",
       "    <tr>\n",
       "      <th>3</th>\n",
       "      <td>PS4</td>\n",
       "      <td>15.96</td>\n",
       "    </tr>\n",
       "    <tr>\n",
       "      <th>4</th>\n",
       "      <td>WiiU</td>\n",
       "      <td>13.01</td>\n",
       "    </tr>\n",
       "    <tr>\n",
       "      <th>5</th>\n",
       "      <td>Wii</td>\n",
       "      <td>8.97</td>\n",
       "    </tr>\n",
       "    <tr>\n",
       "      <th>6</th>\n",
       "      <td>X360</td>\n",
       "      <td>3.35</td>\n",
       "    </tr>\n",
       "    <tr>\n",
       "      <th>7</th>\n",
       "      <td>XOne</td>\n",
       "      <td>0.34</td>\n",
       "    </tr>\n",
       "    <tr>\n",
       "      <th>8</th>\n",
       "      <td>PC</td>\n",
       "      <td>0.00</td>\n",
       "    </tr>\n",
       "  </tbody>\n",
       "</table>\n",
       "</div>"
      ],
      "text/plain": [
       "  platform  jp_sales\n",
       "0      3DS    100.62\n",
       "1      PS3     49.39\n",
       "2      PSV     21.84\n",
       "3      PS4     15.96\n",
       "4     WiiU     13.01\n",
       "5      Wii      8.97\n",
       "6     X360      3.35\n",
       "7     XOne      0.34\n",
       "8       PC      0.00"
      ]
     },
     "metadata": {},
     "output_type": "display_data"
    }
   ],
   "source": [
    "jp_platf_top = data_actual.pivot_table(index='platform', values='jp_sales', aggfunc='sum' ).sort_values(by='jp_sales', ascending=False).reset_index()\n",
    "display(jp_platf_top)"
   ]
  },
  {
   "cell_type": "code",
   "execution_count": 81,
   "metadata": {
    "scrolled": true
   },
   "outputs": [
    {
     "data": {
      "text/html": [
       "<div>\n",
       "<style scoped>\n",
       "    .dataframe tbody tr th:only-of-type {\n",
       "        vertical-align: middle;\n",
       "    }\n",
       "\n",
       "    .dataframe tbody tr th {\n",
       "        vertical-align: top;\n",
       "    }\n",
       "\n",
       "    .dataframe thead th {\n",
       "        text-align: right;\n",
       "    }\n",
       "</style>\n",
       "<table border=\"1\" class=\"dataframe\">\n",
       "  <thead>\n",
       "    <tr style=\"text-align: right;\">\n",
       "      <th></th>\n",
       "      <th>platform</th>\n",
       "      <th>jp_sales</th>\n",
       "      <th>jp_ratio</th>\n",
       "    </tr>\n",
       "  </thead>\n",
       "  <tbody>\n",
       "    <tr>\n",
       "      <th>0</th>\n",
       "      <td>3DS</td>\n",
       "      <td>100.62</td>\n",
       "      <td>47.1</td>\n",
       "    </tr>\n",
       "    <tr>\n",
       "      <th>1</th>\n",
       "      <td>PS3</td>\n",
       "      <td>49.39</td>\n",
       "      <td>23.1</td>\n",
       "    </tr>\n",
       "    <tr>\n",
       "      <th>2</th>\n",
       "      <td>PSV</td>\n",
       "      <td>21.84</td>\n",
       "      <td>10.2</td>\n",
       "    </tr>\n",
       "    <tr>\n",
       "      <th>3</th>\n",
       "      <td>PS4</td>\n",
       "      <td>15.96</td>\n",
       "      <td>7.5</td>\n",
       "    </tr>\n",
       "    <tr>\n",
       "      <th>4</th>\n",
       "      <td>WiiU</td>\n",
       "      <td>13.01</td>\n",
       "      <td>6.1</td>\n",
       "    </tr>\n",
       "  </tbody>\n",
       "</table>\n",
       "</div>"
      ],
      "text/plain": [
       "  platform  jp_sales  jp_ratio\n",
       "0      3DS    100.62      47.1\n",
       "1      PS3     49.39      23.1\n",
       "2      PSV     21.84      10.2\n",
       "3      PS4     15.96       7.5\n",
       "4     WiiU     13.01       6.1"
      ]
     },
     "metadata": {},
     "output_type": "display_data"
    }
   ],
   "source": [
    "# добавление столбца jp_ratio доля платформы в продажах\n",
    "jp_platf_top['jp_ratio'] = round(100 * (jp_platf_top['jp_sales'] / jp_platf_top['jp_sales'].sum()), 1)\n",
    "# отбор 5 самых популярных платформ\n",
    "jp_platf_top5 = jp_platf_top.loc[0:4]\n",
    "display(jp_platf_top5)"
   ]
  },
  {
   "cell_type": "markdown",
   "metadata": {},
   "source": [
    "В результате получены TOP5 платформ в регионе JP (Япония) и их доли в продажах."
   ]
  },
  {
   "cell_type": "markdown",
   "metadata": {},
   "source": [
    "#### Сравнение TOP5 платформ разных регионов"
   ]
  },
  {
   "cell_type": "markdown",
   "metadata": {},
   "source": [
    "Объеденим TOP5 платформ для разных регионов в одной таблице для их сравнения."
   ]
  },
  {
   "cell_type": "code",
   "execution_count": 82,
   "metadata": {},
   "outputs": [],
   "source": [
    "# переименование столбца необходимое для последующего объединения таблиц\n",
    "na_platf_top5 = na_platf_top5.rename(\n",
    "                columns={\n",
    "                    'platform' : 'na_platform'\n",
    "                }\n",
    ")\n",
    "# переименование столбца необходимое для последующего объединения таблиц\n",
    "eu_platf_top5 = eu_platf_top5.rename(\n",
    "                columns={\n",
    "                    'platform' : 'eu_platform'\n",
    "                }\n",
    ")\n",
    "# переименование столбца необходимое для последующего объединения таблиц\n",
    "jp_platf_top5 = jp_platf_top5.rename(\n",
    "                columns={\n",
    "                    'platform' : 'jp_platform'\n",
    "                }\n",
    ")"
   ]
  },
  {
   "cell_type": "code",
   "execution_count": 83,
   "metadata": {
    "scrolled": false
   },
   "outputs": [
    {
     "data": {
      "text/html": [
       "<div>\n",
       "<style scoped>\n",
       "    .dataframe tbody tr th:only-of-type {\n",
       "        vertical-align: middle;\n",
       "    }\n",
       "\n",
       "    .dataframe tbody tr th {\n",
       "        vertical-align: top;\n",
       "    }\n",
       "\n",
       "    .dataframe thead th {\n",
       "        text-align: right;\n",
       "    }\n",
       "</style>\n",
       "<table border=\"1\" class=\"dataframe\">\n",
       "  <thead>\n",
       "    <tr style=\"text-align: right;\">\n",
       "      <th></th>\n",
       "      <th>na_platform</th>\n",
       "      <th>na_sales</th>\n",
       "      <th>na_ratio</th>\n",
       "      <th>eu_platform</th>\n",
       "      <th>eu_sales</th>\n",
       "      <th>ratio</th>\n",
       "      <th>jp_platform</th>\n",
       "      <th>jp_sales</th>\n",
       "      <th>jp_ratio</th>\n",
       "    </tr>\n",
       "  </thead>\n",
       "  <tbody>\n",
       "    <tr>\n",
       "      <th>0</th>\n",
       "      <td>X360</td>\n",
       "      <td>226.80</td>\n",
       "      <td>28.0</td>\n",
       "      <td>PS3</td>\n",
       "      <td>163.10</td>\n",
       "      <td>24.8</td>\n",
       "      <td>3DS</td>\n",
       "      <td>100.62</td>\n",
       "      <td>47.1</td>\n",
       "    </tr>\n",
       "    <tr>\n",
       "      <th>1</th>\n",
       "      <td>PS3</td>\n",
       "      <td>168.26</td>\n",
       "      <td>20.8</td>\n",
       "      <td>PS4</td>\n",
       "      <td>141.09</td>\n",
       "      <td>21.4</td>\n",
       "      <td>PS3</td>\n",
       "      <td>49.39</td>\n",
       "      <td>23.1</td>\n",
       "    </tr>\n",
       "    <tr>\n",
       "      <th>2</th>\n",
       "      <td>PS4</td>\n",
       "      <td>108.74</td>\n",
       "      <td>13.4</td>\n",
       "      <td>X360</td>\n",
       "      <td>117.10</td>\n",
       "      <td>17.8</td>\n",
       "      <td>PSV</td>\n",
       "      <td>21.84</td>\n",
       "      <td>10.2</td>\n",
       "    </tr>\n",
       "    <tr>\n",
       "      <th>3</th>\n",
       "      <td>XOne</td>\n",
       "      <td>93.12</td>\n",
       "      <td>11.5</td>\n",
       "      <td>3DS</td>\n",
       "      <td>61.27</td>\n",
       "      <td>9.3</td>\n",
       "      <td>PS4</td>\n",
       "      <td>15.96</td>\n",
       "      <td>7.5</td>\n",
       "    </tr>\n",
       "    <tr>\n",
       "      <th>4</th>\n",
       "      <td>3DS</td>\n",
       "      <td>82.65</td>\n",
       "      <td>10.2</td>\n",
       "      <td>PC</td>\n",
       "      <td>56.70</td>\n",
       "      <td>8.6</td>\n",
       "      <td>WiiU</td>\n",
       "      <td>13.01</td>\n",
       "      <td>6.1</td>\n",
       "    </tr>\n",
       "  </tbody>\n",
       "</table>\n",
       "</div>"
      ],
      "text/plain": [
       "  na_platform  na_sales  na_ratio eu_platform  eu_sales  ratio jp_platform  \\\n",
       "0        X360    226.80      28.0         PS3    163.10   24.8         3DS   \n",
       "1         PS3    168.26      20.8         PS4    141.09   21.4         PS3   \n",
       "2         PS4    108.74      13.4        X360    117.10   17.8         PSV   \n",
       "3        XOne     93.12      11.5         3DS     61.27    9.3         PS4   \n",
       "4         3DS     82.65      10.2          PC     56.70    8.6        WiiU   \n",
       "\n",
       "   jp_sales  jp_ratio  \n",
       "0    100.62      47.1  \n",
       "1     49.39      23.1  \n",
       "2     21.84      10.2  \n",
       "3     15.96       7.5  \n",
       "4     13.01       6.1  "
      ]
     },
     "execution_count": 83,
     "metadata": {},
     "output_type": "execute_result"
    }
   ],
   "source": [
    "# объединение таблиц\n",
    "na_platf_top5.join([eu_platf_top5, jp_platf_top5])"
   ]
  },
  {
   "cell_type": "markdown",
   "metadata": {},
   "source": [
    "Из сравнения TOP5 платформ можно заметить, что список TOP5 в Северной америке почти совпадает со списком TOP5 в Европе. В него входях 'X360', 'PS4', 'PS3', '3DS', в северной америке еще входит 'XOne', а в европе PC. При этом отличается место платформ в списках и их доли в продажах. В Японии список TOP5 частично похожий и частично отличаюющийся, в него входят 3 платформы PS3, PS4, 3DS которые имеются в TOP5 северной америки и европы, и 2 платформы PSV, WiiU  не входящие в список TOP5 северной америки и европы. Стоит отметить, что в Японии платформа 3DS находящаяся на первом месте по продажам занимает долю в 47%."
   ]
  },
  {
   "cell_type": "markdown",
   "metadata": {},
   "source": [
    "### TOP5 жанров в различных регионах продаж за актуальный период"
   ]
  },
  {
   "cell_type": "markdown",
   "metadata": {},
   "source": [
    "#### NA"
   ]
  },
  {
   "cell_type": "code",
   "execution_count": 84,
   "metadata": {
    "scrolled": false
   },
   "outputs": [
    {
     "data": {
      "text/html": [
       "<div>\n",
       "<style scoped>\n",
       "    .dataframe tbody tr th:only-of-type {\n",
       "        vertical-align: middle;\n",
       "    }\n",
       "\n",
       "    .dataframe tbody tr th {\n",
       "        vertical-align: top;\n",
       "    }\n",
       "\n",
       "    .dataframe thead th {\n",
       "        text-align: right;\n",
       "    }\n",
       "</style>\n",
       "<table border=\"1\" class=\"dataframe\">\n",
       "  <thead>\n",
       "    <tr style=\"text-align: right;\">\n",
       "      <th></th>\n",
       "      <th>genre</th>\n",
       "      <th>na_sales</th>\n",
       "    </tr>\n",
       "  </thead>\n",
       "  <tbody>\n",
       "    <tr>\n",
       "      <th>0</th>\n",
       "      <td>Action</td>\n",
       "      <td>225.98</td>\n",
       "    </tr>\n",
       "    <tr>\n",
       "      <th>1</th>\n",
       "      <td>Shooter</td>\n",
       "      <td>194.18</td>\n",
       "    </tr>\n",
       "    <tr>\n",
       "      <th>2</th>\n",
       "      <td>Sports</td>\n",
       "      <td>107.48</td>\n",
       "    </tr>\n",
       "    <tr>\n",
       "      <th>3</th>\n",
       "      <td>Role-Playing</td>\n",
       "      <td>79.92</td>\n",
       "    </tr>\n",
       "    <tr>\n",
       "      <th>4</th>\n",
       "      <td>Misc</td>\n",
       "      <td>66.10</td>\n",
       "    </tr>\n",
       "    <tr>\n",
       "      <th>5</th>\n",
       "      <td>Platform</td>\n",
       "      <td>37.16</td>\n",
       "    </tr>\n",
       "    <tr>\n",
       "      <th>6</th>\n",
       "      <td>Fighting</td>\n",
       "      <td>31.13</td>\n",
       "    </tr>\n",
       "    <tr>\n",
       "      <th>7</th>\n",
       "      <td>Racing</td>\n",
       "      <td>31.03</td>\n",
       "    </tr>\n",
       "    <tr>\n",
       "      <th>8</th>\n",
       "      <td>Adventure</td>\n",
       "      <td>14.36</td>\n",
       "    </tr>\n",
       "    <tr>\n",
       "      <th>9</th>\n",
       "      <td>Simulation</td>\n",
       "      <td>13.82</td>\n",
       "    </tr>\n",
       "    <tr>\n",
       "      <th>10</th>\n",
       "      <td>Strategy</td>\n",
       "      <td>5.33</td>\n",
       "    </tr>\n",
       "    <tr>\n",
       "      <th>11</th>\n",
       "      <td>Puzzle</td>\n",
       "      <td>2.09</td>\n",
       "    </tr>\n",
       "  </tbody>\n",
       "</table>\n",
       "</div>"
      ],
      "text/plain": [
       "           genre  na_sales\n",
       "0         Action    225.98\n",
       "1        Shooter    194.18\n",
       "2         Sports    107.48\n",
       "3   Role-Playing     79.92\n",
       "4           Misc     66.10\n",
       "5       Platform     37.16\n",
       "6       Fighting     31.13\n",
       "7         Racing     31.03\n",
       "8      Adventure     14.36\n",
       "9     Simulation     13.82\n",
       "10      Strategy      5.33\n",
       "11        Puzzle      2.09"
      ]
     },
     "metadata": {},
     "output_type": "display_data"
    }
   ],
   "source": [
    "na_genre_sales = data_actual.pivot_table(index='genre', values='na_sales', aggfunc='sum' ).sort_values(by='na_sales', ascending=False).reset_index()\n",
    "display(na_genre_sales)"
   ]
  },
  {
   "cell_type": "code",
   "execution_count": 85,
   "metadata": {},
   "outputs": [],
   "source": [
    "na_genre_sales['na_ratio'] = round(100 * na_genre_sales['na_sales'] / na_genre_sales['na_sales'].sum())"
   ]
  },
  {
   "cell_type": "code",
   "execution_count": 86,
   "metadata": {},
   "outputs": [
    {
     "data": {
      "text/html": [
       "<div>\n",
       "<style scoped>\n",
       "    .dataframe tbody tr th:only-of-type {\n",
       "        vertical-align: middle;\n",
       "    }\n",
       "\n",
       "    .dataframe tbody tr th {\n",
       "        vertical-align: top;\n",
       "    }\n",
       "\n",
       "    .dataframe thead th {\n",
       "        text-align: right;\n",
       "    }\n",
       "</style>\n",
       "<table border=\"1\" class=\"dataframe\">\n",
       "  <thead>\n",
       "    <tr style=\"text-align: right;\">\n",
       "      <th></th>\n",
       "      <th>genre</th>\n",
       "      <th>na_sales</th>\n",
       "      <th>na_ratio</th>\n",
       "    </tr>\n",
       "  </thead>\n",
       "  <tbody>\n",
       "    <tr>\n",
       "      <th>0</th>\n",
       "      <td>Action</td>\n",
       "      <td>225.98</td>\n",
       "      <td>28.0</td>\n",
       "    </tr>\n",
       "    <tr>\n",
       "      <th>1</th>\n",
       "      <td>Shooter</td>\n",
       "      <td>194.18</td>\n",
       "      <td>24.0</td>\n",
       "    </tr>\n",
       "    <tr>\n",
       "      <th>2</th>\n",
       "      <td>Sports</td>\n",
       "      <td>107.48</td>\n",
       "      <td>13.0</td>\n",
       "    </tr>\n",
       "    <tr>\n",
       "      <th>3</th>\n",
       "      <td>Role-Playing</td>\n",
       "      <td>79.92</td>\n",
       "      <td>10.0</td>\n",
       "    </tr>\n",
       "    <tr>\n",
       "      <th>4</th>\n",
       "      <td>Misc</td>\n",
       "      <td>66.10</td>\n",
       "      <td>8.0</td>\n",
       "    </tr>\n",
       "  </tbody>\n",
       "</table>\n",
       "</div>"
      ],
      "text/plain": [
       "          genre  na_sales  na_ratio\n",
       "0        Action    225.98      28.0\n",
       "1       Shooter    194.18      24.0\n",
       "2        Sports    107.48      13.0\n",
       "3  Role-Playing     79.92      10.0\n",
       "4          Misc     66.10       8.0"
      ]
     },
     "metadata": {},
     "output_type": "display_data"
    }
   ],
   "source": [
    "na_genre_sales_top5 = na_genre_sales.loc[0:4]\n",
    "display(na_genre_sales_top5)"
   ]
  },
  {
   "cell_type": "markdown",
   "metadata": {},
   "source": [
    "#### EU"
   ]
  },
  {
   "cell_type": "code",
   "execution_count": 87,
   "metadata": {
    "scrolled": false
   },
   "outputs": [
    {
     "data": {
      "text/html": [
       "<div>\n",
       "<style scoped>\n",
       "    .dataframe tbody tr th:only-of-type {\n",
       "        vertical-align: middle;\n",
       "    }\n",
       "\n",
       "    .dataframe tbody tr th {\n",
       "        vertical-align: top;\n",
       "    }\n",
       "\n",
       "    .dataframe thead th {\n",
       "        text-align: right;\n",
       "    }\n",
       "</style>\n",
       "<table border=\"1\" class=\"dataframe\">\n",
       "  <thead>\n",
       "    <tr style=\"text-align: right;\">\n",
       "      <th></th>\n",
       "      <th>genre</th>\n",
       "      <th>eu_sales</th>\n",
       "    </tr>\n",
       "  </thead>\n",
       "  <tbody>\n",
       "    <tr>\n",
       "      <th>0</th>\n",
       "      <td>Action</td>\n",
       "      <td>195.91</td>\n",
       "    </tr>\n",
       "    <tr>\n",
       "      <th>1</th>\n",
       "      <td>Shooter</td>\n",
       "      <td>147.98</td>\n",
       "    </tr>\n",
       "    <tr>\n",
       "      <th>2</th>\n",
       "      <td>Sports</td>\n",
       "      <td>87.77</td>\n",
       "    </tr>\n",
       "    <tr>\n",
       "      <th>3</th>\n",
       "      <td>Role-Playing</td>\n",
       "      <td>60.36</td>\n",
       "    </tr>\n",
       "    <tr>\n",
       "      <th>4</th>\n",
       "      <td>Racing</td>\n",
       "      <td>40.11</td>\n",
       "    </tr>\n",
       "    <tr>\n",
       "      <th>5</th>\n",
       "      <td>Misc</td>\n",
       "      <td>37.40</td>\n",
       "    </tr>\n",
       "    <tr>\n",
       "      <th>6</th>\n",
       "      <td>Platform</td>\n",
       "      <td>29.50</td>\n",
       "    </tr>\n",
       "    <tr>\n",
       "      <th>7</th>\n",
       "      <td>Simulation</td>\n",
       "      <td>19.40</td>\n",
       "    </tr>\n",
       "    <tr>\n",
       "      <th>8</th>\n",
       "      <td>Fighting</td>\n",
       "      <td>15.95</td>\n",
       "    </tr>\n",
       "    <tr>\n",
       "      <th>9</th>\n",
       "      <td>Adventure</td>\n",
       "      <td>13.77</td>\n",
       "    </tr>\n",
       "    <tr>\n",
       "      <th>10</th>\n",
       "      <td>Strategy</td>\n",
       "      <td>7.50</td>\n",
       "    </tr>\n",
       "    <tr>\n",
       "      <th>11</th>\n",
       "      <td>Puzzle</td>\n",
       "      <td>3.00</td>\n",
       "    </tr>\n",
       "  </tbody>\n",
       "</table>\n",
       "</div>"
      ],
      "text/plain": [
       "           genre  eu_sales\n",
       "0         Action    195.91\n",
       "1        Shooter    147.98\n",
       "2         Sports     87.77\n",
       "3   Role-Playing     60.36\n",
       "4         Racing     40.11\n",
       "5           Misc     37.40\n",
       "6       Platform     29.50\n",
       "7     Simulation     19.40\n",
       "8       Fighting     15.95\n",
       "9      Adventure     13.77\n",
       "10      Strategy      7.50\n",
       "11        Puzzle      3.00"
      ]
     },
     "metadata": {},
     "output_type": "display_data"
    }
   ],
   "source": [
    "eu_genre_sales = data_actual.pivot_table(index='genre', values='eu_sales', aggfunc='sum' ).sort_values(by='eu_sales', ascending=False).reset_index()\n",
    "display(eu_genre_sales)"
   ]
  },
  {
   "cell_type": "code",
   "execution_count": 88,
   "metadata": {},
   "outputs": [
    {
     "data": {
      "text/html": [
       "<div>\n",
       "<style scoped>\n",
       "    .dataframe tbody tr th:only-of-type {\n",
       "        vertical-align: middle;\n",
       "    }\n",
       "\n",
       "    .dataframe tbody tr th {\n",
       "        vertical-align: top;\n",
       "    }\n",
       "\n",
       "    .dataframe thead th {\n",
       "        text-align: right;\n",
       "    }\n",
       "</style>\n",
       "<table border=\"1\" class=\"dataframe\">\n",
       "  <thead>\n",
       "    <tr style=\"text-align: right;\">\n",
       "      <th></th>\n",
       "      <th>genre</th>\n",
       "      <th>eu_sales</th>\n",
       "      <th>eu_ratio</th>\n",
       "    </tr>\n",
       "  </thead>\n",
       "  <tbody>\n",
       "    <tr>\n",
       "      <th>0</th>\n",
       "      <td>Action</td>\n",
       "      <td>195.91</td>\n",
       "      <td>30.0</td>\n",
       "    </tr>\n",
       "    <tr>\n",
       "      <th>1</th>\n",
       "      <td>Shooter</td>\n",
       "      <td>147.98</td>\n",
       "      <td>22.0</td>\n",
       "    </tr>\n",
       "    <tr>\n",
       "      <th>2</th>\n",
       "      <td>Sports</td>\n",
       "      <td>87.77</td>\n",
       "      <td>13.0</td>\n",
       "    </tr>\n",
       "    <tr>\n",
       "      <th>3</th>\n",
       "      <td>Role-Playing</td>\n",
       "      <td>60.36</td>\n",
       "      <td>9.0</td>\n",
       "    </tr>\n",
       "    <tr>\n",
       "      <th>4</th>\n",
       "      <td>Racing</td>\n",
       "      <td>40.11</td>\n",
       "      <td>6.0</td>\n",
       "    </tr>\n",
       "  </tbody>\n",
       "</table>\n",
       "</div>"
      ],
      "text/plain": [
       "          genre  eu_sales  eu_ratio\n",
       "0        Action    195.91      30.0\n",
       "1       Shooter    147.98      22.0\n",
       "2        Sports     87.77      13.0\n",
       "3  Role-Playing     60.36       9.0\n",
       "4        Racing     40.11       6.0"
      ]
     },
     "metadata": {},
     "output_type": "display_data"
    }
   ],
   "source": [
    "eu_genre_sales['eu_ratio'] = round(100 * eu_genre_sales['eu_sales'] / eu_genre_sales['eu_sales'].sum())\n",
    "eu_genre_sales_top5 = eu_genre_sales.loc[0:4]\n",
    "display(eu_genre_sales_top5)"
   ]
  },
  {
   "cell_type": "markdown",
   "metadata": {},
   "source": [
    "####  JP"
   ]
  },
  {
   "cell_type": "code",
   "execution_count": 89,
   "metadata": {
    "scrolled": false
   },
   "outputs": [
    {
     "data": {
      "text/html": [
       "<div>\n",
       "<style scoped>\n",
       "    .dataframe tbody tr th:only-of-type {\n",
       "        vertical-align: middle;\n",
       "    }\n",
       "\n",
       "    .dataframe tbody tr th {\n",
       "        vertical-align: top;\n",
       "    }\n",
       "\n",
       "    .dataframe thead th {\n",
       "        text-align: right;\n",
       "    }\n",
       "</style>\n",
       "<table border=\"1\" class=\"dataframe\">\n",
       "  <thead>\n",
       "    <tr style=\"text-align: right;\">\n",
       "      <th></th>\n",
       "      <th>genre</th>\n",
       "      <th>jp_sales</th>\n",
       "    </tr>\n",
       "  </thead>\n",
       "  <tbody>\n",
       "    <tr>\n",
       "      <th>0</th>\n",
       "      <td>Role-Playing</td>\n",
       "      <td>67.44</td>\n",
       "    </tr>\n",
       "    <tr>\n",
       "      <th>1</th>\n",
       "      <td>Action</td>\n",
       "      <td>57.84</td>\n",
       "    </tr>\n",
       "    <tr>\n",
       "      <th>2</th>\n",
       "      <td>Misc</td>\n",
       "      <td>14.87</td>\n",
       "    </tr>\n",
       "    <tr>\n",
       "      <th>3</th>\n",
       "      <td>Shooter</td>\n",
       "      <td>11.92</td>\n",
       "    </tr>\n",
       "    <tr>\n",
       "      <th>4</th>\n",
       "      <td>Platform</td>\n",
       "      <td>11.72</td>\n",
       "    </tr>\n",
       "    <tr>\n",
       "      <th>5</th>\n",
       "      <td>Simulation</td>\n",
       "      <td>11.46</td>\n",
       "    </tr>\n",
       "    <tr>\n",
       "      <th>6</th>\n",
       "      <td>Fighting</td>\n",
       "      <td>10.64</td>\n",
       "    </tr>\n",
       "    <tr>\n",
       "      <th>7</th>\n",
       "      <td>Sports</td>\n",
       "      <td>9.01</td>\n",
       "    </tr>\n",
       "    <tr>\n",
       "      <th>8</th>\n",
       "      <td>Adventure</td>\n",
       "      <td>7.61</td>\n",
       "    </tr>\n",
       "    <tr>\n",
       "      <th>9</th>\n",
       "      <td>Racing</td>\n",
       "      <td>5.60</td>\n",
       "    </tr>\n",
       "    <tr>\n",
       "      <th>10</th>\n",
       "      <td>Puzzle</td>\n",
       "      <td>2.77</td>\n",
       "    </tr>\n",
       "    <tr>\n",
       "      <th>11</th>\n",
       "      <td>Strategy</td>\n",
       "      <td>2.60</td>\n",
       "    </tr>\n",
       "  </tbody>\n",
       "</table>\n",
       "</div>"
      ],
      "text/plain": [
       "           genre  jp_sales\n",
       "0   Role-Playing     67.44\n",
       "1         Action     57.84\n",
       "2           Misc     14.87\n",
       "3        Shooter     11.92\n",
       "4       Platform     11.72\n",
       "5     Simulation     11.46\n",
       "6       Fighting     10.64\n",
       "7         Sports      9.01\n",
       "8      Adventure      7.61\n",
       "9         Racing      5.60\n",
       "10        Puzzle      2.77\n",
       "11      Strategy      2.60"
      ]
     },
     "metadata": {},
     "output_type": "display_data"
    }
   ],
   "source": [
    "jp_genre_sales = data_actual.pivot_table(index='genre', values='jp_sales', aggfunc='sum' ).sort_values(by='jp_sales', ascending=False).reset_index()\n",
    "display(jp_genre_sales)"
   ]
  },
  {
   "cell_type": "code",
   "execution_count": 90,
   "metadata": {},
   "outputs": [
    {
     "data": {
      "text/html": [
       "<div>\n",
       "<style scoped>\n",
       "    .dataframe tbody tr th:only-of-type {\n",
       "        vertical-align: middle;\n",
       "    }\n",
       "\n",
       "    .dataframe tbody tr th {\n",
       "        vertical-align: top;\n",
       "    }\n",
       "\n",
       "    .dataframe thead th {\n",
       "        text-align: right;\n",
       "    }\n",
       "</style>\n",
       "<table border=\"1\" class=\"dataframe\">\n",
       "  <thead>\n",
       "    <tr style=\"text-align: right;\">\n",
       "      <th></th>\n",
       "      <th>genre</th>\n",
       "      <th>jp_sales</th>\n",
       "      <th>jp_ratio</th>\n",
       "    </tr>\n",
       "  </thead>\n",
       "  <tbody>\n",
       "    <tr>\n",
       "      <th>0</th>\n",
       "      <td>Role-Playing</td>\n",
       "      <td>67.44</td>\n",
       "      <td>32.0</td>\n",
       "    </tr>\n",
       "    <tr>\n",
       "      <th>1</th>\n",
       "      <td>Action</td>\n",
       "      <td>57.84</td>\n",
       "      <td>27.0</td>\n",
       "    </tr>\n",
       "    <tr>\n",
       "      <th>2</th>\n",
       "      <td>Misc</td>\n",
       "      <td>14.87</td>\n",
       "      <td>7.0</td>\n",
       "    </tr>\n",
       "    <tr>\n",
       "      <th>3</th>\n",
       "      <td>Shooter</td>\n",
       "      <td>11.92</td>\n",
       "      <td>6.0</td>\n",
       "    </tr>\n",
       "    <tr>\n",
       "      <th>4</th>\n",
       "      <td>Platform</td>\n",
       "      <td>11.72</td>\n",
       "      <td>5.0</td>\n",
       "    </tr>\n",
       "  </tbody>\n",
       "</table>\n",
       "</div>"
      ],
      "text/plain": [
       "          genre  jp_sales  jp_ratio\n",
       "0  Role-Playing     67.44      32.0\n",
       "1        Action     57.84      27.0\n",
       "2          Misc     14.87       7.0\n",
       "3       Shooter     11.92       6.0\n",
       "4      Platform     11.72       5.0"
      ]
     },
     "metadata": {},
     "output_type": "display_data"
    }
   ],
   "source": [
    "jp_genre_sales['jp_ratio'] = round(100 * jp_genre_sales['jp_sales'] / jp_genre_sales['jp_sales'].sum())\n",
    "jp_genre_sales_top5 = jp_genre_sales.loc[0:4]\n",
    "display(jp_genre_sales_top5)"
   ]
  },
  {
   "cell_type": "markdown",
   "metadata": {},
   "source": [
    "#### Сравнение TOP5 жанров в разных регионах"
   ]
  },
  {
   "cell_type": "markdown",
   "metadata": {},
   "source": [
    "Для сравнения TOP5 жанров в разных регионах построим общую таблицу TOP5 разных регионов."
   ]
  },
  {
   "cell_type": "code",
   "execution_count": 91,
   "metadata": {
    "scrolled": true
   },
   "outputs": [
    {
     "data": {
      "text/html": [
       "<div>\n",
       "<style scoped>\n",
       "    .dataframe tbody tr th:only-of-type {\n",
       "        vertical-align: middle;\n",
       "    }\n",
       "\n",
       "    .dataframe tbody tr th {\n",
       "        vertical-align: top;\n",
       "    }\n",
       "\n",
       "    .dataframe thead th {\n",
       "        text-align: right;\n",
       "    }\n",
       "</style>\n",
       "<table border=\"1\" class=\"dataframe\">\n",
       "  <thead>\n",
       "    <tr style=\"text-align: right;\">\n",
       "      <th></th>\n",
       "      <th>na_genre</th>\n",
       "      <th>na_sales</th>\n",
       "      <th>na_ratio</th>\n",
       "      <th>eu_genre</th>\n",
       "      <th>eu_sales</th>\n",
       "      <th>eu_ratio</th>\n",
       "      <th>jp_genre</th>\n",
       "      <th>jp_sales</th>\n",
       "      <th>jp_ratio</th>\n",
       "    </tr>\n",
       "  </thead>\n",
       "  <tbody>\n",
       "    <tr>\n",
       "      <th>0</th>\n",
       "      <td>Action</td>\n",
       "      <td>225.98</td>\n",
       "      <td>28.0</td>\n",
       "      <td>Action</td>\n",
       "      <td>195.91</td>\n",
       "      <td>30.0</td>\n",
       "      <td>Role-Playing</td>\n",
       "      <td>67.44</td>\n",
       "      <td>32.0</td>\n",
       "    </tr>\n",
       "    <tr>\n",
       "      <th>1</th>\n",
       "      <td>Shooter</td>\n",
       "      <td>194.18</td>\n",
       "      <td>24.0</td>\n",
       "      <td>Shooter</td>\n",
       "      <td>147.98</td>\n",
       "      <td>22.0</td>\n",
       "      <td>Action</td>\n",
       "      <td>57.84</td>\n",
       "      <td>27.0</td>\n",
       "    </tr>\n",
       "    <tr>\n",
       "      <th>2</th>\n",
       "      <td>Sports</td>\n",
       "      <td>107.48</td>\n",
       "      <td>13.0</td>\n",
       "      <td>Sports</td>\n",
       "      <td>87.77</td>\n",
       "      <td>13.0</td>\n",
       "      <td>Misc</td>\n",
       "      <td>14.87</td>\n",
       "      <td>7.0</td>\n",
       "    </tr>\n",
       "    <tr>\n",
       "      <th>3</th>\n",
       "      <td>Role-Playing</td>\n",
       "      <td>79.92</td>\n",
       "      <td>10.0</td>\n",
       "      <td>Role-Playing</td>\n",
       "      <td>60.36</td>\n",
       "      <td>9.0</td>\n",
       "      <td>Shooter</td>\n",
       "      <td>11.92</td>\n",
       "      <td>6.0</td>\n",
       "    </tr>\n",
       "    <tr>\n",
       "      <th>4</th>\n",
       "      <td>Misc</td>\n",
       "      <td>66.10</td>\n",
       "      <td>8.0</td>\n",
       "      <td>Racing</td>\n",
       "      <td>40.11</td>\n",
       "      <td>6.0</td>\n",
       "      <td>Platform</td>\n",
       "      <td>11.72</td>\n",
       "      <td>5.0</td>\n",
       "    </tr>\n",
       "  </tbody>\n",
       "</table>\n",
       "</div>"
      ],
      "text/plain": [
       "       na_genre  na_sales  na_ratio      eu_genre  eu_sales  eu_ratio  \\\n",
       "0        Action    225.98      28.0        Action    195.91      30.0   \n",
       "1       Shooter    194.18      24.0       Shooter    147.98      22.0   \n",
       "2        Sports    107.48      13.0        Sports     87.77      13.0   \n",
       "3  Role-Playing     79.92      10.0  Role-Playing     60.36       9.0   \n",
       "4          Misc     66.10       8.0        Racing     40.11       6.0   \n",
       "\n",
       "       jp_genre  jp_sales  jp_ratio  \n",
       "0  Role-Playing     67.44      32.0  \n",
       "1        Action     57.84      27.0  \n",
       "2          Misc     14.87       7.0  \n",
       "3       Shooter     11.92       6.0  \n",
       "4      Platform     11.72       5.0  "
      ]
     },
     "execution_count": 91,
     "metadata": {},
     "output_type": "execute_result"
    }
   ],
   "source": [
    "# Переименование столбца genre в таблицах TOP5 регионов\n",
    "na_genre_sales_top5 = na_genre_sales_top5.rename(\n",
    "                        columns={'genre' : 'na_genre'}\n",
    ")\n",
    "eu_genre_sales_top5 = eu_genre_sales_top5.rename(\n",
    "                        columns={'genre' : 'eu_genre'}\n",
    ")\n",
    "jp_genre_sales_top5 = jp_genre_sales_top5.rename(\n",
    "                        columns={'genre' : 'jp_genre'}\n",
    ")\n",
    "na_genre_sales_top5.join([eu_genre_sales_top5, jp_genre_sales_top5])"
   ]
  },
  {
   "cell_type": "markdown",
   "metadata": {},
   "source": [
    "Из сравнительной таблицы можно заметить, что TOP4 для региона Северная америка и Европа совпадает, это игры в жанре 1-Action, 2-Shooter, 3-Sports, 4-Role-Playing Есть отличия жанров только на 5 месте, для Северной америки это 5-Misc, а для Европы это 5-Racing. В Японии, в отличии от Северной Америки и Европы, 1 место среди жанров занимает 1-Role-Plaing, дальше располагаются жанры, которые есть в TOP5 Северной Америки и Европы, это 2-Action, 3-Misc, 4-Simulation, 5-Shooter."
   ]
  },
  {
   "cell_type": "markdown",
   "metadata": {},
   "source": [
    "### Структура продаж по классификатору ESRB в разных регионах за актуальный период"
   ]
  },
  {
   "cell_type": "markdown",
   "metadata": {},
   "source": [
    "Заполнение пустых значений в столбце rating в таблице data_actual"
   ]
  },
  {
   "cell_type": "code",
   "execution_count": 92,
   "metadata": {},
   "outputs": [],
   "source": [
    "data_actual.loc[data_actual['rating'].isna(), 'rating'] = 'no_rating'"
   ]
  },
  {
   "cell_type": "markdown",
   "metadata": {},
   "source": [
    "#### NA Северная америка"
   ]
  },
  {
   "cell_type": "code",
   "execution_count": 93,
   "metadata": {},
   "outputs": [
    {
     "data": {
      "text/html": [
       "<div>\n",
       "<style scoped>\n",
       "    .dataframe tbody tr th:only-of-type {\n",
       "        vertical-align: middle;\n",
       "    }\n",
       "\n",
       "    .dataframe tbody tr th {\n",
       "        vertical-align: top;\n",
       "    }\n",
       "\n",
       "    .dataframe thead th {\n",
       "        text-align: right;\n",
       "    }\n",
       "</style>\n",
       "<table border=\"1\" class=\"dataframe\">\n",
       "  <thead>\n",
       "    <tr style=\"text-align: right;\">\n",
       "      <th></th>\n",
       "      <th>na_rating</th>\n",
       "      <th>na_sales</th>\n",
       "      <th>na_ratio</th>\n",
       "    </tr>\n",
       "  </thead>\n",
       "  <tbody>\n",
       "    <tr>\n",
       "      <th>0</th>\n",
       "      <td>M</td>\n",
       "      <td>308.45</td>\n",
       "      <td>38.0</td>\n",
       "    </tr>\n",
       "    <tr>\n",
       "      <th>1</th>\n",
       "      <td>E</td>\n",
       "      <td>160.68</td>\n",
       "      <td>20.0</td>\n",
       "    </tr>\n",
       "    <tr>\n",
       "      <th>2</th>\n",
       "      <td>no_rating</td>\n",
       "      <td>116.70</td>\n",
       "      <td>14.0</td>\n",
       "    </tr>\n",
       "    <tr>\n",
       "      <th>3</th>\n",
       "      <td>E10+</td>\n",
       "      <td>114.25</td>\n",
       "      <td>14.0</td>\n",
       "    </tr>\n",
       "    <tr>\n",
       "      <th>4</th>\n",
       "      <td>T</td>\n",
       "      <td>108.50</td>\n",
       "      <td>13.0</td>\n",
       "    </tr>\n",
       "  </tbody>\n",
       "</table>\n",
       "</div>"
      ],
      "text/plain": [
       "   na_rating  na_sales  na_ratio\n",
       "0          M    308.45      38.0\n",
       "1          E    160.68      20.0\n",
       "2  no_rating    116.70      14.0\n",
       "3       E10+    114.25      14.0\n",
       "4          T    108.50      13.0"
      ]
     },
     "metadata": {},
     "output_type": "display_data"
    }
   ],
   "source": [
    "na_rating_sales = data_actual.pivot_table(index='rating', values='na_sales', aggfunc='sum').sort_values(by='na_sales', ascending=False).reset_index()\n",
    "na_rating_sales['na_ratio'] = round(100 * na_rating_sales['na_sales'] / na_rating_sales['na_sales'].sum())\n",
    "na_rating_sales = na_rating_sales.rename(columns={'rating' : 'na_rating'})\n",
    "display(na_rating_sales)"
   ]
  },
  {
   "cell_type": "markdown",
   "metadata": {},
   "source": [
    "#### EU Европа"
   ]
  },
  {
   "cell_type": "code",
   "execution_count": 94,
   "metadata": {},
   "outputs": [
    {
     "data": {
      "text/html": [
       "<div>\n",
       "<style scoped>\n",
       "    .dataframe tbody tr th:only-of-type {\n",
       "        vertical-align: middle;\n",
       "    }\n",
       "\n",
       "    .dataframe tbody tr th {\n",
       "        vertical-align: top;\n",
       "    }\n",
       "\n",
       "    .dataframe thead th {\n",
       "        text-align: right;\n",
       "    }\n",
       "</style>\n",
       "<table border=\"1\" class=\"dataframe\">\n",
       "  <thead>\n",
       "    <tr style=\"text-align: right;\">\n",
       "      <th></th>\n",
       "      <th>eu_rating</th>\n",
       "      <th>eu_sales</th>\n",
       "      <th>eu_ratio</th>\n",
       "    </tr>\n",
       "  </thead>\n",
       "  <tbody>\n",
       "    <tr>\n",
       "      <th>0</th>\n",
       "      <td>M</td>\n",
       "      <td>250.26</td>\n",
       "      <td>38.0</td>\n",
       "    </tr>\n",
       "    <tr>\n",
       "      <th>1</th>\n",
       "      <td>E</td>\n",
       "      <td>137.22</td>\n",
       "      <td>21.0</td>\n",
       "    </tr>\n",
       "    <tr>\n",
       "      <th>2</th>\n",
       "      <td>no_rating</td>\n",
       "      <td>112.39</td>\n",
       "      <td>17.0</td>\n",
       "    </tr>\n",
       "    <tr>\n",
       "      <th>3</th>\n",
       "      <td>T</td>\n",
       "      <td>82.81</td>\n",
       "      <td>13.0</td>\n",
       "    </tr>\n",
       "    <tr>\n",
       "      <th>4</th>\n",
       "      <td>E10+</td>\n",
       "      <td>75.97</td>\n",
       "      <td>12.0</td>\n",
       "    </tr>\n",
       "  </tbody>\n",
       "</table>\n",
       "</div>"
      ],
      "text/plain": [
       "   eu_rating  eu_sales  eu_ratio\n",
       "0          M    250.26      38.0\n",
       "1          E    137.22      21.0\n",
       "2  no_rating    112.39      17.0\n",
       "3          T     82.81      13.0\n",
       "4       E10+     75.97      12.0"
      ]
     },
     "metadata": {},
     "output_type": "display_data"
    }
   ],
   "source": [
    "eu_rating_sales = data_actual.pivot_table(index='rating',  values='eu_sales', aggfunc='sum').sort_values(by='eu_sales', ascending=False).reset_index()\n",
    "eu_rating_sales['eu_ratio'] = round(100 * eu_rating_sales['eu_sales'] / eu_rating_sales['eu_sales'].sum())\n",
    "eu_rating_sales = eu_rating_sales.rename(columns={'rating' : 'eu_rating'})\n",
    "display(eu_rating_sales)"
   ]
  },
  {
   "cell_type": "markdown",
   "metadata": {},
   "source": [
    "#### JP Япония"
   ]
  },
  {
   "cell_type": "code",
   "execution_count": 95,
   "metadata": {},
   "outputs": [
    {
     "data": {
      "text/html": [
       "<div>\n",
       "<style scoped>\n",
       "    .dataframe tbody tr th:only-of-type {\n",
       "        vertical-align: middle;\n",
       "    }\n",
       "\n",
       "    .dataframe tbody tr th {\n",
       "        vertical-align: top;\n",
       "    }\n",
       "\n",
       "    .dataframe thead th {\n",
       "        text-align: right;\n",
       "    }\n",
       "</style>\n",
       "<table border=\"1\" class=\"dataframe\">\n",
       "  <thead>\n",
       "    <tr style=\"text-align: right;\">\n",
       "      <th></th>\n",
       "      <th>jp_rating</th>\n",
       "      <th>jp_sales</th>\n",
       "      <th>jp_ratio</th>\n",
       "    </tr>\n",
       "  </thead>\n",
       "  <tbody>\n",
       "    <tr>\n",
       "      <th>0</th>\n",
       "      <td>no_rating</td>\n",
       "      <td>109.26</td>\n",
       "      <td>51.0</td>\n",
       "    </tr>\n",
       "    <tr>\n",
       "      <th>1</th>\n",
       "      <td>E</td>\n",
       "      <td>35.04</td>\n",
       "      <td>16.0</td>\n",
       "    </tr>\n",
       "    <tr>\n",
       "      <th>2</th>\n",
       "      <td>T</td>\n",
       "      <td>32.12</td>\n",
       "      <td>15.0</td>\n",
       "    </tr>\n",
       "    <tr>\n",
       "      <th>3</th>\n",
       "      <td>M</td>\n",
       "      <td>26.10</td>\n",
       "      <td>12.0</td>\n",
       "    </tr>\n",
       "    <tr>\n",
       "      <th>4</th>\n",
       "      <td>E10+</td>\n",
       "      <td>10.96</td>\n",
       "      <td>5.0</td>\n",
       "    </tr>\n",
       "  </tbody>\n",
       "</table>\n",
       "</div>"
      ],
      "text/plain": [
       "   jp_rating  jp_sales  jp_ratio\n",
       "0  no_rating    109.26      51.0\n",
       "1          E     35.04      16.0\n",
       "2          T     32.12      15.0\n",
       "3          M     26.10      12.0\n",
       "4       E10+     10.96       5.0"
      ]
     },
     "metadata": {},
     "output_type": "display_data"
    }
   ],
   "source": [
    "jp_rating_sales = data_actual.pivot_table(index='rating', values='jp_sales', aggfunc='sum').sort_values(by='jp_sales', ascending=False).reset_index()\n",
    "jp_rating_sales['jp_ratio'] = round(100 * jp_rating_sales['jp_sales'] / jp_rating_sales['jp_sales'].sum())\n",
    "jp_rating_sales = jp_rating_sales.rename(columns={'rating' : 'jp_rating'})\n",
    "display(jp_rating_sales)"
   ]
  },
  {
   "cell_type": "markdown",
   "metadata": {},
   "source": [
    "#### Сравнение продаж по ESRB классификации для разных регионов"
   ]
  },
  {
   "cell_type": "code",
   "execution_count": 96,
   "metadata": {
    "scrolled": false
   },
   "outputs": [
    {
     "data": {
      "text/html": [
       "<div>\n",
       "<style scoped>\n",
       "    .dataframe tbody tr th:only-of-type {\n",
       "        vertical-align: middle;\n",
       "    }\n",
       "\n",
       "    .dataframe tbody tr th {\n",
       "        vertical-align: top;\n",
       "    }\n",
       "\n",
       "    .dataframe thead th {\n",
       "        text-align: right;\n",
       "    }\n",
       "</style>\n",
       "<table border=\"1\" class=\"dataframe\">\n",
       "  <thead>\n",
       "    <tr style=\"text-align: right;\">\n",
       "      <th></th>\n",
       "      <th>na_rating</th>\n",
       "      <th>na_sales</th>\n",
       "      <th>na_ratio</th>\n",
       "      <th>eu_rating</th>\n",
       "      <th>eu_sales</th>\n",
       "      <th>eu_ratio</th>\n",
       "      <th>jp_rating</th>\n",
       "      <th>jp_sales</th>\n",
       "      <th>jp_ratio</th>\n",
       "    </tr>\n",
       "  </thead>\n",
       "  <tbody>\n",
       "    <tr>\n",
       "      <th>0</th>\n",
       "      <td>M</td>\n",
       "      <td>308.45</td>\n",
       "      <td>38.0</td>\n",
       "      <td>M</td>\n",
       "      <td>250.26</td>\n",
       "      <td>38.0</td>\n",
       "      <td>no_rating</td>\n",
       "      <td>109.26</td>\n",
       "      <td>51.0</td>\n",
       "    </tr>\n",
       "    <tr>\n",
       "      <th>1</th>\n",
       "      <td>E</td>\n",
       "      <td>160.68</td>\n",
       "      <td>20.0</td>\n",
       "      <td>E</td>\n",
       "      <td>137.22</td>\n",
       "      <td>21.0</td>\n",
       "      <td>E</td>\n",
       "      <td>35.04</td>\n",
       "      <td>16.0</td>\n",
       "    </tr>\n",
       "    <tr>\n",
       "      <th>2</th>\n",
       "      <td>no_rating</td>\n",
       "      <td>116.70</td>\n",
       "      <td>14.0</td>\n",
       "      <td>no_rating</td>\n",
       "      <td>112.39</td>\n",
       "      <td>17.0</td>\n",
       "      <td>T</td>\n",
       "      <td>32.12</td>\n",
       "      <td>15.0</td>\n",
       "    </tr>\n",
       "    <tr>\n",
       "      <th>3</th>\n",
       "      <td>E10+</td>\n",
       "      <td>114.25</td>\n",
       "      <td>14.0</td>\n",
       "      <td>T</td>\n",
       "      <td>82.81</td>\n",
       "      <td>13.0</td>\n",
       "      <td>M</td>\n",
       "      <td>26.10</td>\n",
       "      <td>12.0</td>\n",
       "    </tr>\n",
       "    <tr>\n",
       "      <th>4</th>\n",
       "      <td>T</td>\n",
       "      <td>108.50</td>\n",
       "      <td>13.0</td>\n",
       "      <td>E10+</td>\n",
       "      <td>75.97</td>\n",
       "      <td>12.0</td>\n",
       "      <td>E10+</td>\n",
       "      <td>10.96</td>\n",
       "      <td>5.0</td>\n",
       "    </tr>\n",
       "  </tbody>\n",
       "</table>\n",
       "</div>"
      ],
      "text/plain": [
       "   na_rating  na_sales  na_ratio  eu_rating  eu_sales  eu_ratio  jp_rating  \\\n",
       "0          M    308.45      38.0          M    250.26      38.0  no_rating   \n",
       "1          E    160.68      20.0          E    137.22      21.0          E   \n",
       "2  no_rating    116.70      14.0  no_rating    112.39      17.0          T   \n",
       "3       E10+    114.25      14.0          T     82.81      13.0          M   \n",
       "4          T    108.50      13.0       E10+     75.97      12.0       E10+   \n",
       "\n",
       "   jp_sales  jp_ratio  \n",
       "0    109.26      51.0  \n",
       "1     35.04      16.0  \n",
       "2     32.12      15.0  \n",
       "3     26.10      12.0  \n",
       "4     10.96       5.0  "
      ]
     },
     "execution_count": 96,
     "metadata": {},
     "output_type": "execute_result"
    }
   ],
   "source": [
    "na_rating_sales.join([eu_rating_sales, jp_rating_sales])"
   ]
  },
  {
   "cell_type": "code",
   "execution_count": 97,
   "metadata": {},
   "outputs": [
    {
     "data": {
      "text/plain": [
       "['no_rating', 'E', 'T', 'M', 'E10+']"
      ]
     },
     "execution_count": 97,
     "metadata": {},
     "output_type": "execute_result"
    }
   ],
   "source": [
    "na_rating_sales.join([eu_rating_sales, jp_rating_sales])['jp_rating'].tolist()"
   ]
  },
  {
   "cell_type": "markdown",
   "metadata": {},
   "source": [
    "Из сравнительной таблицы можно увидеть, что для Северной америки и Европы структура рейтинга совпадает 1-'M', 2-'E', 3-'no_rating', 4-'E10+', 5-'T'. Продажи игр без рейтинга составляют 14% для Северной Америки и 17% для Европы. В Японии структура рейтинга отличается 1 - 'no_rating', 2 -'E', 3 -'T', 4 -'M', 5 -'E10+'. При этом доля продаж игр без рейтинга составляет 51%."
   ]
  },
  {
   "cell_type": "markdown",
   "metadata": {},
   "source": [
    "## Проверка гипотез для актуального периода"
   ]
  },
  {
   "cell_type": "markdown",
   "metadata": {},
   "source": [
    "### Средние пользовательских рейтингов платформ Xbox One и PC одинаковые"
   ]
  },
  {
   "cell_type": "markdown",
   "metadata": {},
   "source": [
    "Сформулируем нулевую гипотезу H0, средние пользовательские рейтинги платформ Xbox One и PC одинаковые. Сформулируем альтернативную гипотезу H1, средние пользовательские рейтинги платформ Xbox One и PC разные. Определим порог alpha в 5%, в этом случае Pvalue имеет значение 0,05.\n",
    "Для сравнения средних 2-х генеральных совокупностей воспользуемся методом scipy.stats.ttest_ind."
   ]
  },
  {
   "cell_type": "code",
   "execution_count": 98,
   "metadata": {},
   "outputs": [],
   "source": [
    "pvalue_xone_pc = 0.05"
   ]
  },
  {
   "cell_type": "code",
   "execution_count": 99,
   "metadata": {},
   "outputs": [
    {
     "data": {
      "text/plain": [
       "array([7.9, 5.4, 6.4, 6.2, 4.1, 5.5, 7.5, 4.4, 7.2, 6.4, 4.3, 5.5, 3.1,\n",
       "       6.1, 6.2, 8.2, 7.4, 5.9, 5.4, 6.9, 6.6, 7.9, 6.3, 7.5, 6.8, 5.8,\n",
       "       6.4, 6.6, 8.2, 6.1, 7.3, 8. , 8. , 6.2, 6.9, 9.2, 6.1, 7.8, 8.4,\n",
       "       5.9, 5.1, 5.2, 5.8, 7.7, 7.4, 5.6, 6.8, 6.2, 6.9, 5.7, 7. , 6.4,\n",
       "       5.9, 7.7, 7.3, 7.4, 5.8, 7.8, 7.3, 6.7, 5.9, 5.1, 4.6, 5.1, 5.7,\n",
       "       8. , 5.7, 6.8, 5.1, 7.5, 6.9, 7.8, 8.1, 6. , 6.4, 6.3, 7. , 7.8,\n",
       "       7.1, 6. , 6.9, 3.2, 8.6, 7.7, 5.1, 6.6, 7.9, 6.1, 7.2, 5.5, 8.5,\n",
       "       7. , 5.4, 4.3, 6.8, 5.5, 5.8, 5.3, 7.1, 5.5, 4. , 6.2, 8.3, 6.8,\n",
       "       6.7, 6.8, 3.1, 7.3, 3. , 7. , 8.3, 7. , 7.2, 4.4, 7. , 6.9, 8.3,\n",
       "       7.5, 8. , 7.2, 6.6, 7.3, 4.1, 7.9, 8.7, 5.7, 8. , 2.1, 8.2, 5.6,\n",
       "       7.2, 6.2, 5.3, 7.5, 6. , 3.1, 7.6, 8.5, 6.8, 6.3, 5.8, 7.7, 6.9,\n",
       "       8.4, 5.2, 4.9, 7.1, 7.1, 6.1, 8.1, 6.3, 6. , 8.9, 7.7, 1.6, 8. ,\n",
       "       5.4, 8.1, 4.3, 7.4, 4.3, 7.1, 5.8, 4.2, 6.6, 7.3, 7.2, 7.1, 6.7,\n",
       "       8.8, 7.9, 8.1, 3.1, 7.5, 6.3, 8.2, 7.1, 6.8, 6. , 8.2, 6.6, 6.7])"
      ]
     },
     "metadata": {},
     "output_type": "display_data"
    }
   ],
   "source": [
    "# Создание массива платформы Xbоx One в данных это значение XOne\n",
    "xone = data.query('platform == \"XOne\" and year_of_release >= 2012').dropna(subset=['user_score'])['user_score'].astype('float').values\n",
    "display(xone)"
   ]
  },
  {
   "cell_type": "code",
   "execution_count": 100,
   "metadata": {
    "scrolled": true
   },
   "outputs": [
    {
     "data": {
      "text/plain": [
       "Ttest_indResult(statistic=0.5930304646661256, pvalue=0.5535080500643661)"
      ]
     },
     "execution_count": 100,
     "metadata": {},
     "output_type": "execute_result"
    }
   ],
   "source": [
    "# Создание массива платформы PC.\n",
    "pc = data.query('platform == \"PC\" and year_of_release >= 2012').dropna(subset=['user_score'])['user_score'].astype('float').values\n",
    "# применим метод о равестве средних 2-х генеральных совокупностей\n",
    "st.ttest_ind(xone, pc)"
   ]
  },
  {
   "cell_type": "code",
   "execution_count": 101,
   "metadata": {},
   "outputs": [
    {
     "name": "stdout",
     "output_type": "stream",
     "text": [
      "Принимаем нулевую гипотезу\n"
     ]
    }
   ],
   "source": [
    "#Сравнение заданного порога с расчитанным pvalue\n",
    "if st.ttest_ind(xone, pc).pvalue < pvalue_xone_pc:\n",
    "    print('Отвергаем нулевую гипотезу')\n",
    "else:\n",
    "    print('Принимаем нулевую гипотезу')"
   ]
  },
  {
   "cell_type": "markdown",
   "metadata": {},
   "source": [
    "Проведя ttest_ind получили значение pvalue 0.59, которое больше взятого нами порога 0.05. Из этого следует, что принимается гипотеза H0.\n",
    "Таким образом подтвердилась гипотеза, что рейтинги платформ Xbox One и PC одинаковые для актуального периода."
   ]
  },
  {
   "cell_type": "markdown",
   "metadata": {},
   "source": [
    "### Средние пользовательских рейтингов жанров Action и Sports разные."
   ]
  },
  {
   "cell_type": "markdown",
   "metadata": {},
   "source": [
    "Сформулируем нулевую гипотезу H0, средние пользовательских рейтингов жанров Action и Sports одинаковые. Тогда альтернативная гипотеза H1 будет, средние пользовательских рейтингов жанров Action и Sports разные. Определим порог alpha в 5%, в этом случае Pvalue имеет значение 0,05.\n",
    "Для сравнения средних 2-х генеральных совокупностей воспользуемся методом scipy.stats.ttest_ind."
   ]
  },
  {
   "cell_type": "code",
   "execution_count": 102,
   "metadata": {},
   "outputs": [
    {
     "data": {
      "text/plain": [
       "Ttest_indResult(statistic=11.010635282641651, pvalue=3.716308946093486e-26)"
      ]
     },
     "execution_count": 102,
     "metadata": {},
     "output_type": "execute_result"
    }
   ],
   "source": [
    "# Создание массива с жанром Action\n",
    "action = data.query('genre == \"Action\" and year_of_release >= 2012').dropna(subset=['user_score'])['user_score'].astype('float').values\n",
    "# Создание массива с жанром Sports\n",
    "sports = data.query('genre == \"Sports\" and year_of_release >= 2012').dropna(subset=['user_score'])['user_score'].astype('float').values\n",
    "# проведение ttest_ind\n",
    "st.ttest_ind(action, sports)"
   ]
  },
  {
   "cell_type": "code",
   "execution_count": 103,
   "metadata": {},
   "outputs": [
    {
     "name": "stdout",
     "output_type": "stream",
     "text": [
      "Отвергаем нулевую гипотезу\n"
     ]
    }
   ],
   "source": [
    "#Сравнение заданного порога с расчитанным pvalue\n",
    "if st.ttest_ind(action, sports).pvalue < 0.05:\n",
    "    print('Отвергаем нулевую гипотезу')\n",
    "else:\n",
    "    print('Принимаем нулевую гипотезу')"
   ]
  },
  {
   "cell_type": "markdown",
   "metadata": {},
   "source": [
    "Проведенный ttest_ind показал, что отвергается нулевая гипотеза. Таким образом, подтверждается гипотеза, что средние пользовательских рейтингов жанров Action и Sports за актуальный период разные."
   ]
  },
  {
   "cell_type": "markdown",
   "metadata": {},
   "source": [
    "## Выводы"
   ]
  },
  {
   "cell_type": "markdown",
   "metadata": {},
   "source": [
    "1) Характерный срок существования платформы 12 лет."
   ]
  },
  {
   "cell_type": "markdown",
   "metadata": {},
   "source": [
    "2) Актуальные платформы выпускающие игры в 2016 году  - это '3DS', 'PC', 'PS3', 'PS4', 'PSV', 'WiiU', 'X360', 'XOne', всего 8 платформ. Из этих платформ можно выделить TOP3 - это PS4, XOne и 3DS, которые приносят 86 % продаж. На эти 3-х платформы стоит сделать упор в рекламной компании следующего 2017 года."
   ]
  },
  {
   "cell_type": "markdown",
   "metadata": {},
   "source": [
    "3) Анализ корреляции продаж TOP3 платформ с оценками пользователей и оценками критиков показал, что нет корреляции продаж с оценками пользователей и есть умеренная корреляция продаж с оценками критиков (коэффициент корреляции 0,4). Таким образом для продвижения игр нужно поощрять положительные отзывы критиков."
   ]
  },
  {
   "cell_type": "markdown",
   "metadata": {},
   "source": [
    "4) Анализ продаж актуальных платформ по жанрам, позволяет выделить 2 наиболее популярных жанра игр Shooter и Platform и 2 наименее популярных Strategy и Adventure. Поэтому в 2017 году стоит больше продвигать игры из популярных жанров Shooter и Platform."
   ]
  },
  {
   "cell_type": "markdown",
   "metadata": {},
   "source": [
    "5) Из сравнения TOP5 платформ можно заметить, что список TOP5 в Северной америке почти совпадает со списком TOP5 в Европе. В него входях 'X360', 'PS4', 'PS3', '3DS', в северной америке еще входит 'XOne', а в европе PC. При этом отличается место платформ в списках и их доли в продажах. В Японии список TOP5 частично похожий и частично отличаюющийся, в него входят 3 платформы PS3, PS4, 3DS которые имеются в TOP5 северной америки и европы, и 2 платформы PSV, WiiU не входящие в список TOP5 северной америки и европы. Стоит отметить, что в Японии платформа 3DS находящаяся на первом месте по продажам занимает долю в 47%."
   ]
  },
  {
   "cell_type": "markdown",
   "metadata": {},
   "source": [
    "6) Сравнение TOP5 жанров в актуальный период показало, что TOP4 для региона Северная америка и Европа совпадает, это игры в жанре 1-Action, 2-Sports, 3-Shooter, 4-Role-Playing Есть отличия жанров только на 5 месте, для Северной америки это 5-Misc, а для Европы это 5-Racing. В Японии, в отличии от Северной Америки и Европы, 1 место среди жанров занимает 1-Role-Plaing, дальше располагаются жанры, которые есть в TOP5 Северной Америки и Европы, это 2-Action, 3-Misc, 4-Simulation, 5-Shooter."
   ]
  },
  {
   "cell_type": "markdown",
   "metadata": {},
   "source": [
    "7) Подтвердилась гипотеза, что для актуального периода рейтинги платформ Xbox One и PC одинаковые."
   ]
  },
  {
   "cell_type": "markdown",
   "metadata": {},
   "source": [
    "8) Подтвердилась гипотеза, что за актуальный период средние пользовательских рейтингов жанров Action и Sports разные."
   ]
  }
 ],
 "metadata": {
  "ExecuteTimeLog": [
   {
    "duration": 113,
    "start_time": "2022-04-19T10:41:22.415Z"
   },
   {
    "duration": 1975,
    "start_time": "2022-04-19T10:41:35.323Z"
   },
   {
    "duration": 226,
    "start_time": "2022-04-19T10:41:37.301Z"
   },
   {
    "duration": 22,
    "start_time": "2022-04-19T10:41:37.529Z"
   },
   {
    "duration": 6,
    "start_time": "2022-04-19T10:41:37.554Z"
   },
   {
    "duration": 172,
    "start_time": "2022-04-19T10:41:37.563Z"
   },
   {
    "duration": 0,
    "start_time": "2022-04-19T10:41:37.744Z"
   },
   {
    "duration": 0,
    "start_time": "2022-04-19T10:41:37.746Z"
   },
   {
    "duration": 0,
    "start_time": "2022-04-19T10:41:37.747Z"
   },
   {
    "duration": 0,
    "start_time": "2022-04-19T10:41:37.748Z"
   },
   {
    "duration": 0,
    "start_time": "2022-04-19T10:41:37.750Z"
   },
   {
    "duration": 0,
    "start_time": "2022-04-19T10:41:37.751Z"
   },
   {
    "duration": 0,
    "start_time": "2022-04-19T10:41:37.753Z"
   },
   {
    "duration": 0,
    "start_time": "2022-04-19T10:41:37.754Z"
   },
   {
    "duration": 0,
    "start_time": "2022-04-19T10:41:37.756Z"
   },
   {
    "duration": 0,
    "start_time": "2022-04-19T10:41:37.758Z"
   },
   {
    "duration": 0,
    "start_time": "2022-04-19T10:41:37.759Z"
   },
   {
    "duration": 0,
    "start_time": "2022-04-19T10:41:37.761Z"
   },
   {
    "duration": 1,
    "start_time": "2022-04-19T10:41:37.793Z"
   },
   {
    "duration": 0,
    "start_time": "2022-04-19T10:41:37.795Z"
   },
   {
    "duration": 0,
    "start_time": "2022-04-19T10:41:37.797Z"
   },
   {
    "duration": 0,
    "start_time": "2022-04-19T10:41:37.799Z"
   },
   {
    "duration": 0,
    "start_time": "2022-04-19T10:41:37.800Z"
   },
   {
    "duration": 0,
    "start_time": "2022-04-19T10:41:37.802Z"
   },
   {
    "duration": 0,
    "start_time": "2022-04-19T10:41:37.803Z"
   },
   {
    "duration": 0,
    "start_time": "2022-04-19T10:41:37.806Z"
   },
   {
    "duration": 0,
    "start_time": "2022-04-19T10:41:37.807Z"
   },
   {
    "duration": 0,
    "start_time": "2022-04-19T10:41:37.808Z"
   },
   {
    "duration": 0,
    "start_time": "2022-04-19T10:41:37.810Z"
   },
   {
    "duration": 0,
    "start_time": "2022-04-19T10:41:37.812Z"
   },
   {
    "duration": 0,
    "start_time": "2022-04-19T10:41:37.813Z"
   },
   {
    "duration": 0,
    "start_time": "2022-04-19T10:41:37.815Z"
   },
   {
    "duration": 0,
    "start_time": "2022-04-19T10:41:37.817Z"
   },
   {
    "duration": 0,
    "start_time": "2022-04-19T10:41:37.819Z"
   },
   {
    "duration": 0,
    "start_time": "2022-04-19T10:41:37.821Z"
   },
   {
    "duration": 0,
    "start_time": "2022-04-19T10:41:37.822Z"
   },
   {
    "duration": 0,
    "start_time": "2022-04-19T10:41:37.824Z"
   },
   {
    "duration": 0,
    "start_time": "2022-04-19T10:41:37.825Z"
   },
   {
    "duration": 0,
    "start_time": "2022-04-19T10:41:37.827Z"
   },
   {
    "duration": 0,
    "start_time": "2022-04-19T10:41:37.894Z"
   },
   {
    "duration": 0,
    "start_time": "2022-04-19T10:41:37.895Z"
   },
   {
    "duration": 0,
    "start_time": "2022-04-19T10:41:37.897Z"
   },
   {
    "duration": 0,
    "start_time": "2022-04-19T10:41:37.898Z"
   },
   {
    "duration": 0,
    "start_time": "2022-04-19T10:41:37.900Z"
   },
   {
    "duration": 0,
    "start_time": "2022-04-19T10:41:37.901Z"
   },
   {
    "duration": 0,
    "start_time": "2022-04-19T10:41:37.903Z"
   },
   {
    "duration": 0,
    "start_time": "2022-04-19T10:41:37.904Z"
   },
   {
    "duration": 0,
    "start_time": "2022-04-19T10:41:37.906Z"
   },
   {
    "duration": 0,
    "start_time": "2022-04-19T10:41:37.908Z"
   },
   {
    "duration": 0,
    "start_time": "2022-04-19T10:41:37.909Z"
   },
   {
    "duration": 0,
    "start_time": "2022-04-19T10:41:37.910Z"
   },
   {
    "duration": 0,
    "start_time": "2022-04-19T10:41:37.912Z"
   },
   {
    "duration": 0,
    "start_time": "2022-04-19T10:41:37.914Z"
   },
   {
    "duration": 0,
    "start_time": "2022-04-19T10:41:37.915Z"
   },
   {
    "duration": 0,
    "start_time": "2022-04-19T10:41:37.918Z"
   },
   {
    "duration": 0,
    "start_time": "2022-04-19T10:41:37.920Z"
   },
   {
    "duration": 0,
    "start_time": "2022-04-19T10:41:37.922Z"
   },
   {
    "duration": 0,
    "start_time": "2022-04-19T10:41:37.924Z"
   },
   {
    "duration": 0,
    "start_time": "2022-04-19T10:41:37.926Z"
   },
   {
    "duration": 0,
    "start_time": "2022-04-19T10:41:37.928Z"
   },
   {
    "duration": 0,
    "start_time": "2022-04-19T10:41:37.930Z"
   },
   {
    "duration": 0,
    "start_time": "2022-04-19T10:41:37.994Z"
   },
   {
    "duration": 0,
    "start_time": "2022-04-19T10:41:37.996Z"
   },
   {
    "duration": 0,
    "start_time": "2022-04-19T10:41:37.998Z"
   },
   {
    "duration": 0,
    "start_time": "2022-04-19T10:41:38.001Z"
   },
   {
    "duration": 0,
    "start_time": "2022-04-19T10:41:38.003Z"
   },
   {
    "duration": 0,
    "start_time": "2022-04-19T10:41:38.005Z"
   },
   {
    "duration": 0,
    "start_time": "2022-04-19T10:41:38.007Z"
   },
   {
    "duration": 0,
    "start_time": "2022-04-19T10:41:38.009Z"
   },
   {
    "duration": 0,
    "start_time": "2022-04-19T10:41:38.011Z"
   },
   {
    "duration": 1,
    "start_time": "2022-04-19T10:41:38.013Z"
   },
   {
    "duration": 0,
    "start_time": "2022-04-19T10:41:38.016Z"
   },
   {
    "duration": 0,
    "start_time": "2022-04-19T10:41:38.017Z"
   },
   {
    "duration": 0,
    "start_time": "2022-04-19T10:41:38.020Z"
   },
   {
    "duration": 0,
    "start_time": "2022-04-19T10:41:38.022Z"
   },
   {
    "duration": 0,
    "start_time": "2022-04-19T10:41:38.024Z"
   },
   {
    "duration": 0,
    "start_time": "2022-04-19T10:41:38.026Z"
   },
   {
    "duration": 1,
    "start_time": "2022-04-19T10:41:38.027Z"
   },
   {
    "duration": 0,
    "start_time": "2022-04-19T10:41:38.030Z"
   },
   {
    "duration": 0,
    "start_time": "2022-04-19T10:41:38.094Z"
   },
   {
    "duration": 0,
    "start_time": "2022-04-19T10:41:38.097Z"
   },
   {
    "duration": 1,
    "start_time": "2022-04-19T10:41:38.098Z"
   },
   {
    "duration": 0,
    "start_time": "2022-04-19T10:41:38.101Z"
   },
   {
    "duration": 0,
    "start_time": "2022-04-19T10:41:38.103Z"
   },
   {
    "duration": 0,
    "start_time": "2022-04-19T10:41:38.105Z"
   },
   {
    "duration": 0,
    "start_time": "2022-04-19T10:41:38.107Z"
   },
   {
    "duration": 0,
    "start_time": "2022-04-19T10:41:38.109Z"
   },
   {
    "duration": 0,
    "start_time": "2022-04-19T10:41:38.111Z"
   },
   {
    "duration": 0,
    "start_time": "2022-04-19T10:41:38.113Z"
   },
   {
    "duration": 0,
    "start_time": "2022-04-19T10:41:38.115Z"
   },
   {
    "duration": 0,
    "start_time": "2022-04-19T10:41:38.117Z"
   },
   {
    "duration": 0,
    "start_time": "2022-04-19T10:41:38.119Z"
   },
   {
    "duration": 0,
    "start_time": "2022-04-19T10:41:38.121Z"
   },
   {
    "duration": 0,
    "start_time": "2022-04-19T10:41:38.124Z"
   },
   {
    "duration": 0,
    "start_time": "2022-04-19T10:41:38.126Z"
   },
   {
    "duration": 0,
    "start_time": "2022-04-19T10:41:38.128Z"
   },
   {
    "duration": 0,
    "start_time": "2022-04-19T10:41:38.129Z"
   },
   {
    "duration": 0,
    "start_time": "2022-04-19T10:41:38.131Z"
   },
   {
    "duration": 0,
    "start_time": "2022-04-19T10:41:38.193Z"
   },
   {
    "duration": 0,
    "start_time": "2022-04-19T10:41:38.196Z"
   },
   {
    "duration": 0,
    "start_time": "2022-04-19T10:41:38.197Z"
   },
   {
    "duration": 0,
    "start_time": "2022-04-19T10:41:38.200Z"
   },
   {
    "duration": 0,
    "start_time": "2022-04-19T10:41:38.202Z"
   },
   {
    "duration": 0,
    "start_time": "2022-04-19T10:41:38.204Z"
   },
   {
    "duration": 0,
    "start_time": "2022-04-19T10:41:38.206Z"
   },
   {
    "duration": 0,
    "start_time": "2022-04-19T10:41:38.208Z"
   },
   {
    "duration": 0,
    "start_time": "2022-04-19T10:41:38.210Z"
   },
   {
    "duration": 0,
    "start_time": "2022-04-19T10:41:38.212Z"
   },
   {
    "duration": 1,
    "start_time": "2022-04-19T10:41:38.214Z"
   },
   {
    "duration": 0,
    "start_time": "2022-04-19T10:41:38.216Z"
   },
   {
    "duration": 0,
    "start_time": "2022-04-19T10:41:38.218Z"
   },
   {
    "duration": 0,
    "start_time": "2022-04-19T10:41:38.220Z"
   },
   {
    "duration": 0,
    "start_time": "2022-04-19T10:41:38.222Z"
   },
   {
    "duration": 0,
    "start_time": "2022-04-19T10:41:38.224Z"
   },
   {
    "duration": 0,
    "start_time": "2022-04-19T10:41:38.226Z"
   },
   {
    "duration": 0,
    "start_time": "2022-04-19T10:41:38.228Z"
   },
   {
    "duration": 7,
    "start_time": "2022-04-19T10:42:00.586Z"
   },
   {
    "duration": 6,
    "start_time": "2022-04-19T10:42:02.650Z"
   },
   {
    "duration": 5,
    "start_time": "2022-04-19T10:42:09.633Z"
   },
   {
    "duration": 5,
    "start_time": "2022-04-19T10:42:15.467Z"
   },
   {
    "duration": 12,
    "start_time": "2022-04-19T10:42:23.848Z"
   },
   {
    "duration": 7,
    "start_time": "2022-04-19T10:43:27.382Z"
   },
   {
    "duration": 1425,
    "start_time": "2022-04-19T10:44:11.894Z"
   },
   {
    "duration": 212,
    "start_time": "2022-04-19T10:44:13.322Z"
   },
   {
    "duration": 21,
    "start_time": "2022-04-19T10:44:13.536Z"
   },
   {
    "duration": 7,
    "start_time": "2022-04-19T10:44:13.560Z"
   },
   {
    "duration": 3,
    "start_time": "2022-04-19T10:44:13.593Z"
   },
   {
    "duration": 23,
    "start_time": "2022-04-19T10:44:13.599Z"
   },
   {
    "duration": 12,
    "start_time": "2022-04-19T10:44:13.624Z"
   },
   {
    "duration": 165,
    "start_time": "2022-04-19T10:44:13.638Z"
   },
   {
    "duration": 0,
    "start_time": "2022-04-19T10:44:13.811Z"
   },
   {
    "duration": 0,
    "start_time": "2022-04-19T10:44:13.813Z"
   },
   {
    "duration": 0,
    "start_time": "2022-04-19T10:44:13.814Z"
   },
   {
    "duration": 0,
    "start_time": "2022-04-19T10:44:13.815Z"
   },
   {
    "duration": 0,
    "start_time": "2022-04-19T10:44:13.817Z"
   },
   {
    "duration": 0,
    "start_time": "2022-04-19T10:44:13.818Z"
   },
   {
    "duration": 0,
    "start_time": "2022-04-19T10:44:13.820Z"
   },
   {
    "duration": 0,
    "start_time": "2022-04-19T10:44:13.821Z"
   },
   {
    "duration": 0,
    "start_time": "2022-04-19T10:44:13.823Z"
   },
   {
    "duration": 0,
    "start_time": "2022-04-19T10:44:13.824Z"
   },
   {
    "duration": 0,
    "start_time": "2022-04-19T10:44:13.825Z"
   },
   {
    "duration": 0,
    "start_time": "2022-04-19T10:44:13.827Z"
   },
   {
    "duration": 0,
    "start_time": "2022-04-19T10:44:13.828Z"
   },
   {
    "duration": 0,
    "start_time": "2022-04-19T10:44:13.830Z"
   },
   {
    "duration": 0,
    "start_time": "2022-04-19T10:44:13.831Z"
   },
   {
    "duration": 0,
    "start_time": "2022-04-19T10:44:13.832Z"
   },
   {
    "duration": 0,
    "start_time": "2022-04-19T10:44:13.834Z"
   },
   {
    "duration": 0,
    "start_time": "2022-04-19T10:44:13.835Z"
   },
   {
    "duration": 0,
    "start_time": "2022-04-19T10:44:13.836Z"
   },
   {
    "duration": 0,
    "start_time": "2022-04-19T10:44:13.837Z"
   },
   {
    "duration": 0,
    "start_time": "2022-04-19T10:44:13.839Z"
   },
   {
    "duration": 0,
    "start_time": "2022-04-19T10:44:13.840Z"
   },
   {
    "duration": 0,
    "start_time": "2022-04-19T10:44:13.893Z"
   },
   {
    "duration": 0,
    "start_time": "2022-04-19T10:44:13.895Z"
   },
   {
    "duration": 0,
    "start_time": "2022-04-19T10:44:13.896Z"
   },
   {
    "duration": 0,
    "start_time": "2022-04-19T10:44:13.897Z"
   },
   {
    "duration": 0,
    "start_time": "2022-04-19T10:44:13.898Z"
   },
   {
    "duration": 0,
    "start_time": "2022-04-19T10:44:13.900Z"
   },
   {
    "duration": 0,
    "start_time": "2022-04-19T10:44:13.901Z"
   },
   {
    "duration": 0,
    "start_time": "2022-04-19T10:44:13.903Z"
   },
   {
    "duration": 0,
    "start_time": "2022-04-19T10:44:13.904Z"
   },
   {
    "duration": 0,
    "start_time": "2022-04-19T10:44:13.905Z"
   },
   {
    "duration": 0,
    "start_time": "2022-04-19T10:44:13.907Z"
   },
   {
    "duration": 0,
    "start_time": "2022-04-19T10:44:13.908Z"
   },
   {
    "duration": 0,
    "start_time": "2022-04-19T10:44:13.909Z"
   },
   {
    "duration": 0,
    "start_time": "2022-04-19T10:44:13.910Z"
   },
   {
    "duration": 0,
    "start_time": "2022-04-19T10:44:13.912Z"
   },
   {
    "duration": 0,
    "start_time": "2022-04-19T10:44:13.913Z"
   },
   {
    "duration": 0,
    "start_time": "2022-04-19T10:44:13.914Z"
   },
   {
    "duration": 0,
    "start_time": "2022-04-19T10:44:13.915Z"
   },
   {
    "duration": 0,
    "start_time": "2022-04-19T10:44:13.917Z"
   },
   {
    "duration": 0,
    "start_time": "2022-04-19T10:44:13.918Z"
   },
   {
    "duration": 0,
    "start_time": "2022-04-19T10:44:13.920Z"
   },
   {
    "duration": 0,
    "start_time": "2022-04-19T10:44:13.921Z"
   },
   {
    "duration": 0,
    "start_time": "2022-04-19T10:44:13.923Z"
   },
   {
    "duration": 0,
    "start_time": "2022-04-19T10:44:13.924Z"
   },
   {
    "duration": 0,
    "start_time": "2022-04-19T10:44:13.925Z"
   },
   {
    "duration": 0,
    "start_time": "2022-04-19T10:44:13.927Z"
   },
   {
    "duration": 0,
    "start_time": "2022-04-19T10:44:13.928Z"
   },
   {
    "duration": 0,
    "start_time": "2022-04-19T10:44:13.993Z"
   },
   {
    "duration": 0,
    "start_time": "2022-04-19T10:44:13.994Z"
   },
   {
    "duration": 0,
    "start_time": "2022-04-19T10:44:13.995Z"
   },
   {
    "duration": 0,
    "start_time": "2022-04-19T10:44:13.997Z"
   },
   {
    "duration": 0,
    "start_time": "2022-04-19T10:44:13.998Z"
   },
   {
    "duration": 0,
    "start_time": "2022-04-19T10:44:13.999Z"
   },
   {
    "duration": 0,
    "start_time": "2022-04-19T10:44:14.001Z"
   },
   {
    "duration": 0,
    "start_time": "2022-04-19T10:44:14.003Z"
   },
   {
    "duration": 0,
    "start_time": "2022-04-19T10:44:14.004Z"
   },
   {
    "duration": 0,
    "start_time": "2022-04-19T10:44:14.005Z"
   },
   {
    "duration": 0,
    "start_time": "2022-04-19T10:44:14.007Z"
   },
   {
    "duration": 0,
    "start_time": "2022-04-19T10:44:14.008Z"
   },
   {
    "duration": 0,
    "start_time": "2022-04-19T10:44:14.010Z"
   },
   {
    "duration": 0,
    "start_time": "2022-04-19T10:44:14.011Z"
   },
   {
    "duration": 0,
    "start_time": "2022-04-19T10:44:14.013Z"
   },
   {
    "duration": 0,
    "start_time": "2022-04-19T10:44:14.015Z"
   },
   {
    "duration": 0,
    "start_time": "2022-04-19T10:44:14.016Z"
   },
   {
    "duration": 0,
    "start_time": "2022-04-19T10:44:14.018Z"
   },
   {
    "duration": 0,
    "start_time": "2022-04-19T10:44:14.019Z"
   },
   {
    "duration": 0,
    "start_time": "2022-04-19T10:44:14.021Z"
   },
   {
    "duration": 0,
    "start_time": "2022-04-19T10:44:14.022Z"
   },
   {
    "duration": 0,
    "start_time": "2022-04-19T10:44:14.024Z"
   },
   {
    "duration": 0,
    "start_time": "2022-04-19T10:44:14.025Z"
   },
   {
    "duration": 0,
    "start_time": "2022-04-19T10:44:14.026Z"
   },
   {
    "duration": 0,
    "start_time": "2022-04-19T10:44:14.028Z"
   },
   {
    "duration": 0,
    "start_time": "2022-04-19T10:44:14.029Z"
   },
   {
    "duration": 0,
    "start_time": "2022-04-19T10:44:14.094Z"
   },
   {
    "duration": 0,
    "start_time": "2022-04-19T10:44:14.095Z"
   },
   {
    "duration": 0,
    "start_time": "2022-04-19T10:44:14.096Z"
   },
   {
    "duration": 0,
    "start_time": "2022-04-19T10:44:14.097Z"
   },
   {
    "duration": 0,
    "start_time": "2022-04-19T10:44:14.099Z"
   },
   {
    "duration": 0,
    "start_time": "2022-04-19T10:44:14.101Z"
   },
   {
    "duration": 0,
    "start_time": "2022-04-19T10:44:14.102Z"
   },
   {
    "duration": 0,
    "start_time": "2022-04-19T10:44:14.104Z"
   },
   {
    "duration": 0,
    "start_time": "2022-04-19T10:44:14.105Z"
   },
   {
    "duration": 0,
    "start_time": "2022-04-19T10:44:14.107Z"
   },
   {
    "duration": 0,
    "start_time": "2022-04-19T10:44:14.108Z"
   },
   {
    "duration": 0,
    "start_time": "2022-04-19T10:44:14.110Z"
   },
   {
    "duration": 0,
    "start_time": "2022-04-19T10:44:14.111Z"
   },
   {
    "duration": 0,
    "start_time": "2022-04-19T10:44:14.113Z"
   },
   {
    "duration": 0,
    "start_time": "2022-04-19T10:44:14.114Z"
   },
   {
    "duration": 0,
    "start_time": "2022-04-19T10:44:14.116Z"
   },
   {
    "duration": 0,
    "start_time": "2022-04-19T10:44:14.117Z"
   },
   {
    "duration": 0,
    "start_time": "2022-04-19T10:44:14.118Z"
   },
   {
    "duration": 0,
    "start_time": "2022-04-19T10:44:14.120Z"
   },
   {
    "duration": 0,
    "start_time": "2022-04-19T10:44:14.121Z"
   },
   {
    "duration": 0,
    "start_time": "2022-04-19T10:44:14.122Z"
   },
   {
    "duration": 0,
    "start_time": "2022-04-19T10:44:14.124Z"
   },
   {
    "duration": 0,
    "start_time": "2022-04-19T10:44:14.125Z"
   },
   {
    "duration": 0,
    "start_time": "2022-04-19T10:44:14.127Z"
   },
   {
    "duration": 0,
    "start_time": "2022-04-19T10:44:14.194Z"
   },
   {
    "duration": 0,
    "start_time": "2022-04-19T10:44:14.196Z"
   },
   {
    "duration": 0,
    "start_time": "2022-04-19T10:44:14.198Z"
   },
   {
    "duration": 0,
    "start_time": "2022-04-19T10:44:14.199Z"
   },
   {
    "duration": 0,
    "start_time": "2022-04-19T10:44:14.201Z"
   },
   {
    "duration": 0,
    "start_time": "2022-04-19T10:44:14.203Z"
   },
   {
    "duration": 0,
    "start_time": "2022-04-19T10:44:14.205Z"
   },
   {
    "duration": 1507,
    "start_time": "2022-04-19T10:52:17.837Z"
   },
   {
    "duration": 167,
    "start_time": "2022-04-19T10:52:19.347Z"
   },
   {
    "duration": 22,
    "start_time": "2022-04-19T10:52:19.517Z"
   },
   {
    "duration": 7,
    "start_time": "2022-04-19T10:52:19.543Z"
   },
   {
    "duration": 40,
    "start_time": "2022-04-19T10:52:19.553Z"
   },
   {
    "duration": 27,
    "start_time": "2022-04-19T10:52:19.595Z"
   },
   {
    "duration": 15,
    "start_time": "2022-04-19T10:52:19.625Z"
   },
   {
    "duration": 169,
    "start_time": "2022-04-19T10:52:19.642Z"
   },
   {
    "duration": 0,
    "start_time": "2022-04-19T10:52:19.820Z"
   },
   {
    "duration": 0,
    "start_time": "2022-04-19T10:52:19.821Z"
   },
   {
    "duration": 0,
    "start_time": "2022-04-19T10:52:19.823Z"
   },
   {
    "duration": 0,
    "start_time": "2022-04-19T10:52:19.824Z"
   },
   {
    "duration": 0,
    "start_time": "2022-04-19T10:52:19.826Z"
   },
   {
    "duration": 0,
    "start_time": "2022-04-19T10:52:19.827Z"
   },
   {
    "duration": 0,
    "start_time": "2022-04-19T10:52:19.828Z"
   },
   {
    "duration": 0,
    "start_time": "2022-04-19T10:52:19.830Z"
   },
   {
    "duration": 0,
    "start_time": "2022-04-19T10:52:19.831Z"
   },
   {
    "duration": 0,
    "start_time": "2022-04-19T10:52:19.832Z"
   },
   {
    "duration": 0,
    "start_time": "2022-04-19T10:52:19.834Z"
   },
   {
    "duration": 0,
    "start_time": "2022-04-19T10:52:19.835Z"
   },
   {
    "duration": 0,
    "start_time": "2022-04-19T10:52:19.837Z"
   },
   {
    "duration": 0,
    "start_time": "2022-04-19T10:52:19.838Z"
   },
   {
    "duration": 0,
    "start_time": "2022-04-19T10:52:19.840Z"
   },
   {
    "duration": 0,
    "start_time": "2022-04-19T10:52:19.841Z"
   },
   {
    "duration": 0,
    "start_time": "2022-04-19T10:52:19.843Z"
   },
   {
    "duration": 0,
    "start_time": "2022-04-19T10:52:19.844Z"
   },
   {
    "duration": 1,
    "start_time": "2022-04-19T10:52:19.845Z"
   },
   {
    "duration": 0,
    "start_time": "2022-04-19T10:52:19.847Z"
   },
   {
    "duration": 0,
    "start_time": "2022-04-19T10:52:19.848Z"
   },
   {
    "duration": 0,
    "start_time": "2022-04-19T10:52:19.850Z"
   },
   {
    "duration": 0,
    "start_time": "2022-04-19T10:52:19.893Z"
   },
   {
    "duration": 0,
    "start_time": "2022-04-19T10:52:19.895Z"
   },
   {
    "duration": 0,
    "start_time": "2022-04-19T10:52:19.896Z"
   },
   {
    "duration": 0,
    "start_time": "2022-04-19T10:52:19.897Z"
   },
   {
    "duration": 0,
    "start_time": "2022-04-19T10:52:19.898Z"
   },
   {
    "duration": 0,
    "start_time": "2022-04-19T10:52:19.899Z"
   },
   {
    "duration": 0,
    "start_time": "2022-04-19T10:52:19.901Z"
   },
   {
    "duration": 0,
    "start_time": "2022-04-19T10:52:19.902Z"
   },
   {
    "duration": 0,
    "start_time": "2022-04-19T10:52:19.904Z"
   },
   {
    "duration": 0,
    "start_time": "2022-04-19T10:52:19.905Z"
   },
   {
    "duration": 0,
    "start_time": "2022-04-19T10:52:19.906Z"
   },
   {
    "duration": 0,
    "start_time": "2022-04-19T10:52:19.908Z"
   },
   {
    "duration": 0,
    "start_time": "2022-04-19T10:52:19.909Z"
   },
   {
    "duration": 0,
    "start_time": "2022-04-19T10:52:19.911Z"
   },
   {
    "duration": 0,
    "start_time": "2022-04-19T10:52:19.912Z"
   },
   {
    "duration": 0,
    "start_time": "2022-04-19T10:52:19.914Z"
   },
   {
    "duration": 0,
    "start_time": "2022-04-19T10:52:19.915Z"
   },
   {
    "duration": 0,
    "start_time": "2022-04-19T10:52:19.917Z"
   },
   {
    "duration": 0,
    "start_time": "2022-04-19T10:52:19.919Z"
   },
   {
    "duration": 0,
    "start_time": "2022-04-19T10:52:19.920Z"
   },
   {
    "duration": 0,
    "start_time": "2022-04-19T10:52:19.921Z"
   },
   {
    "duration": 0,
    "start_time": "2022-04-19T10:52:19.922Z"
   },
   {
    "duration": 0,
    "start_time": "2022-04-19T10:52:19.924Z"
   },
   {
    "duration": 0,
    "start_time": "2022-04-19T10:52:19.925Z"
   },
   {
    "duration": 0,
    "start_time": "2022-04-19T10:52:19.926Z"
   },
   {
    "duration": 0,
    "start_time": "2022-04-19T10:52:19.928Z"
   },
   {
    "duration": 0,
    "start_time": "2022-04-19T10:52:19.993Z"
   },
   {
    "duration": 0,
    "start_time": "2022-04-19T10:52:19.995Z"
   },
   {
    "duration": 0,
    "start_time": "2022-04-19T10:52:19.997Z"
   },
   {
    "duration": 0,
    "start_time": "2022-04-19T10:52:19.998Z"
   },
   {
    "duration": 0,
    "start_time": "2022-04-19T10:52:20.000Z"
   },
   {
    "duration": 0,
    "start_time": "2022-04-19T10:52:20.001Z"
   },
   {
    "duration": 0,
    "start_time": "2022-04-19T10:52:20.003Z"
   },
   {
    "duration": 0,
    "start_time": "2022-04-19T10:52:20.004Z"
   },
   {
    "duration": 0,
    "start_time": "2022-04-19T10:52:20.006Z"
   },
   {
    "duration": 0,
    "start_time": "2022-04-19T10:52:20.007Z"
   },
   {
    "duration": 0,
    "start_time": "2022-04-19T10:52:20.009Z"
   },
   {
    "duration": 0,
    "start_time": "2022-04-19T10:52:20.011Z"
   },
   {
    "duration": 0,
    "start_time": "2022-04-19T10:52:20.013Z"
   },
   {
    "duration": 0,
    "start_time": "2022-04-19T10:52:20.014Z"
   },
   {
    "duration": 0,
    "start_time": "2022-04-19T10:52:20.016Z"
   },
   {
    "duration": 0,
    "start_time": "2022-04-19T10:52:20.017Z"
   },
   {
    "duration": 0,
    "start_time": "2022-04-19T10:52:20.019Z"
   },
   {
    "duration": 0,
    "start_time": "2022-04-19T10:52:20.020Z"
   },
   {
    "duration": 0,
    "start_time": "2022-04-19T10:52:20.022Z"
   },
   {
    "duration": 0,
    "start_time": "2022-04-19T10:52:20.023Z"
   },
   {
    "duration": 0,
    "start_time": "2022-04-19T10:52:20.025Z"
   },
   {
    "duration": 0,
    "start_time": "2022-04-19T10:52:20.027Z"
   },
   {
    "duration": 0,
    "start_time": "2022-04-19T10:52:20.028Z"
   },
   {
    "duration": 0,
    "start_time": "2022-04-19T10:52:20.094Z"
   },
   {
    "duration": 0,
    "start_time": "2022-04-19T10:52:20.095Z"
   },
   {
    "duration": 0,
    "start_time": "2022-04-19T10:52:20.097Z"
   },
   {
    "duration": 0,
    "start_time": "2022-04-19T10:52:20.098Z"
   },
   {
    "duration": 0,
    "start_time": "2022-04-19T10:52:20.100Z"
   },
   {
    "duration": 0,
    "start_time": "2022-04-19T10:52:20.102Z"
   },
   {
    "duration": 0,
    "start_time": "2022-04-19T10:52:20.103Z"
   },
   {
    "duration": 0,
    "start_time": "2022-04-19T10:52:20.105Z"
   },
   {
    "duration": 0,
    "start_time": "2022-04-19T10:52:20.106Z"
   },
   {
    "duration": 0,
    "start_time": "2022-04-19T10:52:20.108Z"
   },
   {
    "duration": 0,
    "start_time": "2022-04-19T10:52:20.109Z"
   },
   {
    "duration": 0,
    "start_time": "2022-04-19T10:52:20.110Z"
   },
   {
    "duration": 0,
    "start_time": "2022-04-19T10:52:20.112Z"
   },
   {
    "duration": 0,
    "start_time": "2022-04-19T10:52:20.113Z"
   },
   {
    "duration": 0,
    "start_time": "2022-04-19T10:52:20.115Z"
   },
   {
    "duration": 0,
    "start_time": "2022-04-19T10:52:20.116Z"
   },
   {
    "duration": 0,
    "start_time": "2022-04-19T10:52:20.118Z"
   },
   {
    "duration": 0,
    "start_time": "2022-04-19T10:52:20.120Z"
   },
   {
    "duration": 0,
    "start_time": "2022-04-19T10:52:20.121Z"
   },
   {
    "duration": 0,
    "start_time": "2022-04-19T10:52:20.123Z"
   },
   {
    "duration": 0,
    "start_time": "2022-04-19T10:52:20.125Z"
   },
   {
    "duration": 0,
    "start_time": "2022-04-19T10:52:20.126Z"
   },
   {
    "duration": 0,
    "start_time": "2022-04-19T10:52:20.128Z"
   },
   {
    "duration": 1,
    "start_time": "2022-04-19T10:52:20.193Z"
   },
   {
    "duration": 0,
    "start_time": "2022-04-19T10:52:20.195Z"
   },
   {
    "duration": 0,
    "start_time": "2022-04-19T10:52:20.197Z"
   },
   {
    "duration": 0,
    "start_time": "2022-04-19T10:52:20.198Z"
   },
   {
    "duration": 0,
    "start_time": "2022-04-19T10:52:20.199Z"
   },
   {
    "duration": 0,
    "start_time": "2022-04-19T10:52:20.200Z"
   },
   {
    "duration": 0,
    "start_time": "2022-04-19T10:52:20.201Z"
   },
   {
    "duration": 0,
    "start_time": "2022-04-19T10:52:20.203Z"
   },
   {
    "duration": 0,
    "start_time": "2022-04-19T10:52:20.204Z"
   },
   {
    "duration": 0,
    "start_time": "2022-04-19T10:52:20.206Z"
   },
   {
    "duration": 0,
    "start_time": "2022-04-19T10:52:20.207Z"
   },
   {
    "duration": 0,
    "start_time": "2022-04-19T10:52:20.208Z"
   },
   {
    "duration": 1436,
    "start_time": "2022-04-19T10:52:52.694Z"
   },
   {
    "duration": 161,
    "start_time": "2022-04-19T10:52:54.133Z"
   },
   {
    "duration": 23,
    "start_time": "2022-04-19T10:52:54.296Z"
   },
   {
    "duration": 8,
    "start_time": "2022-04-19T10:52:54.323Z"
   },
   {
    "duration": 171,
    "start_time": "2022-04-19T10:52:54.333Z"
   },
   {
    "duration": 0,
    "start_time": "2022-04-19T10:52:54.513Z"
   },
   {
    "duration": 0,
    "start_time": "2022-04-19T10:52:54.515Z"
   },
   {
    "duration": 0,
    "start_time": "2022-04-19T10:52:54.517Z"
   },
   {
    "duration": 0,
    "start_time": "2022-04-19T10:52:54.519Z"
   },
   {
    "duration": 0,
    "start_time": "2022-04-19T10:52:54.520Z"
   },
   {
    "duration": 0,
    "start_time": "2022-04-19T10:52:54.522Z"
   },
   {
    "duration": 0,
    "start_time": "2022-04-19T10:52:54.523Z"
   },
   {
    "duration": 0,
    "start_time": "2022-04-19T10:52:54.524Z"
   },
   {
    "duration": 0,
    "start_time": "2022-04-19T10:52:54.525Z"
   },
   {
    "duration": 0,
    "start_time": "2022-04-19T10:52:54.526Z"
   },
   {
    "duration": 0,
    "start_time": "2022-04-19T10:52:54.527Z"
   },
   {
    "duration": 0,
    "start_time": "2022-04-19T10:52:54.529Z"
   },
   {
    "duration": 0,
    "start_time": "2022-04-19T10:52:54.530Z"
   },
   {
    "duration": 0,
    "start_time": "2022-04-19T10:52:54.531Z"
   },
   {
    "duration": 0,
    "start_time": "2022-04-19T10:52:54.533Z"
   },
   {
    "duration": 0,
    "start_time": "2022-04-19T10:52:54.534Z"
   },
   {
    "duration": 0,
    "start_time": "2022-04-19T10:52:54.535Z"
   },
   {
    "duration": 0,
    "start_time": "2022-04-19T10:52:54.537Z"
   },
   {
    "duration": 0,
    "start_time": "2022-04-19T10:52:54.538Z"
   },
   {
    "duration": 0,
    "start_time": "2022-04-19T10:52:54.539Z"
   },
   {
    "duration": 0,
    "start_time": "2022-04-19T10:52:54.540Z"
   },
   {
    "duration": 0,
    "start_time": "2022-04-19T10:52:54.541Z"
   },
   {
    "duration": 0,
    "start_time": "2022-04-19T10:52:54.594Z"
   },
   {
    "duration": 0,
    "start_time": "2022-04-19T10:52:54.595Z"
   },
   {
    "duration": 0,
    "start_time": "2022-04-19T10:52:54.596Z"
   },
   {
    "duration": 0,
    "start_time": "2022-04-19T10:52:54.598Z"
   },
   {
    "duration": 0,
    "start_time": "2022-04-19T10:52:54.599Z"
   },
   {
    "duration": 0,
    "start_time": "2022-04-19T10:52:54.600Z"
   },
   {
    "duration": 0,
    "start_time": "2022-04-19T10:52:54.602Z"
   },
   {
    "duration": 0,
    "start_time": "2022-04-19T10:52:54.603Z"
   },
   {
    "duration": 0,
    "start_time": "2022-04-19T10:52:54.604Z"
   },
   {
    "duration": 1,
    "start_time": "2022-04-19T10:52:54.605Z"
   },
   {
    "duration": 0,
    "start_time": "2022-04-19T10:52:54.607Z"
   },
   {
    "duration": 0,
    "start_time": "2022-04-19T10:52:54.608Z"
   },
   {
    "duration": 0,
    "start_time": "2022-04-19T10:52:54.609Z"
   },
   {
    "duration": 0,
    "start_time": "2022-04-19T10:52:54.610Z"
   },
   {
    "duration": 0,
    "start_time": "2022-04-19T10:52:54.612Z"
   },
   {
    "duration": 0,
    "start_time": "2022-04-19T10:52:54.613Z"
   },
   {
    "duration": 0,
    "start_time": "2022-04-19T10:52:54.615Z"
   },
   {
    "duration": 0,
    "start_time": "2022-04-19T10:52:54.617Z"
   },
   {
    "duration": 0,
    "start_time": "2022-04-19T10:52:54.618Z"
   },
   {
    "duration": 0,
    "start_time": "2022-04-19T10:52:54.620Z"
   },
   {
    "duration": 0,
    "start_time": "2022-04-19T10:52:54.622Z"
   },
   {
    "duration": 0,
    "start_time": "2022-04-19T10:52:54.623Z"
   },
   {
    "duration": 0,
    "start_time": "2022-04-19T10:52:54.625Z"
   },
   {
    "duration": 0,
    "start_time": "2022-04-19T10:52:54.626Z"
   },
   {
    "duration": 0,
    "start_time": "2022-04-19T10:52:54.628Z"
   },
   {
    "duration": 0,
    "start_time": "2022-04-19T10:52:54.695Z"
   },
   {
    "duration": 0,
    "start_time": "2022-04-19T10:52:54.697Z"
   },
   {
    "duration": 0,
    "start_time": "2022-04-19T10:52:54.699Z"
   },
   {
    "duration": 0,
    "start_time": "2022-04-19T10:52:54.701Z"
   },
   {
    "duration": 0,
    "start_time": "2022-04-19T10:52:54.702Z"
   },
   {
    "duration": 0,
    "start_time": "2022-04-19T10:52:54.703Z"
   },
   {
    "duration": 0,
    "start_time": "2022-04-19T10:52:54.705Z"
   },
   {
    "duration": 0,
    "start_time": "2022-04-19T10:52:54.706Z"
   },
   {
    "duration": 0,
    "start_time": "2022-04-19T10:52:54.708Z"
   },
   {
    "duration": 0,
    "start_time": "2022-04-19T10:52:54.709Z"
   },
   {
    "duration": 0,
    "start_time": "2022-04-19T10:52:54.711Z"
   },
   {
    "duration": 0,
    "start_time": "2022-04-19T10:52:54.713Z"
   },
   {
    "duration": 0,
    "start_time": "2022-04-19T10:52:54.714Z"
   },
   {
    "duration": 0,
    "start_time": "2022-04-19T10:52:54.716Z"
   },
   {
    "duration": 0,
    "start_time": "2022-04-19T10:52:54.717Z"
   },
   {
    "duration": 0,
    "start_time": "2022-04-19T10:52:54.719Z"
   },
   {
    "duration": 0,
    "start_time": "2022-04-19T10:52:54.720Z"
   },
   {
    "duration": 0,
    "start_time": "2022-04-19T10:52:54.722Z"
   },
   {
    "duration": 0,
    "start_time": "2022-04-19T10:52:54.723Z"
   },
   {
    "duration": 0,
    "start_time": "2022-04-19T10:52:54.725Z"
   },
   {
    "duration": 0,
    "start_time": "2022-04-19T10:52:54.726Z"
   },
   {
    "duration": 0,
    "start_time": "2022-04-19T10:52:54.727Z"
   },
   {
    "duration": 0,
    "start_time": "2022-04-19T10:52:54.729Z"
   },
   {
    "duration": 1,
    "start_time": "2022-04-19T10:52:54.793Z"
   },
   {
    "duration": 0,
    "start_time": "2022-04-19T10:52:54.795Z"
   },
   {
    "duration": 0,
    "start_time": "2022-04-19T10:52:54.797Z"
   },
   {
    "duration": 0,
    "start_time": "2022-04-19T10:52:54.798Z"
   },
   {
    "duration": 0,
    "start_time": "2022-04-19T10:52:54.799Z"
   },
   {
    "duration": 0,
    "start_time": "2022-04-19T10:52:54.801Z"
   },
   {
    "duration": 0,
    "start_time": "2022-04-19T10:52:54.802Z"
   },
   {
    "duration": 0,
    "start_time": "2022-04-19T10:52:54.803Z"
   },
   {
    "duration": 0,
    "start_time": "2022-04-19T10:52:54.804Z"
   },
   {
    "duration": 0,
    "start_time": "2022-04-19T10:52:54.806Z"
   },
   {
    "duration": 0,
    "start_time": "2022-04-19T10:52:54.807Z"
   },
   {
    "duration": 0,
    "start_time": "2022-04-19T10:52:54.809Z"
   },
   {
    "duration": 0,
    "start_time": "2022-04-19T10:52:54.810Z"
   },
   {
    "duration": 0,
    "start_time": "2022-04-19T10:52:54.812Z"
   },
   {
    "duration": 0,
    "start_time": "2022-04-19T10:52:54.813Z"
   },
   {
    "duration": 0,
    "start_time": "2022-04-19T10:52:54.814Z"
   },
   {
    "duration": 0,
    "start_time": "2022-04-19T10:52:54.816Z"
   },
   {
    "duration": 0,
    "start_time": "2022-04-19T10:52:54.817Z"
   },
   {
    "duration": 0,
    "start_time": "2022-04-19T10:52:54.818Z"
   },
   {
    "duration": 0,
    "start_time": "2022-04-19T10:52:54.820Z"
   },
   {
    "duration": 0,
    "start_time": "2022-04-19T10:52:54.821Z"
   },
   {
    "duration": 0,
    "start_time": "2022-04-19T10:52:54.822Z"
   },
   {
    "duration": 0,
    "start_time": "2022-04-19T10:52:54.824Z"
   },
   {
    "duration": 0,
    "start_time": "2022-04-19T10:52:54.825Z"
   },
   {
    "duration": 0,
    "start_time": "2022-04-19T10:52:54.827Z"
   },
   {
    "duration": 0,
    "start_time": "2022-04-19T10:52:54.829Z"
   },
   {
    "duration": 0,
    "start_time": "2022-04-19T10:52:54.830Z"
   },
   {
    "duration": 0,
    "start_time": "2022-04-19T10:52:54.897Z"
   },
   {
    "duration": 0,
    "start_time": "2022-04-19T10:52:54.899Z"
   },
   {
    "duration": 0,
    "start_time": "2022-04-19T10:52:54.900Z"
   },
   {
    "duration": 0,
    "start_time": "2022-04-19T10:52:54.902Z"
   },
   {
    "duration": 0,
    "start_time": "2022-04-19T10:52:54.904Z"
   },
   {
    "duration": 0,
    "start_time": "2022-04-19T10:52:54.905Z"
   },
   {
    "duration": 0,
    "start_time": "2022-04-19T10:52:54.906Z"
   },
   {
    "duration": 0,
    "start_time": "2022-04-19T10:52:54.908Z"
   },
   {
    "duration": 0,
    "start_time": "2022-04-19T10:52:54.909Z"
   },
   {
    "duration": 0,
    "start_time": "2022-04-19T10:52:54.911Z"
   },
   {
    "duration": 0,
    "start_time": "2022-04-19T10:52:54.912Z"
   },
   {
    "duration": 0,
    "start_time": "2022-04-19T10:52:54.913Z"
   },
   {
    "duration": 0,
    "start_time": "2022-04-19T10:52:54.914Z"
   },
   {
    "duration": 1727,
    "start_time": "2022-04-19T10:53:15.783Z"
   },
   {
    "duration": 282,
    "start_time": "2022-04-19T10:53:17.513Z"
   },
   {
    "duration": 23,
    "start_time": "2022-04-19T10:53:17.798Z"
   },
   {
    "duration": 6,
    "start_time": "2022-04-19T10:53:17.824Z"
   },
   {
    "duration": 63,
    "start_time": "2022-04-19T10:53:17.832Z"
   },
   {
    "duration": 20,
    "start_time": "2022-04-19T10:53:17.898Z"
   },
   {
    "duration": 14,
    "start_time": "2022-04-19T10:53:17.920Z"
   },
   {
    "duration": 75,
    "start_time": "2022-04-19T10:53:17.937Z"
   },
   {
    "duration": 18,
    "start_time": "2022-04-19T10:53:18.014Z"
   },
   {
    "duration": 67,
    "start_time": "2022-04-19T10:53:18.036Z"
   },
   {
    "duration": 19,
    "start_time": "2022-04-19T10:53:18.106Z"
   },
   {
    "duration": 15,
    "start_time": "2022-04-19T10:53:18.127Z"
   },
   {
    "duration": 54,
    "start_time": "2022-04-19T10:53:18.144Z"
   },
   {
    "duration": 9,
    "start_time": "2022-04-19T10:53:18.200Z"
   },
   {
    "duration": 13,
    "start_time": "2022-04-19T10:53:18.211Z"
   },
   {
    "duration": 11,
    "start_time": "2022-04-19T10:53:18.226Z"
   },
   {
    "duration": 60,
    "start_time": "2022-04-19T10:53:18.239Z"
   },
   {
    "duration": 23,
    "start_time": "2022-04-19T10:53:18.301Z"
   },
   {
    "duration": 5,
    "start_time": "2022-04-19T10:53:18.326Z"
   },
   {
    "duration": 75,
    "start_time": "2022-04-19T10:53:18.333Z"
   },
   {
    "duration": 1006,
    "start_time": "2022-04-19T10:53:18.410Z"
   },
   {
    "duration": 413,
    "start_time": "2022-04-19T10:53:19.418Z"
   },
   {
    "duration": 28,
    "start_time": "2022-04-19T10:53:19.833Z"
   },
   {
    "duration": 32,
    "start_time": "2022-04-19T10:53:19.863Z"
   },
   {
    "duration": 14,
    "start_time": "2022-04-19T10:53:19.897Z"
   },
   {
    "duration": 9,
    "start_time": "2022-04-19T10:53:19.913Z"
   },
   {
    "duration": 6,
    "start_time": "2022-04-19T10:53:19.924Z"
   },
   {
    "duration": 116,
    "start_time": "2022-04-19T10:53:19.937Z"
   },
   {
    "duration": 6,
    "start_time": "2022-04-19T10:53:20.055Z"
   },
   {
    "duration": 211,
    "start_time": "2022-04-19T10:53:20.064Z"
   },
   {
    "duration": 24,
    "start_time": "2022-04-19T10:53:20.277Z"
   },
   {
    "duration": 214,
    "start_time": "2022-04-19T10:53:20.303Z"
   },
   {
    "duration": 9,
    "start_time": "2022-04-19T10:53:20.520Z"
   },
   {
    "duration": 215,
    "start_time": "2022-04-19T10:53:20.531Z"
   },
   {
    "duration": 10,
    "start_time": "2022-04-19T10:53:20.748Z"
   },
   {
    "duration": 207,
    "start_time": "2022-04-19T10:53:20.760Z"
   },
   {
    "duration": 9,
    "start_time": "2022-04-19T10:53:20.970Z"
   },
   {
    "duration": 205,
    "start_time": "2022-04-19T10:53:20.992Z"
   },
   {
    "duration": 10,
    "start_time": "2022-04-19T10:53:21.200Z"
   },
   {
    "duration": 220,
    "start_time": "2022-04-19T10:53:21.213Z"
   },
   {
    "duration": 9,
    "start_time": "2022-04-19T10:53:21.436Z"
   },
   {
    "duration": 204,
    "start_time": "2022-04-19T10:53:21.448Z"
   },
   {
    "duration": 10,
    "start_time": "2022-04-19T10:53:21.655Z"
   },
   {
    "duration": 277,
    "start_time": "2022-04-19T10:53:21.667Z"
   },
   {
    "duration": 9,
    "start_time": "2022-04-19T10:53:21.947Z"
   },
   {
    "duration": 215,
    "start_time": "2022-04-19T10:53:21.959Z"
   },
   {
    "duration": 20,
    "start_time": "2022-04-19T10:53:22.177Z"
   },
   {
    "duration": 201,
    "start_time": "2022-04-19T10:53:22.200Z"
   },
   {
    "duration": 10,
    "start_time": "2022-04-19T10:53:22.403Z"
   },
   {
    "duration": 195,
    "start_time": "2022-04-19T10:53:22.415Z"
   },
   {
    "duration": 9,
    "start_time": "2022-04-19T10:53:22.613Z"
   },
   {
    "duration": 202,
    "start_time": "2022-04-19T10:53:22.624Z"
   },
   {
    "duration": 9,
    "start_time": "2022-04-19T10:53:22.828Z"
   },
   {
    "duration": 217,
    "start_time": "2022-04-19T10:53:22.839Z"
   },
   {
    "duration": 9,
    "start_time": "2022-04-19T10:53:23.059Z"
   },
   {
    "duration": 207,
    "start_time": "2022-04-19T10:53:23.070Z"
   },
   {
    "duration": 17,
    "start_time": "2022-04-19T10:53:23.279Z"
   },
   {
    "duration": 189,
    "start_time": "2022-04-19T10:53:23.298Z"
   },
   {
    "duration": 9,
    "start_time": "2022-04-19T10:53:23.493Z"
   },
   {
    "duration": 16,
    "start_time": "2022-04-19T10:53:23.504Z"
   },
   {
    "duration": 6,
    "start_time": "2022-04-19T10:53:23.522Z"
   },
   {
    "duration": 9,
    "start_time": "2022-04-19T10:53:23.530Z"
   },
   {
    "duration": 84,
    "start_time": "2022-04-19T10:53:23.541Z"
   },
   {
    "duration": 22,
    "start_time": "2022-04-19T10:53:23.627Z"
   },
   {
    "duration": 6,
    "start_time": "2022-04-19T10:53:23.652Z"
   },
   {
    "duration": 36,
    "start_time": "2022-04-19T10:53:23.660Z"
   },
   {
    "duration": 22,
    "start_time": "2022-04-19T10:53:23.698Z"
   },
   {
    "duration": 7,
    "start_time": "2022-04-19T10:53:23.722Z"
   },
   {
    "duration": 25,
    "start_time": "2022-04-19T10:53:23.731Z"
   },
   {
    "duration": 292,
    "start_time": "2022-04-19T10:53:23.758Z"
   },
   {
    "duration": 279,
    "start_time": "2022-04-19T10:53:24.052Z"
   },
   {
    "duration": 10,
    "start_time": "2022-04-19T10:53:24.333Z"
   },
   {
    "duration": 13,
    "start_time": "2022-04-19T10:53:24.345Z"
   },
   {
    "duration": 38,
    "start_time": "2022-04-19T10:53:24.360Z"
   },
   {
    "duration": 17,
    "start_time": "2022-04-19T10:53:24.400Z"
   },
   {
    "duration": 31,
    "start_time": "2022-04-19T10:53:24.419Z"
   },
   {
    "duration": 7,
    "start_time": "2022-04-19T10:53:24.452Z"
   },
   {
    "duration": 228,
    "start_time": "2022-04-19T10:53:24.461Z"
   },
   {
    "duration": 8,
    "start_time": "2022-04-19T10:53:24.693Z"
   },
   {
    "duration": 298,
    "start_time": "2022-04-19T10:53:24.703Z"
   },
   {
    "duration": 9,
    "start_time": "2022-04-19T10:53:25.004Z"
   },
   {
    "duration": 10,
    "start_time": "2022-04-19T10:53:25.023Z"
   },
   {
    "duration": 224,
    "start_time": "2022-04-19T10:53:25.035Z"
   },
   {
    "duration": 8,
    "start_time": "2022-04-19T10:53:25.262Z"
   },
   {
    "duration": 224,
    "start_time": "2022-04-19T10:53:25.292Z"
   },
   {
    "duration": 7,
    "start_time": "2022-04-19T10:53:25.518Z"
   },
   {
    "duration": 10,
    "start_time": "2022-04-19T10:53:25.527Z"
   },
   {
    "duration": 218,
    "start_time": "2022-04-19T10:53:25.539Z"
   },
   {
    "duration": 7,
    "start_time": "2022-04-19T10:53:25.759Z"
   },
   {
    "duration": 26,
    "start_time": "2022-04-19T10:53:25.768Z"
   },
   {
    "duration": 23,
    "start_time": "2022-04-19T10:53:25.796Z"
   },
   {
    "duration": 286,
    "start_time": "2022-04-19T10:53:25.822Z"
   },
   {
    "duration": 20,
    "start_time": "2022-04-19T10:53:26.110Z"
   },
   {
    "duration": 281,
    "start_time": "2022-04-19T10:53:26.132Z"
   },
   {
    "duration": 26,
    "start_time": "2022-04-19T10:53:26.415Z"
   },
   {
    "duration": 13,
    "start_time": "2022-04-19T10:53:26.443Z"
   },
   {
    "duration": 56,
    "start_time": "2022-04-19T10:53:26.458Z"
   },
   {
    "duration": 14,
    "start_time": "2022-04-19T10:53:26.517Z"
   },
   {
    "duration": 30,
    "start_time": "2022-04-19T10:53:26.533Z"
   },
   {
    "duration": 38,
    "start_time": "2022-04-19T10:53:26.565Z"
   },
   {
    "duration": 12,
    "start_time": "2022-04-19T10:53:26.606Z"
   },
   {
    "duration": 37,
    "start_time": "2022-04-19T10:53:26.620Z"
   },
   {
    "duration": 20,
    "start_time": "2022-04-19T10:53:26.659Z"
   },
   {
    "duration": 27,
    "start_time": "2022-04-19T10:53:26.682Z"
   },
   {
    "duration": 6,
    "start_time": "2022-04-19T10:53:26.711Z"
   },
   {
    "duration": 24,
    "start_time": "2022-04-19T10:53:26.720Z"
   },
   {
    "duration": 23,
    "start_time": "2022-04-19T10:53:26.746Z"
   },
   {
    "duration": 25,
    "start_time": "2022-04-19T10:53:26.771Z"
   },
   {
    "duration": 25,
    "start_time": "2022-04-19T10:53:26.798Z"
   },
   {
    "duration": 13,
    "start_time": "2022-04-19T10:53:26.825Z"
   },
   {
    "duration": 54,
    "start_time": "2022-04-19T10:53:26.840Z"
   },
   {
    "duration": 26,
    "start_time": "2022-04-19T10:53:26.896Z"
   },
   {
    "duration": 29,
    "start_time": "2022-04-19T10:53:26.924Z"
   },
   {
    "duration": 49,
    "start_time": "2022-04-19T10:53:26.955Z"
   },
   {
    "duration": 14,
    "start_time": "2022-04-19T10:53:27.006Z"
   },
   {
    "duration": 18,
    "start_time": "2022-04-19T10:53:27.022Z"
   },
   {
    "duration": 6,
    "start_time": "2022-04-19T10:57:06.680Z"
   },
   {
    "duration": 5,
    "start_time": "2022-04-19T10:57:11.146Z"
   },
   {
    "duration": 13,
    "start_time": "2022-04-19T11:14:52.897Z"
   },
   {
    "duration": 13,
    "start_time": "2022-04-19T11:15:06.797Z"
   },
   {
    "duration": 41,
    "start_time": "2022-04-19T12:22:05.852Z"
   },
   {
    "duration": 277,
    "start_time": "2022-04-19T12:22:20.071Z"
   },
   {
    "duration": 14,
    "start_time": "2022-04-19T12:22:23.038Z"
   },
   {
    "duration": 15,
    "start_time": "2022-04-19T12:22:26.765Z"
   },
   {
    "duration": 27,
    "start_time": "2022-04-19T12:22:33.210Z"
   },
   {
    "duration": 30,
    "start_time": "2022-04-19T12:24:00.624Z"
   },
   {
    "duration": 13,
    "start_time": "2022-04-19T12:24:09.242Z"
   },
   {
    "duration": 38,
    "start_time": "2022-04-19T12:24:19.555Z"
   },
   {
    "duration": 65,
    "start_time": "2022-04-19T12:24:24.719Z"
   },
   {
    "duration": 27,
    "start_time": "2022-04-19T12:25:09.902Z"
   },
   {
    "duration": 21,
    "start_time": "2022-04-19T12:25:28.262Z"
   },
   {
    "duration": 19,
    "start_time": "2022-04-19T12:25:31.859Z"
   },
   {
    "duration": 20,
    "start_time": "2022-04-19T12:25:34.504Z"
   },
   {
    "duration": 17,
    "start_time": "2022-04-19T12:25:37.912Z"
   },
   {
    "duration": 44,
    "start_time": "2022-04-19T12:26:45.273Z"
   },
   {
    "duration": 24,
    "start_time": "2022-04-19T12:26:58.500Z"
   },
   {
    "duration": 21,
    "start_time": "2022-04-19T12:28:12.891Z"
   },
   {
    "duration": 18,
    "start_time": "2022-04-19T12:28:31.114Z"
   },
   {
    "duration": 234,
    "start_time": "2022-04-19T12:28:46.251Z"
   },
   {
    "duration": 210,
    "start_time": "2022-04-19T12:29:12.938Z"
   },
   {
    "duration": 15,
    "start_time": "2022-04-19T12:29:15.580Z"
   },
   {
    "duration": 15,
    "start_time": "2022-04-19T12:29:24.298Z"
   },
   {
    "duration": 217,
    "start_time": "2022-04-19T12:29:29.255Z"
   },
   {
    "duration": 233,
    "start_time": "2022-04-19T12:29:32.947Z"
   },
   {
    "duration": 34,
    "start_time": "2022-04-19T12:29:53.877Z"
   },
   {
    "duration": 24,
    "start_time": "2022-04-19T12:30:16.503Z"
   },
   {
    "duration": 35,
    "start_time": "2022-04-19T12:30:25.199Z"
   },
   {
    "duration": 22,
    "start_time": "2022-04-19T12:30:32.141Z"
   },
   {
    "duration": 22,
    "start_time": "2022-04-19T12:30:52.027Z"
   },
   {
    "duration": 29,
    "start_time": "2022-04-19T12:31:14.671Z"
   },
   {
    "duration": 29,
    "start_time": "2022-04-19T12:31:19.395Z"
   },
   {
    "duration": 28,
    "start_time": "2022-04-19T12:31:41.020Z"
   },
   {
    "duration": 26,
    "start_time": "2022-04-19T12:31:47.773Z"
   },
   {
    "duration": 26,
    "start_time": "2022-04-19T12:31:52.577Z"
   },
   {
    "duration": 37,
    "start_time": "2022-04-19T12:31:54.884Z"
   },
   {
    "duration": 29,
    "start_time": "2022-04-19T12:32:34.185Z"
   },
   {
    "duration": 251,
    "start_time": "2022-04-19T12:33:07.019Z"
   },
   {
    "duration": 44,
    "start_time": "2022-04-19T12:33:10.821Z"
   },
   {
    "duration": 210,
    "start_time": "2022-04-19T12:33:57.007Z"
   },
   {
    "duration": 24,
    "start_time": "2022-04-19T12:33:59.460Z"
   },
   {
    "duration": 7,
    "start_time": "2022-04-19T12:34:15.270Z"
   },
   {
    "duration": 282,
    "start_time": "2022-04-19T12:34:32.180Z"
   },
   {
    "duration": 221,
    "start_time": "2022-04-19T12:34:45.217Z"
   },
   {
    "duration": 230,
    "start_time": "2022-04-19T12:34:49.472Z"
   },
   {
    "duration": 31,
    "start_time": "2022-04-19T12:34:53.370Z"
   },
   {
    "duration": 20,
    "start_time": "2022-04-19T12:47:42.159Z"
   },
   {
    "duration": 47,
    "start_time": "2022-04-20T09:47:38.417Z"
   },
   {
    "duration": 1248,
    "start_time": "2022-04-20T09:47:59.217Z"
   },
   {
    "duration": 104,
    "start_time": "2022-04-20T09:48:00.467Z"
   },
   {
    "duration": 13,
    "start_time": "2022-04-20T09:48:00.573Z"
   },
   {
    "duration": 6,
    "start_time": "2022-04-20T09:48:00.588Z"
   },
   {
    "duration": 8,
    "start_time": "2022-04-20T09:48:00.596Z"
   },
   {
    "duration": 8,
    "start_time": "2022-04-20T09:48:00.606Z"
   },
   {
    "duration": 5,
    "start_time": "2022-04-20T09:48:00.615Z"
   },
   {
    "duration": 19,
    "start_time": "2022-04-20T09:48:00.621Z"
   },
   {
    "duration": 9,
    "start_time": "2022-04-20T09:48:00.642Z"
   },
   {
    "duration": 7,
    "start_time": "2022-04-20T09:48:00.654Z"
   },
   {
    "duration": 2,
    "start_time": "2022-04-20T09:48:00.663Z"
   },
   {
    "duration": 8,
    "start_time": "2022-04-20T09:48:00.667Z"
   },
   {
    "duration": 31,
    "start_time": "2022-04-20T09:48:00.676Z"
   },
   {
    "duration": 5,
    "start_time": "2022-04-20T09:48:00.709Z"
   },
   {
    "duration": 9,
    "start_time": "2022-04-20T09:48:00.715Z"
   },
   {
    "duration": 17,
    "start_time": "2022-04-20T09:48:00.725Z"
   },
   {
    "duration": 16,
    "start_time": "2022-04-20T09:48:00.743Z"
   },
   {
    "duration": 20,
    "start_time": "2022-04-20T09:48:00.761Z"
   },
   {
    "duration": 24,
    "start_time": "2022-04-20T09:48:00.783Z"
   },
   {
    "duration": 9,
    "start_time": "2022-04-20T09:48:00.809Z"
   },
   {
    "duration": 29,
    "start_time": "2022-04-20T09:48:00.819Z"
   },
   {
    "duration": 1879,
    "start_time": "2022-04-20T09:48:00.849Z"
   },
   {
    "duration": 11,
    "start_time": "2022-04-20T09:48:19.826Z"
   },
   {
    "duration": 6,
    "start_time": "2022-04-20T09:48:39.698Z"
   },
   {
    "duration": 8,
    "start_time": "2022-04-20T09:50:29.456Z"
   },
   {
    "duration": 12,
    "start_time": "2022-04-20T09:50:39.896Z"
   },
   {
    "duration": 15,
    "start_time": "2022-04-20T09:50:55.736Z"
   },
   {
    "duration": 13,
    "start_time": "2022-04-20T09:51:12.268Z"
   },
   {
    "duration": 13,
    "start_time": "2022-04-20T09:51:26.016Z"
   },
   {
    "duration": 8,
    "start_time": "2022-04-20T09:54:41.496Z"
   },
   {
    "duration": 7,
    "start_time": "2022-04-20T09:55:31.267Z"
   },
   {
    "duration": 15,
    "start_time": "2022-04-20T09:59:27.407Z"
   },
   {
    "duration": 15,
    "start_time": "2022-04-20T10:00:53.027Z"
   },
   {
    "duration": 35,
    "start_time": "2022-04-20T10:01:22.628Z"
   },
   {
    "duration": 17,
    "start_time": "2022-04-20T10:03:32.298Z"
   },
   {
    "duration": 442,
    "start_time": "2022-04-20T10:05:47.028Z"
   },
   {
    "duration": 19,
    "start_time": "2022-04-20T10:05:56.747Z"
   },
   {
    "duration": 9,
    "start_time": "2022-04-20T10:12:57.707Z"
   },
   {
    "duration": 3,
    "start_time": "2022-04-20T10:13:27.336Z"
   },
   {
    "duration": 98,
    "start_time": "2022-04-20T10:13:27.347Z"
   },
   {
    "duration": 15,
    "start_time": "2022-04-20T10:13:27.446Z"
   },
   {
    "duration": 4,
    "start_time": "2022-04-20T10:13:27.462Z"
   },
   {
    "duration": 8,
    "start_time": "2022-04-20T10:13:27.468Z"
   },
   {
    "duration": 31,
    "start_time": "2022-04-20T10:13:27.478Z"
   },
   {
    "duration": 3,
    "start_time": "2022-04-20T10:13:27.518Z"
   },
   {
    "duration": 18,
    "start_time": "2022-04-20T10:13:27.548Z"
   },
   {
    "duration": 10,
    "start_time": "2022-04-20T10:13:27.596Z"
   },
   {
    "duration": 10,
    "start_time": "2022-04-20T10:13:27.618Z"
   },
   {
    "duration": 2,
    "start_time": "2022-04-20T10:13:27.668Z"
   },
   {
    "duration": 7,
    "start_time": "2022-04-20T10:13:27.708Z"
   },
   {
    "duration": 5,
    "start_time": "2022-04-20T10:13:27.735Z"
   },
   {
    "duration": 4,
    "start_time": "2022-04-20T10:13:27.777Z"
   },
   {
    "duration": 5,
    "start_time": "2022-04-20T10:13:27.828Z"
   },
   {
    "duration": 6,
    "start_time": "2022-04-20T10:13:27.838Z"
   },
   {
    "duration": 8,
    "start_time": "2022-04-20T10:13:27.879Z"
   },
   {
    "duration": 8,
    "start_time": "2022-04-20T10:13:27.926Z"
   },
   {
    "duration": 11,
    "start_time": "2022-04-20T10:13:27.956Z"
   },
   {
    "duration": 5,
    "start_time": "2022-04-20T10:13:27.977Z"
   },
   {
    "duration": 15,
    "start_time": "2022-04-20T10:13:28.067Z"
   },
   {
    "duration": 31,
    "start_time": "2022-04-20T10:13:28.554Z"
   },
   {
    "duration": 335,
    "start_time": "2022-04-20T10:13:28.586Z"
   },
   {
    "duration": 159,
    "start_time": "2022-04-20T10:13:28.924Z"
   },
   {
    "duration": 29,
    "start_time": "2022-04-20T10:13:29.084Z"
   },
   {
    "duration": 6,
    "start_time": "2022-04-20T10:13:29.115Z"
   },
   {
    "duration": 10,
    "start_time": "2022-04-20T10:13:29.123Z"
   },
   {
    "duration": 9,
    "start_time": "2022-04-20T10:13:29.134Z"
   },
   {
    "duration": 7,
    "start_time": "2022-04-20T10:13:41.997Z"
   },
   {
    "duration": 7,
    "start_time": "2022-04-20T10:14:07.677Z"
   },
   {
    "duration": 3,
    "start_time": "2022-04-20T10:30:58.403Z"
   },
   {
    "duration": 128,
    "start_time": "2022-04-20T10:30:58.408Z"
   },
   {
    "duration": 13,
    "start_time": "2022-04-20T10:30:58.538Z"
   },
   {
    "duration": 7,
    "start_time": "2022-04-20T10:30:58.552Z"
   },
   {
    "duration": 22,
    "start_time": "2022-04-20T10:30:58.561Z"
   },
   {
    "duration": 5,
    "start_time": "2022-04-20T10:31:14.432Z"
   },
   {
    "duration": 7,
    "start_time": "2022-04-20T10:45:29.983Z"
   },
   {
    "duration": 12,
    "start_time": "2022-04-20T10:46:22.782Z"
   },
   {
    "duration": 17,
    "start_time": "2022-04-20T10:47:59.352Z"
   },
   {
    "duration": 88,
    "start_time": "2022-04-20T10:49:01.362Z"
   },
   {
    "duration": 18,
    "start_time": "2022-04-20T10:49:20.397Z"
   },
   {
    "duration": 14,
    "start_time": "2022-04-20T10:59:14.894Z"
   },
   {
    "duration": 15,
    "start_time": "2022-04-20T10:59:26.542Z"
   },
   {
    "duration": 20,
    "start_time": "2022-04-20T10:59:58.712Z"
   },
   {
    "duration": 4,
    "start_time": "2022-04-20T11:31:10.775Z"
   },
   {
    "duration": 101,
    "start_time": "2022-04-20T11:31:10.783Z"
   },
   {
    "duration": 13,
    "start_time": "2022-04-20T11:31:10.886Z"
   },
   {
    "duration": 4,
    "start_time": "2022-04-20T11:31:10.901Z"
   },
   {
    "duration": 6,
    "start_time": "2022-04-20T11:31:10.907Z"
   },
   {
    "duration": 17,
    "start_time": "2022-04-20T11:31:10.915Z"
   },
   {
    "duration": 2,
    "start_time": "2022-04-20T11:31:10.943Z"
   },
   {
    "duration": 17,
    "start_time": "2022-04-20T11:31:10.965Z"
   },
   {
    "duration": 11,
    "start_time": "2022-04-20T11:31:11.013Z"
   },
   {
    "duration": 9,
    "start_time": "2022-04-20T11:31:11.053Z"
   },
   {
    "duration": 2,
    "start_time": "2022-04-20T11:31:11.104Z"
   },
   {
    "duration": 8,
    "start_time": "2022-04-20T11:31:11.144Z"
   },
   {
    "duration": 4,
    "start_time": "2022-04-20T11:31:11.194Z"
   },
   {
    "duration": 4,
    "start_time": "2022-04-20T11:31:11.226Z"
   },
   {
    "duration": 5,
    "start_time": "2022-04-20T11:31:11.265Z"
   },
   {
    "duration": 7,
    "start_time": "2022-04-20T11:31:11.303Z"
   },
   {
    "duration": 8,
    "start_time": "2022-04-20T11:31:11.353Z"
   },
   {
    "duration": 8,
    "start_time": "2022-04-20T11:31:11.383Z"
   },
   {
    "duration": 13,
    "start_time": "2022-04-20T11:31:11.433Z"
   },
   {
    "duration": 6,
    "start_time": "2022-04-20T11:31:11.473Z"
   },
   {
    "duration": 16,
    "start_time": "2022-04-20T11:31:11.554Z"
   },
   {
    "duration": 9,
    "start_time": "2022-04-20T11:31:11.596Z"
   },
   {
    "duration": 15,
    "start_time": "2022-04-20T11:31:11.634Z"
   },
   {
    "duration": 20,
    "start_time": "2022-04-20T11:31:11.651Z"
   },
   {
    "duration": 333,
    "start_time": "2022-04-20T11:31:11.695Z"
   },
   {
    "duration": 168,
    "start_time": "2022-04-20T11:31:12.031Z"
   },
   {
    "duration": 24,
    "start_time": "2022-04-20T11:31:12.201Z"
   },
   {
    "duration": 6,
    "start_time": "2022-04-20T11:31:12.227Z"
   },
   {
    "duration": 21,
    "start_time": "2022-04-20T11:31:12.235Z"
   },
   {
    "duration": 18,
    "start_time": "2022-04-20T11:31:12.259Z"
   },
   {
    "duration": 29,
    "start_time": "2022-04-20T11:31:12.278Z"
   },
   {
    "duration": 7,
    "start_time": "2022-04-20T11:31:38.714Z"
   },
   {
    "duration": 5,
    "start_time": "2022-04-20T11:31:42.213Z"
   },
   {
    "duration": 7,
    "start_time": "2022-04-20T11:40:51.109Z"
   },
   {
    "duration": 1456,
    "start_time": "2022-04-20T11:44:00.469Z"
   },
   {
    "duration": 1445,
    "start_time": "2022-04-20T11:44:20.298Z"
   },
   {
    "duration": 73,
    "start_time": "2022-04-21T06:46:50.426Z"
   },
   {
    "duration": 1638,
    "start_time": "2022-04-21T06:47:02.167Z"
   },
   {
    "duration": 131,
    "start_time": "2022-04-21T06:47:03.807Z"
   },
   {
    "duration": 22,
    "start_time": "2022-04-21T06:47:03.940Z"
   },
   {
    "duration": 14,
    "start_time": "2022-04-21T06:47:03.964Z"
   },
   {
    "duration": 36,
    "start_time": "2022-04-21T06:47:03.981Z"
   },
   {
    "duration": 14,
    "start_time": "2022-04-21T06:47:04.019Z"
   },
   {
    "duration": 9,
    "start_time": "2022-04-21T06:47:04.035Z"
   },
   {
    "duration": 32,
    "start_time": "2022-04-21T06:47:04.046Z"
   },
   {
    "duration": 2267,
    "start_time": "2022-04-21T06:47:04.080Z"
   },
   {
    "duration": 3385,
    "start_time": "2022-04-21T06:47:31.276Z"
   },
   {
    "duration": 13,
    "start_time": "2022-04-21T06:48:43.076Z"
   },
   {
    "duration": 15,
    "start_time": "2022-04-21T06:49:24.677Z"
   },
   {
    "duration": 12,
    "start_time": "2022-04-21T06:55:50.158Z"
   },
   {
    "duration": 12,
    "start_time": "2022-04-21T06:57:47.178Z"
   },
   {
    "duration": 17,
    "start_time": "2022-04-21T06:58:16.147Z"
   },
   {
    "duration": 13,
    "start_time": "2022-04-21T07:02:17.706Z"
   },
   {
    "duration": 15,
    "start_time": "2022-04-21T07:02:32.226Z"
   },
   {
    "duration": 23,
    "start_time": "2022-04-21T07:02:49.506Z"
   },
   {
    "duration": 20,
    "start_time": "2022-04-21T07:10:08.745Z"
   },
   {
    "duration": 20,
    "start_time": "2022-04-21T07:11:34.606Z"
   },
   {
    "duration": 10,
    "start_time": "2022-04-21T07:59:10.190Z"
   },
   {
    "duration": 12,
    "start_time": "2022-04-21T08:01:31.680Z"
   },
   {
    "duration": 5,
    "start_time": "2022-04-21T08:01:45.711Z"
   },
   {
    "duration": 140,
    "start_time": "2022-04-21T08:01:45.727Z"
   },
   {
    "duration": 23,
    "start_time": "2022-04-21T08:01:45.871Z"
   },
   {
    "duration": 30,
    "start_time": "2022-04-21T08:01:45.896Z"
   },
   {
    "duration": 7,
    "start_time": "2022-04-21T08:01:45.929Z"
   },
   {
    "duration": 10,
    "start_time": "2022-04-21T08:01:45.939Z"
   },
   {
    "duration": 4,
    "start_time": "2022-04-21T08:01:45.951Z"
   },
   {
    "duration": 33,
    "start_time": "2022-04-21T08:01:45.958Z"
   },
   {
    "duration": 15,
    "start_time": "2022-04-21T08:01:46.025Z"
   },
   {
    "duration": 19,
    "start_time": "2022-04-21T08:01:46.043Z"
   },
   {
    "duration": 26,
    "start_time": "2022-04-21T08:01:46.064Z"
   },
   {
    "duration": 33,
    "start_time": "2022-04-21T08:01:46.093Z"
   },
   {
    "duration": 29,
    "start_time": "2022-04-21T08:01:46.131Z"
   },
   {
    "duration": 13,
    "start_time": "2022-04-21T08:01:46.162Z"
   },
   {
    "duration": 12,
    "start_time": "2022-04-21T08:01:46.178Z"
   },
   {
    "duration": 16,
    "start_time": "2022-04-21T08:01:46.193Z"
   },
   {
    "duration": 17,
    "start_time": "2022-04-21T08:01:46.211Z"
   },
   {
    "duration": 18,
    "start_time": "2022-04-21T08:01:46.230Z"
   },
   {
    "duration": 21,
    "start_time": "2022-04-21T08:01:46.252Z"
   },
   {
    "duration": 18,
    "start_time": "2022-04-21T08:01:46.275Z"
   },
   {
    "duration": 8,
    "start_time": "2022-04-21T08:01:46.324Z"
   },
   {
    "duration": 25,
    "start_time": "2022-04-21T08:01:46.360Z"
   },
   {
    "duration": 11,
    "start_time": "2022-04-21T08:01:46.392Z"
   },
   {
    "duration": 32,
    "start_time": "2022-04-21T08:01:46.412Z"
   },
   {
    "duration": 32,
    "start_time": "2022-04-21T08:01:46.473Z"
   },
   {
    "duration": 582,
    "start_time": "2022-04-21T08:01:46.509Z"
   },
   {
    "duration": 244,
    "start_time": "2022-04-21T08:01:47.094Z"
   },
   {
    "duration": 25,
    "start_time": "2022-04-21T08:01:47.340Z"
   },
   {
    "duration": 8,
    "start_time": "2022-04-21T08:01:47.368Z"
   },
   {
    "duration": 15,
    "start_time": "2022-04-21T08:01:47.378Z"
   },
   {
    "duration": 40,
    "start_time": "2022-04-21T08:01:47.395Z"
   },
   {
    "duration": 1510,
    "start_time": "2022-04-21T11:20:06.397Z"
   },
   {
    "duration": 142,
    "start_time": "2022-04-21T11:20:07.910Z"
   },
   {
    "duration": 20,
    "start_time": "2022-04-21T11:20:08.054Z"
   },
   {
    "duration": 6,
    "start_time": "2022-04-21T11:20:08.077Z"
   },
   {
    "duration": 12,
    "start_time": "2022-04-21T11:20:08.085Z"
   },
   {
    "duration": 8,
    "start_time": "2022-04-21T11:20:08.125Z"
   },
   {
    "duration": 10,
    "start_time": "2022-04-21T11:20:08.135Z"
   },
   {
    "duration": 25,
    "start_time": "2022-04-21T11:20:08.147Z"
   },
   {
    "duration": 14,
    "start_time": "2022-04-21T11:20:08.174Z"
   },
   {
    "duration": 48,
    "start_time": "2022-04-21T11:20:08.192Z"
   },
   {
    "duration": 19,
    "start_time": "2022-04-21T11:20:08.242Z"
   },
   {
    "duration": 3,
    "start_time": "2022-04-21T11:20:08.263Z"
   },
   {
    "duration": 12,
    "start_time": "2022-04-21T11:20:08.268Z"
   },
   {
    "duration": 48,
    "start_time": "2022-04-21T11:20:08.282Z"
   },
   {
    "duration": 8,
    "start_time": "2022-04-21T11:20:08.332Z"
   },
   {
    "duration": 12,
    "start_time": "2022-04-21T11:20:08.342Z"
   },
   {
    "duration": 10,
    "start_time": "2022-04-21T11:20:08.356Z"
   },
   {
    "duration": 11,
    "start_time": "2022-04-21T11:20:08.369Z"
   },
   {
    "duration": 44,
    "start_time": "2022-04-21T11:20:08.382Z"
   },
   {
    "duration": 35,
    "start_time": "2022-04-21T11:20:08.428Z"
   },
   {
    "duration": 7,
    "start_time": "2022-04-21T11:20:08.465Z"
   },
   {
    "duration": 23,
    "start_time": "2022-04-21T11:20:08.474Z"
   },
   {
    "duration": 31,
    "start_time": "2022-04-21T11:20:08.500Z"
   },
   {
    "duration": 22,
    "start_time": "2022-04-21T11:20:08.533Z"
   },
   {
    "duration": 33,
    "start_time": "2022-04-21T11:20:08.557Z"
   },
   {
    "duration": 592,
    "start_time": "2022-04-21T11:20:08.592Z"
   },
   {
    "duration": 267,
    "start_time": "2022-04-21T11:20:09.187Z"
   },
   {
    "duration": 27,
    "start_time": "2022-04-21T11:20:09.460Z"
   },
   {
    "duration": 9,
    "start_time": "2022-04-21T11:20:09.490Z"
   },
   {
    "duration": 16,
    "start_time": "2022-04-21T11:20:09.526Z"
   },
   {
    "duration": 46,
    "start_time": "2022-04-21T11:20:09.544Z"
   },
   {
    "duration": 21,
    "start_time": "2022-04-21T11:20:09.593Z"
   },
   {
    "duration": 141,
    "start_time": "2022-04-21T11:20:09.617Z"
   },
   {
    "duration": 7,
    "start_time": "2022-04-21T11:20:09.760Z"
   },
   {
    "duration": 225,
    "start_time": "2022-04-21T11:20:09.771Z"
   },
   {
    "duration": 28,
    "start_time": "2022-04-21T11:20:09.998Z"
   },
   {
    "duration": 236,
    "start_time": "2022-04-21T11:20:10.028Z"
   },
   {
    "duration": 9,
    "start_time": "2022-04-21T11:20:10.267Z"
   },
   {
    "duration": 221,
    "start_time": "2022-04-21T11:20:10.279Z"
   },
   {
    "duration": 21,
    "start_time": "2022-04-21T11:20:10.503Z"
   },
   {
    "duration": 210,
    "start_time": "2022-04-21T11:20:10.527Z"
   },
   {
    "duration": 9,
    "start_time": "2022-04-21T11:20:10.739Z"
   },
   {
    "duration": 238,
    "start_time": "2022-04-21T11:20:10.751Z"
   },
   {
    "duration": 9,
    "start_time": "2022-04-21T11:20:10.991Z"
   },
   {
    "duration": 234,
    "start_time": "2022-04-21T11:20:11.003Z"
   },
   {
    "duration": 9,
    "start_time": "2022-04-21T11:20:11.239Z"
   },
   {
    "duration": 332,
    "start_time": "2022-04-21T11:20:11.250Z"
   },
   {
    "duration": 15,
    "start_time": "2022-04-21T11:20:11.585Z"
   },
   {
    "duration": 279,
    "start_time": "2022-04-21T11:20:11.602Z"
   },
   {
    "duration": 9,
    "start_time": "2022-04-21T11:20:11.883Z"
   },
   {
    "duration": 220,
    "start_time": "2022-04-21T11:20:11.894Z"
   },
   {
    "duration": 17,
    "start_time": "2022-04-21T11:20:12.124Z"
   },
   {
    "duration": 214,
    "start_time": "2022-04-21T11:20:12.144Z"
   },
   {
    "duration": 9,
    "start_time": "2022-04-21T11:20:12.360Z"
   },
   {
    "duration": 200,
    "start_time": "2022-04-21T11:20:12.371Z"
   },
   {
    "duration": 9,
    "start_time": "2022-04-21T11:20:12.573Z"
   },
   {
    "duration": 212,
    "start_time": "2022-04-21T11:20:12.584Z"
   },
   {
    "duration": 10,
    "start_time": "2022-04-21T11:20:12.799Z"
   },
   {
    "duration": 235,
    "start_time": "2022-04-21T11:20:12.824Z"
   },
   {
    "duration": 9,
    "start_time": "2022-04-21T11:20:13.061Z"
   },
   {
    "duration": 225,
    "start_time": "2022-04-21T11:20:13.073Z"
   },
   {
    "duration": 10,
    "start_time": "2022-04-21T11:20:13.301Z"
   },
   {
    "duration": 300,
    "start_time": "2022-04-21T11:20:13.326Z"
   },
   {
    "duration": 10,
    "start_time": "2022-04-21T11:20:13.629Z"
   },
   {
    "duration": 25,
    "start_time": "2022-04-21T11:20:13.641Z"
   },
   {
    "duration": 10,
    "start_time": "2022-04-21T11:20:13.668Z"
   },
   {
    "duration": 13,
    "start_time": "2022-04-21T11:20:13.680Z"
   },
   {
    "duration": 87,
    "start_time": "2022-04-21T11:20:13.695Z"
   },
   {
    "duration": 4,
    "start_time": "2022-04-21T11:20:13.784Z"
   },
   {
    "duration": 56,
    "start_time": "2022-04-21T11:20:13.790Z"
   },
   {
    "duration": 9,
    "start_time": "2022-04-21T11:20:13.848Z"
   },
   {
    "duration": 14,
    "start_time": "2022-04-21T11:20:13.860Z"
   },
   {
    "duration": 26,
    "start_time": "2022-04-21T11:20:13.877Z"
   },
   {
    "duration": 6,
    "start_time": "2022-04-21T11:20:13.925Z"
   },
   {
    "duration": 31,
    "start_time": "2022-04-21T11:20:13.933Z"
   },
   {
    "duration": 306,
    "start_time": "2022-04-21T11:20:13.966Z"
   },
   {
    "duration": 305,
    "start_time": "2022-04-21T11:20:14.275Z"
   },
   {
    "duration": 12,
    "start_time": "2022-04-21T11:20:14.584Z"
   },
   {
    "duration": 28,
    "start_time": "2022-04-21T11:20:14.598Z"
   },
   {
    "duration": 12,
    "start_time": "2022-04-21T11:20:14.629Z"
   },
   {
    "duration": 20,
    "start_time": "2022-04-21T11:20:14.643Z"
   },
   {
    "duration": 52,
    "start_time": "2022-04-21T11:20:14.672Z"
   },
   {
    "duration": 28,
    "start_time": "2022-04-21T11:20:14.727Z"
   },
   {
    "duration": 7,
    "start_time": "2022-04-21T11:20:14.758Z"
   },
   {
    "duration": 233,
    "start_time": "2022-04-21T11:20:14.768Z"
   },
   {
    "duration": 12,
    "start_time": "2022-04-21T11:20:15.003Z"
   },
   {
    "duration": 307,
    "start_time": "2022-04-21T11:20:15.026Z"
   },
   {
    "duration": 7,
    "start_time": "2022-04-21T11:20:15.336Z"
   },
   {
    "duration": 20,
    "start_time": "2022-04-21T11:20:15.345Z"
   },
   {
    "duration": 240,
    "start_time": "2022-04-21T11:20:15.368Z"
   },
   {
    "duration": 17,
    "start_time": "2022-04-21T11:20:15.610Z"
   },
   {
    "duration": 268,
    "start_time": "2022-04-21T11:20:15.631Z"
   },
   {
    "duration": 22,
    "start_time": "2022-04-21T11:20:15.901Z"
   },
   {
    "duration": 11,
    "start_time": "2022-04-21T11:20:15.925Z"
   },
   {
    "duration": 217,
    "start_time": "2022-04-21T11:20:15.938Z"
   },
   {
    "duration": 7,
    "start_time": "2022-04-21T11:20:16.158Z"
   },
   {
    "duration": 11,
    "start_time": "2022-04-21T11:20:16.167Z"
   },
   {
    "duration": 55,
    "start_time": "2022-04-21T11:20:16.180Z"
   },
   {
    "duration": 322,
    "start_time": "2022-04-21T11:20:16.238Z"
   },
   {
    "duration": 21,
    "start_time": "2022-04-21T11:20:16.563Z"
   },
   {
    "duration": 407,
    "start_time": "2022-04-21T11:20:16.586Z"
   },
   {
    "duration": 38,
    "start_time": "2022-04-21T11:20:16.996Z"
   },
   {
    "duration": 13,
    "start_time": "2022-04-21T11:20:17.037Z"
   },
   {
    "duration": 41,
    "start_time": "2022-04-21T11:20:17.052Z"
   },
   {
    "duration": 20,
    "start_time": "2022-04-21T11:20:17.125Z"
   },
   {
    "duration": 27,
    "start_time": "2022-04-21T11:20:17.147Z"
   },
   {
    "duration": 14,
    "start_time": "2022-04-21T11:20:17.176Z"
   },
   {
    "duration": 6,
    "start_time": "2022-04-21T11:20:17.225Z"
   },
   {
    "duration": 30,
    "start_time": "2022-04-21T11:20:17.234Z"
   },
   {
    "duration": 13,
    "start_time": "2022-04-21T11:20:17.267Z"
   },
   {
    "duration": 44,
    "start_time": "2022-04-21T11:20:17.282Z"
   },
   {
    "duration": 7,
    "start_time": "2022-04-21T11:20:17.329Z"
   },
   {
    "duration": 21,
    "start_time": "2022-04-21T11:20:17.339Z"
   },
   {
    "duration": 41,
    "start_time": "2022-04-21T11:20:17.363Z"
   },
   {
    "duration": 20,
    "start_time": "2022-04-21T11:20:17.426Z"
   },
   {
    "duration": 39,
    "start_time": "2022-04-21T11:20:17.449Z"
   },
   {
    "duration": 40,
    "start_time": "2022-04-21T11:20:17.491Z"
   },
   {
    "duration": 38,
    "start_time": "2022-04-21T11:20:17.534Z"
   },
   {
    "duration": 51,
    "start_time": "2022-04-21T11:20:17.575Z"
   },
   {
    "duration": 27,
    "start_time": "2022-04-21T11:20:17.628Z"
   },
   {
    "duration": 26,
    "start_time": "2022-04-21T11:20:17.657Z"
   },
   {
    "duration": 53,
    "start_time": "2022-04-21T11:20:17.686Z"
   },
   {
    "duration": 20,
    "start_time": "2022-04-21T11:20:17.742Z"
   },
   {
    "duration": 1923,
    "start_time": "2022-04-22T09:12:10.286Z"
   },
   {
    "duration": 152,
    "start_time": "2022-04-22T09:12:12.213Z"
   },
   {
    "duration": 22,
    "start_time": "2022-04-22T09:12:12.367Z"
   },
   {
    "duration": 7,
    "start_time": "2022-04-22T09:12:12.392Z"
   },
   {
    "duration": 8,
    "start_time": "2022-04-22T09:12:12.426Z"
   },
   {
    "duration": 15,
    "start_time": "2022-04-22T09:12:12.436Z"
   },
   {
    "duration": 11,
    "start_time": "2022-04-22T09:12:12.454Z"
   },
   {
    "duration": 63,
    "start_time": "2022-04-22T09:12:12.467Z"
   },
   {
    "duration": 14,
    "start_time": "2022-04-22T09:12:12.533Z"
   },
   {
    "duration": 25,
    "start_time": "2022-04-22T09:12:12.551Z"
   },
   {
    "duration": 60,
    "start_time": "2022-04-22T09:12:12.579Z"
   },
   {
    "duration": 4,
    "start_time": "2022-04-22T09:12:12.642Z"
   },
   {
    "duration": 17,
    "start_time": "2022-04-22T09:12:12.648Z"
   },
   {
    "duration": 8,
    "start_time": "2022-04-22T09:12:12.668Z"
   },
   {
    "duration": 44,
    "start_time": "2022-04-22T09:12:12.679Z"
   },
   {
    "duration": 8,
    "start_time": "2022-04-22T09:12:12.727Z"
   },
   {
    "duration": 14,
    "start_time": "2022-04-22T09:12:12.738Z"
   },
   {
    "duration": 14,
    "start_time": "2022-04-22T09:12:12.755Z"
   },
   {
    "duration": 52,
    "start_time": "2022-04-22T09:12:12.772Z"
   },
   {
    "duration": 19,
    "start_time": "2022-04-22T09:12:12.826Z"
   },
   {
    "duration": 8,
    "start_time": "2022-04-22T09:12:12.848Z"
   },
   {
    "duration": 28,
    "start_time": "2022-04-22T09:12:12.858Z"
   },
   {
    "duration": 44,
    "start_time": "2022-04-22T09:12:12.889Z"
   },
   {
    "duration": 27,
    "start_time": "2022-04-22T09:12:12.935Z"
   },
   {
    "duration": 29,
    "start_time": "2022-04-22T09:12:12.965Z"
   },
   {
    "duration": 561,
    "start_time": "2022-04-22T09:12:13.025Z"
   },
   {
    "duration": 254,
    "start_time": "2022-04-22T09:12:13.589Z"
   },
   {
    "duration": 27,
    "start_time": "2022-04-22T09:12:13.850Z"
   },
   {
    "duration": 9,
    "start_time": "2022-04-22T09:12:13.879Z"
   },
   {
    "duration": 48,
    "start_time": "2022-04-22T09:12:13.891Z"
   },
   {
    "duration": 11,
    "start_time": "2022-04-22T09:12:13.942Z"
   },
   {
    "duration": 7,
    "start_time": "2022-04-22T09:12:13.955Z"
   },
   {
    "duration": 114,
    "start_time": "2022-04-22T09:12:13.964Z"
   },
   {
    "duration": 6,
    "start_time": "2022-04-22T09:12:14.080Z"
   },
   {
    "duration": 230,
    "start_time": "2022-04-22T09:12:14.089Z"
   },
   {
    "duration": 16,
    "start_time": "2022-04-22T09:12:14.325Z"
   },
   {
    "duration": 246,
    "start_time": "2022-04-22T09:12:14.344Z"
   },
   {
    "duration": 11,
    "start_time": "2022-04-22T09:12:14.592Z"
   },
   {
    "duration": 225,
    "start_time": "2022-04-22T09:12:14.623Z"
   },
   {
    "duration": 9,
    "start_time": "2022-04-22T09:12:14.852Z"
   },
   {
    "duration": 227,
    "start_time": "2022-04-22T09:12:14.863Z"
   },
   {
    "duration": 10,
    "start_time": "2022-04-22T09:12:15.092Z"
   },
   {
    "duration": 236,
    "start_time": "2022-04-22T09:12:15.104Z"
   },
   {
    "duration": 10,
    "start_time": "2022-04-22T09:12:15.343Z"
   },
   {
    "duration": 244,
    "start_time": "2022-04-22T09:12:15.356Z"
   },
   {
    "duration": 21,
    "start_time": "2022-04-22T09:12:15.603Z"
   },
   {
    "duration": 213,
    "start_time": "2022-04-22T09:12:15.626Z"
   },
   {
    "duration": 9,
    "start_time": "2022-04-22T09:12:15.842Z"
   },
   {
    "duration": 283,
    "start_time": "2022-04-22T09:12:15.854Z"
   },
   {
    "duration": 9,
    "start_time": "2022-04-22T09:12:16.139Z"
   },
   {
    "duration": 221,
    "start_time": "2022-04-22T09:12:16.152Z"
   },
   {
    "duration": 10,
    "start_time": "2022-04-22T09:12:16.375Z"
   },
   {
    "duration": 226,
    "start_time": "2022-04-22T09:12:16.387Z"
   },
   {
    "duration": 14,
    "start_time": "2022-04-22T09:12:16.616Z"
   },
   {
    "duration": 200,
    "start_time": "2022-04-22T09:12:16.633Z"
   },
   {
    "duration": 9,
    "start_time": "2022-04-22T09:12:16.835Z"
   },
   {
    "duration": 215,
    "start_time": "2022-04-22T09:12:16.846Z"
   },
   {
    "duration": 9,
    "start_time": "2022-04-22T09:12:17.063Z"
   },
   {
    "duration": 246,
    "start_time": "2022-04-22T09:12:17.074Z"
   },
   {
    "duration": 9,
    "start_time": "2022-04-22T09:12:17.325Z"
   },
   {
    "duration": 324,
    "start_time": "2022-04-22T09:12:17.336Z"
   },
   {
    "duration": 9,
    "start_time": "2022-04-22T09:12:17.662Z"
   },
   {
    "duration": 204,
    "start_time": "2022-04-22T09:12:17.673Z"
   },
   {
    "duration": 10,
    "start_time": "2022-04-22T09:12:17.879Z"
   },
   {
    "duration": 34,
    "start_time": "2022-04-22T09:12:17.891Z"
   },
   {
    "duration": 5,
    "start_time": "2022-04-22T09:12:17.928Z"
   },
   {
    "duration": 11,
    "start_time": "2022-04-22T09:12:17.936Z"
   },
   {
    "duration": 74,
    "start_time": "2022-04-22T09:12:17.950Z"
   },
   {
    "duration": 5,
    "start_time": "2022-04-22T09:12:18.027Z"
   },
   {
    "duration": 29,
    "start_time": "2022-04-22T09:12:18.034Z"
   },
   {
    "duration": 7,
    "start_time": "2022-04-22T09:12:18.066Z"
   },
   {
    "duration": 18,
    "start_time": "2022-04-22T09:12:18.075Z"
   },
   {
    "duration": 19,
    "start_time": "2022-04-22T09:12:18.125Z"
   },
   {
    "duration": 17,
    "start_time": "2022-04-22T09:12:18.147Z"
   },
   {
    "duration": 28,
    "start_time": "2022-04-22T09:12:18.166Z"
   },
   {
    "duration": 432,
    "start_time": "2022-04-22T09:12:18.196Z"
   },
   {
    "duration": 464,
    "start_time": "2022-04-22T09:12:18.631Z"
   },
   {
    "duration": 26,
    "start_time": "2022-04-22T09:12:19.098Z"
   },
   {
    "duration": 16,
    "start_time": "2022-04-22T09:12:19.127Z"
   },
   {
    "duration": 12,
    "start_time": "2022-04-22T09:12:19.146Z"
   },
   {
    "duration": 20,
    "start_time": "2022-04-22T09:12:19.160Z"
   },
   {
    "duration": 63,
    "start_time": "2022-04-22T09:12:19.189Z"
   },
   {
    "duration": 29,
    "start_time": "2022-04-22T09:12:19.254Z"
   },
   {
    "duration": 8,
    "start_time": "2022-04-22T09:12:19.285Z"
   },
   {
    "duration": 264,
    "start_time": "2022-04-22T09:12:19.295Z"
   },
   {
    "duration": 7,
    "start_time": "2022-04-22T09:12:19.561Z"
   },
   {
    "duration": 314,
    "start_time": "2022-04-22T09:12:19.571Z"
   },
   {
    "duration": 9,
    "start_time": "2022-04-22T09:12:19.888Z"
   },
   {
    "duration": 32,
    "start_time": "2022-04-22T09:12:19.900Z"
   },
   {
    "duration": 213,
    "start_time": "2022-04-22T09:12:19.936Z"
   },
   {
    "duration": 7,
    "start_time": "2022-04-22T09:12:20.152Z"
   },
   {
    "duration": 236,
    "start_time": "2022-04-22T09:12:20.162Z"
   },
   {
    "duration": 8,
    "start_time": "2022-04-22T09:12:20.400Z"
   },
   {
    "duration": 22,
    "start_time": "2022-04-22T09:12:20.410Z"
   },
   {
    "duration": 361,
    "start_time": "2022-04-22T09:12:20.436Z"
   },
   {
    "duration": 24,
    "start_time": "2022-04-22T09:12:20.800Z"
   },
   {
    "duration": 10,
    "start_time": "2022-04-22T09:12:20.827Z"
   },
   {
    "duration": 34,
    "start_time": "2022-04-22T09:12:20.840Z"
   },
   {
    "duration": 478,
    "start_time": "2022-04-22T09:12:20.876Z"
   },
   {
    "duration": 19,
    "start_time": "2022-04-22T09:12:21.357Z"
   },
   {
    "duration": 317,
    "start_time": "2022-04-22T09:12:21.379Z"
   },
   {
    "duration": 40,
    "start_time": "2022-04-22T09:12:21.699Z"
   },
   {
    "duration": 14,
    "start_time": "2022-04-22T09:12:21.741Z"
   },
   {
    "duration": 27,
    "start_time": "2022-04-22T09:12:21.757Z"
   },
   {
    "duration": 43,
    "start_time": "2022-04-22T09:12:21.787Z"
   },
   {
    "duration": 29,
    "start_time": "2022-04-22T09:12:21.832Z"
   },
   {
    "duration": 14,
    "start_time": "2022-04-22T09:12:21.863Z"
   },
   {
    "duration": 17,
    "start_time": "2022-04-22T09:12:21.879Z"
   },
   {
    "duration": 23,
    "start_time": "2022-04-22T09:12:21.925Z"
   },
   {
    "duration": 11,
    "start_time": "2022-04-22T09:12:21.950Z"
   },
   {
    "duration": 28,
    "start_time": "2022-04-22T09:12:21.964Z"
   },
   {
    "duration": 32,
    "start_time": "2022-04-22T09:12:21.994Z"
   },
   {
    "duration": 18,
    "start_time": "2022-04-22T09:12:22.029Z"
   },
   {
    "duration": 28,
    "start_time": "2022-04-22T09:12:22.049Z"
   },
   {
    "duration": 17,
    "start_time": "2022-04-22T09:12:22.080Z"
   },
   {
    "duration": 24,
    "start_time": "2022-04-22T09:12:22.125Z"
   },
   {
    "duration": 34,
    "start_time": "2022-04-22T09:12:22.151Z"
   },
   {
    "duration": 44,
    "start_time": "2022-04-22T09:12:22.188Z"
   },
   {
    "duration": 35,
    "start_time": "2022-04-22T09:12:22.234Z"
   },
   {
    "duration": 29,
    "start_time": "2022-04-22T09:12:22.271Z"
   },
   {
    "duration": 39,
    "start_time": "2022-04-22T09:12:22.303Z"
   },
   {
    "duration": 14,
    "start_time": "2022-04-22T09:12:22.344Z"
   },
   {
    "duration": 27,
    "start_time": "2022-04-22T09:12:22.360Z"
   },
   {
    "duration": 169,
    "start_time": "2022-04-22T09:27:45.003Z"
   },
   {
    "duration": 38,
    "start_time": "2022-04-22T09:31:29.971Z"
   },
   {
    "duration": 56,
    "start_time": "2022-04-22T09:33:28.831Z"
   },
   {
    "duration": 19,
    "start_time": "2022-04-22T09:38:11.964Z"
   },
   {
    "duration": 343,
    "start_time": "2022-04-22T09:38:18.204Z"
   },
   {
    "duration": 22,
    "start_time": "2022-04-22T10:08:20.767Z"
   },
   {
    "duration": 15,
    "start_time": "2022-04-22T10:08:33.485Z"
   },
   {
    "duration": 21,
    "start_time": "2022-04-22T10:08:52.973Z"
   },
   {
    "duration": 19,
    "start_time": "2022-04-22T10:08:57.755Z"
   },
   {
    "duration": 20,
    "start_time": "2022-04-22T10:09:31.476Z"
   },
   {
    "duration": 16,
    "start_time": "2022-04-22T10:09:35.582Z"
   },
   {
    "duration": 20,
    "start_time": "2022-04-22T10:09:51.922Z"
   },
   {
    "duration": 22,
    "start_time": "2022-04-22T10:09:56.184Z"
   },
   {
    "duration": 7,
    "start_time": "2022-04-22T10:10:37.755Z"
   },
   {
    "duration": 37,
    "start_time": "2022-04-22T10:13:02.793Z"
   },
   {
    "duration": 7,
    "start_time": "2022-04-22T10:13:17.503Z"
   },
   {
    "duration": 12,
    "start_time": "2022-04-22T10:13:18.902Z"
   },
   {
    "duration": 23,
    "start_time": "2022-04-22T10:13:32.382Z"
   },
   {
    "duration": 25,
    "start_time": "2022-04-22T10:13:35.622Z"
   },
   {
    "duration": 35,
    "start_time": "2022-04-22T10:13:38.949Z"
   },
   {
    "duration": 23,
    "start_time": "2022-04-22T10:14:10.783Z"
   },
   {
    "duration": 28,
    "start_time": "2022-04-22T10:14:15.624Z"
   },
   {
    "duration": 24,
    "start_time": "2022-04-22T10:14:28.594Z"
   },
   {
    "duration": 31,
    "start_time": "2022-04-22T10:22:09.370Z"
   },
   {
    "duration": 26,
    "start_time": "2022-04-22T10:22:19.280Z"
   },
   {
    "duration": 26,
    "start_time": "2022-04-22T10:22:31.179Z"
   },
   {
    "duration": 171,
    "start_time": "2022-04-22T10:25:36.538Z"
   },
   {
    "duration": 730,
    "start_time": "2022-04-22T10:27:37.471Z"
   },
   {
    "duration": 33,
    "start_time": "2022-04-22T10:31:22.421Z"
   },
   {
    "duration": 30,
    "start_time": "2022-04-22T10:32:09.702Z"
   },
   {
    "duration": 26,
    "start_time": "2022-04-22T10:32:46.971Z"
   },
   {
    "duration": 27,
    "start_time": "2022-04-22T10:32:50.771Z"
   },
   {
    "duration": 47,
    "start_time": "2022-04-22T12:40:34.638Z"
   },
   {
    "duration": 1228,
    "start_time": "2022-04-22T12:40:49.437Z"
   },
   {
    "duration": 111,
    "start_time": "2022-04-22T12:40:50.666Z"
   },
   {
    "duration": 14,
    "start_time": "2022-04-22T12:40:50.778Z"
   },
   {
    "duration": 4,
    "start_time": "2022-04-22T12:40:50.794Z"
   },
   {
    "duration": 5,
    "start_time": "2022-04-22T12:40:50.799Z"
   },
   {
    "duration": 6,
    "start_time": "2022-04-22T12:40:50.806Z"
   },
   {
    "duration": 4,
    "start_time": "2022-04-22T12:40:50.813Z"
   },
   {
    "duration": 16,
    "start_time": "2022-04-22T12:40:50.819Z"
   },
   {
    "duration": 9,
    "start_time": "2022-04-22T12:40:50.836Z"
   },
   {
    "duration": 10,
    "start_time": "2022-04-22T12:40:50.847Z"
   },
   {
    "duration": 14,
    "start_time": "2022-04-22T12:40:50.859Z"
   },
   {
    "duration": 2,
    "start_time": "2022-04-22T12:40:50.874Z"
   },
   {
    "duration": 7,
    "start_time": "2022-04-22T12:40:50.907Z"
   },
   {
    "duration": 5,
    "start_time": "2022-04-22T12:40:50.916Z"
   },
   {
    "duration": 6,
    "start_time": "2022-04-22T12:40:50.922Z"
   },
   {
    "duration": 7,
    "start_time": "2022-04-22T12:40:50.929Z"
   },
   {
    "duration": 9,
    "start_time": "2022-04-22T12:40:50.937Z"
   },
   {
    "duration": 8,
    "start_time": "2022-04-22T12:40:50.948Z"
   },
   {
    "duration": 7,
    "start_time": "2022-04-22T12:40:50.958Z"
   },
   {
    "duration": 48,
    "start_time": "2022-04-22T12:40:50.967Z"
   },
   {
    "duration": 5,
    "start_time": "2022-04-22T12:40:51.016Z"
   },
   {
    "duration": 15,
    "start_time": "2022-04-22T12:40:51.023Z"
   },
   {
    "duration": 8,
    "start_time": "2022-04-22T12:40:51.039Z"
   },
   {
    "duration": 14,
    "start_time": "2022-04-22T12:40:51.048Z"
   },
   {
    "duration": 53,
    "start_time": "2022-04-22T12:40:51.063Z"
   },
   {
    "duration": 351,
    "start_time": "2022-04-22T12:40:51.119Z"
   },
   {
    "duration": 165,
    "start_time": "2022-04-22T12:40:51.472Z"
   },
   {
    "duration": 20,
    "start_time": "2022-04-22T12:40:51.641Z"
   },
   {
    "duration": 9,
    "start_time": "2022-04-22T12:40:51.662Z"
   },
   {
    "duration": 9,
    "start_time": "2022-04-22T12:40:51.672Z"
   },
   {
    "duration": 8,
    "start_time": "2022-04-22T12:40:51.708Z"
   },
   {
    "duration": 4,
    "start_time": "2022-04-22T12:40:51.717Z"
   },
   {
    "duration": 51,
    "start_time": "2022-04-22T12:40:51.723Z"
   },
   {
    "duration": 4,
    "start_time": "2022-04-22T12:40:51.776Z"
   },
   {
    "duration": 154,
    "start_time": "2022-04-22T12:40:51.781Z"
   },
   {
    "duration": 10,
    "start_time": "2022-04-22T12:40:51.937Z"
   },
   {
    "duration": 160,
    "start_time": "2022-04-22T12:40:51.949Z"
   },
   {
    "duration": 6,
    "start_time": "2022-04-22T12:40:52.111Z"
   },
   {
    "duration": 145,
    "start_time": "2022-04-22T12:40:52.119Z"
   },
   {
    "duration": 6,
    "start_time": "2022-04-22T12:40:52.266Z"
   },
   {
    "duration": 139,
    "start_time": "2022-04-22T12:40:52.274Z"
   },
   {
    "duration": 6,
    "start_time": "2022-04-22T12:40:52.414Z"
   },
   {
    "duration": 137,
    "start_time": "2022-04-22T12:40:52.422Z"
   },
   {
    "duration": 6,
    "start_time": "2022-04-22T12:40:52.560Z"
   },
   {
    "duration": 156,
    "start_time": "2022-04-22T12:40:52.568Z"
   },
   {
    "duration": 6,
    "start_time": "2022-04-22T12:40:52.726Z"
   },
   {
    "duration": 138,
    "start_time": "2022-04-22T12:40:52.733Z"
   },
   {
    "duration": 6,
    "start_time": "2022-04-22T12:40:52.872Z"
   },
   {
    "duration": 188,
    "start_time": "2022-04-22T12:40:52.879Z"
   },
   {
    "duration": 6,
    "start_time": "2022-04-22T12:40:53.069Z"
   },
   {
    "duration": 133,
    "start_time": "2022-04-22T12:40:53.076Z"
   },
   {
    "duration": 6,
    "start_time": "2022-04-22T12:40:53.210Z"
   },
   {
    "duration": 141,
    "start_time": "2022-04-22T12:40:53.218Z"
   },
   {
    "duration": 7,
    "start_time": "2022-04-22T12:40:53.360Z"
   },
   {
    "duration": 135,
    "start_time": "2022-04-22T12:40:53.368Z"
   },
   {
    "duration": 7,
    "start_time": "2022-04-22T12:40:53.506Z"
   },
   {
    "duration": 128,
    "start_time": "2022-04-22T12:40:53.514Z"
   },
   {
    "duration": 6,
    "start_time": "2022-04-22T12:40:53.644Z"
   },
   {
    "duration": 169,
    "start_time": "2022-04-22T12:40:53.652Z"
   },
   {
    "duration": 6,
    "start_time": "2022-04-22T12:40:53.822Z"
   },
   {
    "duration": 147,
    "start_time": "2022-04-22T12:40:53.830Z"
   },
   {
    "duration": 7,
    "start_time": "2022-04-22T12:40:53.979Z"
   },
   {
    "duration": 140,
    "start_time": "2022-04-22T12:40:53.988Z"
   },
   {
    "duration": 6,
    "start_time": "2022-04-22T12:40:54.130Z"
   },
   {
    "duration": 10,
    "start_time": "2022-04-22T12:40:54.137Z"
   },
   {
    "duration": 6,
    "start_time": "2022-04-22T12:40:54.149Z"
   },
   {
    "duration": 7,
    "start_time": "2022-04-22T12:40:54.156Z"
   },
   {
    "duration": 54,
    "start_time": "2022-04-22T12:40:54.164Z"
   },
   {
    "duration": 2,
    "start_time": "2022-04-22T12:40:54.220Z"
   },
   {
    "duration": 18,
    "start_time": "2022-04-22T12:40:54.223Z"
   },
   {
    "duration": 5,
    "start_time": "2022-04-22T12:40:54.243Z"
   },
   {
    "duration": 9,
    "start_time": "2022-04-22T12:40:54.250Z"
   },
   {
    "duration": 13,
    "start_time": "2022-04-22T12:40:54.261Z"
   },
   {
    "duration": 32,
    "start_time": "2022-04-22T12:40:54.276Z"
   },
   {
    "duration": 24,
    "start_time": "2022-04-22T12:40:54.310Z"
   },
   {
    "duration": 18,
    "start_time": "2022-04-22T12:40:54.335Z"
   },
   {
    "duration": 191,
    "start_time": "2022-04-22T12:40:54.355Z"
   },
   {
    "duration": 188,
    "start_time": "2022-04-22T12:40:54.548Z"
   },
   {
    "duration": 8,
    "start_time": "2022-04-22T12:40:54.737Z"
   },
   {
    "duration": 7,
    "start_time": "2022-04-22T12:40:54.751Z"
   },
   {
    "duration": 9,
    "start_time": "2022-04-22T12:40:54.759Z"
   },
   {
    "duration": 12,
    "start_time": "2022-04-22T12:40:54.770Z"
   },
   {
    "duration": 22,
    "start_time": "2022-04-22T12:40:54.807Z"
   },
   {
    "duration": 19,
    "start_time": "2022-04-22T12:40:54.831Z"
   },
   {
    "duration": 5,
    "start_time": "2022-04-22T12:40:54.852Z"
   },
   {
    "duration": 167,
    "start_time": "2022-04-22T12:40:54.858Z"
   },
   {
    "duration": 5,
    "start_time": "2022-04-22T12:40:55.027Z"
   },
   {
    "duration": 237,
    "start_time": "2022-04-22T12:40:55.033Z"
   },
   {
    "duration": 5,
    "start_time": "2022-04-22T12:40:55.272Z"
   },
   {
    "duration": 15,
    "start_time": "2022-04-22T12:40:55.279Z"
   },
   {
    "duration": 139,
    "start_time": "2022-04-22T12:40:55.295Z"
   },
   {
    "duration": 5,
    "start_time": "2022-04-22T12:40:55.436Z"
   },
   {
    "duration": 143,
    "start_time": "2022-04-22T12:40:55.443Z"
   },
   {
    "duration": 5,
    "start_time": "2022-04-22T12:40:55.588Z"
   },
   {
    "duration": 16,
    "start_time": "2022-04-22T12:40:55.594Z"
   },
   {
    "duration": 132,
    "start_time": "2022-04-22T12:40:55.611Z"
   },
   {
    "duration": 4,
    "start_time": "2022-04-22T12:40:55.745Z"
   },
   {
    "duration": 8,
    "start_time": "2022-04-22T12:40:55.751Z"
   },
   {
    "duration": 20,
    "start_time": "2022-04-22T12:40:55.760Z"
   },
   {
    "duration": 197,
    "start_time": "2022-04-22T12:40:55.782Z"
   },
   {
    "duration": 13,
    "start_time": "2022-04-22T12:40:55.981Z"
   },
   {
    "duration": 201,
    "start_time": "2022-04-22T12:40:56.008Z"
   },
   {
    "duration": 17,
    "start_time": "2022-04-22T12:40:56.211Z"
   },
   {
    "duration": 8,
    "start_time": "2022-04-22T12:40:56.230Z"
   },
   {
    "duration": 16,
    "start_time": "2022-04-22T12:40:56.240Z"
   },
   {
    "duration": 8,
    "start_time": "2022-04-22T12:40:56.258Z"
   },
   {
    "duration": 50,
    "start_time": "2022-04-22T12:40:56.268Z"
   },
   {
    "duration": 9,
    "start_time": "2022-04-22T12:40:56.320Z"
   },
   {
    "duration": 9,
    "start_time": "2022-04-22T12:40:56.331Z"
   },
   {
    "duration": 20,
    "start_time": "2022-04-22T12:40:56.341Z"
   },
   {
    "duration": 15,
    "start_time": "2022-04-22T12:40:56.362Z"
   },
   {
    "duration": 32,
    "start_time": "2022-04-22T12:40:56.379Z"
   },
   {
    "duration": 4,
    "start_time": "2022-04-22T12:40:56.413Z"
   },
   {
    "duration": 9,
    "start_time": "2022-04-22T12:40:56.419Z"
   },
   {
    "duration": 14,
    "start_time": "2022-04-22T12:40:56.429Z"
   },
   {
    "duration": 9,
    "start_time": "2022-04-22T12:40:56.444Z"
   },
   {
    "duration": 18,
    "start_time": "2022-04-22T12:40:56.454Z"
   },
   {
    "duration": 43,
    "start_time": "2022-04-22T12:40:56.473Z"
   },
   {
    "duration": 15,
    "start_time": "2022-04-22T12:40:56.517Z"
   },
   {
    "duration": 16,
    "start_time": "2022-04-22T12:40:56.534Z"
   },
   {
    "duration": 16,
    "start_time": "2022-04-22T12:40:56.552Z"
   },
   {
    "duration": 45,
    "start_time": "2022-04-22T12:40:56.569Z"
   },
   {
    "duration": 11,
    "start_time": "2022-04-22T12:40:56.615Z"
   },
   {
    "duration": 77,
    "start_time": "2022-04-22T12:41:38.681Z"
   },
   {
    "duration": 15,
    "start_time": "2022-04-22T12:42:38.174Z"
   },
   {
    "duration": 9,
    "start_time": "2022-04-22T12:45:18.874Z"
   },
   {
    "duration": 8,
    "start_time": "2022-04-22T12:45:42.111Z"
   },
   {
    "duration": 5,
    "start_time": "2022-04-22T12:45:51.222Z"
   },
   {
    "duration": 18,
    "start_time": "2022-04-22T12:45:54.937Z"
   },
   {
    "duration": 11,
    "start_time": "2022-04-22T12:46:21.092Z"
   },
   {
    "duration": 10,
    "start_time": "2022-04-22T12:46:42.112Z"
   },
   {
    "duration": 7,
    "start_time": "2022-04-22T12:47:35.010Z"
   },
   {
    "duration": 18,
    "start_time": "2022-04-22T12:47:48.017Z"
   },
   {
    "duration": 18,
    "start_time": "2022-04-22T12:48:18.467Z"
   },
   {
    "duration": 18,
    "start_time": "2022-04-22T12:48:21.089Z"
   },
   {
    "duration": 14,
    "start_time": "2022-04-22T12:48:29.072Z"
   },
   {
    "duration": 7,
    "start_time": "2022-04-22T12:53:44.825Z"
   },
   {
    "duration": 6,
    "start_time": "2022-04-22T12:54:02.556Z"
   },
   {
    "duration": 6,
    "start_time": "2022-04-22T12:54:24.680Z"
   },
   {
    "duration": 5,
    "start_time": "2022-04-22T12:54:52.426Z"
   },
   {
    "duration": 6,
    "start_time": "2022-04-22T13:00:04.638Z"
   },
   {
    "duration": 134,
    "start_time": "2022-04-22T13:21:34.364Z"
   },
   {
    "duration": 12,
    "start_time": "2022-04-22T13:22:15.419Z"
   },
   {
    "duration": 116,
    "start_time": "2022-04-22T13:22:45.501Z"
   },
   {
    "duration": 12,
    "start_time": "2022-04-22T13:24:36.000Z"
   },
   {
    "duration": 114,
    "start_time": "2022-04-22T13:25:31.536Z"
   },
   {
    "duration": 8,
    "start_time": "2022-04-22T13:27:21.898Z"
   },
   {
    "duration": 110,
    "start_time": "2022-04-22T13:28:16.902Z"
   },
   {
    "duration": 8,
    "start_time": "2022-04-22T13:28:24.617Z"
   },
   {
    "duration": 109,
    "start_time": "2022-04-22T13:28:34.883Z"
   },
   {
    "duration": 9,
    "start_time": "2022-04-22T13:29:36.256Z"
   },
   {
    "duration": 105,
    "start_time": "2022-04-22T13:29:41.517Z"
   },
   {
    "duration": 413,
    "start_time": "2022-04-22T13:31:11.092Z"
   },
   {
    "duration": 10,
    "start_time": "2022-04-22T13:31:43.645Z"
   },
   {
    "duration": 7,
    "start_time": "2022-04-22T13:31:49.947Z"
   },
   {
    "duration": 10,
    "start_time": "2022-04-22T13:33:29.240Z"
   },
   {
    "duration": 12,
    "start_time": "2022-04-22T13:40:46.065Z"
   },
   {
    "duration": 11,
    "start_time": "2022-04-22T13:41:06.543Z"
   },
   {
    "duration": 9,
    "start_time": "2022-04-22T13:43:48.956Z"
   },
   {
    "duration": 9,
    "start_time": "2022-04-22T13:44:11.263Z"
   },
   {
    "duration": 2,
    "start_time": "2022-04-22T13:44:20.584Z"
   },
   {
    "duration": 4,
    "start_time": "2022-04-22T13:44:25.315Z"
   },
   {
    "duration": 10,
    "start_time": "2022-04-22T13:49:48.368Z"
   },
   {
    "duration": 14,
    "start_time": "2022-04-22T14:09:42.422Z"
   },
   {
    "duration": 4,
    "start_time": "2022-04-22T14:12:44.460Z"
   },
   {
    "duration": 80,
    "start_time": "2022-04-22T17:31:08.803Z"
   },
   {
    "duration": 1825,
    "start_time": "2022-04-22T17:31:28.961Z"
   },
   {
    "duration": 157,
    "start_time": "2022-04-22T17:31:30.789Z"
   },
   {
    "duration": 22,
    "start_time": "2022-04-22T17:31:30.948Z"
   },
   {
    "duration": 11,
    "start_time": "2022-04-22T17:31:30.973Z"
   },
   {
    "duration": 13,
    "start_time": "2022-04-22T17:31:30.987Z"
   },
   {
    "duration": 13,
    "start_time": "2022-04-22T17:31:31.024Z"
   },
   {
    "duration": 9,
    "start_time": "2022-04-22T17:31:31.041Z"
   },
   {
    "duration": 36,
    "start_time": "2022-04-22T17:31:31.052Z"
   },
   {
    "duration": 42,
    "start_time": "2022-04-22T17:31:31.090Z"
   },
   {
    "duration": 20,
    "start_time": "2022-04-22T17:31:31.138Z"
   },
   {
    "duration": 19,
    "start_time": "2022-04-22T17:31:31.161Z"
   },
   {
    "duration": 3,
    "start_time": "2022-04-22T17:31:31.182Z"
   },
   {
    "duration": 45,
    "start_time": "2022-04-22T17:31:31.187Z"
   },
   {
    "duration": 24,
    "start_time": "2022-04-22T17:31:31.235Z"
   },
   {
    "duration": 11,
    "start_time": "2022-04-22T17:31:31.261Z"
   },
   {
    "duration": 23,
    "start_time": "2022-04-22T17:31:31.275Z"
   },
   {
    "duration": 20,
    "start_time": "2022-04-22T17:31:31.301Z"
   },
   {
    "duration": 29,
    "start_time": "2022-04-22T17:31:31.323Z"
   },
   {
    "duration": 14,
    "start_time": "2022-04-22T17:31:31.355Z"
   },
   {
    "duration": 28,
    "start_time": "2022-04-22T17:31:31.371Z"
   },
   {
    "duration": 7,
    "start_time": "2022-04-22T17:31:31.401Z"
   },
   {
    "duration": 40,
    "start_time": "2022-04-22T17:31:31.410Z"
   },
   {
    "duration": 10,
    "start_time": "2022-04-22T17:31:31.452Z"
   },
   {
    "duration": 31,
    "start_time": "2022-04-22T17:31:31.464Z"
   },
   {
    "duration": 62,
    "start_time": "2022-04-22T17:31:31.497Z"
   },
   {
    "duration": 613,
    "start_time": "2022-04-22T17:31:31.561Z"
   },
   {
    "duration": 267,
    "start_time": "2022-04-22T17:31:32.176Z"
   },
   {
    "duration": 27,
    "start_time": "2022-04-22T17:31:32.454Z"
   },
   {
    "duration": 41,
    "start_time": "2022-04-22T17:31:32.483Z"
   },
   {
    "duration": 18,
    "start_time": "2022-04-22T17:31:32.529Z"
   },
   {
    "duration": 11,
    "start_time": "2022-04-22T17:31:32.549Z"
   },
   {
    "duration": 8,
    "start_time": "2022-04-22T17:31:32.563Z"
   },
   {
    "duration": 131,
    "start_time": "2022-04-22T17:31:32.573Z"
   },
   {
    "duration": 8,
    "start_time": "2022-04-22T17:31:32.706Z"
   },
   {
    "duration": 243,
    "start_time": "2022-04-22T17:31:32.725Z"
   },
   {
    "duration": 16,
    "start_time": "2022-04-22T17:31:32.970Z"
   },
   {
    "duration": 269,
    "start_time": "2022-04-22T17:31:32.988Z"
   },
   {
    "duration": 9,
    "start_time": "2022-04-22T17:31:33.259Z"
   },
   {
    "duration": 246,
    "start_time": "2022-04-22T17:31:33.270Z"
   },
   {
    "duration": 13,
    "start_time": "2022-04-22T17:31:33.518Z"
   },
   {
    "duration": 241,
    "start_time": "2022-04-22T17:31:33.533Z"
   },
   {
    "duration": 10,
    "start_time": "2022-04-22T17:31:33.777Z"
   },
   {
    "duration": 240,
    "start_time": "2022-04-22T17:31:33.790Z"
   },
   {
    "duration": 11,
    "start_time": "2022-04-22T17:31:34.033Z"
   },
   {
    "duration": 236,
    "start_time": "2022-04-22T17:31:34.046Z"
   },
   {
    "duration": 9,
    "start_time": "2022-04-22T17:31:34.284Z"
   },
   {
    "duration": 223,
    "start_time": "2022-04-22T17:31:34.295Z"
   },
   {
    "duration": 9,
    "start_time": "2022-04-22T17:31:34.524Z"
   },
   {
    "duration": 291,
    "start_time": "2022-04-22T17:31:34.535Z"
   },
   {
    "duration": 9,
    "start_time": "2022-04-22T17:31:34.828Z"
   },
   {
    "duration": 233,
    "start_time": "2022-04-22T17:31:34.840Z"
   },
   {
    "duration": 9,
    "start_time": "2022-04-22T17:31:35.075Z"
   },
   {
    "duration": 226,
    "start_time": "2022-04-22T17:31:35.086Z"
   },
   {
    "duration": 17,
    "start_time": "2022-04-22T17:31:35.314Z"
   },
   {
    "duration": 308,
    "start_time": "2022-04-22T17:31:35.334Z"
   },
   {
    "duration": 9,
    "start_time": "2022-04-22T17:31:35.646Z"
   },
   {
    "duration": 245,
    "start_time": "2022-04-22T17:31:35.657Z"
   },
   {
    "duration": 9,
    "start_time": "2022-04-22T17:31:35.904Z"
   },
   {
    "duration": 260,
    "start_time": "2022-04-22T17:31:35.926Z"
   },
   {
    "duration": 9,
    "start_time": "2022-04-22T17:31:36.189Z"
   },
   {
    "duration": 242,
    "start_time": "2022-04-22T17:31:36.200Z"
   },
   {
    "duration": 9,
    "start_time": "2022-04-22T17:31:36.445Z"
   },
   {
    "duration": 275,
    "start_time": "2022-04-22T17:31:36.456Z"
   },
   {
    "duration": 9,
    "start_time": "2022-04-22T17:31:36.733Z"
   },
   {
    "duration": 20,
    "start_time": "2022-04-22T17:31:36.744Z"
   },
   {
    "duration": 7,
    "start_time": "2022-04-22T17:31:36.766Z"
   },
   {
    "duration": 9,
    "start_time": "2022-04-22T17:31:36.775Z"
   },
   {
    "duration": 81,
    "start_time": "2022-04-22T17:31:36.785Z"
   },
   {
    "duration": 4,
    "start_time": "2022-04-22T17:31:36.868Z"
   },
   {
    "duration": 51,
    "start_time": "2022-04-22T17:31:36.874Z"
   },
   {
    "duration": 7,
    "start_time": "2022-04-22T17:31:36.928Z"
   },
   {
    "duration": 19,
    "start_time": "2022-04-22T17:31:36.937Z"
   },
   {
    "duration": 21,
    "start_time": "2022-04-22T17:31:36.958Z"
   },
   {
    "duration": 10,
    "start_time": "2022-04-22T17:31:36.981Z"
   },
   {
    "duration": 37,
    "start_time": "2022-04-22T17:31:37.026Z"
   },
   {
    "duration": 26,
    "start_time": "2022-04-22T17:31:37.065Z"
   },
   {
    "duration": 314,
    "start_time": "2022-04-22T17:31:37.093Z"
   },
   {
    "duration": 307,
    "start_time": "2022-04-22T17:31:37.409Z"
   },
   {
    "duration": 17,
    "start_time": "2022-04-22T17:31:37.718Z"
   },
   {
    "duration": 21,
    "start_time": "2022-04-22T17:31:37.738Z"
   },
   {
    "duration": 14,
    "start_time": "2022-04-22T17:31:37.762Z"
   },
   {
    "duration": 40,
    "start_time": "2022-04-22T17:31:37.786Z"
   },
   {
    "duration": 34,
    "start_time": "2022-04-22T17:31:37.831Z"
   },
   {
    "duration": 58,
    "start_time": "2022-04-22T17:31:37.867Z"
   },
   {
    "duration": 13,
    "start_time": "2022-04-22T17:31:37.928Z"
   },
   {
    "duration": 245,
    "start_time": "2022-04-22T17:31:37.943Z"
   },
   {
    "duration": 7,
    "start_time": "2022-04-22T17:31:38.190Z"
   },
   {
    "duration": 329,
    "start_time": "2022-04-22T17:31:38.199Z"
   },
   {
    "duration": 7,
    "start_time": "2022-04-22T17:31:38.530Z"
   },
   {
    "duration": 19,
    "start_time": "2022-04-22T17:31:38.539Z"
   },
   {
    "duration": 235,
    "start_time": "2022-04-22T17:31:38.561Z"
   },
   {
    "duration": 7,
    "start_time": "2022-04-22T17:31:38.798Z"
   },
   {
    "duration": 333,
    "start_time": "2022-04-22T17:31:38.807Z"
   },
   {
    "duration": 8,
    "start_time": "2022-04-22T17:31:39.144Z"
   },
   {
    "duration": 12,
    "start_time": "2022-04-22T17:31:39.155Z"
   },
   {
    "duration": 225,
    "start_time": "2022-04-22T17:31:54.481Z"
   },
   {
    "duration": 8,
    "start_time": "2022-04-22T17:31:56.758Z"
   },
   {
    "duration": 6,
    "start_time": "2022-04-22T17:31:58.932Z"
   },
   {
    "duration": 1498,
    "start_time": "2022-04-22T17:36:37.000Z"
   },
   {
    "duration": 176,
    "start_time": "2022-04-22T17:36:38.501Z"
   },
   {
    "duration": 30,
    "start_time": "2022-04-22T17:36:38.680Z"
   },
   {
    "duration": 6,
    "start_time": "2022-04-22T17:36:38.725Z"
   },
   {
    "duration": 7,
    "start_time": "2022-04-22T17:36:38.734Z"
   },
   {
    "duration": 10,
    "start_time": "2022-04-22T17:36:38.743Z"
   },
   {
    "duration": 8,
    "start_time": "2022-04-22T17:36:38.756Z"
   },
   {
    "duration": 75,
    "start_time": "2022-04-22T17:36:38.767Z"
   },
   {
    "duration": 14,
    "start_time": "2022-04-22T17:36:38.844Z"
   },
   {
    "duration": 16,
    "start_time": "2022-04-22T17:36:38.864Z"
   },
   {
    "duration": 56,
    "start_time": "2022-04-22T17:36:38.883Z"
   },
   {
    "duration": 4,
    "start_time": "2022-04-22T17:36:38.941Z"
   },
   {
    "duration": 14,
    "start_time": "2022-04-22T17:36:38.948Z"
   },
   {
    "duration": 9,
    "start_time": "2022-04-22T17:36:38.965Z"
   },
   {
    "duration": 49,
    "start_time": "2022-04-22T17:36:38.976Z"
   },
   {
    "duration": 7,
    "start_time": "2022-04-22T17:36:39.028Z"
   },
   {
    "duration": 14,
    "start_time": "2022-04-22T17:36:39.038Z"
   },
   {
    "duration": 26,
    "start_time": "2022-04-22T17:36:39.055Z"
   },
   {
    "duration": 18,
    "start_time": "2022-04-22T17:36:39.083Z"
   },
   {
    "duration": 42,
    "start_time": "2022-04-22T17:36:39.104Z"
   },
   {
    "duration": 7,
    "start_time": "2022-04-22T17:36:39.148Z"
   },
   {
    "duration": 40,
    "start_time": "2022-04-22T17:36:39.157Z"
   },
   {
    "duration": 27,
    "start_time": "2022-04-22T17:36:39.199Z"
   },
   {
    "duration": 22,
    "start_time": "2022-04-22T17:36:39.229Z"
   },
   {
    "duration": 32,
    "start_time": "2022-04-22T17:36:39.253Z"
   },
   {
    "duration": 596,
    "start_time": "2022-04-22T17:36:39.287Z"
   },
   {
    "duration": 366,
    "start_time": "2022-04-22T17:36:39.885Z"
   },
   {
    "duration": 40,
    "start_time": "2022-04-22T17:36:40.261Z"
   },
   {
    "duration": 12,
    "start_time": "2022-04-22T17:36:40.324Z"
   },
   {
    "duration": 19,
    "start_time": "2022-04-22T17:36:40.340Z"
   },
   {
    "duration": 15,
    "start_time": "2022-04-22T17:36:40.362Z"
   },
   {
    "duration": 48,
    "start_time": "2022-04-22T17:36:40.380Z"
   },
   {
    "duration": 106,
    "start_time": "2022-04-22T17:36:40.430Z"
   },
   {
    "duration": 7,
    "start_time": "2022-04-22T17:36:40.539Z"
   },
   {
    "duration": 238,
    "start_time": "2022-04-22T17:36:40.550Z"
   },
   {
    "duration": 37,
    "start_time": "2022-04-22T17:36:40.790Z"
   },
   {
    "duration": 342,
    "start_time": "2022-04-22T17:36:40.830Z"
   },
   {
    "duration": 12,
    "start_time": "2022-04-22T17:36:41.175Z"
   },
   {
    "duration": 244,
    "start_time": "2022-04-22T17:36:41.189Z"
   },
   {
    "duration": 12,
    "start_time": "2022-04-22T17:36:41.435Z"
   },
   {
    "duration": 306,
    "start_time": "2022-04-22T17:36:41.450Z"
   },
   {
    "duration": 9,
    "start_time": "2022-04-22T17:36:41.759Z"
   },
   {
    "duration": 245,
    "start_time": "2022-04-22T17:36:41.770Z"
   },
   {
    "duration": 9,
    "start_time": "2022-04-22T17:36:42.026Z"
   },
   {
    "duration": 275,
    "start_time": "2022-04-22T17:36:42.037Z"
   },
   {
    "duration": 21,
    "start_time": "2022-04-22T17:36:42.315Z"
   },
   {
    "duration": 308,
    "start_time": "2022-04-22T17:36:42.339Z"
   },
   {
    "duration": 12,
    "start_time": "2022-04-22T17:36:42.650Z"
   },
   {
    "duration": 413,
    "start_time": "2022-04-22T17:36:42.665Z"
   },
   {
    "duration": 13,
    "start_time": "2022-04-22T17:36:43.081Z"
   },
   {
    "duration": 235,
    "start_time": "2022-04-22T17:36:43.096Z"
   },
   {
    "duration": 10,
    "start_time": "2022-04-22T17:36:43.333Z"
   },
   {
    "duration": 225,
    "start_time": "2022-04-22T17:36:43.345Z"
   },
   {
    "duration": 10,
    "start_time": "2022-04-22T17:36:43.573Z"
   },
   {
    "duration": 209,
    "start_time": "2022-04-22T17:36:43.586Z"
   },
   {
    "duration": 9,
    "start_time": "2022-04-22T17:36:43.797Z"
   },
   {
    "duration": 209,
    "start_time": "2022-04-22T17:36:43.825Z"
   },
   {
    "duration": 9,
    "start_time": "2022-04-22T17:36:44.036Z"
   },
   {
    "duration": 242,
    "start_time": "2022-04-22T17:36:44.048Z"
   },
   {
    "duration": 9,
    "start_time": "2022-04-22T17:36:44.293Z"
   },
   {
    "duration": 235,
    "start_time": "2022-04-22T17:36:44.305Z"
   },
   {
    "duration": 10,
    "start_time": "2022-04-22T17:36:44.543Z"
   },
   {
    "duration": 216,
    "start_time": "2022-04-22T17:36:44.556Z"
   },
   {
    "duration": 10,
    "start_time": "2022-04-22T17:36:44.775Z"
   },
   {
    "duration": 37,
    "start_time": "2022-04-22T17:36:44.788Z"
   },
   {
    "duration": 10,
    "start_time": "2022-04-22T17:36:44.828Z"
   },
   {
    "duration": 8,
    "start_time": "2022-04-22T17:36:44.840Z"
   },
   {
    "duration": 77,
    "start_time": "2022-04-22T17:36:44.850Z"
   },
   {
    "duration": 4,
    "start_time": "2022-04-22T17:36:44.929Z"
   },
   {
    "duration": 27,
    "start_time": "2022-04-22T17:36:44.935Z"
   },
   {
    "duration": 13,
    "start_time": "2022-04-22T17:36:44.964Z"
   },
   {
    "duration": 13,
    "start_time": "2022-04-22T17:36:44.980Z"
   },
   {
    "duration": 48,
    "start_time": "2022-04-22T17:36:44.995Z"
   },
   {
    "duration": 18,
    "start_time": "2022-04-22T17:36:45.046Z"
   },
   {
    "duration": 59,
    "start_time": "2022-04-22T17:36:45.067Z"
   },
   {
    "duration": 28,
    "start_time": "2022-04-22T17:36:45.129Z"
   },
   {
    "duration": 306,
    "start_time": "2022-04-22T17:36:45.159Z"
   },
   {
    "duration": 290,
    "start_time": "2022-04-22T17:36:45.468Z"
   },
   {
    "duration": 12,
    "start_time": "2022-04-22T17:36:45.760Z"
   },
   {
    "duration": 14,
    "start_time": "2022-04-22T17:36:45.775Z"
   },
   {
    "duration": 36,
    "start_time": "2022-04-22T17:36:45.791Z"
   },
   {
    "duration": 17,
    "start_time": "2022-04-22T17:36:45.838Z"
   },
   {
    "duration": 33,
    "start_time": "2022-04-22T17:36:45.858Z"
   },
   {
    "duration": 56,
    "start_time": "2022-04-22T17:36:45.893Z"
   },
   {
    "duration": 7,
    "start_time": "2022-04-22T17:36:45.951Z"
   },
   {
    "duration": 241,
    "start_time": "2022-04-22T17:36:45.961Z"
   },
   {
    "duration": 7,
    "start_time": "2022-04-22T17:36:46.204Z"
   },
   {
    "duration": 327,
    "start_time": "2022-04-22T17:36:46.225Z"
   },
   {
    "duration": 8,
    "start_time": "2022-04-22T17:36:46.555Z"
   },
   {
    "duration": 11,
    "start_time": "2022-04-22T17:36:46.565Z"
   },
   {
    "duration": 246,
    "start_time": "2022-04-22T17:36:46.578Z"
   },
   {
    "duration": 7,
    "start_time": "2022-04-22T17:36:46.827Z"
   },
   {
    "duration": 233,
    "start_time": "2022-04-22T17:36:46.837Z"
   },
   {
    "duration": 9,
    "start_time": "2022-04-22T17:36:47.072Z"
   },
   {
    "duration": 10,
    "start_time": "2022-04-22T17:36:47.084Z"
   },
   {
    "duration": 243,
    "start_time": "2022-04-22T17:36:47.096Z"
   },
   {
    "duration": 7,
    "start_time": "2022-04-22T17:36:47.341Z"
   },
   {
    "duration": 12,
    "start_time": "2022-04-22T17:36:47.350Z"
   },
   {
    "duration": 27,
    "start_time": "2022-04-22T17:36:47.364Z"
   },
   {
    "duration": 340,
    "start_time": "2022-04-22T17:36:47.393Z"
   },
   {
    "duration": 20,
    "start_time": "2022-04-22T17:36:47.736Z"
   },
   {
    "duration": 321,
    "start_time": "2022-04-22T17:36:47.758Z"
   },
   {
    "duration": 42,
    "start_time": "2022-04-22T17:36:48.082Z"
   },
   {
    "duration": 15,
    "start_time": "2022-04-22T17:36:48.127Z"
   },
   {
    "duration": 32,
    "start_time": "2022-04-22T17:36:48.144Z"
   },
   {
    "duration": 15,
    "start_time": "2022-04-22T17:36:48.178Z"
   },
   {
    "duration": 62,
    "start_time": "2022-04-22T17:36:48.196Z"
   },
   {
    "duration": 21,
    "start_time": "2022-04-22T17:36:48.261Z"
   },
   {
    "duration": 43,
    "start_time": "2022-04-22T17:36:48.284Z"
   },
   {
    "duration": 42,
    "start_time": "2022-04-22T17:36:48.330Z"
   },
   {
    "duration": 15,
    "start_time": "2022-04-22T17:36:48.375Z"
   },
   {
    "duration": 41,
    "start_time": "2022-04-22T17:36:48.393Z"
   },
   {
    "duration": 6,
    "start_time": "2022-04-22T17:36:48.437Z"
   },
   {
    "duration": 17,
    "start_time": "2022-04-22T17:36:48.447Z"
   },
   {
    "duration": 25,
    "start_time": "2022-04-22T17:36:48.467Z"
   },
   {
    "duration": 15,
    "start_time": "2022-04-22T17:36:48.524Z"
   },
   {
    "duration": 25,
    "start_time": "2022-04-22T17:36:48.541Z"
   },
   {
    "duration": 16,
    "start_time": "2022-04-22T17:36:48.568Z"
   },
   {
    "duration": 69,
    "start_time": "2022-04-22T17:36:48.587Z"
   },
   {
    "duration": 23,
    "start_time": "2022-04-22T17:36:48.658Z"
   },
   {
    "duration": 56,
    "start_time": "2022-04-22T17:36:48.684Z"
   },
   {
    "duration": 27,
    "start_time": "2022-04-22T17:36:48.743Z"
   },
   {
    "duration": 54,
    "start_time": "2022-04-22T17:36:48.772Z"
   },
   {
    "duration": 23,
    "start_time": "2022-04-22T17:36:48.828Z"
   },
   {
    "duration": 11,
    "start_time": "2022-04-22T17:36:48.854Z"
   },
   {
    "duration": 19,
    "start_time": "2022-04-22T17:36:48.867Z"
   },
   {
    "duration": 54,
    "start_time": "2022-04-22T17:36:48.889Z"
   },
   {
    "duration": 31,
    "start_time": "2022-04-22T17:36:48.946Z"
   },
   {
    "duration": 45,
    "start_time": "2022-04-22T17:36:48.979Z"
   },
   {
    "duration": 26,
    "start_time": "2022-04-22T17:36:49.027Z"
   },
   {
    "duration": 18,
    "start_time": "2022-04-22T17:36:49.056Z"
   },
   {
    "duration": 50,
    "start_time": "2022-04-22T17:36:49.077Z"
   },
   {
    "duration": 14,
    "start_time": "2022-04-22T17:36:49.130Z"
   },
   {
    "duration": 14,
    "start_time": "2022-04-22T17:36:49.147Z"
   },
   {
    "duration": 33,
    "start_time": "2022-04-22T17:36:49.164Z"
   },
   {
    "duration": 30,
    "start_time": "2022-04-22T17:36:49.199Z"
   },
   {
    "duration": 30,
    "start_time": "2022-04-22T17:36:49.231Z"
   },
   {
    "duration": 6,
    "start_time": "2022-04-22T17:36:49.264Z"
   },
   {
    "duration": 22,
    "start_time": "2022-04-22T17:36:49.272Z"
   },
   {
    "duration": 49,
    "start_time": "2022-04-22T17:36:49.296Z"
   },
   {
    "duration": 15,
    "start_time": "2022-04-22T17:36:49.347Z"
   },
   {
    "duration": 32,
    "start_time": "2022-04-22T17:36:49.364Z"
   },
   {
    "duration": 35,
    "start_time": "2022-04-22T17:36:49.398Z"
   },
   {
    "duration": 41,
    "start_time": "2022-04-22T17:36:49.436Z"
   },
   {
    "duration": 8,
    "start_time": "2022-04-22T17:36:49.479Z"
   },
   {
    "duration": 36,
    "start_time": "2022-04-22T17:36:49.490Z"
   },
   {
    "duration": 19,
    "start_time": "2022-04-22T17:36:49.528Z"
   },
   {
    "duration": 6,
    "start_time": "2022-04-22T17:36:49.549Z"
   },
   {
    "duration": 25,
    "start_time": "2022-04-22T17:36:49.557Z"
   },
   {
    "duration": 6,
    "start_time": "2022-04-22T17:36:49.584Z"
   },
   {
    "duration": 1356,
    "start_time": "2022-04-23T07:46:30.292Z"
   },
   {
    "duration": 80,
    "start_time": "2022-04-23T07:46:31.649Z"
   },
   {
    "duration": 14,
    "start_time": "2022-04-23T07:46:31.731Z"
   },
   {
    "duration": 4,
    "start_time": "2022-04-23T07:46:31.747Z"
   },
   {
    "duration": 12,
    "start_time": "2022-04-23T07:46:31.752Z"
   },
   {
    "duration": 7,
    "start_time": "2022-04-23T07:46:31.765Z"
   },
   {
    "duration": 2,
    "start_time": "2022-04-23T07:46:31.774Z"
   },
   {
    "duration": 51,
    "start_time": "2022-04-23T07:46:31.778Z"
   },
   {
    "duration": 9,
    "start_time": "2022-04-23T07:46:31.831Z"
   },
   {
    "duration": 19,
    "start_time": "2022-04-23T07:46:31.843Z"
   },
   {
    "duration": 13,
    "start_time": "2022-04-23T07:46:31.864Z"
   },
   {
    "duration": 9,
    "start_time": "2022-04-23T07:46:31.879Z"
   },
   {
    "duration": 32,
    "start_time": "2022-04-23T07:46:31.889Z"
   },
   {
    "duration": 10,
    "start_time": "2022-04-23T07:46:31.923Z"
   },
   {
    "duration": 14,
    "start_time": "2022-04-23T07:46:31.935Z"
   },
   {
    "duration": 19,
    "start_time": "2022-04-23T07:46:31.951Z"
   },
   {
    "duration": 10,
    "start_time": "2022-04-23T07:46:31.971Z"
   },
   {
    "duration": 9,
    "start_time": "2022-04-23T07:46:31.983Z"
   },
   {
    "duration": 16,
    "start_time": "2022-04-23T07:46:31.994Z"
   },
   {
    "duration": 21,
    "start_time": "2022-04-23T07:46:32.013Z"
   },
   {
    "duration": 9,
    "start_time": "2022-04-23T07:46:32.036Z"
   },
   {
    "duration": 14,
    "start_time": "2022-04-23T07:46:32.046Z"
   },
   {
    "duration": 11,
    "start_time": "2022-04-23T07:46:32.061Z"
   },
   {
    "duration": 22,
    "start_time": "2022-04-23T07:46:32.073Z"
   },
   {
    "duration": 30,
    "start_time": "2022-04-23T07:46:32.096Z"
   },
   {
    "duration": 334,
    "start_time": "2022-04-23T07:46:32.128Z"
   },
   {
    "duration": 158,
    "start_time": "2022-04-23T07:46:32.463Z"
   },
   {
    "duration": 17,
    "start_time": "2022-04-23T07:46:32.626Z"
   },
   {
    "duration": 5,
    "start_time": "2022-04-23T07:46:32.644Z"
   },
   {
    "duration": 13,
    "start_time": "2022-04-23T07:46:32.650Z"
   },
   {
    "duration": 11,
    "start_time": "2022-04-23T07:46:32.664Z"
   },
   {
    "duration": 16,
    "start_time": "2022-04-23T07:46:32.676Z"
   },
   {
    "duration": 65,
    "start_time": "2022-04-23T07:46:32.693Z"
   },
   {
    "duration": 6,
    "start_time": "2022-04-23T07:46:32.761Z"
   },
   {
    "duration": 157,
    "start_time": "2022-04-23T07:46:32.769Z"
   },
   {
    "duration": 10,
    "start_time": "2022-04-23T07:46:32.927Z"
   },
   {
    "duration": 148,
    "start_time": "2022-04-23T07:46:32.938Z"
   },
   {
    "duration": 6,
    "start_time": "2022-04-23T07:46:33.087Z"
   },
   {
    "duration": 142,
    "start_time": "2022-04-23T07:46:33.095Z"
   },
   {
    "duration": 6,
    "start_time": "2022-04-23T07:46:33.238Z"
   },
   {
    "duration": 136,
    "start_time": "2022-04-23T07:46:33.245Z"
   },
   {
    "duration": 6,
    "start_time": "2022-04-23T07:46:33.382Z"
   },
   {
    "duration": 142,
    "start_time": "2022-04-23T07:46:33.389Z"
   },
   {
    "duration": 5,
    "start_time": "2022-04-23T07:46:33.533Z"
   },
   {
    "duration": 147,
    "start_time": "2022-04-23T07:46:33.540Z"
   },
   {
    "duration": 6,
    "start_time": "2022-04-23T07:46:33.689Z"
   },
   {
    "duration": 136,
    "start_time": "2022-04-23T07:46:33.697Z"
   },
   {
    "duration": 7,
    "start_time": "2022-04-23T07:46:33.835Z"
   },
   {
    "duration": 207,
    "start_time": "2022-04-23T07:46:33.844Z"
   },
   {
    "duration": 8,
    "start_time": "2022-04-23T07:46:34.053Z"
   },
   {
    "duration": 147,
    "start_time": "2022-04-23T07:46:34.063Z"
   },
   {
    "duration": 10,
    "start_time": "2022-04-23T07:46:34.212Z"
   },
   {
    "duration": 134,
    "start_time": "2022-04-23T07:46:34.224Z"
   },
   {
    "duration": 6,
    "start_time": "2022-04-23T07:46:34.359Z"
   },
   {
    "duration": 124,
    "start_time": "2022-04-23T07:46:34.367Z"
   },
   {
    "duration": 7,
    "start_time": "2022-04-23T07:46:34.492Z"
   },
   {
    "duration": 140,
    "start_time": "2022-04-23T07:46:34.501Z"
   },
   {
    "duration": 7,
    "start_time": "2022-04-23T07:46:34.643Z"
   },
   {
    "duration": 143,
    "start_time": "2022-04-23T07:46:34.652Z"
   },
   {
    "duration": 11,
    "start_time": "2022-04-23T07:46:34.797Z"
   },
   {
    "duration": 134,
    "start_time": "2022-04-23T07:46:34.811Z"
   },
   {
    "duration": 6,
    "start_time": "2022-04-23T07:46:34.947Z"
   },
   {
    "duration": 133,
    "start_time": "2022-04-23T07:46:34.955Z"
   },
   {
    "duration": 17,
    "start_time": "2022-04-23T07:46:35.090Z"
   },
   {
    "duration": 13,
    "start_time": "2022-04-23T07:46:35.110Z"
   },
   {
    "duration": 9,
    "start_time": "2022-04-23T07:46:35.125Z"
   },
   {
    "duration": 12,
    "start_time": "2022-04-23T07:46:35.136Z"
   },
   {
    "duration": 35,
    "start_time": "2022-04-23T07:46:35.149Z"
   },
   {
    "duration": 23,
    "start_time": "2022-04-23T07:46:35.186Z"
   },
   {
    "duration": 28,
    "start_time": "2022-04-23T07:46:35.211Z"
   },
   {
    "duration": 12,
    "start_time": "2022-04-23T07:46:35.241Z"
   },
   {
    "duration": 10,
    "start_time": "2022-04-23T07:46:35.254Z"
   },
   {
    "duration": 13,
    "start_time": "2022-04-23T07:46:35.265Z"
   },
   {
    "duration": 7,
    "start_time": "2022-04-23T07:46:35.279Z"
   },
   {
    "duration": 38,
    "start_time": "2022-04-23T07:46:35.287Z"
   },
   {
    "duration": 18,
    "start_time": "2022-04-23T07:46:35.327Z"
   },
   {
    "duration": 175,
    "start_time": "2022-04-23T07:46:35.346Z"
   },
   {
    "duration": 170,
    "start_time": "2022-04-23T07:46:35.523Z"
   },
   {
    "duration": 12,
    "start_time": "2022-04-23T07:46:35.695Z"
   },
   {
    "duration": 8,
    "start_time": "2022-04-23T07:46:35.709Z"
   },
   {
    "duration": 9,
    "start_time": "2022-04-23T07:46:35.718Z"
   },
   {
    "duration": 11,
    "start_time": "2022-04-23T07:46:35.734Z"
   },
   {
    "duration": 19,
    "start_time": "2022-04-23T07:46:35.746Z"
   },
   {
    "duration": 58,
    "start_time": "2022-04-23T07:46:35.767Z"
   },
   {
    "duration": 4,
    "start_time": "2022-04-23T07:46:35.827Z"
   },
   {
    "duration": 140,
    "start_time": "2022-04-23T07:46:35.833Z"
   },
   {
    "duration": 5,
    "start_time": "2022-04-23T07:46:35.975Z"
   },
   {
    "duration": 233,
    "start_time": "2022-04-23T07:46:35.981Z"
   },
   {
    "duration": 7,
    "start_time": "2022-04-23T07:46:36.217Z"
   },
   {
    "duration": 8,
    "start_time": "2022-04-23T07:46:36.225Z"
   },
   {
    "duration": 140,
    "start_time": "2022-04-23T07:46:36.235Z"
   },
   {
    "duration": 5,
    "start_time": "2022-04-23T07:46:36.376Z"
   },
   {
    "duration": 154,
    "start_time": "2022-04-23T07:46:36.382Z"
   },
   {
    "duration": 5,
    "start_time": "2022-04-23T07:46:36.537Z"
   },
   {
    "duration": 7,
    "start_time": "2022-04-23T07:46:36.543Z"
   },
   {
    "duration": 144,
    "start_time": "2022-04-23T07:46:36.551Z"
   },
   {
    "duration": 5,
    "start_time": "2022-04-23T07:46:36.696Z"
   },
   {
    "duration": 7,
    "start_time": "2022-04-23T07:46:36.709Z"
   },
   {
    "duration": 15,
    "start_time": "2022-04-23T07:46:36.718Z"
   },
   {
    "duration": 206,
    "start_time": "2022-04-23T07:46:36.735Z"
   },
   {
    "duration": 12,
    "start_time": "2022-04-23T07:46:36.943Z"
   },
   {
    "duration": 199,
    "start_time": "2022-04-23T07:46:36.957Z"
   },
   {
    "duration": 16,
    "start_time": "2022-04-23T07:46:37.158Z"
   },
   {
    "duration": 9,
    "start_time": "2022-04-23T07:46:37.176Z"
   },
   {
    "duration": 42,
    "start_time": "2022-04-23T07:46:37.186Z"
   },
   {
    "duration": 10,
    "start_time": "2022-04-23T07:46:37.229Z"
   },
   {
    "duration": 15,
    "start_time": "2022-04-23T07:46:37.241Z"
   },
   {
    "duration": 9,
    "start_time": "2022-04-23T07:46:37.258Z"
   },
   {
    "duration": 5,
    "start_time": "2022-04-23T07:46:37.269Z"
   },
   {
    "duration": 20,
    "start_time": "2022-04-23T07:46:37.307Z"
   },
   {
    "duration": 5,
    "start_time": "2022-04-23T07:46:37.329Z"
   },
   {
    "duration": 16,
    "start_time": "2022-04-23T07:46:37.336Z"
   },
   {
    "duration": 3,
    "start_time": "2022-04-23T07:46:37.354Z"
   },
   {
    "duration": 10,
    "start_time": "2022-04-23T07:46:37.358Z"
   },
   {
    "duration": 41,
    "start_time": "2022-04-23T07:46:37.369Z"
   },
   {
    "duration": 14,
    "start_time": "2022-04-23T07:46:37.412Z"
   },
   {
    "duration": 16,
    "start_time": "2022-04-23T07:46:37.427Z"
   },
   {
    "duration": 8,
    "start_time": "2022-04-23T07:46:37.445Z"
   },
   {
    "duration": 15,
    "start_time": "2022-04-23T07:46:37.454Z"
   },
   {
    "duration": 8,
    "start_time": "2022-04-23T07:46:37.470Z"
   },
   {
    "duration": 22,
    "start_time": "2022-04-23T07:46:37.509Z"
   },
   {
    "duration": 17,
    "start_time": "2022-04-23T07:46:37.533Z"
   },
   {
    "duration": 16,
    "start_time": "2022-04-23T07:46:37.552Z"
   },
   {
    "duration": 46,
    "start_time": "2022-04-23T07:46:37.569Z"
   },
   {
    "duration": 7,
    "start_time": "2022-04-23T07:46:37.618Z"
   },
   {
    "duration": 9,
    "start_time": "2022-04-23T07:46:37.626Z"
   },
   {
    "duration": 8,
    "start_time": "2022-04-23T07:46:37.637Z"
   },
   {
    "duration": 13,
    "start_time": "2022-04-23T07:46:37.647Z"
   },
   {
    "duration": 46,
    "start_time": "2022-04-23T07:46:37.661Z"
   },
   {
    "duration": 19,
    "start_time": "2022-04-23T07:46:37.710Z"
   },
   {
    "duration": 9,
    "start_time": "2022-04-23T07:46:37.730Z"
   },
   {
    "duration": 15,
    "start_time": "2022-04-23T07:46:37.740Z"
   },
   {
    "duration": 8,
    "start_time": "2022-04-23T07:46:37.757Z"
   },
   {
    "duration": 7,
    "start_time": "2022-04-23T07:46:37.766Z"
   },
   {
    "duration": 45,
    "start_time": "2022-04-23T07:46:37.774Z"
   },
   {
    "duration": 5,
    "start_time": "2022-04-23T07:46:37.821Z"
   },
   {
    "duration": 14,
    "start_time": "2022-04-23T07:46:37.828Z"
   },
   {
    "duration": 4,
    "start_time": "2022-04-23T07:46:37.843Z"
   },
   {
    "duration": 11,
    "start_time": "2022-04-23T07:46:37.849Z"
   },
   {
    "duration": 17,
    "start_time": "2022-04-23T07:46:37.861Z"
   },
   {
    "duration": 39,
    "start_time": "2022-04-23T07:46:37.880Z"
   },
   {
    "duration": 13,
    "start_time": "2022-04-23T07:46:37.922Z"
   },
   {
    "duration": 8,
    "start_time": "2022-04-23T07:46:37.936Z"
   },
   {
    "duration": 14,
    "start_time": "2022-04-23T07:46:37.946Z"
   },
   {
    "duration": 4,
    "start_time": "2022-04-23T07:46:37.961Z"
   },
   {
    "duration": 13,
    "start_time": "2022-04-23T07:46:37.966Z"
   },
   {
    "duration": 16,
    "start_time": "2022-04-23T07:46:38.007Z"
   },
   {
    "duration": 4,
    "start_time": "2022-04-23T07:46:38.025Z"
   },
   {
    "duration": 15,
    "start_time": "2022-04-23T07:46:38.031Z"
   },
   {
    "duration": 4,
    "start_time": "2022-04-23T07:46:38.048Z"
   },
   {
    "duration": 9,
    "start_time": "2022-04-23T07:47:24.633Z"
   },
   {
    "duration": 100,
    "start_time": "2022-04-23T07:47:29.363Z"
   },
   {
    "duration": 8,
    "start_time": "2022-04-23T07:47:33.927Z"
   },
   {
    "duration": 1487,
    "start_time": "2022-04-23T07:48:17.588Z"
   },
   {
    "duration": 11,
    "start_time": "2022-04-23T07:48:32.826Z"
   },
   {
    "duration": 118,
    "start_time": "2022-04-23T07:48:40.615Z"
   },
   {
    "duration": 26,
    "start_time": "2022-04-23T07:48:52.180Z"
   },
   {
    "duration": 13,
    "start_time": "2022-04-23T07:49:11.446Z"
   },
   {
    "duration": 27,
    "start_time": "2022-04-23T07:50:16.710Z"
   },
   {
    "duration": 22,
    "start_time": "2022-04-23T07:50:22.027Z"
   },
   {
    "duration": 9,
    "start_time": "2022-04-23T07:50:26.527Z"
   },
   {
    "duration": 27,
    "start_time": "2022-04-23T07:50:33.431Z"
   },
   {
    "duration": 9,
    "start_time": "2022-04-23T07:50:43.160Z"
   },
   {
    "duration": 25,
    "start_time": "2022-04-23T07:50:45.268Z"
   },
   {
    "duration": 18,
    "start_time": "2022-04-23T07:50:52.190Z"
   },
   {
    "duration": 29,
    "start_time": "2022-04-23T07:51:16.800Z"
   },
   {
    "duration": 19,
    "start_time": "2022-04-23T07:51:21.792Z"
   },
   {
    "duration": 17,
    "start_time": "2022-04-23T07:51:24.167Z"
   },
   {
    "duration": 16,
    "start_time": "2022-04-23T07:51:29.212Z"
   },
   {
    "duration": 15,
    "start_time": "2022-04-23T07:51:32.691Z"
   }
  ],
  "kernelspec": {
   "display_name": "Python 3 (ipykernel)",
   "language": "python",
   "name": "python3"
  },
  "language_info": {
   "codemirror_mode": {
    "name": "ipython",
    "version": 3
   },
   "file_extension": ".py",
   "mimetype": "text/x-python",
   "name": "python",
   "nbconvert_exporter": "python",
   "pygments_lexer": "ipython3",
   "version": "3.7.8"
  },
  "toc": {
   "base_numbering": 1,
   "nav_menu": {
    "height": "294.986px",
    "width": "306.918px"
   },
   "number_sections": true,
   "sideBar": true,
   "skip_h1_title": true,
   "title_cell": "Оглавление:",
   "title_sidebar": "Contents",
   "toc_cell": true,
   "toc_position": {
    "height": "calc(100% - 180px)",
    "left": "10px",
    "top": "150px",
    "width": "259.051px"
   },
   "toc_section_display": true,
   "toc_window_display": true
  }
 },
 "nbformat": 4,
 "nbformat_minor": 2
}
