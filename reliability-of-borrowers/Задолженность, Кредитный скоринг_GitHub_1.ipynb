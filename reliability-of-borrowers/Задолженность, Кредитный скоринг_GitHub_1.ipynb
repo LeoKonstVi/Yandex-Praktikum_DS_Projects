{
 "cells": [
  {
   "cell_type": "markdown",
   "id": "3b5c8458",
   "metadata": {},
   "source": [
    "# Исследование надежности заемщиков."
   ]
  },
  {
   "cell_type": "markdown",
   "id": "b4867a50",
   "metadata": {},
   "source": [
    "## Описание проекта"
   ]
  },
  {
   "cell_type": "markdown",
   "id": "d17faf26",
   "metadata": {},
   "source": [
    "Кредитному отделу банка нужно разобраться, влияет ли семейное положение и количество детей клиента на факт погашения кредита в срок. Для этого имеется статистика о платёжеспособности клиентов.\n",
    "Результаты исследования будут учтены при построении модели кредитного скоринга — специальной системы, которая оценивает способность потенциального заёмщика вернуть кредит банку."
   ]
  },
  {
   "cell_type": "markdown",
   "id": "865dd7db",
   "metadata": {},
   "source": [
    "__Описание данных:__\n",
    "- children — количество детей в семье\n",
    "- days_employed — общий трудовой стаж в днях\n",
    "- dob_years — возраст клиента в годах\n",
    "- education — уровень образования клиента\n",
    "- education_id — идентификатор уровня образования\n",
    "- family_status — семейное положение\n",
    "- family_status_id — идентификатор семейного положения\n",
    "- gender — пол клиента\n",
    "- income_type — тип занятости\n",
    "- debt — имел ли задолженность по возврату кредитов\n",
    "- total_income — ежемесячный доход\n",
    "- purpose — цель получения кредита"
   ]
  },
  {
   "cell_type": "markdown",
   "id": "34940d53",
   "metadata": {},
   "source": [
    "## Импорт библиотек"
   ]
  },
  {
   "cell_type": "code",
   "execution_count": 72,
   "id": "736a26b1",
   "metadata": {},
   "outputs": [],
   "source": [
    "# Импорт библиотек\n",
    "import pandas as pd\n",
    "import matplotlib.pyplot as plt"
   ]
  },
  {
   "cell_type": "markdown",
   "id": "f1ca2c06",
   "metadata": {},
   "source": [
    "## Обзор данных"
   ]
  },
  {
   "cell_type": "markdown",
   "id": "6c3d7ac0",
   "metadata": {},
   "source": [
    "Извлечение данных и просмотр информации о них."
   ]
  },
  {
   "cell_type": "code",
   "execution_count": 73,
   "id": "e58a6a94",
   "metadata": {
    "scrolled": true
   },
   "outputs": [
    {
     "name": "stdout",
     "output_type": "stream",
     "text": [
      "<class 'pandas.core.frame.DataFrame'>\n",
      "RangeIndex: 21525 entries, 0 to 21524\n",
      "Data columns (total 12 columns):\n",
      " #   Column            Non-Null Count  Dtype  \n",
      "---  ------            --------------  -----  \n",
      " 0   children          21525 non-null  int64  \n",
      " 1   days_employed     19351 non-null  float64\n",
      " 2   dob_years         21525 non-null  int64  \n",
      " 3   education         21525 non-null  object \n",
      " 4   education_id      21525 non-null  int64  \n",
      " 5   family_status     21525 non-null  object \n",
      " 6   family_status_id  21525 non-null  int64  \n",
      " 7   gender            21525 non-null  object \n",
      " 8   income_type       21525 non-null  object \n",
      " 9   debt              21525 non-null  int64  \n",
      " 10  total_income      19351 non-null  float64\n",
      " 11  purpose           21525 non-null  object \n",
      "dtypes: float64(2), int64(5), object(5)\n",
      "memory usage: 2.0+ MB\n"
     ]
    }
   ],
   "source": [
    "data = pd.read_csv('datasets/data.csv')\n",
    "data.info()"
   ]
  },
  {
   "cell_type": "code",
   "execution_count": 74,
   "id": "86820b68",
   "metadata": {},
   "outputs": [
    {
     "data": {
      "text/html": [
       "<div>\n",
       "<style scoped>\n",
       "    .dataframe tbody tr th:only-of-type {\n",
       "        vertical-align: middle;\n",
       "    }\n",
       "\n",
       "    .dataframe tbody tr th {\n",
       "        vertical-align: top;\n",
       "    }\n",
       "\n",
       "    .dataframe thead th {\n",
       "        text-align: right;\n",
       "    }\n",
       "</style>\n",
       "<table border=\"1\" class=\"dataframe\">\n",
       "  <thead>\n",
       "    <tr style=\"text-align: right;\">\n",
       "      <th></th>\n",
       "      <th>children</th>\n",
       "      <th>days_employed</th>\n",
       "      <th>dob_years</th>\n",
       "      <th>education</th>\n",
       "      <th>education_id</th>\n",
       "      <th>family_status</th>\n",
       "      <th>family_status_id</th>\n",
       "      <th>gender</th>\n",
       "      <th>income_type</th>\n",
       "      <th>debt</th>\n",
       "      <th>total_income</th>\n",
       "      <th>purpose</th>\n",
       "    </tr>\n",
       "  </thead>\n",
       "  <tbody>\n",
       "    <tr>\n",
       "      <th>0</th>\n",
       "      <td>1</td>\n",
       "      <td>-8437.673028</td>\n",
       "      <td>42</td>\n",
       "      <td>высшее</td>\n",
       "      <td>0</td>\n",
       "      <td>женат / замужем</td>\n",
       "      <td>0</td>\n",
       "      <td>F</td>\n",
       "      <td>сотрудник</td>\n",
       "      <td>0</td>\n",
       "      <td>253875.639453</td>\n",
       "      <td>покупка жилья</td>\n",
       "    </tr>\n",
       "    <tr>\n",
       "      <th>1</th>\n",
       "      <td>1</td>\n",
       "      <td>-4024.803754</td>\n",
       "      <td>36</td>\n",
       "      <td>среднее</td>\n",
       "      <td>1</td>\n",
       "      <td>женат / замужем</td>\n",
       "      <td>0</td>\n",
       "      <td>F</td>\n",
       "      <td>сотрудник</td>\n",
       "      <td>0</td>\n",
       "      <td>112080.014102</td>\n",
       "      <td>приобретение автомобиля</td>\n",
       "    </tr>\n",
       "    <tr>\n",
       "      <th>2</th>\n",
       "      <td>0</td>\n",
       "      <td>-5623.422610</td>\n",
       "      <td>33</td>\n",
       "      <td>Среднее</td>\n",
       "      <td>1</td>\n",
       "      <td>женат / замужем</td>\n",
       "      <td>0</td>\n",
       "      <td>M</td>\n",
       "      <td>сотрудник</td>\n",
       "      <td>0</td>\n",
       "      <td>145885.952297</td>\n",
       "      <td>покупка жилья</td>\n",
       "    </tr>\n",
       "    <tr>\n",
       "      <th>3</th>\n",
       "      <td>3</td>\n",
       "      <td>-4124.747207</td>\n",
       "      <td>32</td>\n",
       "      <td>среднее</td>\n",
       "      <td>1</td>\n",
       "      <td>женат / замужем</td>\n",
       "      <td>0</td>\n",
       "      <td>M</td>\n",
       "      <td>сотрудник</td>\n",
       "      <td>0</td>\n",
       "      <td>267628.550329</td>\n",
       "      <td>дополнительное образование</td>\n",
       "    </tr>\n",
       "    <tr>\n",
       "      <th>4</th>\n",
       "      <td>0</td>\n",
       "      <td>340266.072047</td>\n",
       "      <td>53</td>\n",
       "      <td>среднее</td>\n",
       "      <td>1</td>\n",
       "      <td>гражданский брак</td>\n",
       "      <td>1</td>\n",
       "      <td>F</td>\n",
       "      <td>пенсионер</td>\n",
       "      <td>0</td>\n",
       "      <td>158616.077870</td>\n",
       "      <td>сыграть свадьбу</td>\n",
       "    </tr>\n",
       "  </tbody>\n",
       "</table>\n",
       "</div>"
      ],
      "text/plain": [
       "   children  days_employed  dob_years education  education_id  \\\n",
       "0         1   -8437.673028         42    высшее             0   \n",
       "1         1   -4024.803754         36   среднее             1   \n",
       "2         0   -5623.422610         33   Среднее             1   \n",
       "3         3   -4124.747207         32   среднее             1   \n",
       "4         0  340266.072047         53   среднее             1   \n",
       "\n",
       "      family_status  family_status_id gender income_type  debt   total_income  \\\n",
       "0   женат / замужем                 0      F   сотрудник     0  253875.639453   \n",
       "1   женат / замужем                 0      F   сотрудник     0  112080.014102   \n",
       "2   женат / замужем                 0      M   сотрудник     0  145885.952297   \n",
       "3   женат / замужем                 0      M   сотрудник     0  267628.550329   \n",
       "4  гражданский брак                 1      F   пенсионер     0  158616.077870   \n",
       "\n",
       "                      purpose  \n",
       "0               покупка жилья  \n",
       "1     приобретение автомобиля  \n",
       "2               покупка жилья  \n",
       "3  дополнительное образование  \n",
       "4             сыграть свадьбу  "
      ]
     },
     "execution_count": 74,
     "metadata": {},
     "output_type": "execute_result"
    }
   ],
   "source": [
    "# Прсомотр первых 5 строк с данными\n",
    "data.head()"
   ]
  },
  {
   "cell_type": "code",
   "execution_count": 75,
   "id": "a251d5dc",
   "metadata": {},
   "outputs": [
    {
     "data": {
      "text/plain": [
       "children               0\n",
       "days_employed       2174\n",
       "dob_years              0\n",
       "education              0\n",
       "education_id           0\n",
       "family_status          0\n",
       "family_status_id       0\n",
       "gender                 0\n",
       "income_type            0\n",
       "debt                   0\n",
       "total_income        2174\n",
       "purpose                0\n",
       "dtype: int64"
      ]
     },
     "execution_count": 75,
     "metadata": {},
     "output_type": "execute_result"
    }
   ],
   "source": [
    "# Определение количества пропущенных значений\n",
    "data.isna().sum()"
   ]
  },
  {
   "cell_type": "markdown",
   "id": "bc76ff33",
   "metadata": {},
   "source": [
    "Пропуски обнаружены в двух столбцах days_employed и total_income."
   ]
  },
  {
   "cell_type": "code",
   "execution_count": 76,
   "id": "04265293",
   "metadata": {
    "scrolled": true
   },
   "outputs": [
    {
     "data": {
      "text/plain": [
       "children            0.000000\n",
       "days_employed       0.100999\n",
       "dob_years           0.000000\n",
       "education           0.000000\n",
       "education_id        0.000000\n",
       "family_status       0.000000\n",
       "family_status_id    0.000000\n",
       "gender              0.000000\n",
       "income_type         0.000000\n",
       "debt                0.000000\n",
       "total_income        0.100999\n",
       "purpose             0.000000\n",
       "dtype: float64"
      ]
     },
     "execution_count": 76,
     "metadata": {},
     "output_type": "execute_result"
    }
   ],
   "source": [
    "# Вычисление доли пустых значений\n",
    "data.isna().mean()"
   ]
  },
  {
   "cell_type": "markdown",
   "id": "610a60a6",
   "metadata": {},
   "source": [
    "Доля пропусков в столбцах days_employed и total_income составляет 10%."
   ]
  },
  {
   "cell_type": "markdown",
   "id": "78179f5b",
   "metadata": {},
   "source": [
    "## Предобработка данных."
   ]
  },
  {
   "cell_type": "markdown",
   "id": "8ec08a6b",
   "metadata": {},
   "source": [
    "В данном разделе будет проведено выявление дубликатов и обследование значений данных по столбцам."
   ]
  },
  {
   "cell_type": "markdown",
   "id": "56ff8eba",
   "metadata": {},
   "source": [
    "### Поиск явных дубликатов и их удаление"
   ]
  },
  {
   "cell_type": "code",
   "execution_count": 77,
   "id": "8c4e0962",
   "metadata": {},
   "outputs": [
    {
     "data": {
      "text/plain": [
       "54"
      ]
     },
     "execution_count": 77,
     "metadata": {},
     "output_type": "execute_result"
    }
   ],
   "source": [
    "# Определение количества явных дубликатов\n",
    "data.duplicated().sum()"
   ]
  },
  {
   "cell_type": "code",
   "execution_count": 78,
   "id": "f727d39c",
   "metadata": {},
   "outputs": [],
   "source": [
    "# удаление явных дубликатов\n",
    "data = data.drop_duplicates().reset_index(drop=True)"
   ]
  },
  {
   "cell_type": "code",
   "execution_count": 79,
   "id": "f9cc8416",
   "metadata": {},
   "outputs": [
    {
     "data": {
      "text/plain": [
       "0"
      ]
     },
     "execution_count": 79,
     "metadata": {},
     "output_type": "execute_result"
    }
   ],
   "source": [
    "data.duplicated().sum()"
   ]
  },
  {
   "cell_type": "code",
   "execution_count": 80,
   "id": "490a4b07",
   "metadata": {},
   "outputs": [
    {
     "name": "stdout",
     "output_type": "stream",
     "text": [
      "<class 'pandas.core.frame.DataFrame'>\n",
      "RangeIndex: 21471 entries, 0 to 21470\n",
      "Data columns (total 12 columns):\n",
      " #   Column            Non-Null Count  Dtype  \n",
      "---  ------            --------------  -----  \n",
      " 0   children          21471 non-null  int64  \n",
      " 1   days_employed     19351 non-null  float64\n",
      " 2   dob_years         21471 non-null  int64  \n",
      " 3   education         21471 non-null  object \n",
      " 4   education_id      21471 non-null  int64  \n",
      " 5   family_status     21471 non-null  object \n",
      " 6   family_status_id  21471 non-null  int64  \n",
      " 7   gender            21471 non-null  object \n",
      " 8   income_type       21471 non-null  object \n",
      " 9   debt              21471 non-null  int64  \n",
      " 10  total_income      19351 non-null  float64\n",
      " 11  purpose           21471 non-null  object \n",
      "dtypes: float64(2), int64(5), object(5)\n",
      "memory usage: 2.0+ MB\n"
     ]
    }
   ],
   "source": [
    "data.info()"
   ]
  },
  {
   "cell_type": "markdown",
   "id": "5e7a5178",
   "metadata": {},
   "source": [
    "### Обследование значений данных по столбцам"
   ]
  },
  {
   "cell_type": "markdown",
   "id": "7fa01a6e",
   "metadata": {},
   "source": [
    "#### Столбец children просмотр значений."
   ]
  },
  {
   "cell_type": "code",
   "execution_count": 81,
   "id": "452e6a56",
   "metadata": {},
   "outputs": [
    {
     "data": {
      "text/plain": [
       " 0     14107\n",
       " 1      4809\n",
       " 2      2052\n",
       " 3       330\n",
       " 20       76\n",
       "-1        47\n",
       " 4        41\n",
       " 5         9\n",
       "Name: children, dtype: int64"
      ]
     },
     "execution_count": 81,
     "metadata": {},
     "output_type": "execute_result"
    }
   ],
   "source": [
    "# Просмотр уникальных значений и их количества в столбце children \n",
    "data['children'].value_counts()"
   ]
  },
  {
   "cell_type": "markdown",
   "id": "9478ddfc",
   "metadata": {},
   "source": [
    "В столбце children есть неправильное значение -1 и аномальное значение 20. Скорее всего значение -1 это ошибка набора и его можно исправить на 1. Значение 20 выбивается из распределения количества заёмщиков по количеству детей, и вероятнее всего связано с ошибкой набора. Это значение можно отнести к значению 2 детей."
   ]
  },
  {
   "cell_type": "code",
   "execution_count": 82,
   "id": "f15fd75d",
   "metadata": {},
   "outputs": [
    {
     "data": {
      "text/plain": [
       "0"
      ]
     },
     "execution_count": 82,
     "metadata": {},
     "output_type": "execute_result"
    }
   ],
   "source": [
    "# Исправление значений -1 в столбце children на 1\n",
    "data.loc[data['children'] == -1, ['children']]= 1\n",
    "data[data['children'] == -1]['children'].count()"
   ]
  },
  {
   "cell_type": "code",
   "execution_count": 83,
   "id": "62a19df8",
   "metadata": {},
   "outputs": [
    {
     "data": {
      "text/plain": [
       "0"
      ]
     },
     "execution_count": 83,
     "metadata": {},
     "output_type": "execute_result"
    }
   ],
   "source": [
    "# Исправление значений 20 в столбце children на 2\n",
    "data.loc[data['children'] == 20, ['children']] = 2\n",
    "data[data['children'] == 20]['children'].count()"
   ]
  },
  {
   "cell_type": "code",
   "execution_count": 84,
   "id": "fe2868c1",
   "metadata": {},
   "outputs": [
    {
     "data": {
      "text/plain": [
       "0    14107\n",
       "1     4856\n",
       "2     2128\n",
       "3      330\n",
       "4       41\n",
       "5        9\n",
       "Name: children, dtype: int64"
      ]
     },
     "execution_count": 84,
     "metadata": {},
     "output_type": "execute_result"
    }
   ],
   "source": [
    "# Проверка распределения по количеству детей после исправлений аномальных данных\n",
    "data['children'].value_counts()"
   ]
  },
  {
   "cell_type": "markdown",
   "id": "39e2014b",
   "metadata": {},
   "source": [
    "#### Столбец days_employed просмотр значений"
   ]
  },
  {
   "cell_type": "markdown",
   "id": "e2383f64",
   "metadata": {},
   "source": [
    "Для обзора данных посчитаем стаж работы в годах. "
   ]
  },
  {
   "cell_type": "code",
   "execution_count": 85,
   "id": "ebf0f3b3",
   "metadata": {},
   "outputs": [],
   "source": [
    "# Создание столбца year_employed стаж работы в годах\n",
    "data['year_employed'] = data['days_employed'] / 365"
   ]
  },
  {
   "cell_type": "markdown",
   "id": "21a048fc",
   "metadata": {},
   "source": [
    "Посмотрим статистическое описание данных в столбце year_employed."
   ]
  },
  {
   "cell_type": "code",
   "execution_count": 86,
   "id": "b6031913",
   "metadata": {
    "scrolled": true
   },
   "outputs": [
    {
     "data": {
      "text/plain": [
       "count    19351.000000\n",
       "mean       172.730131\n",
       "std        385.828252\n",
       "min        -50.380685\n",
       "25%         -7.527188\n",
       "50%         -3.296903\n",
       "75%         -0.797523\n",
       "max       1100.699727\n",
       "Name: year_employed, dtype: float64"
      ]
     },
     "execution_count": 86,
     "metadata": {},
     "output_type": "execute_result"
    }
   ],
   "source": [
    "data['year_employed'].describe()"
   ]
  },
  {
   "cell_type": "markdown",
   "id": "cb36e887",
   "metadata": {},
   "source": [
    "Из описательной статистики видно 2 аномалии, первая отрицательные значения стажа и вторая, аномальное значение максимальног стажа 1100 лет. Для более детального рассмотрения построим гистограмму по стажу работы в годах."
   ]
  },
  {
   "cell_type": "code",
   "execution_count": 87,
   "id": "16911184",
   "metadata": {},
   "outputs": [
    {
     "data": {
      "image/png": "[encoded data removed]",
      "text/plain": [
       "<Figure size 432x288 with 1 Axes>"
      ]
     },
     "metadata": {
      "needs_background": "light"
     },
     "output_type": "display_data"
    }
   ],
   "source": [
    "plt.hist(data['year_employed'], bins=500,\n",
    "         range=(data['year_employed'].min() * 1.1, data['year_employed'].max() * 1.1))\n",
    "plt.xlabel('Стаж работы в годах')\n",
    "plt.title('Гистограмма Стаж работы в годах');"
   ]
  },
  {
   "cell_type": "markdown",
   "id": "3f9b4deb",
   "metadata": {},
   "source": [
    "Из гистограммы видно, что данные в столбце days imployed имеют либо отрицательные значения, либо значения находящиеся в области 1000 лет, что является аномальным. <br>\n",
    "Отрицательные значения стажа работы могли возникнуть в результате ошибки. Ошибка может быть связана с вычислением общего трудового стажа, который вычисляется вычитанием из текущей даты даты начала трудового стажа. Если вычитание производилось наоборот из даты начала трудового стажа вычитали текущую дату, то это могло привести к появлению отрицательных значений. <br>\n",
    "Исправим отрицательные значения стажа домножив их на -1."
   ]
  },
  {
   "cell_type": "code",
   "execution_count": 88,
   "id": "2612e699",
   "metadata": {},
   "outputs": [],
   "source": [
    "data.loc[data['year_employed'] <= 0, 'year_employed'] = -1 * data[data['year_employed'] <= 0]['year_employed']"
   ]
  },
  {
   "cell_type": "markdown",
   "id": "fac0eed7",
   "metadata": {},
   "source": [
    "Аномальные значения в области 1000 могут быть связаны с тем, что это значения не в днях, а в часах. Если разделить 1000 на 24 часа, то получится значение 41, что уже похоже на стаж в годах.\n",
    "Об этих аномалиях нужно проинформировать подразделение осуществлявшее подготовку данных.<br>\n",
    "Разделим значения стажа в области 1000 на 24 и посмотрим их распределение."
   ]
  },
  {
   "cell_type": "code",
   "execution_count": 89,
   "id": "90b5cc75",
   "metadata": {
    "scrolled": false
   },
   "outputs": [
    {
     "data": {
      "image/png": "[encoded data removed]",
      "text/plain": [
       "<Figure size 432x288 with 1 Axes>"
      ]
     },
     "metadata": {
      "needs_background": "light"
     },
     "output_type": "display_data"
    }
   ],
   "source": [
    "plt.hist(data[data['year_employed'] > 800]['year_employed'] / 24, bins=50);"
   ]
  },
  {
   "cell_type": "markdown",
   "id": "e4c14559",
   "metadata": {},
   "source": [
    "Получаются значения стажа от 38 до 46 лет."
   ]
  },
  {
   "cell_type": "markdown",
   "id": "f253d82c",
   "metadata": {},
   "source": [
    "Данные в области значений 1000 разделим на 24 и посмотрим распределение."
   ]
  },
  {
   "cell_type": "code",
   "execution_count": 90,
   "id": "bda66358",
   "metadata": {},
   "outputs": [],
   "source": [
    "year_employed = data['year_employed'].to_frame()"
   ]
  },
  {
   "cell_type": "code",
   "execution_count": 91,
   "id": "a5b15067",
   "metadata": {},
   "outputs": [],
   "source": [
    "year_employed.loc[year_employed['year_employed'] > 800, 'year_employed'] = year_employed[year_employed['year_employed'] > 800]['year_employed'] / 24"
   ]
  },
  {
   "cell_type": "code",
   "execution_count": 92,
   "id": "09c6ff16",
   "metadata": {
    "scrolled": true
   },
   "outputs": [
    {
     "data": {
      "image/png": "[encoded data removed]",
      "text/plain": [
       "<Figure size 432x288 with 1 Axes>"
      ]
     },
     "metadata": {
      "needs_background": "light"
     },
     "output_type": "display_data"
    }
   ],
   "source": [
    "plt.hist(year_employed, bins=500)\n",
    "plt.xlabel('Стаж работы в годах')\n",
    "plt.title('Гистограмма Стаж работы в годах');"
   ]
  },
  {
   "cell_type": "markdown",
   "id": "65d57c91",
   "metadata": {},
   "source": [
    "Замененные значения привели к искажению гистограммы в значениях от 38 до 46 появился выброс. Это означает, что наша гипотеза о делении аномальных значений в области 1000 на 24 неверна. C обнаруженными аномалиями в столбце days_employed необходимо разбираться совместно с отделом по выгрузке данных.<br>\n",
    "Так как в данном исследовании данные из столбца days_employed не будут использоваться оставим эти данные без изменений."
   ]
  },
  {
   "cell_type": "markdown",
   "id": "c54ad138",
   "metadata": {},
   "source": [
    "#### Столбец total_income просмотр значений."
   ]
  },
  {
   "cell_type": "markdown",
   "id": "4e382173",
   "metadata": {},
   "source": [
    "Проведём расчёт статистических показателей значений столбца total_income"
   ]
  },
  {
   "cell_type": "code",
   "execution_count": 93,
   "id": "ebe0c96f",
   "metadata": {},
   "outputs": [
    {
     "data": {
      "text/plain": [
       "count    1.935100e+04\n",
       "mean     1.674223e+05\n",
       "std      1.029716e+05\n",
       "min      2.066726e+04\n",
       "25%      1.030532e+05\n",
       "50%      1.450179e+05\n",
       "75%      2.034351e+05\n",
       "max      2.265604e+06\n",
       "Name: total_income, dtype: float64"
      ]
     },
     "execution_count": 93,
     "metadata": {},
     "output_type": "execute_result"
    }
   ],
   "source": [
    "data['total_income'].describe()"
   ]
  },
  {
   "cell_type": "markdown",
   "id": "4a17a99d",
   "metadata": {},
   "source": [
    "Полученные значения показывают, что значения находятся в диапазоне от 21 тыс. руб до 2,27 млн. руб, среднее значение составляе 150 тыс. руб, что соответствует возможному разбросу доходов граждан."
   ]
  },
  {
   "cell_type": "markdown",
   "id": "ad2f2fd8",
   "metadata": {},
   "source": [
    "Для проверки распределения дохода клиентов банка построим гистограмму ежемесячного дохода."
   ]
  },
  {
   "cell_type": "code",
   "execution_count": 94,
   "id": "6b25cdea",
   "metadata": {
    "scrolled": true
   },
   "outputs": [
    {
     "data": {
      "text/plain": [
       "Text(0.5, 1.0, 'Гистограмма ежемесячного дохода')"
      ]
     },
     "execution_count": 94,
     "metadata": {},
     "output_type": "execute_result"
    },
    {
     "data": {
      "image/png": "[encoded data removed]",
      "text/plain": [
       "<Figure size 432x288 with 1 Axes>"
      ]
     },
     "metadata": {
      "needs_background": "light"
     },
     "output_type": "display_data"
    }
   ],
   "source": [
    "plt.hist(data['total_income'], bins=200,\n",
    "         range=(data['total_income'].min() * 1.1, data['total_income'].max() * 1.1))\n",
    "plt.xlabel('Ежемесячный доход в рублях')\n",
    "plt.title('Гистограмма ежемесячного дохода')"
   ]
  },
  {
   "cell_type": "markdown",
   "id": "521c4450",
   "metadata": {},
   "source": [
    "Из графика видно, что каких-либо аномальных значений в гистограмме ежемесячного дохода не наблюдается."
   ]
  },
  {
   "cell_type": "markdown",
   "id": "2adf74fe",
   "metadata": {},
   "source": [
    "#### Столбец incom_type просмотр значений."
   ]
  },
  {
   "cell_type": "markdown",
   "id": "52d0420b",
   "metadata": {},
   "source": [
    "Рассчитаем количество клиентов банка по типу дохода."
   ]
  },
  {
   "cell_type": "code",
   "execution_count": 95,
   "id": "1a6dae5c",
   "metadata": {},
   "outputs": [
    {
     "data": {
      "text/plain": [
       "сотрудник          11091\n",
       "компаньон           5080\n",
       "пенсионер           3837\n",
       "госслужащий         1457\n",
       "безработный            2\n",
       "предприниматель        2\n",
       "студент                1\n",
       "в декрете              1\n",
       "Name: income_type, dtype: int64"
      ]
     },
     "execution_count": 95,
     "metadata": {},
     "output_type": "execute_result"
    }
   ],
   "source": [
    "data['income_type'].value_counts()"
   ]
  },
  {
   "cell_type": "markdown",
   "id": "e0810eaf",
   "metadata": {},
   "source": [
    "В полученных данных, каких-либо аномалий не видно."
   ]
  },
  {
   "cell_type": "markdown",
   "id": "476317ac",
   "metadata": {},
   "source": [
    "####  Столбцы family_status и family_status_id просмотр значений."
   ]
  },
  {
   "cell_type": "code",
   "execution_count": 96,
   "id": "eb7a0876",
   "metadata": {},
   "outputs": [
    {
     "data": {
      "text/plain": [
       "женат / замужем          12344\n",
       "гражданский брак          4163\n",
       "Не женат / не замужем     2810\n",
       "в разводе                 1195\n",
       "вдовец / вдова             959\n",
       "Name: family_status, dtype: int64"
      ]
     },
     "execution_count": 96,
     "metadata": {},
     "output_type": "execute_result"
    }
   ],
   "source": [
    "# Просмотр уникальных значений и их количества в столбцах family_status и family_status_id\n",
    "data['family_status'].value_counts()"
   ]
  },
  {
   "cell_type": "code",
   "execution_count": 97,
   "id": "781d38db",
   "metadata": {},
   "outputs": [
    {
     "data": {
      "text/plain": [
       "0    12344\n",
       "1     4163\n",
       "4     2810\n",
       "3     1195\n",
       "2      959\n",
       "Name: family_status_id, dtype: int64"
      ]
     },
     "execution_count": 97,
     "metadata": {},
     "output_type": "execute_result"
    }
   ],
   "source": [
    "data['family_status_id'].value_counts()"
   ]
  },
  {
   "cell_type": "markdown",
   "id": "08c2c71f",
   "metadata": {},
   "source": [
    "В столбце family_status и family_status_id каких-либо аномалий не обнаружено. "
   ]
  },
  {
   "cell_type": "markdown",
   "id": "2481198b",
   "metadata": {},
   "source": [
    "#### Столбцы education и education_id просмотр значений."
   ]
  },
  {
   "cell_type": "code",
   "execution_count": 98,
   "id": "9e8f0b6c",
   "metadata": {},
   "outputs": [
    {
     "data": {
      "text/plain": [
       "среднее                13705\n",
       "высшее                  4710\n",
       "СРЕДНЕЕ                  772\n",
       "Среднее                  711\n",
       "неоконченное высшее      668\n",
       "ВЫСШЕЕ                   273\n",
       "Высшее                   268\n",
       "начальное                250\n",
       "Неоконченное высшее       47\n",
       "НЕОКОНЧЕННОЕ ВЫСШЕЕ       29\n",
       "НАЧАЛЬНОЕ                 17\n",
       "Начальное                 15\n",
       "ученая степень             4\n",
       "Ученая степень             1\n",
       "УЧЕНАЯ СТЕПЕНЬ             1\n",
       "Name: education, dtype: int64"
      ]
     },
     "execution_count": 98,
     "metadata": {},
     "output_type": "execute_result"
    }
   ],
   "source": [
    "data['education'].value_counts()"
   ]
  },
  {
   "cell_type": "markdown",
   "id": "06c45978",
   "metadata": {},
   "source": [
    "В столбце education присутствуют неявные дубликаты связанные с регистром букв."
   ]
  },
  {
   "cell_type": "code",
   "execution_count": 99,
   "id": "fb009fc4",
   "metadata": {},
   "outputs": [],
   "source": [
    "# приведение значений к строчному регистру\n",
    "data['education'] = data['education'].str.lower()"
   ]
  },
  {
   "cell_type": "code",
   "execution_count": 100,
   "id": "e6a7897e",
   "metadata": {},
   "outputs": [
    {
     "data": {
      "text/plain": [
       "среднее                15188\n",
       "высшее                  5251\n",
       "неоконченное высшее      744\n",
       "начальное                282\n",
       "ученая степень             6\n",
       "Name: education, dtype: int64"
      ]
     },
     "execution_count": 100,
     "metadata": {},
     "output_type": "execute_result"
    }
   ],
   "source": [
    "# Просмотр уникальных значений и их количества\n",
    "data['education'].value_counts()"
   ]
  },
  {
   "cell_type": "code",
   "execution_count": 101,
   "id": "311a40de",
   "metadata": {
    "scrolled": true
   },
   "outputs": [
    {
     "data": {
      "text/plain": [
       "1    15188\n",
       "0     5251\n",
       "2      744\n",
       "3      282\n",
       "4        6\n",
       "Name: education_id, dtype: int64"
      ]
     },
     "execution_count": 101,
     "metadata": {},
     "output_type": "execute_result"
    }
   ],
   "source": [
    "data['education_id'].value_counts()"
   ]
  },
  {
   "cell_type": "markdown",
   "id": "ccf317f0",
   "metadata": {},
   "source": [
    "В столбцах education_id и education после преобразования неявных дубликатов, каких-либо аномалий не обнаружено."
   ]
  },
  {
   "cell_type": "markdown",
   "id": "89be3422",
   "metadata": {},
   "source": [
    "####  Столбец dob_yeras просмотр значений."
   ]
  },
  {
   "cell_type": "code",
   "execution_count": 102,
   "id": "c7786961",
   "metadata": {
    "scrolled": true
   },
   "outputs": [
    {
     "data": {
      "text/plain": [
       "0     101\n",
       "19     14\n",
       "20     51\n",
       "21    111\n",
       "22    183\n",
       "23    253\n",
       "24    264\n",
       "25    357\n",
       "26    408\n",
       "27    493\n",
       "28    503\n",
       "29    544\n",
       "30    538\n",
       "31    559\n",
       "32    509\n",
       "33    581\n",
       "34    601\n",
       "35    616\n",
       "36    554\n",
       "37    536\n",
       "38    597\n",
       "39    572\n",
       "40    607\n",
       "41    606\n",
       "42    596\n",
       "43    512\n",
       "44    545\n",
       "45    497\n",
       "46    473\n",
       "47    477\n",
       "48    537\n",
       "49    508\n",
       "50    513\n",
       "51    448\n",
       "52    484\n",
       "53    459\n",
       "54    476\n",
       "55    443\n",
       "56    484\n",
       "57    456\n",
       "58    456\n",
       "59    443\n",
       "60    374\n",
       "61    354\n",
       "62    349\n",
       "63    269\n",
       "64    262\n",
       "65    194\n",
       "66    182\n",
       "67    167\n",
       "68     99\n",
       "69     85\n",
       "70     65\n",
       "71     58\n",
       "72     33\n",
       "73      8\n",
       "74      6\n",
       "75      1\n",
       "Name: dob_years, dtype: int64"
      ]
     },
     "metadata": {},
     "output_type": "display_data"
    }
   ],
   "source": [
    "dob_years = data['dob_years'].value_counts().sort_index()\n",
    "display(dob_years)"
   ]
  },
  {
   "cell_type": "code",
   "execution_count": 103,
   "id": "013c647d",
   "metadata": {},
   "outputs": [
    {
     "data": {
      "image/png": "[encoded data removed]",
      "text/plain": [
       "<Figure size 864x288 with 1 Axes>"
      ]
     },
     "metadata": {
      "needs_background": "light"
     },
     "output_type": "display_data"
    }
   ],
   "source": [
    "plt.figure(figsize=(12, 4))\n",
    "dob_years.plot(kind='bar');"
   ]
  },
  {
   "cell_type": "markdown",
   "id": "23d65f6e",
   "metadata": {},
   "source": [
    "В столбце dob_years есть аномальные значения возраста равные 0 в количестве 101 значение."
   ]
  },
  {
   "cell_type": "markdown",
   "id": "590c6655",
   "metadata": {},
   "source": [
    "Так как в данном исследовании не планируется проверять зависимость задолженности от возраста данные можно оставить"
   ]
  },
  {
   "cell_type": "markdown",
   "id": "c85e8573",
   "metadata": {},
   "source": [
    "#### Столбец gender (пол) просмотр значений."
   ]
  },
  {
   "cell_type": "code",
   "execution_count": 104,
   "id": "2acbb079",
   "metadata": {
    "scrolled": true
   },
   "outputs": [
    {
     "data": {
      "text/plain": [
       "F      14189\n",
       "M       7281\n",
       "XNA        1\n",
       "Name: gender, dtype: int64"
      ]
     },
     "execution_count": 104,
     "metadata": {},
     "output_type": "execute_result"
    }
   ],
   "source": [
    "data['gender'].value_counts()"
   ]
  },
  {
   "cell_type": "code",
   "execution_count": 105,
   "id": "ba343b16",
   "metadata": {},
   "outputs": [
    {
     "data": {
      "text/html": [
       "<div>\n",
       "<style scoped>\n",
       "    .dataframe tbody tr th:only-of-type {\n",
       "        vertical-align: middle;\n",
       "    }\n",
       "\n",
       "    .dataframe tbody tr th {\n",
       "        vertical-align: top;\n",
       "    }\n",
       "\n",
       "    .dataframe thead th {\n",
       "        text-align: right;\n",
       "    }\n",
       "</style>\n",
       "<table border=\"1\" class=\"dataframe\">\n",
       "  <thead>\n",
       "    <tr style=\"text-align: right;\">\n",
       "      <th></th>\n",
       "      <th>children</th>\n",
       "      <th>days_employed</th>\n",
       "      <th>dob_years</th>\n",
       "      <th>education</th>\n",
       "      <th>education_id</th>\n",
       "      <th>family_status</th>\n",
       "      <th>family_status_id</th>\n",
       "      <th>gender</th>\n",
       "      <th>income_type</th>\n",
       "      <th>debt</th>\n",
       "      <th>total_income</th>\n",
       "      <th>purpose</th>\n",
       "      <th>year_employed</th>\n",
       "    </tr>\n",
       "  </thead>\n",
       "  <tbody>\n",
       "    <tr>\n",
       "      <th>10690</th>\n",
       "      <td>0</td>\n",
       "      <td>-2358.600502</td>\n",
       "      <td>24</td>\n",
       "      <td>неоконченное высшее</td>\n",
       "      <td>2</td>\n",
       "      <td>гражданский брак</td>\n",
       "      <td>1</td>\n",
       "      <td>XNA</td>\n",
       "      <td>компаньон</td>\n",
       "      <td>0</td>\n",
       "      <td>203905.157261</td>\n",
       "      <td>покупка недвижимости</td>\n",
       "      <td>6.461919</td>\n",
       "    </tr>\n",
       "  </tbody>\n",
       "</table>\n",
       "</div>"
      ],
      "text/plain": [
       "       children  days_employed  dob_years            education  education_id  \\\n",
       "10690         0   -2358.600502         24  неоконченное высшее             2   \n",
       "\n",
       "          family_status  family_status_id gender income_type  debt  \\\n",
       "10690  гражданский брак                 1    XNA   компаньон     0   \n",
       "\n",
       "        total_income               purpose  year_employed  \n",
       "10690  203905.157261  покупка недвижимости       6.461919  "
      ]
     },
     "execution_count": 105,
     "metadata": {},
     "output_type": "execute_result"
    }
   ],
   "source": [
    "data[data['gender'] == 'XNA']"
   ]
  },
  {
   "cell_type": "markdown",
   "id": "81a51cb8",
   "metadata": {},
   "source": [
    "В данных есть 1 аномальное значение XNA. Так как в данном исследование не планируется изучать зависимость задолженности от пола, то это строку можно оставить."
   ]
  },
  {
   "cell_type": "markdown",
   "id": "dc48c4be",
   "metadata": {},
   "source": [
    "#### Столбец debt просмотр значений."
   ]
  },
  {
   "cell_type": "code",
   "execution_count": 106,
   "id": "b7f2fb09",
   "metadata": {},
   "outputs": [
    {
     "data": {
      "text/plain": [
       "0    19730\n",
       "1     1741\n",
       "Name: debt, dtype: int64"
      ]
     },
     "execution_count": 106,
     "metadata": {},
     "output_type": "execute_result"
    }
   ],
   "source": [
    "data['debt'].value_counts()"
   ]
  },
  {
   "cell_type": "markdown",
   "id": "b3820c82",
   "metadata": {},
   "source": [
    "В столбце debt присутствуют 2 значения 0 - нет задолженности, 1 - есть задолженность. Каких-либо аномалий в данных нет."
   ]
  },
  {
   "cell_type": "markdown",
   "id": "75c003da",
   "metadata": {},
   "source": [
    "#### Столбец purpose просмотр значений."
   ]
  },
  {
   "cell_type": "code",
   "execution_count": 107,
   "id": "4392cda2",
   "metadata": {},
   "outputs": [
    {
     "data": {
      "text/plain": [
       "свадьба                                   793\n",
       "на проведение свадьбы                     773\n",
       "сыграть свадьбу                           769\n",
       "операции с недвижимостью                  675\n",
       "покупка коммерческой недвижимости         662\n",
       "покупка жилья для сдачи                   652\n",
       "операции с жильем                         652\n",
       "операции с коммерческой недвижимостью     650\n",
       "покупка жилья                             646\n",
       "жилье                                     646\n",
       "покупка жилья для семьи                   638\n",
       "строительство собственной недвижимости    635\n",
       "недвижимость                              633\n",
       "операции со своей недвижимостью           627\n",
       "строительство жилой недвижимости          625\n",
       "покупка недвижимости                      621\n",
       "покупка своего жилья                      620\n",
       "строительство недвижимости                619\n",
       "ремонт жилью                              607\n",
       "покупка жилой недвижимости                606\n",
       "на покупку своего автомобиля              505\n",
       "заняться высшим образованием              496\n",
       "автомобиль                                494\n",
       "сделка с подержанным автомобилем          486\n",
       "свой автомобиль                           479\n",
       "на покупку подержанного автомобиля        478\n",
       "автомобили                                478\n",
       "на покупку автомобиля                     472\n",
       "приобретение автомобиля                   461\n",
       "дополнительное образование                460\n",
       "сделка с автомобилем                      455\n",
       "высшее образование                        452\n",
       "образование                               447\n",
       "получение дополнительного образования     447\n",
       "получение образования                     442\n",
       "профильное образование                    436\n",
       "получение высшего образования             426\n",
       "заняться образованием                     408\n",
       "Name: purpose, dtype: int64"
      ]
     },
     "execution_count": 107,
     "metadata": {},
     "output_type": "execute_result"
    }
   ],
   "source": [
    "data['purpose'].value_counts()"
   ]
  },
  {
   "cell_type": "markdown",
   "id": "ecd121e1",
   "metadata": {},
   "source": [
    "В столбце purpose присутствует большое количество различных значений. Перед исследованием нужно провести категоризацию этих значений, что будет сделано в разделе категоризация."
   ]
  },
  {
   "cell_type": "markdown",
   "id": "2beba1e8",
   "metadata": {},
   "source": [
    "### Заполнение пропусков"
   ]
  },
  {
   "cell_type": "code",
   "execution_count": 108,
   "id": "b9813a15",
   "metadata": {
    "scrolled": false
   },
   "outputs": [
    {
     "name": "stdout",
     "output_type": "stream",
     "text": [
      "<class 'pandas.core.frame.DataFrame'>\n",
      "RangeIndex: 21471 entries, 0 to 21470\n",
      "Data columns (total 13 columns):\n",
      " #   Column            Non-Null Count  Dtype  \n",
      "---  ------            --------------  -----  \n",
      " 0   children          21471 non-null  int64  \n",
      " 1   days_employed     19351 non-null  float64\n",
      " 2   dob_years         21471 non-null  int64  \n",
      " 3   education         21471 non-null  object \n",
      " 4   education_id      21471 non-null  int64  \n",
      " 5   family_status     21471 non-null  object \n",
      " 6   family_status_id  21471 non-null  int64  \n",
      " 7   gender            21471 non-null  object \n",
      " 8   income_type       21471 non-null  object \n",
      " 9   debt              21471 non-null  int64  \n",
      " 10  total_income      19351 non-null  float64\n",
      " 11  purpose           21471 non-null  object \n",
      " 12  year_employed     19351 non-null  float64\n",
      "dtypes: float64(3), int64(5), object(5)\n",
      "memory usage: 2.1+ MB\n"
     ]
    }
   ],
   "source": [
    "data.info()"
   ]
  },
  {
   "cell_type": "code",
   "execution_count": 109,
   "id": "984833fe",
   "metadata": {
    "scrolled": false
   },
   "outputs": [
    {
     "name": "stdout",
     "output_type": "stream",
     "text": [
      "2120\n",
      "9.9 %\n"
     ]
    }
   ],
   "source": [
    "# Расчёт количества не заполненных значений в столбце total_income\n",
    "print(data['total_income'].isna().sum())\n",
    "print(round((data['total_income'].isna().sum() / len(data)) * 100, 1), '%')"
   ]
  },
  {
   "cell_type": "markdown",
   "id": "c3535f01",
   "metadata": {},
   "source": [
    "В столбце total income присутствует 9,9 % незаполненых значений. Заменим пустые значения медианой в зависимости от типа занятости."
   ]
  },
  {
   "cell_type": "code",
   "execution_count": 110,
   "id": "ed8a3dc5",
   "metadata": {},
   "outputs": [],
   "source": [
    "data['total_income'] = data['total_income'].fillna(\n",
    "    data.groupby('income_type')['total_income'].transform(\"median\")\n",
    ")"
   ]
  },
  {
   "cell_type": "markdown",
   "id": "7680fb35",
   "metadata": {},
   "source": [
    "Посмотрим, как изменилась гистограмма после замены пустых значений."
   ]
  },
  {
   "cell_type": "code",
   "execution_count": 111,
   "id": "566258eb",
   "metadata": {
    "scrolled": false
   },
   "outputs": [
    {
     "data": {
      "image/png": "[encoded data removed]",
      "text/plain": [
       "<Figure size 432x288 with 1 Axes>"
      ]
     },
     "metadata": {
      "needs_background": "light"
     },
     "output_type": "display_data"
    }
   ],
   "source": [
    "plt.hist(data['total_income'], bins=200,\n",
    "         range=(data['total_income'].min() * 1.1, data['total_income'].max() * 1.1))\n",
    "plt.xlabel('Ежемесячный доход в рублях')\n",
    "plt.title('Гистограмма ежемесячного дохода');"
   ]
  },
  {
   "cell_type": "markdown",
   "id": "ffcfa68f",
   "metadata": {},
   "source": [
    "На гистограмме появились пики в значениях медианы."
   ]
  },
  {
   "cell_type": "markdown",
   "id": "54e1b6f9",
   "metadata": {},
   "source": [
    "### Изменение типов данных."
   ]
  },
  {
   "cell_type": "markdown",
   "id": "ff18f25d",
   "metadata": {},
   "source": [
    "Значения в столбце total_income имеют вещественный тип. Данные после запятой имеют значение копеек, которые имеют очень малую долю от сумм доходов. Для удобства расчётов значение в этом столбце лучше перевести из вещественного типа данных в целочисленный."
   ]
  },
  {
   "cell_type": "code",
   "execution_count": 112,
   "id": "7ed0f31b",
   "metadata": {},
   "outputs": [],
   "source": [
    "# Изменение типа данных столбца total_income на тип int\n",
    "data['total_income'] = data['total_income'].astype('int')"
   ]
  },
  {
   "cell_type": "markdown",
   "id": "f5ac1966",
   "metadata": {},
   "source": [
    "### Удаление дубликатов."
   ]
  },
  {
   "cell_type": "code",
   "execution_count": 113,
   "id": "621115ea",
   "metadata": {},
   "outputs": [
    {
     "data": {
      "text/plain": [
       "17"
      ]
     },
     "execution_count": 113,
     "metadata": {},
     "output_type": "execute_result"
    }
   ],
   "source": [
    "data.duplicated().sum()"
   ]
  },
  {
   "cell_type": "markdown",
   "id": "35b7cd40",
   "metadata": {},
   "source": [
    "В данных появились еще 17 дубликатов. Такое возможно, так как данные уже изменялись, поэтому удалять их не будем."
   ]
  },
  {
   "cell_type": "markdown",
   "id": "d17823be",
   "metadata": {},
   "source": [
    "### Формирование дополнительных датафреймов словарей, декомпозиция исходного датафрейма."
   ]
  },
  {
   "cell_type": "markdown",
   "id": "b1712f7d",
   "metadata": {},
   "source": [
    "Создание словаря по колонкам education_id, education"
   ]
  },
  {
   "cell_type": "code",
   "execution_count": 114,
   "id": "c16f34a3",
   "metadata": {},
   "outputs": [],
   "source": [
    "education_id_dict = data[['education_id', 'education']]"
   ]
  },
  {
   "cell_type": "code",
   "execution_count": 115,
   "id": "57291953",
   "metadata": {},
   "outputs": [
    {
     "data": {
      "text/html": [
       "<div>\n",
       "<style scoped>\n",
       "    .dataframe tbody tr th:only-of-type {\n",
       "        vertical-align: middle;\n",
       "    }\n",
       "\n",
       "    .dataframe tbody tr th {\n",
       "        vertical-align: top;\n",
       "    }\n",
       "\n",
       "    .dataframe thead th {\n",
       "        text-align: right;\n",
       "    }\n",
       "</style>\n",
       "<table border=\"1\" class=\"dataframe\">\n",
       "  <thead>\n",
       "    <tr style=\"text-align: right;\">\n",
       "      <th></th>\n",
       "      <th>education</th>\n",
       "    </tr>\n",
       "    <tr>\n",
       "      <th>education_id</th>\n",
       "      <th></th>\n",
       "    </tr>\n",
       "  </thead>\n",
       "  <tbody>\n",
       "    <tr>\n",
       "      <th>0</th>\n",
       "      <td>высшее</td>\n",
       "    </tr>\n",
       "    <tr>\n",
       "      <th>1</th>\n",
       "      <td>среднее</td>\n",
       "    </tr>\n",
       "    <tr>\n",
       "      <th>2</th>\n",
       "      <td>неоконченное высшее</td>\n",
       "    </tr>\n",
       "    <tr>\n",
       "      <th>3</th>\n",
       "      <td>начальное</td>\n",
       "    </tr>\n",
       "    <tr>\n",
       "      <th>4</th>\n",
       "      <td>ученая степень</td>\n",
       "    </tr>\n",
       "  </tbody>\n",
       "</table>\n",
       "</div>"
      ],
      "text/plain": [
       "                        education\n",
       "education_id                     \n",
       "0                          высшее\n",
       "1                         среднее\n",
       "2             неоконченное высшее\n",
       "3                       начальное\n",
       "4                  ученая степень"
      ]
     },
     "metadata": {},
     "output_type": "display_data"
    }
   ],
   "source": [
    "# Удаление дубликатов из справочника education_id_table\n",
    "education_id_dict = education_id_dict.drop_duplicates()\n",
    "education_id_dict = education_id_dict.set_index('education_id')\n",
    "display(education_id_dict)"
   ]
  },
  {
   "cell_type": "code",
   "execution_count": 116,
   "id": "22bca16d",
   "metadata": {},
   "outputs": [],
   "source": [
    "# Удаление столбца education из основной таблицы данных data\n",
    "del data['education']"
   ]
  },
  {
   "cell_type": "markdown",
   "id": "e806ad6f",
   "metadata": {},
   "source": [
    "Создание словаря по колонкам family_status_id, family_status"
   ]
  },
  {
   "cell_type": "code",
   "execution_count": 117,
   "id": "bcd460ed",
   "metadata": {},
   "outputs": [
    {
     "data": {
      "text/html": [
       "<div>\n",
       "<style scoped>\n",
       "    .dataframe tbody tr th:only-of-type {\n",
       "        vertical-align: middle;\n",
       "    }\n",
       "\n",
       "    .dataframe tbody tr th {\n",
       "        vertical-align: top;\n",
       "    }\n",
       "\n",
       "    .dataframe thead th {\n",
       "        text-align: right;\n",
       "    }\n",
       "</style>\n",
       "<table border=\"1\" class=\"dataframe\">\n",
       "  <thead>\n",
       "    <tr style=\"text-align: right;\">\n",
       "      <th></th>\n",
       "      <th>family_status</th>\n",
       "    </tr>\n",
       "    <tr>\n",
       "      <th>family_status_id</th>\n",
       "      <th></th>\n",
       "    </tr>\n",
       "  </thead>\n",
       "  <tbody>\n",
       "    <tr>\n",
       "      <th>0</th>\n",
       "      <td>женат / замужем</td>\n",
       "    </tr>\n",
       "    <tr>\n",
       "      <th>1</th>\n",
       "      <td>гражданский брак</td>\n",
       "    </tr>\n",
       "    <tr>\n",
       "      <th>2</th>\n",
       "      <td>вдовец / вдова</td>\n",
       "    </tr>\n",
       "    <tr>\n",
       "      <th>3</th>\n",
       "      <td>в разводе</td>\n",
       "    </tr>\n",
       "    <tr>\n",
       "      <th>4</th>\n",
       "      <td>Не женат / не замужем</td>\n",
       "    </tr>\n",
       "  </tbody>\n",
       "</table>\n",
       "</div>"
      ],
      "text/plain": [
       "                          family_status\n",
       "family_status_id                       \n",
       "0                       женат / замужем\n",
       "1                      гражданский брак\n",
       "2                        вдовец / вдова\n",
       "3                             в разводе\n",
       "4                 Не женат / не замужем"
      ]
     },
     "metadata": {},
     "output_type": "display_data"
    }
   ],
   "source": [
    "family_status_id_dict = data[['family_status_id', 'family_status']]\n",
    "family_status_id_dict = family_status_id_dict.drop_duplicates()\n",
    "family_status_id_dict = family_status_id_dict.set_index('family_status_id')\n",
    "display(family_status_id_dict)"
   ]
  },
  {
   "cell_type": "code",
   "execution_count": 118,
   "id": "1143adfd",
   "metadata": {},
   "outputs": [],
   "source": [
    "# Удаление столбца family_status\n",
    "del data['family_status']"
   ]
  },
  {
   "cell_type": "markdown",
   "id": "30b66981",
   "metadata": {},
   "source": [
    "### Категоризация "
   ]
  },
  {
   "cell_type": "markdown",
   "id": "cd8accd8",
   "metadata": {},
   "source": [
    "#### Категоризация дохода."
   ]
  },
  {
   "cell_type": "markdown",
   "id": "0384fb17",
   "metadata": {},
   "source": [
    "Для анализа зависимости задолженности от дохода необходимо провести категоризацию дохода.\n",
    "Вначале создадим справочник категория дохода - описание"
   ]
  },
  {
   "cell_type": "code",
   "execution_count": 119,
   "id": "7cb693cb",
   "metadata": {},
   "outputs": [],
   "source": [
    "category_income_value = [\n",
    "    ['E', '          0 - 30 тыс руб'],\n",
    "    ['D', ' 30 тыс руб - 50 тыс руб'],\n",
    "    ['C', ' 50 тыс руб - 200 тыс руб'],\n",
    "    ['B', '200 тыс руб - 1 млн руб'],\n",
    "    ['A', '  1 млн руб и более']\n",
    "]\n",
    "category_income_value_descr = pd.DataFrame(data=category_income_value, columns=['total_income_category', 'description'])"
   ]
  },
  {
   "cell_type": "code",
   "execution_count": 120,
   "id": "847992ba",
   "metadata": {},
   "outputs": [
    {
     "data": {
      "text/html": [
       "<div>\n",
       "<style scoped>\n",
       "    .dataframe tbody tr th:only-of-type {\n",
       "        vertical-align: middle;\n",
       "    }\n",
       "\n",
       "    .dataframe tbody tr th {\n",
       "        vertical-align: top;\n",
       "    }\n",
       "\n",
       "    .dataframe thead th {\n",
       "        text-align: right;\n",
       "    }\n",
       "</style>\n",
       "<table border=\"1\" class=\"dataframe\">\n",
       "  <thead>\n",
       "    <tr style=\"text-align: right;\">\n",
       "      <th></th>\n",
       "      <th>total_income_category</th>\n",
       "      <th>description</th>\n",
       "    </tr>\n",
       "  </thead>\n",
       "  <tbody>\n",
       "    <tr>\n",
       "      <th>0</th>\n",
       "      <td>E</td>\n",
       "      <td>0 - 30 тыс руб</td>\n",
       "    </tr>\n",
       "    <tr>\n",
       "      <th>1</th>\n",
       "      <td>D</td>\n",
       "      <td>30 тыс руб - 50 тыс руб</td>\n",
       "    </tr>\n",
       "    <tr>\n",
       "      <th>2</th>\n",
       "      <td>C</td>\n",
       "      <td>50 тыс руб - 200 тыс руб</td>\n",
       "    </tr>\n",
       "    <tr>\n",
       "      <th>3</th>\n",
       "      <td>B</td>\n",
       "      <td>200 тыс руб - 1 млн руб</td>\n",
       "    </tr>\n",
       "    <tr>\n",
       "      <th>4</th>\n",
       "      <td>A</td>\n",
       "      <td>1 млн руб и более</td>\n",
       "    </tr>\n",
       "  </tbody>\n",
       "</table>\n",
       "</div>"
      ],
      "text/plain": [
       "  total_income_category                description\n",
       "0                     E             0 - 30 тыс руб\n",
       "1                     D    30 тыс руб - 50 тыс руб\n",
       "2                     C   50 тыс руб - 200 тыс руб\n",
       "3                     B    200 тыс руб - 1 млн руб\n",
       "4                     A          1 млн руб и более"
      ]
     },
     "metadata": {},
     "output_type": "display_data"
    }
   ],
   "source": [
    "display(category_income_value_descr)"
   ]
  },
  {
   "cell_type": "markdown",
   "id": "7c5e6902",
   "metadata": {},
   "source": [
    "Проведем категоризацию по столбцу total_income."
   ]
  },
  {
   "cell_type": "code",
   "execution_count": 121,
   "id": "77d5e589",
   "metadata": {},
   "outputs": [],
   "source": [
    "# Функция категоризации дохода\n",
    "def incom_category (value_total_income):\n",
    "    if 0 < value_total_income <= 30000:\n",
    "        return('E')\n",
    "    elif value_total_income <= 50000:\n",
    "        return('D')\n",
    "    elif value_total_income <= 200000:\n",
    "        return('C')\n",
    "    elif value_total_income <= 1000000:\n",
    "        return('B')\n",
    "    else:\n",
    "        return('A')\n",
    "# создание столбца с категорией дохода        \n",
    "data['total_income_category'] = data['total_income'].apply(incom_category)"
   ]
  },
  {
   "cell_type": "code",
   "execution_count": 122,
   "id": "b63664aa",
   "metadata": {
    "scrolled": true
   },
   "outputs": [
    {
     "data": {
      "text/plain": [
       "C    16032\n",
       "B     5042\n",
       "D      350\n",
       "A       25\n",
       "E       22\n",
       "Name: total_income_category, dtype: int64"
      ]
     },
     "execution_count": 122,
     "metadata": {},
     "output_type": "execute_result"
    }
   ],
   "source": [
    "# проверка получившейся категоризации\n",
    "data['total_income_category'].value_counts()"
   ]
  },
  {
   "cell_type": "markdown",
   "id": "ee8fe5a1",
   "metadata": {},
   "source": [
    "#### Категоризация целей кредита."
   ]
  },
  {
   "cell_type": "markdown",
   "id": "2966f2ae",
   "metadata": {},
   "source": [
    "Проведём категоризацию по целям кредита. Из значений столбца purpose можно выделить 4 категории:\n",
    "1) проведение свадьбы, 2) операции с недвижимостью 3) операции с автомобилем 4) получение образования"
   ]
  },
  {
   "cell_type": "code",
   "execution_count": 123,
   "id": "1da622f8",
   "metadata": {},
   "outputs": [],
   "source": [
    "# Функция для категоризации значений столбца purpouse\n",
    "def func_purpose_category (purpose):\n",
    "    if 'свадьб' in purpose:\n",
    "        return('проведение свадьбы')\n",
    "    elif 'недвижимост' in purpose:\n",
    "        return('операции с недвижимостью')\n",
    "    elif 'жиль' in purpose:\n",
    "        return('операции с недвижимостью')\n",
    "    elif 'автомобил' in purpose:\n",
    "        return('операции с автомобилем')\n",
    "    elif 'образован' in purpose:\n",
    "        return('получение образования')\n",
    "    else:\n",
    "        return('ошибка категоризации')\n",
    "data['purpose_category'] = data['purpose'].apply(func_purpose_category)"
   ]
  },
  {
   "cell_type": "code",
   "execution_count": 124,
   "id": "e0bdf73e",
   "metadata": {},
   "outputs": [
    {
     "data": {
      "text/plain": [
       "операции с недвижимостью    10814\n",
       "операции с автомобилем       4308\n",
       "получение образования        4014\n",
       "проведение свадьбы           2335\n",
       "Name: purpose_category, dtype: int64"
      ]
     },
     "execution_count": 124,
     "metadata": {},
     "output_type": "execute_result"
    }
   ],
   "source": [
    "# проверка получившейся категоризации\n",
    "data['purpose_category'].value_counts()"
   ]
  },
  {
   "cell_type": "markdown",
   "id": "4763a479",
   "metadata": {},
   "source": [
    "## Исследование данных, проверка гипотез"
   ]
  },
  {
   "cell_type": "markdown",
   "id": "b888cdd0",
   "metadata": {},
   "source": [
    "### Предисловие "
   ]
  },
  {
   "cell_type": "raw",
   "id": "8b0d1d60",
   "metadata": {},
   "source": [
    "В связи с тем, что у меня была ошибка при построении сводной таблицы по колонке 'debt', в которой я не сразу разобрался. Было совпадение columns и values. Код и ошибка ниже\n",
    "children_debt = data.pivot_table(index = 'children', columns = 'debt', values = 'debt', aggfunc = 'count'){ошибка ValueError: Grouper for 'debt' not 1-dimensional}\n",
    "\n",
    "Я решил сделать дополнительный столбец 'debt_str' со значениями 'no_debt' при значении 0 в стобце 'debt' и 'debt' при значении 1 в столбце 'debt'. Чтобы не переписывать написанный код, мое дальнейшее исследование данных ведётся по колонце 'debt_str'.\n",
    "\n",
    "Как я потом разобрался, ошибка была в том, что аргументы columns = 'debt', values = 'debt' не могут иметь одинаковых значений. Код с использованием столбца 'debt' будет приведен в разделе P.S.: постскриптум."
   ]
  },
  {
   "cell_type": "markdown",
   "id": "f6c53fd1",
   "metadata": {},
   "source": [
    "### Добавление к данным столбца 'debt_str' с значениями 'debt', 'no_debt'"
   ]
  },
  {
   "cell_type": "code",
   "execution_count": 125,
   "id": "52af1c0f",
   "metadata": {},
   "outputs": [
    {
     "data": {
      "text/plain": [
       "0    19730\n",
       "1     1741\n",
       "Name: debt, dtype: int64"
      ]
     },
     "execution_count": 125,
     "metadata": {},
     "output_type": "execute_result"
    }
   ],
   "source": [
    "data['debt'].value_counts()"
   ]
  },
  {
   "cell_type": "code",
   "execution_count": 126,
   "id": "e0c498fe",
   "metadata": {
    "scrolled": true
   },
   "outputs": [
    {
     "data": {
      "text/plain": [
       "no_debt    19730\n",
       "debt        1741\n",
       "Name: debt_str, dtype: int64"
      ]
     },
     "execution_count": 126,
     "metadata": {},
     "output_type": "execute_result"
    }
   ],
   "source": [
    "def debt_str (debt):\n",
    "    if debt == 0:\n",
    "        return('no_debt')\n",
    "    elif debt == 1:\n",
    "        return('debt')\n",
    "    else:\n",
    "        return('ошибка категоризации')\n",
    "        \n",
    "data['debt_str'] = data['debt'].apply(debt_str)\n",
    "data['debt_str'].value_counts()"
   ]
  },
  {
   "cell_type": "markdown",
   "id": "8e448e9a",
   "metadata": {},
   "source": [
    "### Гипотезы и описание метода их проверки"
   ]
  },
  {
   "cell_type": "markdown",
   "id": "18c34e44",
   "metadata": {},
   "source": [
    "В данном разделе проверяются 4 гипотезы. Будет проверяться зависимость возврата кредита в срок от различных факторов:\n",
    "1) от количества детей в семье\n",
    "2) от семейного положения\n",
    "3) от уровня дохода\n",
    "4) от цели кредита"
   ]
  },
  {
   "cell_type": "markdown",
   "id": "fa9d7b59",
   "metadata": {},
   "source": [
    "Проверяться гипотезы будут по сравнению долей клиентов с задолженностью и без задолженности при разных значениях категориальных признаков.\n",
    "Для этого создаётся сводная таблица, в которой по строкам будут идти категориальные значения исследуемого признака, а по столбцам состояние задолженности есть задолженность, нет задолженности. В ячейках будут находится количество клиентов с выбранными признаками.\n",
    "Затем будет вычисляться по категориальному значению в строке доля с задолженность и без задолженности.\n",
    "Вычислинные доли будут сравниваться для различных категориальных признаков."
   ]
  },
  {
   "cell_type": "markdown",
   "id": "5724ede0",
   "metadata": {},
   "source": [
    "### Проверка гипотез о зависимости задолженности от различных факторов "
   ]
  },
  {
   "cell_type": "markdown",
   "id": "6557e989",
   "metadata": {},
   "source": [
    "#### Количество детей в семье - задолженность"
   ]
  },
  {
   "cell_type": "markdown",
   "id": "b75faeed",
   "metadata": {},
   "source": [
    "Создание сводной таблицы количества детей - состояния задолженности."
   ]
  },
  {
   "cell_type": "code",
   "execution_count": 127,
   "id": "0c8abb64",
   "metadata": {
    "scrolled": true
   },
   "outputs": [
    {
     "data": {
      "text/html": [
       "<div>\n",
       "<style scoped>\n",
       "    .dataframe tbody tr th:only-of-type {\n",
       "        vertical-align: middle;\n",
       "    }\n",
       "\n",
       "    .dataframe tbody tr th {\n",
       "        vertical-align: top;\n",
       "    }\n",
       "\n",
       "    .dataframe thead th {\n",
       "        text-align: right;\n",
       "    }\n",
       "</style>\n",
       "<table border=\"1\" class=\"dataframe\">\n",
       "  <thead>\n",
       "    <tr style=\"text-align: right;\">\n",
       "      <th>debt_str</th>\n",
       "      <th>debt</th>\n",
       "      <th>no_debt</th>\n",
       "    </tr>\n",
       "    <tr>\n",
       "      <th>children</th>\n",
       "      <th></th>\n",
       "      <th></th>\n",
       "    </tr>\n",
       "  </thead>\n",
       "  <tbody>\n",
       "    <tr>\n",
       "      <th>0</th>\n",
       "      <td>1063.0</td>\n",
       "      <td>13044.0</td>\n",
       "    </tr>\n",
       "    <tr>\n",
       "      <th>1</th>\n",
       "      <td>445.0</td>\n",
       "      <td>4411.0</td>\n",
       "    </tr>\n",
       "    <tr>\n",
       "      <th>2</th>\n",
       "      <td>202.0</td>\n",
       "      <td>1926.0</td>\n",
       "    </tr>\n",
       "    <tr>\n",
       "      <th>3</th>\n",
       "      <td>27.0</td>\n",
       "      <td>303.0</td>\n",
       "    </tr>\n",
       "    <tr>\n",
       "      <th>4</th>\n",
       "      <td>4.0</td>\n",
       "      <td>37.0</td>\n",
       "    </tr>\n",
       "    <tr>\n",
       "      <th>5</th>\n",
       "      <td>NaN</td>\n",
       "      <td>9.0</td>\n",
       "    </tr>\n",
       "  </tbody>\n",
       "</table>\n",
       "</div>"
      ],
      "text/plain": [
       "debt_str    debt  no_debt\n",
       "children                 \n",
       "0         1063.0  13044.0\n",
       "1          445.0   4411.0\n",
       "2          202.0   1926.0\n",
       "3           27.0    303.0\n",
       "4            4.0     37.0\n",
       "5            NaN      9.0"
      ]
     },
     "metadata": {},
     "output_type": "display_data"
    }
   ],
   "source": [
    "children_debt = data.pivot_table(index = 'children', columns = 'debt_str', values = 'debt', aggfunc = 'count')\n",
    "display(children_debt)"
   ]
  },
  {
   "cell_type": "code",
   "execution_count": 128,
   "id": "21299a8f",
   "metadata": {},
   "outputs": [
    {
     "data": {
      "text/html": [
       "<div>\n",
       "<style scoped>\n",
       "    .dataframe tbody tr th:only-of-type {\n",
       "        vertical-align: middle;\n",
       "    }\n",
       "\n",
       "    .dataframe tbody tr th {\n",
       "        vertical-align: top;\n",
       "    }\n",
       "\n",
       "    .dataframe thead th {\n",
       "        text-align: right;\n",
       "    }\n",
       "</style>\n",
       "<table border=\"1\" class=\"dataframe\">\n",
       "  <thead>\n",
       "    <tr style=\"text-align: right;\">\n",
       "      <th>debt_str</th>\n",
       "      <th>debt</th>\n",
       "      <th>no_debt</th>\n",
       "    </tr>\n",
       "    <tr>\n",
       "      <th>children</th>\n",
       "      <th></th>\n",
       "      <th></th>\n",
       "    </tr>\n",
       "  </thead>\n",
       "  <tbody>\n",
       "    <tr>\n",
       "      <th>0</th>\n",
       "      <td>1063.0</td>\n",
       "      <td>13044.0</td>\n",
       "    </tr>\n",
       "    <tr>\n",
       "      <th>1</th>\n",
       "      <td>445.0</td>\n",
       "      <td>4411.0</td>\n",
       "    </tr>\n",
       "    <tr>\n",
       "      <th>2</th>\n",
       "      <td>202.0</td>\n",
       "      <td>1926.0</td>\n",
       "    </tr>\n",
       "    <tr>\n",
       "      <th>3</th>\n",
       "      <td>27.0</td>\n",
       "      <td>303.0</td>\n",
       "    </tr>\n",
       "    <tr>\n",
       "      <th>4</th>\n",
       "      <td>4.0</td>\n",
       "      <td>37.0</td>\n",
       "    </tr>\n",
       "    <tr>\n",
       "      <th>5</th>\n",
       "      <td>0.0</td>\n",
       "      <td>9.0</td>\n",
       "    </tr>\n",
       "  </tbody>\n",
       "</table>\n",
       "</div>"
      ],
      "text/plain": [
       "debt_str    debt  no_debt\n",
       "children                 \n",
       "0         1063.0  13044.0\n",
       "1          445.0   4411.0\n",
       "2          202.0   1926.0\n",
       "3           27.0    303.0\n",
       "4            4.0     37.0\n",
       "5            0.0      9.0"
      ]
     },
     "metadata": {},
     "output_type": "display_data"
    }
   ],
   "source": [
    "# замена значения NaN в столбце debt на 0\n",
    "children_debt.loc[5, 'debt'] = 0\n",
    "display(children_debt)"
   ]
  },
  {
   "cell_type": "markdown",
   "id": "17c96548",
   "metadata": {},
   "source": [
    "Расчёт долей по состоянию задолженности в процентах для разных значений количества детей. "
   ]
  },
  {
   "cell_type": "code",
   "execution_count": 129,
   "id": "39ee407b",
   "metadata": {
    "scrolled": false
   },
   "outputs": [
    {
     "data": {
      "text/html": [
       "<div>\n",
       "<style scoped>\n",
       "    .dataframe tbody tr th:only-of-type {\n",
       "        vertical-align: middle;\n",
       "    }\n",
       "\n",
       "    .dataframe tbody tr th {\n",
       "        vertical-align: top;\n",
       "    }\n",
       "\n",
       "    .dataframe thead th {\n",
       "        text-align: right;\n",
       "    }\n",
       "</style>\n",
       "<table border=\"1\" class=\"dataframe\">\n",
       "  <thead>\n",
       "    <tr style=\"text-align: right;\">\n",
       "      <th>debt_str</th>\n",
       "      <th>debt</th>\n",
       "      <th>no_debt</th>\n",
       "      <th>sum</th>\n",
       "      <th>debt_ratio</th>\n",
       "      <th>no_debt_ratio</th>\n",
       "      <th>sum_ratio</th>\n",
       "    </tr>\n",
       "    <tr>\n",
       "      <th>children</th>\n",
       "      <th></th>\n",
       "      <th></th>\n",
       "      <th></th>\n",
       "      <th></th>\n",
       "      <th></th>\n",
       "      <th></th>\n",
       "    </tr>\n",
       "  </thead>\n",
       "  <tbody>\n",
       "    <tr>\n",
       "      <th>0</th>\n",
       "      <td>1063.0</td>\n",
       "      <td>13044.0</td>\n",
       "      <td>14107.0</td>\n",
       "      <td>7.5</td>\n",
       "      <td>92.5</td>\n",
       "      <td>100.0</td>\n",
       "    </tr>\n",
       "    <tr>\n",
       "      <th>1</th>\n",
       "      <td>445.0</td>\n",
       "      <td>4411.0</td>\n",
       "      <td>4856.0</td>\n",
       "      <td>9.2</td>\n",
       "      <td>90.8</td>\n",
       "      <td>100.0</td>\n",
       "    </tr>\n",
       "    <tr>\n",
       "      <th>2</th>\n",
       "      <td>202.0</td>\n",
       "      <td>1926.0</td>\n",
       "      <td>2128.0</td>\n",
       "      <td>9.5</td>\n",
       "      <td>90.5</td>\n",
       "      <td>100.0</td>\n",
       "    </tr>\n",
       "    <tr>\n",
       "      <th>3</th>\n",
       "      <td>27.0</td>\n",
       "      <td>303.0</td>\n",
       "      <td>330.0</td>\n",
       "      <td>8.2</td>\n",
       "      <td>91.8</td>\n",
       "      <td>100.0</td>\n",
       "    </tr>\n",
       "    <tr>\n",
       "      <th>4</th>\n",
       "      <td>4.0</td>\n",
       "      <td>37.0</td>\n",
       "      <td>41.0</td>\n",
       "      <td>9.8</td>\n",
       "      <td>90.2</td>\n",
       "      <td>100.0</td>\n",
       "    </tr>\n",
       "    <tr>\n",
       "      <th>5</th>\n",
       "      <td>0.0</td>\n",
       "      <td>9.0</td>\n",
       "      <td>9.0</td>\n",
       "      <td>0.0</td>\n",
       "      <td>100.0</td>\n",
       "      <td>100.0</td>\n",
       "    </tr>\n",
       "  </tbody>\n",
       "</table>\n",
       "</div>"
      ],
      "text/plain": [
       "debt_str    debt  no_debt      sum  debt_ratio  no_debt_ratio  sum_ratio\n",
       "children                                                                \n",
       "0         1063.0  13044.0  14107.0         7.5           92.5      100.0\n",
       "1          445.0   4411.0   4856.0         9.2           90.8      100.0\n",
       "2          202.0   1926.0   2128.0         9.5           90.5      100.0\n",
       "3           27.0    303.0    330.0         8.2           91.8      100.0\n",
       "4            4.0     37.0     41.0         9.8           90.2      100.0\n",
       "5            0.0      9.0      9.0         0.0          100.0      100.0"
      ]
     },
     "metadata": {},
     "output_type": "display_data"
    }
   ],
   "source": [
    "# сумма значений с задолженностью и без задолженности\n",
    "children_debt['sum'] = children_debt['debt'] + children_debt['no_debt']\n",
    "# определение доли с задолженностью\n",
    "children_debt['debt_ratio'] = (children_debt['debt'] / children_debt['sum']) * 100\n",
    "children_debt['debt_ratio'] = round(children_debt['debt_ratio'], 1)\n",
    "# определение доли без задолженности\n",
    "children_debt['no_debt_ratio'] = (children_debt['no_debt'] / children_debt['sum']) * 100\n",
    "children_debt['no_debt_ratio'] = round(children_debt['no_debt_ratio'], 1)\n",
    "children_debt['sum_ratio'] = (children_debt['sum'] / children_debt['sum']) * 100\n",
    "display(children_debt)"
   ]
  },
  {
   "cell_type": "markdown",
   "id": "0dc1eda8",
   "metadata": {},
   "source": [
    "Из полученных значений видно, что клиенты без детей имеют меньшую задолженнсть, чем клиенты с детьми. Между двумя самыми многочисленными группами без детей и с 1 ребёнком разница между должниками составляет 1,7%. Группы с 2-5 детьми малочисленны и вместе составляют около 10%, разница между ними не такая значительная. Кроме этого полученные для них значения имеют большую ошибку по сравнению с двумя основными группами. Поэтому для модели кредитного скоринга, можно ввести другую категоризацию, есть дети или нет детей."
   ]
  },
  {
   "cell_type": "markdown",
   "id": "88e86025",
   "metadata": {},
   "source": [
    "Создание таблицы наличие детей - задолженность"
   ]
  },
  {
   "cell_type": "code",
   "execution_count": 130,
   "id": "18d58114",
   "metadata": {},
   "outputs": [
    {
     "data": {
      "text/plain": [
       "debt_str\n",
       "debt        1063.0\n",
       "no_debt    13044.0\n",
       "Name: 0, dtype: float64"
      ]
     },
     "metadata": {},
     "output_type": "display_data"
    },
    {
     "data": {
      "text/plain": [
       "debt_str\n",
       "debt        678.0\n",
       "no_debt    6686.0\n",
       "dtype: float64"
      ]
     },
     "metadata": {},
     "output_type": "display_data"
    }
   ],
   "source": [
    "# создание строки нет детей\n",
    "children_debt_no = children_debt.loc[0, ['debt', 'no_debt']]\n",
    "display(children_debt_no)\n",
    "# создание строки есть дети суммированием клиентов с детьми \n",
    "children_debt_yes = children_debt.loc[1:, ['debt', 'no_debt']].sum()\n",
    "display(children_debt_yes)"
   ]
  },
  {
   "cell_type": "markdown",
   "id": "c68b6d71",
   "metadata": {},
   "source": [
    "Создание дата-фрейма наличие детей задолженность."
   ]
  },
  {
   "cell_type": "code",
   "execution_count": 131,
   "id": "310d4222",
   "metadata": {},
   "outputs": [
    {
     "name": "stdout",
     "output_type": "stream",
     "text": [
      "<class 'list'>\n"
     ]
    },
    {
     "data": {
      "text/html": [
       "<div>\n",
       "<style scoped>\n",
       "    .dataframe tbody tr th:only-of-type {\n",
       "        vertical-align: middle;\n",
       "    }\n",
       "\n",
       "    .dataframe tbody tr th {\n",
       "        vertical-align: top;\n",
       "    }\n",
       "\n",
       "    .dataframe thead th {\n",
       "        text-align: right;\n",
       "    }\n",
       "</style>\n",
       "<table border=\"1\" class=\"dataframe\">\n",
       "  <thead>\n",
       "    <tr style=\"text-align: right;\">\n",
       "      <th></th>\n",
       "      <th>наличие детей</th>\n",
       "      <th>debt</th>\n",
       "      <th>no_debt</th>\n",
       "    </tr>\n",
       "  </thead>\n",
       "  <tbody>\n",
       "    <tr>\n",
       "      <th>0</th>\n",
       "      <td>нет детей</td>\n",
       "      <td>1063.0</td>\n",
       "      <td>13044.0</td>\n",
       "    </tr>\n",
       "    <tr>\n",
       "      <th>1</th>\n",
       "      <td>есть дети</td>\n",
       "      <td>678.0</td>\n",
       "      <td>6686.0</td>\n",
       "    </tr>\n",
       "  </tbody>\n",
       "</table>\n",
       "</div>"
      ],
      "text/plain": [
       "  наличие детей    debt  no_debt\n",
       "0     нет детей  1063.0  13044.0\n",
       "1     есть дети   678.0   6686.0"
      ]
     },
     "metadata": {},
     "output_type": "display_data"
    }
   ],
   "source": [
    "children_debt_yes_no = [['нет детей', children_debt_no['debt'], children_debt_no['no_debt']], \n",
    "                        ['есть дети', children_debt_yes['debt'], children_debt_yes['no_debt']]]                        \n",
    "print(type(children_debt_yes_no))\n",
    "ch_debt_yes_no_df = pd.DataFrame(data=children_debt_yes_no, columns=['наличие детей', 'debt', 'no_debt'])\n",
    "display(ch_debt_yes_no_df)"
   ]
  },
  {
   "cell_type": "markdown",
   "id": "ad05f8f8",
   "metadata": {},
   "source": [
    "Расчет долей клиентов с задолженностью и без задолженности, по группам нет детей, есть дети."
   ]
  },
  {
   "cell_type": "code",
   "execution_count": 132,
   "id": "9bdbed9a",
   "metadata": {},
   "outputs": [
    {
     "data": {
      "text/html": [
       "<div>\n",
       "<style scoped>\n",
       "    .dataframe tbody tr th:only-of-type {\n",
       "        vertical-align: middle;\n",
       "    }\n",
       "\n",
       "    .dataframe tbody tr th {\n",
       "        vertical-align: top;\n",
       "    }\n",
       "\n",
       "    .dataframe thead th {\n",
       "        text-align: right;\n",
       "    }\n",
       "</style>\n",
       "<table border=\"1\" class=\"dataframe\">\n",
       "  <thead>\n",
       "    <tr style=\"text-align: right;\">\n",
       "      <th></th>\n",
       "      <th>наличие детей</th>\n",
       "      <th>debt</th>\n",
       "      <th>no_debt</th>\n",
       "      <th>sum</th>\n",
       "      <th>debt_ratio</th>\n",
       "      <th>no_debt_ratio</th>\n",
       "      <th>sum_ratio</th>\n",
       "    </tr>\n",
       "  </thead>\n",
       "  <tbody>\n",
       "    <tr>\n",
       "      <th>0</th>\n",
       "      <td>нет детей</td>\n",
       "      <td>1063.0</td>\n",
       "      <td>13044.0</td>\n",
       "      <td>14107.0</td>\n",
       "      <td>7.5</td>\n",
       "      <td>92.5</td>\n",
       "      <td>100.0</td>\n",
       "    </tr>\n",
       "    <tr>\n",
       "      <th>1</th>\n",
       "      <td>есть дети</td>\n",
       "      <td>678.0</td>\n",
       "      <td>6686.0</td>\n",
       "      <td>7364.0</td>\n",
       "      <td>9.2</td>\n",
       "      <td>90.8</td>\n",
       "      <td>100.0</td>\n",
       "    </tr>\n",
       "  </tbody>\n",
       "</table>\n",
       "</div>"
      ],
      "text/plain": [
       "  наличие детей    debt  no_debt      sum  debt_ratio  no_debt_ratio  \\\n",
       "0     нет детей  1063.0  13044.0  14107.0         7.5           92.5   \n",
       "1     есть дети   678.0   6686.0   7364.0         9.2           90.8   \n",
       "\n",
       "   sum_ratio  \n",
       "0      100.0  \n",
       "1      100.0  "
      ]
     },
     "metadata": {},
     "output_type": "display_data"
    }
   ],
   "source": [
    "ch_debt_yes_no_df['sum'] = ch_debt_yes_no_df['debt'] + ch_debt_yes_no_df['no_debt']\n",
    "ch_debt_yes_no_df['debt_ratio'] = (ch_debt_yes_no_df['debt'] / ch_debt_yes_no_df['sum']) * 100\n",
    "ch_debt_yes_no_df['debt_ratio'] = round(ch_debt_yes_no_df['debt_ratio'], 1)\n",
    "ch_debt_yes_no_df['no_debt_ratio'] = (ch_debt_yes_no_df['no_debt'] / ch_debt_yes_no_df['sum']) * 100\n",
    "ch_debt_yes_no_df['no_debt_ratio'] = round(ch_debt_yes_no_df['no_debt_ratio'], 1)\n",
    "ch_debt_yes_no_df['sum_ratio'] = (ch_debt_yes_no_df['sum'] / ch_debt_yes_no_df['sum']) * 100\n",
    "display(ch_debt_yes_no_df)"
   ]
  },
  {
   "cell_type": "markdown",
   "id": "c21957b6",
   "metadata": {},
   "source": [
    "Из данной таблицы видно, что доля клиентов с задолженностью не имеющая детей составляет 7,5%, а доля клиентов с задолженнность имеющая детей составляет 9,2%. Разница составляет 1,7%, что можно учесть в модели кредитного скоринга."
   ]
  },
  {
   "cell_type": "markdown",
   "id": "6bb3829f",
   "metadata": {},
   "source": [
    "#### Семейное положение - задолженность"
   ]
  },
  {
   "cell_type": "markdown",
   "id": "bb180c77",
   "metadata": {},
   "source": [
    "Создание сводной таблицы семейное положение - наличие задолженности."
   ]
  },
  {
   "cell_type": "code",
   "execution_count": 133,
   "id": "748991cb",
   "metadata": {},
   "outputs": [
    {
     "data": {
      "text/html": [
       "<div>\n",
       "<style scoped>\n",
       "    .dataframe tbody tr th:only-of-type {\n",
       "        vertical-align: middle;\n",
       "    }\n",
       "\n",
       "    .dataframe tbody tr th {\n",
       "        vertical-align: top;\n",
       "    }\n",
       "\n",
       "    .dataframe thead th {\n",
       "        text-align: right;\n",
       "    }\n",
       "</style>\n",
       "<table border=\"1\" class=\"dataframe\">\n",
       "  <thead>\n",
       "    <tr style=\"text-align: right;\">\n",
       "      <th>debt_str</th>\n",
       "      <th>debt</th>\n",
       "      <th>no_debt</th>\n",
       "    </tr>\n",
       "    <tr>\n",
       "      <th>family_status_id</th>\n",
       "      <th></th>\n",
       "      <th></th>\n",
       "    </tr>\n",
       "  </thead>\n",
       "  <tbody>\n",
       "    <tr>\n",
       "      <th>0</th>\n",
       "      <td>931</td>\n",
       "      <td>11413</td>\n",
       "    </tr>\n",
       "    <tr>\n",
       "      <th>1</th>\n",
       "      <td>388</td>\n",
       "      <td>3775</td>\n",
       "    </tr>\n",
       "    <tr>\n",
       "      <th>2</th>\n",
       "      <td>63</td>\n",
       "      <td>896</td>\n",
       "    </tr>\n",
       "    <tr>\n",
       "      <th>3</th>\n",
       "      <td>85</td>\n",
       "      <td>1110</td>\n",
       "    </tr>\n",
       "    <tr>\n",
       "      <th>4</th>\n",
       "      <td>274</td>\n",
       "      <td>2536</td>\n",
       "    </tr>\n",
       "  </tbody>\n",
       "</table>\n",
       "</div>"
      ],
      "text/plain": [
       "debt_str          debt  no_debt\n",
       "family_status_id               \n",
       "0                  931    11413\n",
       "1                  388     3775\n",
       "2                   63      896\n",
       "3                   85     1110\n",
       "4                  274     2536"
      ]
     },
     "metadata": {},
     "output_type": "display_data"
    }
   ],
   "source": [
    "family_status_debt = data.pivot_table(index = 'family_status_id', columns = 'debt_str', values = 'debt', aggfunc = 'count')\n",
    "display(family_status_debt)\n",
    "# копирование таблицы количество детей - задолженность для обобщающей таблицы\n",
    "family_status_debt_value = family_status_debt.copy()"
   ]
  },
  {
   "cell_type": "markdown",
   "id": "75b29cbc",
   "metadata": {},
   "source": [
    "Расчёт долей наличия задолженностей в каждой категории семейного положения."
   ]
  },
  {
   "cell_type": "code",
   "execution_count": 134,
   "id": "3d40b196",
   "metadata": {},
   "outputs": [
    {
     "data": {
      "text/html": [
       "<div>\n",
       "<style scoped>\n",
       "    .dataframe tbody tr th:only-of-type {\n",
       "        vertical-align: middle;\n",
       "    }\n",
       "\n",
       "    .dataframe tbody tr th {\n",
       "        vertical-align: top;\n",
       "    }\n",
       "\n",
       "    .dataframe thead th {\n",
       "        text-align: right;\n",
       "    }\n",
       "</style>\n",
       "<table border=\"1\" class=\"dataframe\">\n",
       "  <thead>\n",
       "    <tr style=\"text-align: right;\">\n",
       "      <th>debt_str</th>\n",
       "      <th>debt</th>\n",
       "      <th>no_debt</th>\n",
       "      <th>sum</th>\n",
       "      <th>debt_ratio</th>\n",
       "      <th>no_debt_ratio</th>\n",
       "      <th>sum_ratio</th>\n",
       "    </tr>\n",
       "    <tr>\n",
       "      <th>family_status_id</th>\n",
       "      <th></th>\n",
       "      <th></th>\n",
       "      <th></th>\n",
       "      <th></th>\n",
       "      <th></th>\n",
       "      <th></th>\n",
       "    </tr>\n",
       "  </thead>\n",
       "  <tbody>\n",
       "    <tr>\n",
       "      <th>0</th>\n",
       "      <td>931</td>\n",
       "      <td>11413</td>\n",
       "      <td>12344</td>\n",
       "      <td>7.5</td>\n",
       "      <td>92.5</td>\n",
       "      <td>100.0</td>\n",
       "    </tr>\n",
       "    <tr>\n",
       "      <th>1</th>\n",
       "      <td>388</td>\n",
       "      <td>3775</td>\n",
       "      <td>4163</td>\n",
       "      <td>9.3</td>\n",
       "      <td>90.7</td>\n",
       "      <td>100.0</td>\n",
       "    </tr>\n",
       "    <tr>\n",
       "      <th>2</th>\n",
       "      <td>63</td>\n",
       "      <td>896</td>\n",
       "      <td>959</td>\n",
       "      <td>6.6</td>\n",
       "      <td>93.4</td>\n",
       "      <td>100.0</td>\n",
       "    </tr>\n",
       "    <tr>\n",
       "      <th>3</th>\n",
       "      <td>85</td>\n",
       "      <td>1110</td>\n",
       "      <td>1195</td>\n",
       "      <td>7.1</td>\n",
       "      <td>92.9</td>\n",
       "      <td>100.0</td>\n",
       "    </tr>\n",
       "    <tr>\n",
       "      <th>4</th>\n",
       "      <td>274</td>\n",
       "      <td>2536</td>\n",
       "      <td>2810</td>\n",
       "      <td>9.8</td>\n",
       "      <td>90.2</td>\n",
       "      <td>100.0</td>\n",
       "    </tr>\n",
       "  </tbody>\n",
       "</table>\n",
       "</div>"
      ],
      "text/plain": [
       "debt_str          debt  no_debt    sum  debt_ratio  no_debt_ratio  sum_ratio\n",
       "family_status_id                                                            \n",
       "0                  931    11413  12344         7.5           92.5      100.0\n",
       "1                  388     3775   4163         9.3           90.7      100.0\n",
       "2                   63      896    959         6.6           93.4      100.0\n",
       "3                   85     1110   1195         7.1           92.9      100.0\n",
       "4                  274     2536   2810         9.8           90.2      100.0"
      ]
     },
     "metadata": {},
     "output_type": "display_data"
    }
   ],
   "source": [
    "family_status_debt['sum'] = family_status_debt['debt'] + family_status_debt['no_debt']\n",
    "family_status_debt['debt_ratio'] = round((family_status_debt['debt'] / family_status_debt['sum']) * 100, 1)\n",
    "family_status_debt['no_debt_ratio'] = round((family_status_debt['no_debt'] / family_status_debt['sum']) * 100, 1)\n",
    "family_status_debt['sum_ratio'] = (family_status_debt['sum'] / family_status_debt['sum']) * 100\n",
    "display(family_status_debt)"
   ]
  },
  {
   "cell_type": "code",
   "execution_count": 135,
   "id": "a98abb0d",
   "metadata": {
    "scrolled": true
   },
   "outputs": [
    {
     "data": {
      "text/html": [
       "<div>\n",
       "<style scoped>\n",
       "    .dataframe tbody tr th:only-of-type {\n",
       "        vertical-align: middle;\n",
       "    }\n",
       "\n",
       "    .dataframe tbody tr th {\n",
       "        vertical-align: top;\n",
       "    }\n",
       "\n",
       "    .dataframe thead th {\n",
       "        text-align: right;\n",
       "    }\n",
       "</style>\n",
       "<table border=\"1\" class=\"dataframe\">\n",
       "  <thead>\n",
       "    <tr style=\"text-align: right;\">\n",
       "      <th>debt_str</th>\n",
       "      <th>debt</th>\n",
       "      <th>no_debt</th>\n",
       "      <th>sum</th>\n",
       "      <th>debt_ratio</th>\n",
       "      <th>no_debt_ratio</th>\n",
       "      <th>sum_ratio</th>\n",
       "    </tr>\n",
       "    <tr>\n",
       "      <th>family_status_id</th>\n",
       "      <th></th>\n",
       "      <th></th>\n",
       "      <th></th>\n",
       "      <th></th>\n",
       "      <th></th>\n",
       "      <th></th>\n",
       "    </tr>\n",
       "  </thead>\n",
       "  <tbody>\n",
       "    <tr>\n",
       "      <th>2</th>\n",
       "      <td>63</td>\n",
       "      <td>896</td>\n",
       "      <td>959</td>\n",
       "      <td>6.6</td>\n",
       "      <td>93.4</td>\n",
       "      <td>100.0</td>\n",
       "    </tr>\n",
       "    <tr>\n",
       "      <th>3</th>\n",
       "      <td>85</td>\n",
       "      <td>1110</td>\n",
       "      <td>1195</td>\n",
       "      <td>7.1</td>\n",
       "      <td>92.9</td>\n",
       "      <td>100.0</td>\n",
       "    </tr>\n",
       "    <tr>\n",
       "      <th>4</th>\n",
       "      <td>274</td>\n",
       "      <td>2536</td>\n",
       "      <td>2810</td>\n",
       "      <td>9.8</td>\n",
       "      <td>90.2</td>\n",
       "      <td>100.0</td>\n",
       "    </tr>\n",
       "    <tr>\n",
       "      <th>1</th>\n",
       "      <td>388</td>\n",
       "      <td>3775</td>\n",
       "      <td>4163</td>\n",
       "      <td>9.3</td>\n",
       "      <td>90.7</td>\n",
       "      <td>100.0</td>\n",
       "    </tr>\n",
       "    <tr>\n",
       "      <th>0</th>\n",
       "      <td>931</td>\n",
       "      <td>11413</td>\n",
       "      <td>12344</td>\n",
       "      <td>7.5</td>\n",
       "      <td>92.5</td>\n",
       "      <td>100.0</td>\n",
       "    </tr>\n",
       "  </tbody>\n",
       "</table>\n",
       "</div>"
      ],
      "text/plain": [
       "debt_str          debt  no_debt    sum  debt_ratio  no_debt_ratio  sum_ratio\n",
       "family_status_id                                                            \n",
       "2                   63      896    959         6.6           93.4      100.0\n",
       "3                   85     1110   1195         7.1           92.9      100.0\n",
       "4                  274     2536   2810         9.8           90.2      100.0\n",
       "1                  388     3775   4163         9.3           90.7      100.0\n",
       "0                  931    11413  12344         7.5           92.5      100.0"
      ]
     },
     "execution_count": 135,
     "metadata": {},
     "output_type": "execute_result"
    }
   ],
   "source": [
    "# Сортировка по столбцу debt_ratio по возрастанию\n",
    "family_status_debt.sort_values(by='debt')"
   ]
  },
  {
   "cell_type": "markdown",
   "id": "6449d240",
   "metadata": {},
   "source": [
    "Присоединение к расчитанной таблице по индексу family_status_id справочника значений категорий family статус. Сортировка по столбцу 'debt_ratio' по возрастанию."
   ]
  },
  {
   "cell_type": "code",
   "execution_count": 136,
   "id": "526fe5ff",
   "metadata": {
    "scrolled": true
   },
   "outputs": [
    {
     "data": {
      "text/html": [
       "<div>\n",
       "<style scoped>\n",
       "    .dataframe tbody tr th:only-of-type {\n",
       "        vertical-align: middle;\n",
       "    }\n",
       "\n",
       "    .dataframe tbody tr th {\n",
       "        vertical-align: top;\n",
       "    }\n",
       "\n",
       "    .dataframe thead th {\n",
       "        text-align: right;\n",
       "    }\n",
       "</style>\n",
       "<table border=\"1\" class=\"dataframe\">\n",
       "  <thead>\n",
       "    <tr style=\"text-align: right;\">\n",
       "      <th></th>\n",
       "      <th>family_status</th>\n",
       "      <th>debt</th>\n",
       "      <th>no_debt</th>\n",
       "      <th>sum</th>\n",
       "      <th>debt_ratio</th>\n",
       "      <th>no_debt_ratio</th>\n",
       "      <th>sum_ratio</th>\n",
       "    </tr>\n",
       "    <tr>\n",
       "      <th>family_status_id</th>\n",
       "      <th></th>\n",
       "      <th></th>\n",
       "      <th></th>\n",
       "      <th></th>\n",
       "      <th></th>\n",
       "      <th></th>\n",
       "      <th></th>\n",
       "    </tr>\n",
       "  </thead>\n",
       "  <tbody>\n",
       "    <tr>\n",
       "      <th>2</th>\n",
       "      <td>вдовец / вдова</td>\n",
       "      <td>63</td>\n",
       "      <td>896</td>\n",
       "      <td>959</td>\n",
       "      <td>6.6</td>\n",
       "      <td>93.4</td>\n",
       "      <td>100.0</td>\n",
       "    </tr>\n",
       "    <tr>\n",
       "      <th>3</th>\n",
       "      <td>в разводе</td>\n",
       "      <td>85</td>\n",
       "      <td>1110</td>\n",
       "      <td>1195</td>\n",
       "      <td>7.1</td>\n",
       "      <td>92.9</td>\n",
       "      <td>100.0</td>\n",
       "    </tr>\n",
       "    <tr>\n",
       "      <th>0</th>\n",
       "      <td>женат / замужем</td>\n",
       "      <td>931</td>\n",
       "      <td>11413</td>\n",
       "      <td>12344</td>\n",
       "      <td>7.5</td>\n",
       "      <td>92.5</td>\n",
       "      <td>100.0</td>\n",
       "    </tr>\n",
       "    <tr>\n",
       "      <th>1</th>\n",
       "      <td>гражданский брак</td>\n",
       "      <td>388</td>\n",
       "      <td>3775</td>\n",
       "      <td>4163</td>\n",
       "      <td>9.3</td>\n",
       "      <td>90.7</td>\n",
       "      <td>100.0</td>\n",
       "    </tr>\n",
       "    <tr>\n",
       "      <th>4</th>\n",
       "      <td>Не женат / не замужем</td>\n",
       "      <td>274</td>\n",
       "      <td>2536</td>\n",
       "      <td>2810</td>\n",
       "      <td>9.8</td>\n",
       "      <td>90.2</td>\n",
       "      <td>100.0</td>\n",
       "    </tr>\n",
       "  </tbody>\n",
       "</table>\n",
       "</div>"
      ],
      "text/plain": [
       "                          family_status  debt  no_debt    sum  debt_ratio  \\\n",
       "family_status_id                                                            \n",
       "2                        вдовец / вдова    63      896    959         6.6   \n",
       "3                             в разводе    85     1110   1195         7.1   \n",
       "0                       женат / замужем   931    11413  12344         7.5   \n",
       "1                      гражданский брак   388     3775   4163         9.3   \n",
       "4                 Не женат / не замужем   274     2536   2810         9.8   \n",
       "\n",
       "                  no_debt_ratio  sum_ratio  \n",
       "family_status_id                            \n",
       "2                          93.4      100.0  \n",
       "3                          92.9      100.0  \n",
       "0                          92.5      100.0  \n",
       "1                          90.7      100.0  \n",
       "4                          90.2      100.0  "
      ]
     },
     "metadata": {},
     "output_type": "display_data"
    }
   ],
   "source": [
    "family_status_debt_general = family_status_id_dict.merge(family_status_debt, on='family_status_id', how='right').sort_values(by='debt_ratio')\n",
    "display(family_status_debt_general)"
   ]
  },
  {
   "cell_type": "markdown",
   "id": "35fae23f",
   "metadata": {},
   "source": [
    "Из полученных значений в таблице семейное положение - наличие задолженности видно, что имеется зависимость наличия задолженности от семейного положения. Минимальное значение составляет 6,5 % у категории вдовец/вдова и максимальное 9,8% у категории не женат / не замужем.\n",
    "Полученные значения по доле задолженностей в зависимости от семейного положения можно использовать для модели кредитного скоринга."
   ]
  },
  {
   "cell_type": "markdown",
   "id": "518e5c2e",
   "metadata": {},
   "source": [
    "#### Уровень дохода - задолженность"
   ]
  },
  {
   "cell_type": "markdown",
   "id": "a348578f",
   "metadata": {},
   "source": [
    "Построение сводной таблицы категория дохода - наличие задолженности."
   ]
  },
  {
   "cell_type": "code",
   "execution_count": 137,
   "id": "8cc69450",
   "metadata": {
    "scrolled": true
   },
   "outputs": [
    {
     "data": {
      "text/html": [
       "<div>\n",
       "<style scoped>\n",
       "    .dataframe tbody tr th:only-of-type {\n",
       "        vertical-align: middle;\n",
       "    }\n",
       "\n",
       "    .dataframe tbody tr th {\n",
       "        vertical-align: top;\n",
       "    }\n",
       "\n",
       "    .dataframe thead th {\n",
       "        text-align: right;\n",
       "    }\n",
       "</style>\n",
       "<table border=\"1\" class=\"dataframe\">\n",
       "  <thead>\n",
       "    <tr style=\"text-align: right;\">\n",
       "      <th>debt_str</th>\n",
       "      <th>debt</th>\n",
       "      <th>no_debt</th>\n",
       "    </tr>\n",
       "    <tr>\n",
       "      <th>total_income_category</th>\n",
       "      <th></th>\n",
       "      <th></th>\n",
       "    </tr>\n",
       "  </thead>\n",
       "  <tbody>\n",
       "    <tr>\n",
       "      <th>A</th>\n",
       "      <td>2</td>\n",
       "      <td>23</td>\n",
       "    </tr>\n",
       "    <tr>\n",
       "      <th>B</th>\n",
       "      <td>356</td>\n",
       "      <td>4686</td>\n",
       "    </tr>\n",
       "    <tr>\n",
       "      <th>C</th>\n",
       "      <td>1360</td>\n",
       "      <td>14672</td>\n",
       "    </tr>\n",
       "    <tr>\n",
       "      <th>D</th>\n",
       "      <td>21</td>\n",
       "      <td>329</td>\n",
       "    </tr>\n",
       "    <tr>\n",
       "      <th>E</th>\n",
       "      <td>2</td>\n",
       "      <td>20</td>\n",
       "    </tr>\n",
       "  </tbody>\n",
       "</table>\n",
       "</div>"
      ],
      "text/plain": [
       "debt_str               debt  no_debt\n",
       "total_income_category               \n",
       "A                         2       23\n",
       "B                       356     4686\n",
       "C                      1360    14672\n",
       "D                        21      329\n",
       "E                         2       20"
      ]
     },
     "metadata": {},
     "output_type": "display_data"
    }
   ],
   "source": [
    "total_income_debt = data.pivot_table(index = 'total_income_category', columns = 'debt_str', values = 'debt', aggfunc = 'count')\n",
    "display(total_income_debt)"
   ]
  },
  {
   "cell_type": "code",
   "execution_count": 138,
   "id": "2579baff",
   "metadata": {},
   "outputs": [
    {
     "data": {
      "text/html": [
       "<div>\n",
       "<style scoped>\n",
       "    .dataframe tbody tr th:only-of-type {\n",
       "        vertical-align: middle;\n",
       "    }\n",
       "\n",
       "    .dataframe tbody tr th {\n",
       "        vertical-align: top;\n",
       "    }\n",
       "\n",
       "    .dataframe thead th {\n",
       "        text-align: right;\n",
       "    }\n",
       "</style>\n",
       "<table border=\"1\" class=\"dataframe\">\n",
       "  <thead>\n",
       "    <tr style=\"text-align: right;\">\n",
       "      <th>debt_str</th>\n",
       "      <th>debt</th>\n",
       "      <th>no_debt</th>\n",
       "      <th>sum</th>\n",
       "      <th>debt_ratio</th>\n",
       "      <th>no_debt_ratio</th>\n",
       "      <th>sum_ratio</th>\n",
       "    </tr>\n",
       "    <tr>\n",
       "      <th>total_income_category</th>\n",
       "      <th></th>\n",
       "      <th></th>\n",
       "      <th></th>\n",
       "      <th></th>\n",
       "      <th></th>\n",
       "      <th></th>\n",
       "    </tr>\n",
       "  </thead>\n",
       "  <tbody>\n",
       "    <tr>\n",
       "      <th>A</th>\n",
       "      <td>2</td>\n",
       "      <td>23</td>\n",
       "      <td>25</td>\n",
       "      <td>8.0</td>\n",
       "      <td>92.0</td>\n",
       "      <td>100.0</td>\n",
       "    </tr>\n",
       "    <tr>\n",
       "      <th>B</th>\n",
       "      <td>356</td>\n",
       "      <td>4686</td>\n",
       "      <td>5042</td>\n",
       "      <td>7.1</td>\n",
       "      <td>93.0</td>\n",
       "      <td>100.0</td>\n",
       "    </tr>\n",
       "    <tr>\n",
       "      <th>C</th>\n",
       "      <td>1360</td>\n",
       "      <td>14672</td>\n",
       "      <td>16032</td>\n",
       "      <td>8.5</td>\n",
       "      <td>92.0</td>\n",
       "      <td>100.0</td>\n",
       "    </tr>\n",
       "    <tr>\n",
       "      <th>D</th>\n",
       "      <td>21</td>\n",
       "      <td>329</td>\n",
       "      <td>350</td>\n",
       "      <td>6.0</td>\n",
       "      <td>94.0</td>\n",
       "      <td>100.0</td>\n",
       "    </tr>\n",
       "    <tr>\n",
       "      <th>E</th>\n",
       "      <td>2</td>\n",
       "      <td>20</td>\n",
       "      <td>22</td>\n",
       "      <td>9.1</td>\n",
       "      <td>91.0</td>\n",
       "      <td>100.0</td>\n",
       "    </tr>\n",
       "  </tbody>\n",
       "</table>\n",
       "</div>"
      ],
      "text/plain": [
       "debt_str               debt  no_debt    sum  debt_ratio  no_debt_ratio  \\\n",
       "total_income_category                                                    \n",
       "A                         2       23     25         8.0           92.0   \n",
       "B                       356     4686   5042         7.1           93.0   \n",
       "C                      1360    14672  16032         8.5           92.0   \n",
       "D                        21      329    350         6.0           94.0   \n",
       "E                         2       20     22         9.1           91.0   \n",
       "\n",
       "debt_str               sum_ratio  \n",
       "total_income_category             \n",
       "A                          100.0  \n",
       "B                          100.0  \n",
       "C                          100.0  \n",
       "D                          100.0  \n",
       "E                          100.0  "
      ]
     },
     "metadata": {},
     "output_type": "display_data"
    }
   ],
   "source": [
    "total_income_debt['sum'] = total_income_debt['debt'] + total_income_debt['no_debt']\n",
    "total_income_debt['debt_ratio'] = (total_income_debt['debt'] / total_income_debt['sum']) * 100\n",
    "total_income_debt['debt_ratio'] = round(total_income_debt['debt_ratio'], 1)\n",
    "total_income_debt['no_debt_ratio'] = (total_income_debt['no_debt'] / total_income_debt['sum']) * 100\n",
    "total_income_debt['no_debt_ratio'] = round(total_income_debt['no_debt_ratio'])\n",
    "total_income_debt['sum_ratio'] = (total_income_debt['sum'] / total_income_debt['sum']) * 100\n",
    "display(total_income_debt)"
   ]
  },
  {
   "cell_type": "markdown",
   "id": "0b9fe5d9",
   "metadata": {},
   "source": [
    "Создание датафрейма с полученными значениями задолженности и с описанием категорий. Сортировка по столбцу debt_ratio по возрастанию."
   ]
  },
  {
   "cell_type": "code",
   "execution_count": 139,
   "id": "f74eeaed",
   "metadata": {
    "scrolled": true
   },
   "outputs": [
    {
     "data": {
      "text/html": [
       "<div>\n",
       "<style scoped>\n",
       "    .dataframe tbody tr th:only-of-type {\n",
       "        vertical-align: middle;\n",
       "    }\n",
       "\n",
       "    .dataframe tbody tr th {\n",
       "        vertical-align: top;\n",
       "    }\n",
       "\n",
       "    .dataframe thead th {\n",
       "        text-align: right;\n",
       "    }\n",
       "</style>\n",
       "<table border=\"1\" class=\"dataframe\">\n",
       "  <thead>\n",
       "    <tr style=\"text-align: right;\">\n",
       "      <th></th>\n",
       "      <th>total_income_category</th>\n",
       "      <th>description</th>\n",
       "      <th>debt</th>\n",
       "      <th>no_debt</th>\n",
       "      <th>sum</th>\n",
       "      <th>debt_ratio</th>\n",
       "      <th>no_debt_ratio</th>\n",
       "      <th>sum_ratio</th>\n",
       "    </tr>\n",
       "  </thead>\n",
       "  <tbody>\n",
       "    <tr>\n",
       "      <th>3</th>\n",
       "      <td>D</td>\n",
       "      <td>30 тыс руб - 50 тыс руб</td>\n",
       "      <td>21</td>\n",
       "      <td>329</td>\n",
       "      <td>350</td>\n",
       "      <td>6.0</td>\n",
       "      <td>94.0</td>\n",
       "      <td>100.0</td>\n",
       "    </tr>\n",
       "    <tr>\n",
       "      <th>1</th>\n",
       "      <td>B</td>\n",
       "      <td>200 тыс руб - 1 млн руб</td>\n",
       "      <td>356</td>\n",
       "      <td>4686</td>\n",
       "      <td>5042</td>\n",
       "      <td>7.1</td>\n",
       "      <td>93.0</td>\n",
       "      <td>100.0</td>\n",
       "    </tr>\n",
       "    <tr>\n",
       "      <th>0</th>\n",
       "      <td>A</td>\n",
       "      <td>1 млн руб и более</td>\n",
       "      <td>2</td>\n",
       "      <td>23</td>\n",
       "      <td>25</td>\n",
       "      <td>8.0</td>\n",
       "      <td>92.0</td>\n",
       "      <td>100.0</td>\n",
       "    </tr>\n",
       "    <tr>\n",
       "      <th>2</th>\n",
       "      <td>C</td>\n",
       "      <td>50 тыс руб - 200 тыс руб</td>\n",
       "      <td>1360</td>\n",
       "      <td>14672</td>\n",
       "      <td>16032</td>\n",
       "      <td>8.5</td>\n",
       "      <td>92.0</td>\n",
       "      <td>100.0</td>\n",
       "    </tr>\n",
       "    <tr>\n",
       "      <th>4</th>\n",
       "      <td>E</td>\n",
       "      <td>0 - 30 тыс руб</td>\n",
       "      <td>2</td>\n",
       "      <td>20</td>\n",
       "      <td>22</td>\n",
       "      <td>9.1</td>\n",
       "      <td>91.0</td>\n",
       "      <td>100.0</td>\n",
       "    </tr>\n",
       "  </tbody>\n",
       "</table>\n",
       "</div>"
      ],
      "text/plain": [
       "  total_income_category                description  debt  no_debt    sum  \\\n",
       "3                     D    30 тыс руб - 50 тыс руб    21      329    350   \n",
       "1                     B    200 тыс руб - 1 млн руб   356     4686   5042   \n",
       "0                     A          1 млн руб и более     2       23     25   \n",
       "2                     C   50 тыс руб - 200 тыс руб  1360    14672  16032   \n",
       "4                     E             0 - 30 тыс руб     2       20     22   \n",
       "\n",
       "   debt_ratio  no_debt_ratio  sum_ratio  \n",
       "3         6.0           94.0      100.0  \n",
       "1         7.1           93.0      100.0  \n",
       "0         8.0           92.0      100.0  \n",
       "2         8.5           92.0      100.0  \n",
       "4         9.1           91.0      100.0  "
      ]
     },
     "metadata": {},
     "output_type": "display_data"
    }
   ],
   "source": [
    "total_income_debt_general = category_income_value_descr.merge(total_income_debt, on='total_income_category', how='right').sort_values(by='debt_ratio')\n",
    "display(total_income_debt_general)"
   ]
  },
  {
   "cell_type": "markdown",
   "id": "4b13aed3",
   "metadata": {},
   "source": [
    "В таблице цели кредита - задолженность есть 2 категории A и E имеющие маленькое количество значений, поэтому ошибка расчитанных долей будет большой. В связи с этим из дальнейшего анализа будут исключены эти категории."
   ]
  },
  {
   "cell_type": "code",
   "execution_count": 140,
   "id": "acbab6f9",
   "metadata": {},
   "outputs": [
    {
     "data": {
      "text/html": [
       "<div>\n",
       "<style scoped>\n",
       "    .dataframe tbody tr th:only-of-type {\n",
       "        vertical-align: middle;\n",
       "    }\n",
       "\n",
       "    .dataframe tbody tr th {\n",
       "        vertical-align: top;\n",
       "    }\n",
       "\n",
       "    .dataframe thead th {\n",
       "        text-align: right;\n",
       "    }\n",
       "</style>\n",
       "<table border=\"1\" class=\"dataframe\">\n",
       "  <thead>\n",
       "    <tr style=\"text-align: right;\">\n",
       "      <th></th>\n",
       "      <th>total_income_category</th>\n",
       "      <th>description</th>\n",
       "      <th>debt</th>\n",
       "      <th>no_debt</th>\n",
       "      <th>sum</th>\n",
       "      <th>debt_ratio</th>\n",
       "      <th>no_debt_ratio</th>\n",
       "      <th>sum_ratio</th>\n",
       "    </tr>\n",
       "  </thead>\n",
       "  <tbody>\n",
       "    <tr>\n",
       "      <th>3</th>\n",
       "      <td>D</td>\n",
       "      <td>30 тыс руб - 50 тыс руб</td>\n",
       "      <td>21</td>\n",
       "      <td>329</td>\n",
       "      <td>350</td>\n",
       "      <td>6.0</td>\n",
       "      <td>94.0</td>\n",
       "      <td>100.0</td>\n",
       "    </tr>\n",
       "    <tr>\n",
       "      <th>1</th>\n",
       "      <td>B</td>\n",
       "      <td>200 тыс руб - 1 млн руб</td>\n",
       "      <td>356</td>\n",
       "      <td>4686</td>\n",
       "      <td>5042</td>\n",
       "      <td>7.1</td>\n",
       "      <td>93.0</td>\n",
       "      <td>100.0</td>\n",
       "    </tr>\n",
       "    <tr>\n",
       "      <th>2</th>\n",
       "      <td>C</td>\n",
       "      <td>50 тыс руб - 200 тыс руб</td>\n",
       "      <td>1360</td>\n",
       "      <td>14672</td>\n",
       "      <td>16032</td>\n",
       "      <td>8.5</td>\n",
       "      <td>92.0</td>\n",
       "      <td>100.0</td>\n",
       "    </tr>\n",
       "  </tbody>\n",
       "</table>\n",
       "</div>"
      ],
      "text/plain": [
       "  total_income_category                description  debt  no_debt    sum  \\\n",
       "3                     D    30 тыс руб - 50 тыс руб    21      329    350   \n",
       "1                     B    200 тыс руб - 1 млн руб   356     4686   5042   \n",
       "2                     C   50 тыс руб - 200 тыс руб  1360    14672  16032   \n",
       "\n",
       "   debt_ratio  no_debt_ratio  sum_ratio  \n",
       "3         6.0           94.0      100.0  \n",
       "1         7.1           93.0      100.0  \n",
       "2         8.5           92.0      100.0  "
      ]
     },
     "execution_count": 140,
     "metadata": {},
     "output_type": "execute_result"
    }
   ],
   "source": [
    "# Исключение строк с категориями A, E по их индексам\n",
    "total_income_debt_general.drop(axis=0, index=[4,0])"
   ]
  },
  {
   "cell_type": "markdown",
   "id": "4cf5519d",
   "metadata": {},
   "source": [
    "Из таблицы категории дохода - задолженность видно, есть зависимость между категорией дохода и задолженностью. Минимальная доля должников составляет 6.0 % в группе с доходами от 30 тыс. руб до 50 тыс руб.Максимальная доля должников составляет 8.5 % в группе с доходами от 50 тыс. руб до 200 тыс руб. Таким образом, полученную зависимость задолженности от категории дохода можно использовать в модели кредитного скоринга."
   ]
  },
  {
   "cell_type": "markdown",
   "id": "51912c6a",
   "metadata": {},
   "source": [
    "#### Цели кредита - задолженность"
   ]
  },
  {
   "cell_type": "code",
   "execution_count": 141,
   "id": "4dcb12bd",
   "metadata": {
    "scrolled": true
   },
   "outputs": [
    {
     "data": {
      "text/html": [
       "<div>\n",
       "<style scoped>\n",
       "    .dataframe tbody tr th:only-of-type {\n",
       "        vertical-align: middle;\n",
       "    }\n",
       "\n",
       "    .dataframe tbody tr th {\n",
       "        vertical-align: top;\n",
       "    }\n",
       "\n",
       "    .dataframe thead th {\n",
       "        text-align: right;\n",
       "    }\n",
       "</style>\n",
       "<table border=\"1\" class=\"dataframe\">\n",
       "  <thead>\n",
       "    <tr style=\"text-align: right;\">\n",
       "      <th>debt_str</th>\n",
       "      <th>debt</th>\n",
       "      <th>no_debt</th>\n",
       "    </tr>\n",
       "    <tr>\n",
       "      <th>purpose_category</th>\n",
       "      <th></th>\n",
       "      <th></th>\n",
       "    </tr>\n",
       "  </thead>\n",
       "  <tbody>\n",
       "    <tr>\n",
       "      <th>операции с автомобилем</th>\n",
       "      <td>403</td>\n",
       "      <td>3905</td>\n",
       "    </tr>\n",
       "    <tr>\n",
       "      <th>операции с недвижимостью</th>\n",
       "      <td>782</td>\n",
       "      <td>10032</td>\n",
       "    </tr>\n",
       "    <tr>\n",
       "      <th>получение образования</th>\n",
       "      <td>370</td>\n",
       "      <td>3644</td>\n",
       "    </tr>\n",
       "    <tr>\n",
       "      <th>проведение свадьбы</th>\n",
       "      <td>186</td>\n",
       "      <td>2149</td>\n",
       "    </tr>\n",
       "  </tbody>\n",
       "</table>\n",
       "</div>"
      ],
      "text/plain": [
       "debt_str                  debt  no_debt\n",
       "purpose_category                       \n",
       "операции с автомобилем     403     3905\n",
       "операции с недвижимостью   782    10032\n",
       "получение образования      370     3644\n",
       "проведение свадьбы         186     2149"
      ]
     },
     "metadata": {},
     "output_type": "display_data"
    }
   ],
   "source": [
    "purpose_debt = data.pivot_table(index = 'purpose_category', columns = 'debt_str', values = 'debt', aggfunc = 'count')\n",
    "display(purpose_debt)"
   ]
  },
  {
   "cell_type": "code",
   "execution_count": 142,
   "id": "c90986ab",
   "metadata": {},
   "outputs": [
    {
     "data": {
      "text/html": [
       "<div>\n",
       "<style scoped>\n",
       "    .dataframe tbody tr th:only-of-type {\n",
       "        vertical-align: middle;\n",
       "    }\n",
       "\n",
       "    .dataframe tbody tr th {\n",
       "        vertical-align: top;\n",
       "    }\n",
       "\n",
       "    .dataframe thead th {\n",
       "        text-align: right;\n",
       "    }\n",
       "</style>\n",
       "<table border=\"1\" class=\"dataframe\">\n",
       "  <thead>\n",
       "    <tr style=\"text-align: right;\">\n",
       "      <th>debt_str</th>\n",
       "      <th>debt</th>\n",
       "      <th>no_debt</th>\n",
       "      <th>sum</th>\n",
       "      <th>debt_ratio</th>\n",
       "      <th>no_debt_ratio</th>\n",
       "      <th>sum_ratio</th>\n",
       "    </tr>\n",
       "    <tr>\n",
       "      <th>purpose_category</th>\n",
       "      <th></th>\n",
       "      <th></th>\n",
       "      <th></th>\n",
       "      <th></th>\n",
       "      <th></th>\n",
       "      <th></th>\n",
       "    </tr>\n",
       "  </thead>\n",
       "  <tbody>\n",
       "    <tr>\n",
       "      <th>операции с недвижимостью</th>\n",
       "      <td>782</td>\n",
       "      <td>10032</td>\n",
       "      <td>10814</td>\n",
       "      <td>7.2</td>\n",
       "      <td>92.8</td>\n",
       "      <td>100.0</td>\n",
       "    </tr>\n",
       "    <tr>\n",
       "      <th>проведение свадьбы</th>\n",
       "      <td>186</td>\n",
       "      <td>2149</td>\n",
       "      <td>2335</td>\n",
       "      <td>8.0</td>\n",
       "      <td>92.0</td>\n",
       "      <td>100.0</td>\n",
       "    </tr>\n",
       "    <tr>\n",
       "      <th>получение образования</th>\n",
       "      <td>370</td>\n",
       "      <td>3644</td>\n",
       "      <td>4014</td>\n",
       "      <td>9.2</td>\n",
       "      <td>90.8</td>\n",
       "      <td>100.0</td>\n",
       "    </tr>\n",
       "    <tr>\n",
       "      <th>операции с автомобилем</th>\n",
       "      <td>403</td>\n",
       "      <td>3905</td>\n",
       "      <td>4308</td>\n",
       "      <td>9.4</td>\n",
       "      <td>90.6</td>\n",
       "      <td>100.0</td>\n",
       "    </tr>\n",
       "  </tbody>\n",
       "</table>\n",
       "</div>"
      ],
      "text/plain": [
       "debt_str                  debt  no_debt    sum  debt_ratio  no_debt_ratio  \\\n",
       "purpose_category                                                            \n",
       "операции с недвижимостью   782    10032  10814         7.2           92.8   \n",
       "проведение свадьбы         186     2149   2335         8.0           92.0   \n",
       "получение образования      370     3644   4014         9.2           90.8   \n",
       "операции с автомобилем     403     3905   4308         9.4           90.6   \n",
       "\n",
       "debt_str                  sum_ratio  \n",
       "purpose_category                     \n",
       "операции с недвижимостью      100.0  \n",
       "проведение свадьбы            100.0  \n",
       "получение образования         100.0  \n",
       "операции с автомобилем        100.0  "
      ]
     },
     "metadata": {},
     "output_type": "display_data"
    }
   ],
   "source": [
    "purpose_debt['sum'] = purpose_debt['debt'] + purpose_debt['no_debt']\n",
    "purpose_debt['debt_ratio'] = (purpose_debt['debt'] / purpose_debt['sum']) * 100\n",
    "purpose_debt['debt_ratio'] = round(purpose_debt['debt_ratio'],1)\n",
    "purpose_debt['no_debt_ratio'] = (purpose_debt['no_debt'] / purpose_debt['sum']) * 100\n",
    "purpose_debt['no_debt_ratio'] = round(purpose_debt['no_debt_ratio'], 1)\n",
    "purpose_debt['sum_ratio'] = (purpose_debt['sum'] / purpose_debt['sum']) * 100 \n",
    "display(purpose_debt.sort_values(by='debt_ratio'))"
   ]
  },
  {
   "cell_type": "markdown",
   "id": "501e1cba",
   "metadata": {},
   "source": [
    "Из полученной таблицы цели кредита - задолженность видно, что есть зависимость между целями кредита и задолженностью. Минимальное значение 7,2% имеет категория операции с недвижимостью, максимальное значение 9,4% имеет категория операции с автомобилем. Полученную зависимость между задолженностью и целями кредита можно использовать для модели кредитного скоринга. "
   ]
  },
  {
   "cell_type": "markdown",
   "id": "5843e4e2",
   "metadata": {},
   "source": [
    "## Общий вывод:"
   ]
  },
  {
   "cell_type": "markdown",
   "id": "564e79ed",
   "metadata": {},
   "source": [
    "Таким образом, в результате проверок 4-х гипотез было выявлено, что есть зависимость доли должников от количества детей, от семейного положения, от уровня дохода и от целей кредита. Разница долей между разными группами составляет для зависимости дети - задолженность 1,7 %, семейное положение - задолженность 3,2 %, уровень дохода - задолженность 2,6 %, цель кредита - задолженность 2,2 %. Полученные значения долей задолженности можно использовать в модели кредитного скоринга."
   ]
  },
  {
   "cell_type": "markdown",
   "id": "66cdd47e",
   "metadata": {},
   "source": [
    "## P.S. (постскриптум)"
   ]
  },
  {
   "cell_type": "markdown",
   "id": "cd424b45",
   "metadata": {},
   "source": [
    "### О необходимости расчёта ошибок полученных значений в таблицах зависимостей задолженности от различных факторов"
   ]
  },
  {
   "cell_type": "markdown",
   "id": "8eba9b47",
   "metadata": {},
   "source": [
    "Для использования полученных данных зависимостей задолженности от различных факторов, необходимо оценить статистическую ошибку полученных данных. После этого проверить чтобы полученные данные были статистически различимыми. Так как еще не пройдена тема по теории вероятностей и эта учебная задача относится к разделу предобработка данных, расчёт статистической различимости полученных данных не проводился."
   ]
  }
 ],
 "metadata": {
  "ExecuteTimeLog": [
   {
    "duration": 592,
    "start_time": "2022-02-18T18:46:17.118Z"
   },
   {
    "duration": 55,
    "start_time": "2022-02-18T18:47:57.105Z"
   },
   {
    "duration": 17,
    "start_time": "2022-02-18T18:50:15.728Z"
   },
   {
    "duration": 10,
    "start_time": "2022-02-18T18:50:31.095Z"
   },
   {
    "duration": 4,
    "start_time": "2022-02-18T18:53:50.910Z"
   },
   {
    "duration": 19,
    "start_time": "2022-02-18T18:56:54.581Z"
   },
   {
    "duration": 9,
    "start_time": "2022-02-18T18:57:12.240Z"
   },
   {
    "duration": 3,
    "start_time": "2022-02-18T19:04:45.878Z"
   },
   {
    "duration": 20,
    "start_time": "2022-02-18T19:10:39.367Z"
   },
   {
    "duration": 17,
    "start_time": "2022-02-18T19:13:28.995Z"
   },
   {
    "duration": 16,
    "start_time": "2022-02-18T19:14:36.856Z"
   },
   {
    "duration": 244,
    "start_time": "2022-02-20T16:56:35.123Z"
   },
   {
    "duration": 648,
    "start_time": "2022-02-20T16:56:53.441Z"
   },
   {
    "duration": 32,
    "start_time": "2022-02-20T16:56:54.091Z"
   },
   {
    "duration": 14,
    "start_time": "2022-02-20T17:24:58.489Z"
   },
   {
    "duration": 29,
    "start_time": "2022-02-20T17:47:33.924Z"
   },
   {
    "duration": 25,
    "start_time": "2022-02-20T17:48:02.284Z"
   },
   {
    "duration": 27,
    "start_time": "2022-02-20T18:16:59.619Z"
   },
   {
    "duration": 390,
    "start_time": "2022-02-21T08:30:25.322Z"
   },
   {
    "duration": 843,
    "start_time": "2022-02-21T08:30:34.248Z"
   },
   {
    "duration": 47,
    "start_time": "2022-02-21T08:30:35.094Z"
   },
   {
    "duration": 9,
    "start_time": "2022-02-21T08:30:35.145Z"
   },
   {
    "duration": 16,
    "start_time": "2022-02-21T08:30:35.156Z"
   },
   {
    "duration": 8,
    "start_time": "2022-02-21T08:30:35.174Z"
   },
   {
    "duration": 380,
    "start_time": "2022-02-21T08:30:35.184Z"
   },
   {
    "duration": 330,
    "start_time": "2022-02-21T08:31:14.315Z"
   },
   {
    "duration": 51,
    "start_time": "2022-02-21T08:32:19.164Z"
   },
   {
    "duration": 50,
    "start_time": "2022-02-21T08:33:28.311Z"
   },
   {
    "duration": 49,
    "start_time": "2022-02-21T08:35:13.500Z"
   },
   {
    "duration": 18,
    "start_time": "2022-02-21T08:43:15.531Z"
   },
   {
    "duration": 32,
    "start_time": "2022-02-21T08:51:31.733Z"
   },
   {
    "duration": 33,
    "start_time": "2022-02-21T08:56:30.260Z"
   },
   {
    "duration": 79,
    "start_time": "2022-02-21T13:12:14.083Z"
   },
   {
    "duration": 297,
    "start_time": "2022-02-21T13:12:49.455Z"
   },
   {
    "duration": 783,
    "start_time": "2022-02-21T13:12:57.869Z"
   },
   {
    "duration": 28,
    "start_time": "2022-02-21T13:12:58.655Z"
   },
   {
    "duration": 12,
    "start_time": "2022-02-21T13:12:58.686Z"
   },
   {
    "duration": 11,
    "start_time": "2022-02-21T13:12:58.701Z"
   },
   {
    "duration": 59,
    "start_time": "2022-02-21T13:12:58.714Z"
   },
   {
    "duration": 47,
    "start_time": "2022-02-21T13:12:58.776Z"
   },
   {
    "duration": 44,
    "start_time": "2022-02-21T13:14:29.328Z"
   },
   {
    "duration": 49,
    "start_time": "2022-02-21T13:14:43.683Z"
   },
   {
    "duration": 32,
    "start_time": "2022-02-21T13:15:05.556Z"
   },
   {
    "duration": 32,
    "start_time": "2022-02-21T13:15:31.326Z"
   },
   {
    "duration": 501,
    "start_time": "2022-02-21T13:31:33.194Z"
   },
   {
    "duration": 47,
    "start_time": "2022-02-21T13:31:48.110Z"
   },
   {
    "duration": 25,
    "start_time": "2022-02-21T13:36:51.619Z"
   },
   {
    "duration": 3,
    "start_time": "2022-02-21T13:37:21.454Z"
   },
   {
    "duration": 27,
    "start_time": "2022-02-21T13:39:35.216Z"
   },
   {
    "duration": 25,
    "start_time": "2022-02-21T13:39:51.054Z"
   },
   {
    "duration": 42,
    "start_time": "2022-02-21T13:40:26.412Z"
   },
   {
    "duration": 6775,
    "start_time": "2022-02-21T14:13:42.985Z"
   },
   {
    "duration": 7,
    "start_time": "2022-02-21T14:14:08.306Z"
   },
   {
    "duration": 77,
    "start_time": "2022-02-21T14:18:38.372Z"
   },
   {
    "duration": 42,
    "start_time": "2022-02-21T14:18:43.818Z"
   },
   {
    "duration": 12,
    "start_time": "2022-02-21T14:19:03.190Z"
   },
   {
    "duration": 8,
    "start_time": "2022-02-21T14:19:38.754Z"
   },
   {
    "duration": 9,
    "start_time": "2022-02-21T14:23:16.355Z"
   },
   {
    "duration": 19,
    "start_time": "2022-02-21T14:31:43.238Z"
   },
   {
    "duration": 18,
    "start_time": "2022-02-21T14:32:06.135Z"
   },
   {
    "duration": 25,
    "start_time": "2022-02-21T14:32:29.500Z"
   },
   {
    "duration": 8,
    "start_time": "2022-02-21T14:34:01.315Z"
   },
   {
    "duration": 11,
    "start_time": "2022-02-21T14:37:12.128Z"
   },
   {
    "duration": 23,
    "start_time": "2022-02-21T14:38:10.248Z"
   },
   {
    "duration": 228,
    "start_time": "2022-02-21T14:42:43.200Z"
   },
   {
    "duration": 6,
    "start_time": "2022-02-21T14:43:18.003Z"
   },
   {
    "duration": 9,
    "start_time": "2022-02-21T14:44:10.284Z"
   },
   {
    "duration": 66,
    "start_time": "2022-02-21T14:44:30.447Z"
   },
   {
    "duration": 43,
    "start_time": "2022-02-21T14:44:30.516Z"
   },
   {
    "duration": 35,
    "start_time": "2022-02-21T14:44:30.562Z"
   },
   {
    "duration": 36,
    "start_time": "2022-02-21T14:44:30.600Z"
   },
   {
    "duration": 51,
    "start_time": "2022-02-21T14:44:30.639Z"
   },
   {
    "duration": 30,
    "start_time": "2022-02-21T14:44:30.693Z"
   },
   {
    "duration": 23,
    "start_time": "2022-02-21T14:44:30.726Z"
   },
   {
    "duration": 54,
    "start_time": "2022-02-21T14:44:30.754Z"
   },
   {
    "duration": 35,
    "start_time": "2022-02-21T14:44:30.811Z"
   },
   {
    "duration": 46,
    "start_time": "2022-02-21T14:44:30.849Z"
   },
   {
    "duration": 7,
    "start_time": "2022-02-21T14:44:30.897Z"
   },
   {
    "duration": 253,
    "start_time": "2022-02-21T14:51:02.122Z"
   },
   {
    "duration": 10,
    "start_time": "2022-02-21T14:51:32.786Z"
   },
   {
    "duration": 9,
    "start_time": "2022-02-21T14:52:11.495Z"
   },
   {
    "duration": 257,
    "start_time": "2022-02-21T14:57:47.985Z"
   },
   {
    "duration": 9,
    "start_time": "2022-02-21T14:57:54.359Z"
   },
   {
    "duration": 8,
    "start_time": "2022-02-21T15:07:24.276Z"
   },
   {
    "duration": 16,
    "start_time": "2022-02-21T15:07:30.403Z"
   },
   {
    "duration": 17,
    "start_time": "2022-02-21T15:07:53.665Z"
   },
   {
    "duration": 22,
    "start_time": "2022-02-21T15:08:11.311Z"
   },
   {
    "duration": 22,
    "start_time": "2022-02-21T15:08:56.955Z"
   },
   {
    "duration": 8,
    "start_time": "2022-02-21T15:09:43.444Z"
   },
   {
    "duration": 71,
    "start_time": "2022-02-21T15:42:32.906Z"
   },
   {
    "duration": 34,
    "start_time": "2022-02-21T15:42:32.980Z"
   },
   {
    "duration": 38,
    "start_time": "2022-02-21T15:42:33.018Z"
   },
   {
    "duration": 10,
    "start_time": "2022-02-21T15:42:33.058Z"
   },
   {
    "duration": 26,
    "start_time": "2022-02-21T15:42:33.070Z"
   },
   {
    "duration": 55,
    "start_time": "2022-02-21T15:42:33.099Z"
   },
   {
    "duration": 25,
    "start_time": "2022-02-21T15:42:33.156Z"
   },
   {
    "duration": 32,
    "start_time": "2022-02-21T15:42:33.186Z"
   },
   {
    "duration": 57,
    "start_time": "2022-02-21T15:42:33.221Z"
   },
   {
    "duration": 77,
    "start_time": "2022-02-21T15:42:33.281Z"
   },
   {
    "duration": 11,
    "start_time": "2022-02-21T15:42:33.361Z"
   },
   {
    "duration": 22,
    "start_time": "2022-02-21T15:42:33.375Z"
   },
   {
    "duration": 58,
    "start_time": "2022-02-21T15:42:33.400Z"
   },
   {
    "duration": 10,
    "start_time": "2022-02-21T15:42:33.461Z"
   },
   {
    "duration": 10,
    "start_time": "2022-02-21T15:42:33.474Z"
   },
   {
    "duration": 13,
    "start_time": "2022-02-21T15:42:33.487Z"
   },
   {
    "duration": 68,
    "start_time": "2022-02-21T15:42:33.502Z"
   },
   {
    "duration": 10,
    "start_time": "2022-02-21T15:42:33.573Z"
   },
   {
    "duration": 4447,
    "start_time": "2022-02-21T15:50:42.951Z"
   },
   {
    "duration": 74,
    "start_time": "2022-02-21T15:50:52.740Z"
   },
   {
    "duration": 56,
    "start_time": "2022-02-21T15:50:52.817Z"
   },
   {
    "duration": 15,
    "start_time": "2022-02-21T15:50:52.877Z"
   },
   {
    "duration": 10,
    "start_time": "2022-02-21T15:50:52.895Z"
   },
   {
    "duration": 56,
    "start_time": "2022-02-21T15:50:52.908Z"
   },
   {
    "duration": 28,
    "start_time": "2022-02-21T15:50:52.967Z"
   },
   {
    "duration": 24,
    "start_time": "2022-02-21T15:50:52.997Z"
   },
   {
    "duration": 33,
    "start_time": "2022-02-21T15:50:53.052Z"
   },
   {
    "duration": 62,
    "start_time": "2022-02-21T15:50:53.089Z"
   },
   {
    "duration": 46,
    "start_time": "2022-02-21T15:50:53.153Z"
   },
   {
    "duration": 7,
    "start_time": "2022-02-21T15:50:53.202Z"
   },
   {
    "duration": 50,
    "start_time": "2022-02-21T15:50:53.212Z"
   },
   {
    "duration": 19,
    "start_time": "2022-02-21T15:50:53.265Z"
   },
   {
    "duration": 9,
    "start_time": "2022-02-21T15:50:53.287Z"
   },
   {
    "duration": 21,
    "start_time": "2022-02-21T15:50:53.299Z"
   },
   {
    "duration": 10,
    "start_time": "2022-02-21T15:50:53.348Z"
   },
   {
    "duration": 31,
    "start_time": "2022-02-21T15:50:53.360Z"
   },
   {
    "duration": 7,
    "start_time": "2022-02-21T15:50:53.393Z"
   },
   {
    "duration": 4425,
    "start_time": "2022-02-21T15:51:06.546Z"
   },
   {
    "duration": 9,
    "start_time": "2022-02-21T15:51:49.242Z"
   },
   {
    "duration": 9,
    "start_time": "2022-02-21T15:55:33.658Z"
   },
   {
    "duration": 3000,
    "start_time": "2022-02-21T15:56:50.757Z"
   },
   {
    "duration": 6,
    "start_time": "2022-02-21T15:57:10.479Z"
   },
   {
    "duration": 425,
    "start_time": "2022-02-21T15:59:41.524Z"
   },
   {
    "duration": 10,
    "start_time": "2022-02-21T16:00:02.734Z"
   },
   {
    "duration": 11,
    "start_time": "2022-02-21T16:00:38.064Z"
   },
   {
    "duration": 10,
    "start_time": "2022-02-21T16:04:49.319Z"
   },
   {
    "duration": 8,
    "start_time": "2022-02-21T16:06:55.970Z"
   },
   {
    "duration": 11,
    "start_time": "2022-02-21T16:10:55.013Z"
   },
   {
    "duration": 5809,
    "start_time": "2022-02-21T16:53:08.484Z"
   },
   {
    "duration": 326,
    "start_time": "2022-02-21T16:53:50.122Z"
   },
   {
    "duration": 12,
    "start_time": "2022-02-21T16:54:41.525Z"
   },
   {
    "duration": 21,
    "start_time": "2022-02-21T17:02:59.640Z"
   },
   {
    "duration": 315,
    "start_time": "2022-02-21T17:05:34.862Z"
   },
   {
    "duration": 52,
    "start_time": "2022-02-21T17:06:01.081Z"
   },
   {
    "duration": 74,
    "start_time": "2022-02-21T17:07:37.716Z"
   },
   {
    "duration": 66,
    "start_time": "2022-02-21T17:07:37.794Z"
   },
   {
    "duration": 15,
    "start_time": "2022-02-21T17:07:37.863Z"
   },
   {
    "duration": 5,
    "start_time": "2022-02-21T17:07:37.881Z"
   },
   {
    "duration": 67,
    "start_time": "2022-02-21T17:07:37.889Z"
   },
   {
    "duration": 24,
    "start_time": "2022-02-21T17:07:37.958Z"
   },
   {
    "duration": 21,
    "start_time": "2022-02-21T17:07:37.985Z"
   },
   {
    "duration": 66,
    "start_time": "2022-02-21T17:07:38.010Z"
   },
   {
    "duration": 30,
    "start_time": "2022-02-21T17:07:38.081Z"
   },
   {
    "duration": 88,
    "start_time": "2022-02-21T17:07:38.113Z"
   },
   {
    "duration": 14,
    "start_time": "2022-02-21T17:07:38.205Z"
   },
   {
    "duration": 11,
    "start_time": "2022-02-21T17:07:38.250Z"
   },
   {
    "duration": 22,
    "start_time": "2022-02-21T17:07:38.264Z"
   },
   {
    "duration": 74,
    "start_time": "2022-02-21T17:07:38.288Z"
   },
   {
    "duration": 13,
    "start_time": "2022-02-21T17:07:38.365Z"
   },
   {
    "duration": 14,
    "start_time": "2022-02-21T17:07:38.382Z"
   },
   {
    "duration": 55,
    "start_time": "2022-02-21T17:07:38.399Z"
   },
   {
    "duration": 28,
    "start_time": "2022-02-21T17:07:38.457Z"
   },
   {
    "duration": 22,
    "start_time": "2022-02-21T17:07:38.487Z"
   },
   {
    "duration": 53,
    "start_time": "2022-02-21T17:07:38.549Z"
   },
   {
    "duration": 7,
    "start_time": "2022-02-21T17:07:38.605Z"
   },
   {
    "duration": 9,
    "start_time": "2022-02-21T17:07:38.647Z"
   },
   {
    "duration": 11,
    "start_time": "2022-02-21T17:07:38.660Z"
   },
   {
    "duration": 8,
    "start_time": "2022-02-21T17:07:38.673Z"
   },
   {
    "duration": 65,
    "start_time": "2022-02-21T17:07:38.684Z"
   },
   {
    "duration": 42,
    "start_time": "2022-02-21T17:08:49.042Z"
   },
   {
    "duration": 85,
    "start_time": "2022-02-21T17:10:26.954Z"
   },
   {
    "duration": 75,
    "start_time": "2022-02-21T17:10:32.439Z"
   },
   {
    "duration": 61,
    "start_time": "2022-02-21T17:10:32.517Z"
   },
   {
    "duration": 14,
    "start_time": "2022-02-21T17:10:32.581Z"
   },
   {
    "duration": 50,
    "start_time": "2022-02-21T17:10:32.597Z"
   },
   {
    "duration": 25,
    "start_time": "2022-02-21T17:10:32.650Z"
   },
   {
    "duration": 26,
    "start_time": "2022-02-21T17:10:32.677Z"
   },
   {
    "duration": 61,
    "start_time": "2022-02-21T17:10:32.706Z"
   },
   {
    "duration": 31,
    "start_time": "2022-02-21T17:10:32.771Z"
   },
   {
    "duration": 60,
    "start_time": "2022-02-21T17:10:32.806Z"
   },
   {
    "duration": 79,
    "start_time": "2022-02-21T17:10:32.869Z"
   },
   {
    "duration": 12,
    "start_time": "2022-02-21T17:10:32.951Z"
   },
   {
    "duration": 11,
    "start_time": "2022-02-21T17:10:32.966Z"
   },
   {
    "duration": 73,
    "start_time": "2022-02-21T17:10:32.980Z"
   },
   {
    "duration": 23,
    "start_time": "2022-02-21T17:10:33.057Z"
   },
   {
    "duration": 11,
    "start_time": "2022-02-21T17:10:33.084Z"
   },
   {
    "duration": 56,
    "start_time": "2022-02-21T17:10:33.097Z"
   },
   {
    "duration": 16,
    "start_time": "2022-02-21T17:10:33.156Z"
   },
   {
    "duration": 32,
    "start_time": "2022-02-21T17:10:33.175Z"
   },
   {
    "duration": 50,
    "start_time": "2022-02-21T17:10:33.209Z"
   },
   {
    "duration": 46,
    "start_time": "2022-02-21T17:10:33.261Z"
   },
   {
    "duration": 40,
    "start_time": "2022-02-21T17:10:33.310Z"
   },
   {
    "duration": 9,
    "start_time": "2022-02-21T17:10:33.353Z"
   },
   {
    "duration": 10,
    "start_time": "2022-02-21T17:10:33.367Z"
   },
   {
    "duration": 14,
    "start_time": "2022-02-21T17:10:33.379Z"
   },
   {
    "duration": 54,
    "start_time": "2022-02-21T17:10:33.396Z"
   },
   {
    "duration": 18,
    "start_time": "2022-02-21T17:12:15.051Z"
   },
   {
    "duration": 15,
    "start_time": "2022-02-21T17:12:29.922Z"
   },
   {
    "duration": 72,
    "start_time": "2022-02-21T17:18:01.602Z"
   },
   {
    "duration": 73,
    "start_time": "2022-02-21T17:18:01.678Z"
   },
   {
    "duration": 24,
    "start_time": "2022-02-21T17:18:01.755Z"
   },
   {
    "duration": 10,
    "start_time": "2022-02-21T17:18:01.783Z"
   },
   {
    "duration": 59,
    "start_time": "2022-02-21T17:18:01.796Z"
   },
   {
    "duration": 27,
    "start_time": "2022-02-21T17:18:01.858Z"
   },
   {
    "duration": 63,
    "start_time": "2022-02-21T17:18:01.887Z"
   },
   {
    "duration": 33,
    "start_time": "2022-02-21T17:18:01.954Z"
   },
   {
    "duration": 60,
    "start_time": "2022-02-21T17:18:01.991Z"
   },
   {
    "duration": 49,
    "start_time": "2022-02-21T17:18:02.053Z"
   },
   {
    "duration": 13,
    "start_time": "2022-02-21T17:18:02.105Z"
   },
   {
    "duration": 20,
    "start_time": "2022-02-21T17:18:02.151Z"
   },
   {
    "duration": 29,
    "start_time": "2022-02-21T17:18:02.174Z"
   },
   {
    "duration": 51,
    "start_time": "2022-02-21T17:18:02.206Z"
   },
   {
    "duration": 53,
    "start_time": "2022-02-21T17:18:02.261Z"
   },
   {
    "duration": 16,
    "start_time": "2022-02-21T17:18:02.317Z"
   },
   {
    "duration": 19,
    "start_time": "2022-02-21T17:18:02.336Z"
   },
   {
    "duration": 23,
    "start_time": "2022-02-21T17:18:02.358Z"
   },
   {
    "duration": 40,
    "start_time": "2022-02-21T17:18:02.384Z"
   },
   {
    "duration": 70,
    "start_time": "2022-02-21T17:18:02.427Z"
   },
   {
    "duration": 15,
    "start_time": "2022-02-21T17:18:02.500Z"
   },
   {
    "duration": 34,
    "start_time": "2022-02-21T17:18:02.517Z"
   },
   {
    "duration": 24,
    "start_time": "2022-02-21T17:18:02.555Z"
   },
   {
    "duration": 25,
    "start_time": "2022-02-21T17:18:02.582Z"
   },
   {
    "duration": 31,
    "start_time": "2022-02-21T17:18:02.610Z"
   },
   {
    "duration": 14,
    "start_time": "2022-02-21T17:18:02.649Z"
   },
   {
    "duration": 22,
    "start_time": "2022-02-21T17:20:43.737Z"
   },
   {
    "duration": 15,
    "start_time": "2022-02-21T17:27:12.245Z"
   },
   {
    "duration": 12,
    "start_time": "2022-02-21T17:28:25.433Z"
   },
   {
    "duration": 14,
    "start_time": "2022-02-21T17:28:38.860Z"
   },
   {
    "duration": 14,
    "start_time": "2022-02-21T17:33:51.424Z"
   },
   {
    "duration": 72,
    "start_time": "2022-02-21T17:34:01.106Z"
   },
   {
    "duration": 67,
    "start_time": "2022-02-21T17:34:01.181Z"
   },
   {
    "duration": 13,
    "start_time": "2022-02-21T17:34:01.252Z"
   },
   {
    "duration": 13,
    "start_time": "2022-02-21T17:34:01.268Z"
   },
   {
    "duration": 30,
    "start_time": "2022-02-21T17:34:01.283Z"
   },
   {
    "duration": 56,
    "start_time": "2022-02-21T17:34:01.315Z"
   },
   {
    "duration": 23,
    "start_time": "2022-02-21T17:34:01.373Z"
   },
   {
    "duration": 60,
    "start_time": "2022-02-21T17:34:01.400Z"
   },
   {
    "duration": 30,
    "start_time": "2022-02-21T17:34:01.463Z"
   },
   {
    "duration": 77,
    "start_time": "2022-02-21T17:34:01.495Z"
   },
   {
    "duration": 10,
    "start_time": "2022-02-21T17:34:01.575Z"
   },
   {
    "duration": 31,
    "start_time": "2022-02-21T17:34:01.588Z"
   },
   {
    "duration": 74,
    "start_time": "2022-02-21T17:34:01.623Z"
   },
   {
    "duration": 11,
    "start_time": "2022-02-21T17:34:01.700Z"
   },
   {
    "duration": 22,
    "start_time": "2022-02-21T17:34:01.750Z"
   },
   {
    "duration": 33,
    "start_time": "2022-02-21T17:34:01.776Z"
   },
   {
    "duration": 53,
    "start_time": "2022-02-21T17:34:01.812Z"
   },
   {
    "duration": 10,
    "start_time": "2022-02-21T17:34:01.868Z"
   },
   {
    "duration": 36,
    "start_time": "2022-02-21T17:34:01.880Z"
   },
   {
    "duration": 33,
    "start_time": "2022-02-21T17:34:01.919Z"
   },
   {
    "duration": 27,
    "start_time": "2022-02-21T17:34:01.955Z"
   },
   {
    "duration": 23,
    "start_time": "2022-02-21T17:34:01.985Z"
   },
   {
    "duration": 70,
    "start_time": "2022-02-21T17:34:02.013Z"
   },
   {
    "duration": 11,
    "start_time": "2022-02-21T17:34:02.086Z"
   },
   {
    "duration": 31,
    "start_time": "2022-02-21T17:34:02.100Z"
   },
   {
    "duration": 10,
    "start_time": "2022-02-21T17:34:02.150Z"
   },
   {
    "duration": 15,
    "start_time": "2022-02-21T17:34:02.163Z"
   },
   {
    "duration": 14,
    "start_time": "2022-02-21T17:34:02.180Z"
   },
   {
    "duration": 57,
    "start_time": "2022-02-21T17:34:02.197Z"
   },
   {
    "duration": 12,
    "start_time": "2022-02-21T17:34:59.109Z"
   },
   {
    "duration": 72,
    "start_time": "2022-02-21T17:35:10.604Z"
   },
   {
    "duration": 36,
    "start_time": "2022-02-21T17:35:10.678Z"
   },
   {
    "duration": 42,
    "start_time": "2022-02-21T17:35:10.717Z"
   },
   {
    "duration": 5,
    "start_time": "2022-02-21T17:35:10.762Z"
   },
   {
    "duration": 32,
    "start_time": "2022-02-21T17:35:10.770Z"
   },
   {
    "duration": 67,
    "start_time": "2022-02-21T17:35:10.805Z"
   },
   {
    "duration": 23,
    "start_time": "2022-02-21T17:35:10.875Z"
   },
   {
    "duration": 68,
    "start_time": "2022-02-21T17:35:10.900Z"
   },
   {
    "duration": 36,
    "start_time": "2022-02-21T17:35:10.973Z"
   },
   {
    "duration": 89,
    "start_time": "2022-02-21T17:35:11.012Z"
   },
   {
    "duration": 13,
    "start_time": "2022-02-21T17:35:11.104Z"
   },
   {
    "duration": 54,
    "start_time": "2022-02-21T17:35:11.120Z"
   },
   {
    "duration": 44,
    "start_time": "2022-02-21T17:35:11.177Z"
   },
   {
    "duration": 8,
    "start_time": "2022-02-21T17:35:11.248Z"
   },
   {
    "duration": 37,
    "start_time": "2022-02-21T17:35:11.258Z"
   },
   {
    "duration": 63,
    "start_time": "2022-02-21T17:35:11.298Z"
   },
   {
    "duration": 22,
    "start_time": "2022-02-21T17:35:11.364Z"
   },
   {
    "duration": 10,
    "start_time": "2022-02-21T17:35:11.388Z"
   },
   {
    "duration": 50,
    "start_time": "2022-02-21T17:35:11.401Z"
   },
   {
    "duration": 12,
    "start_time": "2022-02-21T17:35:11.454Z"
   },
   {
    "duration": 22,
    "start_time": "2022-02-21T17:35:11.469Z"
   },
   {
    "duration": 70,
    "start_time": "2022-02-21T17:35:11.494Z"
   },
   {
    "duration": 37,
    "start_time": "2022-02-21T17:35:11.567Z"
   },
   {
    "duration": 12,
    "start_time": "2022-02-21T17:35:11.606Z"
   },
   {
    "duration": 8,
    "start_time": "2022-02-21T17:35:11.649Z"
   },
   {
    "duration": 8,
    "start_time": "2022-02-21T17:35:11.660Z"
   },
   {
    "duration": 9,
    "start_time": "2022-02-21T17:35:11.672Z"
   },
   {
    "duration": 7,
    "start_time": "2022-02-21T17:35:11.684Z"
   },
   {
    "duration": 12,
    "start_time": "2022-02-21T17:35:11.749Z"
   },
   {
    "duration": 16,
    "start_time": "2022-02-21T17:43:29.044Z"
   },
   {
    "duration": 68,
    "start_time": "2022-02-21T17:43:33.973Z"
   },
   {
    "duration": 33,
    "start_time": "2022-02-21T17:43:34.044Z"
   },
   {
    "duration": 35,
    "start_time": "2022-02-21T17:43:34.079Z"
   },
   {
    "duration": 16,
    "start_time": "2022-02-21T17:43:34.117Z"
   },
   {
    "duration": 41,
    "start_time": "2022-02-21T17:43:34.147Z"
   },
   {
    "duration": 27,
    "start_time": "2022-02-21T17:43:34.192Z"
   },
   {
    "duration": 44,
    "start_time": "2022-02-21T17:43:34.222Z"
   },
   {
    "duration": 29,
    "start_time": "2022-02-21T17:43:34.269Z"
   },
   {
    "duration": 62,
    "start_time": "2022-02-21T17:43:34.304Z"
   },
   {
    "duration": 50,
    "start_time": "2022-02-21T17:43:34.370Z"
   },
   {
    "duration": 11,
    "start_time": "2022-02-21T17:43:34.449Z"
   },
   {
    "duration": 35,
    "start_time": "2022-02-21T17:43:34.463Z"
   },
   {
    "duration": 74,
    "start_time": "2022-02-21T17:43:34.501Z"
   },
   {
    "duration": 9,
    "start_time": "2022-02-21T17:43:34.578Z"
   },
   {
    "duration": 65,
    "start_time": "2022-02-21T17:43:34.590Z"
   },
   {
    "duration": 29,
    "start_time": "2022-02-21T17:43:34.658Z"
   },
   {
    "duration": 23,
    "start_time": "2022-02-21T17:43:34.690Z"
   },
   {
    "duration": 38,
    "start_time": "2022-02-21T17:43:34.715Z"
   },
   {
    "duration": 14,
    "start_time": "2022-02-21T17:43:34.755Z"
   },
   {
    "duration": 28,
    "start_time": "2022-02-21T17:43:34.772Z"
   },
   {
    "duration": 37,
    "start_time": "2022-02-21T17:43:34.802Z"
   },
   {
    "duration": 34,
    "start_time": "2022-02-21T17:43:34.842Z"
   },
   {
    "duration": 47,
    "start_time": "2022-02-21T17:43:34.879Z"
   },
   {
    "duration": 20,
    "start_time": "2022-02-21T17:43:34.929Z"
   },
   {
    "duration": 13,
    "start_time": "2022-02-21T17:43:34.952Z"
   },
   {
    "duration": 20,
    "start_time": "2022-02-21T17:43:34.968Z"
   },
   {
    "duration": 34,
    "start_time": "2022-02-21T17:43:34.993Z"
   },
   {
    "duration": 28,
    "start_time": "2022-02-21T17:43:35.029Z"
   },
   {
    "duration": 30,
    "start_time": "2022-02-21T17:43:35.059Z"
   },
   {
    "duration": 14,
    "start_time": "2022-02-21T17:44:28.074Z"
   },
   {
    "duration": 97,
    "start_time": "2022-02-21T17:44:32.389Z"
   },
   {
    "duration": 74,
    "start_time": "2022-02-21T17:44:32.490Z"
   },
   {
    "duration": 17,
    "start_time": "2022-02-21T17:44:32.568Z"
   },
   {
    "duration": 7,
    "start_time": "2022-02-21T17:44:32.589Z"
   },
   {
    "duration": 68,
    "start_time": "2022-02-21T17:44:32.600Z"
   },
   {
    "duration": 31,
    "start_time": "2022-02-21T17:44:32.671Z"
   },
   {
    "duration": 59,
    "start_time": "2022-02-21T17:44:32.704Z"
   },
   {
    "duration": 35,
    "start_time": "2022-02-21T17:44:32.767Z"
   },
   {
    "duration": 75,
    "start_time": "2022-02-21T17:44:32.808Z"
   },
   {
    "duration": 79,
    "start_time": "2022-02-21T17:44:32.887Z"
   },
   {
    "duration": 10,
    "start_time": "2022-02-21T17:44:32.968Z"
   },
   {
    "duration": 28,
    "start_time": "2022-02-21T17:44:32.981Z"
   },
   {
    "duration": 83,
    "start_time": "2022-02-21T17:44:33.011Z"
   },
   {
    "duration": 9,
    "start_time": "2022-02-21T17:44:33.097Z"
   },
   {
    "duration": 71,
    "start_time": "2022-02-21T17:44:33.109Z"
   },
   {
    "duration": 22,
    "start_time": "2022-02-21T17:44:33.183Z"
   },
   {
    "duration": 53,
    "start_time": "2022-02-21T17:44:33.207Z"
   },
   {
    "duration": 11,
    "start_time": "2022-02-21T17:44:33.263Z"
   },
   {
    "duration": 18,
    "start_time": "2022-02-21T17:44:33.278Z"
   },
   {
    "duration": 53,
    "start_time": "2022-02-21T17:44:33.299Z"
   },
   {
    "duration": 26,
    "start_time": "2022-02-21T17:44:33.355Z"
   },
   {
    "duration": 33,
    "start_time": "2022-02-21T17:44:33.384Z"
   },
   {
    "duration": 50,
    "start_time": "2022-02-21T17:44:33.449Z"
   },
   {
    "duration": 12,
    "start_time": "2022-02-21T17:44:33.501Z"
   },
   {
    "duration": 37,
    "start_time": "2022-02-21T17:44:33.516Z"
   },
   {
    "duration": 11,
    "start_time": "2022-02-21T17:44:33.556Z"
   },
   {
    "duration": 11,
    "start_time": "2022-02-21T17:44:33.570Z"
   },
   {
    "duration": 15,
    "start_time": "2022-02-21T17:44:33.583Z"
   },
   {
    "duration": 12,
    "start_time": "2022-02-21T17:44:33.649Z"
   },
   {
    "duration": 14,
    "start_time": "2022-02-21T17:47:15.448Z"
   },
   {
    "duration": 77,
    "start_time": "2022-02-21T17:47:22.887Z"
   },
   {
    "duration": 35,
    "start_time": "2022-02-21T17:47:22.967Z"
   },
   {
    "duration": 52,
    "start_time": "2022-02-21T17:47:23.005Z"
   },
   {
    "duration": 14,
    "start_time": "2022-02-21T17:47:23.059Z"
   },
   {
    "duration": 46,
    "start_time": "2022-02-21T17:47:23.076Z"
   },
   {
    "duration": 36,
    "start_time": "2022-02-21T17:47:23.124Z"
   },
   {
    "duration": 22,
    "start_time": "2022-02-21T17:47:23.162Z"
   },
   {
    "duration": 61,
    "start_time": "2022-02-21T17:47:23.188Z"
   },
   {
    "duration": 28,
    "start_time": "2022-02-21T17:47:23.252Z"
   },
   {
    "duration": 71,
    "start_time": "2022-02-21T17:47:23.283Z"
   },
   {
    "duration": 10,
    "start_time": "2022-02-21T17:47:23.356Z"
   },
   {
    "duration": 26,
    "start_time": "2022-02-21T17:47:23.369Z"
   },
   {
    "duration": 82,
    "start_time": "2022-02-21T17:47:23.397Z"
   },
   {
    "duration": 8,
    "start_time": "2022-02-21T17:47:23.481Z"
   },
   {
    "duration": 26,
    "start_time": "2022-02-21T17:47:23.491Z"
   },
   {
    "duration": 46,
    "start_time": "2022-02-21T17:47:23.520Z"
   },
   {
    "duration": 19,
    "start_time": "2022-02-21T17:47:23.569Z"
   },
   {
    "duration": 18,
    "start_time": "2022-02-21T17:47:23.591Z"
   },
   {
    "duration": 45,
    "start_time": "2022-02-21T17:47:23.612Z"
   },
   {
    "duration": 33,
    "start_time": "2022-02-21T17:47:23.660Z"
   },
   {
    "duration": 31,
    "start_time": "2022-02-21T17:47:23.696Z"
   },
   {
    "duration": 34,
    "start_time": "2022-02-21T17:47:23.729Z"
   },
   {
    "duration": 40,
    "start_time": "2022-02-21T17:47:23.769Z"
   },
   {
    "duration": 45,
    "start_time": "2022-02-21T17:47:23.813Z"
   },
   {
    "duration": 20,
    "start_time": "2022-02-21T17:47:23.861Z"
   },
   {
    "duration": 25,
    "start_time": "2022-02-21T17:47:23.884Z"
   },
   {
    "duration": 9,
    "start_time": "2022-02-21T17:47:23.912Z"
   },
   {
    "duration": 31,
    "start_time": "2022-02-21T17:47:23.924Z"
   },
   {
    "duration": 20,
    "start_time": "2022-02-21T17:47:23.957Z"
   },
   {
    "duration": 14,
    "start_time": "2022-02-21T17:47:50.628Z"
   },
   {
    "duration": 66,
    "start_time": "2022-02-21T17:48:02.910Z"
   },
   {
    "duration": 73,
    "start_time": "2022-02-21T17:48:02.979Z"
   },
   {
    "duration": 18,
    "start_time": "2022-02-21T17:48:03.055Z"
   },
   {
    "duration": 5,
    "start_time": "2022-02-21T17:48:03.076Z"
   },
   {
    "duration": 25,
    "start_time": "2022-02-21T17:48:03.083Z"
   },
   {
    "duration": 61,
    "start_time": "2022-02-21T17:48:03.111Z"
   },
   {
    "duration": 20,
    "start_time": "2022-02-21T17:48:03.175Z"
   },
   {
    "duration": 62,
    "start_time": "2022-02-21T17:48:03.198Z"
   },
   {
    "duration": 31,
    "start_time": "2022-02-21T17:48:03.264Z"
   },
   {
    "duration": 83,
    "start_time": "2022-02-21T17:48:03.298Z"
   },
   {
    "duration": 14,
    "start_time": "2022-02-21T17:48:03.384Z"
   },
   {
    "duration": 50,
    "start_time": "2022-02-21T17:48:03.400Z"
   },
   {
    "duration": 46,
    "start_time": "2022-02-21T17:48:03.453Z"
   },
   {
    "duration": 8,
    "start_time": "2022-02-21T17:48:03.501Z"
   },
   {
    "duration": 54,
    "start_time": "2022-02-21T17:48:03.512Z"
   },
   {
    "duration": 20,
    "start_time": "2022-02-21T17:48:03.569Z"
   },
   {
    "duration": 75,
    "start_time": "2022-02-21T17:48:03.592Z"
   },
   {
    "duration": 16,
    "start_time": "2022-02-21T17:48:03.670Z"
   },
   {
    "duration": 12,
    "start_time": "2022-02-21T17:48:03.689Z"
   },
   {
    "duration": 56,
    "start_time": "2022-02-21T17:48:03.704Z"
   },
   {
    "duration": 25,
    "start_time": "2022-02-21T17:48:03.762Z"
   },
   {
    "duration": 22,
    "start_time": "2022-02-21T17:48:03.789Z"
   },
   {
    "duration": 39,
    "start_time": "2022-02-21T17:48:03.848Z"
   },
   {
    "duration": 11,
    "start_time": "2022-02-21T17:48:03.890Z"
   },
   {
    "duration": 10,
    "start_time": "2022-02-21T17:48:03.903Z"
   },
   {
    "duration": 41,
    "start_time": "2022-02-21T17:48:03.916Z"
   },
   {
    "duration": 13,
    "start_time": "2022-02-21T17:48:03.960Z"
   },
   {
    "duration": 24,
    "start_time": "2022-02-21T17:48:03.975Z"
   },
   {
    "duration": 52,
    "start_time": "2022-02-21T17:48:04.002Z"
   },
   {
    "duration": 20,
    "start_time": "2022-02-21T17:49:09.762Z"
   },
   {
    "duration": 71,
    "start_time": "2022-02-21T17:49:19.017Z"
   },
   {
    "duration": 57,
    "start_time": "2022-02-21T17:49:19.091Z"
   },
   {
    "duration": 13,
    "start_time": "2022-02-21T17:49:19.152Z"
   },
   {
    "duration": 5,
    "start_time": "2022-02-21T17:49:19.168Z"
   },
   {
    "duration": 24,
    "start_time": "2022-02-21T17:49:19.175Z"
   },
   {
    "duration": 26,
    "start_time": "2022-02-21T17:49:19.249Z"
   },
   {
    "duration": 22,
    "start_time": "2022-02-21T17:49:19.278Z"
   },
   {
    "duration": 66,
    "start_time": "2022-02-21T17:49:19.303Z"
   },
   {
    "duration": 32,
    "start_time": "2022-02-21T17:49:19.373Z"
   },
   {
    "duration": 80,
    "start_time": "2022-02-21T17:49:19.408Z"
   },
   {
    "duration": 11,
    "start_time": "2022-02-21T17:49:19.490Z"
   },
   {
    "duration": 58,
    "start_time": "2022-02-21T17:49:19.503Z"
   },
   {
    "duration": 47,
    "start_time": "2022-02-21T17:49:19.565Z"
   },
   {
    "duration": 39,
    "start_time": "2022-02-21T17:49:19.615Z"
   },
   {
    "duration": 23,
    "start_time": "2022-02-21T17:49:19.656Z"
   },
   {
    "duration": 23,
    "start_time": "2022-02-21T17:49:19.682Z"
   },
   {
    "duration": 42,
    "start_time": "2022-02-21T17:49:19.748Z"
   },
   {
    "duration": 16,
    "start_time": "2022-02-21T17:49:19.793Z"
   },
   {
    "duration": 43,
    "start_time": "2022-02-21T17:49:19.812Z"
   },
   {
    "duration": 14,
    "start_time": "2022-02-21T17:49:19.858Z"
   },
   {
    "duration": 22,
    "start_time": "2022-02-21T17:49:19.876Z"
   },
   {
    "duration": 64,
    "start_time": "2022-02-21T17:49:19.901Z"
   },
   {
    "duration": 38,
    "start_time": "2022-02-21T17:49:19.970Z"
   },
   {
    "duration": 40,
    "start_time": "2022-02-21T17:49:20.011Z"
   },
   {
    "duration": 16,
    "start_time": "2022-02-21T17:49:20.053Z"
   },
   {
    "duration": 8,
    "start_time": "2022-02-21T17:49:20.072Z"
   },
   {
    "duration": 10,
    "start_time": "2022-02-21T17:49:20.082Z"
   },
   {
    "duration": 54,
    "start_time": "2022-02-21T17:49:20.095Z"
   },
   {
    "duration": 10,
    "start_time": "2022-02-21T17:49:20.152Z"
   },
   {
    "duration": 78,
    "start_time": "2022-02-21T17:53:09.599Z"
   },
   {
    "duration": 68,
    "start_time": "2022-02-21T17:53:09.681Z"
   },
   {
    "duration": 15,
    "start_time": "2022-02-21T17:53:09.752Z"
   },
   {
    "duration": 6,
    "start_time": "2022-02-21T17:53:09.770Z"
   },
   {
    "duration": 80,
    "start_time": "2022-02-21T17:53:09.779Z"
   },
   {
    "duration": 26,
    "start_time": "2022-02-21T17:53:09.862Z"
   },
   {
    "duration": 58,
    "start_time": "2022-02-21T17:53:09.891Z"
   },
   {
    "duration": 14,
    "start_time": "2022-02-21T17:53:09.954Z"
   },
   {
    "duration": 32,
    "start_time": "2022-02-21T17:53:09.971Z"
   },
   {
    "duration": 31,
    "start_time": "2022-02-21T17:53:10.050Z"
   },
   {
    "duration": 79,
    "start_time": "2022-02-21T17:53:10.083Z"
   },
   {
    "duration": 10,
    "start_time": "2022-02-21T17:53:10.164Z"
   },
   {
    "duration": 31,
    "start_time": "2022-02-21T17:53:10.177Z"
   },
   {
    "duration": 82,
    "start_time": "2022-02-21T17:53:10.210Z"
   },
   {
    "duration": 9,
    "start_time": "2022-02-21T17:53:10.294Z"
   },
   {
    "duration": 50,
    "start_time": "2022-02-21T17:53:10.307Z"
   },
   {
    "duration": 26,
    "start_time": "2022-02-21T17:53:10.361Z"
   },
   {
    "duration": 65,
    "start_time": "2022-02-21T17:53:10.390Z"
   },
   {
    "duration": 14,
    "start_time": "2022-02-21T17:53:10.458Z"
   },
   {
    "duration": 12,
    "start_time": "2022-02-21T17:53:10.475Z"
   },
   {
    "duration": 10,
    "start_time": "2022-02-21T17:53:10.489Z"
   },
   {
    "duration": 19,
    "start_time": "2022-02-21T17:53:10.551Z"
   },
   {
    "duration": 22,
    "start_time": "2022-02-21T17:53:10.575Z"
   },
   {
    "duration": 77,
    "start_time": "2022-02-21T17:53:10.600Z"
   },
   {
    "duration": 10,
    "start_time": "2022-02-21T17:53:10.680Z"
   },
   {
    "duration": 14,
    "start_time": "2022-02-21T17:53:10.692Z"
   },
   {
    "duration": 39,
    "start_time": "2022-02-21T17:53:10.709Z"
   },
   {
    "duration": 12,
    "start_time": "2022-02-21T17:53:10.751Z"
   },
   {
    "duration": 10,
    "start_time": "2022-02-21T17:53:10.765Z"
   },
   {
    "duration": 12,
    "start_time": "2022-02-21T17:53:10.777Z"
   },
   {
    "duration": 21,
    "start_time": "2022-02-21T17:53:35.763Z"
   },
   {
    "duration": 68,
    "start_time": "2022-02-21T17:53:57.656Z"
   },
   {
    "duration": 57,
    "start_time": "2022-02-21T17:53:57.728Z"
   },
   {
    "duration": 65,
    "start_time": "2022-02-21T17:53:57.789Z"
   },
   {
    "duration": 7,
    "start_time": "2022-02-21T17:53:57.857Z"
   },
   {
    "duration": 23,
    "start_time": "2022-02-21T17:53:57.866Z"
   },
   {
    "duration": 61,
    "start_time": "2022-02-21T17:53:57.892Z"
   },
   {
    "duration": 24,
    "start_time": "2022-02-21T17:53:57.956Z"
   },
   {
    "duration": 14,
    "start_time": "2022-02-21T17:53:57.986Z"
   },
   {
    "duration": 71,
    "start_time": "2022-02-21T17:53:58.004Z"
   },
   {
    "duration": 27,
    "start_time": "2022-02-21T17:53:58.078Z"
   },
   {
    "duration": 76,
    "start_time": "2022-02-21T17:53:58.107Z"
   },
   {
    "duration": 10,
    "start_time": "2022-02-21T17:53:58.186Z"
   },
   {
    "duration": 53,
    "start_time": "2022-02-21T17:53:58.198Z"
   },
   {
    "duration": 48,
    "start_time": "2022-02-21T17:53:58.254Z"
   },
   {
    "duration": 8,
    "start_time": "2022-02-21T17:53:58.304Z"
   },
   {
    "duration": 49,
    "start_time": "2022-02-21T17:53:58.314Z"
   },
   {
    "duration": 29,
    "start_time": "2022-02-21T17:53:58.365Z"
   },
   {
    "duration": 65,
    "start_time": "2022-02-21T17:53:58.396Z"
   },
   {
    "duration": 12,
    "start_time": "2022-02-21T17:53:58.463Z"
   },
   {
    "duration": 18,
    "start_time": "2022-02-21T17:53:58.478Z"
   },
   {
    "duration": 12,
    "start_time": "2022-02-21T17:53:58.499Z"
   },
   {
    "duration": 48,
    "start_time": "2022-02-21T17:53:58.513Z"
   },
   {
    "duration": 21,
    "start_time": "2022-02-21T17:53:58.565Z"
   },
   {
    "duration": 64,
    "start_time": "2022-02-21T17:53:58.589Z"
   },
   {
    "duration": 9,
    "start_time": "2022-02-21T17:53:58.656Z"
   },
   {
    "duration": 11,
    "start_time": "2022-02-21T17:53:58.668Z"
   },
   {
    "duration": 9,
    "start_time": "2022-02-21T17:53:58.681Z"
   },
   {
    "duration": 56,
    "start_time": "2022-02-21T17:53:58.692Z"
   },
   {
    "duration": 9,
    "start_time": "2022-02-21T17:53:58.751Z"
   },
   {
    "duration": 17,
    "start_time": "2022-02-21T17:53:58.762Z"
   },
   {
    "duration": 23,
    "start_time": "2022-02-21T17:54:19.652Z"
   },
   {
    "duration": 29,
    "start_time": "2022-02-21T17:54:25.198Z"
   },
   {
    "duration": 29,
    "start_time": "2022-02-21T17:54:27.318Z"
   },
   {
    "duration": 69,
    "start_time": "2022-02-21T17:54:31.307Z"
   },
   {
    "duration": 35,
    "start_time": "2022-02-21T17:54:31.379Z"
   },
   {
    "duration": 14,
    "start_time": "2022-02-21T17:54:31.449Z"
   },
   {
    "duration": 12,
    "start_time": "2022-02-21T17:54:31.467Z"
   },
   {
    "duration": 31,
    "start_time": "2022-02-21T17:54:31.482Z"
   },
   {
    "duration": 28,
    "start_time": "2022-02-21T17:54:31.548Z"
   },
   {
    "duration": 39,
    "start_time": "2022-02-21T17:54:31.578Z"
   },
   {
    "duration": 31,
    "start_time": "2022-02-21T17:54:31.621Z"
   },
   {
    "duration": 35,
    "start_time": "2022-02-21T17:54:31.655Z"
   },
   {
    "duration": 70,
    "start_time": "2022-02-21T17:54:31.692Z"
   },
   {
    "duration": 47,
    "start_time": "2022-02-21T17:54:31.764Z"
   },
   {
    "duration": 37,
    "start_time": "2022-02-21T17:54:31.814Z"
   },
   {
    "duration": 34,
    "start_time": "2022-02-21T17:54:31.854Z"
   },
   {
    "duration": 80,
    "start_time": "2022-02-21T17:54:31.891Z"
   },
   {
    "duration": 8,
    "start_time": "2022-02-21T17:54:31.973Z"
   },
   {
    "duration": 65,
    "start_time": "2022-02-21T17:54:31.984Z"
   },
   {
    "duration": 24,
    "start_time": "2022-02-21T17:54:32.051Z"
   },
   {
    "duration": 38,
    "start_time": "2022-02-21T17:54:32.077Z"
   },
   {
    "duration": 11,
    "start_time": "2022-02-21T17:54:32.150Z"
   },
   {
    "duration": 10,
    "start_time": "2022-02-21T17:54:32.163Z"
   },
   {
    "duration": 14,
    "start_time": "2022-02-21T17:54:32.177Z"
   },
   {
    "duration": 20,
    "start_time": "2022-02-21T17:54:32.250Z"
   },
   {
    "duration": 22,
    "start_time": "2022-02-21T17:54:32.274Z"
   },
   {
    "duration": 93,
    "start_time": "2022-02-21T17:54:32.299Z"
   },
   {
    "duration": 15,
    "start_time": "2022-02-21T17:54:32.395Z"
   },
   {
    "duration": 41,
    "start_time": "2022-02-21T17:54:32.414Z"
   },
   {
    "duration": 15,
    "start_time": "2022-02-21T17:54:32.459Z"
   },
   {
    "duration": 12,
    "start_time": "2022-02-21T17:54:32.477Z"
   },
   {
    "duration": 16,
    "start_time": "2022-02-21T17:54:32.492Z"
   },
   {
    "duration": 53,
    "start_time": "2022-02-21T17:54:32.511Z"
   },
   {
    "duration": 1755,
    "start_time": "2022-02-21T18:03:46.881Z"
   },
   {
    "duration": 1904,
    "start_time": "2022-02-21T18:06:24.241Z"
   },
   {
    "duration": 24,
    "start_time": "2022-02-21T18:07:47.290Z"
   },
   {
    "duration": 15,
    "start_time": "2022-02-21T18:08:32.793Z"
   },
   {
    "duration": 70,
    "start_time": "2022-02-21T18:08:38.183Z"
   },
   {
    "duration": 35,
    "start_time": "2022-02-21T18:08:38.256Z"
   },
   {
    "duration": 15,
    "start_time": "2022-02-21T18:08:38.295Z"
   },
   {
    "duration": 40,
    "start_time": "2022-02-21T18:08:38.313Z"
   },
   {
    "duration": 28,
    "start_time": "2022-02-21T18:08:38.355Z"
   },
   {
    "duration": 64,
    "start_time": "2022-02-21T18:08:38.385Z"
   },
   {
    "duration": 23,
    "start_time": "2022-02-21T18:08:38.451Z"
   },
   {
    "duration": 15,
    "start_time": "2022-02-21T18:08:38.478Z"
   },
   {
    "duration": 73,
    "start_time": "2022-02-21T18:08:38.496Z"
   },
   {
    "duration": 31,
    "start_time": "2022-02-21T18:08:38.572Z"
   },
   {
    "duration": 82,
    "start_time": "2022-02-21T18:08:38.607Z"
   },
   {
    "duration": 10,
    "start_time": "2022-02-21T18:08:38.693Z"
   },
   {
    "duration": 54,
    "start_time": "2022-02-21T18:08:38.705Z"
   },
   {
    "duration": 43,
    "start_time": "2022-02-21T18:08:38.762Z"
   },
   {
    "duration": 41,
    "start_time": "2022-02-21T18:08:38.808Z"
   },
   {
    "duration": 38,
    "start_time": "2022-02-21T18:08:38.853Z"
   },
   {
    "duration": 64,
    "start_time": "2022-02-21T18:08:38.894Z"
   },
   {
    "duration": 21,
    "start_time": "2022-02-21T18:08:38.960Z"
   },
   {
    "duration": 66,
    "start_time": "2022-02-21T18:08:38.983Z"
   },
   {
    "duration": 10,
    "start_time": "2022-02-21T18:08:39.052Z"
   },
   {
    "duration": 14,
    "start_time": "2022-02-21T18:08:39.065Z"
   },
   {
    "duration": 12,
    "start_time": "2022-02-21T18:08:39.085Z"
   },
   {
    "duration": 67,
    "start_time": "2022-02-21T18:08:39.100Z"
   },
   {
    "duration": 25,
    "start_time": "2022-02-21T18:08:39.170Z"
   },
   {
    "duration": 82,
    "start_time": "2022-02-21T18:08:39.198Z"
   },
   {
    "duration": 10,
    "start_time": "2022-02-21T18:08:39.283Z"
   },
   {
    "duration": 12,
    "start_time": "2022-02-21T18:08:39.296Z"
   },
   {
    "duration": 41,
    "start_time": "2022-02-21T18:08:39.310Z"
   },
   {
    "duration": 14,
    "start_time": "2022-02-21T18:08:39.354Z"
   },
   {
    "duration": 20,
    "start_time": "2022-02-21T18:08:39.371Z"
   },
   {
    "duration": 10,
    "start_time": "2022-02-21T18:08:39.394Z"
   },
   {
    "duration": 8,
    "start_time": "2022-02-21T18:09:23.183Z"
   },
   {
    "duration": 88,
    "start_time": "2022-02-21T18:09:32.234Z"
   },
   {
    "duration": 40,
    "start_time": "2022-02-21T18:09:32.350Z"
   },
   {
    "duration": 61,
    "start_time": "2022-02-21T18:09:32.394Z"
   },
   {
    "duration": 14,
    "start_time": "2022-02-21T18:09:32.459Z"
   },
   {
    "duration": 40,
    "start_time": "2022-02-21T18:09:32.476Z"
   },
   {
    "duration": 52,
    "start_time": "2022-02-21T18:09:32.519Z"
   },
   {
    "duration": 25,
    "start_time": "2022-02-21T18:09:32.574Z"
   },
   {
    "duration": 55,
    "start_time": "2022-02-21T18:09:32.603Z"
   },
   {
    "duration": 34,
    "start_time": "2022-02-21T18:09:32.662Z"
   },
   {
    "duration": 76,
    "start_time": "2022-02-21T18:09:32.699Z"
   },
   {
    "duration": 72,
    "start_time": "2022-02-21T18:09:32.778Z"
   },
   {
    "duration": 12,
    "start_time": "2022-02-21T18:09:32.853Z"
   },
   {
    "duration": 28,
    "start_time": "2022-02-21T18:09:32.868Z"
   },
   {
    "duration": 90,
    "start_time": "2022-02-21T18:09:32.900Z"
   },
   {
    "duration": 9,
    "start_time": "2022-02-21T18:09:32.994Z"
   },
   {
    "duration": 42,
    "start_time": "2022-02-21T18:09:33.006Z"
   },
   {
    "duration": 22,
    "start_time": "2022-02-21T18:09:33.051Z"
   },
   {
    "duration": 21,
    "start_time": "2022-02-21T18:09:33.075Z"
   },
   {
    "duration": 86,
    "start_time": "2022-02-21T18:09:33.098Z"
   },
   {
    "duration": 12,
    "start_time": "2022-02-21T18:09:33.187Z"
   },
   {
    "duration": 49,
    "start_time": "2022-02-21T18:09:33.202Z"
   },
   {
    "duration": 11,
    "start_time": "2022-02-21T18:09:33.254Z"
   },
   {
    "duration": 20,
    "start_time": "2022-02-21T18:09:33.272Z"
   },
   {
    "duration": 72,
    "start_time": "2022-02-21T18:09:33.295Z"
   },
   {
    "duration": 38,
    "start_time": "2022-02-21T18:09:33.370Z"
   },
   {
    "duration": 10,
    "start_time": "2022-02-21T18:09:33.411Z"
   },
   {
    "duration": 30,
    "start_time": "2022-02-21T18:09:33.424Z"
   },
   {
    "duration": 8,
    "start_time": "2022-02-21T18:09:33.457Z"
   },
   {
    "duration": 11,
    "start_time": "2022-02-21T18:09:33.467Z"
   },
   {
    "duration": 11,
    "start_time": "2022-02-21T18:09:33.480Z"
   },
   {
    "duration": 63,
    "start_time": "2022-02-21T18:09:33.493Z"
   },
   {
    "duration": 79,
    "start_time": "2022-02-21T18:10:49.869Z"
   },
   {
    "duration": 40,
    "start_time": "2022-02-21T18:10:49.951Z"
   },
   {
    "duration": 55,
    "start_time": "2022-02-21T18:10:49.995Z"
   },
   {
    "duration": 6,
    "start_time": "2022-02-21T18:10:50.053Z"
   },
   {
    "duration": 28,
    "start_time": "2022-02-21T18:10:50.061Z"
   },
   {
    "duration": 63,
    "start_time": "2022-02-21T18:10:50.092Z"
   },
   {
    "duration": 28,
    "start_time": "2022-02-21T18:10:50.158Z"
   },
   {
    "duration": 16,
    "start_time": "2022-02-21T18:10:50.191Z"
   },
   {
    "duration": 68,
    "start_time": "2022-02-21T18:10:50.211Z"
   },
   {
    "duration": 70,
    "start_time": "2022-02-21T18:10:50.282Z"
   },
   {
    "duration": 48,
    "start_time": "2022-02-21T18:10:50.355Z"
   },
   {
    "duration": 43,
    "start_time": "2022-02-21T18:10:50.405Z"
   },
   {
    "duration": 23,
    "start_time": "2022-02-21T18:10:50.451Z"
   },
   {
    "duration": 85,
    "start_time": "2022-02-21T18:10:50.477Z"
   },
   {
    "duration": 9,
    "start_time": "2022-02-21T18:10:50.564Z"
   },
   {
    "duration": 19,
    "start_time": "2022-02-21T18:10:50.576Z"
   },
   {
    "duration": 55,
    "start_time": "2022-02-21T18:10:50.599Z"
   },
   {
    "duration": 11,
    "start_time": "2022-02-21T18:10:50.657Z"
   },
   {
    "duration": 15,
    "start_time": "2022-02-21T18:10:50.671Z"
   },
   {
    "duration": 63,
    "start_time": "2022-02-21T18:10:50.689Z"
   },
   {
    "duration": 16,
    "start_time": "2022-02-21T18:10:50.755Z"
   },
   {
    "duration": 15,
    "start_time": "2022-02-21T18:10:50.773Z"
   },
   {
    "duration": 17,
    "start_time": "2022-02-21T18:10:50.793Z"
   },
   {
    "duration": 56,
    "start_time": "2022-02-21T18:10:50.812Z"
   },
   {
    "duration": 44,
    "start_time": "2022-02-21T18:10:50.871Z"
   },
   {
    "duration": 47,
    "start_time": "2022-02-21T18:10:50.918Z"
   },
   {
    "duration": 14,
    "start_time": "2022-02-21T18:10:50.968Z"
   },
   {
    "duration": 21,
    "start_time": "2022-02-21T18:10:50.985Z"
   },
   {
    "duration": 43,
    "start_time": "2022-02-21T18:10:51.008Z"
   },
   {
    "duration": 11,
    "start_time": "2022-02-21T18:10:51.054Z"
   },
   {
    "duration": 12,
    "start_time": "2022-02-21T18:10:51.067Z"
   },
   {
    "duration": 71,
    "start_time": "2022-02-21T18:14:03.511Z"
   },
   {
    "duration": 36,
    "start_time": "2022-02-21T18:14:03.584Z"
   },
   {
    "duration": 19,
    "start_time": "2022-02-21T18:14:03.651Z"
   },
   {
    "duration": 4,
    "start_time": "2022-02-21T18:14:03.673Z"
   },
   {
    "duration": 72,
    "start_time": "2022-02-21T18:14:03.680Z"
   },
   {
    "duration": 25,
    "start_time": "2022-02-21T18:14:03.755Z"
   },
   {
    "duration": 21,
    "start_time": "2022-02-21T18:14:03.782Z"
   },
   {
    "duration": 53,
    "start_time": "2022-02-21T18:14:03.806Z"
   },
   {
    "duration": 31,
    "start_time": "2022-02-21T18:14:03.863Z"
   },
   {
    "duration": 63,
    "start_time": "2022-02-21T18:14:03.897Z"
   },
   {
    "duration": 45,
    "start_time": "2022-02-21T18:14:03.963Z"
   },
   {
    "duration": 42,
    "start_time": "2022-02-21T18:14:04.011Z"
   },
   {
    "duration": 31,
    "start_time": "2022-02-21T18:14:04.056Z"
   },
   {
    "duration": 70,
    "start_time": "2022-02-21T18:14:04.089Z"
   },
   {
    "duration": 9,
    "start_time": "2022-02-21T18:14:04.161Z"
   },
   {
    "duration": 12,
    "start_time": "2022-02-21T18:14:04.173Z"
   },
   {
    "duration": 63,
    "start_time": "2022-02-21T18:14:04.188Z"
   },
   {
    "duration": 14,
    "start_time": "2022-02-21T18:14:04.254Z"
   },
   {
    "duration": 24,
    "start_time": "2022-02-21T18:14:04.270Z"
   },
   {
    "duration": 52,
    "start_time": "2022-02-21T18:14:04.297Z"
   },
   {
    "duration": 11,
    "start_time": "2022-02-21T18:14:04.352Z"
   },
   {
    "duration": 14,
    "start_time": "2022-02-21T18:14:04.366Z"
   },
   {
    "duration": 19,
    "start_time": "2022-02-21T18:14:04.384Z"
   },
   {
    "duration": 56,
    "start_time": "2022-02-21T18:14:04.405Z"
   },
   {
    "duration": 10,
    "start_time": "2022-02-21T18:14:04.464Z"
   },
   {
    "duration": 25,
    "start_time": "2022-02-21T18:14:04.476Z"
   },
   {
    "duration": 82,
    "start_time": "2022-02-21T18:14:04.508Z"
   },
   {
    "duration": 11,
    "start_time": "2022-02-21T18:14:04.594Z"
   },
   {
    "duration": 47,
    "start_time": "2022-02-21T18:14:04.608Z"
   },
   {
    "duration": 10,
    "start_time": "2022-02-21T18:14:04.658Z"
   },
   {
    "duration": 11,
    "start_time": "2022-02-21T18:14:04.670Z"
   },
   {
    "duration": 24,
    "start_time": "2022-02-21T18:14:48.175Z"
   },
   {
    "duration": 30,
    "start_time": "2022-02-21T18:15:10.976Z"
   },
   {
    "duration": 71,
    "start_time": "2022-02-21T18:15:17.524Z"
   },
   {
    "duration": 77,
    "start_time": "2022-02-21T18:15:17.599Z"
   },
   {
    "duration": 17,
    "start_time": "2022-02-21T18:15:17.681Z"
   },
   {
    "duration": 5,
    "start_time": "2022-02-21T18:15:17.701Z"
   },
   {
    "duration": 24,
    "start_time": "2022-02-21T18:15:17.748Z"
   },
   {
    "duration": 27,
    "start_time": "2022-02-21T18:15:17.776Z"
   },
   {
    "duration": 65,
    "start_time": "2022-02-21T18:15:17.806Z"
   },
   {
    "duration": 16,
    "start_time": "2022-02-21T18:15:17.877Z"
   },
   {
    "duration": 81,
    "start_time": "2022-02-21T18:15:17.897Z"
   },
   {
    "duration": 31,
    "start_time": "2022-02-21T18:15:17.981Z"
   },
   {
    "duration": 72,
    "start_time": "2022-02-21T18:15:18.014Z"
   },
   {
    "duration": 10,
    "start_time": "2022-02-21T18:15:18.088Z"
   },
   {
    "duration": 60,
    "start_time": "2022-02-21T18:15:18.101Z"
   },
   {
    "duration": 50,
    "start_time": "2022-02-21T18:15:18.164Z"
   },
   {
    "duration": 41,
    "start_time": "2022-02-21T18:15:18.217Z"
   },
   {
    "duration": 12,
    "start_time": "2022-02-21T18:15:18.261Z"
   },
   {
    "duration": 13,
    "start_time": "2022-02-21T18:15:18.277Z"
   },
   {
    "duration": 65,
    "start_time": "2022-02-21T18:15:18.293Z"
   },
   {
    "duration": 23,
    "start_time": "2022-02-21T18:15:18.361Z"
   },
   {
    "duration": 14,
    "start_time": "2022-02-21T18:15:18.386Z"
   },
   {
    "duration": 48,
    "start_time": "2022-02-21T18:15:18.402Z"
   },
   {
    "duration": 11,
    "start_time": "2022-02-21T18:15:18.452Z"
   },
   {
    "duration": 15,
    "start_time": "2022-02-21T18:15:18.468Z"
   },
   {
    "duration": 12,
    "start_time": "2022-02-21T18:15:18.486Z"
   },
   {
    "duration": 58,
    "start_time": "2022-02-21T18:15:18.500Z"
   },
   {
    "duration": 30,
    "start_time": "2022-02-21T18:15:18.561Z"
   },
   {
    "duration": 70,
    "start_time": "2022-02-21T18:15:18.595Z"
   },
   {
    "duration": 45,
    "start_time": "2022-02-21T18:15:18.668Z"
   },
   {
    "duration": 38,
    "start_time": "2022-02-21T18:15:18.716Z"
   },
   {
    "duration": 15,
    "start_time": "2022-02-21T18:15:18.757Z"
   },
   {
    "duration": 8,
    "start_time": "2022-02-21T18:15:18.775Z"
   },
   {
    "duration": 10,
    "start_time": "2022-02-21T18:15:18.786Z"
   },
   {
    "duration": 32,
    "start_time": "2022-02-21T18:22:30.359Z"
   },
   {
    "duration": 82,
    "start_time": "2022-02-21T18:22:34.975Z"
   },
   {
    "duration": 41,
    "start_time": "2022-02-21T18:22:35.061Z"
   },
   {
    "duration": 55,
    "start_time": "2022-02-21T18:22:35.106Z"
   },
   {
    "duration": 7,
    "start_time": "2022-02-21T18:22:35.165Z"
   },
   {
    "duration": 34,
    "start_time": "2022-02-21T18:22:35.175Z"
   },
   {
    "duration": 54,
    "start_time": "2022-02-21T18:22:35.212Z"
   },
   {
    "duration": 22,
    "start_time": "2022-02-21T18:22:35.269Z"
   },
   {
    "duration": 14,
    "start_time": "2022-02-21T18:22:35.295Z"
   },
   {
    "duration": 63,
    "start_time": "2022-02-21T18:22:35.312Z"
   },
   {
    "duration": 32,
    "start_time": "2022-02-21T18:22:35.377Z"
   },
   {
    "duration": 50,
    "start_time": "2022-02-21T18:22:35.449Z"
   },
   {
    "duration": 10,
    "start_time": "2022-02-21T18:22:35.502Z"
   },
   {
    "duration": 33,
    "start_time": "2022-02-21T18:22:35.548Z"
   },
   {
    "duration": 45,
    "start_time": "2022-02-21T18:22:35.584Z"
   },
   {
    "duration": 8,
    "start_time": "2022-02-21T18:22:35.648Z"
   },
   {
    "duration": 18,
    "start_time": "2022-02-21T18:22:35.659Z"
   },
   {
    "duration": 14,
    "start_time": "2022-02-21T18:22:35.680Z"
   },
   {
    "duration": 60,
    "start_time": "2022-02-21T18:22:35.697Z"
   },
   {
    "duration": 13,
    "start_time": "2022-02-21T18:22:35.761Z"
   },
   {
    "duration": 11,
    "start_time": "2022-02-21T18:22:35.777Z"
   },
   {
    "duration": 60,
    "start_time": "2022-02-21T18:22:35.790Z"
   },
   {
    "duration": 13,
    "start_time": "2022-02-21T18:22:35.853Z"
   },
   {
    "duration": 17,
    "start_time": "2022-02-21T18:22:35.870Z"
   },
   {
    "duration": 14,
    "start_time": "2022-02-21T18:22:35.890Z"
   },
   {
    "duration": 47,
    "start_time": "2022-02-21T18:22:35.907Z"
   },
   {
    "duration": 44,
    "start_time": "2022-02-21T18:22:35.957Z"
   },
   {
    "duration": 56,
    "start_time": "2022-02-21T18:22:36.004Z"
   },
   {
    "duration": 42,
    "start_time": "2022-02-21T18:22:36.062Z"
   },
   {
    "duration": 41,
    "start_time": "2022-02-21T18:22:36.107Z"
   },
   {
    "duration": 10,
    "start_time": "2022-02-21T18:22:36.151Z"
   },
   {
    "duration": 11,
    "start_time": "2022-02-21T18:22:36.163Z"
   },
   {
    "duration": 10,
    "start_time": "2022-02-21T18:22:36.177Z"
   },
   {
    "duration": 48,
    "start_time": "2022-02-22T09:03:58.496Z"
   },
   {
    "duration": 76,
    "start_time": "2022-02-22T09:04:05.331Z"
   },
   {
    "duration": 67,
    "start_time": "2022-02-22T09:04:05.410Z"
   },
   {
    "duration": 14,
    "start_time": "2022-02-22T09:04:05.480Z"
   },
   {
    "duration": 53,
    "start_time": "2022-02-22T09:04:05.498Z"
   },
   {
    "duration": 27,
    "start_time": "2022-02-22T09:04:05.554Z"
   },
   {
    "duration": 26,
    "start_time": "2022-02-22T09:04:05.584Z"
   },
   {
    "duration": 51,
    "start_time": "2022-02-22T09:04:05.613Z"
   },
   {
    "duration": 14,
    "start_time": "2022-02-22T09:04:05.668Z"
   },
   {
    "duration": 69,
    "start_time": "2022-02-22T09:04:05.685Z"
   },
   {
    "duration": 48,
    "start_time": "2022-02-22T09:04:05.757Z"
   },
   {
    "duration": 71,
    "start_time": "2022-02-22T09:04:05.807Z"
   },
   {
    "duration": 10,
    "start_time": "2022-02-22T09:04:05.881Z"
   },
   {
    "duration": 58,
    "start_time": "2022-02-22T09:04:05.894Z"
   },
   {
    "duration": 47,
    "start_time": "2022-02-22T09:04:05.954Z"
   },
   {
    "duration": 7,
    "start_time": "2022-02-22T09:04:06.004Z"
   },
   {
    "duration": 40,
    "start_time": "2022-02-22T09:04:06.014Z"
   },
   {
    "duration": 11,
    "start_time": "2022-02-22T09:04:06.056Z"
   },
   {
    "duration": 26,
    "start_time": "2022-02-22T09:04:06.070Z"
   },
   {
    "duration": 54,
    "start_time": "2022-02-22T09:04:06.099Z"
   },
   {
    "duration": 19,
    "start_time": "2022-02-22T09:04:06.156Z"
   },
   {
    "duration": 12,
    "start_time": "2022-02-22T09:04:06.178Z"
   },
   {
    "duration": 10,
    "start_time": "2022-02-22T09:04:06.193Z"
   },
   {
    "duration": 56,
    "start_time": "2022-02-22T09:04:06.208Z"
   },
   {
    "duration": 13,
    "start_time": "2022-02-22T09:04:06.266Z"
   },
   {
    "duration": 9,
    "start_time": "2022-02-22T09:04:06.281Z"
   },
   {
    "duration": 84,
    "start_time": "2022-02-22T09:04:06.293Z"
   },
   {
    "duration": 23,
    "start_time": "2022-02-22T09:04:06.379Z"
   },
   {
    "duration": 77,
    "start_time": "2022-02-22T09:04:06.405Z"
   },
   {
    "duration": 9,
    "start_time": "2022-02-22T09:04:06.485Z"
   },
   {
    "duration": 10,
    "start_time": "2022-02-22T09:04:06.497Z"
   },
   {
    "duration": 44,
    "start_time": "2022-02-22T09:04:06.510Z"
   },
   {
    "duration": 12,
    "start_time": "2022-02-22T09:04:06.557Z"
   },
   {
    "duration": 47,
    "start_time": "2022-02-22T09:04:39.228Z"
   },
   {
    "duration": 49,
    "start_time": "2022-02-22T09:05:01.403Z"
   },
   {
    "duration": 77,
    "start_time": "2022-02-22T09:05:06.204Z"
   },
   {
    "duration": 66,
    "start_time": "2022-02-22T09:05:06.284Z"
   },
   {
    "duration": 27,
    "start_time": "2022-02-22T09:05:06.353Z"
   },
   {
    "duration": 19,
    "start_time": "2022-02-22T09:05:06.383Z"
   },
   {
    "duration": 45,
    "start_time": "2022-02-22T09:05:06.404Z"
   },
   {
    "duration": 27,
    "start_time": "2022-02-22T09:05:06.452Z"
   },
   {
    "duration": 26,
    "start_time": "2022-02-22T09:05:06.482Z"
   },
   {
    "duration": 51,
    "start_time": "2022-02-22T09:05:06.513Z"
   },
   {
    "duration": 58,
    "start_time": "2022-02-22T09:05:06.567Z"
   },
   {
    "duration": 59,
    "start_time": "2022-02-22T09:05:06.628Z"
   },
   {
    "duration": 68,
    "start_time": "2022-02-22T09:05:06.689Z"
   },
   {
    "duration": 12,
    "start_time": "2022-02-22T09:05:06.759Z"
   },
   {
    "duration": 54,
    "start_time": "2022-02-22T09:05:06.774Z"
   },
   {
    "duration": 56,
    "start_time": "2022-02-22T09:05:06.831Z"
   },
   {
    "duration": 8,
    "start_time": "2022-02-22T09:05:06.889Z"
   },
   {
    "duration": 35,
    "start_time": "2022-02-22T09:05:06.900Z"
   },
   {
    "duration": 32,
    "start_time": "2022-02-22T09:05:06.937Z"
   },
   {
    "duration": 32,
    "start_time": "2022-02-22T09:05:06.972Z"
   },
   {
    "duration": 39,
    "start_time": "2022-02-22T09:05:07.007Z"
   },
   {
    "duration": 29,
    "start_time": "2022-02-22T09:05:07.049Z"
   },
   {
    "duration": 24,
    "start_time": "2022-02-22T09:05:07.081Z"
   },
   {
    "duration": 36,
    "start_time": "2022-02-22T09:05:07.108Z"
   },
   {
    "duration": 28,
    "start_time": "2022-02-22T09:05:07.149Z"
   },
   {
    "duration": 47,
    "start_time": "2022-02-22T09:05:07.180Z"
   },
   {
    "duration": 24,
    "start_time": "2022-02-22T09:05:07.230Z"
   },
   {
    "duration": 62,
    "start_time": "2022-02-22T09:05:07.257Z"
   },
   {
    "duration": 33,
    "start_time": "2022-02-22T09:05:07.322Z"
   },
   {
    "duration": 52,
    "start_time": "2022-02-22T09:05:07.358Z"
   },
   {
    "duration": 38,
    "start_time": "2022-02-22T09:05:07.413Z"
   },
   {
    "duration": 11,
    "start_time": "2022-02-22T09:05:07.453Z"
   },
   {
    "duration": 24,
    "start_time": "2022-02-22T09:05:07.466Z"
   },
   {
    "duration": 42,
    "start_time": "2022-02-22T09:05:07.492Z"
   },
   {
    "duration": 55,
    "start_time": "2022-02-22T09:06:12.204Z"
   },
   {
    "duration": 49,
    "start_time": "2022-02-22T09:06:20.429Z"
   },
   {
    "duration": 43,
    "start_time": "2022-02-22T09:07:15.365Z"
   },
   {
    "duration": 47,
    "start_time": "2022-02-22T09:07:25.090Z"
   },
   {
    "duration": 70,
    "start_time": "2022-02-22T09:14:11.376Z"
   },
   {
    "duration": 39,
    "start_time": "2022-02-22T09:14:11.448Z"
   },
   {
    "duration": 59,
    "start_time": "2022-02-22T09:14:11.491Z"
   },
   {
    "duration": 4,
    "start_time": "2022-02-22T09:14:11.553Z"
   },
   {
    "duration": 23,
    "start_time": "2022-02-22T09:14:11.560Z"
   },
   {
    "duration": 69,
    "start_time": "2022-02-22T09:14:11.585Z"
   },
   {
    "duration": 26,
    "start_time": "2022-02-22T09:14:11.657Z"
   },
   {
    "duration": 14,
    "start_time": "2022-02-22T09:14:11.686Z"
   },
   {
    "duration": 66,
    "start_time": "2022-02-22T09:14:11.703Z"
   },
   {
    "duration": 44,
    "start_time": "2022-02-22T09:14:11.772Z"
   },
   {
    "duration": 68,
    "start_time": "2022-02-22T09:14:11.819Z"
   },
   {
    "duration": 10,
    "start_time": "2022-02-22T09:14:11.890Z"
   },
   {
    "duration": 65,
    "start_time": "2022-02-22T09:14:11.903Z"
   },
   {
    "duration": 49,
    "start_time": "2022-02-22T09:14:11.971Z"
   },
   {
    "duration": 29,
    "start_time": "2022-02-22T09:14:12.023Z"
   },
   {
    "duration": 14,
    "start_time": "2022-02-22T09:14:12.054Z"
   },
   {
    "duration": 13,
    "start_time": "2022-02-22T09:14:12.070Z"
   },
   {
    "duration": 65,
    "start_time": "2022-02-22T09:14:12.087Z"
   },
   {
    "duration": 15,
    "start_time": "2022-02-22T09:14:12.156Z"
   },
   {
    "duration": 13,
    "start_time": "2022-02-22T09:14:12.173Z"
   },
   {
    "duration": 13,
    "start_time": "2022-02-22T09:14:12.188Z"
   },
   {
    "duration": 49,
    "start_time": "2022-02-22T09:14:12.204Z"
   },
   {
    "duration": 26,
    "start_time": "2022-02-22T09:14:12.258Z"
   },
   {
    "duration": 14,
    "start_time": "2022-02-22T09:14:12.287Z"
   },
   {
    "duration": 47,
    "start_time": "2022-02-22T09:14:12.304Z"
   },
   {
    "duration": 44,
    "start_time": "2022-02-22T09:14:12.354Z"
   },
   {
    "duration": 62,
    "start_time": "2022-02-22T09:14:12.401Z"
   },
   {
    "duration": 46,
    "start_time": "2022-02-22T09:14:12.466Z"
   },
   {
    "duration": 34,
    "start_time": "2022-02-22T09:14:12.514Z"
   },
   {
    "duration": 12,
    "start_time": "2022-02-22T09:14:12.552Z"
   },
   {
    "duration": 10,
    "start_time": "2022-02-22T09:14:12.568Z"
   },
   {
    "duration": 14,
    "start_time": "2022-02-22T09:14:12.581Z"
   },
   {
    "duration": 16,
    "start_time": "2022-02-22T09:15:56.140Z"
   },
   {
    "duration": 13,
    "start_time": "2022-02-22T09:17:15.710Z"
   },
   {
    "duration": 25,
    "start_time": "2022-02-22T09:18:08.742Z"
   },
   {
    "duration": 68,
    "start_time": "2022-02-22T09:21:10.516Z"
   },
   {
    "duration": 34,
    "start_time": "2022-02-22T09:21:10.588Z"
   },
   {
    "duration": 34,
    "start_time": "2022-02-22T09:21:10.625Z"
   },
   {
    "duration": 5,
    "start_time": "2022-02-22T09:21:10.663Z"
   },
   {
    "duration": 23,
    "start_time": "2022-02-22T09:21:10.670Z"
   },
   {
    "duration": 74,
    "start_time": "2022-02-22T09:21:10.696Z"
   },
   {
    "duration": 24,
    "start_time": "2022-02-22T09:21:10.773Z"
   },
   {
    "duration": 49,
    "start_time": "2022-02-22T09:21:10.799Z"
   },
   {
    "duration": 29,
    "start_time": "2022-02-22T09:21:10.852Z"
   },
   {
    "duration": 71,
    "start_time": "2022-02-22T09:21:10.884Z"
   },
   {
    "duration": 53,
    "start_time": "2022-02-22T09:21:10.958Z"
   },
   {
    "duration": 42,
    "start_time": "2022-02-22T09:21:11.014Z"
   },
   {
    "duration": 30,
    "start_time": "2022-02-22T09:21:11.059Z"
   },
   {
    "duration": 83,
    "start_time": "2022-02-22T09:21:11.092Z"
   },
   {
    "duration": 8,
    "start_time": "2022-02-22T09:21:11.177Z"
   },
   {
    "duration": 69,
    "start_time": "2022-02-22T09:21:11.187Z"
   },
   {
    "duration": 13,
    "start_time": "2022-02-22T09:21:11.258Z"
   },
   {
    "duration": 24,
    "start_time": "2022-02-22T09:21:11.273Z"
   },
   {
    "duration": 51,
    "start_time": "2022-02-22T09:21:11.299Z"
   },
   {
    "duration": 15,
    "start_time": "2022-02-22T09:21:11.352Z"
   },
   {
    "duration": 12,
    "start_time": "2022-02-22T09:21:11.370Z"
   },
   {
    "duration": 23,
    "start_time": "2022-02-22T09:21:11.384Z"
   },
   {
    "duration": 44,
    "start_time": "2022-02-22T09:21:11.409Z"
   },
   {
    "duration": 26,
    "start_time": "2022-02-22T09:21:11.456Z"
   },
   {
    "duration": 39,
    "start_time": "2022-02-22T09:21:11.485Z"
   },
   {
    "duration": 56,
    "start_time": "2022-02-22T09:21:11.526Z"
   },
   {
    "duration": 22,
    "start_time": "2022-02-22T09:21:11.587Z"
   },
   {
    "duration": 73,
    "start_time": "2022-02-22T09:21:11.612Z"
   },
   {
    "duration": 8,
    "start_time": "2022-02-22T09:21:11.688Z"
   },
   {
    "duration": 35,
    "start_time": "2022-02-22T09:21:11.698Z"
   },
   {
    "duration": 27,
    "start_time": "2022-02-22T09:21:11.736Z"
   },
   {
    "duration": 24,
    "start_time": "2022-02-22T09:21:11.765Z"
   },
   {
    "duration": 8,
    "start_time": "2022-02-22T09:23:19.512Z"
   },
   {
    "duration": 347,
    "start_time": "2022-02-22T10:04:57.670Z"
   },
   {
    "duration": 5,
    "start_time": "2022-02-22T10:07:57.477Z"
   },
   {
    "duration": 6,
    "start_time": "2022-02-22T10:08:26.167Z"
   },
   {
    "duration": 132,
    "start_time": "2022-02-22T10:11:44.991Z"
   },
   {
    "duration": 80,
    "start_time": "2022-02-22T10:21:35.079Z"
   },
   {
    "duration": 12,
    "start_time": "2022-02-22T10:44:58.973Z"
   },
   {
    "duration": 8,
    "start_time": "2022-02-22T10:47:24.723Z"
   },
   {
    "duration": 4036,
    "start_time": "2022-02-22T10:47:57.239Z"
   },
   {
    "duration": 4327,
    "start_time": "2022-02-22T10:50:13.310Z"
   },
   {
    "duration": 4636,
    "start_time": "2022-02-22T10:50:36.272Z"
   },
   {
    "duration": 117,
    "start_time": "2022-02-22T10:50:46.704Z"
   },
   {
    "duration": 38,
    "start_time": "2022-02-22T10:50:46.823Z"
   },
   {
    "duration": 16,
    "start_time": "2022-02-22T10:50:46.866Z"
   },
   {
    "duration": 5,
    "start_time": "2022-02-22T10:50:46.885Z"
   },
   {
    "duration": 74,
    "start_time": "2022-02-22T10:50:46.892Z"
   },
   {
    "duration": 28,
    "start_time": "2022-02-22T10:50:46.969Z"
   },
   {
    "duration": 66,
    "start_time": "2022-02-22T10:50:47.000Z"
   },
   {
    "duration": 18,
    "start_time": "2022-02-22T10:50:47.072Z"
   },
   {
    "duration": 62,
    "start_time": "2022-02-22T10:50:47.093Z"
   },
   {
    "duration": 48,
    "start_time": "2022-02-22T10:50:47.158Z"
   },
   {
    "duration": 78,
    "start_time": "2022-02-22T10:50:47.209Z"
   },
   {
    "duration": 6,
    "start_time": "2022-02-22T10:50:47.289Z"
   },
   {
    "duration": 11,
    "start_time": "2022-02-22T10:50:47.298Z"
   },
   {
    "duration": 3557,
    "start_time": "2022-02-22T10:50:47.312Z"
   },
   {
    "duration": 4609,
    "start_time": "2022-02-22T10:50:46.263Z"
   },
   {
    "duration": 4605,
    "start_time": "2022-02-22T10:50:46.269Z"
   },
   {
    "duration": 4597,
    "start_time": "2022-02-22T10:50:46.278Z"
   },
   {
    "duration": 4591,
    "start_time": "2022-02-22T10:50:46.286Z"
   },
   {
    "duration": 4587,
    "start_time": "2022-02-22T10:50:46.291Z"
   },
   {
    "duration": 4581,
    "start_time": "2022-02-22T10:50:46.299Z"
   },
   {
    "duration": 4575,
    "start_time": "2022-02-22T10:50:46.306Z"
   },
   {
    "duration": 4571,
    "start_time": "2022-02-22T10:50:46.312Z"
   },
   {
    "duration": 4566,
    "start_time": "2022-02-22T10:50:46.318Z"
   },
   {
    "duration": 4562,
    "start_time": "2022-02-22T10:50:46.324Z"
   },
   {
    "duration": 4558,
    "start_time": "2022-02-22T10:50:46.329Z"
   },
   {
    "duration": 4553,
    "start_time": "2022-02-22T10:50:46.336Z"
   },
   {
    "duration": 4543,
    "start_time": "2022-02-22T10:50:46.348Z"
   },
   {
    "duration": 4538,
    "start_time": "2022-02-22T10:50:46.354Z"
   },
   {
    "duration": 4534,
    "start_time": "2022-02-22T10:50:46.360Z"
   },
   {
    "duration": 4519,
    "start_time": "2022-02-22T10:50:46.376Z"
   },
   {
    "duration": 4515,
    "start_time": "2022-02-22T10:50:46.381Z"
   },
   {
    "duration": 4511,
    "start_time": "2022-02-22T10:50:46.386Z"
   },
   {
    "duration": 4508,
    "start_time": "2022-02-22T10:50:46.391Z"
   },
   {
    "duration": 4505,
    "start_time": "2022-02-22T10:50:46.396Z"
   },
   {
    "duration": 4503,
    "start_time": "2022-02-22T10:50:46.400Z"
   },
   {
    "duration": 3439,
    "start_time": "2022-02-22T10:51:38.029Z"
   },
   {
    "duration": 4593,
    "start_time": "2022-02-22T10:52:00.858Z"
   },
   {
    "duration": 75,
    "start_time": "2022-02-22T10:52:09.657Z"
   },
   {
    "duration": 44,
    "start_time": "2022-02-22T10:52:09.735Z"
   },
   {
    "duration": 18,
    "start_time": "2022-02-22T10:52:09.783Z"
   },
   {
    "duration": 6,
    "start_time": "2022-02-22T10:52:09.851Z"
   },
   {
    "duration": 26,
    "start_time": "2022-02-22T10:52:09.859Z"
   },
   {
    "duration": 63,
    "start_time": "2022-02-22T10:52:09.888Z"
   },
   {
    "duration": 27,
    "start_time": "2022-02-22T10:52:09.953Z"
   },
   {
    "duration": 15,
    "start_time": "2022-02-22T10:52:09.986Z"
   },
   {
    "duration": 75,
    "start_time": "2022-02-22T10:52:10.005Z"
   },
   {
    "duration": 80,
    "start_time": "2022-02-22T10:52:10.083Z"
   },
   {
    "duration": 44,
    "start_time": "2022-02-22T10:52:10.165Z"
   },
   {
    "duration": 5,
    "start_time": "2022-02-22T10:52:10.211Z"
   },
   {
    "duration": 33,
    "start_time": "2022-02-22T10:52:10.219Z"
   },
   {
    "duration": 3320,
    "start_time": "2022-02-22T10:52:10.254Z"
   },
   {
    "duration": 4637,
    "start_time": "2022-02-22T10:52:08.941Z"
   },
   {
    "duration": 4633,
    "start_time": "2022-02-22T10:52:08.947Z"
   },
   {
    "duration": 4629,
    "start_time": "2022-02-22T10:52:08.953Z"
   },
   {
    "duration": 4624,
    "start_time": "2022-02-22T10:52:08.959Z"
   },
   {
    "duration": 4621,
    "start_time": "2022-02-22T10:52:08.964Z"
   },
   {
    "duration": 4616,
    "start_time": "2022-02-22T10:52:08.970Z"
   },
   {
    "duration": 4612,
    "start_time": "2022-02-22T10:52:08.976Z"
   },
   {
    "duration": 4609,
    "start_time": "2022-02-22T10:52:08.981Z"
   },
   {
    "duration": 4604,
    "start_time": "2022-02-22T10:52:08.987Z"
   },
   {
    "duration": 4600,
    "start_time": "2022-02-22T10:52:08.992Z"
   },
   {
    "duration": 4587,
    "start_time": "2022-02-22T10:52:09.008Z"
   },
   {
    "duration": 4583,
    "start_time": "2022-02-22T10:52:09.014Z"
   },
   {
    "duration": 4579,
    "start_time": "2022-02-22T10:52:09.019Z"
   },
   {
    "duration": 4576,
    "start_time": "2022-02-22T10:52:09.024Z"
   },
   {
    "duration": 4574,
    "start_time": "2022-02-22T10:52:09.028Z"
   },
   {
    "duration": 4570,
    "start_time": "2022-02-22T10:52:09.034Z"
   },
   {
    "duration": 4567,
    "start_time": "2022-02-22T10:52:09.039Z"
   },
   {
    "duration": 4563,
    "start_time": "2022-02-22T10:52:09.044Z"
   },
   {
    "duration": 4561,
    "start_time": "2022-02-22T10:52:09.048Z"
   },
   {
    "duration": 4558,
    "start_time": "2022-02-22T10:52:09.053Z"
   },
   {
    "duration": 4555,
    "start_time": "2022-02-22T10:52:09.058Z"
   },
   {
    "duration": 71,
    "start_time": "2022-02-22T10:55:27.687Z"
   },
   {
    "duration": 35,
    "start_time": "2022-02-22T10:55:27.762Z"
   },
   {
    "duration": 20,
    "start_time": "2022-02-22T10:55:27.801Z"
   },
   {
    "duration": 29,
    "start_time": "2022-02-22T10:55:27.824Z"
   },
   {
    "duration": 26,
    "start_time": "2022-02-22T10:55:27.855Z"
   },
   {
    "duration": 64,
    "start_time": "2022-02-22T10:55:27.884Z"
   },
   {
    "duration": 25,
    "start_time": "2022-02-22T10:55:27.950Z"
   },
   {
    "duration": 13,
    "start_time": "2022-02-22T10:55:27.978Z"
   },
   {
    "duration": 71,
    "start_time": "2022-02-22T10:55:27.995Z"
   },
   {
    "duration": 46,
    "start_time": "2022-02-22T10:55:28.068Z"
   },
   {
    "duration": 72,
    "start_time": "2022-02-22T10:55:28.117Z"
   },
   {
    "duration": 6,
    "start_time": "2022-02-22T10:55:28.191Z"
   },
   {
    "duration": 5,
    "start_time": "2022-02-22T10:55:28.741Z"
   },
   {
    "duration": 4359,
    "start_time": "2022-02-22T10:55:28.749Z"
   },
   {
    "duration": 4642,
    "start_time": "2022-02-22T10:55:28.469Z"
   },
   {
    "duration": 4638,
    "start_time": "2022-02-22T10:55:28.475Z"
   },
   {
    "duration": 4634,
    "start_time": "2022-02-22T10:55:28.480Z"
   },
   {
    "duration": 4631,
    "start_time": "2022-02-22T10:55:28.485Z"
   },
   {
    "duration": 4626,
    "start_time": "2022-02-22T10:55:28.491Z"
   },
   {
    "duration": 4623,
    "start_time": "2022-02-22T10:55:28.496Z"
   },
   {
    "duration": 4620,
    "start_time": "2022-02-22T10:55:28.501Z"
   },
   {
    "duration": 4615,
    "start_time": "2022-02-22T10:55:28.507Z"
   },
   {
    "duration": 4610,
    "start_time": "2022-02-22T10:55:28.513Z"
   },
   {
    "duration": 4606,
    "start_time": "2022-02-22T10:55:28.518Z"
   },
   {
    "duration": 4601,
    "start_time": "2022-02-22T10:55:28.524Z"
   },
   {
    "duration": 4598,
    "start_time": "2022-02-22T10:55:28.529Z"
   },
   {
    "duration": 4594,
    "start_time": "2022-02-22T10:55:28.534Z"
   },
   {
    "duration": 4591,
    "start_time": "2022-02-22T10:55:28.538Z"
   },
   {
    "duration": 4586,
    "start_time": "2022-02-22T10:55:28.544Z"
   },
   {
    "duration": 4583,
    "start_time": "2022-02-22T10:55:28.548Z"
   },
   {
    "duration": 4579,
    "start_time": "2022-02-22T10:55:28.553Z"
   },
   {
    "duration": 4575,
    "start_time": "2022-02-22T10:55:28.558Z"
   },
   {
    "duration": 4571,
    "start_time": "2022-02-22T10:55:28.563Z"
   },
   {
    "duration": 4556,
    "start_time": "2022-02-22T10:55:28.579Z"
   },
   {
    "duration": 4551,
    "start_time": "2022-02-22T10:55:28.585Z"
   },
   {
    "duration": 4549,
    "start_time": "2022-02-22T10:55:28.589Z"
   },
   {
    "duration": 72,
    "start_time": "2022-02-22T10:57:10.629Z"
   },
   {
    "duration": 60,
    "start_time": "2022-02-22T10:57:10.704Z"
   },
   {
    "duration": 15,
    "start_time": "2022-02-22T10:57:10.767Z"
   },
   {
    "duration": 18,
    "start_time": "2022-02-22T10:57:10.785Z"
   },
   {
    "duration": 62,
    "start_time": "2022-02-22T10:57:10.805Z"
   },
   {
    "duration": 26,
    "start_time": "2022-02-22T10:57:10.870Z"
   },
   {
    "duration": 56,
    "start_time": "2022-02-22T10:57:10.898Z"
   },
   {
    "duration": 14,
    "start_time": "2022-02-22T10:57:10.958Z"
   },
   {
    "duration": 35,
    "start_time": "2022-02-22T10:57:10.975Z"
   },
   {
    "duration": 86,
    "start_time": "2022-02-22T10:57:11.012Z"
   },
   {
    "duration": 4,
    "start_time": "2022-02-22T10:57:11.101Z"
   },
   {
    "duration": 9,
    "start_time": "2022-02-22T10:57:11.108Z"
   },
   {
    "duration": 33,
    "start_time": "2022-02-22T10:57:11.120Z"
   },
   {
    "duration": 3073,
    "start_time": "2022-02-22T10:57:11.156Z"
   },
   {
    "duration": 4646,
    "start_time": "2022-02-22T10:57:09.586Z"
   },
   {
    "duration": 4642,
    "start_time": "2022-02-22T10:57:09.591Z"
   },
   {
    "duration": 4636,
    "start_time": "2022-02-22T10:57:09.599Z"
   },
   {
    "duration": 4631,
    "start_time": "2022-02-22T10:57:09.606Z"
   },
   {
    "duration": 4627,
    "start_time": "2022-02-22T10:57:09.611Z"
   },
   {
    "duration": 4622,
    "start_time": "2022-02-22T10:57:09.618Z"
   },
   {
    "duration": 4617,
    "start_time": "2022-02-22T10:57:09.624Z"
   },
   {
    "duration": 4613,
    "start_time": "2022-02-22T10:57:09.630Z"
   },
   {
    "duration": 4600,
    "start_time": "2022-02-22T10:57:09.644Z"
   },
   {
    "duration": 4594,
    "start_time": "2022-02-22T10:57:09.652Z"
   },
   {
    "duration": 4591,
    "start_time": "2022-02-22T10:57:09.657Z"
   },
   {
    "duration": 4585,
    "start_time": "2022-02-22T10:57:09.664Z"
   },
   {
    "duration": 4581,
    "start_time": "2022-02-22T10:57:09.669Z"
   },
   {
    "duration": 4578,
    "start_time": "2022-02-22T10:57:09.674Z"
   },
   {
    "duration": 4573,
    "start_time": "2022-02-22T10:57:09.680Z"
   },
   {
    "duration": 4568,
    "start_time": "2022-02-22T10:57:09.687Z"
   },
   {
    "duration": 4564,
    "start_time": "2022-02-22T10:57:09.692Z"
   },
   {
    "duration": 4558,
    "start_time": "2022-02-22T10:57:09.700Z"
   },
   {
    "duration": 4554,
    "start_time": "2022-02-22T10:57:09.705Z"
   },
   {
    "duration": 4551,
    "start_time": "2022-02-22T10:57:09.710Z"
   },
   {
    "duration": 4546,
    "start_time": "2022-02-22T10:57:09.716Z"
   },
   {
    "duration": 4543,
    "start_time": "2022-02-22T10:57:09.721Z"
   },
   {
    "duration": 3677,
    "start_time": "2022-02-22T11:02:54.586Z"
   },
   {
    "duration": 3865,
    "start_time": "2022-02-22T11:03:33.215Z"
   },
   {
    "duration": 72,
    "start_time": "2022-02-22T11:03:37.753Z"
   },
   {
    "duration": 53,
    "start_time": "2022-02-22T11:03:37.828Z"
   },
   {
    "duration": 17,
    "start_time": "2022-02-22T11:03:37.884Z"
   },
   {
    "duration": 46,
    "start_time": "2022-02-22T11:03:37.905Z"
   },
   {
    "duration": 26,
    "start_time": "2022-02-22T11:03:37.954Z"
   },
   {
    "duration": 65,
    "start_time": "2022-02-22T11:03:37.983Z"
   },
   {
    "duration": 26,
    "start_time": "2022-02-22T11:03:38.051Z"
   },
   {
    "duration": 14,
    "start_time": "2022-02-22T11:03:38.081Z"
   },
   {
    "duration": 66,
    "start_time": "2022-02-22T11:03:38.098Z"
   },
   {
    "duration": 47,
    "start_time": "2022-02-22T11:03:38.167Z"
   },
   {
    "duration": 4,
    "start_time": "2022-02-22T11:03:38.216Z"
   },
   {
    "duration": 8,
    "start_time": "2022-02-22T11:03:38.250Z"
   },
   {
    "duration": 6,
    "start_time": "2022-02-22T11:03:38.261Z"
   },
   {
    "duration": 10,
    "start_time": "2022-02-22T11:03:38.270Z"
   },
   {
    "duration": 65,
    "start_time": "2022-02-22T11:03:38.283Z"
   },
   {
    "duration": 10,
    "start_time": "2022-02-22T11:03:38.351Z"
   },
   {
    "duration": 29,
    "start_time": "2022-02-22T11:03:38.364Z"
   },
   {
    "duration": 82,
    "start_time": "2022-02-22T11:03:38.395Z"
   },
   {
    "duration": 7,
    "start_time": "2022-02-22T11:03:38.480Z"
   },
   {
    "duration": 13,
    "start_time": "2022-02-22T11:03:38.490Z"
   },
   {
    "duration": 54,
    "start_time": "2022-02-22T11:03:38.506Z"
   },
   {
    "duration": 12,
    "start_time": "2022-02-22T11:03:38.563Z"
   },
   {
    "duration": 13,
    "start_time": "2022-02-22T11:03:38.580Z"
   },
   {
    "duration": 54,
    "start_time": "2022-02-22T11:03:38.596Z"
   },
   {
    "duration": 8,
    "start_time": "2022-02-22T11:03:38.652Z"
   },
   {
    "duration": 12,
    "start_time": "2022-02-22T11:03:38.662Z"
   },
   {
    "duration": 20,
    "start_time": "2022-02-22T11:03:38.676Z"
   },
   {
    "duration": 53,
    "start_time": "2022-02-22T11:03:38.698Z"
   },
   {
    "duration": 11,
    "start_time": "2022-02-22T11:03:38.753Z"
   },
   {
    "duration": 39,
    "start_time": "2022-02-22T11:03:38.767Z"
   },
   {
    "duration": 59,
    "start_time": "2022-02-22T11:03:38.809Z"
   },
   {
    "duration": 44,
    "start_time": "2022-02-22T11:03:38.871Z"
   },
   {
    "duration": 37,
    "start_time": "2022-02-22T11:03:38.918Z"
   },
   {
    "duration": 11,
    "start_time": "2022-02-22T11:03:38.958Z"
   },
   {
    "duration": 10,
    "start_time": "2022-02-22T11:03:38.972Z"
   },
   {
    "duration": 62,
    "start_time": "2022-02-22T11:03:38.986Z"
   },
   {
    "duration": 6,
    "start_time": "2022-02-22T11:05:05.028Z"
   },
   {
    "duration": 45,
    "start_time": "2022-02-22T11:05:54.139Z"
   },
   {
    "duration": 72,
    "start_time": "2022-02-22T11:05:59.335Z"
   },
   {
    "duration": 71,
    "start_time": "2022-02-22T11:05:59.410Z"
   },
   {
    "duration": 19,
    "start_time": "2022-02-22T11:05:59.486Z"
   },
   {
    "duration": 5,
    "start_time": "2022-02-22T11:05:59.549Z"
   },
   {
    "duration": 26,
    "start_time": "2022-02-22T11:05:59.557Z"
   },
   {
    "duration": 73,
    "start_time": "2022-02-22T11:05:59.586Z"
   },
   {
    "duration": 25,
    "start_time": "2022-02-22T11:05:59.661Z"
   },
   {
    "duration": 15,
    "start_time": "2022-02-22T11:05:59.689Z"
   },
   {
    "duration": 65,
    "start_time": "2022-02-22T11:05:59.711Z"
   },
   {
    "duration": 73,
    "start_time": "2022-02-22T11:05:59.780Z"
   },
   {
    "duration": 47,
    "start_time": "2022-02-22T11:05:59.856Z"
   },
   {
    "duration": 7,
    "start_time": "2022-02-22T11:05:59.906Z"
   },
   {
    "duration": 5,
    "start_time": "2022-02-22T11:05:59.950Z"
   },
   {
    "duration": 12,
    "start_time": "2022-02-22T11:05:59.959Z"
   },
   {
    "duration": 10,
    "start_time": "2022-02-22T11:05:59.973Z"
   },
   {
    "duration": 13,
    "start_time": "2022-02-22T11:05:59.985Z"
   },
   {
    "duration": 50,
    "start_time": "2022-02-22T11:06:00.001Z"
   },
   {
    "duration": 30,
    "start_time": "2022-02-22T11:06:00.054Z"
   },
   {
    "duration": 81,
    "start_time": "2022-02-22T11:06:00.086Z"
   },
   {
    "duration": 10,
    "start_time": "2022-02-22T11:06:00.170Z"
   },
   {
    "duration": 24,
    "start_time": "2022-02-22T11:06:00.183Z"
   },
   {
    "duration": 46,
    "start_time": "2022-02-22T11:06:00.210Z"
   },
   {
    "duration": 26,
    "start_time": "2022-02-22T11:06:00.259Z"
   },
   {
    "duration": 31,
    "start_time": "2022-02-22T11:06:00.288Z"
   },
   {
    "duration": 34,
    "start_time": "2022-02-22T11:06:00.322Z"
   },
   {
    "duration": 23,
    "start_time": "2022-02-22T11:06:00.359Z"
   },
   {
    "duration": 30,
    "start_time": "2022-02-22T11:06:00.387Z"
   },
   {
    "duration": 27,
    "start_time": "2022-02-22T11:06:00.420Z"
   },
   {
    "duration": 40,
    "start_time": "2022-02-22T11:06:00.449Z"
   },
   {
    "duration": 31,
    "start_time": "2022-02-22T11:06:00.491Z"
   },
   {
    "duration": 57,
    "start_time": "2022-02-22T11:06:00.525Z"
   },
   {
    "duration": 27,
    "start_time": "2022-02-22T11:06:00.584Z"
   },
   {
    "duration": 91,
    "start_time": "2022-02-22T11:06:00.615Z"
   },
   {
    "duration": 39,
    "start_time": "2022-02-22T11:06:00.709Z"
   },
   {
    "duration": 13,
    "start_time": "2022-02-22T11:06:00.752Z"
   },
   {
    "duration": 23,
    "start_time": "2022-02-22T11:06:00.768Z"
   },
   {
    "duration": 34,
    "start_time": "2022-02-22T11:06:00.794Z"
   },
   {
    "duration": 30,
    "start_time": "2022-02-22T11:11:38.549Z"
   },
   {
    "duration": 71,
    "start_time": "2022-02-22T11:12:17.499Z"
   },
   {
    "duration": 36,
    "start_time": "2022-02-22T11:12:17.573Z"
   },
   {
    "duration": 47,
    "start_time": "2022-02-22T11:12:17.612Z"
   },
   {
    "duration": 7,
    "start_time": "2022-02-22T11:12:17.662Z"
   },
   {
    "duration": 78,
    "start_time": "2022-02-22T11:12:17.672Z"
   },
   {
    "duration": 29,
    "start_time": "2022-02-22T11:12:17.754Z"
   },
   {
    "duration": 954,
    "start_time": "2022-02-22T11:12:17.786Z"
   },
   {
    "duration": 15,
    "start_time": "2022-02-22T11:12:18.744Z"
   },
   {
    "duration": 32,
    "start_time": "2022-02-22T11:12:18.762Z"
   },
   {
    "duration": 75,
    "start_time": "2022-02-22T11:12:18.796Z"
   },
   {
    "duration": 74,
    "start_time": "2022-02-22T11:12:18.875Z"
   },
   {
    "duration": 6,
    "start_time": "2022-02-22T11:12:18.951Z"
   },
   {
    "duration": 6,
    "start_time": "2022-02-22T11:12:18.960Z"
   },
   {
    "duration": 12,
    "start_time": "2022-02-22T11:12:18.969Z"
   },
   {
    "duration": 7,
    "start_time": "2022-02-22T11:12:18.983Z"
   },
   {
    "duration": 56,
    "start_time": "2022-02-22T11:12:18.993Z"
   },
   {
    "duration": 14,
    "start_time": "2022-02-22T11:12:19.052Z"
   },
   {
    "duration": 25,
    "start_time": "2022-02-22T11:12:19.069Z"
   },
   {
    "duration": 87,
    "start_time": "2022-02-22T11:12:19.097Z"
   },
   {
    "duration": 9,
    "start_time": "2022-02-22T11:12:19.187Z"
   },
   {
    "duration": 14,
    "start_time": "2022-02-22T11:12:19.198Z"
   },
   {
    "duration": 54,
    "start_time": "2022-02-22T11:12:19.215Z"
   },
   {
    "duration": 9,
    "start_time": "2022-02-22T11:12:19.277Z"
   },
   {
    "duration": 58,
    "start_time": "2022-02-22T11:12:19.290Z"
   },
   {
    "duration": 11,
    "start_time": "2022-02-22T11:12:19.352Z"
   },
   {
    "duration": 12,
    "start_time": "2022-02-22T11:12:19.366Z"
   },
   {
    "duration": 11,
    "start_time": "2022-02-22T11:12:19.380Z"
   },
   {
    "duration": 63,
    "start_time": "2022-02-22T11:12:19.394Z"
   },
   {
    "duration": 16,
    "start_time": "2022-02-22T11:12:19.460Z"
   },
   {
    "duration": 15,
    "start_time": "2022-02-22T11:12:19.479Z"
   },
   {
    "duration": 80,
    "start_time": "2022-02-22T11:12:19.497Z"
   },
   {
    "duration": 24,
    "start_time": "2022-02-22T11:12:19.580Z"
   },
   {
    "duration": 87,
    "start_time": "2022-02-22T11:12:19.607Z"
   },
   {
    "duration": 8,
    "start_time": "2022-02-22T11:12:19.697Z"
   },
   {
    "duration": 42,
    "start_time": "2022-02-22T11:12:19.708Z"
   },
   {
    "duration": 10,
    "start_time": "2022-02-22T11:12:19.753Z"
   },
   {
    "duration": 17,
    "start_time": "2022-02-22T11:12:19.766Z"
   },
   {
    "duration": 18,
    "start_time": "2022-02-22T11:12:38.408Z"
   },
   {
    "duration": 14,
    "start_time": "2022-02-22T11:13:53.708Z"
   },
   {
    "duration": 71,
    "start_time": "2022-02-22T11:14:42.761Z"
   },
   {
    "duration": 27,
    "start_time": "2022-02-22T11:14:42.834Z"
   },
   {
    "duration": 21,
    "start_time": "2022-02-22T11:14:42.864Z"
   },
   {
    "duration": 6,
    "start_time": "2022-02-22T11:14:42.888Z"
   },
   {
    "duration": 70,
    "start_time": "2022-02-22T11:14:42.896Z"
   },
   {
    "duration": 23,
    "start_time": "2022-02-22T11:14:42.969Z"
   },
   {
    "duration": 55,
    "start_time": "2022-02-22T11:14:42.995Z"
   },
   {
    "duration": 24,
    "start_time": "2022-02-22T11:14:43.055Z"
   },
   {
    "duration": 16,
    "start_time": "2022-02-22T11:14:43.083Z"
   },
   {
    "duration": 65,
    "start_time": "2022-02-22T11:14:43.101Z"
   },
   {
    "duration": 29,
    "start_time": "2022-02-22T11:14:43.169Z"
   },
   {
    "duration": 78,
    "start_time": "2022-02-22T11:14:43.201Z"
   },
   {
    "duration": 6,
    "start_time": "2022-02-22T11:14:43.282Z"
   },
   {
    "duration": 11,
    "start_time": "2022-02-22T11:14:43.291Z"
   },
   {
    "duration": 44,
    "start_time": "2022-02-22T11:14:43.305Z"
   },
   {
    "duration": 6,
    "start_time": "2022-02-22T11:14:43.352Z"
   },
   {
    "duration": 18,
    "start_time": "2022-02-22T11:14:43.360Z"
   },
   {
    "duration": 16,
    "start_time": "2022-02-22T11:14:43.381Z"
   },
   {
    "duration": 61,
    "start_time": "2022-02-22T11:14:43.399Z"
   },
   {
    "duration": 47,
    "start_time": "2022-02-22T11:14:43.463Z"
   },
   {
    "duration": 37,
    "start_time": "2022-02-22T11:14:43.513Z"
   },
   {
    "duration": 14,
    "start_time": "2022-02-22T11:14:43.553Z"
   },
   {
    "duration": 18,
    "start_time": "2022-02-22T11:14:43.572Z"
   },
   {
    "duration": 14,
    "start_time": "2022-02-22T11:14:43.593Z"
   },
   {
    "duration": 17,
    "start_time": "2022-02-22T11:14:43.649Z"
   },
   {
    "duration": 14,
    "start_time": "2022-02-22T11:14:43.669Z"
   },
   {
    "duration": 15,
    "start_time": "2022-02-22T11:14:43.686Z"
   },
   {
    "duration": 48,
    "start_time": "2022-02-22T11:14:43.704Z"
   },
   {
    "duration": 29,
    "start_time": "2022-02-22T11:14:43.755Z"
   },
   {
    "duration": 22,
    "start_time": "2022-02-22T11:14:43.787Z"
   },
   {
    "duration": 18,
    "start_time": "2022-02-22T11:14:43.812Z"
   },
   {
    "duration": 60,
    "start_time": "2022-02-22T11:14:43.832Z"
   },
   {
    "duration": 55,
    "start_time": "2022-02-22T11:14:43.894Z"
   },
   {
    "duration": 48,
    "start_time": "2022-02-22T11:14:43.952Z"
   },
   {
    "duration": 9,
    "start_time": "2022-02-22T11:14:44.003Z"
   },
   {
    "duration": 12,
    "start_time": "2022-02-22T11:14:44.049Z"
   },
   {
    "duration": 15,
    "start_time": "2022-02-22T11:14:44.064Z"
   },
   {
    "duration": 12,
    "start_time": "2022-02-22T11:14:44.082Z"
   },
   {
    "duration": 77,
    "start_time": "2022-02-22T11:15:53.011Z"
   },
   {
    "duration": 19,
    "start_time": "2022-02-22T11:15:53.090Z"
   },
   {
    "duration": 48,
    "start_time": "2022-02-22T11:15:53.113Z"
   },
   {
    "duration": 8,
    "start_time": "2022-02-22T11:15:53.164Z"
   },
   {
    "duration": 75,
    "start_time": "2022-02-22T11:15:53.175Z"
   },
   {
    "duration": 28,
    "start_time": "2022-02-22T11:15:53.253Z"
   },
   {
    "duration": 23,
    "start_time": "2022-02-22T11:15:53.284Z"
   },
   {
    "duration": 49,
    "start_time": "2022-02-22T11:15:53.311Z"
   },
   {
    "duration": 31,
    "start_time": "2022-02-22T11:15:53.365Z"
   },
   {
    "duration": 73,
    "start_time": "2022-02-22T11:15:53.399Z"
   },
   {
    "duration": 45,
    "start_time": "2022-02-22T11:15:53.474Z"
   },
   {
    "duration": 6,
    "start_time": "2022-02-22T11:15:53.548Z"
   },
   {
    "duration": 5,
    "start_time": "2022-02-22T11:15:53.557Z"
   },
   {
    "duration": 8,
    "start_time": "2022-02-22T11:15:53.564Z"
   },
   {
    "duration": 14,
    "start_time": "2022-02-22T11:15:53.575Z"
   },
   {
    "duration": 20,
    "start_time": "2022-02-22T11:15:53.592Z"
   },
   {
    "duration": 12,
    "start_time": "2022-02-22T11:15:53.650Z"
   },
   {
    "duration": 27,
    "start_time": "2022-02-22T11:15:53.665Z"
   },
   {
    "duration": 97,
    "start_time": "2022-02-22T11:15:53.695Z"
   },
   {
    "duration": 11,
    "start_time": "2022-02-22T11:15:53.795Z"
   },
   {
    "duration": 50,
    "start_time": "2022-02-22T11:15:53.808Z"
   },
   {
    "duration": 12,
    "start_time": "2022-02-22T11:15:53.861Z"
   },
   {
    "duration": 14,
    "start_time": "2022-02-22T11:15:53.878Z"
   },
   {
    "duration": 55,
    "start_time": "2022-02-22T11:15:53.894Z"
   },
   {
    "duration": 11,
    "start_time": "2022-02-22T11:15:53.951Z"
   },
   {
    "duration": 9,
    "start_time": "2022-02-22T11:15:53.965Z"
   },
   {
    "duration": 13,
    "start_time": "2022-02-22T11:15:53.976Z"
   },
   {
    "duration": 64,
    "start_time": "2022-02-22T11:15:53.991Z"
   },
   {
    "duration": 11,
    "start_time": "2022-02-22T11:15:54.058Z"
   },
   {
    "duration": 12,
    "start_time": "2022-02-22T11:15:54.073Z"
   },
   {
    "duration": 93,
    "start_time": "2022-02-22T11:15:54.088Z"
   },
   {
    "duration": 27,
    "start_time": "2022-02-22T11:15:54.184Z"
   },
   {
    "duration": 77,
    "start_time": "2022-02-22T11:15:54.214Z"
   },
   {
    "duration": 9,
    "start_time": "2022-02-22T11:15:54.294Z"
   },
   {
    "duration": 44,
    "start_time": "2022-02-22T11:15:54.306Z"
   },
   {
    "duration": 9,
    "start_time": "2022-02-22T11:15:54.353Z"
   },
   {
    "duration": 10,
    "start_time": "2022-02-22T11:15:54.365Z"
   },
   {
    "duration": 19,
    "start_time": "2022-02-22T11:17:12.216Z"
   },
   {
    "duration": 71,
    "start_time": "2022-02-22T11:17:48.679Z"
   },
   {
    "duration": 18,
    "start_time": "2022-02-22T11:17:48.753Z"
   },
   {
    "duration": 27,
    "start_time": "2022-02-22T11:17:48.774Z"
   },
   {
    "duration": 47,
    "start_time": "2022-02-22T11:17:48.805Z"
   },
   {
    "duration": 26,
    "start_time": "2022-02-22T11:17:48.855Z"
   },
   {
    "duration": 26,
    "start_time": "2022-02-22T11:17:48.884Z"
   },
   {
    "duration": 55,
    "start_time": "2022-02-22T11:17:48.913Z"
   },
   {
    "duration": 13,
    "start_time": "2022-02-22T11:17:48.972Z"
   },
   {
    "duration": 69,
    "start_time": "2022-02-22T11:17:48.988Z"
   },
   {
    "duration": 14,
    "start_time": "2022-02-22T11:17:49.060Z"
   },
   {
    "duration": 32,
    "start_time": "2022-02-22T11:17:49.077Z"
   },
   {
    "duration": 78,
    "start_time": "2022-02-22T11:17:49.112Z"
   },
   {
    "duration": 6,
    "start_time": "2022-02-22T11:17:49.193Z"
   },
   {
    "duration": 6,
    "start_time": "2022-02-22T11:17:49.201Z"
   },
   {
    "duration": 7,
    "start_time": "2022-02-22T11:17:49.250Z"
   },
   {
    "duration": 8,
    "start_time": "2022-02-22T11:17:49.259Z"
   },
   {
    "duration": 9,
    "start_time": "2022-02-22T11:17:49.270Z"
   },
   {
    "duration": 18,
    "start_time": "2022-02-22T11:17:49.282Z"
   },
   {
    "duration": 71,
    "start_time": "2022-02-22T11:17:49.302Z"
   },
   {
    "duration": 49,
    "start_time": "2022-02-22T11:17:49.375Z"
   },
   {
    "duration": 8,
    "start_time": "2022-02-22T11:17:49.448Z"
   },
   {
    "duration": 13,
    "start_time": "2022-02-22T11:17:49.458Z"
   },
   {
    "duration": 11,
    "start_time": "2022-02-22T11:17:49.476Z"
   },
   {
    "duration": 9,
    "start_time": "2022-02-22T11:17:49.490Z"
   },
   {
    "duration": 14,
    "start_time": "2022-02-22T11:17:49.550Z"
   },
   {
    "duration": 11,
    "start_time": "2022-02-22T11:17:49.567Z"
   },
   {
    "duration": 15,
    "start_time": "2022-02-22T11:17:49.581Z"
   },
   {
    "duration": 51,
    "start_time": "2022-02-22T11:17:49.599Z"
   },
   {
    "duration": 17,
    "start_time": "2022-02-22T11:17:49.653Z"
   },
   {
    "duration": 21,
    "start_time": "2022-02-22T11:17:49.673Z"
   },
   {
    "duration": 13,
    "start_time": "2022-02-22T11:17:49.697Z"
   },
   {
    "duration": 76,
    "start_time": "2022-02-22T11:17:49.712Z"
   },
   {
    "duration": 23,
    "start_time": "2022-02-22T11:17:49.790Z"
   },
   {
    "duration": 92,
    "start_time": "2022-02-22T11:17:49.815Z"
   },
   {
    "duration": 9,
    "start_time": "2022-02-22T11:17:49.909Z"
   },
   {
    "duration": 30,
    "start_time": "2022-02-22T11:17:49.920Z"
   },
   {
    "duration": 13,
    "start_time": "2022-02-22T11:17:49.954Z"
   },
   {
    "duration": 15,
    "start_time": "2022-02-22T11:17:49.970Z"
   },
   {
    "duration": 5,
    "start_time": "2022-02-22T11:22:11.946Z"
   },
   {
    "duration": 8,
    "start_time": "2022-02-22T11:23:33.261Z"
   },
   {
    "duration": 7,
    "start_time": "2022-02-22T11:23:44.715Z"
   },
   {
    "duration": 6,
    "start_time": "2022-02-22T11:25:52.621Z"
   },
   {
    "duration": 122,
    "start_time": "2022-02-22T11:26:01.549Z"
   },
   {
    "duration": 19,
    "start_time": "2022-02-22T11:26:01.674Z"
   },
   {
    "duration": 61,
    "start_time": "2022-02-22T11:26:01.696Z"
   },
   {
    "duration": 11,
    "start_time": "2022-02-22T11:26:01.760Z"
   },
   {
    "duration": 51,
    "start_time": "2022-02-22T11:26:01.774Z"
   },
   {
    "duration": 35,
    "start_time": "2022-02-22T11:26:01.828Z"
   },
   {
    "duration": 26,
    "start_time": "2022-02-22T11:26:01.865Z"
   },
   {
    "duration": 51,
    "start_time": "2022-02-22T11:26:01.898Z"
   },
   {
    "duration": 30,
    "start_time": "2022-02-22T11:26:01.956Z"
   },
   {
    "duration": 20,
    "start_time": "2022-02-22T11:26:01.989Z"
   },
   {
    "duration": 82,
    "start_time": "2022-02-22T11:26:02.011Z"
   },
   {
    "duration": 82,
    "start_time": "2022-02-22T11:26:02.096Z"
   },
   {
    "duration": 12,
    "start_time": "2022-02-22T11:26:02.182Z"
   },
   {
    "duration": 18,
    "start_time": "2022-02-22T11:26:02.198Z"
   },
   {
    "duration": 36,
    "start_time": "2022-02-22T11:26:02.219Z"
   },
   {
    "duration": 307,
    "start_time": "2022-02-22T11:26:02.258Z"
   },
   {
    "duration": 4684,
    "start_time": "2022-02-22T11:25:57.886Z"
   },
   {
    "duration": 4672,
    "start_time": "2022-02-22T11:25:57.900Z"
   },
   {
    "duration": 4670,
    "start_time": "2022-02-22T11:25:57.905Z"
   },
   {
    "duration": 4668,
    "start_time": "2022-02-22T11:25:57.910Z"
   },
   {
    "duration": 4664,
    "start_time": "2022-02-22T11:25:57.916Z"
   },
   {
    "duration": 4661,
    "start_time": "2022-02-22T11:25:57.921Z"
   },
   {
    "duration": 4657,
    "start_time": "2022-02-22T11:25:57.927Z"
   },
   {
    "duration": 4643,
    "start_time": "2022-02-22T11:25:57.944Z"
   },
   {
    "duration": 4636,
    "start_time": "2022-02-22T11:25:57.953Z"
   },
   {
    "duration": 4624,
    "start_time": "2022-02-22T11:25:57.967Z"
   },
   {
    "duration": 4620,
    "start_time": "2022-02-22T11:25:57.973Z"
   },
   {
    "duration": 4616,
    "start_time": "2022-02-22T11:25:57.979Z"
   },
   {
    "duration": 4613,
    "start_time": "2022-02-22T11:25:57.984Z"
   },
   {
    "duration": 4611,
    "start_time": "2022-02-22T11:25:57.989Z"
   },
   {
    "duration": 4605,
    "start_time": "2022-02-22T11:25:57.997Z"
   },
   {
    "duration": 4603,
    "start_time": "2022-02-22T11:25:58.001Z"
   },
   {
    "duration": 4641,
    "start_time": "2022-02-22T11:25:58.006Z"
   },
   {
    "duration": 4639,
    "start_time": "2022-02-22T11:25:58.011Z"
   },
   {
    "duration": 4626,
    "start_time": "2022-02-22T11:25:58.026Z"
   },
   {
    "duration": 4621,
    "start_time": "2022-02-22T11:25:58.033Z"
   },
   {
    "duration": 4619,
    "start_time": "2022-02-22T11:25:58.038Z"
   },
   {
    "duration": 8,
    "start_time": "2022-02-22T11:27:52.351Z"
   },
   {
    "duration": 85,
    "start_time": "2022-02-22T11:28:36.925Z"
   },
   {
    "duration": 54,
    "start_time": "2022-02-22T11:28:37.014Z"
   },
   {
    "duration": 22,
    "start_time": "2022-02-22T11:28:37.071Z"
   },
   {
    "duration": 14,
    "start_time": "2022-02-22T11:28:37.096Z"
   },
   {
    "duration": 78,
    "start_time": "2022-02-22T11:28:37.113Z"
   },
   {
    "duration": 58,
    "start_time": "2022-02-22T11:28:37.194Z"
   },
   {
    "duration": 30,
    "start_time": "2022-02-22T11:28:37.255Z"
   },
   {
    "duration": 16,
    "start_time": "2022-02-22T11:28:37.288Z"
   },
   {
    "duration": 36,
    "start_time": "2022-02-22T11:28:37.350Z"
   },
   {
    "duration": 18,
    "start_time": "2022-02-22T11:28:37.392Z"
   },
   {
    "duration": 34,
    "start_time": "2022-02-22T11:28:37.450Z"
   },
   {
    "duration": 94,
    "start_time": "2022-02-22T11:28:37.487Z"
   },
   {
    "duration": 10,
    "start_time": "2022-02-22T11:28:37.585Z"
   },
   {
    "duration": 9,
    "start_time": "2022-02-22T11:28:37.599Z"
   },
   {
    "duration": 40,
    "start_time": "2022-02-22T11:28:37.612Z"
   },
   {
    "duration": 18,
    "start_time": "2022-02-22T11:28:37.656Z"
   },
   {
    "duration": 41,
    "start_time": "2022-02-22T11:28:37.677Z"
   },
   {
    "duration": 70,
    "start_time": "2022-02-22T11:28:37.750Z"
   },
   {
    "duration": 33,
    "start_time": "2022-02-22T11:28:37.823Z"
   },
   {
    "duration": 20,
    "start_time": "2022-02-22T11:28:37.859Z"
   },
   {
    "duration": 18,
    "start_time": "2022-02-22T11:28:37.882Z"
   },
   {
    "duration": 46,
    "start_time": "2022-02-22T11:28:37.904Z"
   },
   {
    "duration": 20,
    "start_time": "2022-02-22T11:28:37.954Z"
   },
   {
    "duration": 18,
    "start_time": "2022-02-22T11:28:37.977Z"
   },
   {
    "duration": 50,
    "start_time": "2022-02-22T11:28:37.998Z"
   },
   {
    "duration": 10,
    "start_time": "2022-02-22T11:28:38.051Z"
   },
   {
    "duration": 22,
    "start_time": "2022-02-22T11:28:38.066Z"
   },
   {
    "duration": 59,
    "start_time": "2022-02-22T11:28:38.091Z"
   },
   {
    "duration": 10,
    "start_time": "2022-02-22T11:28:38.153Z"
   },
   {
    "duration": 46,
    "start_time": "2022-02-22T11:28:38.166Z"
   },
   {
    "duration": 57,
    "start_time": "2022-02-22T11:28:38.216Z"
   },
   {
    "duration": 90,
    "start_time": "2022-02-22T11:28:38.277Z"
   },
   {
    "duration": 8,
    "start_time": "2022-02-22T11:28:38.370Z"
   },
   {
    "duration": 10,
    "start_time": "2022-02-22T11:28:38.381Z"
   },
   {
    "duration": 11,
    "start_time": "2022-02-22T11:28:38.394Z"
   },
   {
    "duration": 12,
    "start_time": "2022-02-22T11:28:38.448Z"
   },
   {
    "duration": 19,
    "start_time": "2022-02-22T11:38:02.295Z"
   },
   {
    "duration": 7,
    "start_time": "2022-02-22T11:49:17.985Z"
   },
   {
    "duration": 10,
    "start_time": "2022-02-22T11:49:56.057Z"
   },
   {
    "duration": 302,
    "start_time": "2022-02-22T11:55:45.054Z"
   },
   {
    "duration": 240,
    "start_time": "2022-02-22T11:55:54.408Z"
   },
   {
    "duration": 8,
    "start_time": "2022-02-22T11:57:24.864Z"
   },
   {
    "duration": 115,
    "start_time": "2022-02-22T12:33:34.290Z"
   },
   {
    "duration": 6,
    "start_time": "2022-02-22T12:33:47.357Z"
   },
   {
    "duration": 24,
    "start_time": "2022-02-22T14:20:01.189Z"
   },
   {
    "duration": 6832,
    "start_time": "2022-02-22T14:22:11.953Z"
   },
   {
    "duration": 5231,
    "start_time": "2022-02-22T14:22:13.557Z"
   },
   {
    "duration": 69,
    "start_time": "2022-02-22T14:22:40.310Z"
   },
   {
    "duration": 20,
    "start_time": "2022-02-22T14:22:40.470Z"
   },
   {
    "duration": 14,
    "start_time": "2022-02-22T14:22:40.494Z"
   },
   {
    "duration": 6,
    "start_time": "2022-02-22T14:22:40.511Z"
   },
   {
    "duration": 48,
    "start_time": "2022-02-22T14:22:40.520Z"
   },
   {
    "duration": 30,
    "start_time": "2022-02-22T14:22:40.571Z"
   },
   {
    "duration": 62,
    "start_time": "2022-02-22T14:22:40.604Z"
   },
   {
    "duration": 15,
    "start_time": "2022-02-22T14:22:40.669Z"
   },
   {
    "duration": 66,
    "start_time": "2022-02-22T14:22:40.687Z"
   },
   {
    "duration": 18,
    "start_time": "2022-02-22T14:22:40.756Z"
   },
   {
    "duration": 81,
    "start_time": "2022-02-22T14:22:40.778Z"
   },
   {
    "duration": 85,
    "start_time": "2022-02-22T14:22:40.863Z"
   },
   {
    "duration": 7,
    "start_time": "2022-02-22T14:22:40.952Z"
   },
   {
    "duration": 9,
    "start_time": "2022-02-22T14:22:40.962Z"
   },
   {
    "duration": 12,
    "start_time": "2022-02-22T14:22:40.974Z"
   },
   {
    "duration": 60,
    "start_time": "2022-02-22T14:22:40.988Z"
   },
   {
    "duration": 12,
    "start_time": "2022-02-22T14:22:41.052Z"
   },
   {
    "duration": 23,
    "start_time": "2022-02-22T14:22:41.068Z"
   },
   {
    "duration": 54,
    "start_time": "2022-02-22T14:22:41.095Z"
   },
   {
    "duration": 14,
    "start_time": "2022-02-22T14:22:41.152Z"
   },
   {
    "duration": 19,
    "start_time": "2022-02-22T14:22:41.169Z"
   },
   {
    "duration": 59,
    "start_time": "2022-02-22T14:22:41.191Z"
   },
   {
    "duration": 11,
    "start_time": "2022-02-22T14:22:41.253Z"
   },
   {
    "duration": 20,
    "start_time": "2022-02-22T14:22:41.266Z"
   },
   {
    "duration": 13,
    "start_time": "2022-02-22T14:22:41.289Z"
   },
   {
    "duration": 57,
    "start_time": "2022-02-22T14:22:41.304Z"
   },
   {
    "duration": 9,
    "start_time": "2022-02-22T14:22:41.364Z"
   },
   {
    "duration": 10,
    "start_time": "2022-02-22T14:22:41.375Z"
   },
   {
    "duration": 19,
    "start_time": "2022-02-22T14:22:41.388Z"
   },
   {
    "duration": 52,
    "start_time": "2022-02-22T14:22:41.409Z"
   },
   {
    "duration": 19,
    "start_time": "2022-02-22T14:22:41.464Z"
   },
   {
    "duration": 13,
    "start_time": "2022-02-22T14:22:41.486Z"
   },
   {
    "duration": 43,
    "start_time": "2022-02-22T14:22:41.505Z"
   },
   {
    "duration": 4,
    "start_time": "2022-02-22T14:22:41.557Z"
   },
   {
    "duration": 8,
    "start_time": "2022-02-22T14:22:42.055Z"
   },
   {
    "duration": 20,
    "start_time": "2022-02-22T14:22:42.066Z"
   },
   {
    "duration": 12,
    "start_time": "2022-02-22T14:23:39.486Z"
   },
   {
    "duration": 6462,
    "start_time": "2022-02-22T14:41:14.480Z"
   },
   {
    "duration": 6115,
    "start_time": "2022-02-22T14:41:22.185Z"
   },
   {
    "duration": 72,
    "start_time": "2022-02-22T14:42:18.261Z"
   },
   {
    "duration": 20,
    "start_time": "2022-02-22T14:42:18.349Z"
   },
   {
    "duration": 14,
    "start_time": "2022-02-22T14:42:18.372Z"
   },
   {
    "duration": 4,
    "start_time": "2022-02-22T14:42:18.389Z"
   },
   {
    "duration": 73,
    "start_time": "2022-02-22T14:42:18.396Z"
   },
   {
    "duration": 26,
    "start_time": "2022-02-22T14:42:18.471Z"
   },
   {
    "duration": 59,
    "start_time": "2022-02-22T14:42:18.499Z"
   },
   {
    "duration": 16,
    "start_time": "2022-02-22T14:42:18.560Z"
   },
   {
    "duration": 67,
    "start_time": "2022-02-22T14:42:18.581Z"
   },
   {
    "duration": 14,
    "start_time": "2022-02-22T14:42:18.652Z"
   },
   {
    "duration": 31,
    "start_time": "2022-02-22T14:42:18.669Z"
   },
   {
    "duration": 82,
    "start_time": "2022-02-22T14:42:18.702Z"
   },
   {
    "duration": 7,
    "start_time": "2022-02-22T14:42:18.787Z"
   },
   {
    "duration": 6,
    "start_time": "2022-02-22T14:42:18.797Z"
   },
   {
    "duration": 43,
    "start_time": "2022-02-22T14:42:18.806Z"
   },
   {
    "duration": 12,
    "start_time": "2022-02-22T14:42:18.851Z"
   },
   {
    "duration": 8,
    "start_time": "2022-02-22T14:42:18.866Z"
   },
   {
    "duration": 14,
    "start_time": "2022-02-22T14:42:18.876Z"
   },
   {
    "duration": 64,
    "start_time": "2022-02-22T14:42:18.893Z"
   },
   {
    "duration": 9,
    "start_time": "2022-02-22T14:42:18.960Z"
   },
   {
    "duration": 10,
    "start_time": "2022-02-22T14:42:18.971Z"
   },
   {
    "duration": 9,
    "start_time": "2022-02-22T14:42:18.984Z"
   },
   {
    "duration": 60,
    "start_time": "2022-02-22T14:42:18.996Z"
   },
   {
    "duration": 18,
    "start_time": "2022-02-22T14:42:19.059Z"
   },
   {
    "duration": 18,
    "start_time": "2022-02-22T14:42:19.080Z"
   },
   {
    "duration": 49,
    "start_time": "2022-02-22T14:42:19.101Z"
   },
   {
    "duration": 11,
    "start_time": "2022-02-22T14:42:19.158Z"
   },
   {
    "duration": 13,
    "start_time": "2022-02-22T14:42:19.173Z"
   },
   {
    "duration": 10,
    "start_time": "2022-02-22T14:42:19.189Z"
   },
   {
    "duration": 60,
    "start_time": "2022-02-22T14:42:19.202Z"
   },
   {
    "duration": 22,
    "start_time": "2022-02-22T14:42:19.266Z"
   },
   {
    "duration": 6,
    "start_time": "2022-02-22T14:42:19.291Z"
   },
   {
    "duration": 50,
    "start_time": "2022-02-22T14:42:19.299Z"
   },
   {
    "duration": 5,
    "start_time": "2022-02-22T14:42:19.351Z"
   },
   {
    "duration": 9,
    "start_time": "2022-02-22T14:42:19.359Z"
   },
   {
    "duration": 8,
    "start_time": "2022-02-22T14:42:19.370Z"
   },
   {
    "duration": 6438,
    "start_time": "2022-02-22T14:42:19.381Z"
   },
   {
    "duration": 6981,
    "start_time": "2022-02-22T14:44:33.664Z"
   },
   {
    "duration": 17,
    "start_time": "2022-02-22T14:45:01.700Z"
   },
   {
    "duration": 243,
    "start_time": "2022-02-22T14:46:18.218Z"
   },
   {
    "duration": 244,
    "start_time": "2022-02-22T14:46:31.236Z"
   },
   {
    "duration": 427,
    "start_time": "2022-02-22T14:48:07.461Z"
   },
   {
    "duration": 12,
    "start_time": "2022-02-22T14:48:17.338Z"
   },
   {
    "duration": 16,
    "start_time": "2022-02-22T15:05:26.888Z"
   },
   {
    "duration": 73,
    "start_time": "2022-02-22T15:05:34.941Z"
   },
   {
    "duration": 20,
    "start_time": "2022-02-22T15:05:35.049Z"
   },
   {
    "duration": 19,
    "start_time": "2022-02-22T15:05:35.073Z"
   },
   {
    "duration": 6,
    "start_time": "2022-02-22T15:05:35.095Z"
   },
   {
    "duration": 64,
    "start_time": "2022-02-22T15:05:35.103Z"
   },
   {
    "duration": 26,
    "start_time": "2022-02-22T15:05:35.170Z"
   },
   {
    "duration": 68,
    "start_time": "2022-02-22T15:05:35.199Z"
   },
   {
    "duration": 16,
    "start_time": "2022-02-22T15:05:35.271Z"
   },
   {
    "duration": 76,
    "start_time": "2022-02-22T15:05:35.290Z"
   },
   {
    "duration": 20,
    "start_time": "2022-02-22T15:05:35.369Z"
   },
   {
    "duration": 60,
    "start_time": "2022-02-22T15:05:35.392Z"
   },
   {
    "duration": 49,
    "start_time": "2022-02-22T15:05:35.455Z"
   },
   {
    "duration": 8,
    "start_time": "2022-02-22T15:05:35.507Z"
   },
   {
    "duration": 6,
    "start_time": "2022-02-22T15:05:35.550Z"
   },
   {
    "duration": 10,
    "start_time": "2022-02-22T15:05:35.559Z"
   },
   {
    "duration": 18,
    "start_time": "2022-02-22T15:05:35.571Z"
   },
   {
    "duration": 15,
    "start_time": "2022-02-22T15:05:35.592Z"
   },
   {
    "duration": 54,
    "start_time": "2022-02-22T15:05:35.610Z"
   },
   {
    "duration": 13,
    "start_time": "2022-02-22T15:05:35.667Z"
   },
   {
    "duration": 16,
    "start_time": "2022-02-22T15:05:35.682Z"
   },
   {
    "duration": 50,
    "start_time": "2022-02-22T15:05:35.700Z"
   },
   {
    "duration": 9,
    "start_time": "2022-02-22T15:05:35.752Z"
   },
   {
    "duration": 11,
    "start_time": "2022-02-22T15:05:35.766Z"
   },
   {
    "duration": 21,
    "start_time": "2022-02-22T15:05:35.779Z"
   },
   {
    "duration": 54,
    "start_time": "2022-02-22T15:05:35.803Z"
   },
   {
    "duration": 11,
    "start_time": "2022-02-22T15:05:35.860Z"
   },
   {
    "duration": 11,
    "start_time": "2022-02-22T15:05:35.874Z"
   },
   {
    "duration": 19,
    "start_time": "2022-02-22T15:05:35.887Z"
   },
   {
    "duration": 46,
    "start_time": "2022-02-22T15:05:35.909Z"
   },
   {
    "duration": 24,
    "start_time": "2022-02-22T15:05:35.957Z"
   },
   {
    "duration": 25,
    "start_time": "2022-02-22T15:05:35.983Z"
   },
   {
    "duration": 8,
    "start_time": "2022-02-22T15:05:36.011Z"
   },
   {
    "duration": 32,
    "start_time": "2022-02-22T15:05:36.021Z"
   },
   {
    "duration": 5,
    "start_time": "2022-02-22T15:05:36.055Z"
   },
   {
    "duration": 11,
    "start_time": "2022-02-22T15:05:36.063Z"
   },
   {
    "duration": 9,
    "start_time": "2022-02-22T15:05:36.077Z"
   },
   {
    "duration": 59,
    "start_time": "2022-02-22T15:05:36.089Z"
   },
   {
    "duration": 10,
    "start_time": "2022-02-22T15:05:36.151Z"
   },
   {
    "duration": 130,
    "start_time": "2022-02-22T15:05:36.164Z"
   },
   {
    "duration": 14,
    "start_time": "2022-02-22T15:07:30.102Z"
   },
   {
    "duration": 11,
    "start_time": "2022-02-22T15:07:38.257Z"
   },
   {
    "duration": 71,
    "start_time": "2022-02-22T15:07:49.774Z"
   },
   {
    "duration": 19,
    "start_time": "2022-02-22T15:07:49.848Z"
   },
   {
    "duration": 26,
    "start_time": "2022-02-22T15:07:49.871Z"
   },
   {
    "duration": 5,
    "start_time": "2022-02-22T15:07:49.901Z"
   },
   {
    "duration": 61,
    "start_time": "2022-02-22T15:07:49.909Z"
   },
   {
    "duration": 28,
    "start_time": "2022-02-22T15:07:49.973Z"
   },
   {
    "duration": 59,
    "start_time": "2022-02-22T15:07:50.003Z"
   },
   {
    "duration": 18,
    "start_time": "2022-02-22T15:07:50.065Z"
   },
   {
    "duration": 78,
    "start_time": "2022-02-22T15:07:50.088Z"
   },
   {
    "duration": 14,
    "start_time": "2022-02-22T15:07:50.170Z"
   },
   {
    "duration": 64,
    "start_time": "2022-02-22T15:07:50.186Z"
   },
   {
    "duration": 52,
    "start_time": "2022-02-22T15:07:50.254Z"
   },
   {
    "duration": 8,
    "start_time": "2022-02-22T15:07:50.308Z"
   },
   {
    "duration": 7,
    "start_time": "2022-02-22T15:07:50.349Z"
   },
   {
    "duration": 8,
    "start_time": "2022-02-22T15:07:50.358Z"
   },
   {
    "duration": 17,
    "start_time": "2022-02-22T15:07:50.369Z"
   },
   {
    "duration": 18,
    "start_time": "2022-02-22T15:07:50.389Z"
   },
   {
    "duration": 16,
    "start_time": "2022-02-22T15:07:50.448Z"
   },
   {
    "duration": 13,
    "start_time": "2022-02-22T15:07:50.466Z"
   },
   {
    "duration": 11,
    "start_time": "2022-02-22T15:07:50.482Z"
   },
   {
    "duration": 55,
    "start_time": "2022-02-22T15:07:50.496Z"
   },
   {
    "duration": 15,
    "start_time": "2022-02-22T15:07:50.554Z"
   },
   {
    "duration": 14,
    "start_time": "2022-02-22T15:07:50.571Z"
   },
   {
    "duration": 20,
    "start_time": "2022-02-22T15:07:50.588Z"
   },
   {
    "duration": 47,
    "start_time": "2022-02-22T15:07:50.611Z"
   },
   {
    "duration": 16,
    "start_time": "2022-02-22T15:07:50.660Z"
   },
   {
    "duration": 8,
    "start_time": "2022-02-22T15:07:50.682Z"
   },
   {
    "duration": 10,
    "start_time": "2022-02-22T15:07:50.693Z"
   },
   {
    "duration": 8,
    "start_time": "2022-02-22T15:07:50.749Z"
   },
   {
    "duration": 27,
    "start_time": "2022-02-22T15:07:50.759Z"
   },
   {
    "duration": 17,
    "start_time": "2022-02-22T15:07:50.788Z"
   },
   {
    "duration": 40,
    "start_time": "2022-02-22T15:07:50.808Z"
   },
   {
    "duration": 17,
    "start_time": "2022-02-22T15:07:50.851Z"
   },
   {
    "duration": 21,
    "start_time": "2022-02-22T15:07:50.871Z"
   },
   {
    "duration": 11,
    "start_time": "2022-02-22T15:07:50.894Z"
   },
   {
    "duration": 7,
    "start_time": "2022-02-22T15:07:50.907Z"
   },
   {
    "duration": 42,
    "start_time": "2022-02-22T15:07:50.917Z"
   },
   {
    "duration": 11,
    "start_time": "2022-02-22T15:07:50.961Z"
   },
   {
    "duration": 1197,
    "start_time": "2022-02-22T15:24:18.248Z"
   },
   {
    "duration": 14,
    "start_time": "2022-02-22T15:24:53.742Z"
   },
   {
    "duration": 10,
    "start_time": "2022-02-22T15:25:37.002Z"
   },
   {
    "duration": 16,
    "start_time": "2022-02-22T15:28:44.622Z"
   },
   {
    "duration": 11,
    "start_time": "2022-02-22T15:28:49.141Z"
   },
   {
    "duration": 245,
    "start_time": "2022-02-22T16:01:44.530Z"
   },
   {
    "duration": 264,
    "start_time": "2022-02-22T16:09:06.596Z"
   },
   {
    "duration": 252,
    "start_time": "2022-02-22T16:09:20.848Z"
   },
   {
    "duration": 248,
    "start_time": "2022-02-22T16:09:35.936Z"
   },
   {
    "duration": 77,
    "start_time": "2022-02-22T16:09:50.151Z"
   },
   {
    "duration": 19,
    "start_time": "2022-02-22T16:09:50.231Z"
   },
   {
    "duration": 15,
    "start_time": "2022-02-22T16:09:50.253Z"
   },
   {
    "duration": 4,
    "start_time": "2022-02-22T16:09:50.271Z"
   },
   {
    "duration": 25,
    "start_time": "2022-02-22T16:09:50.362Z"
   },
   {
    "duration": 25,
    "start_time": "2022-02-22T16:09:50.390Z"
   },
   {
    "duration": 51,
    "start_time": "2022-02-22T16:09:50.417Z"
   },
   {
    "duration": 19,
    "start_time": "2022-02-22T16:09:50.472Z"
   },
   {
    "duration": 79,
    "start_time": "2022-02-22T16:09:50.494Z"
   },
   {
    "duration": 16,
    "start_time": "2022-02-22T16:09:50.577Z"
   },
   {
    "duration": 79,
    "start_time": "2022-02-22T16:09:50.596Z"
   },
   {
    "duration": 44,
    "start_time": "2022-02-22T16:09:50.678Z"
   },
   {
    "duration": 29,
    "start_time": "2022-02-22T16:09:50.724Z"
   },
   {
    "duration": 6,
    "start_time": "2022-02-22T16:09:50.755Z"
   },
   {
    "duration": 11,
    "start_time": "2022-02-22T16:09:50.763Z"
   },
   {
    "duration": 15,
    "start_time": "2022-02-22T16:09:50.776Z"
   },
   {
    "duration": 57,
    "start_time": "2022-02-22T16:09:50.794Z"
   },
   {
    "duration": 15,
    "start_time": "2022-02-22T16:09:50.856Z"
   },
   {
    "duration": 12,
    "start_time": "2022-02-22T16:09:50.874Z"
   },
   {
    "duration": 13,
    "start_time": "2022-02-22T16:09:50.888Z"
   },
   {
    "duration": 52,
    "start_time": "2022-02-22T16:09:50.903Z"
   },
   {
    "duration": 9,
    "start_time": "2022-02-22T16:09:50.958Z"
   },
   {
    "duration": 9,
    "start_time": "2022-02-22T16:09:50.969Z"
   },
   {
    "duration": 20,
    "start_time": "2022-02-22T16:09:50.981Z"
   },
   {
    "duration": 53,
    "start_time": "2022-02-22T16:09:51.004Z"
   },
   {
    "duration": 17,
    "start_time": "2022-02-22T16:09:51.060Z"
   },
   {
    "duration": 15,
    "start_time": "2022-02-22T16:09:51.079Z"
   },
   {
    "duration": 9,
    "start_time": "2022-02-22T16:09:51.097Z"
   },
   {
    "duration": 41,
    "start_time": "2022-02-22T16:09:51.108Z"
   },
   {
    "duration": 12,
    "start_time": "2022-02-22T16:09:51.152Z"
   },
   {
    "duration": 19,
    "start_time": "2022-02-22T16:09:51.167Z"
   },
   {
    "duration": 9,
    "start_time": "2022-02-22T16:09:51.188Z"
   },
   {
    "duration": 53,
    "start_time": "2022-02-22T16:09:51.200Z"
   },
   {
    "duration": 7,
    "start_time": "2022-02-22T16:09:51.256Z"
   },
   {
    "duration": 8,
    "start_time": "2022-02-22T16:09:51.266Z"
   },
   {
    "duration": 8,
    "start_time": "2022-02-22T16:09:51.277Z"
   },
   {
    "duration": 11,
    "start_time": "2022-02-22T16:09:51.288Z"
   },
   {
    "duration": 57,
    "start_time": "2022-02-22T16:09:51.301Z"
   },
   {
    "duration": 15,
    "start_time": "2022-02-22T16:09:51.361Z"
   },
   {
    "duration": 19,
    "start_time": "2022-02-22T16:09:51.379Z"
   },
   {
    "duration": 19,
    "start_time": "2022-02-22T16:09:51.400Z"
   },
   {
    "duration": 585,
    "start_time": "2022-02-22T16:14:26.133Z"
   },
   {
    "duration": 74,
    "start_time": "2022-02-22T16:14:51.297Z"
   },
   {
    "duration": 18,
    "start_time": "2022-02-22T16:14:51.374Z"
   },
   {
    "duration": 53,
    "start_time": "2022-02-22T16:14:51.395Z"
   },
   {
    "duration": 5,
    "start_time": "2022-02-22T16:14:51.451Z"
   },
   {
    "duration": 26,
    "start_time": "2022-02-22T16:14:51.459Z"
   },
   {
    "duration": 67,
    "start_time": "2022-02-22T16:14:51.488Z"
   },
   {
    "duration": 25,
    "start_time": "2022-02-22T16:14:51.558Z"
   },
   {
    "duration": 14,
    "start_time": "2022-02-22T16:14:51.587Z"
   },
   {
    "duration": 68,
    "start_time": "2022-02-22T16:14:51.604Z"
   },
   {
    "duration": 16,
    "start_time": "2022-02-22T16:14:51.674Z"
   },
   {
    "duration": 64,
    "start_time": "2022-02-22T16:14:51.693Z"
   },
   {
    "duration": 46,
    "start_time": "2022-02-22T16:14:51.759Z"
   },
   {
    "duration": 7,
    "start_time": "2022-02-22T16:14:51.808Z"
   },
   {
    "duration": 6,
    "start_time": "2022-02-22T16:14:51.848Z"
   },
   {
    "duration": 7,
    "start_time": "2022-02-22T16:14:51.856Z"
   },
   {
    "duration": 11,
    "start_time": "2022-02-22T16:14:51.866Z"
   },
   {
    "duration": 9,
    "start_time": "2022-02-22T16:14:51.880Z"
   },
   {
    "duration": 63,
    "start_time": "2022-02-22T16:14:51.891Z"
   },
   {
    "duration": 11,
    "start_time": "2022-02-22T16:14:51.957Z"
   },
   {
    "duration": 11,
    "start_time": "2022-02-22T16:14:51.971Z"
   },
   {
    "duration": 10,
    "start_time": "2022-02-22T16:14:51.984Z"
   },
   {
    "duration": 58,
    "start_time": "2022-02-22T16:14:51.997Z"
   },
   {
    "duration": 10,
    "start_time": "2022-02-22T16:14:52.061Z"
   },
   {
    "duration": 18,
    "start_time": "2022-02-22T16:14:52.074Z"
   },
   {
    "duration": 19,
    "start_time": "2022-02-22T16:14:52.094Z"
   },
   {
    "duration": 11,
    "start_time": "2022-02-22T16:14:52.150Z"
   },
   {
    "duration": 13,
    "start_time": "2022-02-22T16:14:52.164Z"
   },
   {
    "duration": 9,
    "start_time": "2022-02-22T16:14:52.180Z"
   },
   {
    "duration": 66,
    "start_time": "2022-02-22T16:14:52.191Z"
   },
   {
    "duration": 14,
    "start_time": "2022-02-22T16:14:52.260Z"
   },
   {
    "duration": 21,
    "start_time": "2022-02-22T16:14:52.277Z"
   },
   {
    "duration": 6,
    "start_time": "2022-02-22T16:14:52.300Z"
   },
   {
    "duration": 16,
    "start_time": "2022-02-22T16:14:52.350Z"
   },
   {
    "duration": 8,
    "start_time": "2022-02-22T16:14:52.369Z"
   },
   {
    "duration": 8,
    "start_time": "2022-02-22T16:14:52.380Z"
   },
   {
    "duration": 107,
    "start_time": "2022-02-22T16:14:52.390Z"
   },
   {
    "duration": 8,
    "start_time": "2022-02-22T16:14:52.499Z"
   },
   {
    "duration": 335,
    "start_time": "2022-02-23T10:26:05.133Z"
   },
   {
    "duration": 78,
    "start_time": "2022-02-23T10:27:18.716Z"
   },
   {
    "duration": 253,
    "start_time": "2022-02-23T10:27:49.684Z"
   },
   {
    "duration": 72,
    "start_time": "2022-02-23T10:27:57.940Z"
   },
   {
    "duration": 48,
    "start_time": "2022-02-23T10:27:58.015Z"
   },
   {
    "duration": 21,
    "start_time": "2022-02-23T10:27:58.067Z"
   },
   {
    "duration": 14,
    "start_time": "2022-02-23T10:27:58.092Z"
   },
   {
    "duration": 71,
    "start_time": "2022-02-23T10:27:58.109Z"
   },
   {
    "duration": 66,
    "start_time": "2022-02-23T10:27:58.183Z"
   },
   {
    "duration": 35,
    "start_time": "2022-02-23T10:27:58.253Z"
   },
   {
    "duration": 55,
    "start_time": "2022-02-23T10:27:58.294Z"
   },
   {
    "duration": 33,
    "start_time": "2022-02-23T10:27:58.353Z"
   },
   {
    "duration": 18,
    "start_time": "2022-02-23T10:27:58.389Z"
   },
   {
    "duration": 32,
    "start_time": "2022-02-23T10:27:58.450Z"
   },
   {
    "duration": 104,
    "start_time": "2022-02-23T10:27:58.485Z"
   },
   {
    "duration": 10,
    "start_time": "2022-02-23T10:27:58.593Z"
   },
   {
    "duration": 42,
    "start_time": "2022-02-23T10:27:58.607Z"
   },
   {
    "duration": 7,
    "start_time": "2022-02-23T10:27:58.653Z"
   },
   {
    "duration": 24,
    "start_time": "2022-02-23T10:27:58.663Z"
   },
   {
    "duration": 26,
    "start_time": "2022-02-23T10:27:58.690Z"
   },
   {
    "duration": 43,
    "start_time": "2022-02-23T10:27:58.719Z"
   },
   {
    "duration": 16,
    "start_time": "2022-02-23T10:27:58.766Z"
   },
   {
    "duration": 12,
    "start_time": "2022-02-23T10:27:58.785Z"
   },
   {
    "duration": 56,
    "start_time": "2022-02-23T10:27:58.800Z"
   },
   {
    "duration": 8,
    "start_time": "2022-02-23T10:27:58.860Z"
   },
   {
    "duration": 12,
    "start_time": "2022-02-23T10:27:58.875Z"
   },
   {
    "duration": 75,
    "start_time": "2022-02-23T10:27:58.890Z"
   },
   {
    "duration": 15,
    "start_time": "2022-02-23T10:27:58.968Z"
   },
   {
    "duration": 16,
    "start_time": "2022-02-23T10:27:58.987Z"
   },
   {
    "duration": 47,
    "start_time": "2022-02-23T10:27:59.005Z"
   },
   {
    "duration": 11,
    "start_time": "2022-02-23T10:27:59.056Z"
   },
   {
    "duration": 16,
    "start_time": "2022-02-23T10:27:59.069Z"
   },
   {
    "duration": 11,
    "start_time": "2022-02-23T10:27:59.088Z"
   },
   {
    "duration": 57,
    "start_time": "2022-02-23T10:27:59.101Z"
   },
   {
    "duration": 6,
    "start_time": "2022-02-23T10:27:59.160Z"
   },
   {
    "duration": 13,
    "start_time": "2022-02-23T10:27:59.169Z"
   },
   {
    "duration": 7,
    "start_time": "2022-02-23T10:27:59.184Z"
   },
   {
    "duration": 11,
    "start_time": "2022-02-23T10:27:59.250Z"
   },
   {
    "duration": 19,
    "start_time": "2022-02-23T10:27:59.263Z"
   },
   {
    "duration": 5,
    "start_time": "2022-02-23T10:27:59.285Z"
   },
   {
    "duration": 67,
    "start_time": "2022-02-23T10:27:59.292Z"
   },
   {
    "duration": 25,
    "start_time": "2022-02-23T10:27:59.363Z"
   },
   {
    "duration": 25,
    "start_time": "2022-02-23T10:27:59.391Z"
   },
   {
    "duration": 33,
    "start_time": "2022-02-23T10:27:59.420Z"
   },
   {
    "duration": 316,
    "start_time": "2022-02-23T10:27:59.457Z"
   },
   {
    "duration": 252,
    "start_time": "2022-02-23T10:35:07.906Z"
   },
   {
    "duration": 8,
    "start_time": "2022-02-23T10:37:16.061Z"
   },
   {
    "duration": 354,
    "start_time": "2022-02-23T10:55:14.302Z"
   },
   {
    "duration": 70,
    "start_time": "2022-02-23T11:02:54.019Z"
   },
   {
    "duration": 17,
    "start_time": "2022-02-23T11:02:54.100Z"
   },
   {
    "duration": 42,
    "start_time": "2022-02-23T11:02:54.121Z"
   },
   {
    "duration": 6,
    "start_time": "2022-02-23T11:02:54.167Z"
   },
   {
    "duration": 30,
    "start_time": "2022-02-23T11:02:54.176Z"
   },
   {
    "duration": 73,
    "start_time": "2022-02-23T11:02:54.209Z"
   },
   {
    "duration": 63,
    "start_time": "2022-02-23T11:02:54.285Z"
   },
   {
    "duration": 15,
    "start_time": "2022-02-23T11:02:54.352Z"
   },
   {
    "duration": 41,
    "start_time": "2022-02-23T11:02:54.370Z"
   },
   {
    "duration": 46,
    "start_time": "2022-02-23T11:02:54.414Z"
   },
   {
    "duration": 31,
    "start_time": "2022-02-23T11:02:54.463Z"
   },
   {
    "duration": 79,
    "start_time": "2022-02-23T11:02:54.497Z"
   },
   {
    "duration": 8,
    "start_time": "2022-02-23T11:02:54.578Z"
   },
   {
    "duration": 6,
    "start_time": "2022-02-23T11:02:54.589Z"
   },
   {
    "duration": 10,
    "start_time": "2022-02-23T11:02:54.597Z"
   },
   {
    "duration": 47,
    "start_time": "2022-02-23T11:02:54.610Z"
   },
   {
    "duration": 12,
    "start_time": "2022-02-23T11:02:54.659Z"
   },
   {
    "duration": 15,
    "start_time": "2022-02-23T11:02:54.674Z"
   },
   {
    "duration": 11,
    "start_time": "2022-02-23T11:02:54.692Z"
   },
   {
    "duration": 49,
    "start_time": "2022-02-23T11:02:54.706Z"
   },
   {
    "duration": 12,
    "start_time": "2022-02-23T11:02:54.758Z"
   },
   {
    "duration": 11,
    "start_time": "2022-02-23T11:02:54.772Z"
   },
   {
    "duration": 10,
    "start_time": "2022-02-23T11:02:54.789Z"
   },
   {
    "duration": 58,
    "start_time": "2022-02-23T11:02:54.802Z"
   },
   {
    "duration": 13,
    "start_time": "2022-02-23T11:02:54.862Z"
   },
   {
    "duration": 9,
    "start_time": "2022-02-23T11:02:54.878Z"
   },
   {
    "duration": 8,
    "start_time": "2022-02-23T11:02:54.890Z"
   },
   {
    "duration": 54,
    "start_time": "2022-02-23T11:02:54.901Z"
   },
   {
    "duration": 11,
    "start_time": "2022-02-23T11:02:54.958Z"
   },
   {
    "duration": 12,
    "start_time": "2022-02-23T11:02:54.971Z"
   },
   {
    "duration": 18,
    "start_time": "2022-02-23T11:02:54.986Z"
   },
   {
    "duration": 45,
    "start_time": "2022-02-23T11:02:55.007Z"
   },
   {
    "duration": 17,
    "start_time": "2022-02-23T11:02:55.055Z"
   },
   {
    "duration": 8,
    "start_time": "2022-02-23T11:02:55.074Z"
   },
   {
    "duration": 8,
    "start_time": "2022-02-23T11:02:55.085Z"
   },
   {
    "duration": 54,
    "start_time": "2022-02-23T11:02:55.095Z"
   },
   {
    "duration": 6,
    "start_time": "2022-02-23T11:02:55.151Z"
   },
   {
    "duration": 19,
    "start_time": "2022-02-23T11:02:55.159Z"
   },
   {
    "duration": 10,
    "start_time": "2022-02-23T11:02:55.180Z"
   },
   {
    "duration": 56,
    "start_time": "2022-02-23T11:02:55.193Z"
   },
   {
    "duration": 10,
    "start_time": "2022-02-23T11:02:55.251Z"
   },
   {
    "duration": 11,
    "start_time": "2022-02-23T11:02:55.264Z"
   },
   {
    "duration": 275,
    "start_time": "2022-02-23T11:02:55.278Z"
   },
   {
    "duration": 8505,
    "start_time": "2022-02-23T11:11:54.214Z"
   },
   {
    "duration": 15,
    "start_time": "2022-02-23T11:16:28.951Z"
   },
   {
    "duration": 1735,
    "start_time": "2022-02-23T11:17:05.775Z"
   },
   {
    "duration": 17,
    "start_time": "2022-02-23T11:17:20.454Z"
   },
   {
    "duration": 25,
    "start_time": "2022-02-23T11:17:38.607Z"
   },
   {
    "duration": 27,
    "start_time": "2022-02-23T11:18:18.535Z"
   },
   {
    "duration": 31,
    "start_time": "2022-02-23T11:23:09.372Z"
   },
   {
    "duration": 17,
    "start_time": "2022-02-23T11:59:39.230Z"
   },
   {
    "duration": 12,
    "start_time": "2022-02-23T12:00:42.588Z"
   },
   {
    "duration": 17,
    "start_time": "2022-02-23T12:02:31.773Z"
   },
   {
    "duration": 21,
    "start_time": "2022-02-23T12:07:29.914Z"
   },
   {
    "duration": 340,
    "start_time": "2022-02-23T15:03:25.521Z"
   },
   {
    "duration": 2411,
    "start_time": "2022-02-23T15:03:36.521Z"
   },
   {
    "duration": 16,
    "start_time": "2022-02-23T15:03:38.934Z"
   },
   {
    "duration": 8,
    "start_time": "2022-02-23T15:03:38.952Z"
   },
   {
    "duration": 5,
    "start_time": "2022-02-23T15:03:38.962Z"
   },
   {
    "duration": 15,
    "start_time": "2022-02-23T15:03:38.969Z"
   },
   {
    "duration": 15,
    "start_time": "2022-02-23T15:03:38.985Z"
   },
   {
    "duration": 13,
    "start_time": "2022-02-23T15:03:39.001Z"
   },
   {
    "duration": 35,
    "start_time": "2022-02-23T15:03:39.017Z"
   },
   {
    "duration": 22,
    "start_time": "2022-02-23T15:03:39.054Z"
   },
   {
    "duration": 9,
    "start_time": "2022-02-23T15:03:39.078Z"
   },
   {
    "duration": 21,
    "start_time": "2022-02-23T15:03:39.089Z"
   },
   {
    "duration": 49,
    "start_time": "2022-02-23T15:03:39.111Z"
   },
   {
    "duration": 6,
    "start_time": "2022-02-23T15:03:39.162Z"
   },
   {
    "duration": 5,
    "start_time": "2022-02-23T15:03:39.170Z"
   },
   {
    "duration": 6,
    "start_time": "2022-02-23T15:03:39.176Z"
   },
   {
    "duration": 8,
    "start_time": "2022-02-23T15:03:39.183Z"
   },
   {
    "duration": 11,
    "start_time": "2022-02-23T15:03:39.193Z"
   },
   {
    "duration": 18,
    "start_time": "2022-02-23T15:03:39.205Z"
   },
   {
    "duration": 24,
    "start_time": "2022-02-23T15:03:39.225Z"
   },
   {
    "duration": 4,
    "start_time": "2022-02-23T15:03:39.250Z"
   },
   {
    "duration": 10,
    "start_time": "2022-02-23T15:03:39.255Z"
   },
   {
    "duration": 7,
    "start_time": "2022-02-23T15:03:39.266Z"
   },
   {
    "duration": 6,
    "start_time": "2022-02-23T15:03:39.276Z"
   },
   {
    "duration": 10,
    "start_time": "2022-02-23T15:03:39.284Z"
   },
   {
    "duration": 31,
    "start_time": "2022-02-23T15:03:39.295Z"
   },
   {
    "duration": 8,
    "start_time": "2022-02-23T15:03:39.328Z"
   },
   {
    "duration": 8,
    "start_time": "2022-02-23T15:03:39.338Z"
   },
   {
    "duration": 8,
    "start_time": "2022-02-23T15:03:39.348Z"
   },
   {
    "duration": 6,
    "start_time": "2022-02-23T15:03:39.358Z"
   },
   {
    "duration": 11,
    "start_time": "2022-02-23T15:03:39.365Z"
   },
   {
    "duration": 11,
    "start_time": "2022-02-23T15:03:39.378Z"
   },
   {
    "duration": 6,
    "start_time": "2022-02-23T15:03:39.390Z"
   },
   {
    "duration": 9,
    "start_time": "2022-02-23T15:03:39.397Z"
   },
   {
    "duration": 4,
    "start_time": "2022-02-23T15:03:39.407Z"
   },
   {
    "duration": 34,
    "start_time": "2022-02-23T15:03:39.412Z"
   },
   {
    "duration": 11,
    "start_time": "2022-02-23T15:03:39.448Z"
   },
   {
    "duration": 3,
    "start_time": "2022-02-23T15:03:39.461Z"
   },
   {
    "duration": 12,
    "start_time": "2022-02-23T15:03:39.465Z"
   },
   {
    "duration": 7,
    "start_time": "2022-02-23T15:03:39.478Z"
   },
   {
    "duration": 9,
    "start_time": "2022-02-23T15:03:39.487Z"
   },
   {
    "duration": 10,
    "start_time": "2022-02-23T15:03:39.497Z"
   },
   {
    "duration": 9,
    "start_time": "2022-02-23T15:03:39.508Z"
   },
   {
    "duration": 36,
    "start_time": "2022-02-23T15:03:39.518Z"
   },
   {
    "duration": 19,
    "start_time": "2022-02-23T15:03:39.556Z"
   },
   {
    "duration": 13,
    "start_time": "2022-02-23T15:03:39.576Z"
   },
   {
    "duration": 304,
    "start_time": "2022-02-23T15:03:39.590Z"
   },
   {
    "duration": 279,
    "start_time": "2022-02-23T15:04:47.792Z"
   },
   {
    "duration": 15,
    "start_time": "2022-02-23T15:05:15.593Z"
   },
   {
    "duration": 16,
    "start_time": "2022-02-23T15:08:39.453Z"
   },
   {
    "duration": 9,
    "start_time": "2022-02-23T15:12:34.416Z"
   },
   {
    "duration": 7,
    "start_time": "2022-02-23T15:19:53.380Z"
   },
   {
    "duration": 10,
    "start_time": "2022-02-23T15:19:59.938Z"
   },
   {
    "duration": 60,
    "start_time": "2022-02-23T15:28:00.838Z"
   },
   {
    "duration": 11,
    "start_time": "2022-02-23T15:28:00.900Z"
   },
   {
    "duration": 12,
    "start_time": "2022-02-23T15:28:00.913Z"
   },
   {
    "duration": 19,
    "start_time": "2022-02-23T15:28:00.927Z"
   },
   {
    "duration": 26,
    "start_time": "2022-02-23T15:28:00.948Z"
   },
   {
    "duration": 18,
    "start_time": "2022-02-23T15:28:00.977Z"
   },
   {
    "duration": 16,
    "start_time": "2022-02-23T15:28:00.997Z"
   },
   {
    "duration": 32,
    "start_time": "2022-02-23T15:28:01.014Z"
   },
   {
    "duration": 20,
    "start_time": "2022-02-23T15:28:01.048Z"
   },
   {
    "duration": 10,
    "start_time": "2022-02-23T15:28:01.070Z"
   },
   {
    "duration": 21,
    "start_time": "2022-02-23T15:28:01.081Z"
   },
   {
    "duration": 66,
    "start_time": "2022-02-23T15:28:01.104Z"
   },
   {
    "duration": 5,
    "start_time": "2022-02-23T15:28:01.171Z"
   },
   {
    "duration": 29,
    "start_time": "2022-02-23T15:28:01.180Z"
   },
   {
    "duration": 10,
    "start_time": "2022-02-23T15:28:01.211Z"
   },
   {
    "duration": 19,
    "start_time": "2022-02-23T15:28:01.223Z"
   },
   {
    "duration": 13,
    "start_time": "2022-02-23T15:28:01.244Z"
   },
   {
    "duration": 19,
    "start_time": "2022-02-23T15:28:01.259Z"
   },
   {
    "duration": 9,
    "start_time": "2022-02-23T15:28:01.280Z"
   },
   {
    "duration": 5,
    "start_time": "2022-02-23T15:28:01.291Z"
   },
   {
    "duration": 12,
    "start_time": "2022-02-23T15:28:01.297Z"
   },
   {
    "duration": 6,
    "start_time": "2022-02-23T15:28:01.311Z"
   },
   {
    "duration": 12,
    "start_time": "2022-02-23T15:28:01.319Z"
   },
   {
    "duration": 15,
    "start_time": "2022-02-23T15:28:01.333Z"
   },
   {
    "duration": 11,
    "start_time": "2022-02-23T15:28:01.350Z"
   },
   {
    "duration": 7,
    "start_time": "2022-02-23T15:28:01.363Z"
   },
   {
    "duration": 11,
    "start_time": "2022-02-23T15:28:01.371Z"
   },
   {
    "duration": 9,
    "start_time": "2022-02-23T15:28:01.383Z"
   },
   {
    "duration": 11,
    "start_time": "2022-02-23T15:28:01.393Z"
   },
   {
    "duration": 14,
    "start_time": "2022-02-23T15:28:01.405Z"
   },
   {
    "duration": 29,
    "start_time": "2022-02-23T15:28:01.421Z"
   },
   {
    "duration": 7,
    "start_time": "2022-02-23T15:28:01.452Z"
   },
   {
    "duration": 25,
    "start_time": "2022-02-23T15:28:01.460Z"
   },
   {
    "duration": 13,
    "start_time": "2022-02-23T15:28:01.486Z"
   },
   {
    "duration": 17,
    "start_time": "2022-02-23T15:28:01.501Z"
   },
   {
    "duration": 17,
    "start_time": "2022-02-23T15:28:01.520Z"
   },
   {
    "duration": 7,
    "start_time": "2022-02-23T15:28:01.538Z"
   },
   {
    "duration": 11,
    "start_time": "2022-02-23T15:28:01.549Z"
   },
   {
    "duration": 21,
    "start_time": "2022-02-23T15:28:01.562Z"
   },
   {
    "duration": 16,
    "start_time": "2022-02-23T15:28:01.585Z"
   },
   {
    "duration": 12,
    "start_time": "2022-02-23T15:28:01.603Z"
   },
   {
    "duration": 11,
    "start_time": "2022-02-23T15:28:01.617Z"
   },
   {
    "duration": 13,
    "start_time": "2022-02-23T15:28:01.629Z"
   },
   {
    "duration": 21,
    "start_time": "2022-02-23T15:28:01.644Z"
   },
   {
    "duration": 9,
    "start_time": "2022-02-23T15:28:01.667Z"
   },
   {
    "duration": 25,
    "start_time": "2022-02-23T15:28:01.677Z"
   },
   {
    "duration": 6,
    "start_time": "2022-02-23T15:28:01.704Z"
   },
   {
    "duration": 13,
    "start_time": "2022-02-23T15:28:01.712Z"
   },
   {
    "duration": 719,
    "start_time": "2022-02-23T15:38:04.973Z"
   },
   {
    "duration": 10,
    "start_time": "2022-02-23T15:38:05.694Z"
   },
   {
    "duration": 11,
    "start_time": "2022-02-23T15:38:05.705Z"
   },
   {
    "duration": 3,
    "start_time": "2022-02-23T15:38:05.717Z"
   },
   {
    "duration": 14,
    "start_time": "2022-02-23T15:38:05.722Z"
   },
   {
    "duration": 13,
    "start_time": "2022-02-23T15:38:05.738Z"
   },
   {
    "duration": 12,
    "start_time": "2022-02-23T15:38:05.753Z"
   },
   {
    "duration": 8,
    "start_time": "2022-02-23T15:38:05.767Z"
   },
   {
    "duration": 17,
    "start_time": "2022-02-23T15:38:05.777Z"
   },
   {
    "duration": 9,
    "start_time": "2022-02-23T15:38:05.795Z"
   },
   {
    "duration": 50,
    "start_time": "2022-02-23T15:38:05.805Z"
   },
   {
    "duration": 26,
    "start_time": "2022-02-23T15:38:05.857Z"
   },
   {
    "duration": 5,
    "start_time": "2022-02-23T15:38:05.884Z"
   },
   {
    "duration": 3,
    "start_time": "2022-02-23T15:38:05.891Z"
   },
   {
    "duration": 5,
    "start_time": "2022-02-23T15:38:05.896Z"
   },
   {
    "duration": 10,
    "start_time": "2022-02-23T15:38:05.902Z"
   },
   {
    "duration": 32,
    "start_time": "2022-02-23T15:38:05.914Z"
   },
   {
    "duration": 8,
    "start_time": "2022-02-23T15:38:05.947Z"
   },
   {
    "duration": 7,
    "start_time": "2022-02-23T15:38:05.957Z"
   },
   {
    "duration": 6,
    "start_time": "2022-02-23T15:38:05.965Z"
   },
   {
    "duration": 7,
    "start_time": "2022-02-23T15:38:05.972Z"
   },
   {
    "duration": 6,
    "start_time": "2022-02-23T15:38:05.981Z"
   },
   {
    "duration": 6,
    "start_time": "2022-02-23T15:38:05.988Z"
   },
   {
    "duration": 17,
    "start_time": "2022-02-23T15:38:05.996Z"
   },
   {
    "duration": 8,
    "start_time": "2022-02-23T15:38:06.047Z"
   },
   {
    "duration": 7,
    "start_time": "2022-02-23T15:38:06.056Z"
   },
   {
    "duration": 5,
    "start_time": "2022-02-23T15:38:06.066Z"
   },
   {
    "duration": 7,
    "start_time": "2022-02-23T15:38:06.073Z"
   },
   {
    "duration": 6,
    "start_time": "2022-02-23T15:38:06.081Z"
   },
   {
    "duration": 7,
    "start_time": "2022-02-23T15:38:06.088Z"
   },
   {
    "duration": 10,
    "start_time": "2022-02-23T15:38:06.097Z"
   },
   {
    "duration": 3,
    "start_time": "2022-02-23T15:38:06.108Z"
   },
   {
    "duration": 7,
    "start_time": "2022-02-23T15:38:06.145Z"
   },
   {
    "duration": 9,
    "start_time": "2022-02-23T15:38:06.153Z"
   },
   {
    "duration": 5,
    "start_time": "2022-02-23T15:38:06.163Z"
   },
   {
    "duration": 9,
    "start_time": "2022-02-23T15:38:06.170Z"
   },
   {
    "duration": 3,
    "start_time": "2022-02-23T15:38:06.181Z"
   },
   {
    "duration": 15,
    "start_time": "2022-02-23T15:38:06.185Z"
   },
   {
    "duration": 10,
    "start_time": "2022-02-23T15:38:06.201Z"
   },
   {
    "duration": 14,
    "start_time": "2022-02-23T15:38:06.212Z"
   },
   {
    "duration": 28,
    "start_time": "2022-02-23T15:38:06.227Z"
   },
   {
    "duration": 8,
    "start_time": "2022-02-23T15:38:06.257Z"
   },
   {
    "duration": 13,
    "start_time": "2022-02-23T15:38:06.266Z"
   },
   {
    "duration": 19,
    "start_time": "2022-02-23T15:38:06.281Z"
   },
   {
    "duration": 9,
    "start_time": "2022-02-23T15:38:06.301Z"
   },
   {
    "duration": 35,
    "start_time": "2022-02-23T15:38:06.311Z"
   },
   {
    "duration": 5,
    "start_time": "2022-02-23T15:38:06.348Z"
   },
   {
    "duration": 12,
    "start_time": "2022-02-23T15:38:06.354Z"
   },
   {
    "duration": 53,
    "start_time": "2022-02-23T15:54:15.435Z"
   },
   {
    "duration": 11,
    "start_time": "2022-02-23T15:54:15.489Z"
   },
   {
    "duration": 13,
    "start_time": "2022-02-23T15:54:15.502Z"
   },
   {
    "duration": 3,
    "start_time": "2022-02-23T15:54:15.517Z"
   },
   {
    "duration": 36,
    "start_time": "2022-02-23T15:54:15.522Z"
   },
   {
    "duration": 13,
    "start_time": "2022-02-23T15:54:15.560Z"
   },
   {
    "duration": 13,
    "start_time": "2022-02-23T15:54:15.574Z"
   },
   {
    "duration": 9,
    "start_time": "2022-02-23T15:54:15.589Z"
   },
   {
    "duration": 49,
    "start_time": "2022-02-23T15:54:15.600Z"
   },
   {
    "duration": 8,
    "start_time": "2022-02-23T15:54:15.651Z"
   },
   {
    "duration": 16,
    "start_time": "2022-02-23T15:54:15.661Z"
   },
   {
    "duration": 23,
    "start_time": "2022-02-23T15:54:15.678Z"
   },
   {
    "duration": 4,
    "start_time": "2022-02-23T15:54:15.703Z"
   },
   {
    "duration": 39,
    "start_time": "2022-02-23T15:54:15.709Z"
   },
   {
    "duration": 5,
    "start_time": "2022-02-23T15:54:15.749Z"
   },
   {
    "duration": 9,
    "start_time": "2022-02-23T15:54:15.755Z"
   },
   {
    "duration": 5,
    "start_time": "2022-02-23T15:54:15.766Z"
   },
   {
    "duration": 8,
    "start_time": "2022-02-23T15:54:15.772Z"
   },
   {
    "duration": 6,
    "start_time": "2022-02-23T15:54:15.782Z"
   },
   {
    "duration": 5,
    "start_time": "2022-02-23T15:54:15.790Z"
   },
   {
    "duration": 9,
    "start_time": "2022-02-23T15:54:15.796Z"
   },
   {
    "duration": 7,
    "start_time": "2022-02-23T15:54:15.806Z"
   },
   {
    "duration": 34,
    "start_time": "2022-02-23T15:54:15.816Z"
   },
   {
    "duration": 11,
    "start_time": "2022-02-23T15:54:15.852Z"
   },
   {
    "duration": 8,
    "start_time": "2022-02-23T15:54:15.865Z"
   },
   {
    "duration": 9,
    "start_time": "2022-02-23T15:54:15.875Z"
   },
   {
    "duration": 8,
    "start_time": "2022-02-23T15:54:15.885Z"
   },
   {
    "duration": 9,
    "start_time": "2022-02-23T15:54:15.894Z"
   },
   {
    "duration": 6,
    "start_time": "2022-02-23T15:54:15.904Z"
   },
   {
    "duration": 7,
    "start_time": "2022-02-23T15:54:15.911Z"
   },
   {
    "duration": 30,
    "start_time": "2022-02-23T15:54:15.920Z"
   },
   {
    "duration": 4,
    "start_time": "2022-02-23T15:54:15.951Z"
   },
   {
    "duration": 7,
    "start_time": "2022-02-23T15:54:15.957Z"
   },
   {
    "duration": 3,
    "start_time": "2022-02-23T15:54:15.966Z"
   },
   {
    "duration": 4,
    "start_time": "2022-02-23T15:54:15.971Z"
   },
   {
    "duration": 9,
    "start_time": "2022-02-23T15:54:15.977Z"
   },
   {
    "duration": 4,
    "start_time": "2022-02-23T15:54:15.987Z"
   },
   {
    "duration": 14,
    "start_time": "2022-02-23T15:54:15.992Z"
   },
   {
    "duration": 9,
    "start_time": "2022-02-23T15:54:16.007Z"
   },
   {
    "duration": 35,
    "start_time": "2022-02-23T15:54:16.017Z"
   },
   {
    "duration": 9,
    "start_time": "2022-02-23T15:54:16.054Z"
   },
   {
    "duration": 5,
    "start_time": "2022-02-23T15:54:16.065Z"
   },
   {
    "duration": 11,
    "start_time": "2022-02-23T15:54:16.071Z"
   },
   {
    "duration": 17,
    "start_time": "2022-02-23T15:54:16.083Z"
   },
   {
    "duration": 10,
    "start_time": "2022-02-23T15:54:16.102Z"
   },
   {
    "duration": 43,
    "start_time": "2022-02-23T15:54:16.113Z"
   },
   {
    "duration": 6,
    "start_time": "2022-02-23T15:54:16.157Z"
   },
   {
    "duration": 15,
    "start_time": "2022-02-23T15:54:16.164Z"
   },
   {
    "duration": 8,
    "start_time": "2022-02-23T16:07:07.862Z"
   },
   {
    "duration": 11,
    "start_time": "2022-02-23T16:11:10.615Z"
   },
   {
    "duration": 593,
    "start_time": "2022-02-23T18:54:53.650Z"
   },
   {
    "duration": 641,
    "start_time": "2022-02-23T18:55:08.744Z"
   },
   {
    "duration": 16,
    "start_time": "2022-02-23T18:55:09.388Z"
   },
   {
    "duration": 13,
    "start_time": "2022-02-23T18:55:09.406Z"
   },
   {
    "duration": 4,
    "start_time": "2022-02-23T18:55:09.420Z"
   },
   {
    "duration": 24,
    "start_time": "2022-02-23T18:55:09.425Z"
   },
   {
    "duration": 15,
    "start_time": "2022-02-23T18:55:09.451Z"
   },
   {
    "duration": 13,
    "start_time": "2022-02-23T18:55:09.467Z"
   },
   {
    "duration": 9,
    "start_time": "2022-02-23T18:55:09.483Z"
   },
   {
    "duration": 21,
    "start_time": "2022-02-23T18:55:09.494Z"
   },
   {
    "duration": 34,
    "start_time": "2022-02-23T18:55:09.516Z"
   },
   {
    "duration": 20,
    "start_time": "2022-02-23T18:55:09.551Z"
   },
   {
    "duration": 26,
    "start_time": "2022-02-23T18:55:09.573Z"
   },
   {
    "duration": 6,
    "start_time": "2022-02-23T18:55:09.600Z"
   },
   {
    "duration": 4,
    "start_time": "2022-02-23T18:55:09.608Z"
   },
   {
    "duration": 33,
    "start_time": "2022-02-23T18:55:09.613Z"
   },
   {
    "duration": 9,
    "start_time": "2022-02-23T18:55:09.647Z"
   },
   {
    "duration": 6,
    "start_time": "2022-02-23T18:55:09.658Z"
   },
   {
    "duration": 12,
    "start_time": "2022-02-23T18:55:09.665Z"
   },
   {
    "duration": 7,
    "start_time": "2022-02-23T18:55:09.678Z"
   },
   {
    "duration": 7,
    "start_time": "2022-02-23T18:55:09.687Z"
   },
   {
    "duration": 9,
    "start_time": "2022-02-23T18:55:09.696Z"
   },
   {
    "duration": 7,
    "start_time": "2022-02-23T18:55:09.706Z"
   },
   {
    "duration": 35,
    "start_time": "2022-02-23T18:55:09.716Z"
   },
   {
    "duration": 12,
    "start_time": "2022-02-23T18:55:09.753Z"
   },
   {
    "duration": 9,
    "start_time": "2022-02-23T18:55:09.766Z"
   },
   {
    "duration": 6,
    "start_time": "2022-02-23T18:55:09.776Z"
   },
   {
    "duration": 9,
    "start_time": "2022-02-23T18:55:09.784Z"
   },
   {
    "duration": 5,
    "start_time": "2022-02-23T18:55:09.795Z"
   },
   {
    "duration": 6,
    "start_time": "2022-02-23T18:55:09.801Z"
   },
   {
    "duration": 10,
    "start_time": "2022-02-23T18:55:09.809Z"
   },
   {
    "duration": 10,
    "start_time": "2022-02-23T18:55:09.846Z"
   },
   {
    "duration": 6,
    "start_time": "2022-02-23T18:55:09.857Z"
   },
   {
    "duration": 10,
    "start_time": "2022-02-23T18:55:09.864Z"
   },
   {
    "duration": 6,
    "start_time": "2022-02-23T18:55:09.875Z"
   },
   {
    "duration": 5,
    "start_time": "2022-02-23T18:55:09.882Z"
   },
   {
    "duration": 16,
    "start_time": "2022-02-23T18:55:09.895Z"
   },
   {
    "duration": 6,
    "start_time": "2022-02-23T18:55:09.912Z"
   },
   {
    "duration": 10,
    "start_time": "2022-02-23T18:55:09.920Z"
   },
   {
    "duration": 16,
    "start_time": "2022-02-23T18:55:09.931Z"
   },
   {
    "duration": 10,
    "start_time": "2022-02-23T18:55:09.948Z"
   },
   {
    "duration": 19,
    "start_time": "2022-02-23T18:55:09.959Z"
   },
   {
    "duration": 19,
    "start_time": "2022-02-23T18:55:09.980Z"
   },
   {
    "duration": 5,
    "start_time": "2022-02-23T18:55:10.001Z"
   },
   {
    "duration": 24,
    "start_time": "2022-02-23T18:55:10.008Z"
   },
   {
    "duration": 41,
    "start_time": "2022-02-23T18:55:10.034Z"
   },
   {
    "duration": 12,
    "start_time": "2022-02-23T18:55:10.077Z"
   },
   {
    "duration": 14,
    "start_time": "2022-02-23T18:55:10.091Z"
   },
   {
    "duration": 6,
    "start_time": "2022-02-23T18:55:10.106Z"
   },
   {
    "duration": 13,
    "start_time": "2022-02-23T18:55:10.113Z"
   },
   {
    "duration": 285,
    "start_time": "2022-02-23T18:55:10.127Z"
   },
   {
    "duration": 19,
    "start_time": "2022-02-23T18:55:30.606Z"
   },
   {
    "duration": 17,
    "start_time": "2022-02-23T18:56:51.632Z"
   },
   {
    "duration": 14,
    "start_time": "2022-02-23T18:57:57.705Z"
   },
   {
    "duration": 280,
    "start_time": "2022-02-23T18:58:17.125Z"
   },
   {
    "duration": 16,
    "start_time": "2022-02-23T18:58:26.594Z"
   },
   {
    "duration": 298,
    "start_time": "2022-02-23T19:02:35.208Z"
   },
   {
    "duration": 356,
    "start_time": "2022-02-23T19:03:12.138Z"
   },
   {
    "duration": 5,
    "start_time": "2022-02-23T19:04:23.761Z"
   },
   {
    "duration": 6,
    "start_time": "2022-02-23T19:05:19.429Z"
   },
   {
    "duration": 9,
    "start_time": "2022-02-23T19:07:08.487Z"
   },
   {
    "duration": 63,
    "start_time": "2022-02-23T19:13:05.003Z"
   },
   {
    "duration": 11,
    "start_time": "2022-02-23T19:13:05.068Z"
   },
   {
    "duration": 15,
    "start_time": "2022-02-23T19:13:05.081Z"
   },
   {
    "duration": 15,
    "start_time": "2022-02-23T19:13:05.098Z"
   },
   {
    "duration": 31,
    "start_time": "2022-02-23T19:13:05.115Z"
   },
   {
    "duration": 14,
    "start_time": "2022-02-23T19:13:05.148Z"
   },
   {
    "duration": 14,
    "start_time": "2022-02-23T19:13:05.164Z"
   },
   {
    "duration": 9,
    "start_time": "2022-02-23T19:13:05.179Z"
   },
   {
    "duration": 25,
    "start_time": "2022-02-23T19:13:05.190Z"
   },
   {
    "duration": 33,
    "start_time": "2022-02-23T19:13:05.216Z"
   },
   {
    "duration": 28,
    "start_time": "2022-02-23T19:13:05.250Z"
   },
   {
    "duration": 25,
    "start_time": "2022-02-23T19:13:05.279Z"
   },
   {
    "duration": 6,
    "start_time": "2022-02-23T19:13:05.305Z"
   },
   {
    "duration": 11,
    "start_time": "2022-02-23T19:13:05.313Z"
   },
   {
    "duration": 21,
    "start_time": "2022-02-23T19:13:05.325Z"
   },
   {
    "duration": 23,
    "start_time": "2022-02-23T19:13:05.348Z"
   },
   {
    "duration": 10,
    "start_time": "2022-02-23T19:13:05.373Z"
   },
   {
    "duration": 17,
    "start_time": "2022-02-23T19:13:05.385Z"
   },
   {
    "duration": 19,
    "start_time": "2022-02-23T19:13:05.404Z"
   },
   {
    "duration": 17,
    "start_time": "2022-02-23T19:13:05.424Z"
   },
   {
    "duration": 28,
    "start_time": "2022-02-23T19:13:05.442Z"
   },
   {
    "duration": 19,
    "start_time": "2022-02-23T19:13:05.472Z"
   },
   {
    "duration": 13,
    "start_time": "2022-02-23T19:13:05.492Z"
   },
   {
    "duration": 25,
    "start_time": "2022-02-23T19:13:05.506Z"
   },
   {
    "duration": 18,
    "start_time": "2022-02-23T19:13:05.532Z"
   },
   {
    "duration": 18,
    "start_time": "2022-02-23T19:13:05.552Z"
   },
   {
    "duration": 18,
    "start_time": "2022-02-23T19:13:05.573Z"
   },
   {
    "duration": 47,
    "start_time": "2022-02-23T19:13:05.593Z"
   },
   {
    "duration": 12,
    "start_time": "2022-02-23T19:13:05.642Z"
   },
   {
    "duration": 13,
    "start_time": "2022-02-23T19:13:05.656Z"
   },
   {
    "duration": 299,
    "start_time": "2022-02-23T19:13:05.671Z"
   },
   {
    "duration": -242,
    "start_time": "2022-02-23T19:13:06.214Z"
   },
   {
    "duration": -252,
    "start_time": "2022-02-23T19:13:06.225Z"
   },
   {
    "duration": -256,
    "start_time": "2022-02-23T19:13:06.230Z"
   },
   {
    "duration": -262,
    "start_time": "2022-02-23T19:13:06.237Z"
   },
   {
    "duration": -266,
    "start_time": "2022-02-23T19:13:06.242Z"
   },
   {
    "duration": -270,
    "start_time": "2022-02-23T19:13:06.247Z"
   },
   {
    "duration": -275,
    "start_time": "2022-02-23T19:13:06.253Z"
   },
   {
    "duration": -280,
    "start_time": "2022-02-23T19:13:06.259Z"
   },
   {
    "duration": -284,
    "start_time": "2022-02-23T19:13:06.264Z"
   },
   {
    "duration": -289,
    "start_time": "2022-02-23T19:13:06.270Z"
   },
   {
    "duration": -293,
    "start_time": "2022-02-23T19:13:06.275Z"
   },
   {
    "duration": -298,
    "start_time": "2022-02-23T19:13:06.281Z"
   },
   {
    "duration": -304,
    "start_time": "2022-02-23T19:13:06.288Z"
   },
   {
    "duration": -307,
    "start_time": "2022-02-23T19:13:06.293Z"
   },
   {
    "duration": -312,
    "start_time": "2022-02-23T19:13:06.299Z"
   },
   {
    "duration": -318,
    "start_time": "2022-02-23T19:13:06.305Z"
   },
   {
    "duration": -322,
    "start_time": "2022-02-23T19:13:06.310Z"
   },
   {
    "duration": -342,
    "start_time": "2022-02-23T19:13:06.331Z"
   },
   {
    "duration": -347,
    "start_time": "2022-02-23T19:13:06.337Z"
   },
   {
    "duration": -351,
    "start_time": "2022-02-23T19:13:06.342Z"
   },
   {
    "duration": 56,
    "start_time": "2022-02-23T19:13:19.536Z"
   },
   {
    "duration": 11,
    "start_time": "2022-02-23T19:13:19.593Z"
   },
   {
    "duration": 9,
    "start_time": "2022-02-23T19:13:19.606Z"
   },
   {
    "duration": 3,
    "start_time": "2022-02-23T19:13:19.617Z"
   },
   {
    "duration": 38,
    "start_time": "2022-02-23T19:13:19.621Z"
   },
   {
    "duration": 16,
    "start_time": "2022-02-23T19:13:19.661Z"
   },
   {
    "duration": 15,
    "start_time": "2022-02-23T19:13:19.678Z"
   },
   {
    "duration": 10,
    "start_time": "2022-02-23T19:13:19.696Z"
   },
   {
    "duration": 19,
    "start_time": "2022-02-23T19:13:19.746Z"
   },
   {
    "duration": 9,
    "start_time": "2022-02-23T19:13:19.766Z"
   },
   {
    "duration": 17,
    "start_time": "2022-02-23T19:13:19.777Z"
   },
   {
    "duration": 51,
    "start_time": "2022-02-23T19:13:19.796Z"
   },
   {
    "duration": 7,
    "start_time": "2022-02-23T19:13:19.848Z"
   },
   {
    "duration": 6,
    "start_time": "2022-02-23T19:13:19.856Z"
   },
   {
    "duration": 8,
    "start_time": "2022-02-23T19:13:19.864Z"
   },
   {
    "duration": 9,
    "start_time": "2022-02-23T19:13:19.874Z"
   },
   {
    "duration": 4,
    "start_time": "2022-02-23T19:13:19.885Z"
   },
   {
    "duration": 6,
    "start_time": "2022-02-23T19:13:19.890Z"
   },
   {
    "duration": 6,
    "start_time": "2022-02-23T19:13:19.898Z"
   },
   {
    "duration": 7,
    "start_time": "2022-02-23T19:13:19.905Z"
   },
   {
    "duration": 10,
    "start_time": "2022-02-23T19:13:19.945Z"
   },
   {
    "duration": 8,
    "start_time": "2022-02-23T19:13:19.957Z"
   },
   {
    "duration": 5,
    "start_time": "2022-02-23T19:13:19.968Z"
   },
   {
    "duration": 6,
    "start_time": "2022-02-23T19:13:19.975Z"
   },
   {
    "duration": 5,
    "start_time": "2022-02-23T19:13:19.982Z"
   },
   {
    "duration": 7,
    "start_time": "2022-02-23T19:13:19.989Z"
   },
   {
    "duration": 6,
    "start_time": "2022-02-23T19:13:19.998Z"
   },
   {
    "duration": 46,
    "start_time": "2022-02-23T19:13:20.005Z"
   },
   {
    "duration": 4,
    "start_time": "2022-02-23T19:13:20.053Z"
   },
   {
    "duration": 6,
    "start_time": "2022-02-23T19:13:20.059Z"
   },
   {
    "duration": 284,
    "start_time": "2022-02-23T19:13:20.066Z"
   },
   {
    "duration": -186,
    "start_time": "2022-02-23T19:13:20.538Z"
   },
   {
    "duration": -189,
    "start_time": "2022-02-23T19:13:20.543Z"
   },
   {
    "duration": -194,
    "start_time": "2022-02-23T19:13:20.549Z"
   },
   {
    "duration": -200,
    "start_time": "2022-02-23T19:13:20.556Z"
   },
   {
    "duration": -233,
    "start_time": "2022-02-23T19:13:20.591Z"
   },
   {
    "duration": -245,
    "start_time": "2022-02-23T19:13:20.604Z"
   },
   {
    "duration": -249,
    "start_time": "2022-02-23T19:13:20.609Z"
   },
   {
    "duration": -253,
    "start_time": "2022-02-23T19:13:20.615Z"
   },
   {
    "duration": -258,
    "start_time": "2022-02-23T19:13:20.621Z"
   },
   {
    "duration": -262,
    "start_time": "2022-02-23T19:13:20.626Z"
   },
   {
    "duration": -267,
    "start_time": "2022-02-23T19:13:20.633Z"
   },
   {
    "duration": -271,
    "start_time": "2022-02-23T19:13:20.638Z"
   },
   {
    "duration": -277,
    "start_time": "2022-02-23T19:13:20.645Z"
   },
   {
    "duration": -281,
    "start_time": "2022-02-23T19:13:20.651Z"
   },
   {
    "duration": -285,
    "start_time": "2022-02-23T19:13:20.656Z"
   },
   {
    "duration": -291,
    "start_time": "2022-02-23T19:13:20.663Z"
   },
   {
    "duration": -295,
    "start_time": "2022-02-23T19:13:20.669Z"
   },
   {
    "duration": -299,
    "start_time": "2022-02-23T19:13:20.674Z"
   },
   {
    "duration": -305,
    "start_time": "2022-02-23T19:13:20.681Z"
   },
   {
    "duration": -308,
    "start_time": "2022-02-23T19:13:20.686Z"
   },
   {
    "duration": 3,
    "start_time": "2022-02-23T19:33:05.876Z"
   },
   {
    "duration": 125,
    "start_time": "2022-02-23T19:36:45.846Z"
   },
   {
    "duration": 284,
    "start_time": "2022-02-23T19:37:09.341Z"
   },
   {
    "duration": 53,
    "start_time": "2022-02-23T19:38:22.384Z"
   },
   {
    "duration": 11,
    "start_time": "2022-02-23T19:38:22.439Z"
   },
   {
    "duration": 12,
    "start_time": "2022-02-23T19:38:22.452Z"
   },
   {
    "duration": 8,
    "start_time": "2022-02-23T19:38:22.466Z"
   },
   {
    "duration": 17,
    "start_time": "2022-02-23T19:38:22.475Z"
   },
   {
    "duration": 15,
    "start_time": "2022-02-23T19:38:22.494Z"
   },
   {
    "duration": 44,
    "start_time": "2022-02-23T19:38:22.511Z"
   },
   {
    "duration": 10,
    "start_time": "2022-02-23T19:38:22.557Z"
   },
   {
    "duration": 19,
    "start_time": "2022-02-23T19:38:22.568Z"
   },
   {
    "duration": 9,
    "start_time": "2022-02-23T19:38:22.589Z"
   },
   {
    "duration": 48,
    "start_time": "2022-02-23T19:38:22.599Z"
   },
   {
    "duration": 24,
    "start_time": "2022-02-23T19:38:22.649Z"
   },
   {
    "duration": 8,
    "start_time": "2022-02-23T19:38:22.675Z"
   },
   {
    "duration": 7,
    "start_time": "2022-02-23T19:38:22.685Z"
   },
   {
    "duration": 9,
    "start_time": "2022-02-23T19:38:22.694Z"
   },
   {
    "duration": 41,
    "start_time": "2022-02-23T19:38:22.706Z"
   },
   {
    "duration": 6,
    "start_time": "2022-02-23T19:38:22.750Z"
   },
   {
    "duration": 15,
    "start_time": "2022-02-23T19:38:22.757Z"
   },
   {
    "duration": 6,
    "start_time": "2022-02-23T19:38:22.773Z"
   },
   {
    "duration": 7,
    "start_time": "2022-02-23T19:38:22.780Z"
   },
   {
    "duration": 11,
    "start_time": "2022-02-23T19:38:22.789Z"
   },
   {
    "duration": 9,
    "start_time": "2022-02-23T19:38:22.801Z"
   },
   {
    "duration": 34,
    "start_time": "2022-02-23T19:38:22.812Z"
   },
   {
    "duration": 6,
    "start_time": "2022-02-23T19:38:22.848Z"
   },
   {
    "duration": 5,
    "start_time": "2022-02-23T19:38:22.856Z"
   },
   {
    "duration": 6,
    "start_time": "2022-02-23T19:38:22.862Z"
   },
   {
    "duration": 6,
    "start_time": "2022-02-23T19:38:22.870Z"
   },
   {
    "duration": 10,
    "start_time": "2022-02-23T19:38:22.877Z"
   },
   {
    "duration": 4,
    "start_time": "2022-02-23T19:38:22.888Z"
   },
   {
    "duration": 55,
    "start_time": "2022-02-23T19:38:22.893Z"
   },
   {
    "duration": 291,
    "start_time": "2022-02-23T19:38:22.949Z"
   },
   {
    "duration": -908,
    "start_time": "2022-02-23T19:38:24.150Z"
   },
   {
    "duration": -913,
    "start_time": "2022-02-23T19:38:24.156Z"
   },
   {
    "duration": -917,
    "start_time": "2022-02-23T19:38:24.161Z"
   },
   {
    "duration": -921,
    "start_time": "2022-02-23T19:38:24.166Z"
   },
   {
    "duration": -925,
    "start_time": "2022-02-23T19:38:24.171Z"
   },
   {
    "duration": -929,
    "start_time": "2022-02-23T19:38:24.176Z"
   },
   {
    "duration": -933,
    "start_time": "2022-02-23T19:38:24.181Z"
   },
   {
    "duration": -939,
    "start_time": "2022-02-23T19:38:24.187Z"
   },
   {
    "duration": -966,
    "start_time": "2022-02-23T19:38:24.215Z"
   },
   {
    "duration": -974,
    "start_time": "2022-02-23T19:38:24.224Z"
   },
   {
    "duration": -978,
    "start_time": "2022-02-23T19:38:24.229Z"
   },
   {
    "duration": -983,
    "start_time": "2022-02-23T19:38:24.235Z"
   },
   {
    "duration": -987,
    "start_time": "2022-02-23T19:38:24.240Z"
   },
   {
    "duration": -991,
    "start_time": "2022-02-23T19:38:24.245Z"
   },
   {
    "duration": -996,
    "start_time": "2022-02-23T19:38:24.251Z"
   },
   {
    "duration": -1000,
    "start_time": "2022-02-23T19:38:24.256Z"
   },
   {
    "duration": -1004,
    "start_time": "2022-02-23T19:38:24.261Z"
   },
   {
    "duration": -1007,
    "start_time": "2022-02-23T19:38:24.266Z"
   },
   {
    "duration": -1012,
    "start_time": "2022-02-23T19:38:24.272Z"
   },
   {
    "duration": -1016,
    "start_time": "2022-02-23T19:38:24.277Z"
   },
   {
    "duration": -1023,
    "start_time": "2022-02-23T19:38:24.286Z"
   },
   {
    "duration": 858,
    "start_time": "2022-02-24T08:05:13.350Z"
   },
   {
    "duration": 30,
    "start_time": "2022-02-24T08:05:14.212Z"
   },
   {
    "duration": 13,
    "start_time": "2022-02-24T08:05:14.244Z"
   },
   {
    "duration": 6,
    "start_time": "2022-02-24T08:05:14.260Z"
   },
   {
    "duration": 26,
    "start_time": "2022-02-24T08:05:14.294Z"
   },
   {
    "duration": 26,
    "start_time": "2022-02-24T08:05:14.322Z"
   },
   {
    "duration": 57,
    "start_time": "2022-02-24T08:05:14.350Z"
   },
   {
    "duration": 14,
    "start_time": "2022-02-24T08:05:14.410Z"
   },
   {
    "duration": 29,
    "start_time": "2022-02-24T08:05:14.427Z"
   },
   {
    "duration": 48,
    "start_time": "2022-02-24T08:05:14.459Z"
   },
   {
    "duration": 29,
    "start_time": "2022-02-24T08:05:14.510Z"
   },
   {
    "duration": 72,
    "start_time": "2022-02-24T08:05:14.542Z"
   },
   {
    "duration": 9,
    "start_time": "2022-02-24T08:05:14.616Z"
   },
   {
    "duration": 9,
    "start_time": "2022-02-24T08:05:14.628Z"
   },
   {
    "duration": 16,
    "start_time": "2022-02-24T08:05:14.640Z"
   },
   {
    "duration": 41,
    "start_time": "2022-02-24T08:05:14.658Z"
   },
   {
    "duration": 6,
    "start_time": "2022-02-24T08:05:14.702Z"
   },
   {
    "duration": 12,
    "start_time": "2022-02-24T08:05:14.711Z"
   },
   {
    "duration": 8,
    "start_time": "2022-02-24T08:05:14.726Z"
   },
   {
    "duration": 10,
    "start_time": "2022-02-24T08:05:14.738Z"
   },
   {
    "duration": 58,
    "start_time": "2022-02-24T08:05:14.750Z"
   },
   {
    "duration": 14,
    "start_time": "2022-02-24T08:05:14.811Z"
   },
   {
    "duration": 12,
    "start_time": "2022-02-24T08:05:14.831Z"
   },
   {
    "duration": 14,
    "start_time": "2022-02-24T08:05:14.846Z"
   },
   {
    "duration": 37,
    "start_time": "2022-02-24T08:05:14.863Z"
   },
   {
    "duration": 11,
    "start_time": "2022-02-24T08:05:14.902Z"
   },
   {
    "duration": 10,
    "start_time": "2022-02-24T08:05:14.916Z"
   },
   {
    "duration": 18,
    "start_time": "2022-02-24T08:05:14.929Z"
   },
   {
    "duration": 8,
    "start_time": "2022-02-24T08:05:14.993Z"
   },
   {
    "duration": 21,
    "start_time": "2022-02-24T08:05:15.003Z"
   },
   {
    "duration": 411,
    "start_time": "2022-02-24T08:05:15.027Z"
   },
   {
    "duration": 121,
    "start_time": "2022-02-24T08:05:15.320Z"
   },
   {
    "duration": 117,
    "start_time": "2022-02-24T08:05:15.325Z"
   },
   {
    "duration": 113,
    "start_time": "2022-02-24T08:05:15.331Z"
   },
   {
    "duration": 110,
    "start_time": "2022-02-24T08:05:15.335Z"
   },
   {
    "duration": 106,
    "start_time": "2022-02-24T08:05:15.341Z"
   },
   {
    "duration": 103,
    "start_time": "2022-02-24T08:05:15.346Z"
   },
   {
    "duration": 100,
    "start_time": "2022-02-24T08:05:15.351Z"
   },
   {
    "duration": 95,
    "start_time": "2022-02-24T08:05:15.357Z"
   },
   {
    "duration": 92,
    "start_time": "2022-02-24T08:05:15.362Z"
   },
   {
    "duration": 67,
    "start_time": "2022-02-24T08:05:15.389Z"
   },
   {
    "duration": 58,
    "start_time": "2022-02-24T08:05:15.399Z"
   },
   {
    "duration": 54,
    "start_time": "2022-02-24T08:05:15.404Z"
   },
   {
    "duration": 48,
    "start_time": "2022-02-24T08:05:15.412Z"
   },
   {
    "duration": 45,
    "start_time": "2022-02-24T08:05:15.417Z"
   },
   {
    "duration": 41,
    "start_time": "2022-02-24T08:05:15.422Z"
   },
   {
    "duration": 37,
    "start_time": "2022-02-24T08:05:15.427Z"
   },
   {
    "duration": 34,
    "start_time": "2022-02-24T08:05:15.432Z"
   },
   {
    "duration": 30,
    "start_time": "2022-02-24T08:05:15.437Z"
   },
   {
    "duration": 27,
    "start_time": "2022-02-24T08:05:15.442Z"
   },
   {
    "duration": 23,
    "start_time": "2022-02-24T08:05:15.447Z"
   },
   {
    "duration": 20,
    "start_time": "2022-02-24T08:05:15.452Z"
   },
   {
    "duration": 289,
    "start_time": "2022-02-24T08:17:05.898Z"
   },
   {
    "duration": 7268,
    "start_time": "2022-02-24T08:17:18.110Z"
   },
   {
    "duration": 311,
    "start_time": "2022-02-24T08:29:25.303Z"
   },
   {
    "duration": 71,
    "start_time": "2022-02-24T08:30:55.773Z"
   },
   {
    "duration": 17,
    "start_time": "2022-02-24T08:30:55.847Z"
   },
   {
    "duration": 36,
    "start_time": "2022-02-24T08:30:55.867Z"
   },
   {
    "duration": 5,
    "start_time": "2022-02-24T08:30:55.907Z"
   },
   {
    "duration": 7763,
    "start_time": "2022-02-24T08:30:55.915Z"
   },
   {
    "duration": 388,
    "start_time": "2022-02-24T08:31:03.295Z"
   },
   {
    "duration": 371,
    "start_time": "2022-02-24T08:31:03.313Z"
   },
   {
    "duration": 367,
    "start_time": "2022-02-24T08:31:03.319Z"
   },
   {
    "duration": 363,
    "start_time": "2022-02-24T08:31:03.324Z"
   },
   {
    "duration": 357,
    "start_time": "2022-02-24T08:31:03.331Z"
   },
   {
    "duration": 350,
    "start_time": "2022-02-24T08:31:03.340Z"
   },
   {
    "duration": 345,
    "start_time": "2022-02-24T08:31:03.346Z"
   },
   {
    "duration": 342,
    "start_time": "2022-02-24T08:31:03.351Z"
   },
   {
    "duration": 336,
    "start_time": "2022-02-24T08:31:03.358Z"
   },
   {
    "duration": 320,
    "start_time": "2022-02-24T08:31:03.375Z"
   },
   {
    "duration": 315,
    "start_time": "2022-02-24T08:31:03.382Z"
   },
   {
    "duration": 311,
    "start_time": "2022-02-24T08:31:03.387Z"
   },
   {
    "duration": 306,
    "start_time": "2022-02-24T08:31:03.393Z"
   },
   {
    "duration": 303,
    "start_time": "2022-02-24T08:31:03.398Z"
   },
   {
    "duration": 299,
    "start_time": "2022-02-24T08:31:03.403Z"
   },
   {
    "duration": 295,
    "start_time": "2022-02-24T08:31:03.409Z"
   },
   {
    "duration": 290,
    "start_time": "2022-02-24T08:31:03.415Z"
   },
   {
    "duration": 284,
    "start_time": "2022-02-24T08:31:03.422Z"
   },
   {
    "duration": 278,
    "start_time": "2022-02-24T08:31:03.429Z"
   },
   {
    "duration": 275,
    "start_time": "2022-02-24T08:31:03.434Z"
   },
   {
    "duration": 269,
    "start_time": "2022-02-24T08:31:03.441Z"
   },
   {
    "duration": 266,
    "start_time": "2022-02-24T08:31:03.446Z"
   },
   {
    "duration": 262,
    "start_time": "2022-02-24T08:31:03.451Z"
   },
   {
    "duration": 257,
    "start_time": "2022-02-24T08:31:03.457Z"
   },
   {
    "duration": 253,
    "start_time": "2022-02-24T08:31:03.463Z"
   },
   {
    "duration": 248,
    "start_time": "2022-02-24T08:31:03.469Z"
   },
   {
    "duration": 231,
    "start_time": "2022-02-24T08:31:03.487Z"
   },
   {
    "duration": 227,
    "start_time": "2022-02-24T08:31:03.492Z"
   },
   {
    "duration": 221,
    "start_time": "2022-02-24T08:31:03.500Z"
   },
   {
    "duration": 217,
    "start_time": "2022-02-24T08:31:03.505Z"
   },
   {
    "duration": 211,
    "start_time": "2022-02-24T08:31:03.512Z"
   },
   {
    "duration": 207,
    "start_time": "2022-02-24T08:31:03.517Z"
   },
   {
    "duration": 186,
    "start_time": "2022-02-24T08:31:03.539Z"
   },
   {
    "duration": 183,
    "start_time": "2022-02-24T08:31:03.544Z"
   },
   {
    "duration": 179,
    "start_time": "2022-02-24T08:31:03.549Z"
   },
   {
    "duration": 163,
    "start_time": "2022-02-24T08:31:03.567Z"
   },
   {
    "duration": 160,
    "start_time": "2022-02-24T08:31:03.572Z"
   },
   {
    "duration": 118,
    "start_time": "2022-02-24T08:31:03.615Z"
   },
   {
    "duration": 114,
    "start_time": "2022-02-24T08:31:03.620Z"
   },
   {
    "duration": 110,
    "start_time": "2022-02-24T08:31:03.625Z"
   },
   {
    "duration": 106,
    "start_time": "2022-02-24T08:31:03.630Z"
   },
   {
    "duration": 159,
    "start_time": "2022-02-24T08:31:03.635Z"
   },
   {
    "duration": 148,
    "start_time": "2022-02-24T08:31:03.647Z"
   },
   {
    "duration": 145,
    "start_time": "2022-02-24T08:31:03.652Z"
   },
   {
    "duration": 141,
    "start_time": "2022-02-24T08:31:03.657Z"
   },
   {
    "duration": 138,
    "start_time": "2022-02-24T08:31:03.662Z"
   },
   {
    "duration": 131,
    "start_time": "2022-02-24T08:31:03.670Z"
   },
   {
    "duration": 128,
    "start_time": "2022-02-24T08:31:03.674Z"
   },
   {
    "duration": 66,
    "start_time": "2022-02-24T08:32:54.375Z"
   },
   {
    "duration": 18,
    "start_time": "2022-02-24T08:32:54.444Z"
   },
   {
    "duration": 13,
    "start_time": "2022-02-24T08:32:54.493Z"
   },
   {
    "duration": 5,
    "start_time": "2022-02-24T08:32:54.509Z"
   },
   {
    "duration": 5,
    "start_time": "2022-02-24T08:32:54.517Z"
   },
   {
    "duration": 25,
    "start_time": "2022-02-24T08:32:54.524Z"
   },
   {
    "duration": 25,
    "start_time": "2022-02-24T08:32:54.594Z"
   },
   {
    "duration": 21,
    "start_time": "2022-02-24T08:32:54.621Z"
   },
   {
    "duration": 13,
    "start_time": "2022-02-24T08:32:54.646Z"
   },
   {
    "duration": 28,
    "start_time": "2022-02-24T08:32:54.694Z"
   },
   {
    "duration": 13,
    "start_time": "2022-02-24T08:32:54.724Z"
   },
   {
    "duration": 58,
    "start_time": "2022-02-24T08:32:54.739Z"
   },
   {
    "duration": 43,
    "start_time": "2022-02-24T08:32:54.799Z"
   },
   {
    "duration": 9,
    "start_time": "2022-02-24T08:32:54.844Z"
   },
   {
    "duration": 9,
    "start_time": "2022-02-24T08:32:54.855Z"
   },
   {
    "duration": 12,
    "start_time": "2022-02-24T08:32:54.894Z"
   },
   {
    "duration": 11,
    "start_time": "2022-02-24T08:32:54.909Z"
   },
   {
    "duration": 6,
    "start_time": "2022-02-24T08:32:54.923Z"
   },
   {
    "duration": 9,
    "start_time": "2022-02-24T08:32:54.932Z"
   },
   {
    "duration": 52,
    "start_time": "2022-02-24T08:32:54.943Z"
   },
   {
    "duration": 9,
    "start_time": "2022-02-24T08:32:54.997Z"
   },
   {
    "duration": 25,
    "start_time": "2022-02-24T08:32:55.009Z"
   },
   {
    "duration": 10,
    "start_time": "2022-02-24T08:32:55.037Z"
   },
   {
    "duration": 13,
    "start_time": "2022-02-24T08:32:55.050Z"
   },
   {
    "duration": 34,
    "start_time": "2022-02-24T08:32:55.065Z"
   },
   {
    "duration": 9,
    "start_time": "2022-02-24T08:32:55.101Z"
   },
   {
    "duration": 7,
    "start_time": "2022-02-24T08:32:55.116Z"
   },
   {
    "duration": 10,
    "start_time": "2022-02-24T08:32:55.126Z"
   },
   {
    "duration": 56,
    "start_time": "2022-02-24T08:32:55.138Z"
   },
   {
    "duration": 5,
    "start_time": "2022-02-24T08:32:55.197Z"
   },
   {
    "duration": 7,
    "start_time": "2022-02-24T08:32:55.204Z"
   },
   {
    "duration": 316,
    "start_time": "2022-02-24T08:32:55.213Z"
   },
   {
    "duration": 44,
    "start_time": "2022-02-24T08:32:55.487Z"
   },
   {
    "duration": 40,
    "start_time": "2022-02-24T08:32:55.493Z"
   },
   {
    "duration": 36,
    "start_time": "2022-02-24T08:32:55.498Z"
   },
   {
    "duration": -21,
    "start_time": "2022-02-24T08:32:55.557Z"
   },
   {
    "duration": -25,
    "start_time": "2022-02-24T08:32:55.562Z"
   },
   {
    "duration": -29,
    "start_time": "2022-02-24T08:32:55.568Z"
   },
   {
    "duration": -33,
    "start_time": "2022-02-24T08:32:55.573Z"
   },
   {
    "duration": -37,
    "start_time": "2022-02-24T08:32:55.579Z"
   },
   {
    "duration": -41,
    "start_time": "2022-02-24T08:32:55.584Z"
   },
   {
    "duration": -45,
    "start_time": "2022-02-24T08:32:55.589Z"
   },
   {
    "duration": -49,
    "start_time": "2022-02-24T08:32:55.595Z"
   },
   {
    "duration": -53,
    "start_time": "2022-02-24T08:32:55.600Z"
   },
   {
    "duration": -56,
    "start_time": "2022-02-24T08:32:55.605Z"
   },
   {
    "duration": -61,
    "start_time": "2022-02-24T08:32:55.611Z"
   },
   {
    "duration": -64,
    "start_time": "2022-02-24T08:32:55.616Z"
   },
   {
    "duration": -68,
    "start_time": "2022-02-24T08:32:55.622Z"
   },
   {
    "duration": -72,
    "start_time": "2022-02-24T08:32:55.628Z"
   },
   {
    "duration": -86,
    "start_time": "2022-02-24T08:32:55.644Z"
   },
   {
    "duration": -89,
    "start_time": "2022-02-24T08:32:55.649Z"
   },
   {
    "duration": -93,
    "start_time": "2022-02-24T08:32:55.655Z"
   },
   {
    "duration": -94,
    "start_time": "2022-02-24T08:32:55.660Z"
   },
   {
    "duration": 329,
    "start_time": "2022-02-24T08:35:05.006Z"
   },
   {
    "duration": 298,
    "start_time": "2022-02-24T08:36:40.570Z"
   },
   {
    "duration": 68,
    "start_time": "2022-02-24T08:37:54.336Z"
   },
   {
    "duration": 18,
    "start_time": "2022-02-24T08:37:54.406Z"
   },
   {
    "duration": 16,
    "start_time": "2022-02-24T08:37:54.427Z"
   },
   {
    "duration": 6,
    "start_time": "2022-02-24T08:37:54.446Z"
   },
   {
    "duration": 41,
    "start_time": "2022-02-24T08:37:54.454Z"
   },
   {
    "duration": 30,
    "start_time": "2022-02-24T08:37:54.497Z"
   },
   {
    "duration": 26,
    "start_time": "2022-02-24T08:37:54.530Z"
   },
   {
    "duration": 57,
    "start_time": "2022-02-24T08:37:54.559Z"
   },
   {
    "duration": 14,
    "start_time": "2022-02-24T08:37:54.619Z"
   },
   {
    "duration": 61,
    "start_time": "2022-02-24T08:37:54.636Z"
   },
   {
    "duration": 14,
    "start_time": "2022-02-24T08:37:54.700Z"
   },
   {
    "duration": 29,
    "start_time": "2022-02-24T08:37:54.717Z"
   },
   {
    "duration": 78,
    "start_time": "2022-02-24T08:37:54.749Z"
   },
   {
    "duration": 9,
    "start_time": "2022-02-24T08:37:54.830Z"
   },
   {
    "duration": 12,
    "start_time": "2022-02-24T08:37:54.842Z"
   },
   {
    "duration": 39,
    "start_time": "2022-02-24T08:37:54.856Z"
   },
   {
    "duration": 13,
    "start_time": "2022-02-24T08:37:54.898Z"
   },
   {
    "duration": 11,
    "start_time": "2022-02-24T08:37:54.913Z"
   },
   {
    "duration": 9,
    "start_time": "2022-02-24T08:37:54.927Z"
   },
   {
    "duration": 8,
    "start_time": "2022-02-24T08:37:54.938Z"
   },
   {
    "duration": 50,
    "start_time": "2022-02-24T08:37:54.948Z"
   },
   {
    "duration": 17,
    "start_time": "2022-02-24T08:37:55.001Z"
   },
   {
    "duration": 14,
    "start_time": "2022-02-24T08:37:55.023Z"
   },
   {
    "duration": 10,
    "start_time": "2022-02-24T08:37:55.040Z"
   },
   {
    "duration": 45,
    "start_time": "2022-02-24T08:37:55.053Z"
   },
   {
    "duration": 9,
    "start_time": "2022-02-24T08:37:55.100Z"
   },
   {
    "duration": 59,
    "start_time": "2022-02-24T08:37:55.111Z"
   },
   {
    "duration": 25,
    "start_time": "2022-02-24T08:37:55.172Z"
   },
   {
    "duration": 16,
    "start_time": "2022-02-24T08:37:55.199Z"
   },
   {
    "duration": 6,
    "start_time": "2022-02-24T08:37:55.217Z"
   },
   {
    "duration": 306,
    "start_time": "2022-02-24T08:37:55.225Z"
   },
   {
    "duration": -89,
    "start_time": "2022-02-24T08:37:55.624Z"
   },
   {
    "duration": -93,
    "start_time": "2022-02-24T08:37:55.630Z"
   },
   {
    "duration": -96,
    "start_time": "2022-02-24T08:37:55.635Z"
   },
   {
    "duration": -101,
    "start_time": "2022-02-24T08:37:55.641Z"
   },
   {
    "duration": -104,
    "start_time": "2022-02-24T08:37:55.645Z"
   },
   {
    "duration": -108,
    "start_time": "2022-02-24T08:37:55.651Z"
   },
   {
    "duration": -112,
    "start_time": "2022-02-24T08:37:55.656Z"
   },
   {
    "duration": -115,
    "start_time": "2022-02-24T08:37:55.661Z"
   },
   {
    "duration": -119,
    "start_time": "2022-02-24T08:37:55.666Z"
   },
   {
    "duration": -135,
    "start_time": "2022-02-24T08:37:55.683Z"
   },
   {
    "duration": -138,
    "start_time": "2022-02-24T08:37:55.688Z"
   },
   {
    "duration": -143,
    "start_time": "2022-02-24T08:37:55.694Z"
   },
   {
    "duration": -145,
    "start_time": "2022-02-24T08:37:55.698Z"
   },
   {
    "duration": -150,
    "start_time": "2022-02-24T08:37:55.704Z"
   },
   {
    "duration": -154,
    "start_time": "2022-02-24T08:37:55.709Z"
   },
   {
    "duration": -157,
    "start_time": "2022-02-24T08:37:55.714Z"
   },
   {
    "duration": -161,
    "start_time": "2022-02-24T08:37:55.719Z"
   },
   {
    "duration": -165,
    "start_time": "2022-02-24T08:37:55.725Z"
   },
   {
    "duration": -172,
    "start_time": "2022-02-24T08:37:55.733Z"
   },
   {
    "duration": -177,
    "start_time": "2022-02-24T08:37:55.739Z"
   },
   {
    "duration": -181,
    "start_time": "2022-02-24T08:37:55.745Z"
   },
   {
    "duration": -186,
    "start_time": "2022-02-24T08:37:55.751Z"
   },
   {
    "duration": -189,
    "start_time": "2022-02-24T08:37:55.756Z"
   },
   {
    "duration": 74,
    "start_time": "2022-02-24T08:38:39.749Z"
   },
   {
    "duration": 18,
    "start_time": "2022-02-24T08:38:39.825Z"
   },
   {
    "duration": 49,
    "start_time": "2022-02-24T08:38:39.846Z"
   },
   {
    "duration": 5,
    "start_time": "2022-02-24T08:38:39.898Z"
   },
   {
    "duration": 5,
    "start_time": "2022-02-24T08:38:39.905Z"
   },
   {
    "duration": 27,
    "start_time": "2022-02-24T08:38:39.913Z"
   },
   {
    "duration": 76,
    "start_time": "2022-02-24T08:38:39.943Z"
   },
   {
    "duration": 26,
    "start_time": "2022-02-24T08:38:40.024Z"
   },
   {
    "duration": 48,
    "start_time": "2022-02-24T08:38:40.054Z"
   },
   {
    "duration": 32,
    "start_time": "2022-02-24T08:38:40.105Z"
   },
   {
    "duration": 15,
    "start_time": "2022-02-24T08:38:40.140Z"
   },
   {
    "duration": 31,
    "start_time": "2022-02-24T08:38:40.195Z"
   },
   {
    "duration": 69,
    "start_time": "2022-02-24T08:38:40.229Z"
   },
   {
    "duration": 10,
    "start_time": "2022-02-24T08:38:40.301Z"
   },
   {
    "duration": 11,
    "start_time": "2022-02-24T08:38:40.314Z"
   },
   {
    "duration": 12,
    "start_time": "2022-02-24T08:38:40.327Z"
   },
   {
    "duration": 53,
    "start_time": "2022-02-24T08:38:40.341Z"
   },
   {
    "duration": 7,
    "start_time": "2022-02-24T08:38:40.397Z"
   },
   {
    "duration": 9,
    "start_time": "2022-02-24T08:38:40.406Z"
   },
   {
    "duration": 14,
    "start_time": "2022-02-24T08:38:40.417Z"
   },
   {
    "duration": 10,
    "start_time": "2022-02-24T08:38:40.433Z"
   },
   {
    "duration": 57,
    "start_time": "2022-02-24T08:38:40.445Z"
   },
   {
    "duration": 11,
    "start_time": "2022-02-24T08:38:40.508Z"
   },
   {
    "duration": 13,
    "start_time": "2022-02-24T08:38:40.522Z"
   },
   {
    "duration": 11,
    "start_time": "2022-02-24T08:38:40.538Z"
   },
   {
    "duration": 9,
    "start_time": "2022-02-24T08:38:40.551Z"
   },
   {
    "duration": 36,
    "start_time": "2022-02-24T08:38:40.562Z"
   },
   {
    "duration": 17,
    "start_time": "2022-02-24T08:38:40.601Z"
   },
   {
    "duration": 22,
    "start_time": "2022-02-24T08:38:40.620Z"
   },
   {
    "duration": 6,
    "start_time": "2022-02-24T08:38:40.646Z"
   },
   {
    "duration": 309,
    "start_time": "2022-02-24T08:38:40.655Z"
   },
   {
    "duration": 118,
    "start_time": "2022-02-24T08:38:40.849Z"
   },
   {
    "duration": 113,
    "start_time": "2022-02-24T08:38:40.855Z"
   },
   {
    "duration": 109,
    "start_time": "2022-02-24T08:38:40.860Z"
   },
   {
    "duration": 96,
    "start_time": "2022-02-24T08:38:40.874Z"
   },
   {
    "duration": 92,
    "start_time": "2022-02-24T08:38:40.879Z"
   },
   {
    "duration": 88,
    "start_time": "2022-02-24T08:38:40.885Z"
   },
   {
    "duration": 84,
    "start_time": "2022-02-24T08:38:40.890Z"
   },
   {
    "duration": 78,
    "start_time": "2022-02-24T08:38:40.897Z"
   },
   {
    "duration": 73,
    "start_time": "2022-02-24T08:38:40.903Z"
   },
   {
    "duration": 70,
    "start_time": "2022-02-24T08:38:40.908Z"
   },
   {
    "duration": 66,
    "start_time": "2022-02-24T08:38:40.913Z"
   },
   {
    "duration": 61,
    "start_time": "2022-02-24T08:38:40.919Z"
   },
   {
    "duration": 57,
    "start_time": "2022-02-24T08:38:40.924Z"
   },
   {
    "duration": 53,
    "start_time": "2022-02-24T08:38:40.930Z"
   },
   {
    "duration": 49,
    "start_time": "2022-02-24T08:38:40.935Z"
   },
   {
    "duration": 45,
    "start_time": "2022-02-24T08:38:40.940Z"
   },
   {
    "duration": 41,
    "start_time": "2022-02-24T08:38:40.945Z"
   },
   {
    "duration": 37,
    "start_time": "2022-02-24T08:38:40.951Z"
   },
   {
    "duration": 33,
    "start_time": "2022-02-24T08:38:40.956Z"
   },
   {
    "duration": 30,
    "start_time": "2022-02-24T08:38:40.961Z"
   },
   {
    "duration": 26,
    "start_time": "2022-02-24T08:38:40.966Z"
   },
   {
    "duration": 22,
    "start_time": "2022-02-24T08:38:40.972Z"
   },
   {
    "duration": 6,
    "start_time": "2022-02-24T08:38:40.989Z"
   },
   {
    "duration": 35,
    "start_time": "2022-02-24T08:39:18.386Z"
   },
   {
    "duration": 34,
    "start_time": "2022-02-24T08:43:07.616Z"
   },
   {
    "duration": 28,
    "start_time": "2022-02-24T08:44:03.646Z"
   },
   {
    "duration": 44,
    "start_time": "2022-02-24T08:44:31.147Z"
   },
   {
    "duration": 74,
    "start_time": "2022-02-24T08:45:07.543Z"
   },
   {
    "duration": 38,
    "start_time": "2022-02-24T08:45:07.620Z"
   },
   {
    "duration": 14,
    "start_time": "2022-02-24T08:45:07.695Z"
   },
   {
    "duration": 24,
    "start_time": "2022-02-24T08:45:07.711Z"
   },
   {
    "duration": 10,
    "start_time": "2022-02-24T08:45:07.738Z"
   },
   {
    "duration": 52,
    "start_time": "2022-02-24T08:45:07.750Z"
   },
   {
    "duration": 27,
    "start_time": "2022-02-24T08:45:07.805Z"
   },
   {
    "duration": 22,
    "start_time": "2022-02-24T08:45:07.836Z"
   },
   {
    "duration": 37,
    "start_time": "2022-02-24T08:45:07.861Z"
   },
   {
    "duration": 35,
    "start_time": "2022-02-24T08:45:07.901Z"
   },
   {
    "duration": 13,
    "start_time": "2022-02-24T08:45:07.939Z"
   },
   {
    "duration": 53,
    "start_time": "2022-02-24T08:45:07.955Z"
   },
   {
    "duration": 46,
    "start_time": "2022-02-24T08:45:08.010Z"
   },
   {
    "duration": 10,
    "start_time": "2022-02-24T08:45:08.058Z"
   },
   {
    "duration": 27,
    "start_time": "2022-02-24T08:45:08.093Z"
   },
   {
    "duration": 32,
    "start_time": "2022-02-24T08:45:08.122Z"
   },
   {
    "duration": 38,
    "start_time": "2022-02-24T08:45:08.156Z"
   },
   {
    "duration": 70,
    "start_time": "2022-02-24T08:45:08.196Z"
   },
   {
    "duration": 25,
    "start_time": "2022-02-24T08:45:08.268Z"
   },
   {
    "duration": 39,
    "start_time": "2022-02-24T08:45:08.296Z"
   },
   {
    "duration": 30,
    "start_time": "2022-02-24T08:45:08.337Z"
   },
   {
    "duration": 36,
    "start_time": "2022-02-24T08:45:08.369Z"
   },
   {
    "duration": 20,
    "start_time": "2022-02-24T08:45:08.410Z"
   },
   {
    "duration": 11,
    "start_time": "2022-02-24T08:45:08.433Z"
   },
   {
    "duration": 14,
    "start_time": "2022-02-24T08:45:08.446Z"
   },
   {
    "duration": 9,
    "start_time": "2022-02-24T08:45:08.462Z"
   },
   {
    "duration": 27,
    "start_time": "2022-02-24T08:45:08.474Z"
   },
   {
    "duration": 13,
    "start_time": "2022-02-24T08:45:08.504Z"
   },
   {
    "duration": 30,
    "start_time": "2022-02-24T08:45:08.520Z"
   },
   {
    "duration": 18,
    "start_time": "2022-02-24T08:45:08.552Z"
   },
   {
    "duration": 63,
    "start_time": "2022-02-24T08:45:08.572Z"
   },
   {
    "duration": 7,
    "start_time": "2022-02-24T08:45:08.637Z"
   },
   {
    "duration": 27,
    "start_time": "2022-02-24T08:45:08.646Z"
   },
   {
    "duration": 17,
    "start_time": "2022-02-24T08:45:08.675Z"
   },
   {
    "duration": 17,
    "start_time": "2022-02-24T08:45:08.694Z"
   },
   {
    "duration": 24,
    "start_time": "2022-02-24T08:45:08.713Z"
   },
   {
    "duration": 20,
    "start_time": "2022-02-24T08:45:08.740Z"
   },
   {
    "duration": 17,
    "start_time": "2022-02-24T08:45:08.763Z"
   },
   {
    "duration": 21,
    "start_time": "2022-02-24T08:45:08.782Z"
   },
   {
    "duration": 14,
    "start_time": "2022-02-24T08:45:08.806Z"
   },
   {
    "duration": 31,
    "start_time": "2022-02-24T08:45:08.822Z"
   },
   {
    "duration": 10,
    "start_time": "2022-02-24T08:45:08.855Z"
   },
   {
    "duration": 29,
    "start_time": "2022-02-24T08:45:08.868Z"
   },
   {
    "duration": 17,
    "start_time": "2022-02-24T08:45:08.899Z"
   },
   {
    "duration": 20,
    "start_time": "2022-02-24T08:45:08.919Z"
   },
   {
    "duration": 7,
    "start_time": "2022-02-24T08:45:08.941Z"
   },
   {
    "duration": 45,
    "start_time": "2022-02-24T08:45:08.950Z"
   },
   {
    "duration": 32,
    "start_time": "2022-02-24T08:45:08.998Z"
   },
   {
    "duration": 18,
    "start_time": "2022-02-24T08:45:09.033Z"
   },
   {
    "duration": 55,
    "start_time": "2022-02-24T08:45:09.053Z"
   },
   {
    "duration": 9,
    "start_time": "2022-02-24T08:45:09.110Z"
   },
   {
    "duration": 27,
    "start_time": "2022-02-24T08:45:09.122Z"
   },
   {
    "duration": 48,
    "start_time": "2022-02-24T08:45:09.152Z"
   },
   {
    "duration": 17,
    "start_time": "2022-02-24T08:45:09.203Z"
   },
   {
    "duration": 768,
    "start_time": "2022-02-24T08:51:31.061Z"
   },
   {
    "duration": 766,
    "start_time": "2022-02-24T08:52:18.527Z"
   },
   {
    "duration": 76,
    "start_time": "2022-02-24T08:52:30.816Z"
   },
   {
    "duration": 35,
    "start_time": "2022-02-24T08:52:30.895Z"
   },
   {
    "duration": 23,
    "start_time": "2022-02-24T08:52:30.933Z"
   },
   {
    "duration": 6,
    "start_time": "2022-02-24T08:52:30.959Z"
   },
   {
    "duration": 3,
    "start_time": "2022-02-24T08:52:30.993Z"
   },
   {
    "duration": 46,
    "start_time": "2022-02-24T08:52:30.999Z"
   },
   {
    "duration": 49,
    "start_time": "2022-02-24T08:52:31.048Z"
   },
   {
    "duration": 24,
    "start_time": "2022-02-24T08:52:31.100Z"
   },
   {
    "duration": 14,
    "start_time": "2022-02-24T08:52:31.127Z"
   },
   {
    "duration": 61,
    "start_time": "2022-02-24T08:52:31.143Z"
   },
   {
    "duration": 14,
    "start_time": "2022-02-24T08:52:31.206Z"
   },
   {
    "duration": 31,
    "start_time": "2022-02-24T08:52:31.223Z"
   },
   {
    "duration": 74,
    "start_time": "2022-02-24T08:52:31.256Z"
   },
   {
    "duration": 10,
    "start_time": "2022-02-24T08:52:31.332Z"
   },
   {
    "duration": 13,
    "start_time": "2022-02-24T08:52:31.344Z"
   },
   {
    "duration": 40,
    "start_time": "2022-02-24T08:52:31.359Z"
   },
   {
    "duration": 12,
    "start_time": "2022-02-24T08:52:31.401Z"
   },
   {
    "duration": 50,
    "start_time": "2022-02-24T08:52:31.416Z"
   },
   {
    "duration": 15,
    "start_time": "2022-02-24T08:52:31.469Z"
   },
   {
    "duration": 33,
    "start_time": "2022-02-24T08:52:31.486Z"
   },
   {
    "duration": 34,
    "start_time": "2022-02-24T08:52:31.521Z"
   },
   {
    "duration": 29,
    "start_time": "2022-02-24T08:52:31.557Z"
   },
   {
    "duration": 20,
    "start_time": "2022-02-24T08:52:31.591Z"
   },
   {
    "duration": 12,
    "start_time": "2022-02-24T08:52:31.614Z"
   },
   {
    "duration": 14,
    "start_time": "2022-02-24T08:52:31.628Z"
   },
   {
    "duration": 9,
    "start_time": "2022-02-24T08:52:31.644Z"
   },
   {
    "duration": 23,
    "start_time": "2022-02-24T08:52:31.655Z"
   },
   {
    "duration": 11,
    "start_time": "2022-02-24T08:52:31.693Z"
   },
   {
    "duration": 20,
    "start_time": "2022-02-24T08:52:31.707Z"
   },
   {
    "duration": 14,
    "start_time": "2022-02-24T08:52:31.729Z"
   },
   {
    "duration": 73,
    "start_time": "2022-02-24T08:52:31.745Z"
   },
   {
    "duration": 7,
    "start_time": "2022-02-24T08:52:31.821Z"
   },
   {
    "duration": 24,
    "start_time": "2022-02-24T08:52:31.830Z"
   },
   {
    "duration": 24,
    "start_time": "2022-02-24T08:52:31.857Z"
   },
   {
    "duration": 15,
    "start_time": "2022-02-24T08:52:31.884Z"
   },
   {
    "duration": 15,
    "start_time": "2022-02-24T08:52:31.902Z"
   },
   {
    "duration": 12,
    "start_time": "2022-02-24T08:52:31.920Z"
   },
   {
    "duration": 20,
    "start_time": "2022-02-24T08:52:31.935Z"
   },
   {
    "duration": 23,
    "start_time": "2022-02-24T08:52:31.958Z"
   },
   {
    "duration": 20,
    "start_time": "2022-02-24T08:52:31.984Z"
   },
   {
    "duration": 19,
    "start_time": "2022-02-24T08:52:32.007Z"
   },
   {
    "duration": 14,
    "start_time": "2022-02-24T08:52:32.029Z"
   },
   {
    "duration": 35,
    "start_time": "2022-02-24T08:52:32.045Z"
   },
   {
    "duration": 21,
    "start_time": "2022-02-24T08:52:32.083Z"
   },
   {
    "duration": 22,
    "start_time": "2022-02-24T08:52:32.106Z"
   },
   {
    "duration": 7,
    "start_time": "2022-02-24T08:52:32.131Z"
   },
   {
    "duration": 22,
    "start_time": "2022-02-24T08:52:32.141Z"
   },
   {
    "duration": 60,
    "start_time": "2022-02-24T08:52:32.166Z"
   },
   {
    "duration": 15,
    "start_time": "2022-02-24T08:52:32.228Z"
   },
   {
    "duration": 52,
    "start_time": "2022-02-24T08:52:32.245Z"
   },
   {
    "duration": 9,
    "start_time": "2022-02-24T08:52:32.299Z"
   },
   {
    "duration": 26,
    "start_time": "2022-02-24T08:52:32.311Z"
   },
   {
    "duration": 784,
    "start_time": "2022-02-24T08:52:32.339Z"
   },
   {
    "duration": 438,
    "start_time": "2022-02-24T08:52:32.687Z"
   },
   {
    "duration": 434,
    "start_time": "2022-02-24T08:52:32.692Z"
   },
   {
    "duration": 290,
    "start_time": "2022-02-24T08:54:24.511Z"
   },
   {
    "duration": 77,
    "start_time": "2022-02-24T08:55:20.890Z"
   },
   {
    "duration": 68,
    "start_time": "2022-02-24T08:55:20.970Z"
   },
   {
    "duration": 53,
    "start_time": "2022-02-24T08:55:21.042Z"
   },
   {
    "duration": 5,
    "start_time": "2022-02-24T08:55:21.098Z"
   },
   {
    "duration": 9,
    "start_time": "2022-02-24T08:55:21.106Z"
   },
   {
    "duration": 28,
    "start_time": "2022-02-24T08:55:21.118Z"
   },
   {
    "duration": 70,
    "start_time": "2022-02-24T08:55:21.148Z"
   },
   {
    "duration": 24,
    "start_time": "2022-02-24T08:55:21.222Z"
   },
   {
    "duration": 14,
    "start_time": "2022-02-24T08:55:21.249Z"
   },
   {
    "duration": 56,
    "start_time": "2022-02-24T08:55:21.265Z"
   },
   {
    "duration": 15,
    "start_time": "2022-02-24T08:55:21.324Z"
   },
   {
    "duration": 62,
    "start_time": "2022-02-24T08:55:21.342Z"
   },
   {
    "duration": 86,
    "start_time": "2022-02-24T08:55:21.407Z"
   },
   {
    "duration": 13,
    "start_time": "2022-02-24T08:55:21.497Z"
   },
   {
    "duration": 13,
    "start_time": "2022-02-24T08:55:21.513Z"
   },
   {
    "duration": 16,
    "start_time": "2022-02-24T08:55:21.529Z"
   },
   {
    "duration": 54,
    "start_time": "2022-02-24T08:55:21.548Z"
   },
   {
    "duration": 8,
    "start_time": "2022-02-24T08:55:21.604Z"
   },
   {
    "duration": 11,
    "start_time": "2022-02-24T08:55:21.615Z"
   },
   {
    "duration": 14,
    "start_time": "2022-02-24T08:55:21.629Z"
   },
   {
    "duration": 49,
    "start_time": "2022-02-24T08:55:21.646Z"
   },
   {
    "duration": 17,
    "start_time": "2022-02-24T08:55:21.697Z"
   },
   {
    "duration": 18,
    "start_time": "2022-02-24T08:55:21.721Z"
   },
   {
    "duration": 25,
    "start_time": "2022-02-24T08:55:21.742Z"
   },
   {
    "duration": 25,
    "start_time": "2022-02-24T08:55:21.769Z"
   },
   {
    "duration": 10,
    "start_time": "2022-02-24T08:55:21.796Z"
   },
   {
    "duration": 9,
    "start_time": "2022-02-24T08:55:21.809Z"
   },
   {
    "duration": 18,
    "start_time": "2022-02-24T08:55:21.820Z"
   },
   {
    "duration": 27,
    "start_time": "2022-02-24T08:55:21.841Z"
   },
   {
    "duration": 7,
    "start_time": "2022-02-24T08:55:21.895Z"
   },
   {
    "duration": 46,
    "start_time": "2022-02-24T08:55:21.905Z"
   },
   {
    "duration": 41,
    "start_time": "2022-02-24T08:55:21.953Z"
   },
   {
    "duration": 8,
    "start_time": "2022-02-24T08:55:21.997Z"
   },
   {
    "duration": 6,
    "start_time": "2022-02-24T08:55:22.007Z"
   },
   {
    "duration": 8,
    "start_time": "2022-02-24T08:55:22.016Z"
   },
   {
    "duration": 13,
    "start_time": "2022-02-24T08:55:22.027Z"
   },
   {
    "duration": 52,
    "start_time": "2022-02-24T08:55:22.042Z"
   },
   {
    "duration": 7,
    "start_time": "2022-02-24T08:55:22.097Z"
   },
   {
    "duration": 16,
    "start_time": "2022-02-24T08:55:22.107Z"
   },
   {
    "duration": 5,
    "start_time": "2022-02-24T08:55:22.125Z"
   },
   {
    "duration": 19,
    "start_time": "2022-02-24T08:55:22.133Z"
   },
   {
    "duration": 11,
    "start_time": "2022-02-24T08:55:22.195Z"
   },
   {
    "duration": 17,
    "start_time": "2022-02-24T08:55:22.209Z"
   },
   {
    "duration": 14,
    "start_time": "2022-02-24T08:55:22.228Z"
   },
   {
    "duration": 18,
    "start_time": "2022-02-24T08:55:22.245Z"
   },
   {
    "duration": 8,
    "start_time": "2022-02-24T08:55:22.295Z"
   },
   {
    "duration": 17,
    "start_time": "2022-02-24T08:55:22.306Z"
   },
   {
    "duration": 69,
    "start_time": "2022-02-24T08:55:22.326Z"
   },
   {
    "duration": 17,
    "start_time": "2022-02-24T08:55:22.398Z"
   },
   {
    "duration": 29,
    "start_time": "2022-02-24T08:55:22.418Z"
   },
   {
    "duration": 45,
    "start_time": "2022-02-24T08:55:22.449Z"
   },
   {
    "duration": 17,
    "start_time": "2022-02-24T08:55:22.497Z"
   },
   {
    "duration": 309,
    "start_time": "2022-02-24T08:55:22.517Z"
   },
   {
    "duration": 59,
    "start_time": "2022-02-24T08:55:22.769Z"
   },
   {
    "duration": 44,
    "start_time": "2022-02-24T08:55:22.786Z"
   },
   {
    "duration": 8,
    "start_time": "2022-02-24T08:55:22.823Z"
   },
   {
    "duration": 16,
    "start_time": "2022-02-24T08:55:56.762Z"
   },
   {
    "duration": 16,
    "start_time": "2022-02-24T08:59:35.830Z"
   },
   {
    "duration": 17,
    "start_time": "2022-02-24T09:01:20.279Z"
   },
   {
    "duration": 87,
    "start_time": "2022-02-24T09:01:46.775Z"
   },
   {
    "duration": 47,
    "start_time": "2022-02-24T09:01:46.864Z"
   },
   {
    "duration": 14,
    "start_time": "2022-02-24T09:01:46.914Z"
   },
   {
    "duration": 5,
    "start_time": "2022-02-24T09:01:46.931Z"
   },
   {
    "duration": 13,
    "start_time": "2022-02-24T09:01:46.938Z"
   },
   {
    "duration": 57,
    "start_time": "2022-02-24T09:01:46.953Z"
   },
   {
    "duration": 26,
    "start_time": "2022-02-24T09:01:47.013Z"
   },
   {
    "duration": 61,
    "start_time": "2022-02-24T09:01:47.042Z"
   },
   {
    "duration": 14,
    "start_time": "2022-02-24T09:01:47.106Z"
   },
   {
    "duration": 32,
    "start_time": "2022-02-24T09:01:47.122Z"
   },
   {
    "duration": 44,
    "start_time": "2022-02-24T09:01:47.156Z"
   },
   {
    "duration": 33,
    "start_time": "2022-02-24T09:01:47.203Z"
   },
   {
    "duration": 75,
    "start_time": "2022-02-24T09:01:47.238Z"
   },
   {
    "duration": 11,
    "start_time": "2022-02-24T09:01:47.316Z"
   },
   {
    "duration": 14,
    "start_time": "2022-02-24T09:01:47.329Z"
   },
   {
    "duration": 12,
    "start_time": "2022-02-24T09:01:47.345Z"
   },
   {
    "duration": 45,
    "start_time": "2022-02-24T09:01:47.360Z"
   },
   {
    "duration": 19,
    "start_time": "2022-02-24T09:01:47.407Z"
   },
   {
    "duration": 16,
    "start_time": "2022-02-24T09:01:47.429Z"
   },
   {
    "duration": 12,
    "start_time": "2022-02-24T09:01:47.448Z"
   },
   {
    "duration": 34,
    "start_time": "2022-02-24T09:01:47.462Z"
   },
   {
    "duration": 17,
    "start_time": "2022-02-24T09:01:47.499Z"
   },
   {
    "duration": 12,
    "start_time": "2022-02-24T09:01:47.524Z"
   },
   {
    "duration": 9,
    "start_time": "2022-02-24T09:01:47.541Z"
   },
   {
    "duration": 51,
    "start_time": "2022-02-24T09:01:47.553Z"
   },
   {
    "duration": 9,
    "start_time": "2022-02-24T09:01:47.607Z"
   },
   {
    "duration": 11,
    "start_time": "2022-02-24T09:01:47.621Z"
   },
   {
    "duration": 10,
    "start_time": "2022-02-24T09:01:47.635Z"
   },
   {
    "duration": 15,
    "start_time": "2022-02-24T09:01:47.693Z"
   },
   {
    "duration": 6,
    "start_time": "2022-02-24T09:01:47.710Z"
   },
   {
    "duration": 45,
    "start_time": "2022-02-24T09:01:47.719Z"
   },
   {
    "duration": 32,
    "start_time": "2022-02-24T09:01:47.767Z"
   },
   {
    "duration": 9,
    "start_time": "2022-02-24T09:01:47.801Z"
   },
   {
    "duration": 7,
    "start_time": "2022-02-24T09:01:47.813Z"
   },
   {
    "duration": 12,
    "start_time": "2022-02-24T09:01:47.822Z"
   },
   {
    "duration": 11,
    "start_time": "2022-02-24T09:01:47.836Z"
   },
   {
    "duration": 47,
    "start_time": "2022-02-24T09:01:47.850Z"
   },
   {
    "duration": 10,
    "start_time": "2022-02-24T09:01:47.900Z"
   },
   {
    "duration": 16,
    "start_time": "2022-02-24T09:01:47.912Z"
   },
   {
    "duration": 5,
    "start_time": "2022-02-24T09:01:47.931Z"
   },
   {
    "duration": 32,
    "start_time": "2022-02-24T09:01:47.938Z"
   },
   {
    "duration": 26,
    "start_time": "2022-02-24T09:01:47.972Z"
   },
   {
    "duration": 20,
    "start_time": "2022-02-24T09:01:48.001Z"
   },
   {
    "duration": 25,
    "start_time": "2022-02-24T09:01:48.024Z"
   },
   {
    "duration": 43,
    "start_time": "2022-02-24T09:01:48.052Z"
   },
   {
    "duration": 25,
    "start_time": "2022-02-24T09:01:48.097Z"
   },
   {
    "duration": 7,
    "start_time": "2022-02-24T09:01:48.124Z"
   },
   {
    "duration": 30,
    "start_time": "2022-02-24T09:01:48.134Z"
   },
   {
    "duration": 36,
    "start_time": "2022-02-24T09:01:48.194Z"
   },
   {
    "duration": 16,
    "start_time": "2022-02-24T09:01:48.232Z"
   },
   {
    "duration": 48,
    "start_time": "2022-02-24T09:01:48.251Z"
   },
   {
    "duration": 26,
    "start_time": "2022-02-24T09:01:48.301Z"
   },
   {
    "duration": 10,
    "start_time": "2022-02-24T09:01:48.329Z"
   },
   {
    "duration": 25,
    "start_time": "2022-02-24T09:01:48.341Z"
   },
   {
    "duration": 18,
    "start_time": "2022-02-24T09:01:48.393Z"
   },
   {
    "duration": 300,
    "start_time": "2022-02-24T09:01:48.414Z"
   },
   {
    "duration": 60,
    "start_time": "2022-02-24T09:01:48.656Z"
   },
   {
    "duration": 32,
    "start_time": "2022-02-24T09:01:48.685Z"
   },
   {
    "duration": 25,
    "start_time": "2022-02-24T09:01:48.694Z"
   },
   {
    "duration": 67,
    "start_time": "2022-02-24T09:02:50.778Z"
   },
   {
    "duration": 56,
    "start_time": "2022-02-24T09:02:50.848Z"
   },
   {
    "duration": 15,
    "start_time": "2022-02-24T09:02:50.907Z"
   },
   {
    "duration": 6,
    "start_time": "2022-02-24T09:02:50.924Z"
   },
   {
    "duration": 5,
    "start_time": "2022-02-24T09:02:50.933Z"
   },
   {
    "duration": 67,
    "start_time": "2022-02-24T09:02:50.940Z"
   },
   {
    "duration": 26,
    "start_time": "2022-02-24T09:02:51.010Z"
   },
   {
    "duration": 59,
    "start_time": "2022-02-24T09:02:51.040Z"
   },
   {
    "duration": 14,
    "start_time": "2022-02-24T09:02:51.102Z"
   },
   {
    "duration": 39,
    "start_time": "2022-02-24T09:02:51.118Z"
   },
   {
    "duration": 37,
    "start_time": "2022-02-24T09:02:51.160Z"
   },
   {
    "duration": 31,
    "start_time": "2022-02-24T09:02:51.200Z"
   },
   {
    "duration": 68,
    "start_time": "2022-02-24T09:02:51.233Z"
   },
   {
    "duration": 9,
    "start_time": "2022-02-24T09:02:51.304Z"
   },
   {
    "duration": 23,
    "start_time": "2022-02-24T09:02:51.315Z"
   },
   {
    "duration": 24,
    "start_time": "2022-02-24T09:02:51.340Z"
   },
   {
    "duration": 27,
    "start_time": "2022-02-24T09:02:51.367Z"
   },
   {
    "duration": 22,
    "start_time": "2022-02-24T09:02:51.398Z"
   },
   {
    "duration": 21,
    "start_time": "2022-02-24T09:02:51.423Z"
   },
   {
    "duration": 12,
    "start_time": "2022-02-24T09:02:51.446Z"
   },
   {
    "duration": 25,
    "start_time": "2022-02-24T09:02:51.460Z"
   },
   {
    "duration": 27,
    "start_time": "2022-02-24T09:02:51.487Z"
   },
   {
    "duration": 35,
    "start_time": "2022-02-24T09:02:51.520Z"
   },
   {
    "duration": 15,
    "start_time": "2022-02-24T09:02:51.558Z"
   },
   {
    "duration": 12,
    "start_time": "2022-02-24T09:02:51.575Z"
   },
   {
    "duration": 32,
    "start_time": "2022-02-24T09:02:51.590Z"
   },
   {
    "duration": 20,
    "start_time": "2022-02-24T09:02:51.625Z"
   },
   {
    "duration": 21,
    "start_time": "2022-02-24T09:02:51.647Z"
   },
   {
    "duration": 58,
    "start_time": "2022-02-24T09:02:51.670Z"
   },
   {
    "duration": 13,
    "start_time": "2022-02-24T09:02:51.730Z"
   },
   {
    "duration": 69,
    "start_time": "2022-02-24T09:02:51.746Z"
   },
   {
    "duration": 8,
    "start_time": "2022-02-24T09:02:51.817Z"
   },
   {
    "duration": 16,
    "start_time": "2022-02-24T09:02:51.828Z"
   },
   {
    "duration": 18,
    "start_time": "2022-02-24T09:02:51.846Z"
   },
   {
    "duration": 29,
    "start_time": "2022-02-24T09:02:51.866Z"
   },
   {
    "duration": 30,
    "start_time": "2022-02-24T09:02:51.898Z"
   },
   {
    "duration": 15,
    "start_time": "2022-02-24T09:02:51.931Z"
   },
   {
    "duration": 25,
    "start_time": "2022-02-24T09:02:51.949Z"
   },
   {
    "duration": 32,
    "start_time": "2022-02-24T09:02:51.976Z"
   },
   {
    "duration": 12,
    "start_time": "2022-02-24T09:02:52.011Z"
   },
   {
    "duration": 27,
    "start_time": "2022-02-24T09:02:52.026Z"
   },
   {
    "duration": 17,
    "start_time": "2022-02-24T09:02:52.056Z"
   },
   {
    "duration": 27,
    "start_time": "2022-02-24T09:02:52.076Z"
   },
   {
    "duration": 19,
    "start_time": "2022-02-24T09:02:52.106Z"
   },
   {
    "duration": 16,
    "start_time": "2022-02-24T09:02:52.127Z"
   },
   {
    "duration": 19,
    "start_time": "2022-02-24T09:02:52.146Z"
   },
   {
    "duration": 32,
    "start_time": "2022-02-24T09:02:52.167Z"
   },
   {
    "duration": 42,
    "start_time": "2022-02-24T09:02:52.201Z"
   },
   {
    "duration": 63,
    "start_time": "2022-02-24T09:02:52.246Z"
   },
   {
    "duration": 15,
    "start_time": "2022-02-24T09:02:52.312Z"
   },
   {
    "duration": 30,
    "start_time": "2022-02-24T09:02:52.330Z"
   },
   {
    "duration": 43,
    "start_time": "2022-02-24T09:02:52.362Z"
   },
   {
    "duration": 9,
    "start_time": "2022-02-24T09:02:52.407Z"
   },
   {
    "duration": 35,
    "start_time": "2022-02-24T09:02:52.419Z"
   },
   {
    "duration": 35,
    "start_time": "2022-02-24T09:02:52.457Z"
   },
   {
    "duration": 307,
    "start_time": "2022-02-24T09:02:52.494Z"
   },
   {
    "duration": 63,
    "start_time": "2022-02-24T09:02:52.741Z"
   },
   {
    "duration": 58,
    "start_time": "2022-02-24T09:02:52.748Z"
   },
   {
    "duration": 10,
    "start_time": "2022-02-24T09:02:52.798Z"
   },
   {
    "duration": 16,
    "start_time": "2022-02-24T09:03:31.070Z"
   },
   {
    "duration": 366,
    "start_time": "2022-02-24T09:03:40.306Z"
   },
   {
    "duration": 67,
    "start_time": "2022-02-24T09:03:50.396Z"
   },
   {
    "duration": 56,
    "start_time": "2022-02-24T09:03:50.465Z"
   },
   {
    "duration": 19,
    "start_time": "2022-02-24T09:03:50.524Z"
   },
   {
    "duration": 7,
    "start_time": "2022-02-24T09:03:50.546Z"
   },
   {
    "duration": 5,
    "start_time": "2022-02-24T09:03:50.556Z"
   },
   {
    "duration": 24,
    "start_time": "2022-02-24T09:03:50.595Z"
   },
   {
    "duration": 27,
    "start_time": "2022-02-24T09:03:50.621Z"
   },
   {
    "duration": 63,
    "start_time": "2022-02-24T09:03:50.652Z"
   },
   {
    "duration": 15,
    "start_time": "2022-02-24T09:03:50.720Z"
   },
   {
    "duration": 76,
    "start_time": "2022-02-24T09:03:50.740Z"
   },
   {
    "duration": 14,
    "start_time": "2022-02-24T09:03:50.819Z"
   },
   {
    "duration": 33,
    "start_time": "2022-02-24T09:03:50.835Z"
   },
   {
    "duration": 46,
    "start_time": "2022-02-24T09:03:50.894Z"
   },
   {
    "duration": 9,
    "start_time": "2022-02-24T09:03:50.943Z"
   },
   {
    "duration": 11,
    "start_time": "2022-02-24T09:03:50.954Z"
   },
   {
    "duration": 12,
    "start_time": "2022-02-24T09:03:50.994Z"
   },
   {
    "duration": 16,
    "start_time": "2022-02-24T09:03:51.008Z"
   },
   {
    "duration": 14,
    "start_time": "2022-02-24T09:03:51.027Z"
   },
   {
    "duration": 10,
    "start_time": "2022-02-24T09:03:51.044Z"
   },
   {
    "duration": 38,
    "start_time": "2022-02-24T09:03:51.057Z"
   },
   {
    "duration": 10,
    "start_time": "2022-02-24T09:03:51.097Z"
   },
   {
    "duration": 16,
    "start_time": "2022-02-24T09:03:51.110Z"
   },
   {
    "duration": 15,
    "start_time": "2022-02-24T09:03:51.128Z"
   },
   {
    "duration": 9,
    "start_time": "2022-02-24T09:03:51.146Z"
   },
   {
    "duration": 43,
    "start_time": "2022-02-24T09:03:51.158Z"
   },
   {
    "duration": 10,
    "start_time": "2022-02-24T09:03:51.204Z"
   },
   {
    "duration": 8,
    "start_time": "2022-02-24T09:03:51.220Z"
   },
   {
    "duration": 10,
    "start_time": "2022-02-24T09:03:51.231Z"
   },
   {
    "duration": 61,
    "start_time": "2022-02-24T09:03:51.244Z"
   },
   {
    "duration": 5,
    "start_time": "2022-02-24T09:03:51.307Z"
   },
   {
    "duration": 48,
    "start_time": "2022-02-24T09:03:51.314Z"
   },
   {
    "duration": 29,
    "start_time": "2022-02-24T09:03:51.364Z"
   },
   {
    "duration": 5,
    "start_time": "2022-02-24T09:03:51.396Z"
   },
   {
    "duration": 7,
    "start_time": "2022-02-24T09:03:51.404Z"
   },
   {
    "duration": 10,
    "start_time": "2022-02-24T09:03:51.413Z"
   },
   {
    "duration": 10,
    "start_time": "2022-02-24T09:03:51.425Z"
   },
   {
    "duration": 11,
    "start_time": "2022-02-24T09:03:51.438Z"
   },
   {
    "duration": 12,
    "start_time": "2022-02-24T09:03:51.451Z"
   },
   {
    "duration": 15,
    "start_time": "2022-02-24T09:03:51.494Z"
   },
   {
    "duration": 5,
    "start_time": "2022-02-24T09:03:51.511Z"
   },
   {
    "duration": 18,
    "start_time": "2022-02-24T09:03:51.518Z"
   },
   {
    "duration": 17,
    "start_time": "2022-02-24T09:03:51.538Z"
   },
   {
    "duration": 49,
    "start_time": "2022-02-24T09:03:51.557Z"
   },
   {
    "duration": 15,
    "start_time": "2022-02-24T09:03:51.608Z"
   },
   {
    "duration": 18,
    "start_time": "2022-02-24T09:03:51.626Z"
   },
   {
    "duration": 28,
    "start_time": "2022-02-24T09:03:51.646Z"
   },
   {
    "duration": 20,
    "start_time": "2022-02-24T09:03:51.676Z"
   },
   {
    "duration": 20,
    "start_time": "2022-02-24T09:03:51.699Z"
   },
   {
    "duration": 35,
    "start_time": "2022-02-24T09:03:51.721Z"
   },
   {
    "duration": 47,
    "start_time": "2022-02-24T09:03:51.758Z"
   },
   {
    "duration": 15,
    "start_time": "2022-02-24T09:03:51.808Z"
   },
   {
    "duration": 26,
    "start_time": "2022-02-24T09:03:51.825Z"
   },
   {
    "duration": 44,
    "start_time": "2022-02-24T09:03:51.853Z"
   },
   {
    "duration": 21,
    "start_time": "2022-02-24T09:03:51.899Z"
   },
   {
    "duration": 18,
    "start_time": "2022-02-24T09:03:51.923Z"
   },
   {
    "duration": 292,
    "start_time": "2022-02-24T09:03:51.944Z"
   },
   {
    "duration": -178,
    "start_time": "2022-02-24T09:03:52.417Z"
   },
   {
    "duration": -196,
    "start_time": "2022-02-24T09:03:52.437Z"
   },
   {
    "duration": -216,
    "start_time": "2022-02-24T09:03:52.458Z"
   },
   {
    "duration": 281,
    "start_time": "2022-02-24T09:04:19.488Z"
   },
   {
    "duration": 6,
    "start_time": "2022-02-24T09:04:29.107Z"
   },
   {
    "duration": 37,
    "start_time": "2022-02-24T09:05:30.001Z"
   },
   {
    "duration": 5,
    "start_time": "2022-02-24T09:06:23.139Z"
   },
   {
    "duration": 764,
    "start_time": "2022-02-24T09:06:31.373Z"
   },
   {
    "duration": 32,
    "start_time": "2022-02-24T09:06:56.891Z"
   },
   {
    "duration": 68,
    "start_time": "2022-02-24T09:15:55.924Z"
   },
   {
    "duration": 39,
    "start_time": "2022-02-24T09:15:55.995Z"
   },
   {
    "duration": 59,
    "start_time": "2022-02-24T09:15:56.038Z"
   },
   {
    "duration": 6,
    "start_time": "2022-02-24T09:15:56.100Z"
   },
   {
    "duration": 16,
    "start_time": "2022-02-24T09:15:56.108Z"
   },
   {
    "duration": 29,
    "start_time": "2022-02-24T09:15:56.127Z"
   },
   {
    "duration": 56,
    "start_time": "2022-02-24T09:15:56.159Z"
   },
   {
    "duration": 24,
    "start_time": "2022-02-24T09:15:56.219Z"
   },
   {
    "duration": 14,
    "start_time": "2022-02-24T09:15:56.246Z"
   },
   {
    "duration": 60,
    "start_time": "2022-02-24T09:15:56.262Z"
   },
   {
    "duration": 13,
    "start_time": "2022-02-24T09:15:56.325Z"
   },
   {
    "duration": 77,
    "start_time": "2022-02-24T09:15:56.341Z"
   },
   {
    "duration": 86,
    "start_time": "2022-02-24T09:15:56.422Z"
   },
   {
    "duration": 15,
    "start_time": "2022-02-24T09:15:56.511Z"
   },
   {
    "duration": 12,
    "start_time": "2022-02-24T09:15:56.528Z"
   },
   {
    "duration": 13,
    "start_time": "2022-02-24T09:15:56.542Z"
   },
   {
    "duration": 38,
    "start_time": "2022-02-24T09:15:56.557Z"
   },
   {
    "duration": 11,
    "start_time": "2022-02-24T09:15:56.598Z"
   },
   {
    "duration": 21,
    "start_time": "2022-02-24T09:15:56.612Z"
   },
   {
    "duration": 8,
    "start_time": "2022-02-24T09:15:56.636Z"
   },
   {
    "duration": 49,
    "start_time": "2022-02-24T09:15:56.646Z"
   },
   {
    "duration": 16,
    "start_time": "2022-02-24T09:15:56.697Z"
   },
   {
    "duration": 19,
    "start_time": "2022-02-24T09:15:56.719Z"
   },
   {
    "duration": 14,
    "start_time": "2022-02-24T09:15:56.741Z"
   },
   {
    "duration": 40,
    "start_time": "2022-02-24T09:15:56.757Z"
   },
   {
    "duration": 10,
    "start_time": "2022-02-24T09:15:56.799Z"
   },
   {
    "duration": 12,
    "start_time": "2022-02-24T09:15:56.811Z"
   },
   {
    "duration": 10,
    "start_time": "2022-02-24T09:15:56.826Z"
   },
   {
    "duration": 18,
    "start_time": "2022-02-24T09:15:56.838Z"
   },
   {
    "duration": 41,
    "start_time": "2022-02-24T09:15:56.858Z"
   },
   {
    "duration": 68,
    "start_time": "2022-02-24T09:15:56.902Z"
   },
   {
    "duration": 8,
    "start_time": "2022-02-24T09:15:56.993Z"
   },
   {
    "duration": 16,
    "start_time": "2022-02-24T09:15:57.003Z"
   },
   {
    "duration": 20,
    "start_time": "2022-02-24T09:15:57.022Z"
   },
   {
    "duration": 17,
    "start_time": "2022-02-24T09:15:57.044Z"
   },
   {
    "duration": 12,
    "start_time": "2022-02-24T09:15:57.063Z"
   },
   {
    "duration": 6,
    "start_time": "2022-02-24T09:15:57.093Z"
   },
   {
    "duration": 10,
    "start_time": "2022-02-24T09:15:57.101Z"
   },
   {
    "duration": 17,
    "start_time": "2022-02-24T09:15:57.114Z"
   },
   {
    "duration": 5,
    "start_time": "2022-02-24T09:15:57.133Z"
   },
   {
    "duration": 16,
    "start_time": "2022-02-24T09:15:57.140Z"
   },
   {
    "duration": 38,
    "start_time": "2022-02-24T09:15:57.159Z"
   },
   {
    "duration": 18,
    "start_time": "2022-02-24T09:15:57.200Z"
   },
   {
    "duration": 15,
    "start_time": "2022-02-24T09:15:57.220Z"
   },
   {
    "duration": 15,
    "start_time": "2022-02-24T09:15:57.238Z"
   },
   {
    "duration": 48,
    "start_time": "2022-02-24T09:15:57.256Z"
   },
   {
    "duration": 8,
    "start_time": "2022-02-24T09:15:57.306Z"
   },
   {
    "duration": 21,
    "start_time": "2022-02-24T09:15:57.316Z"
   },
   {
    "duration": 74,
    "start_time": "2022-02-24T09:15:57.340Z"
   },
   {
    "duration": 15,
    "start_time": "2022-02-24T09:15:57.417Z"
   },
   {
    "duration": 28,
    "start_time": "2022-02-24T09:15:57.434Z"
   },
   {
    "duration": 35,
    "start_time": "2022-02-24T09:15:57.464Z"
   },
   {
    "duration": 28,
    "start_time": "2022-02-24T09:15:57.502Z"
   },
   {
    "duration": 29,
    "start_time": "2022-02-24T09:15:57.532Z"
   },
   {
    "duration": 52,
    "start_time": "2022-02-24T09:15:57.564Z"
   },
   {
    "duration": 17,
    "start_time": "2022-02-24T09:15:57.618Z"
   },
   {
    "duration": 9,
    "start_time": "2022-02-24T09:25:13.889Z"
   },
   {
    "duration": 19,
    "start_time": "2022-02-24T09:26:48.875Z"
   },
   {
    "duration": 72,
    "start_time": "2022-02-24T09:29:00.344Z"
   },
   {
    "duration": 17,
    "start_time": "2022-02-24T09:29:00.418Z"
   },
   {
    "duration": 20,
    "start_time": "2022-02-24T09:29:00.438Z"
   },
   {
    "duration": 35,
    "start_time": "2022-02-24T09:29:00.461Z"
   },
   {
    "duration": 33,
    "start_time": "2022-02-24T09:29:00.499Z"
   },
   {
    "duration": 35,
    "start_time": "2022-02-24T09:29:00.536Z"
   },
   {
    "duration": 40,
    "start_time": "2022-02-24T09:29:00.573Z"
   },
   {
    "duration": 24,
    "start_time": "2022-02-24T09:29:00.617Z"
   },
   {
    "duration": 14,
    "start_time": "2022-02-24T09:29:00.644Z"
   },
   {
    "duration": 59,
    "start_time": "2022-02-24T09:29:00.660Z"
   },
   {
    "duration": 13,
    "start_time": "2022-02-24T09:29:00.721Z"
   },
   {
    "duration": 58,
    "start_time": "2022-02-24T09:29:00.737Z"
   },
   {
    "duration": 48,
    "start_time": "2022-02-24T09:29:00.798Z"
   },
   {
    "duration": 9,
    "start_time": "2022-02-24T09:29:00.848Z"
   },
   {
    "duration": 40,
    "start_time": "2022-02-24T09:29:00.860Z"
   },
   {
    "duration": 25,
    "start_time": "2022-02-24T09:29:00.902Z"
   },
   {
    "duration": 40,
    "start_time": "2022-02-24T09:29:00.929Z"
   },
   {
    "duration": 19,
    "start_time": "2022-02-24T09:29:00.972Z"
   },
   {
    "duration": 63,
    "start_time": "2022-02-24T09:29:00.993Z"
   },
   {
    "duration": 50,
    "start_time": "2022-02-24T09:29:01.058Z"
   },
   {
    "duration": 15,
    "start_time": "2022-02-24T09:29:01.111Z"
   },
   {
    "duration": 43,
    "start_time": "2022-02-24T09:29:01.128Z"
   },
   {
    "duration": 26,
    "start_time": "2022-02-24T09:29:01.177Z"
   },
   {
    "duration": 39,
    "start_time": "2022-02-24T09:29:01.206Z"
   },
   {
    "duration": 18,
    "start_time": "2022-02-24T09:29:01.247Z"
   },
   {
    "duration": 13,
    "start_time": "2022-02-24T09:29:01.267Z"
   },
   {
    "duration": 17,
    "start_time": "2022-02-24T09:29:01.282Z"
   },
   {
    "duration": 30,
    "start_time": "2022-02-24T09:29:01.301Z"
   },
   {
    "duration": 25,
    "start_time": "2022-02-24T09:29:01.334Z"
   },
   {
    "duration": 11,
    "start_time": "2022-02-24T09:29:01.361Z"
   },
   {
    "duration": 52,
    "start_time": "2022-02-24T09:29:01.375Z"
   },
   {
    "duration": 7,
    "start_time": "2022-02-24T09:29:01.429Z"
   },
   {
    "duration": 37,
    "start_time": "2022-02-24T09:29:01.438Z"
   },
   {
    "duration": 11,
    "start_time": "2022-02-24T09:29:01.477Z"
   },
   {
    "duration": 12,
    "start_time": "2022-02-24T09:29:01.491Z"
   },
   {
    "duration": 19,
    "start_time": "2022-02-24T09:29:01.506Z"
   },
   {
    "duration": 6,
    "start_time": "2022-02-24T09:29:01.528Z"
   },
   {
    "duration": 10,
    "start_time": "2022-02-24T09:29:01.537Z"
   },
   {
    "duration": 25,
    "start_time": "2022-02-24T09:29:01.550Z"
   },
   {
    "duration": 17,
    "start_time": "2022-02-24T09:29:01.578Z"
   },
   {
    "duration": 18,
    "start_time": "2022-02-24T09:29:01.598Z"
   },
   {
    "duration": 35,
    "start_time": "2022-02-24T09:29:01.618Z"
   },
   {
    "duration": 31,
    "start_time": "2022-02-24T09:29:01.656Z"
   },
   {
    "duration": 16,
    "start_time": "2022-02-24T09:29:01.689Z"
   },
   {
    "duration": 18,
    "start_time": "2022-02-24T09:29:01.708Z"
   },
   {
    "duration": 24,
    "start_time": "2022-02-24T09:29:01.729Z"
   },
   {
    "duration": 10,
    "start_time": "2022-02-24T09:29:01.756Z"
   },
   {
    "duration": 49,
    "start_time": "2022-02-24T09:29:01.768Z"
   },
   {
    "duration": 37,
    "start_time": "2022-02-24T09:29:01.819Z"
   },
   {
    "duration": 35,
    "start_time": "2022-02-24T09:29:01.859Z"
   },
   {
    "duration": 41,
    "start_time": "2022-02-24T09:29:01.897Z"
   },
   {
    "duration": 9,
    "start_time": "2022-02-24T09:29:01.940Z"
   },
   {
    "duration": 43,
    "start_time": "2022-02-24T09:29:01.952Z"
   },
   {
    "duration": 27,
    "start_time": "2022-02-24T09:29:01.997Z"
   },
   {
    "duration": 27,
    "start_time": "2022-02-24T09:29:02.026Z"
   },
   {
    "duration": 44,
    "start_time": "2022-02-24T09:29:02.055Z"
   },
   {
    "duration": 9,
    "start_time": "2022-02-24T09:31:34.453Z"
   },
   {
    "duration": 67,
    "start_time": "2022-02-24T09:33:55.310Z"
   },
   {
    "duration": 18,
    "start_time": "2022-02-24T09:33:55.379Z"
   },
   {
    "duration": 14,
    "start_time": "2022-02-24T09:33:55.400Z"
   },
   {
    "duration": 5,
    "start_time": "2022-02-24T09:33:55.417Z"
   },
   {
    "duration": 8,
    "start_time": "2022-02-24T09:33:55.425Z"
   },
   {
    "duration": 71,
    "start_time": "2022-02-24T09:33:55.435Z"
   },
   {
    "duration": 25,
    "start_time": "2022-02-24T09:33:55.508Z"
   },
   {
    "duration": 58,
    "start_time": "2022-02-24T09:33:55.537Z"
   },
   {
    "duration": 14,
    "start_time": "2022-02-24T09:33:55.598Z"
   },
   {
    "duration": 32,
    "start_time": "2022-02-24T09:33:55.615Z"
   },
   {
    "duration": 53,
    "start_time": "2022-02-24T09:33:55.650Z"
   },
   {
    "duration": 29,
    "start_time": "2022-02-24T09:33:55.706Z"
   },
   {
    "duration": 78,
    "start_time": "2022-02-24T09:33:55.737Z"
   },
   {
    "duration": 9,
    "start_time": "2022-02-24T09:33:55.817Z"
   },
   {
    "duration": 14,
    "start_time": "2022-02-24T09:33:55.829Z"
   },
   {
    "duration": 13,
    "start_time": "2022-02-24T09:33:55.846Z"
   },
   {
    "duration": 13,
    "start_time": "2022-02-24T09:33:55.893Z"
   },
   {
    "duration": 8,
    "start_time": "2022-02-24T09:33:55.908Z"
   },
   {
    "duration": 11,
    "start_time": "2022-02-24T09:33:55.918Z"
   },
   {
    "duration": 10,
    "start_time": "2022-02-24T09:33:55.932Z"
   },
   {
    "duration": 51,
    "start_time": "2022-02-24T09:33:55.944Z"
   },
   {
    "duration": 19,
    "start_time": "2022-02-24T09:33:55.997Z"
   },
   {
    "duration": 12,
    "start_time": "2022-02-24T09:33:56.023Z"
   },
   {
    "duration": 10,
    "start_time": "2022-02-24T09:33:56.038Z"
   },
   {
    "duration": 7,
    "start_time": "2022-02-24T09:33:56.050Z"
   },
   {
    "duration": 39,
    "start_time": "2022-02-24T09:33:56.060Z"
   },
   {
    "duration": 10,
    "start_time": "2022-02-24T09:33:56.102Z"
   },
   {
    "duration": 12,
    "start_time": "2022-02-24T09:33:56.115Z"
   },
   {
    "duration": 16,
    "start_time": "2022-02-24T09:33:56.130Z"
   },
   {
    "duration": 48,
    "start_time": "2022-02-24T09:33:56.149Z"
   },
   {
    "duration": 47,
    "start_time": "2022-02-24T09:33:56.200Z"
   },
   {
    "duration": 9,
    "start_time": "2022-02-24T09:33:56.250Z"
   },
   {
    "duration": 39,
    "start_time": "2022-02-24T09:33:56.261Z"
   },
   {
    "duration": 5,
    "start_time": "2022-02-24T09:33:56.303Z"
   },
   {
    "duration": 9,
    "start_time": "2022-02-24T09:33:56.311Z"
   },
   {
    "duration": 13,
    "start_time": "2022-02-24T09:33:56.323Z"
   },
   {
    "duration": 6,
    "start_time": "2022-02-24T09:33:56.339Z"
   },
   {
    "duration": 5,
    "start_time": "2022-02-24T09:33:56.395Z"
   },
   {
    "duration": 17,
    "start_time": "2022-02-24T09:33:56.402Z"
   },
   {
    "duration": 6,
    "start_time": "2022-02-24T09:33:56.421Z"
   },
   {
    "duration": 23,
    "start_time": "2022-02-24T09:33:56.430Z"
   },
   {
    "duration": 37,
    "start_time": "2022-02-24T09:33:56.456Z"
   },
   {
    "duration": 15,
    "start_time": "2022-02-24T09:33:56.496Z"
   },
   {
    "duration": 14,
    "start_time": "2022-02-24T09:33:56.514Z"
   },
   {
    "duration": 11,
    "start_time": "2022-02-24T09:33:56.531Z"
   },
   {
    "duration": 51,
    "start_time": "2022-02-24T09:33:56.544Z"
   },
   {
    "duration": 8,
    "start_time": "2022-02-24T09:33:56.597Z"
   },
   {
    "duration": 21,
    "start_time": "2022-02-24T09:33:56.607Z"
   },
   {
    "duration": 32,
    "start_time": "2022-02-24T09:33:56.630Z"
   },
   {
    "duration": 43,
    "start_time": "2022-02-24T09:33:56.664Z"
   },
   {
    "duration": 29,
    "start_time": "2022-02-24T09:33:56.710Z"
   },
   {
    "duration": 9,
    "start_time": "2022-02-24T09:33:56.742Z"
   },
   {
    "duration": 46,
    "start_time": "2022-02-24T09:33:56.753Z"
   },
   {
    "duration": 31,
    "start_time": "2022-02-24T09:33:56.801Z"
   },
   {
    "duration": 26,
    "start_time": "2022-02-24T09:33:56.835Z"
   },
   {
    "duration": 41,
    "start_time": "2022-02-24T09:33:56.863Z"
   },
   {
    "duration": 9,
    "start_time": "2022-02-24T09:53:06.638Z"
   },
   {
    "duration": 16,
    "start_time": "2022-02-24T09:53:12.553Z"
   },
   {
    "duration": 290,
    "start_time": "2022-02-24T09:53:43.687Z"
   },
   {
    "duration": 12,
    "start_time": "2022-02-24T09:54:21.708Z"
   },
   {
    "duration": 16,
    "start_time": "2022-02-24T09:54:25.357Z"
   },
   {
    "duration": 353,
    "start_time": "2022-02-24T10:18:25.651Z"
   },
   {
    "duration": 29,
    "start_time": "2022-02-24T10:18:50.546Z"
   },
   {
    "duration": 554,
    "start_time": "2022-02-24T10:30:28.079Z"
   },
   {
    "duration": 81,
    "start_time": "2022-02-24T10:34:57.305Z"
   },
   {
    "duration": 18,
    "start_time": "2022-02-24T10:34:57.388Z"
   },
   {
    "duration": 21,
    "start_time": "2022-02-24T10:34:57.409Z"
   },
   {
    "duration": 5,
    "start_time": "2022-02-24T10:34:57.433Z"
   },
   {
    "duration": 6,
    "start_time": "2022-02-24T10:34:57.441Z"
   },
   {
    "duration": 64,
    "start_time": "2022-02-24T10:34:57.449Z"
   },
   {
    "duration": 27,
    "start_time": "2022-02-24T10:34:57.516Z"
   },
   {
    "duration": 58,
    "start_time": "2022-02-24T10:34:57.547Z"
   },
   {
    "duration": 17,
    "start_time": "2022-02-24T10:34:57.608Z"
   },
   {
    "duration": 33,
    "start_time": "2022-02-24T10:34:57.627Z"
   },
   {
    "duration": 15,
    "start_time": "2022-02-24T10:34:57.693Z"
   },
   {
    "duration": 32,
    "start_time": "2022-02-24T10:34:57.711Z"
   },
   {
    "duration": 78,
    "start_time": "2022-02-24T10:34:57.745Z"
   },
   {
    "duration": 440,
    "start_time": "2022-02-24T10:34:57.825Z"
   },
   {
    "duration": 9,
    "start_time": "2022-02-24T10:34:58.267Z"
   },
   {
    "duration": 7,
    "start_time": "2022-02-24T10:34:58.294Z"
   },
   {
    "duration": 13,
    "start_time": "2022-02-24T10:34:58.303Z"
   },
   {
    "duration": 10,
    "start_time": "2022-02-24T10:34:58.319Z"
   },
   {
    "duration": 15,
    "start_time": "2022-02-24T10:34:58.331Z"
   },
   {
    "duration": 47,
    "start_time": "2022-02-24T10:34:58.348Z"
   },
   {
    "duration": 33,
    "start_time": "2022-02-24T10:34:58.398Z"
   },
   {
    "duration": 16,
    "start_time": "2022-02-24T10:34:58.434Z"
   },
   {
    "duration": 33,
    "start_time": "2022-02-24T10:34:58.461Z"
   },
   {
    "duration": 14,
    "start_time": "2022-02-24T10:34:58.497Z"
   },
   {
    "duration": 12,
    "start_time": "2022-02-24T10:34:58.513Z"
   },
   {
    "duration": 16,
    "start_time": "2022-02-24T10:34:58.528Z"
   },
   {
    "duration": 10,
    "start_time": "2022-02-24T10:34:58.547Z"
   },
   {
    "duration": 38,
    "start_time": "2022-02-24T10:34:58.559Z"
   },
   {
    "duration": 11,
    "start_time": "2022-02-24T10:34:58.600Z"
   },
   {
    "duration": 20,
    "start_time": "2022-02-24T10:34:58.613Z"
   },
   {
    "duration": 7,
    "start_time": "2022-02-24T10:34:58.635Z"
   },
   {
    "duration": 77,
    "start_time": "2022-02-24T10:34:58.644Z"
   },
   {
    "duration": 7,
    "start_time": "2022-02-24T10:34:58.724Z"
   },
   {
    "duration": 7,
    "start_time": "2022-02-24T10:34:58.734Z"
   },
   {
    "duration": 8,
    "start_time": "2022-02-24T10:34:58.744Z"
   },
   {
    "duration": 39,
    "start_time": "2022-02-24T10:34:58.754Z"
   },
   {
    "duration": 13,
    "start_time": "2022-02-24T10:34:58.796Z"
   },
   {
    "duration": 6,
    "start_time": "2022-02-24T10:34:58.812Z"
   },
   {
    "duration": 11,
    "start_time": "2022-02-24T10:34:58.821Z"
   },
   {
    "duration": 17,
    "start_time": "2022-02-24T10:34:58.834Z"
   },
   {
    "duration": 40,
    "start_time": "2022-02-24T10:34:58.854Z"
   },
   {
    "duration": 22,
    "start_time": "2022-02-24T10:34:58.896Z"
   },
   {
    "duration": 13,
    "start_time": "2022-02-24T10:34:58.921Z"
   },
   {
    "duration": 28,
    "start_time": "2022-02-24T10:34:58.936Z"
   },
   {
    "duration": 14,
    "start_time": "2022-02-24T10:34:58.967Z"
   },
   {
    "duration": 14,
    "start_time": "2022-02-24T10:34:58.994Z"
   },
   {
    "duration": 20,
    "start_time": "2022-02-24T10:34:59.010Z"
   },
   {
    "duration": 8,
    "start_time": "2022-02-24T10:34:59.032Z"
   },
   {
    "duration": 51,
    "start_time": "2022-02-24T10:34:59.042Z"
   },
   {
    "duration": 34,
    "start_time": "2022-02-24T10:34:59.096Z"
   },
   {
    "duration": 16,
    "start_time": "2022-02-24T10:34:59.133Z"
   },
   {
    "duration": 62,
    "start_time": "2022-02-24T10:34:59.152Z"
   },
   {
    "duration": 9,
    "start_time": "2022-02-24T10:34:59.217Z"
   },
   {
    "duration": 27,
    "start_time": "2022-02-24T10:34:59.229Z"
   },
   {
    "duration": 57,
    "start_time": "2022-02-24T10:34:59.259Z"
   },
   {
    "duration": 31,
    "start_time": "2022-02-24T10:34:59.319Z"
   },
   {
    "duration": 43,
    "start_time": "2022-02-24T10:34:59.353Z"
   },
   {
    "duration": 430,
    "start_time": "2022-02-24T10:36:24.815Z"
   },
   {
    "duration": 468,
    "start_time": "2022-02-24T10:36:40.159Z"
   },
   {
    "duration": 429,
    "start_time": "2022-02-24T10:36:54.769Z"
   },
   {
    "duration": 357,
    "start_time": "2022-02-24T10:42:54.753Z"
   },
   {
    "duration": 5,
    "start_time": "2022-02-24T10:43:10.293Z"
   },
   {
    "duration": 338,
    "start_time": "2022-02-24T10:44:27.770Z"
   },
   {
    "duration": 291,
    "start_time": "2022-02-24T10:44:42.787Z"
   },
   {
    "duration": 320,
    "start_time": "2022-02-24T10:44:55.494Z"
   },
   {
    "duration": 383,
    "start_time": "2022-02-24T10:47:02.320Z"
   },
   {
    "duration": 7541,
    "start_time": "2022-02-24T10:48:53.535Z"
   },
   {
    "duration": 8192,
    "start_time": "2022-02-24T10:49:12.032Z"
   },
   {
    "duration": 312,
    "start_time": "2022-02-24T10:50:00.231Z"
   },
   {
    "duration": 5883,
    "start_time": "2022-02-24T10:50:36.678Z"
   },
   {
    "duration": 348,
    "start_time": "2022-02-24T10:51:17.237Z"
   },
   {
    "duration": 18,
    "start_time": "2022-02-24T10:51:51.415Z"
   },
   {
    "duration": 32,
    "start_time": "2022-02-24T10:52:13.593Z"
   },
   {
    "duration": 75,
    "start_time": "2022-02-24T10:52:40.679Z"
   },
   {
    "duration": 38,
    "start_time": "2022-02-24T10:52:40.757Z"
   },
   {
    "duration": 13,
    "start_time": "2022-02-24T10:52:40.798Z"
   },
   {
    "duration": 5,
    "start_time": "2022-02-24T10:52:40.813Z"
   },
   {
    "duration": 4,
    "start_time": "2022-02-24T10:52:40.820Z"
   },
   {
    "duration": 74,
    "start_time": "2022-02-24T10:52:40.827Z"
   },
   {
    "duration": 28,
    "start_time": "2022-02-24T10:52:40.904Z"
   },
   {
    "duration": 69,
    "start_time": "2022-02-24T10:52:40.936Z"
   },
   {
    "duration": 16,
    "start_time": "2022-02-24T10:52:41.009Z"
   },
   {
    "duration": 67,
    "start_time": "2022-02-24T10:52:41.028Z"
   },
   {
    "duration": 33,
    "start_time": "2022-02-24T10:52:41.098Z"
   },
   {
    "duration": 6,
    "start_time": "2022-02-24T10:52:41.134Z"
   },
   {
    "duration": 70,
    "start_time": "2022-02-24T10:52:41.142Z"
   },
   {
    "duration": 324,
    "start_time": "2022-02-24T10:52:41.215Z"
   },
   {
    "duration": 69,
    "start_time": "2022-02-24T10:52:41.542Z"
   },
   {
    "duration": 469,
    "start_time": "2022-02-24T10:52:41.614Z"
   },
   {
    "duration": 30,
    "start_time": "2022-02-24T10:52:42.085Z"
   },
   {
    "duration": 8,
    "start_time": "2022-02-24T10:52:42.118Z"
   },
   {
    "duration": 18,
    "start_time": "2022-02-24T10:52:42.129Z"
   },
   {
    "duration": 45,
    "start_time": "2022-02-24T10:52:42.149Z"
   },
   {
    "duration": 10,
    "start_time": "2022-02-24T10:52:42.197Z"
   },
   {
    "duration": 9,
    "start_time": "2022-02-24T10:52:42.210Z"
   },
   {
    "duration": 8,
    "start_time": "2022-02-24T10:52:42.225Z"
   },
   {
    "duration": 11,
    "start_time": "2022-02-24T10:52:42.236Z"
   },
   {
    "duration": 17,
    "start_time": "2022-02-24T10:52:42.295Z"
   },
   {
    "duration": 15,
    "start_time": "2022-02-24T10:52:42.315Z"
   },
   {
    "duration": 11,
    "start_time": "2022-02-24T10:52:42.333Z"
   },
   {
    "duration": 50,
    "start_time": "2022-02-24T10:52:42.347Z"
   },
   {
    "duration": 16,
    "start_time": "2022-02-24T10:52:42.400Z"
   },
   {
    "duration": 14,
    "start_time": "2022-02-24T10:52:42.419Z"
   },
   {
    "duration": 16,
    "start_time": "2022-02-24T10:52:42.435Z"
   },
   {
    "duration": 41,
    "start_time": "2022-02-24T10:52:42.453Z"
   },
   {
    "duration": 7,
    "start_time": "2022-02-24T10:52:42.496Z"
   },
   {
    "duration": 54,
    "start_time": "2022-02-24T10:52:42.505Z"
   },
   {
    "duration": 32,
    "start_time": "2022-02-24T10:52:42.562Z"
   },
   {
    "duration": 7,
    "start_time": "2022-02-24T10:52:42.596Z"
   },
   {
    "duration": 6,
    "start_time": "2022-02-24T10:52:42.605Z"
   },
   {
    "duration": 22,
    "start_time": "2022-02-24T10:52:42.613Z"
   },
   {
    "duration": 12,
    "start_time": "2022-02-24T10:52:42.638Z"
   },
   {
    "duration": 6,
    "start_time": "2022-02-24T10:52:42.652Z"
   },
   {
    "duration": 37,
    "start_time": "2022-02-24T10:52:42.661Z"
   },
   {
    "duration": 28,
    "start_time": "2022-02-24T10:52:42.701Z"
   },
   {
    "duration": 4,
    "start_time": "2022-02-24T10:52:42.732Z"
   },
   {
    "duration": 17,
    "start_time": "2022-02-24T10:52:42.739Z"
   },
   {
    "duration": 46,
    "start_time": "2022-02-24T10:52:42.759Z"
   },
   {
    "duration": 24,
    "start_time": "2022-02-24T10:52:42.808Z"
   },
   {
    "duration": 24,
    "start_time": "2022-02-24T10:52:42.836Z"
   },
   {
    "duration": 42,
    "start_time": "2022-02-24T10:52:42.863Z"
   },
   {
    "duration": 25,
    "start_time": "2022-02-24T10:52:42.909Z"
   },
   {
    "duration": 10,
    "start_time": "2022-02-24T10:52:42.938Z"
   },
   {
    "duration": 51,
    "start_time": "2022-02-24T10:52:42.951Z"
   },
   {
    "duration": 33,
    "start_time": "2022-02-24T10:52:43.004Z"
   },
   {
    "duration": 54,
    "start_time": "2022-02-24T10:52:43.039Z"
   },
   {
    "duration": 29,
    "start_time": "2022-02-24T10:52:43.095Z"
   },
   {
    "duration": 10,
    "start_time": "2022-02-24T10:52:43.126Z"
   },
   {
    "duration": 22,
    "start_time": "2022-02-24T10:52:43.138Z"
   },
   {
    "duration": 33,
    "start_time": "2022-02-24T10:52:43.194Z"
   },
   {
    "duration": 30,
    "start_time": "2022-02-24T10:52:43.230Z"
   },
   {
    "duration": 44,
    "start_time": "2022-02-24T10:52:43.263Z"
   },
   {
    "duration": 316,
    "start_time": "2022-02-24T10:53:06.165Z"
   },
   {
    "duration": 357,
    "start_time": "2022-02-24T10:53:17.860Z"
   },
   {
    "duration": 308,
    "start_time": "2022-02-24T10:53:33.606Z"
   },
   {
    "duration": 488,
    "start_time": "2022-02-24T10:53:47.900Z"
   },
   {
    "duration": 588,
    "start_time": "2022-02-24T10:54:13.909Z"
   },
   {
    "duration": 3464,
    "start_time": "2022-02-24T10:55:24.268Z"
   },
   {
    "duration": 730,
    "start_time": "2022-02-24T11:12:22.934Z"
   },
   {
    "duration": 871,
    "start_time": "2022-02-24T11:12:52.082Z"
   },
   {
    "duration": 71,
    "start_time": "2022-02-24T11:27:06.978Z"
   },
   {
    "duration": 18,
    "start_time": "2022-02-24T11:27:07.051Z"
   },
   {
    "duration": 12,
    "start_time": "2022-02-24T11:27:07.094Z"
   },
   {
    "duration": 5,
    "start_time": "2022-02-24T11:27:07.108Z"
   },
   {
    "duration": 6,
    "start_time": "2022-02-24T11:27:07.115Z"
   },
   {
    "duration": 41,
    "start_time": "2022-02-24T11:27:07.123Z"
   },
   {
    "duration": 46,
    "start_time": "2022-02-24T11:27:07.166Z"
   },
   {
    "duration": 23,
    "start_time": "2022-02-24T11:27:07.216Z"
   },
   {
    "duration": 14,
    "start_time": "2022-02-24T11:27:07.241Z"
   },
   {
    "duration": 58,
    "start_time": "2022-02-24T11:27:07.257Z"
   },
   {
    "duration": 31,
    "start_time": "2022-02-24T11:27:07.317Z"
   },
   {
    "duration": 5,
    "start_time": "2022-02-24T11:27:07.350Z"
   },
   {
    "duration": 71,
    "start_time": "2022-02-24T11:27:07.359Z"
   },
   {
    "duration": 3481,
    "start_time": "2022-02-24T11:27:07.432Z"
   },
   {
    "duration": 50,
    "start_time": "2022-02-24T11:27:10.917Z"
   },
   {
    "duration": 925,
    "start_time": "2022-02-24T11:27:10.970Z"
   },
   {
    "duration": 12,
    "start_time": "2022-02-24T11:27:11.897Z"
   },
   {
    "duration": 11,
    "start_time": "2022-02-24T11:27:11.912Z"
   },
   {
    "duration": 17,
    "start_time": "2022-02-24T11:27:11.926Z"
   },
   {
    "duration": 49,
    "start_time": "2022-02-24T11:27:11.946Z"
   },
   {
    "duration": 8,
    "start_time": "2022-02-24T11:27:11.998Z"
   },
   {
    "duration": 18,
    "start_time": "2022-02-24T11:27:12.009Z"
   },
   {
    "duration": 11,
    "start_time": "2022-02-24T11:27:12.029Z"
   },
   {
    "duration": 10,
    "start_time": "2022-02-24T11:27:12.043Z"
   },
   {
    "duration": 18,
    "start_time": "2022-02-24T11:27:12.094Z"
   },
   {
    "duration": 19,
    "start_time": "2022-02-24T11:27:12.114Z"
   },
   {
    "duration": 9,
    "start_time": "2022-02-24T11:27:12.136Z"
   },
   {
    "duration": 7,
    "start_time": "2022-02-24T11:27:12.151Z"
   },
   {
    "duration": 10,
    "start_time": "2022-02-24T11:27:12.194Z"
   },
   {
    "duration": 14,
    "start_time": "2022-02-24T11:27:12.207Z"
   },
   {
    "duration": 10,
    "start_time": "2022-02-24T11:27:12.223Z"
   },
   {
    "duration": 22,
    "start_time": "2022-02-24T11:27:12.235Z"
   },
   {
    "duration": 36,
    "start_time": "2022-02-24T11:27:12.259Z"
   },
   {
    "duration": 50,
    "start_time": "2022-02-24T11:27:12.298Z"
   },
   {
    "duration": 8,
    "start_time": "2022-02-24T11:27:12.351Z"
   },
   {
    "duration": 7,
    "start_time": "2022-02-24T11:27:12.393Z"
   },
   {
    "duration": 7,
    "start_time": "2022-02-24T11:27:12.402Z"
   },
   {
    "duration": 13,
    "start_time": "2022-02-24T11:27:12.412Z"
   },
   {
    "duration": 10,
    "start_time": "2022-02-24T11:27:12.427Z"
   },
   {
    "duration": 6,
    "start_time": "2022-02-24T11:27:12.439Z"
   },
   {
    "duration": 44,
    "start_time": "2022-02-24T11:27:12.449Z"
   },
   {
    "duration": 13,
    "start_time": "2022-02-24T11:27:12.496Z"
   },
   {
    "duration": 4,
    "start_time": "2022-02-24T11:27:12.512Z"
   },
   {
    "duration": 18,
    "start_time": "2022-02-24T11:27:12.519Z"
   },
   {
    "duration": 10,
    "start_time": "2022-02-24T11:27:12.539Z"
   },
   {
    "duration": 58,
    "start_time": "2022-02-24T11:27:12.551Z"
   },
   {
    "duration": 17,
    "start_time": "2022-02-24T11:27:12.611Z"
   },
   {
    "duration": 14,
    "start_time": "2022-02-24T11:27:12.631Z"
   },
   {
    "duration": 48,
    "start_time": "2022-02-24T11:27:12.647Z"
   },
   {
    "duration": 8,
    "start_time": "2022-02-24T11:27:12.697Z"
   },
   {
    "duration": 18,
    "start_time": "2022-02-24T11:27:12.707Z"
   },
   {
    "duration": 70,
    "start_time": "2022-02-24T11:27:12.728Z"
   },
   {
    "duration": 18,
    "start_time": "2022-02-24T11:27:12.800Z"
   },
   {
    "duration": 36,
    "start_time": "2022-02-24T11:27:12.820Z"
   },
   {
    "duration": 36,
    "start_time": "2022-02-24T11:27:12.858Z"
   },
   {
    "duration": 19,
    "start_time": "2022-02-24T11:27:12.897Z"
   },
   {
    "duration": 33,
    "start_time": "2022-02-24T11:27:12.918Z"
   },
   {
    "duration": 60,
    "start_time": "2022-02-24T11:27:12.953Z"
   },
   {
    "duration": 19,
    "start_time": "2022-02-24T11:27:13.015Z"
   },
   {
    "duration": 1940,
    "start_time": "2022-02-24T11:33:08.079Z"
   },
   {
    "duration": 359,
    "start_time": "2022-02-24T12:02:29.080Z"
   },
   {
    "duration": 265,
    "start_time": "2022-02-24T12:06:08.462Z"
   },
   {
    "duration": 61,
    "start_time": "2022-02-24T12:06:16.675Z"
   },
   {
    "duration": 68,
    "start_time": "2022-02-24T12:08:02.737Z"
   },
   {
    "duration": 98,
    "start_time": "2022-02-24T12:14:26.847Z"
   },
   {
    "duration": 399,
    "start_time": "2022-02-24T12:15:18.802Z"
   },
   {
    "duration": 6,
    "start_time": "2022-02-24T12:19:26.120Z"
   },
   {
    "duration": 12,
    "start_time": "2022-02-24T12:19:44.856Z"
   },
   {
    "duration": 10,
    "start_time": "2022-02-24T12:38:11.801Z"
   },
   {
    "duration": 14,
    "start_time": "2022-02-24T12:38:41.636Z"
   },
   {
    "duration": 16,
    "start_time": "2022-02-24T12:40:08.490Z"
   },
   {
    "duration": 795,
    "start_time": "2022-02-24T12:55:56.785Z"
   },
   {
    "duration": 7,
    "start_time": "2022-02-24T12:57:12.498Z"
   },
   {
    "duration": 14,
    "start_time": "2022-02-24T13:03:49.280Z"
   },
   {
    "duration": 10,
    "start_time": "2022-02-24T13:05:32.879Z"
   },
   {
    "duration": 15,
    "start_time": "2022-02-24T13:05:46.842Z"
   },
   {
    "duration": 343,
    "start_time": "2022-02-24T13:06:41.914Z"
   },
   {
    "duration": 405,
    "start_time": "2022-02-24T13:16:10.361Z"
   },
   {
    "duration": 247,
    "start_time": "2022-02-24T13:17:38.775Z"
   },
   {
    "duration": 210,
    "start_time": "2022-02-24T13:24:19.526Z"
   },
   {
    "duration": 8,
    "start_time": "2022-02-24T13:38:17.263Z"
   },
   {
    "duration": 81,
    "start_time": "2022-02-24T14:51:49.901Z"
   },
   {
    "duration": 17,
    "start_time": "2022-02-24T14:51:49.984Z"
   },
   {
    "duration": 19,
    "start_time": "2022-02-24T14:51:50.004Z"
   },
   {
    "duration": 9,
    "start_time": "2022-02-24T14:51:50.026Z"
   },
   {
    "duration": 5,
    "start_time": "2022-02-24T14:51:50.037Z"
   },
   {
    "duration": 24,
    "start_time": "2022-02-24T14:51:50.107Z"
   },
   {
    "duration": 26,
    "start_time": "2022-02-24T14:51:50.134Z"
   },
   {
    "duration": 34,
    "start_time": "2022-02-24T14:51:50.163Z"
   },
   {
    "duration": 17,
    "start_time": "2022-02-24T14:51:50.200Z"
   },
   {
    "duration": 31,
    "start_time": "2022-02-24T14:51:50.220Z"
   },
   {
    "duration": 68,
    "start_time": "2022-02-24T14:51:50.254Z"
   },
   {
    "duration": 6,
    "start_time": "2022-02-24T14:51:50.324Z"
   },
   {
    "duration": 1876,
    "start_time": "2022-02-24T14:51:50.332Z"
   },
   {
    "duration": 13,
    "start_time": "2022-02-24T14:51:52.212Z"
   },
   {
    "duration": 1201,
    "start_time": "2022-02-24T14:51:52.228Z"
   },
   {
    "duration": 202,
    "start_time": "2022-02-24T14:51:53.432Z"
   },
   {
    "duration": 66,
    "start_time": "2022-02-24T14:51:53.572Z"
   },
   {
    "duration": 61,
    "start_time": "2022-02-24T14:51:53.579Z"
   },
   {
    "duration": 54,
    "start_time": "2022-02-24T14:51:53.587Z"
   },
   {
    "duration": 49,
    "start_time": "2022-02-24T14:51:53.594Z"
   },
   {
    "duration": 41,
    "start_time": "2022-02-24T14:51:53.603Z"
   },
   {
    "duration": 37,
    "start_time": "2022-02-24T14:51:53.609Z"
   },
   {
    "duration": 26,
    "start_time": "2022-02-24T14:51:53.621Z"
   },
   {
    "duration": 22,
    "start_time": "2022-02-24T14:51:53.627Z"
   },
   {
    "duration": 17,
    "start_time": "2022-02-24T14:51:53.633Z"
   },
   {
    "duration": 13,
    "start_time": "2022-02-24T14:51:53.638Z"
   },
   {
    "duration": 9,
    "start_time": "2022-02-24T14:51:53.644Z"
   },
   {
    "duration": -6,
    "start_time": "2022-02-24T14:51:53.660Z"
   },
   {
    "duration": -11,
    "start_time": "2022-02-24T14:51:53.667Z"
   },
   {
    "duration": -16,
    "start_time": "2022-02-24T14:51:53.673Z"
   },
   {
    "duration": -22,
    "start_time": "2022-02-24T14:51:53.681Z"
   },
   {
    "duration": -27,
    "start_time": "2022-02-24T14:51:53.687Z"
   },
   {
    "duration": -32,
    "start_time": "2022-02-24T14:51:53.694Z"
   },
   {
    "duration": -38,
    "start_time": "2022-02-24T14:51:53.701Z"
   },
   {
    "duration": -44,
    "start_time": "2022-02-24T14:51:53.708Z"
   },
   {
    "duration": -49,
    "start_time": "2022-02-24T14:51:53.715Z"
   },
   {
    "duration": -55,
    "start_time": "2022-02-24T14:51:53.722Z"
   },
   {
    "duration": -61,
    "start_time": "2022-02-24T14:51:53.729Z"
   },
   {
    "duration": -68,
    "start_time": "2022-02-24T14:51:53.737Z"
   },
   {
    "duration": -71,
    "start_time": "2022-02-24T14:51:53.742Z"
   },
   {
    "duration": -77,
    "start_time": "2022-02-24T14:51:53.749Z"
   },
   {
    "duration": -81,
    "start_time": "2022-02-24T14:51:53.754Z"
   },
   {
    "duration": -80,
    "start_time": "2022-02-24T14:51:53.773Z"
   },
   {
    "duration": -83,
    "start_time": "2022-02-24T14:51:53.778Z"
   },
   {
    "duration": -89,
    "start_time": "2022-02-24T14:51:53.785Z"
   },
   {
    "duration": -93,
    "start_time": "2022-02-24T14:51:53.791Z"
   },
   {
    "duration": -98,
    "start_time": "2022-02-24T14:51:53.797Z"
   },
   {
    "duration": -103,
    "start_time": "2022-02-24T14:51:53.803Z"
   },
   {
    "duration": -108,
    "start_time": "2022-02-24T14:51:53.809Z"
   },
   {
    "duration": -111,
    "start_time": "2022-02-24T14:51:53.814Z"
   },
   {
    "duration": -116,
    "start_time": "2022-02-24T14:51:53.820Z"
   },
   {
    "duration": -121,
    "start_time": "2022-02-24T14:51:53.826Z"
   },
   {
    "duration": -126,
    "start_time": "2022-02-24T14:51:53.832Z"
   },
   {
    "duration": -130,
    "start_time": "2022-02-24T14:51:53.837Z"
   },
   {
    "duration": -136,
    "start_time": "2022-02-24T14:51:53.844Z"
   },
   {
    "duration": -139,
    "start_time": "2022-02-24T14:51:53.849Z"
   },
   {
    "duration": -144,
    "start_time": "2022-02-24T14:51:53.855Z"
   },
   {
    "duration": -149,
    "start_time": "2022-02-24T14:51:53.861Z"
   },
   {
    "duration": -183,
    "start_time": "2022-02-24T14:51:53.897Z"
   },
   {
    "duration": -189,
    "start_time": "2022-02-24T14:51:53.904Z"
   },
   {
    "duration": -194,
    "start_time": "2022-02-24T14:51:53.911Z"
   },
   {
    "duration": 67,
    "start_time": "2022-02-24T14:52:48.140Z"
   },
   {
    "duration": 18,
    "start_time": "2022-02-24T14:52:48.209Z"
   },
   {
    "duration": 15,
    "start_time": "2022-02-24T14:52:48.230Z"
   },
   {
    "duration": 10,
    "start_time": "2022-02-24T14:52:48.248Z"
   },
   {
    "duration": 34,
    "start_time": "2022-02-24T14:52:48.260Z"
   },
   {
    "duration": 22,
    "start_time": "2022-02-24T14:52:48.297Z"
   },
   {
    "duration": 25,
    "start_time": "2022-02-24T14:52:48.321Z"
   },
   {
    "duration": 56,
    "start_time": "2022-02-24T14:52:48.349Z"
   },
   {
    "duration": 14,
    "start_time": "2022-02-24T14:52:48.408Z"
   },
   {
    "duration": 72,
    "start_time": "2022-02-24T14:52:48.424Z"
   },
   {
    "duration": 31,
    "start_time": "2022-02-24T14:52:48.499Z"
   },
   {
    "duration": 4,
    "start_time": "2022-02-24T14:52:48.533Z"
   },
   {
    "duration": 1833,
    "start_time": "2022-02-24T14:52:48.540Z"
   },
   {
    "duration": 20,
    "start_time": "2022-02-24T14:52:50.375Z"
   },
   {
    "duration": 898,
    "start_time": "2022-02-24T14:52:50.398Z"
   },
   {
    "duration": 10,
    "start_time": "2022-02-24T14:52:51.299Z"
   },
   {
    "duration": 10,
    "start_time": "2022-02-24T14:52:51.311Z"
   },
   {
    "duration": 17,
    "start_time": "2022-02-24T14:52:51.324Z"
   },
   {
    "duration": 13,
    "start_time": "2022-02-24T14:52:51.343Z"
   },
   {
    "duration": 10,
    "start_time": "2022-02-24T14:52:51.394Z"
   },
   {
    "duration": 10,
    "start_time": "2022-02-24T14:52:51.406Z"
   },
   {
    "duration": 12,
    "start_time": "2022-02-24T14:52:51.418Z"
   },
   {
    "duration": 9,
    "start_time": "2022-02-24T14:52:51.436Z"
   },
   {
    "duration": 57,
    "start_time": "2022-02-24T14:52:51.448Z"
   },
   {
    "duration": 11,
    "start_time": "2022-02-24T14:52:51.507Z"
   },
   {
    "duration": 9,
    "start_time": "2022-02-24T14:52:51.520Z"
   },
   {
    "duration": 11,
    "start_time": "2022-02-24T14:52:51.531Z"
   },
   {
    "duration": 7,
    "start_time": "2022-02-24T14:52:51.544Z"
   },
   {
    "duration": 290,
    "start_time": "2022-02-24T14:52:51.553Z"
   },
   {
    "duration": 240,
    "start_time": "2022-02-24T14:52:51.845Z"
   },
   {
    "duration": 14,
    "start_time": "2022-02-24T14:52:52.087Z"
   },
   {
    "duration": 10,
    "start_time": "2022-02-24T14:52:52.104Z"
   },
   {
    "duration": 10,
    "start_time": "2022-02-24T14:52:52.116Z"
   },
   {
    "duration": 16,
    "start_time": "2022-02-24T14:52:52.128Z"
   },
   {
    "duration": 47,
    "start_time": "2022-02-24T14:52:52.147Z"
   },
   {
    "duration": 9,
    "start_time": "2022-02-24T14:52:52.196Z"
   },
   {
    "duration": 7,
    "start_time": "2022-02-24T14:52:52.208Z"
   },
   {
    "duration": 6,
    "start_time": "2022-02-24T14:52:52.218Z"
   },
   {
    "duration": 9,
    "start_time": "2022-02-24T14:52:52.227Z"
   },
   {
    "duration": 60,
    "start_time": "2022-02-24T14:52:52.238Z"
   },
   {
    "duration": 11,
    "start_time": "2022-02-24T14:52:52.301Z"
   },
   {
    "duration": 7,
    "start_time": "2022-02-24T14:52:52.315Z"
   },
   {
    "duration": 15,
    "start_time": "2022-02-24T14:52:52.324Z"
   },
   {
    "duration": 4,
    "start_time": "2022-02-24T14:52:52.342Z"
   },
   {
    "duration": 47,
    "start_time": "2022-02-24T14:52:52.349Z"
   },
   {
    "duration": 16,
    "start_time": "2022-02-24T14:52:52.399Z"
   },
   {
    "duration": 18,
    "start_time": "2022-02-24T14:52:52.417Z"
   },
   {
    "duration": 17,
    "start_time": "2022-02-24T14:52:52.438Z"
   },
   {
    "duration": 38,
    "start_time": "2022-02-24T14:52:52.458Z"
   },
   {
    "duration": 18,
    "start_time": "2022-02-24T14:52:52.499Z"
   },
   {
    "duration": 7,
    "start_time": "2022-02-24T14:52:52.519Z"
   },
   {
    "duration": 28,
    "start_time": "2022-02-24T14:52:52.529Z"
   },
   {
    "duration": 64,
    "start_time": "2022-02-24T14:52:52.559Z"
   },
   {
    "duration": 16,
    "start_time": "2022-02-24T14:52:52.626Z"
   },
   {
    "duration": 56,
    "start_time": "2022-02-24T14:52:52.645Z"
   },
   {
    "duration": 11,
    "start_time": "2022-02-24T14:52:52.704Z"
   },
   {
    "duration": 28,
    "start_time": "2022-02-24T14:52:52.717Z"
   },
   {
    "duration": 47,
    "start_time": "2022-02-24T14:52:52.748Z"
   },
   {
    "duration": 31,
    "start_time": "2022-02-24T14:52:52.798Z"
   },
   {
    "duration": 16,
    "start_time": "2022-02-24T14:52:52.832Z"
   },
   {
    "duration": 28,
    "start_time": "2022-02-24T15:00:06.963Z"
   },
   {
    "duration": 90,
    "start_time": "2022-02-24T15:12:58.231Z"
   },
   {
    "duration": 311,
    "start_time": "2022-02-24T15:13:24.214Z"
   },
   {
    "duration": 515,
    "start_time": "2022-02-24T15:14:01.414Z"
   },
   {
    "duration": 72,
    "start_time": "2022-02-24T15:14:48.321Z"
   },
   {
    "duration": 21,
    "start_time": "2022-02-24T15:14:48.396Z"
   },
   {
    "duration": 17,
    "start_time": "2022-02-24T15:14:48.420Z"
   },
   {
    "duration": 14,
    "start_time": "2022-02-24T15:14:48.440Z"
   },
   {
    "duration": 37,
    "start_time": "2022-02-24T15:14:48.457Z"
   },
   {
    "duration": 34,
    "start_time": "2022-02-24T15:14:48.496Z"
   },
   {
    "duration": 25,
    "start_time": "2022-02-24T15:14:48.532Z"
   },
   {
    "duration": 27,
    "start_time": "2022-02-24T15:14:48.592Z"
   },
   {
    "duration": 15,
    "start_time": "2022-02-24T15:14:48.623Z"
   },
   {
    "duration": 67,
    "start_time": "2022-02-24T15:14:48.641Z"
   },
   {
    "duration": 30,
    "start_time": "2022-02-24T15:14:48.711Z"
   },
   {
    "duration": 6,
    "start_time": "2022-02-24T15:14:48.743Z"
   },
   {
    "duration": 2029,
    "start_time": "2022-02-24T15:14:48.751Z"
   },
   {
    "duration": 21,
    "start_time": "2022-02-24T15:14:50.782Z"
   },
   {
    "duration": 1005,
    "start_time": "2022-02-24T15:14:50.806Z"
   },
   {
    "duration": 10,
    "start_time": "2022-02-24T15:14:51.814Z"
   },
   {
    "duration": 13,
    "start_time": "2022-02-24T15:14:51.827Z"
   },
   {
    "duration": 13,
    "start_time": "2022-02-24T15:14:51.843Z"
   },
   {
    "duration": 41,
    "start_time": "2022-02-24T15:14:51.858Z"
   },
   {
    "duration": 14,
    "start_time": "2022-02-24T15:14:51.901Z"
   },
   {
    "duration": 11,
    "start_time": "2022-02-24T15:14:51.917Z"
   },
   {
    "duration": 13,
    "start_time": "2022-02-24T15:14:51.930Z"
   },
   {
    "duration": 44,
    "start_time": "2022-02-24T15:14:51.952Z"
   },
   {
    "duration": 18,
    "start_time": "2022-02-24T15:14:52.000Z"
   },
   {
    "duration": 11,
    "start_time": "2022-02-24T15:14:52.021Z"
   },
   {
    "duration": 10,
    "start_time": "2022-02-24T15:14:52.034Z"
   },
   {
    "duration": 11,
    "start_time": "2022-02-24T15:14:52.046Z"
   },
   {
    "duration": 9,
    "start_time": "2022-02-24T15:14:52.094Z"
   },
   {
    "duration": 257,
    "start_time": "2022-02-24T15:14:52.105Z"
   },
   {
    "duration": 242,
    "start_time": "2022-02-24T15:14:52.364Z"
   },
   {
    "duration": 11,
    "start_time": "2022-02-24T15:14:52.609Z"
   },
   {
    "duration": 18,
    "start_time": "2022-02-24T15:14:52.622Z"
   },
   {
    "duration": 15,
    "start_time": "2022-02-24T15:14:52.643Z"
   },
   {
    "duration": 42,
    "start_time": "2022-02-24T15:14:52.660Z"
   },
   {
    "duration": 6,
    "start_time": "2022-02-24T15:14:52.705Z"
   },
   {
    "duration": 13,
    "start_time": "2022-02-24T15:14:52.714Z"
   },
   {
    "duration": 12,
    "start_time": "2022-02-24T15:14:52.730Z"
   },
   {
    "duration": 16,
    "start_time": "2022-02-24T15:14:52.745Z"
   },
   {
    "duration": 37,
    "start_time": "2022-02-24T15:14:52.763Z"
   },
   {
    "duration": 14,
    "start_time": "2022-02-24T15:14:52.803Z"
   },
   {
    "duration": 7,
    "start_time": "2022-02-24T15:14:52.820Z"
   },
   {
    "duration": 12,
    "start_time": "2022-02-24T15:14:52.829Z"
   },
   {
    "duration": 25,
    "start_time": "2022-02-24T15:14:52.843Z"
   },
   {
    "duration": 5,
    "start_time": "2022-02-24T15:14:52.895Z"
   },
   {
    "duration": 17,
    "start_time": "2022-02-24T15:14:52.902Z"
   },
   {
    "duration": 10,
    "start_time": "2022-02-24T15:14:52.921Z"
   },
   {
    "duration": 20,
    "start_time": "2022-02-24T15:14:52.934Z"
   },
   {
    "duration": 50,
    "start_time": "2022-02-24T15:14:52.956Z"
   },
   {
    "duration": 21,
    "start_time": "2022-02-24T15:14:53.008Z"
   },
   {
    "duration": 28,
    "start_time": "2022-02-24T15:14:53.031Z"
   },
   {
    "duration": 8,
    "start_time": "2022-02-24T15:14:53.062Z"
   },
   {
    "duration": 43,
    "start_time": "2022-02-24T15:14:53.072Z"
   },
   {
    "duration": 39,
    "start_time": "2022-02-24T15:14:53.117Z"
   },
   {
    "duration": 14,
    "start_time": "2022-02-24T15:14:53.158Z"
   },
   {
    "duration": 44,
    "start_time": "2022-02-24T15:14:53.174Z"
   },
   {
    "duration": 11,
    "start_time": "2022-02-24T15:14:53.221Z"
   },
   {
    "duration": 35,
    "start_time": "2022-02-24T15:14:53.235Z"
   },
   {
    "duration": 41,
    "start_time": "2022-02-24T15:14:53.273Z"
   },
   {
    "duration": 13,
    "start_time": "2022-02-24T15:14:53.316Z"
   },
   {
    "duration": 35,
    "start_time": "2022-02-24T15:14:53.331Z"
   },
   {
    "duration": 37,
    "start_time": "2022-02-24T15:14:53.368Z"
   },
   {
    "duration": 18,
    "start_time": "2022-02-24T15:15:25.556Z"
   },
   {
    "duration": 19,
    "start_time": "2022-02-24T15:18:45.547Z"
   },
   {
    "duration": 19,
    "start_time": "2022-02-24T15:20:58.918Z"
   },
   {
    "duration": 275,
    "start_time": "2022-02-24T15:24:34.685Z"
   },
   {
    "duration": 270,
    "start_time": "2022-02-24T15:25:16.805Z"
   },
   {
    "duration": 13,
    "start_time": "2022-02-24T15:25:49.538Z"
   },
   {
    "duration": 14,
    "start_time": "2022-02-24T15:26:40.197Z"
   },
   {
    "duration": 17,
    "start_time": "2022-02-24T15:26:47.932Z"
   },
   {
    "duration": 19,
    "start_time": "2022-02-24T15:39:02.053Z"
   },
   {
    "duration": 46,
    "start_time": "2022-02-24T16:12:59.241Z"
   },
   {
    "duration": 410,
    "start_time": "2022-02-25T08:06:37.313Z"
   },
   {
    "duration": 605,
    "start_time": "2022-02-25T08:06:48.773Z"
   },
   {
    "duration": 17,
    "start_time": "2022-02-25T08:06:49.380Z"
   },
   {
    "duration": 9,
    "start_time": "2022-02-25T08:06:49.399Z"
   },
   {
    "duration": 3,
    "start_time": "2022-02-25T08:06:49.410Z"
   },
   {
    "duration": 17,
    "start_time": "2022-02-25T08:06:49.415Z"
   },
   {
    "duration": 15,
    "start_time": "2022-02-25T08:06:49.433Z"
   },
   {
    "duration": 17,
    "start_time": "2022-02-25T08:06:49.449Z"
   },
   {
    "duration": 19,
    "start_time": "2022-02-25T08:06:49.468Z"
   },
   {
    "duration": 42,
    "start_time": "2022-02-25T08:06:49.490Z"
   },
   {
    "duration": 26,
    "start_time": "2022-02-25T08:06:49.533Z"
   },
   {
    "duration": 21,
    "start_time": "2022-02-25T08:06:49.561Z"
   },
   {
    "duration": 5,
    "start_time": "2022-02-25T08:06:49.584Z"
   },
   {
    "duration": 1030,
    "start_time": "2022-02-25T08:06:49.591Z"
   },
   {
    "duration": 15,
    "start_time": "2022-02-25T08:06:50.623Z"
   },
   {
    "duration": 27,
    "start_time": "2022-02-25T08:06:50.639Z"
   },
   {
    "duration": 484,
    "start_time": "2022-02-25T08:06:50.668Z"
   },
   {
    "duration": 7,
    "start_time": "2022-02-25T08:06:51.153Z"
   },
   {
    "duration": 7,
    "start_time": "2022-02-25T08:06:51.161Z"
   },
   {
    "duration": 8,
    "start_time": "2022-02-25T08:06:51.170Z"
   },
   {
    "duration": 7,
    "start_time": "2022-02-25T08:06:51.179Z"
   },
   {
    "duration": 6,
    "start_time": "2022-02-25T08:06:51.188Z"
   },
   {
    "duration": 39,
    "start_time": "2022-02-25T08:06:51.196Z"
   },
   {
    "duration": 5,
    "start_time": "2022-02-25T08:06:51.240Z"
   },
   {
    "duration": 6,
    "start_time": "2022-02-25T08:06:51.247Z"
   },
   {
    "duration": 17,
    "start_time": "2022-02-25T08:06:51.254Z"
   },
   {
    "duration": 12,
    "start_time": "2022-02-25T08:06:51.272Z"
   },
   {
    "duration": 17,
    "start_time": "2022-02-25T08:06:51.285Z"
   },
   {
    "duration": 12,
    "start_time": "2022-02-25T08:06:51.303Z"
   },
   {
    "duration": 17,
    "start_time": "2022-02-25T08:06:51.317Z"
   },
   {
    "duration": 814,
    "start_time": "2022-02-25T08:06:51.336Z"
   },
   {
    "duration": 125,
    "start_time": "2022-02-25T08:06:52.152Z"
   },
   {
    "duration": 7,
    "start_time": "2022-02-25T08:06:52.278Z"
   },
   {
    "duration": 6,
    "start_time": "2022-02-25T08:06:52.286Z"
   },
   {
    "duration": 6,
    "start_time": "2022-02-25T08:06:52.294Z"
   },
   {
    "duration": 31,
    "start_time": "2022-02-25T08:06:52.301Z"
   },
   {
    "duration": 4,
    "start_time": "2022-02-25T08:06:52.333Z"
   },
   {
    "duration": 6,
    "start_time": "2022-02-25T08:06:52.338Z"
   },
   {
    "duration": 4,
    "start_time": "2022-02-25T08:06:52.345Z"
   },
   {
    "duration": 6,
    "start_time": "2022-02-25T08:06:52.351Z"
   },
   {
    "duration": 10,
    "start_time": "2022-02-25T08:06:52.359Z"
   },
   {
    "duration": 12,
    "start_time": "2022-02-25T08:06:52.371Z"
   },
   {
    "duration": 6,
    "start_time": "2022-02-25T08:06:52.384Z"
   },
   {
    "duration": 9,
    "start_time": "2022-02-25T08:06:52.392Z"
   },
   {
    "duration": 34,
    "start_time": "2022-02-25T08:06:52.403Z"
   },
   {
    "duration": 3,
    "start_time": "2022-02-25T08:06:52.438Z"
   },
   {
    "duration": 12,
    "start_time": "2022-02-25T08:06:52.443Z"
   },
   {
    "duration": 11,
    "start_time": "2022-02-25T08:06:52.456Z"
   },
   {
    "duration": 14,
    "start_time": "2022-02-25T08:06:52.469Z"
   },
   {
    "duration": 9,
    "start_time": "2022-02-25T08:06:52.484Z"
   },
   {
    "duration": 11,
    "start_time": "2022-02-25T08:06:52.494Z"
   },
   {
    "duration": 373,
    "start_time": "2022-02-25T08:06:52.506Z"
   },
   {
    "duration": 987,
    "start_time": "2022-02-25T08:06:51.894Z"
   },
   {
    "duration": 979,
    "start_time": "2022-02-25T08:06:51.903Z"
   },
   {
    "duration": 975,
    "start_time": "2022-02-25T08:06:51.908Z"
   },
   {
    "duration": 969,
    "start_time": "2022-02-25T08:06:51.916Z"
   },
   {
    "duration": 965,
    "start_time": "2022-02-25T08:06:51.921Z"
   },
   {
    "duration": 960,
    "start_time": "2022-02-25T08:06:51.928Z"
   },
   {
    "duration": 954,
    "start_time": "2022-02-25T08:06:51.935Z"
   },
   {
    "duration": 949,
    "start_time": "2022-02-25T08:06:51.941Z"
   },
   {
    "duration": 944,
    "start_time": "2022-02-25T08:06:51.947Z"
   },
   {
    "duration": 939,
    "start_time": "2022-02-25T08:06:51.953Z"
   },
   {
    "duration": 935,
    "start_time": "2022-02-25T08:06:51.958Z"
   },
   {
    "duration": 20,
    "start_time": "2022-02-25T08:10:43.879Z"
   },
   {
    "duration": 273,
    "start_time": "2022-02-25T08:12:19.990Z"
   },
   {
    "duration": 28,
    "start_time": "2022-02-25T08:12:28.948Z"
   },
   {
    "duration": 339,
    "start_time": "2022-02-25T08:14:19.237Z"
   },
   {
    "duration": 5,
    "start_time": "2022-02-25T08:14:26.228Z"
   },
   {
    "duration": 4,
    "start_time": "2022-02-25T08:16:45.706Z"
   },
   {
    "duration": 67,
    "start_time": "2022-02-25T08:36:09.193Z"
   },
   {
    "duration": 10,
    "start_time": "2022-02-25T08:36:09.262Z"
   },
   {
    "duration": 9,
    "start_time": "2022-02-25T08:36:09.274Z"
   },
   {
    "duration": 4,
    "start_time": "2022-02-25T08:36:09.284Z"
   },
   {
    "duration": 4,
    "start_time": "2022-02-25T08:36:09.289Z"
   },
   {
    "duration": 39,
    "start_time": "2022-02-25T08:36:09.294Z"
   },
   {
    "duration": 15,
    "start_time": "2022-02-25T08:36:09.335Z"
   },
   {
    "duration": 15,
    "start_time": "2022-02-25T08:36:09.353Z"
   },
   {
    "duration": 10,
    "start_time": "2022-02-25T08:36:09.369Z"
   },
   {
    "duration": 56,
    "start_time": "2022-02-25T08:36:09.380Z"
   },
   {
    "duration": 18,
    "start_time": "2022-02-25T08:36:09.437Z"
   },
   {
    "duration": 3,
    "start_time": "2022-02-25T08:36:09.457Z"
   },
   {
    "duration": 909,
    "start_time": "2022-02-25T08:36:09.461Z"
   },
   {
    "duration": 8,
    "start_time": "2022-02-25T08:36:10.371Z"
   },
   {
    "duration": 28,
    "start_time": "2022-02-25T08:36:10.381Z"
   },
   {
    "duration": 535,
    "start_time": "2022-02-25T08:36:10.411Z"
   },
   {
    "duration": 7,
    "start_time": "2022-02-25T08:36:10.947Z"
   },
   {
    "duration": 6,
    "start_time": "2022-02-25T08:36:10.956Z"
   },
   {
    "duration": 7,
    "start_time": "2022-02-25T08:36:10.964Z"
   },
   {
    "duration": 11,
    "start_time": "2022-02-25T08:36:10.973Z"
   },
   {
    "duration": 5,
    "start_time": "2022-02-25T08:36:10.985Z"
   },
   {
    "duration": 7,
    "start_time": "2022-02-25T08:36:10.991Z"
   },
   {
    "duration": 35,
    "start_time": "2022-02-25T08:36:11.001Z"
   },
   {
    "duration": 7,
    "start_time": "2022-02-25T08:36:11.038Z"
   },
   {
    "duration": 13,
    "start_time": "2022-02-25T08:36:11.047Z"
   },
   {
    "duration": 12,
    "start_time": "2022-02-25T08:36:11.062Z"
   },
   {
    "duration": 8,
    "start_time": "2022-02-25T08:36:11.075Z"
   },
   {
    "duration": 10,
    "start_time": "2022-02-25T08:36:11.084Z"
   },
   {
    "duration": 6,
    "start_time": "2022-02-25T08:36:11.095Z"
   },
   {
    "duration": 155,
    "start_time": "2022-02-25T08:36:11.103Z"
   },
   {
    "duration": 123,
    "start_time": "2022-02-25T08:36:11.260Z"
   },
   {
    "duration": 6,
    "start_time": "2022-02-25T08:36:11.385Z"
   },
   {
    "duration": 6,
    "start_time": "2022-02-25T08:36:11.393Z"
   },
   {
    "duration": 7,
    "start_time": "2022-02-25T08:36:11.401Z"
   },
   {
    "duration": 27,
    "start_time": "2022-02-25T08:36:11.409Z"
   },
   {
    "duration": 4,
    "start_time": "2022-02-25T08:36:11.437Z"
   },
   {
    "duration": 6,
    "start_time": "2022-02-25T08:36:11.442Z"
   },
   {
    "duration": 5,
    "start_time": "2022-02-25T08:36:11.450Z"
   },
   {
    "duration": 6,
    "start_time": "2022-02-25T08:36:11.456Z"
   },
   {
    "duration": 11,
    "start_time": "2022-02-25T08:36:11.464Z"
   },
   {
    "duration": 10,
    "start_time": "2022-02-25T08:36:11.477Z"
   },
   {
    "duration": 6,
    "start_time": "2022-02-25T08:36:11.489Z"
   },
   {
    "duration": 35,
    "start_time": "2022-02-25T08:36:11.497Z"
   },
   {
    "duration": 8,
    "start_time": "2022-02-25T08:36:11.534Z"
   },
   {
    "duration": 3,
    "start_time": "2022-02-25T08:36:11.544Z"
   },
   {
    "duration": 15,
    "start_time": "2022-02-25T08:36:11.549Z"
   },
   {
    "duration": 26,
    "start_time": "2022-02-25T08:36:11.565Z"
   },
   {
    "duration": 12,
    "start_time": "2022-02-25T08:36:11.593Z"
   },
   {
    "duration": 9,
    "start_time": "2022-02-25T08:36:11.607Z"
   },
   {
    "duration": 16,
    "start_time": "2022-02-25T08:36:11.617Z"
   },
   {
    "duration": 5,
    "start_time": "2022-02-25T08:36:11.635Z"
   },
   {
    "duration": 14,
    "start_time": "2022-02-25T08:36:11.641Z"
   },
   {
    "duration": 18,
    "start_time": "2022-02-25T08:36:11.657Z"
   },
   {
    "duration": 9,
    "start_time": "2022-02-25T08:36:11.676Z"
   },
   {
    "duration": 22,
    "start_time": "2022-02-25T08:36:11.686Z"
   },
   {
    "duration": 7,
    "start_time": "2022-02-25T08:36:11.732Z"
   },
   {
    "duration": 12,
    "start_time": "2022-02-25T08:36:11.740Z"
   },
   {
    "duration": 13,
    "start_time": "2022-02-25T08:36:11.753Z"
   },
   {
    "duration": 10,
    "start_time": "2022-02-25T08:36:11.767Z"
   },
   {
    "duration": 18,
    "start_time": "2022-02-25T08:36:11.779Z"
   },
   {
    "duration": 36,
    "start_time": "2022-02-25T08:36:11.799Z"
   },
   {
    "duration": 17,
    "start_time": "2022-02-25T08:36:11.837Z"
   },
   {
    "duration": 3,
    "start_time": "2022-02-25T08:36:11.856Z"
   },
   {
    "duration": 7,
    "start_time": "2022-02-25T08:36:11.860Z"
   },
   {
    "duration": 287,
    "start_time": "2022-02-25T12:59:58.627Z"
   },
   {
    "duration": 263,
    "start_time": "2022-02-25T13:11:52.605Z"
   },
   {
    "duration": 678,
    "start_time": "2022-02-25T13:12:04.315Z"
   },
   {
    "duration": 15,
    "start_time": "2022-02-25T13:12:04.995Z"
   },
   {
    "duration": 12,
    "start_time": "2022-02-25T13:12:05.013Z"
   },
   {
    "duration": 5,
    "start_time": "2022-02-25T13:12:05.027Z"
   },
   {
    "duration": 4,
    "start_time": "2022-02-25T13:12:05.034Z"
   },
   {
    "duration": 18,
    "start_time": "2022-02-25T13:12:05.039Z"
   },
   {
    "duration": 16,
    "start_time": "2022-02-25T13:12:05.059Z"
   },
   {
    "duration": 14,
    "start_time": "2022-02-25T13:12:05.078Z"
   },
   {
    "duration": 10,
    "start_time": "2022-02-25T13:12:05.094Z"
   },
   {
    "duration": 40,
    "start_time": "2022-02-25T13:12:05.106Z"
   },
   {
    "duration": 18,
    "start_time": "2022-02-25T13:12:05.147Z"
   },
   {
    "duration": 5,
    "start_time": "2022-02-25T13:12:05.166Z"
   },
   {
    "duration": 1044,
    "start_time": "2022-02-25T13:12:05.172Z"
   },
   {
    "duration": 16,
    "start_time": "2022-02-25T13:12:06.218Z"
   },
   {
    "duration": 23,
    "start_time": "2022-02-25T13:12:06.236Z"
   },
   {
    "duration": 466,
    "start_time": "2022-02-25T13:12:06.261Z"
   },
   {
    "duration": 7,
    "start_time": "2022-02-25T13:12:06.732Z"
   },
   {
    "duration": 6,
    "start_time": "2022-02-25T13:12:06.741Z"
   },
   {
    "duration": 8,
    "start_time": "2022-02-25T13:12:06.749Z"
   },
   {
    "duration": 13,
    "start_time": "2022-02-25T13:12:06.759Z"
   },
   {
    "duration": 4,
    "start_time": "2022-02-25T13:12:06.773Z"
   },
   {
    "duration": 6,
    "start_time": "2022-02-25T13:12:06.779Z"
   },
   {
    "duration": 7,
    "start_time": "2022-02-25T13:12:06.788Z"
   },
   {
    "duration": 7,
    "start_time": "2022-02-25T13:12:06.833Z"
   },
   {
    "duration": 13,
    "start_time": "2022-02-25T13:12:06.842Z"
   },
   {
    "duration": 8,
    "start_time": "2022-02-25T13:12:06.857Z"
   },
   {
    "duration": 12,
    "start_time": "2022-02-25T13:12:06.866Z"
   },
   {
    "duration": 10,
    "start_time": "2022-02-25T13:12:06.879Z"
   },
   {
    "duration": 12,
    "start_time": "2022-02-25T13:12:06.891Z"
   },
   {
    "duration": 622,
    "start_time": "2022-02-25T13:12:06.904Z"
   },
   {
    "duration": 123,
    "start_time": "2022-02-25T13:12:07.528Z"
   },
   {
    "duration": 6,
    "start_time": "2022-02-25T13:12:07.653Z"
   },
   {
    "duration": 6,
    "start_time": "2022-02-25T13:12:07.661Z"
   },
   {
    "duration": 7,
    "start_time": "2022-02-25T13:12:07.668Z"
   },
   {
    "duration": 10,
    "start_time": "2022-02-25T13:12:07.676Z"
   },
   {
    "duration": 4,
    "start_time": "2022-02-25T13:12:07.687Z"
   },
   {
    "duration": 42,
    "start_time": "2022-02-25T13:12:07.692Z"
   },
   {
    "duration": 5,
    "start_time": "2022-02-25T13:12:07.736Z"
   },
   {
    "duration": 4,
    "start_time": "2022-02-25T13:12:07.742Z"
   },
   {
    "duration": 8,
    "start_time": "2022-02-25T13:12:07.747Z"
   },
   {
    "duration": 13,
    "start_time": "2022-02-25T13:12:07.756Z"
   },
   {
    "duration": 7,
    "start_time": "2022-02-25T13:12:07.770Z"
   },
   {
    "duration": 11,
    "start_time": "2022-02-25T13:12:07.778Z"
   },
   {
    "duration": 14,
    "start_time": "2022-02-25T13:12:07.790Z"
   },
   {
    "duration": 4,
    "start_time": "2022-02-25T13:12:07.805Z"
   },
   {
    "duration": 21,
    "start_time": "2022-02-25T13:12:07.811Z"
   },
   {
    "duration": 10,
    "start_time": "2022-02-25T13:12:07.833Z"
   },
   {
    "duration": 13,
    "start_time": "2022-02-25T13:12:07.845Z"
   },
   {
    "duration": 9,
    "start_time": "2022-02-25T13:12:07.860Z"
   },
   {
    "duration": 13,
    "start_time": "2022-02-25T13:12:07.871Z"
   },
   {
    "duration": 11,
    "start_time": "2022-02-25T13:12:07.886Z"
   },
   {
    "duration": 13,
    "start_time": "2022-02-25T13:12:07.898Z"
   },
   {
    "duration": 30,
    "start_time": "2022-02-25T13:12:07.913Z"
   },
   {
    "duration": 10,
    "start_time": "2022-02-25T13:12:07.944Z"
   },
   {
    "duration": 303,
    "start_time": "2022-02-25T13:12:07.956Z"
   },
   {
    "duration": 375,
    "start_time": "2022-02-25T13:12:07.886Z"
   },
   {
    "duration": 346,
    "start_time": "2022-02-25T13:12:07.916Z"
   },
   {
    "duration": 339,
    "start_time": "2022-02-25T13:12:07.924Z"
   },
   {
    "duration": 333,
    "start_time": "2022-02-25T13:12:07.931Z"
   },
   {
    "duration": 326,
    "start_time": "2022-02-25T13:12:07.939Z"
   },
   {
    "duration": 298,
    "start_time": "2022-02-25T13:12:07.968Z"
   },
   {
    "duration": 287,
    "start_time": "2022-02-25T13:12:07.980Z"
   },
   {
    "duration": 281,
    "start_time": "2022-02-25T13:12:07.987Z"
   },
   {
    "duration": 272,
    "start_time": "2022-02-25T13:12:07.997Z"
   },
   {
    "duration": 266,
    "start_time": "2022-02-25T13:12:08.004Z"
   },
   {
    "duration": 89,
    "start_time": "2022-02-25T13:12:56.881Z"
   },
   {
    "duration": 85,
    "start_time": "2022-02-25T13:13:05.501Z"
   },
   {
    "duration": 4,
    "start_time": "2022-02-25T13:14:12.918Z"
   },
   {
    "duration": 4,
    "start_time": "2022-02-25T13:14:18.300Z"
   },
   {
    "duration": 5,
    "start_time": "2022-02-25T13:14:47.386Z"
   },
   {
    "duration": 7,
    "start_time": "2022-02-25T13:16:45.466Z"
   },
   {
    "duration": 9,
    "start_time": "2022-02-25T13:16:59.602Z"
   },
   {
    "duration": 258,
    "start_time": "2022-02-25T13:20:45.324Z"
   },
   {
    "duration": 55,
    "start_time": "2022-02-25T13:20:55.582Z"
   },
   {
    "duration": 11,
    "start_time": "2022-02-25T13:20:55.639Z"
   },
   {
    "duration": 19,
    "start_time": "2022-02-25T13:20:55.652Z"
   },
   {
    "duration": 7,
    "start_time": "2022-02-25T13:20:55.673Z"
   },
   {
    "duration": 23,
    "start_time": "2022-02-25T13:20:55.681Z"
   },
   {
    "duration": 34,
    "start_time": "2022-02-25T13:20:55.706Z"
   },
   {
    "duration": 15,
    "start_time": "2022-02-25T13:20:55.742Z"
   },
   {
    "duration": 15,
    "start_time": "2022-02-25T13:20:55.759Z"
   },
   {
    "duration": 9,
    "start_time": "2022-02-25T13:20:55.776Z"
   },
   {
    "duration": 50,
    "start_time": "2022-02-25T13:20:55.787Z"
   },
   {
    "duration": 18,
    "start_time": "2022-02-25T13:20:55.838Z"
   },
   {
    "duration": 2,
    "start_time": "2022-02-25T13:20:55.858Z"
   },
   {
    "duration": 903,
    "start_time": "2022-02-25T13:20:55.862Z"
   },
   {
    "duration": 7,
    "start_time": "2022-02-25T13:20:56.767Z"
   },
   {
    "duration": 24,
    "start_time": "2022-02-25T13:20:56.776Z"
   },
   {
    "duration": 539,
    "start_time": "2022-02-25T13:20:56.801Z"
   },
   {
    "duration": 7,
    "start_time": "2022-02-25T13:20:57.341Z"
   },
   {
    "duration": 6,
    "start_time": "2022-02-25T13:20:57.349Z"
   },
   {
    "duration": 8,
    "start_time": "2022-02-25T13:20:57.356Z"
   },
   {
    "duration": 6,
    "start_time": "2022-02-25T13:20:57.366Z"
   },
   {
    "duration": 4,
    "start_time": "2022-02-25T13:20:57.374Z"
   },
   {
    "duration": 7,
    "start_time": "2022-02-25T13:20:57.379Z"
   },
   {
    "duration": 43,
    "start_time": "2022-02-25T13:20:57.389Z"
   },
   {
    "duration": 6,
    "start_time": "2022-02-25T13:20:57.434Z"
   },
   {
    "duration": 12,
    "start_time": "2022-02-25T13:20:57.442Z"
   },
   {
    "duration": 7,
    "start_time": "2022-02-25T13:20:57.456Z"
   },
   {
    "duration": 9,
    "start_time": "2022-02-25T13:20:57.465Z"
   },
   {
    "duration": 11,
    "start_time": "2022-02-25T13:20:57.476Z"
   },
   {
    "duration": 8,
    "start_time": "2022-02-25T13:20:57.489Z"
   },
   {
    "duration": 152,
    "start_time": "2022-02-25T13:20:57.498Z"
   },
   {
    "duration": 130,
    "start_time": "2022-02-25T13:20:57.652Z"
   },
   {
    "duration": 7,
    "start_time": "2022-02-25T13:20:57.784Z"
   },
   {
    "duration": 6,
    "start_time": "2022-02-25T13:20:57.792Z"
   },
   {
    "duration": 7,
    "start_time": "2022-02-25T13:20:57.799Z"
   },
   {
    "duration": 32,
    "start_time": "2022-02-25T13:20:57.807Z"
   },
   {
    "duration": 4,
    "start_time": "2022-02-25T13:20:57.841Z"
   },
   {
    "duration": 6,
    "start_time": "2022-02-25T13:20:57.846Z"
   },
   {
    "duration": 5,
    "start_time": "2022-02-25T13:20:57.853Z"
   },
   {
    "duration": 7,
    "start_time": "2022-02-25T13:20:57.859Z"
   },
   {
    "duration": 11,
    "start_time": "2022-02-25T13:20:57.868Z"
   },
   {
    "duration": 10,
    "start_time": "2022-02-25T13:20:57.880Z"
   },
   {
    "duration": 6,
    "start_time": "2022-02-25T13:20:57.891Z"
   },
   {
    "duration": 33,
    "start_time": "2022-02-25T13:20:57.899Z"
   },
   {
    "duration": 10,
    "start_time": "2022-02-25T13:20:57.934Z"
   },
   {
    "duration": 4,
    "start_time": "2022-02-25T13:20:57.945Z"
   },
   {
    "duration": 11,
    "start_time": "2022-02-25T13:20:57.951Z"
   },
   {
    "duration": 9,
    "start_time": "2022-02-25T13:20:57.964Z"
   },
   {
    "duration": 13,
    "start_time": "2022-02-25T13:20:57.974Z"
   },
   {
    "duration": 9,
    "start_time": "2022-02-25T13:20:57.988Z"
   },
   {
    "duration": 33,
    "start_time": "2022-02-25T13:20:57.999Z"
   },
   {
    "duration": 5,
    "start_time": "2022-02-25T13:20:58.034Z"
   },
   {
    "duration": 14,
    "start_time": "2022-02-25T13:20:58.040Z"
   },
   {
    "duration": 22,
    "start_time": "2022-02-25T13:20:58.055Z"
   },
   {
    "duration": 11,
    "start_time": "2022-02-25T13:20:58.078Z"
   },
   {
    "duration": 10,
    "start_time": "2022-02-25T13:20:58.090Z"
   },
   {
    "duration": 23,
    "start_time": "2022-02-25T13:22:17.124Z"
   },
   {
    "duration": 9,
    "start_time": "2022-02-25T13:22:47.668Z"
   },
   {
    "duration": 9,
    "start_time": "2022-02-25T13:25:13.307Z"
   },
   {
    "duration": 80,
    "start_time": "2022-02-25T13:27:49.881Z"
   },
   {
    "duration": 3,
    "start_time": "2022-02-25T13:28:11.281Z"
   },
   {
    "duration": 271,
    "start_time": "2022-02-25T13:28:45.108Z"
   },
   {
    "duration": 9,
    "start_time": "2022-02-25T13:28:55.828Z"
   },
   {
    "duration": 7,
    "start_time": "2022-02-25T13:30:14.060Z"
   },
   {
    "duration": 7,
    "start_time": "2022-02-25T13:30:39.005Z"
   },
   {
    "duration": 8,
    "start_time": "2022-02-25T13:30:55.415Z"
   },
   {
    "duration": 8523,
    "start_time": "2022-02-25T13:31:33.329Z"
   },
   {
    "duration": 10,
    "start_time": "2022-02-25T13:32:25.466Z"
   },
   {
    "duration": 8,
    "start_time": "2022-02-25T13:33:46.219Z"
   },
   {
    "duration": 107,
    "start_time": "2022-02-25T13:38:37.905Z"
   },
   {
    "duration": 87,
    "start_time": "2022-02-25T13:38:51.092Z"
   },
   {
    "duration": 85,
    "start_time": "2022-02-25T13:39:02.150Z"
   },
   {
    "duration": 98,
    "start_time": "2022-02-25T13:39:38.715Z"
   },
   {
    "duration": 5,
    "start_time": "2022-02-25T13:40:26.190Z"
   },
   {
    "duration": 5,
    "start_time": "2022-02-25T13:43:28.472Z"
   },
   {
    "duration": 9,
    "start_time": "2022-02-25T13:44:00.912Z"
   },
   {
    "duration": 98,
    "start_time": "2022-02-25T13:48:22.556Z"
   },
   {
    "duration": 82,
    "start_time": "2022-02-25T13:48:55.430Z"
   },
   {
    "duration": 118,
    "start_time": "2022-02-25T13:49:24.925Z"
   },
   {
    "duration": 63,
    "start_time": "2022-02-25T13:49:31.902Z"
   },
   {
    "duration": 12,
    "start_time": "2022-02-25T13:49:31.967Z"
   },
   {
    "duration": 13,
    "start_time": "2022-02-25T13:49:31.981Z"
   },
   {
    "duration": 3,
    "start_time": "2022-02-25T13:49:31.996Z"
   },
   {
    "duration": 30,
    "start_time": "2022-02-25T13:49:32.001Z"
   },
   {
    "duration": 16,
    "start_time": "2022-02-25T13:49:32.033Z"
   },
   {
    "duration": 14,
    "start_time": "2022-02-25T13:49:32.051Z"
   },
   {
    "duration": 14,
    "start_time": "2022-02-25T13:49:32.067Z"
   },
   {
    "duration": 9,
    "start_time": "2022-02-25T13:49:32.083Z"
   },
   {
    "duration": 47,
    "start_time": "2022-02-25T13:49:32.094Z"
   },
   {
    "duration": 18,
    "start_time": "2022-02-25T13:49:32.143Z"
   },
   {
    "duration": 3,
    "start_time": "2022-02-25T13:49:32.162Z"
   },
   {
    "duration": 932,
    "start_time": "2022-02-25T13:49:32.166Z"
   },
   {
    "duration": 8,
    "start_time": "2022-02-25T13:49:33.100Z"
   },
   {
    "duration": 38,
    "start_time": "2022-02-25T13:49:33.110Z"
   },
   {
    "duration": 610,
    "start_time": "2022-02-25T13:49:33.149Z"
   },
   {
    "duration": 8,
    "start_time": "2022-02-25T13:49:33.761Z"
   },
   {
    "duration": 6,
    "start_time": "2022-02-25T13:49:33.771Z"
   },
   {
    "duration": 9,
    "start_time": "2022-02-25T13:49:33.779Z"
   },
   {
    "duration": 8,
    "start_time": "2022-02-25T13:49:33.790Z"
   },
   {
    "duration": 6,
    "start_time": "2022-02-25T13:49:33.832Z"
   },
   {
    "duration": 7,
    "start_time": "2022-02-25T13:49:33.840Z"
   },
   {
    "duration": 6,
    "start_time": "2022-02-25T13:49:33.851Z"
   },
   {
    "duration": 7,
    "start_time": "2022-02-25T13:49:33.859Z"
   },
   {
    "duration": 12,
    "start_time": "2022-02-25T13:49:33.868Z"
   },
   {
    "duration": 15,
    "start_time": "2022-02-25T13:49:33.881Z"
   },
   {
    "duration": 36,
    "start_time": "2022-02-25T13:49:33.897Z"
   },
   {
    "duration": 6,
    "start_time": "2022-02-25T13:49:33.935Z"
   },
   {
    "duration": 5,
    "start_time": "2022-02-25T13:49:33.943Z"
   },
   {
    "duration": 152,
    "start_time": "2022-02-25T13:49:33.949Z"
   },
   {
    "duration": 120,
    "start_time": "2022-02-25T13:49:34.103Z"
   },
   {
    "duration": 9,
    "start_time": "2022-02-25T13:49:34.225Z"
   },
   {
    "duration": 7,
    "start_time": "2022-02-25T13:49:34.236Z"
   },
   {
    "duration": 6,
    "start_time": "2022-02-25T13:49:34.245Z"
   },
   {
    "duration": 10,
    "start_time": "2022-02-25T13:49:34.253Z"
   },
   {
    "duration": 3,
    "start_time": "2022-02-25T13:49:34.264Z"
   },
   {
    "duration": 6,
    "start_time": "2022-02-25T13:49:34.269Z"
   },
   {
    "duration": 5,
    "start_time": "2022-02-25T13:49:34.276Z"
   },
   {
    "duration": 9,
    "start_time": "2022-02-25T13:49:34.282Z"
   },
   {
    "duration": 10,
    "start_time": "2022-02-25T13:49:34.292Z"
   },
   {
    "duration": 39,
    "start_time": "2022-02-25T13:49:34.303Z"
   },
   {
    "duration": 3,
    "start_time": "2022-02-25T13:49:34.344Z"
   },
   {
    "duration": 10,
    "start_time": "2022-02-25T13:49:34.349Z"
   },
   {
    "duration": 14,
    "start_time": "2022-02-25T13:49:34.360Z"
   },
   {
    "duration": 4,
    "start_time": "2022-02-25T13:49:34.375Z"
   },
   {
    "duration": 13,
    "start_time": "2022-02-25T13:49:34.380Z"
   },
   {
    "duration": 12,
    "start_time": "2022-02-25T13:49:34.394Z"
   },
   {
    "duration": 14,
    "start_time": "2022-02-25T13:49:34.407Z"
   },
   {
    "duration": 14,
    "start_time": "2022-02-25T13:49:34.422Z"
   },
   {
    "duration": 10,
    "start_time": "2022-02-25T13:49:34.437Z"
   },
   {
    "duration": 8,
    "start_time": "2022-02-25T13:49:34.449Z"
   },
   {
    "duration": 13,
    "start_time": "2022-02-25T13:49:34.458Z"
   },
   {
    "duration": 20,
    "start_time": "2022-02-25T13:49:34.472Z"
   },
   {
    "duration": 10,
    "start_time": "2022-02-25T13:49:34.493Z"
   },
   {
    "duration": 33,
    "start_time": "2022-02-25T13:49:34.505Z"
   },
   {
    "duration": 113,
    "start_time": "2022-02-25T13:49:34.540Z"
   },
   {
    "duration": 9,
    "start_time": "2022-02-25T13:49:51.746Z"
   },
   {
    "duration": 52,
    "start_time": "2022-02-25T13:50:15.314Z"
   },
   {
    "duration": 11,
    "start_time": "2022-02-25T13:50:15.368Z"
   },
   {
    "duration": 12,
    "start_time": "2022-02-25T13:50:15.380Z"
   },
   {
    "duration": 3,
    "start_time": "2022-02-25T13:50:15.394Z"
   },
   {
    "duration": 5,
    "start_time": "2022-02-25T13:50:15.398Z"
   },
   {
    "duration": 37,
    "start_time": "2022-02-25T13:50:15.404Z"
   },
   {
    "duration": 13,
    "start_time": "2022-02-25T13:50:15.443Z"
   },
   {
    "duration": 13,
    "start_time": "2022-02-25T13:50:15.458Z"
   },
   {
    "duration": 8,
    "start_time": "2022-02-25T13:50:15.473Z"
   },
   {
    "duration": 17,
    "start_time": "2022-02-25T13:50:15.482Z"
   },
   {
    "duration": 18,
    "start_time": "2022-02-25T13:50:15.532Z"
   },
   {
    "duration": 3,
    "start_time": "2022-02-25T13:50:15.552Z"
   },
   {
    "duration": 915,
    "start_time": "2022-02-25T13:50:15.557Z"
   },
   {
    "duration": 10,
    "start_time": "2022-02-25T13:50:16.473Z"
   },
   {
    "duration": 47,
    "start_time": "2022-02-25T13:50:16.485Z"
   },
   {
    "duration": 617,
    "start_time": "2022-02-25T13:50:16.534Z"
   },
   {
    "duration": 6,
    "start_time": "2022-02-25T13:50:17.153Z"
   },
   {
    "duration": 6,
    "start_time": "2022-02-25T13:50:17.161Z"
   },
   {
    "duration": 8,
    "start_time": "2022-02-25T13:50:17.168Z"
   },
   {
    "duration": 7,
    "start_time": "2022-02-25T13:50:17.178Z"
   },
   {
    "duration": 5,
    "start_time": "2022-02-25T13:50:17.186Z"
   },
   {
    "duration": 39,
    "start_time": "2022-02-25T13:50:17.192Z"
   },
   {
    "duration": 5,
    "start_time": "2022-02-25T13:50:17.235Z"
   },
   {
    "duration": 7,
    "start_time": "2022-02-25T13:50:17.242Z"
   },
   {
    "duration": 13,
    "start_time": "2022-02-25T13:50:17.251Z"
   },
   {
    "duration": 13,
    "start_time": "2022-02-25T13:50:17.265Z"
   },
   {
    "duration": 8,
    "start_time": "2022-02-25T13:50:17.280Z"
   },
   {
    "duration": 11,
    "start_time": "2022-02-25T13:50:17.289Z"
   },
   {
    "duration": 6,
    "start_time": "2022-02-25T13:50:17.301Z"
   },
   {
    "duration": 154,
    "start_time": "2022-02-25T13:50:17.308Z"
   },
   {
    "duration": 123,
    "start_time": "2022-02-25T13:50:17.464Z"
   },
   {
    "duration": 6,
    "start_time": "2022-02-25T13:50:17.589Z"
   },
   {
    "duration": 18,
    "start_time": "2022-02-25T13:50:17.597Z"
   },
   {
    "duration": 20,
    "start_time": "2022-02-25T13:50:17.616Z"
   },
   {
    "duration": 31,
    "start_time": "2022-02-25T13:50:17.639Z"
   },
   {
    "duration": 22,
    "start_time": "2022-02-25T13:50:17.672Z"
   },
   {
    "duration": 16,
    "start_time": "2022-02-25T13:50:17.696Z"
   },
   {
    "duration": 11,
    "start_time": "2022-02-25T13:50:17.714Z"
   },
   {
    "duration": 29,
    "start_time": "2022-02-25T13:50:17.728Z"
   },
   {
    "duration": 16,
    "start_time": "2022-02-25T13:50:17.759Z"
   },
   {
    "duration": 21,
    "start_time": "2022-02-25T13:50:17.776Z"
   },
   {
    "duration": 19,
    "start_time": "2022-02-25T13:50:17.799Z"
   },
   {
    "duration": 19,
    "start_time": "2022-02-25T13:50:17.820Z"
   },
   {
    "duration": 34,
    "start_time": "2022-02-25T13:50:17.840Z"
   },
   {
    "duration": 16,
    "start_time": "2022-02-25T13:50:17.876Z"
   },
   {
    "duration": 14,
    "start_time": "2022-02-25T13:50:17.894Z"
   },
   {
    "duration": 27,
    "start_time": "2022-02-25T13:50:17.909Z"
   },
   {
    "duration": 19,
    "start_time": "2022-02-25T13:50:17.937Z"
   },
   {
    "duration": 17,
    "start_time": "2022-02-25T13:50:17.957Z"
   },
   {
    "duration": 6,
    "start_time": "2022-02-25T13:50:17.975Z"
   },
   {
    "duration": 21,
    "start_time": "2022-02-25T13:50:17.982Z"
   },
   {
    "duration": 14,
    "start_time": "2022-02-25T13:50:18.004Z"
   },
   {
    "duration": 29,
    "start_time": "2022-02-25T13:50:18.020Z"
   },
   {
    "duration": 10,
    "start_time": "2022-02-25T13:50:18.051Z"
   },
   {
    "duration": 10,
    "start_time": "2022-02-25T13:50:18.063Z"
   },
   {
    "duration": 7,
    "start_time": "2022-02-25T13:50:18.075Z"
   },
   {
    "duration": 13,
    "start_time": "2022-02-25T13:51:40.222Z"
   },
   {
    "duration": 15,
    "start_time": "2022-02-25T13:52:54.027Z"
   },
   {
    "duration": 54,
    "start_time": "2022-02-25T13:53:58.048Z"
   },
   {
    "duration": 11,
    "start_time": "2022-02-25T13:53:58.103Z"
   },
   {
    "duration": 11,
    "start_time": "2022-02-25T13:53:58.116Z"
   },
   {
    "duration": 5,
    "start_time": "2022-02-25T13:53:58.129Z"
   },
   {
    "duration": 3,
    "start_time": "2022-02-25T13:53:58.136Z"
   },
   {
    "duration": 16,
    "start_time": "2022-02-25T13:53:58.141Z"
   },
   {
    "duration": 15,
    "start_time": "2022-02-25T13:53:58.158Z"
   },
   {
    "duration": 15,
    "start_time": "2022-02-25T13:53:58.175Z"
   },
   {
    "duration": 42,
    "start_time": "2022-02-25T13:53:58.192Z"
   },
   {
    "duration": 20,
    "start_time": "2022-02-25T13:53:58.236Z"
   },
   {
    "duration": 17,
    "start_time": "2022-02-25T13:53:58.257Z"
   },
   {
    "duration": 3,
    "start_time": "2022-02-25T13:53:58.276Z"
   },
   {
    "duration": 911,
    "start_time": "2022-02-25T13:53:58.280Z"
   },
   {
    "duration": 7,
    "start_time": "2022-02-25T13:53:59.192Z"
   },
   {
    "duration": 40,
    "start_time": "2022-02-25T13:53:59.201Z"
   },
   {
    "duration": 623,
    "start_time": "2022-02-25T13:53:59.243Z"
   },
   {
    "duration": 7,
    "start_time": "2022-02-25T13:53:59.868Z"
   },
   {
    "duration": 13,
    "start_time": "2022-02-25T13:53:59.876Z"
   },
   {
    "duration": 10,
    "start_time": "2022-02-25T13:53:59.890Z"
   },
   {
    "duration": 7,
    "start_time": "2022-02-25T13:53:59.901Z"
   },
   {
    "duration": 24,
    "start_time": "2022-02-25T13:53:59.910Z"
   },
   {
    "duration": 8,
    "start_time": "2022-02-25T13:53:59.936Z"
   },
   {
    "duration": 6,
    "start_time": "2022-02-25T13:53:59.947Z"
   },
   {
    "duration": 8,
    "start_time": "2022-02-25T13:53:59.955Z"
   },
   {
    "duration": 13,
    "start_time": "2022-02-25T13:53:59.965Z"
   },
   {
    "duration": 11,
    "start_time": "2022-02-25T13:53:59.979Z"
   },
   {
    "duration": 8,
    "start_time": "2022-02-25T13:53:59.992Z"
   },
   {
    "duration": 35,
    "start_time": "2022-02-25T13:54:00.001Z"
   },
   {
    "duration": 6,
    "start_time": "2022-02-25T13:54:00.037Z"
   },
   {
    "duration": 154,
    "start_time": "2022-02-25T13:54:00.045Z"
   },
   {
    "duration": 122,
    "start_time": "2022-02-25T13:54:00.200Z"
   },
   {
    "duration": 11,
    "start_time": "2022-02-25T13:54:00.324Z"
   },
   {
    "duration": 10,
    "start_time": "2022-02-25T13:54:00.336Z"
   },
   {
    "duration": 8,
    "start_time": "2022-02-25T13:54:00.348Z"
   },
   {
    "duration": 11,
    "start_time": "2022-02-25T13:54:00.357Z"
   },
   {
    "duration": 4,
    "start_time": "2022-02-25T13:54:00.370Z"
   },
   {
    "duration": 5,
    "start_time": "2022-02-25T13:54:00.375Z"
   },
   {
    "duration": 9,
    "start_time": "2022-02-25T13:54:00.382Z"
   },
   {
    "duration": 7,
    "start_time": "2022-02-25T13:54:00.392Z"
   },
   {
    "duration": 32,
    "start_time": "2022-02-25T13:54:00.400Z"
   },
   {
    "duration": 11,
    "start_time": "2022-02-25T13:54:00.434Z"
   },
   {
    "duration": 4,
    "start_time": "2022-02-25T13:54:00.447Z"
   },
   {
    "duration": 12,
    "start_time": "2022-02-25T13:54:00.453Z"
   },
   {
    "duration": 41,
    "start_time": "2022-02-25T13:54:00.467Z"
   },
   {
    "duration": 18,
    "start_time": "2022-02-25T13:54:00.509Z"
   },
   {
    "duration": 22,
    "start_time": "2022-02-25T13:54:00.529Z"
   },
   {
    "duration": 18,
    "start_time": "2022-02-25T13:54:00.553Z"
   },
   {
    "duration": 17,
    "start_time": "2022-02-25T13:54:00.572Z"
   },
   {
    "duration": 10,
    "start_time": "2022-02-25T13:54:00.590Z"
   },
   {
    "duration": 24,
    "start_time": "2022-02-25T13:54:00.602Z"
   },
   {
    "duration": 13,
    "start_time": "2022-02-25T13:54:00.627Z"
   },
   {
    "duration": 20,
    "start_time": "2022-02-25T13:54:00.642Z"
   },
   {
    "duration": 22,
    "start_time": "2022-02-25T13:54:00.664Z"
   },
   {
    "duration": 17,
    "start_time": "2022-02-25T13:54:00.688Z"
   },
   {
    "duration": 33,
    "start_time": "2022-02-25T13:54:00.707Z"
   },
   {
    "duration": 10,
    "start_time": "2022-02-25T13:54:00.741Z"
   },
   {
    "duration": 25,
    "start_time": "2022-02-25T13:54:00.753Z"
   },
   {
    "duration": 13,
    "start_time": "2022-02-25T13:54:00.780Z"
   },
   {
    "duration": 20,
    "start_time": "2022-02-25T13:54:00.794Z"
   },
   {
    "duration": 40,
    "start_time": "2022-02-25T13:54:00.815Z"
   },
   {
    "duration": 12,
    "start_time": "2022-02-25T13:54:00.857Z"
   },
   {
    "duration": 32,
    "start_time": "2022-02-25T13:54:00.871Z"
   },
   {
    "duration": 12,
    "start_time": "2022-02-25T13:54:00.904Z"
   },
   {
    "duration": 25,
    "start_time": "2022-02-25T13:54:00.918Z"
   },
   {
    "duration": 3,
    "start_time": "2022-02-25T13:54:00.945Z"
   },
   {
    "duration": 11,
    "start_time": "2022-02-25T13:54:00.950Z"
   },
   {
    "duration": 5182,
    "start_time": "2022-02-25T14:05:19.116Z"
   },
   {
    "duration": 5064,
    "start_time": "2022-02-25T14:06:17.401Z"
   },
   {
    "duration": 54,
    "start_time": "2022-02-25T14:06:24.298Z"
   },
   {
    "duration": 10,
    "start_time": "2022-02-25T14:06:24.354Z"
   },
   {
    "duration": 10,
    "start_time": "2022-02-25T14:06:24.366Z"
   },
   {
    "duration": 4,
    "start_time": "2022-02-25T14:06:24.378Z"
   },
   {
    "duration": 3,
    "start_time": "2022-02-25T14:06:24.384Z"
   },
   {
    "duration": 44,
    "start_time": "2022-02-25T14:06:24.389Z"
   },
   {
    "duration": 15,
    "start_time": "2022-02-25T14:06:24.434Z"
   },
   {
    "duration": 14,
    "start_time": "2022-02-25T14:06:24.452Z"
   },
   {
    "duration": 9,
    "start_time": "2022-02-25T14:06:24.468Z"
   },
   {
    "duration": 18,
    "start_time": "2022-02-25T14:06:24.479Z"
   },
   {
    "duration": 51,
    "start_time": "2022-02-25T14:06:24.498Z"
   },
   {
    "duration": 12,
    "start_time": "2022-02-25T14:06:24.551Z"
   },
   {
    "duration": 907,
    "start_time": "2022-02-25T14:06:24.565Z"
   },
   {
    "duration": 8,
    "start_time": "2022-02-25T14:06:25.473Z"
   },
   {
    "duration": 32,
    "start_time": "2022-02-25T14:06:25.483Z"
   },
   {
    "duration": 695,
    "start_time": "2022-02-25T14:06:25.516Z"
   },
   {
    "duration": 6,
    "start_time": "2022-02-25T14:06:26.213Z"
   },
   {
    "duration": 12,
    "start_time": "2022-02-25T14:06:26.221Z"
   },
   {
    "duration": 14,
    "start_time": "2022-02-25T14:06:26.235Z"
   },
   {
    "duration": 16,
    "start_time": "2022-02-25T14:06:26.251Z"
   },
   {
    "duration": 19,
    "start_time": "2022-02-25T14:06:26.269Z"
   },
   {
    "duration": 22,
    "start_time": "2022-02-25T14:06:26.290Z"
   },
   {
    "duration": 9,
    "start_time": "2022-02-25T14:06:26.317Z"
   },
   {
    "duration": 20,
    "start_time": "2022-02-25T14:06:26.328Z"
   },
   {
    "duration": 19,
    "start_time": "2022-02-25T14:06:26.350Z"
   },
   {
    "duration": 21,
    "start_time": "2022-02-25T14:06:26.371Z"
   },
   {
    "duration": 12,
    "start_time": "2022-02-25T14:06:26.394Z"
   },
   {
    "duration": 12,
    "start_time": "2022-02-25T14:06:26.407Z"
   },
   {
    "duration": 26,
    "start_time": "2022-02-25T14:06:26.420Z"
   },
   {
    "duration": 150,
    "start_time": "2022-02-25T14:06:26.447Z"
   },
   {
    "duration": 125,
    "start_time": "2022-02-25T14:06:26.598Z"
   },
   {
    "duration": 7,
    "start_time": "2022-02-25T14:06:26.731Z"
   },
   {
    "duration": 22,
    "start_time": "2022-02-25T14:06:26.739Z"
   },
   {
    "duration": 9,
    "start_time": "2022-02-25T14:06:26.763Z"
   },
   {
    "duration": 18,
    "start_time": "2022-02-25T14:06:26.774Z"
   },
   {
    "duration": 16,
    "start_time": "2022-02-25T14:06:26.793Z"
   },
   {
    "duration": 11,
    "start_time": "2022-02-25T14:06:26.810Z"
   },
   {
    "duration": 11,
    "start_time": "2022-02-25T14:06:26.823Z"
   },
   {
    "duration": 4,
    "start_time": "2022-02-25T14:06:26.836Z"
   },
   {
    "duration": 27,
    "start_time": "2022-02-25T14:06:26.841Z"
   },
   {
    "duration": 21,
    "start_time": "2022-02-25T14:06:26.869Z"
   },
   {
    "duration": 16,
    "start_time": "2022-02-25T14:06:26.892Z"
   },
   {
    "duration": 21,
    "start_time": "2022-02-25T14:06:26.909Z"
   },
   {
    "duration": 29,
    "start_time": "2022-02-25T14:06:26.932Z"
   },
   {
    "duration": 11,
    "start_time": "2022-02-25T14:06:26.963Z"
   },
   {
    "duration": 18,
    "start_time": "2022-02-25T14:06:26.976Z"
   },
   {
    "duration": 28,
    "start_time": "2022-02-25T14:06:26.996Z"
   },
   {
    "duration": 34,
    "start_time": "2022-02-25T14:06:27.025Z"
   },
   {
    "duration": 9,
    "start_time": "2022-02-25T14:06:27.061Z"
   },
   {
    "duration": 18,
    "start_time": "2022-02-25T14:06:27.072Z"
   },
   {
    "duration": 20,
    "start_time": "2022-02-25T14:06:27.091Z"
   },
   {
    "duration": 26,
    "start_time": "2022-02-25T14:06:27.113Z"
   },
   {
    "duration": 22,
    "start_time": "2022-02-25T14:06:27.140Z"
   },
   {
    "duration": 14,
    "start_time": "2022-02-25T14:06:27.163Z"
   },
   {
    "duration": 35,
    "start_time": "2022-02-25T14:06:27.178Z"
   },
   {
    "duration": 12,
    "start_time": "2022-02-25T14:06:27.215Z"
   },
   {
    "duration": 25,
    "start_time": "2022-02-25T14:06:27.229Z"
   },
   {
    "duration": 8,
    "start_time": "2022-02-25T14:06:27.256Z"
   },
   {
    "duration": 30,
    "start_time": "2022-02-25T14:06:27.265Z"
   },
   {
    "duration": 43,
    "start_time": "2022-02-25T14:06:27.297Z"
   },
   {
    "duration": 16,
    "start_time": "2022-02-25T14:06:27.342Z"
   },
   {
    "duration": 29,
    "start_time": "2022-02-25T14:06:27.359Z"
   },
   {
    "duration": 11,
    "start_time": "2022-02-25T14:06:27.390Z"
   },
   {
    "duration": 23,
    "start_time": "2022-02-25T14:06:27.403Z"
   },
   {
    "duration": 17,
    "start_time": "2022-02-25T14:06:27.428Z"
   },
   {
    "duration": 27,
    "start_time": "2022-02-25T14:06:27.447Z"
   },
   {
    "duration": 9,
    "start_time": "2022-02-25T14:10:38.988Z"
   },
   {
    "duration": 63,
    "start_time": "2022-02-25T14:10:46.978Z"
   },
   {
    "duration": 12,
    "start_time": "2022-02-25T14:10:47.044Z"
   },
   {
    "duration": 10,
    "start_time": "2022-02-25T14:10:47.059Z"
   },
   {
    "duration": 4,
    "start_time": "2022-02-25T14:10:47.071Z"
   },
   {
    "duration": 3,
    "start_time": "2022-02-25T14:10:47.077Z"
   },
   {
    "duration": 16,
    "start_time": "2022-02-25T14:10:47.081Z"
   },
   {
    "duration": 16,
    "start_time": "2022-02-25T14:10:47.133Z"
   },
   {
    "duration": 14,
    "start_time": "2022-02-25T14:10:47.151Z"
   },
   {
    "duration": 14,
    "start_time": "2022-02-25T14:10:47.168Z"
   },
   {
    "duration": 57,
    "start_time": "2022-02-25T14:10:47.184Z"
   },
   {
    "duration": 26,
    "start_time": "2022-02-25T14:10:47.243Z"
   },
   {
    "duration": 5,
    "start_time": "2022-02-25T14:10:47.270Z"
   },
   {
    "duration": 1556,
    "start_time": "2022-02-25T14:10:47.276Z"
   },
   {
    "duration": 11,
    "start_time": "2022-02-25T14:10:48.834Z"
   },
   {
    "duration": 39,
    "start_time": "2022-02-25T14:10:48.847Z"
   },
   {
    "duration": 807,
    "start_time": "2022-02-25T14:10:48.889Z"
   },
   {
    "duration": 9,
    "start_time": "2022-02-25T14:10:49.699Z"
   },
   {
    "duration": 22,
    "start_time": "2022-02-25T14:10:49.710Z"
   },
   {
    "duration": 8,
    "start_time": "2022-02-25T14:10:49.733Z"
   },
   {
    "duration": 7,
    "start_time": "2022-02-25T14:10:49.743Z"
   },
   {
    "duration": 7,
    "start_time": "2022-02-25T14:10:49.752Z"
   },
   {
    "duration": 5,
    "start_time": "2022-02-25T14:10:49.761Z"
   },
   {
    "duration": 6,
    "start_time": "2022-02-25T14:10:49.770Z"
   },
   {
    "duration": 11,
    "start_time": "2022-02-25T14:10:49.779Z"
   },
   {
    "duration": 47,
    "start_time": "2022-02-25T14:10:49.792Z"
   },
   {
    "duration": 11,
    "start_time": "2022-02-25T14:10:49.841Z"
   },
   {
    "duration": 9,
    "start_time": "2022-02-25T14:10:49.854Z"
   },
   {
    "duration": 10,
    "start_time": "2022-02-25T14:10:49.864Z"
   },
   {
    "duration": 7,
    "start_time": "2022-02-25T14:10:49.876Z"
   },
   {
    "duration": 164,
    "start_time": "2022-02-25T14:10:49.885Z"
   },
   {
    "duration": 184,
    "start_time": "2022-02-25T14:10:50.051Z"
   },
   {
    "duration": 10,
    "start_time": "2022-02-25T14:10:50.237Z"
   },
   {
    "duration": 9,
    "start_time": "2022-02-25T14:10:50.249Z"
   },
   {
    "duration": 9,
    "start_time": "2022-02-25T14:10:50.259Z"
   },
   {
    "duration": 10,
    "start_time": "2022-02-25T14:10:50.270Z"
   },
   {
    "duration": 4,
    "start_time": "2022-02-25T14:10:50.282Z"
   },
   {
    "duration": 6,
    "start_time": "2022-02-25T14:10:50.287Z"
   },
   {
    "duration": 42,
    "start_time": "2022-02-25T14:10:50.294Z"
   },
   {
    "duration": 4,
    "start_time": "2022-02-25T14:10:50.338Z"
   },
   {
    "duration": 9,
    "start_time": "2022-02-25T14:10:50.344Z"
   },
   {
    "duration": 10,
    "start_time": "2022-02-25T14:10:50.355Z"
   },
   {
    "duration": 12,
    "start_time": "2022-02-25T14:10:50.367Z"
   },
   {
    "duration": 9,
    "start_time": "2022-02-25T14:10:50.381Z"
   },
   {
    "duration": 15,
    "start_time": "2022-02-25T14:10:50.392Z"
   },
   {
    "duration": 24,
    "start_time": "2022-02-25T14:10:50.409Z"
   },
   {
    "duration": 15,
    "start_time": "2022-02-25T14:10:50.435Z"
   },
   {
    "duration": 11,
    "start_time": "2022-02-25T14:10:50.452Z"
   },
   {
    "duration": 13,
    "start_time": "2022-02-25T14:10:50.465Z"
   },
   {
    "duration": 11,
    "start_time": "2022-02-25T14:10:50.480Z"
   },
   {
    "duration": 11,
    "start_time": "2022-02-25T14:10:50.492Z"
   },
   {
    "duration": 28,
    "start_time": "2022-02-25T14:10:50.505Z"
   },
   {
    "duration": 18,
    "start_time": "2022-02-25T14:10:50.535Z"
   },
   {
    "duration": 28,
    "start_time": "2022-02-25T14:10:50.555Z"
   },
   {
    "duration": 9,
    "start_time": "2022-02-25T14:10:50.585Z"
   },
   {
    "duration": 82,
    "start_time": "2022-02-25T14:10:50.596Z"
   },
   {
    "duration": 404,
    "start_time": "2022-02-25T14:10:50.276Z"
   },
   {
    "duration": 400,
    "start_time": "2022-02-25T14:10:50.282Z"
   },
   {
    "duration": 394,
    "start_time": "2022-02-25T14:10:50.289Z"
   },
   {
    "duration": 360,
    "start_time": "2022-02-25T14:10:50.324Z"
   },
   {
    "duration": 351,
    "start_time": "2022-02-25T14:10:50.334Z"
   },
   {
    "duration": 346,
    "start_time": "2022-02-25T14:10:50.341Z"
   },
   {
    "duration": 339,
    "start_time": "2022-02-25T14:10:50.349Z"
   },
   {
    "duration": 334,
    "start_time": "2022-02-25T14:10:50.355Z"
   },
   {
    "duration": 329,
    "start_time": "2022-02-25T14:10:50.362Z"
   },
   {
    "duration": 324,
    "start_time": "2022-02-25T14:10:50.368Z"
   },
   {
    "duration": 318,
    "start_time": "2022-02-25T14:10:50.375Z"
   },
   {
    "duration": 313,
    "start_time": "2022-02-25T14:10:50.381Z"
   },
   {
    "duration": 307,
    "start_time": "2022-02-25T14:10:50.389Z"
   },
   {
    "duration": 16,
    "start_time": "2022-02-25T14:11:11.835Z"
   },
   {
    "duration": 7,
    "start_time": "2022-02-25T14:11:17.614Z"
   },
   {
    "duration": 51,
    "start_time": "2022-02-25T14:11:44.630Z"
   },
   {
    "duration": 11,
    "start_time": "2022-02-25T14:11:44.682Z"
   },
   {
    "duration": 14,
    "start_time": "2022-02-25T14:11:44.694Z"
   },
   {
    "duration": 6,
    "start_time": "2022-02-25T14:11:44.709Z"
   },
   {
    "duration": 6,
    "start_time": "2022-02-25T14:11:44.716Z"
   },
   {
    "duration": 23,
    "start_time": "2022-02-25T14:11:44.723Z"
   },
   {
    "duration": 14,
    "start_time": "2022-02-25T14:11:44.747Z"
   },
   {
    "duration": 14,
    "start_time": "2022-02-25T14:11:44.763Z"
   },
   {
    "duration": 9,
    "start_time": "2022-02-25T14:11:44.779Z"
   },
   {
    "duration": 46,
    "start_time": "2022-02-25T14:11:44.790Z"
   },
   {
    "duration": 18,
    "start_time": "2022-02-25T14:11:44.837Z"
   },
   {
    "duration": 4,
    "start_time": "2022-02-25T14:11:44.857Z"
   },
   {
    "duration": 1224,
    "start_time": "2022-02-25T14:11:44.862Z"
   },
   {
    "duration": 10,
    "start_time": "2022-02-25T14:11:46.088Z"
   },
   {
    "duration": 53,
    "start_time": "2022-02-25T14:11:46.100Z"
   },
   {
    "duration": 440,
    "start_time": "2022-02-25T14:11:46.155Z"
   },
   {
    "duration": 7,
    "start_time": "2022-02-25T14:11:46.596Z"
   },
   {
    "duration": 13,
    "start_time": "2022-02-25T14:11:46.604Z"
   },
   {
    "duration": 15,
    "start_time": "2022-02-25T14:11:46.619Z"
   },
   {
    "duration": 24,
    "start_time": "2022-02-25T14:11:46.636Z"
   },
   {
    "duration": 5,
    "start_time": "2022-02-25T14:11:46.661Z"
   },
   {
    "duration": 17,
    "start_time": "2022-02-25T14:11:46.667Z"
   },
   {
    "duration": 10,
    "start_time": "2022-02-25T14:11:46.687Z"
   },
   {
    "duration": 9,
    "start_time": "2022-02-25T14:11:46.699Z"
   },
   {
    "duration": 31,
    "start_time": "2022-02-25T14:11:46.709Z"
   },
   {
    "duration": 25,
    "start_time": "2022-02-25T14:11:46.742Z"
   },
   {
    "duration": 11,
    "start_time": "2022-02-25T14:11:46.769Z"
   },
   {
    "duration": 16,
    "start_time": "2022-02-25T14:11:46.781Z"
   },
   {
    "duration": 16,
    "start_time": "2022-02-25T14:11:46.799Z"
   },
   {
    "duration": 130,
    "start_time": "2022-02-25T14:11:46.817Z"
   },
   {
    "duration": 127,
    "start_time": "2022-02-25T14:11:46.948Z"
   },
   {
    "duration": 7,
    "start_time": "2022-02-25T14:11:47.077Z"
   },
   {
    "duration": 27,
    "start_time": "2022-02-25T14:11:47.085Z"
   },
   {
    "duration": 17,
    "start_time": "2022-02-25T14:11:47.113Z"
   },
   {
    "duration": 22,
    "start_time": "2022-02-25T14:11:47.131Z"
   },
   {
    "duration": 18,
    "start_time": "2022-02-25T14:11:47.155Z"
   },
   {
    "duration": 16,
    "start_time": "2022-02-25T14:11:47.175Z"
   },
   {
    "duration": 9,
    "start_time": "2022-02-25T14:11:47.193Z"
   },
   {
    "duration": 5,
    "start_time": "2022-02-25T14:11:47.204Z"
   },
   {
    "duration": 14,
    "start_time": "2022-02-25T14:11:47.210Z"
   },
   {
    "duration": 14,
    "start_time": "2022-02-25T14:11:47.226Z"
   },
   {
    "duration": 12,
    "start_time": "2022-02-25T14:11:47.241Z"
   },
   {
    "duration": 14,
    "start_time": "2022-02-25T14:11:47.255Z"
   },
   {
    "duration": 19,
    "start_time": "2022-02-25T14:11:47.271Z"
   },
   {
    "duration": 5,
    "start_time": "2022-02-25T14:11:47.291Z"
   },
   {
    "duration": 15,
    "start_time": "2022-02-25T14:11:47.297Z"
   },
   {
    "duration": 17,
    "start_time": "2022-02-25T14:11:47.314Z"
   },
   {
    "duration": 35,
    "start_time": "2022-02-25T14:11:47.332Z"
   },
   {
    "duration": 9,
    "start_time": "2022-02-25T14:11:47.368Z"
   },
   {
    "duration": 16,
    "start_time": "2022-02-25T14:11:47.379Z"
   },
   {
    "duration": 15,
    "start_time": "2022-02-25T14:11:47.396Z"
   },
   {
    "duration": 30,
    "start_time": "2022-02-25T14:11:47.412Z"
   },
   {
    "duration": 33,
    "start_time": "2022-02-25T14:11:47.444Z"
   },
   {
    "duration": 6,
    "start_time": "2022-02-25T14:11:47.479Z"
   },
   {
    "duration": 28,
    "start_time": "2022-02-25T14:11:47.487Z"
   },
   {
    "duration": 14,
    "start_time": "2022-02-25T14:11:47.517Z"
   },
   {
    "duration": 23,
    "start_time": "2022-02-25T14:11:47.532Z"
   },
   {
    "duration": 15,
    "start_time": "2022-02-25T14:11:47.557Z"
   },
   {
    "duration": 21,
    "start_time": "2022-02-25T14:11:47.574Z"
   },
   {
    "duration": 27,
    "start_time": "2022-02-25T14:11:47.597Z"
   },
   {
    "duration": 33,
    "start_time": "2022-02-25T14:11:47.625Z"
   },
   {
    "duration": 24,
    "start_time": "2022-02-25T14:11:47.660Z"
   },
   {
    "duration": 13,
    "start_time": "2022-02-25T14:11:47.685Z"
   },
   {
    "duration": 35,
    "start_time": "2022-02-25T14:11:47.700Z"
   },
   {
    "duration": 17,
    "start_time": "2022-02-25T14:11:47.736Z"
   },
   {
    "duration": 30,
    "start_time": "2022-02-25T14:11:47.755Z"
   },
   {
    "duration": 24,
    "start_time": "2022-02-25T14:11:47.786Z"
   },
   {
    "duration": 10,
    "start_time": "2022-02-25T14:11:47.815Z"
   },
   {
    "duration": 7,
    "start_time": "2022-02-25T14:12:45.036Z"
   },
   {
    "duration": 6,
    "start_time": "2022-02-25T14:13:07.068Z"
   },
   {
    "duration": 280,
    "start_time": "2022-02-25T14:13:25.865Z"
   },
   {
    "duration": 53,
    "start_time": "2022-02-25T14:13:40.972Z"
   },
   {
    "duration": 10,
    "start_time": "2022-02-25T14:13:41.027Z"
   },
   {
    "duration": 9,
    "start_time": "2022-02-25T14:13:41.039Z"
   },
   {
    "duration": 3,
    "start_time": "2022-02-25T14:13:41.051Z"
   },
   {
    "duration": 2,
    "start_time": "2022-02-25T14:13:41.056Z"
   },
   {
    "duration": 15,
    "start_time": "2022-02-25T14:13:41.060Z"
   },
   {
    "duration": 14,
    "start_time": "2022-02-25T14:13:41.077Z"
   },
   {
    "duration": 54,
    "start_time": "2022-02-25T14:13:41.094Z"
   },
   {
    "duration": 11,
    "start_time": "2022-02-25T14:13:41.150Z"
   },
   {
    "duration": 17,
    "start_time": "2022-02-25T14:13:41.163Z"
   },
   {
    "duration": 17,
    "start_time": "2022-02-25T14:13:41.181Z"
   },
   {
    "duration": 3,
    "start_time": "2022-02-25T14:13:41.232Z"
   },
   {
    "duration": 908,
    "start_time": "2022-02-25T14:13:41.237Z"
   },
   {
    "duration": 8,
    "start_time": "2022-02-25T14:13:42.147Z"
   },
   {
    "duration": 25,
    "start_time": "2022-02-25T14:13:42.156Z"
   },
   {
    "duration": 455,
    "start_time": "2022-02-25T14:13:42.183Z"
   },
   {
    "duration": 7,
    "start_time": "2022-02-25T14:13:42.640Z"
   },
   {
    "duration": 5,
    "start_time": "2022-02-25T14:13:42.649Z"
   },
   {
    "duration": 8,
    "start_time": "2022-02-25T14:13:42.655Z"
   },
   {
    "duration": 7,
    "start_time": "2022-02-25T14:13:42.664Z"
   },
   {
    "duration": 4,
    "start_time": "2022-02-25T14:13:42.675Z"
   },
   {
    "duration": 6,
    "start_time": "2022-02-25T14:13:42.681Z"
   },
   {
    "duration": 44,
    "start_time": "2022-02-25T14:13:42.689Z"
   },
   {
    "duration": 6,
    "start_time": "2022-02-25T14:13:42.735Z"
   },
   {
    "duration": 10,
    "start_time": "2022-02-25T14:13:42.743Z"
   },
   {
    "duration": 8,
    "start_time": "2022-02-25T14:13:42.754Z"
   },
   {
    "duration": 8,
    "start_time": "2022-02-25T14:13:42.764Z"
   },
   {
    "duration": 11,
    "start_time": "2022-02-25T14:13:42.773Z"
   },
   {
    "duration": 5,
    "start_time": "2022-02-25T14:13:42.785Z"
   },
   {
    "duration": 154,
    "start_time": "2022-02-25T14:13:42.792Z"
   },
   {
    "duration": 126,
    "start_time": "2022-02-25T14:13:42.948Z"
   },
   {
    "duration": 8,
    "start_time": "2022-02-25T14:13:43.075Z"
   },
   {
    "duration": 7,
    "start_time": "2022-02-25T14:13:43.085Z"
   },
   {
    "duration": 8,
    "start_time": "2022-02-25T14:13:43.093Z"
   },
   {
    "duration": 30,
    "start_time": "2022-02-25T14:13:43.102Z"
   },
   {
    "duration": 4,
    "start_time": "2022-02-25T14:13:43.134Z"
   },
   {
    "duration": 5,
    "start_time": "2022-02-25T14:13:43.139Z"
   },
   {
    "duration": 4,
    "start_time": "2022-02-25T14:13:43.146Z"
   },
   {
    "duration": 6,
    "start_time": "2022-02-25T14:13:43.151Z"
   },
   {
    "duration": 13,
    "start_time": "2022-02-25T14:13:43.158Z"
   },
   {
    "duration": 10,
    "start_time": "2022-02-25T14:13:43.172Z"
   },
   {
    "duration": 7,
    "start_time": "2022-02-25T14:13:43.184Z"
   },
   {
    "duration": 9,
    "start_time": "2022-02-25T14:13:43.192Z"
   },
   {
    "duration": 340,
    "start_time": "2022-02-25T14:13:43.203Z"
   },
   {
    "duration": 5,
    "start_time": "2022-02-25T14:13:43.545Z"
   },
   {
    "duration": 11,
    "start_time": "2022-02-25T14:13:43.552Z"
   },
   {
    "duration": 8,
    "start_time": "2022-02-25T14:13:43.564Z"
   },
   {
    "duration": 11,
    "start_time": "2022-02-25T14:13:43.573Z"
   },
   {
    "duration": 10,
    "start_time": "2022-02-25T14:13:43.585Z"
   },
   {
    "duration": 40,
    "start_time": "2022-02-25T14:13:43.597Z"
   },
   {
    "duration": 6,
    "start_time": "2022-02-25T14:13:43.639Z"
   },
   {
    "duration": 11,
    "start_time": "2022-02-25T14:13:43.647Z"
   },
   {
    "duration": 19,
    "start_time": "2022-02-25T14:13:43.659Z"
   },
   {
    "duration": 5,
    "start_time": "2022-02-25T14:13:43.680Z"
   },
   {
    "duration": 13,
    "start_time": "2022-02-25T14:13:43.687Z"
   },
   {
    "duration": 7,
    "start_time": "2022-02-25T14:13:43.732Z"
   },
   {
    "duration": 14,
    "start_time": "2022-02-25T14:13:43.740Z"
   },
   {
    "duration": 7,
    "start_time": "2022-02-25T14:13:43.756Z"
   },
   {
    "duration": 16,
    "start_time": "2022-02-25T14:13:43.767Z"
   },
   {
    "duration": 5,
    "start_time": "2022-02-25T14:13:43.785Z"
   },
   {
    "duration": 42,
    "start_time": "2022-02-25T14:13:43.792Z"
   },
   {
    "duration": 13,
    "start_time": "2022-02-25T14:13:43.836Z"
   },
   {
    "duration": 12,
    "start_time": "2022-02-25T14:13:43.850Z"
   },
   {
    "duration": 18,
    "start_time": "2022-02-25T14:13:43.863Z"
   },
   {
    "duration": 12,
    "start_time": "2022-02-25T14:13:43.882Z"
   },
   {
    "duration": 43,
    "start_time": "2022-02-25T14:13:43.895Z"
   },
   {
    "duration": 5,
    "start_time": "2022-02-25T14:13:43.939Z"
   },
   {
    "duration": 4,
    "start_time": "2022-02-25T14:13:43.945Z"
   },
   {
    "duration": 15,
    "start_time": "2022-02-25T14:18:39.516Z"
   },
   {
    "duration": 54,
    "start_time": "2022-02-25T14:18:53.238Z"
   },
   {
    "duration": 10,
    "start_time": "2022-02-25T14:18:53.294Z"
   },
   {
    "duration": 10,
    "start_time": "2022-02-25T14:18:53.306Z"
   },
   {
    "duration": 4,
    "start_time": "2022-02-25T14:18:53.317Z"
   },
   {
    "duration": 3,
    "start_time": "2022-02-25T14:18:53.331Z"
   },
   {
    "duration": 14,
    "start_time": "2022-02-25T14:18:53.336Z"
   },
   {
    "duration": 16,
    "start_time": "2022-02-25T14:18:53.352Z"
   },
   {
    "duration": 15,
    "start_time": "2022-02-25T14:18:53.370Z"
   },
   {
    "duration": 45,
    "start_time": "2022-02-25T14:18:53.387Z"
   },
   {
    "duration": 20,
    "start_time": "2022-02-25T14:18:53.434Z"
   },
   {
    "duration": 18,
    "start_time": "2022-02-25T14:18:53.456Z"
   },
   {
    "duration": 3,
    "start_time": "2022-02-25T14:18:53.475Z"
   },
   {
    "duration": 920,
    "start_time": "2022-02-25T14:18:53.480Z"
   },
   {
    "duration": 9,
    "start_time": "2022-02-25T14:18:54.402Z"
   },
   {
    "duration": 38,
    "start_time": "2022-02-25T14:18:54.413Z"
   },
   {
    "duration": 449,
    "start_time": "2022-02-25T14:18:54.453Z"
   },
   {
    "duration": 8,
    "start_time": "2022-02-25T14:18:54.903Z"
   },
   {
    "duration": 19,
    "start_time": "2022-02-25T14:18:54.912Z"
   },
   {
    "duration": 8,
    "start_time": "2022-02-25T14:18:54.933Z"
   },
   {
    "duration": 8,
    "start_time": "2022-02-25T14:18:54.942Z"
   },
   {
    "duration": 5,
    "start_time": "2022-02-25T14:18:54.951Z"
   },
   {
    "duration": 6,
    "start_time": "2022-02-25T14:18:54.957Z"
   },
   {
    "duration": 5,
    "start_time": "2022-02-25T14:18:54.967Z"
   },
   {
    "duration": 7,
    "start_time": "2022-02-25T14:18:54.975Z"
   },
   {
    "duration": 48,
    "start_time": "2022-02-25T14:18:54.984Z"
   },
   {
    "duration": 9,
    "start_time": "2022-02-25T14:18:55.034Z"
   },
   {
    "duration": 10,
    "start_time": "2022-02-25T14:18:55.044Z"
   },
   {
    "duration": 10,
    "start_time": "2022-02-25T14:18:55.055Z"
   },
   {
    "duration": 6,
    "start_time": "2022-02-25T14:18:55.066Z"
   },
   {
    "duration": 149,
    "start_time": "2022-02-25T14:18:55.073Z"
   },
   {
    "duration": 128,
    "start_time": "2022-02-25T14:18:55.224Z"
   },
   {
    "duration": 6,
    "start_time": "2022-02-25T14:18:55.353Z"
   },
   {
    "duration": 6,
    "start_time": "2022-02-25T14:18:55.361Z"
   },
   {
    "duration": 7,
    "start_time": "2022-02-25T14:18:55.368Z"
   },
   {
    "duration": 10,
    "start_time": "2022-02-25T14:18:55.376Z"
   },
   {
    "duration": 4,
    "start_time": "2022-02-25T14:18:55.387Z"
   },
   {
    "duration": 5,
    "start_time": "2022-02-25T14:18:55.392Z"
   },
   {
    "duration": 35,
    "start_time": "2022-02-25T14:18:55.399Z"
   },
   {
    "duration": 3,
    "start_time": "2022-02-25T14:18:55.435Z"
   },
   {
    "duration": 12,
    "start_time": "2022-02-25T14:18:55.440Z"
   },
   {
    "duration": 10,
    "start_time": "2022-02-25T14:18:55.453Z"
   },
   {
    "duration": 6,
    "start_time": "2022-02-25T14:18:55.464Z"
   },
   {
    "duration": 9,
    "start_time": "2022-02-25T14:18:55.471Z"
   },
   {
    "duration": 18,
    "start_time": "2022-02-25T14:18:55.482Z"
   },
   {
    "duration": 4,
    "start_time": "2022-02-25T14:18:55.501Z"
   },
   {
    "duration": 15,
    "start_time": "2022-02-25T14:18:55.506Z"
   },
   {
    "duration": 6,
    "start_time": "2022-02-25T14:18:55.532Z"
   },
   {
    "duration": 17,
    "start_time": "2022-02-25T14:18:55.540Z"
   },
   {
    "duration": 9,
    "start_time": "2022-02-25T14:18:55.558Z"
   },
   {
    "duration": 14,
    "start_time": "2022-02-25T14:18:55.569Z"
   },
   {
    "duration": 10,
    "start_time": "2022-02-25T14:18:55.585Z"
   },
   {
    "duration": 14,
    "start_time": "2022-02-25T14:18:55.596Z"
   },
   {
    "duration": 36,
    "start_time": "2022-02-25T14:18:55.611Z"
   },
   {
    "duration": 6,
    "start_time": "2022-02-25T14:18:55.649Z"
   },
   {
    "duration": 11,
    "start_time": "2022-02-25T14:18:55.656Z"
   },
   {
    "duration": 7,
    "start_time": "2022-02-25T14:18:55.669Z"
   },
   {
    "duration": 16,
    "start_time": "2022-02-25T14:18:55.678Z"
   },
   {
    "duration": 37,
    "start_time": "2022-02-25T14:18:55.696Z"
   },
   {
    "duration": 18,
    "start_time": "2022-02-25T14:18:55.734Z"
   },
   {
    "duration": 6,
    "start_time": "2022-02-25T14:18:55.753Z"
   },
   {
    "duration": 14,
    "start_time": "2022-02-25T14:18:55.761Z"
   },
   {
    "duration": 13,
    "start_time": "2022-02-25T14:18:55.776Z"
   },
   {
    "duration": 11,
    "start_time": "2022-02-25T14:18:55.790Z"
   },
   {
    "duration": 40,
    "start_time": "2022-02-25T14:18:55.803Z"
   },
   {
    "duration": 12,
    "start_time": "2022-02-25T14:18:55.844Z"
   },
   {
    "duration": 15,
    "start_time": "2022-02-25T14:18:55.857Z"
   },
   {
    "duration": 3,
    "start_time": "2022-02-25T14:18:55.876Z"
   },
   {
    "duration": 7,
    "start_time": "2022-02-25T14:18:55.881Z"
   },
   {
    "duration": 1612,
    "start_time": "2022-02-25T16:28:06.638Z"
   },
   {
    "duration": 43,
    "start_time": "2022-02-25T16:28:08.254Z"
   },
   {
    "duration": 49,
    "start_time": "2022-02-25T16:28:08.300Z"
   },
   {
    "duration": 39,
    "start_time": "2022-02-25T16:28:08.352Z"
   },
   {
    "duration": 32,
    "start_time": "2022-02-25T16:28:08.394Z"
   },
   {
    "duration": 50,
    "start_time": "2022-02-25T16:28:08.430Z"
   },
   {
    "duration": 43,
    "start_time": "2022-02-25T16:28:08.483Z"
   },
   {
    "duration": 38,
    "start_time": "2022-02-25T16:28:08.532Z"
   },
   {
    "duration": 17,
    "start_time": "2022-02-25T16:28:08.573Z"
   },
   {
    "duration": 59,
    "start_time": "2022-02-25T16:28:08.593Z"
   },
   {
    "duration": 35,
    "start_time": "2022-02-25T16:28:08.654Z"
   },
   {
    "duration": 29,
    "start_time": "2022-02-25T16:28:08.692Z"
   },
   {
    "duration": 2236,
    "start_time": "2022-02-25T16:28:08.724Z"
   },
   {
    "duration": 12,
    "start_time": "2022-02-25T16:28:10.963Z"
   },
   {
    "duration": 71,
    "start_time": "2022-02-25T16:28:10.978Z"
   },
   {
    "duration": 1020,
    "start_time": "2022-02-25T16:28:11.052Z"
   },
   {
    "duration": 10,
    "start_time": "2022-02-25T16:28:12.074Z"
   },
   {
    "duration": 11,
    "start_time": "2022-02-25T16:28:12.087Z"
   },
   {
    "duration": 33,
    "start_time": "2022-02-25T16:28:12.101Z"
   },
   {
    "duration": 15,
    "start_time": "2022-02-25T16:28:12.136Z"
   },
   {
    "duration": 8,
    "start_time": "2022-02-25T16:28:12.154Z"
   },
   {
    "duration": 14,
    "start_time": "2022-02-25T16:28:12.164Z"
   },
   {
    "duration": 8,
    "start_time": "2022-02-25T16:28:12.225Z"
   },
   {
    "duration": 11,
    "start_time": "2022-02-25T16:28:12.237Z"
   },
   {
    "duration": 20,
    "start_time": "2022-02-25T16:28:12.250Z"
   },
   {
    "duration": 18,
    "start_time": "2022-02-25T16:28:12.272Z"
   },
   {
    "duration": 39,
    "start_time": "2022-02-25T16:28:12.293Z"
   },
   {
    "duration": 13,
    "start_time": "2022-02-25T16:28:12.335Z"
   },
   {
    "duration": 9,
    "start_time": "2022-02-25T16:28:12.350Z"
   },
   {
    "duration": 937,
    "start_time": "2022-02-25T16:28:12.361Z"
   },
   {
    "duration": 225,
    "start_time": "2022-02-25T16:28:13.301Z"
   },
   {
    "duration": 10,
    "start_time": "2022-02-25T16:28:13.529Z"
   },
   {
    "duration": 12,
    "start_time": "2022-02-25T16:28:13.542Z"
   },
   {
    "duration": 11,
    "start_time": "2022-02-25T16:28:13.557Z"
   },
   {
    "duration": 58,
    "start_time": "2022-02-25T16:28:13.572Z"
   },
   {
    "duration": 6,
    "start_time": "2022-02-25T16:28:13.632Z"
   },
   {
    "duration": 10,
    "start_time": "2022-02-25T16:28:13.640Z"
   },
   {
    "duration": 5,
    "start_time": "2022-02-25T16:28:13.652Z"
   },
   {
    "duration": 5,
    "start_time": "2022-02-25T16:28:13.660Z"
   },
   {
    "duration": 9,
    "start_time": "2022-02-25T16:28:13.667Z"
   },
   {
    "duration": 51,
    "start_time": "2022-02-25T16:28:13.679Z"
   },
   {
    "duration": 17,
    "start_time": "2022-02-25T16:28:13.733Z"
   },
   {
    "duration": 9,
    "start_time": "2022-02-25T16:28:13.752Z"
   },
   {
    "duration": 17,
    "start_time": "2022-02-25T16:28:13.763Z"
   },
   {
    "duration": 5,
    "start_time": "2022-02-25T16:28:13.782Z"
   },
   {
    "duration": 43,
    "start_time": "2022-02-25T16:28:13.789Z"
   },
   {
    "duration": 9,
    "start_time": "2022-02-25T16:28:13.835Z"
   },
   {
    "duration": 20,
    "start_time": "2022-02-25T16:28:13.847Z"
   },
   {
    "duration": 15,
    "start_time": "2022-02-25T16:28:13.869Z"
   },
   {
    "duration": 41,
    "start_time": "2022-02-25T16:28:13.887Z"
   },
   {
    "duration": 10,
    "start_time": "2022-02-25T16:28:13.931Z"
   },
   {
    "duration": 18,
    "start_time": "2022-02-25T16:28:13.943Z"
   },
   {
    "duration": 32,
    "start_time": "2022-02-25T16:28:13.963Z"
   },
   {
    "duration": 10,
    "start_time": "2022-02-25T16:28:14.027Z"
   },
   {
    "duration": 20,
    "start_time": "2022-02-25T16:28:14.039Z"
   },
   {
    "duration": 13,
    "start_time": "2022-02-25T16:28:14.061Z"
   },
   {
    "duration": 52,
    "start_time": "2022-02-25T16:28:14.076Z"
   },
   {
    "duration": 13,
    "start_time": "2022-02-25T16:28:14.131Z"
   },
   {
    "duration": 29,
    "start_time": "2022-02-25T16:28:14.147Z"
   },
   {
    "duration": 10,
    "start_time": "2022-02-25T16:28:14.178Z"
   },
   {
    "duration": 19,
    "start_time": "2022-02-25T16:28:14.227Z"
   },
   {
    "duration": 23,
    "start_time": "2022-02-25T16:28:14.248Z"
   },
   {
    "duration": 52,
    "start_time": "2022-02-25T16:28:14.274Z"
   },
   {
    "duration": 30,
    "start_time": "2022-02-25T16:28:14.329Z"
   },
   {
    "duration": 22,
    "start_time": "2022-02-25T16:28:14.362Z"
   },
   {
    "duration": 78,
    "start_time": "2022-02-25T16:28:14.386Z"
   },
   {
    "duration": 5,
    "start_time": "2022-02-25T16:28:14.466Z"
   },
   {
    "duration": 10,
    "start_time": "2022-02-25T16:28:14.478Z"
   },
   {
    "duration": 11,
    "start_time": "2022-02-25T16:46:00.648Z"
   },
   {
    "duration": 71,
    "start_time": "2022-02-25T16:46:11.948Z"
   },
   {
    "duration": 18,
    "start_time": "2022-02-25T16:46:12.022Z"
   },
   {
    "duration": 13,
    "start_time": "2022-02-25T16:46:12.043Z"
   },
   {
    "duration": 5,
    "start_time": "2022-02-25T16:46:12.059Z"
   },
   {
    "duration": 3,
    "start_time": "2022-02-25T16:46:12.067Z"
   },
   {
    "duration": 67,
    "start_time": "2022-02-25T16:46:12.073Z"
   },
   {
    "duration": 29,
    "start_time": "2022-02-25T16:46:12.143Z"
   },
   {
    "duration": 53,
    "start_time": "2022-02-25T16:46:12.175Z"
   },
   {
    "duration": 17,
    "start_time": "2022-02-25T16:46:12.231Z"
   },
   {
    "duration": 33,
    "start_time": "2022-02-25T16:46:12.251Z"
   },
   {
    "duration": 68,
    "start_time": "2022-02-25T16:46:12.287Z"
   },
   {
    "duration": 5,
    "start_time": "2022-02-25T16:46:12.358Z"
   },
   {
    "duration": 1833,
    "start_time": "2022-02-25T16:46:12.367Z"
   },
   {
    "duration": 25,
    "start_time": "2022-02-25T16:46:14.202Z"
   },
   {
    "duration": 47,
    "start_time": "2022-02-25T16:46:14.230Z"
   },
   {
    "duration": 990,
    "start_time": "2022-02-25T16:46:14.279Z"
   },
   {
    "duration": 10,
    "start_time": "2022-02-25T16:46:15.272Z"
   },
   {
    "duration": 10,
    "start_time": "2022-02-25T16:46:15.284Z"
   },
   {
    "duration": 38,
    "start_time": "2022-02-25T16:46:15.296Z"
   },
   {
    "duration": 15,
    "start_time": "2022-02-25T16:46:15.337Z"
   },
   {
    "duration": 10,
    "start_time": "2022-02-25T16:46:15.355Z"
   },
   {
    "duration": 58,
    "start_time": "2022-02-25T16:46:15.368Z"
   },
   {
    "duration": 8,
    "start_time": "2022-02-25T16:46:15.432Z"
   },
   {
    "duration": 13,
    "start_time": "2022-02-25T16:46:15.444Z"
   },
   {
    "duration": 18,
    "start_time": "2022-02-25T16:46:15.459Z"
   },
   {
    "duration": 13,
    "start_time": "2022-02-25T16:46:15.480Z"
   },
   {
    "duration": 36,
    "start_time": "2022-02-25T16:46:15.496Z"
   },
   {
    "duration": 14,
    "start_time": "2022-02-25T16:46:15.534Z"
   },
   {
    "duration": 8,
    "start_time": "2022-02-25T16:46:15.551Z"
   },
   {
    "duration": 276,
    "start_time": "2022-02-25T16:46:15.561Z"
   },
   {
    "duration": 231,
    "start_time": "2022-02-25T16:46:15.839Z"
   },
   {
    "duration": 10,
    "start_time": "2022-02-25T16:46:16.072Z"
   },
   {
    "duration": 14,
    "start_time": "2022-02-25T16:46:16.084Z"
   },
   {
    "duration": 30,
    "start_time": "2022-02-25T16:46:16.100Z"
   },
   {
    "duration": 19,
    "start_time": "2022-02-25T16:46:16.132Z"
   },
   {
    "duration": 6,
    "start_time": "2022-02-25T16:46:16.153Z"
   },
   {
    "duration": 8,
    "start_time": "2022-02-25T16:46:16.161Z"
   },
   {
    "duration": 6,
    "start_time": "2022-02-25T16:46:16.171Z"
   },
   {
    "duration": 47,
    "start_time": "2022-02-25T16:46:16.179Z"
   },
   {
    "duration": 7,
    "start_time": "2022-02-25T16:46:16.229Z"
   },
   {
    "duration": 12,
    "start_time": "2022-02-25T16:46:16.238Z"
   },
   {
    "duration": 6,
    "start_time": "2022-02-25T16:46:16.252Z"
   },
   {
    "duration": 12,
    "start_time": "2022-02-25T16:46:16.261Z"
   },
   {
    "duration": 16,
    "start_time": "2022-02-25T16:46:16.276Z"
   },
   {
    "duration": 5,
    "start_time": "2022-02-25T16:46:16.327Z"
   },
   {
    "duration": 17,
    "start_time": "2022-02-25T16:46:16.334Z"
   },
   {
    "duration": 13,
    "start_time": "2022-02-25T16:46:16.354Z"
   },
   {
    "duration": 18,
    "start_time": "2022-02-25T16:46:16.370Z"
   },
   {
    "duration": 44,
    "start_time": "2022-02-25T16:46:16.391Z"
   },
   {
    "duration": 16,
    "start_time": "2022-02-25T16:46:16.437Z"
   },
   {
    "duration": 7,
    "start_time": "2022-02-25T16:46:16.456Z"
   },
   {
    "duration": 18,
    "start_time": "2022-02-25T16:46:16.466Z"
   },
   {
    "duration": 69,
    "start_time": "2022-02-25T16:46:16.487Z"
   },
   {
    "duration": 10,
    "start_time": "2022-02-25T16:46:16.559Z"
   },
   {
    "duration": 55,
    "start_time": "2022-02-25T16:46:16.572Z"
   },
   {
    "duration": 13,
    "start_time": "2022-02-25T16:46:16.630Z"
   },
   {
    "duration": 23,
    "start_time": "2022-02-25T16:46:16.646Z"
   },
   {
    "duration": 55,
    "start_time": "2022-02-25T16:46:16.673Z"
   },
   {
    "duration": 26,
    "start_time": "2022-02-25T16:46:16.730Z"
   },
   {
    "duration": 10,
    "start_time": "2022-02-25T16:46:16.759Z"
   },
   {
    "duration": 20,
    "start_time": "2022-02-25T16:46:16.771Z"
   },
   {
    "duration": 22,
    "start_time": "2022-02-25T16:46:16.827Z"
   },
   {
    "duration": 20,
    "start_time": "2022-02-25T16:46:16.851Z"
   },
   {
    "duration": 59,
    "start_time": "2022-02-25T16:46:16.873Z"
   },
   {
    "duration": 20,
    "start_time": "2022-02-25T16:46:16.935Z"
   },
   {
    "duration": 28,
    "start_time": "2022-02-25T16:46:16.958Z"
   },
   {
    "duration": 37,
    "start_time": "2022-02-25T16:46:16.988Z"
   },
   {
    "duration": 5,
    "start_time": "2022-02-25T16:46:17.032Z"
   },
   {
    "duration": 4,
    "start_time": "2022-02-25T16:50:07.278Z"
   },
   {
    "duration": 15,
    "start_time": "2022-02-25T18:16:45.792Z"
   },
   {
    "duration": 101,
    "start_time": "2022-02-25T18:17:47.827Z"
   },
   {
    "duration": 102,
    "start_time": "2022-02-25T18:17:53.455Z"
   },
   {
    "duration": 456,
    "start_time": "2022-02-25T18:25:34.660Z"
   },
   {
    "duration": 13,
    "start_time": "2022-02-25T18:25:46.715Z"
   },
   {
    "duration": 18,
    "start_time": "2022-02-25T18:25:49.782Z"
   },
   {
    "duration": 70,
    "start_time": "2022-02-25T18:29:43.893Z"
   },
   {
    "duration": 18,
    "start_time": "2022-02-25T18:29:43.966Z"
   },
   {
    "duration": 47,
    "start_time": "2022-02-25T18:29:43.987Z"
   },
   {
    "duration": 5,
    "start_time": "2022-02-25T18:29:44.038Z"
   },
   {
    "duration": 11,
    "start_time": "2022-02-25T18:29:44.046Z"
   },
   {
    "duration": 30,
    "start_time": "2022-02-25T18:29:44.060Z"
   },
   {
    "duration": 26,
    "start_time": "2022-02-25T18:29:44.126Z"
   },
   {
    "duration": 30,
    "start_time": "2022-02-25T18:29:44.155Z"
   },
   {
    "duration": 46,
    "start_time": "2022-02-25T18:29:44.189Z"
   },
   {
    "duration": 33,
    "start_time": "2022-02-25T18:29:44.239Z"
   },
   {
    "duration": 66,
    "start_time": "2022-02-25T18:29:44.275Z"
   },
   {
    "duration": 6,
    "start_time": "2022-02-25T18:29:44.345Z"
   },
   {
    "duration": 1804,
    "start_time": "2022-02-25T18:29:44.354Z"
   },
   {
    "duration": 15,
    "start_time": "2022-02-25T18:29:46.161Z"
   },
   {
    "duration": 80,
    "start_time": "2022-02-25T18:29:46.179Z"
   },
   {
    "duration": 1075,
    "start_time": "2022-02-25T18:29:46.262Z"
   },
   {
    "duration": 11,
    "start_time": "2022-02-25T18:29:47.339Z"
   },
   {
    "duration": 9,
    "start_time": "2022-02-25T18:29:47.353Z"
   },
   {
    "duration": 13,
    "start_time": "2022-02-25T18:29:47.365Z"
   },
   {
    "duration": 12,
    "start_time": "2022-02-25T18:29:47.381Z"
   },
   {
    "duration": 9,
    "start_time": "2022-02-25T18:29:47.426Z"
   },
   {
    "duration": 10,
    "start_time": "2022-02-25T18:29:47.438Z"
   },
   {
    "duration": 13,
    "start_time": "2022-02-25T18:29:47.451Z"
   },
   {
    "duration": 10,
    "start_time": "2022-02-25T18:29:47.466Z"
   },
   {
    "duration": 48,
    "start_time": "2022-02-25T18:29:47.530Z"
   },
   {
    "duration": 100,
    "start_time": "2022-02-25T18:29:47.581Z"
   },
   {
    "duration": 24,
    "start_time": "2022-02-25T18:29:47.691Z"
   },
   {
    "duration": 37,
    "start_time": "2022-02-25T18:29:47.720Z"
   },
   {
    "duration": 23,
    "start_time": "2022-02-25T18:29:47.760Z"
   },
   {
    "duration": 316,
    "start_time": "2022-02-25T18:29:47.785Z"
   },
   {
    "duration": 241,
    "start_time": "2022-02-25T18:29:48.104Z"
   },
   {
    "duration": 11,
    "start_time": "2022-02-25T18:29:48.347Z"
   },
   {
    "duration": 11,
    "start_time": "2022-02-25T18:29:48.361Z"
   },
   {
    "duration": 13,
    "start_time": "2022-02-25T18:29:48.375Z"
   },
   {
    "duration": 21,
    "start_time": "2022-02-25T18:29:48.390Z"
   },
   {
    "duration": 13,
    "start_time": "2022-02-25T18:29:48.414Z"
   },
   {
    "duration": 8,
    "start_time": "2022-02-25T18:29:48.430Z"
   },
   {
    "duration": 8,
    "start_time": "2022-02-25T18:29:48.441Z"
   },
   {
    "duration": 11,
    "start_time": "2022-02-25T18:29:48.452Z"
   },
   {
    "duration": 14,
    "start_time": "2022-02-25T18:29:48.465Z"
   },
   {
    "duration": 10,
    "start_time": "2022-02-25T18:29:48.482Z"
   },
   {
    "duration": 6,
    "start_time": "2022-02-25T18:29:48.495Z"
   },
   {
    "duration": 9,
    "start_time": "2022-02-25T18:29:48.503Z"
   },
   {
    "duration": 19,
    "start_time": "2022-02-25T18:29:48.514Z"
   },
   {
    "duration": 6,
    "start_time": "2022-02-25T18:29:48.536Z"
   },
   {
    "duration": 21,
    "start_time": "2022-02-25T18:29:48.544Z"
   },
   {
    "duration": 15,
    "start_time": "2022-02-25T18:29:48.567Z"
   },
   {
    "duration": 18,
    "start_time": "2022-02-25T18:29:48.584Z"
   },
   {
    "duration": 16,
    "start_time": "2022-02-25T18:29:48.604Z"
   },
   {
    "duration": 17,
    "start_time": "2022-02-25T18:29:48.622Z"
   },
   {
    "duration": 10,
    "start_time": "2022-02-25T18:29:48.641Z"
   },
   {
    "duration": 22,
    "start_time": "2022-02-25T18:29:48.653Z"
   },
   {
    "duration": 34,
    "start_time": "2022-02-25T18:29:48.678Z"
   },
   {
    "duration": 4,
    "start_time": "2022-02-25T18:29:48.714Z"
   },
   {
    "duration": 40,
    "start_time": "2022-02-25T18:29:48.722Z"
   },
   {
    "duration": 21,
    "start_time": "2022-02-25T18:29:48.765Z"
   },
   {
    "duration": 12,
    "start_time": "2022-02-25T18:29:48.789Z"
   },
   {
    "duration": 18,
    "start_time": "2022-02-25T18:29:48.804Z"
   },
   {
    "duration": 39,
    "start_time": "2022-02-25T18:29:48.825Z"
   },
   {
    "duration": 10,
    "start_time": "2022-02-25T18:29:48.866Z"
   },
   {
    "duration": 25,
    "start_time": "2022-02-25T18:29:48.878Z"
   },
   {
    "duration": 31,
    "start_time": "2022-02-25T18:29:48.905Z"
   },
   {
    "duration": 19,
    "start_time": "2022-02-25T18:29:48.938Z"
   },
   {
    "duration": 32,
    "start_time": "2022-02-25T18:29:48.959Z"
   },
   {
    "duration": 19,
    "start_time": "2022-02-25T18:29:48.994Z"
   },
   {
    "duration": 37,
    "start_time": "2022-02-25T18:29:49.015Z"
   },
   {
    "duration": 5,
    "start_time": "2022-02-25T18:29:49.054Z"
   },
   {
    "duration": 7,
    "start_time": "2022-02-25T18:29:49.062Z"
   },
   {
    "duration": 21,
    "start_time": "2022-02-25T18:32:32.031Z"
   },
   {
    "duration": 22,
    "start_time": "2022-02-25T18:33:05.603Z"
   },
   {
    "duration": 15,
    "start_time": "2022-02-25T18:33:52.431Z"
   },
   {
    "duration": 14,
    "start_time": "2022-02-25T18:34:09.039Z"
   },
   {
    "duration": 105,
    "start_time": "2022-02-25T18:34:24.698Z"
   },
   {
    "duration": 15,
    "start_time": "2022-02-25T18:34:32.666Z"
   },
   {
    "duration": 31,
    "start_time": "2022-02-25T18:35:29.165Z"
   },
   {
    "duration": 186,
    "start_time": "2022-02-25T18:39:14.956Z"
   },
   {
    "duration": 108,
    "start_time": "2022-02-25T18:39:31.546Z"
   },
   {
    "duration": 118,
    "start_time": "2022-02-25T18:39:46.419Z"
   },
   {
    "duration": 24,
    "start_time": "2022-02-25T18:39:53.186Z"
   },
   {
    "duration": 37,
    "start_time": "2022-02-25T18:42:20.282Z"
   },
   {
    "duration": 15,
    "start_time": "2022-02-25T18:42:50.034Z"
   },
   {
    "duration": 71,
    "start_time": "2022-02-25T18:43:51.417Z"
   },
   {
    "duration": 17,
    "start_time": "2022-02-25T18:43:51.490Z"
   },
   {
    "duration": 13,
    "start_time": "2022-02-25T18:43:51.527Z"
   },
   {
    "duration": 15,
    "start_time": "2022-02-25T18:43:51.543Z"
   },
   {
    "duration": 20,
    "start_time": "2022-02-25T18:43:51.560Z"
   },
   {
    "duration": 53,
    "start_time": "2022-02-25T18:43:51.583Z"
   },
   {
    "duration": 25,
    "start_time": "2022-02-25T18:43:51.638Z"
   },
   {
    "duration": 63,
    "start_time": "2022-02-25T18:43:51.666Z"
   },
   {
    "duration": 16,
    "start_time": "2022-02-25T18:43:51.733Z"
   },
   {
    "duration": 32,
    "start_time": "2022-02-25T18:43:51.752Z"
   },
   {
    "duration": 65,
    "start_time": "2022-02-25T18:43:51.786Z"
   },
   {
    "duration": 5,
    "start_time": "2022-02-25T18:43:51.853Z"
   },
   {
    "duration": 1708,
    "start_time": "2022-02-25T18:43:51.860Z"
   },
   {
    "duration": 13,
    "start_time": "2022-02-25T18:43:53.570Z"
   },
   {
    "duration": 71,
    "start_time": "2022-02-25T18:43:53.585Z"
   },
   {
    "duration": 1030,
    "start_time": "2022-02-25T18:43:53.659Z"
   },
   {
    "duration": 10,
    "start_time": "2022-02-25T18:43:54.692Z"
   },
   {
    "duration": 30,
    "start_time": "2022-02-25T18:43:54.704Z"
   },
   {
    "duration": 25,
    "start_time": "2022-02-25T18:43:54.737Z"
   },
   {
    "duration": 27,
    "start_time": "2022-02-25T18:43:54.764Z"
   },
   {
    "duration": 18,
    "start_time": "2022-02-25T18:43:54.794Z"
   },
   {
    "duration": 21,
    "start_time": "2022-02-25T18:43:54.815Z"
   },
   {
    "duration": 31,
    "start_time": "2022-02-25T18:43:54.843Z"
   },
   {
    "duration": 19,
    "start_time": "2022-02-25T18:43:54.878Z"
   },
   {
    "duration": 20,
    "start_time": "2022-02-25T18:43:54.899Z"
   },
   {
    "duration": 19,
    "start_time": "2022-02-25T18:43:54.922Z"
   },
   {
    "duration": 19,
    "start_time": "2022-02-25T18:43:54.944Z"
   },
   {
    "duration": 22,
    "start_time": "2022-02-25T18:43:54.966Z"
   },
   {
    "duration": 25,
    "start_time": "2022-02-25T18:43:54.990Z"
   },
   {
    "duration": 248,
    "start_time": "2022-02-25T18:43:55.017Z"
   },
   {
    "duration": 236,
    "start_time": "2022-02-25T18:43:55.268Z"
   },
   {
    "duration": 22,
    "start_time": "2022-02-25T18:43:55.506Z"
   },
   {
    "duration": 31,
    "start_time": "2022-02-25T18:43:55.530Z"
   },
   {
    "duration": 17,
    "start_time": "2022-02-25T18:43:55.564Z"
   },
   {
    "duration": 34,
    "start_time": "2022-02-25T18:43:55.583Z"
   },
   {
    "duration": 22,
    "start_time": "2022-02-25T18:43:55.620Z"
   },
   {
    "duration": 44,
    "start_time": "2022-02-25T18:43:55.645Z"
   },
   {
    "duration": 41,
    "start_time": "2022-02-25T18:43:55.692Z"
   },
   {
    "duration": 33,
    "start_time": "2022-02-25T18:43:55.736Z"
   },
   {
    "duration": 29,
    "start_time": "2022-02-25T18:43:55.771Z"
   },
   {
    "duration": 47,
    "start_time": "2022-02-25T18:43:55.803Z"
   },
   {
    "duration": 56,
    "start_time": "2022-02-25T18:43:55.852Z"
   },
   {
    "duration": 47,
    "start_time": "2022-02-25T18:43:55.910Z"
   },
   {
    "duration": 50,
    "start_time": "2022-02-25T18:43:55.960Z"
   },
   {
    "duration": 26,
    "start_time": "2022-02-25T18:43:56.013Z"
   },
   {
    "duration": 53,
    "start_time": "2022-02-25T18:43:56.041Z"
   },
   {
    "duration": 46,
    "start_time": "2022-02-25T18:43:56.097Z"
   },
   {
    "duration": 48,
    "start_time": "2022-02-25T18:43:56.146Z"
   },
   {
    "duration": 35,
    "start_time": "2022-02-25T18:43:56.196Z"
   },
   {
    "duration": 58,
    "start_time": "2022-02-25T18:43:56.233Z"
   },
   {
    "duration": 53,
    "start_time": "2022-02-25T18:43:56.293Z"
   },
   {
    "duration": 29,
    "start_time": "2022-02-25T18:43:56.349Z"
   },
   {
    "duration": 60,
    "start_time": "2022-02-25T18:43:56.381Z"
   },
   {
    "duration": 5,
    "start_time": "2022-02-25T18:43:56.443Z"
   },
   {
    "duration": 38,
    "start_time": "2022-02-25T18:43:56.451Z"
   },
   {
    "duration": 58,
    "start_time": "2022-02-25T18:43:56.491Z"
   },
   {
    "duration": 29,
    "start_time": "2022-02-25T18:43:56.552Z"
   },
   {
    "duration": 53,
    "start_time": "2022-02-25T18:43:56.583Z"
   },
   {
    "duration": 49,
    "start_time": "2022-02-25T18:43:56.639Z"
   },
   {
    "duration": 24,
    "start_time": "2022-02-25T18:43:56.691Z"
   },
   {
    "duration": 59,
    "start_time": "2022-02-25T18:43:56.718Z"
   },
   {
    "duration": 45,
    "start_time": "2022-02-25T18:43:56.779Z"
   },
   {
    "duration": 32,
    "start_time": "2022-02-25T18:43:56.827Z"
   },
   {
    "duration": 78,
    "start_time": "2022-02-25T18:43:56.861Z"
   },
   {
    "duration": 28,
    "start_time": "2022-02-25T18:43:56.942Z"
   },
   {
    "duration": 65,
    "start_time": "2022-02-25T18:43:56.972Z"
   },
   {
    "duration": 16,
    "start_time": "2022-02-25T18:43:57.040Z"
   },
   {
    "duration": 24,
    "start_time": "2022-02-25T18:43:57.063Z"
   },
   {
    "duration": 39,
    "start_time": "2022-02-25T18:45:53.501Z"
   },
   {
    "duration": 75,
    "start_time": "2022-02-25T18:46:06.625Z"
   },
   {
    "duration": 27,
    "start_time": "2022-02-25T18:46:06.703Z"
   },
   {
    "duration": 15,
    "start_time": "2022-02-25T18:46:06.733Z"
   },
   {
    "duration": 8,
    "start_time": "2022-02-25T18:46:06.750Z"
   },
   {
    "duration": 5,
    "start_time": "2022-02-25T18:46:06.761Z"
   },
   {
    "duration": 68,
    "start_time": "2022-02-25T18:46:06.769Z"
   },
   {
    "duration": 26,
    "start_time": "2022-02-25T18:46:06.840Z"
   },
   {
    "duration": 61,
    "start_time": "2022-02-25T18:46:06.870Z"
   },
   {
    "duration": 15,
    "start_time": "2022-02-25T18:46:06.934Z"
   },
   {
    "duration": 34,
    "start_time": "2022-02-25T18:46:06.952Z"
   },
   {
    "duration": 65,
    "start_time": "2022-02-25T18:46:06.989Z"
   },
   {
    "duration": 6,
    "start_time": "2022-02-25T18:46:07.057Z"
   },
   {
    "duration": 1705,
    "start_time": "2022-02-25T18:46:07.065Z"
   },
   {
    "duration": 12,
    "start_time": "2022-02-25T18:46:08.773Z"
   },
   {
    "duration": 70,
    "start_time": "2022-02-25T18:46:08.787Z"
   },
   {
    "duration": 1062,
    "start_time": "2022-02-25T18:46:08.860Z"
   },
   {
    "duration": 10,
    "start_time": "2022-02-25T18:46:09.927Z"
   },
   {
    "duration": 24,
    "start_time": "2022-02-25T18:46:09.939Z"
   },
   {
    "duration": 21,
    "start_time": "2022-02-25T18:46:09.965Z"
   },
   {
    "duration": 23,
    "start_time": "2022-02-25T18:46:09.988Z"
   },
   {
    "duration": 18,
    "start_time": "2022-02-25T18:46:10.014Z"
   },
   {
    "duration": 17,
    "start_time": "2022-02-25T18:46:10.035Z"
   },
   {
    "duration": 21,
    "start_time": "2022-02-25T18:46:10.058Z"
   },
   {
    "duration": 13,
    "start_time": "2022-02-25T18:46:10.082Z"
   },
   {
    "duration": 42,
    "start_time": "2022-02-25T18:46:10.097Z"
   },
   {
    "duration": 16,
    "start_time": "2022-02-25T18:46:10.142Z"
   },
   {
    "duration": 28,
    "start_time": "2022-02-25T18:46:10.160Z"
   },
   {
    "duration": 16,
    "start_time": "2022-02-25T18:46:10.191Z"
   },
   {
    "duration": 18,
    "start_time": "2022-02-25T18:46:10.210Z"
   },
   {
    "duration": 253,
    "start_time": "2022-02-25T18:46:10.230Z"
   },
   {
    "duration": 235,
    "start_time": "2022-02-25T18:46:10.485Z"
   },
   {
    "duration": 12,
    "start_time": "2022-02-25T18:46:10.726Z"
   },
   {
    "duration": 17,
    "start_time": "2022-02-25T18:46:10.740Z"
   },
   {
    "duration": 11,
    "start_time": "2022-02-25T18:46:10.759Z"
   },
   {
    "duration": 21,
    "start_time": "2022-02-25T18:46:10.772Z"
   },
   {
    "duration": 34,
    "start_time": "2022-02-25T18:46:10.795Z"
   },
   {
    "duration": 15,
    "start_time": "2022-02-25T18:46:10.832Z"
   },
   {
    "duration": 10,
    "start_time": "2022-02-25T18:46:10.850Z"
   },
   {
    "duration": 7,
    "start_time": "2022-02-25T18:46:10.863Z"
   },
   {
    "duration": 15,
    "start_time": "2022-02-25T18:46:10.872Z"
   },
   {
    "duration": 44,
    "start_time": "2022-02-25T18:46:10.889Z"
   },
   {
    "duration": 9,
    "start_time": "2022-02-25T18:46:10.935Z"
   },
   {
    "duration": 13,
    "start_time": "2022-02-25T18:46:10.947Z"
   },
   {
    "duration": 51,
    "start_time": "2022-02-25T18:46:10.963Z"
   },
   {
    "duration": 21,
    "start_time": "2022-02-25T18:46:11.017Z"
   },
   {
    "duration": 29,
    "start_time": "2022-02-25T18:46:11.041Z"
   },
   {
    "duration": 26,
    "start_time": "2022-02-25T18:46:11.072Z"
   },
   {
    "duration": 25,
    "start_time": "2022-02-25T18:46:11.100Z"
   },
   {
    "duration": 17,
    "start_time": "2022-02-25T18:46:11.128Z"
   },
   {
    "duration": 20,
    "start_time": "2022-02-25T18:46:11.148Z"
   },
   {
    "duration": 18,
    "start_time": "2022-02-25T18:46:11.171Z"
   },
   {
    "duration": 34,
    "start_time": "2022-02-25T18:46:11.192Z"
   },
   {
    "duration": 32,
    "start_time": "2022-02-25T18:46:11.229Z"
   },
   {
    "duration": 4,
    "start_time": "2022-02-25T18:46:11.263Z"
   },
   {
    "duration": 31,
    "start_time": "2022-02-25T18:46:11.270Z"
   },
   {
    "duration": 20,
    "start_time": "2022-02-25T18:46:11.326Z"
   },
   {
    "duration": 13,
    "start_time": "2022-02-25T18:46:11.349Z"
   },
   {
    "duration": 79,
    "start_time": "2022-02-25T18:46:11.365Z"
   },
   {
    "duration": 39,
    "start_time": "2022-02-25T18:47:09.562Z"
   },
   {
    "duration": 18,
    "start_time": "2022-02-25T18:47:59.974Z"
   },
   {
    "duration": 691,
    "start_time": "2022-02-25T18:48:09.585Z"
   },
   {
    "duration": 18,
    "start_time": "2022-02-25T18:48:10.278Z"
   },
   {
    "duration": 32,
    "start_time": "2022-02-25T18:48:10.299Z"
   },
   {
    "duration": 4,
    "start_time": "2022-02-25T18:48:10.334Z"
   },
   {
    "duration": 4,
    "start_time": "2022-02-25T18:48:10.341Z"
   },
   {
    "duration": 32,
    "start_time": "2022-02-25T18:48:10.347Z"
   },
   {
    "duration": 64,
    "start_time": "2022-02-25T18:48:10.382Z"
   },
   {
    "duration": 27,
    "start_time": "2022-02-25T18:48:10.448Z"
   },
   {
    "duration": 16,
    "start_time": "2022-02-25T18:48:10.481Z"
   },
   {
    "duration": 34,
    "start_time": "2022-02-25T18:48:10.528Z"
   },
   {
    "duration": 32,
    "start_time": "2022-02-25T18:48:10.564Z"
   },
   {
    "duration": 7,
    "start_time": "2022-02-25T18:48:10.627Z"
   },
   {
    "duration": 1708,
    "start_time": "2022-02-25T18:48:10.637Z"
   },
   {
    "duration": 12,
    "start_time": "2022-02-25T18:48:12.347Z"
   },
   {
    "duration": 67,
    "start_time": "2022-02-25T18:48:12.361Z"
   },
   {
    "duration": 1539,
    "start_time": "2022-02-25T18:48:12.430Z"
   },
   {
    "duration": 11,
    "start_time": "2022-02-25T18:48:13.972Z"
   },
   {
    "duration": 11,
    "start_time": "2022-02-25T18:48:13.985Z"
   },
   {
    "duration": 39,
    "start_time": "2022-02-25T18:48:13.999Z"
   },
   {
    "duration": 12,
    "start_time": "2022-02-25T18:48:14.040Z"
   },
   {
    "duration": 8,
    "start_time": "2022-02-25T18:48:14.054Z"
   },
   {
    "duration": 12,
    "start_time": "2022-02-25T18:48:14.065Z"
   },
   {
    "duration": 9,
    "start_time": "2022-02-25T18:48:14.126Z"
   },
   {
    "duration": 12,
    "start_time": "2022-02-25T18:48:14.137Z"
   },
   {
    "duration": 16,
    "start_time": "2022-02-25T18:48:14.152Z"
   },
   {
    "duration": 14,
    "start_time": "2022-02-25T18:48:14.171Z"
   },
   {
    "duration": 8,
    "start_time": "2022-02-25T18:48:14.230Z"
   },
   {
    "duration": 15,
    "start_time": "2022-02-25T18:48:14.242Z"
   },
   {
    "duration": 10,
    "start_time": "2022-02-25T18:48:14.260Z"
   },
   {
    "duration": 298,
    "start_time": "2022-02-25T18:48:14.273Z"
   },
   {
    "duration": 245,
    "start_time": "2022-02-25T18:48:14.574Z"
   },
   {
    "duration": 11,
    "start_time": "2022-02-25T18:48:14.825Z"
   },
   {
    "duration": 16,
    "start_time": "2022-02-25T18:48:14.839Z"
   },
   {
    "duration": 13,
    "start_time": "2022-02-25T18:48:14.857Z"
   },
   {
    "duration": 16,
    "start_time": "2022-02-25T18:48:14.873Z"
   },
   {
    "duration": 36,
    "start_time": "2022-02-25T18:48:14.892Z"
   },
   {
    "duration": 9,
    "start_time": "2022-02-25T18:48:14.932Z"
   },
   {
    "duration": 6,
    "start_time": "2022-02-25T18:48:14.944Z"
   },
   {
    "duration": 7,
    "start_time": "2022-02-25T18:48:14.953Z"
   },
   {
    "duration": 171,
    "start_time": "2022-02-25T18:48:14.962Z"
   },
   {
    "duration": 12,
    "start_time": "2022-02-25T18:48:15.135Z"
   },
   {
    "duration": 8,
    "start_time": "2022-02-25T18:48:15.150Z"
   },
   {
    "duration": 12,
    "start_time": "2022-02-25T18:48:15.161Z"
   },
   {
    "duration": 50,
    "start_time": "2022-02-25T18:48:15.176Z"
   },
   {
    "duration": 6,
    "start_time": "2022-02-25T18:48:15.229Z"
   },
   {
    "duration": 17,
    "start_time": "2022-02-25T18:48:15.237Z"
   },
   {
    "duration": 11,
    "start_time": "2022-02-25T18:48:15.256Z"
   },
   {
    "duration": 21,
    "start_time": "2022-02-25T18:48:15.270Z"
   },
   {
    "duration": 17,
    "start_time": "2022-02-25T18:48:15.327Z"
   },
   {
    "duration": 17,
    "start_time": "2022-02-25T18:48:15.347Z"
   },
   {
    "duration": 10,
    "start_time": "2022-02-25T18:48:15.367Z"
   },
   {
    "duration": 52,
    "start_time": "2022-02-25T18:48:15.379Z"
   },
   {
    "duration": 46,
    "start_time": "2022-02-25T18:48:15.434Z"
   },
   {
    "duration": 3,
    "start_time": "2022-02-25T18:48:15.484Z"
   },
   {
    "duration": 44,
    "start_time": "2022-02-25T18:48:15.489Z"
   },
   {
    "duration": 20,
    "start_time": "2022-02-25T18:48:15.536Z"
   },
   {
    "duration": 15,
    "start_time": "2022-02-25T18:48:15.559Z"
   },
   {
    "duration": 63,
    "start_time": "2022-02-25T18:48:15.577Z"
   },
   {
    "duration": 30,
    "start_time": "2022-02-25T19:04:20.178Z"
   },
   {
    "duration": 620,
    "start_time": "2022-02-26T07:24:50.185Z"
   },
   {
    "duration": 834,
    "start_time": "2022-02-26T07:25:02.979Z"
   },
   {
    "duration": 28,
    "start_time": "2022-02-26T07:25:03.816Z"
   },
   {
    "duration": 14,
    "start_time": "2022-02-26T07:25:03.862Z"
   },
   {
    "duration": 7,
    "start_time": "2022-02-26T07:25:03.878Z"
   },
   {
    "duration": 8,
    "start_time": "2022-02-26T07:25:03.888Z"
   },
   {
    "duration": 25,
    "start_time": "2022-02-26T07:25:03.898Z"
   },
   {
    "duration": 54,
    "start_time": "2022-02-26T07:25:03.925Z"
   },
   {
    "duration": 23,
    "start_time": "2022-02-26T07:25:03.983Z"
   },
   {
    "duration": 13,
    "start_time": "2022-02-26T07:25:04.010Z"
   },
   {
    "duration": 65,
    "start_time": "2022-02-26T07:25:04.026Z"
   },
   {
    "duration": 32,
    "start_time": "2022-02-26T07:25:04.094Z"
   },
   {
    "duration": 36,
    "start_time": "2022-02-26T07:25:04.129Z"
   },
   {
    "duration": 1974,
    "start_time": "2022-02-26T07:25:04.167Z"
   },
   {
    "duration": 27,
    "start_time": "2022-02-26T07:25:06.143Z"
   },
   {
    "duration": 48,
    "start_time": "2022-02-26T07:25:06.173Z"
   },
   {
    "duration": 890,
    "start_time": "2022-02-26T07:25:06.228Z"
   },
   {
    "duration": 11,
    "start_time": "2022-02-26T07:25:07.121Z"
   },
   {
    "duration": 37,
    "start_time": "2022-02-26T07:25:07.134Z"
   },
   {
    "duration": 20,
    "start_time": "2022-02-26T07:25:07.174Z"
   },
   {
    "duration": 17,
    "start_time": "2022-02-26T07:25:07.197Z"
   },
   {
    "duration": 10,
    "start_time": "2022-02-26T07:25:07.217Z"
   },
   {
    "duration": 40,
    "start_time": "2022-02-26T07:25:07.230Z"
   },
   {
    "duration": 11,
    "start_time": "2022-02-26T07:25:07.277Z"
   },
   {
    "duration": 9,
    "start_time": "2022-02-26T07:25:07.292Z"
   },
   {
    "duration": 23,
    "start_time": "2022-02-26T07:25:07.304Z"
   },
   {
    "duration": 40,
    "start_time": "2022-02-26T07:25:07.330Z"
   },
   {
    "duration": 10,
    "start_time": "2022-02-26T07:25:07.373Z"
   },
   {
    "duration": 13,
    "start_time": "2022-02-26T07:25:07.385Z"
   },
   {
    "duration": 14,
    "start_time": "2022-02-26T07:25:07.401Z"
   },
   {
    "duration": 1178,
    "start_time": "2022-02-26T07:25:07.417Z"
   },
   {
    "duration": 208,
    "start_time": "2022-02-26T07:25:08.597Z"
   },
   {
    "duration": 9,
    "start_time": "2022-02-26T07:25:08.807Z"
   },
   {
    "duration": 9,
    "start_time": "2022-02-26T07:25:08.819Z"
   },
   {
    "duration": 37,
    "start_time": "2022-02-26T07:25:08.831Z"
   },
   {
    "duration": 15,
    "start_time": "2022-02-26T07:25:08.871Z"
   },
   {
    "duration": 16,
    "start_time": "2022-02-26T07:25:08.889Z"
   },
   {
    "duration": 11,
    "start_time": "2022-02-26T07:25:08.907Z"
   },
   {
    "duration": 6,
    "start_time": "2022-02-26T07:25:08.920Z"
   },
   {
    "duration": 38,
    "start_time": "2022-02-26T07:25:08.928Z"
   },
   {
    "duration": 11,
    "start_time": "2022-02-26T07:25:08.969Z"
   },
   {
    "duration": 19,
    "start_time": "2022-02-26T07:25:08.983Z"
   },
   {
    "duration": 7,
    "start_time": "2022-02-26T07:25:09.005Z"
   },
   {
    "duration": 8,
    "start_time": "2022-02-26T07:25:09.015Z"
   },
   {
    "duration": 47,
    "start_time": "2022-02-26T07:25:09.025Z"
   },
   {
    "duration": 6,
    "start_time": "2022-02-26T07:25:09.075Z"
   },
   {
    "duration": 21,
    "start_time": "2022-02-26T07:25:09.084Z"
   },
   {
    "duration": 12,
    "start_time": "2022-02-26T07:25:09.108Z"
   },
   {
    "duration": 22,
    "start_time": "2022-02-26T07:25:09.163Z"
   },
   {
    "duration": 16,
    "start_time": "2022-02-26T07:25:09.187Z"
   },
   {
    "duration": 21,
    "start_time": "2022-02-26T07:25:09.206Z"
   },
   {
    "duration": 34,
    "start_time": "2022-02-26T07:25:09.230Z"
   },
   {
    "duration": 22,
    "start_time": "2022-02-26T07:25:09.267Z"
   },
   {
    "duration": 40,
    "start_time": "2022-02-26T07:25:09.291Z"
   },
   {
    "duration": 29,
    "start_time": "2022-02-26T07:25:09.334Z"
   },
   {
    "duration": 19,
    "start_time": "2022-02-26T07:25:09.366Z"
   },
   {
    "duration": 519,
    "start_time": "2022-02-26T07:25:09.388Z"
   },
   {
    "duration": 1075,
    "start_time": "2022-02-26T07:25:08.835Z"
   },
   {
    "duration": 1069,
    "start_time": "2022-02-26T07:25:08.842Z"
   },
   {
    "duration": 1065,
    "start_time": "2022-02-26T07:25:08.848Z"
   },
   {
    "duration": 1059,
    "start_time": "2022-02-26T07:25:08.855Z"
   },
   {
    "duration": 1054,
    "start_time": "2022-02-26T07:25:08.862Z"
   },
   {
    "duration": 1048,
    "start_time": "2022-02-26T07:25:08.869Z"
   },
   {
    "duration": 1044,
    "start_time": "2022-02-26T07:25:08.875Z"
   },
   {
    "duration": 1038,
    "start_time": "2022-02-26T07:25:08.882Z"
   },
   {
    "duration": 1033,
    "start_time": "2022-02-26T07:25:08.888Z"
   },
   {
    "duration": 1028,
    "start_time": "2022-02-26T07:25:08.895Z"
   },
   {
    "duration": 1009,
    "start_time": "2022-02-26T07:25:08.915Z"
   },
   {
    "duration": 1003,
    "start_time": "2022-02-26T07:25:08.923Z"
   },
   {
    "duration": 998,
    "start_time": "2022-02-26T07:25:08.930Z"
   },
   {
    "duration": 14,
    "start_time": "2022-02-26T07:26:13.847Z"
   },
   {
    "duration": 68,
    "start_time": "2022-02-26T07:26:58.828Z"
   },
   {
    "duration": 18,
    "start_time": "2022-02-26T07:26:58.898Z"
   },
   {
    "duration": 15,
    "start_time": "2022-02-26T07:26:58.919Z"
   },
   {
    "duration": 5,
    "start_time": "2022-02-26T07:26:58.964Z"
   },
   {
    "duration": 8,
    "start_time": "2022-02-26T07:26:58.972Z"
   },
   {
    "duration": 27,
    "start_time": "2022-02-26T07:26:58.983Z"
   },
   {
    "duration": 62,
    "start_time": "2022-02-26T07:26:59.013Z"
   },
   {
    "duration": 25,
    "start_time": "2022-02-26T07:26:59.077Z"
   },
   {
    "duration": 19,
    "start_time": "2022-02-26T07:26:59.107Z"
   },
   {
    "duration": 42,
    "start_time": "2022-02-26T07:26:59.163Z"
   },
   {
    "duration": 61,
    "start_time": "2022-02-26T07:26:59.207Z"
   },
   {
    "duration": 5,
    "start_time": "2022-02-26T07:26:59.270Z"
   },
   {
    "duration": 1815,
    "start_time": "2022-02-26T07:26:59.278Z"
   },
   {
    "duration": 15,
    "start_time": "2022-02-26T07:27:01.096Z"
   },
   {
    "duration": 75,
    "start_time": "2022-02-26T07:27:01.113Z"
   },
   {
    "duration": 930,
    "start_time": "2022-02-26T07:27:01.191Z"
   },
   {
    "duration": 11,
    "start_time": "2022-02-26T07:27:02.124Z"
   },
   {
    "duration": 36,
    "start_time": "2022-02-26T07:27:02.137Z"
   },
   {
    "duration": 32,
    "start_time": "2022-02-26T07:27:02.175Z"
   },
   {
    "duration": 24,
    "start_time": "2022-02-26T07:27:02.210Z"
   },
   {
    "duration": 9,
    "start_time": "2022-02-26T07:27:02.237Z"
   },
   {
    "duration": 16,
    "start_time": "2022-02-26T07:27:02.249Z"
   },
   {
    "duration": 9,
    "start_time": "2022-02-26T07:27:02.267Z"
   },
   {
    "duration": 14,
    "start_time": "2022-02-26T07:27:02.278Z"
   },
   {
    "duration": 20,
    "start_time": "2022-02-26T07:27:02.295Z"
   },
   {
    "duration": 17,
    "start_time": "2022-02-26T07:27:02.318Z"
   },
   {
    "duration": 8,
    "start_time": "2022-02-26T07:27:02.361Z"
   },
   {
    "duration": 15,
    "start_time": "2022-02-26T07:27:02.373Z"
   },
   {
    "duration": 8,
    "start_time": "2022-02-26T07:27:02.390Z"
   },
   {
    "duration": 274,
    "start_time": "2022-02-26T07:27:02.401Z"
   },
   {
    "duration": 218,
    "start_time": "2022-02-26T07:27:02.678Z"
   },
   {
    "duration": 10,
    "start_time": "2022-02-26T07:27:02.899Z"
   },
   {
    "duration": 9,
    "start_time": "2022-02-26T07:27:02.911Z"
   },
   {
    "duration": 40,
    "start_time": "2022-02-26T07:27:02.922Z"
   },
   {
    "duration": 17,
    "start_time": "2022-02-26T07:27:02.965Z"
   },
   {
    "duration": 9,
    "start_time": "2022-02-26T07:27:02.985Z"
   },
   {
    "duration": 10,
    "start_time": "2022-02-26T07:27:02.997Z"
   },
   {
    "duration": 53,
    "start_time": "2022-02-26T07:27:03.010Z"
   },
   {
    "duration": 7,
    "start_time": "2022-02-26T07:27:03.066Z"
   },
   {
    "duration": 19,
    "start_time": "2022-02-26T07:27:03.075Z"
   },
   {
    "duration": 14,
    "start_time": "2022-02-26T07:27:03.097Z"
   },
   {
    "duration": 6,
    "start_time": "2022-02-26T07:27:03.113Z"
   },
   {
    "duration": 6,
    "start_time": "2022-02-26T07:27:03.121Z"
   },
   {
    "duration": 43,
    "start_time": "2022-02-26T07:27:03.130Z"
   },
   {
    "duration": 5,
    "start_time": "2022-02-26T07:27:03.175Z"
   },
   {
    "duration": 17,
    "start_time": "2022-02-26T07:27:03.182Z"
   },
   {
    "duration": 10,
    "start_time": "2022-02-26T07:27:03.201Z"
   },
   {
    "duration": 53,
    "start_time": "2022-02-26T07:27:03.214Z"
   },
   {
    "duration": 16,
    "start_time": "2022-02-26T07:27:03.269Z"
   },
   {
    "duration": 18,
    "start_time": "2022-02-26T07:27:03.288Z"
   },
   {
    "duration": 10,
    "start_time": "2022-02-26T07:27:03.309Z"
   },
   {
    "duration": 46,
    "start_time": "2022-02-26T07:27:03.322Z"
   },
   {
    "duration": 32,
    "start_time": "2022-02-26T07:27:03.371Z"
   },
   {
    "duration": 4,
    "start_time": "2022-02-26T07:27:03.405Z"
   },
   {
    "duration": 24,
    "start_time": "2022-02-26T07:27:03.411Z"
   },
   {
    "duration": 14,
    "start_time": "2022-02-26T07:27:03.463Z"
   },
   {
    "duration": 109,
    "start_time": "2022-02-26T07:27:03.479Z"
   },
   {
    "duration": 799,
    "start_time": "2022-02-26T07:27:02.792Z"
   },
   {
    "duration": 790,
    "start_time": "2022-02-26T07:27:02.802Z"
   },
   {
    "duration": 771,
    "start_time": "2022-02-26T07:27:02.823Z"
   },
   {
    "duration": 765,
    "start_time": "2022-02-26T07:27:02.830Z"
   },
   {
    "duration": 628,
    "start_time": "2022-02-26T07:27:02.968Z"
   },
   {
    "duration": 622,
    "start_time": "2022-02-26T07:27:02.976Z"
   },
   {
    "duration": 614,
    "start_time": "2022-02-26T07:27:02.985Z"
   },
   {
    "duration": 602,
    "start_time": "2022-02-26T07:27:02.998Z"
   },
   {
    "duration": 577,
    "start_time": "2022-02-26T07:27:03.025Z"
   },
   {
    "duration": 572,
    "start_time": "2022-02-26T07:27:03.032Z"
   },
   {
    "duration": 566,
    "start_time": "2022-02-26T07:27:03.040Z"
   },
   {
    "duration": 561,
    "start_time": "2022-02-26T07:27:03.046Z"
   },
   {
    "duration": 77,
    "start_time": "2022-02-26T07:27:42.700Z"
   },
   {
    "duration": 20,
    "start_time": "2022-02-26T07:27:42.780Z"
   },
   {
    "duration": 32,
    "start_time": "2022-02-26T07:27:42.803Z"
   },
   {
    "duration": 26,
    "start_time": "2022-02-26T07:27:42.838Z"
   },
   {
    "duration": 5,
    "start_time": "2022-02-26T07:27:42.866Z"
   },
   {
    "duration": 45,
    "start_time": "2022-02-26T07:27:42.874Z"
   },
   {
    "duration": 25,
    "start_time": "2022-02-26T07:27:42.922Z"
   },
   {
    "duration": 24,
    "start_time": "2022-02-26T07:27:42.962Z"
   },
   {
    "duration": 15,
    "start_time": "2022-02-26T07:27:42.989Z"
   },
   {
    "duration": 65,
    "start_time": "2022-02-26T07:27:43.006Z"
   },
   {
    "duration": 31,
    "start_time": "2022-02-26T07:27:43.074Z"
   },
   {
    "duration": 5,
    "start_time": "2022-02-26T07:27:43.108Z"
   },
   {
    "duration": 1789,
    "start_time": "2022-02-26T07:27:43.115Z"
   },
   {
    "duration": 13,
    "start_time": "2022-02-26T07:27:44.906Z"
   },
   {
    "duration": 68,
    "start_time": "2022-02-26T07:27:44.922Z"
   },
   {
    "duration": 994,
    "start_time": "2022-02-26T07:27:44.993Z"
   },
   {
    "duration": 11,
    "start_time": "2022-02-26T07:27:45.990Z"
   },
   {
    "duration": 11,
    "start_time": "2022-02-26T07:27:46.004Z"
   },
   {
    "duration": 50,
    "start_time": "2022-02-26T07:27:46.018Z"
   },
   {
    "duration": 13,
    "start_time": "2022-02-26T07:27:46.070Z"
   },
   {
    "duration": 8,
    "start_time": "2022-02-26T07:27:46.085Z"
   },
   {
    "duration": 10,
    "start_time": "2022-02-26T07:27:46.096Z"
   },
   {
    "duration": 50,
    "start_time": "2022-02-26T07:27:46.114Z"
   },
   {
    "duration": 10,
    "start_time": "2022-02-26T07:27:46.169Z"
   },
   {
    "duration": 21,
    "start_time": "2022-02-26T07:27:46.182Z"
   },
   {
    "duration": 16,
    "start_time": "2022-02-26T07:27:46.206Z"
   },
   {
    "duration": 44,
    "start_time": "2022-02-26T07:27:46.224Z"
   },
   {
    "duration": 15,
    "start_time": "2022-02-26T07:27:46.270Z"
   },
   {
    "duration": 9,
    "start_time": "2022-02-26T07:27:46.288Z"
   },
   {
    "duration": 281,
    "start_time": "2022-02-26T07:27:46.299Z"
   },
   {
    "duration": 232,
    "start_time": "2022-02-26T07:27:46.582Z"
   },
   {
    "duration": 10,
    "start_time": "2022-02-26T07:27:46.817Z"
   },
   {
    "duration": 14,
    "start_time": "2022-02-26T07:27:46.829Z"
   },
   {
    "duration": 12,
    "start_time": "2022-02-26T07:27:46.861Z"
   },
   {
    "duration": 17,
    "start_time": "2022-02-26T07:27:46.875Z"
   },
   {
    "duration": 6,
    "start_time": "2022-02-26T07:27:46.895Z"
   },
   {
    "duration": 13,
    "start_time": "2022-02-26T07:27:46.904Z"
   },
   {
    "duration": 46,
    "start_time": "2022-02-26T07:27:46.919Z"
   },
   {
    "duration": 4,
    "start_time": "2022-02-26T07:27:46.968Z"
   },
   {
    "duration": 13,
    "start_time": "2022-02-26T07:27:46.975Z"
   },
   {
    "duration": 9,
    "start_time": "2022-02-26T07:27:46.991Z"
   },
   {
    "duration": 10,
    "start_time": "2022-02-26T07:27:47.003Z"
   },
   {
    "duration": 13,
    "start_time": "2022-02-26T07:27:47.016Z"
   },
   {
    "duration": 38,
    "start_time": "2022-02-26T07:27:47.031Z"
   },
   {
    "duration": 30,
    "start_time": "2022-02-26T07:27:47.071Z"
   },
   {
    "duration": 24,
    "start_time": "2022-02-26T07:27:47.104Z"
   },
   {
    "duration": 17,
    "start_time": "2022-02-26T07:27:47.130Z"
   },
   {
    "duration": 21,
    "start_time": "2022-02-26T07:27:47.149Z"
   },
   {
    "duration": 15,
    "start_time": "2022-02-26T07:27:47.172Z"
   },
   {
    "duration": 12,
    "start_time": "2022-02-26T07:27:47.190Z"
   },
   {
    "duration": 12,
    "start_time": "2022-02-26T07:27:47.204Z"
   },
   {
    "duration": 46,
    "start_time": "2022-02-26T07:27:47.219Z"
   },
   {
    "duration": 37,
    "start_time": "2022-02-26T07:27:47.267Z"
   },
   {
    "duration": 4,
    "start_time": "2022-02-26T07:27:47.306Z"
   },
   {
    "duration": 23,
    "start_time": "2022-02-26T07:27:47.312Z"
   },
   {
    "duration": 35,
    "start_time": "2022-02-26T07:27:47.338Z"
   },
   {
    "duration": 18,
    "start_time": "2022-02-26T07:27:47.375Z"
   },
   {
    "duration": 18,
    "start_time": "2022-02-26T07:27:47.395Z"
   },
   {
    "duration": 71,
    "start_time": "2022-02-26T07:28:56.490Z"
   },
   {
    "duration": 21,
    "start_time": "2022-02-26T07:28:56.565Z"
   },
   {
    "duration": 13,
    "start_time": "2022-02-26T07:28:56.590Z"
   },
   {
    "duration": 10,
    "start_time": "2022-02-26T07:28:56.606Z"
   },
   {
    "duration": 11,
    "start_time": "2022-02-26T07:28:56.619Z"
   },
   {
    "duration": 35,
    "start_time": "2022-02-26T07:28:56.664Z"
   },
   {
    "duration": 25,
    "start_time": "2022-02-26T07:28:56.701Z"
   },
   {
    "duration": 25,
    "start_time": "2022-02-26T07:28:56.762Z"
   },
   {
    "duration": 14,
    "start_time": "2022-02-26T07:28:56.791Z"
   },
   {
    "duration": 66,
    "start_time": "2022-02-26T07:28:56.808Z"
   },
   {
    "duration": 33,
    "start_time": "2022-02-26T07:28:56.877Z"
   },
   {
    "duration": 6,
    "start_time": "2022-02-26T07:28:56.913Z"
   },
   {
    "duration": 2041,
    "start_time": "2022-02-26T07:28:56.921Z"
   },
   {
    "duration": 15,
    "start_time": "2022-02-26T07:28:58.966Z"
   },
   {
    "duration": 81,
    "start_time": "2022-02-26T07:28:58.984Z"
   },
   {
    "duration": 1149,
    "start_time": "2022-02-26T07:28:59.068Z"
   },
   {
    "duration": 12,
    "start_time": "2022-02-26T07:29:00.220Z"
   },
   {
    "duration": 33,
    "start_time": "2022-02-26T07:29:00.235Z"
   },
   {
    "duration": 36,
    "start_time": "2022-02-26T07:29:00.271Z"
   },
   {
    "duration": 34,
    "start_time": "2022-02-26T07:29:00.310Z"
   },
   {
    "duration": 22,
    "start_time": "2022-02-26T07:29:00.347Z"
   },
   {
    "duration": 59,
    "start_time": "2022-02-26T07:29:00.372Z"
   },
   {
    "duration": 35,
    "start_time": "2022-02-26T07:29:00.438Z"
   },
   {
    "duration": 23,
    "start_time": "2022-02-26T07:29:00.477Z"
   },
   {
    "duration": 31,
    "start_time": "2022-02-26T07:29:00.502Z"
   },
   {
    "duration": 51,
    "start_time": "2022-02-26T07:29:00.536Z"
   },
   {
    "duration": 51,
    "start_time": "2022-02-26T07:29:00.590Z"
   },
   {
    "duration": 50,
    "start_time": "2022-02-26T07:29:00.643Z"
   },
   {
    "duration": 47,
    "start_time": "2022-02-26T07:29:00.695Z"
   },
   {
    "duration": 266,
    "start_time": "2022-02-26T07:29:00.745Z"
   },
   {
    "duration": 233,
    "start_time": "2022-02-26T07:29:01.014Z"
   },
   {
    "duration": 20,
    "start_time": "2022-02-26T07:29:01.250Z"
   },
   {
    "duration": 32,
    "start_time": "2022-02-26T07:29:01.273Z"
   },
   {
    "duration": 49,
    "start_time": "2022-02-26T07:29:01.308Z"
   },
   {
    "duration": 61,
    "start_time": "2022-02-26T07:29:01.359Z"
   },
   {
    "duration": 16,
    "start_time": "2022-02-26T07:29:01.422Z"
   },
   {
    "duration": 45,
    "start_time": "2022-02-26T07:29:01.440Z"
   },
   {
    "duration": 38,
    "start_time": "2022-02-26T07:29:01.488Z"
   },
   {
    "duration": 35,
    "start_time": "2022-02-26T07:29:01.528Z"
   },
   {
    "duration": 27,
    "start_time": "2022-02-26T07:29:01.566Z"
   },
   {
    "duration": 28,
    "start_time": "2022-02-26T07:29:01.596Z"
   },
   {
    "duration": 35,
    "start_time": "2022-02-26T07:29:01.628Z"
   },
   {
    "duration": 43,
    "start_time": "2022-02-26T07:29:01.667Z"
   },
   {
    "duration": 37,
    "start_time": "2022-02-26T07:29:01.713Z"
   },
   {
    "duration": 21,
    "start_time": "2022-02-26T07:29:01.752Z"
   },
   {
    "duration": 52,
    "start_time": "2022-02-26T07:29:01.776Z"
   },
   {
    "duration": 30,
    "start_time": "2022-02-26T07:29:01.831Z"
   },
   {
    "duration": 26,
    "start_time": "2022-02-26T07:29:01.863Z"
   },
   {
    "duration": 29,
    "start_time": "2022-02-26T07:29:01.892Z"
   },
   {
    "duration": 21,
    "start_time": "2022-02-26T07:29:01.923Z"
   },
   {
    "duration": 31,
    "start_time": "2022-02-26T07:29:01.947Z"
   },
   {
    "duration": 45,
    "start_time": "2022-02-26T07:29:01.980Z"
   },
   {
    "duration": 52,
    "start_time": "2022-02-26T07:29:02.028Z"
   },
   {
    "duration": 3,
    "start_time": "2022-02-26T07:29:02.083Z"
   },
   {
    "duration": 49,
    "start_time": "2022-02-26T07:29:02.088Z"
   },
   {
    "duration": 30,
    "start_time": "2022-02-26T07:29:02.139Z"
   },
   {
    "duration": 29,
    "start_time": "2022-02-26T07:29:02.172Z"
   },
   {
    "duration": 37,
    "start_time": "2022-02-26T07:29:02.203Z"
   },
   {
    "duration": 47,
    "start_time": "2022-02-26T07:29:02.243Z"
   },
   {
    "duration": 11,
    "start_time": "2022-02-26T07:29:02.293Z"
   },
   {
    "duration": 56,
    "start_time": "2022-02-26T07:29:02.307Z"
   },
   {
    "duration": 41,
    "start_time": "2022-02-26T07:29:02.366Z"
   },
   {
    "duration": 21,
    "start_time": "2022-02-26T07:29:02.410Z"
   },
   {
    "duration": 52,
    "start_time": "2022-02-26T07:29:02.434Z"
   },
   {
    "duration": 23,
    "start_time": "2022-02-26T07:29:02.489Z"
   },
   {
    "duration": 51,
    "start_time": "2022-02-26T07:29:02.515Z"
   },
   {
    "duration": 5,
    "start_time": "2022-02-26T07:29:02.569Z"
   },
   {
    "duration": 35,
    "start_time": "2022-02-26T07:29:02.582Z"
   },
   {
    "duration": 8,
    "start_time": "2022-02-26T07:36:15.701Z"
   },
   {
    "duration": 18,
    "start_time": "2022-02-26T07:36:41.389Z"
   },
   {
    "duration": 38,
    "start_time": "2022-02-26T07:38:34.537Z"
   },
   {
    "duration": 70,
    "start_time": "2022-02-26T07:38:53.762Z"
   },
   {
    "duration": 39,
    "start_time": "2022-02-26T07:38:53.835Z"
   },
   {
    "duration": 32,
    "start_time": "2022-02-26T07:38:53.878Z"
   },
   {
    "duration": 25,
    "start_time": "2022-02-26T07:38:53.914Z"
   },
   {
    "duration": 24,
    "start_time": "2022-02-26T07:38:53.942Z"
   },
   {
    "duration": 45,
    "start_time": "2022-02-26T07:38:53.969Z"
   },
   {
    "duration": 25,
    "start_time": "2022-02-26T07:38:54.017Z"
   },
   {
    "duration": 27,
    "start_time": "2022-02-26T07:38:54.063Z"
   },
   {
    "duration": 13,
    "start_time": "2022-02-26T07:38:54.094Z"
   },
   {
    "duration": 65,
    "start_time": "2022-02-26T07:38:54.110Z"
   },
   {
    "duration": 35,
    "start_time": "2022-02-26T07:38:54.178Z"
   },
   {
    "duration": 7,
    "start_time": "2022-02-26T07:38:54.216Z"
   },
   {
    "duration": 1725,
    "start_time": "2022-02-26T07:38:54.226Z"
   },
   {
    "duration": 18,
    "start_time": "2022-02-26T07:38:55.954Z"
   },
   {
    "duration": 57,
    "start_time": "2022-02-26T07:38:55.974Z"
   },
   {
    "duration": 1104,
    "start_time": "2022-02-26T07:38:56.033Z"
   },
   {
    "duration": 28,
    "start_time": "2022-02-26T07:38:57.140Z"
   },
   {
    "duration": 11,
    "start_time": "2022-02-26T07:38:57.171Z"
   },
   {
    "duration": 13,
    "start_time": "2022-02-26T07:38:57.185Z"
   },
   {
    "duration": 15,
    "start_time": "2022-02-26T07:38:57.201Z"
   },
   {
    "duration": 50,
    "start_time": "2022-02-26T07:38:57.219Z"
   },
   {
    "duration": 14,
    "start_time": "2022-02-26T07:38:57.272Z"
   },
   {
    "duration": 10,
    "start_time": "2022-02-26T07:38:57.294Z"
   },
   {
    "duration": 12,
    "start_time": "2022-02-26T07:38:57.308Z"
   },
   {
    "duration": 57,
    "start_time": "2022-02-26T07:38:57.322Z"
   },
   {
    "duration": 14,
    "start_time": "2022-02-26T07:38:57.382Z"
   },
   {
    "duration": 12,
    "start_time": "2022-02-26T07:38:57.398Z"
   },
   {
    "duration": 57,
    "start_time": "2022-02-26T07:38:57.412Z"
   },
   {
    "duration": 10,
    "start_time": "2022-02-26T07:38:57.473Z"
   },
   {
    "duration": 256,
    "start_time": "2022-02-26T07:38:57.486Z"
   },
   {
    "duration": 240,
    "start_time": "2022-02-26T07:38:57.745Z"
   },
   {
    "duration": 10,
    "start_time": "2022-02-26T07:38:57.988Z"
   },
   {
    "duration": 23,
    "start_time": "2022-02-26T07:38:58.000Z"
   },
   {
    "duration": 10,
    "start_time": "2022-02-26T07:38:58.025Z"
   },
   {
    "duration": 33,
    "start_time": "2022-02-26T07:38:58.037Z"
   },
   {
    "duration": 8,
    "start_time": "2022-02-26T07:38:58.072Z"
   },
   {
    "duration": 15,
    "start_time": "2022-02-26T07:38:58.082Z"
   },
   {
    "duration": 11,
    "start_time": "2022-02-26T07:38:58.099Z"
   },
   {
    "duration": 5,
    "start_time": "2022-02-26T07:38:58.112Z"
   },
   {
    "duration": 43,
    "start_time": "2022-02-26T07:38:58.120Z"
   },
   {
    "duration": 16,
    "start_time": "2022-02-26T07:38:58.166Z"
   },
   {
    "duration": 6,
    "start_time": "2022-02-26T07:38:58.185Z"
   },
   {
    "duration": 10,
    "start_time": "2022-02-26T07:38:58.193Z"
   },
   {
    "duration": 16,
    "start_time": "2022-02-26T07:38:58.206Z"
   },
   {
    "duration": 7,
    "start_time": "2022-02-26T07:38:58.225Z"
   },
   {
    "duration": 17,
    "start_time": "2022-02-26T07:38:58.262Z"
   },
   {
    "duration": 13,
    "start_time": "2022-02-26T07:38:58.282Z"
   },
   {
    "duration": 27,
    "start_time": "2022-02-26T07:38:58.298Z"
   },
   {
    "duration": 39,
    "start_time": "2022-02-26T07:38:58.328Z"
   },
   {
    "duration": 10,
    "start_time": "2022-02-26T07:38:58.370Z"
   },
   {
    "duration": 9,
    "start_time": "2022-02-26T07:38:58.383Z"
   },
   {
    "duration": 18,
    "start_time": "2022-02-26T07:38:58.395Z"
   },
   {
    "duration": 75,
    "start_time": "2022-02-26T07:38:58.416Z"
   },
   {
    "duration": 4,
    "start_time": "2022-02-26T07:38:58.493Z"
   },
   {
    "duration": 21,
    "start_time": "2022-02-26T07:38:58.499Z"
   },
   {
    "duration": 40,
    "start_time": "2022-02-26T07:38:58.522Z"
   },
   {
    "duration": 14,
    "start_time": "2022-02-26T07:38:58.565Z"
   },
   {
    "duration": 20,
    "start_time": "2022-02-26T07:38:58.582Z"
   },
   {
    "duration": 59,
    "start_time": "2022-02-26T07:38:58.605Z"
   },
   {
    "duration": 11,
    "start_time": "2022-02-26T07:38:58.666Z"
   },
   {
    "duration": 27,
    "start_time": "2022-02-26T07:39:48.337Z"
   },
   {
    "duration": 72,
    "start_time": "2022-02-26T07:39:55.748Z"
   },
   {
    "duration": 17,
    "start_time": "2022-02-26T07:39:55.822Z"
   },
   {
    "duration": 18,
    "start_time": "2022-02-26T07:39:55.864Z"
   },
   {
    "duration": 14,
    "start_time": "2022-02-26T07:39:55.885Z"
   },
   {
    "duration": 9,
    "start_time": "2022-02-26T07:39:55.902Z"
   },
   {
    "duration": 59,
    "start_time": "2022-02-26T07:39:55.914Z"
   },
   {
    "duration": 32,
    "start_time": "2022-02-26T07:39:55.975Z"
   },
   {
    "duration": 59,
    "start_time": "2022-02-26T07:39:56.010Z"
   },
   {
    "duration": 18,
    "start_time": "2022-02-26T07:39:56.073Z"
   },
   {
    "duration": 31,
    "start_time": "2022-02-26T07:39:56.095Z"
   },
   {
    "duration": 32,
    "start_time": "2022-02-26T07:39:56.163Z"
   },
   {
    "duration": 5,
    "start_time": "2022-02-26T07:39:56.197Z"
   },
   {
    "duration": 1668,
    "start_time": "2022-02-26T07:39:56.204Z"
   },
   {
    "duration": 12,
    "start_time": "2022-02-26T07:39:57.874Z"
   },
   {
    "duration": 46,
    "start_time": "2022-02-26T07:39:57.888Z"
   },
   {
    "duration": 868,
    "start_time": "2022-02-26T07:39:57.936Z"
   },
   {
    "duration": 10,
    "start_time": "2022-02-26T07:39:58.807Z"
   },
   {
    "duration": 14,
    "start_time": "2022-02-26T07:39:58.820Z"
   },
   {
    "duration": 36,
    "start_time": "2022-02-26T07:39:58.837Z"
   },
   {
    "duration": 17,
    "start_time": "2022-02-26T07:39:58.876Z"
   },
   {
    "duration": 8,
    "start_time": "2022-02-26T07:39:58.896Z"
   },
   {
    "duration": 10,
    "start_time": "2022-02-26T07:39:58.906Z"
   },
   {
    "duration": 45,
    "start_time": "2022-02-26T07:39:58.919Z"
   },
   {
    "duration": 18,
    "start_time": "2022-02-26T07:39:58.967Z"
   },
   {
    "duration": 23,
    "start_time": "2022-02-26T07:39:58.988Z"
   },
   {
    "duration": 16,
    "start_time": "2022-02-26T07:39:59.014Z"
   },
   {
    "duration": 31,
    "start_time": "2022-02-26T07:39:59.038Z"
   },
   {
    "duration": 16,
    "start_time": "2022-02-26T07:39:59.072Z"
   },
   {
    "duration": 10,
    "start_time": "2022-02-26T07:39:59.090Z"
   },
   {
    "duration": 323,
    "start_time": "2022-02-26T07:39:59.103Z"
   },
   {
    "duration": 234,
    "start_time": "2022-02-26T07:39:59.428Z"
   },
   {
    "duration": 11,
    "start_time": "2022-02-26T07:39:59.664Z"
   },
   {
    "duration": 9,
    "start_time": "2022-02-26T07:39:59.677Z"
   },
   {
    "duration": 11,
    "start_time": "2022-02-26T07:39:59.689Z"
   },
   {
    "duration": 21,
    "start_time": "2022-02-26T07:39:59.702Z"
   },
   {
    "duration": 6,
    "start_time": "2022-02-26T07:39:59.762Z"
   },
   {
    "duration": 11,
    "start_time": "2022-02-26T07:39:59.771Z"
   },
   {
    "duration": 6,
    "start_time": "2022-02-26T07:39:59.785Z"
   },
   {
    "duration": 11,
    "start_time": "2022-02-26T07:39:59.793Z"
   },
   {
    "duration": 11,
    "start_time": "2022-02-26T07:39:59.806Z"
   },
   {
    "duration": 46,
    "start_time": "2022-02-26T07:39:59.820Z"
   },
   {
    "duration": 7,
    "start_time": "2022-02-26T07:39:59.869Z"
   },
   {
    "duration": 11,
    "start_time": "2022-02-26T07:39:59.878Z"
   },
   {
    "duration": 16,
    "start_time": "2022-02-26T07:39:59.891Z"
   },
   {
    "duration": 4,
    "start_time": "2022-02-26T07:39:59.910Z"
   },
   {
    "duration": 46,
    "start_time": "2022-02-26T07:39:59.916Z"
   },
   {
    "duration": 10,
    "start_time": "2022-02-26T07:39:59.965Z"
   },
   {
    "duration": 18,
    "start_time": "2022-02-26T07:39:59.978Z"
   },
   {
    "duration": 16,
    "start_time": "2022-02-26T07:39:59.999Z"
   },
   {
    "duration": 46,
    "start_time": "2022-02-26T07:40:00.018Z"
   },
   {
    "duration": 29,
    "start_time": "2022-02-26T07:40:00.066Z"
   },
   {
    "duration": 30,
    "start_time": "2022-02-26T07:40:00.098Z"
   },
   {
    "duration": 59,
    "start_time": "2022-02-26T07:40:00.131Z"
   },
   {
    "duration": 4,
    "start_time": "2022-02-26T07:40:00.192Z"
   },
   {
    "duration": 36,
    "start_time": "2022-02-26T07:40:00.198Z"
   },
   {
    "duration": 32,
    "start_time": "2022-02-26T07:40:00.236Z"
   },
   {
    "duration": 18,
    "start_time": "2022-02-26T07:40:00.271Z"
   },
   {
    "duration": 20,
    "start_time": "2022-02-26T07:40:00.292Z"
   },
   {
    "duration": 55,
    "start_time": "2022-02-26T07:40:00.314Z"
   },
   {
    "duration": 11,
    "start_time": "2022-02-26T07:40:00.371Z"
   },
   {
    "duration": 50,
    "start_time": "2022-02-26T07:40:00.385Z"
   },
   {
    "duration": 35,
    "start_time": "2022-02-26T07:40:33.113Z"
   },
   {
    "duration": 18,
    "start_time": "2022-02-26T07:46:06.007Z"
   },
   {
    "duration": 708,
    "start_time": "2022-02-26T15:02:15.924Z"
   },
   {
    "duration": 17,
    "start_time": "2022-02-26T15:02:16.633Z"
   },
   {
    "duration": 10,
    "start_time": "2022-02-26T15:02:16.652Z"
   },
   {
    "duration": 4,
    "start_time": "2022-02-26T15:02:16.664Z"
   },
   {
    "duration": 3,
    "start_time": "2022-02-26T15:02:16.669Z"
   },
   {
    "duration": 16,
    "start_time": "2022-02-26T15:02:16.674Z"
   },
   {
    "duration": 47,
    "start_time": "2022-02-26T15:02:16.691Z"
   },
   {
    "duration": 15,
    "start_time": "2022-02-26T15:02:16.741Z"
   },
   {
    "duration": 9,
    "start_time": "2022-02-26T15:02:16.758Z"
   },
   {
    "duration": 19,
    "start_time": "2022-02-26T15:02:16.769Z"
   },
   {
    "duration": 55,
    "start_time": "2022-02-26T15:02:16.789Z"
   },
   {
    "duration": 4,
    "start_time": "2022-02-26T15:02:16.846Z"
   },
   {
    "duration": 1084,
    "start_time": "2022-02-26T15:02:16.851Z"
   },
   {
    "duration": 10,
    "start_time": "2022-02-26T15:02:17.937Z"
   },
   {
    "duration": 27,
    "start_time": "2022-02-26T15:02:17.948Z"
   },
   {
    "duration": 536,
    "start_time": "2022-02-26T15:02:17.977Z"
   },
   {
    "duration": 7,
    "start_time": "2022-02-26T15:02:18.515Z"
   },
   {
    "duration": 6,
    "start_time": "2022-02-26T15:02:18.533Z"
   },
   {
    "duration": 10,
    "start_time": "2022-02-26T15:02:18.541Z"
   },
   {
    "duration": 9,
    "start_time": "2022-02-26T15:02:18.552Z"
   },
   {
    "duration": 7,
    "start_time": "2022-02-26T15:02:18.562Z"
   },
   {
    "duration": 10,
    "start_time": "2022-02-26T15:02:18.570Z"
   },
   {
    "duration": 5,
    "start_time": "2022-02-26T15:02:18.584Z"
   },
   {
    "duration": 9,
    "start_time": "2022-02-26T15:02:18.633Z"
   },
   {
    "duration": 12,
    "start_time": "2022-02-26T15:02:18.643Z"
   },
   {
    "duration": 13,
    "start_time": "2022-02-26T15:02:18.657Z"
   },
   {
    "duration": 7,
    "start_time": "2022-02-26T15:02:18.672Z"
   },
   {
    "duration": 10,
    "start_time": "2022-02-26T15:02:18.681Z"
   },
   {
    "duration": 42,
    "start_time": "2022-02-26T15:02:18.693Z"
   },
   {
    "duration": 656,
    "start_time": "2022-02-26T15:02:18.737Z"
   },
   {
    "duration": 140,
    "start_time": "2022-02-26T15:02:19.395Z"
   },
   {
    "duration": 7,
    "start_time": "2022-02-26T15:02:19.537Z"
   },
   {
    "duration": 6,
    "start_time": "2022-02-26T15:02:19.546Z"
   },
   {
    "duration": 8,
    "start_time": "2022-02-26T15:02:19.554Z"
   },
   {
    "duration": 14,
    "start_time": "2022-02-26T15:02:19.564Z"
   },
   {
    "duration": 4,
    "start_time": "2022-02-26T15:02:19.579Z"
   },
   {
    "duration": 5,
    "start_time": "2022-02-26T15:02:19.585Z"
   },
   {
    "duration": 42,
    "start_time": "2022-02-26T15:02:19.592Z"
   },
   {
    "duration": 4,
    "start_time": "2022-02-26T15:02:19.635Z"
   },
   {
    "duration": 7,
    "start_time": "2022-02-26T15:02:19.641Z"
   },
   {
    "duration": 7,
    "start_time": "2022-02-26T15:02:19.650Z"
   },
   {
    "duration": 7,
    "start_time": "2022-02-26T15:02:19.659Z"
   },
   {
    "duration": 6,
    "start_time": "2022-02-26T15:02:19.668Z"
   },
   {
    "duration": 10,
    "start_time": "2022-02-26T15:02:19.676Z"
   },
   {
    "duration": 3,
    "start_time": "2022-02-26T15:02:19.688Z"
   },
   {
    "duration": 47,
    "start_time": "2022-02-26T15:02:19.694Z"
   },
   {
    "duration": 10,
    "start_time": "2022-02-26T15:02:19.744Z"
   },
   {
    "duration": 15,
    "start_time": "2022-02-26T15:02:19.756Z"
   },
   {
    "duration": 10,
    "start_time": "2022-02-26T15:02:19.772Z"
   },
   {
    "duration": 8,
    "start_time": "2022-02-26T15:02:19.784Z"
   },
   {
    "duration": 7,
    "start_time": "2022-02-26T15:02:19.794Z"
   },
   {
    "duration": 37,
    "start_time": "2022-02-26T15:02:19.802Z"
   },
   {
    "duration": 19,
    "start_time": "2022-02-26T15:02:19.841Z"
   },
   {
    "duration": 3,
    "start_time": "2022-02-26T15:02:19.862Z"
   },
   {
    "duration": 17,
    "start_time": "2022-02-26T15:02:19.867Z"
   },
   {
    "duration": 12,
    "start_time": "2022-02-26T15:02:19.886Z"
   },
   {
    "duration": 46,
    "start_time": "2022-02-26T15:02:19.900Z"
   },
   {
    "duration": 17,
    "start_time": "2022-02-26T15:02:19.948Z"
   },
   {
    "duration": 28,
    "start_time": "2022-02-26T15:02:19.968Z"
   },
   {
    "duration": 35,
    "start_time": "2022-02-26T15:02:19.998Z"
   },
   {
    "duration": 24,
    "start_time": "2022-02-26T15:02:20.036Z"
   },
   {
    "duration": 11,
    "start_time": "2022-02-26T15:02:20.062Z"
   },
   {
    "duration": 18,
    "start_time": "2022-02-26T15:02:20.075Z"
   },
   {
    "duration": 12,
    "start_time": "2022-02-26T15:02:20.095Z"
   },
   {
    "duration": 18,
    "start_time": "2022-02-26T15:02:20.133Z"
   },
   {
    "duration": 12,
    "start_time": "2022-02-26T15:02:20.153Z"
   },
   {
    "duration": 20,
    "start_time": "2022-02-26T15:02:20.167Z"
   },
   {
    "duration": 4,
    "start_time": "2022-02-26T15:02:20.192Z"
   },
   {
    "duration": 5,
    "start_time": "2022-02-26T15:02:20.233Z"
   },
   {
    "duration": 10,
    "start_time": "2022-02-26T15:17:14.857Z"
   },
   {
    "duration": 8,
    "start_time": "2022-02-26T15:18:16.123Z"
   },
   {
    "duration": 10,
    "start_time": "2022-02-26T15:18:51.414Z"
   },
   {
    "duration": 11,
    "start_time": "2022-02-26T15:19:40.224Z"
   },
   {
    "duration": 17,
    "start_time": "2022-02-26T15:28:38.284Z"
   },
   {
    "duration": 18,
    "start_time": "2022-02-26T15:28:40.394Z"
   },
   {
    "duration": 20,
    "start_time": "2022-02-26T15:28:42.263Z"
   },
   {
    "duration": 11,
    "start_time": "2022-02-26T15:35:59.887Z"
   },
   {
    "duration": 4,
    "start_time": "2022-02-26T15:58:35.864Z"
   },
   {
    "duration": 248,
    "start_time": "2022-02-26T16:03:30.309Z"
   },
   {
    "duration": 4,
    "start_time": "2022-02-26T16:03:41.466Z"
   },
   {
    "duration": 7,
    "start_time": "2022-02-26T16:03:44.043Z"
   },
   {
    "duration": 138,
    "start_time": "2022-02-26T16:20:49.902Z"
   },
   {
    "duration": 58,
    "start_time": "2022-02-26T16:21:08.237Z"
   },
   {
    "duration": 13,
    "start_time": "2022-02-26T16:21:08.297Z"
   },
   {
    "duration": 26,
    "start_time": "2022-02-26T16:21:08.312Z"
   },
   {
    "duration": 3,
    "start_time": "2022-02-26T16:21:08.340Z"
   },
   {
    "duration": 4,
    "start_time": "2022-02-26T16:21:08.345Z"
   },
   {
    "duration": 16,
    "start_time": "2022-02-26T16:21:08.350Z"
   },
   {
    "duration": 16,
    "start_time": "2022-02-26T16:21:08.367Z"
   },
   {
    "duration": 56,
    "start_time": "2022-02-26T16:21:08.385Z"
   },
   {
    "duration": 10,
    "start_time": "2022-02-26T16:21:08.443Z"
   },
   {
    "duration": 20,
    "start_time": "2022-02-26T16:21:08.455Z"
   },
   {
    "duration": 19,
    "start_time": "2022-02-26T16:21:08.477Z"
   },
   {
    "duration": 4,
    "start_time": "2022-02-26T16:21:08.533Z"
   },
   {
    "duration": 995,
    "start_time": "2022-02-26T16:21:08.538Z"
   },
   {
    "duration": 11,
    "start_time": "2022-02-26T16:21:09.535Z"
   },
   {
    "duration": 28,
    "start_time": "2022-02-26T16:21:09.549Z"
   },
   {
    "duration": 736,
    "start_time": "2022-02-26T16:21:09.579Z"
   },
   {
    "duration": 16,
    "start_time": "2022-02-26T16:21:10.317Z"
   },
   {
    "duration": 6,
    "start_time": "2022-02-26T16:21:10.335Z"
   },
   {
    "duration": 9,
    "start_time": "2022-02-26T16:21:10.342Z"
   },
   {
    "duration": 8,
    "start_time": "2022-02-26T16:21:10.353Z"
   },
   {
    "duration": 5,
    "start_time": "2022-02-26T16:21:10.363Z"
   },
   {
    "duration": 11,
    "start_time": "2022-02-26T16:21:10.369Z"
   },
   {
    "duration": 51,
    "start_time": "2022-02-26T16:21:10.384Z"
   },
   {
    "duration": 8,
    "start_time": "2022-02-26T16:21:10.438Z"
   },
   {
    "duration": 12,
    "start_time": "2022-02-26T16:21:10.447Z"
   },
   {
    "duration": 15,
    "start_time": "2022-02-26T16:21:10.461Z"
   },
   {
    "duration": 7,
    "start_time": "2022-02-26T16:21:10.477Z"
   },
   {
    "duration": 13,
    "start_time": "2022-02-26T16:21:10.485Z"
   },
   {
    "duration": 35,
    "start_time": "2022-02-26T16:21:10.500Z"
   },
   {
    "duration": 149,
    "start_time": "2022-02-26T16:21:10.536Z"
   },
   {
    "duration": 137,
    "start_time": "2022-02-26T16:21:10.687Z"
   },
   {
    "duration": 12,
    "start_time": "2022-02-26T16:21:10.826Z"
   },
   {
    "duration": 9,
    "start_time": "2022-02-26T16:21:10.840Z"
   },
   {
    "duration": 8,
    "start_time": "2022-02-26T16:21:10.850Z"
   },
   {
    "duration": 11,
    "start_time": "2022-02-26T16:21:10.859Z"
   },
   {
    "duration": 4,
    "start_time": "2022-02-26T16:21:10.871Z"
   },
   {
    "duration": 5,
    "start_time": "2022-02-26T16:21:10.877Z"
   },
   {
    "duration": 4,
    "start_time": "2022-02-26T16:21:10.884Z"
   },
   {
    "duration": 4,
    "start_time": "2022-02-26T16:21:10.889Z"
   },
   {
    "duration": 6,
    "start_time": "2022-02-26T16:21:10.934Z"
   },
   {
    "duration": 11,
    "start_time": "2022-02-26T16:21:10.942Z"
   },
   {
    "duration": 4,
    "start_time": "2022-02-26T16:21:10.955Z"
   },
   {
    "duration": 5,
    "start_time": "2022-02-26T16:21:10.961Z"
   },
   {
    "duration": 10,
    "start_time": "2022-02-26T16:21:10.968Z"
   },
   {
    "duration": 3,
    "start_time": "2022-02-26T16:21:10.980Z"
   },
   {
    "duration": 7,
    "start_time": "2022-02-26T16:21:10.985Z"
   },
   {
    "duration": 40,
    "start_time": "2022-02-26T16:21:10.994Z"
   },
   {
    "duration": 11,
    "start_time": "2022-02-26T16:21:11.036Z"
   },
   {
    "duration": 9,
    "start_time": "2022-02-26T16:21:11.049Z"
   },
   {
    "duration": 12,
    "start_time": "2022-02-26T16:21:11.060Z"
   },
   {
    "duration": 9,
    "start_time": "2022-02-26T16:21:11.073Z"
   },
   {
    "duration": 7,
    "start_time": "2022-02-26T16:21:11.084Z"
   },
   {
    "duration": 46,
    "start_time": "2022-02-26T16:21:11.093Z"
   },
   {
    "duration": 26,
    "start_time": "2022-02-26T16:21:11.141Z"
   },
   {
    "duration": 2,
    "start_time": "2022-02-26T16:21:11.169Z"
   },
   {
    "duration": 12,
    "start_time": "2022-02-26T16:21:11.173Z"
   },
   {
    "duration": 9,
    "start_time": "2022-02-26T16:21:11.187Z"
   },
   {
    "duration": 37,
    "start_time": "2022-02-26T16:21:11.198Z"
   },
   {
    "duration": 13,
    "start_time": "2022-02-26T16:21:11.237Z"
   },
   {
    "duration": 17,
    "start_time": "2022-02-26T16:21:11.251Z"
   },
   {
    "duration": 10,
    "start_time": "2022-02-26T16:21:11.269Z"
   },
   {
    "duration": 21,
    "start_time": "2022-02-26T16:21:11.280Z"
   },
   {
    "duration": 33,
    "start_time": "2022-02-26T16:21:11.303Z"
   },
   {
    "duration": 21,
    "start_time": "2022-02-26T16:21:11.338Z"
   },
   {
    "duration": 26,
    "start_time": "2022-02-26T16:21:11.361Z"
   },
   {
    "duration": 11,
    "start_time": "2022-02-26T16:21:11.389Z"
   },
   {
    "duration": 160,
    "start_time": "2022-02-26T16:21:11.402Z"
   },
   {
    "duration": -88,
    "start_time": "2022-02-26T16:21:11.652Z"
   },
   {
    "duration": -94,
    "start_time": "2022-02-26T16:21:11.659Z"
   },
   {
    "duration": -101,
    "start_time": "2022-02-26T16:21:11.667Z"
   },
   {
    "duration": -106,
    "start_time": "2022-02-26T16:21:11.673Z"
   },
   {
    "duration": -114,
    "start_time": "2022-02-26T16:21:11.682Z"
   },
   {
    "duration": 4,
    "start_time": "2022-02-26T16:22:05.900Z"
   },
   {
    "duration": 72,
    "start_time": "2022-02-26T16:22:09.598Z"
   },
   {
    "duration": 13,
    "start_time": "2022-02-26T16:22:09.672Z"
   },
   {
    "duration": 11,
    "start_time": "2022-02-26T16:22:09.688Z"
   },
   {
    "duration": 32,
    "start_time": "2022-02-26T16:22:09.701Z"
   },
   {
    "duration": 5,
    "start_time": "2022-02-26T16:22:09.735Z"
   },
   {
    "duration": 22,
    "start_time": "2022-02-26T16:22:09.742Z"
   },
   {
    "duration": 16,
    "start_time": "2022-02-26T16:22:09.766Z"
   },
   {
    "duration": 16,
    "start_time": "2022-02-26T16:22:09.785Z"
   },
   {
    "duration": 39,
    "start_time": "2022-02-26T16:22:09.803Z"
   },
   {
    "duration": 20,
    "start_time": "2022-02-26T16:22:09.844Z"
   },
   {
    "duration": 19,
    "start_time": "2022-02-26T16:22:09.866Z"
   },
   {
    "duration": 4,
    "start_time": "2022-02-26T16:22:09.887Z"
   },
   {
    "duration": 1005,
    "start_time": "2022-02-26T16:22:09.893Z"
   },
   {
    "duration": 8,
    "start_time": "2022-02-26T16:22:10.899Z"
   },
   {
    "duration": 38,
    "start_time": "2022-02-26T16:22:10.909Z"
   },
   {
    "duration": 617,
    "start_time": "2022-02-26T16:22:10.949Z"
   },
   {
    "duration": 8,
    "start_time": "2022-02-26T16:22:11.567Z"
   },
   {
    "duration": 7,
    "start_time": "2022-02-26T16:22:11.577Z"
   },
   {
    "duration": 8,
    "start_time": "2022-02-26T16:22:11.586Z"
   },
   {
    "duration": 9,
    "start_time": "2022-02-26T16:22:11.596Z"
   },
   {
    "duration": 31,
    "start_time": "2022-02-26T16:22:11.606Z"
   },
   {
    "duration": 7,
    "start_time": "2022-02-26T16:22:11.639Z"
   },
   {
    "duration": 5,
    "start_time": "2022-02-26T16:22:11.650Z"
   },
   {
    "duration": 6,
    "start_time": "2022-02-26T16:22:11.657Z"
   },
   {
    "duration": 12,
    "start_time": "2022-02-26T16:22:11.665Z"
   },
   {
    "duration": 8,
    "start_time": "2022-02-26T16:22:11.678Z"
   },
   {
    "duration": 47,
    "start_time": "2022-02-26T16:22:11.687Z"
   },
   {
    "duration": 8,
    "start_time": "2022-02-26T16:22:11.735Z"
   },
   {
    "duration": 5,
    "start_time": "2022-02-26T16:22:11.744Z"
   },
   {
    "duration": 230,
    "start_time": "2022-02-26T16:22:11.750Z"
   },
   {
    "duration": 188,
    "start_time": "2022-02-26T16:22:11.982Z"
   },
   {
    "duration": 9,
    "start_time": "2022-02-26T16:22:12.172Z"
   },
   {
    "duration": 9,
    "start_time": "2022-02-26T16:22:12.183Z"
   },
   {
    "duration": 8,
    "start_time": "2022-02-26T16:22:12.194Z"
   },
   {
    "duration": 30,
    "start_time": "2022-02-26T16:22:12.203Z"
   },
   {
    "duration": 4,
    "start_time": "2022-02-26T16:22:12.234Z"
   },
   {
    "duration": 6,
    "start_time": "2022-02-26T16:22:12.239Z"
   },
   {
    "duration": 5,
    "start_time": "2022-02-26T16:22:12.247Z"
   },
   {
    "duration": 3,
    "start_time": "2022-02-26T16:22:12.254Z"
   },
   {
    "duration": 6,
    "start_time": "2022-02-26T16:22:12.259Z"
   },
   {
    "duration": 7,
    "start_time": "2022-02-26T16:22:12.266Z"
   },
   {
    "duration": 4,
    "start_time": "2022-02-26T16:22:12.274Z"
   },
   {
    "duration": 6,
    "start_time": "2022-02-26T16:22:12.279Z"
   },
   {
    "duration": 48,
    "start_time": "2022-02-26T16:22:12.286Z"
   },
   {
    "duration": 4,
    "start_time": "2022-02-26T16:22:12.335Z"
   },
   {
    "duration": 6,
    "start_time": "2022-02-26T16:22:12.340Z"
   },
   {
    "duration": 11,
    "start_time": "2022-02-26T16:22:12.347Z"
   },
   {
    "duration": 11,
    "start_time": "2022-02-26T16:22:12.360Z"
   },
   {
    "duration": 11,
    "start_time": "2022-02-26T16:22:12.373Z"
   },
   {
    "duration": 13,
    "start_time": "2022-02-26T16:22:12.385Z"
   },
   {
    "duration": 7,
    "start_time": "2022-02-26T16:22:12.399Z"
   },
   {
    "duration": 7,
    "start_time": "2022-02-26T16:22:12.433Z"
   },
   {
    "duration": 11,
    "start_time": "2022-02-26T16:22:12.442Z"
   },
   {
    "duration": 20,
    "start_time": "2022-02-26T16:22:12.454Z"
   },
   {
    "duration": 3,
    "start_time": "2022-02-26T16:22:12.475Z"
   },
   {
    "duration": 17,
    "start_time": "2022-02-26T16:22:12.479Z"
   },
   {
    "duration": 43,
    "start_time": "2022-02-26T16:22:12.498Z"
   },
   {
    "duration": 10,
    "start_time": "2022-02-26T16:22:12.543Z"
   },
   {
    "duration": 12,
    "start_time": "2022-02-26T16:22:12.555Z"
   },
   {
    "duration": 18,
    "start_time": "2022-02-26T16:22:12.569Z"
   },
   {
    "duration": 45,
    "start_time": "2022-02-26T16:22:12.589Z"
   },
   {
    "duration": 9,
    "start_time": "2022-02-26T16:22:12.635Z"
   },
   {
    "duration": 15,
    "start_time": "2022-02-26T16:22:12.646Z"
   },
   {
    "duration": 14,
    "start_time": "2022-02-26T16:22:12.662Z"
   },
   {
    "duration": 20,
    "start_time": "2022-02-26T16:22:12.678Z"
   },
   {
    "duration": 46,
    "start_time": "2022-02-26T16:22:12.699Z"
   },
   {
    "duration": 141,
    "start_time": "2022-02-26T16:22:12.747Z"
   },
   {
    "duration": 673,
    "start_time": "2022-02-26T16:22:12.217Z"
   },
   {
    "duration": 667,
    "start_time": "2022-02-26T16:22:12.224Z"
   },
   {
    "duration": 660,
    "start_time": "2022-02-26T16:22:12.232Z"
   },
   {
    "duration": 655,
    "start_time": "2022-02-26T16:22:12.239Z"
   },
   {
    "duration": 649,
    "start_time": "2022-02-26T16:22:12.246Z"
   },
   {
    "duration": 140,
    "start_time": "2022-02-26T16:24:38.371Z"
   },
   {
    "duration": 52,
    "start_time": "2022-02-26T16:25:04.499Z"
   },
   {
    "duration": 11,
    "start_time": "2022-02-26T16:25:04.553Z"
   },
   {
    "duration": 11,
    "start_time": "2022-02-26T16:25:04.566Z"
   },
   {
    "duration": 7,
    "start_time": "2022-02-26T16:25:04.578Z"
   },
   {
    "duration": 5,
    "start_time": "2022-02-26T16:25:04.587Z"
   },
   {
    "duration": 42,
    "start_time": "2022-02-26T16:25:04.594Z"
   },
   {
    "duration": 16,
    "start_time": "2022-02-26T16:25:04.638Z"
   },
   {
    "duration": 17,
    "start_time": "2022-02-26T16:25:04.657Z"
   },
   {
    "duration": 10,
    "start_time": "2022-02-26T16:25:04.676Z"
   },
   {
    "duration": 53,
    "start_time": "2022-02-26T16:25:04.687Z"
   },
   {
    "duration": 20,
    "start_time": "2022-02-26T16:25:04.742Z"
   },
   {
    "duration": 3,
    "start_time": "2022-02-26T16:25:04.764Z"
   },
   {
    "duration": 973,
    "start_time": "2022-02-26T16:25:04.769Z"
   },
   {
    "duration": 8,
    "start_time": "2022-02-26T16:25:05.744Z"
   },
   {
    "duration": 26,
    "start_time": "2022-02-26T16:25:05.753Z"
   },
   {
    "duration": 643,
    "start_time": "2022-02-26T16:25:05.780Z"
   },
   {
    "duration": 12,
    "start_time": "2022-02-26T16:25:06.424Z"
   },
   {
    "duration": 7,
    "start_time": "2022-02-26T16:25:06.437Z"
   },
   {
    "duration": 9,
    "start_time": "2022-02-26T16:25:06.446Z"
   },
   {
    "duration": 9,
    "start_time": "2022-02-26T16:25:06.457Z"
   },
   {
    "duration": 6,
    "start_time": "2022-02-26T16:25:06.468Z"
   },
   {
    "duration": 9,
    "start_time": "2022-02-26T16:25:06.476Z"
   },
   {
    "duration": 49,
    "start_time": "2022-02-26T16:25:06.489Z"
   },
   {
    "duration": 7,
    "start_time": "2022-02-26T16:25:06.541Z"
   },
   {
    "duration": 11,
    "start_time": "2022-02-26T16:25:06.550Z"
   },
   {
    "duration": 9,
    "start_time": "2022-02-26T16:25:06.563Z"
   },
   {
    "duration": 6,
    "start_time": "2022-02-26T16:25:06.574Z"
   },
   {
    "duration": 7,
    "start_time": "2022-02-26T16:25:06.582Z"
   },
   {
    "duration": 42,
    "start_time": "2022-02-26T16:25:06.591Z"
   },
   {
    "duration": 140,
    "start_time": "2022-02-26T16:25:06.634Z"
   },
   {
    "duration": 139,
    "start_time": "2022-02-26T16:25:06.775Z"
   },
   {
    "duration": 7,
    "start_time": "2022-02-26T16:25:06.915Z"
   },
   {
    "duration": 10,
    "start_time": "2022-02-26T16:25:06.923Z"
   },
   {
    "duration": 7,
    "start_time": "2022-02-26T16:25:06.935Z"
   },
   {
    "duration": 13,
    "start_time": "2022-02-26T16:25:06.944Z"
   },
   {
    "duration": 5,
    "start_time": "2022-02-26T16:25:06.958Z"
   },
   {
    "duration": 6,
    "start_time": "2022-02-26T16:25:06.965Z"
   },
   {
    "duration": 4,
    "start_time": "2022-02-26T16:25:06.973Z"
   },
   {
    "duration": 4,
    "start_time": "2022-02-26T16:25:06.979Z"
   },
   {
    "duration": 51,
    "start_time": "2022-02-26T16:25:06.985Z"
   },
   {
    "duration": 11,
    "start_time": "2022-02-26T16:25:07.039Z"
   },
   {
    "duration": 6,
    "start_time": "2022-02-26T16:25:07.053Z"
   },
   {
    "duration": 10,
    "start_time": "2022-02-26T16:25:07.061Z"
   },
   {
    "duration": 16,
    "start_time": "2022-02-26T16:25:07.073Z"
   },
   {
    "duration": 4,
    "start_time": "2022-02-26T16:25:07.091Z"
   },
   {
    "duration": 5,
    "start_time": "2022-02-26T16:25:07.097Z"
   },
   {
    "duration": 8,
    "start_time": "2022-02-26T16:25:07.133Z"
   },
   {
    "duration": 16,
    "start_time": "2022-02-26T16:25:07.143Z"
   },
   {
    "duration": 10,
    "start_time": "2022-02-26T16:25:07.161Z"
   },
   {
    "duration": 16,
    "start_time": "2022-02-26T16:25:07.173Z"
   },
   {
    "duration": 9,
    "start_time": "2022-02-26T16:25:07.191Z"
   },
   {
    "duration": 33,
    "start_time": "2022-02-26T16:25:07.201Z"
   },
   {
    "duration": 18,
    "start_time": "2022-02-26T16:25:07.236Z"
   },
   {
    "duration": 20,
    "start_time": "2022-02-26T16:25:07.256Z"
   },
   {
    "duration": 3,
    "start_time": "2022-02-26T16:25:07.278Z"
   },
   {
    "duration": 51,
    "start_time": "2022-02-26T16:25:07.283Z"
   },
   {
    "duration": 9,
    "start_time": "2022-02-26T16:25:07.336Z"
   },
   {
    "duration": 10,
    "start_time": "2022-02-26T16:25:07.346Z"
   },
   {
    "duration": 13,
    "start_time": "2022-02-26T16:25:07.357Z"
   },
   {
    "duration": 20,
    "start_time": "2022-02-26T16:25:07.371Z"
   },
   {
    "duration": 11,
    "start_time": "2022-02-26T16:25:07.393Z"
   },
   {
    "duration": 8,
    "start_time": "2022-02-26T16:25:07.433Z"
   },
   {
    "duration": 11,
    "start_time": "2022-02-26T16:25:07.443Z"
   },
   {
    "duration": 13,
    "start_time": "2022-02-26T16:25:07.455Z"
   },
   {
    "duration": 17,
    "start_time": "2022-02-26T16:25:07.470Z"
   },
   {
    "duration": 12,
    "start_time": "2022-02-26T16:25:07.488Z"
   },
   {
    "duration": 220,
    "start_time": "2022-02-26T16:25:07.533Z"
   },
   {
    "duration": 876,
    "start_time": "2022-02-26T16:25:06.879Z"
   },
   {
    "duration": 865,
    "start_time": "2022-02-26T16:25:06.891Z"
   },
   {
    "duration": 859,
    "start_time": "2022-02-26T16:25:06.898Z"
   },
   {
    "duration": 851,
    "start_time": "2022-02-26T16:25:06.907Z"
   },
   {
    "duration": 844,
    "start_time": "2022-02-26T16:25:06.915Z"
   },
   {
    "duration": 154,
    "start_time": "2022-02-26T16:26:56.899Z"
   },
   {
    "duration": 4,
    "start_time": "2022-02-26T16:28:15.931Z"
   },
   {
    "duration": 7,
    "start_time": "2022-02-26T16:28:20.185Z"
   },
   {
    "duration": 54,
    "start_time": "2022-02-26T16:28:29.428Z"
   },
   {
    "duration": 11,
    "start_time": "2022-02-26T16:28:29.484Z"
   },
   {
    "duration": 11,
    "start_time": "2022-02-26T16:28:29.498Z"
   },
   {
    "duration": 25,
    "start_time": "2022-02-26T16:28:29.511Z"
   },
   {
    "duration": 6,
    "start_time": "2022-02-26T16:28:29.538Z"
   },
   {
    "duration": 22,
    "start_time": "2022-02-26T16:28:29.546Z"
   },
   {
    "duration": 18,
    "start_time": "2022-02-26T16:28:29.570Z"
   },
   {
    "duration": 51,
    "start_time": "2022-02-26T16:28:29.591Z"
   },
   {
    "duration": 11,
    "start_time": "2022-02-26T16:28:29.645Z"
   },
   {
    "duration": 20,
    "start_time": "2022-02-26T16:28:29.658Z"
   },
   {
    "duration": 20,
    "start_time": "2022-02-26T16:28:29.679Z"
   },
   {
    "duration": 35,
    "start_time": "2022-02-26T16:28:29.700Z"
   },
   {
    "duration": 962,
    "start_time": "2022-02-26T16:28:29.737Z"
   },
   {
    "duration": 10,
    "start_time": "2022-02-26T16:28:30.701Z"
   },
   {
    "duration": 40,
    "start_time": "2022-02-26T16:28:30.712Z"
   },
   {
    "duration": 692,
    "start_time": "2022-02-26T16:28:30.754Z"
   },
   {
    "duration": 8,
    "start_time": "2022-02-26T16:28:31.448Z"
   },
   {
    "duration": 8,
    "start_time": "2022-02-26T16:28:31.458Z"
   },
   {
    "duration": 9,
    "start_time": "2022-02-26T16:28:31.468Z"
   },
   {
    "duration": 9,
    "start_time": "2022-02-26T16:28:31.479Z"
   },
   {
    "duration": 43,
    "start_time": "2022-02-26T16:28:31.490Z"
   },
   {
    "duration": 7,
    "start_time": "2022-02-26T16:28:31.535Z"
   },
   {
    "duration": 5,
    "start_time": "2022-02-26T16:28:31.548Z"
   },
   {
    "duration": 11,
    "start_time": "2022-02-26T16:28:31.556Z"
   },
   {
    "duration": 15,
    "start_time": "2022-02-26T16:28:31.569Z"
   },
   {
    "duration": 9,
    "start_time": "2022-02-26T16:28:31.586Z"
   },
   {
    "duration": 37,
    "start_time": "2022-02-26T16:28:31.597Z"
   },
   {
    "duration": 10,
    "start_time": "2022-02-26T16:28:31.635Z"
   },
   {
    "duration": 7,
    "start_time": "2022-02-26T16:28:31.646Z"
   },
   {
    "duration": 155,
    "start_time": "2022-02-26T16:28:31.654Z"
   },
   {
    "duration": 131,
    "start_time": "2022-02-26T16:28:31.811Z"
   },
   {
    "duration": 8,
    "start_time": "2022-02-26T16:28:31.944Z"
   },
   {
    "duration": 6,
    "start_time": "2022-02-26T16:28:31.954Z"
   },
   {
    "duration": 8,
    "start_time": "2022-02-26T16:28:31.962Z"
   },
   {
    "duration": 11,
    "start_time": "2022-02-26T16:28:31.971Z"
   },
   {
    "duration": 5,
    "start_time": "2022-02-26T16:28:31.984Z"
   },
   {
    "duration": 48,
    "start_time": "2022-02-26T16:28:31.990Z"
   },
   {
    "duration": 5,
    "start_time": "2022-02-26T16:28:32.040Z"
   },
   {
    "duration": 10,
    "start_time": "2022-02-26T16:28:32.046Z"
   },
   {
    "duration": 8,
    "start_time": "2022-02-26T16:28:32.058Z"
   },
   {
    "duration": 10,
    "start_time": "2022-02-26T16:28:32.068Z"
   },
   {
    "duration": 5,
    "start_time": "2022-02-26T16:28:32.080Z"
   },
   {
    "duration": 8,
    "start_time": "2022-02-26T16:28:32.087Z"
   },
   {
    "duration": 41,
    "start_time": "2022-02-26T16:28:32.097Z"
   },
   {
    "duration": 3,
    "start_time": "2022-02-26T16:28:32.140Z"
   },
   {
    "duration": 7,
    "start_time": "2022-02-26T16:28:32.145Z"
   },
   {
    "duration": 8,
    "start_time": "2022-02-26T16:28:32.153Z"
   },
   {
    "duration": 9,
    "start_time": "2022-02-26T16:28:32.162Z"
   },
   {
    "duration": 8,
    "start_time": "2022-02-26T16:28:32.173Z"
   },
   {
    "duration": 12,
    "start_time": "2022-02-26T16:28:32.183Z"
   },
   {
    "duration": 36,
    "start_time": "2022-02-26T16:28:32.197Z"
   },
   {
    "duration": 5,
    "start_time": "2022-02-26T16:28:32.234Z"
   },
   {
    "duration": 12,
    "start_time": "2022-02-26T16:28:32.241Z"
   },
   {
    "duration": 18,
    "start_time": "2022-02-26T16:28:32.255Z"
   },
   {
    "duration": 2,
    "start_time": "2022-02-26T16:28:32.275Z"
   },
   {
    "duration": 13,
    "start_time": "2022-02-26T16:28:32.278Z"
   },
   {
    "duration": 8,
    "start_time": "2022-02-26T16:28:32.292Z"
   },
   {
    "duration": 10,
    "start_time": "2022-02-26T16:28:32.333Z"
   },
   {
    "duration": 12,
    "start_time": "2022-02-26T16:28:32.344Z"
   },
   {
    "duration": 17,
    "start_time": "2022-02-26T16:28:32.358Z"
   },
   {
    "duration": 11,
    "start_time": "2022-02-26T16:28:32.377Z"
   },
   {
    "duration": 14,
    "start_time": "2022-02-26T16:28:32.390Z"
   },
   {
    "duration": 12,
    "start_time": "2022-02-26T16:28:32.433Z"
   },
   {
    "duration": 15,
    "start_time": "2022-02-26T16:28:32.446Z"
   },
   {
    "duration": 17,
    "start_time": "2022-02-26T16:28:32.463Z"
   },
   {
    "duration": 12,
    "start_time": "2022-02-26T16:28:32.482Z"
   },
   {
    "duration": 46,
    "start_time": "2022-02-26T16:28:32.496Z"
   },
   {
    "duration": 18,
    "start_time": "2022-02-26T16:28:32.548Z"
   },
   {
    "duration": 14,
    "start_time": "2022-02-26T16:28:32.568Z"
   },
   {
    "duration": 20,
    "start_time": "2022-02-26T16:28:32.583Z"
   },
   {
    "duration": 30,
    "start_time": "2022-02-26T16:28:32.605Z"
   },
   {
    "duration": 7,
    "start_time": "2022-02-26T16:28:32.637Z"
   },
   {
    "duration": 167,
    "start_time": "2022-02-26T16:30:58.420Z"
   },
   {
    "duration": 11,
    "start_time": "2022-02-26T16:31:35.444Z"
   },
   {
    "duration": 635,
    "start_time": "2022-02-27T09:58:21.431Z"
   },
   {
    "duration": 17,
    "start_time": "2022-02-27T09:58:22.068Z"
   },
   {
    "duration": 32,
    "start_time": "2022-02-27T09:58:22.087Z"
   },
   {
    "duration": 4,
    "start_time": "2022-02-27T09:58:22.122Z"
   },
   {
    "duration": 2,
    "start_time": "2022-02-27T09:58:22.128Z"
   },
   {
    "duration": 18,
    "start_time": "2022-02-27T09:58:22.132Z"
   },
   {
    "duration": 19,
    "start_time": "2022-02-27T09:58:22.159Z"
   },
   {
    "duration": 16,
    "start_time": "2022-02-27T09:58:22.180Z"
   },
   {
    "duration": 10,
    "start_time": "2022-02-27T09:58:22.200Z"
   },
   {
    "duration": 55,
    "start_time": "2022-02-27T09:58:22.213Z"
   },
   {
    "duration": 20,
    "start_time": "2022-02-27T09:58:22.270Z"
   },
   {
    "duration": 6,
    "start_time": "2022-02-27T09:58:22.292Z"
   },
   {
    "duration": 1255,
    "start_time": "2022-02-27T09:58:22.299Z"
   },
   {
    "duration": 11,
    "start_time": "2022-02-27T09:58:23.555Z"
   },
   {
    "duration": 28,
    "start_time": "2022-02-27T09:58:23.567Z"
   },
   {
    "duration": 593,
    "start_time": "2022-02-27T09:58:23.597Z"
   },
   {
    "duration": 8,
    "start_time": "2022-02-27T09:58:24.192Z"
   },
   {
    "duration": 8,
    "start_time": "2022-02-27T09:58:24.202Z"
   },
   {
    "duration": 9,
    "start_time": "2022-02-27T09:58:24.212Z"
   },
   {
    "duration": 39,
    "start_time": "2022-02-27T09:58:24.223Z"
   },
   {
    "duration": 6,
    "start_time": "2022-02-27T09:58:24.264Z"
   },
   {
    "duration": 8,
    "start_time": "2022-02-27T09:58:24.271Z"
   },
   {
    "duration": 8,
    "start_time": "2022-02-27T09:58:24.281Z"
   },
   {
    "duration": 10,
    "start_time": "2022-02-27T09:58:24.291Z"
   },
   {
    "duration": 12,
    "start_time": "2022-02-27T09:58:24.303Z"
   },
   {
    "duration": 44,
    "start_time": "2022-02-27T09:58:24.316Z"
   },
   {
    "duration": 6,
    "start_time": "2022-02-27T09:58:24.365Z"
   },
   {
    "duration": 9,
    "start_time": "2022-02-27T09:58:24.374Z"
   },
   {
    "duration": 4,
    "start_time": "2022-02-27T09:58:24.385Z"
   },
   {
    "duration": 622,
    "start_time": "2022-02-27T09:58:24.391Z"
   },
   {
    "duration": 148,
    "start_time": "2022-02-27T09:58:25.015Z"
   },
   {
    "duration": 8,
    "start_time": "2022-02-27T09:58:25.165Z"
   },
   {
    "duration": 7,
    "start_time": "2022-02-27T09:58:25.175Z"
   },
   {
    "duration": 9,
    "start_time": "2022-02-27T09:58:25.183Z"
   },
   {
    "duration": 11,
    "start_time": "2022-02-27T09:58:25.194Z"
   },
   {
    "duration": 5,
    "start_time": "2022-02-27T09:58:25.207Z"
   },
   {
    "duration": 47,
    "start_time": "2022-02-27T09:58:25.214Z"
   },
   {
    "duration": 23,
    "start_time": "2022-02-27T09:58:25.263Z"
   },
   {
    "duration": 13,
    "start_time": "2022-02-27T09:58:25.288Z"
   },
   {
    "duration": 5,
    "start_time": "2022-02-27T09:58:25.303Z"
   },
   {
    "duration": 7,
    "start_time": "2022-02-27T09:58:25.310Z"
   },
   {
    "duration": 9,
    "start_time": "2022-02-27T09:58:25.319Z"
   },
   {
    "duration": 12,
    "start_time": "2022-02-27T09:58:25.330Z"
   },
   {
    "duration": 14,
    "start_time": "2022-02-27T09:58:25.344Z"
   },
   {
    "duration": 5,
    "start_time": "2022-02-27T09:58:25.360Z"
   },
   {
    "duration": 6,
    "start_time": "2022-02-27T09:58:25.367Z"
   },
   {
    "duration": 11,
    "start_time": "2022-02-27T09:58:25.375Z"
   },
   {
    "duration": 14,
    "start_time": "2022-02-27T09:58:25.388Z"
   },
   {
    "duration": 10,
    "start_time": "2022-02-27T09:58:25.404Z"
   },
   {
    "duration": 15,
    "start_time": "2022-02-27T09:58:25.415Z"
   },
   {
    "duration": 13,
    "start_time": "2022-02-27T09:58:25.431Z"
   },
   {
    "duration": 17,
    "start_time": "2022-02-27T09:58:25.445Z"
   },
   {
    "duration": 11,
    "start_time": "2022-02-27T09:58:25.464Z"
   },
   {
    "duration": 21,
    "start_time": "2022-02-27T09:58:25.476Z"
   },
   {
    "duration": 2,
    "start_time": "2022-02-27T09:58:25.499Z"
   },
   {
    "duration": 14,
    "start_time": "2022-02-27T09:58:25.503Z"
   },
   {
    "duration": 46,
    "start_time": "2022-02-27T09:58:25.518Z"
   },
   {
    "duration": 10,
    "start_time": "2022-02-27T09:58:25.566Z"
   },
   {
    "duration": 13,
    "start_time": "2022-02-27T09:58:25.578Z"
   },
   {
    "duration": 18,
    "start_time": "2022-02-27T09:58:25.592Z"
   },
   {
    "duration": 10,
    "start_time": "2022-02-27T09:58:25.611Z"
   },
   {
    "duration": 44,
    "start_time": "2022-02-27T09:58:25.622Z"
   },
   {
    "duration": 11,
    "start_time": "2022-02-27T09:58:25.668Z"
   },
   {
    "duration": 12,
    "start_time": "2022-02-27T09:58:25.681Z"
   },
   {
    "duration": 17,
    "start_time": "2022-02-27T09:58:25.695Z"
   },
   {
    "duration": 11,
    "start_time": "2022-02-27T09:58:25.714Z"
   },
   {
    "duration": 42,
    "start_time": "2022-02-27T09:58:25.727Z"
   },
   {
    "duration": 19,
    "start_time": "2022-02-27T09:58:25.771Z"
   },
   {
    "duration": 12,
    "start_time": "2022-02-27T09:58:25.792Z"
   },
   {
    "duration": 19,
    "start_time": "2022-02-27T09:58:25.805Z"
   },
   {
    "duration": 3,
    "start_time": "2022-02-27T09:58:25.825Z"
   },
   {
    "duration": 4,
    "start_time": "2022-02-27T09:58:25.859Z"
   },
   {
    "duration": 15,
    "start_time": "2022-02-27T10:14:19.959Z"
   },
   {
    "duration": 49,
    "start_time": "2022-02-27T10:14:35.784Z"
   },
   {
    "duration": 11,
    "start_time": "2022-02-27T10:14:35.835Z"
   },
   {
    "duration": 10,
    "start_time": "2022-02-27T10:14:35.848Z"
   },
   {
    "duration": 3,
    "start_time": "2022-02-27T10:14:35.860Z"
   },
   {
    "duration": 3,
    "start_time": "2022-02-27T10:14:35.865Z"
   },
   {
    "duration": 16,
    "start_time": "2022-02-27T10:14:35.869Z"
   },
   {
    "duration": 15,
    "start_time": "2022-02-27T10:14:35.886Z"
   },
   {
    "duration": 14,
    "start_time": "2022-02-27T10:14:35.903Z"
   },
   {
    "duration": 44,
    "start_time": "2022-02-27T10:14:35.919Z"
   },
   {
    "duration": 19,
    "start_time": "2022-02-27T10:14:35.965Z"
   },
   {
    "duration": 18,
    "start_time": "2022-02-27T10:14:35.986Z"
   },
   {
    "duration": 4,
    "start_time": "2022-02-27T10:14:36.005Z"
   },
   {
    "duration": 1094,
    "start_time": "2022-02-27T10:14:36.010Z"
   },
   {
    "duration": 8,
    "start_time": "2022-02-27T10:14:37.106Z"
   },
   {
    "duration": 44,
    "start_time": "2022-02-27T10:14:37.115Z"
   },
   {
    "duration": 646,
    "start_time": "2022-02-27T10:14:37.160Z"
   },
   {
    "duration": 8,
    "start_time": "2022-02-27T10:14:37.807Z"
   },
   {
    "duration": 6,
    "start_time": "2022-02-27T10:14:37.816Z"
   },
   {
    "duration": 9,
    "start_time": "2022-02-27T10:14:37.825Z"
   },
   {
    "duration": 30,
    "start_time": "2022-02-27T10:14:37.837Z"
   },
   {
    "duration": 7,
    "start_time": "2022-02-27T10:14:37.869Z"
   },
   {
    "duration": 8,
    "start_time": "2022-02-27T10:14:37.877Z"
   },
   {
    "duration": 6,
    "start_time": "2022-02-27T10:14:37.887Z"
   },
   {
    "duration": 7,
    "start_time": "2022-02-27T10:14:37.895Z"
   },
   {
    "duration": 13,
    "start_time": "2022-02-27T10:14:37.904Z"
   },
   {
    "duration": 8,
    "start_time": "2022-02-27T10:14:37.959Z"
   },
   {
    "duration": 6,
    "start_time": "2022-02-27T10:14:37.969Z"
   },
   {
    "duration": 9,
    "start_time": "2022-02-27T10:14:37.976Z"
   },
   {
    "duration": 6,
    "start_time": "2022-02-27T10:14:37.986Z"
   },
   {
    "duration": 175,
    "start_time": "2022-02-27T10:14:37.994Z"
   },
   {
    "duration": 142,
    "start_time": "2022-02-27T10:14:38.171Z"
   },
   {
    "duration": 7,
    "start_time": "2022-02-27T10:14:38.315Z"
   },
   {
    "duration": 7,
    "start_time": "2022-02-27T10:14:38.323Z"
   },
   {
    "duration": 8,
    "start_time": "2022-02-27T10:14:38.331Z"
   },
   {
    "duration": 26,
    "start_time": "2022-02-27T10:14:38.341Z"
   },
   {
    "duration": 4,
    "start_time": "2022-02-27T10:14:38.369Z"
   },
   {
    "duration": 7,
    "start_time": "2022-02-27T10:14:38.374Z"
   },
   {
    "duration": 5,
    "start_time": "2022-02-27T10:14:38.382Z"
   },
   {
    "duration": 6,
    "start_time": "2022-02-27T10:14:38.388Z"
   },
   {
    "duration": 9,
    "start_time": "2022-02-27T10:14:38.396Z"
   },
   {
    "duration": 7,
    "start_time": "2022-02-27T10:14:38.407Z"
   },
   {
    "duration": 6,
    "start_time": "2022-02-27T10:14:38.415Z"
   },
   {
    "duration": 37,
    "start_time": "2022-02-27T10:14:38.422Z"
   },
   {
    "duration": 11,
    "start_time": "2022-02-27T10:14:38.461Z"
   },
   {
    "duration": 3,
    "start_time": "2022-02-27T10:14:38.473Z"
   },
   {
    "duration": 5,
    "start_time": "2022-02-27T10:14:38.478Z"
   },
   {
    "duration": 7,
    "start_time": "2022-02-27T10:14:38.485Z"
   },
   {
    "duration": 9,
    "start_time": "2022-02-27T10:14:38.494Z"
   },
   {
    "duration": 6,
    "start_time": "2022-02-27T10:14:38.505Z"
   },
   {
    "duration": 10,
    "start_time": "2022-02-27T10:14:38.513Z"
   },
   {
    "duration": 8,
    "start_time": "2022-02-27T10:14:38.562Z"
   },
   {
    "duration": 7,
    "start_time": "2022-02-27T10:14:38.571Z"
   },
   {
    "duration": 11,
    "start_time": "2022-02-27T10:14:38.579Z"
   },
   {
    "duration": 21,
    "start_time": "2022-02-27T10:14:38.592Z"
   },
   {
    "duration": 3,
    "start_time": "2022-02-27T10:14:38.614Z"
   },
   {
    "duration": 47,
    "start_time": "2022-02-27T10:14:38.619Z"
   },
   {
    "duration": 12,
    "start_time": "2022-02-27T10:14:38.668Z"
   },
   {
    "duration": 11,
    "start_time": "2022-02-27T10:14:38.681Z"
   },
   {
    "duration": 15,
    "start_time": "2022-02-27T10:14:38.694Z"
   },
   {
    "duration": 17,
    "start_time": "2022-02-27T10:14:38.711Z"
   },
   {
    "duration": 36,
    "start_time": "2022-02-27T10:14:38.730Z"
   },
   {
    "duration": 10,
    "start_time": "2022-02-27T10:14:38.767Z"
   },
   {
    "duration": 11,
    "start_time": "2022-02-27T10:14:38.779Z"
   },
   {
    "duration": 12,
    "start_time": "2022-02-27T10:14:38.791Z"
   },
   {
    "duration": 17,
    "start_time": "2022-02-27T10:14:38.804Z"
   },
   {
    "duration": 44,
    "start_time": "2022-02-27T10:14:38.822Z"
   },
   {
    "duration": 18,
    "start_time": "2022-02-27T10:14:38.868Z"
   },
   {
    "duration": 21,
    "start_time": "2022-02-27T10:14:38.888Z"
   },
   {
    "duration": 12,
    "start_time": "2022-02-27T10:14:38.911Z"
   },
   {
    "duration": 48,
    "start_time": "2022-02-27T10:14:38.924Z"
   },
   {
    "duration": 4,
    "start_time": "2022-02-27T10:14:38.974Z"
   },
   {
    "duration": 4,
    "start_time": "2022-02-27T10:14:38.980Z"
   },
   {
    "duration": 12,
    "start_time": "2022-02-27T10:18:36.383Z"
   },
   {
    "duration": 22,
    "start_time": "2022-02-27T10:20:06.700Z"
   },
   {
    "duration": 22,
    "start_time": "2022-02-27T10:20:19.503Z"
   },
   {
    "duration": 18,
    "start_time": "2022-02-27T10:20:52.064Z"
   },
   {
    "duration": 63,
    "start_time": "2022-02-27T10:32:21.217Z"
   },
   {
    "duration": 11,
    "start_time": "2022-02-27T10:32:21.282Z"
   },
   {
    "duration": 14,
    "start_time": "2022-02-27T10:32:21.295Z"
   },
   {
    "duration": 3,
    "start_time": "2022-02-27T10:32:21.311Z"
   },
   {
    "duration": 6,
    "start_time": "2022-02-27T10:32:21.315Z"
   },
   {
    "duration": 17,
    "start_time": "2022-02-27T10:32:21.322Z"
   },
   {
    "duration": 40,
    "start_time": "2022-02-27T10:32:21.340Z"
   },
   {
    "duration": 17,
    "start_time": "2022-02-27T10:32:21.382Z"
   },
   {
    "duration": 11,
    "start_time": "2022-02-27T10:32:21.401Z"
   },
   {
    "duration": 56,
    "start_time": "2022-02-27T10:32:21.414Z"
   },
   {
    "duration": 22,
    "start_time": "2022-02-27T10:32:21.472Z"
   },
   {
    "duration": 4,
    "start_time": "2022-02-27T10:32:21.496Z"
   },
   {
    "duration": 1190,
    "start_time": "2022-02-27T10:32:21.501Z"
   },
   {
    "duration": 9,
    "start_time": "2022-02-27T10:32:22.693Z"
   },
   {
    "duration": 32,
    "start_time": "2022-02-27T10:32:22.704Z"
   },
   {
    "duration": 727,
    "start_time": "2022-02-27T10:32:22.738Z"
   },
   {
    "duration": 10,
    "start_time": "2022-02-27T10:32:23.467Z"
   },
   {
    "duration": 8,
    "start_time": "2022-02-27T10:32:23.478Z"
   },
   {
    "duration": 8,
    "start_time": "2022-02-27T10:32:23.487Z"
   },
   {
    "duration": 7,
    "start_time": "2022-02-27T10:32:23.497Z"
   },
   {
    "duration": 6,
    "start_time": "2022-02-27T10:32:23.506Z"
   },
   {
    "duration": 8,
    "start_time": "2022-02-27T10:32:23.513Z"
   },
   {
    "duration": 9,
    "start_time": "2022-02-27T10:32:23.559Z"
   },
   {
    "duration": 8,
    "start_time": "2022-02-27T10:32:23.571Z"
   },
   {
    "duration": 12,
    "start_time": "2022-02-27T10:32:23.581Z"
   },
   {
    "duration": 8,
    "start_time": "2022-02-27T10:32:23.595Z"
   },
   {
    "duration": 7,
    "start_time": "2022-02-27T10:32:23.605Z"
   },
   {
    "duration": 9,
    "start_time": "2022-02-27T10:32:23.614Z"
   },
   {
    "duration": 45,
    "start_time": "2022-02-27T10:32:23.625Z"
   },
   {
    "duration": 167,
    "start_time": "2022-02-27T10:32:23.672Z"
   },
   {
    "duration": 158,
    "start_time": "2022-02-27T10:32:23.840Z"
   },
   {
    "duration": 8,
    "start_time": "2022-02-27T10:32:24.000Z"
   },
   {
    "duration": 7,
    "start_time": "2022-02-27T10:32:24.010Z"
   },
   {
    "duration": 9,
    "start_time": "2022-02-27T10:32:24.019Z"
   },
   {
    "duration": 43,
    "start_time": "2022-02-27T10:32:24.030Z"
   },
   {
    "duration": 11,
    "start_time": "2022-02-27T10:32:24.075Z"
   },
   {
    "duration": 7,
    "start_time": "2022-02-27T10:32:24.088Z"
   },
   {
    "duration": 5,
    "start_time": "2022-02-27T10:32:24.097Z"
   },
   {
    "duration": 9,
    "start_time": "2022-02-27T10:32:24.103Z"
   },
   {
    "duration": 19,
    "start_time": "2022-02-27T10:32:24.113Z"
   },
   {
    "duration": 14,
    "start_time": "2022-02-27T10:32:24.134Z"
   },
   {
    "duration": 13,
    "start_time": "2022-02-27T10:32:24.149Z"
   },
   {
    "duration": 16,
    "start_time": "2022-02-27T10:32:24.165Z"
   },
   {
    "duration": 12,
    "start_time": "2022-02-27T10:32:24.183Z"
   },
   {
    "duration": 4,
    "start_time": "2022-02-27T10:32:24.196Z"
   },
   {
    "duration": 6,
    "start_time": "2022-02-27T10:32:24.201Z"
   },
   {
    "duration": 9,
    "start_time": "2022-02-27T10:32:24.208Z"
   },
   {
    "duration": 19,
    "start_time": "2022-02-27T10:32:24.219Z"
   },
   {
    "duration": 28,
    "start_time": "2022-02-27T10:32:24.239Z"
   },
   {
    "duration": 13,
    "start_time": "2022-02-27T10:32:24.268Z"
   },
   {
    "duration": 8,
    "start_time": "2022-02-27T10:32:24.283Z"
   },
   {
    "duration": 8,
    "start_time": "2022-02-27T10:32:24.293Z"
   },
   {
    "duration": 11,
    "start_time": "2022-02-27T10:32:24.303Z"
   },
   {
    "duration": 18,
    "start_time": "2022-02-27T10:33:36.981Z"
   },
   {
    "duration": 16,
    "start_time": "2022-02-27T10:34:45.920Z"
   },
   {
    "duration": 6785,
    "start_time": "2022-02-27T10:36:46.936Z"
   },
   {
    "duration": 254,
    "start_time": "2022-02-27T10:39:29.261Z"
   },
   {
    "duration": 49,
    "start_time": "2022-02-27T10:39:36.469Z"
   },
   {
    "duration": 11,
    "start_time": "2022-02-27T10:39:36.520Z"
   },
   {
    "duration": 9,
    "start_time": "2022-02-27T10:39:36.533Z"
   },
   {
    "duration": 3,
    "start_time": "2022-02-27T10:39:36.544Z"
   },
   {
    "duration": 15,
    "start_time": "2022-02-27T10:39:36.548Z"
   },
   {
    "duration": 20,
    "start_time": "2022-02-27T10:39:36.565Z"
   },
   {
    "duration": 18,
    "start_time": "2022-02-27T10:39:36.586Z"
   },
   {
    "duration": 17,
    "start_time": "2022-02-27T10:39:36.606Z"
   },
   {
    "duration": 54,
    "start_time": "2022-02-27T10:39:36.625Z"
   },
   {
    "duration": 19,
    "start_time": "2022-02-27T10:39:36.681Z"
   },
   {
    "duration": 20,
    "start_time": "2022-02-27T10:39:36.702Z"
   },
   {
    "duration": 3,
    "start_time": "2022-02-27T10:39:36.723Z"
   },
   {
    "duration": 1150,
    "start_time": "2022-02-27T10:39:36.727Z"
   },
   {
    "duration": 10,
    "start_time": "2022-02-27T10:39:37.879Z"
   },
   {
    "duration": 28,
    "start_time": "2022-02-27T10:39:37.890Z"
   },
   {
    "duration": 720,
    "start_time": "2022-02-27T10:39:37.920Z"
   },
   {
    "duration": 7,
    "start_time": "2022-02-27T10:39:38.642Z"
   },
   {
    "duration": 13,
    "start_time": "2022-02-27T10:39:38.651Z"
   },
   {
    "duration": 12,
    "start_time": "2022-02-27T10:39:38.666Z"
   },
   {
    "duration": 7,
    "start_time": "2022-02-27T10:39:38.680Z"
   },
   {
    "duration": 5,
    "start_time": "2022-02-27T10:39:38.689Z"
   },
   {
    "duration": 10,
    "start_time": "2022-02-27T10:39:38.695Z"
   },
   {
    "duration": 7,
    "start_time": "2022-02-27T10:39:38.708Z"
   },
   {
    "duration": 50,
    "start_time": "2022-02-27T10:39:38.718Z"
   },
   {
    "duration": 13,
    "start_time": "2022-02-27T10:39:38.770Z"
   },
   {
    "duration": 12,
    "start_time": "2022-02-27T10:39:38.784Z"
   },
   {
    "duration": 7,
    "start_time": "2022-02-27T10:39:38.797Z"
   },
   {
    "duration": 8,
    "start_time": "2022-02-27T10:39:38.806Z"
   },
   {
    "duration": 5,
    "start_time": "2022-02-27T10:39:38.816Z"
   },
   {
    "duration": 181,
    "start_time": "2022-02-27T10:39:38.823Z"
   },
   {
    "duration": 165,
    "start_time": "2022-02-27T10:39:39.006Z"
   },
   {
    "duration": 7,
    "start_time": "2022-02-27T10:39:39.173Z"
   },
   {
    "duration": 6,
    "start_time": "2022-02-27T10:39:39.182Z"
   },
   {
    "duration": 7,
    "start_time": "2022-02-27T10:39:39.190Z"
   },
   {
    "duration": 12,
    "start_time": "2022-02-27T10:39:39.198Z"
   },
   {
    "duration": 4,
    "start_time": "2022-02-27T10:39:39.212Z"
   },
   {
    "duration": 6,
    "start_time": "2022-02-27T10:39:39.217Z"
   },
   {
    "duration": 5,
    "start_time": "2022-02-27T10:39:39.224Z"
   },
   {
    "duration": 43,
    "start_time": "2022-02-27T10:39:39.230Z"
   },
   {
    "duration": 13,
    "start_time": "2022-02-27T10:39:39.274Z"
   },
   {
    "duration": 10,
    "start_time": "2022-02-27T10:39:39.288Z"
   },
   {
    "duration": 5,
    "start_time": "2022-02-27T10:39:39.299Z"
   },
   {
    "duration": 8,
    "start_time": "2022-02-27T10:39:39.305Z"
   },
   {
    "duration": 13,
    "start_time": "2022-02-27T10:39:39.315Z"
   },
   {
    "duration": 3,
    "start_time": "2022-02-27T10:39:39.329Z"
   },
   {
    "duration": 7,
    "start_time": "2022-02-27T10:39:39.334Z"
   },
   {
    "duration": 9,
    "start_time": "2022-02-27T10:39:39.342Z"
   },
   {
    "duration": 15,
    "start_time": "2022-02-27T10:39:39.358Z"
   },
   {
    "duration": 9,
    "start_time": "2022-02-27T10:39:39.375Z"
   },
   {
    "duration": 11,
    "start_time": "2022-02-27T10:39:39.385Z"
   },
   {
    "duration": 10,
    "start_time": "2022-02-27T10:39:39.397Z"
   },
   {
    "duration": 5,
    "start_time": "2022-02-27T10:39:39.409Z"
   },
   {
    "duration": 11,
    "start_time": "2022-02-27T10:39:39.416Z"
   },
   {
    "duration": 49,
    "start_time": "2022-02-27T10:39:39.428Z"
   },
   {
    "duration": 2,
    "start_time": "2022-02-27T10:39:39.479Z"
   },
   {
    "duration": 14,
    "start_time": "2022-02-27T10:39:39.483Z"
   },
   {
    "duration": 11,
    "start_time": "2022-02-27T10:39:39.499Z"
   },
   {
    "duration": 8,
    "start_time": "2022-02-27T10:39:39.512Z"
   },
   {
    "duration": 43,
    "start_time": "2022-02-27T10:39:39.521Z"
   },
   {
    "duration": 17,
    "start_time": "2022-02-27T10:39:39.571Z"
   },
   {
    "duration": 10,
    "start_time": "2022-02-27T10:39:39.589Z"
   },
   {
    "duration": 9,
    "start_time": "2022-02-27T10:39:39.601Z"
   },
   {
    "duration": 11,
    "start_time": "2022-02-27T10:39:39.612Z"
   },
   {
    "duration": 33,
    "start_time": "2022-02-27T10:39:39.625Z"
   },
   {
    "duration": 23,
    "start_time": "2022-02-27T10:39:39.659Z"
   },
   {
    "duration": 13,
    "start_time": "2022-02-27T10:39:39.684Z"
   },
   {
    "duration": 13,
    "start_time": "2022-02-27T10:39:39.702Z"
   },
   {
    "duration": 51,
    "start_time": "2022-02-27T10:39:39.717Z"
   },
   {
    "duration": 14,
    "start_time": "2022-02-27T10:39:39.770Z"
   },
   {
    "duration": 18,
    "start_time": "2022-02-27T10:39:39.785Z"
   },
   {
    "duration": 3,
    "start_time": "2022-02-27T10:39:39.805Z"
   },
   {
    "duration": 5,
    "start_time": "2022-02-27T10:39:39.809Z"
   },
   {
    "duration": 16,
    "start_time": "2022-02-27T10:41:00.498Z"
   },
   {
    "duration": 58,
    "start_time": "2022-02-27T10:41:12.241Z"
   },
   {
    "duration": 12,
    "start_time": "2022-02-27T10:41:12.301Z"
   },
   {
    "duration": 12,
    "start_time": "2022-02-27T10:41:12.315Z"
   },
   {
    "duration": 4,
    "start_time": "2022-02-27T10:41:12.328Z"
   },
   {
    "duration": 3,
    "start_time": "2022-02-27T10:41:12.333Z"
   },
   {
    "duration": 40,
    "start_time": "2022-02-27T10:41:12.338Z"
   },
   {
    "duration": 47,
    "start_time": "2022-02-27T10:41:12.380Z"
   },
   {
    "duration": 16,
    "start_time": "2022-02-27T10:41:12.430Z"
   },
   {
    "duration": 25,
    "start_time": "2022-02-27T10:41:12.448Z"
   },
   {
    "duration": 25,
    "start_time": "2022-02-27T10:41:12.475Z"
   },
   {
    "duration": 24,
    "start_time": "2022-02-27T10:41:12.501Z"
   },
   {
    "duration": 3,
    "start_time": "2022-02-27T10:41:12.527Z"
   },
   {
    "duration": 1147,
    "start_time": "2022-02-27T10:41:12.532Z"
   },
   {
    "duration": 9,
    "start_time": "2022-02-27T10:41:13.680Z"
   },
   {
    "duration": 27,
    "start_time": "2022-02-27T10:41:13.691Z"
   },
   {
    "duration": 746,
    "start_time": "2022-02-27T10:41:13.720Z"
   },
   {
    "duration": 9,
    "start_time": "2022-02-27T10:41:14.468Z"
   },
   {
    "duration": 7,
    "start_time": "2022-02-27T10:41:14.479Z"
   },
   {
    "duration": 9,
    "start_time": "2022-02-27T10:41:14.487Z"
   },
   {
    "duration": 7,
    "start_time": "2022-02-27T10:41:14.498Z"
   },
   {
    "duration": 4,
    "start_time": "2022-02-27T10:41:14.507Z"
   },
   {
    "duration": 8,
    "start_time": "2022-02-27T10:41:14.513Z"
   },
   {
    "duration": 42,
    "start_time": "2022-02-27T10:41:14.524Z"
   },
   {
    "duration": 9,
    "start_time": "2022-02-27T10:41:14.569Z"
   },
   {
    "duration": 13,
    "start_time": "2022-02-27T10:41:14.579Z"
   },
   {
    "duration": 9,
    "start_time": "2022-02-27T10:41:14.593Z"
   },
   {
    "duration": 5,
    "start_time": "2022-02-27T10:41:14.604Z"
   },
   {
    "duration": 8,
    "start_time": "2022-02-27T10:41:14.610Z"
   },
   {
    "duration": 5,
    "start_time": "2022-02-27T10:41:14.619Z"
   },
   {
    "duration": 187,
    "start_time": "2022-02-27T10:41:14.625Z"
   },
   {
    "duration": 152,
    "start_time": "2022-02-27T10:41:14.814Z"
   },
   {
    "duration": 9,
    "start_time": "2022-02-27T10:41:14.968Z"
   },
   {
    "duration": 6,
    "start_time": "2022-02-27T10:41:14.979Z"
   },
   {
    "duration": 7,
    "start_time": "2022-02-27T10:41:14.986Z"
   },
   {
    "duration": 10,
    "start_time": "2022-02-27T10:41:14.995Z"
   },
   {
    "duration": 4,
    "start_time": "2022-02-27T10:41:15.007Z"
   },
   {
    "duration": 8,
    "start_time": "2022-02-27T10:41:15.013Z"
   },
   {
    "duration": 7,
    "start_time": "2022-02-27T10:41:15.023Z"
   },
   {
    "duration": 6,
    "start_time": "2022-02-27T10:41:15.059Z"
   },
   {
    "duration": 18,
    "start_time": "2022-02-27T10:41:15.066Z"
   },
   {
    "duration": 9,
    "start_time": "2022-02-27T10:41:15.085Z"
   },
   {
    "duration": 5,
    "start_time": "2022-02-27T10:41:15.096Z"
   },
   {
    "duration": 6,
    "start_time": "2022-02-27T10:41:15.103Z"
   },
   {
    "duration": 11,
    "start_time": "2022-02-27T10:41:15.110Z"
   },
   {
    "duration": 40,
    "start_time": "2022-02-27T10:41:15.123Z"
   },
   {
    "duration": 5,
    "start_time": "2022-02-27T10:41:15.165Z"
   },
   {
    "duration": 7,
    "start_time": "2022-02-27T10:41:15.172Z"
   },
   {
    "duration": 9,
    "start_time": "2022-02-27T10:41:15.181Z"
   },
   {
    "duration": 9,
    "start_time": "2022-02-27T10:41:15.192Z"
   },
   {
    "duration": 14,
    "start_time": "2022-02-27T10:41:15.203Z"
   },
   {
    "duration": 8,
    "start_time": "2022-02-27T10:41:15.219Z"
   },
   {
    "duration": 38,
    "start_time": "2022-02-27T10:41:15.228Z"
   },
   {
    "duration": 12,
    "start_time": "2022-02-27T10:41:15.268Z"
   },
   {
    "duration": 20,
    "start_time": "2022-02-27T10:41:15.282Z"
   },
   {
    "duration": 3,
    "start_time": "2022-02-27T10:41:15.304Z"
   },
   {
    "duration": 19,
    "start_time": "2022-02-27T10:41:15.308Z"
   },
   {
    "duration": 40,
    "start_time": "2022-02-27T10:41:15.330Z"
   },
   {
    "duration": 10,
    "start_time": "2022-02-27T10:41:15.372Z"
   },
   {
    "duration": 6490,
    "start_time": "2022-02-27T10:41:15.384Z"
   },
   {
    "duration": 50,
    "start_time": "2022-02-27T10:41:33.306Z"
   },
   {
    "duration": 11,
    "start_time": "2022-02-27T10:41:33.357Z"
   },
   {
    "duration": 9,
    "start_time": "2022-02-27T10:41:33.371Z"
   },
   {
    "duration": 3,
    "start_time": "2022-02-27T10:41:33.386Z"
   },
   {
    "duration": 5,
    "start_time": "2022-02-27T10:41:33.391Z"
   },
   {
    "duration": 14,
    "start_time": "2022-02-27T10:41:33.407Z"
   },
   {
    "duration": 15,
    "start_time": "2022-02-27T10:41:33.423Z"
   },
   {
    "duration": 31,
    "start_time": "2022-02-27T10:41:33.440Z"
   },
   {
    "duration": 9,
    "start_time": "2022-02-27T10:41:33.473Z"
   },
   {
    "duration": 25,
    "start_time": "2022-02-27T10:41:33.484Z"
   },
   {
    "duration": 48,
    "start_time": "2022-02-27T10:41:33.512Z"
   },
   {
    "duration": 4,
    "start_time": "2022-02-27T10:41:33.562Z"
   },
   {
    "duration": 1076,
    "start_time": "2022-02-27T10:41:33.568Z"
   },
   {
    "duration": 17,
    "start_time": "2022-02-27T10:41:34.646Z"
   },
   {
    "duration": 28,
    "start_time": "2022-02-27T10:41:34.665Z"
   },
   {
    "duration": 556,
    "start_time": "2022-02-27T10:41:34.695Z"
   },
   {
    "duration": 8,
    "start_time": "2022-02-27T10:41:35.253Z"
   },
   {
    "duration": 6,
    "start_time": "2022-02-27T10:41:35.263Z"
   },
   {
    "duration": 8,
    "start_time": "2022-02-27T10:41:35.271Z"
   },
   {
    "duration": 7,
    "start_time": "2022-02-27T10:41:35.280Z"
   },
   {
    "duration": 4,
    "start_time": "2022-02-27T10:41:35.289Z"
   },
   {
    "duration": 6,
    "start_time": "2022-02-27T10:41:35.296Z"
   },
   {
    "duration": 6,
    "start_time": "2022-02-27T10:41:35.304Z"
   },
   {
    "duration": 52,
    "start_time": "2022-02-27T10:41:35.312Z"
   },
   {
    "duration": 16,
    "start_time": "2022-02-27T10:41:35.365Z"
   },
   {
    "duration": 9,
    "start_time": "2022-02-27T10:41:35.383Z"
   },
   {
    "duration": 17,
    "start_time": "2022-02-27T10:41:35.394Z"
   },
   {
    "duration": 8,
    "start_time": "2022-02-27T10:41:35.412Z"
   },
   {
    "duration": 5,
    "start_time": "2022-02-27T10:41:35.422Z"
   },
   {
    "duration": 185,
    "start_time": "2022-02-27T10:41:35.428Z"
   },
   {
    "duration": 139,
    "start_time": "2022-02-27T10:41:35.615Z"
   },
   {
    "duration": 7,
    "start_time": "2022-02-27T10:41:35.756Z"
   },
   {
    "duration": 6,
    "start_time": "2022-02-27T10:41:35.764Z"
   },
   {
    "duration": 8,
    "start_time": "2022-02-27T10:41:35.771Z"
   },
   {
    "duration": 12,
    "start_time": "2022-02-27T10:41:35.780Z"
   },
   {
    "duration": 4,
    "start_time": "2022-02-27T10:41:35.793Z"
   },
   {
    "duration": 6,
    "start_time": "2022-02-27T10:41:35.799Z"
   },
   {
    "duration": 5,
    "start_time": "2022-02-27T10:41:35.806Z"
   },
   {
    "duration": 46,
    "start_time": "2022-02-27T10:41:35.813Z"
   },
   {
    "duration": 5,
    "start_time": "2022-02-27T10:41:35.861Z"
   },
   {
    "duration": 7,
    "start_time": "2022-02-27T10:41:35.868Z"
   },
   {
    "duration": 4,
    "start_time": "2022-02-27T10:41:35.877Z"
   },
   {
    "duration": 5,
    "start_time": "2022-02-27T10:41:35.882Z"
   },
   {
    "duration": 11,
    "start_time": "2022-02-27T10:41:35.889Z"
   },
   {
    "duration": 3,
    "start_time": "2022-02-27T10:41:35.902Z"
   },
   {
    "duration": 3,
    "start_time": "2022-02-27T10:41:35.909Z"
   },
   {
    "duration": 7,
    "start_time": "2022-02-27T10:41:35.914Z"
   },
   {
    "duration": 43,
    "start_time": "2022-02-27T10:41:35.923Z"
   },
   {
    "duration": 10,
    "start_time": "2022-02-27T10:41:35.968Z"
   },
   {
    "duration": 15,
    "start_time": "2022-02-27T10:41:35.979Z"
   },
   {
    "duration": 8,
    "start_time": "2022-02-27T10:41:35.996Z"
   },
   {
    "duration": 6,
    "start_time": "2022-02-27T10:41:36.006Z"
   },
   {
    "duration": 13,
    "start_time": "2022-02-27T10:41:36.014Z"
   },
   {
    "duration": 42,
    "start_time": "2022-02-27T10:41:36.029Z"
   },
   {
    "duration": 2,
    "start_time": "2022-02-27T10:41:36.073Z"
   },
   {
    "duration": 18,
    "start_time": "2022-02-27T10:41:36.077Z"
   },
   {
    "duration": 9,
    "start_time": "2022-02-27T10:41:36.096Z"
   },
   {
    "duration": 12,
    "start_time": "2022-02-27T10:41:36.107Z"
   },
   {
    "duration": 5847,
    "start_time": "2022-02-27T10:41:36.120Z"
   },
   {
    "duration": 1569,
    "start_time": "2022-02-27T10:41:40.400Z"
   },
   {
    "duration": 1562,
    "start_time": "2022-02-27T10:41:40.409Z"
   },
   {
    "duration": 1556,
    "start_time": "2022-02-27T10:41:40.416Z"
   },
   {
    "duration": 1550,
    "start_time": "2022-02-27T10:41:40.424Z"
   },
   {
    "duration": 1544,
    "start_time": "2022-02-27T10:41:40.431Z"
   },
   {
    "duration": 1537,
    "start_time": "2022-02-27T10:41:40.439Z"
   },
   {
    "duration": 1531,
    "start_time": "2022-02-27T10:41:40.446Z"
   },
   {
    "duration": 1510,
    "start_time": "2022-02-27T10:41:40.469Z"
   },
   {
    "duration": 1503,
    "start_time": "2022-02-27T10:41:40.477Z"
   },
   {
    "duration": 1497,
    "start_time": "2022-02-27T10:41:40.484Z"
   },
   {
    "duration": 1491,
    "start_time": "2022-02-27T10:41:40.492Z"
   },
   {
    "duration": 1484,
    "start_time": "2022-02-27T10:41:40.500Z"
   },
   {
    "duration": 1478,
    "start_time": "2022-02-27T10:41:40.507Z"
   },
   {
    "duration": 75,
    "start_time": "2022-02-27T10:43:18.856Z"
   },
   {
    "duration": 51,
    "start_time": "2022-02-27T10:43:49.116Z"
   },
   {
    "duration": 11,
    "start_time": "2022-02-27T10:43:49.168Z"
   },
   {
    "duration": 10,
    "start_time": "2022-02-27T10:43:49.180Z"
   },
   {
    "duration": 3,
    "start_time": "2022-02-27T10:43:49.192Z"
   },
   {
    "duration": 3,
    "start_time": "2022-02-27T10:43:49.197Z"
   },
   {
    "duration": 15,
    "start_time": "2022-02-27T10:43:49.201Z"
   },
   {
    "duration": 47,
    "start_time": "2022-02-27T10:43:49.217Z"
   },
   {
    "duration": 14,
    "start_time": "2022-02-27T10:43:49.266Z"
   },
   {
    "duration": 9,
    "start_time": "2022-02-27T10:43:49.282Z"
   },
   {
    "duration": 18,
    "start_time": "2022-02-27T10:43:49.292Z"
   },
   {
    "duration": 52,
    "start_time": "2022-02-27T10:43:49.311Z"
   },
   {
    "duration": 4,
    "start_time": "2022-02-27T10:43:49.364Z"
   },
   {
    "duration": 1271,
    "start_time": "2022-02-27T10:43:49.369Z"
   },
   {
    "duration": 18,
    "start_time": "2022-02-27T10:43:50.642Z"
   },
   {
    "duration": 29,
    "start_time": "2022-02-27T10:43:50.661Z"
   },
   {
    "duration": 548,
    "start_time": "2022-02-27T10:43:50.691Z"
   },
   {
    "duration": 7,
    "start_time": "2022-02-27T10:43:51.240Z"
   },
   {
    "duration": 12,
    "start_time": "2022-02-27T10:43:51.249Z"
   },
   {
    "duration": 9,
    "start_time": "2022-02-27T10:43:51.262Z"
   },
   {
    "duration": 8,
    "start_time": "2022-02-27T10:43:51.273Z"
   },
   {
    "duration": 8,
    "start_time": "2022-02-27T10:43:51.282Z"
   },
   {
    "duration": 6,
    "start_time": "2022-02-27T10:43:51.292Z"
   },
   {
    "duration": 6,
    "start_time": "2022-02-27T10:43:51.302Z"
   },
   {
    "duration": 9,
    "start_time": "2022-02-27T10:43:51.310Z"
   },
   {
    "duration": 40,
    "start_time": "2022-02-27T10:43:51.320Z"
   },
   {
    "duration": 9,
    "start_time": "2022-02-27T10:43:51.362Z"
   },
   {
    "duration": 7,
    "start_time": "2022-02-27T10:43:51.372Z"
   },
   {
    "duration": 8,
    "start_time": "2022-02-27T10:43:51.381Z"
   },
   {
    "duration": 7,
    "start_time": "2022-02-27T10:43:51.391Z"
   },
   {
    "duration": 188,
    "start_time": "2022-02-27T10:43:51.399Z"
   },
   {
    "duration": 150,
    "start_time": "2022-02-27T10:43:51.589Z"
   },
   {
    "duration": 7,
    "start_time": "2022-02-27T10:43:51.741Z"
   },
   {
    "duration": 16,
    "start_time": "2022-02-27T10:43:51.749Z"
   },
   {
    "duration": 8,
    "start_time": "2022-02-27T10:43:51.767Z"
   },
   {
    "duration": 12,
    "start_time": "2022-02-27T10:43:51.776Z"
   },
   {
    "duration": 4,
    "start_time": "2022-02-27T10:43:51.790Z"
   },
   {
    "duration": 6,
    "start_time": "2022-02-27T10:43:51.796Z"
   },
   {
    "duration": 4,
    "start_time": "2022-02-27T10:43:51.804Z"
   },
   {
    "duration": 5,
    "start_time": "2022-02-27T10:43:51.809Z"
   },
   {
    "duration": 7,
    "start_time": "2022-02-27T10:43:51.815Z"
   },
   {
    "duration": 8,
    "start_time": "2022-02-27T10:43:51.859Z"
   },
   {
    "duration": 5,
    "start_time": "2022-02-27T10:43:51.869Z"
   },
   {
    "duration": 10,
    "start_time": "2022-02-27T10:43:51.875Z"
   },
   {
    "duration": 9,
    "start_time": "2022-02-27T10:43:51.887Z"
   },
   {
    "duration": 3,
    "start_time": "2022-02-27T10:43:51.897Z"
   },
   {
    "duration": 4,
    "start_time": "2022-02-27T10:43:51.902Z"
   },
   {
    "duration": 9,
    "start_time": "2022-02-27T10:43:51.908Z"
   },
   {
    "duration": 11,
    "start_time": "2022-02-27T10:43:51.918Z"
   },
   {
    "duration": 32,
    "start_time": "2022-02-27T10:43:51.930Z"
   },
   {
    "duration": 10,
    "start_time": "2022-02-27T10:43:51.964Z"
   },
   {
    "duration": 10,
    "start_time": "2022-02-27T10:43:51.975Z"
   },
   {
    "duration": 8,
    "start_time": "2022-02-27T10:43:51.986Z"
   },
   {
    "duration": 14,
    "start_time": "2022-02-27T10:43:51.996Z"
   },
   {
    "duration": 20,
    "start_time": "2022-02-27T10:43:52.011Z"
   },
   {
    "duration": 27,
    "start_time": "2022-02-27T10:43:52.032Z"
   },
   {
    "duration": 14,
    "start_time": "2022-02-27T10:43:52.061Z"
   },
   {
    "duration": 9,
    "start_time": "2022-02-27T10:43:52.077Z"
   },
   {
    "duration": 9,
    "start_time": "2022-02-27T10:43:52.087Z"
   },
   {
    "duration": 81,
    "start_time": "2022-02-27T10:43:52.098Z"
   },
   {
    "duration": 573,
    "start_time": "2022-02-27T10:43:51.608Z"
   },
   {
    "duration": 564,
    "start_time": "2022-02-27T10:43:51.617Z"
   },
   {
    "duration": 557,
    "start_time": "2022-02-27T10:43:51.625Z"
   },
   {
    "duration": 551,
    "start_time": "2022-02-27T10:43:51.632Z"
   },
   {
    "duration": 544,
    "start_time": "2022-02-27T10:43:51.640Z"
   },
   {
    "duration": 537,
    "start_time": "2022-02-27T10:43:51.647Z"
   },
   {
    "duration": 531,
    "start_time": "2022-02-27T10:43:51.654Z"
   },
   {
    "duration": 485,
    "start_time": "2022-02-27T10:43:51.701Z"
   },
   {
    "duration": 465,
    "start_time": "2022-02-27T10:43:51.722Z"
   },
   {
    "duration": 456,
    "start_time": "2022-02-27T10:43:51.731Z"
   },
   {
    "duration": 447,
    "start_time": "2022-02-27T10:43:51.741Z"
   },
   {
    "duration": 439,
    "start_time": "2022-02-27T10:43:51.750Z"
   },
   {
    "duration": 431,
    "start_time": "2022-02-27T10:43:51.759Z"
   },
   {
    "duration": 93,
    "start_time": "2022-02-27T10:47:27.084Z"
   },
   {
    "duration": 54,
    "start_time": "2022-02-27T10:49:28.145Z"
   },
   {
    "duration": 11,
    "start_time": "2022-02-27T10:49:28.200Z"
   },
   {
    "duration": 11,
    "start_time": "2022-02-27T10:49:28.213Z"
   },
   {
    "duration": 3,
    "start_time": "2022-02-27T10:49:28.226Z"
   },
   {
    "duration": 5,
    "start_time": "2022-02-27T10:49:28.231Z"
   },
   {
    "duration": 34,
    "start_time": "2022-02-27T10:49:28.237Z"
   },
   {
    "duration": 14,
    "start_time": "2022-02-27T10:49:28.273Z"
   },
   {
    "duration": 14,
    "start_time": "2022-02-27T10:49:28.289Z"
   },
   {
    "duration": 9,
    "start_time": "2022-02-27T10:49:28.305Z"
   },
   {
    "duration": 52,
    "start_time": "2022-02-27T10:49:28.316Z"
   },
   {
    "duration": 19,
    "start_time": "2022-02-27T10:49:28.369Z"
   },
   {
    "duration": 3,
    "start_time": "2022-02-27T10:49:28.390Z"
   },
   {
    "duration": 1344,
    "start_time": "2022-02-27T10:49:28.395Z"
   },
   {
    "duration": 9,
    "start_time": "2022-02-27T10:49:29.740Z"
   },
   {
    "duration": 28,
    "start_time": "2022-02-27T10:49:29.759Z"
   },
   {
    "duration": 553,
    "start_time": "2022-02-27T10:49:29.790Z"
   },
   {
    "duration": 15,
    "start_time": "2022-02-27T10:49:30.344Z"
   },
   {
    "duration": 12,
    "start_time": "2022-02-27T10:49:30.361Z"
   },
   {
    "duration": 15,
    "start_time": "2022-02-27T10:49:30.375Z"
   },
   {
    "duration": 34,
    "start_time": "2022-02-27T10:49:30.392Z"
   },
   {
    "duration": 14,
    "start_time": "2022-02-27T10:49:30.428Z"
   },
   {
    "duration": 23,
    "start_time": "2022-02-27T10:49:30.444Z"
   },
   {
    "duration": 12,
    "start_time": "2022-02-27T10:49:30.471Z"
   },
   {
    "duration": 31,
    "start_time": "2022-02-27T10:49:30.486Z"
   },
   {
    "duration": 31,
    "start_time": "2022-02-27T10:49:30.518Z"
   },
   {
    "duration": 18,
    "start_time": "2022-02-27T10:49:30.551Z"
   },
   {
    "duration": 21,
    "start_time": "2022-02-27T10:49:30.571Z"
   },
   {
    "duration": 25,
    "start_time": "2022-02-27T10:49:30.593Z"
   },
   {
    "duration": 14,
    "start_time": "2022-02-27T10:49:30.619Z"
   },
   {
    "duration": 164,
    "start_time": "2022-02-27T10:49:30.635Z"
   },
   {
    "duration": 151,
    "start_time": "2022-02-27T10:49:30.801Z"
   },
   {
    "duration": 7,
    "start_time": "2022-02-27T10:49:30.959Z"
   },
   {
    "duration": 131,
    "start_time": "2022-02-27T10:49:30.968Z"
   },
   {
    "duration": 144,
    "start_time": "2022-02-27T10:49:31.101Z"
   },
   {
    "duration": 39,
    "start_time": "2022-02-27T10:49:31.247Z"
   },
   {
    "duration": 20,
    "start_time": "2022-02-27T10:49:31.288Z"
   },
   {
    "duration": 20,
    "start_time": "2022-02-27T10:49:31.309Z"
   },
   {
    "duration": 7,
    "start_time": "2022-02-27T10:49:31.331Z"
   },
   {
    "duration": 9,
    "start_time": "2022-02-27T10:49:31.339Z"
   },
   {
    "duration": 13,
    "start_time": "2022-02-27T10:49:31.350Z"
   },
   {
    "duration": 11,
    "start_time": "2022-02-27T10:49:31.364Z"
   },
   {
    "duration": 21,
    "start_time": "2022-02-27T10:49:31.377Z"
   },
   {
    "duration": 10,
    "start_time": "2022-02-27T10:49:31.400Z"
   },
   {
    "duration": 23,
    "start_time": "2022-02-27T10:49:31.411Z"
   },
   {
    "duration": 4,
    "start_time": "2022-02-27T10:49:31.436Z"
   },
   {
    "duration": 16,
    "start_time": "2022-02-27T10:49:31.441Z"
   },
   {
    "duration": 25,
    "start_time": "2022-02-27T10:49:31.459Z"
   },
   {
    "duration": 14,
    "start_time": "2022-02-27T10:49:31.485Z"
   },
   {
    "duration": 15,
    "start_time": "2022-02-27T10:49:31.501Z"
   },
   {
    "duration": 12,
    "start_time": "2022-02-27T10:49:31.518Z"
   },
   {
    "duration": 18,
    "start_time": "2022-02-27T10:49:31.531Z"
   },
   {
    "duration": 18,
    "start_time": "2022-02-27T10:49:31.551Z"
   },
   {
    "duration": 15,
    "start_time": "2022-02-27T10:49:31.571Z"
   },
   {
    "duration": 29,
    "start_time": "2022-02-27T10:49:31.588Z"
   },
   {
    "duration": 3,
    "start_time": "2022-02-27T10:49:31.619Z"
   },
   {
    "duration": 27,
    "start_time": "2022-02-27T10:49:31.624Z"
   },
   {
    "duration": 29,
    "start_time": "2022-02-27T10:49:31.653Z"
   },
   {
    "duration": 17,
    "start_time": "2022-02-27T10:49:31.684Z"
   },
   {
    "duration": 12,
    "start_time": "2022-02-27T10:49:31.703Z"
   },
   {
    "duration": 86,
    "start_time": "2022-02-27T10:49:31.717Z"
   },
   {
    "duration": 708,
    "start_time": "2022-02-27T10:49:31.097Z"
   },
   {
    "duration": 699,
    "start_time": "2022-02-27T10:49:31.107Z"
   },
   {
    "duration": 690,
    "start_time": "2022-02-27T10:49:31.116Z"
   },
   {
    "duration": 683,
    "start_time": "2022-02-27T10:49:31.124Z"
   },
   {
    "duration": 675,
    "start_time": "2022-02-27T10:49:31.133Z"
   },
   {
    "duration": 563,
    "start_time": "2022-02-27T10:49:31.246Z"
   },
   {
    "duration": 555,
    "start_time": "2022-02-27T10:49:31.254Z"
   },
   {
    "duration": 517,
    "start_time": "2022-02-27T10:49:31.293Z"
   },
   {
    "duration": 511,
    "start_time": "2022-02-27T10:49:31.300Z"
   },
   {
    "duration": 504,
    "start_time": "2022-02-27T10:49:31.308Z"
   },
   {
    "duration": 496,
    "start_time": "2022-02-27T10:49:31.316Z"
   },
   {
    "duration": 490,
    "start_time": "2022-02-27T10:49:31.323Z"
   },
   {
    "duration": 481,
    "start_time": "2022-02-27T10:49:31.333Z"
   },
   {
    "duration": 14,
    "start_time": "2022-02-27T10:50:25.929Z"
   },
   {
    "duration": 20,
    "start_time": "2022-02-27T10:50:39.719Z"
   },
   {
    "duration": 14,
    "start_time": "2022-02-27T10:50:53.708Z"
   },
   {
    "duration": 13,
    "start_time": "2022-02-27T10:52:54.192Z"
   },
   {
    "duration": 12,
    "start_time": "2022-02-27T10:53:24.303Z"
   },
   {
    "duration": 13,
    "start_time": "2022-02-27T10:53:44.755Z"
   },
   {
    "duration": 15,
    "start_time": "2022-02-27T10:54:12.066Z"
   },
   {
    "duration": 50,
    "start_time": "2022-02-27T10:54:34.736Z"
   },
   {
    "duration": 12,
    "start_time": "2022-02-27T10:54:34.788Z"
   },
   {
    "duration": 10,
    "start_time": "2022-02-27T10:54:34.814Z"
   },
   {
    "duration": 3,
    "start_time": "2022-02-27T10:54:34.826Z"
   },
   {
    "duration": 2,
    "start_time": "2022-02-27T10:54:34.841Z"
   },
   {
    "duration": 14,
    "start_time": "2022-02-27T10:54:34.855Z"
   },
   {
    "duration": 15,
    "start_time": "2022-02-27T10:54:34.871Z"
   },
   {
    "duration": 14,
    "start_time": "2022-02-27T10:54:34.888Z"
   },
   {
    "duration": 10,
    "start_time": "2022-02-27T10:54:34.904Z"
   },
   {
    "duration": 51,
    "start_time": "2022-02-27T10:54:34.915Z"
   },
   {
    "duration": 20,
    "start_time": "2022-02-27T10:54:34.968Z"
   },
   {
    "duration": 4,
    "start_time": "2022-02-27T10:54:34.989Z"
   },
   {
    "duration": 1070,
    "start_time": "2022-02-27T10:54:34.995Z"
   },
   {
    "duration": 9,
    "start_time": "2022-02-27T10:54:36.067Z"
   },
   {
    "duration": 28,
    "start_time": "2022-02-27T10:54:36.078Z"
   },
   {
    "duration": 547,
    "start_time": "2022-02-27T10:54:36.107Z"
   },
   {
    "duration": 8,
    "start_time": "2022-02-27T10:54:36.655Z"
   },
   {
    "duration": 9,
    "start_time": "2022-02-27T10:54:36.665Z"
   },
   {
    "duration": 8,
    "start_time": "2022-02-27T10:54:36.675Z"
   },
   {
    "duration": 8,
    "start_time": "2022-02-27T10:54:36.685Z"
   },
   {
    "duration": 5,
    "start_time": "2022-02-27T10:54:36.695Z"
   },
   {
    "duration": 7,
    "start_time": "2022-02-27T10:54:36.702Z"
   },
   {
    "duration": 6,
    "start_time": "2022-02-27T10:54:36.711Z"
   },
   {
    "duration": 46,
    "start_time": "2022-02-27T10:54:36.719Z"
   },
   {
    "duration": 11,
    "start_time": "2022-02-27T10:54:36.766Z"
   },
   {
    "duration": 8,
    "start_time": "2022-02-27T10:54:36.779Z"
   },
   {
    "duration": 5,
    "start_time": "2022-02-27T10:54:36.789Z"
   },
   {
    "duration": 8,
    "start_time": "2022-02-27T10:54:36.795Z"
   },
   {
    "duration": 6,
    "start_time": "2022-02-27T10:54:36.805Z"
   },
   {
    "duration": 183,
    "start_time": "2022-02-27T10:54:36.813Z"
   },
   {
    "duration": 144,
    "start_time": "2022-02-27T10:54:37.000Z"
   },
   {
    "duration": 13,
    "start_time": "2022-02-27T10:54:37.146Z"
   },
   {
    "duration": 5,
    "start_time": "2022-02-27T10:54:37.160Z"
   },
   {
    "duration": 6,
    "start_time": "2022-02-27T10:54:37.167Z"
   },
   {
    "duration": 11,
    "start_time": "2022-02-27T10:54:37.175Z"
   },
   {
    "duration": 4,
    "start_time": "2022-02-27T10:54:37.187Z"
   },
   {
    "duration": 5,
    "start_time": "2022-02-27T10:54:37.193Z"
   },
   {
    "duration": 5,
    "start_time": "2022-02-27T10:54:37.200Z"
   },
   {
    "duration": 5,
    "start_time": "2022-02-27T10:54:37.206Z"
   },
   {
    "duration": 47,
    "start_time": "2022-02-27T10:54:37.212Z"
   },
   {
    "duration": 9,
    "start_time": "2022-02-27T10:54:37.261Z"
   },
   {
    "duration": 4,
    "start_time": "2022-02-27T10:54:37.272Z"
   },
   {
    "duration": 5,
    "start_time": "2022-02-27T10:54:37.278Z"
   },
   {
    "duration": 10,
    "start_time": "2022-02-27T10:54:37.284Z"
   },
   {
    "duration": 3,
    "start_time": "2022-02-27T10:54:37.295Z"
   },
   {
    "duration": 4,
    "start_time": "2022-02-27T10:54:37.300Z"
   },
   {
    "duration": 8,
    "start_time": "2022-02-27T10:54:37.306Z"
   },
   {
    "duration": 45,
    "start_time": "2022-02-27T10:54:37.315Z"
   },
   {
    "duration": 7,
    "start_time": "2022-02-27T10:54:37.362Z"
   },
   {
    "duration": 10,
    "start_time": "2022-02-27T10:54:37.371Z"
   },
   {
    "duration": 10,
    "start_time": "2022-02-27T10:54:37.383Z"
   },
   {
    "duration": 6,
    "start_time": "2022-02-27T10:54:37.395Z"
   },
   {
    "duration": 12,
    "start_time": "2022-02-27T10:54:37.403Z"
   },
   {
    "duration": 55,
    "start_time": "2022-02-27T10:54:37.416Z"
   },
   {
    "duration": 2,
    "start_time": "2022-02-27T10:54:37.472Z"
   },
   {
    "duration": 16,
    "start_time": "2022-02-27T10:54:37.476Z"
   },
   {
    "duration": 12,
    "start_time": "2022-02-27T10:54:37.494Z"
   },
   {
    "duration": 10,
    "start_time": "2022-02-27T10:54:37.508Z"
   },
   {
    "duration": 47,
    "start_time": "2022-02-27T10:54:37.519Z"
   },
   {
    "duration": 19,
    "start_time": "2022-02-27T10:54:37.568Z"
   },
   {
    "duration": 13,
    "start_time": "2022-02-27T10:54:37.588Z"
   },
   {
    "duration": 10,
    "start_time": "2022-02-27T10:54:37.603Z"
   },
   {
    "duration": 46,
    "start_time": "2022-02-27T10:54:37.615Z"
   },
   {
    "duration": 13,
    "start_time": "2022-02-27T10:55:18.735Z"
   },
   {
    "duration": 49,
    "start_time": "2022-02-27T10:56:08.216Z"
   },
   {
    "duration": 10,
    "start_time": "2022-02-27T10:56:08.266Z"
   },
   {
    "duration": 9,
    "start_time": "2022-02-27T10:56:08.278Z"
   },
   {
    "duration": 4,
    "start_time": "2022-02-27T10:56:08.289Z"
   },
   {
    "duration": 4,
    "start_time": "2022-02-27T10:56:08.294Z"
   },
   {
    "duration": 16,
    "start_time": "2022-02-27T10:56:08.299Z"
   },
   {
    "duration": 45,
    "start_time": "2022-02-27T10:56:08.316Z"
   },
   {
    "duration": 15,
    "start_time": "2022-02-27T10:56:08.363Z"
   },
   {
    "duration": 10,
    "start_time": "2022-02-27T10:56:08.379Z"
   },
   {
    "duration": 20,
    "start_time": "2022-02-27T10:56:08.390Z"
   },
   {
    "duration": 52,
    "start_time": "2022-02-27T10:56:08.411Z"
   },
   {
    "duration": 3,
    "start_time": "2022-02-27T10:56:08.464Z"
   },
   {
    "duration": 1344,
    "start_time": "2022-02-27T10:56:08.469Z"
   },
   {
    "duration": 10,
    "start_time": "2022-02-27T10:56:09.815Z"
   },
   {
    "duration": 45,
    "start_time": "2022-02-27T10:56:09.826Z"
   },
   {
    "duration": 517,
    "start_time": "2022-02-27T10:56:09.873Z"
   },
   {
    "duration": 7,
    "start_time": "2022-02-27T10:56:10.391Z"
   },
   {
    "duration": 7,
    "start_time": "2022-02-27T10:56:10.400Z"
   },
   {
    "duration": 8,
    "start_time": "2022-02-27T10:56:10.408Z"
   },
   {
    "duration": 8,
    "start_time": "2022-02-27T10:56:10.418Z"
   },
   {
    "duration": 32,
    "start_time": "2022-02-27T10:56:10.428Z"
   },
   {
    "duration": 9,
    "start_time": "2022-02-27T10:56:10.462Z"
   },
   {
    "duration": 5,
    "start_time": "2022-02-27T10:56:10.475Z"
   },
   {
    "duration": 8,
    "start_time": "2022-02-27T10:56:10.482Z"
   },
   {
    "duration": 12,
    "start_time": "2022-02-27T10:56:10.491Z"
   },
   {
    "duration": 9,
    "start_time": "2022-02-27T10:56:10.505Z"
   },
   {
    "duration": 7,
    "start_time": "2022-02-27T10:56:10.515Z"
   },
   {
    "duration": 43,
    "start_time": "2022-02-27T10:56:10.523Z"
   },
   {
    "duration": 5,
    "start_time": "2022-02-27T10:56:10.568Z"
   },
   {
    "duration": 156,
    "start_time": "2022-02-27T10:56:10.574Z"
   },
   {
    "duration": 139,
    "start_time": "2022-02-27T10:56:10.731Z"
   },
   {
    "duration": 7,
    "start_time": "2022-02-27T10:56:10.872Z"
   },
   {
    "duration": 7,
    "start_time": "2022-02-27T10:56:10.881Z"
   },
   {
    "duration": 7,
    "start_time": "2022-02-27T10:56:10.889Z"
   },
   {
    "duration": 10,
    "start_time": "2022-02-27T10:56:10.898Z"
   },
   {
    "duration": 4,
    "start_time": "2022-02-27T10:56:10.909Z"
   },
   {
    "duration": 5,
    "start_time": "2022-02-27T10:56:10.915Z"
   },
   {
    "duration": 39,
    "start_time": "2022-02-27T10:56:10.922Z"
   },
   {
    "duration": 3,
    "start_time": "2022-02-27T10:56:10.963Z"
   },
   {
    "duration": 5,
    "start_time": "2022-02-27T10:56:10.968Z"
   },
   {
    "duration": 7,
    "start_time": "2022-02-27T10:56:10.975Z"
   },
   {
    "duration": 6,
    "start_time": "2022-02-27T10:56:10.983Z"
   },
   {
    "duration": 5,
    "start_time": "2022-02-27T10:56:10.990Z"
   },
   {
    "duration": 9,
    "start_time": "2022-02-27T10:56:10.997Z"
   },
   {
    "duration": 4,
    "start_time": "2022-02-27T10:56:11.007Z"
   },
   {
    "duration": 4,
    "start_time": "2022-02-27T10:56:11.012Z"
   },
   {
    "duration": 6,
    "start_time": "2022-02-27T10:56:11.059Z"
   },
   {
    "duration": 10,
    "start_time": "2022-02-27T10:56:11.066Z"
   },
   {
    "duration": 8,
    "start_time": "2022-02-27T10:56:11.078Z"
   },
   {
    "duration": 10,
    "start_time": "2022-02-27T10:56:11.087Z"
   },
   {
    "duration": 6,
    "start_time": "2022-02-27T10:56:11.099Z"
   },
   {
    "duration": 5,
    "start_time": "2022-02-27T10:56:11.107Z"
   },
   {
    "duration": 47,
    "start_time": "2022-02-27T10:56:11.113Z"
   },
   {
    "duration": 19,
    "start_time": "2022-02-27T10:56:11.162Z"
   },
   {
    "duration": 2,
    "start_time": "2022-02-27T10:56:11.183Z"
   },
   {
    "duration": 15,
    "start_time": "2022-02-27T10:56:11.187Z"
   },
   {
    "duration": 11,
    "start_time": "2022-02-27T10:56:11.203Z"
   },
   {
    "duration": 9,
    "start_time": "2022-02-27T10:56:11.215Z"
   },
   {
    "duration": 47,
    "start_time": "2022-02-27T10:56:11.225Z"
   },
   {
    "duration": 18,
    "start_time": "2022-02-27T10:56:11.273Z"
   },
   {
    "duration": 14,
    "start_time": "2022-02-27T10:56:11.292Z"
   },
   {
    "duration": 8,
    "start_time": "2022-02-27T10:56:11.308Z"
   },
   {
    "duration": 45,
    "start_time": "2022-02-27T10:56:11.318Z"
   },
   {
    "duration": 30,
    "start_time": "2022-02-27T10:56:11.364Z"
   },
   {
    "duration": 14,
    "start_time": "2022-02-27T10:56:11.396Z"
   },
   {
    "duration": 33,
    "start_time": "2022-02-27T10:56:11.412Z"
   },
   {
    "duration": 15,
    "start_time": "2022-02-27T10:57:06.676Z"
   },
   {
    "duration": 18,
    "start_time": "2022-02-27T10:57:15.442Z"
   },
   {
    "duration": 14,
    "start_time": "2022-02-27T10:57:20.718Z"
   },
   {
    "duration": 12,
    "start_time": "2022-02-27T10:57:32.551Z"
   },
   {
    "duration": 49,
    "start_time": "2022-02-27T10:57:47.372Z"
   },
   {
    "duration": 12,
    "start_time": "2022-02-27T10:57:47.422Z"
   },
   {
    "duration": 8,
    "start_time": "2022-02-27T10:57:47.436Z"
   },
   {
    "duration": 13,
    "start_time": "2022-02-27T10:57:47.446Z"
   },
   {
    "duration": 2,
    "start_time": "2022-02-27T10:57:47.461Z"
   },
   {
    "duration": 16,
    "start_time": "2022-02-27T10:57:47.464Z"
   },
   {
    "duration": 15,
    "start_time": "2022-02-27T10:57:47.482Z"
   },
   {
    "duration": 14,
    "start_time": "2022-02-27T10:57:47.499Z"
   },
   {
    "duration": 47,
    "start_time": "2022-02-27T10:57:47.515Z"
   },
   {
    "duration": 19,
    "start_time": "2022-02-27T10:57:47.564Z"
   },
   {
    "duration": 21,
    "start_time": "2022-02-27T10:57:47.584Z"
   },
   {
    "duration": 3,
    "start_time": "2022-02-27T10:57:47.607Z"
   },
   {
    "duration": 1103,
    "start_time": "2022-02-27T10:57:47.612Z"
   },
   {
    "duration": 8,
    "start_time": "2022-02-27T10:57:48.716Z"
   },
   {
    "duration": 40,
    "start_time": "2022-02-27T10:57:48.726Z"
   },
   {
    "duration": 541,
    "start_time": "2022-02-27T10:57:48.767Z"
   },
   {
    "duration": 7,
    "start_time": "2022-02-27T10:57:49.310Z"
   },
   {
    "duration": 9,
    "start_time": "2022-02-27T10:57:49.318Z"
   },
   {
    "duration": 8,
    "start_time": "2022-02-27T10:57:49.329Z"
   },
   {
    "duration": 27,
    "start_time": "2022-02-27T10:57:49.338Z"
   },
   {
    "duration": 6,
    "start_time": "2022-02-27T10:57:49.366Z"
   },
   {
    "duration": 8,
    "start_time": "2022-02-27T10:57:49.375Z"
   },
   {
    "duration": 6,
    "start_time": "2022-02-27T10:57:49.385Z"
   },
   {
    "duration": 6,
    "start_time": "2022-02-27T10:57:49.393Z"
   },
   {
    "duration": 15,
    "start_time": "2022-02-27T10:57:49.400Z"
   },
   {
    "duration": 11,
    "start_time": "2022-02-27T10:57:49.416Z"
   },
   {
    "duration": 5,
    "start_time": "2022-02-27T10:57:49.459Z"
   },
   {
    "duration": 11,
    "start_time": "2022-02-27T10:57:49.465Z"
   },
   {
    "duration": 10,
    "start_time": "2022-02-27T10:57:49.477Z"
   },
   {
    "duration": 157,
    "start_time": "2022-02-27T10:57:49.488Z"
   },
   {
    "duration": 138,
    "start_time": "2022-02-27T10:57:49.647Z"
   },
   {
    "duration": 6,
    "start_time": "2022-02-27T10:57:49.787Z"
   },
   {
    "duration": 6,
    "start_time": "2022-02-27T10:57:49.794Z"
   },
   {
    "duration": 7,
    "start_time": "2022-02-27T10:57:49.801Z"
   },
   {
    "duration": 13,
    "start_time": "2022-02-27T10:57:49.809Z"
   },
   {
    "duration": 4,
    "start_time": "2022-02-27T10:57:49.823Z"
   },
   {
    "duration": 31,
    "start_time": "2022-02-27T10:57:49.828Z"
   },
   {
    "duration": 3,
    "start_time": "2022-02-27T10:57:49.861Z"
   },
   {
    "duration": 5,
    "start_time": "2022-02-27T10:57:49.865Z"
   },
   {
    "duration": 6,
    "start_time": "2022-02-27T10:57:49.871Z"
   },
   {
    "duration": 7,
    "start_time": "2022-02-27T10:57:49.878Z"
   },
   {
    "duration": 4,
    "start_time": "2022-02-27T10:57:49.886Z"
   },
   {
    "duration": 5,
    "start_time": "2022-02-27T10:57:49.892Z"
   },
   {
    "duration": 8,
    "start_time": "2022-02-27T10:57:49.899Z"
   },
   {
    "duration": 3,
    "start_time": "2022-02-27T10:57:49.909Z"
   },
   {
    "duration": 4,
    "start_time": "2022-02-27T10:57:49.914Z"
   },
   {
    "duration": 44,
    "start_time": "2022-02-27T10:57:49.920Z"
   },
   {
    "duration": 10,
    "start_time": "2022-02-27T10:57:49.965Z"
   },
   {
    "duration": 23,
    "start_time": "2022-02-27T10:57:49.977Z"
   },
   {
    "duration": 33,
    "start_time": "2022-02-27T10:57:50.001Z"
   },
   {
    "duration": 10,
    "start_time": "2022-02-27T10:57:50.035Z"
   },
   {
    "duration": 7,
    "start_time": "2022-02-27T10:57:50.047Z"
   },
   {
    "duration": 13,
    "start_time": "2022-02-27T10:57:50.056Z"
   },
   {
    "duration": 23,
    "start_time": "2022-02-27T10:57:50.070Z"
   },
   {
    "duration": 2,
    "start_time": "2022-02-27T10:57:50.094Z"
   },
   {
    "duration": 18,
    "start_time": "2022-02-27T10:57:50.098Z"
   },
   {
    "duration": 9,
    "start_time": "2022-02-27T10:57:50.117Z"
   },
   {
    "duration": 35,
    "start_time": "2022-02-27T10:57:50.128Z"
   },
   {
    "duration": 14,
    "start_time": "2022-02-27T10:57:50.164Z"
   },
   {
    "duration": 19,
    "start_time": "2022-02-27T10:57:50.179Z"
   },
   {
    "duration": 12,
    "start_time": "2022-02-27T10:57:50.200Z"
   },
   {
    "duration": 9,
    "start_time": "2022-02-27T10:57:50.217Z"
   },
   {
    "duration": 40,
    "start_time": "2022-02-27T10:57:50.228Z"
   },
   {
    "duration": 19,
    "start_time": "2022-02-27T10:57:50.269Z"
   },
   {
    "duration": 13,
    "start_time": "2022-02-27T10:57:50.289Z"
   },
   {
    "duration": 13,
    "start_time": "2022-02-27T10:57:50.303Z"
   },
   {
    "duration": 43,
    "start_time": "2022-02-27T10:57:50.317Z"
   },
   {
    "duration": 15,
    "start_time": "2022-02-27T10:57:50.361Z"
   },
   {
    "duration": 17,
    "start_time": "2022-02-27T10:57:50.377Z"
   },
   {
    "duration": 3,
    "start_time": "2022-02-27T10:57:50.396Z"
   },
   {
    "duration": 4,
    "start_time": "2022-02-27T10:57:50.400Z"
   },
   {
    "duration": 14,
    "start_time": "2022-02-27T11:09:17.689Z"
   },
   {
    "duration": 132,
    "start_time": "2022-02-27T11:13:46.512Z"
   },
   {
    "duration": 259,
    "start_time": "2022-02-27T11:32:38.038Z"
   },
   {
    "duration": 6,
    "start_time": "2022-02-27T11:33:03.849Z"
   },
   {
    "duration": 195,
    "start_time": "2022-02-27T14:53:15.302Z"
   },
   {
    "duration": 631,
    "start_time": "2022-02-27T14:53:26.781Z"
   },
   {
    "duration": 16,
    "start_time": "2022-02-27T14:53:27.414Z"
   },
   {
    "duration": 12,
    "start_time": "2022-02-27T14:53:27.432Z"
   },
   {
    "duration": 17,
    "start_time": "2022-02-27T14:53:27.446Z"
   },
   {
    "duration": 2,
    "start_time": "2022-02-27T14:53:27.465Z"
   },
   {
    "duration": 18,
    "start_time": "2022-02-27T14:53:27.468Z"
   },
   {
    "duration": 17,
    "start_time": "2022-02-27T14:53:27.488Z"
   },
   {
    "duration": 16,
    "start_time": "2022-02-27T14:53:27.507Z"
   },
   {
    "duration": 38,
    "start_time": "2022-02-27T14:53:27.525Z"
   },
   {
    "duration": 20,
    "start_time": "2022-02-27T14:53:27.565Z"
   },
   {
    "duration": 19,
    "start_time": "2022-02-27T14:53:27.587Z"
   },
   {
    "duration": 4,
    "start_time": "2022-02-27T14:53:27.608Z"
   },
   {
    "duration": 1073,
    "start_time": "2022-02-27T14:53:27.613Z"
   },
   {
    "duration": 8,
    "start_time": "2022-02-27T14:53:28.688Z"
   },
   {
    "duration": 28,
    "start_time": "2022-02-27T14:53:28.698Z"
   },
   {
    "duration": 499,
    "start_time": "2022-02-27T14:53:28.728Z"
   },
   {
    "duration": 7,
    "start_time": "2022-02-27T14:53:29.229Z"
   },
   {
    "duration": 7,
    "start_time": "2022-02-27T14:53:29.237Z"
   },
   {
    "duration": 21,
    "start_time": "2022-02-27T14:53:29.245Z"
   },
   {
    "duration": 8,
    "start_time": "2022-02-27T14:53:29.268Z"
   },
   {
    "duration": 5,
    "start_time": "2022-02-27T14:53:29.277Z"
   },
   {
    "duration": 14,
    "start_time": "2022-02-27T14:53:29.283Z"
   },
   {
    "duration": 4,
    "start_time": "2022-02-27T14:53:29.301Z"
   },
   {
    "duration": 6,
    "start_time": "2022-02-27T14:53:29.308Z"
   },
   {
    "duration": 11,
    "start_time": "2022-02-27T14:53:29.316Z"
   },
   {
    "duration": 38,
    "start_time": "2022-02-27T14:53:29.329Z"
   },
   {
    "duration": 7,
    "start_time": "2022-02-27T14:53:29.369Z"
   },
   {
    "duration": 8,
    "start_time": "2022-02-27T14:53:29.377Z"
   },
   {
    "duration": 5,
    "start_time": "2022-02-27T14:53:29.387Z"
   },
   {
    "duration": 65,
    "start_time": "2022-02-27T14:53:29.393Z"
   },
   {
    "duration": 1815,
    "start_time": "2022-02-27T14:53:27.645Z"
   },
   {
    "duration": 1809,
    "start_time": "2022-02-27T14:53:27.652Z"
   },
   {
    "duration": 1801,
    "start_time": "2022-02-27T14:53:27.660Z"
   },
   {
    "duration": 1795,
    "start_time": "2022-02-27T14:53:27.667Z"
   },
   {
    "duration": 1788,
    "start_time": "2022-02-27T14:53:27.675Z"
   },
   {
    "duration": 1744,
    "start_time": "2022-02-27T14:53:27.720Z"
   },
   {
    "duration": 1734,
    "start_time": "2022-02-27T14:53:27.731Z"
   },
   {
    "duration": 1728,
    "start_time": "2022-02-27T14:53:27.738Z"
   },
   {
    "duration": 1721,
    "start_time": "2022-02-27T14:53:27.746Z"
   },
   {
    "duration": 1715,
    "start_time": "2022-02-27T14:53:27.753Z"
   },
   {
    "duration": 1708,
    "start_time": "2022-02-27T14:53:27.761Z"
   },
   {
    "duration": 1696,
    "start_time": "2022-02-27T14:53:27.774Z"
   },
   {
    "duration": 1689,
    "start_time": "2022-02-27T14:53:27.782Z"
   },
   {
    "duration": 1684,
    "start_time": "2022-02-27T14:53:27.788Z"
   },
   {
    "duration": 1676,
    "start_time": "2022-02-27T14:53:27.796Z"
   },
   {
    "duration": 1666,
    "start_time": "2022-02-27T14:53:27.807Z"
   },
   {
    "duration": 1659,
    "start_time": "2022-02-27T14:53:27.815Z"
   },
   {
    "duration": 1642,
    "start_time": "2022-02-27T14:53:27.833Z"
   },
   {
    "duration": 1634,
    "start_time": "2022-02-27T14:53:27.842Z"
   },
   {
    "duration": 1627,
    "start_time": "2022-02-27T14:53:27.850Z"
   },
   {
    "duration": 1620,
    "start_time": "2022-02-27T14:53:27.858Z"
   },
   {
    "duration": 1554,
    "start_time": "2022-02-27T14:53:27.925Z"
   },
   {
    "duration": 1501,
    "start_time": "2022-02-27T14:53:27.979Z"
   },
   {
    "duration": 1466,
    "start_time": "2022-02-27T14:53:28.015Z"
   },
   {
    "duration": 1459,
    "start_time": "2022-02-27T14:53:28.023Z"
   },
   {
    "duration": 1453,
    "start_time": "2022-02-27T14:53:28.030Z"
   },
   {
    "duration": 1443,
    "start_time": "2022-02-27T14:53:28.041Z"
   },
   {
    "duration": 1420,
    "start_time": "2022-02-27T14:53:28.065Z"
   },
   {
    "duration": 1414,
    "start_time": "2022-02-27T14:53:28.072Z"
   },
   {
    "duration": 1339,
    "start_time": "2022-02-27T14:53:28.147Z"
   },
   {
    "duration": 1262,
    "start_time": "2022-02-27T14:53:28.226Z"
   },
   {
    "duration": 1236,
    "start_time": "2022-02-27T14:53:28.253Z"
   },
   {
    "duration": 1228,
    "start_time": "2022-02-27T14:53:28.261Z"
   },
   {
    "duration": 1223,
    "start_time": "2022-02-27T14:53:28.267Z"
   },
   {
    "duration": 1216,
    "start_time": "2022-02-27T14:53:28.275Z"
   },
   {
    "duration": 1210,
    "start_time": "2022-02-27T14:53:28.282Z"
   },
   {
    "duration": 1203,
    "start_time": "2022-02-27T14:53:28.290Z"
   },
   {
    "duration": 1198,
    "start_time": "2022-02-27T14:53:28.296Z"
   },
   {
    "duration": 1178,
    "start_time": "2022-02-27T14:53:28.317Z"
   },
   {
    "duration": 1172,
    "start_time": "2022-02-27T14:53:28.324Z"
   },
   {
    "duration": 1165,
    "start_time": "2022-02-27T14:53:28.332Z"
   },
   {
    "duration": 1159,
    "start_time": "2022-02-27T14:53:28.339Z"
   },
   {
    "duration": 6,
    "start_time": "2022-02-27T14:53:59.880Z"
   },
   {
    "duration": 7,
    "start_time": "2022-02-27T14:54:21.005Z"
   },
   {
    "duration": 8,
    "start_time": "2022-02-27T14:55:03.579Z"
   },
   {
    "duration": 2514,
    "start_time": "2022-02-27T14:56:10.842Z"
   },
   {
    "duration": 3,
    "start_time": "2022-02-27T14:58:07.021Z"
   },
   {
    "duration": 5,
    "start_time": "2022-02-27T14:59:00.867Z"
   },
   {
    "duration": 6,
    "start_time": "2022-02-27T15:00:03.933Z"
   },
   {
    "duration": 3798,
    "start_time": "2022-02-27T15:00:27.065Z"
   },
   {
    "duration": 10,
    "start_time": "2022-02-27T15:00:55.611Z"
   },
   {
    "duration": 6,
    "start_time": "2022-02-27T16:01:53.180Z"
   },
   {
    "duration": 170,
    "start_time": "2022-02-27T16:03:45.576Z"
   },
   {
    "duration": 7,
    "start_time": "2022-02-27T16:04:26.546Z"
   },
   {
    "duration": 258,
    "start_time": "2022-02-27T16:06:35.328Z"
   },
   {
    "duration": 7,
    "start_time": "2022-02-27T16:09:40.517Z"
   },
   {
    "duration": 54,
    "start_time": "2022-02-27T16:10:05.920Z"
   },
   {
    "duration": 13,
    "start_time": "2022-02-27T16:10:05.976Z"
   },
   {
    "duration": 20,
    "start_time": "2022-02-27T16:10:05.991Z"
   },
   {
    "duration": 16,
    "start_time": "2022-02-27T16:10:06.013Z"
   },
   {
    "duration": 2,
    "start_time": "2022-02-27T16:10:06.742Z"
   },
   {
    "duration": 18,
    "start_time": "2022-02-27T16:10:06.747Z"
   },
   {
    "duration": 19,
    "start_time": "2022-02-27T16:10:06.767Z"
   },
   {
    "duration": 16,
    "start_time": "2022-02-27T16:10:06.787Z"
   },
   {
    "duration": 14,
    "start_time": "2022-02-27T16:10:06.805Z"
   },
   {
    "duration": 27,
    "start_time": "2022-02-27T16:10:06.820Z"
   },
   {
    "duration": 33,
    "start_time": "2022-02-27T16:10:06.849Z"
   },
   {
    "duration": 4,
    "start_time": "2022-02-27T16:10:06.885Z"
   },
   {
    "duration": 1050,
    "start_time": "2022-02-27T16:10:06.892Z"
   },
   {
    "duration": 22,
    "start_time": "2022-02-27T16:10:07.945Z"
   },
   {
    "duration": 28,
    "start_time": "2022-02-27T16:10:07.969Z"
   },
   {
    "duration": 481,
    "start_time": "2022-02-27T16:10:09.730Z"
   },
   {
    "duration": 8,
    "start_time": "2022-02-27T16:10:10.213Z"
   },
   {
    "duration": 5,
    "start_time": "2022-02-27T16:10:10.223Z"
   },
   {
    "duration": 9,
    "start_time": "2022-02-27T16:10:12.366Z"
   },
   {
    "duration": 17,
    "start_time": "2022-02-27T16:10:12.377Z"
   },
   {
    "duration": 7,
    "start_time": "2022-02-27T16:10:12.423Z"
   },
   {
    "duration": 31,
    "start_time": "2022-02-27T16:10:12.431Z"
   },
   {
    "duration": 25,
    "start_time": "2022-02-27T16:10:12.464Z"
   },
   {
    "duration": 16,
    "start_time": "2022-02-27T16:10:12.491Z"
   },
   {
    "duration": 32,
    "start_time": "2022-02-27T16:10:12.508Z"
   },
   {
    "duration": 12,
    "start_time": "2022-02-27T16:10:12.542Z"
   },
   {
    "duration": 17,
    "start_time": "2022-02-27T16:10:12.556Z"
   },
   {
    "duration": 17,
    "start_time": "2022-02-27T16:10:12.576Z"
   },
   {
    "duration": 22,
    "start_time": "2022-02-27T16:10:12.596Z"
   },
   {
    "duration": 19,
    "start_time": "2022-02-27T16:10:12.620Z"
   },
   {
    "duration": 25,
    "start_time": "2022-02-27T16:10:12.641Z"
   },
   {
    "duration": 17,
    "start_time": "2022-02-27T16:10:12.669Z"
   },
   {
    "duration": 11,
    "start_time": "2022-02-27T16:10:12.688Z"
   },
   {
    "duration": 22,
    "start_time": "2022-02-27T16:10:12.701Z"
   },
   {
    "duration": 13,
    "start_time": "2022-02-27T16:10:12.725Z"
   },
   {
    "duration": 16,
    "start_time": "2022-02-27T16:10:12.740Z"
   },
   {
    "duration": 21,
    "start_time": "2022-02-27T16:10:12.758Z"
   },
   {
    "duration": 40,
    "start_time": "2022-02-27T16:10:12.780Z"
   },
   {
    "duration": 21,
    "start_time": "2022-02-27T16:10:12.822Z"
   },
   {
    "duration": 16,
    "start_time": "2022-02-27T16:10:12.844Z"
   },
   {
    "duration": 20,
    "start_time": "2022-02-27T16:10:12.861Z"
   },
   {
    "duration": 47,
    "start_time": "2022-02-27T16:10:12.885Z"
   },
   {
    "duration": 37,
    "start_time": "2022-02-27T16:10:12.934Z"
   },
   {
    "duration": 21,
    "start_time": "2022-02-27T16:10:12.973Z"
   },
   {
    "duration": 31,
    "start_time": "2022-02-27T16:10:12.995Z"
   },
   {
    "duration": 29,
    "start_time": "2022-02-27T16:10:13.027Z"
   },
   {
    "duration": 34,
    "start_time": "2022-02-27T16:10:13.058Z"
   },
   {
    "duration": 29,
    "start_time": "2022-02-27T16:10:13.094Z"
   },
   {
    "duration": 29,
    "start_time": "2022-02-27T16:10:13.125Z"
   },
   {
    "duration": 27,
    "start_time": "2022-02-27T16:10:13.156Z"
   },
   {
    "duration": 32,
    "start_time": "2022-02-27T16:10:13.184Z"
   },
   {
    "duration": 3,
    "start_time": "2022-02-27T16:10:13.218Z"
   },
   {
    "duration": 30,
    "start_time": "2022-02-27T16:10:13.222Z"
   },
   {
    "duration": 25,
    "start_time": "2022-02-27T16:10:13.254Z"
   },
   {
    "duration": 22,
    "start_time": "2022-02-27T16:10:13.280Z"
   },
   {
    "duration": 20,
    "start_time": "2022-02-27T16:10:13.303Z"
   },
   {
    "duration": 48,
    "start_time": "2022-02-27T16:10:13.324Z"
   },
   {
    "duration": 25,
    "start_time": "2022-02-27T16:10:13.373Z"
   },
   {
    "duration": 18,
    "start_time": "2022-02-27T16:10:13.399Z"
   },
   {
    "duration": 30,
    "start_time": "2022-02-27T16:10:13.418Z"
   },
   {
    "duration": 61,
    "start_time": "2022-02-27T16:10:13.450Z"
   },
   {
    "duration": 27,
    "start_time": "2022-02-27T16:10:13.513Z"
   },
   {
    "duration": 42,
    "start_time": "2022-02-27T16:10:13.541Z"
   },
   {
    "duration": 50,
    "start_time": "2022-02-27T16:10:13.584Z"
   },
   {
    "duration": 28,
    "start_time": "2022-02-27T16:10:13.635Z"
   },
   {
    "duration": 33,
    "start_time": "2022-02-27T16:10:13.665Z"
   },
   {
    "duration": 11,
    "start_time": "2022-02-27T16:10:13.700Z"
   },
   {
    "duration": 18,
    "start_time": "2022-02-27T16:10:13.712Z"
   },
   {
    "duration": 13,
    "start_time": "2022-02-27T16:28:36.556Z"
   },
   {
    "duration": 11,
    "start_time": "2022-02-27T16:31:04.046Z"
   },
   {
    "duration": 13,
    "start_time": "2022-02-27T18:14:56.288Z"
   },
   {
    "duration": 3957,
    "start_time": "2022-02-27T18:15:53.819Z"
   },
   {
    "duration": 50,
    "start_time": "2022-02-27T18:16:10.724Z"
   },
   {
    "duration": 565,
    "start_time": "2022-02-27T18:16:10.211Z"
   },
   {
    "duration": 557,
    "start_time": "2022-02-27T18:16:10.220Z"
   },
   {
    "duration": 552,
    "start_time": "2022-02-27T18:16:10.226Z"
   },
   {
    "duration": 545,
    "start_time": "2022-02-27T18:16:10.234Z"
   },
   {
    "duration": 539,
    "start_time": "2022-02-27T18:16:10.241Z"
   },
   {
    "duration": 517,
    "start_time": "2022-02-27T18:16:10.264Z"
   },
   {
    "duration": 505,
    "start_time": "2022-02-27T18:16:10.277Z"
   },
   {
    "duration": 497,
    "start_time": "2022-02-27T18:16:10.286Z"
   },
   {
    "duration": 490,
    "start_time": "2022-02-27T18:16:10.294Z"
   },
   {
    "duration": 21,
    "start_time": "2022-02-27T18:16:10.785Z"
   },
   {
    "duration": 21,
    "start_time": "2022-02-27T18:16:10.807Z"
   },
   {
    "duration": 36,
    "start_time": "2022-02-27T18:16:10.830Z"
   },
   {
    "duration": 972,
    "start_time": "2022-02-27T18:16:10.868Z"
   },
   {
    "duration": 21,
    "start_time": "2022-02-27T18:16:11.842Z"
   },
   {
    "duration": 29,
    "start_time": "2022-02-27T18:16:11.864Z"
   },
   {
    "duration": 628,
    "start_time": "2022-02-27T18:16:11.895Z"
   },
   {
    "duration": 7,
    "start_time": "2022-02-27T18:16:12.526Z"
   },
   {
    "duration": 8,
    "start_time": "2022-02-27T18:16:12.535Z"
   },
   {
    "duration": 26,
    "start_time": "2022-02-27T18:16:12.544Z"
   },
   {
    "duration": 11,
    "start_time": "2022-02-27T18:16:12.572Z"
   },
   {
    "duration": 15,
    "start_time": "2022-02-27T18:16:12.585Z"
   },
   {
    "duration": 3873,
    "start_time": "2022-02-27T18:16:12.601Z"
   },
   {
    "duration": 1775,
    "start_time": "2022-02-27T18:16:14.702Z"
   },
   {
    "duration": 1766,
    "start_time": "2022-02-27T18:16:14.712Z"
   },
   {
    "duration": 1758,
    "start_time": "2022-02-27T18:16:14.721Z"
   },
   {
    "duration": 1748,
    "start_time": "2022-02-27T18:16:14.732Z"
   },
   {
    "duration": 1733,
    "start_time": "2022-02-27T18:16:14.748Z"
   },
   {
    "duration": 1720,
    "start_time": "2022-02-27T18:16:14.761Z"
   },
   {
    "duration": 1697,
    "start_time": "2022-02-27T18:16:14.785Z"
   },
   {
    "duration": 1689,
    "start_time": "2022-02-27T18:16:14.794Z"
   },
   {
    "duration": 1683,
    "start_time": "2022-02-27T18:16:14.801Z"
   },
   {
    "duration": 1676,
    "start_time": "2022-02-27T18:16:14.809Z"
   },
   {
    "duration": 1670,
    "start_time": "2022-02-27T18:16:14.816Z"
   },
   {
    "duration": 1663,
    "start_time": "2022-02-27T18:16:14.824Z"
   },
   {
    "duration": 1657,
    "start_time": "2022-02-27T18:16:14.831Z"
   },
   {
    "duration": 1651,
    "start_time": "2022-02-27T18:16:14.838Z"
   },
   {
    "duration": 1645,
    "start_time": "2022-02-27T18:16:14.845Z"
   },
   {
    "duration": 1638,
    "start_time": "2022-02-27T18:16:14.853Z"
   },
   {
    "duration": 1629,
    "start_time": "2022-02-27T18:16:14.863Z"
   },
   {
    "duration": 1623,
    "start_time": "2022-02-27T18:16:14.870Z"
   },
   {
    "duration": 1616,
    "start_time": "2022-02-27T18:16:14.878Z"
   },
   {
    "duration": 1597,
    "start_time": "2022-02-27T18:16:14.899Z"
   },
   {
    "duration": 1592,
    "start_time": "2022-02-27T18:16:14.905Z"
   },
   {
    "duration": 1585,
    "start_time": "2022-02-27T18:16:14.913Z"
   },
   {
    "duration": 1579,
    "start_time": "2022-02-27T18:16:14.920Z"
   },
   {
    "duration": 1572,
    "start_time": "2022-02-27T18:16:14.928Z"
   },
   {
    "duration": 1566,
    "start_time": "2022-02-27T18:16:14.935Z"
   },
   {
    "duration": 1557,
    "start_time": "2022-02-27T18:16:14.944Z"
   },
   {
    "duration": 1550,
    "start_time": "2022-02-27T18:16:14.952Z"
   },
   {
    "duration": 1544,
    "start_time": "2022-02-27T18:16:14.960Z"
   },
   {
    "duration": 1537,
    "start_time": "2022-02-27T18:16:14.968Z"
   },
   {
    "duration": 1528,
    "start_time": "2022-02-27T18:16:14.977Z"
   },
   {
    "duration": 1523,
    "start_time": "2022-02-27T18:16:14.983Z"
   },
   {
    "duration": 1517,
    "start_time": "2022-02-27T18:16:14.991Z"
   },
   {
    "duration": 1498,
    "start_time": "2022-02-27T18:16:15.011Z"
   },
   {
    "duration": 1485,
    "start_time": "2022-02-27T18:16:15.025Z"
   },
   {
    "duration": 1480,
    "start_time": "2022-02-27T18:16:15.031Z"
   },
   {
    "duration": 1473,
    "start_time": "2022-02-27T18:16:15.039Z"
   },
   {
    "duration": 1464,
    "start_time": "2022-02-27T18:16:15.049Z"
   },
   {
    "duration": 1458,
    "start_time": "2022-02-27T18:16:15.056Z"
   },
   {
    "duration": 1451,
    "start_time": "2022-02-27T18:16:15.063Z"
   },
   {
    "duration": 1444,
    "start_time": "2022-02-27T18:16:15.071Z"
   },
   {
    "duration": 1438,
    "start_time": "2022-02-27T18:16:15.078Z"
   },
   {
    "duration": 1430,
    "start_time": "2022-02-27T18:16:15.086Z"
   },
   {
    "duration": 1424,
    "start_time": "2022-02-27T18:16:15.093Z"
   },
   {
    "duration": 1416,
    "start_time": "2022-02-27T18:16:15.101Z"
   },
   {
    "duration": 1455,
    "start_time": "2022-02-27T18:16:15.108Z"
   },
   {
    "duration": 1435,
    "start_time": "2022-02-27T18:16:15.129Z"
   },
   {
    "duration": 1429,
    "start_time": "2022-02-27T18:16:15.136Z"
   },
   {
    "duration": 4362,
    "start_time": "2022-02-27T18:16:57.307Z"
   },
   {
    "duration": 1235,
    "start_time": "2022-02-27T18:20:38.206Z"
   },
   {
    "duration": 9,
    "start_time": "2022-02-27T18:20:53.243Z"
   },
   {
    "duration": 60,
    "start_time": "2022-02-27T18:22:09.203Z"
   },
   {
    "duration": 1353,
    "start_time": "2022-02-27T18:22:07.912Z"
   },
   {
    "duration": 1345,
    "start_time": "2022-02-27T18:22:07.921Z"
   },
   {
    "duration": 1340,
    "start_time": "2022-02-27T18:22:07.927Z"
   },
   {
    "duration": 1333,
    "start_time": "2022-02-27T18:22:07.935Z"
   },
   {
    "duration": 1327,
    "start_time": "2022-02-27T18:22:07.942Z"
   },
   {
    "duration": 1320,
    "start_time": "2022-02-27T18:22:07.950Z"
   },
   {
    "duration": 1312,
    "start_time": "2022-02-27T18:22:07.959Z"
   },
   {
    "duration": 1306,
    "start_time": "2022-02-27T18:22:07.966Z"
   },
   {
    "duration": 1269,
    "start_time": "2022-02-27T18:22:08.004Z"
   },
   {
    "duration": 1263,
    "start_time": "2022-02-27T18:22:08.011Z"
   },
   {
    "duration": 1256,
    "start_time": "2022-02-27T18:22:08.019Z"
   },
   {
    "duration": 3,
    "start_time": "2022-02-27T18:22:09.277Z"
   },
   {
    "duration": 1010,
    "start_time": "2022-02-27T18:22:09.284Z"
   },
   {
    "duration": 9,
    "start_time": "2022-02-27T18:22:10.295Z"
   },
   {
    "duration": 30,
    "start_time": "2022-02-27T18:22:10.306Z"
   },
   {
    "duration": 500,
    "start_time": "2022-02-27T18:22:10.338Z"
   },
   {
    "duration": 8,
    "start_time": "2022-02-27T18:22:10.839Z"
   },
   {
    "duration": 17,
    "start_time": "2022-02-27T18:22:10.848Z"
   },
   {
    "duration": 8,
    "start_time": "2022-02-27T18:22:10.867Z"
   },
   {
    "duration": 8,
    "start_time": "2022-02-27T18:22:10.878Z"
   },
   {
    "duration": 6,
    "start_time": "2022-02-27T18:22:10.888Z"
   },
   {
    "duration": 3928,
    "start_time": "2022-02-27T18:22:10.895Z"
   },
   {
    "duration": 1783,
    "start_time": "2022-02-27T18:22:13.205Z"
   },
   {
    "duration": 1758,
    "start_time": "2022-02-27T18:22:13.231Z"
   },
   {
    "duration": 1751,
    "start_time": "2022-02-27T18:22:13.240Z"
   },
   {
    "duration": 1743,
    "start_time": "2022-02-27T18:22:13.249Z"
   },
   {
    "duration": 1735,
    "start_time": "2022-02-27T18:22:13.259Z"
   },
   {
    "duration": 1721,
    "start_time": "2022-02-27T18:22:13.274Z"
   },
   {
    "duration": 1705,
    "start_time": "2022-02-27T18:22:13.292Z"
   },
   {
    "duration": 1695,
    "start_time": "2022-02-27T18:22:13.303Z"
   },
   {
    "duration": 1686,
    "start_time": "2022-02-27T18:22:13.314Z"
   },
   {
    "duration": 1679,
    "start_time": "2022-02-27T18:22:13.323Z"
   },
   {
    "duration": 1661,
    "start_time": "2022-02-27T18:22:13.342Z"
   },
   {
    "duration": 1649,
    "start_time": "2022-02-27T18:22:13.356Z"
   },
   {
    "duration": 1641,
    "start_time": "2022-02-27T18:22:13.365Z"
   },
   {
    "duration": 1636,
    "start_time": "2022-02-27T18:22:13.372Z"
   },
   {
    "duration": 1629,
    "start_time": "2022-02-27T18:22:13.380Z"
   },
   {
    "duration": 1623,
    "start_time": "2022-02-27T18:22:13.388Z"
   },
   {
    "duration": 1617,
    "start_time": "2022-02-27T18:22:13.396Z"
   },
   {
    "duration": 1611,
    "start_time": "2022-02-27T18:22:13.403Z"
   },
   {
    "duration": 1604,
    "start_time": "2022-02-27T18:22:13.412Z"
   },
   {
    "duration": 1598,
    "start_time": "2022-02-27T18:22:13.419Z"
   },
   {
    "duration": 1592,
    "start_time": "2022-02-27T18:22:13.427Z"
   },
   {
    "duration": 1584,
    "start_time": "2022-02-27T18:22:13.436Z"
   },
   {
    "duration": 1556,
    "start_time": "2022-02-27T18:22:13.464Z"
   },
   {
    "duration": 1591,
    "start_time": "2022-02-27T18:22:13.471Z"
   },
   {
    "duration": 1583,
    "start_time": "2022-02-27T18:22:13.481Z"
   },
   {
    "duration": 1578,
    "start_time": "2022-02-27T18:22:13.488Z"
   },
   {
    "duration": 1566,
    "start_time": "2022-02-27T18:22:13.501Z"
   },
   {
    "duration": 1559,
    "start_time": "2022-02-27T18:22:13.510Z"
   },
   {
    "duration": 1550,
    "start_time": "2022-02-27T18:22:13.521Z"
   },
   {
    "duration": 1540,
    "start_time": "2022-02-27T18:22:13.532Z"
   },
   {
    "duration": 1533,
    "start_time": "2022-02-27T18:22:13.541Z"
   },
   {
    "duration": 1515,
    "start_time": "2022-02-27T18:22:13.560Z"
   },
   {
    "duration": 1492,
    "start_time": "2022-02-27T18:22:13.585Z"
   },
   {
    "duration": 1486,
    "start_time": "2022-02-27T18:22:13.593Z"
   },
   {
    "duration": 1478,
    "start_time": "2022-02-27T18:22:13.602Z"
   },
   {
    "duration": 1471,
    "start_time": "2022-02-27T18:22:13.611Z"
   },
   {
    "duration": 1462,
    "start_time": "2022-02-27T18:22:13.621Z"
   },
   {
    "duration": 1454,
    "start_time": "2022-02-27T18:22:13.631Z"
   },
   {
    "duration": 1446,
    "start_time": "2022-02-27T18:22:13.640Z"
   },
   {
    "duration": 1436,
    "start_time": "2022-02-27T18:22:13.652Z"
   },
   {
    "duration": 1429,
    "start_time": "2022-02-27T18:22:13.661Z"
   },
   {
    "duration": 1422,
    "start_time": "2022-02-27T18:22:13.669Z"
   },
   {
    "duration": 1415,
    "start_time": "2022-02-27T18:22:13.678Z"
   },
   {
    "duration": 1390,
    "start_time": "2022-02-27T18:22:13.704Z"
   },
   {
    "duration": 1382,
    "start_time": "2022-02-27T18:22:13.714Z"
   },
   {
    "duration": 1376,
    "start_time": "2022-02-27T18:22:13.721Z"
   },
   {
    "duration": 1369,
    "start_time": "2022-02-27T18:22:13.730Z"
   },
   {
    "duration": 57,
    "start_time": "2022-02-27T18:22:38.304Z"
   },
   {
    "duration": 11,
    "start_time": "2022-02-27T18:22:38.363Z"
   },
   {
    "duration": 11,
    "start_time": "2022-02-27T18:22:38.377Z"
   },
   {
    "duration": 4,
    "start_time": "2022-02-27T18:22:38.390Z"
   },
   {
    "duration": 22,
    "start_time": "2022-02-27T18:22:38.396Z"
   },
   {
    "duration": 55,
    "start_time": "2022-02-27T18:22:38.420Z"
   },
   {
    "duration": 18,
    "start_time": "2022-02-27T18:22:38.476Z"
   },
   {
    "duration": 26,
    "start_time": "2022-02-27T18:22:38.496Z"
   },
   {
    "duration": 10,
    "start_time": "2022-02-27T18:22:38.524Z"
   },
   {
    "duration": 46,
    "start_time": "2022-02-27T18:22:38.536Z"
   },
   {
    "duration": 21,
    "start_time": "2022-02-27T18:22:38.584Z"
   },
   {
    "duration": 4,
    "start_time": "2022-02-27T18:22:38.607Z"
   },
   {
    "duration": 1095,
    "start_time": "2022-02-27T18:22:38.613Z"
   },
   {
    "duration": 9,
    "start_time": "2022-02-27T18:22:39.709Z"
   },
   {
    "duration": 44,
    "start_time": "2022-02-27T18:22:39.719Z"
   },
   {
    "duration": 581,
    "start_time": "2022-02-27T18:22:39.765Z"
   },
   {
    "duration": 15,
    "start_time": "2022-02-27T18:22:40.348Z"
   },
   {
    "duration": 7,
    "start_time": "2022-02-27T18:22:40.365Z"
   },
   {
    "duration": 9,
    "start_time": "2022-02-27T18:22:40.373Z"
   },
   {
    "duration": 10,
    "start_time": "2022-02-27T18:22:40.383Z"
   },
   {
    "duration": 8,
    "start_time": "2022-02-27T18:22:40.394Z"
   },
   {
    "duration": 10,
    "start_time": "2022-02-27T18:22:40.403Z"
   },
   {
    "duration": 5,
    "start_time": "2022-02-27T18:22:40.417Z"
   },
   {
    "duration": 41,
    "start_time": "2022-02-27T18:22:40.425Z"
   },
   {
    "duration": 15,
    "start_time": "2022-02-27T18:22:40.468Z"
   },
   {
    "duration": 13,
    "start_time": "2022-02-27T18:22:40.484Z"
   },
   {
    "duration": 10,
    "start_time": "2022-02-27T18:22:40.498Z"
   },
   {
    "duration": 7,
    "start_time": "2022-02-27T18:22:40.509Z"
   },
   {
    "duration": 7,
    "start_time": "2022-02-27T18:22:40.518Z"
   },
   {
    "duration": 7,
    "start_time": "2022-02-27T18:22:40.527Z"
   },
   {
    "duration": 31,
    "start_time": "2022-02-27T18:22:40.535Z"
   },
   {
    "duration": 11,
    "start_time": "2022-02-27T18:22:40.567Z"
   },
   {
    "duration": 4,
    "start_time": "2022-02-27T18:22:40.580Z"
   },
   {
    "duration": 6,
    "start_time": "2022-02-27T18:22:40.586Z"
   },
   {
    "duration": 4,
    "start_time": "2022-02-27T18:22:40.594Z"
   },
   {
    "duration": 6,
    "start_time": "2022-02-27T18:22:40.600Z"
   },
   {
    "duration": 7,
    "start_time": "2022-02-27T18:22:40.608Z"
   },
   {
    "duration": 8,
    "start_time": "2022-02-27T18:22:40.616Z"
   },
   {
    "duration": 5,
    "start_time": "2022-02-27T18:22:40.663Z"
   },
   {
    "duration": 8,
    "start_time": "2022-02-27T18:22:40.669Z"
   },
   {
    "duration": 12,
    "start_time": "2022-02-27T18:22:40.678Z"
   },
   {
    "duration": 4,
    "start_time": "2022-02-27T18:22:40.692Z"
   },
   {
    "duration": 4,
    "start_time": "2022-02-27T18:22:40.698Z"
   },
   {
    "duration": 8,
    "start_time": "2022-02-27T18:22:40.703Z"
   },
   {
    "duration": 11,
    "start_time": "2022-02-27T18:22:40.713Z"
   },
   {
    "duration": 9,
    "start_time": "2022-02-27T18:22:40.725Z"
   },
   {
    "duration": 10,
    "start_time": "2022-02-27T18:22:40.763Z"
   },
   {
    "duration": 12,
    "start_time": "2022-02-27T18:22:40.774Z"
   },
   {
    "duration": 7,
    "start_time": "2022-02-27T18:22:40.787Z"
   },
   {
    "duration": 12,
    "start_time": "2022-02-27T18:22:40.795Z"
   },
   {
    "duration": 18,
    "start_time": "2022-02-27T18:22:40.808Z"
   },
   {
    "duration": 2,
    "start_time": "2022-02-27T18:22:40.828Z"
   },
   {
    "duration": 46,
    "start_time": "2022-02-27T18:22:40.832Z"
   },
   {
    "duration": 22,
    "start_time": "2022-02-27T18:22:40.880Z"
   },
   {
    "duration": 11,
    "start_time": "2022-02-27T18:22:40.904Z"
   },
   {
    "duration": 15,
    "start_time": "2022-02-27T18:22:40.917Z"
   },
   {
    "duration": 39,
    "start_time": "2022-02-27T18:22:40.933Z"
   },
   {
    "duration": 13,
    "start_time": "2022-02-27T18:22:40.974Z"
   },
   {
    "duration": 11,
    "start_time": "2022-02-27T18:22:40.989Z"
   },
   {
    "duration": 13,
    "start_time": "2022-02-27T18:22:41.002Z"
   },
   {
    "duration": 47,
    "start_time": "2022-02-27T18:22:41.017Z"
   },
   {
    "duration": 14,
    "start_time": "2022-02-27T18:22:41.066Z"
   },
   {
    "duration": 19,
    "start_time": "2022-02-27T18:22:41.081Z"
   },
   {
    "duration": 10,
    "start_time": "2022-02-27T18:22:41.102Z"
   },
   {
    "duration": 18,
    "start_time": "2022-02-27T18:22:41.114Z"
   },
   {
    "duration": 36,
    "start_time": "2022-02-27T18:22:41.133Z"
   },
   {
    "duration": 18,
    "start_time": "2022-02-27T18:22:41.173Z"
   },
   {
    "duration": 3,
    "start_time": "2022-02-27T18:22:41.193Z"
   },
   {
    "duration": 6,
    "start_time": "2022-02-27T18:22:41.198Z"
   },
   {
    "duration": 154,
    "start_time": "2022-02-27T18:39:39.967Z"
   },
   {
    "duration": 23,
    "start_time": "2022-02-27T18:40:19.917Z"
   },
   {
    "duration": 196,
    "start_time": "2022-02-27T18:44:45.078Z"
   },
   {
    "duration": 13,
    "start_time": "2022-02-27T18:46:15.947Z"
   },
   {
    "duration": 21,
    "start_time": "2022-02-27T18:58:13.554Z"
   },
   {
    "duration": 19,
    "start_time": "2022-02-27T18:58:21.605Z"
   },
   {
    "duration": 321,
    "start_time": "2022-02-28T08:02:40.907Z"
   },
   {
    "duration": 848,
    "start_time": "2022-02-28T08:02:47.058Z"
   },
   {
    "duration": 27,
    "start_time": "2022-02-28T08:02:47.908Z"
   },
   {
    "duration": 12,
    "start_time": "2022-02-28T08:02:47.937Z"
   },
   {
    "duration": 5,
    "start_time": "2022-02-28T08:02:47.951Z"
   },
   {
    "duration": 59,
    "start_time": "2022-02-28T08:02:47.958Z"
   },
   {
    "duration": 21,
    "start_time": "2022-02-28T08:02:48.020Z"
   },
   {
    "duration": 66,
    "start_time": "2022-02-28T08:02:48.044Z"
   },
   {
    "duration": 32,
    "start_time": "2022-02-28T08:02:48.113Z"
   },
   {
    "duration": 43,
    "start_time": "2022-02-28T08:02:48.150Z"
   },
   {
    "duration": 29,
    "start_time": "2022-02-28T08:02:48.197Z"
   },
   {
    "duration": 62,
    "start_time": "2022-02-28T08:02:48.229Z"
   },
   {
    "duration": 8,
    "start_time": "2022-02-28T08:02:48.293Z"
   },
   {
    "duration": 1799,
    "start_time": "2022-02-28T08:02:48.303Z"
   },
   {
    "duration": 12,
    "start_time": "2022-02-28T08:02:50.104Z"
   },
   {
    "duration": 834,
    "start_time": "2022-02-28T08:02:50.118Z"
   },
   {
    "duration": 10,
    "start_time": "2022-02-28T08:02:50.954Z"
   },
   {
    "duration": 22,
    "start_time": "2022-02-28T08:02:50.966Z"
   },
   {
    "duration": 20,
    "start_time": "2022-02-28T08:02:50.991Z"
   },
   {
    "duration": 13,
    "start_time": "2022-02-28T08:02:51.013Z"
   },
   {
    "duration": 12,
    "start_time": "2022-02-28T08:02:51.029Z"
   },
   {
    "duration": 49,
    "start_time": "2022-02-28T08:02:51.043Z"
   },
   {
    "duration": 14,
    "start_time": "2022-02-28T08:02:51.095Z"
   },
   {
    "duration": 16,
    "start_time": "2022-02-28T08:02:51.112Z"
   },
   {
    "duration": 19,
    "start_time": "2022-02-28T08:02:51.131Z"
   },
   {
    "duration": 41,
    "start_time": "2022-02-28T08:02:51.152Z"
   },
   {
    "duration": 13,
    "start_time": "2022-02-28T08:02:51.197Z"
   },
   {
    "duration": 9,
    "start_time": "2022-02-28T08:02:51.219Z"
   },
   {
    "duration": 69,
    "start_time": "2022-02-28T08:02:51.232Z"
   },
   {
    "duration": 10,
    "start_time": "2022-02-28T08:02:51.304Z"
   },
   {
    "duration": 23,
    "start_time": "2022-02-28T08:02:51.317Z"
   },
   {
    "duration": 10,
    "start_time": "2022-02-28T08:02:51.342Z"
   },
   {
    "duration": 40,
    "start_time": "2022-02-28T08:02:51.355Z"
   },
   {
    "duration": 23,
    "start_time": "2022-02-28T08:02:51.397Z"
   },
   {
    "duration": 7,
    "start_time": "2022-02-28T08:02:51.423Z"
   },
   {
    "duration": 10,
    "start_time": "2022-02-28T08:02:51.434Z"
   },
   {
    "duration": 6,
    "start_time": "2022-02-28T08:02:51.488Z"
   },
   {
    "duration": 15,
    "start_time": "2022-02-28T08:02:51.496Z"
   },
   {
    "duration": 31,
    "start_time": "2022-02-28T08:02:51.514Z"
   },
   {
    "duration": 6,
    "start_time": "2022-02-28T08:02:51.548Z"
   },
   {
    "duration": 42,
    "start_time": "2022-02-28T08:02:51.556Z"
   },
   {
    "duration": 7,
    "start_time": "2022-02-28T08:02:51.600Z"
   },
   {
    "duration": 15,
    "start_time": "2022-02-28T08:02:51.610Z"
   },
   {
    "duration": 26,
    "start_time": "2022-02-28T08:02:51.628Z"
   },
   {
    "duration": 5,
    "start_time": "2022-02-28T08:02:51.658Z"
   },
   {
    "duration": 24,
    "start_time": "2022-02-28T08:02:51.666Z"
   },
   {
    "duration": 13,
    "start_time": "2022-02-28T08:02:51.693Z"
   },
   {
    "duration": 18,
    "start_time": "2022-02-28T08:02:51.708Z"
   },
   {
    "duration": 22,
    "start_time": "2022-02-28T08:02:51.729Z"
   },
   {
    "duration": 39,
    "start_time": "2022-02-28T08:02:51.753Z"
   },
   {
    "duration": 9,
    "start_time": "2022-02-28T08:02:51.794Z"
   },
   {
    "duration": 14,
    "start_time": "2022-02-28T08:02:51.806Z"
   },
   {
    "duration": 21,
    "start_time": "2022-02-28T08:02:51.822Z"
   },
   {
    "duration": 64,
    "start_time": "2022-02-28T08:02:51.846Z"
   },
   {
    "duration": 4,
    "start_time": "2022-02-28T08:02:51.913Z"
   },
   {
    "duration": 28,
    "start_time": "2022-02-28T08:02:51.920Z"
   },
   {
    "duration": 43,
    "start_time": "2022-02-28T08:02:51.951Z"
   },
   {
    "duration": 17,
    "start_time": "2022-02-28T08:02:51.997Z"
   },
   {
    "duration": 22,
    "start_time": "2022-02-28T08:02:52.016Z"
   },
   {
    "duration": 62,
    "start_time": "2022-02-28T08:02:52.040Z"
   },
   {
    "duration": 17,
    "start_time": "2022-02-28T08:02:52.104Z"
   },
   {
    "duration": 15,
    "start_time": "2022-02-28T08:02:52.123Z"
   },
   {
    "duration": 47,
    "start_time": "2022-02-28T08:02:52.140Z"
   },
   {
    "duration": 28,
    "start_time": "2022-02-28T08:02:52.189Z"
   },
   {
    "duration": 20,
    "start_time": "2022-02-28T08:02:52.219Z"
   },
   {
    "duration": 51,
    "start_time": "2022-02-28T08:02:52.241Z"
   },
   {
    "duration": 16,
    "start_time": "2022-02-28T08:02:52.295Z"
   },
   {
    "duration": 34,
    "start_time": "2022-02-28T08:02:52.313Z"
   },
   {
    "duration": 45,
    "start_time": "2022-02-28T08:02:52.349Z"
   },
   {
    "duration": 28,
    "start_time": "2022-02-28T08:02:52.397Z"
   },
   {
    "duration": 6,
    "start_time": "2022-02-28T08:02:52.427Z"
   },
   {
    "duration": 7,
    "start_time": "2022-02-28T08:02:52.435Z"
   },
   {
    "duration": 8,
    "start_time": "2022-02-28T08:09:08.195Z"
   },
   {
    "duration": 7,
    "start_time": "2022-02-28T08:19:23.305Z"
   },
   {
    "duration": 5,
    "start_time": "2022-02-28T08:19:47.376Z"
   },
   {
    "duration": 66,
    "start_time": "2022-02-28T08:20:01.538Z"
   },
   {
    "duration": 17,
    "start_time": "2022-02-28T08:20:01.607Z"
   },
   {
    "duration": 17,
    "start_time": "2022-02-28T08:20:01.627Z"
   },
   {
    "duration": 5,
    "start_time": "2022-02-28T08:20:01.647Z"
   },
   {
    "duration": 35,
    "start_time": "2022-02-28T08:20:01.686Z"
   },
   {
    "duration": 26,
    "start_time": "2022-02-28T08:20:01.723Z"
   },
   {
    "duration": 57,
    "start_time": "2022-02-28T08:20:01.752Z"
   },
   {
    "duration": 21,
    "start_time": "2022-02-28T08:20:01.811Z"
   },
   {
    "duration": 13,
    "start_time": "2022-02-28T08:20:01.836Z"
   },
   {
    "duration": 57,
    "start_time": "2022-02-28T08:20:01.852Z"
   },
   {
    "duration": 32,
    "start_time": "2022-02-28T08:20:01.912Z"
   },
   {
    "duration": 11,
    "start_time": "2022-02-28T08:20:01.946Z"
   },
   {
    "duration": 1730,
    "start_time": "2022-02-28T08:20:01.988Z"
   },
   {
    "duration": 12,
    "start_time": "2022-02-28T08:20:03.720Z"
   },
   {
    "duration": 843,
    "start_time": "2022-02-28T08:20:03.734Z"
   },
   {
    "duration": 10,
    "start_time": "2022-02-28T08:20:04.586Z"
   },
   {
    "duration": 8,
    "start_time": "2022-02-28T08:20:04.599Z"
   },
   {
    "duration": 12,
    "start_time": "2022-02-28T08:20:04.609Z"
   },
   {
    "duration": 11,
    "start_time": "2022-02-28T08:20:04.624Z"
   },
   {
    "duration": 52,
    "start_time": "2022-02-28T08:20:04.637Z"
   },
   {
    "duration": 10,
    "start_time": "2022-02-28T08:20:04.691Z"
   },
   {
    "duration": 11,
    "start_time": "2022-02-28T08:20:04.703Z"
   },
   {
    "duration": 9,
    "start_time": "2022-02-28T08:20:04.716Z"
   },
   {
    "duration": 15,
    "start_time": "2022-02-28T08:20:04.727Z"
   },
   {
    "duration": 50,
    "start_time": "2022-02-28T08:20:04.745Z"
   },
   {
    "duration": 8,
    "start_time": "2022-02-28T08:20:04.797Z"
   },
   {
    "duration": 7,
    "start_time": "2022-02-28T08:20:04.810Z"
   },
   {
    "duration": 35,
    "start_time": "2022-02-28T08:20:04.820Z"
   },
   {
    "duration": 10,
    "start_time": "2022-02-28T08:20:04.887Z"
   },
   {
    "duration": 20,
    "start_time": "2022-02-28T08:20:04.899Z"
   },
   {
    "duration": 11,
    "start_time": "2022-02-28T08:20:04.921Z"
   },
   {
    "duration": 9,
    "start_time": "2022-02-28T08:20:04.935Z"
   },
   {
    "duration": 52,
    "start_time": "2022-02-28T08:20:04.946Z"
   },
   {
    "duration": 6,
    "start_time": "2022-02-28T08:20:05.001Z"
   },
   {
    "duration": 87,
    "start_time": "2022-02-28T08:20:36.355Z"
   },
   {
    "duration": 88,
    "start_time": "2022-02-28T08:20:44.254Z"
   },
   {
    "duration": 87,
    "start_time": "2022-02-28T08:21:05.884Z"
   },
   {
    "duration": 6,
    "start_time": "2022-02-28T08:21:22.795Z"
   },
   {
    "duration": 7,
    "start_time": "2022-02-28T08:22:33.064Z"
   },
   {
    "duration": 6,
    "start_time": "2022-02-28T08:23:38.785Z"
   },
   {
    "duration": 5,
    "start_time": "2022-02-28T08:26:14.717Z"
   },
   {
    "duration": 8,
    "start_time": "2022-02-28T08:26:28.025Z"
   },
   {
    "duration": 5,
    "start_time": "2022-02-28T08:28:36.945Z"
   },
   {
    "duration": 5,
    "start_time": "2022-02-28T08:31:14.074Z"
   },
   {
    "duration": 9,
    "start_time": "2022-02-28T08:31:23.374Z"
   },
   {
    "duration": 5,
    "start_time": "2022-02-28T09:04:53.830Z"
   },
   {
    "duration": 9,
    "start_time": "2022-02-28T09:05:14.950Z"
   },
   {
    "duration": 5,
    "start_time": "2022-02-28T09:08:00.550Z"
   },
   {
    "duration": 10,
    "start_time": "2022-02-28T09:08:04.140Z"
   },
   {
    "duration": 6752,
    "start_time": "2022-02-28T09:11:03.558Z"
   },
   {
    "duration": 6912,
    "start_time": "2022-02-28T09:11:11.221Z"
   },
   {
    "duration": 6,
    "start_time": "2022-02-28T09:11:28.450Z"
   },
   {
    "duration": 11,
    "start_time": "2022-02-28T09:11:45.539Z"
   },
   {
    "duration": 80,
    "start_time": "2022-02-28T09:12:16.793Z"
   },
   {
    "duration": 28,
    "start_time": "2022-02-28T09:12:16.876Z"
   },
   {
    "duration": 15,
    "start_time": "2022-02-28T09:12:16.908Z"
   },
   {
    "duration": 6,
    "start_time": "2022-02-28T09:12:16.926Z"
   },
   {
    "duration": 82,
    "start_time": "2022-02-28T09:12:16.935Z"
   },
   {
    "duration": 25,
    "start_time": "2022-02-28T09:12:17.020Z"
   },
   {
    "duration": 60,
    "start_time": "2022-02-28T09:12:17.048Z"
   },
   {
    "duration": 24,
    "start_time": "2022-02-28T09:12:17.111Z"
   },
   {
    "duration": 46,
    "start_time": "2022-02-28T09:12:17.141Z"
   },
   {
    "duration": 32,
    "start_time": "2022-02-28T09:12:17.191Z"
   },
   {
    "duration": 66,
    "start_time": "2022-02-28T09:12:17.226Z"
   },
   {
    "duration": 5,
    "start_time": "2022-02-28T09:12:17.295Z"
   },
   {
    "duration": 1655,
    "start_time": "2022-02-28T09:12:17.303Z"
   },
   {
    "duration": 27,
    "start_time": "2022-02-28T09:12:18.961Z"
   },
   {
    "duration": 931,
    "start_time": "2022-02-28T09:12:18.991Z"
   },
   {
    "duration": 9,
    "start_time": "2022-02-28T09:12:19.925Z"
   },
   {
    "duration": 13,
    "start_time": "2022-02-28T09:12:19.936Z"
   },
   {
    "duration": 39,
    "start_time": "2022-02-28T09:12:19.952Z"
   },
   {
    "duration": 14,
    "start_time": "2022-02-28T09:12:19.994Z"
   },
   {
    "duration": 11,
    "start_time": "2022-02-28T09:12:20.010Z"
   },
   {
    "duration": 11,
    "start_time": "2022-02-28T09:12:20.023Z"
   },
   {
    "duration": 56,
    "start_time": "2022-02-28T09:12:20.037Z"
   },
   {
    "duration": 12,
    "start_time": "2022-02-28T09:12:20.096Z"
   },
   {
    "duration": 18,
    "start_time": "2022-02-28T09:12:20.111Z"
   },
   {
    "duration": 12,
    "start_time": "2022-02-28T09:12:20.131Z"
   },
   {
    "duration": 49,
    "start_time": "2022-02-28T09:12:20.146Z"
   },
   {
    "duration": 9,
    "start_time": "2022-02-28T09:12:20.203Z"
   },
   {
    "duration": 78,
    "start_time": "2022-02-28T09:12:20.216Z"
   },
   {
    "duration": 11,
    "start_time": "2022-02-28T09:12:20.297Z"
   },
   {
    "duration": 19,
    "start_time": "2022-02-28T09:12:20.310Z"
   },
   {
    "duration": 10,
    "start_time": "2022-02-28T09:12:20.331Z"
   },
   {
    "duration": 9,
    "start_time": "2022-02-28T09:12:20.343Z"
   },
   {
    "duration": 14,
    "start_time": "2022-02-28T09:12:20.387Z"
   },
   {
    "duration": 6,
    "start_time": "2022-02-28T09:12:20.403Z"
   },
   {
    "duration": 7,
    "start_time": "2022-02-28T09:12:20.411Z"
   },
   {
    "duration": 5,
    "start_time": "2022-02-28T09:12:20.420Z"
   },
   {
    "duration": 71,
    "start_time": "2022-02-28T09:12:20.427Z"
   },
   {
    "duration": 6,
    "start_time": "2022-02-28T09:12:20.500Z"
   },
   {
    "duration": 9,
    "start_time": "2022-02-28T09:12:20.508Z"
   },
   {
    "duration": 6,
    "start_time": "2022-02-28T09:12:20.519Z"
   },
   {
    "duration": 7,
    "start_time": "2022-02-28T09:12:20.527Z"
   },
   {
    "duration": 53,
    "start_time": "2022-02-28T09:12:20.536Z"
   },
   {
    "duration": 5,
    "start_time": "2022-02-28T09:12:20.592Z"
   },
   {
    "duration": 23,
    "start_time": "2022-02-28T09:12:20.600Z"
   },
   {
    "duration": 16,
    "start_time": "2022-02-28T09:12:20.626Z"
   },
   {
    "duration": 17,
    "start_time": "2022-02-28T09:12:20.644Z"
   },
   {
    "duration": 25,
    "start_time": "2022-02-28T09:12:20.664Z"
   },
   {
    "duration": 22,
    "start_time": "2022-02-28T09:12:20.692Z"
   },
   {
    "duration": 19,
    "start_time": "2022-02-28T09:12:20.716Z"
   },
   {
    "duration": 17,
    "start_time": "2022-02-28T09:12:20.738Z"
   },
   {
    "duration": 18,
    "start_time": "2022-02-28T09:12:20.757Z"
   },
   {
    "duration": 31,
    "start_time": "2022-02-28T09:12:20.788Z"
   },
   {
    "duration": 10,
    "start_time": "2022-02-28T09:12:20.822Z"
   },
   {
    "duration": 65,
    "start_time": "2022-02-28T09:12:46.121Z"
   },
   {
    "duration": 16,
    "start_time": "2022-02-28T09:12:46.189Z"
   },
   {
    "duration": 14,
    "start_time": "2022-02-28T09:12:46.208Z"
   },
   {
    "duration": 6,
    "start_time": "2022-02-28T09:12:46.225Z"
   },
   {
    "duration": 69,
    "start_time": "2022-02-28T09:12:46.234Z"
   },
   {
    "duration": 22,
    "start_time": "2022-02-28T09:12:46.306Z"
   },
   {
    "duration": 62,
    "start_time": "2022-02-28T09:12:46.330Z"
   },
   {
    "duration": 22,
    "start_time": "2022-02-28T09:12:46.395Z"
   },
   {
    "duration": 13,
    "start_time": "2022-02-28T09:12:46.421Z"
   },
   {
    "duration": 67,
    "start_time": "2022-02-28T09:12:46.438Z"
   },
   {
    "duration": 31,
    "start_time": "2022-02-28T09:12:46.508Z"
   },
   {
    "duration": 4,
    "start_time": "2022-02-28T09:12:46.542Z"
   },
   {
    "duration": 1672,
    "start_time": "2022-02-28T09:12:46.549Z"
   },
   {
    "duration": 12,
    "start_time": "2022-02-28T09:12:48.223Z"
   },
   {
    "duration": 1037,
    "start_time": "2022-02-28T09:12:48.237Z"
   },
   {
    "duration": 14,
    "start_time": "2022-02-28T09:12:49.277Z"
   },
   {
    "duration": 9,
    "start_time": "2022-02-28T09:12:49.294Z"
   },
   {
    "duration": 13,
    "start_time": "2022-02-28T09:12:49.306Z"
   },
   {
    "duration": 12,
    "start_time": "2022-02-28T09:12:49.321Z"
   },
   {
    "duration": 53,
    "start_time": "2022-02-28T09:12:49.335Z"
   },
   {
    "duration": 9,
    "start_time": "2022-02-28T09:12:49.390Z"
   },
   {
    "duration": 9,
    "start_time": "2022-02-28T09:12:49.401Z"
   },
   {
    "duration": 10,
    "start_time": "2022-02-28T09:12:49.413Z"
   },
   {
    "duration": 19,
    "start_time": "2022-02-28T09:12:49.426Z"
   },
   {
    "duration": 45,
    "start_time": "2022-02-28T09:12:49.447Z"
   },
   {
    "duration": 16,
    "start_time": "2022-02-28T09:12:49.495Z"
   },
   {
    "duration": 8,
    "start_time": "2022-02-28T09:12:49.689Z"
   },
   {
    "duration": 38,
    "start_time": "2022-02-28T09:12:49.701Z"
   },
   {
    "duration": 9,
    "start_time": "2022-02-28T09:12:49.741Z"
   },
   {
    "duration": 50,
    "start_time": "2022-02-28T09:12:49.752Z"
   },
   {
    "duration": 12,
    "start_time": "2022-02-28T09:12:49.804Z"
   },
   {
    "duration": 15,
    "start_time": "2022-02-28T09:12:49.818Z"
   },
   {
    "duration": 18,
    "start_time": "2022-02-28T09:12:49.835Z"
   },
   {
    "duration": 36,
    "start_time": "2022-02-28T09:12:49.855Z"
   },
   {
    "duration": 8,
    "start_time": "2022-02-28T09:12:49.893Z"
   },
   {
    "duration": 4,
    "start_time": "2022-02-28T09:12:49.904Z"
   },
   {
    "duration": 34,
    "start_time": "2022-02-28T09:12:49.911Z"
   },
   {
    "duration": 39,
    "start_time": "2022-02-28T09:12:49.948Z"
   },
   {
    "duration": 8,
    "start_time": "2022-02-28T09:12:49.990Z"
   },
   {
    "duration": 6,
    "start_time": "2022-02-28T09:12:50.001Z"
   },
   {
    "duration": 6,
    "start_time": "2022-02-28T09:12:50.009Z"
   },
   {
    "duration": 22,
    "start_time": "2022-02-28T09:12:50.018Z"
   },
   {
    "duration": 5,
    "start_time": "2022-02-28T09:12:50.042Z"
   },
   {
    "duration": 6,
    "start_time": "2022-02-28T09:12:50.088Z"
   },
   {
    "duration": 10,
    "start_time": "2022-02-28T09:12:50.097Z"
   },
   {
    "duration": 15,
    "start_time": "2022-02-28T09:12:50.110Z"
   },
   {
    "duration": 12,
    "start_time": "2022-02-28T09:12:50.128Z"
   },
   {
    "duration": 50,
    "start_time": "2022-02-28T09:12:50.142Z"
   },
   {
    "duration": 11,
    "start_time": "2022-02-28T09:12:50.195Z"
   },
   {
    "duration": 10,
    "start_time": "2022-02-28T09:12:50.208Z"
   },
   {
    "duration": 17,
    "start_time": "2022-02-28T09:12:50.220Z"
   },
   {
    "duration": 67,
    "start_time": "2022-02-28T09:12:50.240Z"
   },
   {
    "duration": 10,
    "start_time": "2022-02-28T09:12:50.309Z"
   },
   {
    "duration": 24,
    "start_time": "2022-02-28T09:12:50.321Z"
   },
   {
    "duration": 47,
    "start_time": "2022-02-28T09:12:50.347Z"
   },
   {
    "duration": 13,
    "start_time": "2022-02-28T09:12:50.397Z"
   },
   {
    "duration": 26,
    "start_time": "2022-02-28T09:12:50.413Z"
   },
   {
    "duration": 57,
    "start_time": "2022-02-28T09:12:50.441Z"
   },
   {
    "duration": 22,
    "start_time": "2022-02-28T09:12:50.501Z"
   },
   {
    "duration": 15,
    "start_time": "2022-02-28T09:12:50.525Z"
   },
   {
    "duration": 47,
    "start_time": "2022-02-28T09:12:50.542Z"
   },
   {
    "duration": 33,
    "start_time": "2022-02-28T09:12:50.592Z"
   },
   {
    "duration": 21,
    "start_time": "2022-02-28T09:12:50.627Z"
   },
   {
    "duration": 48,
    "start_time": "2022-02-28T09:12:50.651Z"
   },
   {
    "duration": 16,
    "start_time": "2022-02-28T09:12:50.702Z"
   },
   {
    "duration": 31,
    "start_time": "2022-02-28T09:12:50.720Z"
   },
   {
    "duration": 50,
    "start_time": "2022-02-28T09:12:50.753Z"
   },
   {
    "duration": 29,
    "start_time": "2022-02-28T09:12:50.805Z"
   },
   {
    "duration": 7,
    "start_time": "2022-02-28T09:12:50.837Z"
   },
   {
    "duration": 43,
    "start_time": "2022-02-28T09:12:50.846Z"
   },
   {
    "duration": 6,
    "start_time": "2022-02-28T09:12:50.891Z"
   },
   {
    "duration": 17,
    "start_time": "2022-02-28T09:12:50.900Z"
   },
   {
    "duration": 65,
    "start_time": "2022-02-28T09:39:31.020Z"
   },
   {
    "duration": 16,
    "start_time": "2022-02-28T09:39:31.088Z"
   },
   {
    "duration": 20,
    "start_time": "2022-02-28T09:39:31.107Z"
   },
   {
    "duration": 20,
    "start_time": "2022-02-28T09:39:31.129Z"
   },
   {
    "duration": 53,
    "start_time": "2022-02-28T09:39:31.151Z"
   },
   {
    "duration": 22,
    "start_time": "2022-02-28T09:39:31.206Z"
   },
   {
    "duration": 22,
    "start_time": "2022-02-28T09:39:31.230Z"
   },
   {
    "duration": 51,
    "start_time": "2022-02-28T09:39:31.255Z"
   },
   {
    "duration": 14,
    "start_time": "2022-02-28T09:39:31.310Z"
   },
   {
    "duration": 65,
    "start_time": "2022-02-28T09:39:31.327Z"
   },
   {
    "duration": 29,
    "start_time": "2022-02-28T09:39:31.394Z"
   },
   {
    "duration": 5,
    "start_time": "2022-02-28T09:39:31.425Z"
   },
   {
    "duration": 1668,
    "start_time": "2022-02-28T09:39:31.433Z"
   },
   {
    "duration": 12,
    "start_time": "2022-02-28T09:39:33.103Z"
   },
   {
    "duration": 896,
    "start_time": "2022-02-28T09:39:33.118Z"
   },
   {
    "duration": 11,
    "start_time": "2022-02-28T09:39:34.018Z"
   },
   {
    "duration": 10,
    "start_time": "2022-02-28T09:39:34.032Z"
   },
   {
    "duration": 48,
    "start_time": "2022-02-28T09:39:34.045Z"
   },
   {
    "duration": 11,
    "start_time": "2022-02-28T09:39:34.096Z"
   },
   {
    "duration": 10,
    "start_time": "2022-02-28T09:39:34.110Z"
   },
   {
    "duration": 11,
    "start_time": "2022-02-28T09:39:34.122Z"
   },
   {
    "duration": 8,
    "start_time": "2022-02-28T09:39:34.136Z"
   },
   {
    "duration": 10,
    "start_time": "2022-02-28T09:39:34.187Z"
   },
   {
    "duration": 19,
    "start_time": "2022-02-28T09:39:34.199Z"
   },
   {
    "duration": 19,
    "start_time": "2022-02-28T09:39:34.220Z"
   },
   {
    "duration": 10,
    "start_time": "2022-02-28T09:39:34.241Z"
   },
   {
    "duration": 8,
    "start_time": "2022-02-28T09:39:34.287Z"
   },
   {
    "duration": 38,
    "start_time": "2022-02-28T09:39:34.299Z"
   },
   {
    "duration": 10,
    "start_time": "2022-02-28T09:39:34.339Z"
   },
   {
    "duration": 49,
    "start_time": "2022-02-28T09:39:34.354Z"
   },
   {
    "duration": 23,
    "start_time": "2022-02-28T09:39:34.405Z"
   },
   {
    "duration": 12,
    "start_time": "2022-02-28T09:39:34.430Z"
   },
   {
    "duration": 45,
    "start_time": "2022-02-28T09:39:34.445Z"
   },
   {
    "duration": 7,
    "start_time": "2022-02-28T09:39:34.493Z"
   },
   {
    "duration": 12,
    "start_time": "2022-02-28T09:39:34.503Z"
   },
   {
    "duration": 5,
    "start_time": "2022-02-28T09:39:34.518Z"
   },
   {
    "duration": 73,
    "start_time": "2022-02-28T09:39:34.526Z"
   },
   {
    "duration": 6,
    "start_time": "2022-02-28T09:39:34.602Z"
   },
   {
    "duration": 9,
    "start_time": "2022-02-28T09:39:34.611Z"
   },
   {
    "duration": 9,
    "start_time": "2022-02-28T09:39:34.623Z"
   },
   {
    "duration": 15,
    "start_time": "2022-02-28T09:39:34.634Z"
   },
   {
    "duration": 42,
    "start_time": "2022-02-28T09:39:34.652Z"
   },
   {
    "duration": 14,
    "start_time": "2022-02-28T09:39:34.696Z"
   },
   {
    "duration": 6,
    "start_time": "2022-02-28T09:39:34.713Z"
   },
   {
    "duration": 19,
    "start_time": "2022-02-28T09:39:34.721Z"
   },
   {
    "duration": 35,
    "start_time": "2022-02-28T09:39:34.743Z"
   },
   {
    "duration": 14,
    "start_time": "2022-02-28T09:39:34.787Z"
   },
   {
    "duration": 26,
    "start_time": "2022-02-28T09:39:34.804Z"
   },
   {
    "duration": 13,
    "start_time": "2022-02-28T09:39:34.833Z"
   },
   {
    "duration": 38,
    "start_time": "2022-02-28T09:39:34.850Z"
   },
   {
    "duration": 20,
    "start_time": "2022-02-28T09:39:34.891Z"
   },
   {
    "duration": 35,
    "start_time": "2022-02-28T09:39:34.914Z"
   },
   {
    "duration": 40,
    "start_time": "2022-02-28T09:39:34.952Z"
   },
   {
    "duration": 41,
    "start_time": "2022-02-28T09:39:34.995Z"
   },
   {
    "duration": 27,
    "start_time": "2022-02-28T09:39:35.039Z"
   },
   {
    "duration": 14,
    "start_time": "2022-02-28T09:39:35.087Z"
   },
   {
    "duration": 39,
    "start_time": "2022-02-28T09:39:35.103Z"
   },
   {
    "duration": 61,
    "start_time": "2022-02-28T09:39:35.145Z"
   },
   {
    "duration": 28,
    "start_time": "2022-02-28T09:39:35.209Z"
   },
   {
    "duration": 36,
    "start_time": "2022-02-28T09:39:35.240Z"
   },
   {
    "duration": 29,
    "start_time": "2022-02-28T09:39:35.287Z"
   },
   {
    "duration": 45,
    "start_time": "2022-02-28T09:39:35.318Z"
   },
   {
    "duration": 38,
    "start_time": "2022-02-28T09:39:35.366Z"
   },
   {
    "duration": 54,
    "start_time": "2022-02-28T09:39:35.407Z"
   },
   {
    "duration": 19,
    "start_time": "2022-02-28T09:39:35.464Z"
   },
   {
    "duration": 45,
    "start_time": "2022-02-28T09:39:35.486Z"
   },
   {
    "duration": 25,
    "start_time": "2022-02-28T09:39:35.534Z"
   },
   {
    "duration": 41,
    "start_time": "2022-02-28T09:39:35.562Z"
   },
   {
    "duration": 5,
    "start_time": "2022-02-28T09:39:35.606Z"
   },
   {
    "duration": 20,
    "start_time": "2022-02-28T09:39:35.614Z"
   },
   {
    "duration": 29,
    "start_time": "2022-02-28T09:39:35.636Z"
   },
   {
    "duration": 33,
    "start_time": "2022-02-28T09:39:35.667Z"
   },
   {
    "duration": 38,
    "start_time": "2022-02-28T09:39:35.703Z"
   },
   {
    "duration": 43,
    "start_time": "2022-02-28T09:39:35.745Z"
   },
   {
    "duration": 20,
    "start_time": "2022-02-28T09:39:35.790Z"
   },
   {
    "duration": 23,
    "start_time": "2022-02-28T09:39:35.813Z"
   },
   {
    "duration": 65,
    "start_time": "2022-02-28T09:44:40.321Z"
   },
   {
    "duration": 17,
    "start_time": "2022-02-28T09:44:40.389Z"
   },
   {
    "duration": 11,
    "start_time": "2022-02-28T09:44:40.409Z"
   },
   {
    "duration": 4,
    "start_time": "2022-02-28T09:44:40.423Z"
   },
   {
    "duration": 69,
    "start_time": "2022-02-28T09:44:40.429Z"
   },
   {
    "duration": 22,
    "start_time": "2022-02-28T09:44:40.500Z"
   },
   {
    "duration": 22,
    "start_time": "2022-02-28T09:44:40.524Z"
   },
   {
    "duration": 51,
    "start_time": "2022-02-28T09:44:40.549Z"
   },
   {
    "duration": 13,
    "start_time": "2022-02-28T09:44:40.603Z"
   },
   {
    "duration": 29,
    "start_time": "2022-02-28T09:44:40.619Z"
   },
   {
    "duration": 31,
    "start_time": "2022-02-28T09:44:40.688Z"
   },
   {
    "duration": 5,
    "start_time": "2022-02-28T09:44:40.721Z"
   },
   {
    "duration": 1813,
    "start_time": "2022-02-28T09:44:40.728Z"
   },
   {
    "duration": 12,
    "start_time": "2022-02-28T09:44:42.543Z"
   },
   {
    "duration": 834,
    "start_time": "2022-02-28T09:44:42.557Z"
   },
   {
    "duration": 10,
    "start_time": "2022-02-28T09:44:43.393Z"
   },
   {
    "duration": 10,
    "start_time": "2022-02-28T09:44:43.406Z"
   },
   {
    "duration": 12,
    "start_time": "2022-02-28T09:44:43.419Z"
   },
   {
    "duration": 11,
    "start_time": "2022-02-28T09:44:43.434Z"
   },
   {
    "duration": 45,
    "start_time": "2022-02-28T09:44:43.447Z"
   },
   {
    "duration": 15,
    "start_time": "2022-02-28T09:44:43.494Z"
   },
   {
    "duration": 17,
    "start_time": "2022-02-28T09:44:43.511Z"
   },
   {
    "duration": 10,
    "start_time": "2022-02-28T09:44:43.534Z"
   },
   {
    "duration": 46,
    "start_time": "2022-02-28T09:44:43.547Z"
   },
   {
    "duration": 12,
    "start_time": "2022-02-28T09:44:43.595Z"
   },
   {
    "duration": 10,
    "start_time": "2022-02-28T09:44:43.610Z"
   },
   {
    "duration": 12,
    "start_time": "2022-02-28T09:44:43.622Z"
   },
   {
    "duration": 67,
    "start_time": "2022-02-28T09:44:43.636Z"
   },
   {
    "duration": 9,
    "start_time": "2022-02-28T09:44:43.706Z"
   },
   {
    "duration": 23,
    "start_time": "2022-02-28T09:44:43.717Z"
   },
   {
    "duration": 10,
    "start_time": "2022-02-28T09:44:43.742Z"
   },
   {
    "duration": 39,
    "start_time": "2022-02-28T09:44:43.754Z"
   },
   {
    "duration": 16,
    "start_time": "2022-02-28T09:44:43.795Z"
   },
   {
    "duration": 6,
    "start_time": "2022-02-28T09:44:43.813Z"
   },
   {
    "duration": 8,
    "start_time": "2022-02-28T09:44:43.821Z"
   },
   {
    "duration": 4,
    "start_time": "2022-02-28T09:44:43.831Z"
   },
   {
    "duration": 73,
    "start_time": "2022-02-28T09:44:43.837Z"
   },
   {
    "duration": 6,
    "start_time": "2022-02-28T09:44:43.912Z"
   },
   {
    "duration": 9,
    "start_time": "2022-02-28T09:44:43.920Z"
   },
   {
    "duration": 7,
    "start_time": "2022-02-28T09:44:43.931Z"
   },
   {
    "duration": 9,
    "start_time": "2022-02-28T09:44:43.940Z"
   },
   {
    "duration": 12,
    "start_time": "2022-02-28T09:44:43.987Z"
   },
   {
    "duration": 4,
    "start_time": "2022-02-28T09:44:44.002Z"
   },
   {
    "duration": 8,
    "start_time": "2022-02-28T09:44:44.008Z"
   },
   {
    "duration": 14,
    "start_time": "2022-02-28T09:44:44.018Z"
   },
   {
    "duration": 53,
    "start_time": "2022-02-28T09:44:44.034Z"
   },
   {
    "duration": 10,
    "start_time": "2022-02-28T09:44:44.089Z"
   },
   {
    "duration": 16,
    "start_time": "2022-02-28T09:44:44.101Z"
   },
   {
    "duration": 9,
    "start_time": "2022-02-28T09:44:44.119Z"
   },
   {
    "duration": 10,
    "start_time": "2022-02-28T09:44:44.130Z"
   },
   {
    "duration": 55,
    "start_time": "2022-02-28T09:44:44.142Z"
   },
   {
    "duration": 29,
    "start_time": "2022-02-28T09:44:44.199Z"
   },
   {
    "duration": 9,
    "start_time": "2022-02-28T09:44:44.230Z"
   },
   {
    "duration": 55,
    "start_time": "2022-02-28T09:44:44.241Z"
   },
   {
    "duration": 13,
    "start_time": "2022-02-28T09:44:44.299Z"
   },
   {
    "duration": 13,
    "start_time": "2022-02-28T09:44:44.314Z"
   },
   {
    "duration": 23,
    "start_time": "2022-02-28T09:44:44.329Z"
   },
   {
    "duration": 26,
    "start_time": "2022-02-28T09:44:44.388Z"
   },
   {
    "duration": 18,
    "start_time": "2022-02-28T09:44:44.417Z"
   },
   {
    "duration": 15,
    "start_time": "2022-02-28T09:44:44.438Z"
   },
   {
    "duration": 48,
    "start_time": "2022-02-28T09:44:44.456Z"
   },
   {
    "duration": 33,
    "start_time": "2022-02-28T09:44:44.506Z"
   },
   {
    "duration": 20,
    "start_time": "2022-02-28T09:44:44.541Z"
   },
   {
    "duration": 23,
    "start_time": "2022-02-28T09:44:44.588Z"
   },
   {
    "duration": 16,
    "start_time": "2022-02-28T09:44:44.613Z"
   },
   {
    "duration": 64,
    "start_time": "2022-02-28T09:44:44.631Z"
   },
   {
    "duration": 22,
    "start_time": "2022-02-28T09:44:44.698Z"
   },
   {
    "duration": 26,
    "start_time": "2022-02-28T09:44:44.727Z"
   },
   {
    "duration": 34,
    "start_time": "2022-02-28T09:44:44.755Z"
   },
   {
    "duration": 7,
    "start_time": "2022-02-28T09:44:44.791Z"
   },
   {
    "duration": 8,
    "start_time": "2022-02-28T09:44:44.800Z"
   },
   {
    "duration": 13,
    "start_time": "2022-02-28T09:44:44.811Z"
   },
   {
    "duration": 10,
    "start_time": "2022-02-28T09:44:44.826Z"
   },
   {
    "duration": 60,
    "start_time": "2022-02-28T09:44:44.839Z"
   },
   {
    "duration": 19,
    "start_time": "2022-02-28T09:44:44.902Z"
   },
   {
    "duration": 16,
    "start_time": "2022-02-28T09:44:44.923Z"
   },
   {
    "duration": 66,
    "start_time": "2022-02-28T09:46:48.192Z"
   },
   {
    "duration": 28,
    "start_time": "2022-02-28T09:46:48.260Z"
   },
   {
    "duration": 12,
    "start_time": "2022-02-28T09:46:48.291Z"
   },
   {
    "duration": 5,
    "start_time": "2022-02-28T09:46:48.305Z"
   },
   {
    "duration": 35,
    "start_time": "2022-02-28T09:46:48.312Z"
   },
   {
    "duration": 22,
    "start_time": "2022-02-28T09:46:48.388Z"
   },
   {
    "duration": 22,
    "start_time": "2022-02-28T09:46:48.412Z"
   },
   {
    "duration": 54,
    "start_time": "2022-02-28T09:46:48.438Z"
   },
   {
    "duration": 13,
    "start_time": "2022-02-28T09:46:48.495Z"
   },
   {
    "duration": 28,
    "start_time": "2022-02-28T09:46:48.510Z"
   },
   {
    "duration": 72,
    "start_time": "2022-02-28T09:46:48.541Z"
   },
   {
    "duration": 6,
    "start_time": "2022-02-28T09:46:48.616Z"
   },
   {
    "duration": 1963,
    "start_time": "2022-02-28T09:46:48.625Z"
   },
   {
    "duration": 11,
    "start_time": "2022-02-28T09:46:50.590Z"
   },
   {
    "duration": 818,
    "start_time": "2022-02-28T09:46:50.603Z"
   },
   {
    "duration": 10,
    "start_time": "2022-02-28T09:46:51.423Z"
   },
   {
    "duration": 10,
    "start_time": "2022-02-28T09:46:51.435Z"
   },
   {
    "duration": 41,
    "start_time": "2022-02-28T09:46:51.447Z"
   },
   {
    "duration": 12,
    "start_time": "2022-02-28T09:46:51.491Z"
   },
   {
    "duration": 12,
    "start_time": "2022-02-28T09:46:51.505Z"
   },
   {
    "duration": 9,
    "start_time": "2022-02-28T09:46:51.519Z"
   },
   {
    "duration": 14,
    "start_time": "2022-02-28T09:46:51.531Z"
   },
   {
    "duration": 44,
    "start_time": "2022-02-28T09:46:51.551Z"
   },
   {
    "duration": 17,
    "start_time": "2022-02-28T09:46:51.600Z"
   },
   {
    "duration": 14,
    "start_time": "2022-02-28T09:46:51.619Z"
   },
   {
    "duration": 14,
    "start_time": "2022-02-28T09:46:51.635Z"
   },
   {
    "duration": 37,
    "start_time": "2022-02-28T09:46:51.651Z"
   },
   {
    "duration": 36,
    "start_time": "2022-02-28T09:46:51.690Z"
   },
   {
    "duration": 11,
    "start_time": "2022-02-28T09:46:51.728Z"
   },
   {
    "duration": 53,
    "start_time": "2022-02-28T09:46:51.741Z"
   },
   {
    "duration": 10,
    "start_time": "2022-02-28T09:46:51.796Z"
   },
   {
    "duration": 10,
    "start_time": "2022-02-28T09:46:51.808Z"
   },
   {
    "duration": 16,
    "start_time": "2022-02-28T09:46:51.820Z"
   },
   {
    "duration": 7,
    "start_time": "2022-02-28T09:46:51.838Z"
   },
   {
    "duration": 44,
    "start_time": "2022-02-28T09:46:51.848Z"
   },
   {
    "duration": 5,
    "start_time": "2022-02-28T09:46:51.894Z"
   },
   {
    "duration": 30,
    "start_time": "2022-02-28T09:46:51.901Z"
   },
   {
    "duration": 6,
    "start_time": "2022-02-28T09:46:51.934Z"
   },
   {
    "duration": 46,
    "start_time": "2022-02-28T09:46:51.942Z"
   },
   {
    "duration": 8,
    "start_time": "2022-02-28T09:46:51.990Z"
   },
   {
    "duration": 9,
    "start_time": "2022-02-28T09:46:52.000Z"
   },
   {
    "duration": 17,
    "start_time": "2022-02-28T09:46:52.011Z"
   },
   {
    "duration": 7,
    "start_time": "2022-02-28T09:46:52.030Z"
   },
   {
    "duration": 11,
    "start_time": "2022-02-28T09:46:52.040Z"
   },
   {
    "duration": 36,
    "start_time": "2022-02-28T09:46:52.053Z"
   },
   {
    "duration": 17,
    "start_time": "2022-02-28T09:46:52.091Z"
   },
   {
    "duration": 9,
    "start_time": "2022-02-28T09:46:52.110Z"
   },
   {
    "duration": 19,
    "start_time": "2022-02-28T09:46:52.121Z"
   },
   {
    "duration": 46,
    "start_time": "2022-02-28T09:46:52.142Z"
   },
   {
    "duration": 8,
    "start_time": "2022-02-28T09:46:52.190Z"
   },
   {
    "duration": 18,
    "start_time": "2022-02-28T09:46:52.200Z"
   },
   {
    "duration": 30,
    "start_time": "2022-02-28T09:46:52.220Z"
   },
   {
    "duration": 11,
    "start_time": "2022-02-28T09:46:52.286Z"
   },
   {
    "duration": 22,
    "start_time": "2022-02-28T09:46:52.299Z"
   },
   {
    "duration": 15,
    "start_time": "2022-02-28T09:46:52.323Z"
   },
   {
    "duration": 49,
    "start_time": "2022-02-28T09:46:52.341Z"
   },
   {
    "duration": 23,
    "start_time": "2022-02-28T09:46:52.392Z"
   },
   {
    "duration": 29,
    "start_time": "2022-02-28T09:46:52.417Z"
   },
   {
    "duration": 45,
    "start_time": "2022-02-28T09:46:52.448Z"
   },
   {
    "duration": 16,
    "start_time": "2022-02-28T09:46:52.495Z"
   },
   {
    "duration": 20,
    "start_time": "2022-02-28T09:46:52.513Z"
   },
   {
    "duration": 57,
    "start_time": "2022-02-28T09:46:52.536Z"
   },
   {
    "duration": 21,
    "start_time": "2022-02-28T09:46:52.595Z"
   },
   {
    "duration": 21,
    "start_time": "2022-02-28T09:46:52.618Z"
   },
   {
    "duration": 45,
    "start_time": "2022-02-28T09:46:52.642Z"
   },
   {
    "duration": 28,
    "start_time": "2022-02-28T09:46:52.690Z"
   },
   {
    "duration": 23,
    "start_time": "2022-02-28T09:46:52.720Z"
   },
   {
    "duration": 59,
    "start_time": "2022-02-28T09:46:52.752Z"
   },
   {
    "duration": 5,
    "start_time": "2022-02-28T09:46:52.814Z"
   },
   {
    "duration": 9,
    "start_time": "2022-02-28T09:46:52.822Z"
   },
   {
    "duration": 5,
    "start_time": "2022-02-28T09:46:52.833Z"
   },
   {
    "duration": 54,
    "start_time": "2022-02-28T09:46:52.840Z"
   },
   {
    "duration": 10,
    "start_time": "2022-02-28T09:46:52.896Z"
   },
   {
    "duration": 25,
    "start_time": "2022-02-28T09:46:52.908Z"
   },
   {
    "duration": 51,
    "start_time": "2022-02-28T09:46:52.936Z"
   },
   {
    "duration": 1297,
    "start_time": "2022-03-07T18:58:34.978Z"
   },
   {
    "duration": 29,
    "start_time": "2022-03-07T18:58:36.278Z"
   },
   {
    "duration": 28,
    "start_time": "2022-03-07T18:58:36.310Z"
   },
   {
    "duration": 5,
    "start_time": "2022-03-07T18:58:36.340Z"
   },
   {
    "duration": 36,
    "start_time": "2022-03-07T18:58:36.348Z"
   },
   {
    "duration": 62,
    "start_time": "2022-03-07T18:58:36.387Z"
   },
   {
    "duration": 26,
    "start_time": "2022-03-07T18:58:36.452Z"
   },
   {
    "duration": 50,
    "start_time": "2022-03-07T18:58:36.484Z"
   },
   {
    "duration": 14,
    "start_time": "2022-03-07T18:58:36.537Z"
   },
   {
    "duration": 30,
    "start_time": "2022-03-07T18:58:36.553Z"
   },
   {
    "duration": 74,
    "start_time": "2022-03-07T18:58:36.586Z"
   },
   {
    "duration": 8,
    "start_time": "2022-03-07T18:58:36.663Z"
   },
   {
    "duration": 1998,
    "start_time": "2022-03-07T18:58:36.674Z"
   },
   {
    "duration": 11,
    "start_time": "2022-03-07T18:58:38.674Z"
   },
   {
    "duration": 845,
    "start_time": "2022-03-07T18:58:38.687Z"
   },
   {
    "duration": 9,
    "start_time": "2022-03-07T18:58:39.535Z"
   },
   {
    "duration": 10,
    "start_time": "2022-03-07T18:58:39.547Z"
   },
   {
    "duration": 15,
    "start_time": "2022-03-07T18:58:39.560Z"
   },
   {
    "duration": 54,
    "start_time": "2022-03-07T18:58:39.578Z"
   },
   {
    "duration": 8,
    "start_time": "2022-03-07T18:58:39.634Z"
   },
   {
    "duration": 9,
    "start_time": "2022-03-07T18:58:39.644Z"
   },
   {
    "duration": 7,
    "start_time": "2022-03-07T18:58:39.655Z"
   },
   {
    "duration": 9,
    "start_time": "2022-03-07T18:58:39.668Z"
   },
   {
    "duration": 60,
    "start_time": "2022-03-07T18:58:39.681Z"
   },
   {
    "duration": 14,
    "start_time": "2022-03-07T18:58:39.744Z"
   },
   {
    "duration": 8,
    "start_time": "2022-03-07T18:58:39.760Z"
   },
   {
    "duration": 8,
    "start_time": "2022-03-07T18:58:39.771Z"
   },
   {
    "duration": 72,
    "start_time": "2022-03-07T18:58:39.781Z"
   },
   {
    "duration": 9,
    "start_time": "2022-03-07T18:58:39.855Z"
   },
   {
    "duration": 18,
    "start_time": "2022-03-07T18:58:39.867Z"
   },
   {
    "duration": 7,
    "start_time": "2022-03-07T18:58:39.887Z"
   },
   {
    "duration": 43,
    "start_time": "2022-03-07T18:58:39.897Z"
   },
   {
    "duration": 15,
    "start_time": "2022-03-07T18:58:39.942Z"
   },
   {
    "duration": 6,
    "start_time": "2022-03-07T18:58:39.960Z"
   },
   {
    "duration": 8,
    "start_time": "2022-03-07T18:58:39.969Z"
   },
   {
    "duration": 4,
    "start_time": "2022-03-07T18:58:39.980Z"
   },
   {
    "duration": 70,
    "start_time": "2022-03-07T18:58:39.987Z"
   },
   {
    "duration": 6,
    "start_time": "2022-03-07T18:58:40.059Z"
   },
   {
    "duration": 7,
    "start_time": "2022-03-07T18:58:40.068Z"
   },
   {
    "duration": 6,
    "start_time": "2022-03-07T18:58:40.077Z"
   },
   {
    "duration": 48,
    "start_time": "2022-03-07T18:58:40.085Z"
   },
   {
    "duration": 14,
    "start_time": "2022-03-07T18:58:40.136Z"
   },
   {
    "duration": 5,
    "start_time": "2022-03-07T18:58:40.153Z"
   },
   {
    "duration": 7,
    "start_time": "2022-03-07T18:58:40.161Z"
   },
   {
    "duration": 13,
    "start_time": "2022-03-07T18:58:40.170Z"
   },
   {
    "duration": 16,
    "start_time": "2022-03-07T18:58:40.234Z"
   },
   {
    "duration": 13,
    "start_time": "2022-03-07T18:58:40.253Z"
   },
   {
    "duration": 14,
    "start_time": "2022-03-07T18:58:40.269Z"
   },
   {
    "duration": 9,
    "start_time": "2022-03-07T18:58:40.286Z"
   },
   {
    "duration": 40,
    "start_time": "2022-03-07T18:58:40.298Z"
   },
   {
    "duration": 17,
    "start_time": "2022-03-07T18:58:40.341Z"
   },
   {
    "duration": 29,
    "start_time": "2022-03-07T18:58:40.360Z"
   },
   {
    "duration": 41,
    "start_time": "2022-03-07T18:58:40.391Z"
   },
   {
    "duration": 22,
    "start_time": "2022-03-07T18:58:40.434Z"
   },
   {
    "duration": 415,
    "start_time": "2022-03-07T18:58:40.459Z"
   },
   {
    "duration": -2581,
    "start_time": "2022-03-07T18:58:43.458Z"
   },
   {
    "duration": -2582,
    "start_time": "2022-03-07T18:58:43.461Z"
   },
   {
    "duration": -2582,
    "start_time": "2022-03-07T18:58:43.463Z"
   },
   {
    "duration": -2583,
    "start_time": "2022-03-07T18:58:43.465Z"
   },
   {
    "duration": -2583,
    "start_time": "2022-03-07T18:58:43.467Z"
   },
   {
    "duration": -2584,
    "start_time": "2022-03-07T18:58:43.470Z"
   },
   {
    "duration": -2589,
    "start_time": "2022-03-07T18:58:43.476Z"
   },
   {
    "duration": -2589,
    "start_time": "2022-03-07T18:58:43.478Z"
   },
   {
    "duration": -2589,
    "start_time": "2022-03-07T18:58:43.480Z"
   },
   {
    "duration": -2590,
    "start_time": "2022-03-07T18:58:43.483Z"
   },
   {
    "duration": -2591,
    "start_time": "2022-03-07T18:58:43.485Z"
   },
   {
    "duration": -2591,
    "start_time": "2022-03-07T18:58:43.488Z"
   },
   {
    "duration": -2591,
    "start_time": "2022-03-07T18:58:43.490Z"
   },
   {
    "duration": -2596,
    "start_time": "2022-03-07T18:58:43.497Z"
   },
   {
    "duration": -2597,
    "start_time": "2022-03-07T18:58:43.499Z"
   },
   {
    "duration": -2600,
    "start_time": "2022-03-07T18:58:43.504Z"
   },
   {
    "duration": -2602,
    "start_time": "2022-03-07T18:58:43.507Z"
   },
   {
    "duration": -2603,
    "start_time": "2022-03-07T18:58:43.510Z"
   },
   {
    "duration": -2604,
    "start_time": "2022-03-07T18:58:43.512Z"
   },
   {
    "duration": -2605,
    "start_time": "2022-03-07T18:58:43.514Z"
   },
   {
    "duration": 18,
    "start_time": "2022-03-07T19:02:13.360Z"
   },
   {
    "duration": 370,
    "start_time": "2022-03-07T19:04:11.944Z"
   },
   {
    "duration": -2596,
    "start_time": "2022-03-07T19:04:14.912Z"
   },
   {
    "duration": 26,
    "start_time": "2022-03-07T19:04:13.001Z"
   },
   {
    "duration": 327,
    "start_time": "2022-03-07T19:04:15.828Z"
   },
   {
    "duration": 20,
    "start_time": "2022-03-07T19:04:18.340Z"
   },
   {
    "duration": 14,
    "start_time": "2022-03-07T19:04:18.771Z"
   },
   {
    "duration": 19,
    "start_time": "2022-03-07T19:04:19.292Z"
   },
   {
    "duration": 27,
    "start_time": "2022-03-07T19:04:20.316Z"
   },
   {
    "duration": 21,
    "start_time": "2022-03-07T19:04:20.691Z"
   },
   {
    "duration": 20,
    "start_time": "2022-03-07T19:04:21.097Z"
   },
   {
    "duration": 15,
    "start_time": "2022-03-07T19:04:21.497Z"
   },
   {
    "duration": 27,
    "start_time": "2022-03-07T19:04:22.263Z"
   },
   {
    "duration": 23,
    "start_time": "2022-03-07T19:04:22.541Z"
   },
   {
    "duration": 28,
    "start_time": "2022-03-07T19:04:25.857Z"
   },
   {
    "duration": 6,
    "start_time": "2022-03-07T19:04:26.219Z"
   },
   {
    "duration": 5,
    "start_time": "2022-03-07T19:04:26.456Z"
   },
   {
    "duration": 5,
    "start_time": "2022-03-07T19:04:26.639Z"
   },
   {
    "duration": 10,
    "start_time": "2022-03-07T19:04:26.870Z"
   },
   {
    "duration": 9,
    "start_time": "2022-03-07T19:04:27.589Z"
   },
   {
    "duration": 28,
    "start_time": "2022-03-07T19:04:28.689Z"
   },
   {
    "duration": 20,
    "start_time": "2022-03-07T19:04:31.300Z"
   },
   {
    "duration": 378,
    "start_time": "2022-03-07T19:30:21.864Z"
   },
   {
    "duration": 4,
    "start_time": "2022-03-07T19:30:28.570Z"
   },
   {
    "duration": 7,
    "start_time": "2022-03-07T19:30:34.256Z"
   },
   {
    "duration": 5,
    "start_time": "2022-03-07T19:30:42.220Z"
   },
   {
    "duration": 4,
    "start_time": "2022-03-07T19:30:46.143Z"
   },
   {
    "duration": 5,
    "start_time": "2022-03-07T19:30:46.488Z"
   },
   {
    "duration": 11,
    "start_time": "2022-03-07T19:30:53.129Z"
   },
   {
    "duration": 4,
    "start_time": "2022-03-07T19:32:43.655Z"
   },
   {
    "duration": 324,
    "start_time": "2022-03-07T19:32:54.297Z"
   },
   {
    "duration": 327,
    "start_time": "2022-03-07T19:32:58.076Z"
   },
   {
    "duration": 3,
    "start_time": "2022-03-07T19:33:04.312Z"
   },
   {
    "duration": 360,
    "start_time": "2022-03-07T19:33:04.571Z"
   },
   {
    "duration": 335,
    "start_time": "2022-03-07T19:33:12.410Z"
   },
   {
    "duration": 4,
    "start_time": "2022-03-07T19:33:13.794Z"
   },
   {
    "duration": 323,
    "start_time": "2022-03-07T19:33:13.990Z"
   },
   {
    "duration": 375,
    "start_time": "2022-03-07T19:33:24.776Z"
   },
   {
    "duration": 319,
    "start_time": "2022-03-07T19:33:32.648Z"
   },
   {
    "duration": 4,
    "start_time": "2022-03-07T19:33:35.833Z"
   },
   {
    "duration": 372,
    "start_time": "2022-03-07T19:33:35.987Z"
   },
   {
    "duration": 361,
    "start_time": "2022-03-07T19:33:44.705Z"
   },
   {
    "duration": 341,
    "start_time": "2022-03-07T19:33:56.026Z"
   },
   {
    "duration": 4,
    "start_time": "2022-03-07T19:33:59.331Z"
   },
   {
    "duration": 342,
    "start_time": "2022-03-07T19:34:00.014Z"
   },
   {
    "duration": 39,
    "start_time": "2022-03-07T19:34:04.615Z"
   },
   {
    "duration": 234,
    "start_time": "2022-03-08T18:20:44.138Z"
   },
   {
    "duration": 175,
    "start_time": "2022-03-08T18:21:05.228Z"
   },
   {
    "duration": 619,
    "start_time": "2022-03-08T18:21:20.742Z"
   },
   {
    "duration": 64,
    "start_time": "2022-03-08T18:21:21.363Z"
   },
   {
    "duration": 19,
    "start_time": "2022-03-08T18:21:21.430Z"
   },
   {
    "duration": 12,
    "start_time": "2022-03-08T18:21:21.451Z"
   },
   {
    "duration": 4,
    "start_time": "2022-03-08T18:21:21.465Z"
   },
   {
    "duration": 12,
    "start_time": "2022-03-08T18:21:21.502Z"
   },
   {
    "duration": 24,
    "start_time": "2022-03-08T18:21:21.516Z"
   },
   {
    "duration": 17,
    "start_time": "2022-03-08T18:21:21.543Z"
   },
   {
    "duration": 55,
    "start_time": "2022-03-08T18:21:21.562Z"
   },
   {
    "duration": 18,
    "start_time": "2022-03-08T18:21:21.619Z"
   },
   {
    "duration": 12,
    "start_time": "2022-03-08T18:21:21.639Z"
   },
   {
    "duration": 50,
    "start_time": "2022-03-08T18:21:21.653Z"
   },
   {
    "duration": 23,
    "start_time": "2022-03-08T18:21:21.705Z"
   },
   {
    "duration": 5,
    "start_time": "2022-03-08T18:21:21.730Z"
   },
   {
    "duration": 1148,
    "start_time": "2022-03-08T18:21:21.738Z"
   },
   {
    "duration": 21,
    "start_time": "2022-03-08T18:21:22.888Z"
   },
   {
    "duration": 522,
    "start_time": "2022-03-08T18:21:22.911Z"
   },
   {
    "duration": 9,
    "start_time": "2022-03-08T18:21:23.435Z"
   },
   {
    "duration": 26,
    "start_time": "2022-03-08T18:21:23.446Z"
   },
   {
    "duration": 21,
    "start_time": "2022-03-08T18:21:23.474Z"
   },
   {
    "duration": 11,
    "start_time": "2022-03-08T18:21:23.497Z"
   },
   {
    "duration": 7,
    "start_time": "2022-03-08T18:21:23.509Z"
   },
   {
    "duration": 8,
    "start_time": "2022-03-08T18:21:23.520Z"
   },
   {
    "duration": 8,
    "start_time": "2022-03-08T18:21:23.531Z"
   },
   {
    "duration": 10,
    "start_time": "2022-03-08T18:21:23.541Z"
   },
   {
    "duration": 18,
    "start_time": "2022-03-08T18:21:23.553Z"
   },
   {
    "duration": 8,
    "start_time": "2022-03-08T18:21:23.602Z"
   },
   {
    "duration": 8,
    "start_time": "2022-03-08T18:21:23.612Z"
   },
   {
    "duration": 10,
    "start_time": "2022-03-08T18:21:23.622Z"
   },
   {
    "duration": 28,
    "start_time": "2022-03-08T18:21:23.634Z"
   },
   {
    "duration": 8,
    "start_time": "2022-03-08T18:21:23.664Z"
   },
   {
    "duration": 40,
    "start_time": "2022-03-08T18:21:23.673Z"
   },
   {
    "duration": 10,
    "start_time": "2022-03-08T18:21:23.715Z"
   },
   {
    "duration": 10,
    "start_time": "2022-03-08T18:21:23.727Z"
   },
   {
    "duration": 16,
    "start_time": "2022-03-08T18:21:23.739Z"
   },
   {
    "duration": 14,
    "start_time": "2022-03-08T18:21:23.757Z"
   },
   {
    "duration": 28,
    "start_time": "2022-03-08T18:21:23.773Z"
   },
   {
    "duration": 4,
    "start_time": "2022-03-08T18:21:23.803Z"
   },
   {
    "duration": 28,
    "start_time": "2022-03-08T18:21:23.809Z"
   },
   {
    "duration": 5,
    "start_time": "2022-03-08T18:21:23.839Z"
   },
   {
    "duration": 13,
    "start_time": "2022-03-08T18:21:23.845Z"
   },
   {
    "duration": 10,
    "start_time": "2022-03-08T18:21:23.860Z"
   },
   {
    "duration": 11,
    "start_time": "2022-03-08T18:21:23.872Z"
   },
   {
    "duration": 24,
    "start_time": "2022-03-08T18:21:23.885Z"
   },
   {
    "duration": 5,
    "start_time": "2022-03-08T18:21:23.912Z"
   },
   {
    "duration": 18,
    "start_time": "2022-03-08T18:21:23.919Z"
   },
   {
    "duration": 12,
    "start_time": "2022-03-08T18:21:23.939Z"
   },
   {
    "duration": 15,
    "start_time": "2022-03-08T18:21:23.953Z"
   },
   {
    "duration": 9,
    "start_time": "2022-03-08T18:21:23.969Z"
   },
   {
    "duration": 34,
    "start_time": "2022-03-08T18:21:23.980Z"
   },
   {
    "duration": 13,
    "start_time": "2022-03-08T18:21:24.016Z"
   },
   {
    "duration": 8,
    "start_time": "2022-03-08T18:21:24.032Z"
   },
   {
    "duration": 14,
    "start_time": "2022-03-08T18:21:24.043Z"
   },
   {
    "duration": 42,
    "start_time": "2022-03-08T18:21:24.060Z"
   },
   {
    "duration": 9,
    "start_time": "2022-03-08T18:21:24.105Z"
   },
   {
    "duration": 23,
    "start_time": "2022-03-08T18:21:24.116Z"
   },
   {
    "duration": 235,
    "start_time": "2022-03-08T18:21:24.142Z"
   },
   {
    "duration": 4781,
    "start_time": "2022-03-08T18:21:19.598Z"
   },
   {
    "duration": 4771,
    "start_time": "2022-03-08T18:21:19.609Z"
   },
   {
    "duration": 4762,
    "start_time": "2022-03-08T18:21:19.619Z"
   },
   {
    "duration": 4753,
    "start_time": "2022-03-08T18:21:19.630Z"
   },
   {
    "duration": 4711,
    "start_time": "2022-03-08T18:21:19.673Z"
   },
   {
    "duration": 4699,
    "start_time": "2022-03-08T18:21:19.686Z"
   },
   {
    "duration": 4685,
    "start_time": "2022-03-08T18:21:19.701Z"
   },
   {
    "duration": 4674,
    "start_time": "2022-03-08T18:21:19.713Z"
   },
   {
    "duration": 4667,
    "start_time": "2022-03-08T18:21:19.722Z"
   },
   {
    "duration": 4657,
    "start_time": "2022-03-08T18:21:19.733Z"
   },
   {
    "duration": 4649,
    "start_time": "2022-03-08T18:21:19.742Z"
   },
   {
    "duration": 4639,
    "start_time": "2022-03-08T18:21:19.753Z"
   },
   {
    "duration": 4631,
    "start_time": "2022-03-08T18:21:19.762Z"
   },
   {
    "duration": 4608,
    "start_time": "2022-03-08T18:21:19.786Z"
   },
   {
    "duration": 4599,
    "start_time": "2022-03-08T18:21:19.796Z"
   },
   {
    "duration": 4591,
    "start_time": "2022-03-08T18:21:19.806Z"
   },
   {
    "duration": 4582,
    "start_time": "2022-03-08T18:21:19.815Z"
   },
   {
    "duration": 4574,
    "start_time": "2022-03-08T18:21:19.825Z"
   },
   {
    "duration": 4566,
    "start_time": "2022-03-08T18:21:19.834Z"
   },
   {
    "duration": 4558,
    "start_time": "2022-03-08T18:21:19.843Z"
   },
   {
    "duration": 7,
    "start_time": "2022-03-08T18:34:30.501Z"
   },
   {
    "duration": 11,
    "start_time": "2022-03-08T18:36:15.549Z"
   },
   {
    "duration": 8,
    "start_time": "2022-03-08T18:36:19.195Z"
   },
   {
    "duration": 3,
    "start_time": "2022-03-08T18:37:29.876Z"
   },
   {
    "duration": 56,
    "start_time": "2022-03-08T18:37:29.884Z"
   },
   {
    "duration": 12,
    "start_time": "2022-03-08T18:37:29.942Z"
   },
   {
    "duration": 12,
    "start_time": "2022-03-08T18:37:29.956Z"
   },
   {
    "duration": 4,
    "start_time": "2022-03-08T18:37:29.970Z"
   },
   {
    "duration": 41,
    "start_time": "2022-03-08T18:37:29.975Z"
   },
   {
    "duration": 27,
    "start_time": "2022-03-08T18:37:30.018Z"
   },
   {
    "duration": 16,
    "start_time": "2022-03-08T18:37:30.047Z"
   },
   {
    "duration": 51,
    "start_time": "2022-03-08T18:37:30.066Z"
   },
   {
    "duration": 18,
    "start_time": "2022-03-08T18:37:30.119Z"
   },
   {
    "duration": 11,
    "start_time": "2022-03-08T18:37:30.139Z"
   },
   {
    "duration": 52,
    "start_time": "2022-03-08T18:37:30.152Z"
   },
   {
    "duration": 22,
    "start_time": "2022-03-08T18:37:30.206Z"
   },
   {
    "duration": 4,
    "start_time": "2022-03-08T18:37:30.230Z"
   },
   {
    "duration": 1149,
    "start_time": "2022-03-08T18:37:30.236Z"
   },
   {
    "duration": 22,
    "start_time": "2022-03-08T18:37:31.387Z"
   },
   {
    "duration": 519,
    "start_time": "2022-03-08T18:37:31.411Z"
   },
   {
    "duration": 8,
    "start_time": "2022-03-08T18:37:31.932Z"
   },
   {
    "duration": 11,
    "start_time": "2022-03-08T18:37:31.942Z"
   },
   {
    "duration": 12,
    "start_time": "2022-03-08T18:37:31.955Z"
   },
   {
    "duration": 43,
    "start_time": "2022-03-08T18:37:31.969Z"
   },
   {
    "duration": 6,
    "start_time": "2022-03-08T18:37:32.016Z"
   },
   {
    "duration": 10,
    "start_time": "2022-03-08T18:37:32.024Z"
   },
   {
    "duration": 9,
    "start_time": "2022-03-08T18:37:32.038Z"
   },
   {
    "duration": 11,
    "start_time": "2022-03-08T18:37:32.050Z"
   },
   {
    "duration": 47,
    "start_time": "2022-03-08T18:37:32.063Z"
   },
   {
    "duration": 22,
    "start_time": "2022-03-08T18:37:32.112Z"
   },
   {
    "duration": 10,
    "start_time": "2022-03-08T18:37:32.136Z"
   },
   {
    "duration": 14,
    "start_time": "2022-03-08T18:37:32.148Z"
   },
   {
    "duration": 30,
    "start_time": "2022-03-08T18:37:32.164Z"
   },
   {
    "duration": 8,
    "start_time": "2022-03-08T18:37:32.196Z"
   },
   {
    "duration": 27,
    "start_time": "2022-03-08T18:37:32.207Z"
   },
   {
    "duration": 12,
    "start_time": "2022-03-08T18:37:32.236Z"
   },
   {
    "duration": 15,
    "start_time": "2022-03-08T18:37:32.250Z"
   },
   {
    "duration": 20,
    "start_time": "2022-03-08T18:37:32.268Z"
   },
   {
    "duration": 17,
    "start_time": "2022-03-08T18:37:32.291Z"
   },
   {
    "duration": 39,
    "start_time": "2022-03-08T18:37:32.310Z"
   },
   {
    "duration": 6,
    "start_time": "2022-03-08T18:37:32.351Z"
   },
   {
    "duration": 33,
    "start_time": "2022-03-08T18:37:32.359Z"
   },
   {
    "duration": 5,
    "start_time": "2022-03-08T18:37:32.394Z"
   },
   {
    "duration": 17,
    "start_time": "2022-03-08T18:37:32.401Z"
   },
   {
    "duration": 14,
    "start_time": "2022-03-08T18:37:32.420Z"
   },
   {
    "duration": 18,
    "start_time": "2022-03-08T18:37:32.436Z"
   },
   {
    "duration": 36,
    "start_time": "2022-03-08T18:37:32.457Z"
   },
   {
    "duration": 4,
    "start_time": "2022-03-08T18:37:32.495Z"
   },
   {
    "duration": 20,
    "start_time": "2022-03-08T18:37:32.501Z"
   },
   {
    "duration": 27,
    "start_time": "2022-03-08T18:37:32.523Z"
   },
   {
    "duration": 28,
    "start_time": "2022-03-08T18:37:32.552Z"
   },
   {
    "duration": 14,
    "start_time": "2022-03-08T18:37:32.582Z"
   },
   {
    "duration": 3,
    "start_time": "2022-03-08T18:47:49.491Z"
   },
   {
    "duration": 83,
    "start_time": "2022-03-08T18:47:49.498Z"
   },
   {
    "duration": 18,
    "start_time": "2022-03-08T18:47:49.584Z"
   },
   {
    "duration": 17,
    "start_time": "2022-03-08T18:47:49.606Z"
   },
   {
    "duration": 6,
    "start_time": "2022-03-08T18:47:49.626Z"
   },
   {
    "duration": 15,
    "start_time": "2022-03-08T18:47:49.634Z"
   },
   {
    "duration": 52,
    "start_time": "2022-03-08T18:47:49.652Z"
   },
   {
    "duration": 18,
    "start_time": "2022-03-08T18:47:49.707Z"
   },
   {
    "duration": 21,
    "start_time": "2022-03-08T18:47:49.729Z"
   },
   {
    "duration": 60,
    "start_time": "2022-03-08T18:47:49.752Z"
   },
   {
    "duration": 14,
    "start_time": "2022-03-08T18:47:49.814Z"
   },
   {
    "duration": 28,
    "start_time": "2022-03-08T18:47:49.831Z"
   },
   {
    "duration": 56,
    "start_time": "2022-03-08T18:47:49.862Z"
   },
   {
    "duration": 4,
    "start_time": "2022-03-08T18:47:49.920Z"
   },
   {
    "duration": 1657,
    "start_time": "2022-03-08T18:47:49.926Z"
   },
   {
    "duration": 20,
    "start_time": "2022-03-08T18:47:51.585Z"
   },
   {
    "duration": 950,
    "start_time": "2022-03-08T18:47:51.607Z"
   },
   {
    "duration": 12,
    "start_time": "2022-03-08T18:47:52.559Z"
   },
   {
    "duration": 27,
    "start_time": "2022-03-08T18:47:52.573Z"
   },
   {
    "duration": 11,
    "start_time": "2022-03-08T18:47:52.603Z"
   },
   {
    "duration": 12,
    "start_time": "2022-03-08T18:47:52.616Z"
   },
   {
    "duration": 11,
    "start_time": "2022-03-08T18:47:52.631Z"
   },
   {
    "duration": 11,
    "start_time": "2022-03-08T18:47:52.645Z"
   },
   {
    "duration": 20,
    "start_time": "2022-03-08T18:47:52.660Z"
   },
   {
    "duration": 8,
    "start_time": "2022-03-08T18:47:52.703Z"
   },
   {
    "duration": 23,
    "start_time": "2022-03-08T18:47:52.713Z"
   },
   {
    "duration": 18,
    "start_time": "2022-03-08T18:47:52.738Z"
   },
   {
    "duration": 17,
    "start_time": "2022-03-08T18:47:52.758Z"
   },
   {
    "duration": 15,
    "start_time": "2022-03-08T18:47:52.777Z"
   },
   {
    "duration": 37,
    "start_time": "2022-03-08T18:47:52.794Z"
   },
   {
    "duration": 12,
    "start_time": "2022-03-08T18:47:52.833Z"
   },
   {
    "duration": 22,
    "start_time": "2022-03-08T18:47:52.847Z"
   },
   {
    "duration": 37,
    "start_time": "2022-03-08T18:47:52.872Z"
   },
   {
    "duration": 15,
    "start_time": "2022-03-08T18:47:52.911Z"
   },
   {
    "duration": 21,
    "start_time": "2022-03-08T18:47:52.928Z"
   },
   {
    "duration": 13,
    "start_time": "2022-03-08T18:47:52.951Z"
   },
   {
    "duration": 19,
    "start_time": "2022-03-08T18:47:52.966Z"
   },
   {
    "duration": 19,
    "start_time": "2022-03-08T18:47:52.987Z"
   },
   {
    "duration": 29,
    "start_time": "2022-03-08T18:47:53.009Z"
   },
   {
    "duration": 7,
    "start_time": "2022-03-08T18:47:53.040Z"
   },
   {
    "duration": 22,
    "start_time": "2022-03-08T18:47:53.049Z"
   },
   {
    "duration": 8,
    "start_time": "2022-03-08T18:47:53.074Z"
   },
   {
    "duration": 19,
    "start_time": "2022-03-08T18:47:53.084Z"
   },
   {
    "duration": 26,
    "start_time": "2022-03-08T18:47:53.105Z"
   },
   {
    "duration": 10,
    "start_time": "2022-03-08T18:47:53.134Z"
   },
   {
    "duration": 16,
    "start_time": "2022-03-08T18:47:53.146Z"
   },
   {
    "duration": 25,
    "start_time": "2022-03-08T18:47:53.164Z"
   },
   {
    "duration": 14,
    "start_time": "2022-03-08T18:47:53.192Z"
   },
   {
    "duration": 19,
    "start_time": "2022-03-08T18:47:53.208Z"
   },
   {
    "duration": 23,
    "start_time": "2022-03-08T18:47:53.229Z"
   },
   {
    "duration": 23,
    "start_time": "2022-03-08T18:47:53.254Z"
   },
   {
    "duration": 21,
    "start_time": "2022-03-08T18:47:53.280Z"
   },
   {
    "duration": 31,
    "start_time": "2022-03-08T18:47:53.303Z"
   },
   {
    "duration": 38,
    "start_time": "2022-03-08T18:47:53.336Z"
   },
   {
    "duration": 11,
    "start_time": "2022-03-08T18:47:53.376Z"
   },
   {
    "duration": 19,
    "start_time": "2022-03-08T18:47:53.401Z"
   },
   {
    "duration": 212,
    "start_time": "2022-03-08T18:47:53.422Z"
   },
   {
    "duration": 14,
    "start_time": "2022-03-08T18:59:11.488Z"
   },
   {
    "duration": 14,
    "start_time": "2022-03-08T18:59:27.911Z"
   },
   {
    "duration": 3,
    "start_time": "2022-03-08T18:59:47.265Z"
   },
   {
    "duration": 62,
    "start_time": "2022-03-08T18:59:47.270Z"
   },
   {
    "duration": 13,
    "start_time": "2022-03-08T18:59:47.335Z"
   },
   {
    "duration": 21,
    "start_time": "2022-03-08T18:59:47.350Z"
   },
   {
    "duration": 8,
    "start_time": "2022-03-08T18:59:47.373Z"
   },
   {
    "duration": 10,
    "start_time": "2022-03-08T18:59:47.402Z"
   },
   {
    "duration": 29,
    "start_time": "2022-03-08T18:59:47.414Z"
   },
   {
    "duration": 42,
    "start_time": "2022-03-08T18:59:47.445Z"
   },
   {
    "duration": 27,
    "start_time": "2022-03-08T18:59:47.490Z"
   },
   {
    "duration": 18,
    "start_time": "2022-03-08T18:59:47.520Z"
   },
   {
    "duration": 11,
    "start_time": "2022-03-08T18:59:47.540Z"
   },
   {
    "duration": 55,
    "start_time": "2022-03-08T18:59:47.553Z"
   },
   {
    "duration": 22,
    "start_time": "2022-03-08T18:59:47.610Z"
   },
   {
    "duration": 4,
    "start_time": "2022-03-08T18:59:47.633Z"
   },
   {
    "duration": 1248,
    "start_time": "2022-03-08T18:59:47.639Z"
   },
   {
    "duration": 21,
    "start_time": "2022-03-08T18:59:48.889Z"
   },
   {
    "duration": 804,
    "start_time": "2022-03-08T18:59:48.916Z"
   },
   {
    "duration": 11,
    "start_time": "2022-03-08T18:59:49.722Z"
   },
   {
    "duration": 15,
    "start_time": "2022-03-08T18:59:49.736Z"
   },
   {
    "duration": 16,
    "start_time": "2022-03-08T18:59:49.754Z"
   },
   {
    "duration": 34,
    "start_time": "2022-03-08T18:59:49.773Z"
   },
   {
    "duration": 8,
    "start_time": "2022-03-08T18:59:49.810Z"
   },
   {
    "duration": 13,
    "start_time": "2022-03-08T18:59:49.820Z"
   },
   {
    "duration": 14,
    "start_time": "2022-03-08T18:59:49.834Z"
   },
   {
    "duration": 28,
    "start_time": "2022-03-08T18:59:49.850Z"
   },
   {
    "duration": 28,
    "start_time": "2022-03-08T18:59:49.881Z"
   },
   {
    "duration": 15,
    "start_time": "2022-03-08T18:59:49.914Z"
   },
   {
    "duration": 18,
    "start_time": "2022-03-08T18:59:49.931Z"
   },
   {
    "duration": 17,
    "start_time": "2022-03-08T18:59:49.951Z"
   },
   {
    "duration": 210,
    "start_time": "2022-03-08T18:59:49.971Z"
   },
   {
    "duration": 18,
    "start_time": "2022-03-08T18:59:50.183Z"
   },
   {
    "duration": 114,
    "start_time": "2022-03-08T18:59:50.203Z"
   },
   {
    "duration": 26,
    "start_time": "2022-03-08T18:59:50.320Z"
   },
   {
    "duration": 12,
    "start_time": "2022-03-08T18:59:50.348Z"
   },
   {
    "duration": 22,
    "start_time": "2022-03-08T18:59:50.362Z"
   },
   {
    "duration": 7,
    "start_time": "2022-03-08T18:59:50.386Z"
   },
   {
    "duration": 14,
    "start_time": "2022-03-08T18:59:50.395Z"
   },
   {
    "duration": 13,
    "start_time": "2022-03-08T18:59:50.411Z"
   },
   {
    "duration": 30,
    "start_time": "2022-03-08T18:59:50.427Z"
   },
   {
    "duration": 7,
    "start_time": "2022-03-08T18:59:50.460Z"
   },
   {
    "duration": 15,
    "start_time": "2022-03-08T18:59:50.468Z"
   },
   {
    "duration": 18,
    "start_time": "2022-03-08T18:59:50.485Z"
   },
   {
    "duration": 27,
    "start_time": "2022-03-08T18:59:50.505Z"
   },
   {
    "duration": 18,
    "start_time": "2022-03-08T18:59:50.534Z"
   },
   {
    "duration": 5,
    "start_time": "2022-03-08T18:59:50.554Z"
   },
   {
    "duration": 22,
    "start_time": "2022-03-08T18:59:50.561Z"
   },
   {
    "duration": 17,
    "start_time": "2022-03-08T18:59:50.586Z"
   },
   {
    "duration": 23,
    "start_time": "2022-03-08T18:59:50.605Z"
   },
   {
    "duration": 19,
    "start_time": "2022-03-08T18:59:50.630Z"
   },
   {
    "duration": 22,
    "start_time": "2022-03-08T18:59:50.651Z"
   },
   {
    "duration": 18,
    "start_time": "2022-03-08T18:59:50.676Z"
   },
   {
    "duration": 13,
    "start_time": "2022-03-08T18:59:50.697Z"
   },
   {
    "duration": 27,
    "start_time": "2022-03-08T18:59:50.712Z"
   },
   {
    "duration": 25,
    "start_time": "2022-03-08T18:59:50.744Z"
   },
   {
    "duration": 11,
    "start_time": "2022-03-08T18:59:50.771Z"
   },
   {
    "duration": 34,
    "start_time": "2022-03-08T18:59:50.784Z"
   },
   {
    "duration": 27,
    "start_time": "2022-03-08T18:59:50.821Z"
   },
   {
    "duration": 19,
    "start_time": "2022-03-08T18:59:50.850Z"
   },
   {
    "duration": 31,
    "start_time": "2022-03-08T18:59:50.871Z"
   },
   {
    "duration": 7,
    "start_time": "2022-03-08T19:15:53.711Z"
   },
   {
    "duration": 9,
    "start_time": "2022-03-08T19:15:58.712Z"
   },
   {
    "duration": 605,
    "start_time": "2022-03-08T19:19:57.461Z"
   },
   {
    "duration": 71,
    "start_time": "2022-03-08T19:19:58.068Z"
   },
   {
    "duration": 20,
    "start_time": "2022-03-08T19:19:58.141Z"
   },
   {
    "duration": 14,
    "start_time": "2022-03-08T19:19:58.164Z"
   },
   {
    "duration": 4,
    "start_time": "2022-03-08T19:19:58.202Z"
   },
   {
    "duration": 17,
    "start_time": "2022-03-08T19:19:58.208Z"
   },
   {
    "duration": 23,
    "start_time": "2022-03-08T19:19:58.227Z"
   },
   {
    "duration": 48,
    "start_time": "2022-03-08T19:19:58.253Z"
   },
   {
    "duration": 19,
    "start_time": "2022-03-08T19:19:58.303Z"
   },
   {
    "duration": 17,
    "start_time": "2022-03-08T19:19:58.324Z"
   },
   {
    "duration": 11,
    "start_time": "2022-03-08T19:19:58.343Z"
   },
   {
    "duration": 52,
    "start_time": "2022-03-08T19:19:58.356Z"
   },
   {
    "duration": 26,
    "start_time": "2022-03-08T19:19:58.411Z"
   },
   {
    "duration": 6,
    "start_time": "2022-03-08T19:19:58.439Z"
   },
   {
    "duration": 1154,
    "start_time": "2022-03-08T19:19:58.447Z"
   },
   {
    "duration": 10,
    "start_time": "2022-03-08T19:19:59.603Z"
   },
   {
    "duration": 530,
    "start_time": "2022-03-08T19:19:59.615Z"
   },
   {
    "duration": 9,
    "start_time": "2022-03-08T19:20:00.147Z"
   },
   {
    "duration": 12,
    "start_time": "2022-03-08T19:20:00.158Z"
   },
   {
    "duration": 31,
    "start_time": "2022-03-08T19:20:00.172Z"
   },
   {
    "duration": 10,
    "start_time": "2022-03-08T19:20:00.205Z"
   },
   {
    "duration": 21,
    "start_time": "2022-03-08T19:20:00.217Z"
   },
   {
    "duration": 22,
    "start_time": "2022-03-08T19:20:00.242Z"
   },
   {
    "duration": 17,
    "start_time": "2022-03-08T19:20:00.267Z"
   },
   {
    "duration": 18,
    "start_time": "2022-03-08T19:20:00.286Z"
   },
   {
    "duration": 37,
    "start_time": "2022-03-08T19:20:00.306Z"
   },
   {
    "duration": 26,
    "start_time": "2022-03-08T19:20:00.345Z"
   },
   {
    "duration": 26,
    "start_time": "2022-03-08T19:20:00.373Z"
   },
   {
    "duration": 10,
    "start_time": "2022-03-08T19:20:00.401Z"
   },
   {
    "duration": 38,
    "start_time": "2022-03-08T19:20:00.413Z"
   },
   {
    "duration": 8,
    "start_time": "2022-03-08T19:20:00.453Z"
   },
   {
    "duration": 26,
    "start_time": "2022-03-08T19:20:00.463Z"
   },
   {
    "duration": 27,
    "start_time": "2022-03-08T19:20:00.490Z"
   },
   {
    "duration": 28,
    "start_time": "2022-03-08T19:20:00.519Z"
   },
   {
    "duration": 27,
    "start_time": "2022-03-08T19:20:00.549Z"
   },
   {
    "duration": 17,
    "start_time": "2022-03-08T19:20:00.578Z"
   },
   {
    "duration": 30,
    "start_time": "2022-03-08T19:20:00.597Z"
   },
   {
    "duration": 19,
    "start_time": "2022-03-08T19:20:00.629Z"
   },
   {
    "duration": 38,
    "start_time": "2022-03-08T19:20:00.650Z"
   },
   {
    "duration": 6,
    "start_time": "2022-03-08T19:20:00.690Z"
   },
   {
    "duration": 15,
    "start_time": "2022-03-08T19:20:00.698Z"
   },
   {
    "duration": 25,
    "start_time": "2022-03-08T19:20:00.715Z"
   },
   {
    "duration": 20,
    "start_time": "2022-03-08T19:20:00.742Z"
   },
   {
    "duration": 27,
    "start_time": "2022-03-08T19:20:00.765Z"
   },
   {
    "duration": 17,
    "start_time": "2022-03-08T19:20:00.794Z"
   },
   {
    "duration": 14,
    "start_time": "2022-03-08T19:20:00.813Z"
   },
   {
    "duration": 22,
    "start_time": "2022-03-08T19:20:00.829Z"
   },
   {
    "duration": 25,
    "start_time": "2022-03-08T19:20:00.853Z"
   },
   {
    "duration": 11,
    "start_time": "2022-03-08T19:20:00.880Z"
   },
   {
    "duration": 14,
    "start_time": "2022-03-08T19:20:00.893Z"
   },
   {
    "duration": 22,
    "start_time": "2022-03-08T19:20:00.909Z"
   },
   {
    "duration": 11,
    "start_time": "2022-03-08T19:20:00.933Z"
   },
   {
    "duration": 24,
    "start_time": "2022-03-08T19:20:00.946Z"
   },
   {
    "duration": 33,
    "start_time": "2022-03-08T19:20:00.972Z"
   },
   {
    "duration": 10,
    "start_time": "2022-03-08T19:20:01.007Z"
   },
   {
    "duration": 26,
    "start_time": "2022-03-08T19:20:01.019Z"
   },
   {
    "duration": 17,
    "start_time": "2022-03-08T19:20:01.046Z"
   },
   {
    "duration": 15,
    "start_time": "2022-03-08T19:20:01.064Z"
   },
   {
    "duration": 17,
    "start_time": "2022-03-08T19:20:01.101Z"
   },
   {
    "duration": 31,
    "start_time": "2022-03-08T19:20:01.120Z"
   },
   {
    "duration": 14,
    "start_time": "2022-03-08T19:20:01.153Z"
   },
   {
    "duration": 34,
    "start_time": "2022-03-08T19:20:01.169Z"
   },
   {
    "duration": 21,
    "start_time": "2022-03-08T19:20:01.205Z"
   },
   {
    "duration": 40,
    "start_time": "2022-03-08T19:20:01.227Z"
   },
   {
    "duration": 17,
    "start_time": "2022-03-08T19:20:01.269Z"
   },
   {
    "duration": 23,
    "start_time": "2022-03-08T19:20:01.289Z"
   },
   {
    "duration": 262,
    "start_time": "2022-03-08T19:20:01.314Z"
   },
   {
    "duration": 5031,
    "start_time": "2022-03-08T19:19:56.548Z"
   },
   {
    "duration": 5024,
    "start_time": "2022-03-08T19:19:56.556Z"
   },
   {
    "duration": 5017,
    "start_time": "2022-03-08T19:19:56.565Z"
   },
   {
    "duration": 5008,
    "start_time": "2022-03-08T19:19:56.575Z"
   },
   {
    "duration": 4997,
    "start_time": "2022-03-08T19:19:56.587Z"
   },
   {
    "duration": 4988,
    "start_time": "2022-03-08T19:19:56.597Z"
   },
   {
    "duration": 4920,
    "start_time": "2022-03-08T19:19:56.666Z"
   },
   {
    "duration": 4911,
    "start_time": "2022-03-08T19:19:56.676Z"
   },
   {
    "duration": 4904,
    "start_time": "2022-03-08T19:19:56.685Z"
   },
   {
    "duration": 4850,
    "start_time": "2022-03-08T19:19:56.741Z"
   },
   {
    "duration": 4827,
    "start_time": "2022-03-08T19:19:56.765Z"
   },
   {
    "duration": 12,
    "start_time": "2022-03-08T19:24:21.069Z"
   },
   {
    "duration": 647,
    "start_time": "2022-03-08T19:28:39.816Z"
   },
   {
    "duration": 72,
    "start_time": "2022-03-08T19:28:40.465Z"
   },
   {
    "duration": 19,
    "start_time": "2022-03-08T19:28:40.539Z"
   },
   {
    "duration": 10,
    "start_time": "2022-03-08T19:28:40.561Z"
   },
   {
    "duration": 29,
    "start_time": "2022-03-08T19:28:40.573Z"
   },
   {
    "duration": 11,
    "start_time": "2022-03-08T19:28:40.604Z"
   },
   {
    "duration": 25,
    "start_time": "2022-03-08T19:28:40.617Z"
   },
   {
    "duration": 17,
    "start_time": "2022-03-08T19:28:40.645Z"
   },
   {
    "duration": 54,
    "start_time": "2022-03-08T19:28:40.664Z"
   },
   {
    "duration": 18,
    "start_time": "2022-03-08T19:28:40.720Z"
   },
   {
    "duration": 12,
    "start_time": "2022-03-08T19:28:40.740Z"
   },
   {
    "duration": 52,
    "start_time": "2022-03-08T19:28:40.754Z"
   },
   {
    "duration": 21,
    "start_time": "2022-03-08T19:28:40.808Z"
   },
   {
    "duration": 5,
    "start_time": "2022-03-08T19:28:40.831Z"
   },
   {
    "duration": 1157,
    "start_time": "2022-03-08T19:28:40.838Z"
   },
   {
    "duration": 10,
    "start_time": "2022-03-08T19:28:42.001Z"
   },
   {
    "duration": 518,
    "start_time": "2022-03-08T19:28:42.014Z"
   },
   {
    "duration": 10,
    "start_time": "2022-03-08T19:28:42.535Z"
   },
   {
    "duration": 10,
    "start_time": "2022-03-08T19:28:42.547Z"
   },
   {
    "duration": 13,
    "start_time": "2022-03-08T19:28:42.559Z"
   },
   {
    "duration": 35,
    "start_time": "2022-03-08T19:28:42.575Z"
   },
   {
    "duration": 7,
    "start_time": "2022-03-08T19:28:42.613Z"
   },
   {
    "duration": 8,
    "start_time": "2022-03-08T19:28:42.626Z"
   },
   {
    "duration": 8,
    "start_time": "2022-03-08T19:28:42.638Z"
   },
   {
    "duration": 10,
    "start_time": "2022-03-08T19:28:42.648Z"
   },
   {
    "duration": 47,
    "start_time": "2022-03-08T19:28:42.660Z"
   },
   {
    "duration": 11,
    "start_time": "2022-03-08T19:28:42.709Z"
   },
   {
    "duration": 7,
    "start_time": "2022-03-08T19:28:42.722Z"
   },
   {
    "duration": 9,
    "start_time": "2022-03-08T19:28:42.730Z"
   },
   {
    "duration": 31,
    "start_time": "2022-03-08T19:28:42.741Z"
   },
   {
    "duration": 33,
    "start_time": "2022-03-08T19:28:42.774Z"
   },
   {
    "duration": 16,
    "start_time": "2022-03-08T19:28:42.809Z"
   },
   {
    "duration": 9,
    "start_time": "2022-03-08T19:28:42.827Z"
   },
   {
    "duration": 11,
    "start_time": "2022-03-08T19:28:42.838Z"
   },
   {
    "duration": 15,
    "start_time": "2022-03-08T19:28:42.851Z"
   },
   {
    "duration": 35,
    "start_time": "2022-03-08T19:28:42.868Z"
   },
   {
    "duration": 7,
    "start_time": "2022-03-08T19:28:42.905Z"
   },
   {
    "duration": 6,
    "start_time": "2022-03-08T19:28:42.914Z"
   },
   {
    "duration": 26,
    "start_time": "2022-03-08T19:28:42.922Z"
   },
   {
    "duration": 6,
    "start_time": "2022-03-08T19:28:42.949Z"
   },
   {
    "duration": 10,
    "start_time": "2022-03-08T19:28:42.957Z"
   },
   {
    "duration": 33,
    "start_time": "2022-03-08T19:28:42.969Z"
   },
   {
    "duration": 4,
    "start_time": "2022-03-08T19:28:43.005Z"
   },
   {
    "duration": 14,
    "start_time": "2022-03-08T19:28:43.011Z"
   },
   {
    "duration": 10,
    "start_time": "2022-03-08T19:28:43.027Z"
   },
   {
    "duration": 10,
    "start_time": "2022-03-08T19:28:43.040Z"
   },
   {
    "duration": 19,
    "start_time": "2022-03-08T19:28:43.052Z"
   },
   {
    "duration": 16,
    "start_time": "2022-03-08T19:28:43.072Z"
   },
   {
    "duration": 9,
    "start_time": "2022-03-08T19:28:43.101Z"
   },
   {
    "duration": 14,
    "start_time": "2022-03-08T19:28:43.112Z"
   },
   {
    "duration": 18,
    "start_time": "2022-03-08T19:28:43.128Z"
   },
   {
    "duration": 10,
    "start_time": "2022-03-08T19:28:43.149Z"
   },
   {
    "duration": 40,
    "start_time": "2022-03-08T19:28:43.161Z"
   },
   {
    "duration": 23,
    "start_time": "2022-03-08T19:28:43.203Z"
   },
   {
    "duration": 8,
    "start_time": "2022-03-08T19:28:43.229Z"
   },
   {
    "duration": 18,
    "start_time": "2022-03-08T19:28:43.239Z"
   },
   {
    "duration": 43,
    "start_time": "2022-03-08T19:28:43.259Z"
   },
   {
    "duration": 10,
    "start_time": "2022-03-08T19:28:43.304Z"
   },
   {
    "duration": 16,
    "start_time": "2022-03-08T19:28:43.316Z"
   },
   {
    "duration": 33,
    "start_time": "2022-03-08T19:28:43.334Z"
   },
   {
    "duration": 37,
    "start_time": "2022-03-08T19:28:43.369Z"
   },
   {
    "duration": 27,
    "start_time": "2022-03-08T19:28:43.408Z"
   },
   {
    "duration": 23,
    "start_time": "2022-03-08T19:28:43.437Z"
   },
   {
    "duration": 39,
    "start_time": "2022-03-08T19:28:43.462Z"
   },
   {
    "duration": 15,
    "start_time": "2022-03-08T19:28:43.504Z"
   },
   {
    "duration": 18,
    "start_time": "2022-03-08T19:28:43.521Z"
   },
   {
    "duration": 14,
    "start_time": "2022-03-08T19:28:43.541Z"
   },
   {
    "duration": 47,
    "start_time": "2022-03-08T19:28:43.560Z"
   },
   {
    "duration": 16,
    "start_time": "2022-03-08T19:28:43.610Z"
   },
   {
    "duration": 23,
    "start_time": "2022-03-08T19:28:43.628Z"
   },
   {
    "duration": 4,
    "start_time": "2022-03-08T19:28:43.653Z"
   },
   {
    "duration": 7,
    "start_time": "2022-03-08T19:28:43.659Z"
   },
   {
    "duration": 34,
    "start_time": "2022-03-08T19:28:43.667Z"
   },
   {
    "duration": 9,
    "start_time": "2022-03-08T19:28:43.703Z"
   },
   {
    "duration": 8,
    "start_time": "2022-03-08T19:28:43.715Z"
   },
   {
    "duration": 10,
    "start_time": "2022-03-08T19:28:43.725Z"
   },
   {
    "duration": 27,
    "start_time": "2022-03-08T19:28:43.737Z"
   },
   {
    "duration": 47,
    "start_time": "2022-03-08T19:28:43.766Z"
   },
   {
    "duration": 3,
    "start_time": "2022-03-08T19:41:47.452Z"
   },
   {
    "duration": 36,
    "start_time": "2022-03-08T19:43:10.948Z"
   },
   {
    "duration": 405,
    "start_time": "2022-03-08T19:43:55.819Z"
   },
   {
    "duration": 31,
    "start_time": "2022-03-08T19:44:21.609Z"
   },
   {
    "duration": 14,
    "start_time": "2022-03-08T19:49:27.483Z"
   },
   {
    "duration": 582,
    "start_time": "2022-03-09T05:11:02.894Z"
   },
   {
    "duration": 64,
    "start_time": "2022-03-09T05:11:03.477Z"
   },
   {
    "duration": 14,
    "start_time": "2022-03-09T05:11:03.543Z"
   },
   {
    "duration": 9,
    "start_time": "2022-03-09T05:11:03.559Z"
   },
   {
    "duration": 7,
    "start_time": "2022-03-09T05:11:03.570Z"
   },
   {
    "duration": 11,
    "start_time": "2022-03-09T05:11:03.579Z"
   },
   {
    "duration": 55,
    "start_time": "2022-03-09T05:11:03.591Z"
   },
   {
    "duration": 15,
    "start_time": "2022-03-09T05:11:03.649Z"
   },
   {
    "duration": 17,
    "start_time": "2022-03-09T05:11:03.666Z"
   },
   {
    "duration": 14,
    "start_time": "2022-03-09T05:11:03.685Z"
   },
   {
    "duration": 39,
    "start_time": "2022-03-09T05:11:03.701Z"
   },
   {
    "duration": 22,
    "start_time": "2022-03-09T05:11:03.742Z"
   },
   {
    "duration": 20,
    "start_time": "2022-03-09T05:11:03.766Z"
   },
   {
    "duration": 4,
    "start_time": "2022-03-09T05:11:03.788Z"
   },
   {
    "duration": 1106,
    "start_time": "2022-03-09T05:11:03.793Z"
   },
   {
    "duration": 9,
    "start_time": "2022-03-09T05:11:04.902Z"
   },
   {
    "duration": 559,
    "start_time": "2022-03-09T05:11:04.913Z"
   },
   {
    "duration": 7,
    "start_time": "2022-03-09T05:11:05.474Z"
   },
   {
    "duration": 8,
    "start_time": "2022-03-09T05:11:05.482Z"
   },
   {
    "duration": 16,
    "start_time": "2022-03-09T05:11:05.491Z"
   },
   {
    "duration": 11,
    "start_time": "2022-03-09T05:11:05.508Z"
   },
   {
    "duration": 7,
    "start_time": "2022-03-09T05:11:05.538Z"
   },
   {
    "duration": 8,
    "start_time": "2022-03-09T05:11:05.549Z"
   },
   {
    "duration": 7,
    "start_time": "2022-03-09T05:11:05.560Z"
   },
   {
    "duration": 7,
    "start_time": "2022-03-09T05:11:05.569Z"
   },
   {
    "duration": 13,
    "start_time": "2022-03-09T05:11:05.578Z"
   },
   {
    "duration": 46,
    "start_time": "2022-03-09T05:11:05.593Z"
   },
   {
    "duration": 6,
    "start_time": "2022-03-09T05:11:05.640Z"
   },
   {
    "duration": 7,
    "start_time": "2022-03-09T05:11:05.647Z"
   },
   {
    "duration": 24,
    "start_time": "2022-03-09T05:11:05.655Z"
   },
   {
    "duration": 6,
    "start_time": "2022-03-09T05:11:05.682Z"
   },
   {
    "duration": 17,
    "start_time": "2022-03-09T05:11:05.690Z"
   },
   {
    "duration": 33,
    "start_time": "2022-03-09T05:11:05.709Z"
   },
   {
    "duration": 9,
    "start_time": "2022-03-09T05:11:05.744Z"
   },
   {
    "duration": 13,
    "start_time": "2022-03-09T05:11:05.754Z"
   },
   {
    "duration": 5,
    "start_time": "2022-03-09T05:11:05.768Z"
   },
   {
    "duration": 10,
    "start_time": "2022-03-09T05:11:05.774Z"
   },
   {
    "duration": 7,
    "start_time": "2022-03-09T05:11:05.786Z"
   },
   {
    "duration": 44,
    "start_time": "2022-03-09T05:11:05.795Z"
   },
   {
    "duration": 6,
    "start_time": "2022-03-09T05:11:05.840Z"
   },
   {
    "duration": 11,
    "start_time": "2022-03-09T05:11:05.847Z"
   },
   {
    "duration": 6,
    "start_time": "2022-03-09T05:11:05.860Z"
   },
   {
    "duration": 9,
    "start_time": "2022-03-09T05:11:05.867Z"
   },
   {
    "duration": 13,
    "start_time": "2022-03-09T05:11:05.877Z"
   },
   {
    "duration": 3,
    "start_time": "2022-03-09T05:11:05.892Z"
   },
   {
    "duration": 7,
    "start_time": "2022-03-09T05:11:05.897Z"
   },
   {
    "duration": 9,
    "start_time": "2022-03-09T05:11:05.905Z"
   },
   {
    "duration": 11,
    "start_time": "2022-03-09T05:11:05.938Z"
   },
   {
    "duration": 15,
    "start_time": "2022-03-09T05:11:05.950Z"
   },
   {
    "duration": 14,
    "start_time": "2022-03-09T05:11:05.967Z"
   },
   {
    "duration": 11,
    "start_time": "2022-03-09T05:11:05.983Z"
   },
   {
    "duration": 8,
    "start_time": "2022-03-09T05:11:05.996Z"
   },
   {
    "duration": 12,
    "start_time": "2022-03-09T05:11:06.006Z"
   },
   {
    "duration": 22,
    "start_time": "2022-03-09T05:11:06.038Z"
   },
   {
    "duration": 7,
    "start_time": "2022-03-09T05:11:06.062Z"
   },
   {
    "duration": 20,
    "start_time": "2022-03-09T05:11:06.070Z"
   },
   {
    "duration": 14,
    "start_time": "2022-03-09T05:11:06.091Z"
   },
   {
    "duration": 35,
    "start_time": "2022-03-09T05:11:06.107Z"
   },
   {
    "duration": 17,
    "start_time": "2022-03-09T05:11:06.144Z"
   },
   {
    "duration": 26,
    "start_time": "2022-03-09T05:11:06.163Z"
   },
   {
    "duration": 13,
    "start_time": "2022-03-09T05:11:06.190Z"
   },
   {
    "duration": 12,
    "start_time": "2022-03-09T05:11:06.204Z"
   },
   {
    "duration": 32,
    "start_time": "2022-03-09T05:11:06.217Z"
   },
   {
    "duration": 23,
    "start_time": "2022-03-09T05:11:06.251Z"
   },
   {
    "duration": 15,
    "start_time": "2022-03-09T05:11:06.275Z"
   },
   {
    "duration": 28,
    "start_time": "2022-03-09T05:11:06.292Z"
   },
   {
    "duration": 24,
    "start_time": "2022-03-09T05:11:06.322Z"
   },
   {
    "duration": 19,
    "start_time": "2022-03-09T05:11:06.351Z"
   },
   {
    "duration": 15,
    "start_time": "2022-03-09T05:11:06.371Z"
   },
   {
    "duration": 17,
    "start_time": "2022-03-09T05:11:06.387Z"
   },
   {
    "duration": 33,
    "start_time": "2022-03-09T05:11:06.405Z"
   },
   {
    "duration": 4,
    "start_time": "2022-03-09T05:11:06.440Z"
   },
   {
    "duration": 6,
    "start_time": "2022-03-09T05:11:06.445Z"
   },
   {
    "duration": 9,
    "start_time": "2022-03-09T05:11:06.453Z"
   },
   {
    "duration": 10,
    "start_time": "2022-03-09T05:11:06.464Z"
   },
   {
    "duration": 9,
    "start_time": "2022-03-09T05:11:06.476Z"
   },
   {
    "duration": 19,
    "start_time": "2022-03-09T05:11:06.486Z"
   },
   {
    "duration": 50,
    "start_time": "2022-03-09T05:11:06.507Z"
   },
   {
    "duration": 12,
    "start_time": "2022-03-09T05:11:06.559Z"
   },
   {
    "duration": 4,
    "start_time": "2022-03-09T05:24:32.764Z"
   },
   {
    "duration": 7,
    "start_time": "2022-03-09T05:24:35.661Z"
   },
   {
    "duration": 211,
    "start_time": "2022-03-09T05:32:03.314Z"
   },
   {
    "duration": 6,
    "start_time": "2022-03-09T05:32:15.359Z"
   },
   {
    "duration": 8,
    "start_time": "2022-03-09T05:32:19.398Z"
   },
   {
    "duration": 3,
    "start_time": "2022-03-09T05:32:54.977Z"
   },
   {
    "duration": 3,
    "start_time": "2022-03-09T05:32:58.938Z"
   },
   {
    "duration": 8,
    "start_time": "2022-03-09T05:37:17.073Z"
   },
   {
    "duration": 7,
    "start_time": "2022-03-09T05:38:09.480Z"
   },
   {
    "duration": 9,
    "start_time": "2022-03-09T05:39:26.097Z"
   },
   {
    "duration": 12,
    "start_time": "2022-03-09T05:42:22.393Z"
   },
   {
    "duration": 9,
    "start_time": "2022-03-09T05:50:46.098Z"
   },
   {
    "duration": 9,
    "start_time": "2022-03-09T05:51:11.878Z"
   },
   {
    "duration": 619,
    "start_time": "2022-03-09T05:58:02.492Z"
   },
   {
    "duration": 58,
    "start_time": "2022-03-09T05:58:03.113Z"
   },
   {
    "duration": 15,
    "start_time": "2022-03-09T05:58:03.173Z"
   },
   {
    "duration": 10,
    "start_time": "2022-03-09T05:58:03.190Z"
   },
   {
    "duration": 3,
    "start_time": "2022-03-09T05:58:03.202Z"
   },
   {
    "duration": 35,
    "start_time": "2022-03-09T05:58:03.207Z"
   },
   {
    "duration": 22,
    "start_time": "2022-03-09T05:58:03.243Z"
   },
   {
    "duration": 16,
    "start_time": "2022-03-09T05:58:03.268Z"
   },
   {
    "duration": 17,
    "start_time": "2022-03-09T05:58:03.286Z"
   },
   {
    "duration": 43,
    "start_time": "2022-03-09T05:58:03.305Z"
   },
   {
    "duration": 10,
    "start_time": "2022-03-09T05:58:03.350Z"
   },
   {
    "duration": 30,
    "start_time": "2022-03-09T05:58:03.361Z"
   },
   {
    "duration": 19,
    "start_time": "2022-03-09T05:58:03.393Z"
   },
   {
    "duration": 26,
    "start_time": "2022-03-09T05:58:03.414Z"
   },
   {
    "duration": 1062,
    "start_time": "2022-03-09T05:58:03.442Z"
   },
   {
    "duration": 9,
    "start_time": "2022-03-09T05:58:04.505Z"
   },
   {
    "duration": 528,
    "start_time": "2022-03-09T05:58:04.515Z"
   },
   {
    "duration": 8,
    "start_time": "2022-03-09T05:58:05.045Z"
   },
   {
    "duration": 21,
    "start_time": "2022-03-09T05:58:05.055Z"
   },
   {
    "duration": 16,
    "start_time": "2022-03-09T05:58:05.078Z"
   },
   {
    "duration": 12,
    "start_time": "2022-03-09T05:58:05.095Z"
   },
   {
    "duration": 5,
    "start_time": "2022-03-09T05:58:05.109Z"
   },
   {
    "duration": 23,
    "start_time": "2022-03-09T05:58:05.118Z"
   },
   {
    "duration": 6,
    "start_time": "2022-03-09T05:58:05.144Z"
   },
   {
    "duration": 10,
    "start_time": "2022-03-09T05:58:05.151Z"
   },
   {
    "duration": 27,
    "start_time": "2022-03-09T05:58:05.162Z"
   },
   {
    "duration": 12,
    "start_time": "2022-03-09T05:58:05.191Z"
   },
   {
    "duration": 11,
    "start_time": "2022-03-09T05:58:05.205Z"
   },
   {
    "duration": 5,
    "start_time": "2022-03-09T05:58:05.218Z"
   },
   {
    "duration": 32,
    "start_time": "2022-03-09T05:58:05.225Z"
   },
   {
    "duration": 6,
    "start_time": "2022-03-09T05:58:05.259Z"
   },
   {
    "duration": 13,
    "start_time": "2022-03-09T05:58:05.267Z"
   },
   {
    "duration": 6,
    "start_time": "2022-03-09T05:58:05.282Z"
   },
   {
    "duration": 8,
    "start_time": "2022-03-09T05:58:05.290Z"
   },
   {
    "duration": 43,
    "start_time": "2022-03-09T05:58:05.299Z"
   },
   {
    "duration": 4,
    "start_time": "2022-03-09T05:58:05.344Z"
   },
   {
    "duration": 7,
    "start_time": "2022-03-09T05:58:05.350Z"
   },
   {
    "duration": 3,
    "start_time": "2022-03-09T05:58:05.359Z"
   },
   {
    "duration": 23,
    "start_time": "2022-03-09T05:58:05.364Z"
   },
   {
    "duration": 6,
    "start_time": "2022-03-09T05:58:05.388Z"
   },
   {
    "duration": 45,
    "start_time": "2022-03-09T05:58:05.395Z"
   },
   {
    "duration": 5,
    "start_time": "2022-03-09T05:58:05.441Z"
   },
   {
    "duration": 8,
    "start_time": "2022-03-09T05:58:05.448Z"
   },
   {
    "duration": 12,
    "start_time": "2022-03-09T05:58:05.458Z"
   },
   {
    "duration": 3,
    "start_time": "2022-03-09T05:58:05.472Z"
   },
   {
    "duration": 6,
    "start_time": "2022-03-09T05:58:05.477Z"
   },
   {
    "duration": 9,
    "start_time": "2022-03-09T05:58:05.484Z"
   },
   {
    "duration": 20,
    "start_time": "2022-03-09T05:58:05.495Z"
   },
   {
    "duration": 27,
    "start_time": "2022-03-09T05:58:05.517Z"
   },
   {
    "duration": 20,
    "start_time": "2022-03-09T05:58:05.545Z"
   },
   {
    "duration": 10,
    "start_time": "2022-03-09T05:58:05.566Z"
   },
   {
    "duration": 8,
    "start_time": "2022-03-09T05:58:05.577Z"
   },
   {
    "duration": 12,
    "start_time": "2022-03-09T05:58:05.586Z"
   },
   {
    "duration": 40,
    "start_time": "2022-03-09T05:58:05.599Z"
   },
   {
    "duration": 8,
    "start_time": "2022-03-09T05:58:05.640Z"
   },
   {
    "duration": 19,
    "start_time": "2022-03-09T05:58:05.649Z"
   },
   {
    "duration": 17,
    "start_time": "2022-03-09T05:58:05.669Z"
   },
   {
    "duration": 8,
    "start_time": "2022-03-09T05:58:05.688Z"
   },
   {
    "duration": 15,
    "start_time": "2022-03-09T05:58:05.697Z"
   },
   {
    "duration": 22,
    "start_time": "2022-03-09T05:58:05.739Z"
   },
   {
    "duration": 12,
    "start_time": "2022-03-09T05:58:05.762Z"
   },
   {
    "duration": 10,
    "start_time": "2022-03-09T05:58:05.776Z"
   },
   {
    "duration": 15,
    "start_time": "2022-03-09T05:58:05.788Z"
   },
   {
    "duration": 46,
    "start_time": "2022-03-09T05:58:05.804Z"
   },
   {
    "duration": 14,
    "start_time": "2022-03-09T05:58:05.852Z"
   },
   {
    "duration": 12,
    "start_time": "2022-03-09T05:58:05.868Z"
   },
   {
    "duration": 10,
    "start_time": "2022-03-09T05:58:05.882Z"
   },
   {
    "duration": 49,
    "start_time": "2022-03-09T05:58:05.896Z"
   },
   {
    "duration": 15,
    "start_time": "2022-03-09T05:58:05.947Z"
   },
   {
    "duration": 26,
    "start_time": "2022-03-09T05:58:05.963Z"
   },
   {
    "duration": 3,
    "start_time": "2022-03-09T05:58:05.991Z"
   },
   {
    "duration": 9,
    "start_time": "2022-03-09T05:58:05.996Z"
   },
   {
    "duration": 6,
    "start_time": "2022-03-09T05:58:06.006Z"
   },
   {
    "duration": 25,
    "start_time": "2022-03-09T05:58:06.014Z"
   },
   {
    "duration": 10,
    "start_time": "2022-03-09T05:58:06.041Z"
   },
   {
    "duration": 254,
    "start_time": "2022-03-09T05:58:06.053Z"
   },
   {
    "duration": 5242,
    "start_time": "2022-03-09T05:58:01.067Z"
   },
   {
    "duration": 5234,
    "start_time": "2022-03-09T05:58:01.076Z"
   },
   {
    "duration": 5225,
    "start_time": "2022-03-09T05:58:01.085Z"
   },
   {
    "duration": 673,
    "start_time": "2022-03-09T06:00:30.865Z"
   },
   {
    "duration": 58,
    "start_time": "2022-03-09T06:00:31.540Z"
   },
   {
    "duration": 15,
    "start_time": "2022-03-09T06:00:31.600Z"
   },
   {
    "duration": 29,
    "start_time": "2022-03-09T06:00:31.617Z"
   },
   {
    "duration": 5,
    "start_time": "2022-03-09T06:00:31.648Z"
   },
   {
    "duration": 23,
    "start_time": "2022-03-09T06:00:31.654Z"
   },
   {
    "duration": 27,
    "start_time": "2022-03-09T06:00:31.679Z"
   },
   {
    "duration": 34,
    "start_time": "2022-03-09T06:00:31.709Z"
   },
   {
    "duration": 17,
    "start_time": "2022-03-09T06:00:31.746Z"
   },
   {
    "duration": 16,
    "start_time": "2022-03-09T06:00:31.765Z"
   },
   {
    "duration": 10,
    "start_time": "2022-03-09T06:00:31.783Z"
   },
   {
    "duration": 49,
    "start_time": "2022-03-09T06:00:31.795Z"
   },
   {
    "duration": 23,
    "start_time": "2022-03-09T06:00:31.846Z"
   },
   {
    "duration": 5,
    "start_time": "2022-03-09T06:00:31.871Z"
   },
   {
    "duration": 1104,
    "start_time": "2022-03-09T06:00:31.878Z"
   },
   {
    "duration": 10,
    "start_time": "2022-03-09T06:00:32.984Z"
   },
   {
    "duration": 538,
    "start_time": "2022-03-09T06:00:32.996Z"
   },
   {
    "duration": 7,
    "start_time": "2022-03-09T06:00:33.537Z"
   },
   {
    "duration": 15,
    "start_time": "2022-03-09T06:00:33.546Z"
   },
   {
    "duration": 14,
    "start_time": "2022-03-09T06:00:33.562Z"
   },
   {
    "duration": 9,
    "start_time": "2022-03-09T06:00:33.578Z"
   },
   {
    "duration": 6,
    "start_time": "2022-03-09T06:00:33.588Z"
   },
   {
    "duration": 8,
    "start_time": "2022-03-09T06:00:33.598Z"
   },
   {
    "duration": 31,
    "start_time": "2022-03-09T06:00:33.608Z"
   },
   {
    "duration": 8,
    "start_time": "2022-03-09T06:00:33.641Z"
   },
   {
    "duration": 19,
    "start_time": "2022-03-09T06:00:33.650Z"
   },
   {
    "duration": 14,
    "start_time": "2022-03-09T06:00:33.671Z"
   },
   {
    "duration": 10,
    "start_time": "2022-03-09T06:00:33.687Z"
   },
   {
    "duration": 12,
    "start_time": "2022-03-09T06:00:33.698Z"
   },
   {
    "duration": 47,
    "start_time": "2022-03-09T06:00:33.712Z"
   },
   {
    "duration": 6,
    "start_time": "2022-03-09T06:00:33.761Z"
   },
   {
    "duration": 15,
    "start_time": "2022-03-09T06:00:33.769Z"
   },
   {
    "duration": 7,
    "start_time": "2022-03-09T06:00:33.785Z"
   },
   {
    "duration": 9,
    "start_time": "2022-03-09T06:00:33.793Z"
   },
   {
    "duration": 42,
    "start_time": "2022-03-09T06:00:33.803Z"
   },
   {
    "duration": 5,
    "start_time": "2022-03-09T06:00:33.847Z"
   },
   {
    "duration": 11,
    "start_time": "2022-03-09T06:00:33.853Z"
   },
   {
    "duration": 14,
    "start_time": "2022-03-09T06:00:33.866Z"
   },
   {
    "duration": 29,
    "start_time": "2022-03-09T06:00:33.882Z"
   },
   {
    "duration": 5,
    "start_time": "2022-03-09T06:00:33.913Z"
   },
   {
    "duration": 21,
    "start_time": "2022-03-09T06:00:33.920Z"
   },
   {
    "duration": 5,
    "start_time": "2022-03-09T06:00:33.942Z"
   },
   {
    "duration": 6,
    "start_time": "2022-03-09T06:00:33.949Z"
   },
   {
    "duration": 14,
    "start_time": "2022-03-09T06:00:33.956Z"
   },
   {
    "duration": 3,
    "start_time": "2022-03-09T06:00:33.972Z"
   },
   {
    "duration": 7,
    "start_time": "2022-03-09T06:00:33.977Z"
   },
   {
    "duration": 15,
    "start_time": "2022-03-09T06:00:33.985Z"
   },
   {
    "duration": 15,
    "start_time": "2022-03-09T06:00:34.001Z"
   },
   {
    "duration": 8,
    "start_time": "2022-03-09T06:00:34.038Z"
   },
   {
    "duration": 16,
    "start_time": "2022-03-09T06:00:34.048Z"
   },
   {
    "duration": 16,
    "start_time": "2022-03-09T06:00:34.066Z"
   },
   {
    "duration": 10,
    "start_time": "2022-03-09T06:00:34.084Z"
   },
   {
    "duration": 13,
    "start_time": "2022-03-09T06:00:34.096Z"
   },
   {
    "duration": 43,
    "start_time": "2022-03-09T06:00:34.111Z"
   },
   {
    "duration": 7,
    "start_time": "2022-03-09T06:00:34.156Z"
   },
   {
    "duration": 33,
    "start_time": "2022-03-09T06:00:34.165Z"
   },
   {
    "duration": 23,
    "start_time": "2022-03-09T06:00:34.200Z"
   },
   {
    "duration": 10,
    "start_time": "2022-03-09T06:00:34.225Z"
   },
   {
    "duration": 21,
    "start_time": "2022-03-09T06:00:34.237Z"
   },
   {
    "duration": 23,
    "start_time": "2022-03-09T06:00:34.260Z"
   },
   {
    "duration": 13,
    "start_time": "2022-03-09T06:00:34.285Z"
   },
   {
    "duration": 13,
    "start_time": "2022-03-09T06:00:34.300Z"
   },
   {
    "duration": 35,
    "start_time": "2022-03-09T06:00:34.315Z"
   },
   {
    "duration": 18,
    "start_time": "2022-03-09T06:00:34.351Z"
   },
   {
    "duration": 14,
    "start_time": "2022-03-09T06:00:34.371Z"
   },
   {
    "duration": 16,
    "start_time": "2022-03-09T06:00:34.386Z"
   },
   {
    "duration": 43,
    "start_time": "2022-03-09T06:00:34.404Z"
   },
   {
    "duration": 23,
    "start_time": "2022-03-09T06:00:34.451Z"
   },
   {
    "duration": 16,
    "start_time": "2022-03-09T06:00:34.475Z"
   },
   {
    "duration": 52,
    "start_time": "2022-03-09T06:00:34.493Z"
   },
   {
    "duration": 4,
    "start_time": "2022-03-09T06:00:34.546Z"
   },
   {
    "duration": 7,
    "start_time": "2022-03-09T06:00:34.552Z"
   },
   {
    "duration": 8,
    "start_time": "2022-03-09T06:00:34.560Z"
   },
   {
    "duration": 11,
    "start_time": "2022-03-09T06:00:34.569Z"
   },
   {
    "duration": 8,
    "start_time": "2022-03-09T06:00:34.582Z"
   },
   {
    "duration": 197,
    "start_time": "2022-03-09T06:00:34.591Z"
   },
   {
    "duration": 4718,
    "start_time": "2022-03-09T06:00:30.072Z"
   },
   {
    "duration": 4703,
    "start_time": "2022-03-09T06:00:30.088Z"
   },
   {
    "duration": 4690,
    "start_time": "2022-03-09T06:00:30.102Z"
   },
   {
    "duration": 9,
    "start_time": "2022-03-09T06:01:16.751Z"
   },
   {
    "duration": 620,
    "start_time": "2022-03-09T06:02:08.180Z"
   },
   {
    "duration": 64,
    "start_time": "2022-03-09T06:02:08.801Z"
   },
   {
    "duration": 15,
    "start_time": "2022-03-09T06:02:08.867Z"
   },
   {
    "duration": 10,
    "start_time": "2022-03-09T06:02:08.884Z"
   },
   {
    "duration": 4,
    "start_time": "2022-03-09T06:02:08.896Z"
   },
   {
    "duration": 42,
    "start_time": "2022-03-09T06:02:08.901Z"
   },
   {
    "duration": 24,
    "start_time": "2022-03-09T06:02:08.945Z"
   },
   {
    "duration": 16,
    "start_time": "2022-03-09T06:02:08.972Z"
   },
   {
    "duration": 18,
    "start_time": "2022-03-09T06:02:08.990Z"
   },
   {
    "duration": 43,
    "start_time": "2022-03-09T06:02:09.009Z"
   },
   {
    "duration": 10,
    "start_time": "2022-03-09T06:02:09.054Z"
   },
   {
    "duration": 21,
    "start_time": "2022-03-09T06:02:09.066Z"
   },
   {
    "duration": 54,
    "start_time": "2022-03-09T06:02:09.088Z"
   },
   {
    "duration": 4,
    "start_time": "2022-03-09T06:02:09.144Z"
   },
   {
    "duration": 1076,
    "start_time": "2022-03-09T06:02:09.149Z"
   },
   {
    "duration": 14,
    "start_time": "2022-03-09T06:02:10.227Z"
   },
   {
    "duration": 531,
    "start_time": "2022-03-09T06:02:10.243Z"
   },
   {
    "duration": 7,
    "start_time": "2022-03-09T06:02:10.776Z"
   },
   {
    "duration": 10,
    "start_time": "2022-03-09T06:02:10.785Z"
   },
   {
    "duration": 10,
    "start_time": "2022-03-09T06:02:10.796Z"
   },
   {
    "duration": 8,
    "start_time": "2022-03-09T06:02:10.808Z"
   },
   {
    "duration": 25,
    "start_time": "2022-03-09T06:02:10.817Z"
   },
   {
    "duration": 7,
    "start_time": "2022-03-09T06:02:10.846Z"
   },
   {
    "duration": 6,
    "start_time": "2022-03-09T06:02:10.856Z"
   },
   {
    "duration": 7,
    "start_time": "2022-03-09T06:02:10.864Z"
   },
   {
    "duration": 13,
    "start_time": "2022-03-09T06:02:10.873Z"
   },
   {
    "duration": 11,
    "start_time": "2022-03-09T06:02:10.888Z"
   },
   {
    "duration": 39,
    "start_time": "2022-03-09T06:02:10.900Z"
   },
   {
    "duration": 13,
    "start_time": "2022-03-09T06:02:10.941Z"
   },
   {
    "duration": 26,
    "start_time": "2022-03-09T06:02:10.956Z"
   },
   {
    "duration": 13,
    "start_time": "2022-03-09T06:02:10.984Z"
   },
   {
    "duration": 15,
    "start_time": "2022-03-09T06:02:10.999Z"
   },
   {
    "duration": 28,
    "start_time": "2022-03-09T06:02:11.015Z"
   },
   {
    "duration": 15,
    "start_time": "2022-03-09T06:02:11.045Z"
   },
   {
    "duration": 15,
    "start_time": "2022-03-09T06:02:11.062Z"
   },
   {
    "duration": 5,
    "start_time": "2022-03-09T06:02:11.079Z"
   },
   {
    "duration": 18,
    "start_time": "2022-03-09T06:02:11.086Z"
   },
   {
    "duration": 4,
    "start_time": "2022-03-09T06:02:11.106Z"
   },
   {
    "duration": 46,
    "start_time": "2022-03-09T06:02:11.112Z"
   },
   {
    "duration": 6,
    "start_time": "2022-03-09T06:02:11.160Z"
   },
   {
    "duration": 17,
    "start_time": "2022-03-09T06:02:11.168Z"
   },
   {
    "duration": 8,
    "start_time": "2022-03-09T06:02:11.187Z"
   },
   {
    "duration": 14,
    "start_time": "2022-03-09T06:02:11.197Z"
   },
   {
    "duration": 17,
    "start_time": "2022-03-09T06:02:11.213Z"
   },
   {
    "duration": 4,
    "start_time": "2022-03-09T06:02:11.237Z"
   },
   {
    "duration": 13,
    "start_time": "2022-03-09T06:02:11.243Z"
   },
   {
    "duration": 10,
    "start_time": "2022-03-09T06:02:11.257Z"
   },
   {
    "duration": 16,
    "start_time": "2022-03-09T06:02:11.269Z"
   },
   {
    "duration": 17,
    "start_time": "2022-03-09T06:02:11.287Z"
   },
   {
    "duration": 19,
    "start_time": "2022-03-09T06:02:11.306Z"
   },
   {
    "duration": 18,
    "start_time": "2022-03-09T06:02:11.326Z"
   },
   {
    "duration": 11,
    "start_time": "2022-03-09T06:02:11.346Z"
   },
   {
    "duration": 13,
    "start_time": "2022-03-09T06:02:11.359Z"
   },
   {
    "duration": 33,
    "start_time": "2022-03-09T06:02:11.374Z"
   },
   {
    "duration": 8,
    "start_time": "2022-03-09T06:02:11.409Z"
   },
   {
    "duration": 17,
    "start_time": "2022-03-09T06:02:11.438Z"
   },
   {
    "duration": 10,
    "start_time": "2022-03-09T06:02:11.457Z"
   },
   {
    "duration": 10,
    "start_time": "2022-03-09T06:02:11.469Z"
   },
   {
    "duration": 16,
    "start_time": "2022-03-09T06:02:11.480Z"
   },
   {
    "duration": 55,
    "start_time": "2022-03-09T06:02:11.498Z"
   },
   {
    "duration": 14,
    "start_time": "2022-03-09T06:02:11.555Z"
   },
   {
    "duration": 10,
    "start_time": "2022-03-09T06:02:11.571Z"
   },
   {
    "duration": 14,
    "start_time": "2022-03-09T06:02:11.583Z"
   },
   {
    "duration": 49,
    "start_time": "2022-03-09T06:02:11.599Z"
   },
   {
    "duration": 14,
    "start_time": "2022-03-09T06:02:11.650Z"
   },
   {
    "duration": 18,
    "start_time": "2022-03-09T06:02:11.665Z"
   },
   {
    "duration": 12,
    "start_time": "2022-03-09T06:02:11.685Z"
   },
   {
    "duration": 46,
    "start_time": "2022-03-09T06:02:11.703Z"
   },
   {
    "duration": 16,
    "start_time": "2022-03-09T06:02:11.752Z"
   },
   {
    "duration": 19,
    "start_time": "2022-03-09T06:02:11.770Z"
   },
   {
    "duration": 4,
    "start_time": "2022-03-09T06:02:11.791Z"
   },
   {
    "duration": 40,
    "start_time": "2022-03-09T06:02:11.797Z"
   },
   {
    "duration": 4,
    "start_time": "2022-03-09T06:02:11.840Z"
   },
   {
    "duration": 13,
    "start_time": "2022-03-09T06:02:11.846Z"
   },
   {
    "duration": 7,
    "start_time": "2022-03-09T06:02:11.861Z"
   },
   {
    "duration": 10,
    "start_time": "2022-03-09T06:02:11.870Z"
   },
   {
    "duration": 20,
    "start_time": "2022-03-09T06:02:11.882Z"
   },
   {
    "duration": 57,
    "start_time": "2022-03-09T06:02:11.904Z"
   },
   {
    "duration": 14,
    "start_time": "2022-03-09T06:02:11.963Z"
   },
   {
    "duration": 906,
    "start_time": "2022-03-09T19:33:38.795Z"
   },
   {
    "duration": 66,
    "start_time": "2022-03-09T19:33:39.704Z"
   },
   {
    "duration": 23,
    "start_time": "2022-03-09T19:33:39.782Z"
   },
   {
    "duration": 12,
    "start_time": "2022-03-09T19:33:39.808Z"
   },
   {
    "duration": 6,
    "start_time": "2022-03-09T19:33:39.822Z"
   },
   {
    "duration": 52,
    "start_time": "2022-03-09T19:33:39.830Z"
   },
   {
    "duration": 35,
    "start_time": "2022-03-09T19:33:39.886Z"
   },
   {
    "duration": 22,
    "start_time": "2022-03-09T19:33:39.925Z"
   },
   {
    "duration": 53,
    "start_time": "2022-03-09T19:33:39.950Z"
   },
   {
    "duration": 21,
    "start_time": "2022-03-09T19:33:40.005Z"
   },
   {
    "duration": 13,
    "start_time": "2022-03-09T19:33:40.028Z"
   },
   {
    "duration": 63,
    "start_time": "2022-03-09T19:33:40.043Z"
   },
   {
    "duration": 29,
    "start_time": "2022-03-09T19:33:40.108Z"
   },
   {
    "duration": 10,
    "start_time": "2022-03-09T19:33:40.140Z"
   },
   {
    "duration": 1636,
    "start_time": "2022-03-09T19:33:40.153Z"
   },
   {
    "duration": 12,
    "start_time": "2022-03-09T19:33:41.792Z"
   },
   {
    "duration": 806,
    "start_time": "2022-03-09T19:33:41.806Z"
   },
   {
    "duration": 10,
    "start_time": "2022-03-09T19:33:42.616Z"
   },
   {
    "duration": 13,
    "start_time": "2022-03-09T19:33:42.628Z"
   },
   {
    "duration": 41,
    "start_time": "2022-03-09T19:33:42.643Z"
   },
   {
    "duration": 12,
    "start_time": "2022-03-09T19:33:42.687Z"
   },
   {
    "duration": 9,
    "start_time": "2022-03-09T19:33:42.701Z"
   },
   {
    "duration": 9,
    "start_time": "2022-03-09T19:33:42.716Z"
   },
   {
    "duration": 9,
    "start_time": "2022-03-09T19:33:42.729Z"
   },
   {
    "duration": 10,
    "start_time": "2022-03-09T19:33:42.783Z"
   },
   {
    "duration": 16,
    "start_time": "2022-03-09T19:33:42.796Z"
   },
   {
    "duration": 13,
    "start_time": "2022-03-09T19:33:42.815Z"
   },
   {
    "duration": 18,
    "start_time": "2022-03-09T19:33:42.831Z"
   },
   {
    "duration": 37,
    "start_time": "2022-03-09T19:33:42.851Z"
   },
   {
    "duration": 37,
    "start_time": "2022-03-09T19:33:42.890Z"
   },
   {
    "duration": 9,
    "start_time": "2022-03-09T19:33:42.930Z"
   },
   {
    "duration": 48,
    "start_time": "2022-03-09T19:33:42.941Z"
   },
   {
    "duration": 10,
    "start_time": "2022-03-09T19:33:42.993Z"
   },
   {
    "duration": 11,
    "start_time": "2022-03-09T19:33:43.006Z"
   },
   {
    "duration": 17,
    "start_time": "2022-03-09T19:33:43.020Z"
   },
   {
    "duration": 48,
    "start_time": "2022-03-09T19:33:43.039Z"
   },
   {
    "duration": 10,
    "start_time": "2022-03-09T19:33:43.089Z"
   },
   {
    "duration": 4,
    "start_time": "2022-03-09T19:33:43.102Z"
   },
   {
    "duration": 33,
    "start_time": "2022-03-09T19:33:43.108Z"
   },
   {
    "duration": 43,
    "start_time": "2022-03-09T19:33:43.143Z"
   },
   {
    "duration": 9,
    "start_time": "2022-03-09T19:33:43.189Z"
   },
   {
    "duration": 10,
    "start_time": "2022-03-09T19:33:43.201Z"
   },
   {
    "duration": 9,
    "start_time": "2022-03-09T19:33:43.214Z"
   },
   {
    "duration": 15,
    "start_time": "2022-03-09T19:33:43.225Z"
   },
   {
    "duration": 40,
    "start_time": "2022-03-09T19:33:43.242Z"
   },
   {
    "duration": 5,
    "start_time": "2022-03-09T19:33:43.285Z"
   },
   {
    "duration": 10,
    "start_time": "2022-03-09T19:33:43.293Z"
   },
   {
    "duration": 24,
    "start_time": "2022-03-09T19:33:43.306Z"
   },
   {
    "duration": 12,
    "start_time": "2022-03-09T19:33:43.333Z"
   },
   {
    "duration": 43,
    "start_time": "2022-03-09T19:33:43.348Z"
   },
   {
    "duration": 10,
    "start_time": "2022-03-09T19:33:43.393Z"
   },
   {
    "duration": 8,
    "start_time": "2022-03-09T19:33:43.405Z"
   },
   {
    "duration": 19,
    "start_time": "2022-03-09T19:33:43.416Z"
   },
   {
    "duration": 68,
    "start_time": "2022-03-09T19:33:43.438Z"
   },
   {
    "duration": 10,
    "start_time": "2022-03-09T19:33:43.508Z"
   },
   {
    "duration": 24,
    "start_time": "2022-03-09T19:33:43.520Z"
   },
   {
    "duration": 45,
    "start_time": "2022-03-09T19:33:43.546Z"
   },
   {
    "duration": 13,
    "start_time": "2022-03-09T19:33:43.593Z"
   },
   {
    "duration": 22,
    "start_time": "2022-03-09T19:33:43.609Z"
   },
   {
    "duration": 65,
    "start_time": "2022-03-09T19:33:43.634Z"
   },
   {
    "duration": 17,
    "start_time": "2022-03-09T19:33:43.702Z"
   },
   {
    "duration": 24,
    "start_time": "2022-03-09T19:33:43.721Z"
   },
   {
    "duration": 41,
    "start_time": "2022-03-09T19:33:43.748Z"
   },
   {
    "duration": 37,
    "start_time": "2022-03-09T19:33:43.791Z"
   },
   {
    "duration": 22,
    "start_time": "2022-03-09T19:33:43.831Z"
   },
   {
    "duration": 43,
    "start_time": "2022-03-09T19:33:43.856Z"
   },
   {
    "duration": 27,
    "start_time": "2022-03-09T19:33:43.902Z"
   },
   {
    "duration": 57,
    "start_time": "2022-03-09T19:33:43.938Z"
   },
   {
    "duration": 22,
    "start_time": "2022-03-09T19:33:43.998Z"
   },
   {
    "duration": 32,
    "start_time": "2022-03-09T19:33:44.023Z"
   },
   {
    "duration": 6,
    "start_time": "2022-03-09T19:33:44.083Z"
   },
   {
    "duration": 8,
    "start_time": "2022-03-09T19:33:44.092Z"
   },
   {
    "duration": 7,
    "start_time": "2022-03-09T19:33:44.103Z"
   },
   {
    "duration": 17,
    "start_time": "2022-03-09T19:33:44.113Z"
   },
   {
    "duration": 51,
    "start_time": "2022-03-09T19:33:44.133Z"
   },
   {
    "duration": 14,
    "start_time": "2022-03-09T19:33:44.187Z"
   },
   {
    "duration": 29,
    "start_time": "2022-03-09T19:33:44.203Z"
   },
   {
    "duration": 65,
    "start_time": "2022-03-09T19:33:44.234Z"
   },
   {
    "duration": 20,
    "start_time": "2022-03-09T19:33:44.302Z"
   }
  ],
  "kernelspec": {
   "display_name": "Python 3 (ipykernel)",
   "language": "python",
   "name": "python3"
  },
  "language_info": {
   "codemirror_mode": {
    "name": "ipython",
    "version": 3
   },
   "file_extension": ".py",
   "mimetype": "text/x-python",
   "name": "python",
   "nbconvert_exporter": "python",
   "pygments_lexer": "ipython3",
   "version": "3.7.8"
  },
  "toc": {
   "base_numbering": 1,
   "nav_menu": {},
   "number_sections": true,
   "sideBar": true,
   "skip_h1_title": true,
   "title_cell": "Table of Contents",
   "title_sidebar": "Contents",
   "toc_cell": false,
   "toc_position": {
    "height": "calc(100% - 180px)",
    "left": "10px",
    "top": "150px",
    "width": "316px"
   },
   "toc_section_display": true,
   "toc_window_display": true
  }
 },
 "nbformat": 4,
 "nbformat_minor": 5
}
