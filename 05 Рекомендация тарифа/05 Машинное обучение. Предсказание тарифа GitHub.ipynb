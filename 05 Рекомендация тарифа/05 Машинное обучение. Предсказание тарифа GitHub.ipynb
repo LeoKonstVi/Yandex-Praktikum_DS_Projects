{
 "cells": [
  {
   "cell_type": "markdown",
   "id": "57575e49",
   "metadata": {},
   "source": [
    "# Рекомендательная система нового тарифа на основе данных о поведении абонентов"
   ]
  },
  {
   "cell_type": "markdown",
   "id": "bd836821",
   "metadata": {},
   "source": [
    "Оператор мобильной связи «Мегалайн» выяснил, что многие клиенты пользуются архивными тарифами. Необходимо построить систему, способную проанализировать поведение клиентов и предложить пользователям новый тариф: «Смарт» или «Ультра».\n",
    "Для этих целей есть данные о поведении клиентов, которые уже перешли на эти тарифы (из проекта курса «Статистический анализ данных»). Нужно построить модель для задачи классификации, которая выберет подходящий тариф. Предобработка данных не понадобится, она была сделана в предыдущей работе.\n",
    "Необходимо построить модель с максимально большим значением accuracy. Требуется довести долю правильных ответов по крайней мере до 0.75. Необходимо проверить accuracy на тестовой выборке."
   ]
  },
  {
   "cell_type": "markdown",
   "id": "f79c85b6",
   "metadata": {
    "toc": true
   },
   "source": [
    "<h1>Оглавление<span class=\"tocSkip\"></span></h1>\n",
    "<div class=\"toc\"><ul class=\"toc-item\"><li><span><a href=\"#Введение\" data-toc-modified-id=\"Введение-1\"><span class=\"toc-item-num\">1&nbsp;&nbsp;</span>Введение</a></span><ul class=\"toc-item\"><li><span><a href=\"#Описание-данных\" data-toc-modified-id=\"Описание-данных-1.1\"><span class=\"toc-item-num\">1.1&nbsp;&nbsp;</span>Описание данных</a></span></li><li><span><a href=\"#Инструкция-по-выполнению-проекта\" data-toc-modified-id=\"Инструкция-по-выполнению-проекта-1.2\"><span class=\"toc-item-num\">1.2&nbsp;&nbsp;</span>Инструкция по выполнению проекта</a></span></li></ul></li><li><span><a href=\"#Импорт-библиотек\" data-toc-modified-id=\"Импорт-библиотек-2\"><span class=\"toc-item-num\">2&nbsp;&nbsp;</span>Импорт библиотек</a></span></li><li><span><a href=\"#Считывание-данных\" data-toc-modified-id=\"Считывание-данных-3\"><span class=\"toc-item-num\">3&nbsp;&nbsp;</span>Считывание данных</a></span></li><li><span><a href=\"#Разделение-данных-на-обучающую,-валидационную-и-тестовую-выборки.\" data-toc-modified-id=\"Разделение-данных-на-обучающую,-валидационную-и-тестовую-выборки.-4\"><span class=\"toc-item-num\">4&nbsp;&nbsp;</span>Разделение данных на обучающую, валидационную и тестовую выборки.</a></span></li><li><span><a href=\"#Модели-машинного-обучения-и-подбор-гиперпараметров\" data-toc-modified-id=\"Модели-машинного-обучения-и-подбор-гиперпараметров-5\"><span class=\"toc-item-num\">5&nbsp;&nbsp;</span>Модели машинного обучения и подбор гиперпараметров</a></span><ul class=\"toc-item\"><li><span><a href=\"#DTC-модель-решающего-дерева-с-подбором-гиперпараметров\" data-toc-modified-id=\"DTC-модель-решающего-дерева-с-подбором-гиперпараметров-5.1\"><span class=\"toc-item-num\">5.1&nbsp;&nbsp;</span>DTC модель решающего дерева с подбором гиперпараметров</a></span></li><li><span><a href=\"#RFC-модель-случайного-леса-с-подбором-гиперпараметров\" data-toc-modified-id=\"RFC-модель-случайного-леса-с-подбором-гиперпараметров-5.2\"><span class=\"toc-item-num\">5.2&nbsp;&nbsp;</span>RFC модель случайного леса с подбором гиперпараметров</a></span></li><li><span><a href=\"#LR-модель-логистической-регрессии\" data-toc-modified-id=\"LR-модель-логистической-регрессии-5.3\"><span class=\"toc-item-num\">5.3&nbsp;&nbsp;</span>LR модель логистической регрессии</a></span></li><li><span><a href=\"#Сравнительная-таблица-точности-различных-моделей\" data-toc-modified-id=\"Сравнительная-таблица-точности-различных-моделей-5.4\"><span class=\"toc-item-num\">5.4&nbsp;&nbsp;</span>Сравнительная таблица точности различных моделей</a></span></li><li><span><a href=\"#Вывод-по-моделям-машинного-обучения\" data-toc-modified-id=\"Вывод-по-моделям-машинного-обучения-5.5\"><span class=\"toc-item-num\">5.5&nbsp;&nbsp;</span>Вывод по моделям машинного обучения</a></span></li></ul></li><li><span><a href=\"#Проверка-точности-лучшей-модели-на-тестовой-выборке\" data-toc-modified-id=\"Проверка-точности-лучшей-модели-на-тестовой-выборке-6\"><span class=\"toc-item-num\">6&nbsp;&nbsp;</span>Проверка точности лучшей модели на тестовой выборке</a></span></li><li><span><a href=\"#Проверка-модели-на-вменяемость-с-помощью-фиктивного-классификатора-DummyClassifier\" data-toc-modified-id=\"Проверка-модели-на-вменяемость-с-помощью-фиктивного-классификатора-DummyClassifier-7\"><span class=\"toc-item-num\">7&nbsp;&nbsp;</span>Проверка модели на вменяемость с помощью фиктивного классификатора DummyClassifier</a></span><ul class=\"toc-item\"><li><span><a href=\"#Распределение-пользователей-по-тарифам.\" data-toc-modified-id=\"Распределение-пользователей-по-тарифам.-7.1\"><span class=\"toc-item-num\">7.1&nbsp;&nbsp;</span>Распределение пользователей по тарифам.</a></span></li><li><span><a href=\"#DC-модель-фиктивного-классификатора\" data-toc-modified-id=\"DC-модель-фиктивного-классификатора-7.2\"><span class=\"toc-item-num\">7.2&nbsp;&nbsp;</span>DC модель фиктивного классификатора</a></span></li><li><span><a href=\"#Вывод\" data-toc-modified-id=\"Вывод-7.3\"><span class=\"toc-item-num\">7.3&nbsp;&nbsp;</span>Вывод</a></span></li></ul></li><li><span><a href=\"#Общий-вывод\" data-toc-modified-id=\"Общий-вывод-8\"><span class=\"toc-item-num\">8&nbsp;&nbsp;</span>Общий вывод</a></span></li></ul></div>"
   ]
  },
  {
   "cell_type": "markdown",
   "id": "ccfbd1ad",
   "metadata": {},
   "source": [
    "## Введение"
   ]
  },
  {
   "cell_type": "markdown",
   "id": "e8e7fbde",
   "metadata": {},
   "source": [
    "### Описание данных\n",
    "Каждый объект в наборе данных — это информация о поведении одного пользователя за месяц. Известно:\n",
    "- сalls — количество звонков,\n",
    "- minutes — суммарная длительность звонков в минутах,\n",
    "- messages — количество sms-сообщений,\n",
    "- mb_used — израсходованный интернет-трафик в Мб,\n",
    "- is_ultra — каким тарифом пользовался в течение месяца («Ультра» — 1, «Смарт» — 0)."
   ]
  },
  {
   "cell_type": "markdown",
   "id": "89c74fdc",
   "metadata": {},
   "source": [
    "### Инструкция по выполнению проекта"
   ]
  },
  {
   "cell_type": "markdown",
   "id": "0e6f1a6e",
   "metadata": {},
   "source": [
    "1. Откройте и изучите данные.\n",
    "2. Разделите исходные данные на обучающую, валидационную и тестовую выборки.\n",
    "3. Исследуйте качество разных моделей, меняя гиперпараметры. Кратко напишите выводы исследования.\n",
    "4. Проверьте качество модели на тестовой выборке.\n",
    "5. Дополнительное задание: проверьте модели на вменяемость."
   ]
  },
  {
   "cell_type": "markdown",
   "id": "d14533b0",
   "metadata": {},
   "source": [
    "## Импорт библиотек"
   ]
  },
  {
   "cell_type": "code",
   "execution_count": 1,
   "id": "01928dc5",
   "metadata": {},
   "outputs": [],
   "source": [
    "import pandas as pd\n",
    "from sklearn.model_selection import train_test_split\n",
    "from sklearn.tree import DecisionTreeClassifier\n",
    "from sklearn.ensemble import RandomForestClassifier\n",
    "from sklearn.metrics import accuracy_score\n",
    "from sklearn.linear_model import LogisticRegression\n",
    "from sklearn.dummy import DummyClassifier\n",
    "\n",
    "# Отключение предупреждений\n",
    "import warnings\n",
    "warnings.filterwarnings('ignore')"
   ]
  },
  {
   "cell_type": "markdown",
   "id": "da10c0f7",
   "metadata": {},
   "source": [
    "## Считывание данных"
   ]
  },
  {
   "cell_type": "code",
   "execution_count": 2,
   "id": "0217cb9f",
   "metadata": {
    "scrolled": true
   },
   "outputs": [
    {
     "data": {
      "text/html": [
       "<div>\n",
       "<style scoped>\n",
       "    .dataframe tbody tr th:only-of-type {\n",
       "        vertical-align: middle;\n",
       "    }\n",
       "\n",
       "    .dataframe tbody tr th {\n",
       "        vertical-align: top;\n",
       "    }\n",
       "\n",
       "    .dataframe thead th {\n",
       "        text-align: right;\n",
       "    }\n",
       "</style>\n",
       "<table border=\"1\" class=\"dataframe\">\n",
       "  <thead>\n",
       "    <tr style=\"text-align: right;\">\n",
       "      <th></th>\n",
       "      <th>calls</th>\n",
       "      <th>minutes</th>\n",
       "      <th>messages</th>\n",
       "      <th>mb_used</th>\n",
       "      <th>is_ultra</th>\n",
       "    </tr>\n",
       "  </thead>\n",
       "  <tbody>\n",
       "    <tr>\n",
       "      <td>0</td>\n",
       "      <td>40.0</td>\n",
       "      <td>311.90</td>\n",
       "      <td>83.0</td>\n",
       "      <td>19915.42</td>\n",
       "      <td>0</td>\n",
       "    </tr>\n",
       "    <tr>\n",
       "      <td>1</td>\n",
       "      <td>85.0</td>\n",
       "      <td>516.75</td>\n",
       "      <td>56.0</td>\n",
       "      <td>22696.96</td>\n",
       "      <td>0</td>\n",
       "    </tr>\n",
       "    <tr>\n",
       "      <td>2</td>\n",
       "      <td>77.0</td>\n",
       "      <td>467.66</td>\n",
       "      <td>86.0</td>\n",
       "      <td>21060.45</td>\n",
       "      <td>0</td>\n",
       "    </tr>\n",
       "    <tr>\n",
       "      <td>3</td>\n",
       "      <td>106.0</td>\n",
       "      <td>745.53</td>\n",
       "      <td>81.0</td>\n",
       "      <td>8437.39</td>\n",
       "      <td>1</td>\n",
       "    </tr>\n",
       "    <tr>\n",
       "      <td>4</td>\n",
       "      <td>66.0</td>\n",
       "      <td>418.74</td>\n",
       "      <td>1.0</td>\n",
       "      <td>14502.75</td>\n",
       "      <td>0</td>\n",
       "    </tr>\n",
       "  </tbody>\n",
       "</table>\n",
       "</div>"
      ],
      "text/plain": [
       "   calls  minutes  messages   mb_used  is_ultra\n",
       "0   40.0   311.90      83.0  19915.42         0\n",
       "1   85.0   516.75      56.0  22696.96         0\n",
       "2   77.0   467.66      86.0  21060.45         0\n",
       "3  106.0   745.53      81.0   8437.39         1\n",
       "4   66.0   418.74       1.0  14502.75         0"
      ]
     },
     "metadata": {},
     "output_type": "display_data"
    }
   ],
   "source": [
    "data = pd.read_csv('datasets/users_behavior.csv')\n",
    "display(data.head())"
   ]
  },
  {
   "cell_type": "markdown",
   "id": "87c7644a",
   "metadata": {},
   "source": [
    "## Разделение данных на обучающую, валидационную и тестовую выборки."
   ]
  },
  {
   "cell_type": "code",
   "execution_count": 3,
   "id": "96e264b5",
   "metadata": {},
   "outputs": [],
   "source": [
    "# Создание датафрейма признаки и целевой признаки\n",
    "features = data.drop(['is_ultra'], axis=1)\n",
    "target = data['is_ultra']"
   ]
  },
  {
   "cell_type": "code",
   "execution_count": 4,
   "id": "95b7f3cc",
   "metadata": {},
   "outputs": [],
   "source": [
    "# Разделение данных на не тестовые 80% и тестовые 20% \n",
    "features_notest, features_test, target_notest, target_test = train_test_split(\n",
    "    features, target, test_size=0.2, random_state=12345\n",
    ")\n",
    "# Разделение не тестовой выборки на тренировочную 75% и валидационную 25%\n",
    "features_train, features_valid, target_train, target_valid = train_test_split(\n",
    "    features_notest, target_notest, test_size=0.25, random_state=12345\n",
    ")"
   ]
  },
  {
   "cell_type": "markdown",
   "id": "bc35ea3f",
   "metadata": {},
   "source": [
    "## Модели машинного обучения и подбор гиперпараметров"
   ]
  },
  {
   "cell_type": "markdown",
   "id": "fb5672cb",
   "metadata": {},
   "source": [
    "### DTC модель решающего дерева с подбором гиперпараметров"
   ]
  },
  {
   "cell_type": "code",
   "execution_count": 5,
   "id": "4e9b33a7",
   "metadata": {},
   "outputs": [
    {
     "data": {
      "text/html": [
       "<div>\n",
       "<style scoped>\n",
       "    .dataframe tbody tr th:only-of-type {\n",
       "        vertical-align: middle;\n",
       "    }\n",
       "\n",
       "    .dataframe tbody tr th {\n",
       "        vertical-align: top;\n",
       "    }\n",
       "\n",
       "    .dataframe thead th {\n",
       "        text-align: right;\n",
       "    }\n",
       "</style>\n",
       "<table border=\"1\" class=\"dataframe\">\n",
       "  <thead>\n",
       "    <tr style=\"text-align: right;\">\n",
       "      <th></th>\n",
       "      <th>depth</th>\n",
       "      <th>accuracy_train</th>\n",
       "      <th>accuracy_valid</th>\n",
       "    </tr>\n",
       "  </thead>\n",
       "  <tbody>\n",
       "    <tr>\n",
       "      <td>0</td>\n",
       "      <td>1.0</td>\n",
       "      <td>0.758299</td>\n",
       "      <td>0.738725</td>\n",
       "    </tr>\n",
       "    <tr>\n",
       "      <td>1</td>\n",
       "      <td>2.0</td>\n",
       "      <td>0.792012</td>\n",
       "      <td>0.757387</td>\n",
       "    </tr>\n",
       "    <tr>\n",
       "      <td>2</td>\n",
       "      <td>3.0</td>\n",
       "      <td>0.811722</td>\n",
       "      <td>0.765163</td>\n",
       "    </tr>\n",
       "    <tr>\n",
       "      <td>3</td>\n",
       "      <td>4.0</td>\n",
       "      <td>0.820539</td>\n",
       "      <td>0.763608</td>\n",
       "    </tr>\n",
       "    <tr>\n",
       "      <td>4</td>\n",
       "      <td>5.0</td>\n",
       "      <td>0.827282</td>\n",
       "      <td>0.758942</td>\n",
       "    </tr>\n",
       "    <tr>\n",
       "      <td>5</td>\n",
       "      <td>6.0</td>\n",
       "      <td>0.833506</td>\n",
       "      <td>0.757387</td>\n",
       "    </tr>\n",
       "    <tr>\n",
       "      <td>6</td>\n",
       "      <td>7.0</td>\n",
       "      <td>0.850622</td>\n",
       "      <td>0.774495</td>\n",
       "    </tr>\n",
       "    <tr>\n",
       "      <td>7</td>\n",
       "      <td>8.0</td>\n",
       "      <td>0.866183</td>\n",
       "      <td>0.766719</td>\n",
       "    </tr>\n",
       "    <tr>\n",
       "      <td>8</td>\n",
       "      <td>9.0</td>\n",
       "      <td>0.875000</td>\n",
       "      <td>0.762053</td>\n",
       "    </tr>\n",
       "  </tbody>\n",
       "</table>\n",
       "</div>"
      ],
      "text/plain": [
       "   depth  accuracy_train  accuracy_valid\n",
       "0    1.0        0.758299        0.738725\n",
       "1    2.0        0.792012        0.757387\n",
       "2    3.0        0.811722        0.765163\n",
       "3    4.0        0.820539        0.763608\n",
       "4    5.0        0.827282        0.758942\n",
       "5    6.0        0.833506        0.757387\n",
       "6    7.0        0.850622        0.774495\n",
       "7    8.0        0.866183        0.766719\n",
       "8    9.0        0.875000        0.762053"
      ]
     },
     "metadata": {},
     "output_type": "display_data"
    },
    {
     "name": "stdout",
     "output_type": "stream",
     "text": [
      "Точность лучшей модели дерева решений на валидационной выборке 0.77 Глубина решающего дерева 7\n"
     ]
    }
   ],
   "source": [
    "dtc_depth_accuracy = pd.DataFrame(columns=['depth', 'accuracy_train', 'accuracy_valid'])\n",
    "best_model_dtc = None\n",
    "best_accuracy_dtc = 0\n",
    "best_depth_dtc = None\n",
    "\n",
    "for depth in range(1, 10, 1):\n",
    "    model = DecisionTreeClassifier(random_state=12345, max_depth=depth)\n",
    "    model.fit(features_train, target_train)\n",
    "    predictions_train = model.predict(features_train)\n",
    "    accuracy_train = accuracy_score(target_train, predictions_train)\n",
    "    accuracy_valid = accuracy_score(target_valid, model.predict(features_valid))\n",
    "    dtc_depth_accuracy.loc[len(dtc_depth_accuracy.index)] = [depth, accuracy_train, accuracy_valid]\n",
    "    if accuracy_valid > best_accuracy_dtc:\n",
    "        best_model_dtc = model\n",
    "        best_accuracy_dtc = accuracy_valid\n",
    "        best_depth_dtc = depth\n",
    "        \n",
    "display(dtc_depth_accuracy)\n",
    "print('Точность лучшей модели дерева решений на валидационной выборке', round(best_accuracy_dtc, 2), \n",
    "      'Глубина решающего дерева', best_depth_dtc)\n"
   ]
  },
  {
   "cell_type": "markdown",
   "id": "4fcca5b9",
   "metadata": {},
   "source": [
    "### RFC модель случайного леса с подбором гиперпараметров"
   ]
  },
  {
   "cell_type": "code",
   "execution_count": 6,
   "id": "4e26864a",
   "metadata": {
    "scrolled": false
   },
   "outputs": [
    {
     "data": {
      "text/html": [
       "<div>\n",
       "<style scoped>\n",
       "    .dataframe tbody tr th:only-of-type {\n",
       "        vertical-align: middle;\n",
       "    }\n",
       "\n",
       "    .dataframe tbody tr th {\n",
       "        vertical-align: top;\n",
       "    }\n",
       "\n",
       "    .dataframe thead th {\n",
       "        text-align: right;\n",
       "    }\n",
       "</style>\n",
       "<table border=\"1\" class=\"dataframe\">\n",
       "  <thead>\n",
       "    <tr style=\"text-align: right;\">\n",
       "      <th></th>\n",
       "      <th>estimators</th>\n",
       "      <th>max_depth</th>\n",
       "      <th>accuracy_train</th>\n",
       "      <th>accuracy_valid</th>\n",
       "    </tr>\n",
       "  </thead>\n",
       "  <tbody>\n",
       "    <tr>\n",
       "      <td>0</td>\n",
       "      <td>1.0</td>\n",
       "      <td>1.0</td>\n",
       "      <td>0.746888</td>\n",
       "      <td>0.726283</td>\n",
       "    </tr>\n",
       "    <tr>\n",
       "      <td>1</td>\n",
       "      <td>1.0</td>\n",
       "      <td>2.0</td>\n",
       "      <td>0.788900</td>\n",
       "      <td>0.757387</td>\n",
       "    </tr>\n",
       "    <tr>\n",
       "      <td>2</td>\n",
       "      <td>1.0</td>\n",
       "      <td>3.0</td>\n",
       "      <td>0.790975</td>\n",
       "      <td>0.757387</td>\n",
       "    </tr>\n",
       "    <tr>\n",
       "      <td>3</td>\n",
       "      <td>1.0</td>\n",
       "      <td>4.0</td>\n",
       "      <td>0.797718</td>\n",
       "      <td>0.769829</td>\n",
       "    </tr>\n",
       "    <tr>\n",
       "      <td>4</td>\n",
       "      <td>1.0</td>\n",
       "      <td>5.0</td>\n",
       "      <td>0.807573</td>\n",
       "      <td>0.771384</td>\n",
       "    </tr>\n",
       "    <tr>\n",
       "      <td>...</td>\n",
       "      <td>...</td>\n",
       "      <td>...</td>\n",
       "      <td>...</td>\n",
       "      <td>...</td>\n",
       "    </tr>\n",
       "    <tr>\n",
       "      <td>166</td>\n",
       "      <td>19.0</td>\n",
       "      <td>5.0</td>\n",
       "      <td>0.831432</td>\n",
       "      <td>0.777605</td>\n",
       "    </tr>\n",
       "    <tr>\n",
       "      <td>167</td>\n",
       "      <td>19.0</td>\n",
       "      <td>6.0</td>\n",
       "      <td>0.845954</td>\n",
       "      <td>0.783826</td>\n",
       "    </tr>\n",
       "    <tr>\n",
       "      <td>168</td>\n",
       "      <td>19.0</td>\n",
       "      <td>7.0</td>\n",
       "      <td>0.857365</td>\n",
       "      <td>0.786936</td>\n",
       "    </tr>\n",
       "    <tr>\n",
       "      <td>169</td>\n",
       "      <td>19.0</td>\n",
       "      <td>8.0</td>\n",
       "      <td>0.866701</td>\n",
       "      <td>0.783826</td>\n",
       "    </tr>\n",
       "    <tr>\n",
       "      <td>170</td>\n",
       "      <td>19.0</td>\n",
       "      <td>9.0</td>\n",
       "      <td>0.878112</td>\n",
       "      <td>0.794712</td>\n",
       "    </tr>\n",
       "  </tbody>\n",
       "</table>\n",
       "<p>171 rows × 4 columns</p>\n",
       "</div>"
      ],
      "text/plain": [
       "     estimators  max_depth  accuracy_train  accuracy_valid\n",
       "0           1.0        1.0        0.746888        0.726283\n",
       "1           1.0        2.0        0.788900        0.757387\n",
       "2           1.0        3.0        0.790975        0.757387\n",
       "3           1.0        4.0        0.797718        0.769829\n",
       "4           1.0        5.0        0.807573        0.771384\n",
       "..          ...        ...             ...             ...\n",
       "166        19.0        5.0        0.831432        0.777605\n",
       "167        19.0        6.0        0.845954        0.783826\n",
       "168        19.0        7.0        0.857365        0.786936\n",
       "169        19.0        8.0        0.866701        0.783826\n",
       "170        19.0        9.0        0.878112        0.794712\n",
       "\n",
       "[171 rows x 4 columns]"
      ]
     },
     "metadata": {},
     "output_type": "display_data"
    },
    {
     "name": "stdout",
     "output_type": "stream",
     "text": [
      "Точность лучшей модели случайного леса на валидационной выборке 0.8 количество деревьев 3 глубина деревьев 9\n"
     ]
    }
   ],
   "source": [
    "rfc_est_accuracy = pd.DataFrame(columns=['estimators', 'max_depth', 'accuracy_train', 'accuracy_valid'])\n",
    "best_model_rfc = None\n",
    "best_accuracy_rfc = 0\n",
    "best_estimators_rfc = 0\n",
    "best_max_depth = 0\n",
    "\n",
    "for est in range(1, 20, 1):\n",
    "    for max_depth in range(1, 10):\n",
    "        model = RandomForestClassifier(n_estimators=est, max_depth = max_depth, random_state=12345)\n",
    "        model.fit(features_train, target_train)\n",
    "        accuracy_train = model.score(features_train, target_train)\n",
    "        accuracy_valid = model.score(features_valid, target_valid)\n",
    "        rfc_est_accuracy.loc[len(rfc_est_accuracy.index)] = [est, max_depth, accuracy_train, accuracy_valid]\n",
    "        if accuracy_valid > best_accuracy_rfc:\n",
    "            best_model_rfc = model\n",
    "            best_estimator_rfc = est\n",
    "            best_max_depth = max_depth\n",
    "            best_accuracy_rfc = accuracy_valid\n",
    "                                         \n",
    "display(rfc_est_accuracy)\n",
    "print('Точность лучшей модели случайного леса на валидационной выборке', round(best_accuracy_rfc, 2),\n",
    "      'количество деревьев', best_estimator_rfc,\n",
    "      'глубина деревьев', max_depth)                                        "
   ]
  },
  {
   "cell_type": "markdown",
   "id": "632187f8",
   "metadata": {},
   "source": [
    "### LR модель логистической регрессии"
   ]
  },
  {
   "cell_type": "code",
   "execution_count": 7,
   "id": "6f6f558a",
   "metadata": {
    "scrolled": true
   },
   "outputs": [
    {
     "name": "stdout",
     "output_type": "stream",
     "text": [
      "Точность линейной регрессии на валидационной выборке 0.7\n"
     ]
    }
   ],
   "source": [
    "model_lr = LogisticRegression()\n",
    "model_lr.fit(features_train, target_train)\n",
    "accuracy_lr = model_lr.score(features_valid, target_valid)\n",
    "print('Точность линейной регрессии на валидационной выборке', round(accuracy_lr, 2))"
   ]
  },
  {
   "cell_type": "markdown",
   "id": "c64f7512",
   "metadata": {},
   "source": [
    "### Сравнительная таблица точности различных моделей"
   ]
  },
  {
   "cell_type": "code",
   "execution_count": 8,
   "id": "9b9686b5",
   "metadata": {},
   "outputs": [
    {
     "data": {
      "text/html": [
       "<div>\n",
       "<style scoped>\n",
       "    .dataframe tbody tr th:only-of-type {\n",
       "        vertical-align: middle;\n",
       "    }\n",
       "\n",
       "    .dataframe tbody tr th {\n",
       "        vertical-align: top;\n",
       "    }\n",
       "\n",
       "    .dataframe thead th {\n",
       "        text-align: right;\n",
       "    }\n",
       "</style>\n",
       "<table border=\"1\" class=\"dataframe\">\n",
       "  <thead>\n",
       "    <tr style=\"text-align: right;\">\n",
       "      <th></th>\n",
       "      <th>model</th>\n",
       "      <th>accuracy_valid</th>\n",
       "    </tr>\n",
       "  </thead>\n",
       "  <tbody>\n",
       "    <tr>\n",
       "      <td>0</td>\n",
       "      <td>DTC</td>\n",
       "      <td>0.77</td>\n",
       "    </tr>\n",
       "    <tr>\n",
       "      <td>1</td>\n",
       "      <td>RFC</td>\n",
       "      <td>0.80</td>\n",
       "    </tr>\n",
       "    <tr>\n",
       "      <td>2</td>\n",
       "      <td>LR</td>\n",
       "      <td>0.70</td>\n",
       "    </tr>\n",
       "  </tbody>\n",
       "</table>\n",
       "</div>"
      ],
      "text/plain": [
       "  model  accuracy_valid\n",
       "0   DTC            0.77\n",
       "1   RFC            0.80\n",
       "2    LR            0.70"
      ]
     },
     "metadata": {},
     "output_type": "display_data"
    }
   ],
   "source": [
    "model_accuracy_valid = pd.DataFrame(columns=['model', 'accuracy_valid'])\n",
    "model_accuracy_valid.loc[len(model_accuracy_valid.index)] = ['DTC', best_accuracy_dtc]\n",
    "model_accuracy_valid.loc[len(model_accuracy_valid.index)] = ['RFC', best_accuracy_rfc]\n",
    "model_accuracy_valid.loc[len(model_accuracy_valid.index)] = ['LR', accuracy_lr]\n",
    "model_accuracy_valid['accuracy_valid'] = round(model_accuracy_valid['accuracy_valid'], 2)\n",
    "display(model_accuracy_valid)"
   ]
  },
  {
   "cell_type": "markdown",
   "id": "16815571",
   "metadata": {},
   "source": [
    "### Вывод по моделям машинного обучения"
   ]
  },
  {
   "cell_type": "markdown",
   "id": "e0bd7f3e",
   "metadata": {},
   "source": [
    "Были построены 3 классификационные модели машинного обучения: дерево решений, случайный лес и логистическая регресия. У 2-х моделей, дерева решений и случайного леса, был проведён подбор гиперпараметров и отобрана лучшая модель с максимальным показателем точности. <br>\n",
    "Самой лучшей моделью по параметру точности оказалась модель случайого леса с точностью 0,8 с количеством деревьев 3 и глубиной деревьев 9. Второй моделью было дерево решений с точностью 0,77. И модель с самой низкой точностью 0,73 - была логистическая регрессия."
   ]
  },
  {
   "cell_type": "markdown",
   "id": "fd833cbf",
   "metadata": {},
   "source": [
    "## Проверка точности лучшей модели на тестовой выборке"
   ]
  },
  {
   "cell_type": "markdown",
   "id": "2b53626a",
   "metadata": {},
   "source": [
    "Проверка лучшей модели случайного леса с количеством деревьев 3 и глубиной деревьев 9 на тестовой выборке."
   ]
  },
  {
   "cell_type": "code",
   "execution_count": 9,
   "id": "101bc3e6",
   "metadata": {},
   "outputs": [
    {
     "name": "stdout",
     "output_type": "stream",
     "text": [
      "Точность лучшей модели случайного леса на тестовой выбрке: 0.79\n"
     ]
    }
   ],
   "source": [
    "rfc_accuracy_test = best_model_rfc.score(features_test, target_test)\n",
    "print('Точность лучшей модели случайного леса на тестовой выбрке:', round(rfc_accuracy_test, 2))"
   ]
  },
  {
   "cell_type": "markdown",
   "id": "fc575d72",
   "metadata": {},
   "source": [
    "## Проверка модели на вменяемость с помощью фиктивного классификатора DummyClassifier"
   ]
  },
  {
   "cell_type": "markdown",
   "id": "58c5bd95",
   "metadata": {},
   "source": [
    "### Распределение пользователей по тарифам."
   ]
  },
  {
   "cell_type": "code",
   "execution_count": 10,
   "id": "5d131d62",
   "metadata": {
    "scrolled": true
   },
   "outputs": [
    {
     "data": {
      "text/html": [
       "<div>\n",
       "<style scoped>\n",
       "    .dataframe tbody tr th:only-of-type {\n",
       "        vertical-align: middle;\n",
       "    }\n",
       "\n",
       "    .dataframe tbody tr th {\n",
       "        vertical-align: top;\n",
       "    }\n",
       "\n",
       "    .dataframe thead th {\n",
       "        text-align: right;\n",
       "    }\n",
       "</style>\n",
       "<table border=\"1\" class=\"dataframe\">\n",
       "  <thead>\n",
       "    <tr style=\"text-align: right;\">\n",
       "      <th></th>\n",
       "      <th>tariff</th>\n",
       "      <th>count</th>\n",
       "      <th>ratio</th>\n",
       "    </tr>\n",
       "  </thead>\n",
       "  <tbody>\n",
       "    <tr>\n",
       "      <td>0</td>\n",
       "      <td>smart</td>\n",
       "      <td>2229</td>\n",
       "      <td>69.0</td>\n",
       "    </tr>\n",
       "    <tr>\n",
       "      <td>1</td>\n",
       "      <td>ultra</td>\n",
       "      <td>985</td>\n",
       "      <td>31.0</td>\n",
       "    </tr>\n",
       "  </tbody>\n",
       "</table>\n",
       "</div>"
      ],
      "text/plain": [
       "  tariff  count  ratio\n",
       "0  smart   2229   69.0\n",
       "1  ultra    985   31.0"
      ]
     },
     "metadata": {},
     "output_type": "display_data"
    }
   ],
   "source": [
    "distribution_tariff_s = data['is_ultra'].value_counts()\n",
    "distribution_tariff = pd.DataFrame(distribution_tariff_s).reset_index()\n",
    "distribution_tariff = distribution_tariff.rename(columns={'index' : 'tariff', 'is_ultra' : 'count'})\n",
    "distribution_tariff.loc[0, 'tariff'] = 'smart'\n",
    "distribution_tariff.loc[1, 'tariff'] = 'ultra'\n",
    "distribution_tariff['ratio'] = (\n",
    "    round(100 * distribution_tariff['count'] / (distribution_tariff.loc[0, 'count'] + distribution_tariff.loc[1, 'count']))\n",
    ") \n",
    "display(distribution_tariff)"
   ]
  },
  {
   "cell_type": "markdown",
   "id": "5fd4281a",
   "metadata": {},
   "source": [
    "Распределение получилось неравномерное, пользователей тарифа smart - 69%, пользователей тарифа ultra - 31%."
   ]
  },
  {
   "cell_type": "markdown",
   "id": "ad935309",
   "metadata": {},
   "source": [
    "### DC модель фиктивного классификатора"
   ]
  },
  {
   "cell_type": "markdown",
   "id": "db06407e",
   "metadata": {},
   "source": [
    "Для проверки моделей на вменяемость воспользуемся фиктивным классификатором DummyClassifier из библиотеки sklearn.dummy. В этой модели фиктивного классификатора посчитаем точность при 2-х разных параметрах strategy, первый, uniform - случайное равномерное распределение целевого признака, и второй, stratified - случайное стратифицированное распределение в соответствии с распределением целевого признака."
   ]
  },
  {
   "cell_type": "code",
   "execution_count": 11,
   "id": "b1fe4d37",
   "metadata": {},
   "outputs": [
    {
     "name": "stdout",
     "output_type": "stream",
     "text": [
      "Ошибка DummyClassifier(strategy='uniform') 0.49\n"
     ]
    }
   ],
   "source": [
    "#модель DummyClassifier(strategy='uniform)\n",
    "model_dc_uniform = DummyClassifier(strategy='uniform', random_state=12345)\n",
    "model_dc_uniform.fit(features_train, target_train)\n",
    "dc_uniform_accuracy_test = model_dc_uniform.score(features_test, target_test)\n",
    "print(\"Ошибка DummyClassifier(strategy='uniform')\", round(dc_uniform_accuracy_test, 2))"
   ]
  },
  {
   "cell_type": "code",
   "execution_count": 12,
   "id": "1a096ddd",
   "metadata": {},
   "outputs": [
    {
     "name": "stdout",
     "output_type": "stream",
     "text": [
      "Ошибка DummyClassifier(strategy='stratified') 0.58\n"
     ]
    }
   ],
   "source": [
    "#модель DummyClassifier(strategy='stratified')\n",
    "model_dc_stratified = DummyClassifier(strategy='stratified', random_state=12345)\n",
    "model_dc_stratified.fit(features_train, target_train)\n",
    "dc_stratified_accuracy_test = model_dc_stratified.score(features_test, target_test)\n",
    "print(\"Ошибка DummyClassifier(strategy='stratified')\", round(dc_stratified_accuracy_test, 2))"
   ]
  },
  {
   "cell_type": "markdown",
   "id": "76fa8cfd",
   "metadata": {},
   "source": [
    "### Вывод"
   ]
  },
  {
   "cell_type": "markdown",
   "id": "643fcfb6",
   "metadata": {},
   "source": [
    "Проверка моделей на вменяемость показала, что показатель точности лучшей модели случайного леса - 0.8, выше показателей точности моделей со случайной классификацией 0.58. Таким образом, модели можно использовать для предсказания тарифов."
   ]
  },
  {
   "cell_type": "markdown",
   "id": "c822aae5",
   "metadata": {},
   "source": [
    "## Общий вывод"
   ]
  },
  {
   "cell_type": "markdown",
   "id": "2dd82a8d",
   "metadata": {},
   "source": [
    "Проведенная работа по построению, подбору гиперпараметров и отбору моделей машинного обучения для предсказания тарифов по активности пользователя позволяет рекомендовать для использования модель случайного леса с количеством деревьев 3 и глубиной 9. Точность модели случайного леса на тествовой выборке 0,79. "
   ]
  }
 ],
 "metadata": {
  "ExecuteTimeLog": [
   {
    "duration": 50,
    "start_time": "2022-04-28T14:30:13.395Z"
   },
   {
    "duration": 1182,
    "start_time": "2022-04-28T14:30:25.647Z"
   },
   {
    "duration": 116,
    "start_time": "2022-04-28T14:30:26.831Z"
   },
   {
    "duration": 0,
    "start_time": "2022-04-28T14:30:26.949Z"
   },
   {
    "duration": 0,
    "start_time": "2022-04-28T14:30:26.950Z"
   },
   {
    "duration": 0,
    "start_time": "2022-04-28T14:30:26.951Z"
   },
   {
    "duration": 28,
    "start_time": "2022-04-28T14:32:27.409Z"
   },
   {
    "duration": 16,
    "start_time": "2022-04-28T14:35:01.782Z"
   },
   {
    "duration": 3,
    "start_time": "2022-04-28T14:35:14.603Z"
   },
   {
    "duration": 19,
    "start_time": "2022-04-28T14:35:14.617Z"
   },
   {
    "duration": 4,
    "start_time": "2022-04-28T14:35:14.637Z"
   },
   {
    "duration": 10,
    "start_time": "2022-04-28T14:35:14.642Z"
   },
   {
    "duration": 134,
    "start_time": "2022-04-28T14:35:14.654Z"
   },
   {
    "duration": 88,
    "start_time": "2022-04-28T14:35:54.291Z"
   },
   {
    "duration": 22337,
    "start_time": "2022-04-28T14:36:42.097Z"
   },
   {
    "duration": 920,
    "start_time": "2022-04-28T14:38:46.796Z"
   },
   {
    "duration": 3,
    "start_time": "2022-04-28T14:39:26.282Z"
   },
   {
    "duration": 37,
    "start_time": "2022-04-28T14:40:18.779Z"
   },
   {
    "duration": 27,
    "start_time": "2022-04-28T14:41:03.978Z"
   }
  ],
  "kernelspec": {
   "display_name": "Python 3 (ipykernel)",
   "language": "python",
   "name": "python3"
  },
  "language_info": {
   "codemirror_mode": {
    "name": "ipython",
    "version": 3
   },
   "file_extension": ".py",
   "mimetype": "text/x-python",
   "name": "python",
   "nbconvert_exporter": "python",
   "pygments_lexer": "ipython3",
   "version": "3.7.8"
  },
  "toc": {
   "base_numbering": 1,
   "nav_menu": {
    "height": "109.986px",
    "width": "391.989px"
   },
   "number_sections": true,
   "sideBar": true,
   "skip_h1_title": true,
   "title_cell": "Оглавление",
   "title_sidebar": "Contents",
   "toc_cell": true,
   "toc_position": {
    "height": "calc(100% - 180px)",
    "left": "10px",
    "top": "150px",
    "width": "198.854px"
   },
   "toc_section_display": true,
   "toc_window_display": true
  }
 },
 "nbformat": 4,
 "nbformat_minor": 5
}
