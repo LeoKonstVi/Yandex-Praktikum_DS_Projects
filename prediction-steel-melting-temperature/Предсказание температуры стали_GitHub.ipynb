{
 "cells": [
  {
   "cell_type": "markdown",
   "id": "72ba95d2",
   "metadata": {
    "toc": true
   },
   "source": [
    "<h1>Table of Contents<span class=\"tocSkip\"></span></h1>\n",
    "<div class=\"toc\"><ul class=\"toc-item\"><li><span><a href=\"#Описание-проекта.\" data-toc-modified-id=\"Описание-проекта.-1\"><span class=\"toc-item-num\">1&nbsp;&nbsp;</span>Описание проекта.</a></span></li><li><span><a href=\"#План-работ\" data-toc-modified-id=\"План-работ-2\"><span class=\"toc-item-num\">2&nbsp;&nbsp;</span>План работ</a></span><ul class=\"toc-item\"><li><span><a href=\"#Исследовательский-анализ-данных-и-их-предобработка.\" data-toc-modified-id=\"Исследовательский-анализ-данных-и-их-предобработка.-2.1\"><span class=\"toc-item-num\">2.1&nbsp;&nbsp;</span>Исследовательский анализ данных и их предобработка.</a></span></li><li><span><a href=\"#Агрегирование-данных\" data-toc-modified-id=\"Агрегирование-данных-2.2\"><span class=\"toc-item-num\">2.2&nbsp;&nbsp;</span>Агрегирование данных</a></span></li><li><span><a href=\"#Разделение-данных-на-тренировочную-(75%)-и-тестовую-выборку-(25%)\" data-toc-modified-id=\"Разделение-данных-на-тренировочную-(75%)-и-тестовую-выборку-(25%)-2.3\"><span class=\"toc-item-num\">2.3&nbsp;&nbsp;</span>Разделение данных на тренировочную (75%) и тестовую выборку (25%)</a></span></li><li><span><a href=\"#Машинное-обучение.\" data-toc-modified-id=\"Машинное-обучение.-2.4\"><span class=\"toc-item-num\">2.4&nbsp;&nbsp;</span>Машинное обучение.</a></span><ul class=\"toc-item\"><li><span><a href=\"#Обучение-моделей-с-кроссвалидацией-и-метрикой-MAE.-Подбор-параметров-моделей.\" data-toc-modified-id=\"Обучение-моделей-с-кроссвалидацией-и-метрикой-MAE.-Подбор-параметров-моделей.-2.4.1\"><span class=\"toc-item-num\">2.4.1&nbsp;&nbsp;</span>Обучение моделей с кроссвалидацией и метрикой MAE. Подбор параметров моделей.</a></span></li><li><span><a href=\"#Выбор-лучшей-модели.-Сравнение-с-константной-моделью.\" data-toc-modified-id=\"Выбор-лучшей-модели.-Сравнение-с-константной-моделью.-2.4.2\"><span class=\"toc-item-num\">2.4.2&nbsp;&nbsp;</span>Выбор лучшей модели. Сравнение с константной моделью.</a></span></li></ul></li><li><span><a href=\"#Проверка-лучшей-модели-на-тестовой-выборке.\" data-toc-modified-id=\"Проверка-лучшей-модели-на-тестовой-выборке.-2.5\"><span class=\"toc-item-num\">2.5&nbsp;&nbsp;</span>Проверка лучшей модели на тестовой выборке.</a></span></li><li><span><a href=\"#Отчёт-по-результатам-работы.\" data-toc-modified-id=\"Отчёт-по-результатам-работы.-2.6\"><span class=\"toc-item-num\">2.6&nbsp;&nbsp;</span>Отчёт по результатам работы.</a></span></li></ul></li><li><span><a href=\"#Импорт-библиотек\" data-toc-modified-id=\"Импорт-библиотек-3\"><span class=\"toc-item-num\">3&nbsp;&nbsp;</span>Импорт библиотек</a></span></li><li><span><a href=\"#Обзор-и-предобработка-данных\" data-toc-modified-id=\"Обзор-и-предобработка-данных-4\"><span class=\"toc-item-num\">4&nbsp;&nbsp;</span>Обзор и предобработка данных</a></span><ul class=\"toc-item\"><li><span><a href=\"#Считывание-данных\" data-toc-modified-id=\"Считывание-данных-4.1\"><span class=\"toc-item-num\">4.1&nbsp;&nbsp;</span>Считывание данных</a></span></li><li><span><a href=\"#arc-(дуга)\" data-toc-modified-id=\"arc-(дуга)-4.2\"><span class=\"toc-item-num\">4.2&nbsp;&nbsp;</span>arc (дуга)</a></span><ul class=\"toc-item\"><li><span><a href=\"#'Начало-нагрева-дугой',-'Конец-нагрева-дугой'.\" data-toc-modified-id=\"'Начало-нагрева-дугой',-'Конец-нагрева-дугой'.-4.2.1\"><span class=\"toc-item-num\">4.2.1&nbsp;&nbsp;</span>'Начало нагрева дугой', 'Конец нагрева дугой'.</a></span></li><li><span><a href=\"#Активная-мощность\" data-toc-modified-id=\"Активная-мощность-4.2.2\"><span class=\"toc-item-num\">4.2.2&nbsp;&nbsp;</span>Активная мощность</a></span></li><li><span><a href=\"#Реактивная-мощность\" data-toc-modified-id=\"Реактивная-мощность-4.2.3\"><span class=\"toc-item-num\">4.2.3&nbsp;&nbsp;</span>Реактивная мощность</a></span></li></ul></li><li><span><a href=\"#bulk-(сыпучие-материалы)\" data-toc-modified-id=\"bulk-(сыпучие-материалы)-4.3\"><span class=\"toc-item-num\">4.3&nbsp;&nbsp;</span>bulk (сыпучие материалы)</a></span></li><li><span><a href=\"#gas-(газ)\" data-toc-modified-id=\"gas-(газ)-4.4\"><span class=\"toc-item-num\">4.4&nbsp;&nbsp;</span>gas (газ)</a></span></li><li><span><a href=\"#temp-(температура)\" data-toc-modified-id=\"temp-(температура)-4.5\"><span class=\"toc-item-num\">4.5&nbsp;&nbsp;</span>temp (температура)</a></span></li><li><span><a href=\"#wire-(проволочные-материалы)\" data-toc-modified-id=\"wire-(проволочные-материалы)-4.6\"><span class=\"toc-item-num\">4.6&nbsp;&nbsp;</span>wire (проволочные материалы)</a></span></li><li><span><a href=\"#Выводы\" data-toc-modified-id=\"Выводы-4.7\"><span class=\"toc-item-num\">4.7&nbsp;&nbsp;</span>Выводы</a></span></li></ul></li><li><span><a href=\"#Агрегирование-данных\" data-toc-modified-id=\"Агрегирование-данных-5\"><span class=\"toc-item-num\">5&nbsp;&nbsp;</span>Агрегирование данных</a></span><ul class=\"toc-item\"><li><span><a href=\"#Подготовка-данных-для-машинного-обучения.\" data-toc-modified-id=\"Подготовка-данных-для-машинного-обучения.-5.1\"><span class=\"toc-item-num\">5.1&nbsp;&nbsp;</span>Подготовка данных для машинного обучения.</a></span><ul class=\"toc-item\"><li><span><a href=\"#Подготовка-таблицы-с-работой-электрической-дуги-arc_ml\" data-toc-modified-id=\"Подготовка-таблицы-с-работой-электрической-дуги-arc_ml-5.1.1\"><span class=\"toc-item-num\">5.1.1&nbsp;&nbsp;</span>Подготовка таблицы с работой электрической дуги arc_ml</a></span></li><li><span><a href=\"#Подготовка-таблицы-с-начальной-и-конечной-температурой-в-партии-temp_ml\" data-toc-modified-id=\"Подготовка-таблицы-с-начальной-и-конечной-температурой-в-партии-temp_ml-5.1.2\"><span class=\"toc-item-num\">5.1.2&nbsp;&nbsp;</span>Подготовка таблицы с начальной и конечной температурой в партии temp_ml</a></span></li><li><span><a href=\"#Подготовка-таблицы-с-сыпучими-материалами.\" data-toc-modified-id=\"Подготовка-таблицы-с-сыпучими-материалами.-5.1.3\"><span class=\"toc-item-num\">5.1.3&nbsp;&nbsp;</span>Подготовка таблицы с сыпучими материалами.</a></span></li><li><span><a href=\"#Подготовка-таблицы-с-проволочными-материалами.\" data-toc-modified-id=\"Подготовка-таблицы-с-проволочными-материалами.-5.1.4\"><span class=\"toc-item-num\">5.1.4&nbsp;&nbsp;</span>Подготовка таблицы с проволочными материалами.</a></span></li></ul></li><li><span><a href=\"#Создание-таблицы-для-машинного-обучения\" data-toc-modified-id=\"Создание-таблицы-для-машинного-обучения-5.2\"><span class=\"toc-item-num\">5.2&nbsp;&nbsp;</span>Создание таблицы для машинного обучения</a></span></li></ul></li><li><span><a href=\"#Разделение-данных-на-тренировочную-и-тестовую-выборки.\" data-toc-modified-id=\"Разделение-данных-на-тренировочную-и-тестовую-выборки.-6\"><span class=\"toc-item-num\">6&nbsp;&nbsp;</span>Разделение данных на тренировочную и тестовую выборки.</a></span></li><li><span><a href=\"#Машинное-обучение\" data-toc-modified-id=\"Машинное-обучение-7\"><span class=\"toc-item-num\">7&nbsp;&nbsp;</span>Машинное обучение</a></span><ul class=\"toc-item\"><li><span><a href=\"#Константная-модель\" data-toc-modified-id=\"Константная-модель-7.1\"><span class=\"toc-item-num\">7.1&nbsp;&nbsp;</span>Константная модель</a></span></li><li><span><a href=\"#Линейная-регрессия\" data-toc-modified-id=\"Линейная-регрессия-7.2\"><span class=\"toc-item-num\">7.2&nbsp;&nbsp;</span>Линейная регрессия</a></span></li><li><span><a href=\"#Случайный-лес\" data-toc-modified-id=\"Случайный-лес-7.3\"><span class=\"toc-item-num\">7.3&nbsp;&nbsp;</span>Случайный лес</a></span></li><li><span><a href=\"#CatBoostRegressor\" data-toc-modified-id=\"CatBoostRegressor-7.4\"><span class=\"toc-item-num\">7.4&nbsp;&nbsp;</span>CatBoostRegressor</a></span></li><li><span><a href=\"#Отбор-лучшей-модели\" data-toc-modified-id=\"Отбор-лучшей-модели-7.5\"><span class=\"toc-item-num\">7.5&nbsp;&nbsp;</span>Отбор лучшей модели</a></span></li></ul></li><li><span><a href=\"#Расчёт-MAE-на-тестовой-выборе-для-лучшей-модели.\" data-toc-modified-id=\"Расчёт-MAE-на-тестовой-выборе-для-лучшей-модели.-8\"><span class=\"toc-item-num\">8&nbsp;&nbsp;</span>Расчёт MAE на тестовой выборе для лучшей модели.</a></span></li><li><span><a href=\"#Отчет\" data-toc-modified-id=\"Отчет-9\"><span class=\"toc-item-num\">9&nbsp;&nbsp;</span>Отчет</a></span></li></ul></div>"
   ]
  },
  {
   "cell_type": "markdown",
   "id": "945ad926",
   "metadata": {},
   "source": [
    "## Описание проекта."
   ]
  },
  {
   "cell_type": "markdown",
   "id": "2d1684c0",
   "metadata": {},
   "source": [
    "Металлургическому комбинату ООО «Так закаляем сталь» требуется уменьшить потребление электроэнергии на этапе обработки стали. Для этого необходимо построить модель машинного обучения, которая предскажет температуру стали.</br>\n",
    "Описание этапа обработки.</br>\n",
    "Сталь обрабатывают в металлическом ковше вместимостью около 100 тонн. Чтобы ковш выдерживал высокие температуры, изнутри его облицовывают огнеупорным кирпичом. Расплавленную сталь заливают в ковш и подогревают до нужной температуры графитовыми электродами. Они установлены в крышке ковша.</br>\n",
    "Из сплава выводится сера (десульфурация), добавлением примесей корректируется химический состав и отбираются пробы. Сталь легируют — изменяют её состав — подавая куски сплава из бункера для сыпучих материалов или проволоку через специальный трайб-аппарат (англ. tribe, «масса»).</br>\n",
    "Перед тем как первый раз ввести легирующие добавки, измеряют температуру стали и производят её химический анализ. Потом температуру на несколько минут повышают, добавляют легирующие материалы и продувают сплав инертным газом. Затем его перемешивают и снова проводят измерения. Такой цикл повторяется до достижения целевого химического состава и оптимальной температуры плавки.</br>\n",
    "Тогда расплавленная сталь отправляется на доводку металла или поступает в машину непрерывной разливки. Оттуда готовый продукт выходит в виде заготовок-слябов (англ. slab, «плита»).</br>\n",
    "Описание данных</br>\n",
    "Данные состоят из файлов, полученных из разных источников:</br>\n",
    "data_arc.csv — данные об электродах;</br>\n",
    "data_bulk.csv — данные о подаче сыпучих материалов (объём);</br>\n",
    "data_bulk_time.csv — данные о подаче сыпучих материалов (время);</br>\n",
    "data_gas.csv — данные о продувке сплава газом;</br>\n",
    "data_temp.csv — результаты измерения температуры;</br>\n",
    "data_wire.csv — данные о проволочных материалах (объём);</br>\n",
    "data_wire_time.csv — данные о проволочных материалах (время).</br>\n",
    "Во всех файлах столбец key содержит номер партии. В файлах может быть несколько строк с одинаковым значением key: они соответствуют разным итерациям обработки.</br>"
   ]
  },
  {
   "cell_type": "markdown",
   "id": "9d8e9e6a",
   "metadata": {},
   "source": [
    "## План работ"
   ]
  },
  {
   "cell_type": "markdown",
   "id": "5babbf61",
   "metadata": {},
   "source": [
    "### Исследовательский анализ данных и их предобработка."
   ]
  },
  {
   "cell_type": "markdown",
   "id": "2d179b73",
   "metadata": {},
   "source": [
    "Выявление пропусков, дубликатов, выбросов, аномалий."
   ]
  },
  {
   "cell_type": "markdown",
   "id": "f0b5d99b",
   "metadata": {},
   "source": [
    "### Агрегирование данных"
   ]
  },
  {
   "cell_type": "markdown",
   "id": "c6b51768",
   "metadata": {},
   "source": [
    "Сформировать датафрейм с признаками и целевым признаком из предоставленных таблиц данных. В качестве признаков взять температуру в начале цикла производства партии стали (номер партии столбец key), данные о мощности электродугового нагревателся, данные о подаче сыпучих и проволочных материалов, а также данные о продувке газом.</br>\n",
    "В качестве целевого признака взять температуру в конце цикла производства партии металла."
   ]
  },
  {
   "cell_type": "markdown",
   "id": "4857ed90",
   "metadata": {},
   "source": [
    "### Разделение данных на тренировочную (75%) и тестовую выборку (25%)"
   ]
  },
  {
   "cell_type": "markdown",
   "id": "5f4f94fc",
   "metadata": {},
   "source": [
    "### Машинное обучение."
   ]
  },
  {
   "cell_type": "markdown",
   "id": "226ba817",
   "metadata": {},
   "source": [
    "#### Обучение моделей с кроссвалидацией и метрикой MAE. Подбор параметров моделей."
   ]
  },
  {
   "cell_type": "markdown",
   "id": "079e6a44",
   "metadata": {},
   "source": [
    "#### Выбор лучшей модели. Сравнение с константной моделью."
   ]
  },
  {
   "cell_type": "markdown",
   "id": "36ed1854",
   "metadata": {},
   "source": [
    "### Проверка лучшей модели на тестовой выборке."
   ]
  },
  {
   "cell_type": "markdown",
   "id": "c824ff59",
   "metadata": {},
   "source": [
    "### Отчёт по результатам работы."
   ]
  },
  {
   "cell_type": "markdown",
   "id": "01ffbd2c",
   "metadata": {},
   "source": [
    "## Импорт библиотек"
   ]
  },
  {
   "cell_type": "code",
   "execution_count": 1,
   "id": "dd8a41e1",
   "metadata": {},
   "outputs": [],
   "source": [
    "# отключение предупреждений\n",
    "import warnings\n",
    "warnings.filterwarnings('ignore')"
   ]
  },
  {
   "cell_type": "code",
   "execution_count": null,
   "id": "39b82165",
   "metadata": {
    "scrolled": true
   },
   "outputs": [],
   "source": [
    "import pandas as pd\n",
    "import matplotlib.pyplot as plt\n",
    "from sklearn.model_selection import train_test_split\n",
    "from sklearn.dummy import DummyRegressor\n",
    "from sklearn.linear_model import LinearRegression\n",
    "from sklearn.preprocessing import StandardScaler\n",
    "from sklearn.metrics import mean_absolute_error\n",
    "from sklearn.ensemble import RandomForestRegressor\n",
    "from sklearn.model_selection import GridSearchCV\n",
    "from sklearn.model_selection import cross_val_score\n",
    "from catboost import CatBoostRegressor\n",
    "from catboost import Pool, cv"
   ]
  },
  {
   "cell_type": "code",
   "execution_count": 3,
   "id": "5d900e60",
   "metadata": {},
   "outputs": [],
   "source": [
    "%matplotlib inline"
   ]
  },
  {
   "cell_type": "code",
   "execution_count": 4,
   "id": "4b3d4162",
   "metadata": {},
   "outputs": [],
   "source": [
    "random_state = 120922"
   ]
  },
  {
   "cell_type": "markdown",
   "id": "8a3e8306",
   "metadata": {},
   "source": [
    "## Обзор и предобработка данных"
   ]
  },
  {
   "cell_type": "markdown",
   "id": "4863b1a8",
   "metadata": {},
   "source": [
    "### Считывание данных"
   ]
  },
  {
   "cell_type": "code",
   "execution_count": 5,
   "id": "0946682b",
   "metadata": {},
   "outputs": [],
   "source": [
    "try:\n",
    "    arc = pd.read_csv('datasets\\data_arc.csv')\n",
    "    bulk = pd.read_csv('datasets\\data_bulk.csv')\n",
    "    bulk_time = pd.read_csv('datasets\\data_bulk_time.csv')\n",
    "    gas = pd.read_csv('datasets\\data_gas.csv')\n",
    "    temp = pd.read_csv('datasets\\data_temp.csv')\n",
    "    wire = pd.read_csv('datasets\\data_wire.csv')\n",
    "    wire_time = pd.read_csv('datasets\\data_wire_time.csv')\n",
    "except:\n",
    "    arc = pd.read_csv('/datasets/final_steel/data_arc.csv')\n",
    "    bulk = pd.read_csv('/datasets/final_steel/data_bulk.csv')\n",
    "    bulk_time = pd.read_csv('/datasets/final_steel/data_bulk_time.csv')\n",
    "    gas = pd.read_csv('/datasets/final_steel/data_gas.csv')\n",
    "    temp = pd.read_csv('/datasets/final_steel/data_temp.csv')\n",
    "    wire = pd.read_csv('/datasets/final_steel/data_wire.csv')\n",
    "    wire_time = pd.read_csv('/datasets/final_steel/data_wire_time.csv')"
   ]
  },
  {
   "cell_type": "markdown",
   "id": "166401e5",
   "metadata": {},
   "source": [
    "### arc (дуга)"
   ]
  },
  {
   "cell_type": "code",
   "execution_count": 6,
   "id": "3f3a4de0",
   "metadata": {
    "scrolled": false
   },
   "outputs": [
    {
     "name": "stdout",
     "output_type": "stream",
     "text": [
      "<class 'pandas.core.frame.DataFrame'>\n",
      "RangeIndex: 14876 entries, 0 to 14875\n",
      "Data columns (total 5 columns):\n",
      " #   Column                Non-Null Count  Dtype  \n",
      "---  ------                --------------  -----  \n",
      " 0   key                   14876 non-null  int64  \n",
      " 1   Начало нагрева дугой  14876 non-null  object \n",
      " 2   Конец нагрева дугой   14876 non-null  object \n",
      " 3   Активная мощность     14876 non-null  float64\n",
      " 4   Реактивная мощность   14876 non-null  float64\n",
      "dtypes: float64(2), int64(1), object(2)\n",
      "memory usage: 581.2+ KB\n"
     ]
    }
   ],
   "source": [
    "arc.info()"
   ]
  },
  {
   "cell_type": "code",
   "execution_count": 7,
   "id": "91c3cb4a",
   "metadata": {},
   "outputs": [
    {
     "data": {
      "text/html": [
       "<div>\n",
       "<style scoped>\n",
       "    .dataframe tbody tr th:only-of-type {\n",
       "        vertical-align: middle;\n",
       "    }\n",
       "\n",
       "    .dataframe tbody tr th {\n",
       "        vertical-align: top;\n",
       "    }\n",
       "\n",
       "    .dataframe thead th {\n",
       "        text-align: right;\n",
       "    }\n",
       "</style>\n",
       "<table border=\"1\" class=\"dataframe\">\n",
       "  <thead>\n",
       "    <tr style=\"text-align: right;\">\n",
       "      <th></th>\n",
       "      <th>key</th>\n",
       "      <th>Начало нагрева дугой</th>\n",
       "      <th>Конец нагрева дугой</th>\n",
       "      <th>Активная мощность</th>\n",
       "      <th>Реактивная мощность</th>\n",
       "    </tr>\n",
       "  </thead>\n",
       "  <tbody>\n",
       "    <tr>\n",
       "      <th>0</th>\n",
       "      <td>1</td>\n",
       "      <td>2019-05-03 11:02:14</td>\n",
       "      <td>2019-05-03 11:06:02</td>\n",
       "      <td>0.976059</td>\n",
       "      <td>0.687084</td>\n",
       "    </tr>\n",
       "    <tr>\n",
       "      <th>1</th>\n",
       "      <td>1</td>\n",
       "      <td>2019-05-03 11:07:28</td>\n",
       "      <td>2019-05-03 11:10:33</td>\n",
       "      <td>0.805607</td>\n",
       "      <td>0.520285</td>\n",
       "    </tr>\n",
       "    <tr>\n",
       "      <th>2</th>\n",
       "      <td>1</td>\n",
       "      <td>2019-05-03 11:11:44</td>\n",
       "      <td>2019-05-03 11:14:36</td>\n",
       "      <td>0.744363</td>\n",
       "      <td>0.498805</td>\n",
       "    </tr>\n",
       "    <tr>\n",
       "      <th>3</th>\n",
       "      <td>1</td>\n",
       "      <td>2019-05-03 11:18:14</td>\n",
       "      <td>2019-05-03 11:24:19</td>\n",
       "      <td>1.659363</td>\n",
       "      <td>1.062669</td>\n",
       "    </tr>\n",
       "    <tr>\n",
       "      <th>4</th>\n",
       "      <td>1</td>\n",
       "      <td>2019-05-03 11:26:09</td>\n",
       "      <td>2019-05-03 11:28:37</td>\n",
       "      <td>0.692755</td>\n",
       "      <td>0.414397</td>\n",
       "    </tr>\n",
       "  </tbody>\n",
       "</table>\n",
       "</div>"
      ],
      "text/plain": [
       "   key Начало нагрева дугой  Конец нагрева дугой  Активная мощность  \\\n",
       "0    1  2019-05-03 11:02:14  2019-05-03 11:06:02           0.976059   \n",
       "1    1  2019-05-03 11:07:28  2019-05-03 11:10:33           0.805607   \n",
       "2    1  2019-05-03 11:11:44  2019-05-03 11:14:36           0.744363   \n",
       "3    1  2019-05-03 11:18:14  2019-05-03 11:24:19           1.659363   \n",
       "4    1  2019-05-03 11:26:09  2019-05-03 11:28:37           0.692755   \n",
       "\n",
       "   Реактивная мощность  \n",
       "0             0.687084  \n",
       "1             0.520285  \n",
       "2             0.498805  \n",
       "3             1.062669  \n",
       "4             0.414397  "
      ]
     },
     "metadata": {},
     "output_type": "display_data"
    }
   ],
   "source": [
    "with pd.option_context('display.max_rows', None,):\n",
    "    display(arc.head())"
   ]
  },
  {
   "cell_type": "code",
   "execution_count": 8,
   "id": "69e36654",
   "metadata": {},
   "outputs": [
    {
     "data": {
      "text/plain": [
       "Index(['key', 'Начало нагрева дугой', 'Конец нагрева дугой',\n",
       "       'Активная мощность', 'Реактивная мощность'],\n",
       "      dtype='object')"
      ]
     },
     "execution_count": 8,
     "metadata": {},
     "output_type": "execute_result"
    }
   ],
   "source": [
    "arc.columns"
   ]
  },
  {
   "cell_type": "markdown",
   "id": "b08e4a70",
   "metadata": {},
   "source": [
    "Описание данных.</br>\n",
    "В таблице arc 5 столбцов: 'key', 'Начало нагрева дугой', 'Конец нагрева дугой', 'Активная мощность', 'Реактивная мощность' и 14876 строк. Пропусков нет."
   ]
  },
  {
   "cell_type": "code",
   "execution_count": 9,
   "id": "ea64c988",
   "metadata": {},
   "outputs": [
    {
     "data": {
      "text/plain": [
       "0"
      ]
     },
     "execution_count": 9,
     "metadata": {},
     "output_type": "execute_result"
    }
   ],
   "source": [
    "arc.duplicated().sum()"
   ]
  },
  {
   "cell_type": "markdown",
   "id": "391fb34d",
   "metadata": {},
   "source": [
    "Дубликатов нет."
   ]
  },
  {
   "cell_type": "markdown",
   "id": "70d157c9",
   "metadata": {},
   "source": [
    "Посмотрим значения столбца номера партии key."
   ]
  },
  {
   "cell_type": "code",
   "execution_count": 10,
   "id": "903a5caf",
   "metadata": {
    "scrolled": true
   },
   "outputs": [
    {
     "name": "stdout",
     "output_type": "stream",
     "text": [
      "[   1    2    3 ... 3239 3240 3241]\n"
     ]
    },
    {
     "data": {
      "text/plain": [
       "3214"
      ]
     },
     "execution_count": 10,
     "metadata": {},
     "output_type": "execute_result"
    }
   ],
   "source": [
    "print(arc['key'].unique())\n",
    "len(arc['key'].unique())"
   ]
  },
  {
   "cell_type": "markdown",
   "id": "905b396b",
   "metadata": {},
   "source": [
    "В данных 3214 циклов выплавки партий стали, при этом номера партий изменяются от 1 до 3241. Номеров партий больше, чем количество партий. Это означает, что в данных есть пропуски партий стали. Об этом нужно сообщить заказчику, чтобы разобраться в причинах пропусков. На машинное обучение это не повлияет."
   ]
  },
  {
   "cell_type": "markdown",
   "id": "150ebfc0",
   "metadata": {},
   "source": [
    "Рассчитаем по сколько раз включался электродуговой нагрев в каждой партии выплавки стали."
   ]
  },
  {
   "cell_type": "code",
   "execution_count": 11,
   "id": "f9d956cf",
   "metadata": {
    "scrolled": false
   },
   "outputs": [
    {
     "data": {
      "text/plain": [
       "count    3214.000000\n",
       "mean        4.628500\n",
       "std         1.608647\n",
       "min         1.000000\n",
       "25%         4.000000\n",
       "50%         4.000000\n",
       "75%         6.000000\n",
       "max        16.000000\n",
       "Name: key, dtype: float64"
      ]
     },
     "execution_count": 11,
     "metadata": {},
     "output_type": "execute_result"
    }
   ],
   "source": [
    "arc['key'].value_counts().describe()"
   ]
  },
  {
   "cell_type": "markdown",
   "id": "d5ff26ae",
   "metadata": {},
   "source": [
    "Количество нагревов в циклах выплавки стали меняется от 1 до 16. Значения находятся в пределах технологии. Каких либо аномалий в данных не обнаружено"
   ]
  },
  {
   "cell_type": "markdown",
   "id": "3f1aa7cb",
   "metadata": {},
   "source": [
    "#### 'Начало нагрева дугой', 'Конец нагрева дугой'."
   ]
  },
  {
   "cell_type": "markdown",
   "id": "6f4ada5b",
   "metadata": {},
   "source": [
    "Посмотрим значения в столбцах 'Начало нагрева дугой', 'Конец нагрева дугой'. Для расчёта работы нагрева дугой нам понадобится длительность нагрева. Для этого переведём значения в формат питона datetime. Рассчитаем длительность нагрева и добавим эти данные в столбец \"dt\"."
   ]
  },
  {
   "cell_type": "code",
   "execution_count": 12,
   "id": "2f4d4fe7",
   "metadata": {
    "scrolled": true
   },
   "outputs": [
    {
     "data": {
      "text/html": [
       "<div>\n",
       "<style scoped>\n",
       "    .dataframe tbody tr th:only-of-type {\n",
       "        vertical-align: middle;\n",
       "    }\n",
       "\n",
       "    .dataframe tbody tr th {\n",
       "        vertical-align: top;\n",
       "    }\n",
       "\n",
       "    .dataframe thead th {\n",
       "        text-align: right;\n",
       "    }\n",
       "</style>\n",
       "<table border=\"1\" class=\"dataframe\">\n",
       "  <thead>\n",
       "    <tr style=\"text-align: right;\">\n",
       "      <th></th>\n",
       "      <th>key</th>\n",
       "      <th>Начало нагрева дугой</th>\n",
       "      <th>Конец нагрева дугой</th>\n",
       "      <th>Активная мощность</th>\n",
       "      <th>Реактивная мощность</th>\n",
       "      <th>Начало</th>\n",
       "      <th>Конец</th>\n",
       "      <th>dt</th>\n",
       "    </tr>\n",
       "  </thead>\n",
       "  <tbody>\n",
       "    <tr>\n",
       "      <th>0</th>\n",
       "      <td>1</td>\n",
       "      <td>2019-05-03 11:02:14</td>\n",
       "      <td>2019-05-03 11:06:02</td>\n",
       "      <td>0.976059</td>\n",
       "      <td>0.687084</td>\n",
       "      <td>2019-05-03 11:02:14</td>\n",
       "      <td>2019-05-03 11:06:02</td>\n",
       "      <td>0 days 00:03:48</td>\n",
       "    </tr>\n",
       "    <tr>\n",
       "      <th>1</th>\n",
       "      <td>1</td>\n",
       "      <td>2019-05-03 11:07:28</td>\n",
       "      <td>2019-05-03 11:10:33</td>\n",
       "      <td>0.805607</td>\n",
       "      <td>0.520285</td>\n",
       "      <td>2019-05-03 11:07:28</td>\n",
       "      <td>2019-05-03 11:10:33</td>\n",
       "      <td>0 days 00:03:05</td>\n",
       "    </tr>\n",
       "    <tr>\n",
       "      <th>2</th>\n",
       "      <td>1</td>\n",
       "      <td>2019-05-03 11:11:44</td>\n",
       "      <td>2019-05-03 11:14:36</td>\n",
       "      <td>0.744363</td>\n",
       "      <td>0.498805</td>\n",
       "      <td>2019-05-03 11:11:44</td>\n",
       "      <td>2019-05-03 11:14:36</td>\n",
       "      <td>0 days 00:02:52</td>\n",
       "    </tr>\n",
       "    <tr>\n",
       "      <th>3</th>\n",
       "      <td>1</td>\n",
       "      <td>2019-05-03 11:18:14</td>\n",
       "      <td>2019-05-03 11:24:19</td>\n",
       "      <td>1.659363</td>\n",
       "      <td>1.062669</td>\n",
       "      <td>2019-05-03 11:18:14</td>\n",
       "      <td>2019-05-03 11:24:19</td>\n",
       "      <td>0 days 00:06:05</td>\n",
       "    </tr>\n",
       "    <tr>\n",
       "      <th>4</th>\n",
       "      <td>1</td>\n",
       "      <td>2019-05-03 11:26:09</td>\n",
       "      <td>2019-05-03 11:28:37</td>\n",
       "      <td>0.692755</td>\n",
       "      <td>0.414397</td>\n",
       "      <td>2019-05-03 11:26:09</td>\n",
       "      <td>2019-05-03 11:28:37</td>\n",
       "      <td>0 days 00:02:28</td>\n",
       "    </tr>\n",
       "    <tr>\n",
       "      <th>...</th>\n",
       "      <td>...</td>\n",
       "      <td>...</td>\n",
       "      <td>...</td>\n",
       "      <td>...</td>\n",
       "      <td>...</td>\n",
       "      <td>...</td>\n",
       "      <td>...</td>\n",
       "      <td>...</td>\n",
       "    </tr>\n",
       "    <tr>\n",
       "      <th>14871</th>\n",
       "      <td>3241</td>\n",
       "      <td>2019-09-01 03:58:58</td>\n",
       "      <td>2019-09-01 04:01:35</td>\n",
       "      <td>0.533670</td>\n",
       "      <td>0.354439</td>\n",
       "      <td>2019-09-01 03:58:58</td>\n",
       "      <td>2019-09-01 04:01:35</td>\n",
       "      <td>0 days 00:02:37</td>\n",
       "    </tr>\n",
       "    <tr>\n",
       "      <th>14872</th>\n",
       "      <td>3241</td>\n",
       "      <td>2019-09-01 04:05:04</td>\n",
       "      <td>2019-09-01 04:08:04</td>\n",
       "      <td>0.676604</td>\n",
       "      <td>0.523631</td>\n",
       "      <td>2019-09-01 04:05:04</td>\n",
       "      <td>2019-09-01 04:08:04</td>\n",
       "      <td>0 days 00:03:00</td>\n",
       "    </tr>\n",
       "    <tr>\n",
       "      <th>14873</th>\n",
       "      <td>3241</td>\n",
       "      <td>2019-09-01 04:16:41</td>\n",
       "      <td>2019-09-01 04:19:45</td>\n",
       "      <td>0.733899</td>\n",
       "      <td>0.475654</td>\n",
       "      <td>2019-09-01 04:16:41</td>\n",
       "      <td>2019-09-01 04:19:45</td>\n",
       "      <td>0 days 00:03:04</td>\n",
       "    </tr>\n",
       "    <tr>\n",
       "      <th>14874</th>\n",
       "      <td>3241</td>\n",
       "      <td>2019-09-01 04:31:51</td>\n",
       "      <td>2019-09-01 04:32:48</td>\n",
       "      <td>0.220694</td>\n",
       "      <td>0.145768</td>\n",
       "      <td>2019-09-01 04:31:51</td>\n",
       "      <td>2019-09-01 04:32:48</td>\n",
       "      <td>0 days 00:00:57</td>\n",
       "    </tr>\n",
       "    <tr>\n",
       "      <th>14875</th>\n",
       "      <td>3241</td>\n",
       "      <td>2019-09-01 04:34:47</td>\n",
       "      <td>2019-09-01 04:36:08</td>\n",
       "      <td>0.306580</td>\n",
       "      <td>0.196708</td>\n",
       "      <td>2019-09-01 04:34:47</td>\n",
       "      <td>2019-09-01 04:36:08</td>\n",
       "      <td>0 days 00:01:21</td>\n",
       "    </tr>\n",
       "  </tbody>\n",
       "</table>\n",
       "<p>14876 rows × 8 columns</p>\n",
       "</div>"
      ],
      "text/plain": [
       "        key Начало нагрева дугой  Конец нагрева дугой  Активная мощность  \\\n",
       "0         1  2019-05-03 11:02:14  2019-05-03 11:06:02           0.976059   \n",
       "1         1  2019-05-03 11:07:28  2019-05-03 11:10:33           0.805607   \n",
       "2         1  2019-05-03 11:11:44  2019-05-03 11:14:36           0.744363   \n",
       "3         1  2019-05-03 11:18:14  2019-05-03 11:24:19           1.659363   \n",
       "4         1  2019-05-03 11:26:09  2019-05-03 11:28:37           0.692755   \n",
       "...     ...                  ...                  ...                ...   \n",
       "14871  3241  2019-09-01 03:58:58  2019-09-01 04:01:35           0.533670   \n",
       "14872  3241  2019-09-01 04:05:04  2019-09-01 04:08:04           0.676604   \n",
       "14873  3241  2019-09-01 04:16:41  2019-09-01 04:19:45           0.733899   \n",
       "14874  3241  2019-09-01 04:31:51  2019-09-01 04:32:48           0.220694   \n",
       "14875  3241  2019-09-01 04:34:47  2019-09-01 04:36:08           0.306580   \n",
       "\n",
       "       Реактивная мощность              Начало               Конец  \\\n",
       "0                 0.687084 2019-05-03 11:02:14 2019-05-03 11:06:02   \n",
       "1                 0.520285 2019-05-03 11:07:28 2019-05-03 11:10:33   \n",
       "2                 0.498805 2019-05-03 11:11:44 2019-05-03 11:14:36   \n",
       "3                 1.062669 2019-05-03 11:18:14 2019-05-03 11:24:19   \n",
       "4                 0.414397 2019-05-03 11:26:09 2019-05-03 11:28:37   \n",
       "...                    ...                 ...                 ...   \n",
       "14871             0.354439 2019-09-01 03:58:58 2019-09-01 04:01:35   \n",
       "14872             0.523631 2019-09-01 04:05:04 2019-09-01 04:08:04   \n",
       "14873             0.475654 2019-09-01 04:16:41 2019-09-01 04:19:45   \n",
       "14874             0.145768 2019-09-01 04:31:51 2019-09-01 04:32:48   \n",
       "14875             0.196708 2019-09-01 04:34:47 2019-09-01 04:36:08   \n",
       "\n",
       "                   dt  \n",
       "0     0 days 00:03:48  \n",
       "1     0 days 00:03:05  \n",
       "2     0 days 00:02:52  \n",
       "3     0 days 00:06:05  \n",
       "4     0 days 00:02:28  \n",
       "...               ...  \n",
       "14871 0 days 00:02:37  \n",
       "14872 0 days 00:03:00  \n",
       "14873 0 days 00:03:04  \n",
       "14874 0 days 00:00:57  \n",
       "14875 0 days 00:01:21  \n",
       "\n",
       "[14876 rows x 8 columns]"
      ]
     },
     "metadata": {},
     "output_type": "display_data"
    }
   ],
   "source": [
    "arc[\"Начало\"] = pd.to_datetime(arc[\"Начало нагрева дугой\"], format='%Y-%m-%d %H:%M:%S')\n",
    "arc[\"Конец\"] = pd.to_datetime(arc[\"Конец нагрева дугой\"], format='%Y-%m-%d %H:%M:%S')\n",
    "arc[\"dt\"] = arc[\"Конец\"] - arc[\"Начало\"]\n",
    "display(arc)"
   ]
  },
  {
   "cell_type": "markdown",
   "id": "38555a77",
   "metadata": {},
   "source": [
    " Построим график длительнойстей."
   ]
  },
  {
   "cell_type": "code",
   "execution_count": 13,
   "id": "d55551e8",
   "metadata": {
    "scrolled": true
   },
   "outputs": [
    {
     "data": {
      "image/png": "[encoded data removed]",
      "text/plain": [
       "<Figure size 432x288 with 1 Axes>"
      ]
     },
     "metadata": {
      "needs_background": "light"
     },
     "output_type": "display_data"
    }
   ],
   "source": [
    "arc[\"dt\"].plot();"
   ]
  },
  {
   "cell_type": "markdown",
   "id": "42df8307",
   "metadata": {},
   "source": [
    "Из графика видно, что длительность нагревов не превышает 10 минут."
   ]
  },
  {
   "cell_type": "markdown",
   "id": "b25e2d14",
   "metadata": {},
   "source": [
    "Так как длительности не превышают 10 минут, для дальнейшего анализа переведём их в секунды. "
   ]
  },
  {
   "cell_type": "code",
   "execution_count": 14,
   "id": "0ebd5877",
   "metadata": {},
   "outputs": [],
   "source": [
    "arc[\"dt\"] = arc[\"dt\"].dt.total_seconds()"
   ]
  },
  {
   "cell_type": "markdown",
   "id": "f52b8407",
   "metadata": {},
   "source": [
    "Посмотрим статистические характеристики длительностей нагревов. "
   ]
  },
  {
   "cell_type": "code",
   "execution_count": 15,
   "id": "bd61d9b1",
   "metadata": {
    "scrolled": true
   },
   "outputs": [
    {
     "data": {
      "text/plain": [
       "count    14876.000000\n",
       "mean       171.670946\n",
       "std         98.186803\n",
       "min         11.000000\n",
       "25%        107.000000\n",
       "50%        147.000000\n",
       "75%        214.000000\n",
       "max        907.000000\n",
       "Name: dt, dtype: float64"
      ]
     },
     "execution_count": 15,
     "metadata": {},
     "output_type": "execute_result"
    }
   ],
   "source": [
    "arc[\"dt\"].describe()"
   ]
  },
  {
   "cell_type": "markdown",
   "id": "714a7a80",
   "metadata": {},
   "source": [
    "Минимальное значение длительности нагрева 11 секунд, максимальное 907 секунд, среднее 171 секунда. "
   ]
  },
  {
   "cell_type": "markdown",
   "id": "6420fa33",
   "metadata": {},
   "source": [
    "Посмотрим гистограмму и диаграмму размаха длительностей нагрева."
   ]
  },
  {
   "cell_type": "code",
   "execution_count": 16,
   "id": "7403f2c1",
   "metadata": {
    "scrolled": false
   },
   "outputs": [
    {
     "data": {
      "image/png": "[encoded data removed]",
      "text/plain": [
       "<Figure size 432x288 with 1 Axes>"
      ]
     },
     "metadata": {
      "needs_background": "light"
     },
     "output_type": "display_data"
    }
   ],
   "source": [
    "arc[\"dt\"].hist(bins=100);"
   ]
  },
  {
   "cell_type": "code",
   "execution_count": 17,
   "id": "93a5cf60",
   "metadata": {
    "scrolled": false
   },
   "outputs": [
    {
     "data": {
      "image/png": "[encoded data removed]",
      "text/plain": [
       "<Figure size 432x288 with 1 Axes>"
      ]
     },
     "metadata": {
      "needs_background": "light"
     },
     "output_type": "display_data"
    }
   ],
   "source": [
    "arc.boxplot(column=\"dt\");"
   ]
  },
  {
   "cell_type": "markdown",
   "id": "ccb80cde",
   "metadata": {},
   "source": [
    "На диаграмме размаха видно много выбросов превышающих 1,5 межкваритльных размаха. По согласованию с заказчиком данные выбросы находятся в технологических пределах, поэтому для машинного обучения их удалять не нужно."
   ]
  },
  {
   "cell_type": "markdown",
   "id": "b604fa0d",
   "metadata": {},
   "source": [
    "#### Активная мощность"
   ]
  },
  {
   "cell_type": "markdown",
   "id": "45bfdda7",
   "metadata": {},
   "source": [
    "Посмотрим значения активной мощности и её статистические характеристики. Для этого построим график, гистограмму, диаграмму размаха и расчитаем статистические характеристики. "
   ]
  },
  {
   "cell_type": "code",
   "execution_count": 18,
   "id": "0c6b12b7",
   "metadata": {
    "scrolled": true
   },
   "outputs": [
    {
     "data": {
      "image/png": "[encoded data removed]",
      "text/plain": [
       "<Figure size 432x288 with 1 Axes>"
      ]
     },
     "metadata": {
      "needs_background": "light"
     },
     "output_type": "display_data"
    }
   ],
   "source": [
    "arc[\"Активная мощность\"].plot();"
   ]
  },
  {
   "cell_type": "code",
   "execution_count": 19,
   "id": "e6b86288",
   "metadata": {
    "scrolled": true
   },
   "outputs": [
    {
     "data": {
      "image/png": "[encoded data removed]",
      "text/plain": [
       "<Figure size 432x288 with 1 Axes>"
      ]
     },
     "metadata": {
      "needs_background": "light"
     },
     "output_type": "display_data"
    }
   ],
   "source": [
    "arc[\"Активная мощность\"].hist(bins=100);"
   ]
  },
  {
   "cell_type": "code",
   "execution_count": 20,
   "id": "ad97cf04",
   "metadata": {
    "scrolled": true
   },
   "outputs": [
    {
     "data": {
      "text/plain": [
       "count    14876.000000\n",
       "mean         0.670441\n",
       "std          0.408159\n",
       "min          0.030002\n",
       "25%          0.395297\n",
       "50%          0.555517\n",
       "75%          0.857034\n",
       "max          3.731596\n",
       "Name: Активная мощность, dtype: float64"
      ]
     },
     "execution_count": 20,
     "metadata": {},
     "output_type": "execute_result"
    }
   ],
   "source": [
    "arc[\"Активная мощность\"].describe()"
   ]
  },
  {
   "cell_type": "code",
   "execution_count": 21,
   "id": "a9eab68e",
   "metadata": {
    "scrolled": true
   },
   "outputs": [
    {
     "data": {
      "image/png": "[encoded data removed]",
      "text/plain": [
       "<Figure size 432x288 with 1 Axes>"
      ]
     },
     "metadata": {
      "needs_background": "light"
     },
     "output_type": "display_data"
    }
   ],
   "source": [
    "arc.boxplot(column=\"Активная мощность\");"
   ]
  },
  {
   "cell_type": "markdown",
   "id": "454721fa",
   "metadata": {},
   "source": [
    "Каких либо аномалий на гистограмме не обнаружено. Есть много выбросов превышающих 1,5 межквартильных размах. Выбросы находятся в пределах технологических параметров и по согласованию с заказчиком не удаляются."
   ]
  },
  {
   "cell_type": "markdown",
   "id": "9b3c8a19",
   "metadata": {},
   "source": [
    "#### Реактивная мощность"
   ]
  },
  {
   "cell_type": "markdown",
   "id": "0f953894",
   "metadata": {},
   "source": [
    "Посмотрим значения реактивной мощности."
   ]
  },
  {
   "cell_type": "code",
   "execution_count": 22,
   "id": "a62115ef",
   "metadata": {
    "scrolled": false
   },
   "outputs": [
    {
     "data": {
      "image/png": "[encoded data removed]",
      "text/plain": [
       "<Figure size 432x288 with 1 Axes>"
      ]
     },
     "metadata": {
      "needs_background": "light"
     },
     "output_type": "display_data"
    }
   ],
   "source": [
    "arc[\"Реактивная мощность\"].plot();"
   ]
  },
  {
   "cell_type": "markdown",
   "id": "2f1acc9d",
   "metadata": {},
   "source": [
    "В значениях реактивной мощности есть аномальное отрицательное значение -700. Найдем строки с этим значением."
   ]
  },
  {
   "cell_type": "code",
   "execution_count": 23,
   "id": "adfe1fe3",
   "metadata": {
    "scrolled": false
   },
   "outputs": [
    {
     "data": {
      "text/html": [
       "<div>\n",
       "<style scoped>\n",
       "    .dataframe tbody tr th:only-of-type {\n",
       "        vertical-align: middle;\n",
       "    }\n",
       "\n",
       "    .dataframe tbody tr th {\n",
       "        vertical-align: top;\n",
       "    }\n",
       "\n",
       "    .dataframe thead th {\n",
       "        text-align: right;\n",
       "    }\n",
       "</style>\n",
       "<table border=\"1\" class=\"dataframe\">\n",
       "  <thead>\n",
       "    <tr style=\"text-align: right;\">\n",
       "      <th></th>\n",
       "      <th>key</th>\n",
       "      <th>Начало нагрева дугой</th>\n",
       "      <th>Конец нагрева дугой</th>\n",
       "      <th>Активная мощность</th>\n",
       "      <th>Реактивная мощность</th>\n",
       "      <th>Начало</th>\n",
       "      <th>Конец</th>\n",
       "      <th>dt</th>\n",
       "    </tr>\n",
       "  </thead>\n",
       "  <tbody>\n",
       "    <tr>\n",
       "      <th>9780</th>\n",
       "      <td>2116</td>\n",
       "      <td>2019-07-24 00:44:48</td>\n",
       "      <td>2019-07-24 00:46:37</td>\n",
       "      <td>0.495782</td>\n",
       "      <td>-715.504924</td>\n",
       "      <td>2019-07-24 00:44:48</td>\n",
       "      <td>2019-07-24 00:46:37</td>\n",
       "      <td>109.0</td>\n",
       "    </tr>\n",
       "  </tbody>\n",
       "</table>\n",
       "</div>"
      ],
      "text/plain": [
       "       key Начало нагрева дугой  Конец нагрева дугой  Активная мощность  \\\n",
       "9780  2116  2019-07-24 00:44:48  2019-07-24 00:46:37           0.495782   \n",
       "\n",
       "      Реактивная мощность              Начало               Конец     dt  \n",
       "9780          -715.504924 2019-07-24 00:44:48 2019-07-24 00:46:37  109.0  "
      ]
     },
     "execution_count": 23,
     "metadata": {},
     "output_type": "execute_result"
    }
   ],
   "source": [
    "arc[arc['Реактивная мощность'] < -600]"
   ]
  },
  {
   "cell_type": "markdown",
   "id": "14a79b2a",
   "metadata": {},
   "source": [
    "Аномальное значение реактивной мощности принадлежит 2116 партии. Получим список строк этой партии."
   ]
  },
  {
   "cell_type": "code",
   "execution_count": 24,
   "id": "94c0008e",
   "metadata": {},
   "outputs": [
    {
     "name": "stdout",
     "output_type": "stream",
     "text": [
      "[2116]\n"
     ]
    }
   ],
   "source": [
    "arc_anomalies_key = arc[arc['Реактивная мощность'] < -600]['key'].tolist()\n",
    "print(arc_anomalies_key)    "
   ]
  },
  {
   "cell_type": "markdown",
   "id": "c46766c0",
   "metadata": {},
   "source": [
    "Просмотр значений партии с аномальным значением реактивной мощности."
   ]
  },
  {
   "cell_type": "code",
   "execution_count": 25,
   "id": "80f94a1d",
   "metadata": {
    "scrolled": true
   },
   "outputs": [
    {
     "data": {
      "text/html": [
       "<div>\n",
       "<style scoped>\n",
       "    .dataframe tbody tr th:only-of-type {\n",
       "        vertical-align: middle;\n",
       "    }\n",
       "\n",
       "    .dataframe tbody tr th {\n",
       "        vertical-align: top;\n",
       "    }\n",
       "\n",
       "    .dataframe thead th {\n",
       "        text-align: right;\n",
       "    }\n",
       "</style>\n",
       "<table border=\"1\" class=\"dataframe\">\n",
       "  <thead>\n",
       "    <tr style=\"text-align: right;\">\n",
       "      <th></th>\n",
       "      <th>key</th>\n",
       "      <th>Начало нагрева дугой</th>\n",
       "      <th>Конец нагрева дугой</th>\n",
       "      <th>Активная мощность</th>\n",
       "      <th>Реактивная мощность</th>\n",
       "      <th>Начало</th>\n",
       "      <th>Конец</th>\n",
       "      <th>dt</th>\n",
       "    </tr>\n",
       "  </thead>\n",
       "  <tbody>\n",
       "    <tr>\n",
       "      <th>9778</th>\n",
       "      <td>2116</td>\n",
       "      <td>2019-07-24 00:29:52</td>\n",
       "      <td>2019-07-24 00:31:54</td>\n",
       "      <td>0.433266</td>\n",
       "      <td>0.306141</td>\n",
       "      <td>2019-07-24 00:29:52</td>\n",
       "      <td>2019-07-24 00:31:54</td>\n",
       "      <td>122.0</td>\n",
       "    </tr>\n",
       "    <tr>\n",
       "      <th>9779</th>\n",
       "      <td>2116</td>\n",
       "      <td>2019-07-24 00:35:50</td>\n",
       "      <td>2019-07-24 00:38:05</td>\n",
       "      <td>0.620265</td>\n",
       "      <td>0.408352</td>\n",
       "      <td>2019-07-24 00:35:50</td>\n",
       "      <td>2019-07-24 00:38:05</td>\n",
       "      <td>135.0</td>\n",
       "    </tr>\n",
       "    <tr>\n",
       "      <th>9780</th>\n",
       "      <td>2116</td>\n",
       "      <td>2019-07-24 00:44:48</td>\n",
       "      <td>2019-07-24 00:46:37</td>\n",
       "      <td>0.495782</td>\n",
       "      <td>-715.504924</td>\n",
       "      <td>2019-07-24 00:44:48</td>\n",
       "      <td>2019-07-24 00:46:37</td>\n",
       "      <td>109.0</td>\n",
       "    </tr>\n",
       "    <tr>\n",
       "      <th>9781</th>\n",
       "      <td>2116</td>\n",
       "      <td>2019-07-24 00:51:51</td>\n",
       "      <td>2019-07-24 00:52:58</td>\n",
       "      <td>0.299368</td>\n",
       "      <td>0.198796</td>\n",
       "      <td>2019-07-24 00:51:51</td>\n",
       "      <td>2019-07-24 00:52:58</td>\n",
       "      <td>67.0</td>\n",
       "    </tr>\n",
       "  </tbody>\n",
       "</table>\n",
       "</div>"
      ],
      "text/plain": [
       "       key Начало нагрева дугой  Конец нагрева дугой  Активная мощность  \\\n",
       "9778  2116  2019-07-24 00:29:52  2019-07-24 00:31:54           0.433266   \n",
       "9779  2116  2019-07-24 00:35:50  2019-07-24 00:38:05           0.620265   \n",
       "9780  2116  2019-07-24 00:44:48  2019-07-24 00:46:37           0.495782   \n",
       "9781  2116  2019-07-24 00:51:51  2019-07-24 00:52:58           0.299368   \n",
       "\n",
       "      Реактивная мощность              Начало               Конец     dt  \n",
       "9778             0.306141 2019-07-24 00:29:52 2019-07-24 00:31:54  122.0  \n",
       "9779             0.408352 2019-07-24 00:35:50 2019-07-24 00:38:05  135.0  \n",
       "9780          -715.504924 2019-07-24 00:44:48 2019-07-24 00:46:37  109.0  \n",
       "9781             0.198796 2019-07-24 00:51:51 2019-07-24 00:52:58   67.0  "
      ]
     },
     "execution_count": 25,
     "metadata": {},
     "output_type": "execute_result"
    }
   ],
   "source": [
    "arc[arc['key'].isin(arc_anomalies_key)]"
   ]
  },
  {
   "cell_type": "markdown",
   "id": "0f7d9b96",
   "metadata": {},
   "source": [
    "2116 партия стали имеет выброс. Удалим строки с значением партии key=2116."
   ]
  },
  {
   "cell_type": "code",
   "execution_count": 26,
   "id": "50f820f0",
   "metadata": {},
   "outputs": [],
   "source": [
    "arc = arc.drop(index=arc[arc['key'].isin(arc_anomalies_key)].index)"
   ]
  },
  {
   "cell_type": "markdown",
   "id": "b960b26d",
   "metadata": {},
   "source": [
    "Проверка, что удалена партия с аномальным значением "
   ]
  },
  {
   "cell_type": "code",
   "execution_count": 27,
   "id": "0300ea28",
   "metadata": {},
   "outputs": [
    {
     "data": {
      "text/html": [
       "<div>\n",
       "<style scoped>\n",
       "    .dataframe tbody tr th:only-of-type {\n",
       "        vertical-align: middle;\n",
       "    }\n",
       "\n",
       "    .dataframe tbody tr th {\n",
       "        vertical-align: top;\n",
       "    }\n",
       "\n",
       "    .dataframe thead th {\n",
       "        text-align: right;\n",
       "    }\n",
       "</style>\n",
       "<table border=\"1\" class=\"dataframe\">\n",
       "  <thead>\n",
       "    <tr style=\"text-align: right;\">\n",
       "      <th></th>\n",
       "      <th>key</th>\n",
       "      <th>Начало нагрева дугой</th>\n",
       "      <th>Конец нагрева дугой</th>\n",
       "      <th>Активная мощность</th>\n",
       "      <th>Реактивная мощность</th>\n",
       "      <th>Начало</th>\n",
       "      <th>Конец</th>\n",
       "      <th>dt</th>\n",
       "    </tr>\n",
       "  </thead>\n",
       "  <tbody>\n",
       "  </tbody>\n",
       "</table>\n",
       "</div>"
      ],
      "text/plain": [
       "Empty DataFrame\n",
       "Columns: [key, Начало нагрева дугой, Конец нагрева дугой, Активная мощность, Реактивная мощность, Начало, Конец, dt]\n",
       "Index: []"
      ]
     },
     "execution_count": 27,
     "metadata": {},
     "output_type": "execute_result"
    }
   ],
   "source": [
    "arc[arc['key'].isin(arc_anomalies_key)]"
   ]
  },
  {
   "cell_type": "markdown",
   "id": "27ac072c",
   "metadata": {},
   "source": [
    "Посмотрим значения реактивной мощности и её статистические характеристики. Для этого построим график, гистограмму, диаграмму размаха и рассчитаем значения статистических характеристик."
   ]
  },
  {
   "cell_type": "code",
   "execution_count": 28,
   "id": "5743d13b",
   "metadata": {
    "scrolled": true
   },
   "outputs": [
    {
     "data": {
      "image/png": "[encoded data removed]",
      "text/plain": [
       "<Figure size 432x288 with 1 Axes>"
      ]
     },
     "metadata": {
      "needs_background": "light"
     },
     "output_type": "display_data"
    }
   ],
   "source": [
    "arc[\"Реактивная мощность\"].plot();"
   ]
  },
  {
   "cell_type": "code",
   "execution_count": 29,
   "id": "4dc2c751",
   "metadata": {
    "scrolled": false
   },
   "outputs": [
    {
     "data": {
      "text/plain": [
       "count    14872.000000\n",
       "mean         0.500763\n",
       "std          0.310897\n",
       "min          0.020806\n",
       "25%          0.291008\n",
       "50%          0.416280\n",
       "75%          0.637476\n",
       "max          2.676388\n",
       "Name: Реактивная мощность, dtype: float64"
      ]
     },
     "execution_count": 29,
     "metadata": {},
     "output_type": "execute_result"
    }
   ],
   "source": [
    "arc[\"Реактивная мощность\"].describe()"
   ]
  },
  {
   "cell_type": "code",
   "execution_count": 30,
   "id": "7e8f4cff",
   "metadata": {},
   "outputs": [
    {
     "data": {
      "image/png": "[encoded data removed]",
      "text/plain": [
       "<Figure size 432x288 with 1 Axes>"
      ]
     },
     "metadata": {
      "needs_background": "light"
     },
     "output_type": "display_data"
    }
   ],
   "source": [
    "arc[\"Реактивная мощность\"].hist(bins=100);"
   ]
  },
  {
   "cell_type": "code",
   "execution_count": 31,
   "id": "fa069bcd",
   "metadata": {
    "scrolled": true
   },
   "outputs": [
    {
     "data": {
      "image/png": "[encoded data removed]",
      "text/plain": [
       "<Figure size 432x288 with 1 Axes>"
      ]
     },
     "metadata": {
      "needs_background": "light"
     },
     "output_type": "display_data"
    }
   ],
   "source": [
    "arc.boxplot(column=\"Реактивная мощность\");"
   ]
  },
  {
   "cell_type": "markdown",
   "id": "91a264c1",
   "metadata": {},
   "source": [
    "Каких либо аномалий на гистограмме не обнаружено. Есть много выбросов превышающих 1,5 межквартильных размаха. Выбросы находятся в пределах технологических параметров и по согласованию с заказчиком не удаляются."
   ]
  },
  {
   "cell_type": "markdown",
   "id": "8807bd13",
   "metadata": {},
   "source": [
    "### bulk (сыпучие материалы)"
   ]
  },
  {
   "cell_type": "code",
   "execution_count": 32,
   "id": "7953310f",
   "metadata": {
    "scrolled": false
   },
   "outputs": [
    {
     "name": "stdout",
     "output_type": "stream",
     "text": [
      "<class 'pandas.core.frame.DataFrame'>\n",
      "RangeIndex: 3129 entries, 0 to 3128\n",
      "Data columns (total 16 columns):\n",
      " #   Column   Non-Null Count  Dtype  \n",
      "---  ------   --------------  -----  \n",
      " 0   key      3129 non-null   int64  \n",
      " 1   Bulk 1   252 non-null    float64\n",
      " 2   Bulk 2   22 non-null     float64\n",
      " 3   Bulk 3   1298 non-null   float64\n",
      " 4   Bulk 4   1014 non-null   float64\n",
      " 5   Bulk 5   77 non-null     float64\n",
      " 6   Bulk 6   576 non-null    float64\n",
      " 7   Bulk 7   25 non-null     float64\n",
      " 8   Bulk 8   1 non-null      float64\n",
      " 9   Bulk 9   19 non-null     float64\n",
      " 10  Bulk 10  176 non-null    float64\n",
      " 11  Bulk 11  177 non-null    float64\n",
      " 12  Bulk 12  2450 non-null   float64\n",
      " 13  Bulk 13  18 non-null     float64\n",
      " 14  Bulk 14  2806 non-null   float64\n",
      " 15  Bulk 15  2248 non-null   float64\n",
      "dtypes: float64(15), int64(1)\n",
      "memory usage: 391.2 KB\n"
     ]
    }
   ],
   "source": [
    "bulk.info()"
   ]
  },
  {
   "cell_type": "code",
   "execution_count": 33,
   "id": "24ed3c7b",
   "metadata": {
    "scrolled": false
   },
   "outputs": [
    {
     "data": {
      "text/html": [
       "<div>\n",
       "<style scoped>\n",
       "    .dataframe tbody tr th:only-of-type {\n",
       "        vertical-align: middle;\n",
       "    }\n",
       "\n",
       "    .dataframe tbody tr th {\n",
       "        vertical-align: top;\n",
       "    }\n",
       "\n",
       "    .dataframe thead th {\n",
       "        text-align: right;\n",
       "    }\n",
       "</style>\n",
       "<table border=\"1\" class=\"dataframe\">\n",
       "  <thead>\n",
       "    <tr style=\"text-align: right;\">\n",
       "      <th></th>\n",
       "      <th>key</th>\n",
       "      <th>Bulk 1</th>\n",
       "      <th>Bulk 2</th>\n",
       "      <th>Bulk 3</th>\n",
       "      <th>Bulk 4</th>\n",
       "      <th>Bulk 5</th>\n",
       "      <th>Bulk 6</th>\n",
       "      <th>Bulk 7</th>\n",
       "      <th>Bulk 8</th>\n",
       "      <th>Bulk 9</th>\n",
       "      <th>Bulk 10</th>\n",
       "      <th>Bulk 11</th>\n",
       "      <th>Bulk 12</th>\n",
       "      <th>Bulk 13</th>\n",
       "      <th>Bulk 14</th>\n",
       "      <th>Bulk 15</th>\n",
       "    </tr>\n",
       "  </thead>\n",
       "  <tbody>\n",
       "    <tr>\n",
       "      <th>0</th>\n",
       "      <td>1</td>\n",
       "      <td>NaN</td>\n",
       "      <td>NaN</td>\n",
       "      <td>NaN</td>\n",
       "      <td>43.0</td>\n",
       "      <td>NaN</td>\n",
       "      <td>NaN</td>\n",
       "      <td>NaN</td>\n",
       "      <td>NaN</td>\n",
       "      <td>NaN</td>\n",
       "      <td>NaN</td>\n",
       "      <td>NaN</td>\n",
       "      <td>206.0</td>\n",
       "      <td>NaN</td>\n",
       "      <td>150.0</td>\n",
       "      <td>154.0</td>\n",
       "    </tr>\n",
       "    <tr>\n",
       "      <th>1</th>\n",
       "      <td>2</td>\n",
       "      <td>NaN</td>\n",
       "      <td>NaN</td>\n",
       "      <td>NaN</td>\n",
       "      <td>73.0</td>\n",
       "      <td>NaN</td>\n",
       "      <td>NaN</td>\n",
       "      <td>NaN</td>\n",
       "      <td>NaN</td>\n",
       "      <td>NaN</td>\n",
       "      <td>NaN</td>\n",
       "      <td>NaN</td>\n",
       "      <td>206.0</td>\n",
       "      <td>NaN</td>\n",
       "      <td>149.0</td>\n",
       "      <td>154.0</td>\n",
       "    </tr>\n",
       "    <tr>\n",
       "      <th>2</th>\n",
       "      <td>3</td>\n",
       "      <td>NaN</td>\n",
       "      <td>NaN</td>\n",
       "      <td>NaN</td>\n",
       "      <td>34.0</td>\n",
       "      <td>NaN</td>\n",
       "      <td>NaN</td>\n",
       "      <td>NaN</td>\n",
       "      <td>NaN</td>\n",
       "      <td>NaN</td>\n",
       "      <td>NaN</td>\n",
       "      <td>NaN</td>\n",
       "      <td>205.0</td>\n",
       "      <td>NaN</td>\n",
       "      <td>152.0</td>\n",
       "      <td>153.0</td>\n",
       "    </tr>\n",
       "    <tr>\n",
       "      <th>3</th>\n",
       "      <td>4</td>\n",
       "      <td>NaN</td>\n",
       "      <td>NaN</td>\n",
       "      <td>NaN</td>\n",
       "      <td>81.0</td>\n",
       "      <td>NaN</td>\n",
       "      <td>NaN</td>\n",
       "      <td>NaN</td>\n",
       "      <td>NaN</td>\n",
       "      <td>NaN</td>\n",
       "      <td>NaN</td>\n",
       "      <td>NaN</td>\n",
       "      <td>207.0</td>\n",
       "      <td>NaN</td>\n",
       "      <td>153.0</td>\n",
       "      <td>154.0</td>\n",
       "    </tr>\n",
       "    <tr>\n",
       "      <th>4</th>\n",
       "      <td>5</td>\n",
       "      <td>NaN</td>\n",
       "      <td>NaN</td>\n",
       "      <td>NaN</td>\n",
       "      <td>78.0</td>\n",
       "      <td>NaN</td>\n",
       "      <td>NaN</td>\n",
       "      <td>NaN</td>\n",
       "      <td>NaN</td>\n",
       "      <td>NaN</td>\n",
       "      <td>NaN</td>\n",
       "      <td>NaN</td>\n",
       "      <td>203.0</td>\n",
       "      <td>NaN</td>\n",
       "      <td>151.0</td>\n",
       "      <td>152.0</td>\n",
       "    </tr>\n",
       "  </tbody>\n",
       "</table>\n",
       "</div>"
      ],
      "text/plain": [
       "   key  Bulk 1  Bulk 2  Bulk 3  Bulk 4  Bulk 5  Bulk 6  Bulk 7  Bulk 8  \\\n",
       "0    1     NaN     NaN     NaN    43.0     NaN     NaN     NaN     NaN   \n",
       "1    2     NaN     NaN     NaN    73.0     NaN     NaN     NaN     NaN   \n",
       "2    3     NaN     NaN     NaN    34.0     NaN     NaN     NaN     NaN   \n",
       "3    4     NaN     NaN     NaN    81.0     NaN     NaN     NaN     NaN   \n",
       "4    5     NaN     NaN     NaN    78.0     NaN     NaN     NaN     NaN   \n",
       "\n",
       "   Bulk 9  Bulk 10  Bulk 11  Bulk 12  Bulk 13  Bulk 14  Bulk 15  \n",
       "0     NaN      NaN      NaN    206.0      NaN    150.0    154.0  \n",
       "1     NaN      NaN      NaN    206.0      NaN    149.0    154.0  \n",
       "2     NaN      NaN      NaN    205.0      NaN    152.0    153.0  \n",
       "3     NaN      NaN      NaN    207.0      NaN    153.0    154.0  \n",
       "4     NaN      NaN      NaN    203.0      NaN    151.0    152.0  "
      ]
     },
     "execution_count": 33,
     "metadata": {},
     "output_type": "execute_result"
    }
   ],
   "source": [
    "bulk.head()"
   ]
  },
  {
   "cell_type": "markdown",
   "id": "39d1068d",
   "metadata": {},
   "source": [
    "В данных присуствует 15 типов сыпучих материалов. В данных есть пустые значения, для машинного обучения их нужно заполнить нулями. В данных есть аномалия, один из материалов Bulk 8 имеет всего одно значение. На 1 значении машинное обучение невозможно, поэтому удалим строки с номером партии содержащим значение в Bulk 8."
   ]
  },
  {
   "cell_type": "markdown",
   "id": "10931ba3",
   "metadata": {},
   "source": [
    "Найдем номер этой партии."
   ]
  },
  {
   "cell_type": "code",
   "execution_count": 34,
   "id": "29b47de3",
   "metadata": {
    "scrolled": true
   },
   "outputs": [
    {
     "data": {
      "text/html": [
       "<div>\n",
       "<style scoped>\n",
       "    .dataframe tbody tr th:only-of-type {\n",
       "        vertical-align: middle;\n",
       "    }\n",
       "\n",
       "    .dataframe tbody tr th {\n",
       "        vertical-align: top;\n",
       "    }\n",
       "\n",
       "    .dataframe thead th {\n",
       "        text-align: right;\n",
       "    }\n",
       "</style>\n",
       "<table border=\"1\" class=\"dataframe\">\n",
       "  <thead>\n",
       "    <tr style=\"text-align: right;\">\n",
       "      <th></th>\n",
       "      <th>key</th>\n",
       "      <th>Bulk 1</th>\n",
       "      <th>Bulk 2</th>\n",
       "      <th>Bulk 3</th>\n",
       "      <th>Bulk 4</th>\n",
       "      <th>Bulk 5</th>\n",
       "      <th>Bulk 6</th>\n",
       "      <th>Bulk 7</th>\n",
       "      <th>Bulk 8</th>\n",
       "      <th>Bulk 9</th>\n",
       "      <th>Bulk 10</th>\n",
       "      <th>Bulk 11</th>\n",
       "      <th>Bulk 12</th>\n",
       "      <th>Bulk 13</th>\n",
       "      <th>Bulk 14</th>\n",
       "      <th>Bulk 15</th>\n",
       "    </tr>\n",
       "  </thead>\n",
       "  <tbody>\n",
       "    <tr>\n",
       "      <th>1725</th>\n",
       "      <td>1786</td>\n",
       "      <td>NaN</td>\n",
       "      <td>NaN</td>\n",
       "      <td>123.0</td>\n",
       "      <td>NaN</td>\n",
       "      <td>NaN</td>\n",
       "      <td>NaN</td>\n",
       "      <td>NaN</td>\n",
       "      <td>49.0</td>\n",
       "      <td>147.0</td>\n",
       "      <td>NaN</td>\n",
       "      <td>NaN</td>\n",
       "      <td>NaN</td>\n",
       "      <td>NaN</td>\n",
       "      <td>NaN</td>\n",
       "      <td>NaN</td>\n",
       "    </tr>\n",
       "  </tbody>\n",
       "</table>\n",
       "</div>"
      ],
      "text/plain": [
       "       key  Bulk 1  Bulk 2  Bulk 3  Bulk 4  Bulk 5  Bulk 6  Bulk 7  Bulk 8  \\\n",
       "1725  1786     NaN     NaN   123.0     NaN     NaN     NaN     NaN    49.0   \n",
       "\n",
       "      Bulk 9  Bulk 10  Bulk 11  Bulk 12  Bulk 13  Bulk 14  Bulk 15  \n",
       "1725   147.0      NaN      NaN      NaN      NaN      NaN      NaN  "
      ]
     },
     "execution_count": 34,
     "metadata": {},
     "output_type": "execute_result"
    }
   ],
   "source": [
    "bulk[bulk.notnull()['Bulk 8']]"
   ]
  },
  {
   "cell_type": "code",
   "execution_count": 35,
   "id": "d6c607a2",
   "metadata": {
    "scrolled": true
   },
   "outputs": [
    {
     "data": {
      "text/plain": [
       "[1786]"
      ]
     },
     "execution_count": 35,
     "metadata": {},
     "output_type": "execute_result"
    }
   ],
   "source": [
    "bulk_drop = bulk[bulk.notnull()['Bulk 8']]['key'].tolist()\n",
    "bulk_drop"
   ]
  },
  {
   "cell_type": "code",
   "execution_count": 36,
   "id": "9efad597",
   "metadata": {},
   "outputs": [
    {
     "data": {
      "text/plain": [
       "Int64Index([1725], dtype='int64')"
      ]
     },
     "execution_count": 36,
     "metadata": {},
     "output_type": "execute_result"
    }
   ],
   "source": [
    "bulk[bulk['key'].isin(bulk_drop)].index"
   ]
  },
  {
   "cell_type": "code",
   "execution_count": 37,
   "id": "c48a3b8d",
   "metadata": {
    "scrolled": false
   },
   "outputs": [],
   "source": [
    "bulk = bulk.drop(index = bulk[bulk['key'].isin(bulk_drop)].index)"
   ]
  },
  {
   "cell_type": "code",
   "execution_count": 38,
   "id": "4405283d",
   "metadata": {},
   "outputs": [
    {
     "data": {
      "text/html": [
       "<div>\n",
       "<style scoped>\n",
       "    .dataframe tbody tr th:only-of-type {\n",
       "        vertical-align: middle;\n",
       "    }\n",
       "\n",
       "    .dataframe tbody tr th {\n",
       "        vertical-align: top;\n",
       "    }\n",
       "\n",
       "    .dataframe thead th {\n",
       "        text-align: right;\n",
       "    }\n",
       "</style>\n",
       "<table border=\"1\" class=\"dataframe\">\n",
       "  <thead>\n",
       "    <tr style=\"text-align: right;\">\n",
       "      <th></th>\n",
       "      <th>key</th>\n",
       "      <th>Bulk 1</th>\n",
       "      <th>Bulk 2</th>\n",
       "      <th>Bulk 3</th>\n",
       "      <th>Bulk 4</th>\n",
       "      <th>Bulk 5</th>\n",
       "      <th>Bulk 6</th>\n",
       "      <th>Bulk 7</th>\n",
       "      <th>Bulk 8</th>\n",
       "      <th>Bulk 9</th>\n",
       "      <th>Bulk 10</th>\n",
       "      <th>Bulk 11</th>\n",
       "      <th>Bulk 12</th>\n",
       "      <th>Bulk 13</th>\n",
       "      <th>Bulk 14</th>\n",
       "      <th>Bulk 15</th>\n",
       "    </tr>\n",
       "  </thead>\n",
       "  <tbody>\n",
       "  </tbody>\n",
       "</table>\n",
       "</div>"
      ],
      "text/plain": [
       "Empty DataFrame\n",
       "Columns: [key, Bulk 1, Bulk 2, Bulk 3, Bulk 4, Bulk 5, Bulk 6, Bulk 7, Bulk 8, Bulk 9, Bulk 10, Bulk 11, Bulk 12, Bulk 13, Bulk 14, Bulk 15]\n",
       "Index: []"
      ]
     },
     "execution_count": 38,
     "metadata": {},
     "output_type": "execute_result"
    }
   ],
   "source": [
    "bulk[bulk['key'].isin(bulk_drop)] #проверка удаления"
   ]
  },
  {
   "cell_type": "markdown",
   "id": "c4c85634",
   "metadata": {},
   "source": [
    "Также удалим столбец Bulk 8"
   ]
  },
  {
   "cell_type": "code",
   "execution_count": 39,
   "id": "384d2212",
   "metadata": {},
   "outputs": [],
   "source": [
    "bulk = bulk.drop(columns='Bulk 8')"
   ]
  },
  {
   "cell_type": "markdown",
   "id": "23471814",
   "metadata": {},
   "source": [
    "Построение гистограмм значений сыпучих материалов."
   ]
  },
  {
   "cell_type": "code",
   "execution_count": 40,
   "id": "458f4a90",
   "metadata": {
    "scrolled": false
   },
   "outputs": [
    {
     "data": {
      "image/png": "[encoded data removed]",
      "text/plain": [
       "<Figure size 432x288 with 1 Axes>"
      ]
     },
     "metadata": {
      "needs_background": "light"
     },
     "output_type": "display_data"
    },
    {
     "data": {
      "image/png": "[encoded data removed]",
      "text/plain": [
       "<Figure size 432x288 with 1 Axes>"
      ]
     },
     "metadata": {
      "needs_background": "light"
     },
     "output_type": "display_data"
    },
    {
     "data": {
      "image/png": "[encoded data removed]",
      "text/plain": [
       "<Figure size 432x288 with 1 Axes>"
      ]
     },
     "metadata": {
      "needs_background": "light"
     },
     "output_type": "display_data"
    },
    {
     "data": {
      "image/png": "[encoded data removed]",
      "text/plain": [
       "<Figure size 432x288 with 1 Axes>"
      ]
     },
     "metadata": {
      "needs_background": "light"
     },
     "output_type": "display_data"
    },
    {
     "data": {
      "image/png": "[encoded data removed]",
      "text/plain": [
       "<Figure size 432x288 with 1 Axes>"
      ]
     },
     "metadata": {
      "needs_background": "light"
     },
     "output_type": "display_data"
    },
    {
     "data": {
      "image/png": "[encoded data removed]",
      "text/plain": [
       "<Figure size 432x288 with 1 Axes>"
      ]
     },
     "metadata": {
      "needs_background": "light"
     },
     "output_type": "display_data"
    },
    {
     "data": {
      "image/png": "[encoded data removed]",
      "text/plain": [
       "<Figure size 432x288 with 1 Axes>"
      ]
     },
     "metadata": {
      "needs_background": "light"
     },
     "output_type": "display_data"
    },
    {
     "data": {
      "image/png": "[encoded data removed]",
      "text/plain": [
       "<Figure size 432x288 with 1 Axes>"
      ]
     },
     "metadata": {
      "needs_background": "light"
     },
     "output_type": "display_data"
    },
    {
     "data": {
      "image/png": "[encoded data removed]",
      "text/plain": [
       "<Figure size 432x288 with 1 Axes>"
      ]
     },
     "metadata": {
      "needs_background": "light"
     },
     "output_type": "display_data"
    },
    {
     "data": {
      "image/png": "[encoded data removed]",
      "text/plain": [
       "<Figure size 432x288 with 1 Axes>"
      ]
     },
     "metadata": {
      "needs_background": "light"
     },
     "output_type": "display_data"
    },
    {
     "data": {
      "image/png": "[encoded data removed]",
      "text/plain": [
       "<Figure size 432x288 with 1 Axes>"
      ]
     },
     "metadata": {
      "needs_background": "light"
     },
     "output_type": "display_data"
    },
    {
     "data": {
      "image/png": "[encoded data removed]",
      "text/plain": [
       "<Figure size 432x288 with 1 Axes>"
      ]
     },
     "metadata": {
      "needs_background": "light"
     },
     "output_type": "display_data"
    },
    {
     "data": {
      "image/png": "[encoded data removed]",
      "text/plain": [
       "<Figure size 432x288 with 1 Axes>"
      ]
     },
     "metadata": {
      "needs_background": "light"
     },
     "output_type": "display_data"
    },
    {
     "data": {
      "image/png": "[encoded data removed]",
      "text/plain": [
       "<Figure size 432x288 with 1 Axes>"
      ]
     },
     "metadata": {
      "needs_background": "light"
     },
     "output_type": "display_data"
    }
   ],
   "source": [
    "bulk_columns = bulk.columns\n",
    "bulk_columns = bulk_columns.drop('key')\n",
    "for column in bulk_columns:\n",
    "    plt.figure()\n",
    "    bulk[column].hist(bins=100)\n",
    "    plt.title(column)"
   ]
  },
  {
   "cell_type": "markdown",
   "id": "abe9a218",
   "metadata": {},
   "source": [
    "Данные из гистограмм сыпучих материалов необходимо обсуждать с заказчиком, чтобы определить, находятся ли эти значения в пределах технологих норм. В этом исследовании будем считать, что данные находятся в пределах технологических норм."
   ]
  },
  {
   "cell_type": "markdown",
   "id": "6ac7470e",
   "metadata": {},
   "source": [
    "Заполнение нулями пустых значений"
   ]
  },
  {
   "cell_type": "code",
   "execution_count": 41,
   "id": "595968e5",
   "metadata": {
    "scrolled": true
   },
   "outputs": [
    {
     "data": {
      "text/html": [
       "<div>\n",
       "<style scoped>\n",
       "    .dataframe tbody tr th:only-of-type {\n",
       "        vertical-align: middle;\n",
       "    }\n",
       "\n",
       "    .dataframe tbody tr th {\n",
       "        vertical-align: top;\n",
       "    }\n",
       "\n",
       "    .dataframe thead th {\n",
       "        text-align: right;\n",
       "    }\n",
       "</style>\n",
       "<table border=\"1\" class=\"dataframe\">\n",
       "  <thead>\n",
       "    <tr style=\"text-align: right;\">\n",
       "      <th></th>\n",
       "      <th>key</th>\n",
       "      <th>Bulk 1</th>\n",
       "      <th>Bulk 2</th>\n",
       "      <th>Bulk 3</th>\n",
       "      <th>Bulk 4</th>\n",
       "      <th>Bulk 5</th>\n",
       "      <th>Bulk 6</th>\n",
       "      <th>Bulk 7</th>\n",
       "      <th>Bulk 9</th>\n",
       "      <th>Bulk 10</th>\n",
       "      <th>Bulk 11</th>\n",
       "      <th>Bulk 12</th>\n",
       "      <th>Bulk 13</th>\n",
       "      <th>Bulk 14</th>\n",
       "      <th>Bulk 15</th>\n",
       "    </tr>\n",
       "  </thead>\n",
       "  <tbody>\n",
       "    <tr>\n",
       "      <th>0</th>\n",
       "      <td>1</td>\n",
       "      <td>0.0</td>\n",
       "      <td>0.0</td>\n",
       "      <td>0.0</td>\n",
       "      <td>43.0</td>\n",
       "      <td>0.0</td>\n",
       "      <td>0.0</td>\n",
       "      <td>0.0</td>\n",
       "      <td>0.0</td>\n",
       "      <td>0.0</td>\n",
       "      <td>0.0</td>\n",
       "      <td>206.0</td>\n",
       "      <td>0.0</td>\n",
       "      <td>150.0</td>\n",
       "      <td>154.0</td>\n",
       "    </tr>\n",
       "    <tr>\n",
       "      <th>1</th>\n",
       "      <td>2</td>\n",
       "      <td>0.0</td>\n",
       "      <td>0.0</td>\n",
       "      <td>0.0</td>\n",
       "      <td>73.0</td>\n",
       "      <td>0.0</td>\n",
       "      <td>0.0</td>\n",
       "      <td>0.0</td>\n",
       "      <td>0.0</td>\n",
       "      <td>0.0</td>\n",
       "      <td>0.0</td>\n",
       "      <td>206.0</td>\n",
       "      <td>0.0</td>\n",
       "      <td>149.0</td>\n",
       "      <td>154.0</td>\n",
       "    </tr>\n",
       "    <tr>\n",
       "      <th>2</th>\n",
       "      <td>3</td>\n",
       "      <td>0.0</td>\n",
       "      <td>0.0</td>\n",
       "      <td>0.0</td>\n",
       "      <td>34.0</td>\n",
       "      <td>0.0</td>\n",
       "      <td>0.0</td>\n",
       "      <td>0.0</td>\n",
       "      <td>0.0</td>\n",
       "      <td>0.0</td>\n",
       "      <td>0.0</td>\n",
       "      <td>205.0</td>\n",
       "      <td>0.0</td>\n",
       "      <td>152.0</td>\n",
       "      <td>153.0</td>\n",
       "    </tr>\n",
       "    <tr>\n",
       "      <th>3</th>\n",
       "      <td>4</td>\n",
       "      <td>0.0</td>\n",
       "      <td>0.0</td>\n",
       "      <td>0.0</td>\n",
       "      <td>81.0</td>\n",
       "      <td>0.0</td>\n",
       "      <td>0.0</td>\n",
       "      <td>0.0</td>\n",
       "      <td>0.0</td>\n",
       "      <td>0.0</td>\n",
       "      <td>0.0</td>\n",
       "      <td>207.0</td>\n",
       "      <td>0.0</td>\n",
       "      <td>153.0</td>\n",
       "      <td>154.0</td>\n",
       "    </tr>\n",
       "    <tr>\n",
       "      <th>4</th>\n",
       "      <td>5</td>\n",
       "      <td>0.0</td>\n",
       "      <td>0.0</td>\n",
       "      <td>0.0</td>\n",
       "      <td>78.0</td>\n",
       "      <td>0.0</td>\n",
       "      <td>0.0</td>\n",
       "      <td>0.0</td>\n",
       "      <td>0.0</td>\n",
       "      <td>0.0</td>\n",
       "      <td>0.0</td>\n",
       "      <td>203.0</td>\n",
       "      <td>0.0</td>\n",
       "      <td>151.0</td>\n",
       "      <td>152.0</td>\n",
       "    </tr>\n",
       "  </tbody>\n",
       "</table>\n",
       "</div>"
      ],
      "text/plain": [
       "   key  Bulk 1  Bulk 2  Bulk 3  Bulk 4  Bulk 5  Bulk 6  Bulk 7  Bulk 9  \\\n",
       "0    1     0.0     0.0     0.0    43.0     0.0     0.0     0.0     0.0   \n",
       "1    2     0.0     0.0     0.0    73.0     0.0     0.0     0.0     0.0   \n",
       "2    3     0.0     0.0     0.0    34.0     0.0     0.0     0.0     0.0   \n",
       "3    4     0.0     0.0     0.0    81.0     0.0     0.0     0.0     0.0   \n",
       "4    5     0.0     0.0     0.0    78.0     0.0     0.0     0.0     0.0   \n",
       "\n",
       "   Bulk 10  Bulk 11  Bulk 12  Bulk 13  Bulk 14  Bulk 15  \n",
       "0      0.0      0.0    206.0      0.0    150.0    154.0  \n",
       "1      0.0      0.0    206.0      0.0    149.0    154.0  \n",
       "2      0.0      0.0    205.0      0.0    152.0    153.0  \n",
       "3      0.0      0.0    207.0      0.0    153.0    154.0  \n",
       "4      0.0      0.0    203.0      0.0    151.0    152.0  "
      ]
     },
     "execution_count": 41,
     "metadata": {},
     "output_type": "execute_result"
    }
   ],
   "source": [
    "bulk = bulk.fillna(0)\n",
    "bulk.head()"
   ]
  },
  {
   "cell_type": "markdown",
   "id": "77ebd452",
   "metadata": {},
   "source": [
    "Посмотрим данные в bulk_time"
   ]
  },
  {
   "cell_type": "code",
   "execution_count": 42,
   "id": "97434577",
   "metadata": {
    "scrolled": false
   },
   "outputs": [
    {
     "name": "stdout",
     "output_type": "stream",
     "text": [
      "<class 'pandas.core.frame.DataFrame'>\n",
      "RangeIndex: 3129 entries, 0 to 3128\n",
      "Data columns (total 16 columns):\n",
      " #   Column   Non-Null Count  Dtype \n",
      "---  ------   --------------  ----- \n",
      " 0   key      3129 non-null   int64 \n",
      " 1   Bulk 1   252 non-null    object\n",
      " 2   Bulk 2   22 non-null     object\n",
      " 3   Bulk 3   1298 non-null   object\n",
      " 4   Bulk 4   1014 non-null   object\n",
      " 5   Bulk 5   77 non-null     object\n",
      " 6   Bulk 6   576 non-null    object\n",
      " 7   Bulk 7   25 non-null     object\n",
      " 8   Bulk 8   1 non-null      object\n",
      " 9   Bulk 9   19 non-null     object\n",
      " 10  Bulk 10  176 non-null    object\n",
      " 11  Bulk 11  177 non-null    object\n",
      " 12  Bulk 12  2450 non-null   object\n",
      " 13  Bulk 13  18 non-null     object\n",
      " 14  Bulk 14  2806 non-null   object\n",
      " 15  Bulk 15  2248 non-null   object\n",
      "dtypes: int64(1), object(15)\n",
      "memory usage: 391.2+ KB\n"
     ]
    }
   ],
   "source": [
    "bulk_time.info()"
   ]
  },
  {
   "cell_type": "code",
   "execution_count": 43,
   "id": "a7e4466c",
   "metadata": {
    "scrolled": true
   },
   "outputs": [
    {
     "data": {
      "text/html": [
       "<div>\n",
       "<style scoped>\n",
       "    .dataframe tbody tr th:only-of-type {\n",
       "        vertical-align: middle;\n",
       "    }\n",
       "\n",
       "    .dataframe tbody tr th {\n",
       "        vertical-align: top;\n",
       "    }\n",
       "\n",
       "    .dataframe thead th {\n",
       "        text-align: right;\n",
       "    }\n",
       "</style>\n",
       "<table border=\"1\" class=\"dataframe\">\n",
       "  <thead>\n",
       "    <tr style=\"text-align: right;\">\n",
       "      <th></th>\n",
       "      <th>key</th>\n",
       "      <th>Bulk 1</th>\n",
       "      <th>Bulk 2</th>\n",
       "      <th>Bulk 3</th>\n",
       "      <th>Bulk 4</th>\n",
       "      <th>Bulk 5</th>\n",
       "      <th>Bulk 6</th>\n",
       "      <th>Bulk 7</th>\n",
       "      <th>Bulk 8</th>\n",
       "      <th>Bulk 9</th>\n",
       "      <th>Bulk 10</th>\n",
       "      <th>Bulk 11</th>\n",
       "      <th>Bulk 12</th>\n",
       "      <th>Bulk 13</th>\n",
       "      <th>Bulk 14</th>\n",
       "      <th>Bulk 15</th>\n",
       "    </tr>\n",
       "  </thead>\n",
       "  <tbody>\n",
       "    <tr>\n",
       "      <th>0</th>\n",
       "      <td>1</td>\n",
       "      <td>NaN</td>\n",
       "      <td>NaN</td>\n",
       "      <td>NaN</td>\n",
       "      <td>2019-05-03 11:21:30</td>\n",
       "      <td>NaN</td>\n",
       "      <td>NaN</td>\n",
       "      <td>NaN</td>\n",
       "      <td>NaN</td>\n",
       "      <td>NaN</td>\n",
       "      <td>NaN</td>\n",
       "      <td>NaN</td>\n",
       "      <td>2019-05-03 11:03:52</td>\n",
       "      <td>NaN</td>\n",
       "      <td>2019-05-03 11:03:52</td>\n",
       "      <td>2019-05-03 11:03:52</td>\n",
       "    </tr>\n",
       "    <tr>\n",
       "      <th>1</th>\n",
       "      <td>2</td>\n",
       "      <td>NaN</td>\n",
       "      <td>NaN</td>\n",
       "      <td>NaN</td>\n",
       "      <td>2019-05-03 11:46:38</td>\n",
       "      <td>NaN</td>\n",
       "      <td>NaN</td>\n",
       "      <td>NaN</td>\n",
       "      <td>NaN</td>\n",
       "      <td>NaN</td>\n",
       "      <td>NaN</td>\n",
       "      <td>NaN</td>\n",
       "      <td>2019-05-03 11:40:20</td>\n",
       "      <td>NaN</td>\n",
       "      <td>2019-05-03 11:40:20</td>\n",
       "      <td>2019-05-03 11:40:20</td>\n",
       "    </tr>\n",
       "    <tr>\n",
       "      <th>2</th>\n",
       "      <td>3</td>\n",
       "      <td>NaN</td>\n",
       "      <td>NaN</td>\n",
       "      <td>NaN</td>\n",
       "      <td>2019-05-03 12:31:06</td>\n",
       "      <td>NaN</td>\n",
       "      <td>NaN</td>\n",
       "      <td>NaN</td>\n",
       "      <td>NaN</td>\n",
       "      <td>NaN</td>\n",
       "      <td>NaN</td>\n",
       "      <td>NaN</td>\n",
       "      <td>2019-05-03 12:09:40</td>\n",
       "      <td>NaN</td>\n",
       "      <td>2019-05-03 12:09:40</td>\n",
       "      <td>2019-05-03 12:09:40</td>\n",
       "    </tr>\n",
       "    <tr>\n",
       "      <th>3</th>\n",
       "      <td>4</td>\n",
       "      <td>NaN</td>\n",
       "      <td>NaN</td>\n",
       "      <td>NaN</td>\n",
       "      <td>2019-05-03 12:48:43</td>\n",
       "      <td>NaN</td>\n",
       "      <td>NaN</td>\n",
       "      <td>NaN</td>\n",
       "      <td>NaN</td>\n",
       "      <td>NaN</td>\n",
       "      <td>NaN</td>\n",
       "      <td>NaN</td>\n",
       "      <td>2019-05-03 12:41:24</td>\n",
       "      <td>NaN</td>\n",
       "      <td>2019-05-03 12:41:24</td>\n",
       "      <td>2019-05-03 12:41:24</td>\n",
       "    </tr>\n",
       "    <tr>\n",
       "      <th>4</th>\n",
       "      <td>5</td>\n",
       "      <td>NaN</td>\n",
       "      <td>NaN</td>\n",
       "      <td>NaN</td>\n",
       "      <td>2019-05-03 13:18:50</td>\n",
       "      <td>NaN</td>\n",
       "      <td>NaN</td>\n",
       "      <td>NaN</td>\n",
       "      <td>NaN</td>\n",
       "      <td>NaN</td>\n",
       "      <td>NaN</td>\n",
       "      <td>NaN</td>\n",
       "      <td>2019-05-03 13:12:56</td>\n",
       "      <td>NaN</td>\n",
       "      <td>2019-05-03 13:12:56</td>\n",
       "      <td>2019-05-03 13:12:56</td>\n",
       "    </tr>\n",
       "  </tbody>\n",
       "</table>\n",
       "</div>"
      ],
      "text/plain": [
       "   key Bulk 1 Bulk 2 Bulk 3               Bulk 4 Bulk 5 Bulk 6 Bulk 7 Bulk 8  \\\n",
       "0    1    NaN    NaN    NaN  2019-05-03 11:21:30    NaN    NaN    NaN    NaN   \n",
       "1    2    NaN    NaN    NaN  2019-05-03 11:46:38    NaN    NaN    NaN    NaN   \n",
       "2    3    NaN    NaN    NaN  2019-05-03 12:31:06    NaN    NaN    NaN    NaN   \n",
       "3    4    NaN    NaN    NaN  2019-05-03 12:48:43    NaN    NaN    NaN    NaN   \n",
       "4    5    NaN    NaN    NaN  2019-05-03 13:18:50    NaN    NaN    NaN    NaN   \n",
       "\n",
       "  Bulk 9 Bulk 10 Bulk 11              Bulk 12 Bulk 13              Bulk 14  \\\n",
       "0    NaN     NaN     NaN  2019-05-03 11:03:52     NaN  2019-05-03 11:03:52   \n",
       "1    NaN     NaN     NaN  2019-05-03 11:40:20     NaN  2019-05-03 11:40:20   \n",
       "2    NaN     NaN     NaN  2019-05-03 12:09:40     NaN  2019-05-03 12:09:40   \n",
       "3    NaN     NaN     NaN  2019-05-03 12:41:24     NaN  2019-05-03 12:41:24   \n",
       "4    NaN     NaN     NaN  2019-05-03 13:12:56     NaN  2019-05-03 13:12:56   \n",
       "\n",
       "               Bulk 15  \n",
       "0  2019-05-03 11:03:52  \n",
       "1  2019-05-03 11:40:20  \n",
       "2  2019-05-03 12:09:40  \n",
       "3  2019-05-03 12:41:24  \n",
       "4  2019-05-03 13:12:56  "
      ]
     },
     "execution_count": 43,
     "metadata": {},
     "output_type": "execute_result"
    }
   ],
   "source": [
    "bulk_time.head()"
   ]
  },
  {
   "cell_type": "markdown",
   "id": "cf0d6f53",
   "metadata": {},
   "source": [
    "Данные в таблице bulk_time содержат время внесения сыпучих материалов. Так как в нашей задаче анализ будет идти по номеру партии то эта информация не будет использоваться в обучении."
   ]
  },
  {
   "cell_type": "markdown",
   "id": "b611f693",
   "metadata": {},
   "source": [
    "### gas (газ)"
   ]
  },
  {
   "cell_type": "code",
   "execution_count": 44,
   "id": "d24e5c71",
   "metadata": {
    "scrolled": false
   },
   "outputs": [
    {
     "name": "stdout",
     "output_type": "stream",
     "text": [
      "<class 'pandas.core.frame.DataFrame'>\n",
      "RangeIndex: 3239 entries, 0 to 3238\n",
      "Data columns (total 2 columns):\n",
      " #   Column  Non-Null Count  Dtype  \n",
      "---  ------  --------------  -----  \n",
      " 0   key     3239 non-null   int64  \n",
      " 1   Газ 1   3239 non-null   float64\n",
      "dtypes: float64(1), int64(1)\n",
      "memory usage: 50.7 KB\n"
     ]
    }
   ],
   "source": [
    "gas.info()"
   ]
  },
  {
   "cell_type": "code",
   "execution_count": 45,
   "id": "21295a8e",
   "metadata": {
    "scrolled": true
   },
   "outputs": [
    {
     "data": {
      "text/html": [
       "<div>\n",
       "<style scoped>\n",
       "    .dataframe tbody tr th:only-of-type {\n",
       "        vertical-align: middle;\n",
       "    }\n",
       "\n",
       "    .dataframe tbody tr th {\n",
       "        vertical-align: top;\n",
       "    }\n",
       "\n",
       "    .dataframe thead th {\n",
       "        text-align: right;\n",
       "    }\n",
       "</style>\n",
       "<table border=\"1\" class=\"dataframe\">\n",
       "  <thead>\n",
       "    <tr style=\"text-align: right;\">\n",
       "      <th></th>\n",
       "      <th>key</th>\n",
       "      <th>Газ 1</th>\n",
       "    </tr>\n",
       "  </thead>\n",
       "  <tbody>\n",
       "    <tr>\n",
       "      <th>0</th>\n",
       "      <td>1</td>\n",
       "      <td>29.749986</td>\n",
       "    </tr>\n",
       "    <tr>\n",
       "      <th>1</th>\n",
       "      <td>2</td>\n",
       "      <td>12.555561</td>\n",
       "    </tr>\n",
       "    <tr>\n",
       "      <th>2</th>\n",
       "      <td>3</td>\n",
       "      <td>28.554793</td>\n",
       "    </tr>\n",
       "    <tr>\n",
       "      <th>3</th>\n",
       "      <td>4</td>\n",
       "      <td>18.841219</td>\n",
       "    </tr>\n",
       "    <tr>\n",
       "      <th>4</th>\n",
       "      <td>5</td>\n",
       "      <td>5.413692</td>\n",
       "    </tr>\n",
       "  </tbody>\n",
       "</table>\n",
       "</div>"
      ],
      "text/plain": [
       "   key      Газ 1\n",
       "0    1  29.749986\n",
       "1    2  12.555561\n",
       "2    3  28.554793\n",
       "3    4  18.841219\n",
       "4    5   5.413692"
      ]
     },
     "metadata": {},
     "output_type": "display_data"
    }
   ],
   "source": [
    "display(gas.head())"
   ]
  },
  {
   "cell_type": "markdown",
   "id": "c7a2202e",
   "metadata": {},
   "source": [
    "В таблице газ 3239 значений. Пустых значений нет."
   ]
  },
  {
   "cell_type": "code",
   "execution_count": 46,
   "id": "88d97fde",
   "metadata": {},
   "outputs": [
    {
     "data": {
      "text/plain": [
       "0"
      ]
     },
     "execution_count": 46,
     "metadata": {},
     "output_type": "execute_result"
    }
   ],
   "source": [
    "gas.duplicated().sum()"
   ]
  },
  {
   "cell_type": "markdown",
   "id": "c4d3b246",
   "metadata": {},
   "source": [
    "Дубликатов нет."
   ]
  },
  {
   "cell_type": "markdown",
   "id": "7f911b10",
   "metadata": {},
   "source": [
    "Посмотрим график, гистограмму, диаграмму размаха и расчитаем статистические характеристики."
   ]
  },
  {
   "cell_type": "code",
   "execution_count": 47,
   "id": "54ec5dd9",
   "metadata": {},
   "outputs": [
    {
     "data": {
      "image/png": "[encoded data removed]",
      "text/plain": [
       "<Figure size 432x288 with 1 Axes>"
      ]
     },
     "metadata": {
      "needs_background": "light"
     },
     "output_type": "display_data"
    }
   ],
   "source": [
    "gas['Газ 1'].plot();"
   ]
  },
  {
   "cell_type": "code",
   "execution_count": 48,
   "id": "6f173c5b",
   "metadata": {},
   "outputs": [
    {
     "data": {
      "text/plain": [
       "count    3239.000000\n",
       "mean       11.002062\n",
       "std         6.220327\n",
       "min         0.008399\n",
       "25%         7.043089\n",
       "50%         9.836267\n",
       "75%        13.769915\n",
       "max        77.995040\n",
       "Name: Газ 1, dtype: float64"
      ]
     },
     "execution_count": 48,
     "metadata": {},
     "output_type": "execute_result"
    }
   ],
   "source": [
    "gas['Газ 1'].describe()"
   ]
  },
  {
   "cell_type": "code",
   "execution_count": 49,
   "id": "ec176bfa",
   "metadata": {
    "scrolled": true
   },
   "outputs": [
    {
     "data": {
      "image/png": "[encoded data removed]",
      "text/plain": [
       "<Figure size 432x288 with 1 Axes>"
      ]
     },
     "metadata": {
      "needs_background": "light"
     },
     "output_type": "display_data"
    }
   ],
   "source": [
    "gas['Газ 1'].hist(bins=100);"
   ]
  },
  {
   "cell_type": "code",
   "execution_count": 50,
   "id": "576181cd",
   "metadata": {
    "scrolled": false
   },
   "outputs": [
    {
     "data": {
      "text/plain": [
       "<AxesSubplot:>"
      ]
     },
     "execution_count": 50,
     "metadata": {},
     "output_type": "execute_result"
    },
    {
     "data": {
      "image/png": "[encoded data removed]",
      "text/plain": [
       "<Figure size 432x288 with 1 Axes>"
      ]
     },
     "metadata": {
      "needs_background": "light"
     },
     "output_type": "display_data"
    }
   ],
   "source": [
    "gas.boxplot(column='Газ 1')"
   ]
  },
  {
   "cell_type": "markdown",
   "id": "f58236c3",
   "metadata": {},
   "source": [
    "Каких либо аномалий на гистограмме не обнаружено. Есть много выбросов превышающих 1,5 межквартильных размаха. Выбросы находятся в пределах технологических параметров и по согласованию с заказчиком не удаляются."
   ]
  },
  {
   "cell_type": "markdown",
   "id": "c1dd933b",
   "metadata": {},
   "source": [
    "### temp (температура)"
   ]
  },
  {
   "cell_type": "code",
   "execution_count": 51,
   "id": "8e99383b",
   "metadata": {
    "scrolled": false
   },
   "outputs": [
    {
     "name": "stdout",
     "output_type": "stream",
     "text": [
      "<class 'pandas.core.frame.DataFrame'>\n",
      "RangeIndex: 15907 entries, 0 to 15906\n",
      "Data columns (total 3 columns):\n",
      " #   Column        Non-Null Count  Dtype  \n",
      "---  ------        --------------  -----  \n",
      " 0   key           15907 non-null  int64  \n",
      " 1   Время замера  15907 non-null  object \n",
      " 2   Температура   13006 non-null  float64\n",
      "dtypes: float64(1), int64(1), object(1)\n",
      "memory usage: 372.9+ KB\n"
     ]
    }
   ],
   "source": [
    "temp.info()"
   ]
  },
  {
   "cell_type": "code",
   "execution_count": 52,
   "id": "dabdbe1f",
   "metadata": {},
   "outputs": [
    {
     "data": {
      "text/html": [
       "<div>\n",
       "<style scoped>\n",
       "    .dataframe tbody tr th:only-of-type {\n",
       "        vertical-align: middle;\n",
       "    }\n",
       "\n",
       "    .dataframe tbody tr th {\n",
       "        vertical-align: top;\n",
       "    }\n",
       "\n",
       "    .dataframe thead th {\n",
       "        text-align: right;\n",
       "    }\n",
       "</style>\n",
       "<table border=\"1\" class=\"dataframe\">\n",
       "  <thead>\n",
       "    <tr style=\"text-align: right;\">\n",
       "      <th></th>\n",
       "      <th>key</th>\n",
       "      <th>Время замера</th>\n",
       "      <th>Температура</th>\n",
       "    </tr>\n",
       "  </thead>\n",
       "  <tbody>\n",
       "    <tr>\n",
       "      <th>0</th>\n",
       "      <td>1</td>\n",
       "      <td>2019-05-03 11:16:18</td>\n",
       "      <td>1571.0</td>\n",
       "    </tr>\n",
       "    <tr>\n",
       "      <th>1</th>\n",
       "      <td>1</td>\n",
       "      <td>2019-05-03 11:25:53</td>\n",
       "      <td>1604.0</td>\n",
       "    </tr>\n",
       "    <tr>\n",
       "      <th>2</th>\n",
       "      <td>1</td>\n",
       "      <td>2019-05-03 11:29:11</td>\n",
       "      <td>1618.0</td>\n",
       "    </tr>\n",
       "    <tr>\n",
       "      <th>3</th>\n",
       "      <td>1</td>\n",
       "      <td>2019-05-03 11:30:01</td>\n",
       "      <td>1601.0</td>\n",
       "    </tr>\n",
       "    <tr>\n",
       "      <th>4</th>\n",
       "      <td>1</td>\n",
       "      <td>2019-05-03 11:30:39</td>\n",
       "      <td>1613.0</td>\n",
       "    </tr>\n",
       "  </tbody>\n",
       "</table>\n",
       "</div>"
      ],
      "text/plain": [
       "   key         Время замера  Температура\n",
       "0    1  2019-05-03 11:16:18       1571.0\n",
       "1    1  2019-05-03 11:25:53       1604.0\n",
       "2    1  2019-05-03 11:29:11       1618.0\n",
       "3    1  2019-05-03 11:30:01       1601.0\n",
       "4    1  2019-05-03 11:30:39       1613.0"
      ]
     },
     "execution_count": 52,
     "metadata": {},
     "output_type": "execute_result"
    }
   ],
   "source": [
    "temp.head()"
   ]
  },
  {
   "cell_type": "code",
   "execution_count": 53,
   "id": "1b015aa2",
   "metadata": {},
   "outputs": [
    {
     "data": {
      "text/plain": [
       "0"
      ]
     },
     "execution_count": 53,
     "metadata": {},
     "output_type": "execute_result"
    }
   ],
   "source": [
    "temp.duplicated().sum()"
   ]
  },
  {
   "cell_type": "markdown",
   "id": "31727795",
   "metadata": {},
   "source": [
    "Дубликатов нет."
   ]
  },
  {
   "cell_type": "code",
   "execution_count": 54,
   "id": "30fa5eab",
   "metadata": {
    "scrolled": true
   },
   "outputs": [
    {
     "data": {
      "text/plain": [
       "key                0\n",
       "Время замера       0\n",
       "Температура     2901\n",
       "dtype: int64"
      ]
     },
     "execution_count": 54,
     "metadata": {},
     "output_type": "execute_result"
    }
   ],
   "source": [
    "temp.isna().sum()"
   ]
  },
  {
   "cell_type": "markdown",
   "id": "fbe519cc",
   "metadata": {},
   "source": [
    "В значениях температуры 2901 пустое значение. "
   ]
  },
  {
   "cell_type": "markdown",
   "id": "e18dc170",
   "metadata": {},
   "source": [
    "Создадим series содержащий партии с пустыми значениями температуры."
   ]
  },
  {
   "cell_type": "code",
   "execution_count": 55,
   "id": "969c9392",
   "metadata": {
    "scrolled": true
   },
   "outputs": [
    {
     "data": {
      "text/plain": [
       "2567    12\n",
       "2770    12\n",
       "2916    11\n",
       "2564    11\n",
       "2684    10\n",
       "        ..\n",
       "3156     1\n",
       "2695     1\n",
       "3197     1\n",
       "2907     1\n",
       "2863     1\n",
       "Name: key, Length: 739, dtype: int64"
      ]
     },
     "metadata": {},
     "output_type": "display_data"
    }
   ],
   "source": [
    "key_temp_isna = temp[temp['Температура'].isna()]['key'].value_counts()\n",
    "display(key_temp_isna)"
   ]
  },
  {
   "cell_type": "markdown",
   "id": "a0e5e74c",
   "metadata": {},
   "source": [
    "Партий с пустыми значениями температуры 739. Индекс в данной series является номерами партий с пустыми значения. Данные с этими номерами нужно удалить из таблицы temp."
   ]
  },
  {
   "cell_type": "markdown",
   "id": "b70f2bda",
   "metadata": {},
   "source": [
    "Для этого получим список партий с пустыми значениями температуры."
   ]
  },
  {
   "cell_type": "code",
   "execution_count": 56,
   "id": "e93b3dfc",
   "metadata": {},
   "outputs": [
    {
     "data": {
      "text/plain": [
       "[2567,\n",
       " 2770,\n",
       " 2916,\n",
       " 2564,\n",
       " 2684,\n",
       " 2926,\n",
       " 2829,\n",
       " 2562,\n",
       " 2563,\n",
       " 2850,\n",
       " 2565,\n",
       " 2570,\n",
       " 2799,\n",
       " 3172,\n",
       " 2855,\n",
       " 2936,\n",
       " 2901,\n",
       " 2556,\n",
       " 2742,\n",
       " 3134,\n",
       " 2804,\n",
       " 2858,\n",
       " 3080,\n",
       " 2785,\n",
       " 2732,\n",
       " 2830,\n",
       " 3077,\n",
       " 2971,\n",
       " 2836,\n",
       " 3008,\n",
       " 2631,\n",
       " 2944,\n",
       " 2654,\n",
       " 3111,\n",
       " 2797,\n",
       " 2525,\n",
       " 2653,\n",
       " 2582,\n",
       " 2639,\n",
       " 3073,\n",
       " 2720,\n",
       " 2649,\n",
       " 3012,\n",
       " 3011,\n",
       " 2946,\n",
       " 2917,\n",
       " 3216,\n",
       " 3030,\n",
       " 3240,\n",
       " 2806,\n",
       " 2687,\n",
       " 3239,\n",
       " 2859,\n",
       " 3112,\n",
       " 2860,\n",
       " 2517,\n",
       " 2506,\n",
       " 3057,\n",
       " 2633,\n",
       " 2902,\n",
       " 2643,\n",
       " 2632,\n",
       " 3169,\n",
       " 2725,\n",
       " 2622,\n",
       " 2606,\n",
       " 3154,\n",
       " 2912,\n",
       " 2727,\n",
       " 2915,\n",
       " 2641,\n",
       " 2846,\n",
       " 2832,\n",
       " 3100,\n",
       " 2847,\n",
       " 3052,\n",
       " 2821,\n",
       " 2820,\n",
       " 2854,\n",
       " 2688,\n",
       " 2837,\n",
       " 3114,\n",
       " 2861,\n",
       " 2817,\n",
       " 2722,\n",
       " 3142,\n",
       " 3144,\n",
       " 3013,\n",
       " 3096,\n",
       " 2657,\n",
       " 2656,\n",
       " 2887,\n",
       " 3151,\n",
       " 2714,\n",
       " 3053,\n",
       " 2906,\n",
       " 2828,\n",
       " 3075,\n",
       " 3201,\n",
       " 2949,\n",
       " 2566,\n",
       " 2537,\n",
       " 2568,\n",
       " 2934,\n",
       " 2579,\n",
       " 2931,\n",
       " 2793,\n",
       " 2765,\n",
       " 2526,\n",
       " 2780,\n",
       " 2930,\n",
       " 2922,\n",
       " 2502,\n",
       " 2508,\n",
       " 2511,\n",
       " 2825,\n",
       " 2539,\n",
       " 2958,\n",
       " 2533,\n",
       " 2956,\n",
       " 2685,\n",
       " 2951,\n",
       " 3126,\n",
       " 2507,\n",
       " 2538,\n",
       " 2784,\n",
       " 2950,\n",
       " 2675,\n",
       " 2728,\n",
       " 2674,\n",
       " 2865,\n",
       " 2818,\n",
       " 3022,\n",
       " 3138,\n",
       " 2542,\n",
       " 3218,\n",
       " 2948,\n",
       " 2739,\n",
       " 2976,\n",
       " 2715,\n",
       " 2524,\n",
       " 2972,\n",
       " 2713,\n",
       " 2514,\n",
       " 2788,\n",
       " 3108,\n",
       " 2718,\n",
       " 2708,\n",
       " 3067,\n",
       " 2704,\n",
       " 3037,\n",
       " 2719,\n",
       " 3079,\n",
       " 3118,\n",
       " 2823,\n",
       " 2721,\n",
       " 2528,\n",
       " 2947,\n",
       " 2510,\n",
       " 2509,\n",
       " 3225,\n",
       " 2693,\n",
       " 2692,\n",
       " 3213,\n",
       " 3086,\n",
       " 2796,\n",
       " 2896,\n",
       " 3091,\n",
       " 2808,\n",
       " 2624,\n",
       " 2623,\n",
       " 3162,\n",
       " 3183,\n",
       " 3002,\n",
       " 2618,\n",
       " 2617,\n",
       " 3001,\n",
       " 3166,\n",
       " 2613,\n",
       " 3167,\n",
       " 3089,\n",
       " 3168,\n",
       " 2608,\n",
       " 2801,\n",
       " 2925,\n",
       " 3170,\n",
       " 2910,\n",
       " 2762,\n",
       " 3173,\n",
       " 2761,\n",
       " 2803,\n",
       " 2598,\n",
       " 3145,\n",
       " 3157,\n",
       " 2647,\n",
       " 3072,\n",
       " 2560,\n",
       " 3055,\n",
       " 2942,\n",
       " 2561,\n",
       " 2648,\n",
       " 2990,\n",
       " 2932,\n",
       " 2569,\n",
       " 3010,\n",
       " 2993,\n",
       " 3203,\n",
       " 3205,\n",
       " 2994,\n",
       " 2812,\n",
       " 2660,\n",
       " 2574,\n",
       " 2766,\n",
       " 2747,\n",
       " 2635,\n",
       " 2634,\n",
       " 2919,\n",
       " 3150,\n",
       " 2798,\n",
       " 2795,\n",
       " 2819,\n",
       " 3061,\n",
       " 2826,\n",
       " 2789,\n",
       " 3069,\n",
       " 2800,\n",
       " 2810,\n",
       " 2822,\n",
       " 3054,\n",
       " 3241,\n",
       " 3048,\n",
       " 2957,\n",
       " 2921,\n",
       " 2924,\n",
       " 2927,\n",
       " 2928,\n",
       " 2929,\n",
       " 2933,\n",
       " 2995,\n",
       " 2992,\n",
       " 2991,\n",
       " 2941,\n",
       " 2989,\n",
       " 2983,\n",
       " 2918,\n",
       " 2981,\n",
       " 2961,\n",
       " 2979,\n",
       " 2964,\n",
       " 2965,\n",
       " 2966,\n",
       " 2968,\n",
       " 2969,\n",
       " 2970,\n",
       " 2977,\n",
       " 2974,\n",
       " 2920,\n",
       " 2913,\n",
       " 3038,\n",
       " 2880,\n",
       " 2843,\n",
       " 2849,\n",
       " 3034,\n",
       " 2852,\n",
       " 2853,\n",
       " 2856,\n",
       " 2857,\n",
       " 3032,\n",
       " 2501,\n",
       " 2877,\n",
       " 2879,\n",
       " 3016,\n",
       " 2911,\n",
       " 3015,\n",
       " 2883,\n",
       " 2885,\n",
       " 2886,\n",
       " 2892,\n",
       " 2894,\n",
       " 2895,\n",
       " 3006,\n",
       " 2899,\n",
       " 2999,\n",
       " 2909,\n",
       " 3009,\n",
       " 2738,\n",
       " 3143,\n",
       " 2616,\n",
       " 2636,\n",
       " 3155,\n",
       " 3158,\n",
       " 3160,\n",
       " 3163,\n",
       " 2619,\n",
       " 2614,\n",
       " 2638,\n",
       " 2611,\n",
       " 2610,\n",
       " 2604,\n",
       " 3175,\n",
       " 2597,\n",
       " 2596,\n",
       " 2637,\n",
       " 2640,\n",
       " 2689,\n",
       " 3074,\n",
       " 2678,\n",
       " 3135,\n",
       " 2673,\n",
       " 3139,\n",
       " 3140,\n",
       " 3141,\n",
       " 3147,\n",
       " 2642,\n",
       " 2661,\n",
       " 2659,\n",
       " 2658,\n",
       " 3149,\n",
       " 2651,\n",
       " 2646,\n",
       " 2594,\n",
       " 2593,\n",
       " 3177,\n",
       " 3229,\n",
       " 2536,\n",
       " 3220,\n",
       " 3221,\n",
       " 3222,\n",
       " 3226,\n",
       " 3227,\n",
       " 3230,\n",
       " 3180,\n",
       " 2520,\n",
       " 3232,\n",
       " 3235,\n",
       " 2515,\n",
       " 3237,\n",
       " 2505,\n",
       " 2541,\n",
       " 2544,\n",
       " 2547,\n",
       " 3210,\n",
       " 3202,\n",
       " 2554,\n",
       " 2557,\n",
       " 3198,\n",
       " 3193,\n",
       " 2576,\n",
       " 2583,\n",
       " 3184,\n",
       " 2586,\n",
       " 2587,\n",
       " 3182,\n",
       " 2589,\n",
       " 3181,\n",
       " 2686,\n",
       " 2975,\n",
       " 2749,\n",
       " 3120,\n",
       " 2723,\n",
       " 2764,\n",
       " 2701,\n",
       " 2702,\n",
       " 2763,\n",
       " 2703,\n",
       " 3116,\n",
       " 2706,\n",
       " 3105,\n",
       " 2730,\n",
       " 2751,\n",
       " 2760,\n",
       " 3107,\n",
       " 2726,\n",
       " 2724,\n",
       " 2716,\n",
       " 2755,\n",
       " 2698,\n",
       " 3119,\n",
       " 3098,\n",
       " 3078,\n",
       " 3076,\n",
       " 2778,\n",
       " 2691,\n",
       " 2771,\n",
       " 2774,\n",
       " 2740,\n",
       " 2694,\n",
       " 2741,\n",
       " 2775,\n",
       " 3097,\n",
       " 3104,\n",
       " 3099,\n",
       " 3094,\n",
       " 3196,\n",
       " 3092,\n",
       " 3192,\n",
       " 3194,\n",
       " 3191,\n",
       " 3185,\n",
       " 3188,\n",
       " 3189,\n",
       " 3190,\n",
       " 3059,\n",
       " 3125,\n",
       " 3090,\n",
       " 3204,\n",
       " 3236,\n",
       " 3068,\n",
       " 3233,\n",
       " 2978,\n",
       " 3066,\n",
       " 3231,\n",
       " 2980,\n",
       " 3081,\n",
       " 3083,\n",
       " 3223,\n",
       " 3084,\n",
       " 2984,\n",
       " 2985,\n",
       " 2986,\n",
       " 2987,\n",
       " 3056,\n",
       " 3219,\n",
       " 3087,\n",
       " 3062,\n",
       " 3088,\n",
       " 3208,\n",
       " 3064,\n",
       " 3176,\n",
       " 2996,\n",
       " 3023,\n",
       " 3152,\n",
       " 3036,\n",
       " 3035,\n",
       " 3017,\n",
       " 3121,\n",
       " 3019,\n",
       " 3020,\n",
       " 3021,\n",
       " 3137,\n",
       " 3024,\n",
       " 3101,\n",
       " 3136,\n",
       " 3026,\n",
       " 3027,\n",
       " 3028,\n",
       " 3029,\n",
       " 3122,\n",
       " 3031,\n",
       " 3132,\n",
       " 3130,\n",
       " 3153,\n",
       " 3040,\n",
       " 3041,\n",
       " 3042,\n",
       " 3102,\n",
       " 3103,\n",
       " 3127,\n",
       " 3106,\n",
       " 2998,\n",
       " 3174,\n",
       " 3171,\n",
       " 3051,\n",
       " 3000,\n",
       " 3050,\n",
       " 3003,\n",
       " 3049,\n",
       " 3004,\n",
       " 3159,\n",
       " 3005,\n",
       " 3045,\n",
       " 3110,\n",
       " 3115,\n",
       " 3043,\n",
       " 3070,\n",
       " 2500,\n",
       " 2973,\n",
       " 2705,\n",
       " 2737,\n",
       " 2736,\n",
       " 2733,\n",
       " 2731,\n",
       " 2967,\n",
       " 2712,\n",
       " 2710,\n",
       " 2707,\n",
       " 2700,\n",
       " 2807,\n",
       " 2699,\n",
       " 2690,\n",
       " 2682,\n",
       " 2681,\n",
       " 2676,\n",
       " 2672,\n",
       " 2671,\n",
       " 2670,\n",
       " 2744,\n",
       " 2745,\n",
       " 2746,\n",
       " 2748,\n",
       " 2802,\n",
       " 2794,\n",
       " 2792,\n",
       " 2787,\n",
       " 2786,\n",
       " 2782,\n",
       " 2781,\n",
       " 2779,\n",
       " 2776,\n",
       " 2773,\n",
       " 2769,\n",
       " 2768,\n",
       " 2759,\n",
       " 2758,\n",
       " 2757,\n",
       " 2756,\n",
       " 2754,\n",
       " 2664,\n",
       " 2663,\n",
       " 2662,\n",
       " 2555,\n",
       " 2549,\n",
       " 2548,\n",
       " 2545,\n",
       " 2543,\n",
       " 2540,\n",
       " 2535,\n",
       " 2534,\n",
       " 2532,\n",
       " 2531,\n",
       " 2530,\n",
       " 2529,\n",
       " 2523,\n",
       " 2519,\n",
       " 2518,\n",
       " 2516,\n",
       " 2513,\n",
       " 2503,\n",
       " 2553,\n",
       " 2571,\n",
       " 2652,\n",
       " 2572,\n",
       " 2645,\n",
       " 2644,\n",
       " 2630,\n",
       " 2627,\n",
       " 2626,\n",
       " 2625,\n",
       " 2615,\n",
       " 2612,\n",
       " 2607,\n",
       " 2605,\n",
       " 2603,\n",
       " 2595,\n",
       " 2592,\n",
       " 2585,\n",
       " 2584,\n",
       " 2580,\n",
       " 2575,\n",
       " 2805,\n",
       " 2717,\n",
       " 2870,\n",
       " 2952,\n",
       " 2943,\n",
       " 2839,\n",
       " 2840,\n",
       " 2844,\n",
       " 2845,\n",
       " 2848,\n",
       " 2935,\n",
       " 2851,\n",
       " 2884,\n",
       " 2923,\n",
       " 2867,\n",
       " 2905,\n",
       " 2869,\n",
       " 2871,\n",
       " 2872,\n",
       " 2900,\n",
       " 2898,\n",
       " 2875,\n",
       " 2893,\n",
       " 2890,\n",
       " 2878,\n",
       " 2881,\n",
       " 2882,\n",
       " 2945,\n",
       " 2888,\n",
       " 2959,\n",
       " 2963,\n",
       " 2827,\n",
       " 2813,\n",
       " 2962,\n",
       " 2814,\n",
       " 2833,\n",
       " 2960,\n",
       " 2834,\n",
       " 2811,\n",
       " 2955,\n",
       " 2809,\n",
       " 2816,\n",
       " 2954,\n",
       " 2815,\n",
       " 2835,\n",
       " 2590,\n",
       " 2591,\n",
       " 2601,\n",
       " 3179,\n",
       " 3178,\n",
       " 2588,\n",
       " 2599,\n",
       " 2600,\n",
       " 2953,\n",
       " 2602,\n",
       " 2897,\n",
       " 2512,\n",
       " 2904,\n",
       " 3007,\n",
       " 3238,\n",
       " 2609,\n",
       " 2891,\n",
       " 2504,\n",
       " 3164,\n",
       " 2621,\n",
       " 3161,\n",
       " 2889,\n",
       " 2903,\n",
       " 2578,\n",
       " 2581,\n",
       " 3206,\n",
       " 2988,\n",
       " 2527,\n",
       " 2939,\n",
       " 3228,\n",
       " 3217,\n",
       " 2938,\n",
       " 2546,\n",
       " 3211,\n",
       " 2937,\n",
       " 3209,\n",
       " 2522,\n",
       " 2521,\n",
       " 2551,\n",
       " 3186,\n",
       " 2552,\n",
       " 2982,\n",
       " 2997,\n",
       " 3199,\n",
       " 2558,\n",
       " 2559,\n",
       " 2914,\n",
       " 3234,\n",
       " 2908,\n",
       " 2573,\n",
       " 2577,\n",
       " 3224,\n",
       " 2550,\n",
       " 3060,\n",
       " 2628,\n",
       " 2735,\n",
       " 2750,\n",
       " 3095,\n",
       " 2841,\n",
       " 3039,\n",
       " 2743,\n",
       " 2842,\n",
       " 2734,\n",
       " 2697,\n",
       " 2729,\n",
       " 2711,\n",
       " 3113,\n",
       " 2709,\n",
       " 2864,\n",
       " 3117,\n",
       " 2752,\n",
       " 2753,\n",
       " 2838,\n",
       " 3044,\n",
       " 3085,\n",
       " 2767,\n",
       " 3082,\n",
       " 2772,\n",
       " 2831,\n",
       " 2777,\n",
       " 2824,\n",
       " 2783,\n",
       " 3071,\n",
       " 2790,\n",
       " 2791,\n",
       " 3058,\n",
       " 3065,\n",
       " 2866,\n",
       " 2650,\n",
       " 2696,\n",
       " 3025,\n",
       " 2669,\n",
       " 2874,\n",
       " 2873,\n",
       " 2677,\n",
       " 2667,\n",
       " 3133,\n",
       " 2679,\n",
       " 3131,\n",
       " 2666,\n",
       " 2680,\n",
       " 3128,\n",
       " 3146,\n",
       " 2868,\n",
       " 3018,\n",
       " 3148,\n",
       " 2655,\n",
       " 3124,\n",
       " 3123,\n",
       " 3063,\n",
       " 3014,\n",
       " 2629,\n",
       " 2668,\n",
       " 3046,\n",
       " 2876,\n",
       " 2665,\n",
       " 3165,\n",
       " 3047,\n",
       " 2620,\n",
       " 2940,\n",
       " 3093,\n",
       " 3195,\n",
       " 3215,\n",
       " 3214,\n",
       " 3212,\n",
       " 3129,\n",
       " 3109,\n",
       " 3033,\n",
       " 3187,\n",
       " 2862,\n",
       " 3156,\n",
       " 2695,\n",
       " 3197,\n",
       " 2907,\n",
       " 2863]"
      ]
     },
     "execution_count": 56,
     "metadata": {},
     "output_type": "execute_result"
    }
   ],
   "source": [
    "key_temp_isna_list = key_temp_isna.index.tolist()\n",
    "key_temp_isna_list"
   ]
  },
  {
   "cell_type": "markdown",
   "id": "eb9154b9",
   "metadata": {},
   "source": [
    "Удаление партий с пустыми значениями в температуре. "
   ]
  },
  {
   "cell_type": "code",
   "execution_count": 57,
   "id": "cf2c73a1",
   "metadata": {},
   "outputs": [
    {
     "data": {
      "text/html": [
       "<div>\n",
       "<style scoped>\n",
       "    .dataframe tbody tr th:only-of-type {\n",
       "        vertical-align: middle;\n",
       "    }\n",
       "\n",
       "    .dataframe tbody tr th {\n",
       "        vertical-align: top;\n",
       "    }\n",
       "\n",
       "    .dataframe thead th {\n",
       "        text-align: right;\n",
       "    }\n",
       "</style>\n",
       "<table border=\"1\" class=\"dataframe\">\n",
       "  <thead>\n",
       "    <tr style=\"text-align: right;\">\n",
       "      <th></th>\n",
       "      <th>key</th>\n",
       "      <th>Время замера</th>\n",
       "      <th>Температура</th>\n",
       "    </tr>\n",
       "  </thead>\n",
       "  <tbody>\n",
       "    <tr>\n",
       "      <th>12267</th>\n",
       "      <td>2500</td>\n",
       "      <td>2019-08-06 03:11:31</td>\n",
       "      <td>1539.0</td>\n",
       "    </tr>\n",
       "    <tr>\n",
       "      <th>12268</th>\n",
       "      <td>2500</td>\n",
       "      <td>2019-08-06 03:24:43</td>\n",
       "      <td>NaN</td>\n",
       "    </tr>\n",
       "    <tr>\n",
       "      <th>12269</th>\n",
       "      <td>2500</td>\n",
       "      <td>2019-08-06 03:25:16</td>\n",
       "      <td>NaN</td>\n",
       "    </tr>\n",
       "    <tr>\n",
       "      <th>12270</th>\n",
       "      <td>2500</td>\n",
       "      <td>2019-08-06 03:28:21</td>\n",
       "      <td>NaN</td>\n",
       "    </tr>\n",
       "    <tr>\n",
       "      <th>12271</th>\n",
       "      <td>2501</td>\n",
       "      <td>2019-08-06 03:44:42</td>\n",
       "      <td>1587.0</td>\n",
       "    </tr>\n",
       "    <tr>\n",
       "      <th>...</th>\n",
       "      <td>...</td>\n",
       "      <td>...</td>\n",
       "      <td>...</td>\n",
       "    </tr>\n",
       "    <tr>\n",
       "      <th>15902</th>\n",
       "      <td>3241</td>\n",
       "      <td>2019-09-01 04:03:30</td>\n",
       "      <td>1586.0</td>\n",
       "    </tr>\n",
       "    <tr>\n",
       "      <th>15903</th>\n",
       "      <td>3241</td>\n",
       "      <td>2019-09-01 04:16:12</td>\n",
       "      <td>NaN</td>\n",
       "    </tr>\n",
       "    <tr>\n",
       "      <th>15904</th>\n",
       "      <td>3241</td>\n",
       "      <td>2019-09-01 04:22:39</td>\n",
       "      <td>NaN</td>\n",
       "    </tr>\n",
       "    <tr>\n",
       "      <th>15905</th>\n",
       "      <td>3241</td>\n",
       "      <td>2019-09-01 04:33:42</td>\n",
       "      <td>NaN</td>\n",
       "    </tr>\n",
       "    <tr>\n",
       "      <th>15906</th>\n",
       "      <td>3241</td>\n",
       "      <td>2019-09-01 04:38:08</td>\n",
       "      <td>NaN</td>\n",
       "    </tr>\n",
       "  </tbody>\n",
       "</table>\n",
       "<p>3640 rows × 3 columns</p>\n",
       "</div>"
      ],
      "text/plain": [
       "        key         Время замера  Температура\n",
       "12267  2500  2019-08-06 03:11:31       1539.0\n",
       "12268  2500  2019-08-06 03:24:43          NaN\n",
       "12269  2500  2019-08-06 03:25:16          NaN\n",
       "12270  2500  2019-08-06 03:28:21          NaN\n",
       "12271  2501  2019-08-06 03:44:42       1587.0\n",
       "...     ...                  ...          ...\n",
       "15902  3241  2019-09-01 04:03:30       1586.0\n",
       "15903  3241  2019-09-01 04:16:12          NaN\n",
       "15904  3241  2019-09-01 04:22:39          NaN\n",
       "15905  3241  2019-09-01 04:33:42          NaN\n",
       "15906  3241  2019-09-01 04:38:08          NaN\n",
       "\n",
       "[3640 rows x 3 columns]"
      ]
     },
     "execution_count": 57,
     "metadata": {},
     "output_type": "execute_result"
    }
   ],
   "source": [
    "temp[temp['key'].isin(key_temp_isna_list)]"
   ]
  },
  {
   "cell_type": "code",
   "execution_count": 58,
   "id": "4fb37300",
   "metadata": {},
   "outputs": [
    {
     "data": {
      "text/plain": [
       "Int64Index([12267, 12268, 12269, 12270, 12271, 12272, 12273, 12274, 12275,\n",
       "            12276,\n",
       "            ...\n",
       "            15897, 15898, 15899, 15900, 15901, 15902, 15903, 15904, 15905,\n",
       "            15906],\n",
       "           dtype='int64', length=3640)"
      ]
     },
     "execution_count": 58,
     "metadata": {},
     "output_type": "execute_result"
    }
   ],
   "source": [
    "temp[temp['key'].isin(key_temp_isna_list)].index"
   ]
  },
  {
   "cell_type": "code",
   "execution_count": 59,
   "id": "8955f737",
   "metadata": {},
   "outputs": [],
   "source": [
    "temp = temp.drop(index=temp[temp['key'].isin(key_temp_isna_list)].index)"
   ]
  },
  {
   "cell_type": "markdown",
   "id": "c6766732",
   "metadata": {},
   "source": [
    "Проверка правильности удаления."
   ]
  },
  {
   "cell_type": "code",
   "execution_count": 60,
   "id": "ada6702e",
   "metadata": {
    "scrolled": true
   },
   "outputs": [
    {
     "data": {
      "text/html": [
       "<div>\n",
       "<style scoped>\n",
       "    .dataframe tbody tr th:only-of-type {\n",
       "        vertical-align: middle;\n",
       "    }\n",
       "\n",
       "    .dataframe tbody tr th {\n",
       "        vertical-align: top;\n",
       "    }\n",
       "\n",
       "    .dataframe thead th {\n",
       "        text-align: right;\n",
       "    }\n",
       "</style>\n",
       "<table border=\"1\" class=\"dataframe\">\n",
       "  <thead>\n",
       "    <tr style=\"text-align: right;\">\n",
       "      <th></th>\n",
       "      <th>key</th>\n",
       "      <th>Время замера</th>\n",
       "      <th>Температура</th>\n",
       "    </tr>\n",
       "  </thead>\n",
       "  <tbody>\n",
       "  </tbody>\n",
       "</table>\n",
       "</div>"
      ],
      "text/plain": [
       "Empty DataFrame\n",
       "Columns: [key, Время замера, Температура]\n",
       "Index: []"
      ]
     },
     "execution_count": 60,
     "metadata": {},
     "output_type": "execute_result"
    }
   ],
   "source": [
    "temp[temp['key'].isin(key_temp_isna_list)]"
   ]
  },
  {
   "cell_type": "markdown",
   "id": "f44d7303",
   "metadata": {},
   "source": [
    "Перейдём к анализу данных температуры. Построим график, гистограмму, диаграмму размаха и рассчитаем статистические характеристики."
   ]
  },
  {
   "cell_type": "code",
   "execution_count": 61,
   "id": "dd55339a",
   "metadata": {
    "scrolled": false
   },
   "outputs": [
    {
     "data": {
      "image/png": "[encoded data removed]",
      "text/plain": [
       "<Figure size 432x288 with 1 Axes>"
      ]
     },
     "metadata": {
      "needs_background": "light"
     },
     "output_type": "display_data"
    }
   ],
   "source": [
    "temp['Температура'].plot();"
   ]
  },
  {
   "cell_type": "code",
   "execution_count": 62,
   "id": "621ed2ba",
   "metadata": {
    "scrolled": true
   },
   "outputs": [
    {
     "data": {
      "image/png": "[encoded data removed]",
      "text/plain": [
       "<Figure size 432x288 with 1 Axes>"
      ]
     },
     "metadata": {
      "needs_background": "light"
     },
     "output_type": "display_data"
    }
   ],
   "source": [
    "temp['Температура'].hist(bins=200);"
   ]
  },
  {
   "cell_type": "code",
   "execution_count": 63,
   "id": "e8bd2a47",
   "metadata": {
    "scrolled": true
   },
   "outputs": [
    {
     "data": {
      "image/png": "[encoded data removed]",
      "text/plain": [
       "<Figure size 432x288 with 1 Axes>"
      ]
     },
     "metadata": {
      "needs_background": "light"
     },
     "output_type": "display_data"
    }
   ],
   "source": [
    "temp.boxplot(column='Температура');"
   ]
  },
  {
   "cell_type": "markdown",
   "id": "09cb54fa",
   "metadata": {},
   "source": [
    "Из графика и диаграммы размаха температуры видны выбросы с значениями меньше 1400 градусов. По согласованию с заказчиком эти выбросы нужно удалить. Для машинного обучения нужно удалить полностью значения партий содержащих такие выбросы по температуре."
   ]
  },
  {
   "cell_type": "markdown",
   "id": "3ea5c14f",
   "metadata": {},
   "source": [
    "Найдем строки содержащие выбросы температуры меньше 1400 градусов."
   ]
  },
  {
   "cell_type": "code",
   "execution_count": 64,
   "id": "ddf3f448",
   "metadata": {},
   "outputs": [
    {
     "data": {
      "text/html": [
       "<div>\n",
       "<style scoped>\n",
       "    .dataframe tbody tr th:only-of-type {\n",
       "        vertical-align: middle;\n",
       "    }\n",
       "\n",
       "    .dataframe tbody tr th {\n",
       "        vertical-align: top;\n",
       "    }\n",
       "\n",
       "    .dataframe thead th {\n",
       "        text-align: right;\n",
       "    }\n",
       "</style>\n",
       "<table border=\"1\" class=\"dataframe\">\n",
       "  <thead>\n",
       "    <tr style=\"text-align: right;\">\n",
       "      <th></th>\n",
       "      <th>key</th>\n",
       "      <th>Время замера</th>\n",
       "      <th>Температура</th>\n",
       "    </tr>\n",
       "  </thead>\n",
       "  <tbody>\n",
       "    <tr>\n",
       "      <th>4350</th>\n",
       "      <td>867</td>\n",
       "      <td>2019-06-04 14:21:00</td>\n",
       "      <td>1191.0</td>\n",
       "    </tr>\n",
       "    <tr>\n",
       "      <th>5978</th>\n",
       "      <td>1214</td>\n",
       "      <td>2019-06-16 05:32:00</td>\n",
       "      <td>1208.0</td>\n",
       "    </tr>\n",
       "    <tr>\n",
       "      <th>7958</th>\n",
       "      <td>1619</td>\n",
       "      <td>2019-06-30 11:03:54</td>\n",
       "      <td>1218.0</td>\n",
       "    </tr>\n",
       "    <tr>\n",
       "      <th>8913</th>\n",
       "      <td>1818</td>\n",
       "      <td>2019-07-07 00:30:49</td>\n",
       "      <td>1383.0</td>\n",
       "    </tr>\n",
       "    <tr>\n",
       "      <th>8914</th>\n",
       "      <td>1818</td>\n",
       "      <td>2019-07-07 00:31:40</td>\n",
       "      <td>1383.0</td>\n",
       "    </tr>\n",
       "    <tr>\n",
       "      <th>10127</th>\n",
       "      <td>2052</td>\n",
       "      <td>2019-07-21 14:51:40</td>\n",
       "      <td>1227.0</td>\n",
       "    </tr>\n",
       "  </tbody>\n",
       "</table>\n",
       "</div>"
      ],
      "text/plain": [
       "        key         Время замера  Температура\n",
       "4350    867  2019-06-04 14:21:00       1191.0\n",
       "5978   1214  2019-06-16 05:32:00       1208.0\n",
       "7958   1619  2019-06-30 11:03:54       1218.0\n",
       "8913   1818  2019-07-07 00:30:49       1383.0\n",
       "8914   1818  2019-07-07 00:31:40       1383.0\n",
       "10127  2052  2019-07-21 14:51:40       1227.0"
      ]
     },
     "execution_count": 64,
     "metadata": {},
     "output_type": "execute_result"
    }
   ],
   "source": [
    "temp[temp['Температура'] < 1400]"
   ]
  },
  {
   "cell_type": "markdown",
   "id": "a7274051",
   "metadata": {},
   "source": [
    "Для удаления партий с аномальными значениями температуры создадим список этих номеров партий."
   ]
  },
  {
   "cell_type": "code",
   "execution_count": 65,
   "id": "52d9c141",
   "metadata": {},
   "outputs": [
    {
     "name": "stdout",
     "output_type": "stream",
     "text": [
      "[867, 1214, 1619, 1818, 1818, 2052]\n"
     ]
    }
   ],
   "source": [
    "temp_anomalies_key = temp[temp['Температура'] < 1400]['key'].tolist()\n",
    "print(temp_anomalies_key)"
   ]
  },
  {
   "cell_type": "code",
   "execution_count": 66,
   "id": "d0e017c3",
   "metadata": {
    "scrolled": true
   },
   "outputs": [
    {
     "data": {
      "text/html": [
       "<div>\n",
       "<style scoped>\n",
       "    .dataframe tbody tr th:only-of-type {\n",
       "        vertical-align: middle;\n",
       "    }\n",
       "\n",
       "    .dataframe tbody tr th {\n",
       "        vertical-align: top;\n",
       "    }\n",
       "\n",
       "    .dataframe thead th {\n",
       "        text-align: right;\n",
       "    }\n",
       "</style>\n",
       "<table border=\"1\" class=\"dataframe\">\n",
       "  <thead>\n",
       "    <tr style=\"text-align: right;\">\n",
       "      <th></th>\n",
       "      <th>key</th>\n",
       "      <th>Время замера</th>\n",
       "      <th>Температура</th>\n",
       "    </tr>\n",
       "  </thead>\n",
       "  <tbody>\n",
       "    <tr>\n",
       "      <th>4350</th>\n",
       "      <td>867</td>\n",
       "      <td>2019-06-04 14:21:00</td>\n",
       "      <td>1191.0</td>\n",
       "    </tr>\n",
       "    <tr>\n",
       "      <th>4351</th>\n",
       "      <td>867</td>\n",
       "      <td>2019-06-04 14:29:35</td>\n",
       "      <td>1575.0</td>\n",
       "    </tr>\n",
       "    <tr>\n",
       "      <th>4352</th>\n",
       "      <td>867</td>\n",
       "      <td>2019-06-04 14:30:29</td>\n",
       "      <td>1576.0</td>\n",
       "    </tr>\n",
       "    <tr>\n",
       "      <th>4353</th>\n",
       "      <td>867</td>\n",
       "      <td>2019-06-04 14:43:10</td>\n",
       "      <td>1571.0</td>\n",
       "    </tr>\n",
       "    <tr>\n",
       "      <th>4354</th>\n",
       "      <td>867</td>\n",
       "      <td>2019-06-04 14:52:54</td>\n",
       "      <td>1600.0</td>\n",
       "    </tr>\n",
       "    <tr>\n",
       "      <th>4355</th>\n",
       "      <td>867</td>\n",
       "      <td>2019-06-04 14:57:17</td>\n",
       "      <td>1599.0</td>\n",
       "    </tr>\n",
       "    <tr>\n",
       "      <th>5978</th>\n",
       "      <td>1214</td>\n",
       "      <td>2019-06-16 05:32:00</td>\n",
       "      <td>1208.0</td>\n",
       "    </tr>\n",
       "    <tr>\n",
       "      <th>5979</th>\n",
       "      <td>1214</td>\n",
       "      <td>2019-06-16 05:49:01</td>\n",
       "      <td>1608.0</td>\n",
       "    </tr>\n",
       "    <tr>\n",
       "      <th>5980</th>\n",
       "      <td>1214</td>\n",
       "      <td>2019-06-16 05:51:28</td>\n",
       "      <td>1608.0</td>\n",
       "    </tr>\n",
       "    <tr>\n",
       "      <th>5981</th>\n",
       "      <td>1214</td>\n",
       "      <td>2019-06-16 05:51:38</td>\n",
       "      <td>1608.0</td>\n",
       "    </tr>\n",
       "    <tr>\n",
       "      <th>5982</th>\n",
       "      <td>1214</td>\n",
       "      <td>2019-06-16 05:52:41</td>\n",
       "      <td>1608.0</td>\n",
       "    </tr>\n",
       "    <tr>\n",
       "      <th>5983</th>\n",
       "      <td>1214</td>\n",
       "      <td>2019-06-16 05:53:03</td>\n",
       "      <td>1608.0</td>\n",
       "    </tr>\n",
       "    <tr>\n",
       "      <th>5984</th>\n",
       "      <td>1214</td>\n",
       "      <td>2019-06-16 05:53:13</td>\n",
       "      <td>1608.0</td>\n",
       "    </tr>\n",
       "    <tr>\n",
       "      <th>5985</th>\n",
       "      <td>1214</td>\n",
       "      <td>2019-06-16 05:54:48</td>\n",
       "      <td>1604.0</td>\n",
       "    </tr>\n",
       "    <tr>\n",
       "      <th>5986</th>\n",
       "      <td>1214</td>\n",
       "      <td>2019-06-16 05:57:21</td>\n",
       "      <td>1604.0</td>\n",
       "    </tr>\n",
       "    <tr>\n",
       "      <th>5987</th>\n",
       "      <td>1214</td>\n",
       "      <td>2019-06-16 06:00:25</td>\n",
       "      <td>1604.0</td>\n",
       "    </tr>\n",
       "    <tr>\n",
       "      <th>5988</th>\n",
       "      <td>1214</td>\n",
       "      <td>2019-06-16 06:06:12</td>\n",
       "      <td>1600.0</td>\n",
       "    </tr>\n",
       "    <tr>\n",
       "      <th>5989</th>\n",
       "      <td>1214</td>\n",
       "      <td>2019-06-16 06:07:28</td>\n",
       "      <td>1596.0</td>\n",
       "    </tr>\n",
       "    <tr>\n",
       "      <th>5990</th>\n",
       "      <td>1214</td>\n",
       "      <td>2019-06-16 06:08:28</td>\n",
       "      <td>1596.0</td>\n",
       "    </tr>\n",
       "    <tr>\n",
       "      <th>5991</th>\n",
       "      <td>1214</td>\n",
       "      <td>2019-06-16 06:09:10</td>\n",
       "      <td>1603.0</td>\n",
       "    </tr>\n",
       "    <tr>\n",
       "      <th>5992</th>\n",
       "      <td>1214</td>\n",
       "      <td>2019-06-16 06:12:25</td>\n",
       "      <td>1591.0</td>\n",
       "    </tr>\n",
       "    <tr>\n",
       "      <th>5993</th>\n",
       "      <td>1214</td>\n",
       "      <td>2019-06-16 06:14:45</td>\n",
       "      <td>1591.0</td>\n",
       "    </tr>\n",
       "    <tr>\n",
       "      <th>7958</th>\n",
       "      <td>1619</td>\n",
       "      <td>2019-06-30 11:03:54</td>\n",
       "      <td>1218.0</td>\n",
       "    </tr>\n",
       "    <tr>\n",
       "      <th>7959</th>\n",
       "      <td>1619</td>\n",
       "      <td>2019-06-30 11:04:39</td>\n",
       "      <td>1623.0</td>\n",
       "    </tr>\n",
       "    <tr>\n",
       "      <th>7960</th>\n",
       "      <td>1619</td>\n",
       "      <td>2019-06-30 11:10:01</td>\n",
       "      <td>1611.0</td>\n",
       "    </tr>\n",
       "    <tr>\n",
       "      <th>7961</th>\n",
       "      <td>1619</td>\n",
       "      <td>2019-06-30 11:16:03</td>\n",
       "      <td>1603.0</td>\n",
       "    </tr>\n",
       "    <tr>\n",
       "      <th>7962</th>\n",
       "      <td>1619</td>\n",
       "      <td>2019-06-30 11:21:54</td>\n",
       "      <td>1590.0</td>\n",
       "    </tr>\n",
       "    <tr>\n",
       "      <th>8907</th>\n",
       "      <td>1818</td>\n",
       "      <td>2019-07-07 00:00:14</td>\n",
       "      <td>1627.0</td>\n",
       "    </tr>\n",
       "    <tr>\n",
       "      <th>8908</th>\n",
       "      <td>1818</td>\n",
       "      <td>2019-07-07 00:13:02</td>\n",
       "      <td>1650.0</td>\n",
       "    </tr>\n",
       "    <tr>\n",
       "      <th>8909</th>\n",
       "      <td>1818</td>\n",
       "      <td>2019-07-07 00:25:28</td>\n",
       "      <td>1650.0</td>\n",
       "    </tr>\n",
       "    <tr>\n",
       "      <th>8910</th>\n",
       "      <td>1818</td>\n",
       "      <td>2019-07-07 00:26:03</td>\n",
       "      <td>1650.0</td>\n",
       "    </tr>\n",
       "    <tr>\n",
       "      <th>8911</th>\n",
       "      <td>1818</td>\n",
       "      <td>2019-07-07 00:26:42</td>\n",
       "      <td>1650.0</td>\n",
       "    </tr>\n",
       "    <tr>\n",
       "      <th>8912</th>\n",
       "      <td>1818</td>\n",
       "      <td>2019-07-07 00:27:23</td>\n",
       "      <td>1663.0</td>\n",
       "    </tr>\n",
       "    <tr>\n",
       "      <th>8913</th>\n",
       "      <td>1818</td>\n",
       "      <td>2019-07-07 00:30:49</td>\n",
       "      <td>1383.0</td>\n",
       "    </tr>\n",
       "    <tr>\n",
       "      <th>8914</th>\n",
       "      <td>1818</td>\n",
       "      <td>2019-07-07 00:31:40</td>\n",
       "      <td>1383.0</td>\n",
       "    </tr>\n",
       "    <tr>\n",
       "      <th>8915</th>\n",
       "      <td>1818</td>\n",
       "      <td>2019-07-07 00:32:55</td>\n",
       "      <td>1680.0</td>\n",
       "    </tr>\n",
       "    <tr>\n",
       "      <th>8916</th>\n",
       "      <td>1818</td>\n",
       "      <td>2019-07-07 00:36:11</td>\n",
       "      <td>1667.0</td>\n",
       "    </tr>\n",
       "    <tr>\n",
       "      <th>8917</th>\n",
       "      <td>1818</td>\n",
       "      <td>2019-07-07 00:36:45</td>\n",
       "      <td>1667.0</td>\n",
       "    </tr>\n",
       "    <tr>\n",
       "      <th>8918</th>\n",
       "      <td>1818</td>\n",
       "      <td>2019-07-07 00:38:50</td>\n",
       "      <td>1671.0</td>\n",
       "    </tr>\n",
       "    <tr>\n",
       "      <th>10127</th>\n",
       "      <td>2052</td>\n",
       "      <td>2019-07-21 14:51:40</td>\n",
       "      <td>1227.0</td>\n",
       "    </tr>\n",
       "    <tr>\n",
       "      <th>10128</th>\n",
       "      <td>2052</td>\n",
       "      <td>2019-07-21 14:52:21</td>\n",
       "      <td>1592.0</td>\n",
       "    </tr>\n",
       "    <tr>\n",
       "      <th>10129</th>\n",
       "      <td>2052</td>\n",
       "      <td>2019-07-21 15:06:31</td>\n",
       "      <td>1590.0</td>\n",
       "    </tr>\n",
       "    <tr>\n",
       "      <th>10130</th>\n",
       "      <td>2052</td>\n",
       "      <td>2019-07-21 15:15:24</td>\n",
       "      <td>1591.0</td>\n",
       "    </tr>\n",
       "    <tr>\n",
       "      <th>10131</th>\n",
       "      <td>2052</td>\n",
       "      <td>2019-07-21 15:24:06</td>\n",
       "      <td>1592.0</td>\n",
       "    </tr>\n",
       "  </tbody>\n",
       "</table>\n",
       "</div>"
      ],
      "text/plain": [
       "        key         Время замера  Температура\n",
       "4350    867  2019-06-04 14:21:00       1191.0\n",
       "4351    867  2019-06-04 14:29:35       1575.0\n",
       "4352    867  2019-06-04 14:30:29       1576.0\n",
       "4353    867  2019-06-04 14:43:10       1571.0\n",
       "4354    867  2019-06-04 14:52:54       1600.0\n",
       "4355    867  2019-06-04 14:57:17       1599.0\n",
       "5978   1214  2019-06-16 05:32:00       1208.0\n",
       "5979   1214  2019-06-16 05:49:01       1608.0\n",
       "5980   1214  2019-06-16 05:51:28       1608.0\n",
       "5981   1214  2019-06-16 05:51:38       1608.0\n",
       "5982   1214  2019-06-16 05:52:41       1608.0\n",
       "5983   1214  2019-06-16 05:53:03       1608.0\n",
       "5984   1214  2019-06-16 05:53:13       1608.0\n",
       "5985   1214  2019-06-16 05:54:48       1604.0\n",
       "5986   1214  2019-06-16 05:57:21       1604.0\n",
       "5987   1214  2019-06-16 06:00:25       1604.0\n",
       "5988   1214  2019-06-16 06:06:12       1600.0\n",
       "5989   1214  2019-06-16 06:07:28       1596.0\n",
       "5990   1214  2019-06-16 06:08:28       1596.0\n",
       "5991   1214  2019-06-16 06:09:10       1603.0\n",
       "5992   1214  2019-06-16 06:12:25       1591.0\n",
       "5993   1214  2019-06-16 06:14:45       1591.0\n",
       "7958   1619  2019-06-30 11:03:54       1218.0\n",
       "7959   1619  2019-06-30 11:04:39       1623.0\n",
       "7960   1619  2019-06-30 11:10:01       1611.0\n",
       "7961   1619  2019-06-30 11:16:03       1603.0\n",
       "7962   1619  2019-06-30 11:21:54       1590.0\n",
       "8907   1818  2019-07-07 00:00:14       1627.0\n",
       "8908   1818  2019-07-07 00:13:02       1650.0\n",
       "8909   1818  2019-07-07 00:25:28       1650.0\n",
       "8910   1818  2019-07-07 00:26:03       1650.0\n",
       "8911   1818  2019-07-07 00:26:42       1650.0\n",
       "8912   1818  2019-07-07 00:27:23       1663.0\n",
       "8913   1818  2019-07-07 00:30:49       1383.0\n",
       "8914   1818  2019-07-07 00:31:40       1383.0\n",
       "8915   1818  2019-07-07 00:32:55       1680.0\n",
       "8916   1818  2019-07-07 00:36:11       1667.0\n",
       "8917   1818  2019-07-07 00:36:45       1667.0\n",
       "8918   1818  2019-07-07 00:38:50       1671.0\n",
       "10127  2052  2019-07-21 14:51:40       1227.0\n",
       "10128  2052  2019-07-21 14:52:21       1592.0\n",
       "10129  2052  2019-07-21 15:06:31       1590.0\n",
       "10130  2052  2019-07-21 15:15:24       1591.0\n",
       "10131  2052  2019-07-21 15:24:06       1592.0"
      ]
     },
     "execution_count": 66,
     "metadata": {},
     "output_type": "execute_result"
    }
   ],
   "source": [
    "temp[temp['key'].isin(temp_anomalies_key)]"
   ]
  },
  {
   "cell_type": "markdown",
   "id": "e97fb272",
   "metadata": {},
   "source": [
    "Удаление партий с аномальными значениями температуры."
   ]
  },
  {
   "cell_type": "code",
   "execution_count": 67,
   "id": "11daee63",
   "metadata": {},
   "outputs": [],
   "source": [
    "temp = temp.drop(index=temp[temp['key'].isin(temp_anomalies_key)].index)"
   ]
  },
  {
   "cell_type": "markdown",
   "id": "30a39a11",
   "metadata": {},
   "source": [
    "Проверка правильности удаления."
   ]
  },
  {
   "cell_type": "code",
   "execution_count": 68,
   "id": "fa2b2e0f",
   "metadata": {
    "scrolled": true
   },
   "outputs": [
    {
     "data": {
      "text/html": [
       "<div>\n",
       "<style scoped>\n",
       "    .dataframe tbody tr th:only-of-type {\n",
       "        vertical-align: middle;\n",
       "    }\n",
       "\n",
       "    .dataframe tbody tr th {\n",
       "        vertical-align: top;\n",
       "    }\n",
       "\n",
       "    .dataframe thead th {\n",
       "        text-align: right;\n",
       "    }\n",
       "</style>\n",
       "<table border=\"1\" class=\"dataframe\">\n",
       "  <thead>\n",
       "    <tr style=\"text-align: right;\">\n",
       "      <th></th>\n",
       "      <th>key</th>\n",
       "      <th>Время замера</th>\n",
       "      <th>Температура</th>\n",
       "    </tr>\n",
       "  </thead>\n",
       "  <tbody>\n",
       "  </tbody>\n",
       "</table>\n",
       "</div>"
      ],
      "text/plain": [
       "Empty DataFrame\n",
       "Columns: [key, Время замера, Температура]\n",
       "Index: []"
      ]
     },
     "execution_count": 68,
     "metadata": {},
     "output_type": "execute_result"
    }
   ],
   "source": [
    "temp[temp['key'].isin(temp_anomalies_key)]"
   ]
  },
  {
   "cell_type": "markdown",
   "id": "d459c33d",
   "metadata": {},
   "source": [
    "Посмотрим количество измерений температуры для каждой партии стали."
   ]
  },
  {
   "cell_type": "code",
   "execution_count": 69,
   "id": "f8e84f7c",
   "metadata": {},
   "outputs": [
    {
     "name": "stdout",
     "output_type": "stream",
     "text": [
      "1513    16\n",
      "46      16\n",
      "44      16\n",
      "1689    15\n",
      "2108    15\n",
      "        ..\n",
      "568      2\n",
      "1590     2\n",
      "977      2\n",
      "195      1\n",
      "279      1\n",
      "Name: key, Length: 2472, dtype: int64\n"
     ]
    }
   ],
   "source": [
    "temp_key_counts = temp['key'].value_counts()\n",
    "print(temp_key_counts)"
   ]
  },
  {
   "cell_type": "markdown",
   "id": "576e8f99",
   "metadata": {},
   "source": [
    "Количество измерений температуры в партии изменяется от 1 до 16. Есть партии стали всего с 1 измерением температуры. Заказчик сообщил, что такие партии являются аномальными и не подходят для машинного обучения, так как для предсказания нужно учитывать температуру вначале цикла партии. Таким образом по согласованию с заказчиком необходимо удалить партии с одним значением температуры."
   ]
  },
  {
   "cell_type": "markdown",
   "id": "c6df7e98",
   "metadata": {},
   "source": [
    "Получение списка номеров партий с одним измерением температуры."
   ]
  },
  {
   "cell_type": "code",
   "execution_count": 70,
   "id": "42c879b3",
   "metadata": {
    "scrolled": false
   },
   "outputs": [
    {
     "name": "stdout",
     "output_type": "stream",
     "text": [
      "[195, 279]\n"
     ]
    }
   ],
   "source": [
    "temp_key_anomalies = temp_key_counts.loc[temp_key_counts == 1].index.tolist()\n",
    "print(temp_key_anomalies)"
   ]
  },
  {
   "cell_type": "markdown",
   "id": "10f9a9c0",
   "metadata": {},
   "source": [
    "Просмотр строк с одним измерением температуры."
   ]
  },
  {
   "cell_type": "code",
   "execution_count": 71,
   "id": "8c17b8c4",
   "metadata": {},
   "outputs": [
    {
     "data": {
      "text/html": [
       "<div>\n",
       "<style scoped>\n",
       "    .dataframe tbody tr th:only-of-type {\n",
       "        vertical-align: middle;\n",
       "    }\n",
       "\n",
       "    .dataframe tbody tr th {\n",
       "        vertical-align: top;\n",
       "    }\n",
       "\n",
       "    .dataframe thead th {\n",
       "        text-align: right;\n",
       "    }\n",
       "</style>\n",
       "<table border=\"1\" class=\"dataframe\">\n",
       "  <thead>\n",
       "    <tr style=\"text-align: right;\">\n",
       "      <th></th>\n",
       "      <th>key</th>\n",
       "      <th>Время замера</th>\n",
       "      <th>Температура</th>\n",
       "    </tr>\n",
       "  </thead>\n",
       "  <tbody>\n",
       "    <tr>\n",
       "      <th>1100</th>\n",
       "      <td>195</td>\n",
       "      <td>2019-05-10 14:10:23</td>\n",
       "      <td>1583.0</td>\n",
       "    </tr>\n",
       "    <tr>\n",
       "      <th>1554</th>\n",
       "      <td>279</td>\n",
       "      <td>2019-05-13 23:07:28</td>\n",
       "      <td>1603.0</td>\n",
       "    </tr>\n",
       "  </tbody>\n",
       "</table>\n",
       "</div>"
      ],
      "text/plain": [
       "      key         Время замера  Температура\n",
       "1100  195  2019-05-10 14:10:23       1583.0\n",
       "1554  279  2019-05-13 23:07:28       1603.0"
      ]
     },
     "execution_count": 71,
     "metadata": {},
     "output_type": "execute_result"
    }
   ],
   "source": [
    "temp[temp['key'].isin(temp_key_anomalies)]"
   ]
  },
  {
   "cell_type": "markdown",
   "id": "f78d16b1",
   "metadata": {},
   "source": [
    "Удаление партий с одним измерением температуры."
   ]
  },
  {
   "cell_type": "code",
   "execution_count": 72,
   "id": "5d12e7b8",
   "metadata": {},
   "outputs": [],
   "source": [
    "temp = temp.drop(index=temp[temp['key'].isin(temp_key_anomalies)].index)"
   ]
  },
  {
   "cell_type": "markdown",
   "id": "da8dbe14",
   "metadata": {},
   "source": [
    "Проверка удаления."
   ]
  },
  {
   "cell_type": "code",
   "execution_count": 73,
   "id": "d800189c",
   "metadata": {
    "scrolled": false
   },
   "outputs": [
    {
     "data": {
      "text/html": [
       "<div>\n",
       "<style scoped>\n",
       "    .dataframe tbody tr th:only-of-type {\n",
       "        vertical-align: middle;\n",
       "    }\n",
       "\n",
       "    .dataframe tbody tr th {\n",
       "        vertical-align: top;\n",
       "    }\n",
       "\n",
       "    .dataframe thead th {\n",
       "        text-align: right;\n",
       "    }\n",
       "</style>\n",
       "<table border=\"1\" class=\"dataframe\">\n",
       "  <thead>\n",
       "    <tr style=\"text-align: right;\">\n",
       "      <th></th>\n",
       "      <th>key</th>\n",
       "      <th>Время замера</th>\n",
       "      <th>Температура</th>\n",
       "    </tr>\n",
       "  </thead>\n",
       "  <tbody>\n",
       "  </tbody>\n",
       "</table>\n",
       "</div>"
      ],
      "text/plain": [
       "Empty DataFrame\n",
       "Columns: [key, Время замера, Температура]\n",
       "Index: []"
      ]
     },
     "execution_count": 73,
     "metadata": {},
     "output_type": "execute_result"
    }
   ],
   "source": [
    "temp[temp['key'].isin(temp_key_anomalies)]"
   ]
  },
  {
   "cell_type": "markdown",
   "id": "465c1df2",
   "metadata": {},
   "source": [
    "### wire (проволочные материалы)"
   ]
  },
  {
   "cell_type": "code",
   "execution_count": 74,
   "id": "b1f71bd4",
   "metadata": {},
   "outputs": [
    {
     "name": "stdout",
     "output_type": "stream",
     "text": [
      "<class 'pandas.core.frame.DataFrame'>\n",
      "RangeIndex: 3081 entries, 0 to 3080\n",
      "Data columns (total 10 columns):\n",
      " #   Column  Non-Null Count  Dtype  \n",
      "---  ------  --------------  -----  \n",
      " 0   key     3081 non-null   int64  \n",
      " 1   Wire 1  3055 non-null   float64\n",
      " 2   Wire 2  1079 non-null   float64\n",
      " 3   Wire 3  63 non-null     float64\n",
      " 4   Wire 4  14 non-null     float64\n",
      " 5   Wire 5  1 non-null      float64\n",
      " 6   Wire 6  73 non-null     float64\n",
      " 7   Wire 7  11 non-null     float64\n",
      " 8   Wire 8  19 non-null     float64\n",
      " 9   Wire 9  29 non-null     float64\n",
      "dtypes: float64(9), int64(1)\n",
      "memory usage: 240.8 KB\n"
     ]
    }
   ],
   "source": [
    "wire.info()"
   ]
  },
  {
   "cell_type": "code",
   "execution_count": 75,
   "id": "5976957b",
   "metadata": {
    "scrolled": true
   },
   "outputs": [
    {
     "data": {
      "text/html": [
       "<div>\n",
       "<style scoped>\n",
       "    .dataframe tbody tr th:only-of-type {\n",
       "        vertical-align: middle;\n",
       "    }\n",
       "\n",
       "    .dataframe tbody tr th {\n",
       "        vertical-align: top;\n",
       "    }\n",
       "\n",
       "    .dataframe thead th {\n",
       "        text-align: right;\n",
       "    }\n",
       "</style>\n",
       "<table border=\"1\" class=\"dataframe\">\n",
       "  <thead>\n",
       "    <tr style=\"text-align: right;\">\n",
       "      <th></th>\n",
       "      <th>key</th>\n",
       "      <th>Wire 1</th>\n",
       "      <th>Wire 2</th>\n",
       "      <th>Wire 3</th>\n",
       "      <th>Wire 4</th>\n",
       "      <th>Wire 5</th>\n",
       "      <th>Wire 6</th>\n",
       "      <th>Wire 7</th>\n",
       "      <th>Wire 8</th>\n",
       "      <th>Wire 9</th>\n",
       "    </tr>\n",
       "  </thead>\n",
       "  <tbody>\n",
       "    <tr>\n",
       "      <th>0</th>\n",
       "      <td>1</td>\n",
       "      <td>60.059998</td>\n",
       "      <td>NaN</td>\n",
       "      <td>NaN</td>\n",
       "      <td>NaN</td>\n",
       "      <td>NaN</td>\n",
       "      <td>NaN</td>\n",
       "      <td>NaN</td>\n",
       "      <td>NaN</td>\n",
       "      <td>NaN</td>\n",
       "    </tr>\n",
       "    <tr>\n",
       "      <th>1</th>\n",
       "      <td>2</td>\n",
       "      <td>96.052315</td>\n",
       "      <td>NaN</td>\n",
       "      <td>NaN</td>\n",
       "      <td>NaN</td>\n",
       "      <td>NaN</td>\n",
       "      <td>NaN</td>\n",
       "      <td>NaN</td>\n",
       "      <td>NaN</td>\n",
       "      <td>NaN</td>\n",
       "    </tr>\n",
       "    <tr>\n",
       "      <th>2</th>\n",
       "      <td>3</td>\n",
       "      <td>91.160157</td>\n",
       "      <td>NaN</td>\n",
       "      <td>NaN</td>\n",
       "      <td>NaN</td>\n",
       "      <td>NaN</td>\n",
       "      <td>NaN</td>\n",
       "      <td>NaN</td>\n",
       "      <td>NaN</td>\n",
       "      <td>NaN</td>\n",
       "    </tr>\n",
       "    <tr>\n",
       "      <th>3</th>\n",
       "      <td>4</td>\n",
       "      <td>89.063515</td>\n",
       "      <td>NaN</td>\n",
       "      <td>NaN</td>\n",
       "      <td>NaN</td>\n",
       "      <td>NaN</td>\n",
       "      <td>NaN</td>\n",
       "      <td>NaN</td>\n",
       "      <td>NaN</td>\n",
       "      <td>NaN</td>\n",
       "    </tr>\n",
       "    <tr>\n",
       "      <th>4</th>\n",
       "      <td>5</td>\n",
       "      <td>89.238236</td>\n",
       "      <td>9.11456</td>\n",
       "      <td>NaN</td>\n",
       "      <td>NaN</td>\n",
       "      <td>NaN</td>\n",
       "      <td>NaN</td>\n",
       "      <td>NaN</td>\n",
       "      <td>NaN</td>\n",
       "      <td>NaN</td>\n",
       "    </tr>\n",
       "  </tbody>\n",
       "</table>\n",
       "</div>"
      ],
      "text/plain": [
       "   key     Wire 1   Wire 2  Wire 3  Wire 4  Wire 5  Wire 6  Wire 7  Wire 8  \\\n",
       "0    1  60.059998      NaN     NaN     NaN     NaN     NaN     NaN     NaN   \n",
       "1    2  96.052315      NaN     NaN     NaN     NaN     NaN     NaN     NaN   \n",
       "2    3  91.160157      NaN     NaN     NaN     NaN     NaN     NaN     NaN   \n",
       "3    4  89.063515      NaN     NaN     NaN     NaN     NaN     NaN     NaN   \n",
       "4    5  89.238236  9.11456     NaN     NaN     NaN     NaN     NaN     NaN   \n",
       "\n",
       "   Wire 9  \n",
       "0     NaN  \n",
       "1     NaN  \n",
       "2     NaN  \n",
       "3     NaN  \n",
       "4     NaN  "
      ]
     },
     "execution_count": 75,
     "metadata": {},
     "output_type": "execute_result"
    }
   ],
   "source": [
    "wire.head()"
   ]
  },
  {
   "cell_type": "markdown",
   "id": "b4bf5eff",
   "metadata": {},
   "source": [
    "В данных присуствует 9 типов проволочных материалов. В данных есть аномалия, один из материалов Wire 5 имеет всего одно значение. На 1 значении невозможно проводить машинное обучение, поэтому удалим строки с номером партии содержащим 1 значение в Wire 5."
   ]
  },
  {
   "cell_type": "code",
   "execution_count": 76,
   "id": "b295f813",
   "metadata": {
    "scrolled": true
   },
   "outputs": [
    {
     "data": {
      "text/html": [
       "<div>\n",
       "<style scoped>\n",
       "    .dataframe tbody tr th:only-of-type {\n",
       "        vertical-align: middle;\n",
       "    }\n",
       "\n",
       "    .dataframe tbody tr th {\n",
       "        vertical-align: top;\n",
       "    }\n",
       "\n",
       "    .dataframe thead th {\n",
       "        text-align: right;\n",
       "    }\n",
       "</style>\n",
       "<table border=\"1\" class=\"dataframe\">\n",
       "  <thead>\n",
       "    <tr style=\"text-align: right;\">\n",
       "      <th></th>\n",
       "      <th>key</th>\n",
       "      <th>Wire 1</th>\n",
       "      <th>Wire 2</th>\n",
       "      <th>Wire 3</th>\n",
       "      <th>Wire 4</th>\n",
       "      <th>Wire 5</th>\n",
       "      <th>Wire 6</th>\n",
       "      <th>Wire 7</th>\n",
       "      <th>Wire 8</th>\n",
       "      <th>Wire 9</th>\n",
       "    </tr>\n",
       "  </thead>\n",
       "  <tbody>\n",
       "    <tr>\n",
       "      <th>2440</th>\n",
       "      <td>2567</td>\n",
       "      <td>18.30192</td>\n",
       "      <td>NaN</td>\n",
       "      <td>96.288193</td>\n",
       "      <td>NaN</td>\n",
       "      <td>15.132</td>\n",
       "      <td>73.307526</td>\n",
       "      <td>NaN</td>\n",
       "      <td>NaN</td>\n",
       "      <td>NaN</td>\n",
       "    </tr>\n",
       "  </tbody>\n",
       "</table>\n",
       "</div>"
      ],
      "text/plain": [
       "       key    Wire 1  Wire 2     Wire 3  Wire 4  Wire 5     Wire 6  Wire 7  \\\n",
       "2440  2567  18.30192     NaN  96.288193     NaN  15.132  73.307526     NaN   \n",
       "\n",
       "      Wire 8  Wire 9  \n",
       "2440     NaN     NaN  "
      ]
     },
     "execution_count": 76,
     "metadata": {},
     "output_type": "execute_result"
    }
   ],
   "source": [
    "wire[wire.notnull()['Wire 5']]"
   ]
  },
  {
   "cell_type": "code",
   "execution_count": 77,
   "id": "4fd42df5",
   "metadata": {},
   "outputs": [
    {
     "name": "stdout",
     "output_type": "stream",
     "text": [
      "[2567]\n"
     ]
    }
   ],
   "source": [
    "wire_5_key = wire[wire.notnull()['Wire 5']]['key'].tolist()\n",
    "print(wire_5_key)"
   ]
  },
  {
   "cell_type": "code",
   "execution_count": 78,
   "id": "8776747e",
   "metadata": {},
   "outputs": [
    {
     "data": {
      "text/html": [
       "<div>\n",
       "<style scoped>\n",
       "    .dataframe tbody tr th:only-of-type {\n",
       "        vertical-align: middle;\n",
       "    }\n",
       "\n",
       "    .dataframe tbody tr th {\n",
       "        vertical-align: top;\n",
       "    }\n",
       "\n",
       "    .dataframe thead th {\n",
       "        text-align: right;\n",
       "    }\n",
       "</style>\n",
       "<table border=\"1\" class=\"dataframe\">\n",
       "  <thead>\n",
       "    <tr style=\"text-align: right;\">\n",
       "      <th></th>\n",
       "      <th>key</th>\n",
       "      <th>Wire 1</th>\n",
       "      <th>Wire 2</th>\n",
       "      <th>Wire 3</th>\n",
       "      <th>Wire 4</th>\n",
       "      <th>Wire 5</th>\n",
       "      <th>Wire 6</th>\n",
       "      <th>Wire 7</th>\n",
       "      <th>Wire 8</th>\n",
       "      <th>Wire 9</th>\n",
       "    </tr>\n",
       "  </thead>\n",
       "  <tbody>\n",
       "    <tr>\n",
       "      <th>2440</th>\n",
       "      <td>2567</td>\n",
       "      <td>18.30192</td>\n",
       "      <td>NaN</td>\n",
       "      <td>96.288193</td>\n",
       "      <td>NaN</td>\n",
       "      <td>15.132</td>\n",
       "      <td>73.307526</td>\n",
       "      <td>NaN</td>\n",
       "      <td>NaN</td>\n",
       "      <td>NaN</td>\n",
       "    </tr>\n",
       "  </tbody>\n",
       "</table>\n",
       "</div>"
      ],
      "text/plain": [
       "       key    Wire 1  Wire 2     Wire 3  Wire 4  Wire 5     Wire 6  Wire 7  \\\n",
       "2440  2567  18.30192     NaN  96.288193     NaN  15.132  73.307526     NaN   \n",
       "\n",
       "      Wire 8  Wire 9  \n",
       "2440     NaN     NaN  "
      ]
     },
     "execution_count": 78,
     "metadata": {},
     "output_type": "execute_result"
    }
   ],
   "source": [
    "wire[wire['key'].isin(wire_5_key)]"
   ]
  },
  {
   "cell_type": "code",
   "execution_count": 79,
   "id": "1cf9875f",
   "metadata": {},
   "outputs": [],
   "source": [
    "wire = wire.drop(index=wire[wire['key'].isin(wire_5_key)].index)"
   ]
  },
  {
   "cell_type": "code",
   "execution_count": 80,
   "id": "cd4c0ee8",
   "metadata": {},
   "outputs": [],
   "source": [
    "wire = wire.drop(columns='Wire 5')"
   ]
  },
  {
   "cell_type": "markdown",
   "id": "475e48b0",
   "metadata": {},
   "source": [
    "Построение гистограмм проволочных материалов."
   ]
  },
  {
   "cell_type": "code",
   "execution_count": 81,
   "id": "01d5b49b",
   "metadata": {
    "scrolled": false
   },
   "outputs": [
    {
     "data": {
      "image/png": "[encoded data removed]",
      "text/plain": [
       "<Figure size 432x288 with 1 Axes>"
      ]
     },
     "metadata": {
      "needs_background": "light"
     },
     "output_type": "display_data"
    },
    {
     "data": {
      "image/png": "[encoded data removed]",
      "text/plain": [
       "<Figure size 432x288 with 1 Axes>"
      ]
     },
     "metadata": {
      "needs_background": "light"
     },
     "output_type": "display_data"
    },
    {
     "data": {
      "image/png": "[encoded data removed]",
      "text/plain": [
       "<Figure size 432x288 with 1 Axes>"
      ]
     },
     "metadata": {
      "needs_background": "light"
     },
     "output_type": "display_data"
    },
    {
     "data": {
      "image/png": "[encoded data removed]",
      "text/plain": [
       "<Figure size 432x288 with 1 Axes>"
      ]
     },
     "metadata": {
      "needs_background": "light"
     },
     "output_type": "display_data"
    },
    {
     "data": {
      "image/png": "[encoded data removed]",
      "text/plain": [
       "<Figure size 432x288 with 1 Axes>"
      ]
     },
     "metadata": {
      "needs_background": "light"
     },
     "output_type": "display_data"
    },
    {
     "data": {
      "image/png": "[encoded data removed]",
      "text/plain": [
       "<Figure size 432x288 with 1 Axes>"
      ]
     },
     "metadata": {
      "needs_background": "light"
     },
     "output_type": "display_data"
    },
    {
     "data": {
      "image/png": "[encoded data removed]",
      "text/plain": [
       "<Figure size 432x288 with 1 Axes>"
      ]
     },
     "metadata": {
      "needs_background": "light"
     },
     "output_type": "display_data"
    },
    {
     "data": {
      "image/png": "[encoded data removed]",
      "text/plain": [
       "<Figure size 432x288 with 1 Axes>"
      ]
     },
     "metadata": {
      "needs_background": "light"
     },
     "output_type": "display_data"
    }
   ],
   "source": [
    "wire_columns = wire.columns\n",
    "wire_columns = wire_columns.drop('key')\n",
    "for column in wire_columns:\n",
    "    plt.figure()\n",
    "    wire[column].hist(bins=100)\n",
    "    plt.title(column)"
   ]
  },
  {
   "cell_type": "markdown",
   "id": "a4664f0b",
   "metadata": {},
   "source": [
    "Данные из гистограмм сыпучих материалов необходимо обсуждать с заказчиком, чтобы определить, находятся ли эти значения в пределах технологих норм. В этом исследовании будем считать, что данные находятся в пределах технологических норм."
   ]
  },
  {
   "cell_type": "markdown",
   "id": "54223144",
   "metadata": {},
   "source": [
    "Заполнение пустых значений нулями."
   ]
  },
  {
   "cell_type": "code",
   "execution_count": 82,
   "id": "6d7800bf",
   "metadata": {
    "scrolled": true
   },
   "outputs": [
    {
     "data": {
      "text/html": [
       "<div>\n",
       "<style scoped>\n",
       "    .dataframe tbody tr th:only-of-type {\n",
       "        vertical-align: middle;\n",
       "    }\n",
       "\n",
       "    .dataframe tbody tr th {\n",
       "        vertical-align: top;\n",
       "    }\n",
       "\n",
       "    .dataframe thead th {\n",
       "        text-align: right;\n",
       "    }\n",
       "</style>\n",
       "<table border=\"1\" class=\"dataframe\">\n",
       "  <thead>\n",
       "    <tr style=\"text-align: right;\">\n",
       "      <th></th>\n",
       "      <th>key</th>\n",
       "      <th>Wire 1</th>\n",
       "      <th>Wire 2</th>\n",
       "      <th>Wire 3</th>\n",
       "      <th>Wire 4</th>\n",
       "      <th>Wire 6</th>\n",
       "      <th>Wire 7</th>\n",
       "      <th>Wire 8</th>\n",
       "      <th>Wire 9</th>\n",
       "    </tr>\n",
       "  </thead>\n",
       "  <tbody>\n",
       "    <tr>\n",
       "      <th>0</th>\n",
       "      <td>1</td>\n",
       "      <td>60.059998</td>\n",
       "      <td>0.00000</td>\n",
       "      <td>0.0</td>\n",
       "      <td>0.0</td>\n",
       "      <td>0.0</td>\n",
       "      <td>0.0</td>\n",
       "      <td>0.0</td>\n",
       "      <td>0.0</td>\n",
       "    </tr>\n",
       "    <tr>\n",
       "      <th>1</th>\n",
       "      <td>2</td>\n",
       "      <td>96.052315</td>\n",
       "      <td>0.00000</td>\n",
       "      <td>0.0</td>\n",
       "      <td>0.0</td>\n",
       "      <td>0.0</td>\n",
       "      <td>0.0</td>\n",
       "      <td>0.0</td>\n",
       "      <td>0.0</td>\n",
       "    </tr>\n",
       "    <tr>\n",
       "      <th>2</th>\n",
       "      <td>3</td>\n",
       "      <td>91.160157</td>\n",
       "      <td>0.00000</td>\n",
       "      <td>0.0</td>\n",
       "      <td>0.0</td>\n",
       "      <td>0.0</td>\n",
       "      <td>0.0</td>\n",
       "      <td>0.0</td>\n",
       "      <td>0.0</td>\n",
       "    </tr>\n",
       "    <tr>\n",
       "      <th>3</th>\n",
       "      <td>4</td>\n",
       "      <td>89.063515</td>\n",
       "      <td>0.00000</td>\n",
       "      <td>0.0</td>\n",
       "      <td>0.0</td>\n",
       "      <td>0.0</td>\n",
       "      <td>0.0</td>\n",
       "      <td>0.0</td>\n",
       "      <td>0.0</td>\n",
       "    </tr>\n",
       "    <tr>\n",
       "      <th>4</th>\n",
       "      <td>5</td>\n",
       "      <td>89.238236</td>\n",
       "      <td>9.11456</td>\n",
       "      <td>0.0</td>\n",
       "      <td>0.0</td>\n",
       "      <td>0.0</td>\n",
       "      <td>0.0</td>\n",
       "      <td>0.0</td>\n",
       "      <td>0.0</td>\n",
       "    </tr>\n",
       "  </tbody>\n",
       "</table>\n",
       "</div>"
      ],
      "text/plain": [
       "   key     Wire 1   Wire 2  Wire 3  Wire 4  Wire 6  Wire 7  Wire 8  Wire 9\n",
       "0    1  60.059998  0.00000     0.0     0.0     0.0     0.0     0.0     0.0\n",
       "1    2  96.052315  0.00000     0.0     0.0     0.0     0.0     0.0     0.0\n",
       "2    3  91.160157  0.00000     0.0     0.0     0.0     0.0     0.0     0.0\n",
       "3    4  89.063515  0.00000     0.0     0.0     0.0     0.0     0.0     0.0\n",
       "4    5  89.238236  9.11456     0.0     0.0     0.0     0.0     0.0     0.0"
      ]
     },
     "execution_count": 82,
     "metadata": {},
     "output_type": "execute_result"
    }
   ],
   "source": [
    "wire = wire.fillna(0)\n",
    "wire.head()"
   ]
  },
  {
   "cell_type": "markdown",
   "id": "e7dc4d1e",
   "metadata": {},
   "source": [
    "Обзор данных в wire_time"
   ]
  },
  {
   "cell_type": "code",
   "execution_count": 83,
   "id": "7e6779c8",
   "metadata": {
    "scrolled": false
   },
   "outputs": [
    {
     "name": "stdout",
     "output_type": "stream",
     "text": [
      "<class 'pandas.core.frame.DataFrame'>\n",
      "RangeIndex: 3081 entries, 0 to 3080\n",
      "Data columns (total 10 columns):\n",
      " #   Column  Non-Null Count  Dtype \n",
      "---  ------  --------------  ----- \n",
      " 0   key     3081 non-null   int64 \n",
      " 1   Wire 1  3055 non-null   object\n",
      " 2   Wire 2  1079 non-null   object\n",
      " 3   Wire 3  63 non-null     object\n",
      " 4   Wire 4  14 non-null     object\n",
      " 5   Wire 5  1 non-null      object\n",
      " 6   Wire 6  73 non-null     object\n",
      " 7   Wire 7  11 non-null     object\n",
      " 8   Wire 8  19 non-null     object\n",
      " 9   Wire 9  29 non-null     object\n",
      "dtypes: int64(1), object(9)\n",
      "memory usage: 240.8+ KB\n"
     ]
    }
   ],
   "source": [
    "wire_time.info()"
   ]
  },
  {
   "cell_type": "code",
   "execution_count": 84,
   "id": "fcef8658",
   "metadata": {
    "scrolled": true
   },
   "outputs": [
    {
     "data": {
      "text/html": [
       "<div>\n",
       "<style scoped>\n",
       "    .dataframe tbody tr th:only-of-type {\n",
       "        vertical-align: middle;\n",
       "    }\n",
       "\n",
       "    .dataframe tbody tr th {\n",
       "        vertical-align: top;\n",
       "    }\n",
       "\n",
       "    .dataframe thead th {\n",
       "        text-align: right;\n",
       "    }\n",
       "</style>\n",
       "<table border=\"1\" class=\"dataframe\">\n",
       "  <thead>\n",
       "    <tr style=\"text-align: right;\">\n",
       "      <th></th>\n",
       "      <th>key</th>\n",
       "      <th>Wire 1</th>\n",
       "      <th>Wire 2</th>\n",
       "      <th>Wire 3</th>\n",
       "      <th>Wire 4</th>\n",
       "      <th>Wire 5</th>\n",
       "      <th>Wire 6</th>\n",
       "      <th>Wire 7</th>\n",
       "      <th>Wire 8</th>\n",
       "      <th>Wire 9</th>\n",
       "    </tr>\n",
       "  </thead>\n",
       "  <tbody>\n",
       "    <tr>\n",
       "      <th>0</th>\n",
       "      <td>1</td>\n",
       "      <td>2019-05-03 11:11:41</td>\n",
       "      <td>NaN</td>\n",
       "      <td>NaN</td>\n",
       "      <td>NaN</td>\n",
       "      <td>NaN</td>\n",
       "      <td>NaN</td>\n",
       "      <td>NaN</td>\n",
       "      <td>NaN</td>\n",
       "      <td>NaN</td>\n",
       "    </tr>\n",
       "    <tr>\n",
       "      <th>1</th>\n",
       "      <td>2</td>\n",
       "      <td>2019-05-03 11:46:10</td>\n",
       "      <td>NaN</td>\n",
       "      <td>NaN</td>\n",
       "      <td>NaN</td>\n",
       "      <td>NaN</td>\n",
       "      <td>NaN</td>\n",
       "      <td>NaN</td>\n",
       "      <td>NaN</td>\n",
       "      <td>NaN</td>\n",
       "    </tr>\n",
       "    <tr>\n",
       "      <th>2</th>\n",
       "      <td>3</td>\n",
       "      <td>2019-05-03 12:13:47</td>\n",
       "      <td>NaN</td>\n",
       "      <td>NaN</td>\n",
       "      <td>NaN</td>\n",
       "      <td>NaN</td>\n",
       "      <td>NaN</td>\n",
       "      <td>NaN</td>\n",
       "      <td>NaN</td>\n",
       "      <td>NaN</td>\n",
       "    </tr>\n",
       "    <tr>\n",
       "      <th>3</th>\n",
       "      <td>4</td>\n",
       "      <td>2019-05-03 12:48:05</td>\n",
       "      <td>NaN</td>\n",
       "      <td>NaN</td>\n",
       "      <td>NaN</td>\n",
       "      <td>NaN</td>\n",
       "      <td>NaN</td>\n",
       "      <td>NaN</td>\n",
       "      <td>NaN</td>\n",
       "      <td>NaN</td>\n",
       "    </tr>\n",
       "    <tr>\n",
       "      <th>4</th>\n",
       "      <td>5</td>\n",
       "      <td>2019-05-03 13:18:15</td>\n",
       "      <td>2019-05-03 13:32:06</td>\n",
       "      <td>NaN</td>\n",
       "      <td>NaN</td>\n",
       "      <td>NaN</td>\n",
       "      <td>NaN</td>\n",
       "      <td>NaN</td>\n",
       "      <td>NaN</td>\n",
       "      <td>NaN</td>\n",
       "    </tr>\n",
       "  </tbody>\n",
       "</table>\n",
       "</div>"
      ],
      "text/plain": [
       "   key               Wire 1               Wire 2 Wire 3 Wire 4 Wire 5 Wire 6  \\\n",
       "0    1  2019-05-03 11:11:41                  NaN    NaN    NaN    NaN    NaN   \n",
       "1    2  2019-05-03 11:46:10                  NaN    NaN    NaN    NaN    NaN   \n",
       "2    3  2019-05-03 12:13:47                  NaN    NaN    NaN    NaN    NaN   \n",
       "3    4  2019-05-03 12:48:05                  NaN    NaN    NaN    NaN    NaN   \n",
       "4    5  2019-05-03 13:18:15  2019-05-03 13:32:06    NaN    NaN    NaN    NaN   \n",
       "\n",
       "  Wire 7 Wire 8 Wire 9  \n",
       "0    NaN    NaN    NaN  \n",
       "1    NaN    NaN    NaN  \n",
       "2    NaN    NaN    NaN  \n",
       "3    NaN    NaN    NaN  \n",
       "4    NaN    NaN    NaN  "
      ]
     },
     "execution_count": 84,
     "metadata": {},
     "output_type": "execute_result"
    }
   ],
   "source": [
    "wire_time.head()"
   ]
  },
  {
   "cell_type": "markdown",
   "id": "ca93ab0d",
   "metadata": {},
   "source": [
    "Данные в таблице wire_time содержат время внесения проволочных материалов. Так как в нашей задаче анализ будет идти по номеру партии то эта информация не будет использоваться в обучении."
   ]
  },
  {
   "cell_type": "markdown",
   "id": "604270fe",
   "metadata": {},
   "source": [
    "### Выводы"
   ]
  },
  {
   "cell_type": "markdown",
   "id": "0df685a6",
   "metadata": {},
   "source": [
    "Проведенный обзор показал наличие пустых значений и аномалий в данных температуры. Все партии с обнаруженными пустыми и аномальными значениями температуры были удалены.<br/>\n",
    "Также были обнаружены аномалии в данных электрической дуги, в данных сыпучих материалов, в данных по газу, в данных проволочных материалов. Партии с этими аномальными значениями были удалены.<br/>\n",
    "В данных сыпучих и проволочных материалов были пропуски. Для машинного обучения эти пустые значения были заменены на нули."
   ]
  },
  {
   "cell_type": "markdown",
   "id": "c596e97c",
   "metadata": {},
   "source": [
    "## Агрегирование данных"
   ]
  },
  {
   "cell_type": "markdown",
   "id": "aaa72966",
   "metadata": {},
   "source": [
    "### Подготовка данных для машинного обучения."
   ]
  },
  {
   "cell_type": "markdown",
   "id": "63a08596",
   "metadata": {},
   "source": [
    "Для машинного обучения понадобится общая таблица с признаками и целевым признаком. Для этого подготовим необходимые таблицы:"
   ]
  },
  {
   "cell_type": "markdown",
   "id": "fa1d6c3a",
   "metadata": {},
   "source": [
    "1. таблица с работой электрической дуги.\n",
    "2. таблица с первой и последней температурой в партии.\n",
    "3. таблица с сыпучими материалами с установленным индексом по столбцу key.\n",
    "4. таблица с проволочными материалами с установленным индексом по столбцу key."
   ]
  },
  {
   "cell_type": "markdown",
   "id": "96c48044",
   "metadata": {},
   "source": [
    "После этого проведём объединение таблиц по номеру партии key."
   ]
  },
  {
   "cell_type": "markdown",
   "id": "83e77253",
   "metadata": {},
   "source": [
    "#### Подготовка таблицы с работой электрической дуги arc_ml"
   ]
  },
  {
   "cell_type": "markdown",
   "id": "0dcbfc59",
   "metadata": {},
   "source": [
    "Для машинного обучения нам понадобится работа совершаемая электрической дугой. Нам необходимо рассчитать три работы: работу активной мощности, работу реактивной мощности и работу общей мощности. Работа рассчитывается, как мощность умноженная на период действия электрической дуги. Общая мощность рассчитывается, как квадратный корень из суммы квадратов активной и реактивной мощности."
   ]
  },
  {
   "cell_type": "markdown",
   "id": "284a2609",
   "metadata": {},
   "source": [
    "Добавим в таблицу arc расчётные стобцы Работа активная, работа реактивная, работа общая. "
   ]
  },
  {
   "cell_type": "code",
   "execution_count": 85,
   "id": "fffc022b",
   "metadata": {},
   "outputs": [],
   "source": [
    "arc['Работа активн'] = arc['Активная мощность'] * arc['dt']\n",
    "arc['Работа реактивн'] = arc['Реактивная мощность'] * arc['dt']\n",
    "arc['Работа общая'] = (arc['Активная мощность']**2 + arc['Реактивная мощность']**2)**0.5 * arc['dt']"
   ]
  },
  {
   "cell_type": "code",
   "execution_count": 86,
   "id": "7aae4298",
   "metadata": {},
   "outputs": [
    {
     "data": {
      "text/html": [
       "<div>\n",
       "<style scoped>\n",
       "    .dataframe tbody tr th:only-of-type {\n",
       "        vertical-align: middle;\n",
       "    }\n",
       "\n",
       "    .dataframe tbody tr th {\n",
       "        vertical-align: top;\n",
       "    }\n",
       "\n",
       "    .dataframe thead th {\n",
       "        text-align: right;\n",
       "    }\n",
       "</style>\n",
       "<table border=\"1\" class=\"dataframe\">\n",
       "  <thead>\n",
       "    <tr style=\"text-align: right;\">\n",
       "      <th></th>\n",
       "      <th>key</th>\n",
       "      <th>Начало нагрева дугой</th>\n",
       "      <th>Конец нагрева дугой</th>\n",
       "      <th>Активная мощность</th>\n",
       "      <th>Реактивная мощность</th>\n",
       "      <th>Начало</th>\n",
       "      <th>Конец</th>\n",
       "      <th>dt</th>\n",
       "      <th>Работа активн</th>\n",
       "      <th>Работа реактивн</th>\n",
       "      <th>Работа общая</th>\n",
       "    </tr>\n",
       "  </thead>\n",
       "  <tbody>\n",
       "    <tr>\n",
       "      <th>0</th>\n",
       "      <td>1</td>\n",
       "      <td>2019-05-03 11:02:14</td>\n",
       "      <td>2019-05-03 11:06:02</td>\n",
       "      <td>0.976059</td>\n",
       "      <td>0.687084</td>\n",
       "      <td>2019-05-03 11:02:14</td>\n",
       "      <td>2019-05-03 11:06:02</td>\n",
       "      <td>228.0</td>\n",
       "      <td>222.541395</td>\n",
       "      <td>156.655088</td>\n",
       "      <td>272.149755</td>\n",
       "    </tr>\n",
       "    <tr>\n",
       "      <th>1</th>\n",
       "      <td>1</td>\n",
       "      <td>2019-05-03 11:07:28</td>\n",
       "      <td>2019-05-03 11:10:33</td>\n",
       "      <td>0.805607</td>\n",
       "      <td>0.520285</td>\n",
       "      <td>2019-05-03 11:07:28</td>\n",
       "      <td>2019-05-03 11:10:33</td>\n",
       "      <td>185.0</td>\n",
       "      <td>149.037310</td>\n",
       "      <td>96.252771</td>\n",
       "      <td>177.416785</td>\n",
       "    </tr>\n",
       "    <tr>\n",
       "      <th>2</th>\n",
       "      <td>1</td>\n",
       "      <td>2019-05-03 11:11:44</td>\n",
       "      <td>2019-05-03 11:14:36</td>\n",
       "      <td>0.744363</td>\n",
       "      <td>0.498805</td>\n",
       "      <td>2019-05-03 11:11:44</td>\n",
       "      <td>2019-05-03 11:14:36</td>\n",
       "      <td>172.0</td>\n",
       "      <td>128.030509</td>\n",
       "      <td>85.794529</td>\n",
       "      <td>154.118502</td>\n",
       "    </tr>\n",
       "    <tr>\n",
       "      <th>3</th>\n",
       "      <td>1</td>\n",
       "      <td>2019-05-03 11:18:14</td>\n",
       "      <td>2019-05-03 11:24:19</td>\n",
       "      <td>1.659363</td>\n",
       "      <td>1.062669</td>\n",
       "      <td>2019-05-03 11:18:14</td>\n",
       "      <td>2019-05-03 11:24:19</td>\n",
       "      <td>365.0</td>\n",
       "      <td>605.667332</td>\n",
       "      <td>387.874330</td>\n",
       "      <td>719.221394</td>\n",
       "    </tr>\n",
       "    <tr>\n",
       "      <th>4</th>\n",
       "      <td>1</td>\n",
       "      <td>2019-05-03 11:26:09</td>\n",
       "      <td>2019-05-03 11:28:37</td>\n",
       "      <td>0.692755</td>\n",
       "      <td>0.414397</td>\n",
       "      <td>2019-05-03 11:26:09</td>\n",
       "      <td>2019-05-03 11:28:37</td>\n",
       "      <td>148.0</td>\n",
       "      <td>102.527702</td>\n",
       "      <td>61.330791</td>\n",
       "      <td>119.471318</td>\n",
       "    </tr>\n",
       "  </tbody>\n",
       "</table>\n",
       "</div>"
      ],
      "text/plain": [
       "   key Начало нагрева дугой  Конец нагрева дугой  Активная мощность  \\\n",
       "0    1  2019-05-03 11:02:14  2019-05-03 11:06:02           0.976059   \n",
       "1    1  2019-05-03 11:07:28  2019-05-03 11:10:33           0.805607   \n",
       "2    1  2019-05-03 11:11:44  2019-05-03 11:14:36           0.744363   \n",
       "3    1  2019-05-03 11:18:14  2019-05-03 11:24:19           1.659363   \n",
       "4    1  2019-05-03 11:26:09  2019-05-03 11:28:37           0.692755   \n",
       "\n",
       "   Реактивная мощность              Начало               Конец     dt  \\\n",
       "0             0.687084 2019-05-03 11:02:14 2019-05-03 11:06:02  228.0   \n",
       "1             0.520285 2019-05-03 11:07:28 2019-05-03 11:10:33  185.0   \n",
       "2             0.498805 2019-05-03 11:11:44 2019-05-03 11:14:36  172.0   \n",
       "3             1.062669 2019-05-03 11:18:14 2019-05-03 11:24:19  365.0   \n",
       "4             0.414397 2019-05-03 11:26:09 2019-05-03 11:28:37  148.0   \n",
       "\n",
       "   Работа активн  Работа реактивн  Работа общая  \n",
       "0     222.541395       156.655088    272.149755  \n",
       "1     149.037310        96.252771    177.416785  \n",
       "2     128.030509        85.794529    154.118502  \n",
       "3     605.667332       387.874330    719.221394  \n",
       "4     102.527702        61.330791    119.471318  "
      ]
     },
     "execution_count": 86,
     "metadata": {},
     "output_type": "execute_result"
    }
   ],
   "source": [
    "arc.head()"
   ]
  },
  {
   "cell_type": "markdown",
   "id": "78e2e0b3",
   "metadata": {},
   "source": [
    "Для машинного обучения нам необходимо сделать таблицу номера партии сумма работ активной, реактивной и общей мощности по номеру партии. Для создания этой таблицы воспользуется сводными таблицами."
   ]
  },
  {
   "cell_type": "code",
   "execution_count": 87,
   "id": "bd38d62c",
   "metadata": {},
   "outputs": [],
   "source": [
    "arc_ml = arc.pivot_table(index=arc['key'], values=['Работа активн', 'Работа реактивн', 'Работа общая'], aggfunc=['sum'])"
   ]
  },
  {
   "cell_type": "code",
   "execution_count": 88,
   "id": "f71f5be6",
   "metadata": {},
   "outputs": [
    {
     "data": {
      "text/html": [
       "<div>\n",
       "<style scoped>\n",
       "    .dataframe tbody tr th:only-of-type {\n",
       "        vertical-align: middle;\n",
       "    }\n",
       "\n",
       "    .dataframe tbody tr th {\n",
       "        vertical-align: top;\n",
       "    }\n",
       "\n",
       "    .dataframe thead tr th {\n",
       "        text-align: left;\n",
       "    }\n",
       "\n",
       "    .dataframe thead tr:last-of-type th {\n",
       "        text-align: right;\n",
       "    }\n",
       "</style>\n",
       "<table border=\"1\" class=\"dataframe\">\n",
       "  <thead>\n",
       "    <tr>\n",
       "      <th></th>\n",
       "      <th colspan=\"3\" halign=\"left\">sum</th>\n",
       "    </tr>\n",
       "    <tr>\n",
       "      <th></th>\n",
       "      <th>Работа активн</th>\n",
       "      <th>Работа общая</th>\n",
       "      <th>Работа реактивн</th>\n",
       "    </tr>\n",
       "    <tr>\n",
       "      <th>key</th>\n",
       "      <th></th>\n",
       "      <th></th>\n",
       "      <th></th>\n",
       "    </tr>\n",
       "  </thead>\n",
       "  <tbody>\n",
       "    <tr>\n",
       "      <th>1</th>\n",
       "      <td>1207.804249</td>\n",
       "      <td>1442.377754</td>\n",
       "      <td>787.907510</td>\n",
       "    </tr>\n",
       "    <tr>\n",
       "      <th>2</th>\n",
       "      <td>733.816470</td>\n",
       "      <td>881.233565</td>\n",
       "      <td>487.590677</td>\n",
       "    </tr>\n",
       "    <tr>\n",
       "      <th>3</th>\n",
       "      <td>443.583327</td>\n",
       "      <td>525.066777</td>\n",
       "      <td>280.936835</td>\n",
       "    </tr>\n",
       "    <tr>\n",
       "      <th>4</th>\n",
       "      <td>670.663327</td>\n",
       "      <td>796.911309</td>\n",
       "      <td>429.935932</td>\n",
       "    </tr>\n",
       "    <tr>\n",
       "      <th>5</th>\n",
       "      <td>997.496095</td>\n",
       "      <td>1199.137958</td>\n",
       "      <td>664.940090</td>\n",
       "    </tr>\n",
       "  </tbody>\n",
       "</table>\n",
       "</div>"
      ],
      "text/plain": [
       "              sum                             \n",
       "    Работа активн Работа общая Работа реактивн\n",
       "key                                           \n",
       "1     1207.804249  1442.377754      787.907510\n",
       "2      733.816470   881.233565      487.590677\n",
       "3      443.583327   525.066777      280.936835\n",
       "4      670.663327   796.911309      429.935932\n",
       "5      997.496095  1199.137958      664.940090"
      ]
     },
     "execution_count": 88,
     "metadata": {},
     "output_type": "execute_result"
    }
   ],
   "source": [
    "arc_ml.head()"
   ]
  },
  {
   "cell_type": "markdown",
   "id": "b30b33fc",
   "metadata": {},
   "source": [
    "Переименование названий столбцов для избавления от мультииндекса."
   ]
  },
  {
   "cell_type": "code",
   "execution_count": 89,
   "id": "2ef0981c",
   "metadata": {},
   "outputs": [
    {
     "data": {
      "text/html": [
       "<div>\n",
       "<style scoped>\n",
       "    .dataframe tbody tr th:only-of-type {\n",
       "        vertical-align: middle;\n",
       "    }\n",
       "\n",
       "    .dataframe tbody tr th {\n",
       "        vertical-align: top;\n",
       "    }\n",
       "\n",
       "    .dataframe thead th {\n",
       "        text-align: right;\n",
       "    }\n",
       "</style>\n",
       "<table border=\"1\" class=\"dataframe\">\n",
       "  <thead>\n",
       "    <tr style=\"text-align: right;\">\n",
       "      <th></th>\n",
       "      <th>work_active</th>\n",
       "      <th>work_reactive</th>\n",
       "      <th>work_total</th>\n",
       "    </tr>\n",
       "    <tr>\n",
       "      <th>key</th>\n",
       "      <th></th>\n",
       "      <th></th>\n",
       "      <th></th>\n",
       "    </tr>\n",
       "  </thead>\n",
       "  <tbody>\n",
       "    <tr>\n",
       "      <th>1</th>\n",
       "      <td>1207.804249</td>\n",
       "      <td>1442.377754</td>\n",
       "      <td>787.907510</td>\n",
       "    </tr>\n",
       "    <tr>\n",
       "      <th>2</th>\n",
       "      <td>733.816470</td>\n",
       "      <td>881.233565</td>\n",
       "      <td>487.590677</td>\n",
       "    </tr>\n",
       "    <tr>\n",
       "      <th>3</th>\n",
       "      <td>443.583327</td>\n",
       "      <td>525.066777</td>\n",
       "      <td>280.936835</td>\n",
       "    </tr>\n",
       "    <tr>\n",
       "      <th>4</th>\n",
       "      <td>670.663327</td>\n",
       "      <td>796.911309</td>\n",
       "      <td>429.935932</td>\n",
       "    </tr>\n",
       "    <tr>\n",
       "      <th>5</th>\n",
       "      <td>997.496095</td>\n",
       "      <td>1199.137958</td>\n",
       "      <td>664.940090</td>\n",
       "    </tr>\n",
       "  </tbody>\n",
       "</table>\n",
       "</div>"
      ],
      "text/plain": [
       "     work_active  work_reactive  work_total\n",
       "key                                        \n",
       "1    1207.804249    1442.377754  787.907510\n",
       "2     733.816470     881.233565  487.590677\n",
       "3     443.583327     525.066777  280.936835\n",
       "4     670.663327     796.911309  429.935932\n",
       "5     997.496095    1199.137958  664.940090"
      ]
     },
     "execution_count": 89,
     "metadata": {},
     "output_type": "execute_result"
    }
   ],
   "source": [
    "arc_ml.columns = ['work_active', 'work_reactive', 'work_total']\n",
    "arc_ml.head()"
   ]
  },
  {
   "cell_type": "markdown",
   "id": "83fd9ae0",
   "metadata": {},
   "source": [
    "#### Подготовка таблицы с начальной и конечной температурой в партии temp_ml"
   ]
  },
  {
   "cell_type": "markdown",
   "id": "32cbcbbe",
   "metadata": {},
   "source": [
    "Для машинного обучения требуется 2 температуры, одна измеренная вначале партии и вторая в конце. Для создания такой таблицы воспользуемся сводными таблицами и функциями first и last"
   ]
  },
  {
   "cell_type": "code",
   "execution_count": 90,
   "id": "d053d326",
   "metadata": {},
   "outputs": [
    {
     "data": {
      "text/html": [
       "<div>\n",
       "<style scoped>\n",
       "    .dataframe tbody tr th:only-of-type {\n",
       "        vertical-align: middle;\n",
       "    }\n",
       "\n",
       "    .dataframe tbody tr th {\n",
       "        vertical-align: top;\n",
       "    }\n",
       "\n",
       "    .dataframe thead th {\n",
       "        text-align: right;\n",
       "    }\n",
       "</style>\n",
       "<table border=\"1\" class=\"dataframe\">\n",
       "  <thead>\n",
       "    <tr style=\"text-align: right;\">\n",
       "      <th></th>\n",
       "      <th>key</th>\n",
       "      <th>Время замера</th>\n",
       "      <th>Температура</th>\n",
       "    </tr>\n",
       "  </thead>\n",
       "  <tbody>\n",
       "    <tr>\n",
       "      <th>0</th>\n",
       "      <td>1</td>\n",
       "      <td>2019-05-03 11:16:18</td>\n",
       "      <td>1571.0</td>\n",
       "    </tr>\n",
       "    <tr>\n",
       "      <th>1</th>\n",
       "      <td>1</td>\n",
       "      <td>2019-05-03 11:25:53</td>\n",
       "      <td>1604.0</td>\n",
       "    </tr>\n",
       "    <tr>\n",
       "      <th>2</th>\n",
       "      <td>1</td>\n",
       "      <td>2019-05-03 11:29:11</td>\n",
       "      <td>1618.0</td>\n",
       "    </tr>\n",
       "    <tr>\n",
       "      <th>3</th>\n",
       "      <td>1</td>\n",
       "      <td>2019-05-03 11:30:01</td>\n",
       "      <td>1601.0</td>\n",
       "    </tr>\n",
       "    <tr>\n",
       "      <th>4</th>\n",
       "      <td>1</td>\n",
       "      <td>2019-05-03 11:30:39</td>\n",
       "      <td>1613.0</td>\n",
       "    </tr>\n",
       "  </tbody>\n",
       "</table>\n",
       "</div>"
      ],
      "text/plain": [
       "   key         Время замера  Температура\n",
       "0    1  2019-05-03 11:16:18       1571.0\n",
       "1    1  2019-05-03 11:25:53       1604.0\n",
       "2    1  2019-05-03 11:29:11       1618.0\n",
       "3    1  2019-05-03 11:30:01       1601.0\n",
       "4    1  2019-05-03 11:30:39       1613.0"
      ]
     },
     "execution_count": 90,
     "metadata": {},
     "output_type": "execute_result"
    }
   ],
   "source": [
    "temp.head()"
   ]
  },
  {
   "cell_type": "code",
   "execution_count": 91,
   "id": "e8d29c39",
   "metadata": {},
   "outputs": [
    {
     "data": {
      "text/html": [
       "<div>\n",
       "<style scoped>\n",
       "    .dataframe tbody tr th:only-of-type {\n",
       "        vertical-align: middle;\n",
       "    }\n",
       "\n",
       "    .dataframe tbody tr th {\n",
       "        vertical-align: top;\n",
       "    }\n",
       "\n",
       "    .dataframe thead tr th {\n",
       "        text-align: left;\n",
       "    }\n",
       "\n",
       "    .dataframe thead tr:last-of-type th {\n",
       "        text-align: right;\n",
       "    }\n",
       "</style>\n",
       "<table border=\"1\" class=\"dataframe\">\n",
       "  <thead>\n",
       "    <tr>\n",
       "      <th></th>\n",
       "      <th>first</th>\n",
       "      <th>last</th>\n",
       "    </tr>\n",
       "    <tr>\n",
       "      <th></th>\n",
       "      <th>Температура</th>\n",
       "      <th>Температура</th>\n",
       "    </tr>\n",
       "    <tr>\n",
       "      <th>key</th>\n",
       "      <th></th>\n",
       "      <th></th>\n",
       "    </tr>\n",
       "  </thead>\n",
       "  <tbody>\n",
       "    <tr>\n",
       "      <th>1</th>\n",
       "      <td>1571.0</td>\n",
       "      <td>1613.0</td>\n",
       "    </tr>\n",
       "    <tr>\n",
       "      <th>2</th>\n",
       "      <td>1581.0</td>\n",
       "      <td>1602.0</td>\n",
       "    </tr>\n",
       "    <tr>\n",
       "      <th>3</th>\n",
       "      <td>1596.0</td>\n",
       "      <td>1599.0</td>\n",
       "    </tr>\n",
       "    <tr>\n",
       "      <th>4</th>\n",
       "      <td>1601.0</td>\n",
       "      <td>1625.0</td>\n",
       "    </tr>\n",
       "    <tr>\n",
       "      <th>5</th>\n",
       "      <td>1576.0</td>\n",
       "      <td>1602.0</td>\n",
       "    </tr>\n",
       "  </tbody>\n",
       "</table>\n",
       "</div>"
      ],
      "text/plain": [
       "          first        last\n",
       "    Температура Температура\n",
       "key                        \n",
       "1        1571.0      1613.0\n",
       "2        1581.0      1602.0\n",
       "3        1596.0      1599.0\n",
       "4        1601.0      1625.0\n",
       "5        1576.0      1602.0"
      ]
     },
     "metadata": {},
     "output_type": "display_data"
    }
   ],
   "source": [
    "temp_ml = temp.pivot_table(index='key', values='Температура', aggfunc=['first', 'last'])\n",
    "display(temp_ml.head())"
   ]
  },
  {
   "cell_type": "markdown",
   "id": "e9475b66",
   "metadata": {},
   "source": [
    "Переименование столбцов для избавления от мультииндекса."
   ]
  },
  {
   "cell_type": "code",
   "execution_count": 92,
   "id": "5df81a06",
   "metadata": {
    "scrolled": true
   },
   "outputs": [
    {
     "data": {
      "text/html": [
       "<div>\n",
       "<style scoped>\n",
       "    .dataframe tbody tr th:only-of-type {\n",
       "        vertical-align: middle;\n",
       "    }\n",
       "\n",
       "    .dataframe tbody tr th {\n",
       "        vertical-align: top;\n",
       "    }\n",
       "\n",
       "    .dataframe thead th {\n",
       "        text-align: right;\n",
       "    }\n",
       "</style>\n",
       "<table border=\"1\" class=\"dataframe\">\n",
       "  <thead>\n",
       "    <tr style=\"text-align: right;\">\n",
       "      <th></th>\n",
       "      <th>temp_first</th>\n",
       "      <th>temp_last</th>\n",
       "    </tr>\n",
       "    <tr>\n",
       "      <th>key</th>\n",
       "      <th></th>\n",
       "      <th></th>\n",
       "    </tr>\n",
       "  </thead>\n",
       "  <tbody>\n",
       "    <tr>\n",
       "      <th>1</th>\n",
       "      <td>1571.0</td>\n",
       "      <td>1613.0</td>\n",
       "    </tr>\n",
       "    <tr>\n",
       "      <th>2</th>\n",
       "      <td>1581.0</td>\n",
       "      <td>1602.0</td>\n",
       "    </tr>\n",
       "    <tr>\n",
       "      <th>3</th>\n",
       "      <td>1596.0</td>\n",
       "      <td>1599.0</td>\n",
       "    </tr>\n",
       "    <tr>\n",
       "      <th>4</th>\n",
       "      <td>1601.0</td>\n",
       "      <td>1625.0</td>\n",
       "    </tr>\n",
       "    <tr>\n",
       "      <th>5</th>\n",
       "      <td>1576.0</td>\n",
       "      <td>1602.0</td>\n",
       "    </tr>\n",
       "  </tbody>\n",
       "</table>\n",
       "</div>"
      ],
      "text/plain": [
       "     temp_first  temp_last\n",
       "key                       \n",
       "1        1571.0     1613.0\n",
       "2        1581.0     1602.0\n",
       "3        1596.0     1599.0\n",
       "4        1601.0     1625.0\n",
       "5        1576.0     1602.0"
      ]
     },
     "execution_count": 92,
     "metadata": {},
     "output_type": "execute_result"
    }
   ],
   "source": [
    "temp_ml.columns=['temp_first', 'temp_last']\n",
    "temp_ml.head()"
   ]
  },
  {
   "cell_type": "markdown",
   "id": "4aadd231",
   "metadata": {},
   "source": [
    "#### Подготовка таблицы с сыпучими материалами."
   ]
  },
  {
   "cell_type": "markdown",
   "id": "43918602",
   "metadata": {},
   "source": [
    "Установка столбца key в качестве индекса понадобится для соединения таблиц"
   ]
  },
  {
   "cell_type": "code",
   "execution_count": 93,
   "id": "8f91360d",
   "metadata": {},
   "outputs": [
    {
     "data": {
      "text/html": [
       "<div>\n",
       "<style scoped>\n",
       "    .dataframe tbody tr th:only-of-type {\n",
       "        vertical-align: middle;\n",
       "    }\n",
       "\n",
       "    .dataframe tbody tr th {\n",
       "        vertical-align: top;\n",
       "    }\n",
       "\n",
       "    .dataframe thead th {\n",
       "        text-align: right;\n",
       "    }\n",
       "</style>\n",
       "<table border=\"1\" class=\"dataframe\">\n",
       "  <thead>\n",
       "    <tr style=\"text-align: right;\">\n",
       "      <th></th>\n",
       "      <th>Bulk 1</th>\n",
       "      <th>Bulk 2</th>\n",
       "      <th>Bulk 3</th>\n",
       "      <th>Bulk 4</th>\n",
       "      <th>Bulk 5</th>\n",
       "      <th>Bulk 6</th>\n",
       "      <th>Bulk 7</th>\n",
       "      <th>Bulk 9</th>\n",
       "      <th>Bulk 10</th>\n",
       "      <th>Bulk 11</th>\n",
       "      <th>Bulk 12</th>\n",
       "      <th>Bulk 13</th>\n",
       "      <th>Bulk 14</th>\n",
       "      <th>Bulk 15</th>\n",
       "    </tr>\n",
       "    <tr>\n",
       "      <th>key</th>\n",
       "      <th></th>\n",
       "      <th></th>\n",
       "      <th></th>\n",
       "      <th></th>\n",
       "      <th></th>\n",
       "      <th></th>\n",
       "      <th></th>\n",
       "      <th></th>\n",
       "      <th></th>\n",
       "      <th></th>\n",
       "      <th></th>\n",
       "      <th></th>\n",
       "      <th></th>\n",
       "      <th></th>\n",
       "    </tr>\n",
       "  </thead>\n",
       "  <tbody>\n",
       "    <tr>\n",
       "      <th>1</th>\n",
       "      <td>0.0</td>\n",
       "      <td>0.0</td>\n",
       "      <td>0.0</td>\n",
       "      <td>43.0</td>\n",
       "      <td>0.0</td>\n",
       "      <td>0.0</td>\n",
       "      <td>0.0</td>\n",
       "      <td>0.0</td>\n",
       "      <td>0.0</td>\n",
       "      <td>0.0</td>\n",
       "      <td>206.0</td>\n",
       "      <td>0.0</td>\n",
       "      <td>150.0</td>\n",
       "      <td>154.0</td>\n",
       "    </tr>\n",
       "    <tr>\n",
       "      <th>2</th>\n",
       "      <td>0.0</td>\n",
       "      <td>0.0</td>\n",
       "      <td>0.0</td>\n",
       "      <td>73.0</td>\n",
       "      <td>0.0</td>\n",
       "      <td>0.0</td>\n",
       "      <td>0.0</td>\n",
       "      <td>0.0</td>\n",
       "      <td>0.0</td>\n",
       "      <td>0.0</td>\n",
       "      <td>206.0</td>\n",
       "      <td>0.0</td>\n",
       "      <td>149.0</td>\n",
       "      <td>154.0</td>\n",
       "    </tr>\n",
       "    <tr>\n",
       "      <th>3</th>\n",
       "      <td>0.0</td>\n",
       "      <td>0.0</td>\n",
       "      <td>0.0</td>\n",
       "      <td>34.0</td>\n",
       "      <td>0.0</td>\n",
       "      <td>0.0</td>\n",
       "      <td>0.0</td>\n",
       "      <td>0.0</td>\n",
       "      <td>0.0</td>\n",
       "      <td>0.0</td>\n",
       "      <td>205.0</td>\n",
       "      <td>0.0</td>\n",
       "      <td>152.0</td>\n",
       "      <td>153.0</td>\n",
       "    </tr>\n",
       "    <tr>\n",
       "      <th>4</th>\n",
       "      <td>0.0</td>\n",
       "      <td>0.0</td>\n",
       "      <td>0.0</td>\n",
       "      <td>81.0</td>\n",
       "      <td>0.0</td>\n",
       "      <td>0.0</td>\n",
       "      <td>0.0</td>\n",
       "      <td>0.0</td>\n",
       "      <td>0.0</td>\n",
       "      <td>0.0</td>\n",
       "      <td>207.0</td>\n",
       "      <td>0.0</td>\n",
       "      <td>153.0</td>\n",
       "      <td>154.0</td>\n",
       "    </tr>\n",
       "    <tr>\n",
       "      <th>5</th>\n",
       "      <td>0.0</td>\n",
       "      <td>0.0</td>\n",
       "      <td>0.0</td>\n",
       "      <td>78.0</td>\n",
       "      <td>0.0</td>\n",
       "      <td>0.0</td>\n",
       "      <td>0.0</td>\n",
       "      <td>0.0</td>\n",
       "      <td>0.0</td>\n",
       "      <td>0.0</td>\n",
       "      <td>203.0</td>\n",
       "      <td>0.0</td>\n",
       "      <td>151.0</td>\n",
       "      <td>152.0</td>\n",
       "    </tr>\n",
       "  </tbody>\n",
       "</table>\n",
       "</div>"
      ],
      "text/plain": [
       "     Bulk 1  Bulk 2  Bulk 3  Bulk 4  Bulk 5  Bulk 6  Bulk 7  Bulk 9  Bulk 10  \\\n",
       "key                                                                            \n",
       "1       0.0     0.0     0.0    43.0     0.0     0.0     0.0     0.0      0.0   \n",
       "2       0.0     0.0     0.0    73.0     0.0     0.0     0.0     0.0      0.0   \n",
       "3       0.0     0.0     0.0    34.0     0.0     0.0     0.0     0.0      0.0   \n",
       "4       0.0     0.0     0.0    81.0     0.0     0.0     0.0     0.0      0.0   \n",
       "5       0.0     0.0     0.0    78.0     0.0     0.0     0.0     0.0      0.0   \n",
       "\n",
       "     Bulk 11  Bulk 12  Bulk 13  Bulk 14  Bulk 15  \n",
       "key                                               \n",
       "1        0.0    206.0      0.0    150.0    154.0  \n",
       "2        0.0    206.0      0.0    149.0    154.0  \n",
       "3        0.0    205.0      0.0    152.0    153.0  \n",
       "4        0.0    207.0      0.0    153.0    154.0  \n",
       "5        0.0    203.0      0.0    151.0    152.0  "
      ]
     },
     "execution_count": 93,
     "metadata": {},
     "output_type": "execute_result"
    }
   ],
   "source": [
    "bulk_ml = bulk.set_index('key') \n",
    "bulk_ml.head()"
   ]
  },
  {
   "cell_type": "markdown",
   "id": "90335a00",
   "metadata": {},
   "source": [
    "#### Подготовка таблицы с проволочными материалами."
   ]
  },
  {
   "cell_type": "markdown",
   "id": "ffadc95b",
   "metadata": {},
   "source": [
    "Установка столбца key в качестве индекса понадобится для соединения таблиц"
   ]
  },
  {
   "cell_type": "code",
   "execution_count": 94,
   "id": "ee133fde",
   "metadata": {},
   "outputs": [
    {
     "data": {
      "text/html": [
       "<div>\n",
       "<style scoped>\n",
       "    .dataframe tbody tr th:only-of-type {\n",
       "        vertical-align: middle;\n",
       "    }\n",
       "\n",
       "    .dataframe tbody tr th {\n",
       "        vertical-align: top;\n",
       "    }\n",
       "\n",
       "    .dataframe thead th {\n",
       "        text-align: right;\n",
       "    }\n",
       "</style>\n",
       "<table border=\"1\" class=\"dataframe\">\n",
       "  <thead>\n",
       "    <tr style=\"text-align: right;\">\n",
       "      <th></th>\n",
       "      <th>Wire 1</th>\n",
       "      <th>Wire 2</th>\n",
       "      <th>Wire 3</th>\n",
       "      <th>Wire 4</th>\n",
       "      <th>Wire 6</th>\n",
       "      <th>Wire 7</th>\n",
       "      <th>Wire 8</th>\n",
       "      <th>Wire 9</th>\n",
       "    </tr>\n",
       "    <tr>\n",
       "      <th>key</th>\n",
       "      <th></th>\n",
       "      <th></th>\n",
       "      <th></th>\n",
       "      <th></th>\n",
       "      <th></th>\n",
       "      <th></th>\n",
       "      <th></th>\n",
       "      <th></th>\n",
       "    </tr>\n",
       "  </thead>\n",
       "  <tbody>\n",
       "    <tr>\n",
       "      <th>1</th>\n",
       "      <td>60.059998</td>\n",
       "      <td>0.00000</td>\n",
       "      <td>0.0</td>\n",
       "      <td>0.0</td>\n",
       "      <td>0.0</td>\n",
       "      <td>0.0</td>\n",
       "      <td>0.0</td>\n",
       "      <td>0.0</td>\n",
       "    </tr>\n",
       "    <tr>\n",
       "      <th>2</th>\n",
       "      <td>96.052315</td>\n",
       "      <td>0.00000</td>\n",
       "      <td>0.0</td>\n",
       "      <td>0.0</td>\n",
       "      <td>0.0</td>\n",
       "      <td>0.0</td>\n",
       "      <td>0.0</td>\n",
       "      <td>0.0</td>\n",
       "    </tr>\n",
       "    <tr>\n",
       "      <th>3</th>\n",
       "      <td>91.160157</td>\n",
       "      <td>0.00000</td>\n",
       "      <td>0.0</td>\n",
       "      <td>0.0</td>\n",
       "      <td>0.0</td>\n",
       "      <td>0.0</td>\n",
       "      <td>0.0</td>\n",
       "      <td>0.0</td>\n",
       "    </tr>\n",
       "    <tr>\n",
       "      <th>4</th>\n",
       "      <td>89.063515</td>\n",
       "      <td>0.00000</td>\n",
       "      <td>0.0</td>\n",
       "      <td>0.0</td>\n",
       "      <td>0.0</td>\n",
       "      <td>0.0</td>\n",
       "      <td>0.0</td>\n",
       "      <td>0.0</td>\n",
       "    </tr>\n",
       "    <tr>\n",
       "      <th>5</th>\n",
       "      <td>89.238236</td>\n",
       "      <td>9.11456</td>\n",
       "      <td>0.0</td>\n",
       "      <td>0.0</td>\n",
       "      <td>0.0</td>\n",
       "      <td>0.0</td>\n",
       "      <td>0.0</td>\n",
       "      <td>0.0</td>\n",
       "    </tr>\n",
       "  </tbody>\n",
       "</table>\n",
       "</div>"
      ],
      "text/plain": [
       "        Wire 1   Wire 2  Wire 3  Wire 4  Wire 6  Wire 7  Wire 8  Wire 9\n",
       "key                                                                    \n",
       "1    60.059998  0.00000     0.0     0.0     0.0     0.0     0.0     0.0\n",
       "2    96.052315  0.00000     0.0     0.0     0.0     0.0     0.0     0.0\n",
       "3    91.160157  0.00000     0.0     0.0     0.0     0.0     0.0     0.0\n",
       "4    89.063515  0.00000     0.0     0.0     0.0     0.0     0.0     0.0\n",
       "5    89.238236  9.11456     0.0     0.0     0.0     0.0     0.0     0.0"
      ]
     },
     "execution_count": 94,
     "metadata": {},
     "output_type": "execute_result"
    }
   ],
   "source": [
    "wire_ml = wire.set_index('key')\n",
    "wire_ml.head()"
   ]
  },
  {
   "cell_type": "markdown",
   "id": "5b44b98d",
   "metadata": {},
   "source": [
    "### Создание таблицы для машинного обучения"
   ]
  },
  {
   "cell_type": "markdown",
   "id": "18862f85",
   "metadata": {},
   "source": [
    "Соединение таблиц работа электрической дуги, первая и последняя температура в партии, сыпучие материалы, проволочные материалы по номеру партии методом inner (номера партий которые есть одновременно во всех таблицах)."
   ]
  },
  {
   "cell_type": "code",
   "execution_count": 95,
   "id": "f47439e4",
   "metadata": {
    "scrolled": true
   },
   "outputs": [
    {
     "data": {
      "text/html": [
       "<div>\n",
       "<style scoped>\n",
       "    .dataframe tbody tr th:only-of-type {\n",
       "        vertical-align: middle;\n",
       "    }\n",
       "\n",
       "    .dataframe tbody tr th {\n",
       "        vertical-align: top;\n",
       "    }\n",
       "\n",
       "    .dataframe thead th {\n",
       "        text-align: right;\n",
       "    }\n",
       "</style>\n",
       "<table border=\"1\" class=\"dataframe\">\n",
       "  <thead>\n",
       "    <tr style=\"text-align: right;\">\n",
       "      <th></th>\n",
       "      <th>work_active</th>\n",
       "      <th>work_reactive</th>\n",
       "      <th>work_total</th>\n",
       "      <th>temp_first</th>\n",
       "      <th>temp_last</th>\n",
       "      <th>Bulk 1</th>\n",
       "      <th>Bulk 2</th>\n",
       "      <th>Bulk 3</th>\n",
       "      <th>Bulk 4</th>\n",
       "      <th>Bulk 5</th>\n",
       "      <th>...</th>\n",
       "      <th>Bulk 14</th>\n",
       "      <th>Bulk 15</th>\n",
       "      <th>Wire 1</th>\n",
       "      <th>Wire 2</th>\n",
       "      <th>Wire 3</th>\n",
       "      <th>Wire 4</th>\n",
       "      <th>Wire 6</th>\n",
       "      <th>Wire 7</th>\n",
       "      <th>Wire 8</th>\n",
       "      <th>Wire 9</th>\n",
       "    </tr>\n",
       "    <tr>\n",
       "      <th>key</th>\n",
       "      <th></th>\n",
       "      <th></th>\n",
       "      <th></th>\n",
       "      <th></th>\n",
       "      <th></th>\n",
       "      <th></th>\n",
       "      <th></th>\n",
       "      <th></th>\n",
       "      <th></th>\n",
       "      <th></th>\n",
       "      <th></th>\n",
       "      <th></th>\n",
       "      <th></th>\n",
       "      <th></th>\n",
       "      <th></th>\n",
       "      <th></th>\n",
       "      <th></th>\n",
       "      <th></th>\n",
       "      <th></th>\n",
       "      <th></th>\n",
       "      <th></th>\n",
       "    </tr>\n",
       "  </thead>\n",
       "  <tbody>\n",
       "    <tr>\n",
       "      <th>1</th>\n",
       "      <td>1207.804249</td>\n",
       "      <td>1442.377754</td>\n",
       "      <td>787.907510</td>\n",
       "      <td>1571.0</td>\n",
       "      <td>1613.0</td>\n",
       "      <td>0.0</td>\n",
       "      <td>0.0</td>\n",
       "      <td>0.0</td>\n",
       "      <td>43.0</td>\n",
       "      <td>0.0</td>\n",
       "      <td>...</td>\n",
       "      <td>150.0</td>\n",
       "      <td>154.0</td>\n",
       "      <td>60.059998</td>\n",
       "      <td>0.00000</td>\n",
       "      <td>0.0</td>\n",
       "      <td>0.0</td>\n",
       "      <td>0.0</td>\n",
       "      <td>0.0</td>\n",
       "      <td>0.0</td>\n",
       "      <td>0.0</td>\n",
       "    </tr>\n",
       "    <tr>\n",
       "      <th>2</th>\n",
       "      <td>733.816470</td>\n",
       "      <td>881.233565</td>\n",
       "      <td>487.590677</td>\n",
       "      <td>1581.0</td>\n",
       "      <td>1602.0</td>\n",
       "      <td>0.0</td>\n",
       "      <td>0.0</td>\n",
       "      <td>0.0</td>\n",
       "      <td>73.0</td>\n",
       "      <td>0.0</td>\n",
       "      <td>...</td>\n",
       "      <td>149.0</td>\n",
       "      <td>154.0</td>\n",
       "      <td>96.052315</td>\n",
       "      <td>0.00000</td>\n",
       "      <td>0.0</td>\n",
       "      <td>0.0</td>\n",
       "      <td>0.0</td>\n",
       "      <td>0.0</td>\n",
       "      <td>0.0</td>\n",
       "      <td>0.0</td>\n",
       "    </tr>\n",
       "    <tr>\n",
       "      <th>3</th>\n",
       "      <td>443.583327</td>\n",
       "      <td>525.066777</td>\n",
       "      <td>280.936835</td>\n",
       "      <td>1596.0</td>\n",
       "      <td>1599.0</td>\n",
       "      <td>0.0</td>\n",
       "      <td>0.0</td>\n",
       "      <td>0.0</td>\n",
       "      <td>34.0</td>\n",
       "      <td>0.0</td>\n",
       "      <td>...</td>\n",
       "      <td>152.0</td>\n",
       "      <td>153.0</td>\n",
       "      <td>91.160157</td>\n",
       "      <td>0.00000</td>\n",
       "      <td>0.0</td>\n",
       "      <td>0.0</td>\n",
       "      <td>0.0</td>\n",
       "      <td>0.0</td>\n",
       "      <td>0.0</td>\n",
       "      <td>0.0</td>\n",
       "    </tr>\n",
       "    <tr>\n",
       "      <th>4</th>\n",
       "      <td>670.663327</td>\n",
       "      <td>796.911309</td>\n",
       "      <td>429.935932</td>\n",
       "      <td>1601.0</td>\n",
       "      <td>1625.0</td>\n",
       "      <td>0.0</td>\n",
       "      <td>0.0</td>\n",
       "      <td>0.0</td>\n",
       "      <td>81.0</td>\n",
       "      <td>0.0</td>\n",
       "      <td>...</td>\n",
       "      <td>153.0</td>\n",
       "      <td>154.0</td>\n",
       "      <td>89.063515</td>\n",
       "      <td>0.00000</td>\n",
       "      <td>0.0</td>\n",
       "      <td>0.0</td>\n",
       "      <td>0.0</td>\n",
       "      <td>0.0</td>\n",
       "      <td>0.0</td>\n",
       "      <td>0.0</td>\n",
       "    </tr>\n",
       "    <tr>\n",
       "      <th>5</th>\n",
       "      <td>997.496095</td>\n",
       "      <td>1199.137958</td>\n",
       "      <td>664.940090</td>\n",
       "      <td>1576.0</td>\n",
       "      <td>1602.0</td>\n",
       "      <td>0.0</td>\n",
       "      <td>0.0</td>\n",
       "      <td>0.0</td>\n",
       "      <td>78.0</td>\n",
       "      <td>0.0</td>\n",
       "      <td>...</td>\n",
       "      <td>151.0</td>\n",
       "      <td>152.0</td>\n",
       "      <td>89.238236</td>\n",
       "      <td>9.11456</td>\n",
       "      <td>0.0</td>\n",
       "      <td>0.0</td>\n",
       "      <td>0.0</td>\n",
       "      <td>0.0</td>\n",
       "      <td>0.0</td>\n",
       "      <td>0.0</td>\n",
       "    </tr>\n",
       "  </tbody>\n",
       "</table>\n",
       "<p>5 rows × 27 columns</p>\n",
       "</div>"
      ],
      "text/plain": [
       "     work_active  work_reactive  work_total  temp_first  temp_last  Bulk 1  \\\n",
       "key                                                                          \n",
       "1    1207.804249    1442.377754  787.907510      1571.0     1613.0     0.0   \n",
       "2     733.816470     881.233565  487.590677      1581.0     1602.0     0.0   \n",
       "3     443.583327     525.066777  280.936835      1596.0     1599.0     0.0   \n",
       "4     670.663327     796.911309  429.935932      1601.0     1625.0     0.0   \n",
       "5     997.496095    1199.137958  664.940090      1576.0     1602.0     0.0   \n",
       "\n",
       "     Bulk 2  Bulk 3  Bulk 4  Bulk 5  ...  Bulk 14  Bulk 15     Wire 1  \\\n",
       "key                                  ...                                \n",
       "1       0.0     0.0    43.0     0.0  ...    150.0    154.0  60.059998   \n",
       "2       0.0     0.0    73.0     0.0  ...    149.0    154.0  96.052315   \n",
       "3       0.0     0.0    34.0     0.0  ...    152.0    153.0  91.160157   \n",
       "4       0.0     0.0    81.0     0.0  ...    153.0    154.0  89.063515   \n",
       "5       0.0     0.0    78.0     0.0  ...    151.0    152.0  89.238236   \n",
       "\n",
       "      Wire 2  Wire 3  Wire 4  Wire 6  Wire 7  Wire 8  Wire 9  \n",
       "key                                                           \n",
       "1    0.00000     0.0     0.0     0.0     0.0     0.0     0.0  \n",
       "2    0.00000     0.0     0.0     0.0     0.0     0.0     0.0  \n",
       "3    0.00000     0.0     0.0     0.0     0.0     0.0     0.0  \n",
       "4    0.00000     0.0     0.0     0.0     0.0     0.0     0.0  \n",
       "5    9.11456     0.0     0.0     0.0     0.0     0.0     0.0  \n",
       "\n",
       "[5 rows x 27 columns]"
      ]
     },
     "execution_count": 95,
     "metadata": {},
     "output_type": "execute_result"
    }
   ],
   "source": [
    "ml = arc_ml.join([temp_ml, bulk_ml, wire_ml], how='inner')\n",
    "ml.head()"
   ]
  },
  {
   "cell_type": "code",
   "execution_count": 96,
   "id": "2e2053ea",
   "metadata": {
    "scrolled": false
   },
   "outputs": [
    {
     "data": {
      "text/plain": [
       "2325"
      ]
     },
     "execution_count": 96,
     "metadata": {},
     "output_type": "execute_result"
    }
   ],
   "source": [
    "len(ml)"
   ]
  },
  {
   "cell_type": "markdown",
   "id": "b898c62f",
   "metadata": {},
   "source": [
    "## Разделение данных на тренировочную и тестовую выборки."
   ]
  },
  {
   "cell_type": "markdown",
   "id": "218455b4",
   "metadata": {},
   "source": [
    "Нагрев партии стали осуществляется только активной мощностью, а реактивная мощность не участвует в нагреве.<br/>\n",
    "Было проведено сравнение машинного обучения с дополнением признаков реактивной и общей работой. Результаты были почти одинаковые. При машинном обучении только с активной мощностью MAE было на 1 сотую лучше, чем с добавлением реактивной и активной работы.<br/>\n",
    "Поэтому для машинного обучения будем учитывать только работу активной мощности."
   ]
  },
  {
   "cell_type": "markdown",
   "id": "e18d834b",
   "metadata": {},
   "source": [
    "Разделение данных на признаки и целевой признак (столбец с последней температурой temp_last). удаление из признаков столбцов с реактивной и общей работой) "
   ]
  },
  {
   "cell_type": "code",
   "execution_count": 97,
   "id": "effd63d2",
   "metadata": {},
   "outputs": [],
   "source": [
    "features = ml.drop(columns=['temp_last', 'work_reactive', 'work_total'])\n",
    "target = ml['temp_last']"
   ]
  },
  {
   "cell_type": "markdown",
   "id": "f8e8f8e8",
   "metadata": {},
   "source": [
    "Список признаков для обучения моделей машинного обучения."
   ]
  },
  {
   "cell_type": "code",
   "execution_count": 98,
   "id": "f854ef01",
   "metadata": {},
   "outputs": [
    {
     "data": {
      "text/plain": [
       "Index(['work_active', 'temp_first', 'Bulk 1', 'Bulk 2', 'Bulk 3', 'Bulk 4',\n",
       "       'Bulk 5', 'Bulk 6', 'Bulk 7', 'Bulk 9', 'Bulk 10', 'Bulk 11', 'Bulk 12',\n",
       "       'Bulk 13', 'Bulk 14', 'Bulk 15', 'Wire 1', 'Wire 2', 'Wire 3', 'Wire 4',\n",
       "       'Wire 6', 'Wire 7', 'Wire 8', 'Wire 9'],\n",
       "      dtype='object')"
      ]
     },
     "execution_count": 98,
     "metadata": {},
     "output_type": "execute_result"
    }
   ],
   "source": [
    "features.columns"
   ]
  },
  {
   "cell_type": "markdown",
   "id": "e0687b52",
   "metadata": {},
   "source": [
    "Разделение на тренировочную и тестовую выборки."
   ]
  },
  {
   "cell_type": "code",
   "execution_count": 99,
   "id": "7534104b",
   "metadata": {},
   "outputs": [],
   "source": [
    "train_features, test_features, train_target, test_target = train_test_split(\n",
    "    features, target, test_size=0.25, random_state=random_state)"
   ]
  },
  {
   "cell_type": "markdown",
   "id": "0c4a4e1c",
   "metadata": {},
   "source": [
    "Масштабирование данных"
   ]
  },
  {
   "cell_type": "code",
   "execution_count": 100,
   "id": "8d4a0ba5",
   "metadata": {},
   "outputs": [],
   "source": [
    "scaler = StandardScaler()\n",
    "scaler.fit(train_features)\n",
    "train_features = scaler.transform(train_features)\n",
    "test_features = scaler.transform(test_features)"
   ]
  },
  {
   "cell_type": "markdown",
   "id": "2a3402b8",
   "metadata": {},
   "source": [
    "## Машинное обучение"
   ]
  },
  {
   "cell_type": "markdown",
   "id": "e89a87de",
   "metadata": {},
   "source": [
    "В качестве моделей машинного обучения были выбраны линейная регрессия, случайный лес с регрессией, и градиентный бустинг CatBoost с регрессией. Также для сравнения взята константная модель."
   ]
  },
  {
   "cell_type": "markdown",
   "id": "89099e55",
   "metadata": {},
   "source": [
    "Создание датафрейма для сравнения моделей"
   ]
  },
  {
   "cell_type": "code",
   "execution_count": 101,
   "id": "c5c12cbf",
   "metadata": {},
   "outputs": [
    {
     "data": {
      "text/html": [
       "<div>\n",
       "<style scoped>\n",
       "    .dataframe tbody tr th:only-of-type {\n",
       "        vertical-align: middle;\n",
       "    }\n",
       "\n",
       "    .dataframe tbody tr th {\n",
       "        vertical-align: top;\n",
       "    }\n",
       "\n",
       "    .dataframe thead th {\n",
       "        text-align: right;\n",
       "    }\n",
       "</style>\n",
       "<table border=\"1\" class=\"dataframe\">\n",
       "  <thead>\n",
       "    <tr style=\"text-align: right;\">\n",
       "      <th></th>\n",
       "      <th>model</th>\n",
       "      <th>mae</th>\n",
       "    </tr>\n",
       "  </thead>\n",
       "  <tbody>\n",
       "  </tbody>\n",
       "</table>\n",
       "</div>"
      ],
      "text/plain": [
       "Empty DataFrame\n",
       "Columns: [model, mae]\n",
       "Index: []"
      ]
     },
     "metadata": {},
     "output_type": "display_data"
    }
   ],
   "source": [
    "model_compare = pd.DataFrame(columns=['model', 'mae'])\n",
    "display(model_compare)"
   ]
  },
  {
   "cell_type": "markdown",
   "id": "4903fe8d",
   "metadata": {},
   "source": [
    "### Константная модель"
   ]
  },
  {
   "cell_type": "markdown",
   "id": "f55999b7",
   "metadata": {},
   "source": [
    "Для константной модели в качестве значения возьмём среднее значение."
   ]
  },
  {
   "cell_type": "code",
   "execution_count": 102,
   "id": "9ff8bff8",
   "metadata": {},
   "outputs": [
    {
     "data": {
      "text/plain": [
       "array([-8.41320235, -7.83383151, -8.01427594])"
      ]
     },
     "execution_count": 102,
     "metadata": {},
     "output_type": "execute_result"
    }
   ],
   "source": [
    "dr = DummyRegressor(strategy='mean')\n",
    "dr_mae = cross_val_score(dr, train_features, train_target, scoring='neg_mean_absolute_error', cv=3)\n",
    "dr_mae"
   ]
  },
  {
   "cell_type": "code",
   "execution_count": 103,
   "id": "7692274d",
   "metadata": {},
   "outputs": [
    {
     "data": {
      "text/html": [
       "<div>\n",
       "<style scoped>\n",
       "    .dataframe tbody tr th:only-of-type {\n",
       "        vertical-align: middle;\n",
       "    }\n",
       "\n",
       "    .dataframe tbody tr th {\n",
       "        vertical-align: top;\n",
       "    }\n",
       "\n",
       "    .dataframe thead th {\n",
       "        text-align: right;\n",
       "    }\n",
       "</style>\n",
       "<table border=\"1\" class=\"dataframe\">\n",
       "  <thead>\n",
       "    <tr style=\"text-align: right;\">\n",
       "      <th></th>\n",
       "      <th>model</th>\n",
       "      <th>mae</th>\n",
       "    </tr>\n",
       "  </thead>\n",
       "  <tbody>\n",
       "    <tr>\n",
       "      <th>0</th>\n",
       "      <td>DummyRegressor</td>\n",
       "      <td>8.09</td>\n",
       "    </tr>\n",
       "  </tbody>\n",
       "</table>\n",
       "</div>"
      ],
      "text/plain": [
       "            model   mae\n",
       "0  DummyRegressor  8.09"
      ]
     },
     "execution_count": 103,
     "metadata": {},
     "output_type": "execute_result"
    }
   ],
   "source": [
    "model_compare.loc[len(model_compare)] = ['DummyRegressor', round(-dr_mae.mean(), 2)]\n",
    "model_compare"
   ]
  },
  {
   "cell_type": "markdown",
   "id": "1d546f64",
   "metadata": {},
   "source": [
    "### Линейная регрессия"
   ]
  },
  {
   "cell_type": "markdown",
   "id": "2eb84b14",
   "metadata": {},
   "source": [
    "Линейная регрессия с кросс-валидацией с CV=3"
   ]
  },
  {
   "cell_type": "code",
   "execution_count": 104,
   "id": "6029c5ed",
   "metadata": {},
   "outputs": [
    {
     "data": {
      "text/plain": [
       "array([-6.42623015, -6.60015468, -6.24357615])"
      ]
     },
     "execution_count": 104,
     "metadata": {},
     "output_type": "execute_result"
    }
   ],
   "source": [
    "lr = LinearRegression()\n",
    "lr_mae = cross_val_score(lr, train_features, train_target, scoring='neg_mean_absolute_error', cv=3)\n",
    "lr_mae"
   ]
  },
  {
   "cell_type": "code",
   "execution_count": 105,
   "id": "efee8fe6",
   "metadata": {},
   "outputs": [
    {
     "data": {
      "text/html": [
       "<div>\n",
       "<style scoped>\n",
       "    .dataframe tbody tr th:only-of-type {\n",
       "        vertical-align: middle;\n",
       "    }\n",
       "\n",
       "    .dataframe tbody tr th {\n",
       "        vertical-align: top;\n",
       "    }\n",
       "\n",
       "    .dataframe thead th {\n",
       "        text-align: right;\n",
       "    }\n",
       "</style>\n",
       "<table border=\"1\" class=\"dataframe\">\n",
       "  <thead>\n",
       "    <tr style=\"text-align: right;\">\n",
       "      <th></th>\n",
       "      <th>model</th>\n",
       "      <th>mae</th>\n",
       "    </tr>\n",
       "  </thead>\n",
       "  <tbody>\n",
       "    <tr>\n",
       "      <th>0</th>\n",
       "      <td>DummyRegressor</td>\n",
       "      <td>8.09</td>\n",
       "    </tr>\n",
       "    <tr>\n",
       "      <th>1</th>\n",
       "      <td>LinearRegression</td>\n",
       "      <td>6.42</td>\n",
       "    </tr>\n",
       "  </tbody>\n",
       "</table>\n",
       "</div>"
      ],
      "text/plain": [
       "              model   mae\n",
       "0    DummyRegressor  8.09\n",
       "1  LinearRegression  6.42"
      ]
     },
     "execution_count": 105,
     "metadata": {},
     "output_type": "execute_result"
    }
   ],
   "source": [
    "model_compare.loc[len(model_compare)] = ['LinearRegression', round(-lr_mae.mean(),2)]\n",
    "model_compare"
   ]
  },
  {
   "cell_type": "markdown",
   "id": "7996ea7f",
   "metadata": {},
   "source": [
    "### Случайный лес"
   ]
  },
  {
   "cell_type": "markdown",
   "id": "0196e0e6",
   "metadata": {},
   "source": [
    "В модели случайного леса осуществим подбор лучших параметров с помощью GridSearchCV."
   ]
  },
  {
   "cell_type": "code",
   "execution_count": 106,
   "id": "21b0423e",
   "metadata": {},
   "outputs": [
    {
     "name": "stdout",
     "output_type": "stream",
     "text": [
      "Fitting 3 folds for each of 15 candidates, totalling 45 fits\n",
      "[CV 1/3] END .....max_depth=6, n_estimators=50;, score=-6.428 total time=   0.1s\n",
      "[CV 2/3] END .....max_depth=6, n_estimators=50;, score=-6.366 total time=   0.1s\n",
      "[CV 3/3] END .....max_depth=6, n_estimators=50;, score=-6.346 total time=   0.1s\n",
      "[CV 1/3] END ....max_depth=6, n_estimators=100;, score=-6.400 total time=   0.2s\n",
      "[CV 2/3] END ....max_depth=6, n_estimators=100;, score=-6.377 total time=   0.2s\n",
      "[CV 3/3] END ....max_depth=6, n_estimators=100;, score=-6.309 total time=   0.2s\n",
      "[CV 1/3] END ....max_depth=6, n_estimators=200;, score=-6.373 total time=   0.5s\n",
      "[CV 2/3] END ....max_depth=6, n_estimators=200;, score=-6.347 total time=   0.5s\n",
      "[CV 3/3] END ....max_depth=6, n_estimators=200;, score=-6.267 total time=   0.5s\n",
      "[CV 1/3] END .....max_depth=8, n_estimators=50;, score=-6.298 total time=   0.1s\n",
      "[CV 2/3] END .....max_depth=8, n_estimators=50;, score=-6.326 total time=   0.1s\n",
      "[CV 3/3] END .....max_depth=8, n_estimators=50;, score=-6.196 total time=   0.1s\n",
      "[CV 1/3] END ....max_depth=8, n_estimators=100;, score=-6.285 total time=   0.2s\n",
      "[CV 2/3] END ....max_depth=8, n_estimators=100;, score=-6.328 total time=   0.3s\n",
      "[CV 3/3] END ....max_depth=8, n_estimators=100;, score=-6.183 total time=   0.3s\n",
      "[CV 1/3] END ....max_depth=8, n_estimators=200;, score=-6.258 total time=   0.6s\n",
      "[CV 2/3] END ....max_depth=8, n_estimators=200;, score=-6.273 total time=   0.6s\n",
      "[CV 3/3] END ....max_depth=8, n_estimators=200;, score=-6.123 total time=   0.6s\n",
      "[CV 1/3] END ....max_depth=10, n_estimators=50;, score=-6.279 total time=   0.1s\n",
      "[CV 2/3] END ....max_depth=10, n_estimators=50;, score=-6.297 total time=   0.1s\n",
      "[CV 3/3] END ....max_depth=10, n_estimators=50;, score=-6.127 total time=   0.1s\n",
      "[CV 1/3] END ...max_depth=10, n_estimators=100;, score=-6.246 total time=   0.3s\n",
      "[CV 2/3] END ...max_depth=10, n_estimators=100;, score=-6.335 total time=   0.3s\n",
      "[CV 3/3] END ...max_depth=10, n_estimators=100;, score=-6.092 total time=   0.3s\n",
      "[CV 1/3] END ...max_depth=10, n_estimators=200;, score=-6.226 total time=   0.7s\n",
      "[CV 2/3] END ...max_depth=10, n_estimators=200;, score=-6.262 total time=   0.8s\n",
      "[CV 3/3] END ...max_depth=10, n_estimators=200;, score=-6.060 total time=   0.7s\n",
      "[CV 1/3] END ....max_depth=12, n_estimators=50;, score=-6.265 total time=   0.1s\n",
      "[CV 2/3] END ....max_depth=12, n_estimators=50;, score=-6.308 total time=   0.1s\n",
      "[CV 3/3] END ....max_depth=12, n_estimators=50;, score=-6.121 total time=   0.1s\n",
      "[CV 1/3] END ...max_depth=12, n_estimators=100;, score=-6.234 total time=   0.4s\n",
      "[CV 2/3] END ...max_depth=12, n_estimators=100;, score=-6.345 total time=   0.4s\n",
      "[CV 3/3] END ...max_depth=12, n_estimators=100;, score=-6.087 total time=   0.4s\n",
      "[CV 1/3] END ...max_depth=12, n_estimators=200;, score=-6.207 total time=   0.8s\n",
      "[CV 2/3] END ...max_depth=12, n_estimators=200;, score=-6.283 total time=   0.9s\n",
      "[CV 3/3] END ...max_depth=12, n_estimators=200;, score=-6.048 total time=   0.8s\n",
      "[CV 1/3] END ....max_depth=14, n_estimators=50;, score=-6.275 total time=   0.2s\n",
      "[CV 2/3] END ....max_depth=14, n_estimators=50;, score=-6.362 total time=   0.1s\n",
      "[CV 3/3] END ....max_depth=14, n_estimators=50;, score=-6.085 total time=   0.1s\n",
      "[CV 1/3] END ...max_depth=14, n_estimators=100;, score=-6.251 total time=   0.4s\n",
      "[CV 2/3] END ...max_depth=14, n_estimators=100;, score=-6.385 total time=   0.4s\n",
      "[CV 3/3] END ...max_depth=14, n_estimators=100;, score=-6.076 total time=   0.4s\n",
      "[CV 1/3] END ...max_depth=14, n_estimators=200;, score=-6.209 total time=   0.9s\n",
      "[CV 2/3] END ...max_depth=14, n_estimators=200;, score=-6.308 total time=   0.9s\n",
      "[CV 3/3] END ...max_depth=14, n_estimators=200;, score=-6.040 total time=   0.9s\n",
      "Параметры лучшей модели случайного леса: {'max_depth': 12, 'n_estimators': 200}\n"
     ]
    }
   ],
   "source": [
    "rfr = RandomForestRegressor(random_state=random_state)\n",
    "parametrs = {'n_estimators': [50, 100, 200],\n",
    "             'max_depth': range(6, 16, 2)}\n",
    "grid = GridSearchCV(rfr, parametrs, scoring='neg_mean_absolute_error', cv=3, verbose=4)\n",
    "grid.fit(train_features, train_target)\n",
    "print('Параметры лучшей модели случайного леса:', grid.best_params_)"
   ]
  },
  {
   "cell_type": "markdown",
   "id": "9e35de5d",
   "metadata": {},
   "source": [
    "Рассчитаем среднюю MAE для лучших параметров модели случайного леса 'max_depth': 12, 'n_estimators': 200 с кросс-валидацией CV=3."
   ]
  },
  {
   "cell_type": "code",
   "execution_count": 107,
   "id": "c465d742",
   "metadata": {},
   "outputs": [
    {
     "data": {
      "text/plain": [
       "-6.179365328647045"
      ]
     },
     "execution_count": 107,
     "metadata": {},
     "output_type": "execute_result"
    }
   ],
   "source": [
    "grid.best_score_"
   ]
  },
  {
   "cell_type": "code",
   "execution_count": 108,
   "id": "eb1455bd",
   "metadata": {},
   "outputs": [
    {
     "data": {
      "text/html": [
       "<div>\n",
       "<style scoped>\n",
       "    .dataframe tbody tr th:only-of-type {\n",
       "        vertical-align: middle;\n",
       "    }\n",
       "\n",
       "    .dataframe tbody tr th {\n",
       "        vertical-align: top;\n",
       "    }\n",
       "\n",
       "    .dataframe thead th {\n",
       "        text-align: right;\n",
       "    }\n",
       "</style>\n",
       "<table border=\"1\" class=\"dataframe\">\n",
       "  <thead>\n",
       "    <tr style=\"text-align: right;\">\n",
       "      <th></th>\n",
       "      <th>model</th>\n",
       "      <th>mae</th>\n",
       "    </tr>\n",
       "  </thead>\n",
       "  <tbody>\n",
       "    <tr>\n",
       "      <th>0</th>\n",
       "      <td>DummyRegressor</td>\n",
       "      <td>8.09</td>\n",
       "    </tr>\n",
       "    <tr>\n",
       "      <th>1</th>\n",
       "      <td>LinearRegression</td>\n",
       "      <td>6.42</td>\n",
       "    </tr>\n",
       "    <tr>\n",
       "      <th>2</th>\n",
       "      <td>RandomForestRegressor</td>\n",
       "      <td>6.18</td>\n",
       "    </tr>\n",
       "  </tbody>\n",
       "</table>\n",
       "</div>"
      ],
      "text/plain": [
       "                   model   mae\n",
       "0         DummyRegressor  8.09\n",
       "1       LinearRegression  6.42\n",
       "2  RandomForestRegressor  6.18"
      ]
     },
     "execution_count": 108,
     "metadata": {},
     "output_type": "execute_result"
    }
   ],
   "source": [
    "model_compare.loc[len(model_compare)] = ['RandomForestRegressor', round(-grid.best_score_,2)]\n",
    "model_compare"
   ]
  },
  {
   "cell_type": "markdown",
   "id": "b2c3af06",
   "metadata": {},
   "source": [
    "### CatBoostRegressor"
   ]
  },
  {
   "cell_type": "markdown",
   "id": "532284e6",
   "metadata": {},
   "source": [
    "Пробное использование CatBoostRegressor с кросвалидацией с max_depth=1"
   ]
  },
  {
   "cell_type": "code",
   "execution_count": 109,
   "id": "a7c09949",
   "metadata": {},
   "outputs": [
    {
     "data": {
      "application/vnd.jupyter.widget-view+json": {
       "model_id": "cac9ae3f0a6b483f8683a0b1bfdc9bbd",
       "version_major": 2,
       "version_minor": 0
      },
      "text/plain": [
       "MetricVisualizer(layout=Layout(align_self='stretch', height='500px'))"
      ]
     },
     "metadata": {},
     "output_type": "display_data"
    },
    {
     "name": "stdout",
     "output_type": "stream",
     "text": [
      "Training on fold [0/3]\n",
      "\n",
      "bestTest = 6.415335831\n",
      "bestIteration = 761\n",
      "\n",
      "Training on fold [1/3]\n",
      "\n",
      "bestTest = 6.183533766\n",
      "bestIteration = 997\n",
      "\n",
      "Training on fold [2/3]\n",
      "\n",
      "bestTest = 6.440805059\n",
      "bestIteration = 978\n",
      "\n"
     ]
    }
   ],
   "source": [
    "from catboost import Pool, cv\n",
    "params = {\"loss_function\": \"MAE\",\n",
    "          \"verbose\": False,\n",
    "          \"random_state\": random_state,\n",
    "          \"max_depth\": 1}\n",
    "cv_dataset = Pool(data=train_features,\n",
    "                  label=train_target)\n",
    "scores = cv(cv_dataset,\n",
    "            params,\n",
    "            fold_count=3, \n",
    "            plot=\"True\")"
   ]
  },
  {
   "cell_type": "markdown",
   "id": "5fa20bc6",
   "metadata": {},
   "source": [
    "Просмотр значений scores для получения метрики MAE"
   ]
  },
  {
   "cell_type": "code",
   "execution_count": 110,
   "id": "754f06f3",
   "metadata": {
    "scrolled": true
   },
   "outputs": [
    {
     "data": {
      "text/html": [
       "<div>\n",
       "<style scoped>\n",
       "    .dataframe tbody tr th:only-of-type {\n",
       "        vertical-align: middle;\n",
       "    }\n",
       "\n",
       "    .dataframe tbody tr th {\n",
       "        vertical-align: top;\n",
       "    }\n",
       "\n",
       "    .dataframe thead th {\n",
       "        text-align: right;\n",
       "    }\n",
       "</style>\n",
       "<table border=\"1\" class=\"dataframe\">\n",
       "  <thead>\n",
       "    <tr style=\"text-align: right;\">\n",
       "      <th></th>\n",
       "      <th>iterations</th>\n",
       "      <th>test-MAE-mean</th>\n",
       "      <th>test-MAE-std</th>\n",
       "      <th>train-MAE-mean</th>\n",
       "      <th>train-MAE-std</th>\n",
       "    </tr>\n",
       "  </thead>\n",
       "  <tbody>\n",
       "    <tr>\n",
       "      <th>0</th>\n",
       "      <td>0</td>\n",
       "      <td>1545.695582</td>\n",
       "      <td>0.415995</td>\n",
       "      <td>1545.694438</td>\n",
       "      <td>0.216760</td>\n",
       "    </tr>\n",
       "    <tr>\n",
       "      <th>1</th>\n",
       "      <td>1</td>\n",
       "      <td>1499.350809</td>\n",
       "      <td>0.405122</td>\n",
       "      <td>1499.347495</td>\n",
       "      <td>0.225124</td>\n",
       "    </tr>\n",
       "    <tr>\n",
       "      <th>2</th>\n",
       "      <td>2</td>\n",
       "      <td>1454.387207</td>\n",
       "      <td>0.403120</td>\n",
       "      <td>1454.384293</td>\n",
       "      <td>0.227192</td>\n",
       "    </tr>\n",
       "    <tr>\n",
       "      <th>3</th>\n",
       "      <td>3</td>\n",
       "      <td>1410.777160</td>\n",
       "      <td>0.402392</td>\n",
       "      <td>1410.774577</td>\n",
       "      <td>0.230473</td>\n",
       "    </tr>\n",
       "    <tr>\n",
       "      <th>4</th>\n",
       "      <td>4</td>\n",
       "      <td>1368.480373</td>\n",
       "      <td>0.410972</td>\n",
       "      <td>1368.477451</td>\n",
       "      <td>0.223189</td>\n",
       "    </tr>\n",
       "    <tr>\n",
       "      <th>...</th>\n",
       "      <td>...</td>\n",
       "      <td>...</td>\n",
       "      <td>...</td>\n",
       "      <td>...</td>\n",
       "      <td>...</td>\n",
       "    </tr>\n",
       "    <tr>\n",
       "      <th>995</th>\n",
       "      <td>995</td>\n",
       "      <td>6.371714</td>\n",
       "      <td>0.164337</td>\n",
       "      <td>5.859376</td>\n",
       "      <td>0.085164</td>\n",
       "    </tr>\n",
       "    <tr>\n",
       "      <th>996</th>\n",
       "      <td>996</td>\n",
       "      <td>6.372262</td>\n",
       "      <td>0.164901</td>\n",
       "      <td>5.858830</td>\n",
       "      <td>0.085153</td>\n",
       "    </tr>\n",
       "    <tr>\n",
       "      <th>997</th>\n",
       "      <td>997</td>\n",
       "      <td>6.371619</td>\n",
       "      <td>0.164600</td>\n",
       "      <td>5.858294</td>\n",
       "      <td>0.085299</td>\n",
       "    </tr>\n",
       "    <tr>\n",
       "      <th>998</th>\n",
       "      <td>998</td>\n",
       "      <td>6.371571</td>\n",
       "      <td>0.164454</td>\n",
       "      <td>5.857823</td>\n",
       "      <td>0.085468</td>\n",
       "    </tr>\n",
       "    <tr>\n",
       "      <th>999</th>\n",
       "      <td>999</td>\n",
       "      <td>6.371789</td>\n",
       "      <td>0.164635</td>\n",
       "      <td>5.857486</td>\n",
       "      <td>0.085461</td>\n",
       "    </tr>\n",
       "  </tbody>\n",
       "</table>\n",
       "<p>1000 rows × 5 columns</p>\n",
       "</div>"
      ],
      "text/plain": [
       "     iterations  test-MAE-mean  test-MAE-std  train-MAE-mean  train-MAE-std\n",
       "0             0    1545.695582      0.415995     1545.694438       0.216760\n",
       "1             1    1499.350809      0.405122     1499.347495       0.225124\n",
       "2             2    1454.387207      0.403120     1454.384293       0.227192\n",
       "3             3    1410.777160      0.402392     1410.774577       0.230473\n",
       "4             4    1368.480373      0.410972     1368.477451       0.223189\n",
       "..          ...            ...           ...             ...            ...\n",
       "995         995       6.371714      0.164337        5.859376       0.085164\n",
       "996         996       6.372262      0.164901        5.858830       0.085153\n",
       "997         997       6.371619      0.164600        5.858294       0.085299\n",
       "998         998       6.371571      0.164454        5.857823       0.085468\n",
       "999         999       6.371789      0.164635        5.857486       0.085461\n",
       "\n",
       "[1000 rows x 5 columns]"
      ]
     },
     "execution_count": 110,
     "metadata": {},
     "output_type": "execute_result"
    }
   ],
   "source": [
    "scores"
   ]
  },
  {
   "cell_type": "markdown",
   "id": "5bc52cdd",
   "metadata": {},
   "source": [
    "Значение метрики хранится в таблице scores в столбце test-MAE-mean."
   ]
  },
  {
   "cell_type": "markdown",
   "id": "8047f8b8",
   "metadata": {},
   "source": [
    "Подберём лучший параметр max_depth."
   ]
  },
  {
   "cell_type": "code",
   "execution_count": 111,
   "id": "51496c7c",
   "metadata": {
    "scrolled": true
   },
   "outputs": [
    {
     "name": "stdout",
     "output_type": "stream",
     "text": [
      "Training on fold [0/3]\n",
      "\n",
      "bestTest = 6.415335831\n",
      "bestIteration = 761\n",
      "\n",
      "Training on fold [1/3]\n",
      "\n",
      "bestTest = 6.183533766\n",
      "bestIteration = 997\n",
      "\n",
      "Training on fold [2/3]\n",
      "\n",
      "bestTest = 6.440805059\n",
      "bestIteration = 978\n",
      "\n",
      "Training on fold [0/3]\n",
      "\n",
      "bestTest = 6.381383453\n",
      "bestIteration = 999\n",
      "\n",
      "Training on fold [1/3]\n",
      "\n",
      "bestTest = 6.070989943\n",
      "bestIteration = 972\n",
      "\n",
      "Training on fold [2/3]\n",
      "\n",
      "bestTest = 6.426435061\n",
      "bestIteration = 993\n",
      "\n",
      "Training on fold [0/3]\n",
      "\n",
      "bestTest = 6.612120499\n",
      "bestIteration = 737\n",
      "\n",
      "Training on fold [1/3]\n",
      "\n",
      "bestTest = 6.23733797\n",
      "bestIteration = 999\n",
      "\n",
      "Training on fold [2/3]\n",
      "\n",
      "bestTest = 6.472419237\n",
      "bestIteration = 999\n",
      "\n",
      "Training on fold [0/3]\n",
      "\n",
      "bestTest = 7.096201\n",
      "bestIteration = 941\n",
      "\n",
      "Training on fold [1/3]\n",
      "\n",
      "bestTest = 6.697039175\n",
      "bestIteration = 710\n",
      "\n",
      "Training on fold [2/3]\n",
      "\n",
      "bestTest = 7.241487024\n",
      "bestIteration = 774\n",
      "\n",
      "Training on fold [0/3]\n",
      "\n",
      "bestTest = 8.491491421\n",
      "bestIteration = 999\n",
      "\n",
      "Training on fold [1/3]\n",
      "\n",
      "bestTest = 7.19771651\n",
      "bestIteration = 991\n",
      "\n",
      "Training on fold [2/3]\n",
      "\n",
      "bestTest = 8.301765586\n",
      "bestIteration = 599\n",
      "\n",
      "Training on fold [0/3]\n",
      "\n",
      "bestTest = 8.823150394\n",
      "bestIteration = 616\n",
      "\n",
      "Training on fold [1/3]\n",
      "\n",
      "bestTest = 9.557125086\n",
      "bestIteration = 904\n",
      "\n",
      "Training on fold [2/3]\n",
      "\n",
      "bestTest = 10.42737496\n",
      "bestIteration = 910\n",
      "\n",
      "Training on fold [0/3]\n",
      "\n",
      "bestTest = 12.12143673\n",
      "bestIteration = 999\n",
      "\n",
      "Training on fold [1/3]\n",
      "\n",
      "bestTest = 10.78629819\n",
      "bestIteration = 732\n",
      "\n",
      "Training on fold [2/3]\n",
      "\n",
      "bestTest = 12.84884653\n",
      "bestIteration = 717\n",
      "\n",
      "Training on fold [0/3]\n",
      "\n",
      "bestTest = 14.82767275\n",
      "bestIteration = 815\n",
      "\n",
      "Training on fold [1/3]\n",
      "\n",
      "bestTest = 15.66224543\n",
      "bestIteration = 853\n",
      "\n",
      "Training on fold [2/3]\n",
      "\n",
      "bestTest = 15.67027867\n",
      "bestIteration = 573\n",
      "\n"
     ]
    }
   ],
   "source": [
    "catboost_depth = pd.DataFrame(columns=['max_depth', 'MAE']) # таблица max_depth, MAE\n",
    "for max_depth in range(1, 9, 1):\n",
    "    params = {\"loss_function\": \"MAE\",\n",
    "              \"verbose\": False,\n",
    "              \"random_state\": random_state,\n",
    "              \"max_depth\": max_depth}\n",
    "    cv_dataset = Pool(data=train_features,\n",
    "                      label=train_target)\n",
    "    scores = cv(cv_dataset,\n",
    "                params,\n",
    "                fold_count=3)\n",
    "    catboost_depth.loc[len(catboost_depth)] = [max_depth, scores['test-MAE-mean'].min()]"
   ]
  },
  {
   "cell_type": "code",
   "execution_count": 112,
   "id": "a637faea",
   "metadata": {
    "scrolled": true
   },
   "outputs": [
    {
     "data": {
      "text/html": [
       "<div>\n",
       "<style scoped>\n",
       "    .dataframe tbody tr th:only-of-type {\n",
       "        vertical-align: middle;\n",
       "    }\n",
       "\n",
       "    .dataframe tbody tr th {\n",
       "        vertical-align: top;\n",
       "    }\n",
       "\n",
       "    .dataframe thead th {\n",
       "        text-align: right;\n",
       "    }\n",
       "</style>\n",
       "<table border=\"1\" class=\"dataframe\">\n",
       "  <thead>\n",
       "    <tr style=\"text-align: right;\">\n",
       "      <th></th>\n",
       "      <th>max_depth</th>\n",
       "      <th>MAE</th>\n",
       "    </tr>\n",
       "  </thead>\n",
       "  <tbody>\n",
       "    <tr>\n",
       "      <th>0</th>\n",
       "      <td>1.0</td>\n",
       "      <td>6.361680</td>\n",
       "    </tr>\n",
       "    <tr>\n",
       "      <th>1</th>\n",
       "      <td>2.0</td>\n",
       "      <td>6.293174</td>\n",
       "    </tr>\n",
       "    <tr>\n",
       "      <th>2</th>\n",
       "      <td>3.0</td>\n",
       "      <td>6.445360</td>\n",
       "    </tr>\n",
       "    <tr>\n",
       "      <th>3</th>\n",
       "      <td>4.0</td>\n",
       "      <td>7.017390</td>\n",
       "    </tr>\n",
       "    <tr>\n",
       "      <th>4</th>\n",
       "      <td>5.0</td>\n",
       "      <td>8.002346</td>\n",
       "    </tr>\n",
       "    <tr>\n",
       "      <th>5</th>\n",
       "      <td>6.0</td>\n",
       "      <td>9.605318</td>\n",
       "    </tr>\n",
       "    <tr>\n",
       "      <th>6</th>\n",
       "      <td>7.0</td>\n",
       "      <td>11.924460</td>\n",
       "    </tr>\n",
       "    <tr>\n",
       "      <th>7</th>\n",
       "      <td>8.0</td>\n",
       "      <td>15.394040</td>\n",
       "    </tr>\n",
       "  </tbody>\n",
       "</table>\n",
       "</div>"
      ],
      "text/plain": [
       "   max_depth        MAE\n",
       "0        1.0   6.361680\n",
       "1        2.0   6.293174\n",
       "2        3.0   6.445360\n",
       "3        4.0   7.017390\n",
       "4        5.0   8.002346\n",
       "5        6.0   9.605318\n",
       "6        7.0  11.924460\n",
       "7        8.0  15.394040"
      ]
     },
     "execution_count": 112,
     "metadata": {},
     "output_type": "execute_result"
    }
   ],
   "source": [
    "catboost_depth"
   ]
  },
  {
   "cell_type": "markdown",
   "id": "9042b514",
   "metadata": {},
   "source": [
    "Лучшее значение MAE получилось при max_depth = 2."
   ]
  },
  {
   "cell_type": "code",
   "execution_count": 113,
   "id": "863e6309",
   "metadata": {
    "scrolled": false
   },
   "outputs": [],
   "source": [
    "model_compare.loc[len(model_compare)] = ['CatBoostRegressor', round(catboost_depth.loc[1, 'MAE'], 2)]"
   ]
  },
  {
   "cell_type": "markdown",
   "id": "6ba920ae",
   "metadata": {},
   "source": [
    "### Отбор лучшей модели"
   ]
  },
  {
   "cell_type": "code",
   "execution_count": 114,
   "id": "41944f4e",
   "metadata": {
    "scrolled": true
   },
   "outputs": [
    {
     "data": {
      "text/html": [
       "<div>\n",
       "<style scoped>\n",
       "    .dataframe tbody tr th:only-of-type {\n",
       "        vertical-align: middle;\n",
       "    }\n",
       "\n",
       "    .dataframe tbody tr th {\n",
       "        vertical-align: top;\n",
       "    }\n",
       "\n",
       "    .dataframe thead th {\n",
       "        text-align: right;\n",
       "    }\n",
       "</style>\n",
       "<table border=\"1\" class=\"dataframe\">\n",
       "  <thead>\n",
       "    <tr style=\"text-align: right;\">\n",
       "      <th></th>\n",
       "      <th>model</th>\n",
       "      <th>mae</th>\n",
       "    </tr>\n",
       "  </thead>\n",
       "  <tbody>\n",
       "    <tr>\n",
       "      <th>0</th>\n",
       "      <td>DummyRegressor</td>\n",
       "      <td>8.09</td>\n",
       "    </tr>\n",
       "    <tr>\n",
       "      <th>1</th>\n",
       "      <td>LinearRegression</td>\n",
       "      <td>6.42</td>\n",
       "    </tr>\n",
       "    <tr>\n",
       "      <th>2</th>\n",
       "      <td>RandomForestRegressor</td>\n",
       "      <td>6.18</td>\n",
       "    </tr>\n",
       "    <tr>\n",
       "      <th>3</th>\n",
       "      <td>CatBoostRegressor</td>\n",
       "      <td>6.29</td>\n",
       "    </tr>\n",
       "  </tbody>\n",
       "</table>\n",
       "</div>"
      ],
      "text/plain": [
       "                   model   mae\n",
       "0         DummyRegressor  8.09\n",
       "1       LinearRegression  6.42\n",
       "2  RandomForestRegressor  6.18\n",
       "3      CatBoostRegressor  6.29"
      ]
     },
     "execution_count": 114,
     "metadata": {},
     "output_type": "execute_result"
    }
   ],
   "source": [
    "model_compare"
   ]
  },
  {
   "cell_type": "markdown",
   "id": "b05c3106",
   "metadata": {},
   "source": [
    "Лучшая модель случайный лес с MAE=6.18 с параметрами 'max_depth': 12, 'n_estimators': 200."
   ]
  },
  {
   "cell_type": "markdown",
   "id": "7eab9728",
   "metadata": {},
   "source": [
    "## Расчёт MAE на тестовой выборе для лучшей модели."
   ]
  },
  {
   "cell_type": "markdown",
   "id": "a6f03e7a",
   "metadata": {},
   "source": [
    "Для расчёта MAE на тестовой выборке обучим модель случайного леса с параметрами 'max_depth': 12, 'n_estimators': 200 на всей тренировочной выборке."
   ]
  },
  {
   "cell_type": "code",
   "execution_count": 115,
   "id": "784f1582",
   "metadata": {},
   "outputs": [
    {
     "name": "stdout",
     "output_type": "stream",
     "text": [
      "MAE на тестовой выборке для модели случайного леса: 5.98\n"
     ]
    }
   ],
   "source": [
    "rfr = RandomForestRegressor(n_estimators = 200, \n",
    "                            max_depth=12, \n",
    "                            criterion='mae', \n",
    "                            random_state=random_state)\n",
    "rfr.fit(train_features, train_target)\n",
    "train_pred = rfr.predict(train_features)\n",
    "test_pred = rfr.predict(test_features)\n",
    "test_mae = mean_absolute_error(test_target, test_pred)\n",
    "print('MAE на тестовой выборке для модели случайного леса:', round(test_mae, 2))"
   ]
  },
  {
   "cell_type": "markdown",
   "id": "817d578e",
   "metadata": {},
   "source": [
    "## Отчет "
   ]
  },
  {
   "cell_type": "markdown",
   "id": "b44c8d93",
   "metadata": {},
   "source": [
    "1. Проведен обзор данных. В данных по электрической дуге было обнаружено аномальное значение в реактивной мощности. В сыпучих материалах обнаружен материал 8 содержащий единственное значение и пустые значения. В данных по газу обнаружены 2 аномальных значения. В данных температуры обнаружены пустые и аномальные значения, а также партии в которых присутствует только одно измерение температуры. В данных по проволочным материалам обнаружен материал 5 содержащий единственное значение и пустые значения.\n",
    "2. Проведена предобработка данных. Удалены партии с пустыми и аномальными значениями в данных по элетрической дуге, температуре и газу. В данных по элетрической дуге добавлен признак работа активной мощности, проведено ее суммирование по периодам работы электрической дуги. Работа электрической дуги - это энергия, которая идет на нагрев партии стали. В данных по сыпучим и проволочным материалам удалены партии с единственным значением материала. Пустые значения в данных по сыпучим и проволочным материалам заменены на нули.\n",
    "3. Для машинного обучения проведено агрегирование данных по электрической дуге, по сыпучим материалам, по газу, по температуре и по проволочным материалам. Данные по времени применения сыпучих и проволочных материалов не использовались, т.к. не имели значения для машинного обучения.<br/>\n",
    "   Признаки взятые для обучения моделей машинного обучения: 'work_active', 'temp_first', 'Bulk 1', 'Bulk 2', 'Bulk 3', 'Bulk 4','Bulk 5', 'Bulk 6', 'Bulk 7', 'Bulk 9', 'Bulk 10', 'Bulk 11', 'Bulk 12','Bulk 13', Bulk 14', 'Bulk 15', 'Wire 1', 'Wire 2', 'Wire 3', 'Wire 4', 'Wire 6', 'Wire 7', 'Wire 8', 'Wire 9'<br/>\n",
    "   Целевой признак для машинного обучения: 'temp_last'\n",
    "4. Проведено обучение 3-х моделей машинного обучения: линейной регрессии, случайного леса с регрессией, градиентного бустинга catboost с регрессией. Оценка моделей производилась кросс-валидацией с CV=3 с использованием метрика MAE. Лучшую метрику показала модель случайного леса с MAE=6.18 с параметрами 'max_depth': 12, 'n_estimators': 200.\n",
    "5. Лучшая модель случайного леса на тестовой выборке показала значение MAE=5.98. Эту модель можно рекомендовать для внедрения в производство для предсказания конечной температуры в процессе выплавки стали.\n",
    "6. Каких-либо сложностей с реализацией плана проекта не было. Всё делалось в соотвествии с планом, каких-либо отличий не было."
   ]
  }
 ],
 "metadata": {
  "ExecuteTimeLog": [
   {
    "duration": 1696,
    "start_time": "2022-09-21T10:24:23.787Z"
   },
   {
    "duration": 5,
    "start_time": "2022-09-21T10:24:25.485Z"
   },
   {
    "duration": 4,
    "start_time": "2022-09-21T10:24:25.495Z"
   },
   {
    "duration": 553,
    "start_time": "2022-09-21T10:24:25.502Z"
   },
   {
    "duration": 15,
    "start_time": "2022-09-21T10:24:26.056Z"
   },
   {
    "duration": 15,
    "start_time": "2022-09-21T10:24:26.072Z"
   },
   {
    "duration": 4,
    "start_time": "2022-09-21T10:24:26.088Z"
   },
   {
    "duration": 18,
    "start_time": "2022-09-21T10:24:26.094Z"
   },
   {
    "duration": 5,
    "start_time": "2022-09-21T10:24:26.114Z"
   },
   {
    "duration": 9,
    "start_time": "2022-09-21T10:24:26.121Z"
   },
   {
    "duration": 26,
    "start_time": "2022-09-21T10:24:26.131Z"
   },
   {
    "duration": 204,
    "start_time": "2022-09-21T10:24:26.159Z"
   },
   {
    "duration": 5,
    "start_time": "2022-09-21T10:24:26.364Z"
   },
   {
    "duration": 24,
    "start_time": "2022-09-21T10:24:26.371Z"
   },
   {
    "duration": 325,
    "start_time": "2022-09-21T10:24:26.397Z"
   },
   {
    "duration": 197,
    "start_time": "2022-09-21T10:24:26.724Z"
   },
   {
    "duration": 175,
    "start_time": "2022-09-21T10:24:26.923Z"
   },
   {
    "duration": 244,
    "start_time": "2022-09-21T10:24:27.100Z"
   },
   {
    "duration": 9,
    "start_time": "2022-09-21T10:24:27.346Z"
   },
   {
    "duration": 124,
    "start_time": "2022-09-21T10:24:27.356Z"
   },
   {
    "duration": 137,
    "start_time": "2022-09-21T10:24:27.481Z"
   },
   {
    "duration": 13,
    "start_time": "2022-09-21T10:24:27.620Z"
   },
   {
    "duration": 5,
    "start_time": "2022-09-21T10:24:27.634Z"
   },
   {
    "duration": 14,
    "start_time": "2022-09-21T10:24:27.640Z"
   },
   {
    "duration": 6,
    "start_time": "2022-09-21T10:24:27.656Z"
   },
   {
    "duration": 35,
    "start_time": "2022-09-21T10:24:27.664Z"
   },
   {
    "duration": 176,
    "start_time": "2022-09-21T10:24:27.701Z"
   },
   {
    "duration": 18,
    "start_time": "2022-09-21T10:24:27.882Z"
   },
   {
    "duration": 271,
    "start_time": "2022-09-21T10:24:27.902Z"
   },
   {
    "duration": 114,
    "start_time": "2022-09-21T10:24:28.175Z"
   },
   {
    "duration": 12,
    "start_time": "2022-09-21T10:24:28.295Z"
   },
   {
    "duration": 18,
    "start_time": "2022-09-21T10:24:28.309Z"
   },
   {
    "duration": 16,
    "start_time": "2022-09-21T10:24:28.329Z"
   },
   {
    "duration": 7,
    "start_time": "2022-09-21T10:24:28.347Z"
   },
   {
    "duration": 12,
    "start_time": "2022-09-21T10:24:28.356Z"
   },
   {
    "duration": 10,
    "start_time": "2022-09-21T10:24:28.394Z"
   },
   {
    "duration": 11,
    "start_time": "2022-09-21T10:24:28.406Z"
   },
   {
    "duration": 7,
    "start_time": "2022-09-21T10:24:28.419Z"
   },
   {
    "duration": 3662,
    "start_time": "2022-09-21T10:24:28.428Z"
   },
   {
    "duration": 24,
    "start_time": "2022-09-21T10:24:32.099Z"
   },
   {
    "duration": 13,
    "start_time": "2022-09-21T10:24:32.126Z"
   },
   {
    "duration": 15,
    "start_time": "2022-09-21T10:24:32.142Z"
   },
   {
    "duration": 37,
    "start_time": "2022-09-21T10:24:32.159Z"
   },
   {
    "duration": 20,
    "start_time": "2022-09-21T10:24:32.198Z"
   },
   {
    "duration": 7,
    "start_time": "2022-09-21T10:24:32.220Z"
   },
   {
    "duration": 144,
    "start_time": "2022-09-21T10:24:32.229Z"
   },
   {
    "duration": 20,
    "start_time": "2022-09-21T10:24:32.375Z"
   },
   {
    "duration": 477,
    "start_time": "2022-09-21T10:24:32.397Z"
   },
   {
    "duration": 136,
    "start_time": "2022-09-21T10:24:32.876Z"
   },
   {
    "duration": 8,
    "start_time": "2022-09-21T10:24:33.014Z"
   },
   {
    "duration": 8,
    "start_time": "2022-09-21T10:24:33.023Z"
   },
   {
    "duration": 8,
    "start_time": "2022-09-21T10:24:33.032Z"
   },
   {
    "duration": 9,
    "start_time": "2022-09-21T10:24:33.042Z"
   },
   {
    "duration": 13,
    "start_time": "2022-09-21T10:24:33.052Z"
   },
   {
    "duration": 8,
    "start_time": "2022-09-21T10:24:33.096Z"
   },
   {
    "duration": 11,
    "start_time": "2022-09-21T10:24:33.106Z"
   },
   {
    "duration": 8,
    "start_time": "2022-09-21T10:24:33.119Z"
   },
   {
    "duration": 12,
    "start_time": "2022-09-21T10:24:33.129Z"
   },
   {
    "duration": 13,
    "start_time": "2022-09-21T10:24:33.142Z"
   },
   {
    "duration": 14,
    "start_time": "2022-09-21T10:24:33.194Z"
   },
   {
    "duration": 7,
    "start_time": "2022-09-21T10:24:33.210Z"
   },
   {
    "duration": 7,
    "start_time": "2022-09-21T10:24:33.219Z"
   },
   {
    "duration": 8,
    "start_time": "2022-09-21T10:24:33.228Z"
   },
   {
    "duration": 169,
    "start_time": "2022-09-21T10:24:33.238Z"
   },
   {
    "duration": 400,
    "start_time": "2022-09-21T10:24:33.409Z"
   },
   {
    "duration": 131,
    "start_time": "2022-09-21T10:24:33.811Z"
   },
   {
    "duration": 10,
    "start_time": "2022-09-21T10:24:33.944Z"
   },
   {
    "duration": 7,
    "start_time": "2022-09-21T10:24:33.956Z"
   },
   {
    "duration": 31,
    "start_time": "2022-09-21T10:24:33.965Z"
   },
   {
    "duration": 5,
    "start_time": "2022-09-21T10:24:33.998Z"
   },
   {
    "duration": 9,
    "start_time": "2022-09-21T10:24:34.005Z"
   },
   {
    "duration": 6,
    "start_time": "2022-09-21T10:24:34.015Z"
   },
   {
    "duration": 4,
    "start_time": "2022-09-21T10:24:34.023Z"
   },
   {
    "duration": 10,
    "start_time": "2022-09-21T10:24:34.029Z"
   },
   {
    "duration": 8,
    "start_time": "2022-09-21T10:24:34.040Z"
   },
   {
    "duration": 9,
    "start_time": "2022-09-21T10:24:34.049Z"
   },
   {
    "duration": 47,
    "start_time": "2022-09-21T10:24:34.059Z"
   },
   {
    "duration": 17,
    "start_time": "2022-09-21T10:24:34.107Z"
   },
   {
    "duration": 15,
    "start_time": "2022-09-21T10:24:34.126Z"
   },
   {
    "duration": 10,
    "start_time": "2022-09-21T10:24:34.143Z"
   },
   {
    "duration": 41,
    "start_time": "2022-09-21T10:24:34.154Z"
   },
   {
    "duration": 6,
    "start_time": "2022-09-21T10:24:34.201Z"
   },
   {
    "duration": 6,
    "start_time": "2022-09-21T10:24:34.208Z"
   },
   {
    "duration": 2056,
    "start_time": "2022-09-21T10:24:34.215Z"
   },
   {
    "duration": 22,
    "start_time": "2022-09-21T10:24:36.273Z"
   },
   {
    "duration": 13,
    "start_time": "2022-09-21T10:24:36.297Z"
   },
   {
    "duration": 22,
    "start_time": "2022-09-21T10:24:36.311Z"
   },
   {
    "duration": 15,
    "start_time": "2022-09-21T10:24:36.334Z"
   },
   {
    "duration": 27,
    "start_time": "2022-09-21T10:24:36.351Z"
   },
   {
    "duration": 23,
    "start_time": "2022-09-21T10:24:36.380Z"
   },
   {
    "duration": 12,
    "start_time": "2022-09-21T10:24:36.405Z"
   },
   {
    "duration": 12,
    "start_time": "2022-09-21T10:24:36.420Z"
   },
   {
    "duration": 14,
    "start_time": "2022-09-21T10:24:36.434Z"
   },
   {
    "duration": 48,
    "start_time": "2022-09-21T10:24:36.449Z"
   },
   {
    "duration": 12,
    "start_time": "2022-09-21T10:24:36.499Z"
   },
   {
    "duration": 27,
    "start_time": "2022-09-21T10:24:36.514Z"
   },
   {
    "duration": 22,
    "start_time": "2022-09-21T10:24:36.543Z"
   },
   {
    "duration": 61,
    "start_time": "2022-09-21T10:24:36.568Z"
   },
   {
    "duration": 5,
    "start_time": "2022-09-21T10:24:36.631Z"
   },
   {
    "duration": 10,
    "start_time": "2022-09-21T10:24:36.638Z"
   },
   {
    "duration": 9,
    "start_time": "2022-09-21T10:24:36.650Z"
   },
   {
    "duration": 19,
    "start_time": "2022-09-21T10:24:36.661Z"
   },
   {
    "duration": 22,
    "start_time": "2022-09-21T10:24:36.682Z"
   },
   {
    "duration": 13,
    "start_time": "2022-09-21T10:24:36.707Z"
   },
   {
    "duration": 11,
    "start_time": "2022-09-21T10:24:36.722Z"
   },
   {
    "duration": 261,
    "start_time": "2022-09-21T10:24:36.735Z"
   },
   {
    "duration": 100,
    "start_time": "2022-09-21T10:24:36.998Z"
   },
   {
    "duration": 25428,
    "start_time": "2022-09-21T10:24:37.099Z"
   },
   {
    "duration": 3225,
    "start_time": "2022-09-21T10:25:02.529Z"
   },
   {
    "duration": 11,
    "start_time": "2022-09-21T10:25:05.755Z"
   },
   {
    "duration": 7914,
    "start_time": "2022-09-21T10:25:05.768Z"
   },
   {
    "duration": 16,
    "start_time": "2022-09-21T10:25:13.685Z"
   },
   {
    "duration": 88598,
    "start_time": "2022-09-21T10:25:13.703Z"
   },
   {
    "duration": 11,
    "start_time": "2022-09-21T10:26:42.303Z"
   },
   {
    "duration": 11,
    "start_time": "2022-09-21T10:26:42.316Z"
   },
   {
    "duration": 10,
    "start_time": "2022-09-21T10:26:42.329Z"
   },
   {
    "duration": 207,
    "start_time": "2022-09-21T10:26:42.341Z"
   },
   {
    "duration": 77,
    "start_time": "2022-09-21T10:30:37.831Z"
   },
   {
    "duration": 19249,
    "start_time": "2022-09-21T10:35:29.227Z"
   }
  ],
  "kernelspec": {
   "display_name": "Python 3 (ipykernel)",
   "language": "python",
   "name": "python3"
  },
  "language_info": {
   "codemirror_mode": {
    "name": "ipython",
    "version": 3
   },
   "file_extension": ".py",
   "mimetype": "text/x-python",
   "name": "python",
   "nbconvert_exporter": "python",
   "pygments_lexer": "ipython3",
   "version": "3.7.8"
  },
  "toc": {
   "base_numbering": 1,
   "nav_menu": {},
   "number_sections": true,
   "sideBar": true,
   "skip_h1_title": true,
   "title_cell": "Table of Contents",
   "title_sidebar": "Contents",
   "toc_cell": true,
   "toc_position": {
    "height": "calc(100% - 180px)",
    "left": "10px",
    "top": "150px",
    "width": "237px"
   },
   "toc_section_display": true,
   "toc_window_display": true
  }
 },
 "nbformat": 4,
 "nbformat_minor": 5
}
