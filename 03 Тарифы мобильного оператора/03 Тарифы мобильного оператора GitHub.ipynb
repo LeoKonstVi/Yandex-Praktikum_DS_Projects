{
 "cells": [
  {
   "cell_type": "markdown",
   "metadata": {},
   "source": [
    "<font size=\"5\"> **Определение перспективного тарифа для телеком компании** </font>"
   ]
  },
  {
   "cell_type": "markdown",
   "metadata": {},
   "source": [
    "В компании «Мегалайн», являющейся федеральным оператором сотовой связи, два тарифных плана: «Смарт» и «Ультра». Чтобы скорректировать рекламный бюджет, коммерческий департамент хочет понять, какой тариф приносит больше денег.\n",
    "Необходимо сделать предварительный анализ тарифов на небольшой выборке клиентов. Есть данные 500 пользователей «Мегалайна»: кто они, откуда, каким тарифом пользуются, сколько звонков и сообщений каждый отправил за 2018 год. Нужно проанализировать поведение клиентов и сделать вывод — какой тариф лучше."
   ]
  },
  {
   "cell_type": "markdown",
   "metadata": {
    "toc": true
   },
   "source": [
    "<h1>Содержание:<span class=\"tocSkip\"></span></h1>\n",
    "<div class=\"toc\"><ul class=\"toc-item\"><li><span><a href=\"#Введение\" data-toc-modified-id=\"Введение-1\"><span class=\"toc-item-num\">1&nbsp;&nbsp;</span>Введение</a></span><ul class=\"toc-item\"><li><span><a href=\"#Описание-данных\" data-toc-modified-id=\"Описание-данных-1.1\"><span class=\"toc-item-num\">1.1&nbsp;&nbsp;</span>Описание данных</a></span></li><li><span><a href=\"#Описание-тарифов\" data-toc-modified-id=\"Описание-тарифов-1.2\"><span class=\"toc-item-num\">1.2&nbsp;&nbsp;</span>Описание тарифов</a></span></li><li><span><a href=\"#Инструкция-по-выполнению-проекта\" data-toc-modified-id=\"Инструкция-по-выполнению-проекта-1.3\"><span class=\"toc-item-num\">1.3&nbsp;&nbsp;</span>Инструкция по выполнению проекта</a></span></li></ul></li><li><span><a href=\"#Импорт-библиотек-считывание-данных\" data-toc-modified-id=\"Импорт-библиотек-считывание-данных-2\"><span class=\"toc-item-num\">2&nbsp;&nbsp;</span>Импорт библиотек считывание данных</a></span><ul class=\"toc-item\"><li><span><a href=\"#Импорт-библиотек\" data-toc-modified-id=\"Импорт-библиотек-2.1\"><span class=\"toc-item-num\">2.1&nbsp;&nbsp;</span>Импорт библиотек</a></span></li><li><span><a href=\"#Считывание-данных-и-их-просмотр.\" data-toc-modified-id=\"Считывание-данных-и-их-просмотр.-2.2\"><span class=\"toc-item-num\">2.2&nbsp;&nbsp;</span>Считывание данных и их просмотр.</a></span><ul class=\"toc-item\"><li><span><a href=\"#Users\" data-toc-modified-id=\"Users-2.2.1\"><span class=\"toc-item-num\">2.2.1&nbsp;&nbsp;</span>Users</a></span></li><li><span><a href=\"#Tariffs\" data-toc-modified-id=\"Tariffs-2.2.2\"><span class=\"toc-item-num\">2.2.2&nbsp;&nbsp;</span>Tariffs</a></span></li><li><span><a href=\"#Messages\" data-toc-modified-id=\"Messages-2.2.3\"><span class=\"toc-item-num\">2.2.3&nbsp;&nbsp;</span>Messages</a></span></li><li><span><a href=\"#Calls\" data-toc-modified-id=\"Calls-2.2.4\"><span class=\"toc-item-num\">2.2.4&nbsp;&nbsp;</span>Calls</a></span></li><li><span><a href=\"#Internet\" data-toc-modified-id=\"Internet-2.2.5\"><span class=\"toc-item-num\">2.2.5&nbsp;&nbsp;</span>Internet</a></span></li></ul></li></ul></li><li><span><a href=\"#Предобработка-данных\" data-toc-modified-id=\"Предобработка-данных-3\"><span class=\"toc-item-num\">3&nbsp;&nbsp;</span>Предобработка данных</a></span><ul class=\"toc-item\"><li><span><a href=\"#Users\" data-toc-modified-id=\"Users-3.1\"><span class=\"toc-item-num\">3.1&nbsp;&nbsp;</span>Users</a></span></li><li><span><a href=\"#Tariffs\" data-toc-modified-id=\"Tariffs-3.2\"><span class=\"toc-item-num\">3.2&nbsp;&nbsp;</span>Tariffs</a></span></li><li><span><a href=\"#Messages\" data-toc-modified-id=\"Messages-3.3\"><span class=\"toc-item-num\">3.3&nbsp;&nbsp;</span>Messages</a></span></li><li><span><a href=\"#Calls\" data-toc-modified-id=\"Calls-3.4\"><span class=\"toc-item-num\">3.4&nbsp;&nbsp;</span>Calls</a></span></li><li><span><a href=\"#Internet\" data-toc-modified-id=\"Internet-3.5\"><span class=\"toc-item-num\">3.5&nbsp;&nbsp;</span>Internet</a></span></li></ul></li><li><span><a href=\"#Подготовка-данных\" data-toc-modified-id=\"Подготовка-данных-4\"><span class=\"toc-item-num\">4&nbsp;&nbsp;</span>Подготовка данных</a></span><ul class=\"toc-item\"><li><span><a href=\"#Количество-звонков-и-израсходованных-минут-абонентов-по-месяцам\" data-toc-modified-id=\"Количество-звонков-и-израсходованных-минут-абонентов-по-месяцам-4.1\"><span class=\"toc-item-num\">4.1&nbsp;&nbsp;</span>Количество звонков и израсходованных минут абонентов по месяцам</a></span></li><li><span><a href=\"#Количество-отправленных-сообщений-абонентов-по-месяцам\" data-toc-modified-id=\"Количество-отправленных-сообщений-абонентов-по-месяцам-4.2\"><span class=\"toc-item-num\">4.2&nbsp;&nbsp;</span>Количество отправленных сообщений абонентов по месяцам</a></span></li><li><span><a href=\"#Объём-израсходованного-интернет-трафика-по-месяцам\" data-toc-modified-id=\"Объём-израсходованного-интернет-трафика-по-месяцам-4.3\"><span class=\"toc-item-num\">4.3&nbsp;&nbsp;</span>Объём израсходованного интернет трафика по месяцам</a></span></li><li><span><a href=\"#Объединение-таблиц\" data-toc-modified-id=\"Объединение-таблиц-4.4\"><span class=\"toc-item-num\">4.4&nbsp;&nbsp;</span>Объединение таблиц</a></span><ul class=\"toc-item\"><li><span><a href=\"#Интернет-трафик,-звонки-и-сообщения-для-каждого-пользователя\" data-toc-modified-id=\"Интернет-трафик,-звонки-и-сообщения-для-каждого-пользователя-4.4.1\"><span class=\"toc-item-num\">4.4.1&nbsp;&nbsp;</span>Интернет трафик, звонки и сообщения для каждого пользователя</a></span></li><li><span><a href=\"#Тариф-пользователя\" data-toc-modified-id=\"Тариф-пользователя-4.4.2\"><span class=\"toc-item-num\">4.4.2&nbsp;&nbsp;</span>Тариф пользователя</a></span></li><li><span><a href=\"#Условия-тарифа\" data-toc-modified-id=\"Условия-тарифа-4.4.3\"><span class=\"toc-item-num\">4.4.3&nbsp;&nbsp;</span>Условия тарифа</a></span></li><li><span><a href=\"#Изменение-типов-столбцов-mb_used,-calls_count,-calls_duration,-messages_count\" data-toc-modified-id=\"Изменение-типов-столбцов-mb_used,-calls_count,-calls_duration,-messages_count-4.4.4\"><span class=\"toc-item-num\">4.4.4&nbsp;&nbsp;</span>Изменение типов столбцов mb_used, calls_count, calls_duration, messages_count</a></span></li></ul></li><li><span><a href=\"#Создание-дополнительных-столбцов\" data-toc-modified-id=\"Создание-дополнительных-столбцов-4.5\"><span class=\"toc-item-num\">4.5&nbsp;&nbsp;</span>Создание дополнительных столбцов</a></span><ul class=\"toc-item\"><li><span><a href=\"#gb_for_pay-трафик-для-оплаты\" data-toc-modified-id=\"gb_for_pay-трафик-для-оплаты-4.5.1\"><span class=\"toc-item-num\">4.5.1&nbsp;&nbsp;</span>gb_for_pay трафик для оплаты</a></span></li><li><span><a href=\"#minutes_for_pay-минуты-для-оплаты\" data-toc-modified-id=\"minutes_for_pay-минуты-для-оплаты-4.5.2\"><span class=\"toc-item-num\">4.5.2&nbsp;&nbsp;</span>minutes_for_pay минуты для оплаты</a></span></li><li><span><a href=\"#messages_for_pay-сообщения-для-оплаты\" data-toc-modified-id=\"messages_for_pay-сообщения-для-оплаты-4.5.3\"><span class=\"toc-item-num\">4.5.3&nbsp;&nbsp;</span>messages_for_pay сообщения для оплаты</a></span></li><li><span><a href=\"#monthly_revenue-помесячная-выручка-с-пользователя\" data-toc-modified-id=\"monthly_revenue-помесячная-выручка-с-пользователя-4.5.4\"><span class=\"toc-item-num\">4.5.4&nbsp;&nbsp;</span>monthly_revenue помесячная выручка с пользователя</a></span></li><li><span><a href=\"#city_cat-категория-местоположения-Москва,-другие-города\" data-toc-modified-id=\"city_cat-категория-местоположения-Москва,-другие-города-4.5.5\"><span class=\"toc-item-num\">4.5.5&nbsp;&nbsp;</span>city_cat категория местоположения Москва, другие города</a></span></li></ul></li></ul></li><li><span><a href=\"#Анализ-данных\" data-toc-modified-id=\"Анализ-данных-5\"><span class=\"toc-item-num\">5&nbsp;&nbsp;</span>Анализ данных</a></span><ul class=\"toc-item\"><li><span><a href=\"#Количество-пользователей-тарифов\" data-toc-modified-id=\"Количество-пользователей-тарифов-5.1\"><span class=\"toc-item-num\">5.1&nbsp;&nbsp;</span>Количество пользователей тарифов</a></span></li><li><span><a href=\"#Анализ-данных-пользователей-тарифа-&quot;ультра&quot;\" data-toc-modified-id=\"Анализ-данных-пользователей-тарифа-&quot;ультра&quot;-5.2\"><span class=\"toc-item-num\">5.2&nbsp;&nbsp;</span>Анализ данных пользователей тарифа \"ультра\"</a></span><ul class=\"toc-item\"><li><span><a href=\"#Calls\" data-toc-modified-id=\"Calls-5.2.1\"><span class=\"toc-item-num\">5.2.1&nbsp;&nbsp;</span>Calls</a></span></li><li><span><a href=\"#Messages\" data-toc-modified-id=\"Messages-5.2.2\"><span class=\"toc-item-num\">5.2.2&nbsp;&nbsp;</span>Messages</a></span></li><li><span><a href=\"#mb_used\" data-toc-modified-id=\"mb_used-5.2.3\"><span class=\"toc-item-num\">5.2.3&nbsp;&nbsp;</span>mb_used</a></span></li><li><span><a href=\"#Выручка\" data-toc-modified-id=\"Выручка-5.2.4\"><span class=\"toc-item-num\">5.2.4&nbsp;&nbsp;</span>Выручка</a></span></li></ul></li><li><span><a href=\"#Aнализ-данных-пользователей-тарифа-smart\" data-toc-modified-id=\"Aнализ-данных-пользователей-тарифа-smart-5.3\"><span class=\"toc-item-num\">5.3&nbsp;&nbsp;</span>Aнализ данных пользователей тарифа smart</a></span><ul class=\"toc-item\"><li><span><a href=\"#calls\" data-toc-modified-id=\"calls-5.3.1\"><span class=\"toc-item-num\">5.3.1&nbsp;&nbsp;</span>calls</a></span></li><li><span><a href=\"#messages\" data-toc-modified-id=\"messages-5.3.2\"><span class=\"toc-item-num\">5.3.2&nbsp;&nbsp;</span>messages</a></span></li><li><span><a href=\"#mb_used\" data-toc-modified-id=\"mb_used-5.3.3\"><span class=\"toc-item-num\">5.3.3&nbsp;&nbsp;</span>mb_used</a></span></li><li><span><a href=\"#Выручка\" data-toc-modified-id=\"Выручка-5.3.4\"><span class=\"toc-item-num\">5.3.4&nbsp;&nbsp;</span>Выручка</a></span></li></ul></li><li><span><a href=\"#Отношение-средней-выручки-с-абонентов-тарифов-смарт-и-ультра\" data-toc-modified-id=\"Отношение-средней-выручки-с-абонентов-тарифов-смарт-и-ультра-5.4\"><span class=\"toc-item-num\">5.4&nbsp;&nbsp;</span>Отношение средней выручки с абонентов тарифов смарт и ультра</a></span></li><li><span><a href=\"#Проверка-гипотезы,-что-средняя-выручка-пользователей-тарифов-&quot;Ультра&quot;-и-&quot;Смарт&quot;-различаются\" data-toc-modified-id=\"Проверка-гипотезы,-что-средняя-выручка-пользователей-тарифов-&quot;Ультра&quot;-и-&quot;Смарт&quot;-различаются-5.5\"><span class=\"toc-item-num\">5.5&nbsp;&nbsp;</span>Проверка гипотезы, что средняя выручка пользователей тарифов \"Ультра\" и \"Смарт\" различаются</a></span></li><li><span><a href=\"#Проверка-гипотезы,-что-средняя-выручка-абонентов-в-Москве-отличается-от-абонентов-в-других-городах\" data-toc-modified-id=\"Проверка-гипотезы,-что-средняя-выручка-абонентов-в-Москве-отличается-от-абонентов-в-других-городах-5.6\"><span class=\"toc-item-num\">5.6&nbsp;&nbsp;</span>Проверка гипотезы, что средняя выручка абонентов в Москве отличается от абонентов в других городах</a></span></li><li><span><a href=\"#Валовый-доход-от-тарифов-ультра-и-смарт\" data-toc-modified-id=\"Валовый-доход-от-тарифов-ультра-и-смарт-5.7\"><span class=\"toc-item-num\">5.7&nbsp;&nbsp;</span>Валовый доход от тарифов ультра и смарт</a></span></li></ul></li><li><span><a href=\"#Выводы\" data-toc-modified-id=\"Выводы-6\"><span class=\"toc-item-num\">6&nbsp;&nbsp;</span>Выводы</a></span></li></ul></div>"
   ]
  },
  {
   "cell_type": "markdown",
   "metadata": {},
   "source": [
    "## Введение"
   ]
  },
  {
   "cell_type": "markdown",
   "metadata": {},
   "source": [
    "### Описание данных"
   ]
  },
  {
   "cell_type": "markdown",
   "metadata": {},
   "source": [
    "**Таблица users (информация о пользователях):**\n",
    " \n",
    "\tuser_id — уникальный идентификатор пользователя\n",
    "\tfirst_name — имя пользователя\n",
    "\tlast_name — фамилия пользователя\n",
    "\tage — возраст пользователя (годы)\n",
    "\treg_date — дата подключения тарифа (день, месяц, год)\n",
    "\tchurn_date — дата прекращения пользования тарифом (если значение пропущено, то тариф ещё действовал на момент выгрузки данных)\n",
    "\tcity — город проживания пользователя\n",
    "\ttariff — название тарифного плана\n",
    "**Таблица calls (информация о звонках):**\n",
    "\n",
    "\tid — уникальный номер звонка\n",
    "\tcall_date — дата звонка\n",
    "\tduration — длительность звонка в минутах\n",
    "\tuser_id — идентификатор пользователя, сделавшего звонок\n",
    "**Таблица messages (информация о сообщениях):**\n",
    "\n",
    "\tid — уникальный номер сообщения\n",
    "\tmessage_date — дата сообщения\n",
    "\tuser_id — идентификатор пользователя, отправившего сообщение\n",
    "**Таблица internet (информация об интернет-сессиях):**\n",
    "\n",
    "\tid — уникальный номер сессии\n",
    "\tmb_used — объём потраченного за сессию интернет-трафика (в мегабайтах)\n",
    "\tsession_date — дата интернет-сессии\n",
    "\tuser_id — идентификатор пользователя\n",
    "**Таблица tariffs (информация о тарифах):**\n",
    "\n",
    "\ttariff_name — название тарифа\n",
    "\trub_monthly_fee — ежемесячная абонентская плата в рублях\n",
    "\tminutes_included — количество минут разговора в месяц, включённых в абонентскую плату\n",
    "\tmessages_included — количество сообщений в месяц, включённых в абонентскую плату\n",
    "\tmb_per_month_included — объём интернет-трафика, включённого в абонентскую плату (в мегабайтах)\n",
    "\trub_per_minute — стоимость минуты разговора сверх тарифного пакета (например, если в тарифе 100 минут разговора в месяц, то со 101 минуты будет взиматься плата)\n",
    "\trub_per_message — стоимость отправки сообщения сверх тарифного пакета\n",
    "\trub_per_gb — стоимость дополнительного гигабайта интернет-трафика сверх тарифного пакета (1 гигабайт = 1024 мегабайта)\n"
   ]
  },
  {
   "cell_type": "markdown",
   "metadata": {},
   "source": [
    "### Описание тарифов"
   ]
  },
  {
   "cell_type": "markdown",
   "metadata": {},
   "source": [
    "**Тариф «Смарт»**\n",
    "1.\tЕжемесячная плата: 550 рублей\n",
    "2.\tВключено 500 минут разговора, 50 сообщений и 15 Гб интернет-трафика\n",
    "3.\tСтоимость услуг сверх тарифного пакета:\n",
    "o\tминута разговора: 3 рубля\n",
    "o\tсообщение: 3 рубля\n",
    "o\t1 Гб интернет-трафика: 200 рублей\n",
    "\n",
    "**Тариф «Ультра»**\n",
    "1.\tЕжемесячная плата: 1950 рублей\n",
    "2.\tВключено 3000 минут разговора, 1000 сообщений и 30 Гб интернет-трафика\n",
    "3.\tСтоимость услуг сверх тарифного пакета:\n",
    "o\tминута разговора: 1 рубль\n",
    "o\tсообщение: 1 рубль\n",
    "o\t1 Гб интернет-трафика: 150 рублей\n"
   ]
  },
  {
   "cell_type": "markdown",
   "metadata": {},
   "source": [
    "### Инструкция по выполнению проекта"
   ]
  },
  {
   "cell_type": "markdown",
   "metadata": {},
   "source": [
    "*В этом проекте задачи сформулированы в виде подробной инструкции.*\n",
    "\n",
    "Шаг 1. Откройте файл с данными и изучите общую информацию\n",
    "\n",
    "Шаг 2. Подготовьте данные\n",
    "\n",
    "* Приведите данные к нужным типам;\n",
    "* Найдите и исправьте ошибки в данных, если они есть.\n",
    "    \n",
    "Поясните, какие ошибки вы нашли и как их исправили. В данных вы найдёте звонки с нулевой продолжительностью. Это не ошибка: нулями обозначены пропущенные звонки, поэтому их не нужно удалять.\n",
    "\n",
    "Посчитайте для каждого пользователя:\n",
    "\n",
    "* количество сделанных звонков и израсходованных минут разговора по месяцам;\n",
    "* количество отправленных сообщений по месяцам;\n",
    "* объем израсходованного интернет-трафика по месяцам;\n",
    "* помесячную выручку с каждого пользователя (вычтите бесплатный лимит из суммарного количества звонков, сообщений и интернет-трафика; остаток умножьте на значение из тарифного плана; прибавьте абонентскую плату, соответствующую тарифному плану).\n",
    "\n",
    "Шаг 3. Проанализируйте данные\n",
    "\n",
    "Опишите поведение клиентов оператора, исходя из выборки. Сколько минут разговора, сколько сообщений и какой объём интернет-трафика требуется пользователям каждого тарифа в месяц? Посчитайте среднее количество, дисперсию и стандартное отклонение. Постройте гистограммы. Опишите распределения.\n",
    "\n",
    "Шаг 4. Проверьте гипотезы\n",
    "\n",
    "* средняя выручка пользователей тарифов «Ультра» и «Смарт» различаются;\n",
    "* средняя выручка пользователей из Москвы отличается от выручки пользователей из других регионов.\n",
    "Пороговое значение alpha задайте самостоятельно.\n",
    "Поясните:\n",
    "\n",
    "* как вы формулировали нулевую и альтернативную гипотезы;\n",
    "* какой критерий использовали для проверки гипотез и почему.\n",
    "\n",
    "Шаг 5. Напишите общий вывод"
   ]
  },
  {
   "cell_type": "markdown",
   "metadata": {},
   "source": [
    "## Импорт библиотек считывание данных "
   ]
  },
  {
   "cell_type": "markdown",
   "metadata": {},
   "source": [
    "### Импорт библиотек"
   ]
  },
  {
   "cell_type": "code",
   "execution_count": 1,
   "metadata": {},
   "outputs": [],
   "source": [
    "import pandas as pd\n",
    "import numpy as np\n",
    "import matplotlib.pyplot as plt\n",
    "from scipy import stats as st"
   ]
  },
  {
   "cell_type": "markdown",
   "metadata": {},
   "source": [
    "### Считывание данных и их просмотр."
   ]
  },
  {
   "cell_type": "markdown",
   "metadata": {},
   "source": [
    "#### Users"
   ]
  },
  {
   "cell_type": "code",
   "execution_count": 2,
   "metadata": {},
   "outputs": [
    {
     "data": {
      "text/html": [
       "<div>\n",
       "<style scoped>\n",
       "    .dataframe tbody tr th:only-of-type {\n",
       "        vertical-align: middle;\n",
       "    }\n",
       "\n",
       "    .dataframe tbody tr th {\n",
       "        vertical-align: top;\n",
       "    }\n",
       "\n",
       "    .dataframe thead th {\n",
       "        text-align: right;\n",
       "    }\n",
       "</style>\n",
       "<table border=\"1\" class=\"dataframe\">\n",
       "  <thead>\n",
       "    <tr style=\"text-align: right;\">\n",
       "      <th></th>\n",
       "      <th>user_id</th>\n",
       "      <th>age</th>\n",
       "      <th>churn_date</th>\n",
       "      <th>city</th>\n",
       "      <th>first_name</th>\n",
       "      <th>last_name</th>\n",
       "      <th>reg_date</th>\n",
       "      <th>tariff</th>\n",
       "    </tr>\n",
       "  </thead>\n",
       "  <tbody>\n",
       "    <tr>\n",
       "      <td>0</td>\n",
       "      <td>1000</td>\n",
       "      <td>52</td>\n",
       "      <td>NaN</td>\n",
       "      <td>Краснодар</td>\n",
       "      <td>Рафаил</td>\n",
       "      <td>Верещагин</td>\n",
       "      <td>2018-05-25</td>\n",
       "      <td>ultra</td>\n",
       "    </tr>\n",
       "    <tr>\n",
       "      <td>1</td>\n",
       "      <td>1001</td>\n",
       "      <td>41</td>\n",
       "      <td>NaN</td>\n",
       "      <td>Москва</td>\n",
       "      <td>Иван</td>\n",
       "      <td>Ежов</td>\n",
       "      <td>2018-11-01</td>\n",
       "      <td>smart</td>\n",
       "    </tr>\n",
       "    <tr>\n",
       "      <td>2</td>\n",
       "      <td>1002</td>\n",
       "      <td>59</td>\n",
       "      <td>NaN</td>\n",
       "      <td>Стерлитамак</td>\n",
       "      <td>Евгений</td>\n",
       "      <td>Абрамович</td>\n",
       "      <td>2018-06-17</td>\n",
       "      <td>smart</td>\n",
       "    </tr>\n",
       "    <tr>\n",
       "      <td>3</td>\n",
       "      <td>1003</td>\n",
       "      <td>23</td>\n",
       "      <td>NaN</td>\n",
       "      <td>Москва</td>\n",
       "      <td>Белла</td>\n",
       "      <td>Белякова</td>\n",
       "      <td>2018-08-17</td>\n",
       "      <td>ultra</td>\n",
       "    </tr>\n",
       "    <tr>\n",
       "      <td>4</td>\n",
       "      <td>1004</td>\n",
       "      <td>68</td>\n",
       "      <td>NaN</td>\n",
       "      <td>Новокузнецк</td>\n",
       "      <td>Татьяна</td>\n",
       "      <td>Авдеенко</td>\n",
       "      <td>2018-05-14</td>\n",
       "      <td>ultra</td>\n",
       "    </tr>\n",
       "  </tbody>\n",
       "</table>\n",
       "</div>"
      ],
      "text/plain": [
       "   user_id  age churn_date         city first_name  last_name    reg_date  \\\n",
       "0     1000   52        NaN    Краснодар     Рафаил  Верещагин  2018-05-25   \n",
       "1     1001   41        NaN       Москва       Иван       Ежов  2018-11-01   \n",
       "2     1002   59        NaN  Стерлитамак    Евгений  Абрамович  2018-06-17   \n",
       "3     1003   23        NaN       Москва      Белла   Белякова  2018-08-17   \n",
       "4     1004   68        NaN  Новокузнецк    Татьяна   Авдеенко  2018-05-14   \n",
       "\n",
       "  tariff  \n",
       "0  ultra  \n",
       "1  smart  \n",
       "2  smart  \n",
       "3  ultra  \n",
       "4  ultra  "
      ]
     },
     "metadata": {},
     "output_type": "display_data"
    }
   ],
   "source": [
    "try:\n",
    "    users = pd.read_csv('datasets/users.csv')\n",
    "except:\n",
    "    users = pd.read_csv('/datasets/users.csv')\n",
    "display(users.head())"
   ]
  },
  {
   "cell_type": "markdown",
   "metadata": {},
   "source": [
    "#### Tariffs"
   ]
  },
  {
   "cell_type": "code",
   "execution_count": 3,
   "metadata": {},
   "outputs": [
    {
     "data": {
      "text/html": [
       "<div>\n",
       "<style scoped>\n",
       "    .dataframe tbody tr th:only-of-type {\n",
       "        vertical-align: middle;\n",
       "    }\n",
       "\n",
       "    .dataframe tbody tr th {\n",
       "        vertical-align: top;\n",
       "    }\n",
       "\n",
       "    .dataframe thead th {\n",
       "        text-align: right;\n",
       "    }\n",
       "</style>\n",
       "<table border=\"1\" class=\"dataframe\">\n",
       "  <thead>\n",
       "    <tr style=\"text-align: right;\">\n",
       "      <th></th>\n",
       "      <th>messages_included</th>\n",
       "      <th>mb_per_month_included</th>\n",
       "      <th>minutes_included</th>\n",
       "      <th>rub_monthly_fee</th>\n",
       "      <th>rub_per_gb</th>\n",
       "      <th>rub_per_message</th>\n",
       "      <th>rub_per_minute</th>\n",
       "      <th>tariff_name</th>\n",
       "    </tr>\n",
       "  </thead>\n",
       "  <tbody>\n",
       "    <tr>\n",
       "      <td>0</td>\n",
       "      <td>50</td>\n",
       "      <td>15360</td>\n",
       "      <td>500</td>\n",
       "      <td>550</td>\n",
       "      <td>200</td>\n",
       "      <td>3</td>\n",
       "      <td>3</td>\n",
       "      <td>smart</td>\n",
       "    </tr>\n",
       "    <tr>\n",
       "      <td>1</td>\n",
       "      <td>1000</td>\n",
       "      <td>30720</td>\n",
       "      <td>3000</td>\n",
       "      <td>1950</td>\n",
       "      <td>150</td>\n",
       "      <td>1</td>\n",
       "      <td>1</td>\n",
       "      <td>ultra</td>\n",
       "    </tr>\n",
       "  </tbody>\n",
       "</table>\n",
       "</div>"
      ],
      "text/plain": [
       "   messages_included  mb_per_month_included  minutes_included  \\\n",
       "0                 50                  15360               500   \n",
       "1               1000                  30720              3000   \n",
       "\n",
       "   rub_monthly_fee  rub_per_gb  rub_per_message  rub_per_minute tariff_name  \n",
       "0              550         200                3               3       smart  \n",
       "1             1950         150                1               1       ultra  "
      ]
     },
     "metadata": {},
     "output_type": "display_data"
    }
   ],
   "source": [
    "try:\n",
    "    tariffs = pd.read_csv('datasets/tariffs.csv')\n",
    "except:\n",
    "    tariffs = pd.read_csv('/datasets/tariffs.csv')\n",
    "display(tariffs.head())"
   ]
  },
  {
   "cell_type": "markdown",
   "metadata": {},
   "source": [
    "Трафик будет округляться до Гб, поэтому переименуем столбец mb_per_month_included на имя gb_per_month_included и исправим значение на 15 и 30 Гб, как написано в описании проекта."
   ]
  },
  {
   "cell_type": "code",
   "execution_count": 4,
   "metadata": {},
   "outputs": [
    {
     "data": {
      "text/html": [
       "<div>\n",
       "<style scoped>\n",
       "    .dataframe tbody tr th:only-of-type {\n",
       "        vertical-align: middle;\n",
       "    }\n",
       "\n",
       "    .dataframe tbody tr th {\n",
       "        vertical-align: top;\n",
       "    }\n",
       "\n",
       "    .dataframe thead th {\n",
       "        text-align: right;\n",
       "    }\n",
       "</style>\n",
       "<table border=\"1\" class=\"dataframe\">\n",
       "  <thead>\n",
       "    <tr style=\"text-align: right;\">\n",
       "      <th></th>\n",
       "      <th>messages_included</th>\n",
       "      <th>gb_per_month_included</th>\n",
       "      <th>minutes_included</th>\n",
       "      <th>rub_monthly_fee</th>\n",
       "      <th>rub_per_gb</th>\n",
       "      <th>rub_per_message</th>\n",
       "      <th>rub_per_minute</th>\n",
       "      <th>tariff_name</th>\n",
       "    </tr>\n",
       "  </thead>\n",
       "  <tbody>\n",
       "    <tr>\n",
       "      <td>0</td>\n",
       "      <td>50</td>\n",
       "      <td>15</td>\n",
       "      <td>500</td>\n",
       "      <td>550</td>\n",
       "      <td>200</td>\n",
       "      <td>3</td>\n",
       "      <td>3</td>\n",
       "      <td>smart</td>\n",
       "    </tr>\n",
       "    <tr>\n",
       "      <td>1</td>\n",
       "      <td>1000</td>\n",
       "      <td>30</td>\n",
       "      <td>3000</td>\n",
       "      <td>1950</td>\n",
       "      <td>150</td>\n",
       "      <td>1</td>\n",
       "      <td>1</td>\n",
       "      <td>ultra</td>\n",
       "    </tr>\n",
       "  </tbody>\n",
       "</table>\n",
       "</div>"
      ],
      "text/plain": [
       "   messages_included  gb_per_month_included  minutes_included  \\\n",
       "0                 50                     15               500   \n",
       "1               1000                     30              3000   \n",
       "\n",
       "   rub_monthly_fee  rub_per_gb  rub_per_message  rub_per_minute tariff_name  \n",
       "0              550         200                3               3       smart  \n",
       "1             1950         150                1               1       ultra  "
      ]
     },
     "metadata": {},
     "output_type": "display_data"
    }
   ],
   "source": [
    "tariffs = tariffs.rename(\n",
    "            columns={\n",
    "                'mb_per_month_included' : 'gb_per_month_included'\n",
    "            }\n",
    ")\n",
    "tariffs.loc[0, 'gb_per_month_included'] = 15\n",
    "tariffs.loc[1, 'gb_per_month_included'] = 30\n",
    "display(tariffs)"
   ]
  },
  {
   "cell_type": "markdown",
   "metadata": {},
   "source": [
    "#### Messages"
   ]
  },
  {
   "cell_type": "code",
   "execution_count": 5,
   "metadata": {},
   "outputs": [
    {
     "data": {
      "text/html": [
       "<div>\n",
       "<style scoped>\n",
       "    .dataframe tbody tr th:only-of-type {\n",
       "        vertical-align: middle;\n",
       "    }\n",
       "\n",
       "    .dataframe tbody tr th {\n",
       "        vertical-align: top;\n",
       "    }\n",
       "\n",
       "    .dataframe thead th {\n",
       "        text-align: right;\n",
       "    }\n",
       "</style>\n",
       "<table border=\"1\" class=\"dataframe\">\n",
       "  <thead>\n",
       "    <tr style=\"text-align: right;\">\n",
       "      <th></th>\n",
       "      <th>id</th>\n",
       "      <th>message_date</th>\n",
       "      <th>user_id</th>\n",
       "    </tr>\n",
       "  </thead>\n",
       "  <tbody>\n",
       "    <tr>\n",
       "      <td>0</td>\n",
       "      <td>1000_0</td>\n",
       "      <td>2018-06-27</td>\n",
       "      <td>1000</td>\n",
       "    </tr>\n",
       "    <tr>\n",
       "      <td>1</td>\n",
       "      <td>1000_1</td>\n",
       "      <td>2018-10-08</td>\n",
       "      <td>1000</td>\n",
       "    </tr>\n",
       "    <tr>\n",
       "      <td>2</td>\n",
       "      <td>1000_2</td>\n",
       "      <td>2018-08-04</td>\n",
       "      <td>1000</td>\n",
       "    </tr>\n",
       "    <tr>\n",
       "      <td>3</td>\n",
       "      <td>1000_3</td>\n",
       "      <td>2018-06-16</td>\n",
       "      <td>1000</td>\n",
       "    </tr>\n",
       "    <tr>\n",
       "      <td>4</td>\n",
       "      <td>1000_4</td>\n",
       "      <td>2018-12-05</td>\n",
       "      <td>1000</td>\n",
       "    </tr>\n",
       "  </tbody>\n",
       "</table>\n",
       "</div>"
      ],
      "text/plain": [
       "       id message_date  user_id\n",
       "0  1000_0   2018-06-27     1000\n",
       "1  1000_1   2018-10-08     1000\n",
       "2  1000_2   2018-08-04     1000\n",
       "3  1000_3   2018-06-16     1000\n",
       "4  1000_4   2018-12-05     1000"
      ]
     },
     "metadata": {},
     "output_type": "display_data"
    }
   ],
   "source": [
    "try:\n",
    "    messages = pd.read_csv('datasets/messages.csv')\n",
    "except:\n",
    "    messages = pd.read_csv('/datasets/messages.csv')\n",
    "display(messages.head())"
   ]
  },
  {
   "cell_type": "markdown",
   "metadata": {},
   "source": [
    "#### Calls"
   ]
  },
  {
   "cell_type": "code",
   "execution_count": 6,
   "metadata": {
    "scrolled": true
   },
   "outputs": [
    {
     "data": {
      "text/html": [
       "<div>\n",
       "<style scoped>\n",
       "    .dataframe tbody tr th:only-of-type {\n",
       "        vertical-align: middle;\n",
       "    }\n",
       "\n",
       "    .dataframe tbody tr th {\n",
       "        vertical-align: top;\n",
       "    }\n",
       "\n",
       "    .dataframe thead th {\n",
       "        text-align: right;\n",
       "    }\n",
       "</style>\n",
       "<table border=\"1\" class=\"dataframe\">\n",
       "  <thead>\n",
       "    <tr style=\"text-align: right;\">\n",
       "      <th></th>\n",
       "      <th>id</th>\n",
       "      <th>call_date</th>\n",
       "      <th>duration</th>\n",
       "      <th>user_id</th>\n",
       "    </tr>\n",
       "  </thead>\n",
       "  <tbody>\n",
       "    <tr>\n",
       "      <td>0</td>\n",
       "      <td>1000_0</td>\n",
       "      <td>2018-07-25</td>\n",
       "      <td>0.00</td>\n",
       "      <td>1000</td>\n",
       "    </tr>\n",
       "    <tr>\n",
       "      <td>1</td>\n",
       "      <td>1000_1</td>\n",
       "      <td>2018-08-17</td>\n",
       "      <td>0.00</td>\n",
       "      <td>1000</td>\n",
       "    </tr>\n",
       "    <tr>\n",
       "      <td>2</td>\n",
       "      <td>1000_2</td>\n",
       "      <td>2018-06-11</td>\n",
       "      <td>2.85</td>\n",
       "      <td>1000</td>\n",
       "    </tr>\n",
       "    <tr>\n",
       "      <td>3</td>\n",
       "      <td>1000_3</td>\n",
       "      <td>2018-09-21</td>\n",
       "      <td>13.80</td>\n",
       "      <td>1000</td>\n",
       "    </tr>\n",
       "    <tr>\n",
       "      <td>4</td>\n",
       "      <td>1000_4</td>\n",
       "      <td>2018-12-15</td>\n",
       "      <td>5.18</td>\n",
       "      <td>1000</td>\n",
       "    </tr>\n",
       "  </tbody>\n",
       "</table>\n",
       "</div>"
      ],
      "text/plain": [
       "       id   call_date  duration  user_id\n",
       "0  1000_0  2018-07-25      0.00     1000\n",
       "1  1000_1  2018-08-17      0.00     1000\n",
       "2  1000_2  2018-06-11      2.85     1000\n",
       "3  1000_3  2018-09-21     13.80     1000\n",
       "4  1000_4  2018-12-15      5.18     1000"
      ]
     },
     "metadata": {},
     "output_type": "display_data"
    }
   ],
   "source": [
    "try:\n",
    "    calls = pd.read_csv('datasets/calls.csv')\n",
    "except:\n",
    "    calls = pd.read_csv('/datasets/calls.csv')\n",
    "display(calls.head())"
   ]
  },
  {
   "cell_type": "markdown",
   "metadata": {},
   "source": [
    "#### Internet"
   ]
  },
  {
   "cell_type": "code",
   "execution_count": 7,
   "metadata": {
    "scrolled": true
   },
   "outputs": [
    {
     "data": {
      "text/html": [
       "<div>\n",
       "<style scoped>\n",
       "    .dataframe tbody tr th:only-of-type {\n",
       "        vertical-align: middle;\n",
       "    }\n",
       "\n",
       "    .dataframe tbody tr th {\n",
       "        vertical-align: top;\n",
       "    }\n",
       "\n",
       "    .dataframe thead th {\n",
       "        text-align: right;\n",
       "    }\n",
       "</style>\n",
       "<table border=\"1\" class=\"dataframe\">\n",
       "  <thead>\n",
       "    <tr style=\"text-align: right;\">\n",
       "      <th></th>\n",
       "      <th>Unnamed: 0</th>\n",
       "      <th>id</th>\n",
       "      <th>mb_used</th>\n",
       "      <th>session_date</th>\n",
       "      <th>user_id</th>\n",
       "    </tr>\n",
       "  </thead>\n",
       "  <tbody>\n",
       "    <tr>\n",
       "      <td>0</td>\n",
       "      <td>0</td>\n",
       "      <td>1000_0</td>\n",
       "      <td>112.95</td>\n",
       "      <td>2018-11-25</td>\n",
       "      <td>1000</td>\n",
       "    </tr>\n",
       "    <tr>\n",
       "      <td>1</td>\n",
       "      <td>1</td>\n",
       "      <td>1000_1</td>\n",
       "      <td>1052.81</td>\n",
       "      <td>2018-09-07</td>\n",
       "      <td>1000</td>\n",
       "    </tr>\n",
       "    <tr>\n",
       "      <td>2</td>\n",
       "      <td>2</td>\n",
       "      <td>1000_2</td>\n",
       "      <td>1197.26</td>\n",
       "      <td>2018-06-25</td>\n",
       "      <td>1000</td>\n",
       "    </tr>\n",
       "    <tr>\n",
       "      <td>3</td>\n",
       "      <td>3</td>\n",
       "      <td>1000_3</td>\n",
       "      <td>550.27</td>\n",
       "      <td>2018-08-22</td>\n",
       "      <td>1000</td>\n",
       "    </tr>\n",
       "    <tr>\n",
       "      <td>4</td>\n",
       "      <td>4</td>\n",
       "      <td>1000_4</td>\n",
       "      <td>302.56</td>\n",
       "      <td>2018-09-24</td>\n",
       "      <td>1000</td>\n",
       "    </tr>\n",
       "  </tbody>\n",
       "</table>\n",
       "</div>"
      ],
      "text/plain": [
       "   Unnamed: 0      id  mb_used session_date  user_id\n",
       "0           0  1000_0   112.95   2018-11-25     1000\n",
       "1           1  1000_1  1052.81   2018-09-07     1000\n",
       "2           2  1000_2  1197.26   2018-06-25     1000\n",
       "3           3  1000_3   550.27   2018-08-22     1000\n",
       "4           4  1000_4   302.56   2018-09-24     1000"
      ]
     },
     "metadata": {},
     "output_type": "display_data"
    }
   ],
   "source": [
    "try:\n",
    "    internet = pd.read_csv('datasets/internet.csv')\n",
    "except:\n",
    "    internet = pd.read_csv('/datasets/internet.csv')\n",
    "display(internet.head())"
   ]
  },
  {
   "cell_type": "markdown",
   "metadata": {},
   "source": [
    "## Предобработка данных"
   ]
  },
  {
   "cell_type": "markdown",
   "metadata": {},
   "source": [
    "### Users"
   ]
  },
  {
   "cell_type": "code",
   "execution_count": 8,
   "metadata": {
    "scrolled": true
   },
   "outputs": [
    {
     "name": "stdout",
     "output_type": "stream",
     "text": [
      "<class 'pandas.core.frame.DataFrame'>\n",
      "RangeIndex: 500 entries, 0 to 499\n",
      "Data columns (total 8 columns):\n",
      "user_id       500 non-null int64\n",
      "age           500 non-null int64\n",
      "churn_date    38 non-null object\n",
      "city          500 non-null object\n",
      "first_name    500 non-null object\n",
      "last_name     500 non-null object\n",
      "reg_date      500 non-null object\n",
      "tariff        500 non-null object\n",
      "dtypes: int64(2), object(6)\n",
      "memory usage: 31.4+ KB\n"
     ]
    }
   ],
   "source": [
    "# просмотр информации о пользователях\n",
    "users.info()"
   ]
  },
  {
   "cell_type": "code",
   "execution_count": 9,
   "metadata": {},
   "outputs": [
    {
     "data": {
      "text/plain": [
       "0"
      ]
     },
     "execution_count": 9,
     "metadata": {},
     "output_type": "execute_result"
    }
   ],
   "source": [
    "# проверка на дубликаты\n",
    "users.duplicated().sum()"
   ]
  },
  {
   "cell_type": "markdown",
   "metadata": {},
   "source": [
    "Дубликатов нет."
   ]
  },
  {
   "cell_type": "code",
   "execution_count": 10,
   "metadata": {
    "scrolled": true
   },
   "outputs": [
    {
     "data": {
      "text/plain": [
       "user_id         0\n",
       "age             0\n",
       "churn_date    462\n",
       "city            0\n",
       "first_name      0\n",
       "last_name       0\n",
       "reg_date        0\n",
       "tariff          0\n",
       "dtype: int64"
      ]
     },
     "execution_count": 10,
     "metadata": {},
     "output_type": "execute_result"
    }
   ],
   "source": [
    "users.isna().sum()"
   ]
  },
  {
   "cell_type": "markdown",
   "metadata": {},
   "source": [
    "Пустые значения есть, только в столбце churn_date. Столбец churn_date - это дата закрытия тарифа пользователем. \n",
    "Если дата есть, то это означает, что пользователь перестал пользоваться связью. \n",
    "Соответственно, если пустое значение, то пользователь еще активный.<br>\n",
    "Так как этим столбцом в дальнейшем исследовании пользоваться не будем, соответственно не будем изменять значения."
   ]
  },
  {
   "cell_type": "markdown",
   "metadata": {},
   "source": [
    "### Tariffs"
   ]
  },
  {
   "cell_type": "code",
   "execution_count": 11,
   "metadata": {},
   "outputs": [
    {
     "name": "stdout",
     "output_type": "stream",
     "text": [
      "<class 'pandas.core.frame.DataFrame'>\n",
      "RangeIndex: 2 entries, 0 to 1\n",
      "Data columns (total 8 columns):\n",
      "messages_included        2 non-null int64\n",
      "gb_per_month_included    2 non-null int64\n",
      "minutes_included         2 non-null int64\n",
      "rub_monthly_fee          2 non-null int64\n",
      "rub_per_gb               2 non-null int64\n",
      "rub_per_message          2 non-null int64\n",
      "rub_per_minute           2 non-null int64\n",
      "tariff_name              2 non-null object\n",
      "dtypes: int64(7), object(1)\n",
      "memory usage: 256.0+ bytes\n"
     ]
    }
   ],
   "source": [
    "tariffs.info()"
   ]
  },
  {
   "cell_type": "code",
   "execution_count": 12,
   "metadata": {},
   "outputs": [
    {
     "data": {
      "text/plain": [
       "0"
      ]
     },
     "execution_count": 12,
     "metadata": {},
     "output_type": "execute_result"
    }
   ],
   "source": [
    "tariffs.duplicated().sum()"
   ]
  },
  {
   "cell_type": "markdown",
   "metadata": {},
   "source": [
    "Дубликатов нет."
   ]
  },
  {
   "cell_type": "code",
   "execution_count": 13,
   "metadata": {
    "scrolled": true
   },
   "outputs": [
    {
     "data": {
      "text/plain": [
       "messages_included        0\n",
       "gb_per_month_included    0\n",
       "minutes_included         0\n",
       "rub_monthly_fee          0\n",
       "rub_per_gb               0\n",
       "rub_per_message          0\n",
       "rub_per_minute           0\n",
       "tariff_name              0\n",
       "dtype: int64"
      ]
     },
     "execution_count": 13,
     "metadata": {},
     "output_type": "execute_result"
    }
   ],
   "source": [
    "tariffs.isna().sum()"
   ]
  },
  {
   "cell_type": "markdown",
   "metadata": {},
   "source": [
    "Пустых значений нет."
   ]
  },
  {
   "cell_type": "markdown",
   "metadata": {},
   "source": [
    "### Messages"
   ]
  },
  {
   "cell_type": "code",
   "execution_count": 14,
   "metadata": {
    "scrolled": true
   },
   "outputs": [
    {
     "name": "stdout",
     "output_type": "stream",
     "text": [
      "<class 'pandas.core.frame.DataFrame'>\n",
      "RangeIndex: 123036 entries, 0 to 123035\n",
      "Data columns (total 3 columns):\n",
      "id              123036 non-null object\n",
      "message_date    123036 non-null object\n",
      "user_id         123036 non-null int64\n",
      "dtypes: int64(1), object(2)\n",
      "memory usage: 2.8+ MB\n"
     ]
    }
   ],
   "source": [
    "messages.info()"
   ]
  },
  {
   "cell_type": "code",
   "execution_count": 15,
   "metadata": {
    "scrolled": true
   },
   "outputs": [
    {
     "data": {
      "text/plain": [
       "0"
      ]
     },
     "execution_count": 15,
     "metadata": {},
     "output_type": "execute_result"
    }
   ],
   "source": [
    "messages.duplicated().sum()"
   ]
  },
  {
   "cell_type": "markdown",
   "metadata": {},
   "source": [
    "Дубликатов нет."
   ]
  },
  {
   "cell_type": "code",
   "execution_count": 16,
   "metadata": {
    "scrolled": false
   },
   "outputs": [
    {
     "data": {
      "text/plain": [
       "id              0\n",
       "message_date    0\n",
       "user_id         0\n",
       "dtype: int64"
      ]
     },
     "execution_count": 16,
     "metadata": {},
     "output_type": "execute_result"
    }
   ],
   "source": [
    "messages.isna().sum()"
   ]
  },
  {
   "cell_type": "markdown",
   "metadata": {},
   "source": [
    "Пустых значений нет."
   ]
  },
  {
   "cell_type": "markdown",
   "metadata": {},
   "source": [
    "Посчитаем количество уникальных значений в столбце user_id."
   ]
  },
  {
   "cell_type": "code",
   "execution_count": 17,
   "metadata": {
    "scrolled": true
   },
   "outputs": [
    {
     "data": {
      "text/plain": [
       "426"
      ]
     },
     "execution_count": 17,
     "metadata": {},
     "output_type": "execute_result"
    }
   ],
   "source": [
    "messages['user_id'].nunique()"
   ]
  },
  {
   "cell_type": "markdown",
   "metadata": {},
   "source": [
    "Сообщениями пользуются только 426 пользователей из 500."
   ]
  },
  {
   "cell_type": "markdown",
   "metadata": {},
   "source": [
    "### Calls"
   ]
  },
  {
   "cell_type": "code",
   "execution_count": 18,
   "metadata": {},
   "outputs": [
    {
     "name": "stdout",
     "output_type": "stream",
     "text": [
      "<class 'pandas.core.frame.DataFrame'>\n",
      "RangeIndex: 202607 entries, 0 to 202606\n",
      "Data columns (total 4 columns):\n",
      "id           202607 non-null object\n",
      "call_date    202607 non-null object\n",
      "duration     202607 non-null float64\n",
      "user_id      202607 non-null int64\n",
      "dtypes: float64(1), int64(1), object(2)\n",
      "memory usage: 6.2+ MB\n"
     ]
    }
   ],
   "source": [
    "calls.info()"
   ]
  },
  {
   "cell_type": "code",
   "execution_count": 19,
   "metadata": {},
   "outputs": [
    {
     "data": {
      "text/plain": [
       "0"
      ]
     },
     "execution_count": 19,
     "metadata": {},
     "output_type": "execute_result"
    }
   ],
   "source": [
    "calls.duplicated().sum()"
   ]
  },
  {
   "cell_type": "markdown",
   "metadata": {},
   "source": [
    "Дубликатов нет."
   ]
  },
  {
   "cell_type": "code",
   "execution_count": 20,
   "metadata": {
    "scrolled": true
   },
   "outputs": [
    {
     "data": {
      "text/plain": [
       "id           0\n",
       "call_date    0\n",
       "duration     0\n",
       "user_id      0\n",
       "dtype: int64"
      ]
     },
     "execution_count": 20,
     "metadata": {},
     "output_type": "execute_result"
    }
   ],
   "source": [
    "calls.isna().sum()"
   ]
  },
  {
   "cell_type": "markdown",
   "metadata": {},
   "source": [
    "Пустых значений нет."
   ]
  },
  {
   "cell_type": "markdown",
   "metadata": {},
   "source": [
    "Посчитаем количество уникальных значений в столбце user_id."
   ]
  },
  {
   "cell_type": "code",
   "execution_count": 21,
   "metadata": {
    "scrolled": true
   },
   "outputs": [
    {
     "data": {
      "text/plain": [
       "492"
      ]
     },
     "execution_count": 21,
     "metadata": {},
     "output_type": "execute_result"
    }
   ],
   "source": [
    "calls['user_id'].nunique()"
   ]
  },
  {
   "cell_type": "markdown",
   "metadata": {},
   "source": [
    "Звонками пользуются 492 пользователя из 500."
   ]
  },
  {
   "cell_type": "markdown",
   "metadata": {},
   "source": [
    "### Internet"
   ]
  },
  {
   "cell_type": "code",
   "execution_count": 22,
   "metadata": {},
   "outputs": [
    {
     "name": "stdout",
     "output_type": "stream",
     "text": [
      "<class 'pandas.core.frame.DataFrame'>\n",
      "RangeIndex: 149396 entries, 0 to 149395\n",
      "Data columns (total 5 columns):\n",
      "Unnamed: 0      149396 non-null int64\n",
      "id              149396 non-null object\n",
      "mb_used         149396 non-null float64\n",
      "session_date    149396 non-null object\n",
      "user_id         149396 non-null int64\n",
      "dtypes: float64(1), int64(2), object(2)\n",
      "memory usage: 5.7+ MB\n"
     ]
    }
   ],
   "source": [
    "internet.info()"
   ]
  },
  {
   "cell_type": "code",
   "execution_count": 23,
   "metadata": {},
   "outputs": [
    {
     "name": "stdout",
     "output_type": "stream",
     "text": [
      "<class 'pandas.core.frame.DataFrame'>\n",
      "RangeIndex: 149396 entries, 0 to 149395\n",
      "Data columns (total 4 columns):\n",
      "id              149396 non-null object\n",
      "mb_used         149396 non-null float64\n",
      "session_date    149396 non-null object\n",
      "user_id         149396 non-null int64\n",
      "dtypes: float64(1), int64(1), object(2)\n",
      "memory usage: 4.6+ MB\n"
     ]
    }
   ],
   "source": [
    "# Удаление столбца\n",
    "internet = internet.drop(columns='Unnamed: 0')\n",
    "internet.info()"
   ]
  },
  {
   "cell_type": "code",
   "execution_count": 24,
   "metadata": {},
   "outputs": [
    {
     "data": {
      "text/plain": [
       "0"
      ]
     },
     "execution_count": 24,
     "metadata": {},
     "output_type": "execute_result"
    }
   ],
   "source": [
    "internet.duplicated().sum()"
   ]
  },
  {
   "cell_type": "markdown",
   "metadata": {},
   "source": [
    "Дубликатов нет."
   ]
  },
  {
   "cell_type": "code",
   "execution_count": 25,
   "metadata": {
    "scrolled": true
   },
   "outputs": [
    {
     "data": {
      "text/plain": [
       "id              0\n",
       "mb_used         0\n",
       "session_date    0\n",
       "user_id         0\n",
       "dtype: int64"
      ]
     },
     "execution_count": 25,
     "metadata": {},
     "output_type": "execute_result"
    }
   ],
   "source": [
    "internet.isna().sum()"
   ]
  },
  {
   "cell_type": "markdown",
   "metadata": {},
   "source": [
    "Пустых значений нет."
   ]
  },
  {
   "cell_type": "markdown",
   "metadata": {},
   "source": [
    "Посчитаем количество уникальных значений в столбце user_id."
   ]
  },
  {
   "cell_type": "code",
   "execution_count": 26,
   "metadata": {},
   "outputs": [
    {
     "data": {
      "text/plain": [
       "497"
      ]
     },
     "execution_count": 26,
     "metadata": {},
     "output_type": "execute_result"
    }
   ],
   "source": [
    "internet['user_id'].nunique()"
   ]
  },
  {
   "cell_type": "markdown",
   "metadata": {},
   "source": [
    "Интернетом пользуются 497 пользователей из 500."
   ]
  },
  {
   "cell_type": "markdown",
   "metadata": {},
   "source": [
    "## Подготовка данных"
   ]
  },
  {
   "cell_type": "markdown",
   "metadata": {},
   "source": [
    "### Количество звонков и израсходованных минут абонентов по месяцам"
   ]
  },
  {
   "cell_type": "code",
   "execution_count": 27,
   "metadata": {},
   "outputs": [
    {
     "data": {
      "text/html": [
       "<div>\n",
       "<style scoped>\n",
       "    .dataframe tbody tr th:only-of-type {\n",
       "        vertical-align: middle;\n",
       "    }\n",
       "\n",
       "    .dataframe tbody tr th {\n",
       "        vertical-align: top;\n",
       "    }\n",
       "\n",
       "    .dataframe thead th {\n",
       "        text-align: right;\n",
       "    }\n",
       "</style>\n",
       "<table border=\"1\" class=\"dataframe\">\n",
       "  <thead>\n",
       "    <tr style=\"text-align: right;\">\n",
       "      <th></th>\n",
       "      <th>id</th>\n",
       "      <th>call_date</th>\n",
       "      <th>duration</th>\n",
       "      <th>user_id</th>\n",
       "      <th>call_date_dt</th>\n",
       "    </tr>\n",
       "  </thead>\n",
       "  <tbody>\n",
       "    <tr>\n",
       "      <td>0</td>\n",
       "      <td>1000_0</td>\n",
       "      <td>2018-07-25</td>\n",
       "      <td>0.00</td>\n",
       "      <td>1000</td>\n",
       "      <td>2018-07-25</td>\n",
       "    </tr>\n",
       "    <tr>\n",
       "      <td>1</td>\n",
       "      <td>1000_1</td>\n",
       "      <td>2018-08-17</td>\n",
       "      <td>0.00</td>\n",
       "      <td>1000</td>\n",
       "      <td>2018-08-17</td>\n",
       "    </tr>\n",
       "    <tr>\n",
       "      <td>2</td>\n",
       "      <td>1000_2</td>\n",
       "      <td>2018-06-11</td>\n",
       "      <td>2.85</td>\n",
       "      <td>1000</td>\n",
       "      <td>2018-06-11</td>\n",
       "    </tr>\n",
       "    <tr>\n",
       "      <td>3</td>\n",
       "      <td>1000_3</td>\n",
       "      <td>2018-09-21</td>\n",
       "      <td>13.80</td>\n",
       "      <td>1000</td>\n",
       "      <td>2018-09-21</td>\n",
       "    </tr>\n",
       "    <tr>\n",
       "      <td>4</td>\n",
       "      <td>1000_4</td>\n",
       "      <td>2018-12-15</td>\n",
       "      <td>5.18</td>\n",
       "      <td>1000</td>\n",
       "      <td>2018-12-15</td>\n",
       "    </tr>\n",
       "  </tbody>\n",
       "</table>\n",
       "</div>"
      ],
      "text/plain": [
       "       id   call_date  duration  user_id call_date_dt\n",
       "0  1000_0  2018-07-25      0.00     1000   2018-07-25\n",
       "1  1000_1  2018-08-17      0.00     1000   2018-08-17\n",
       "2  1000_2  2018-06-11      2.85     1000   2018-06-11\n",
       "3  1000_3  2018-09-21     13.80     1000   2018-09-21\n",
       "4  1000_4  2018-12-15      5.18     1000   2018-12-15"
      ]
     },
     "metadata": {},
     "output_type": "display_data"
    }
   ],
   "source": [
    "# создание столбца в формате datetime python\n",
    "calls['call_date_dt'] = pd.to_datetime(calls['call_date'], format='%Y-%m-%d')\n",
    "display(calls.head())"
   ]
  },
  {
   "cell_type": "code",
   "execution_count": 28,
   "metadata": {},
   "outputs": [],
   "source": [
    "# создание столбцов год и месяц\n",
    "calls['year'] = pd.DatetimeIndex(calls['call_date_dt']).year\n",
    "calls['month'] = pd.DatetimeIndex(calls['call_date_dt']).month"
   ]
  },
  {
   "cell_type": "code",
   "execution_count": 29,
   "metadata": {
    "scrolled": true
   },
   "outputs": [
    {
     "data": {
      "text/html": [
       "<div>\n",
       "<style scoped>\n",
       "    .dataframe tbody tr th:only-of-type {\n",
       "        vertical-align: middle;\n",
       "    }\n",
       "\n",
       "    .dataframe tbody tr th {\n",
       "        vertical-align: top;\n",
       "    }\n",
       "\n",
       "    .dataframe thead th {\n",
       "        text-align: right;\n",
       "    }\n",
       "</style>\n",
       "<table border=\"1\" class=\"dataframe\">\n",
       "  <thead>\n",
       "    <tr style=\"text-align: right;\">\n",
       "      <th></th>\n",
       "      <th>id</th>\n",
       "      <th>call_date</th>\n",
       "      <th>duration</th>\n",
       "      <th>user_id</th>\n",
       "      <th>call_date_dt</th>\n",
       "      <th>year</th>\n",
       "      <th>month</th>\n",
       "    </tr>\n",
       "  </thead>\n",
       "  <tbody>\n",
       "    <tr>\n",
       "      <td>0</td>\n",
       "      <td>1000_0</td>\n",
       "      <td>2018-07-25</td>\n",
       "      <td>0.00</td>\n",
       "      <td>1000</td>\n",
       "      <td>2018-07-25</td>\n",
       "      <td>2018</td>\n",
       "      <td>7</td>\n",
       "    </tr>\n",
       "    <tr>\n",
       "      <td>1</td>\n",
       "      <td>1000_1</td>\n",
       "      <td>2018-08-17</td>\n",
       "      <td>0.00</td>\n",
       "      <td>1000</td>\n",
       "      <td>2018-08-17</td>\n",
       "      <td>2018</td>\n",
       "      <td>8</td>\n",
       "    </tr>\n",
       "    <tr>\n",
       "      <td>2</td>\n",
       "      <td>1000_2</td>\n",
       "      <td>2018-06-11</td>\n",
       "      <td>2.85</td>\n",
       "      <td>1000</td>\n",
       "      <td>2018-06-11</td>\n",
       "      <td>2018</td>\n",
       "      <td>6</td>\n",
       "    </tr>\n",
       "    <tr>\n",
       "      <td>3</td>\n",
       "      <td>1000_3</td>\n",
       "      <td>2018-09-21</td>\n",
       "      <td>13.80</td>\n",
       "      <td>1000</td>\n",
       "      <td>2018-09-21</td>\n",
       "      <td>2018</td>\n",
       "      <td>9</td>\n",
       "    </tr>\n",
       "    <tr>\n",
       "      <td>4</td>\n",
       "      <td>1000_4</td>\n",
       "      <td>2018-12-15</td>\n",
       "      <td>5.18</td>\n",
       "      <td>1000</td>\n",
       "      <td>2018-12-15</td>\n",
       "      <td>2018</td>\n",
       "      <td>12</td>\n",
       "    </tr>\n",
       "  </tbody>\n",
       "</table>\n",
       "</div>"
      ],
      "text/plain": [
       "       id   call_date  duration  user_id call_date_dt  year  month\n",
       "0  1000_0  2018-07-25      0.00     1000   2018-07-25  2018      7\n",
       "1  1000_1  2018-08-17      0.00     1000   2018-08-17  2018      8\n",
       "2  1000_2  2018-06-11      2.85     1000   2018-06-11  2018      6\n",
       "3  1000_3  2018-09-21     13.80     1000   2018-09-21  2018      9\n",
       "4  1000_4  2018-12-15      5.18     1000   2018-12-15  2018     12"
      ]
     },
     "execution_count": 29,
     "metadata": {},
     "output_type": "execute_result"
    }
   ],
   "source": [
    "calls.head()"
   ]
  },
  {
   "cell_type": "markdown",
   "metadata": {},
   "source": [
    "Построение распределения продолжительности звонков."
   ]
  },
  {
   "cell_type": "code",
   "execution_count": 30,
   "metadata": {
    "scrolled": false
   },
   "outputs": [
    {
     "data": {
      "image/png": "[encoded data removed]",
      "text/plain": [
       "<Figure size 640x480 with 1 Axes>"
      ]
     },
     "metadata": {},
     "output_type": "display_data"
    }
   ],
   "source": [
    "calls['duration'].hist(bins=100)\n",
    "plt.title('Распределение продолжительности звонков')\n",
    "plt.ylabel('Количество звонков, шт')\n",
    "plt.xlabel('Длительность звонка, мин');"
   ]
  },
  {
   "cell_type": "markdown",
   "metadata": {},
   "source": [
    "Каких-либо выбросов или редких значений нет. Пик в значении 0 - это непринятые вызовы"
   ]
  },
  {
   "cell_type": "markdown",
   "metadata": {},
   "source": [
    "Округление данных в столбце duration вверх в соответствии с правилами округления мобильного оператора."
   ]
  },
  {
   "cell_type": "code",
   "execution_count": 31,
   "metadata": {
    "scrolled": true
   },
   "outputs": [
    {
     "data": {
      "text/html": [
       "<div>\n",
       "<style scoped>\n",
       "    .dataframe tbody tr th:only-of-type {\n",
       "        vertical-align: middle;\n",
       "    }\n",
       "\n",
       "    .dataframe tbody tr th {\n",
       "        vertical-align: top;\n",
       "    }\n",
       "\n",
       "    .dataframe thead th {\n",
       "        text-align: right;\n",
       "    }\n",
       "</style>\n",
       "<table border=\"1\" class=\"dataframe\">\n",
       "  <thead>\n",
       "    <tr style=\"text-align: right;\">\n",
       "      <th></th>\n",
       "      <th>id</th>\n",
       "      <th>call_date</th>\n",
       "      <th>duration</th>\n",
       "      <th>user_id</th>\n",
       "      <th>call_date_dt</th>\n",
       "      <th>year</th>\n",
       "      <th>month</th>\n",
       "      <th>duration_round</th>\n",
       "    </tr>\n",
       "  </thead>\n",
       "  <tbody>\n",
       "    <tr>\n",
       "      <td>0</td>\n",
       "      <td>1000_0</td>\n",
       "      <td>2018-07-25</td>\n",
       "      <td>0.00</td>\n",
       "      <td>1000</td>\n",
       "      <td>2018-07-25</td>\n",
       "      <td>2018</td>\n",
       "      <td>7</td>\n",
       "      <td>0.0</td>\n",
       "    </tr>\n",
       "    <tr>\n",
       "      <td>1</td>\n",
       "      <td>1000_1</td>\n",
       "      <td>2018-08-17</td>\n",
       "      <td>0.00</td>\n",
       "      <td>1000</td>\n",
       "      <td>2018-08-17</td>\n",
       "      <td>2018</td>\n",
       "      <td>8</td>\n",
       "      <td>0.0</td>\n",
       "    </tr>\n",
       "    <tr>\n",
       "      <td>2</td>\n",
       "      <td>1000_2</td>\n",
       "      <td>2018-06-11</td>\n",
       "      <td>2.85</td>\n",
       "      <td>1000</td>\n",
       "      <td>2018-06-11</td>\n",
       "      <td>2018</td>\n",
       "      <td>6</td>\n",
       "      <td>3.0</td>\n",
       "    </tr>\n",
       "    <tr>\n",
       "      <td>3</td>\n",
       "      <td>1000_3</td>\n",
       "      <td>2018-09-21</td>\n",
       "      <td>13.80</td>\n",
       "      <td>1000</td>\n",
       "      <td>2018-09-21</td>\n",
       "      <td>2018</td>\n",
       "      <td>9</td>\n",
       "      <td>14.0</td>\n",
       "    </tr>\n",
       "    <tr>\n",
       "      <td>4</td>\n",
       "      <td>1000_4</td>\n",
       "      <td>2018-12-15</td>\n",
       "      <td>5.18</td>\n",
       "      <td>1000</td>\n",
       "      <td>2018-12-15</td>\n",
       "      <td>2018</td>\n",
       "      <td>12</td>\n",
       "      <td>6.0</td>\n",
       "    </tr>\n",
       "  </tbody>\n",
       "</table>\n",
       "</div>"
      ],
      "text/plain": [
       "       id   call_date  duration  user_id call_date_dt  year  month  \\\n",
       "0  1000_0  2018-07-25      0.00     1000   2018-07-25  2018      7   \n",
       "1  1000_1  2018-08-17      0.00     1000   2018-08-17  2018      8   \n",
       "2  1000_2  2018-06-11      2.85     1000   2018-06-11  2018      6   \n",
       "3  1000_3  2018-09-21     13.80     1000   2018-09-21  2018      9   \n",
       "4  1000_4  2018-12-15      5.18     1000   2018-12-15  2018     12   \n",
       "\n",
       "   duration_round  \n",
       "0             0.0  \n",
       "1             0.0  \n",
       "2             3.0  \n",
       "3            14.0  \n",
       "4             6.0  "
      ]
     },
     "execution_count": 31,
     "metadata": {},
     "output_type": "execute_result"
    }
   ],
   "source": [
    "calls['duration_round'] = np.ceil(calls['duration'])\n",
    "calls.head()"
   ]
  },
  {
   "cell_type": "markdown",
   "metadata": {},
   "source": [
    "Создание таблицы по каждому абоненту с количеством звонков и израсходованных минут по месяцам "
   ]
  },
  {
   "cell_type": "code",
   "execution_count": 32,
   "metadata": {},
   "outputs": [
    {
     "data": {
      "text/html": [
       "<div>\n",
       "<style scoped>\n",
       "    .dataframe tbody tr th:only-of-type {\n",
       "        vertical-align: middle;\n",
       "    }\n",
       "\n",
       "    .dataframe tbody tr th {\n",
       "        vertical-align: top;\n",
       "    }\n",
       "\n",
       "    .dataframe thead tr th {\n",
       "        text-align: left;\n",
       "    }\n",
       "\n",
       "    .dataframe thead tr:last-of-type th {\n",
       "        text-align: right;\n",
       "    }\n",
       "</style>\n",
       "<table border=\"1\" class=\"dataframe\">\n",
       "  <thead>\n",
       "    <tr>\n",
       "      <th></th>\n",
       "      <th></th>\n",
       "      <th>count</th>\n",
       "      <th>sum</th>\n",
       "    </tr>\n",
       "    <tr>\n",
       "      <th></th>\n",
       "      <th></th>\n",
       "      <th>duration_round</th>\n",
       "      <th>duration_round</th>\n",
       "    </tr>\n",
       "    <tr>\n",
       "      <th>user_id</th>\n",
       "      <th>month</th>\n",
       "      <th></th>\n",
       "      <th></th>\n",
       "    </tr>\n",
       "  </thead>\n",
       "  <tbody>\n",
       "    <tr>\n",
       "      <td rowspan=\"5\" valign=\"top\">1000</td>\n",
       "      <td>5</td>\n",
       "      <td>22</td>\n",
       "      <td>159.0</td>\n",
       "    </tr>\n",
       "    <tr>\n",
       "      <td>6</td>\n",
       "      <td>43</td>\n",
       "      <td>172.0</td>\n",
       "    </tr>\n",
       "    <tr>\n",
       "      <td>7</td>\n",
       "      <td>47</td>\n",
       "      <td>340.0</td>\n",
       "    </tr>\n",
       "    <tr>\n",
       "      <td>8</td>\n",
       "      <td>52</td>\n",
       "      <td>408.0</td>\n",
       "    </tr>\n",
       "    <tr>\n",
       "      <td>9</td>\n",
       "      <td>58</td>\n",
       "      <td>466.0</td>\n",
       "    </tr>\n",
       "  </tbody>\n",
       "</table>\n",
       "</div>"
      ],
      "text/plain": [
       "                       count            sum\n",
       "              duration_round duration_round\n",
       "user_id month                              \n",
       "1000    5                 22          159.0\n",
       "        6                 43          172.0\n",
       "        7                 47          340.0\n",
       "        8                 52          408.0\n",
       "        9                 58          466.0"
      ]
     },
     "metadata": {},
     "output_type": "display_data"
    },
    {
     "data": {
      "text/plain": [
       "3174"
      ]
     },
     "metadata": {},
     "output_type": "display_data"
    },
    {
     "data": {
      "text/plain": [
       "500"
      ]
     },
     "metadata": {},
     "output_type": "display_data"
    }
   ],
   "source": [
    "user_calls = calls.pivot_table(index=['user_id', 'month'], values='duration_round', aggfunc=['count', 'sum'])\n",
    "display(user_calls.head(), len(user_calls), len(users))"
   ]
  },
  {
   "cell_type": "markdown",
   "metadata": {},
   "source": [
    "Переименование столбцов в полученной таблице"
   ]
  },
  {
   "cell_type": "code",
   "execution_count": 33,
   "metadata": {
    "scrolled": true
   },
   "outputs": [
    {
     "name": "stdout",
     "output_type": "stream",
     "text": [
      "MultiIndex([('count', 'duration_round'),\n",
      "            (  'sum', 'duration_round')],\n",
      "           )\n",
      "Index([('count', 'duration_round'), ('sum', 'duration_round')], dtype='object')\n"
     ]
    }
   ],
   "source": [
    "# преобразование мультииндексов для последующего переименования\n",
    "print(user_calls.columns)\n",
    "user_calls.columns = user_calls.columns.to_flat_index()\n",
    "print(user_calls.columns)"
   ]
  },
  {
   "cell_type": "code",
   "execution_count": 34,
   "metadata": {},
   "outputs": [],
   "source": [
    "# Переименование столбцов\n",
    "user_calls = user_calls.rename(\n",
    "            columns={\n",
    "                ('count', 'duration_round') : 'calls_count',\n",
    "                ('sum', 'duration_round') : 'calls_duration'\n",
    "            }\n",
    ")"
   ]
  },
  {
   "cell_type": "code",
   "execution_count": 35,
   "metadata": {},
   "outputs": [
    {
     "data": {
      "text/html": [
       "<div>\n",
       "<style scoped>\n",
       "    .dataframe tbody tr th:only-of-type {\n",
       "        vertical-align: middle;\n",
       "    }\n",
       "\n",
       "    .dataframe tbody tr th {\n",
       "        vertical-align: top;\n",
       "    }\n",
       "\n",
       "    .dataframe thead th {\n",
       "        text-align: right;\n",
       "    }\n",
       "</style>\n",
       "<table border=\"1\" class=\"dataframe\">\n",
       "  <thead>\n",
       "    <tr style=\"text-align: right;\">\n",
       "      <th></th>\n",
       "      <th></th>\n",
       "      <th>calls_count</th>\n",
       "      <th>calls_duration</th>\n",
       "    </tr>\n",
       "    <tr>\n",
       "      <th>user_id</th>\n",
       "      <th>month</th>\n",
       "      <th></th>\n",
       "      <th></th>\n",
       "    </tr>\n",
       "  </thead>\n",
       "  <tbody>\n",
       "    <tr>\n",
       "      <td rowspan=\"5\" valign=\"top\">1000</td>\n",
       "      <td>5</td>\n",
       "      <td>22</td>\n",
       "      <td>159.0</td>\n",
       "    </tr>\n",
       "    <tr>\n",
       "      <td>6</td>\n",
       "      <td>43</td>\n",
       "      <td>172.0</td>\n",
       "    </tr>\n",
       "    <tr>\n",
       "      <td>7</td>\n",
       "      <td>47</td>\n",
       "      <td>340.0</td>\n",
       "    </tr>\n",
       "    <tr>\n",
       "      <td>8</td>\n",
       "      <td>52</td>\n",
       "      <td>408.0</td>\n",
       "    </tr>\n",
       "    <tr>\n",
       "      <td>9</td>\n",
       "      <td>58</td>\n",
       "      <td>466.0</td>\n",
       "    </tr>\n",
       "  </tbody>\n",
       "</table>\n",
       "</div>"
      ],
      "text/plain": [
       "               calls_count  calls_duration\n",
       "user_id month                             \n",
       "1000    5               22           159.0\n",
       "        6               43           172.0\n",
       "        7               47           340.0\n",
       "        8               52           408.0\n",
       "        9               58           466.0"
      ]
     },
     "metadata": {},
     "output_type": "display_data"
    }
   ],
   "source": [
    "display(user_calls.head())"
   ]
  },
  {
   "cell_type": "code",
   "execution_count": 36,
   "metadata": {},
   "outputs": [
    {
     "data": {
      "text/plain": [
       "3174"
      ]
     },
     "execution_count": 36,
     "metadata": {},
     "output_type": "execute_result"
    }
   ],
   "source": [
    "len(user_calls)"
   ]
  },
  {
   "cell_type": "markdown",
   "metadata": {},
   "source": [
    "### Количество отправленных сообщений абонентов по месяцам"
   ]
  },
  {
   "cell_type": "code",
   "execution_count": 37,
   "metadata": {
    "scrolled": true
   },
   "outputs": [
    {
     "data": {
      "text/html": [
       "<div>\n",
       "<style scoped>\n",
       "    .dataframe tbody tr th:only-of-type {\n",
       "        vertical-align: middle;\n",
       "    }\n",
       "\n",
       "    .dataframe tbody tr th {\n",
       "        vertical-align: top;\n",
       "    }\n",
       "\n",
       "    .dataframe thead th {\n",
       "        text-align: right;\n",
       "    }\n",
       "</style>\n",
       "<table border=\"1\" class=\"dataframe\">\n",
       "  <thead>\n",
       "    <tr style=\"text-align: right;\">\n",
       "      <th></th>\n",
       "      <th>id</th>\n",
       "      <th>message_date</th>\n",
       "      <th>user_id</th>\n",
       "      <th>message_date_dt</th>\n",
       "      <th>month</th>\n",
       "    </tr>\n",
       "  </thead>\n",
       "  <tbody>\n",
       "    <tr>\n",
       "      <td>0</td>\n",
       "      <td>1000_0</td>\n",
       "      <td>2018-06-27</td>\n",
       "      <td>1000</td>\n",
       "      <td>2018-06-27</td>\n",
       "      <td>6</td>\n",
       "    </tr>\n",
       "    <tr>\n",
       "      <td>1</td>\n",
       "      <td>1000_1</td>\n",
       "      <td>2018-10-08</td>\n",
       "      <td>1000</td>\n",
       "      <td>2018-10-08</td>\n",
       "      <td>10</td>\n",
       "    </tr>\n",
       "    <tr>\n",
       "      <td>2</td>\n",
       "      <td>1000_2</td>\n",
       "      <td>2018-08-04</td>\n",
       "      <td>1000</td>\n",
       "      <td>2018-08-04</td>\n",
       "      <td>8</td>\n",
       "    </tr>\n",
       "    <tr>\n",
       "      <td>3</td>\n",
       "      <td>1000_3</td>\n",
       "      <td>2018-06-16</td>\n",
       "      <td>1000</td>\n",
       "      <td>2018-06-16</td>\n",
       "      <td>6</td>\n",
       "    </tr>\n",
       "    <tr>\n",
       "      <td>4</td>\n",
       "      <td>1000_4</td>\n",
       "      <td>2018-12-05</td>\n",
       "      <td>1000</td>\n",
       "      <td>2018-12-05</td>\n",
       "      <td>12</td>\n",
       "    </tr>\n",
       "  </tbody>\n",
       "</table>\n",
       "</div>"
      ],
      "text/plain": [
       "       id message_date  user_id message_date_dt  month\n",
       "0  1000_0   2018-06-27     1000      2018-06-27      6\n",
       "1  1000_1   2018-10-08     1000      2018-10-08     10\n",
       "2  1000_2   2018-08-04     1000      2018-08-04      8\n",
       "3  1000_3   2018-06-16     1000      2018-06-16      6\n",
       "4  1000_4   2018-12-05     1000      2018-12-05     12"
      ]
     },
     "execution_count": 37,
     "metadata": {},
     "output_type": "execute_result"
    }
   ],
   "source": [
    "# создание столбца с датой в формате datetime, и столбца месяц\n",
    "messages['message_date_dt'] = pd.to_datetime(messages['message_date'], format='%Y-%m-%d')\n",
    "messages['month'] = pd.DatetimeIndex(messages['message_date_dt']).month\n",
    "messages.head()"
   ]
  },
  {
   "cell_type": "markdown",
   "metadata": {},
   "source": [
    "Создание таблицы пользователь количество сообщений по месяцам."
   ]
  },
  {
   "cell_type": "code",
   "execution_count": 38,
   "metadata": {
    "scrolled": true
   },
   "outputs": [
    {
     "data": {
      "text/html": [
       "<div>\n",
       "<style scoped>\n",
       "    .dataframe tbody tr th:only-of-type {\n",
       "        vertical-align: middle;\n",
       "    }\n",
       "\n",
       "    .dataframe tbody tr th {\n",
       "        vertical-align: top;\n",
       "    }\n",
       "\n",
       "    .dataframe thead th {\n",
       "        text-align: right;\n",
       "    }\n",
       "</style>\n",
       "<table border=\"1\" class=\"dataframe\">\n",
       "  <thead>\n",
       "    <tr style=\"text-align: right;\">\n",
       "      <th></th>\n",
       "      <th></th>\n",
       "      <th>id</th>\n",
       "    </tr>\n",
       "    <tr>\n",
       "      <th>user_id</th>\n",
       "      <th>month</th>\n",
       "      <th></th>\n",
       "    </tr>\n",
       "  </thead>\n",
       "  <tbody>\n",
       "    <tr>\n",
       "      <td rowspan=\"5\" valign=\"top\">1000</td>\n",
       "      <td>5</td>\n",
       "      <td>22</td>\n",
       "    </tr>\n",
       "    <tr>\n",
       "      <td>6</td>\n",
       "      <td>60</td>\n",
       "    </tr>\n",
       "    <tr>\n",
       "      <td>7</td>\n",
       "      <td>75</td>\n",
       "    </tr>\n",
       "    <tr>\n",
       "      <td>8</td>\n",
       "      <td>81</td>\n",
       "    </tr>\n",
       "    <tr>\n",
       "      <td>9</td>\n",
       "      <td>57</td>\n",
       "    </tr>\n",
       "  </tbody>\n",
       "</table>\n",
       "</div>"
      ],
      "text/plain": [
       "               id\n",
       "user_id month    \n",
       "1000    5      22\n",
       "        6      60\n",
       "        7      75\n",
       "        8      81\n",
       "        9      57"
      ]
     },
     "metadata": {},
     "output_type": "display_data"
    }
   ],
   "source": [
    "user_messages = messages.pivot_table(index=['user_id', 'month'], values='id', aggfunc='count')\n",
    "display(user_messages.head())"
   ]
  },
  {
   "cell_type": "code",
   "execution_count": 39,
   "metadata": {},
   "outputs": [
    {
     "data": {
      "text/html": [
       "<div>\n",
       "<style scoped>\n",
       "    .dataframe tbody tr th:only-of-type {\n",
       "        vertical-align: middle;\n",
       "    }\n",
       "\n",
       "    .dataframe tbody tr th {\n",
       "        vertical-align: top;\n",
       "    }\n",
       "\n",
       "    .dataframe thead th {\n",
       "        text-align: right;\n",
       "    }\n",
       "</style>\n",
       "<table border=\"1\" class=\"dataframe\">\n",
       "  <thead>\n",
       "    <tr style=\"text-align: right;\">\n",
       "      <th></th>\n",
       "      <th></th>\n",
       "      <th>messages_count</th>\n",
       "    </tr>\n",
       "    <tr>\n",
       "      <th>user_id</th>\n",
       "      <th>month</th>\n",
       "      <th></th>\n",
       "    </tr>\n",
       "  </thead>\n",
       "  <tbody>\n",
       "    <tr>\n",
       "      <td rowspan=\"5\" valign=\"top\">1000</td>\n",
       "      <td>5</td>\n",
       "      <td>22</td>\n",
       "    </tr>\n",
       "    <tr>\n",
       "      <td>6</td>\n",
       "      <td>60</td>\n",
       "    </tr>\n",
       "    <tr>\n",
       "      <td>7</td>\n",
       "      <td>75</td>\n",
       "    </tr>\n",
       "    <tr>\n",
       "      <td>8</td>\n",
       "      <td>81</td>\n",
       "    </tr>\n",
       "    <tr>\n",
       "      <td>9</td>\n",
       "      <td>57</td>\n",
       "    </tr>\n",
       "  </tbody>\n",
       "</table>\n",
       "</div>"
      ],
      "text/plain": [
       "               messages_count\n",
       "user_id month                \n",
       "1000    5                  22\n",
       "        6                  60\n",
       "        7                  75\n",
       "        8                  81\n",
       "        9                  57"
      ]
     },
     "metadata": {},
     "output_type": "display_data"
    }
   ],
   "source": [
    "# переименование столбца\n",
    "user_messages.columns = ['messages_count']\n",
    "display(user_messages.head())"
   ]
  },
  {
   "cell_type": "code",
   "execution_count": 40,
   "metadata": {},
   "outputs": [
    {
     "data": {
      "text/plain": [
       "2717"
      ]
     },
     "execution_count": 40,
     "metadata": {},
     "output_type": "execute_result"
    }
   ],
   "source": [
    "len(user_messages)"
   ]
  },
  {
   "cell_type": "markdown",
   "metadata": {},
   "source": [
    "Построение распределения количества сообщений."
   ]
  },
  {
   "cell_type": "code",
   "execution_count": 41,
   "metadata": {
    "scrolled": true
   },
   "outputs": [
    {
     "data": {
      "image/png": "[encoded data removed]",
      "text/plain": [
       "<Figure size 640x480 with 1 Axes>"
      ]
     },
     "metadata": {},
     "output_type": "display_data"
    }
   ],
   "source": [
    "user_messages['messages_count'].hist(bins=30)\n",
    "plt.title('Распределение количества сообщений')\n",
    "plt.xlabel('Количество сообщений, шт')\n",
    "plt.ylabel('Количество абонентов, шт');"
   ]
  },
  {
   "cell_type": "markdown",
   "metadata": {},
   "source": [
    "Каких-либо выбросов и аномальных значений нет."
   ]
  },
  {
   "cell_type": "markdown",
   "metadata": {},
   "source": [
    "### Объём израсходованного интернет трафика по месяцам"
   ]
  },
  {
   "cell_type": "markdown",
   "metadata": {},
   "source": [
    "Создание столбца  в формате datetime и столбца месяц"
   ]
  },
  {
   "cell_type": "code",
   "execution_count": 42,
   "metadata": {
    "scrolled": true
   },
   "outputs": [
    {
     "data": {
      "text/html": [
       "<div>\n",
       "<style scoped>\n",
       "    .dataframe tbody tr th:only-of-type {\n",
       "        vertical-align: middle;\n",
       "    }\n",
       "\n",
       "    .dataframe tbody tr th {\n",
       "        vertical-align: top;\n",
       "    }\n",
       "\n",
       "    .dataframe thead th {\n",
       "        text-align: right;\n",
       "    }\n",
       "</style>\n",
       "<table border=\"1\" class=\"dataframe\">\n",
       "  <thead>\n",
       "    <tr style=\"text-align: right;\">\n",
       "      <th></th>\n",
       "      <th>id</th>\n",
       "      <th>mb_used</th>\n",
       "      <th>session_date</th>\n",
       "      <th>user_id</th>\n",
       "      <th>session_date_dt</th>\n",
       "      <th>month</th>\n",
       "    </tr>\n",
       "  </thead>\n",
       "  <tbody>\n",
       "    <tr>\n",
       "      <td>0</td>\n",
       "      <td>1000_0</td>\n",
       "      <td>112.95</td>\n",
       "      <td>2018-11-25</td>\n",
       "      <td>1000</td>\n",
       "      <td>2018-11-25</td>\n",
       "      <td>11</td>\n",
       "    </tr>\n",
       "    <tr>\n",
       "      <td>1</td>\n",
       "      <td>1000_1</td>\n",
       "      <td>1052.81</td>\n",
       "      <td>2018-09-07</td>\n",
       "      <td>1000</td>\n",
       "      <td>2018-09-07</td>\n",
       "      <td>9</td>\n",
       "    </tr>\n",
       "    <tr>\n",
       "      <td>2</td>\n",
       "      <td>1000_2</td>\n",
       "      <td>1197.26</td>\n",
       "      <td>2018-06-25</td>\n",
       "      <td>1000</td>\n",
       "      <td>2018-06-25</td>\n",
       "      <td>6</td>\n",
       "    </tr>\n",
       "    <tr>\n",
       "      <td>3</td>\n",
       "      <td>1000_3</td>\n",
       "      <td>550.27</td>\n",
       "      <td>2018-08-22</td>\n",
       "      <td>1000</td>\n",
       "      <td>2018-08-22</td>\n",
       "      <td>8</td>\n",
       "    </tr>\n",
       "    <tr>\n",
       "      <td>4</td>\n",
       "      <td>1000_4</td>\n",
       "      <td>302.56</td>\n",
       "      <td>2018-09-24</td>\n",
       "      <td>1000</td>\n",
       "      <td>2018-09-24</td>\n",
       "      <td>9</td>\n",
       "    </tr>\n",
       "  </tbody>\n",
       "</table>\n",
       "</div>"
      ],
      "text/plain": [
       "       id  mb_used session_date  user_id session_date_dt  month\n",
       "0  1000_0   112.95   2018-11-25     1000      2018-11-25     11\n",
       "1  1000_1  1052.81   2018-09-07     1000      2018-09-07      9\n",
       "2  1000_2  1197.26   2018-06-25     1000      2018-06-25      6\n",
       "3  1000_3   550.27   2018-08-22     1000      2018-08-22      8\n",
       "4  1000_4   302.56   2018-09-24     1000      2018-09-24      9"
      ]
     },
     "execution_count": 42,
     "metadata": {},
     "output_type": "execute_result"
    }
   ],
   "source": [
    "internet['session_date_dt'] = pd.to_datetime(internet['session_date'], format='%Y-%m-%d')\n",
    "internet['month'] = pd.DatetimeIndex(internet['session_date_dt']).month\n",
    "internet.head()"
   ]
  },
  {
   "cell_type": "markdown",
   "metadata": {},
   "source": [
    "Создание таблицы затраченного трафика абонентами по месяцам."
   ]
  },
  {
   "cell_type": "code",
   "execution_count": 43,
   "metadata": {
    "scrolled": true
   },
   "outputs": [
    {
     "data": {
      "text/html": [
       "<div>\n",
       "<style scoped>\n",
       "    .dataframe tbody tr th:only-of-type {\n",
       "        vertical-align: middle;\n",
       "    }\n",
       "\n",
       "    .dataframe tbody tr th {\n",
       "        vertical-align: top;\n",
       "    }\n",
       "\n",
       "    .dataframe thead th {\n",
       "        text-align: right;\n",
       "    }\n",
       "</style>\n",
       "<table border=\"1\" class=\"dataframe\">\n",
       "  <thead>\n",
       "    <tr style=\"text-align: right;\">\n",
       "      <th></th>\n",
       "      <th></th>\n",
       "      <th>mb_used</th>\n",
       "    </tr>\n",
       "    <tr>\n",
       "      <th>user_id</th>\n",
       "      <th>month</th>\n",
       "      <th></th>\n",
       "    </tr>\n",
       "  </thead>\n",
       "  <tbody>\n",
       "    <tr>\n",
       "      <td rowspan=\"5\" valign=\"top\">1000</td>\n",
       "      <td>5</td>\n",
       "      <td>2253.49</td>\n",
       "    </tr>\n",
       "    <tr>\n",
       "      <td>6</td>\n",
       "      <td>23233.77</td>\n",
       "    </tr>\n",
       "    <tr>\n",
       "      <td>7</td>\n",
       "      <td>14003.64</td>\n",
       "    </tr>\n",
       "    <tr>\n",
       "      <td>8</td>\n",
       "      <td>14055.93</td>\n",
       "    </tr>\n",
       "    <tr>\n",
       "      <td>9</td>\n",
       "      <td>14568.91</td>\n",
       "    </tr>\n",
       "  </tbody>\n",
       "</table>\n",
       "</div>"
      ],
      "text/plain": [
       "                mb_used\n",
       "user_id month          \n",
       "1000    5       2253.49\n",
       "        6      23233.77\n",
       "        7      14003.64\n",
       "        8      14055.93\n",
       "        9      14568.91"
      ]
     },
     "metadata": {},
     "output_type": "display_data"
    }
   ],
   "source": [
    "user_internet = internet.pivot_table(index=['user_id', 'month'], values='mb_used', aggfunc='sum')\n",
    "display(user_internet.head())"
   ]
  },
  {
   "cell_type": "code",
   "execution_count": 44,
   "metadata": {},
   "outputs": [
    {
     "data": {
      "text/plain": [
       "3203"
      ]
     },
     "execution_count": 44,
     "metadata": {},
     "output_type": "execute_result"
    }
   ],
   "source": [
    "len(user_internet)"
   ]
  },
  {
   "cell_type": "markdown",
   "metadata": {},
   "source": [
    "Построение распределения помесячного интернет-трафика абонентов. "
   ]
  },
  {
   "cell_type": "code",
   "execution_count": 45,
   "metadata": {
    "scrolled": false
   },
   "outputs": [
    {
     "data": {
      "image/png": "[encoded data removed]",
      "text/plain": [
       "<Figure size 640x480 with 1 Axes>"
      ]
     },
     "metadata": {},
     "output_type": "display_data"
    }
   ],
   "source": [
    "user_internet['mb_used'].hist(bins=30)\n",
    "plt.title('Распределение ежемесячного трафика абонентов')\n",
    "plt.xlabel('Ежемесячный трафик абонентов, мб')\n",
    "plt.ylabel('Количество абонентов');"
   ]
  },
  {
   "cell_type": "markdown",
   "metadata": {},
   "source": [
    "Каких либо выбросов и аномалий не обнаружено."
   ]
  },
  {
   "cell_type": "markdown",
   "metadata": {},
   "source": [
    "### Объединение таблиц"
   ]
  },
  {
   "cell_type": "markdown",
   "metadata": {},
   "source": [
    "#### Интернет трафик, звонки и сообщения для каждого пользователя"
   ]
  },
  {
   "cell_type": "markdown",
   "metadata": {},
   "source": [
    "Для создания объединённой таблицы интернет трафик, звонки, сообщения воспользуемся функцией join. В качестве таблицы для присоединения возьмём user_internet, так как в ней пользователей 497, что больше, чем пользователей в user_calls - 492 и в user_messages 426."
   ]
  },
  {
   "cell_type": "code",
   "execution_count": 46,
   "metadata": {
    "scrolled": false
   },
   "outputs": [
    {
     "data": {
      "text/html": [
       "<div>\n",
       "<style scoped>\n",
       "    .dataframe tbody tr th:only-of-type {\n",
       "        vertical-align: middle;\n",
       "    }\n",
       "\n",
       "    .dataframe tbody tr th {\n",
       "        vertical-align: top;\n",
       "    }\n",
       "\n",
       "    .dataframe thead th {\n",
       "        text-align: right;\n",
       "    }\n",
       "</style>\n",
       "<table border=\"1\" class=\"dataframe\">\n",
       "  <thead>\n",
       "    <tr style=\"text-align: right;\">\n",
       "      <th></th>\n",
       "      <th>user_id</th>\n",
       "      <th>month</th>\n",
       "      <th>mb_used</th>\n",
       "      <th>calls_count</th>\n",
       "      <th>calls_duration</th>\n",
       "      <th>messages_count</th>\n",
       "    </tr>\n",
       "  </thead>\n",
       "  <tbody>\n",
       "    <tr>\n",
       "      <td>0</td>\n",
       "      <td>1000</td>\n",
       "      <td>5</td>\n",
       "      <td>2253.49</td>\n",
       "      <td>22.0</td>\n",
       "      <td>159.0</td>\n",
       "      <td>22.0</td>\n",
       "    </tr>\n",
       "    <tr>\n",
       "      <td>1</td>\n",
       "      <td>1000</td>\n",
       "      <td>6</td>\n",
       "      <td>23233.77</td>\n",
       "      <td>43.0</td>\n",
       "      <td>172.0</td>\n",
       "      <td>60.0</td>\n",
       "    </tr>\n",
       "    <tr>\n",
       "      <td>2</td>\n",
       "      <td>1000</td>\n",
       "      <td>7</td>\n",
       "      <td>14003.64</td>\n",
       "      <td>47.0</td>\n",
       "      <td>340.0</td>\n",
       "      <td>75.0</td>\n",
       "    </tr>\n",
       "    <tr>\n",
       "      <td>3</td>\n",
       "      <td>1000</td>\n",
       "      <td>8</td>\n",
       "      <td>14055.93</td>\n",
       "      <td>52.0</td>\n",
       "      <td>408.0</td>\n",
       "      <td>81.0</td>\n",
       "    </tr>\n",
       "    <tr>\n",
       "      <td>4</td>\n",
       "      <td>1000</td>\n",
       "      <td>9</td>\n",
       "      <td>14568.91</td>\n",
       "      <td>58.0</td>\n",
       "      <td>466.0</td>\n",
       "      <td>57.0</td>\n",
       "    </tr>\n",
       "    <tr>\n",
       "      <td>...</td>\n",
       "      <td>...</td>\n",
       "      <td>...</td>\n",
       "      <td>...</td>\n",
       "      <td>...</td>\n",
       "      <td>...</td>\n",
       "      <td>...</td>\n",
       "    </tr>\n",
       "    <tr>\n",
       "      <td>3209</td>\n",
       "      <td>1498</td>\n",
       "      <td>10</td>\n",
       "      <td>20579.36</td>\n",
       "      <td>41.0</td>\n",
       "      <td>247.0</td>\n",
       "      <td>42.0</td>\n",
       "    </tr>\n",
       "    <tr>\n",
       "      <td>3210</td>\n",
       "      <td>1499</td>\n",
       "      <td>9</td>\n",
       "      <td>1845.75</td>\n",
       "      <td>9.0</td>\n",
       "      <td>70.0</td>\n",
       "      <td>11.0</td>\n",
       "    </tr>\n",
       "    <tr>\n",
       "      <td>3211</td>\n",
       "      <td>1499</td>\n",
       "      <td>10</td>\n",
       "      <td>17788.51</td>\n",
       "      <td>68.0</td>\n",
       "      <td>449.0</td>\n",
       "      <td>48.0</td>\n",
       "    </tr>\n",
       "    <tr>\n",
       "      <td>3212</td>\n",
       "      <td>1499</td>\n",
       "      <td>11</td>\n",
       "      <td>17963.31</td>\n",
       "      <td>74.0</td>\n",
       "      <td>612.0</td>\n",
       "      <td>59.0</td>\n",
       "    </tr>\n",
       "    <tr>\n",
       "      <td>3213</td>\n",
       "      <td>1499</td>\n",
       "      <td>12</td>\n",
       "      <td>13055.58</td>\n",
       "      <td>69.0</td>\n",
       "      <td>492.0</td>\n",
       "      <td>66.0</td>\n",
       "    </tr>\n",
       "  </tbody>\n",
       "</table>\n",
       "<p>3214 rows × 6 columns</p>\n",
       "</div>"
      ],
      "text/plain": [
       "      user_id  month   mb_used  calls_count  calls_duration  messages_count\n",
       "0        1000      5   2253.49         22.0           159.0            22.0\n",
       "1        1000      6  23233.77         43.0           172.0            60.0\n",
       "2        1000      7  14003.64         47.0           340.0            75.0\n",
       "3        1000      8  14055.93         52.0           408.0            81.0\n",
       "4        1000      9  14568.91         58.0           466.0            57.0\n",
       "...       ...    ...       ...          ...             ...             ...\n",
       "3209     1498     10  20579.36         41.0           247.0            42.0\n",
       "3210     1499      9   1845.75          9.0            70.0            11.0\n",
       "3211     1499     10  17788.51         68.0           449.0            48.0\n",
       "3212     1499     11  17963.31         74.0           612.0            59.0\n",
       "3213     1499     12  13055.58         69.0           492.0            66.0\n",
       "\n",
       "[3214 rows x 6 columns]"
      ]
     },
     "metadata": {},
     "output_type": "display_data"
    }
   ],
   "source": [
    "# объединение таблиц user_internet, user_calls, user_messages\n",
    "user_i_c_m = user_internet.join([user_calls, user_messages], how='outer').reset_index()\n",
    "display(user_i_c_m)"
   ]
  },
  {
   "cell_type": "code",
   "execution_count": 47,
   "metadata": {},
   "outputs": [
    {
     "data": {
      "text/plain": [
       "498"
      ]
     },
     "execution_count": 47,
     "metadata": {},
     "output_type": "execute_result"
    }
   ],
   "source": [
    "# подсчет количества пользователей в объединённой таблице\n",
    "user_i_c_m['user_id'].nunique()"
   ]
  },
  {
   "cell_type": "markdown",
   "metadata": {},
   "source": [
    "Как мы выясняли в предобработке данных, есть пользователи, которые не пользуются сообщениями, и звонками. В связи с этим при создании общей таблицы будут пустые значения. Заполним эти пустые значения нулями."
   ]
  },
  {
   "cell_type": "code",
   "execution_count": 48,
   "metadata": {
    "scrolled": true
   },
   "outputs": [
    {
     "data": {
      "text/plain": [
       "user_id             0\n",
       "month               0\n",
       "mb_used            11\n",
       "calls_count        40\n",
       "calls_duration     40\n",
       "messages_count    497\n",
       "dtype: int64"
      ]
     },
     "execution_count": 48,
     "metadata": {},
     "output_type": "execute_result"
    }
   ],
   "source": [
    "# определение количества пустых значений\n",
    "user_i_c_m.isna().sum()"
   ]
  },
  {
   "cell_type": "code",
   "execution_count": 49,
   "metadata": {},
   "outputs": [
    {
     "data": {
      "text/plain": [
       "user_id           0\n",
       "month             0\n",
       "mb_used           0\n",
       "calls_count       0\n",
       "calls_duration    0\n",
       "messages_count    0\n",
       "dtype: int64"
      ]
     },
     "execution_count": 49,
     "metadata": {},
     "output_type": "execute_result"
    }
   ],
   "source": [
    "# заполним пустые значения значениями 0\n",
    "user_i_c_m = user_i_c_m.fillna(0)\n",
    "user_i_c_m.isna().sum()"
   ]
  },
  {
   "cell_type": "markdown",
   "metadata": {},
   "source": [
    "#### Тариф пользователя"
   ]
  },
  {
   "cell_type": "markdown",
   "metadata": {},
   "source": [
    "Для общей таблицы нам понадобятся для каждого пользователя его тариф и город."
   ]
  },
  {
   "cell_type": "code",
   "execution_count": 50,
   "metadata": {},
   "outputs": [
    {
     "data": {
      "text/html": [
       "<div>\n",
       "<style scoped>\n",
       "    .dataframe tbody tr th:only-of-type {\n",
       "        vertical-align: middle;\n",
       "    }\n",
       "\n",
       "    .dataframe tbody tr th {\n",
       "        vertical-align: top;\n",
       "    }\n",
       "\n",
       "    .dataframe thead th {\n",
       "        text-align: right;\n",
       "    }\n",
       "</style>\n",
       "<table border=\"1\" class=\"dataframe\">\n",
       "  <thead>\n",
       "    <tr style=\"text-align: right;\">\n",
       "      <th></th>\n",
       "      <th>user_id</th>\n",
       "      <th>tariff</th>\n",
       "      <th>city</th>\n",
       "    </tr>\n",
       "  </thead>\n",
       "  <tbody>\n",
       "    <tr>\n",
       "      <td>0</td>\n",
       "      <td>1000</td>\n",
       "      <td>ultra</td>\n",
       "      <td>Краснодар</td>\n",
       "    </tr>\n",
       "    <tr>\n",
       "      <td>1</td>\n",
       "      <td>1001</td>\n",
       "      <td>smart</td>\n",
       "      <td>Москва</td>\n",
       "    </tr>\n",
       "    <tr>\n",
       "      <td>2</td>\n",
       "      <td>1002</td>\n",
       "      <td>smart</td>\n",
       "      <td>Стерлитамак</td>\n",
       "    </tr>\n",
       "    <tr>\n",
       "      <td>3</td>\n",
       "      <td>1003</td>\n",
       "      <td>ultra</td>\n",
       "      <td>Москва</td>\n",
       "    </tr>\n",
       "    <tr>\n",
       "      <td>4</td>\n",
       "      <td>1004</td>\n",
       "      <td>ultra</td>\n",
       "      <td>Новокузнецк</td>\n",
       "    </tr>\n",
       "  </tbody>\n",
       "</table>\n",
       "</div>"
      ],
      "text/plain": [
       "   user_id tariff         city\n",
       "0     1000  ultra    Краснодар\n",
       "1     1001  smart       Москва\n",
       "2     1002  smart  Стерлитамак\n",
       "3     1003  ultra       Москва\n",
       "4     1004  ultra  Новокузнецк"
      ]
     },
     "metadata": {},
     "output_type": "display_data"
    }
   ],
   "source": [
    "# создание таблицы 'user_id', 'tariff', 'city'\n",
    "users_t_c = users.loc[:,['user_id', 'tariff', 'city']]\n",
    "display(users_t_c.head())"
   ]
  },
  {
   "cell_type": "code",
   "execution_count": 51,
   "metadata": {
    "scrolled": false
   },
   "outputs": [
    {
     "data": {
      "text/html": [
       "<div>\n",
       "<style scoped>\n",
       "    .dataframe tbody tr th:only-of-type {\n",
       "        vertical-align: middle;\n",
       "    }\n",
       "\n",
       "    .dataframe tbody tr th {\n",
       "        vertical-align: top;\n",
       "    }\n",
       "\n",
       "    .dataframe thead th {\n",
       "        text-align: right;\n",
       "    }\n",
       "</style>\n",
       "<table border=\"1\" class=\"dataframe\">\n",
       "  <thead>\n",
       "    <tr style=\"text-align: right;\">\n",
       "      <th></th>\n",
       "      <th>user_id</th>\n",
       "      <th>month</th>\n",
       "      <th>mb_used</th>\n",
       "      <th>calls_count</th>\n",
       "      <th>calls_duration</th>\n",
       "      <th>messages_count</th>\n",
       "      <th>tariff</th>\n",
       "      <th>city</th>\n",
       "    </tr>\n",
       "  </thead>\n",
       "  <tbody>\n",
       "    <tr>\n",
       "      <td>0</td>\n",
       "      <td>1000</td>\n",
       "      <td>5</td>\n",
       "      <td>2253.49</td>\n",
       "      <td>22.0</td>\n",
       "      <td>159.0</td>\n",
       "      <td>22.0</td>\n",
       "      <td>ultra</td>\n",
       "      <td>Краснодар</td>\n",
       "    </tr>\n",
       "    <tr>\n",
       "      <td>1</td>\n",
       "      <td>1000</td>\n",
       "      <td>6</td>\n",
       "      <td>23233.77</td>\n",
       "      <td>43.0</td>\n",
       "      <td>172.0</td>\n",
       "      <td>60.0</td>\n",
       "      <td>ultra</td>\n",
       "      <td>Краснодар</td>\n",
       "    </tr>\n",
       "    <tr>\n",
       "      <td>2</td>\n",
       "      <td>1000</td>\n",
       "      <td>7</td>\n",
       "      <td>14003.64</td>\n",
       "      <td>47.0</td>\n",
       "      <td>340.0</td>\n",
       "      <td>75.0</td>\n",
       "      <td>ultra</td>\n",
       "      <td>Краснодар</td>\n",
       "    </tr>\n",
       "    <tr>\n",
       "      <td>3</td>\n",
       "      <td>1000</td>\n",
       "      <td>8</td>\n",
       "      <td>14055.93</td>\n",
       "      <td>52.0</td>\n",
       "      <td>408.0</td>\n",
       "      <td>81.0</td>\n",
       "      <td>ultra</td>\n",
       "      <td>Краснодар</td>\n",
       "    </tr>\n",
       "    <tr>\n",
       "      <td>4</td>\n",
       "      <td>1000</td>\n",
       "      <td>9</td>\n",
       "      <td>14568.91</td>\n",
       "      <td>58.0</td>\n",
       "      <td>466.0</td>\n",
       "      <td>57.0</td>\n",
       "      <td>ultra</td>\n",
       "      <td>Краснодар</td>\n",
       "    </tr>\n",
       "  </tbody>\n",
       "</table>\n",
       "</div>"
      ],
      "text/plain": [
       "   user_id  month   mb_used  calls_count  calls_duration  messages_count  \\\n",
       "0     1000      5   2253.49         22.0           159.0            22.0   \n",
       "1     1000      6  23233.77         43.0           172.0            60.0   \n",
       "2     1000      7  14003.64         47.0           340.0            75.0   \n",
       "3     1000      8  14055.93         52.0           408.0            81.0   \n",
       "4     1000      9  14568.91         58.0           466.0            57.0   \n",
       "\n",
       "  tariff       city  \n",
       "0  ultra  Краснодар  \n",
       "1  ultra  Краснодар  \n",
       "2  ultra  Краснодар  \n",
       "3  ultra  Краснодар  \n",
       "4  ultra  Краснодар  "
      ]
     },
     "metadata": {},
     "output_type": "display_data"
    }
   ],
   "source": [
    "# добавление к общей таблице таблицы тариф, город\n",
    "user_i_c_m_t_c = pd.merge(user_i_c_m, users_t_c, on='user_id')\n",
    "display(user_i_c_m_t_c.head())"
   ]
  },
  {
   "cell_type": "code",
   "execution_count": 52,
   "metadata": {
    "scrolled": false
   },
   "outputs": [
    {
     "data": {
      "text/html": [
       "<div>\n",
       "<style scoped>\n",
       "    .dataframe tbody tr th:only-of-type {\n",
       "        vertical-align: middle;\n",
       "    }\n",
       "\n",
       "    .dataframe tbody tr th {\n",
       "        vertical-align: top;\n",
       "    }\n",
       "\n",
       "    .dataframe thead th {\n",
       "        text-align: right;\n",
       "    }\n",
       "</style>\n",
       "<table border=\"1\" class=\"dataframe\">\n",
       "  <thead>\n",
       "    <tr style=\"text-align: right;\">\n",
       "      <th></th>\n",
       "      <th>user_id</th>\n",
       "      <th>month</th>\n",
       "      <th>mb_used</th>\n",
       "      <th>calls_count</th>\n",
       "      <th>calls_duration</th>\n",
       "      <th>messages_count</th>\n",
       "      <th>tariff_name</th>\n",
       "      <th>city</th>\n",
       "    </tr>\n",
       "  </thead>\n",
       "  <tbody>\n",
       "    <tr>\n",
       "      <td>0</td>\n",
       "      <td>1000</td>\n",
       "      <td>5</td>\n",
       "      <td>2253.49</td>\n",
       "      <td>22.0</td>\n",
       "      <td>159.0</td>\n",
       "      <td>22.0</td>\n",
       "      <td>ultra</td>\n",
       "      <td>Краснодар</td>\n",
       "    </tr>\n",
       "    <tr>\n",
       "      <td>1</td>\n",
       "      <td>1000</td>\n",
       "      <td>6</td>\n",
       "      <td>23233.77</td>\n",
       "      <td>43.0</td>\n",
       "      <td>172.0</td>\n",
       "      <td>60.0</td>\n",
       "      <td>ultra</td>\n",
       "      <td>Краснодар</td>\n",
       "    </tr>\n",
       "    <tr>\n",
       "      <td>2</td>\n",
       "      <td>1000</td>\n",
       "      <td>7</td>\n",
       "      <td>14003.64</td>\n",
       "      <td>47.0</td>\n",
       "      <td>340.0</td>\n",
       "      <td>75.0</td>\n",
       "      <td>ultra</td>\n",
       "      <td>Краснодар</td>\n",
       "    </tr>\n",
       "    <tr>\n",
       "      <td>3</td>\n",
       "      <td>1000</td>\n",
       "      <td>8</td>\n",
       "      <td>14055.93</td>\n",
       "      <td>52.0</td>\n",
       "      <td>408.0</td>\n",
       "      <td>81.0</td>\n",
       "      <td>ultra</td>\n",
       "      <td>Краснодар</td>\n",
       "    </tr>\n",
       "    <tr>\n",
       "      <td>4</td>\n",
       "      <td>1000</td>\n",
       "      <td>9</td>\n",
       "      <td>14568.91</td>\n",
       "      <td>58.0</td>\n",
       "      <td>466.0</td>\n",
       "      <td>57.0</td>\n",
       "      <td>ultra</td>\n",
       "      <td>Краснодар</td>\n",
       "    </tr>\n",
       "  </tbody>\n",
       "</table>\n",
       "</div>"
      ],
      "text/plain": [
       "   user_id  month   mb_used  calls_count  calls_duration  messages_count  \\\n",
       "0     1000      5   2253.49         22.0           159.0            22.0   \n",
       "1     1000      6  23233.77         43.0           172.0            60.0   \n",
       "2     1000      7  14003.64         47.0           340.0            75.0   \n",
       "3     1000      8  14055.93         52.0           408.0            81.0   \n",
       "4     1000      9  14568.91         58.0           466.0            57.0   \n",
       "\n",
       "  tariff_name       city  \n",
       "0       ultra  Краснодар  \n",
       "1       ultra  Краснодар  \n",
       "2       ultra  Краснодар  \n",
       "3       ultra  Краснодар  \n",
       "4       ultra  Краснодар  "
      ]
     },
     "metadata": {},
     "output_type": "display_data"
    }
   ],
   "source": [
    "# переименование столбца 'tariff' на 'tariff_name', \n",
    "# что необходимо для последующего соединения таблиц\n",
    "user_i_c_m_t_c = user_i_c_m_t_c.rename(\n",
    "                columns={\n",
    "                    'tariff' : 'tariff_name'\n",
    "                }\n",
    ")\n",
    "display(user_i_c_m_t_c.head())"
   ]
  },
  {
   "cell_type": "markdown",
   "metadata": {},
   "source": [
    "#### Условия тарифа"
   ]
  },
  {
   "cell_type": "markdown",
   "metadata": {},
   "source": [
    "Присоединение к общей таблице таблицы с условиями тарифа, что необходимо для последующих рассчетов."
   ]
  },
  {
   "cell_type": "code",
   "execution_count": 53,
   "metadata": {},
   "outputs": [
    {
     "data": {
      "text/html": [
       "<div>\n",
       "<style scoped>\n",
       "    .dataframe tbody tr th:only-of-type {\n",
       "        vertical-align: middle;\n",
       "    }\n",
       "\n",
       "    .dataframe tbody tr th {\n",
       "        vertical-align: top;\n",
       "    }\n",
       "\n",
       "    .dataframe thead th {\n",
       "        text-align: right;\n",
       "    }\n",
       "</style>\n",
       "<table border=\"1\" class=\"dataframe\">\n",
       "  <thead>\n",
       "    <tr style=\"text-align: right;\">\n",
       "      <th></th>\n",
       "      <th>user_id</th>\n",
       "      <th>month</th>\n",
       "      <th>mb_used</th>\n",
       "      <th>calls_count</th>\n",
       "      <th>calls_duration</th>\n",
       "      <th>messages_count</th>\n",
       "      <th>tariff_name</th>\n",
       "      <th>city</th>\n",
       "      <th>messages_included</th>\n",
       "      <th>gb_per_month_included</th>\n",
       "      <th>minutes_included</th>\n",
       "      <th>rub_monthly_fee</th>\n",
       "      <th>rub_per_gb</th>\n",
       "      <th>rub_per_message</th>\n",
       "      <th>rub_per_minute</th>\n",
       "    </tr>\n",
       "  </thead>\n",
       "  <tbody>\n",
       "    <tr>\n",
       "      <td>0</td>\n",
       "      <td>1000</td>\n",
       "      <td>5</td>\n",
       "      <td>2253.49</td>\n",
       "      <td>22.0</td>\n",
       "      <td>159.0</td>\n",
       "      <td>22.0</td>\n",
       "      <td>ultra</td>\n",
       "      <td>Краснодар</td>\n",
       "      <td>1000</td>\n",
       "      <td>30</td>\n",
       "      <td>3000</td>\n",
       "      <td>1950</td>\n",
       "      <td>150</td>\n",
       "      <td>1</td>\n",
       "      <td>1</td>\n",
       "    </tr>\n",
       "    <tr>\n",
       "      <td>1</td>\n",
       "      <td>1000</td>\n",
       "      <td>6</td>\n",
       "      <td>23233.77</td>\n",
       "      <td>43.0</td>\n",
       "      <td>172.0</td>\n",
       "      <td>60.0</td>\n",
       "      <td>ultra</td>\n",
       "      <td>Краснодар</td>\n",
       "      <td>1000</td>\n",
       "      <td>30</td>\n",
       "      <td>3000</td>\n",
       "      <td>1950</td>\n",
       "      <td>150</td>\n",
       "      <td>1</td>\n",
       "      <td>1</td>\n",
       "    </tr>\n",
       "    <tr>\n",
       "      <td>2</td>\n",
       "      <td>1000</td>\n",
       "      <td>7</td>\n",
       "      <td>14003.64</td>\n",
       "      <td>47.0</td>\n",
       "      <td>340.0</td>\n",
       "      <td>75.0</td>\n",
       "      <td>ultra</td>\n",
       "      <td>Краснодар</td>\n",
       "      <td>1000</td>\n",
       "      <td>30</td>\n",
       "      <td>3000</td>\n",
       "      <td>1950</td>\n",
       "      <td>150</td>\n",
       "      <td>1</td>\n",
       "      <td>1</td>\n",
       "    </tr>\n",
       "    <tr>\n",
       "      <td>3</td>\n",
       "      <td>1000</td>\n",
       "      <td>8</td>\n",
       "      <td>14055.93</td>\n",
       "      <td>52.0</td>\n",
       "      <td>408.0</td>\n",
       "      <td>81.0</td>\n",
       "      <td>ultra</td>\n",
       "      <td>Краснодар</td>\n",
       "      <td>1000</td>\n",
       "      <td>30</td>\n",
       "      <td>3000</td>\n",
       "      <td>1950</td>\n",
       "      <td>150</td>\n",
       "      <td>1</td>\n",
       "      <td>1</td>\n",
       "    </tr>\n",
       "    <tr>\n",
       "      <td>4</td>\n",
       "      <td>1000</td>\n",
       "      <td>9</td>\n",
       "      <td>14568.91</td>\n",
       "      <td>58.0</td>\n",
       "      <td>466.0</td>\n",
       "      <td>57.0</td>\n",
       "      <td>ultra</td>\n",
       "      <td>Краснодар</td>\n",
       "      <td>1000</td>\n",
       "      <td>30</td>\n",
       "      <td>3000</td>\n",
       "      <td>1950</td>\n",
       "      <td>150</td>\n",
       "      <td>1</td>\n",
       "      <td>1</td>\n",
       "    </tr>\n",
       "    <tr>\n",
       "      <td>...</td>\n",
       "      <td>...</td>\n",
       "      <td>...</td>\n",
       "      <td>...</td>\n",
       "      <td>...</td>\n",
       "      <td>...</td>\n",
       "      <td>...</td>\n",
       "      <td>...</td>\n",
       "      <td>...</td>\n",
       "      <td>...</td>\n",
       "      <td>...</td>\n",
       "      <td>...</td>\n",
       "      <td>...</td>\n",
       "      <td>...</td>\n",
       "      <td>...</td>\n",
       "      <td>...</td>\n",
       "    </tr>\n",
       "    <tr>\n",
       "      <td>3209</td>\n",
       "      <td>1498</td>\n",
       "      <td>10</td>\n",
       "      <td>20579.36</td>\n",
       "      <td>41.0</td>\n",
       "      <td>247.0</td>\n",
       "      <td>42.0</td>\n",
       "      <td>smart</td>\n",
       "      <td>Владикавказ</td>\n",
       "      <td>50</td>\n",
       "      <td>15</td>\n",
       "      <td>500</td>\n",
       "      <td>550</td>\n",
       "      <td>200</td>\n",
       "      <td>3</td>\n",
       "      <td>3</td>\n",
       "    </tr>\n",
       "    <tr>\n",
       "      <td>3210</td>\n",
       "      <td>1499</td>\n",
       "      <td>9</td>\n",
       "      <td>1845.75</td>\n",
       "      <td>9.0</td>\n",
       "      <td>70.0</td>\n",
       "      <td>11.0</td>\n",
       "      <td>smart</td>\n",
       "      <td>Пермь</td>\n",
       "      <td>50</td>\n",
       "      <td>15</td>\n",
       "      <td>500</td>\n",
       "      <td>550</td>\n",
       "      <td>200</td>\n",
       "      <td>3</td>\n",
       "      <td>3</td>\n",
       "    </tr>\n",
       "    <tr>\n",
       "      <td>3211</td>\n",
       "      <td>1499</td>\n",
       "      <td>10</td>\n",
       "      <td>17788.51</td>\n",
       "      <td>68.0</td>\n",
       "      <td>449.0</td>\n",
       "      <td>48.0</td>\n",
       "      <td>smart</td>\n",
       "      <td>Пермь</td>\n",
       "      <td>50</td>\n",
       "      <td>15</td>\n",
       "      <td>500</td>\n",
       "      <td>550</td>\n",
       "      <td>200</td>\n",
       "      <td>3</td>\n",
       "      <td>3</td>\n",
       "    </tr>\n",
       "    <tr>\n",
       "      <td>3212</td>\n",
       "      <td>1499</td>\n",
       "      <td>11</td>\n",
       "      <td>17963.31</td>\n",
       "      <td>74.0</td>\n",
       "      <td>612.0</td>\n",
       "      <td>59.0</td>\n",
       "      <td>smart</td>\n",
       "      <td>Пермь</td>\n",
       "      <td>50</td>\n",
       "      <td>15</td>\n",
       "      <td>500</td>\n",
       "      <td>550</td>\n",
       "      <td>200</td>\n",
       "      <td>3</td>\n",
       "      <td>3</td>\n",
       "    </tr>\n",
       "    <tr>\n",
       "      <td>3213</td>\n",
       "      <td>1499</td>\n",
       "      <td>12</td>\n",
       "      <td>13055.58</td>\n",
       "      <td>69.0</td>\n",
       "      <td>492.0</td>\n",
       "      <td>66.0</td>\n",
       "      <td>smart</td>\n",
       "      <td>Пермь</td>\n",
       "      <td>50</td>\n",
       "      <td>15</td>\n",
       "      <td>500</td>\n",
       "      <td>550</td>\n",
       "      <td>200</td>\n",
       "      <td>3</td>\n",
       "      <td>3</td>\n",
       "    </tr>\n",
       "  </tbody>\n",
       "</table>\n",
       "<p>3214 rows × 15 columns</p>\n",
       "</div>"
      ],
      "text/plain": [
       "      user_id  month   mb_used  calls_count  calls_duration  messages_count  \\\n",
       "0        1000      5   2253.49         22.0           159.0            22.0   \n",
       "1        1000      6  23233.77         43.0           172.0            60.0   \n",
       "2        1000      7  14003.64         47.0           340.0            75.0   \n",
       "3        1000      8  14055.93         52.0           408.0            81.0   \n",
       "4        1000      9  14568.91         58.0           466.0            57.0   \n",
       "...       ...    ...       ...          ...             ...             ...   \n",
       "3209     1498     10  20579.36         41.0           247.0            42.0   \n",
       "3210     1499      9   1845.75          9.0            70.0            11.0   \n",
       "3211     1499     10  17788.51         68.0           449.0            48.0   \n",
       "3212     1499     11  17963.31         74.0           612.0            59.0   \n",
       "3213     1499     12  13055.58         69.0           492.0            66.0   \n",
       "\n",
       "     tariff_name         city  messages_included  gb_per_month_included  \\\n",
       "0          ultra    Краснодар               1000                     30   \n",
       "1          ultra    Краснодар               1000                     30   \n",
       "2          ultra    Краснодар               1000                     30   \n",
       "3          ultra    Краснодар               1000                     30   \n",
       "4          ultra    Краснодар               1000                     30   \n",
       "...          ...          ...                ...                    ...   \n",
       "3209       smart  Владикавказ                 50                     15   \n",
       "3210       smart        Пермь                 50                     15   \n",
       "3211       smart        Пермь                 50                     15   \n",
       "3212       smart        Пермь                 50                     15   \n",
       "3213       smart        Пермь                 50                     15   \n",
       "\n",
       "      minutes_included  rub_monthly_fee  rub_per_gb  rub_per_message  \\\n",
       "0                 3000             1950         150                1   \n",
       "1                 3000             1950         150                1   \n",
       "2                 3000             1950         150                1   \n",
       "3                 3000             1950         150                1   \n",
       "4                 3000             1950         150                1   \n",
       "...                ...              ...         ...              ...   \n",
       "3209               500              550         200                3   \n",
       "3210               500              550         200                3   \n",
       "3211               500              550         200                3   \n",
       "3212               500              550         200                3   \n",
       "3213               500              550         200                3   \n",
       "\n",
       "      rub_per_minute  \n",
       "0                  1  \n",
       "1                  1  \n",
       "2                  1  \n",
       "3                  1  \n",
       "4                  1  \n",
       "...              ...  \n",
       "3209               3  \n",
       "3210               3  \n",
       "3211               3  \n",
       "3212               3  \n",
       "3213               3  \n",
       "\n",
       "[3214 rows x 15 columns]"
      ]
     },
     "metadata": {},
     "output_type": "display_data"
    }
   ],
   "source": [
    "data = pd.merge(user_i_c_m_t_c, tariffs, on='tariff_name')\n",
    "display(data)"
   ]
  },
  {
   "cell_type": "markdown",
   "metadata": {},
   "source": [
    "#### Изменение типов столбцов mb_used, calls_count, calls_duration, messages_count"
   ]
  },
  {
   "cell_type": "code",
   "execution_count": 54,
   "metadata": {},
   "outputs": [],
   "source": [
    "data[['mb_used', 'calls_count', 'calls_duration', 'messages_count']] \\\n",
    " = data[['mb_used', 'calls_count', 'calls_duration', 'messages_count']].astype(int)"
   ]
  },
  {
   "cell_type": "markdown",
   "metadata": {},
   "source": [
    "### Создание дополнительных столбцов"
   ]
  },
  {
   "cell_type": "markdown",
   "metadata": {},
   "source": [
    "#### gb_for_pay трафик для оплаты "
   ]
  },
  {
   "cell_type": "markdown",
   "metadata": {},
   "source": [
    "Расчет количества интернет трафика для оплаты. Значения в столбце mb_used делим на 1024 для получения трафика в Гб и округляем вверх в соответствии с условиями мобильного оператора."
   ]
  },
  {
   "cell_type": "code",
   "execution_count": 55,
   "metadata": {},
   "outputs": [],
   "source": [
    "# подготовка столбца mb_used\n",
    "data['mb_used'] = np.ceil(data['mb_used']  / 1024).astype(int)"
   ]
  },
  {
   "cell_type": "code",
   "execution_count": 56,
   "metadata": {},
   "outputs": [
    {
     "name": "stdout",
     "output_type": "stream",
     "text": [
      "0     3\n",
      "1    23\n",
      "2    14\n",
      "3    14\n",
      "4    15\n",
      "Name: mb_used, dtype: int32\n"
     ]
    }
   ],
   "source": [
    "print(data['mb_used'].head())"
   ]
  },
  {
   "cell_type": "code",
   "execution_count": 57,
   "metadata": {},
   "outputs": [],
   "source": [
    "# Создание функции для расчета интернет трафика для оплаты\n",
    "def difference_gb (row):\n",
    "    difference = row['mb_used'] - row['gb_per_month_included']\n",
    "    if difference <= 0:\n",
    "        return(0)\n",
    "    else:\n",
    "        return(difference)"
   ]
  },
  {
   "cell_type": "code",
   "execution_count": 58,
   "metadata": {
    "scrolled": false
   },
   "outputs": [
    {
     "data": {
      "text/html": [
       "<div>\n",
       "<style scoped>\n",
       "    .dataframe tbody tr th:only-of-type {\n",
       "        vertical-align: middle;\n",
       "    }\n",
       "\n",
       "    .dataframe tbody tr th {\n",
       "        vertical-align: top;\n",
       "    }\n",
       "\n",
       "    .dataframe thead th {\n",
       "        text-align: right;\n",
       "    }\n",
       "</style>\n",
       "<table border=\"1\" class=\"dataframe\">\n",
       "  <thead>\n",
       "    <tr style=\"text-align: right;\">\n",
       "      <th></th>\n",
       "      <th>mb_used</th>\n",
       "      <th>gb_for_pay</th>\n",
       "    </tr>\n",
       "  </thead>\n",
       "  <tbody>\n",
       "    <tr>\n",
       "      <td>3204</td>\n",
       "      <td>14</td>\n",
       "      <td>0</td>\n",
       "    </tr>\n",
       "    <tr>\n",
       "      <td>3205</td>\n",
       "      <td>20</td>\n",
       "      <td>5</td>\n",
       "    </tr>\n",
       "    <tr>\n",
       "      <td>3206</td>\n",
       "      <td>8</td>\n",
       "      <td>0</td>\n",
       "    </tr>\n",
       "    <tr>\n",
       "      <td>3207</td>\n",
       "      <td>24</td>\n",
       "      <td>9</td>\n",
       "    </tr>\n",
       "    <tr>\n",
       "      <td>3208</td>\n",
       "      <td>22</td>\n",
       "      <td>7</td>\n",
       "    </tr>\n",
       "    <tr>\n",
       "      <td>3209</td>\n",
       "      <td>21</td>\n",
       "      <td>6</td>\n",
       "    </tr>\n",
       "    <tr>\n",
       "      <td>3210</td>\n",
       "      <td>2</td>\n",
       "      <td>0</td>\n",
       "    </tr>\n",
       "    <tr>\n",
       "      <td>3211</td>\n",
       "      <td>18</td>\n",
       "      <td>3</td>\n",
       "    </tr>\n",
       "    <tr>\n",
       "      <td>3212</td>\n",
       "      <td>18</td>\n",
       "      <td>3</td>\n",
       "    </tr>\n",
       "    <tr>\n",
       "      <td>3213</td>\n",
       "      <td>13</td>\n",
       "      <td>0</td>\n",
       "    </tr>\n",
       "  </tbody>\n",
       "</table>\n",
       "</div>"
      ],
      "text/plain": [
       "      mb_used  gb_for_pay\n",
       "3204       14           0\n",
       "3205       20           5\n",
       "3206        8           0\n",
       "3207       24           9\n",
       "3208       22           7\n",
       "3209       21           6\n",
       "3210        2           0\n",
       "3211       18           3\n",
       "3212       18           3\n",
       "3213       13           0"
      ]
     },
     "metadata": {},
     "output_type": "display_data"
    }
   ],
   "source": [
    "# создание столбца gb_for_pay с трафиком для оплаты\n",
    "data['gb_for_pay'] = data.apply(difference_gb, axis=1)\n",
    "display(data[['mb_used', 'gb_for_pay']].tail(10))"
   ]
  },
  {
   "cell_type": "markdown",
   "metadata": {},
   "source": [
    "#### minutes_for_pay минуты для оплаты "
   ]
  },
  {
   "cell_type": "code",
   "execution_count": 59,
   "metadata": {},
   "outputs": [],
   "source": [
    "# функция для расчета минут для оплаты\n",
    "def dif_minute (row):\n",
    "    difference = row['calls_duration'] - row['minutes_included']\n",
    "    if difference <= 0:\n",
    "        return(0)\n",
    "    else:\n",
    "        return(difference)    "
   ]
  },
  {
   "cell_type": "code",
   "execution_count": 60,
   "metadata": {},
   "outputs": [
    {
     "data": {
      "text/html": [
       "<div>\n",
       "<style scoped>\n",
       "    .dataframe tbody tr th:only-of-type {\n",
       "        vertical-align: middle;\n",
       "    }\n",
       "\n",
       "    .dataframe tbody tr th {\n",
       "        vertical-align: top;\n",
       "    }\n",
       "\n",
       "    .dataframe thead th {\n",
       "        text-align: right;\n",
       "    }\n",
       "</style>\n",
       "<table border=\"1\" class=\"dataframe\">\n",
       "  <thead>\n",
       "    <tr style=\"text-align: right;\">\n",
       "      <th></th>\n",
       "      <th>calls_duration</th>\n",
       "      <th>minutes_included</th>\n",
       "      <th>minutes_for_pay</th>\n",
       "    </tr>\n",
       "  </thead>\n",
       "  <tbody>\n",
       "    <tr>\n",
       "      <td>0</td>\n",
       "      <td>159</td>\n",
       "      <td>3000</td>\n",
       "      <td>0</td>\n",
       "    </tr>\n",
       "    <tr>\n",
       "      <td>1</td>\n",
       "      <td>172</td>\n",
       "      <td>3000</td>\n",
       "      <td>0</td>\n",
       "    </tr>\n",
       "    <tr>\n",
       "      <td>2</td>\n",
       "      <td>340</td>\n",
       "      <td>3000</td>\n",
       "      <td>0</td>\n",
       "    </tr>\n",
       "    <tr>\n",
       "      <td>3</td>\n",
       "      <td>408</td>\n",
       "      <td>3000</td>\n",
       "      <td>0</td>\n",
       "    </tr>\n",
       "    <tr>\n",
       "      <td>4</td>\n",
       "      <td>466</td>\n",
       "      <td>3000</td>\n",
       "      <td>0</td>\n",
       "    </tr>\n",
       "  </tbody>\n",
       "</table>\n",
       "</div>"
      ],
      "text/plain": [
       "   calls_duration  minutes_included  minutes_for_pay\n",
       "0             159              3000                0\n",
       "1             172              3000                0\n",
       "2             340              3000                0\n",
       "3             408              3000                0\n",
       "4             466              3000                0"
      ]
     },
     "metadata": {},
     "output_type": "display_data"
    }
   ],
   "source": [
    "# создание столбца minutes_for_pay\n",
    "data['minutes_for_pay'] = data.apply(dif_minute, axis=1)\n",
    "display(data[['calls_duration', 'minutes_included', 'minutes_for_pay']].head())"
   ]
  },
  {
   "cell_type": "markdown",
   "metadata": {},
   "source": [
    "#### messages_for_pay сообщения для оплаты "
   ]
  },
  {
   "cell_type": "code",
   "execution_count": 61,
   "metadata": {},
   "outputs": [],
   "source": [
    "# функция для расчета сообщений для оплаты\n",
    "def dif_messages (row):\n",
    "    difference = row['messages_count'] - row['messages_included']\n",
    "    if difference <= 0:\n",
    "        return(0)\n",
    "    else:\n",
    "        return(difference)"
   ]
  },
  {
   "cell_type": "code",
   "execution_count": 62,
   "metadata": {
    "scrolled": true
   },
   "outputs": [
    {
     "data": {
      "text/html": [
       "<div>\n",
       "<style scoped>\n",
       "    .dataframe tbody tr th:only-of-type {\n",
       "        vertical-align: middle;\n",
       "    }\n",
       "\n",
       "    .dataframe tbody tr th {\n",
       "        vertical-align: top;\n",
       "    }\n",
       "\n",
       "    .dataframe thead th {\n",
       "        text-align: right;\n",
       "    }\n",
       "</style>\n",
       "<table border=\"1\" class=\"dataframe\">\n",
       "  <thead>\n",
       "    <tr style=\"text-align: right;\">\n",
       "      <th></th>\n",
       "      <th>messages_count</th>\n",
       "      <th>messages_included</th>\n",
       "      <th>messages_for_pay</th>\n",
       "    </tr>\n",
       "  </thead>\n",
       "  <tbody>\n",
       "    <tr>\n",
       "      <td>3204</td>\n",
       "      <td>14</td>\n",
       "      <td>50</td>\n",
       "      <td>0</td>\n",
       "    </tr>\n",
       "    <tr>\n",
       "      <td>3205</td>\n",
       "      <td>17</td>\n",
       "      <td>50</td>\n",
       "      <td>0</td>\n",
       "    </tr>\n",
       "    <tr>\n",
       "      <td>3206</td>\n",
       "      <td>20</td>\n",
       "      <td>50</td>\n",
       "      <td>0</td>\n",
       "    </tr>\n",
       "    <tr>\n",
       "      <td>3207</td>\n",
       "      <td>62</td>\n",
       "      <td>50</td>\n",
       "      <td>12</td>\n",
       "    </tr>\n",
       "    <tr>\n",
       "      <td>3208</td>\n",
       "      <td>44</td>\n",
       "      <td>50</td>\n",
       "      <td>0</td>\n",
       "    </tr>\n",
       "    <tr>\n",
       "      <td>3209</td>\n",
       "      <td>42</td>\n",
       "      <td>50</td>\n",
       "      <td>0</td>\n",
       "    </tr>\n",
       "    <tr>\n",
       "      <td>3210</td>\n",
       "      <td>11</td>\n",
       "      <td>50</td>\n",
       "      <td>0</td>\n",
       "    </tr>\n",
       "    <tr>\n",
       "      <td>3211</td>\n",
       "      <td>48</td>\n",
       "      <td>50</td>\n",
       "      <td>0</td>\n",
       "    </tr>\n",
       "    <tr>\n",
       "      <td>3212</td>\n",
       "      <td>59</td>\n",
       "      <td>50</td>\n",
       "      <td>9</td>\n",
       "    </tr>\n",
       "    <tr>\n",
       "      <td>3213</td>\n",
       "      <td>66</td>\n",
       "      <td>50</td>\n",
       "      <td>16</td>\n",
       "    </tr>\n",
       "  </tbody>\n",
       "</table>\n",
       "</div>"
      ],
      "text/plain": [
       "      messages_count  messages_included  messages_for_pay\n",
       "3204              14                 50                 0\n",
       "3205              17                 50                 0\n",
       "3206              20                 50                 0\n",
       "3207              62                 50                12\n",
       "3208              44                 50                 0\n",
       "3209              42                 50                 0\n",
       "3210              11                 50                 0\n",
       "3211              48                 50                 0\n",
       "3212              59                 50                 9\n",
       "3213              66                 50                16"
      ]
     },
     "metadata": {},
     "output_type": "display_data"
    }
   ],
   "source": [
    "# создание столбца messages_for_pay\n",
    "data['messages_for_pay'] = data.apply(dif_messages, axis=1)\n",
    "display(data[['messages_count', 'messages_included', 'messages_for_pay']].tail(10))"
   ]
  },
  {
   "cell_type": "markdown",
   "metadata": {},
   "source": [
    "#### monthly_revenue помесячная выручка с пользователя "
   ]
  },
  {
   "cell_type": "markdown",
   "metadata": {},
   "source": [
    "Расчёт помесячной выручки с пользователя"
   ]
  },
  {
   "cell_type": "code",
   "execution_count": 63,
   "metadata": {},
   "outputs": [],
   "source": [
    "# добавление столбца monthly_revenue с значением помесячной выручки\n",
    "data['monthly_revenue'] = (data['rub_monthly_fee']\n",
    "                           + data['gb_for_pay'] * data['rub_per_gb']\n",
    "                           + data['minutes_for_pay'] * data['rub_per_minute']\n",
    "                           + data['messages_for_pay'] * data['rub_per_message']\n",
    ")"
   ]
  },
  {
   "cell_type": "code",
   "execution_count": 64,
   "metadata": {},
   "outputs": [
    {
     "data": {
      "text/html": [
       "<div>\n",
       "<style scoped>\n",
       "    .dataframe tbody tr th:only-of-type {\n",
       "        vertical-align: middle;\n",
       "    }\n",
       "\n",
       "    .dataframe tbody tr th {\n",
       "        vertical-align: top;\n",
       "    }\n",
       "\n",
       "    .dataframe thead th {\n",
       "        text-align: right;\n",
       "    }\n",
       "</style>\n",
       "<table border=\"1\" class=\"dataframe\">\n",
       "  <thead>\n",
       "    <tr style=\"text-align: right;\">\n",
       "      <th></th>\n",
       "      <th>tariff_name</th>\n",
       "      <th>monthly_revenue</th>\n",
       "    </tr>\n",
       "  </thead>\n",
       "  <tbody>\n",
       "    <tr>\n",
       "      <td>0</td>\n",
       "      <td>ultra</td>\n",
       "      <td>1950</td>\n",
       "    </tr>\n",
       "    <tr>\n",
       "      <td>1</td>\n",
       "      <td>ultra</td>\n",
       "      <td>1950</td>\n",
       "    </tr>\n",
       "    <tr>\n",
       "      <td>2</td>\n",
       "      <td>ultra</td>\n",
       "      <td>1950</td>\n",
       "    </tr>\n",
       "    <tr>\n",
       "      <td>3</td>\n",
       "      <td>ultra</td>\n",
       "      <td>1950</td>\n",
       "    </tr>\n",
       "    <tr>\n",
       "      <td>4</td>\n",
       "      <td>ultra</td>\n",
       "      <td>1950</td>\n",
       "    </tr>\n",
       "    <tr>\n",
       "      <td>...</td>\n",
       "      <td>...</td>\n",
       "      <td>...</td>\n",
       "    </tr>\n",
       "    <tr>\n",
       "      <td>3209</td>\n",
       "      <td>smart</td>\n",
       "      <td>1750</td>\n",
       "    </tr>\n",
       "    <tr>\n",
       "      <td>3210</td>\n",
       "      <td>smart</td>\n",
       "      <td>550</td>\n",
       "    </tr>\n",
       "    <tr>\n",
       "      <td>3211</td>\n",
       "      <td>smart</td>\n",
       "      <td>1150</td>\n",
       "    </tr>\n",
       "    <tr>\n",
       "      <td>3212</td>\n",
       "      <td>smart</td>\n",
       "      <td>1513</td>\n",
       "    </tr>\n",
       "    <tr>\n",
       "      <td>3213</td>\n",
       "      <td>smart</td>\n",
       "      <td>598</td>\n",
       "    </tr>\n",
       "  </tbody>\n",
       "</table>\n",
       "<p>3214 rows × 2 columns</p>\n",
       "</div>"
      ],
      "text/plain": [
       "     tariff_name  monthly_revenue\n",
       "0          ultra             1950\n",
       "1          ultra             1950\n",
       "2          ultra             1950\n",
       "3          ultra             1950\n",
       "4          ultra             1950\n",
       "...          ...              ...\n",
       "3209       smart             1750\n",
       "3210       smart              550\n",
       "3211       smart             1150\n",
       "3212       smart             1513\n",
       "3213       smart              598\n",
       "\n",
       "[3214 rows x 2 columns]"
      ]
     },
     "metadata": {},
     "output_type": "display_data"
    }
   ],
   "source": [
    "# проверка значений в столбце monthly_revenue\n",
    "display(data[['tariff_name', 'monthly_revenue']])"
   ]
  },
  {
   "cell_type": "markdown",
   "metadata": {},
   "source": [
    "Построение гистограммы по столбцу monthly_revenue"
   ]
  },
  {
   "cell_type": "code",
   "execution_count": 65,
   "metadata": {
    "scrolled": true
   },
   "outputs": [
    {
     "data": {
      "image/png": "[encoded data removed]",
      "text/plain": [
       "<Figure size 640x480 with 1 Axes>"
      ]
     },
     "metadata": {},
     "output_type": "display_data"
    }
   ],
   "source": [
    "data['monthly_revenue'].hist(bins=30)\n",
    "plt.title('Распределение ежемесячной выручки с абонентов')\n",
    "plt.xlabel('Выручка с абонента в месяц, руб')\n",
    "plt.ylabel('Количество помесячных оплат');"
   ]
  },
  {
   "cell_type": "markdown",
   "metadata": {},
   "source": [
    "На гистограмме есть 2 пика в значении 550 р и 1950 р. Это пики в значениии оплаты по тарифу смарт и ультра, для пользователей, которые не превышают значения траффика, минут и сообщений"
   ]
  },
  {
   "cell_type": "markdown",
   "metadata": {},
   "source": [
    "#### city_cat категория местоположения Москва, другие города"
   ]
  },
  {
   "cell_type": "code",
   "execution_count": 66,
   "metadata": {},
   "outputs": [],
   "source": [
    "# функция категоризации по городу с значениями Москва, Другие\n",
    "def city_cat (city):\n",
    "    if city == 'Москва':\n",
    "        return('Москва')\n",
    "    else:\n",
    "        return('Другой')"
   ]
  },
  {
   "cell_type": "code",
   "execution_count": 67,
   "metadata": {},
   "outputs": [
    {
     "data": {
      "text/html": [
       "<div>\n",
       "<style scoped>\n",
       "    .dataframe tbody tr th:only-of-type {\n",
       "        vertical-align: middle;\n",
       "    }\n",
       "\n",
       "    .dataframe tbody tr th {\n",
       "        vertical-align: top;\n",
       "    }\n",
       "\n",
       "    .dataframe thead th {\n",
       "        text-align: right;\n",
       "    }\n",
       "</style>\n",
       "<table border=\"1\" class=\"dataframe\">\n",
       "  <thead>\n",
       "    <tr style=\"text-align: right;\">\n",
       "      <th></th>\n",
       "      <th>city</th>\n",
       "      <th>city_cat</th>\n",
       "    </tr>\n",
       "  </thead>\n",
       "  <tbody>\n",
       "    <tr>\n",
       "      <td>0</td>\n",
       "      <td>Краснодар</td>\n",
       "      <td>Другой</td>\n",
       "    </tr>\n",
       "    <tr>\n",
       "      <td>1</td>\n",
       "      <td>Краснодар</td>\n",
       "      <td>Другой</td>\n",
       "    </tr>\n",
       "    <tr>\n",
       "      <td>2</td>\n",
       "      <td>Краснодар</td>\n",
       "      <td>Другой</td>\n",
       "    </tr>\n",
       "    <tr>\n",
       "      <td>3</td>\n",
       "      <td>Краснодар</td>\n",
       "      <td>Другой</td>\n",
       "    </tr>\n",
       "    <tr>\n",
       "      <td>4</td>\n",
       "      <td>Краснодар</td>\n",
       "      <td>Другой</td>\n",
       "    </tr>\n",
       "    <tr>\n",
       "      <td>5</td>\n",
       "      <td>Краснодар</td>\n",
       "      <td>Другой</td>\n",
       "    </tr>\n",
       "    <tr>\n",
       "      <td>6</td>\n",
       "      <td>Краснодар</td>\n",
       "      <td>Другой</td>\n",
       "    </tr>\n",
       "    <tr>\n",
       "      <td>7</td>\n",
       "      <td>Краснодар</td>\n",
       "      <td>Другой</td>\n",
       "    </tr>\n",
       "    <tr>\n",
       "      <td>8</td>\n",
       "      <td>Москва</td>\n",
       "      <td>Москва</td>\n",
       "    </tr>\n",
       "    <tr>\n",
       "      <td>9</td>\n",
       "      <td>Москва</td>\n",
       "      <td>Москва</td>\n",
       "    </tr>\n",
       "  </tbody>\n",
       "</table>\n",
       "</div>"
      ],
      "text/plain": [
       "        city city_cat\n",
       "0  Краснодар   Другой\n",
       "1  Краснодар   Другой\n",
       "2  Краснодар   Другой\n",
       "3  Краснодар   Другой\n",
       "4  Краснодар   Другой\n",
       "5  Краснодар   Другой\n",
       "6  Краснодар   Другой\n",
       "7  Краснодар   Другой\n",
       "8     Москва   Москва\n",
       "9     Москва   Москва"
      ]
     },
     "execution_count": 67,
     "metadata": {},
     "output_type": "execute_result"
    }
   ],
   "source": [
    "# создание столбца city_cat\n",
    "data['city_cat'] = data['city'].apply(city_cat)\n",
    "data[['city', 'city_cat']].head(10)"
   ]
  },
  {
   "cell_type": "markdown",
   "metadata": {},
   "source": [
    "## Анализ данных"
   ]
  },
  {
   "cell_type": "markdown",
   "metadata": {},
   "source": [
    "### Количество пользователей тарифов"
   ]
  },
  {
   "cell_type": "code",
   "execution_count": 68,
   "metadata": {},
   "outputs": [
    {
     "data": {
      "text/plain": [
       "smart    351\n",
       "ultra    149\n",
       "Name: tariff, dtype: int64"
      ]
     },
     "metadata": {},
     "output_type": "display_data"
    }
   ],
   "source": [
    "users_tariff_counts = users['tariff'].value_counts()\n",
    "display(users_tariff_counts)"
   ]
  },
  {
   "cell_type": "code",
   "execution_count": 69,
   "metadata": {},
   "outputs": [
    {
     "data": {
      "text/plain": [
       "smart    70.2\n",
       "ultra    29.8\n",
       "Name: tariff, dtype: float64"
      ]
     },
     "execution_count": 69,
     "metadata": {},
     "output_type": "execute_result"
    }
   ],
   "source": [
    "round(100 * (users_tariff_counts / len(users)), 1)"
   ]
  },
  {
   "cell_type": "markdown",
   "metadata": {},
   "source": [
    "Пользователей тарифа smart 351, что составляет 70.2 %, доля пользователей тарифа ultra 149, что составляет 29.8 %."
   ]
  },
  {
   "cell_type": "markdown",
   "metadata": {},
   "source": [
    "### Анализ данных пользователей тарифа \"ультра\""
   ]
  },
  {
   "cell_type": "code",
   "execution_count": 70,
   "metadata": {},
   "outputs": [],
   "source": [
    "# создание датафрейма пользователей тарифа ultra\n",
    "data_ultra = data.query('tariff_name == \"ultra\"')"
   ]
  },
  {
   "cell_type": "markdown",
   "metadata": {},
   "source": [
    "#### Calls"
   ]
  },
  {
   "cell_type": "markdown",
   "metadata": {},
   "source": [
    "Построение распределения потраченных минут в месяц абонентами тарифа ultra."
   ]
  },
  {
   "cell_type": "code",
   "execution_count": 71,
   "metadata": {},
   "outputs": [
    {
     "data": {
      "image/png": "[encoded data removed]",
      "text/plain": [
       "<Figure size 640x480 with 1 Axes>"
      ]
     },
     "metadata": {},
     "output_type": "display_data"
    }
   ],
   "source": [
    "data_ultra['calls_duration'].hist(bins=30)\n",
    "plt.title('Распределение потраченных минут в месяц абонентами тарифа ultra')\n",
    "plt.xlabel('Длительность звонков в месяц, мин')\n",
    "plt.ylabel('Количество абонентов, шт')\n",
    "plt.show()"
   ]
  },
  {
   "cell_type": "markdown",
   "metadata": {},
   "source": [
    "Получение статистических данных по столбцу calls_duration"
   ]
  },
  {
   "cell_type": "code",
   "execution_count": 72,
   "metadata": {
    "scrolled": true
   },
   "outputs": [
    {
     "data": {
      "text/plain": [
       "count     985.000000\n",
       "mean      526.623350\n",
       "std       317.606098\n",
       "min         0.000000\n",
       "25%       284.000000\n",
       "50%       518.000000\n",
       "75%       752.000000\n",
       "max      1673.000000\n",
       "Name: calls_duration, dtype: float64"
      ]
     },
     "metadata": {},
     "output_type": "display_data"
    }
   ],
   "source": [
    "ultra_calls_stat = data_ultra['calls_duration'].describe()\n",
    "display(ultra_calls_stat)"
   ]
  },
  {
   "cell_type": "markdown",
   "metadata": {},
   "source": [
    "Рассчёт дисперсии"
   ]
  },
  {
   "cell_type": "code",
   "execution_count": 73,
   "metadata": {},
   "outputs": [
    {
     "data": {
      "text/plain": [
       "100873.63339730098"
      ]
     },
     "execution_count": 73,
     "metadata": {},
     "output_type": "execute_result"
    }
   ],
   "source": [
    "ultra_calls_stat['std'] ** 2"
   ]
  },
  {
   "cell_type": "markdown",
   "metadata": {},
   "source": [
    "Пользователи тарифа \"ультра\" в среднем в месяц разговаривают по 530 мин. Это в 6 раз меньше, чем включено в тариф 3000 мин. Стандартное отклонение равно 318. Дисперсия равна 100883."
   ]
  },
  {
   "cell_type": "markdown",
   "metadata": {},
   "source": [
    "#### Messages"
   ]
  },
  {
   "cell_type": "markdown",
   "metadata": {},
   "source": [
    "Построение распределения количества сообщений в месяц абонентов тарифа ultra."
   ]
  },
  {
   "cell_type": "code",
   "execution_count": 74,
   "metadata": {
    "scrolled": false
   },
   "outputs": [
    {
     "data": {
      "image/png": "[encoded data removed]",
      "text/plain": [
       "<Figure size 640x480 with 1 Axes>"
      ]
     },
     "metadata": {},
     "output_type": "display_data"
    }
   ],
   "source": [
    "data_ultra['messages_count'].hist(bins=20)\n",
    "plt.title('Распределение количество сообщений в месяц абонентов тарифа ultra')\n",
    "plt.xlabel('Количество сообщений, шт')\n",
    "plt.ylabel('Количество абонентов')\n",
    "plt.show()"
   ]
  },
  {
   "cell_type": "markdown",
   "metadata": {},
   "source": [
    "Получение статистических характеристик сообщений пользователей."
   ]
  },
  {
   "cell_type": "code",
   "execution_count": 75,
   "metadata": {
    "scrolled": true
   },
   "outputs": [
    {
     "data": {
      "text/plain": [
       "count    985.000000\n",
       "mean      49.363452\n",
       "std       47.804457\n",
       "min        0.000000\n",
       "25%        6.000000\n",
       "50%       38.000000\n",
       "75%       79.000000\n",
       "max      224.000000\n",
       "Name: messages_count, dtype: float64"
      ]
     },
     "metadata": {},
     "output_type": "display_data"
    }
   ],
   "source": [
    "ultra_messages_stat = data_ultra['messages_count'].describe()\n",
    "display(ultra_messages_stat)"
   ]
  },
  {
   "cell_type": "markdown",
   "metadata": {},
   "source": [
    "Расчёт дисперсии"
   ]
  },
  {
   "cell_type": "code",
   "execution_count": 76,
   "metadata": {},
   "outputs": [
    {
     "data": {
      "text/plain": [
       "2285.266142544674"
      ]
     },
     "execution_count": 76,
     "metadata": {},
     "output_type": "execute_result"
    }
   ],
   "source": [
    "ultra_messages_stat['std'] ** 2"
   ]
  },
  {
   "cell_type": "markdown",
   "metadata": {},
   "source": [
    "Пользователи тарифа \"Ультра\" отправляют в среднем 50 сообщений, стандартное отклонение равно 48, дисперсия 2302. Среднее количество сообщений в 20 раз меньше включенных в тариф 1000."
   ]
  },
  {
   "cell_type": "markdown",
   "metadata": {},
   "source": [
    "#### mb_used"
   ]
  },
  {
   "cell_type": "markdown",
   "metadata": {},
   "source": [
    "Построение распределения используемого трафика в месяц абонентами тарифа ultra."
   ]
  },
  {
   "cell_type": "code",
   "execution_count": 77,
   "metadata": {
    "scrolled": true
   },
   "outputs": [
    {
     "data": {
      "image/png": "[encoded data removed]",
      "text/plain": [
       "<Figure size 640x480 with 1 Axes>"
      ]
     },
     "metadata": {},
     "output_type": "display_data"
    }
   ],
   "source": [
    "data_ultra['mb_used'].hist(bins=50)\n",
    "plt.title('Распределение используемого трафика в месяц абонентами тарифа ultra')\n",
    "plt.xlabel('Трафик, Гб')\n",
    "plt.ylabel('Количество абонентов, шт');"
   ]
  },
  {
   "cell_type": "markdown",
   "metadata": {},
   "source": [
    "Получение статистических характеристик используемого трафика."
   ]
  },
  {
   "cell_type": "code",
   "execution_count": 78,
   "metadata": {
    "scrolled": false
   },
   "outputs": [
    {
     "data": {
      "text/plain": [
       "count    985.000000\n",
       "mean      19.494416\n",
       "std        9.853511\n",
       "min        0.000000\n",
       "25%       12.000000\n",
       "50%       19.000000\n",
       "75%       27.000000\n",
       "max       49.000000\n",
       "Name: mb_used, dtype: float64"
      ]
     },
     "metadata": {},
     "output_type": "display_data"
    }
   ],
   "source": [
    "ultra_internet_stat = data_ultra['mb_used'].describe()\n",
    "display(ultra_internet_stat)"
   ]
  },
  {
   "cell_type": "markdown",
   "metadata": {},
   "source": [
    "Расчёт дисперсии."
   ]
  },
  {
   "cell_type": "code",
   "execution_count": 79,
   "metadata": {},
   "outputs": [
    {
     "data": {
      "text/plain": [
       "97.09168626965457"
      ]
     },
     "execution_count": 79,
     "metadata": {},
     "output_type": "execute_result"
    }
   ],
   "source": [
    "ultra_internet_stat['std'] ** 2"
   ]
  },
  {
   "cell_type": "markdown",
   "metadata": {},
   "source": [
    "Пользователи тарифа \"Ультра\" в среднем потребляют 20 Гб интернета в месяц, стандартное отклонение составляет 10, дисперсия 99. Среднее потребление интернета на 10 Гб меньше включенного в тариф ультра трафика. "
   ]
  },
  {
   "cell_type": "markdown",
   "metadata": {},
   "source": [
    "#### Выручка"
   ]
  },
  {
   "cell_type": "markdown",
   "metadata": {},
   "source": [
    "Построение гистограммы по выручке."
   ]
  },
  {
   "cell_type": "code",
   "execution_count": 80,
   "metadata": {
    "scrolled": true
   },
   "outputs": [
    {
     "data": {
      "image/png": "[encoded data removed]",
      "text/plain": [
       "<Figure size 640x480 with 1 Axes>"
      ]
     },
     "metadata": {},
     "output_type": "display_data"
    }
   ],
   "source": [
    "data_ultra.plot(\n",
    "                kind ='hist',\n",
    "                y = 'monthly_revenue',\n",
    "                bins = 20    \n",
    ")\n",
    "plt.title('Распределение выручки абонентов тарифа ultra')\n",
    "plt.xlabel('Выручка, руб')\n",
    "plt.ylabel('Количество абонентов, чел');"
   ]
  },
  {
   "cell_type": "markdown",
   "metadata": {},
   "source": [
    "Статистические характеристики выручки"
   ]
  },
  {
   "cell_type": "code",
   "execution_count": 81,
   "metadata": {},
   "outputs": [
    {
     "data": {
      "text/plain": [
       "count     985.000000\n",
       "mean     2070.152284\n",
       "std       376.187114\n",
       "min      1950.000000\n",
       "25%      1950.000000\n",
       "50%      1950.000000\n",
       "75%      1950.000000\n",
       "max      4800.000000\n",
       "Name: monthly_revenue, dtype: float64"
      ]
     },
     "metadata": {},
     "output_type": "display_data"
    }
   ],
   "source": [
    "ultra_monthly_revenue_stat = data_ultra['monthly_revenue'].describe()\n",
    "display(ultra_monthly_revenue_stat)"
   ]
  },
  {
   "cell_type": "code",
   "execution_count": 82,
   "metadata": {},
   "outputs": [
    {
     "data": {
      "text/plain": [
       "141516.7450786183"
      ]
     },
     "execution_count": 82,
     "metadata": {},
     "output_type": "execute_result"
    }
   ],
   "source": [
    "ultra_monthly_revenue_stat['std'] ** 2"
   ]
  },
  {
   "cell_type": "markdown",
   "metadata": {},
   "source": [
    "Отношение средней выручки с клиентка к оплате за тариф ультра"
   ]
  },
  {
   "cell_type": "code",
   "execution_count": 83,
   "metadata": {},
   "outputs": [
    {
     "data": {
      "text/plain": [
       "1.0616165560327997"
      ]
     },
     "execution_count": 83,
     "metadata": {},
     "output_type": "execute_result"
    }
   ],
   "source": [
    "ultra_monthly_revenue_stat['mean'] / tariffs.loc[1, 'rub_monthly_fee']"
   ]
  },
  {
   "cell_type": "markdown",
   "metadata": {},
   "source": [
    "Среднее значение выручки с одного клиента равно 2091 рубль, что на 7% больше оплаты за тариф 1950 рублей."
   ]
  },
  {
   "cell_type": "markdown",
   "metadata": {},
   "source": [
    "### Aнализ данных пользователей тарифа smart"
   ]
  },
  {
   "cell_type": "markdown",
   "metadata": {},
   "source": [
    "Создание датафрейма пользователей тарифа smart"
   ]
  },
  {
   "cell_type": "code",
   "execution_count": 84,
   "metadata": {},
   "outputs": [],
   "source": [
    "data_smart = data.query('tariff_name == \"smart\"')"
   ]
  },
  {
   "cell_type": "markdown",
   "metadata": {},
   "source": [
    "#### calls"
   ]
  },
  {
   "cell_type": "markdown",
   "metadata": {},
   "source": [
    "Построим распределение потраченных минут в месяц абонентами тарифа smart."
   ]
  },
  {
   "cell_type": "code",
   "execution_count": 85,
   "metadata": {
    "scrolled": true
   },
   "outputs": [
    {
     "data": {
      "image/png": "[encoded data removed]",
      "text/plain": [
       "<Figure size 640x480 with 1 Axes>"
      ]
     },
     "metadata": {},
     "output_type": "display_data"
    }
   ],
   "source": [
    "data_smart['calls_duration'].hist(bins=50)\n",
    "plt.title('Распределение потраченных минут в месяц абонентами тарифа smart')\n",
    "plt.xlabel('Количество минут в месяц')\n",
    "plt.ylabel('Количество абонентов, шт');"
   ]
  },
  {
   "cell_type": "markdown",
   "metadata": {},
   "source": [
    "Расчёт статистических характеристик длительности звонков."
   ]
  },
  {
   "cell_type": "code",
   "execution_count": 86,
   "metadata": {
    "scrolled": true
   },
   "outputs": [
    {
     "data": {
      "text/plain": [
       "count    2229.000000\n",
       "mean      417.934948\n",
       "std       190.313730\n",
       "min         0.000000\n",
       "25%       282.000000\n",
       "50%       422.000000\n",
       "75%       545.000000\n",
       "max      1435.000000\n",
       "Name: calls_duration, dtype: float64"
      ]
     },
     "execution_count": 86,
     "metadata": {},
     "output_type": "execute_result"
    }
   ],
   "source": [
    "data_smart['calls_duration'].describe()"
   ]
  },
  {
   "cell_type": "markdown",
   "metadata": {},
   "source": [
    "Расчёт дисперсии"
   ]
  },
  {
   "cell_type": "code",
   "execution_count": 87,
   "metadata": {},
   "outputs": [
    {
     "data": {
      "text/plain": [
       "36219.31578434428"
      ]
     },
     "execution_count": 87,
     "metadata": {},
     "output_type": "execute_result"
    }
   ],
   "source": [
    "data_smart['calls_duration'].describe()['std'] ** 2"
   ]
  },
  {
   "cell_type": "markdown",
   "metadata": {},
   "source": [
    "Среднее значение длительности звонков в месяц равно 418 минут, что немного меньше включенных в тариф 500 минут по тарифу смарт. Стандартное отклонение при этом равно 119, а дисперсия 36175."
   ]
  },
  {
   "cell_type": "markdown",
   "metadata": {},
   "source": [
    "#### messages"
   ]
  },
  {
   "cell_type": "markdown",
   "metadata": {},
   "source": [
    "Построим распределение количества сообщений в месяц абонентами тарифа smart."
   ]
  },
  {
   "cell_type": "code",
   "execution_count": 88,
   "metadata": {},
   "outputs": [
    {
     "data": {
      "image/png": "[encoded data removed]",
      "text/plain": [
       "<Figure size 640x480 with 1 Axes>"
      ]
     },
     "metadata": {},
     "output_type": "display_data"
    }
   ],
   "source": [
    "data_smart['messages_count'].hist(bins=50)\n",
    "plt.title('Распределение количества сообщений в месяц абонентами тарифа smart')\n",
    "plt.xlabel('Количество сообщений в месяц')\n",
    "plt.ylabel('Количество абонентов');"
   ]
  },
  {
   "cell_type": "markdown",
   "metadata": {},
   "source": [
    "Расчёт статистических характеристик количества сообщений."
   ]
  },
  {
   "cell_type": "code",
   "execution_count": 89,
   "metadata": {
    "scrolled": false
   },
   "outputs": [
    {
     "data": {
      "text/plain": [
       "count    2229.000000\n",
       "mean       33.384029\n",
       "std        28.227876\n",
       "min         0.000000\n",
       "25%        10.000000\n",
       "50%        28.000000\n",
       "75%        51.000000\n",
       "max       143.000000\n",
       "Name: messages_count, dtype: float64"
      ]
     },
     "execution_count": 89,
     "metadata": {},
     "output_type": "execute_result"
    }
   ],
   "source": [
    "data_smart['messages_count'].describe()"
   ]
  },
  {
   "cell_type": "markdown",
   "metadata": {},
   "source": [
    "Расчёт дисперсии."
   ]
  },
  {
   "cell_type": "code",
   "execution_count": 90,
   "metadata": {},
   "outputs": [
    {
     "data": {
      "text/plain": [
       "796.8129584480083"
      ]
     },
     "execution_count": 90,
     "metadata": {},
     "output_type": "execute_result"
    }
   ],
   "source": [
    "data_smart['messages_count'].describe()['std'] ** 2"
   ]
  },
  {
   "cell_type": "markdown",
   "metadata": {},
   "source": [
    "Среднее количество сообщений 33, что немного меньше, чем количество сообщений включенных в тариф 50. Стандартное отклонение равно 28, дисперсия равна 797."
   ]
  },
  {
   "cell_type": "markdown",
   "metadata": {},
   "source": [
    "#### mb_used"
   ]
  },
  {
   "cell_type": "markdown",
   "metadata": {},
   "source": [
    "Построим распределение потраченного трафика в месяц абонентами тарифа smart."
   ]
  },
  {
   "cell_type": "code",
   "execution_count": 91,
   "metadata": {
    "scrolled": true
   },
   "outputs": [
    {
     "data": {
      "image/png": "[encoded data removed]",
      "text/plain": [
       "<Figure size 640x480 with 1 Axes>"
      ]
     },
     "metadata": {},
     "output_type": "display_data"
    }
   ],
   "source": [
    "data_smart['mb_used'].hist(bins=38)\n",
    "plt.title('Распределение потраченного трафика в месяц абонентами тарифа smart')\n",
    "plt.xlabel('Трафик, Гб в месяц')\n",
    "plt.ylabel('Количество абонентов');"
   ]
  },
  {
   "cell_type": "markdown",
   "metadata": {},
   "source": [
    "Расчёт статистических характеристик потраченного трафика."
   ]
  },
  {
   "cell_type": "code",
   "execution_count": 92,
   "metadata": {
    "scrolled": true
   },
   "outputs": [
    {
     "data": {
      "text/plain": [
       "count    2229.000000\n",
       "mean       16.328847\n",
       "std         5.747061\n",
       "min         0.000000\n",
       "25%        13.000000\n",
       "50%        17.000000\n",
       "75%        20.000000\n",
       "max        38.000000\n",
       "Name: mb_used, dtype: float64"
      ]
     },
     "execution_count": 92,
     "metadata": {},
     "output_type": "execute_result"
    }
   ],
   "source": [
    "data_smart['mb_used'].describe()"
   ]
  },
  {
   "cell_type": "markdown",
   "metadata": {},
   "source": [
    "Расчёт дисперсии"
   ]
  },
  {
   "cell_type": "code",
   "execution_count": 93,
   "metadata": {},
   "outputs": [
    {
     "data": {
      "text/plain": [
       "33.02870517811161"
      ]
     },
     "execution_count": 93,
     "metadata": {},
     "output_type": "execute_result"
    }
   ],
   "source": [
    "data_smart['mb_used'].describe()['std'] ** 2"
   ]
  },
  {
   "cell_type": "markdown",
   "metadata": {},
   "source": [
    "Среднее значение потраченного трафика равно 17 Гб, что на 2 Гб превышает включенный в тариф смарт трафик 15 Гб. Стандартное отклонение равно 6, дисперсия равно 34."
   ]
  },
  {
   "cell_type": "markdown",
   "metadata": {},
   "source": [
    "#### Выручка"
   ]
  },
  {
   "cell_type": "markdown",
   "metadata": {},
   "source": [
    "Построение распределения выручки абонентов тарифа smart."
   ]
  },
  {
   "cell_type": "code",
   "execution_count": 94,
   "metadata": {
    "scrolled": true
   },
   "outputs": [
    {
     "data": {
      "image/png": "[encoded data removed]",
      "text/plain": [
       "<Figure size 640x480 with 1 Axes>"
      ]
     },
     "metadata": {},
     "output_type": "display_data"
    }
   ],
   "source": [
    "data_smart['monthly_revenue'].hist(bins=30)\n",
    "plt.title('Распределение выручки абонентов тарифа smart')\n",
    "plt.xlabel('Выручка, руб')\n",
    "plt.ylabel('Колиечество абонентов');"
   ]
  },
  {
   "cell_type": "markdown",
   "metadata": {},
   "source": [
    "Расчёт статистических характеристик"
   ]
  },
  {
   "cell_type": "code",
   "execution_count": 95,
   "metadata": {
    "scrolled": true
   },
   "outputs": [
    {
     "data": {
      "text/plain": [
       "count    2229.000000\n",
       "mean     1289.973531\n",
       "std       818.404367\n",
       "min       550.000000\n",
       "25%       550.000000\n",
       "50%      1023.000000\n",
       "75%      1750.000000\n",
       "max      6770.000000\n",
       "Name: monthly_revenue, dtype: float64"
      ]
     },
     "metadata": {},
     "output_type": "display_data"
    }
   ],
   "source": [
    "smart_monthly_revenue_stat = data_smart['monthly_revenue'].describe()\n",
    "display(smart_monthly_revenue_stat)"
   ]
  },
  {
   "cell_type": "markdown",
   "metadata": {},
   "source": [
    "Расчёт стандартного отклонения"
   ]
  },
  {
   "cell_type": "code",
   "execution_count": 96,
   "metadata": {},
   "outputs": [
    {
     "data": {
      "text/plain": [
       "669785.7080064242"
      ]
     },
     "execution_count": 96,
     "metadata": {},
     "output_type": "execute_result"
    }
   ],
   "source": [
    "smart_monthly_revenue_stat['std'] ** 2"
   ]
  },
  {
   "cell_type": "code",
   "execution_count": 97,
   "metadata": {},
   "outputs": [
    {
     "data": {
      "text/plain": [
       "2.3454064195113995"
      ]
     },
     "execution_count": 97,
     "metadata": {},
     "output_type": "execute_result"
    }
   ],
   "source": [
    "smart_monthly_revenue_stat['mean'] / 550"
   ]
  },
  {
   "cell_type": "markdown",
   "metadata": {},
   "source": [
    "Среднее значение выручки с абонента составляет 1346 р, что в 2,4 раза превышает абонентскую плату 550 рублей."
   ]
  },
  {
   "cell_type": "markdown",
   "metadata": {},
   "source": [
    "### Отношение средней выручки с абонентов тарифов смарт и ультра"
   ]
  },
  {
   "cell_type": "code",
   "execution_count": 98,
   "metadata": {},
   "outputs": [
    {
     "name": "stdout",
     "output_type": "stream",
     "text": [
      "Средняя выручка с абонента тарифа ультра в 1.6 больше, чем средняя выручка с абонента тарифа смарт\n"
     ]
    }
   ],
   "source": [
    "u_s_ratio = round(ultra_monthly_revenue_stat['mean'] / smart_monthly_revenue_stat['mean'], 2)\n",
    "print('Средняя выручка с абонента тарифа ультра в', \n",
    "      u_s_ratio, \n",
    "      'больше, чем средняя выручка с абонента тарифа смарт')"
   ]
  },
  {
   "cell_type": "markdown",
   "metadata": {},
   "source": [
    "### Проверка гипотезы, что средняя выручка пользователей тарифов \"Ультра\" и \"Смарт\" различаются"
   ]
  },
  {
   "cell_type": "markdown",
   "metadata": {},
   "source": [
    "Сформулируем нулевую гипотезу, средняя выручка тарифов \"Ультра\" и \"Смарт\" равны. Альтернативная гипотеза, что средняя выручка этих тарифов различна. Так как мы сравниваем средние 2-х выборок, то будем пользоваться методом ttest_ind. Пороговое значение alpha возьмём 0,05. Проведём t-тест для этих двух выборок"
   ]
  },
  {
   "cell_type": "code",
   "execution_count": 99,
   "metadata": {
    "scrolled": true
   },
   "outputs": [
    {
     "data": {
      "text/plain": [
       "Ttest_indResult(statistic=28.611056741704818, pvalue=1.4229814360764067e-160)"
      ]
     },
     "execution_count": 99,
     "metadata": {},
     "output_type": "execute_result"
    }
   ],
   "source": [
    "ultra = data_ultra['monthly_revenue'].values\n",
    "smart = data_smart['monthly_revenue'].values\n",
    "st.ttest_ind(ultra, smart)"
   ]
  },
  {
   "cell_type": "markdown",
   "metadata": {},
   "source": [
    "Pvalue меньше порогового значения alpha, значит нулевую гипотезу отвергаем, и принимаем альтернативну гипотезу, что средняя выручка этих тарифов различна."
   ]
  },
  {
   "cell_type": "markdown",
   "metadata": {},
   "source": [
    "### Проверка гипотезы, что средняя выручка абонентов в Москве отличается от абонентов в других городах"
   ]
  },
  {
   "cell_type": "markdown",
   "metadata": {},
   "source": [
    "Сформулируем нулевую гипотезу, средняя выручка абонентов в Москве равна средней выручке абонентов в других городах. Альтернативная гипотеза, средняя выручка абонентов в Москве не равна средней выручке абонентов в других городах. Так как мы сравниваем средние 2-х выборок, то будем пользоваться методом ttest_ind. Пороговое значение alpha возьмём 0,05."
   ]
  },
  {
   "cell_type": "code",
   "execution_count": 100,
   "metadata": {
    "scrolled": true
   },
   "outputs": [
    {
     "data": {
      "text/plain": [
       "Ttest_indResult(statistic=0.606816942705698, pvalue=0.5440152911670223)"
      ]
     },
     "execution_count": 100,
     "metadata": {},
     "output_type": "execute_result"
    }
   ],
   "source": [
    "moscow = data.query('city_cat == \"Москва\"')['monthly_revenue'].values\n",
    "another = data.query('city_cat == \"Другой\"')['monthly_revenue'].values\n",
    "st.ttest_ind(moscow, another)"
   ]
  },
  {
   "cell_type": "markdown",
   "metadata": {},
   "source": [
    "Pvalue получилось больше значения alpha, таким образом, отвергается альтернативаня гипотеза, и тогда, подтверждается нулевая гипотеза. Средняя выручка абонентов в Москве равна средней выручке абонентов в других городах."
   ]
  },
  {
   "cell_type": "markdown",
   "metadata": {},
   "source": [
    "### Валовый доход от тарифов ультра и смарт"
   ]
  },
  {
   "cell_type": "code",
   "execution_count": 101,
   "metadata": {},
   "outputs": [],
   "source": [
    "gross_income = (users_tariff_counts['smart'] * smart_monthly_revenue_stat['mean'] +\n",
    "                users_tariff_counts['ultra'] * ultra_monthly_revenue_stat['mean']\n",
    ")"
   ]
  },
  {
   "cell_type": "markdown",
   "metadata": {},
   "source": [
    "Доля валового дохода тарифа смарт"
   ]
  },
  {
   "cell_type": "code",
   "execution_count": 102,
   "metadata": {},
   "outputs": [
    {
     "name": "stdout",
     "output_type": "stream",
     "text": [
      "Доля валового дохода тарифа смарт составляет 59.5 %\n"
     ]
    }
   ],
   "source": [
    "smart_income_percent = round(100 * (users_tariff_counts['smart'] * smart_monthly_revenue_stat['mean'] / gross_income), 1)\n",
    "print('Доля валового дохода тарифа смарт составляет', smart_income_percent, '%')"
   ]
  },
  {
   "cell_type": "markdown",
   "metadata": {},
   "source": [
    "Доля валового дохода тарифа ультра."
   ]
  },
  {
   "cell_type": "code",
   "execution_count": 103,
   "metadata": {
    "scrolled": true
   },
   "outputs": [
    {
     "name": "stdout",
     "output_type": "stream",
     "text": [
      "Доля валового дохода тарифа ультра 40.5 %\n"
     ]
    }
   ],
   "source": [
    "ultra_income_percent = round(100 * (users_tariff_counts['ultra'] * ultra_monthly_revenue_stat['mean'] / gross_income), 1)\n",
    "print('Доля валового дохода тарифа ультра', ultra_income_percent, '%')"
   ]
  },
  {
   "cell_type": "markdown",
   "metadata": {},
   "source": [
    "## Выводы"
   ]
  },
  {
   "cell_type": "markdown",
   "metadata": {},
   "source": [
    "Проведение исследования абонентов тарифов \"Ультра\" и \"Смарт\" показало:"
   ]
  },
  {
   "cell_type": "markdown",
   "metadata": {},
   "source": [
    "1) Количество абонентов тарифа смарт составляет 70.2 %. Средняя выручка с одного абонента составляет 1346 рублей, что  в 2,4 раза превышает абонентскую плату (550 руб). Валовый доход составляет 60.3 %."
   ]
  },
  {
   "cell_type": "markdown",
   "metadata": {},
   "source": [
    "2) Количество абонентов тарифа ультра составляет 29.8 %. Средняя выручка с одного абонента составляет 2091 рубль, что на 7 % больше оплаты за тариф (1950 руб). Валовый доход составляет 39.7 %. "
   ]
  },
  {
   "cell_type": "markdown",
   "metadata": {},
   "source": [
    "3) Была подтверждена гипотеза, что средняя выручка с пользователя тарифа ультра статистически значимо превышает среднюю выручку с абонента тарифа смарт. Таким образом компании стоит увеличить рекламный бюджет на тариф ультра, так как он приносит большую среднюю выручку с абонента."
   ]
  },
  {
   "cell_type": "markdown",
   "metadata": {},
   "source": [
    "4) Была статистически опровергнута гипотеза, что средняя выручка с абонента в Москве превышает среднюю выручку с абонента в других городах."
   ]
  },
  {
   "cell_type": "markdown",
   "metadata": {},
   "source": [
    "5) Средняя выручка с клиента тарифа ультра в 1,6 раза больше средней выручки с клиента тарифа смарт. Поэтому для компании более перспективным является тариф \"Ультра\". "
   ]
  }
 ],
 "metadata": {
  "ExecuteTimeLog": [
   {
    "duration": 1141,
    "start_time": "2022-04-15T14:50:47.829Z"
   },
   {
    "duration": 92,
    "start_time": "2022-04-15T14:50:48.972Z"
   },
   {
    "duration": 68,
    "start_time": "2022-04-15T14:50:49.065Z"
   },
   {
    "duration": 10,
    "start_time": "2022-04-15T14:50:49.136Z"
   },
   {
    "duration": 149,
    "start_time": "2022-04-15T14:50:49.148Z"
   },
   {
    "duration": 196,
    "start_time": "2022-04-15T14:50:49.299Z"
   },
   {
    "duration": 173,
    "start_time": "2022-04-15T14:50:49.497Z"
   },
   {
    "duration": 10,
    "start_time": "2022-04-15T14:50:49.672Z"
   },
   {
    "duration": 8,
    "start_time": "2022-04-15T14:50:49.684Z"
   },
   {
    "duration": 6,
    "start_time": "2022-04-15T14:50:49.694Z"
   },
   {
    "duration": 12,
    "start_time": "2022-04-15T14:50:49.701Z"
   },
   {
    "duration": 6,
    "start_time": "2022-04-15T14:50:49.715Z"
   },
   {
    "duration": 6,
    "start_time": "2022-04-15T14:50:49.747Z"
   },
   {
    "duration": 20,
    "start_time": "2022-04-15T14:50:49.754Z"
   },
   {
    "duration": 48,
    "start_time": "2022-04-15T14:50:49.776Z"
   },
   {
    "duration": 30,
    "start_time": "2022-04-15T14:50:49.825Z"
   },
   {
    "duration": 6,
    "start_time": "2022-04-15T14:50:49.856Z"
   },
   {
    "duration": 23,
    "start_time": "2022-04-15T14:50:49.863Z"
   },
   {
    "duration": 120,
    "start_time": "2022-04-15T14:50:49.888Z"
   },
   {
    "duration": 19,
    "start_time": "2022-04-15T14:50:50.010Z"
   },
   {
    "duration": 19,
    "start_time": "2022-04-15T14:50:50.031Z"
   },
   {
    "duration": 21,
    "start_time": "2022-04-15T14:50:50.052Z"
   },
   {
    "duration": 88,
    "start_time": "2022-04-15T14:50:50.074Z"
   },
   {
    "duration": 15,
    "start_time": "2022-04-15T14:50:50.164Z"
   },
   {
    "duration": 6,
    "start_time": "2022-04-15T14:50:50.181Z"
   },
   {
    "duration": 34,
    "start_time": "2022-04-15T14:50:50.189Z"
   },
   {
    "duration": 59,
    "start_time": "2022-04-15T14:50:50.225Z"
   },
   {
    "duration": 9,
    "start_time": "2022-04-15T14:50:50.288Z"
   },
   {
    "duration": 281,
    "start_time": "2022-04-15T14:50:50.298Z"
   },
   {
    "duration": 68,
    "start_time": "2022-04-15T14:50:50.581Z"
   },
   {
    "duration": 115,
    "start_time": "2022-04-15T14:50:50.650Z"
   },
   {
    "duration": 5,
    "start_time": "2022-04-15T14:50:50.766Z"
   },
   {
    "duration": 6,
    "start_time": "2022-04-15T14:50:50.772Z"
   },
   {
    "duration": 9,
    "start_time": "2022-04-15T14:50:50.779Z"
   },
   {
    "duration": 59,
    "start_time": "2022-04-15T14:50:50.789Z"
   },
   {
    "duration": 38,
    "start_time": "2022-04-15T14:50:50.850Z"
   },
   {
    "duration": 85,
    "start_time": "2022-04-15T14:50:50.889Z"
   },
   {
    "duration": 6,
    "start_time": "2022-04-15T14:50:50.976Z"
   },
   {
    "duration": 6,
    "start_time": "2022-04-15T14:50:50.983Z"
   },
   {
    "duration": 277,
    "start_time": "2022-04-15T14:50:50.990Z"
   },
   {
    "duration": 88,
    "start_time": "2022-04-15T14:50:51.269Z"
   },
   {
    "duration": 26,
    "start_time": "2022-04-15T14:50:51.359Z"
   },
   {
    "duration": 4,
    "start_time": "2022-04-15T14:50:51.386Z"
   },
   {
    "duration": 283,
    "start_time": "2022-04-15T14:50:51.391Z"
   },
   {
    "duration": 83,
    "start_time": "2022-04-15T14:50:51.676Z"
   },
   {
    "duration": 4,
    "start_time": "2022-04-15T14:50:51.761Z"
   },
   {
    "duration": 7,
    "start_time": "2022-04-15T14:50:51.766Z"
   },
   {
    "duration": 7,
    "start_time": "2022-04-15T14:50:51.775Z"
   },
   {
    "duration": 65,
    "start_time": "2022-04-15T14:50:51.784Z"
   },
   {
    "duration": 18,
    "start_time": "2022-04-15T14:50:51.851Z"
   },
   {
    "duration": 11,
    "start_time": "2022-04-15T14:50:51.870Z"
   },
   {
    "duration": 74,
    "start_time": "2022-04-15T14:50:51.882Z"
   },
   {
    "duration": 12,
    "start_time": "2022-04-15T14:50:51.958Z"
   },
   {
    "duration": 3,
    "start_time": "2022-04-15T14:50:51.972Z"
   },
   {
    "duration": 4,
    "start_time": "2022-04-15T14:50:51.977Z"
   },
   {
    "duration": 4,
    "start_time": "2022-04-15T14:50:51.983Z"
   },
   {
    "duration": 90,
    "start_time": "2022-04-15T14:50:51.989Z"
   },
   {
    "duration": 3,
    "start_time": "2022-04-15T14:50:52.080Z"
   },
   {
    "duration": 36,
    "start_time": "2022-04-15T14:50:52.085Z"
   },
   {
    "duration": 4,
    "start_time": "2022-04-15T14:50:52.122Z"
   },
   {
    "duration": 35,
    "start_time": "2022-04-15T14:50:52.148Z"
   },
   {
    "duration": 5,
    "start_time": "2022-04-15T14:50:52.185Z"
   },
   {
    "duration": 12,
    "start_time": "2022-04-15T14:50:52.192Z"
   },
   {
    "duration": 149,
    "start_time": "2022-04-15T14:50:52.206Z"
   },
   {
    "duration": 3,
    "start_time": "2022-04-15T14:50:52.357Z"
   },
   {
    "duration": 18,
    "start_time": "2022-04-15T14:50:52.361Z"
   },
   {
    "duration": 12,
    "start_time": "2022-04-15T14:50:52.381Z"
   },
   {
    "duration": 6,
    "start_time": "2022-04-15T14:50:52.395Z"
   },
   {
    "duration": 14,
    "start_time": "2022-04-15T14:50:52.403Z"
   },
   {
    "duration": 87,
    "start_time": "2022-04-15T14:50:52.418Z"
   },
   {
    "duration": 142,
    "start_time": "2022-04-15T14:50:52.507Z"
   },
   {
    "duration": 8,
    "start_time": "2022-04-15T14:50:52.651Z"
   },
   {
    "duration": 4,
    "start_time": "2022-04-15T14:50:52.661Z"
   },
   {
    "duration": 129,
    "start_time": "2022-04-15T14:50:52.667Z"
   },
   {
    "duration": 8,
    "start_time": "2022-04-15T14:50:52.798Z"
   },
   {
    "duration": 9,
    "start_time": "2022-04-15T14:50:52.808Z"
   },
   {
    "duration": 157,
    "start_time": "2022-04-15T14:50:52.819Z"
   },
   {
    "duration": 7,
    "start_time": "2022-04-15T14:50:52.977Z"
   },
   {
    "duration": 10,
    "start_time": "2022-04-15T14:50:52.986Z"
   },
   {
    "duration": 158,
    "start_time": "2022-04-15T14:50:52.997Z"
   },
   {
    "duration": 7,
    "start_time": "2022-04-15T14:50:53.157Z"
   },
   {
    "duration": 4,
    "start_time": "2022-04-15T14:50:53.169Z"
   },
   {
    "duration": 5,
    "start_time": "2022-04-15T14:50:53.174Z"
   },
   {
    "duration": 5,
    "start_time": "2022-04-15T14:50:53.181Z"
   },
   {
    "duration": 192,
    "start_time": "2022-04-15T14:50:53.187Z"
   },
   {
    "duration": 9,
    "start_time": "2022-04-15T14:50:53.381Z"
   },
   {
    "duration": 10,
    "start_time": "2022-04-15T14:50:53.391Z"
   },
   {
    "duration": 194,
    "start_time": "2022-04-15T14:50:53.403Z"
   },
   {
    "duration": 7,
    "start_time": "2022-04-15T14:50:53.599Z"
   },
   {
    "duration": 8,
    "start_time": "2022-04-15T14:50:53.608Z"
   },
   {
    "duration": 176,
    "start_time": "2022-04-15T14:50:53.617Z"
   },
   {
    "duration": 8,
    "start_time": "2022-04-15T14:50:53.795Z"
   },
   {
    "duration": 13,
    "start_time": "2022-04-15T14:50:53.804Z"
   },
   {
    "duration": 164,
    "start_time": "2022-04-15T14:50:53.819Z"
   },
   {
    "duration": 7,
    "start_time": "2022-04-15T14:50:53.985Z"
   },
   {
    "duration": 8,
    "start_time": "2022-04-15T14:50:53.994Z"
   },
   {
    "duration": 6,
    "start_time": "2022-04-15T14:50:54.004Z"
   },
   {
    "duration": 7,
    "start_time": "2022-04-15T14:50:54.011Z"
   },
   {
    "duration": 33,
    "start_time": "2022-04-15T14:50:54.020Z"
   },
   {
    "duration": 4,
    "start_time": "2022-04-15T14:50:54.055Z"
   },
   {
    "duration": 7,
    "start_time": "2022-04-15T14:50:54.061Z"
   },
   {
    "duration": 7,
    "start_time": "2022-04-15T14:50:54.069Z"
   },
   {
    "duration": 2003,
    "start_time": "2022-04-15T15:13:07.791Z"
   },
   {
    "duration": 50,
    "start_time": "2022-04-15T15:13:25.208Z"
   },
   {
    "duration": 14,
    "start_time": "2022-04-15T15:13:56.060Z"
   },
   {
    "duration": 19,
    "start_time": "2022-04-15T15:14:04.605Z"
   },
   {
    "duration": 8,
    "start_time": "2022-04-15T15:14:20.733Z"
   },
   {
    "duration": 11,
    "start_time": "2022-04-15T15:14:51.201Z"
   },
   {
    "duration": 12,
    "start_time": "2022-04-15T15:21:44.359Z"
   },
   {
    "duration": 311,
    "start_time": "2022-04-15T15:35:04.343Z"
   },
   {
    "duration": 170,
    "start_time": "2022-04-15T15:36:10.798Z"
   },
   {
    "duration": 158,
    "start_time": "2022-04-15T15:39:07.342Z"
   },
   {
    "duration": 160,
    "start_time": "2022-04-15T15:39:16.647Z"
   },
   {
    "duration": 224,
    "start_time": "2022-04-15T15:40:20.278Z"
   },
   {
    "duration": 211,
    "start_time": "2022-04-15T15:41:15.951Z"
   },
   {
    "duration": 227,
    "start_time": "2022-04-15T15:41:39.440Z"
   },
   {
    "duration": 138,
    "start_time": "2022-04-15T15:46:46.139Z"
   },
   {
    "duration": 1597,
    "start_time": "2022-04-15T15:47:00.292Z"
   },
   {
    "duration": 396,
    "start_time": "2022-04-15T15:47:01.891Z"
   },
   {
    "duration": 96,
    "start_time": "2022-04-15T15:47:02.289Z"
   },
   {
    "duration": 9,
    "start_time": "2022-04-15T15:47:02.387Z"
   },
   {
    "duration": 151,
    "start_time": "2022-04-15T15:47:02.398Z"
   },
   {
    "duration": 228,
    "start_time": "2022-04-15T15:47:02.551Z"
   },
   {
    "duration": 239,
    "start_time": "2022-04-15T15:47:02.780Z"
   },
   {
    "duration": 15,
    "start_time": "2022-04-15T15:47:03.021Z"
   },
   {
    "duration": 13,
    "start_time": "2022-04-15T15:47:03.038Z"
   },
   {
    "duration": 7,
    "start_time": "2022-04-15T15:47:03.055Z"
   },
   {
    "duration": 14,
    "start_time": "2022-04-15T15:47:03.064Z"
   },
   {
    "duration": 8,
    "start_time": "2022-04-15T15:47:03.080Z"
   },
   {
    "duration": 7,
    "start_time": "2022-04-15T15:47:03.090Z"
   },
   {
    "duration": 58,
    "start_time": "2022-04-15T15:47:03.098Z"
   },
   {
    "duration": 46,
    "start_time": "2022-04-15T15:47:03.157Z"
   },
   {
    "duration": 13,
    "start_time": "2022-04-15T15:47:03.205Z"
   },
   {
    "duration": 6,
    "start_time": "2022-04-15T15:47:03.220Z"
   },
   {
    "duration": 23,
    "start_time": "2022-04-15T15:47:03.248Z"
   },
   {
    "duration": 120,
    "start_time": "2022-04-15T15:47:03.272Z"
   },
   {
    "duration": 21,
    "start_time": "2022-04-15T15:47:03.394Z"
   },
   {
    "duration": 7,
    "start_time": "2022-04-15T15:47:03.417Z"
   },
   {
    "duration": 41,
    "start_time": "2022-04-15T15:47:03.426Z"
   },
   {
    "duration": 84,
    "start_time": "2022-04-15T15:47:03.469Z"
   },
   {
    "duration": 17,
    "start_time": "2022-04-15T15:47:03.555Z"
   },
   {
    "duration": 6,
    "start_time": "2022-04-15T15:47:03.574Z"
   },
   {
    "duration": 35,
    "start_time": "2022-04-15T15:47:03.581Z"
   },
   {
    "duration": 63,
    "start_time": "2022-04-15T15:47:03.617Z"
   },
   {
    "duration": 9,
    "start_time": "2022-04-15T15:47:03.684Z"
   },
   {
    "duration": 243,
    "start_time": "2022-04-15T15:47:03.695Z"
   },
   {
    "duration": 17,
    "start_time": "2022-04-15T15:47:03.940Z"
   },
   {
    "duration": 62,
    "start_time": "2022-04-15T15:47:03.958Z"
   },
   {
    "duration": 4,
    "start_time": "2022-04-15T15:47:04.021Z"
   },
   {
    "duration": 5,
    "start_time": "2022-04-15T15:47:04.048Z"
   },
   {
    "duration": 10,
    "start_time": "2022-04-15T15:47:04.054Z"
   },
   {
    "duration": 6,
    "start_time": "2022-04-15T15:47:04.066Z"
   },
   {
    "duration": 35,
    "start_time": "2022-04-15T15:47:04.073Z"
   },
   {
    "duration": 49,
    "start_time": "2022-04-15T15:47:04.110Z"
   },
   {
    "duration": 7,
    "start_time": "2022-04-15T15:47:04.160Z"
   },
   {
    "duration": 4,
    "start_time": "2022-04-15T15:47:04.169Z"
   },
   {
    "duration": 154,
    "start_time": "2022-04-15T15:47:04.175Z"
   },
   {
    "duration": 45,
    "start_time": "2022-04-15T15:47:04.331Z"
   },
   {
    "duration": 28,
    "start_time": "2022-04-15T15:47:04.378Z"
   },
   {
    "duration": 4,
    "start_time": "2022-04-15T15:47:04.408Z"
   },
   {
    "duration": 150,
    "start_time": "2022-04-15T15:47:04.413Z"
   },
   {
    "duration": 31,
    "start_time": "2022-04-15T15:47:04.564Z"
   },
   {
    "duration": 4,
    "start_time": "2022-04-15T15:47:04.597Z"
   },
   {
    "duration": 7,
    "start_time": "2022-04-15T15:47:04.602Z"
   },
   {
    "duration": 7,
    "start_time": "2022-04-15T15:47:04.610Z"
   },
   {
    "duration": 33,
    "start_time": "2022-04-15T15:47:04.619Z"
   },
   {
    "duration": 14,
    "start_time": "2022-04-15T15:47:04.654Z"
   },
   {
    "duration": 10,
    "start_time": "2022-04-15T15:47:04.669Z"
   },
   {
    "duration": 20,
    "start_time": "2022-04-15T15:47:04.681Z"
   },
   {
    "duration": 11,
    "start_time": "2022-04-15T15:47:04.703Z"
   },
   {
    "duration": 4,
    "start_time": "2022-04-15T15:47:04.748Z"
   },
   {
    "duration": 6,
    "start_time": "2022-04-15T15:47:04.753Z"
   },
   {
    "duration": 4,
    "start_time": "2022-04-15T15:47:04.761Z"
   },
   {
    "duration": 38,
    "start_time": "2022-04-15T15:47:04.767Z"
   },
   {
    "duration": 3,
    "start_time": "2022-04-15T15:47:04.806Z"
   },
   {
    "duration": 58,
    "start_time": "2022-04-15T15:47:04.811Z"
   },
   {
    "duration": 3,
    "start_time": "2022-04-15T15:47:04.871Z"
   },
   {
    "duration": 38,
    "start_time": "2022-04-15T15:47:04.875Z"
   },
   {
    "duration": 4,
    "start_time": "2022-04-15T15:47:04.915Z"
   },
   {
    "duration": 26,
    "start_time": "2022-04-15T15:47:04.921Z"
   },
   {
    "duration": 133,
    "start_time": "2022-04-15T15:47:04.949Z"
   },
   {
    "duration": 3,
    "start_time": "2022-04-15T15:47:05.083Z"
   },
   {
    "duration": 15,
    "start_time": "2022-04-15T15:47:05.087Z"
   },
   {
    "duration": 18,
    "start_time": "2022-04-15T15:47:05.103Z"
   },
   {
    "duration": 8,
    "start_time": "2022-04-15T15:47:05.123Z"
   },
   {
    "duration": 22,
    "start_time": "2022-04-15T15:47:05.132Z"
   },
   {
    "duration": 73,
    "start_time": "2022-04-15T15:47:05.155Z"
   },
   {
    "duration": 146,
    "start_time": "2022-04-15T15:47:05.230Z"
   },
   {
    "duration": 8,
    "start_time": "2022-04-15T15:47:05.377Z"
   },
   {
    "duration": 6,
    "start_time": "2022-04-15T15:47:05.387Z"
   },
   {
    "duration": 125,
    "start_time": "2022-04-15T15:47:05.394Z"
   },
   {
    "duration": 8,
    "start_time": "2022-04-15T15:47:05.520Z"
   },
   {
    "duration": 20,
    "start_time": "2022-04-15T15:47:05.529Z"
   },
   {
    "duration": 145,
    "start_time": "2022-04-15T15:47:05.551Z"
   },
   {
    "duration": 7,
    "start_time": "2022-04-15T15:47:05.698Z"
   },
   {
    "duration": 6,
    "start_time": "2022-04-15T15:47:05.706Z"
   },
   {
    "duration": 153,
    "start_time": "2022-04-15T15:47:05.713Z"
   },
   {
    "duration": 7,
    "start_time": "2022-04-15T15:47:05.868Z"
   },
   {
    "duration": 3,
    "start_time": "2022-04-15T15:47:05.880Z"
   },
   {
    "duration": 5,
    "start_time": "2022-04-15T15:47:05.884Z"
   },
   {
    "duration": 6,
    "start_time": "2022-04-15T15:47:05.891Z"
   },
   {
    "duration": 171,
    "start_time": "2022-04-15T15:47:05.899Z"
   },
   {
    "duration": 8,
    "start_time": "2022-04-15T15:47:06.071Z"
   },
   {
    "duration": 11,
    "start_time": "2022-04-15T15:47:06.080Z"
   },
   {
    "duration": 373,
    "start_time": "2022-04-15T15:47:06.093Z"
   },
   {
    "duration": 9,
    "start_time": "2022-04-15T15:47:06.468Z"
   },
   {
    "duration": 7,
    "start_time": "2022-04-15T15:47:06.479Z"
   },
   {
    "duration": 385,
    "start_time": "2022-04-15T15:47:06.488Z"
   },
   {
    "duration": 10,
    "start_time": "2022-04-15T15:47:06.875Z"
   },
   {
    "duration": 8,
    "start_time": "2022-04-15T15:47:06.887Z"
   },
   {
    "duration": 292,
    "start_time": "2022-04-15T15:47:06.897Z"
   },
   {
    "duration": 58,
    "start_time": "2022-04-15T15:47:07.191Z"
   },
   {
    "duration": 5,
    "start_time": "2022-04-15T15:47:07.250Z"
   },
   {
    "duration": 11,
    "start_time": "2022-04-15T15:47:07.257Z"
   },
   {
    "duration": 600,
    "start_time": "2022-04-15T15:47:07.270Z"
   },
   {
    "duration": 436,
    "start_time": "2022-04-15T15:47:07.871Z"
   },
   {
    "duration": 42,
    "start_time": "2022-04-15T15:47:08.309Z"
   },
   {
    "duration": 11,
    "start_time": "2022-04-15T15:47:08.352Z"
   },
   {
    "duration": 3,
    "start_time": "2022-04-15T15:47:08.364Z"
   },
   {
    "duration": 6,
    "start_time": "2022-04-15T15:47:08.368Z"
   },
   {
    "duration": 8,
    "start_time": "2022-04-15T15:47:08.375Z"
   },
   {
    "duration": 154,
    "start_time": "2022-04-15T18:25:02.652Z"
   },
   {
    "duration": 141,
    "start_time": "2022-04-15T18:34:03.359Z"
   },
   {
    "duration": 55,
    "start_time": "2022-04-15T18:39:00.934Z"
   },
   {
    "duration": 1388,
    "start_time": "2022-04-15T18:39:23.966Z"
   },
   {
    "duration": 127,
    "start_time": "2022-04-15T18:39:25.357Z"
   },
   {
    "duration": 85,
    "start_time": "2022-04-15T18:39:25.486Z"
   },
   {
    "duration": 11,
    "start_time": "2022-04-15T18:39:25.573Z"
   },
   {
    "duration": 199,
    "start_time": "2022-04-15T18:39:25.585Z"
   },
   {
    "duration": 1066,
    "start_time": "2022-04-15T18:39:25.786Z"
   },
   {
    "duration": 1544,
    "start_time": "2022-04-15T18:39:26.854Z"
   },
   {
    "duration": 13,
    "start_time": "2022-04-15T18:39:28.400Z"
   },
   {
    "duration": 10,
    "start_time": "2022-04-15T18:39:28.415Z"
   },
   {
    "duration": 6,
    "start_time": "2022-04-15T18:39:28.429Z"
   },
   {
    "duration": 16,
    "start_time": "2022-04-15T18:39:28.437Z"
   },
   {
    "duration": 11,
    "start_time": "2022-04-15T18:39:28.456Z"
   },
   {
    "duration": 11,
    "start_time": "2022-04-15T18:39:28.469Z"
   },
   {
    "duration": 55,
    "start_time": "2022-04-15T18:39:28.482Z"
   },
   {
    "duration": 65,
    "start_time": "2022-04-15T18:39:28.539Z"
   },
   {
    "duration": 35,
    "start_time": "2022-04-15T18:39:28.605Z"
   },
   {
    "duration": 9,
    "start_time": "2022-04-15T18:39:28.642Z"
   },
   {
    "duration": 28,
    "start_time": "2022-04-15T18:39:28.653Z"
   },
   {
    "duration": 145,
    "start_time": "2022-04-15T18:39:28.682Z"
   },
   {
    "duration": 24,
    "start_time": "2022-04-15T18:39:28.833Z"
   },
   {
    "duration": 8,
    "start_time": "2022-04-15T18:39:28.859Z"
   },
   {
    "duration": 26,
    "start_time": "2022-04-15T18:39:28.869Z"
   },
   {
    "duration": 101,
    "start_time": "2022-04-15T18:39:28.897Z"
   },
   {
    "duration": 16,
    "start_time": "2022-04-15T18:40:04.476Z"
   },
   {
    "duration": 28,
    "start_time": "2022-04-15T18:40:57.438Z"
   },
   {
    "duration": 9,
    "start_time": "2022-04-15T19:06:24.914Z"
   },
   {
    "duration": 3,
    "start_time": "2022-04-15T19:06:55.828Z"
   },
   {
    "duration": 115,
    "start_time": "2022-04-15T19:06:55.851Z"
   },
   {
    "duration": 93,
    "start_time": "2022-04-15T19:06:55.968Z"
   },
   {
    "duration": 14,
    "start_time": "2022-04-15T19:06:56.064Z"
   },
   {
    "duration": 173,
    "start_time": "2022-04-15T19:06:56.081Z"
   },
   {
    "duration": 284,
    "start_time": "2022-04-15T19:06:56.256Z"
   },
   {
    "duration": 236,
    "start_time": "2022-04-15T19:06:56.542Z"
   },
   {
    "duration": 14,
    "start_time": "2022-04-15T19:06:56.780Z"
   },
   {
    "duration": 10,
    "start_time": "2022-04-15T19:06:56.796Z"
   },
   {
    "duration": 29,
    "start_time": "2022-04-15T19:06:56.808Z"
   },
   {
    "duration": 16,
    "start_time": "2022-04-15T19:06:56.839Z"
   },
   {
    "duration": 10,
    "start_time": "2022-04-15T19:06:56.857Z"
   },
   {
    "duration": 10,
    "start_time": "2022-04-15T19:06:56.869Z"
   },
   {
    "duration": 23,
    "start_time": "2022-04-15T19:06:56.881Z"
   },
   {
    "duration": 55,
    "start_time": "2022-04-15T19:06:56.934Z"
   },
   {
    "duration": 37,
    "start_time": "2022-04-15T19:06:56.996Z"
   },
   {
    "duration": 8,
    "start_time": "2022-04-15T19:06:57.035Z"
   },
   {
    "duration": 30,
    "start_time": "2022-04-15T19:06:57.045Z"
   },
   {
    "duration": 136,
    "start_time": "2022-04-15T19:06:57.077Z"
   },
   {
    "duration": 28,
    "start_time": "2022-04-15T19:06:57.214Z"
   },
   {
    "duration": 8,
    "start_time": "2022-04-15T19:06:57.244Z"
   },
   {
    "duration": 26,
    "start_time": "2022-04-15T19:06:57.254Z"
   },
   {
    "duration": 59,
    "start_time": "2022-04-15T19:06:57.283Z"
   },
   {
    "duration": 53,
    "start_time": "2022-04-15T19:06:57.344Z"
   },
   {
    "duration": 40,
    "start_time": "2022-04-15T19:06:57.399Z"
   },
   {
    "duration": 12,
    "start_time": "2022-04-15T19:06:57.441Z"
   },
   {
    "duration": 42,
    "start_time": "2022-04-15T19:06:57.455Z"
   },
   {
    "duration": 66,
    "start_time": "2022-04-15T19:06:57.499Z"
   },
   {
    "duration": 11,
    "start_time": "2022-04-15T19:06:57.567Z"
   },
   {
    "duration": 317,
    "start_time": "2022-04-15T19:06:57.580Z"
   },
   {
    "duration": 13,
    "start_time": "2022-04-15T19:06:57.898Z"
   },
   {
    "duration": 85,
    "start_time": "2022-04-15T19:06:57.913Z"
   },
   {
    "duration": 4,
    "start_time": "2022-04-15T19:06:58.000Z"
   },
   {
    "duration": 28,
    "start_time": "2022-04-15T19:06:58.006Z"
   },
   {
    "duration": 20,
    "start_time": "2022-04-15T19:06:58.036Z"
   },
   {
    "duration": 15,
    "start_time": "2022-04-15T19:06:58.058Z"
   },
   {
    "duration": 47,
    "start_time": "2022-04-15T19:06:58.074Z"
   },
   {
    "duration": 46,
    "start_time": "2022-04-15T19:06:58.122Z"
   },
   {
    "duration": 9,
    "start_time": "2022-04-15T19:06:58.170Z"
   },
   {
    "duration": 10,
    "start_time": "2022-04-15T19:06:58.183Z"
   },
   {
    "duration": 190,
    "start_time": "2022-04-15T19:06:58.194Z"
   },
   {
    "duration": 58,
    "start_time": "2022-04-15T19:06:58.386Z"
   },
   {
    "duration": 41,
    "start_time": "2022-04-15T19:06:58.447Z"
   },
   {
    "duration": 3,
    "start_time": "2022-04-15T19:06:58.490Z"
   },
   {
    "duration": 210,
    "start_time": "2022-04-15T19:06:58.495Z"
   },
   {
    "duration": 42,
    "start_time": "2022-04-15T19:06:58.707Z"
   },
   {
    "duration": 5,
    "start_time": "2022-04-15T19:07:17.249Z"
   },
   {
    "duration": 14,
    "start_time": "2022-04-15T19:10:16.511Z"
   },
   {
    "duration": 3,
    "start_time": "2022-04-15T19:10:47.444Z"
   },
   {
    "duration": 118,
    "start_time": "2022-04-15T19:10:47.470Z"
   },
   {
    "duration": 79,
    "start_time": "2022-04-15T19:10:47.590Z"
   },
   {
    "duration": 9,
    "start_time": "2022-04-15T19:10:47.671Z"
   },
   {
    "duration": 176,
    "start_time": "2022-04-15T19:10:47.682Z"
   },
   {
    "duration": 227,
    "start_time": "2022-04-15T19:10:47.860Z"
   },
   {
    "duration": 209,
    "start_time": "2022-04-15T19:10:48.089Z"
   },
   {
    "duration": 11,
    "start_time": "2022-04-15T19:10:48.300Z"
   },
   {
    "duration": 24,
    "start_time": "2022-04-15T19:10:48.313Z"
   },
   {
    "duration": 12,
    "start_time": "2022-04-15T19:10:48.339Z"
   },
   {
    "duration": 14,
    "start_time": "2022-04-15T19:10:48.355Z"
   },
   {
    "duration": 10,
    "start_time": "2022-04-15T19:10:48.371Z"
   },
   {
    "duration": 8,
    "start_time": "2022-04-15T19:10:48.383Z"
   },
   {
    "duration": 42,
    "start_time": "2022-04-15T19:10:48.392Z"
   },
   {
    "duration": 59,
    "start_time": "2022-04-15T19:10:48.437Z"
   },
   {
    "duration": 39,
    "start_time": "2022-04-15T19:10:48.498Z"
   },
   {
    "duration": 6,
    "start_time": "2022-04-15T19:10:48.539Z"
   },
   {
    "duration": 35,
    "start_time": "2022-04-15T19:10:48.548Z"
   },
   {
    "duration": 136,
    "start_time": "2022-04-15T19:10:48.585Z"
   },
   {
    "duration": 31,
    "start_time": "2022-04-15T19:10:48.722Z"
   },
   {
    "duration": 12,
    "start_time": "2022-04-15T19:10:48.755Z"
   },
   {
    "duration": 24,
    "start_time": "2022-04-15T19:10:48.769Z"
   },
   {
    "duration": 50,
    "start_time": "2022-04-15T19:10:48.795Z"
   },
   {
    "duration": 55,
    "start_time": "2022-04-15T19:10:48.847Z"
   },
   {
    "duration": 34,
    "start_time": "2022-04-15T19:10:48.904Z"
   },
   {
    "duration": 6,
    "start_time": "2022-04-15T19:10:48.940Z"
   },
   {
    "duration": 39,
    "start_time": "2022-04-15T19:10:48.948Z"
   },
   {
    "duration": 80,
    "start_time": "2022-04-15T19:10:48.991Z"
   },
   {
    "duration": 12,
    "start_time": "2022-04-15T19:10:49.073Z"
   },
   {
    "duration": 297,
    "start_time": "2022-04-15T19:10:49.086Z"
   },
   {
    "duration": 14,
    "start_time": "2022-04-15T19:10:49.385Z"
   },
   {
    "duration": 92,
    "start_time": "2022-04-15T19:10:49.401Z"
   },
   {
    "duration": 4,
    "start_time": "2022-04-15T19:10:49.495Z"
   },
   {
    "duration": 9,
    "start_time": "2022-04-15T19:10:49.501Z"
   },
   {
    "duration": 28,
    "start_time": "2022-04-15T19:10:49.512Z"
   },
   {
    "duration": 9,
    "start_time": "2022-04-15T19:10:49.543Z"
   },
   {
    "duration": 51,
    "start_time": "2022-04-15T19:10:49.554Z"
   },
   {
    "duration": 57,
    "start_time": "2022-04-15T19:10:49.607Z"
   },
   {
    "duration": 10,
    "start_time": "2022-04-15T19:10:49.666Z"
   },
   {
    "duration": 9,
    "start_time": "2022-04-15T19:10:49.677Z"
   },
   {
    "duration": 259,
    "start_time": "2022-04-15T19:10:49.688Z"
   },
   {
    "duration": 47,
    "start_time": "2022-04-15T19:10:49.949Z"
   },
   {
    "duration": 53,
    "start_time": "2022-04-15T19:10:49.998Z"
   },
   {
    "duration": 5,
    "start_time": "2022-04-15T19:10:50.053Z"
   },
   {
    "duration": 188,
    "start_time": "2022-04-15T19:10:50.061Z"
   },
   {
    "duration": 35,
    "start_time": "2022-04-15T19:10:50.251Z"
   },
   {
    "duration": 5,
    "start_time": "2022-04-15T19:10:50.287Z"
   },
   {
    "duration": 10,
    "start_time": "2022-04-15T19:10:50.293Z"
   },
   {
    "duration": 34,
    "start_time": "2022-04-15T19:10:50.304Z"
   },
   {
    "duration": 11,
    "start_time": "2022-04-15T19:10:50.340Z"
   },
   {
    "duration": 24,
    "start_time": "2022-04-15T19:10:50.353Z"
   },
   {
    "duration": 14,
    "start_time": "2022-04-15T19:10:50.379Z"
   },
   {
    "duration": 46,
    "start_time": "2022-04-15T19:10:50.395Z"
   },
   {
    "duration": 17,
    "start_time": "2022-04-15T19:10:50.443Z"
   },
   {
    "duration": 5,
    "start_time": "2022-04-15T19:10:50.462Z"
   },
   {
    "duration": 5,
    "start_time": "2022-04-15T19:30:19.037Z"
   },
   {
    "duration": 1284,
    "start_time": "2022-04-15T19:52:30.354Z"
   },
   {
    "duration": 113,
    "start_time": "2022-04-15T19:52:31.640Z"
   },
   {
    "duration": 96,
    "start_time": "2022-04-15T19:52:31.755Z"
   },
   {
    "duration": 14,
    "start_time": "2022-04-15T19:52:31.854Z"
   },
   {
    "duration": 190,
    "start_time": "2022-04-15T19:52:31.870Z"
   },
   {
    "duration": 251,
    "start_time": "2022-04-15T19:52:32.062Z"
   },
   {
    "duration": 219,
    "start_time": "2022-04-15T19:52:32.315Z"
   },
   {
    "duration": 11,
    "start_time": "2022-04-15T19:52:32.536Z"
   },
   {
    "duration": 12,
    "start_time": "2022-04-15T19:52:32.549Z"
   },
   {
    "duration": 8,
    "start_time": "2022-04-15T19:52:32.564Z"
   },
   {
    "duration": 15,
    "start_time": "2022-04-15T19:52:32.573Z"
   },
   {
    "duration": 9,
    "start_time": "2022-04-15T19:52:32.590Z"
   },
   {
    "duration": 38,
    "start_time": "2022-04-15T19:52:32.600Z"
   },
   {
    "duration": 28,
    "start_time": "2022-04-15T19:52:32.640Z"
   },
   {
    "duration": 69,
    "start_time": "2022-04-15T19:52:32.671Z"
   },
   {
    "duration": 26,
    "start_time": "2022-04-15T19:52:32.743Z"
   },
   {
    "duration": 8,
    "start_time": "2022-04-15T19:52:32.771Z"
   },
   {
    "duration": 54,
    "start_time": "2022-04-15T19:52:32.780Z"
   },
   {
    "duration": 130,
    "start_time": "2022-04-15T19:52:32.837Z"
   },
   {
    "duration": 23,
    "start_time": "2022-04-15T19:52:32.969Z"
   },
   {
    "duration": 8,
    "start_time": "2022-04-15T19:52:32.994Z"
   },
   {
    "duration": 49,
    "start_time": "2022-04-15T19:52:33.003Z"
   },
   {
    "duration": 30,
    "start_time": "2022-04-15T19:52:33.054Z"
   },
   {
    "duration": 80,
    "start_time": "2022-04-15T19:52:33.086Z"
   },
   {
    "duration": 19,
    "start_time": "2022-04-15T19:52:33.168Z"
   },
   {
    "duration": 9,
    "start_time": "2022-04-15T19:52:33.189Z"
   },
   {
    "duration": 61,
    "start_time": "2022-04-15T19:52:33.200Z"
   },
   {
    "duration": 46,
    "start_time": "2022-04-15T19:52:33.266Z"
   },
   {
    "duration": 28,
    "start_time": "2022-04-15T19:52:33.314Z"
   },
   {
    "duration": 318,
    "start_time": "2022-04-15T19:52:33.344Z"
   },
   {
    "duration": 13,
    "start_time": "2022-04-15T19:52:33.664Z"
   },
   {
    "duration": 97,
    "start_time": "2022-04-15T19:52:33.679Z"
   },
   {
    "duration": 4,
    "start_time": "2022-04-15T19:52:33.778Z"
   },
   {
    "duration": 8,
    "start_time": "2022-04-15T19:52:33.784Z"
   },
   {
    "duration": 11,
    "start_time": "2022-04-15T19:52:33.794Z"
   },
   {
    "duration": 27,
    "start_time": "2022-04-15T19:52:33.807Z"
   },
   {
    "duration": 40,
    "start_time": "2022-04-15T19:52:33.836Z"
   },
   {
    "duration": 34,
    "start_time": "2022-04-15T19:52:33.878Z"
   },
   {
    "duration": 9,
    "start_time": "2022-04-15T19:52:33.934Z"
   },
   {
    "duration": 15,
    "start_time": "2022-04-15T19:52:33.945Z"
   },
   {
    "duration": 187,
    "start_time": "2022-04-15T19:52:33.962Z"
   },
   {
    "duration": 47,
    "start_time": "2022-04-15T19:52:34.151Z"
   },
   {
    "duration": 53,
    "start_time": "2022-04-15T19:52:34.200Z"
   },
   {
    "duration": 4,
    "start_time": "2022-04-15T19:52:34.255Z"
   },
   {
    "duration": 195,
    "start_time": "2022-04-15T19:52:34.261Z"
   },
   {
    "duration": 42,
    "start_time": "2022-04-15T19:52:34.458Z"
   },
   {
    "duration": 5,
    "start_time": "2022-04-15T19:52:34.503Z"
   },
   {
    "duration": 9,
    "start_time": "2022-04-15T19:52:34.532Z"
   },
   {
    "duration": 9,
    "start_time": "2022-04-15T19:52:34.543Z"
   },
   {
    "duration": 10,
    "start_time": "2022-04-15T19:52:34.554Z"
   },
   {
    "duration": 22,
    "start_time": "2022-04-15T19:52:34.566Z"
   },
   {
    "duration": 51,
    "start_time": "2022-04-15T19:52:34.590Z"
   },
   {
    "duration": 28,
    "start_time": "2022-04-15T19:52:34.643Z"
   },
   {
    "duration": 16,
    "start_time": "2022-04-15T19:52:34.673Z"
   },
   {
    "duration": 4,
    "start_time": "2022-04-15T19:52:34.691Z"
   },
   {
    "duration": 37,
    "start_time": "2022-04-15T19:52:34.697Z"
   },
   {
    "duration": 7,
    "start_time": "2022-04-15T19:52:34.736Z"
   },
   {
    "duration": 53,
    "start_time": "2022-04-15T19:52:34.745Z"
   },
   {
    "duration": 3,
    "start_time": "2022-04-15T19:52:34.800Z"
   },
   {
    "duration": 61,
    "start_time": "2022-04-15T19:52:34.805Z"
   },
   {
    "duration": 3,
    "start_time": "2022-04-15T19:52:34.868Z"
   },
   {
    "duration": 65,
    "start_time": "2022-04-15T19:52:34.873Z"
   },
   {
    "duration": 7,
    "start_time": "2022-04-15T19:52:34.940Z"
   },
   {
    "duration": 23,
    "start_time": "2022-04-15T19:52:34.949Z"
   },
   {
    "duration": 199,
    "start_time": "2022-04-15T19:52:34.974Z"
   },
   {
    "duration": 4,
    "start_time": "2022-04-15T19:52:35.175Z"
   },
   {
    "duration": 15,
    "start_time": "2022-04-15T19:52:35.180Z"
   },
   {
    "duration": 14,
    "start_time": "2022-04-15T19:52:35.197Z"
   },
   {
    "duration": 25,
    "start_time": "2022-04-15T19:52:35.213Z"
   },
   {
    "duration": 10,
    "start_time": "2022-04-15T19:52:35.239Z"
   },
   {
    "duration": 91,
    "start_time": "2022-04-15T19:52:35.251Z"
   },
   {
    "duration": 184,
    "start_time": "2022-04-15T19:52:35.344Z"
   },
   {
    "duration": 9,
    "start_time": "2022-04-15T19:52:35.533Z"
   },
   {
    "duration": 7,
    "start_time": "2022-04-15T19:52:35.544Z"
   },
   {
    "duration": 172,
    "start_time": "2022-04-15T19:52:35.553Z"
   },
   {
    "duration": 14,
    "start_time": "2022-04-15T19:52:35.727Z"
   },
   {
    "duration": 8,
    "start_time": "2022-04-15T19:52:35.744Z"
   },
   {
    "duration": 207,
    "start_time": "2022-04-15T19:52:35.754Z"
   },
   {
    "duration": 9,
    "start_time": "2022-04-15T19:52:35.963Z"
   },
   {
    "duration": 15,
    "start_time": "2022-04-15T19:52:35.974Z"
   },
   {
    "duration": 227,
    "start_time": "2022-04-15T19:52:35.990Z"
   },
   {
    "duration": 15,
    "start_time": "2022-04-15T19:52:36.223Z"
   },
   {
    "duration": 12,
    "start_time": "2022-04-15T19:52:36.240Z"
   },
   {
    "duration": 14,
    "start_time": "2022-04-15T19:52:36.254Z"
   },
   {
    "duration": 9,
    "start_time": "2022-04-15T19:52:36.270Z"
   },
   {
    "duration": 233,
    "start_time": "2022-04-15T19:52:36.280Z"
   },
   {
    "duration": 8,
    "start_time": "2022-04-15T19:52:36.515Z"
   },
   {
    "duration": 8,
    "start_time": "2022-04-15T19:52:36.533Z"
   },
   {
    "duration": 226,
    "start_time": "2022-04-15T19:52:36.543Z"
   },
   {
    "duration": 8,
    "start_time": "2022-04-15T19:52:36.771Z"
   },
   {
    "duration": 11,
    "start_time": "2022-04-15T19:52:36.781Z"
   },
   {
    "duration": 223,
    "start_time": "2022-04-15T19:52:36.794Z"
   },
   {
    "duration": 17,
    "start_time": "2022-04-15T19:52:37.018Z"
   },
   {
    "duration": 9,
    "start_time": "2022-04-15T19:52:37.037Z"
   },
   {
    "duration": 216,
    "start_time": "2022-04-15T19:52:37.048Z"
   },
   {
    "duration": 9,
    "start_time": "2022-04-15T19:52:37.266Z"
   },
   {
    "duration": 5,
    "start_time": "2022-04-15T19:52:37.277Z"
   },
   {
    "duration": 8,
    "start_time": "2022-04-15T19:52:37.284Z"
   },
   {
    "duration": 394,
    "start_time": "2022-04-15T19:52:37.293Z"
   },
   {
    "duration": 310,
    "start_time": "2022-04-15T19:52:37.689Z"
   },
   {
    "duration": 5,
    "start_time": "2022-04-15T19:52:38.001Z"
   },
   {
    "duration": 32,
    "start_time": "2022-04-15T19:52:38.008Z"
   },
   {
    "duration": 5,
    "start_time": "2022-04-15T19:52:38.042Z"
   },
   {
    "duration": 8,
    "start_time": "2022-04-15T19:52:38.049Z"
   },
   {
    "duration": 9,
    "start_time": "2022-04-15T19:52:38.059Z"
   },
   {
    "duration": 6,
    "start_time": "2022-04-15T19:52:38.070Z"
   },
   {
    "duration": 111,
    "start_time": "2022-04-15T20:14:47.782Z"
   },
   {
    "duration": 3,
    "start_time": "2022-04-15T20:15:11.165Z"
   },
   {
    "duration": 124,
    "start_time": "2022-04-15T20:15:11.194Z"
   },
   {
    "duration": 91,
    "start_time": "2022-04-15T20:15:11.320Z"
   },
   {
    "duration": 10,
    "start_time": "2022-04-15T20:15:11.413Z"
   },
   {
    "duration": 184,
    "start_time": "2022-04-15T20:15:11.425Z"
   },
   {
    "duration": 217,
    "start_time": "2022-04-15T20:15:11.611Z"
   },
   {
    "duration": 206,
    "start_time": "2022-04-15T20:15:11.830Z"
   },
   {
    "duration": 11,
    "start_time": "2022-04-15T20:15:12.038Z"
   },
   {
    "duration": 14,
    "start_time": "2022-04-15T20:15:12.050Z"
   },
   {
    "duration": 7,
    "start_time": "2022-04-15T20:15:12.065Z"
   },
   {
    "duration": 13,
    "start_time": "2022-04-15T20:15:12.075Z"
   },
   {
    "duration": 9,
    "start_time": "2022-04-15T20:15:12.090Z"
   },
   {
    "duration": 7,
    "start_time": "2022-04-15T20:15:12.101Z"
   },
   {
    "duration": 52,
    "start_time": "2022-04-15T20:15:12.110Z"
   },
   {
    "duration": 52,
    "start_time": "2022-04-15T20:15:12.165Z"
   },
   {
    "duration": 16,
    "start_time": "2022-04-15T20:15:12.234Z"
   },
   {
    "duration": 9,
    "start_time": "2022-04-15T20:15:12.252Z"
   },
   {
    "duration": 29,
    "start_time": "2022-04-15T20:15:12.263Z"
   },
   {
    "duration": 131,
    "start_time": "2022-04-15T20:15:12.294Z"
   },
   {
    "duration": 28,
    "start_time": "2022-04-15T20:15:12.427Z"
   },
   {
    "duration": 8,
    "start_time": "2022-04-15T20:15:12.457Z"
   },
   {
    "duration": 28,
    "start_time": "2022-04-15T20:15:12.467Z"
   },
   {
    "duration": 61,
    "start_time": "2022-04-15T20:15:12.496Z"
   },
   {
    "duration": 1385,
    "start_time": "2022-04-16T03:26:48.717Z"
   },
   {
    "duration": 129,
    "start_time": "2022-04-16T03:26:50.104Z"
   },
   {
    "duration": 111,
    "start_time": "2022-04-16T03:26:50.235Z"
   },
   {
    "duration": 10,
    "start_time": "2022-04-16T03:26:50.348Z"
   },
   {
    "duration": 293,
    "start_time": "2022-04-16T03:26:50.359Z"
   },
   {
    "duration": 409,
    "start_time": "2022-04-16T03:26:50.654Z"
   },
   {
    "duration": 387,
    "start_time": "2022-04-16T03:26:51.065Z"
   },
   {
    "duration": 12,
    "start_time": "2022-04-16T03:26:51.453Z"
   },
   {
    "duration": 10,
    "start_time": "2022-04-16T03:26:51.466Z"
   },
   {
    "duration": 59,
    "start_time": "2022-04-16T03:26:51.479Z"
   },
   {
    "duration": 12,
    "start_time": "2022-04-16T03:26:51.539Z"
   },
   {
    "duration": 9,
    "start_time": "2022-04-16T03:26:51.552Z"
   },
   {
    "duration": 7,
    "start_time": "2022-04-16T03:26:51.562Z"
   },
   {
    "duration": 21,
    "start_time": "2022-04-16T03:26:51.571Z"
   },
   {
    "duration": 86,
    "start_time": "2022-04-16T03:26:51.594Z"
   },
   {
    "duration": 16,
    "start_time": "2022-04-16T03:26:51.681Z"
   },
   {
    "duration": 6,
    "start_time": "2022-04-16T03:26:51.698Z"
   },
   {
    "duration": 47,
    "start_time": "2022-04-16T03:26:51.706Z"
   },
   {
    "duration": 125,
    "start_time": "2022-04-16T03:26:51.754Z"
   },
   {
    "duration": 22,
    "start_time": "2022-04-16T03:26:51.880Z"
   },
   {
    "duration": 11,
    "start_time": "2022-04-16T03:26:51.904Z"
   },
   {
    "duration": 32,
    "start_time": "2022-04-16T03:26:51.917Z"
   },
   {
    "duration": 26,
    "start_time": "2022-04-16T03:26:51.951Z"
   },
   {
    "duration": 80,
    "start_time": "2022-04-16T03:26:51.979Z"
   },
   {
    "duration": 19,
    "start_time": "2022-04-16T03:26:52.061Z"
   },
   {
    "duration": 8,
    "start_time": "2022-04-16T03:26:52.082Z"
   },
   {
    "duration": 61,
    "start_time": "2022-04-16T03:26:52.092Z"
   },
   {
    "duration": 46,
    "start_time": "2022-04-16T03:26:52.158Z"
   },
   {
    "duration": 28,
    "start_time": "2022-04-16T03:26:52.206Z"
   },
   {
    "duration": 304,
    "start_time": "2022-04-16T03:26:52.236Z"
   },
   {
    "duration": 14,
    "start_time": "2022-04-16T03:26:52.542Z"
   },
   {
    "duration": 88,
    "start_time": "2022-04-16T03:26:52.558Z"
   },
   {
    "duration": 5,
    "start_time": "2022-04-16T03:26:52.648Z"
   },
   {
    "duration": 18,
    "start_time": "2022-04-16T03:26:52.655Z"
   },
   {
    "duration": 13,
    "start_time": "2022-04-16T03:26:52.675Z"
   },
   {
    "duration": 15,
    "start_time": "2022-04-16T03:26:52.689Z"
   },
   {
    "duration": 51,
    "start_time": "2022-04-16T03:26:52.705Z"
   },
   {
    "duration": 33,
    "start_time": "2022-04-16T03:26:52.757Z"
   },
   {
    "duration": 7,
    "start_time": "2022-04-16T03:26:52.792Z"
   },
   {
    "duration": 16,
    "start_time": "2022-04-16T03:26:52.801Z"
   },
   {
    "duration": 166,
    "start_time": "2022-04-16T03:26:52.833Z"
   },
   {
    "duration": 56,
    "start_time": "2022-04-16T03:26:53.000Z"
   },
   {
    "duration": 32,
    "start_time": "2022-04-16T03:26:53.057Z"
   },
   {
    "duration": 4,
    "start_time": "2022-04-16T03:26:53.090Z"
   },
   {
    "duration": 186,
    "start_time": "2022-04-16T03:26:53.097Z"
   },
   {
    "duration": 47,
    "start_time": "2022-04-16T03:26:53.286Z"
   },
   {
    "duration": 6,
    "start_time": "2022-04-16T03:26:53.335Z"
   },
   {
    "duration": 19,
    "start_time": "2022-04-16T03:26:53.343Z"
   },
   {
    "duration": 10,
    "start_time": "2022-04-16T03:26:53.364Z"
   },
   {
    "duration": 9,
    "start_time": "2022-04-16T03:26:53.376Z"
   },
   {
    "duration": 23,
    "start_time": "2022-04-16T03:26:53.388Z"
   },
   {
    "duration": 15,
    "start_time": "2022-04-16T03:26:53.434Z"
   },
   {
    "duration": 27,
    "start_time": "2022-04-16T03:26:53.451Z"
   },
   {
    "duration": 15,
    "start_time": "2022-04-16T03:26:53.480Z"
   },
   {
    "duration": 3,
    "start_time": "2022-04-16T03:26:53.497Z"
   },
   {
    "duration": 33,
    "start_time": "2022-04-16T03:26:53.502Z"
   },
   {
    "duration": 6,
    "start_time": "2022-04-16T03:26:53.537Z"
   },
   {
    "duration": 44,
    "start_time": "2022-04-16T03:26:53.545Z"
   },
   {
    "duration": 3,
    "start_time": "2022-04-16T03:26:53.590Z"
   },
   {
    "duration": 58,
    "start_time": "2022-04-16T03:26:53.595Z"
   },
   {
    "duration": 3,
    "start_time": "2022-04-16T03:26:53.655Z"
   },
   {
    "duration": 43,
    "start_time": "2022-04-16T03:26:53.660Z"
   },
   {
    "duration": 5,
    "start_time": "2022-04-16T03:26:53.705Z"
   },
   {
    "duration": 29,
    "start_time": "2022-04-16T03:26:53.712Z"
   },
   {
    "duration": 175,
    "start_time": "2022-04-16T03:26:53.743Z"
   },
   {
    "duration": 3,
    "start_time": "2022-04-16T03:26:53.920Z"
   },
   {
    "duration": 11,
    "start_time": "2022-04-16T03:26:53.933Z"
   },
   {
    "duration": 14,
    "start_time": "2022-04-16T03:26:53.946Z"
   },
   {
    "duration": 9,
    "start_time": "2022-04-16T03:26:53.962Z"
   },
   {
    "duration": 11,
    "start_time": "2022-04-16T03:26:53.973Z"
   },
   {
    "duration": 99,
    "start_time": "2022-04-16T03:26:53.986Z"
   },
   {
    "duration": 170,
    "start_time": "2022-04-16T03:26:54.086Z"
   },
   {
    "duration": 10,
    "start_time": "2022-04-16T03:26:54.258Z"
   },
   {
    "duration": 30,
    "start_time": "2022-04-16T03:26:54.270Z"
   },
   {
    "duration": 139,
    "start_time": "2022-04-16T03:26:54.302Z"
   },
   {
    "duration": 9,
    "start_time": "2022-04-16T03:26:54.444Z"
   },
   {
    "duration": 21,
    "start_time": "2022-04-16T03:26:54.455Z"
   },
   {
    "duration": 394,
    "start_time": "2022-04-16T03:26:54.478Z"
   },
   {
    "duration": 61,
    "start_time": "2022-04-16T03:26:54.874Z"
   },
   {
    "duration": 7,
    "start_time": "2022-04-16T03:26:54.937Z"
   },
   {
    "duration": 390,
    "start_time": "2022-04-16T03:26:54.946Z"
   },
   {
    "duration": 8,
    "start_time": "2022-04-16T03:26:55.342Z"
   },
   {
    "duration": 7,
    "start_time": "2022-04-16T03:26:55.351Z"
   },
   {
    "duration": 13,
    "start_time": "2022-04-16T03:26:55.360Z"
   },
   {
    "duration": 7,
    "start_time": "2022-04-16T03:26:55.374Z"
   },
   {
    "duration": 462,
    "start_time": "2022-04-16T03:26:55.382Z"
   },
   {
    "duration": 8,
    "start_time": "2022-04-16T03:26:55.846Z"
   },
   {
    "duration": 9,
    "start_time": "2022-04-16T03:26:55.856Z"
   },
   {
    "duration": 341,
    "start_time": "2022-04-16T03:26:55.866Z"
   },
   {
    "duration": 7,
    "start_time": "2022-04-16T03:26:56.209Z"
   },
   {
    "duration": 22,
    "start_time": "2022-04-16T03:26:56.218Z"
   },
   {
    "duration": 180,
    "start_time": "2022-04-16T03:26:56.242Z"
   },
   {
    "duration": 17,
    "start_time": "2022-04-16T03:26:56.423Z"
   },
   {
    "duration": 12,
    "start_time": "2022-04-16T03:26:56.441Z"
   },
   {
    "duration": 181,
    "start_time": "2022-04-16T03:26:56.455Z"
   },
   {
    "duration": 8,
    "start_time": "2022-04-16T03:26:56.638Z"
   },
   {
    "duration": 6,
    "start_time": "2022-04-16T03:26:56.648Z"
   },
   {
    "duration": 6,
    "start_time": "2022-04-16T03:26:56.656Z"
   },
   {
    "duration": 351,
    "start_time": "2022-04-16T03:26:56.664Z"
   },
   {
    "duration": 268,
    "start_time": "2022-04-16T03:26:57.017Z"
   },
   {
    "duration": 5,
    "start_time": "2022-04-16T03:26:57.287Z"
   },
   {
    "duration": 11,
    "start_time": "2022-04-16T03:26:57.294Z"
   },
   {
    "duration": 26,
    "start_time": "2022-04-16T03:26:57.307Z"
   },
   {
    "duration": 5,
    "start_time": "2022-04-16T03:26:57.335Z"
   },
   {
    "duration": 5,
    "start_time": "2022-04-16T03:26:57.342Z"
   },
   {
    "duration": 6,
    "start_time": "2022-04-16T03:26:57.349Z"
   },
   {
    "duration": 15,
    "start_time": "2022-04-16T03:31:25.648Z"
   }
  ],
  "kernelspec": {
   "display_name": "Python 3 (ipykernel)",
   "language": "python",
   "name": "python3"
  },
  "language_info": {
   "codemirror_mode": {
    "name": "ipython",
    "version": 3
   },
   "file_extension": ".py",
   "mimetype": "text/x-python",
   "name": "python",
   "nbconvert_exporter": "python",
   "pygments_lexer": "ipython3",
   "version": "3.7.8"
  },
  "toc": {
   "base_numbering": 1,
   "nav_menu": {
    "height": "207.997px",
    "width": "415.994px"
   },
   "number_sections": true,
   "sideBar": true,
   "skip_h1_title": true,
   "title_cell": "Содержание:",
   "title_sidebar": "Contents",
   "toc_cell": true,
   "toc_position": {
    "height": "calc(100% - 180px)",
    "left": "10px",
    "top": "150px",
    "width": "400.289px"
   },
   "toc_section_display": true,
   "toc_window_display": true
  }
 },
 "nbformat": 4,
 "nbformat_minor": 2
}
